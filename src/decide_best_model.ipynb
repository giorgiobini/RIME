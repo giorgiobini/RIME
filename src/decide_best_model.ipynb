{
 "cells": [
  {
   "cell_type": "code",
   "execution_count": 1,
   "id": "a6ebb322",
   "metadata": {},
   "outputs": [],
   "source": [
    "its_jupyter_notebook = True"
   ]
  },
  {
   "cell_type": "code",
   "execution_count": 2,
   "id": "aa8ae948",
   "metadata": {},
   "outputs": [
    {
     "name": "stderr",
     "output_type": "stream",
     "text": [
      "/data01/giorgio/ENTER/envs/rnarna/lib/python3.10/site-packages/torchvision/io/image.py:13: UserWarning: Failed to load image Python extension: /data01/giorgio/ENTER/envs/rnarna/lib/python3.10/site-packages/torchvision/image.so: undefined symbol: _ZN2at4_ops10select_int4callERKNS_6TensorEll\n",
      "  warn(f\"Failed to load image Python extension: {e}\")\n"
     ]
    }
   ],
   "source": [
    "import pandas as pd\n",
    "import os\n",
    "import time\n",
    "import numpy as np\n",
    "import seaborn as sns\n",
    "import pickle\n",
    "import torch\n",
    "from pathlib import Path\n",
    "import argparse\n",
    "import math\n",
    "import re\n",
    "import matplotlib.pyplot as plt\n",
    "import sys\n",
    "from sklearn.metrics import classification_report, roc_curve, roc_auc_score, auc, confusion_matrix\n",
    "from tqdm.notebook import tqdm\n",
    "\n",
    "sys.path.insert(0, '..')\n",
    "\n",
    "from util.xai import gradcam, interpolate_expl_matrix, plot_matrix\n",
    "from models.nt_classifier import build as build_model\n",
    "from config import *\n",
    "from util.plot_utils import obtain_plot, plot_logs, plot_roc_curves, collect_results_based_on_confidence_level, various_metrics\n",
    "if its_jupyter_notebook:\n",
    "    sys.argv = [''] #Remove this if it's not a jupyter notebook!"
   ]
  },
  {
   "cell_type": "code",
   "execution_count": 3,
   "id": "26ae1011-fef8-4e69-9f6d-0274d8c4e584",
   "metadata": {},
   "outputs": [],
   "source": [
    "intarna = pd.read_csv(os.path.join(intarna_dir, 'val500', 'val.csv'), sep = ';')\n",
    "intarna['key'] = intarna.id1 + '_' + intarna.id2\n",
    "\n",
    "# keep only the lower E_norm for each group\n",
    "intarna.sort_values('E_norm', ascending = False, inplace=True)\n",
    "intarna.drop_duplicates(subset='key', keep='first', inplace=True)\n",
    "intarna = intarna.reset_index(drop = True)\n",
    "intarna['couples'] = intarna.id1.str.extractall('(.*)_(.*)').reset_index(drop = True)[0]\n",
    "intarna['couples'] = intarna['couples'].astype(int)"
   ]
  },
  {
   "cell_type": "code",
   "execution_count": 13,
   "id": "394ca978-792c-4fa5-92c0-08fef090619e",
   "metadata": {},
   "outputs": [],
   "source": [
    "checkpoint_dir = os.path.join(ROOT_DIR, 'checkpoints')\n",
    "\n",
    "models_to_compare = {}\n",
    "for file in os.listdir(checkpoint_dir):\n",
    "    if file.startswith('binary_cl2'):\n",
    "        if file.endswith('binary_cl2'):\n",
    "            nickname = 'current'\n",
    "        else:\n",
    "            nickname = re.search('(binary_cl2)_(.*)', file).group(2)\n",
    "        nickname = 'model_' + nickname\n",
    "        try:\n",
    "            res = pd.read_csv(os.path.join(checkpoint_dir, file, 'val_results500.csv'))\n",
    "            res = res.merge(intarna[['E','E_norm', 'couples']].rename({'couples':'id_sample'}, axis =1), on = 'id_sample')\n",
    "            models_to_compare[nickname] = {'original_name': file, 'df': res}\n",
    "        except:\n",
    "            pass"
   ]
  },
  {
   "cell_type": "code",
   "execution_count": 5,
   "id": "a55234ff",
   "metadata": {},
   "outputs": [],
   "source": [
    "file_train = os.path.join(rna_rna_files_dir, \"gene_pairs_training_nt.txt\")\n",
    "with open(file_train, \"rb\") as fp:   # Unpickling\n",
    "    gene_pairs_train = pickle.load(fp)\n",
    "    \n",
    "file_test = os.path.join(rna_rna_files_dir, \"gene_pairs_val_nt.txt\")\n",
    "with open(file_test, \"rb\") as fp:   # Unpickling\n",
    "    gene_pairs_test = pickle.load(fp)\n",
    "    \n",
    "file_test_subset = os.path.join(rna_rna_files_dir, \"gene_pairs_val_sampled_nt.txt\")\n",
    "with open(file_test_subset, \"rb\") as fp:   # Unpickling\n",
    "    gene_pairs_test_subset = pickle.load(fp)"
   ]
  },
  {
   "cell_type": "code",
   "execution_count": 6,
   "id": "48e0430f-fdab-4e89-b7fc-60b8cca967c6",
   "metadata": {},
   "outputs": [],
   "source": [
    "df_nt = pd.read_csv(os.path.join(metadata_dir, f'df_nt.csv'))\n",
    "regex = df_nt[df_nt.couples.isin(gene_pairs_train)].couples_id.str.extractall('(.*)_(.*)').reset_index()\n",
    "df_train = regex\n",
    "df_train['g1'] = regex[0]\n",
    "df_train['g2'] = regex[1]\n",
    "df_train_genes = set(df_train['g1']).union(set(df_train['g2']))"
   ]
  },
  {
   "cell_type": "code",
   "execution_count": 7,
   "id": "376ff47b",
   "metadata": {},
   "outputs": [],
   "source": [
    "test500 = pd.read_csv(os.path.join(metadata_dir, 'val500.csv'))"
   ]
  },
  {
   "cell_type": "code",
   "execution_count": 8,
   "id": "2c780b5f",
   "metadata": {},
   "outputs": [],
   "source": [
    "assert test500.couples.isin(gene_pairs_test).all()"
   ]
  },
  {
   "cell_type": "markdown",
   "id": "1aae836c",
   "metadata": {
    "tags": []
   },
   "source": [
    "# PLOTS"
   ]
  },
  {
   "cell_type": "markdown",
   "id": "7e935f7e",
   "metadata": {
    "tags": []
   },
   "source": [
    "## Metrics"
   ]
  },
  {
   "cell_type": "code",
   "execution_count": 9,
   "id": "46b5a080-ca1a-4bd5-8346-c7aee962c399",
   "metadata": {},
   "outputs": [],
   "source": [
    "N_iters = 25"
   ]
  },
  {
   "cell_type": "code",
   "execution_count": 10,
   "id": "eb39257b-f78d-4992-902b-37752a1934a2",
   "metadata": {},
   "outputs": [],
   "source": [
    "def balance_df(df):\n",
    "    negs = df[df.ground_truth == 0]\n",
    "    poss = df[df.ground_truth == 1]\n",
    "    \n",
    "    n_to_sample = min(poss.shape[0], negs.shape[0])\n",
    "\n",
    "    if poss.shape[0] > negs.shape[0]:\n",
    "        return pd.concat([poss.sample(n_to_sample), negs], axis = 0).reset_index(drop = True)\n",
    "    else:\n",
    "        return pd.concat([negs.sample(n_to_sample), poss], axis = 0).reset_index(drop = True)"
   ]
  },
  {
   "cell_type": "code",
   "execution_count": 11,
   "id": "8cf6581a-570f-4f9d-82ae-61cb3fa091b5",
   "metadata": {},
   "outputs": [],
   "source": [
    "results = {}\n",
    "set_collected = []"
   ]
  },
  {
   "cell_type": "code",
   "execution_count": 14,
   "id": "ae9ec326-f288-4ec0-a8b6-c7a44b842ba2",
   "metadata": {},
   "outputs": [
    {
     "data": {
      "application/vnd.jupyter.widget-view+json": {
       "model_id": "6d46be239cca423084a7af6af89e05fb",
       "version_major": 2,
       "version_minor": 0
      },
      "text/plain": [
       "  0%|          | 0/8 [00:00<?, ?it/s]"
      ]
     },
     "metadata": {},
     "output_type": "display_data"
    }
   ],
   "source": [
    "key_name = 'full_data'\n",
    "results[key_name] = {}\n",
    "set_collected.append(key_name)\n",
    "for model in tqdm(models_to_compare.keys()):\n",
    "    res = models_to_compare[model]['df']\n",
    "    tot = res.shape[0]\n",
    "    perc = np.round(res.shape[0]/tot * 100, 2)\n",
    "    res_list = []\n",
    "    for i in range(N_iters):\n",
    "        res_balanced = balance_df(res)\n",
    "        res_list.append(res_balanced)\n",
    "    res_balanced = pd.concat(res_list, axis = 0).reset_index(drop = True)\n",
    "    acc, prec, recall, f2, specificity, npv = various_metrics(res_balanced)\n",
    "    fpr, tpr, _ = roc_curve(res_balanced.ground_truth, res_balanced.probability)\n",
    "    roc = auc(fpr, tpr)\n",
    "    fpr, tpr, _ = roc_curve(abs(1 - res_balanced.ground_truth), res_balanced.E_norm)\n",
    "    roc_intarna =  auc(fpr, tpr)\n",
    "    dict_result = {'acc':acc, 'prec':prec, 'recall':recall, \n",
    "                   'f2':f2, 'specificity':specificity, 'npv':npv, \n",
    "                   'roc': roc, 'roc_intarna':roc_intarna, 'perc_data':perc}\n",
    "    results[key_name][model] = dict_result"
   ]
  },
  {
   "cell_type": "code",
   "execution_count": 15,
   "id": "cd9fc36e-29b3-4d1d-bf99-3c162283791a",
   "metadata": {},
   "outputs": [
    {
     "data": {
      "application/vnd.jupyter.widget-view+json": {
       "model_id": "ea9ce15c2379445fb590f86b2e1f1f82",
       "version_major": 2,
       "version_minor": 0
      },
      "text/plain": [
       "  0%|          | 0/8 [00:00<?, ?it/s]"
      ]
     },
     "metadata": {},
     "output_type": "display_data"
    }
   ],
   "source": [
    "key_name = 'easypos_easyneg_hardneg'\n",
    "results[key_name] = {}\n",
    "set_collected.append(key_name)\n",
    "for model in tqdm(models_to_compare.keys()):\n",
    "    res = models_to_compare[model]['df']\n",
    "    tot = res.shape[0]\n",
    "    res = res[res.policy.isin(['easypos', 'easyneg', 'hardneg'])]\n",
    "    perc = np.round(res.shape[0]/tot * 100, 2)\n",
    "    res_list = []\n",
    "    for i in range(N_iters):\n",
    "        res_balanced = balance_df(res)\n",
    "        res_list.append(res_balanced)\n",
    "    res_balanced = pd.concat(res_list, axis = 0).reset_index(drop = True)\n",
    "    acc, prec, recall, f2, specificity, npv = various_metrics(res_balanced)\n",
    "    fpr, tpr, _ = roc_curve(res_balanced.ground_truth, res_balanced.probability)\n",
    "    roc = auc(fpr, tpr)\n",
    "    fpr, tpr, _ = roc_curve(abs(1 - res_balanced.ground_truth), res_balanced.E_norm)\n",
    "    roc_intarna =  auc(fpr, tpr)\n",
    "    dict_result = {'acc':acc, 'prec':prec, 'recall':recall, \n",
    "                   'f2':f2, 'specificity':specificity, 'npv':npv, \n",
    "                   'roc': roc, 'roc_intarna':roc_intarna, 'perc_data':perc}\n",
    "    results[key_name][model] = dict_result"
   ]
  },
  {
   "cell_type": "code",
   "execution_count": 16,
   "id": "d86b08dd-4440-4a0d-a58b-092582741737",
   "metadata": {},
   "outputs": [
    {
     "data": {
      "application/vnd.jupyter.widget-view+json": {
       "model_id": "3d63cb4027cc4650a56ade6f1ade35f4",
       "version_major": 2,
       "version_minor": 0
      },
      "text/plain": [
       "  0%|          | 0/8 [00:00<?, ?it/s]"
      ]
     },
     "metadata": {},
     "output_type": "display_data"
    }
   ],
   "source": [
    "key_name = 'easypos_easyneg_hardneg_not_in_train'\n",
    "set_collected.append(key_name)\n",
    "results[key_name] = {}\n",
    "for model in tqdm(models_to_compare.keys()):\n",
    "    res = models_to_compare[model]['df']\n",
    "    tot = res.shape[0]\n",
    "    res = res[res.policy.isin(['easypos', 'easyneg', 'hardneg'])]\n",
    "    res = res[~(res.gene1_original.isin(df_train_genes) | res.gene2_original.isin(df_train_genes))]\n",
    "    perc = np.round(res.shape[0]/tot * 100, 2)\n",
    "    res_list = []\n",
    "    for i in range(N_iters):\n",
    "        res_balanced = balance_df(res)\n",
    "        res_list.append(res_balanced)\n",
    "    res_balanced = pd.concat(res_list, axis = 0).reset_index(drop = True)\n",
    "    acc, prec, recall, f2, specificity, npv = various_metrics(res_balanced)\n",
    "    fpr, tpr, _ = roc_curve(res_balanced.ground_truth, res_balanced.probability)\n",
    "    roc = auc(fpr, tpr)\n",
    "    fpr, tpr, _ = roc_curve(abs(1 - res_balanced.ground_truth), res_balanced.E_norm)\n",
    "    roc_intarna =  auc(fpr, tpr)\n",
    "    dict_result = {'acc':acc, 'prec':prec, 'recall':recall, \n",
    "                   'f2':f2, 'specificity':specificity, 'npv':npv, \n",
    "                   'roc': roc, 'roc_intarna':roc_intarna, 'perc_data':perc}\n",
    "    results[key_name][model] = dict_result"
   ]
  },
  {
   "cell_type": "code",
   "execution_count": 17,
   "id": "2c605f73-c5e1-400f-a788-dafc7ea16651",
   "metadata": {},
   "outputs": [
    {
     "data": {
      "application/vnd.jupyter.widget-view+json": {
       "model_id": "cce6dd742e2848fabf5931805f9c01b7",
       "version_major": 2,
       "version_minor": 0
      },
      "text/plain": [
       "  0%|          | 0/8 [00:00<?, ?it/s]"
      ]
     },
     "metadata": {},
     "output_type": "display_data"
    }
   ],
   "source": [
    "key_name = 'easypos_smartneg'\n",
    "set_collected.append(key_name)\n",
    "results[key_name] = {}\n",
    "for model in tqdm(models_to_compare.keys()):\n",
    "    res = models_to_compare[model]['df']\n",
    "    tot = res.shape[0]\n",
    "    res = res[res.policy.isin(['easypos', 'smartneg'])]\n",
    "    perc = np.round(res.shape[0]/tot * 100, 2)\n",
    "    res_list = []\n",
    "    for i in range(N_iters):\n",
    "        res_balanced = balance_df(res)\n",
    "        res_list.append(res_balanced)\n",
    "    res_balanced = pd.concat(res_list, axis = 0).reset_index(drop = True)\n",
    "    acc, prec, recall, f2, specificity, npv = various_metrics(res_balanced)\n",
    "    fpr, tpr, _ = roc_curve(res_balanced.ground_truth, res_balanced.probability)\n",
    "    roc = auc(fpr, tpr)\n",
    "    fpr, tpr, _ = roc_curve(abs(1 - res_balanced.ground_truth), res_balanced.E_norm)\n",
    "    roc_intarna =  auc(fpr, tpr)\n",
    "    dict_result = {'acc':acc, 'prec':prec, 'recall':recall, \n",
    "                   'f2':f2, 'specificity':specificity, 'npv':npv, \n",
    "                   'roc': roc, 'roc_intarna':roc_intarna, 'perc_data':perc}\n",
    "    results[key_name][model] = dict_result"
   ]
  },
  {
   "cell_type": "code",
   "execution_count": 18,
   "id": "60231c02-6ba1-4cc4-8368-eb33fb498426",
   "metadata": {},
   "outputs": [
    {
     "data": {
      "application/vnd.jupyter.widget-view+json": {
       "model_id": "462390cca660487d8d15e8c45ff77e6f",
       "version_major": 2,
       "version_minor": 0
      },
      "text/plain": [
       "  0%|          | 0/8 [00:00<?, ?it/s]"
      ]
     },
     "metadata": {},
     "output_type": "display_data"
    }
   ],
   "source": [
    "key_name = 'easypos_smartneg_not_in_train'\n",
    "set_collected.append(key_name)\n",
    "results[key_name] = {}\n",
    "for model in tqdm(models_to_compare.keys()):\n",
    "    res = models_to_compare[model]['df']\n",
    "    tot = res.shape[0]\n",
    "    res = res[res.policy.isin(['easypos', 'smartneg'])]\n",
    "    res = res[~(res.gene1_original.isin(df_train_genes) | res.gene2_original.isin(df_train_genes))]\n",
    "    perc = np.round(res.shape[0]/tot * 100, 2)\n",
    "    res_list = []\n",
    "    for i in range(N_iters):\n",
    "        res_balanced = balance_df(res)\n",
    "        res_list.append(res_balanced)\n",
    "    res_balanced = pd.concat(res_list, axis = 0).reset_index(drop = True)\n",
    "    acc, prec, recall, f2, specificity, npv = various_metrics(res_balanced)\n",
    "    fpr, tpr, _ = roc_curve(res_balanced.ground_truth, res_balanced.probability)\n",
    "    roc = auc(fpr, tpr)\n",
    "    fpr, tpr, _ = roc_curve(abs(1 - res_balanced.ground_truth), res_balanced.E_norm)\n",
    "    roc_intarna =  auc(fpr, tpr)\n",
    "    dict_result = {'acc':acc, 'prec':prec, 'recall':recall, \n",
    "                   'f2':f2, 'specificity':specificity, 'npv':npv, \n",
    "                   'roc': roc, 'roc_intarna':roc_intarna, 'perc_data':perc}\n",
    "    results[key_name][model] = dict_result"
   ]
  },
  {
   "cell_type": "code",
   "execution_count": 19,
   "id": "b68fe4e7-5de7-41ee-8492-bc2741db167f",
   "metadata": {},
   "outputs": [
    {
     "data": {
      "application/vnd.jupyter.widget-view+json": {
       "model_id": "25086a11fea048d6b5f4cda2048c2cb7",
       "version_major": 2,
       "version_minor": 0
      },
      "text/plain": [
       "  0%|          | 0/8 [00:00<?, ?it/s]"
      ]
     },
     "metadata": {},
     "output_type": "display_data"
    }
   ],
   "source": [
    "key_name = 'easypos_smartneg_not_in_train_55_conf'\n",
    "set_collected.append(key_name)\n",
    "results[key_name] = {}\n",
    "for model in tqdm(models_to_compare.keys()):\n",
    "    res = models_to_compare[model]['df']\n",
    "    tot = res.shape[0]\n",
    "    res = res[res.policy.isin(['easypos', 'smartneg'])]\n",
    "    res = res[~(res.gene1_original.isin(df_train_genes) | res.gene2_original.isin(df_train_genes))]\n",
    "    res = res[(res.probability>0.55)|(res.probability<(1-0.55))]\n",
    "    perc = np.round(res.shape[0]/tot * 100, 2)\n",
    "    res_list = []\n",
    "    for i in range(N_iters):\n",
    "        res_balanced = balance_df(res)\n",
    "        res_list.append(res_balanced)\n",
    "    res_balanced = pd.concat(res_list, axis = 0).reset_index(drop = True)\n",
    "    acc, prec, recall, f2, specificity, npv = various_metrics(res_balanced)\n",
    "    fpr, tpr, _ = roc_curve(res_balanced.ground_truth, res_balanced.probability)\n",
    "    roc = auc(fpr, tpr)\n",
    "    fpr, tpr, _ = roc_curve(abs(1 - res_balanced.ground_truth), res_balanced.E_norm)\n",
    "    roc_intarna =  auc(fpr, tpr)\n",
    "    dict_result = {'acc':acc, 'prec':prec, 'recall':recall, \n",
    "                   'f2':f2, 'specificity':specificity, 'npv':npv, \n",
    "                   'roc': roc, 'roc_intarna':roc_intarna, 'perc_data':perc}\n",
    "    results[key_name][model] = dict_result"
   ]
  },
  {
   "cell_type": "code",
   "execution_count": 20,
   "id": "ebe1bb1c-56d1-4a55-a85e-ec49fb093def",
   "metadata": {},
   "outputs": [
    {
     "data": {
      "application/vnd.jupyter.widget-view+json": {
       "model_id": "2a37094d1e774e53a48c7c3a62b9f9e7",
       "version_major": 2,
       "version_minor": 0
      },
      "text/plain": [
       "  0%|          | 0/8 [00:00<?, ?it/s]"
      ]
     },
     "metadata": {},
     "output_type": "display_data"
    }
   ],
   "source": [
    "key_name = 'easypos_smartneg_not_in_train_65_conf'\n",
    "set_collected.append(key_name)\n",
    "results[key_name] = {}\n",
    "for model in tqdm(models_to_compare.keys()):\n",
    "    res = models_to_compare[model]['df']\n",
    "    tot = res.shape[0]\n",
    "    res = res[res.policy.isin(['easypos', 'smartneg'])]\n",
    "    res = res[~(res.gene1_original.isin(df_train_genes) | res.gene2_original.isin(df_train_genes))]\n",
    "    res = res[(res.probability>0.65)|(res.probability<(1-0.65))]\n",
    "    perc = np.round(res.shape[0]/tot * 100, 2)\n",
    "    res_list = []\n",
    "    for i in range(N_iters):\n",
    "        res_balanced = balance_df(res)\n",
    "        res_list.append(res_balanced)\n",
    "    res_balanced = pd.concat(res_list, axis = 0).reset_index(drop = True)\n",
    "    acc, prec, recall, f2, specificity, npv = various_metrics(res_balanced)\n",
    "    fpr, tpr, _ = roc_curve(res_balanced.ground_truth, res_balanced.probability)\n",
    "    roc = auc(fpr, tpr)\n",
    "    fpr, tpr, _ = roc_curve(abs(1 - res_balanced.ground_truth), res_balanced.E_norm)\n",
    "    roc_intarna =  auc(fpr, tpr)\n",
    "    dict_result = {'acc':acc, 'prec':prec, 'recall':recall, \n",
    "                   'f2':f2, 'specificity':specificity, 'npv':npv, \n",
    "                   'roc': roc, 'roc_intarna':roc_intarna, 'perc_data':perc}\n",
    "    results[key_name][model] = dict_result"
   ]
  },
  {
   "cell_type": "code",
   "execution_count": 21,
   "id": "b5bb14f3-404b-4e26-81a7-901e45d2ba8a",
   "metadata": {},
   "outputs": [
    {
     "name": "stdout",
     "output_type": "stream",
     "text": [
      "---  full_data  --- \n",
      "model_1 acc: 0.575\n",
      "model_2 acc: 0.57\n",
      "model_4 acc: 0.553\n",
      "model_5 acc: 0.553\n",
      "model_old acc: 0.575\n",
      "model_6 acc: 0.555\n",
      "model_3 acc: 0.562\n",
      "model_current acc: 0.574\n",
      "\n",
      "\n",
      "---  full_data  --- \n",
      "model_1 acc: 0.575\n",
      "model_2 acc: 0.57\n",
      "model_4 acc: 0.553\n",
      "model_5 acc: 0.553\n",
      "model_old acc: 0.575\n",
      "model_6 acc: 0.555\n",
      "model_3 acc: 0.562\n",
      "model_current acc: 0.574\n",
      "\n",
      "\n",
      "---  easypos_easyneg_hardneg  --- \n",
      "model_1 acc: 0.672\n",
      "model_2 acc: 0.662\n",
      "model_4 acc: 0.632\n",
      "model_5 acc: 0.64\n",
      "model_old acc: 0.647\n",
      "model_6 acc: 0.637\n",
      "model_3 acc: 0.641\n",
      "model_current acc: 0.666\n",
      "\n",
      "\n",
      "---  easypos_easyneg_hardneg_not_in_train  --- \n",
      "model_1 acc: 0.647\n",
      "model_2 acc: 0.71\n",
      "model_4 acc: 0.57\n",
      "model_5 acc: 0.58\n",
      "model_old acc: 0.602\n",
      "model_6 acc: 0.612\n",
      "model_3 acc: 0.587\n",
      "model_current acc: 0.552\n",
      "\n",
      "\n",
      "---  easypos_smartneg  --- \n",
      "model_1 acc: 0.568\n",
      "model_2 acc: 0.563\n",
      "model_4 acc: 0.547\n",
      "model_5 acc: 0.546\n",
      "model_old acc: 0.57\n",
      "model_6 acc: 0.549\n",
      "model_3 acc: 0.556\n",
      "model_current acc: 0.567\n",
      "\n",
      "\n",
      "---  easypos_smartneg_not_in_train  --- \n",
      "model_1 acc: 0.531\n",
      "model_2 acc: 0.515\n",
      "model_4 acc: 0.507\n",
      "model_5 acc: 0.492\n",
      "model_old acc: 0.53\n",
      "model_6 acc: 0.508\n",
      "model_3 acc: 0.516\n",
      "model_current acc: 0.528\n",
      "\n",
      "\n",
      "---  easypos_smartneg_not_in_train_55_conf  --- \n",
      "model_1 acc: 0.534\n",
      "model_2 acc: 0.53\n",
      "model_4 acc: 0.527\n",
      "model_5 acc: 0.511\n",
      "model_old acc: 0.516\n",
      "model_6 acc: 0.509\n",
      "model_3 acc: 0.487\n",
      "model_current acc: 0.531\n",
      "\n",
      "\n",
      "---  easypos_smartneg_not_in_train_65_conf  --- \n",
      "model_1 acc: 0.531\n",
      "model_2 acc: 0.609\n",
      "model_4 acc: 0.576\n",
      "model_5 acc: 0.667\n",
      "model_old acc: 0.586\n",
      "model_6 acc: 0.587\n",
      "model_3 acc: 0.551\n",
      "model_current acc: 0.641\n",
      "\n",
      "\n"
     ]
    }
   ],
   "source": [
    "metric_to_print = 'acc'\n",
    "for current_set in set_collected:\n",
    "    print('--- ', current_set, ' --- ')\n",
    "    for model in models_to_compare.keys():\n",
    "        metric = np.round(results[current_set][model][metric_to_print], 3)\n",
    "        print(model + f' {metric_to_print}:', metric)\n",
    "    print('\\n')"
   ]
  },
  {
   "cell_type": "code",
   "execution_count": 22,
   "id": "75fe3677-303c-4d14-b2c4-f6a1155c5a0f",
   "metadata": {},
   "outputs": [
    {
     "name": "stdout",
     "output_type": "stream",
     "text": [
      "---  full_data  --- \n",
      "model_1 roc: 0.61\n",
      "model_2 roc: 0.603\n",
      "model_4 roc: 0.581\n",
      "model_5 roc: 0.578\n",
      "model_old roc: 0.613\n",
      "model_6 roc: 0.584\n",
      "model_3 roc: 0.593\n",
      "model_current roc: 0.611\n",
      "\n",
      "\n",
      "---  full_data  --- \n",
      "model_1 roc: 0.61\n",
      "model_2 roc: 0.603\n",
      "model_4 roc: 0.581\n",
      "model_5 roc: 0.578\n",
      "model_old roc: 0.613\n",
      "model_6 roc: 0.584\n",
      "model_3 roc: 0.593\n",
      "model_current roc: 0.611\n",
      "\n",
      "\n",
      "---  easypos_easyneg_hardneg  --- \n",
      "model_1 roc: 0.745\n",
      "model_2 roc: 0.754\n",
      "model_4 roc: 0.719\n",
      "model_5 roc: 0.727\n",
      "model_old roc: 0.705\n",
      "model_6 roc: 0.722\n",
      "model_3 roc: 0.701\n",
      "model_current roc: 0.735\n",
      "\n",
      "\n",
      "---  easypos_easyneg_hardneg_not_in_train  --- \n",
      "model_1 roc: 0.713\n",
      "model_2 roc: 0.781\n",
      "model_4 roc: 0.819\n",
      "model_5 roc: 0.841\n",
      "model_old roc: 0.673\n",
      "model_6 roc: 0.808\n",
      "model_3 roc: 0.699\n",
      "model_current roc: 0.613\n",
      "\n",
      "\n",
      "---  easypos_smartneg  --- \n",
      "model_1 roc: 0.6\n",
      "model_2 roc: 0.591\n",
      "model_4 roc: 0.571\n",
      "model_5 roc: 0.567\n",
      "model_old roc: 0.605\n",
      "model_6 roc: 0.574\n",
      "model_3 roc: 0.585\n",
      "model_current roc: 0.601\n",
      "\n",
      "\n",
      "---  easypos_smartneg_not_in_train  --- \n",
      "model_1 roc: 0.559\n",
      "model_2 roc: 0.546\n",
      "model_4 roc: 0.519\n",
      "model_5 roc: 0.508\n",
      "model_old roc: 0.557\n",
      "model_6 roc: 0.521\n",
      "model_3 roc: 0.512\n",
      "model_current roc: 0.558\n",
      "\n",
      "\n",
      "---  easypos_smartneg_not_in_train_55_conf  --- \n",
      "model_1 roc: 0.568\n",
      "model_2 roc: 0.567\n",
      "model_4 roc: 0.563\n",
      "model_5 roc: 0.542\n",
      "model_old roc: 0.578\n",
      "model_6 roc: 0.551\n",
      "model_3 roc: 0.569\n",
      "model_current roc: 0.579\n",
      "\n",
      "\n",
      "---  easypos_smartneg_not_in_train_65_conf  --- \n",
      "model_1 roc: 0.59\n",
      "model_2 roc: 0.681\n",
      "model_4 roc: 0.55\n",
      "model_5 roc: 0.764\n",
      "model_old roc: 0.634\n",
      "model_6 roc: 0.519\n",
      "model_3 roc: 0.577\n",
      "model_current roc: 0.691\n",
      "\n",
      "\n"
     ]
    }
   ],
   "source": [
    "metric_to_print = 'roc'\n",
    "for current_set in set_collected:\n",
    "    print('--- ', current_set, ' --- ')\n",
    "    for model in models_to_compare.keys():\n",
    "        metric = np.round(results[current_set][model][metric_to_print], 3)\n",
    "        print(model + f' {metric_to_print}:', metric)\n",
    "    print('\\n')"
   ]
  },
  {
   "cell_type": "code",
   "execution_count": 23,
   "id": "f74384d2-e60c-4aa3-a5af-6ff7b732ebf6",
   "metadata": {},
   "outputs": [
    {
     "name": "stdout",
     "output_type": "stream",
     "text": [
      "---  full_data  --- \n",
      "model_1 perc_data: 100.0\n",
      "model_2 perc_data: 100.0\n",
      "model_4 perc_data: 100.0\n",
      "model_5 perc_data: 100.0\n",
      "model_old perc_data: 100.0\n",
      "model_6 perc_data: 100.0\n",
      "model_3 perc_data: 100.0\n",
      "model_current perc_data: 100.0\n",
      "\n",
      "\n",
      "---  full_data  --- \n",
      "model_1 perc_data: 100.0\n",
      "model_2 perc_data: 100.0\n",
      "model_4 perc_data: 100.0\n",
      "model_5 perc_data: 100.0\n",
      "model_old perc_data: 100.0\n",
      "model_6 perc_data: 100.0\n",
      "model_3 perc_data: 100.0\n",
      "model_current perc_data: 100.0\n",
      "\n",
      "\n",
      "---  easypos_easyneg_hardneg  --- \n",
      "model_1 perc_data: 36.65\n",
      "model_2 perc_data: 36.65\n",
      "model_4 perc_data: 36.65\n",
      "model_5 perc_data: 36.65\n",
      "model_old perc_data: 36.65\n",
      "model_6 perc_data: 36.65\n",
      "model_3 perc_data: 36.65\n",
      "model_current perc_data: 36.65\n",
      "\n",
      "\n",
      "---  easypos_easyneg_hardneg_not_in_train  --- \n",
      "model_1 perc_data: 0.35\n",
      "model_2 perc_data: 0.35\n",
      "model_4 perc_data: 0.35\n",
      "model_5 perc_data: 0.35\n",
      "model_old perc_data: 0.35\n",
      "model_6 perc_data: 0.35\n",
      "model_3 perc_data: 0.35\n",
      "model_current perc_data: 0.35\n",
      "\n",
      "\n",
      "---  easypos_smartneg  --- \n",
      "model_1 perc_data: 95.34\n",
      "model_2 perc_data: 95.34\n",
      "model_4 perc_data: 95.34\n",
      "model_5 perc_data: 95.34\n",
      "model_old perc_data: 95.34\n",
      "model_6 perc_data: 95.34\n",
      "model_3 perc_data: 95.34\n",
      "model_current perc_data: 95.34\n",
      "\n",
      "\n",
      "---  easypos_smartneg_not_in_train  --- \n",
      "model_1 perc_data: 1.0\n",
      "model_2 perc_data: 1.0\n",
      "model_4 perc_data: 1.0\n",
      "model_5 perc_data: 1.0\n",
      "model_old perc_data: 1.0\n",
      "model_6 perc_data: 1.0\n",
      "model_3 perc_data: 1.0\n",
      "model_current perc_data: 1.0\n",
      "\n",
      "\n",
      "---  easypos_smartneg_not_in_train_55_conf  --- \n",
      "model_1 perc_data: 0.79\n",
      "model_2 perc_data: 0.59\n",
      "model_4 perc_data: 0.55\n",
      "model_5 perc_data: 0.49\n",
      "model_old perc_data: 0.6\n",
      "model_6 perc_data: 0.53\n",
      "model_3 perc_data: 0.46\n",
      "model_current perc_data: 0.69\n",
      "\n",
      "\n",
      "---  easypos_smartneg_not_in_train_65_conf  --- \n",
      "model_1 perc_data: 0.35\n",
      "model_2 perc_data: 0.15\n",
      "model_4 perc_data: 0.05\n",
      "model_5 perc_data: 0.02\n",
      "model_old perc_data: 0.2\n",
      "model_6 perc_data: 0.06\n",
      "model_3 perc_data: 0.11\n",
      "model_current perc_data: 0.27\n",
      "\n",
      "\n"
     ]
    }
   ],
   "source": [
    "metric_to_print = 'perc_data'\n",
    "for current_set in set_collected:\n",
    "    print('--- ', current_set, ' --- ')\n",
    "    for model in models_to_compare.keys():\n",
    "        metric = np.round(results[current_set][model][metric_to_print], 3)\n",
    "        print(model + f' {metric_to_print}:', metric)\n",
    "    print('\\n')"
   ]
  },
  {
   "cell_type": "code",
   "execution_count": null,
   "id": "303dc102-f98f-4b99-b63e-0f175ae6c41c",
   "metadata": {},
   "outputs": [],
   "source": []
  },
  {
   "cell_type": "code",
   "execution_count": null,
   "id": "30da8311-2066-4c9f-a05d-50c893959625",
   "metadata": {},
   "outputs": [],
   "source": []
  },
  {
   "cell_type": "code",
   "execution_count": 39,
   "id": "723dd0f5-4013-49c1-9cd4-3341c9a9f73c",
   "metadata": {},
   "outputs": [],
   "source": [
    "best_models = ['model_1', 'model_3', 'model_old']\n",
    "metric_to_print = ['acc', 'roc', 'roc_intarna', 'perc_data']\n",
    "set_to_print = ['easypos_easyneg_hardneg_not_in_train', 'easypos_smartneg', 'easypos_smartneg_not_in_train', 'easypos_smartneg_not_in_train_65_conf']"
   ]
  },
  {
   "cell_type": "code",
   "execution_count": 30,
   "id": "11b9b49b-790a-40f3-bd24-d44dfc3dc3ca",
   "metadata": {},
   "outputs": [],
   "source": [
    "metric_to_print = 'roc'\n",
    "\n",
    "for model in best_models:\n",
    "    original_name = models_to_compare[model]['original_name']\n",
    "    for current_set in set_to_print:\n",
    "        for metric in metric_to_print:\n",
    "            results[current_set][metric]"
   ]
  },
  {
   "cell_type": "code",
   "execution_count": null,
   "id": "a6f6da5b-a829-4081-9153-cad243c37119",
   "metadata": {},
   "outputs": [],
   "source": []
  },
  {
   "cell_type": "code",
   "execution_count": null,
   "id": "2e3e1cbe-c610-441b-b999-7076a15338b4",
   "metadata": {},
   "outputs": [],
   "source": []
  },
  {
   "cell_type": "code",
   "execution_count": null,
   "id": "a1f5eae2-f7e5-4f10-8983-fe204b688d16",
   "metadata": {},
   "outputs": [],
   "source": [
    "#anni -> metrica(roc, acc_easypos_smartneg, acc_hardneg_easypos, ...)\n",
    "#(it, ece, cse) -> (model1, model2, model3)"
   ]
  },
  {
   "cell_type": "code",
   "execution_count": 33,
   "id": "6ae263cf-e83e-4869-94d4-79bc31f11383",
   "metadata": {},
   "outputs": [
    {
     "data": {
      "image/png": "[encoded data removed]",
      "text/plain": [
       "<Figure size 1200x800 with 1 Axes>"
      ]
     },
     "metadata": {},
     "output_type": "display_data"
    }
   ],
   "source": [
    "# set width of bar\n",
    "barWidth = 0.25\n",
    "fig = plt.subplots(figsize =(12, 8))\n",
    " \n",
    "# set height of bar\n",
    "IT = [12, 30, 1, 8, 22]\n",
    "ECE = [28, 6, 16, 5, 10]\n",
    "CSE = [29, 3, 24, 25, 17]\n",
    " \n",
    "# Set position of bar on X axis\n",
    "br1 = np.arange(len(IT))\n",
    "br2 = [x + barWidth for x in br1]\n",
    "br3 = [x + barWidth for x in br2]\n",
    " \n",
    "# Make the plot\n",
    "plt.bar(br1, IT, color ='r', width = barWidth,\n",
    "        edgecolor ='grey', label ='IT')\n",
    "plt.bar(br2, ECE, color ='g', width = barWidth,\n",
    "        edgecolor ='grey', label ='ECE')\n",
    "plt.bar(br3, CSE, color ='b', width = barWidth,\n",
    "        edgecolor ='grey', label ='CSE')\n",
    " \n",
    "# Adding Xticks\n",
    "plt.xlabel('Branch', fontweight ='bold', fontsize = 15)\n",
    "plt.ylabel('Students passed', fontweight ='bold', fontsize = 15)\n",
    "plt.xticks([r + barWidth for r in range(len(IT))],\n",
    "        ['2015', '2016', '2017', '2018', '2019'])\n",
    " \n",
    "plt.legend()\n",
    "plt.show()"
   ]
  },
  {
   "cell_type": "code",
   "execution_count": null,
   "id": "8402ad26-535a-4603-8b36-64ed95a921cf",
   "metadata": {},
   "outputs": [],
   "source": []
  },
  {
   "cell_type": "code",
   "execution_count": null,
   "id": "633ca37b-7b2f-477f-aa80-2e05a2b6761e",
   "metadata": {},
   "outputs": [],
   "source": []
  },
  {
   "cell_type": "code",
   "execution_count": null,
   "id": "d8936baf-bd36-4a63-a3c1-292b6a58733f",
   "metadata": {},
   "outputs": [],
   "source": []
  },
  {
   "cell_type": "code",
   "execution_count": null,
   "id": "beaeeac5-0cb7-4a2f-8f58-53ce12b17fd7",
   "metadata": {},
   "outputs": [],
   "source": []
  },
  {
   "cell_type": "code",
   "execution_count": 22,
   "id": "f325368a-ebba-47c9-93e0-f80b0004bcdd",
   "metadata": {},
   "outputs": [
    {
     "name": "stdout",
     "output_type": "stream",
     "text": [
      "{'lr': 0.0001, 'lr_backbone': 0.0001, 'batch_size': 32, 'weight_decay': 0.0001, 'epochs': 100, 'lr_drop': 200, 'clip_max_norm': 0.1, 'proj_module_N_channels': 0, 'proj_module_secondary_structure_N_channels': 4, 'drop_secondary_structure': False, 'use_projection_module': False, 'dropout_prob': 0.01, 'args.mini_batch_size': 32, 'num_hidden_layers': 1, 'dividing_factor': 20, 'output_channels_mlp': 256, 'n_channels1_cnn': 256, 'n_channels2_cnn': 512, 'min_n_groups_train': 5, 'max_n_groups_train': 80, 'min_n_groups_val': 80, 'max_n_groups_val': 80, 'policies_train': [<dataset.data.EasyPosAugment object at 0x7fc5eb8d2680>, <dataset.data.SmartNegAugment object at 0x7fc5eb8d3b80>], 'policies_val': [<dataset.data.EasyPosAugment object at 0x7fc5eb8d2200>, <dataset.data.SmartNegAugment object at 0x7fc5eb8d24a0>], 'dataset_path': '/data01/giorgio/RNARNA-NT/dataset', 'device': 'cuda', 'seed': 42, 'num_workers': 2, 'output_dir': '/data01/giorgio/RNARNA-NT/checkpoints/binary_cl2', 'resume': '', 'start_epoch': 0, 'eval': False, 'n_epochs_early_stopping': 50}\n",
      "[15, 25, 50, 100, 10000000]\n",
      "tensor([0.2000, 0.3000, 0.2000, 0.2300, 0.0700])\n"
     ]
    }
   ],
   "source": [
    "best_model_chosen = 'model_1'\n",
    "\n",
    "\n",
    "# Define the path to the file containing the args namespace\n",
    "args_path = os.path.join(ROOT_DIR, 'checkpoints', models_to_compare[best_model_chosen]['original_name'], 'args.pkl')\n",
    "\n",
    "# Load the args namespace from the file\n",
    "with open(args_path, 'rb') as f:\n",
    "    args_dict = pickle.load(f)\n",
    "    \n",
    "print(args_dict)\n",
    "print(args_dict['policies_train'][0].height_bins)\n",
    "print(args_dict['policies_train'][0].height_probabilities)"
   ]
  }
 ],
 "metadata": {
  "kernelspec": {
   "display_name": "Python 3 (ipykernel)",
   "language": "python",
   "name": "python3"
  },
  "language_info": {
   "codemirror_mode": {
    "name": "ipython",
    "version": 3
   },
   "file_extension": ".py",
   "mimetype": "text/x-python",
   "name": "python",
   "nbconvert_exporter": "python",
   "pygments_lexer": "ipython3",
   "version": "3.10.10"
  }
 },
 "nbformat": 4,
 "nbformat_minor": 5
}
