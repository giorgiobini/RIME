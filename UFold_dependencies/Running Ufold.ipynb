{
 "cells": [
  {
   "cell_type": "code",
   "execution_count": 1,
   "id": "a56fa1e7-4d63-4bb4-9a27-69593c3117b4",
   "metadata": {},
   "outputs": [],
   "source": [
    "import sys\n",
    "import os\n",
    "import torch\n",
    "import time\n",
    "import numpy as np\n",
    "sys.argv = [''] #Remove this if it's not a jupyter notebook!\n",
    "from running_ufold import *\n",
    "import random\n",
    "random.seed(123)"
   ]
  },
  {
   "cell_type": "code",
   "execution_count": 2,
   "id": "0874f260-2f70-4f97-82cf-c9876a4f9d71",
   "metadata": {},
   "outputs": [],
   "source": [
    "device = 'cpu'"
   ]
  },
  {
   "cell_type": "code",
   "execution_count": 3,
   "id": "ad1a225b-ce30-4152-9cc2-75fc9453042e",
   "metadata": {},
   "outputs": [
    {
     "name": "stdout",
     "output_type": "stream",
     "text": [
      "==========Start Loading Pretrained Model==========\n",
      "==========Finish Loading Pretrained Model==========\n"
     ]
    }
   ],
   "source": [
    "ROOT_DIR = os.path.dirname(os.path.abspath('.'))\n",
    "ufold_path= os.path.join(ROOT_DIR, 'UFold_dependencies', 'models', 'ufold_train_alldata.pt')\n",
    "UFoldFeatureExtractor = UFoldModel(device, ufold_path, eval_mode = True)"
   ]
  },
  {
   "cell_type": "code",
   "execution_count": 4,
   "id": "43b5a7f1-bc58-4d83-aeda-e3b810158c88",
   "metadata": {},
   "outputs": [],
   "source": [
    "def random_sequence(length):\n",
    "    seq = random.choices('CGTA', k=length)\n",
    "    seq_str = ''\n",
    "    for bp in seq:\n",
    "        seq_str += bp\n",
    "    return seq_str"
   ]
  },
  {
   "cell_type": "markdown",
   "id": "60e3a7e1-46d0-461d-966e-dd5a8d53b60a",
   "metadata": {
    "tags": []
   },
   "source": [
    "### Run single input"
   ]
  },
  {
   "cell_type": "code",
   "execution_count": 5,
   "id": "7cf7e718-4add-44cd-8ccd-fe160801176f",
   "metadata": {},
   "outputs": [],
   "source": [
    "seq_length = 600"
   ]
  },
  {
   "cell_type": "code",
   "execution_count": 6,
   "id": "2ce39b76-7643-4cba-99de-217917b04d3e",
   "metadata": {},
   "outputs": [
    {
     "name": "stdout",
     "output_type": "stream",
     "text": [
      "600\n"
     ]
    }
   ],
   "source": [
    "seq = random_sequence(seq_length)\n",
    "print(len(seq))"
   ]
  },
  {
   "cell_type": "code",
   "execution_count": 7,
   "id": "3e76450d-ae23-4842-9f89-cafcf3d82ea8",
   "metadata": {},
   "outputs": [],
   "source": [
    "seq = 'GCCCCCAUCGUCUAACGGUUAGGACACCAGACUUUCAAUCUGACAACGAGAGUUCGACUCUCUCUGGGGGUA'"
   ]
  },
  {
   "cell_type": "code",
   "execution_count": 8,
   "id": "d4714f42-6491-4119-b93b-2e53be5cad80",
   "metadata": {},
   "outputs": [
    {
     "name": "stdout",
     "output_type": "stream",
     "text": [
      "torch.Size([1, 17, 80, 80])\n",
      "torch.Size([1])\n",
      "torch.Size([1, 80, 4])\n",
      "('eq_len:600',)\n",
      "\n",
      "\n",
      "torch.Size([1, 72, 72])\n"
     ]
    }
   ],
   "source": [
    "seq_name = f'seq_len:{seq_length}'\n",
    "seq_embeddings, seq_lens, seq_ori, seq_name = get_seq_embeddings_seq_ori(seq, seq_name)\n",
    "print(seq_embeddings.shape)\n",
    "print(seq_lens.shape)\n",
    "print(seq_ori.shape)\n",
    "print(seq_name)\n",
    "print('\\n')\n",
    "model_features = UFoldFeatureExtractor.contact_net_prediction(seq_embeddings, seq_lens, seq_ori, seq_name)\n",
    "print(model_features.shape)"
   ]
  },
  {
   "cell_type": "code",
   "execution_count": 9,
   "id": "bda6d95a-1954-40f3-a914-32f3700d6e70",
   "metadata": {},
   "outputs": [],
   "source": [
    "dot_string = from_matrix_to_dot(model_features)"
   ]
  },
  {
   "cell_type": "code",
   "execution_count": 10,
   "id": "583a0ad7-a93a-461e-be89-a275a3800e6d",
   "metadata": {},
   "outputs": [
    {
     "name": "stdout",
     "output_type": "stream",
     "text": [
      "CPU times: user 3 µs, sys: 0 ns, total: 3 µs\n",
      "Wall time: 7.39 µs\n"
     ]
    }
   ],
   "source": [
    "%time\n",
    "model_features_no_postprocess = UFoldFeatureExtractor.contact_net_prediction(seq_embeddings, seq_lens, seq_ori, seq_name, postprocessing = False)"
   ]
  },
  {
   "cell_type": "code",
   "execution_count": 11,
   "id": "6580babf-1711-489c-a6e9-242dacbaed46",
   "metadata": {},
   "outputs": [
    {
     "data": {
      "text/plain": [
       "True"
      ]
     },
     "execution_count": 11,
     "metadata": {},
     "output_type": "execute_result"
    }
   ],
   "source": [
    "dot_string = from_matrix_to_dot(model_features_no_postprocess)\n",
    "set(dot_string) == set('(.)')"
   ]
  },
  {
   "cell_type": "code",
   "execution_count": 12,
   "id": "d0b1f4c0-52f3-411b-9671-d62e7c9644d7",
   "metadata": {},
   "outputs": [
    {
     "name": "stdout",
     "output_type": "stream",
     "text": [
      "tensor(-109.1484)\n",
      "tensor(-24.2549)\n",
      "tensor(32.1897)\n"
     ]
    }
   ],
   "source": [
    "print(model_features_no_postprocess.min())\n",
    "print(model_features_no_postprocess.mean())\n",
    "print(model_features_no_postprocess.max())"
   ]
  },
  {
   "cell_type": "code",
   "execution_count": 13,
   "id": "af3f1e36-219f-4c3a-91a9-c28c813fb48d",
   "metadata": {},
   "outputs": [],
   "source": [
    "one_hot = from_matrix_to_one_hot(model_features_no_postprocess, device = model_features_no_postprocess.device)\n",
    "dot_torch = from_one_hot_to_dot(one_hot.squeeze())"
   ]
  },
  {
   "cell_type": "code",
   "execution_count": 14,
   "id": "6fa2fb0b-2c4e-46a9-b6bf-a0f300d52658",
   "metadata": {},
   "outputs": [
    {
     "data": {
      "text/plain": [
       "'(((((((..((((........))))..((((.......)))).....(((((.......)))))))))))).'"
      ]
     },
     "execution_count": 14,
     "metadata": {},
     "output_type": "execute_result"
    }
   ],
   "source": [
    "dot_torch"
   ]
  },
  {
   "cell_type": "code",
   "execution_count": 15,
   "id": "2dfe7849-6676-432a-a522-fbecbf7c1849",
   "metadata": {},
   "outputs": [
    {
     "data": {
      "text/plain": [
       "True"
      ]
     },
     "execution_count": 15,
     "metadata": {},
     "output_type": "execute_result"
    }
   ],
   "source": [
    "dot_torch == dot_string"
   ]
  },
  {
   "cell_type": "markdown",
   "id": "126eef62-d0ce-4062-9ca6-bc94959bf51f",
   "metadata": {},
   "source": [
    "### Run single input with length > 600 bp"
   ]
  },
  {
   "cell_type": "code",
   "execution_count": 16,
   "id": "0afa9018-5230-4ce0-b7e3-1ab5a01ba387",
   "metadata": {},
   "outputs": [
    {
     "name": "stdout",
     "output_type": "stream",
     "text": [
      "100\n",
      "torch.Size([1, 17, 112, 112])\n",
      "torch.Size([1])\n",
      "torch.Size([1, 112, 4])\n",
      "('eq_len:600',)\n",
      "\n",
      "\n",
      "torch.Size([1, 100, 100])\n",
      "0.2696959972381592\n"
     ]
    }
   ],
   "source": [
    "start_time = time.time()\n",
    "seq = random_sequence(100)\n",
    "print(len(seq))\n",
    "seq_name = f'seq_len:{seq_length}'\n",
    "seq_embeddings, seq_lens, seq_ori, seq_name = get_seq_embeddings_seq_ori(seq, seq_name)\n",
    "print(seq_embeddings.shape)\n",
    "print(seq_lens.shape)\n",
    "print(seq_ori.shape)\n",
    "print(seq_name)\n",
    "print('\\n')\n",
    "model_features = UFoldFeatureExtractor.contact_net_prediction(seq_embeddings, seq_lens, seq_ori, seq_name)\n",
    "print(model_features.shape)\n",
    "print(time.time()-start_time)"
   ]
  },
  {
   "cell_type": "code",
   "execution_count": 17,
   "id": "170a5d3a-8555-4e4a-b3a7-574ae8c18a75",
   "metadata": {},
   "outputs": [
    {
     "name": "stdout",
     "output_type": "stream",
     "text": [
      "1000\n",
      "torch.Size([1, 17, 1008, 1008])\n",
      "torch.Size([1])\n",
      "torch.Size([1, 1008, 4])\n",
      "('eq_len:600',)\n",
      "\n",
      "\n",
      "torch.Size([1, 1000, 1000])\n",
      "11.467055320739746\n"
     ]
    }
   ],
   "source": [
    "start_time = time.time()\n",
    "seq = random_sequence(1000)\n",
    "print(len(seq))\n",
    "seq_name = f'seq_len:{seq_length}'\n",
    "seq_embeddings, seq_lens, seq_ori, seq_name = get_seq_embeddings_seq_ori(seq, seq_name)\n",
    "print(seq_embeddings.shape)\n",
    "print(seq_lens.shape)\n",
    "print(seq_ori.shape)\n",
    "print(seq_name)\n",
    "print('\\n')\n",
    "model_features = UFoldFeatureExtractor.contact_net_prediction(seq_embeddings, seq_lens, seq_ori, seq_name)\n",
    "print(model_features.shape)\n",
    "print(time.time()-start_time)"
   ]
  },
  {
   "cell_type": "markdown",
   "id": "37431f94-5454-462a-96ea-1139f12e370e",
   "metadata": {
    "tags": []
   },
   "source": [
    "### Post-processing VS pre-processing comparison"
   ]
  },
  {
   "cell_type": "markdown",
   "id": "66ab895d-19d6-4c6c-b95c-b50eef152235",
   "metadata": {},
   "source": [
    "As we can see below, both matrixes have the same dimension"
   ]
  },
  {
   "cell_type": "code",
   "execution_count": 18,
   "id": "ec0278f4-b039-4e1b-a961-17c5ccf7bef5",
   "metadata": {},
   "outputs": [
    {
     "name": "stdout",
     "output_type": "stream",
     "text": [
      "600\n",
      "torch.Size([1, 1000, 1000])\n",
      "torch.Size([1, 72, 72])\n"
     ]
    }
   ],
   "source": [
    "print(seq_length)\n",
    "print(model_features.shape)\n",
    "print(model_features_no_postprocess.shape)"
   ]
  },
  {
   "cell_type": "markdown",
   "id": "5244bc72-9f0f-46b1-af68-7977a527392a",
   "metadata": {},
   "source": [
    "As we can see below, both matrixes are symmetric"
   ]
  },
  {
   "cell_type": "code",
   "execution_count": 19,
   "id": "44c9abcc-236c-45e4-a824-d5a87a8d5ea2",
   "metadata": {},
   "outputs": [
    {
     "name": "stdout",
     "output_type": "stream",
     "text": [
      "True\n",
      "True\n"
     ]
    }
   ],
   "source": [
    "#check if the matrix is symmetric\n",
    "model_features_numpy = model_features.squeeze().cpu().numpy()\n",
    "print(np.allclose(model_features_numpy, model_features_numpy.T, rtol=1e-5, atol=1e-5))\n",
    "\n",
    "model_features_numpy_no_postprocess = model_features_no_postprocess.squeeze().cpu().numpy()\n",
    "print(np.allclose(model_features_numpy_no_postprocess, model_features_numpy_no_postprocess.T, rtol=1e-5, atol=1e-5))"
   ]
  },
  {
   "cell_type": "markdown",
   "id": "02700f45-c1c4-4f9f-bb65-b39c9cabfd33",
   "metadata": {},
   "source": [
    "As we can see below, before the postprocessing values were larger."
   ]
  },
  {
   "cell_type": "code",
   "execution_count": 20,
   "id": "ae4bfa83-4dce-4586-b366-2b62dcd1d4fa",
   "metadata": {},
   "outputs": [
    {
     "name": "stdout",
     "output_type": "stream",
     "text": [
      "With postprocessing:\n",
      "1.1868374\n",
      "0.0\n",
      "\n",
      "\n",
      "Without postprocessing:\n",
      "32.18965\n",
      "-109.14838\n"
     ]
    }
   ],
   "source": [
    "print('With postprocessing:')\n",
    "print(model_features_numpy.max())\n",
    "print(model_features_numpy.min())\n",
    "print('\\n')\n",
    "print('Without postprocessing:')\n",
    "print(model_features_numpy_no_postprocess.max())\n",
    "print(model_features_numpy_no_postprocess.min())"
   ]
  },
  {
   "cell_type": "markdown",
   "id": "c2a75f32-23ca-46fb-9265-80bfccfcdc66",
   "metadata": {},
   "source": [
    "Without postprocessing values in the diagonal are not all zeros."
   ]
  },
  {
   "cell_type": "code",
   "execution_count": 21,
   "id": "78f4073c-0ca0-4f7c-bda0-fd9ac9924f6d",
   "metadata": {},
   "outputs": [
    {
     "name": "stdout",
     "output_type": "stream",
     "text": [
      "With postprocessing:\n",
      "True\n",
      "\n",
      "\n",
      "Without postprocessing:\n",
      "False\n"
     ]
    }
   ],
   "source": [
    "print('With postprocessing:')\n",
    "print(np.allclose(np.diagonal(model_features_numpy), 0, rtol=1e-5, atol=1e-5))\n",
    "print('\\n')\n",
    "print('Without postprocessing:')\n",
    "print(np.allclose(np.diagonal(model_features_numpy_no_postprocess), 0, rtol=1e-5, atol=1e-5))"
   ]
  },
  {
   "cell_type": "code",
   "execution_count": 22,
   "id": "e3ac1bdd-e6a3-496a-815d-beab52b01ed7",
   "metadata": {},
   "outputs": [
    {
     "data": {
      "text/plain": [
       "True"
      ]
     },
     "execution_count": 22,
     "metadata": {},
     "output_type": "execute_result"
    }
   ],
   "source": [
    "dot_string = from_matrix_to_dot(model_features)\n",
    "\n",
    "set(dot_string) == set('(.)')"
   ]
  },
  {
   "cell_type": "code",
   "execution_count": 23,
   "id": "ffe1a4c5-0d4b-49ca-a6c7-292880022cff",
   "metadata": {},
   "outputs": [
    {
     "name": "stdout",
     "output_type": "stream",
     "text": [
      "..((((................................(.............................................((((((((((...(......(.((((..(((((.)))))...(.(.).((...(..........((.........................(.(..(.(((((((............(()))).))).).)....((((((((((((((..(.(((((((..((((((...(((((..(((((((..((.((..)).).)))))......)......).))))..())))))..((..))))))).)..)))))))).....(((.....))).....................)...........(..((((....(..(...(((.(((...(((((((((((.......))))))))))..))).))).(()))))...).....(((((.((.(..((..(..((..(((((...)))))))...))..)........)))))........))..(((.(...(............())....).(.).)))...........(((())...).).......................))))(...(......)..((...((((..............((((.......(........((.....)..))...))))...))))......)))......(((((....))))).............))..........(((((.((......)).))))..))))))).....))))...).......)).......).)....)..........).)).)).((((...((((.(((((.)))..)))).................))))))))))............(((((...).((......(((((())))))..))).)...)))))............)))))...)))))....).......\n",
      "(((((((..((((........))))..((((.......)))).....(((((.......)))))))))))).\n"
     ]
    }
   ],
   "source": [
    "print(dot_string)\n",
    "print('(((((((..((((........))))..((((.......)))).....(((((.......)))))))))))).')"
   ]
  },
  {
   "cell_type": "code",
   "execution_count": 24,
   "id": "8dd4b943-5030-4129-98e8-d0180743e471",
   "metadata": {},
   "outputs": [
    {
     "name": "stdout",
     "output_type": "stream",
     "text": [
      "tensor(0.)\n",
      "tensor(0.0004)\n",
      "tensor(1.1868)\n"
     ]
    }
   ],
   "source": [
    "print(model_features.min())\n",
    "print(model_features.mean())\n",
    "print(model_features.max())"
   ]
  },
  {
   "cell_type": "markdown",
   "id": "4e67765d-2d98-43b1-aaa9-f242c7da5d84",
   "metadata": {},
   "source": [
    "### Vediamo se su un unico input con padding lui lavora bene. In tal caso uso le funzioni che conosco e faccio io il padding."
   ]
  },
  {
   "cell_type": "code",
   "execution_count": 25,
   "id": "41cb68de-8c95-400c-9f07-34dd8c1a4812",
   "metadata": {},
   "outputs": [],
   "source": [
    "from ufold.data_generator import Dataset_Cut_concat_new as Dataset_FCN\n",
    "from ufold.data_generator import Generator_multiple_inputs, Generator_single_input, RNASSDataGenerator\n",
    "from torch.utils import data\n",
    "\n",
    "def get_seq_embeddings_seq_ori(sequence, name):\n",
    "    test_data = Generator_single_input(sequence, name)\n",
    "    params = {'batch_size': 1,\n",
    "      'shuffle': False,\n",
    "      'num_workers': 1,\n",
    "      'drop_last': False}\n",
    "    test_set = Dataset_FCN(test_data)\n",
    "    test_generator = data.DataLoader(test_set, **params) \n",
    "    for batch, (seq_embeddings, seq_lens, seq_ori, seq_name) in enumerate(test_generator):\n",
    "        assert batch == 0\n",
    "    return seq_embeddings, seq_lens, seq_ori, seq_name"
   ]
  },
  {
   "cell_type": "code",
   "execution_count": 26,
   "id": "d2e95357-6e98-4c0a-9ede-f004818e8979",
   "metadata": {},
   "outputs": [],
   "source": [
    "seq_length = 100\n",
    "seq = random_sequence(seq_length)\n",
    "seq_name = 'seq_len:{}'.format(seq_length)\n",
    "test_data = Generator_single_input(seq, seq_name)"
   ]
  },
  {
   "cell_type": "code",
   "execution_count": 27,
   "id": "9b990280-e556-4f3e-b708-db55711d0ef9",
   "metadata": {},
   "outputs": [
    {
     "name": "stdout",
     "output_type": "stream",
     "text": [
      "<class 'numpy.ndarray'>\n",
      "(600, 4)\n"
     ]
    }
   ],
   "source": [
    "result_generator = test_data.get_one_sample(0)[0]\n",
    "print(type(result_generator))\n",
    "print(result_generator.shape)"
   ]
  },
  {
   "cell_type": "code",
   "execution_count": 28,
   "id": "f2ccde96-cb7e-4b5d-9bcf-112393516585",
   "metadata": {},
   "outputs": [
    {
     "name": "stdout",
     "output_type": "stream",
     "text": [
      "[1. 0. 0. 0.]\n",
      "[0. 0. 1. 0.]\n",
      "[1. 0. 0. 0.]\n",
      "\n",
      "\n",
      "False\n"
     ]
    }
   ],
   "source": [
    "print(result_generator[0])\n",
    "print(result_generator[19])\n",
    "print(result_generator[20])\n",
    "print('\\n')\n",
    "print(result_generator[20:,:].sum() == 0)"
   ]
  },
  {
   "cell_type": "code",
   "execution_count": 29,
   "id": "bc815cfe-2db6-42ad-92f5-0c98d8496488",
   "metadata": {},
   "outputs": [
    {
     "name": "stderr",
     "output_type": "stream",
     "text": [
      "/tmp/ipykernel_11706/823569585.py:11: VisibleDeprecationWarning: Creating an ndarray from ragged nested sequences (which is a list-or-tuple of lists-or-tuples-or ndarrays with different lengths or shapes) is deprecated. If you meant to do this, you must specify 'dtype=object' when creating the ndarray.\n",
      "  pairs = np.array([instance[-1] for instance in data])\n"
     ]
    }
   ],
   "source": [
    "### ANALIZZIAMO LA CLASSE RNASSDataGenerator\n",
    "import _pickle as cPickle\n",
    "import collections\n",
    "RNA_SS_data = collections.namedtuple('RNA_SS_data','seq ss_label length name pairs')\n",
    "\n",
    "with open(os.path.join(ROOT_DIR, 'UFold_dependencies','data', 'TS3.cPickle'), 'rb') as f:\n",
    "            data = cPickle.load(f,encoding='iso-8859-1')\n",
    "\n",
    "data_x = np.array([instance[0] for instance in data])\n",
    "data_y = np.array([instance[1] for instance in data])\n",
    "pairs = np.array([instance[-1] for instance in data])\n",
    "seq_length = np.array([instance[2] for instance in data])\n",
    "#seq = list(p.map(encoding2seq, self.data_x))\n",
    "seq_max_len = len(data_x[0])\n",
    "data_name = np.array([instance[3] for instance in data])"
   ]
  },
  {
   "cell_type": "code",
   "execution_count": null,
   "id": "16c5aa83-929c-4d2f-8050-b34c6ed920f9",
   "metadata": {},
   "outputs": [],
   "source": []
  },
  {
   "cell_type": "code",
   "execution_count": null,
   "id": "5a340f0d-bc65-45a4-be91-7254632c5737",
   "metadata": {},
   "outputs": [],
   "source": []
  },
  {
   "cell_type": "code",
   "execution_count": 30,
   "id": "5482755e-dbd6-4048-aa50-d463a8c8f2e1",
   "metadata": {},
   "outputs": [
    {
     "name": "stderr",
     "output_type": "stream",
     "text": [
      "/data01/gbini/projects/DETR/UFold_dependencies/ufold/data_generator.py:43: VisibleDeprecationWarning: Creating an ndarray from ragged nested sequences (which is a list-or-tuple of lists-or-tuples-or ndarrays with different lengths or shapes) is deprecated. If you meant to do this, you must specify 'dtype=object' when creating the ndarray.\n",
      "  self.pairs = np.array([instance[-1] for instance in self.data])\n"
     ]
    }
   ],
   "source": [
    "from ufold.data_generator import Dataset_Cut_concat_new_canonicle as Dataset_FCN\n",
    "from ufold.data_generator import Dataset_Cut_concat_new_merge_multi as Dataset_FCN_merge\n",
    "from torch.utils import data\n",
    "\n",
    "device = 'cuda:0'\n",
    "pickle_data = RNASSDataGenerator(os.path.join(ROOT_DIR, 'UFold_dependencies','data'), 'TS3.cPickle')\n",
    "params = {'batch_size': 1,\n",
    "  'shuffle': True,\n",
    "  'num_workers': 1,\n",
    "  'drop_last': False}\n",
    "\n",
    "#train_merge = Dataset_FCN_merge([pickle_data])\n",
    "train_merge = Dataset_FCN(pickle_data)\n",
    "train_merge_generator = data.DataLoader(train_merge, **params)"
   ]
  },
  {
   "cell_type": "code",
   "execution_count": null,
   "id": "38c7dff9-1fe7-4851-a8e2-8b2eeb82657a",
   "metadata": {},
   "outputs": [],
   "source": []
  },
  {
   "cell_type": "code",
   "execution_count": null,
   "id": "a3cb0428-1e94-46a7-a913-8f5c41af7fae",
   "metadata": {},
   "outputs": [],
   "source": []
  },
  {
   "cell_type": "code",
   "execution_count": 31,
   "id": "08bb071d-c244-4bc2-80ea-fd08e697ec50",
   "metadata": {},
   "outputs": [
    {
     "data": {
      "text/plain": [
       "'\\n#test\\na = torch.ones(1, 3, 20, 20)\\nb = torch.ones(1, 3, 54, 54)\\nc = torch.ones(1, 3, 10, 10)\\nimage_batch = [a, b, c]\\npadded_image_batch =  pad_image_batch(image_batch)\\nprint(padded_image_batch[0][0, :, 20:, 20:].sum() == 0)\\nprint(padded_image_batch[2][0, :, 10:, 10:].sum() == 0)\\n'"
      ]
     },
     "execution_count": 31,
     "metadata": {},
     "output_type": "execute_result"
    }
   ],
   "source": [
    "import torch.nn.functional as F\n",
    "\n",
    "def pad_image_batch(image_batch):\n",
    "    max_height = max([img.shape[-2] for img in image_batch])\n",
    "    max_width = max([img.shape[-1] for img in image_batch])\n",
    "\n",
    "    image_batch = [\n",
    "        # The needed padding is the difference between the\n",
    "        # max width/height and the image's actual width/height.\n",
    "        F.pad(img, [0, max_width - img.shape[-1], 0, max_height - img.shape[-2]])\n",
    "        for img in image_batch\n",
    "    ]\n",
    "    return image_batch\n",
    "\n",
    "\n",
    "\"\"\"\n",
    "#test\n",
    "a = torch.ones(1, 3, 20, 20)\n",
    "b = torch.ones(1, 3, 54, 54)\n",
    "c = torch.ones(1, 3, 10, 10)\n",
    "image_batch = [a, b, c]\n",
    "padded_image_batch =  pad_image_batch(image_batch)\n",
    "print(padded_image_batch[0][0, :, 20:, 20:].sum() == 0)\n",
    "print(padded_image_batch[2][0, :, 10:, 10:].sum() == 0)\n",
    "\"\"\""
   ]
  },
  {
   "cell_type": "code",
   "execution_count": 32,
   "id": "4dcc142f-7ec3-4a39-af21-84fd693e7aeb",
   "metadata": {},
   "outputs": [
    {
     "name": "stdout",
     "output_type": "stream",
     "text": [
      "\n",
      "\n"
     ]
    }
   ],
   "source": [
    "model_features_list = []\n",
    "model_features_list_padded = []\n",
    "seq_embeddings_list = []\n",
    "seq_lens_list = []\n",
    "seq_ori_list = []\n",
    "seq_name_list = []\n",
    "\n",
    "postprocessing = True\n",
    "\n",
    "\n",
    "for contacts, seq_embeddings, matrix_reps, seq_lens, seq_ori, seq_name, nc_map, l_len in train_merge_generator:\n",
    "    seq_embeddings_list.append(seq_embeddings)\n",
    "    seq_lens_list.append(seq_lens)\n",
    "    seq_ori_list.append(seq_ori)\n",
    "    seq_name_list.append(seq_name)\n",
    "\n",
    "for i in range(len(train_merge_generator)):\n",
    "    seq_embeddings, seq_lens, seq_ori, seq_name = seq_embeddings_list[i], seq_lens_list[i], seq_ori_list[i], seq_name_list[i]\n",
    "    model_features_list.append(UFoldFeatureExtractor.contact_net_prediction(seq_embeddings, seq_lens, seq_ori, seq_name, postprocessing = postprocessing))\n",
    "\n",
    "print('\\n')\n",
    "\n",
    "seq_embeddings_list_padded = pad_image_batch(seq_embeddings_list)\n",
    "seq_ori_list_padded = pad_image_batch(seq_ori_list)\n",
    "#seq_ori_list_padded = seq_ori_list\n",
    "\n",
    "for i in range(len(train_merge_generator)):\n",
    "    seq_embeddings, seq_lens, seq_ori, seq_name = seq_embeddings_list_padded[i], seq_lens_list[i], seq_ori_list_padded[i], seq_name_list[i]\n",
    "    model_features_list_padded.append(UFoldFeatureExtractor.contact_net_prediction(seq_embeddings, seq_lens, seq_ori, seq_name, postprocessing = postprocessing))"
   ]
  },
  {
   "cell_type": "code",
   "execution_count": 33,
   "id": "87ccbbd6-bc37-4a0f-b909-42eaee79bbb0",
   "metadata": {},
   "outputs": [
    {
     "name": "stdout",
     "output_type": "stream",
     "text": [
      "tensor(16.6720)\n",
      "tensor(29.8296)\n",
      "tensor(6.3232)\n",
      "tensor(35.0341)\n",
      "tensor(30.8638)\n",
      "tensor(43.8264)\n",
      "tensor(3.8842)\n",
      "tensor(10.5110)\n",
      "tensor(28.9487)\n",
      "tensor(4.8851)\n",
      "tensor(6.7665)\n",
      "tensor(33.3618)\n",
      "tensor(6.4274)\n",
      "tensor(17.8265)\n",
      "tensor(37.1164)\n",
      "tensor(37.7431)\n",
      "tensor(0.)\n",
      "tensor(30.3365)\n"
     ]
    }
   ],
   "source": [
    "# check if the result is the same\n",
    "for i in range(len(train_merge_generator)):\n",
    "    #print(seq_lens_list[i])\n",
    "    #print(model_features_list[i].shape == model_features_list_padded[i].shape)\n",
    "    #print(torch.allclose(model_features_list[i], model_features_list_padded[i]))\n",
    "    print((model_features_list[i] - model_features_list_padded[i]).sum())\n",
    "    #print(model_features_list[i].sum())"
   ]
  },
  {
   "cell_type": "code",
   "execution_count": 34,
   "id": "a950949f-8d38-4594-bda8-f0e2332b9b72",
   "metadata": {},
   "outputs": [
    {
     "data": {
      "text/plain": [
       "tensor(30.3365)"
      ]
     },
     "execution_count": 34,
     "metadata": {},
     "output_type": "execute_result"
    }
   ],
   "source": [
    "(model_features_list[i].squeeze() - model_features_list_padded[i].squeeze()).sum()"
   ]
  },
  {
   "cell_type": "markdown",
   "id": "31ef172c-c251-4f17-bae9-cbd17f9f306c",
   "metadata": {},
   "source": [
    "Purtroppo con il padding non lavora bene, è stato infatti trainato con batch size = 1 e niente padding sull'input."
   ]
  },
  {
   "cell_type": "markdown",
   "id": "aecca73e-5a3f-470b-b5d4-30c824e80291",
   "metadata": {
    "tags": []
   },
   "source": [
    "### Vediamo se la funzione from_matrix_to_one_hot funziona anche su piu sequenze\n"
   ]
  },
  {
   "cell_type": "code",
   "execution_count": 35,
   "id": "ea3d45fb-8451-4179-af54-ae31432ad6ac",
   "metadata": {},
   "outputs": [],
   "source": [
    "from ufold.data_generator import Dataset_Cut_concat_new as Dataset_FCN\n",
    "postprocessing = True\n",
    "#seq_len = 120 #lunghezza delle sequenze nel batch\n",
    "#seqs_length = np.random.randint(low = seq_len, high=seq_len+1, size=5)\n",
    "#seqs = [random_sequence(seq_length) for seq_length in seqs_length]\n",
    "seqs = ['UCCCGGUGAUUGGAGCGCUGUGGCACCACUCCUUCCCAUUCCGAACAGGAUAGUGAAAGGCAGCAGCGGGUA',\n",
    "        'GCCCCCAUCGUCUAACGGUUAGGACACCAGACUUUCAAUCUGACAACGAGAGUUCGACUCUCUCUGGGGGUA',\n",
    "        'GCACCGUUAGGACACCGACGACUAACGUAGGUUGGACACCGAACGGUUAGGACACCGACACCGUUAGGACAC',\n",
    "        'CUUUCAAUCUGACAACGAGAGUUCGGUAGGUUGGACAUUCCGAACAGUCUCUGGGGGGAUACGGUUAACACG']\n",
    "seq_names = ['seq{}'.format(int_id) for int_id in range(len(seqs))]\n",
    "training_data = Generator_multiple_inputs(seqs, seq_names)\n",
    "params = {'batch_size': 2,\n",
    "  'shuffle': False,\n",
    "  'num_workers': 1,\n",
    "  'drop_last': False}\n",
    "training_set = Dataset_FCN(training_data)\n",
    "training_generator = data.DataLoader(training_set, **params) "
   ]
  },
  {
   "cell_type": "code",
   "execution_count": 36,
   "id": "d137b212-0ad6-45ed-9349-56ae09f54dec",
   "metadata": {},
   "outputs": [
    {
     "name": "stdout",
     "output_type": "stream",
     "text": [
      ".((((.((.........((((..(..(((((((.............))))..)))....)))))))))))..\n",
      "(((((((..((((........))))..((((.......)))).....(((((.......)))))))))))).\n",
      "....((((((....(((((.()))))))..)))))...((.((((((..((...))...)))))).))....\n",
      "..(((((((((.(((((((()))()()))))))))....).).....)))).....................\n"
     ]
    }
   ],
   "source": [
    "for batch, (seq_embeddings, seq_lens, seq_ori, seq_name) in enumerate(training_generator):\n",
    "    model_features = UFoldFeatureExtractor.contact_net_prediction(seq_embeddings, seq_lens[0], seq_ori, seq_name, postprocessing = postprocessing)\n",
    "    one_hot = from_matrix_to_one_hot(model_features, device = model_features.device)\n",
    "    [print(from_one_hot_to_dot(one_hot[i])) for i in range(one_hot.shape[0])]"
   ]
  },
  {
   "cell_type": "code",
   "execution_count": 37,
   "id": "24c27a03-c231-46d1-add9-1c0601485ee9",
   "metadata": {},
   "outputs": [
    {
     "name": "stdout",
     "output_type": "stream",
     "text": [
      ".((((.((.........((((..(..(((((((.............))))..)))....)))))))))))..\n",
      "(((((((..((((........))))..((((.......)))).....(((((.......)))))))))))).\n",
      "....((((((....(((((.()))))))..)))))...((.((((((..((...))...)))))).))....\n",
      "..(((((((((.(((((((()))()()))))))))....).).....)))).....................\n"
     ]
    }
   ],
   "source": [
    "params = {'batch_size': 1,\n",
    "  'shuffle': False,\n",
    "  'num_workers': 1,\n",
    "  'drop_last': False}\n",
    "training_set = Dataset_FCN(training_data)\n",
    "training_generator = data.DataLoader(training_set, **params) \n",
    "for batch, (seq_embeddings, seq_lens, seq_ori, seq_name) in enumerate(training_generator):\n",
    "    model_features = UFoldFeatureExtractor.contact_net_prediction(seq_embeddings, seq_lens[0], seq_ori, seq_name, postprocessing = postprocessing)\n",
    "    one_hot = from_matrix_to_one_hot(model_features, device = model_features.device)\n",
    "    [print(from_one_hot_to_dot(one_hot[i])) for i in range(one_hot.shape[0])]\n",
    "    #print(one_hot.shape)"
   ]
  },
  {
   "cell_type": "markdown",
   "id": "f1be1553-8fb6-4130-80c2-b96ccbd3293b",
   "metadata": {},
   "source": [
    "### Vediamo se senza padding, ma con batch di uguale lunghezza lavora bene."
   ]
  },
  {
   "cell_type": "code",
   "execution_count": null,
   "id": "99c5c259-55a5-4386-8f55-359661fc60c9",
   "metadata": {},
   "outputs": [],
   "source": [
    "training_data = Generator_multiple_inputs(seqs, seq_names)\n",
    "params = {'batch_size': 2,\n",
    "  'shuffle': False,\n",
    "  'num_workers': 1,\n",
    "  'drop_last': False}\n",
    "training_set = Dataset_FCN(training_data)\n",
    "training_generator = data.DataLoader(training_set, **params) \n",
    "\n",
    "results_in_batch_32 = {}\n",
    "for batch, (seq_embeddings, seq_lens, seq_ori, seq_name) in enumerate(training_generator):\n",
    "    model_features = UFoldFeatureExtractor.contact_net_prediction(seq_embeddings, seq_lens[0], seq_ori, seq_name, postprocessing = postprocessing)\n",
    "    for i in range(len(model_features)):\n",
    "        name = seq_name[i]\n",
    "        contact_matrix = model_features[i]\n",
    "        one_hot = from_matrix_to_one_hot(model_features[i], device = device)\n",
    "        dot_torch = from_one_hot_to_dot(one_hot)\n",
    "        results_in_batch_32[name] = {'contact_matrix':model_features[i],\n",
    "                            'seq_embeddings':seq_embeddings[i],\n",
    "                            'dot_seq': from_matrix_to_dot(model_features[i]),\n",
    "                            'dot_seq_torch':dot_torch\n",
    "                           }"
   ]
  },
  {
   "cell_type": "code",
   "execution_count": null,
   "id": "2f4471ce-4bad-4aaa-84b3-097c05d007c7",
   "metadata": {},
   "outputs": [],
   "source": [
    "training_data = Generator_multiple_inputs(seqs, seq_names)\n",
    "params = {'batch_size': 1,\n",
    "  'shuffle': False,\n",
    "  'num_workers': 1,\n",
    "  'drop_last': False}\n",
    "training_set = Dataset_FCN(training_data)\n",
    "training_generator = data.DataLoader(training_set, **params) \n",
    "\n",
    "results_in_batch_1 = {}\n",
    "for batch, (seq_embeddings, seq_lens, seq_ori, seq_name) in enumerate(training_generator):\n",
    "    model_features = UFoldFeatureExtractor.contact_net_prediction(seq_embeddings, seq_lens[0], seq_ori, seq_name, postprocessing = postprocessing)\n",
    "    for i in range(len(model_features)):\n",
    "        name = seq_name[i]\n",
    "        one_hot = from_matrix_to_one_hot(model_features[i], device = device)\n",
    "        dot_torch = from_one_hot_to_dot(one_hot)\n",
    "        results_in_batch_1[name] = {'contact_matrix':model_features[i],\n",
    "                                    'seq_embeddings':seq_embeddings[i],\n",
    "                                    'dot_seq': from_matrix_to_dot(model_features[i]),\n",
    "                                    'dot_seq_torch':dot_torch\n",
    "                                   }"
   ]
  },
  {
   "cell_type": "code",
   "execution_count": null,
   "id": "09a95dd2-e7fc-468d-a809-f0f5ef13ce6c",
   "metadata": {},
   "outputs": [],
   "source": [
    "#errors check\n",
    "errors = []\n",
    "for seq_name in seq_names:\n",
    "    error = float((results_in_batch_1[seq_name]['contact_matrix'] - results_in_batch_32[seq_name]['contact_matrix']).sum())\n",
    "    errors.append(error)\n",
    "    #print(error)\n",
    "    #print(torch.allclose(results_in_batch_1[seq_name]['contact_matrix'], results_in_batch_32[seq_name]['contact_matrix'], rtol = 0.1))\n",
    "    assert (results_in_batch_1[seq_name]['dot_seq'] == results_in_batch_32[seq_name]['dot_seq'])\n",
    "    assert (results_in_batch_1[seq_name]['dot_seq'] == results_in_batch_1[seq_name]['dot_seq_torch'])\n",
    "    assert (results_in_batch_32[seq_name]['dot_seq'] == results_in_batch_32[seq_name]['dot_seq_torch'])"
   ]
  },
  {
   "cell_type": "code",
   "execution_count": null,
   "id": "b4980204-06e6-4cee-9d0d-a1977b6b3831",
   "metadata": {},
   "outputs": [],
   "source": [
    "print(np.max(errors))\n",
    "print(np.mean(errors))\n",
    "print(np.min(errors)) \n",
    "print(np.median(errors)) "
   ]
  },
  {
   "cell_type": "code",
   "execution_count": null,
   "id": "270d5643-d007-4bec-9187-bc29336837c3",
   "metadata": {},
   "outputs": [],
   "source": [
    "seq_embeddings.shape"
   ]
  },
  {
   "cell_type": "markdown",
   "id": "f5a56333-fbc3-4c9f-948e-b53995afeb3b",
   "metadata": {},
   "source": [
    "#### Vediamo se con batch size 1 puo lavorare velocemente con sequenze di dimensione diversa (cerco di fare cio che succede nel ufold_predict.py)"
   ]
  },
  {
   "cell_type": "code",
   "execution_count": 5,
   "id": "65e92560-0390-4bd4-b5c8-301b582d5d4b",
   "metadata": {},
   "outputs": [],
   "source": [
    "from ufold.data_generator import Dataset_Cut_concat_new as Dataset_FCN\n",
    "from ufold.data_generator import MyRNASSDataGenerator_input"
   ]
  },
  {
   "cell_type": "code",
   "execution_count": 6,
   "id": "24598821-2364-4fdd-a910-c7e21ab03ae0",
   "metadata": {},
   "outputs": [],
   "source": [
    "device = 'cuda:0'"
   ]
  },
  {
   "cell_type": "code",
   "execution_count": 7,
   "id": "cf50dc74-5968-48dd-95d2-15dcdb6abd06",
   "metadata": {},
   "outputs": [
    {
     "name": "stderr",
     "output_type": "stream",
     "text": [
      "/data01/gbini/projects/DETR/UFold_dependencies/ufold/data_generator.py:281: VisibleDeprecationWarning: Creating an ndarray from ragged nested sequences (which is a list-or-tuple of lists-or-tuples-or ndarrays with different lengths or shapes) is deprecated. If you meant to do this, you must specify 'dtype=object' when creating the ndarray.\n",
      "  self.data_x = np.array([self.one_hot_600(item) for item in self.seq])\n"
     ]
    }
   ],
   "source": [
    "test_data = MyRNASSDataGenerator_input(os.path.join(ROOT_DIR, 'UFold_dependencies', 'data'), 'chunk20')\n",
    "\n",
    "params = {'batch_size': 1,\n",
    "          'shuffle': False,\n",
    "          'num_workers': 6,\n",
    "          'drop_last': True}\n",
    "\n",
    "test_set = Dataset_FCN(test_data)\n",
    "test_generator = data.DataLoader(test_set, **params)"
   ]
  },
  {
   "cell_type": "code",
   "execution_count": null,
   "id": "d4be66a2-4d35-400a-bc6e-fc6ca521616a",
   "metadata": {},
   "outputs": [
    {
     "name": "stdout",
     "output_type": "stream",
     "text": [
      "==========Start Loading Pretrained Model==========\n",
      "==========Finish Loading Pretrained Model==========\n"
     ]
    }
   ],
   "source": [
    "UFoldFeatureExtractor = UFoldModel(device, ufold_path, eval_mode = True)"
   ]
  },
  {
   "cell_type": "code",
   "execution_count": 25,
   "id": "79da7c29-8714-4aeb-95cf-2fd2eff79899",
   "metadata": {
    "tags": []
   },
   "outputs": [],
   "source": [
    "results_in_batch_1 = {}\n",
    "for batch, (seq_embeddings, seq_lens, seq_ori, seq_name) in enumerate(test_generator):\n",
    "    model_features = UFoldFeatureExtractor.contact_net_prediction(seq_embeddings, seq_lens[0], seq_ori, seq_name, postprocessing = True)\n",
    "    name = seq_name[0]\n",
    "    one_hot = from_matrix_to_one_hot(model_features.squeeze(), device = device)\n",
    "    dot_torch = from_one_hot_to_dot(one_hot)\n",
    "    results_in_batch_1[name] = {\n",
    "                                    'dot_seq':dot_torch\n",
    "                                   }\n",
    "    if batch == 1:\n",
    "        break"
   ]
  },
  {
   "cell_type": "code",
   "execution_count": 26,
   "id": "85c8a349-7d80-46ca-a4e1-65796d319f6d",
   "metadata": {},
   "outputs": [
    {
     "data": {
      "text/plain": [
       "{'ENSG00000166228_0': {'dot_seq': '.........(((.(..(....).......))(()).........................(((((((...((.((((.((..(..)..((((..(..(...((((....((.(.......(((.((((((((....)))))))))..))...(..............)).(((..............(.(((.......))).......)))........).....)))....(....).).......................)).((..((...(.....(((.(((..(....((.()(...(()))((.........(((((.(.))((.((((())..)...)))))).))..)..))))))(....(..........(((.((.)).(())..(((...((((...)))((((.()).......(((((...)).).((((....)..............)))))....)..((((.((((......))))))))))))))).......................)).............).).)).)....................(.).((((............))))...)..........(............(((((.(.....(.......((.)...)......)...)))).(..(........)......)).........)...)...((((..(.......))..)).))..........((..........))..))))...)).)...)))))).)..))...............)().)).....))......(......(...(................)......)...........).........(.)))).......)..).........)..........(..((((...(.).)...)....)))...............((.((((((((...(.)(((.))..((.....).))....))))))...)))..).'},\n",
       " 'ENSG00000215760_0': {'dot_seq': '(........(.(.(((((......))))).)(.).((((.(.(((...)))).))))).).....(.............((..........(((((((((......)))))))))..((.....))((((())...(((.........)............(.(.......).)...((((((((........(.((((((.....)))))...)...)...)))))).....((.(((((.....))))).))..(()))((.(.)))))(((((....))))).).))...)).(((....(((((.((((.(..(((((...(((...))))))).)))))).....())))).(((()))..(((..(((((((()))))))))))))......)))).....)...................................................(.....(..((((((((....).))))))).)).......'}}"
      ]
     },
     "execution_count": 26,
     "metadata": {},
     "output_type": "execute_result"
    }
   ],
   "source": [
    "results_in_batch_1"
   ]
  },
  {
   "cell_type": "code",
   "execution_count": 30,
   "id": "70759b40-8da0-4a7d-b327-04319d28aec3",
   "metadata": {},
   "outputs": [],
   "source": [
    "pd.DataFrame.from_dict(results_in_batch_1, orient = 'index').to_csv('prova.csv', sep = '\\t', header = False)"
   ]
  },
  {
   "cell_type": "code",
   "execution_count": null,
   "id": "cc9bdd99-1983-47dc-8f08-4d9cd6918f9d",
   "metadata": {},
   "outputs": [],
   "source": []
  }
 ],
 "metadata": {
  "kernelspec": {
   "display_name": "Python 3 (ipykernel)",
   "language": "python",
   "name": "python3"
  },
  "language_info": {
   "codemirror_mode": {
    "name": "ipython",
    "version": 3
   },
   "file_extension": ".py",
   "mimetype": "text/x-python",
   "name": "python",
   "nbconvert_exporter": "python",
   "pygments_lexer": "ipython3",
   "version": "3.9.7"
  }
 },
 "nbformat": 4,
 "nbformat_minor": 5
}
