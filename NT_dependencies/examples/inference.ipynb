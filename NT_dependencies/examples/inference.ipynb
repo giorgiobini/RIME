{
 "cells": [
  {
   "cell_type": "markdown",
   "id": "a201d7bf-d4d2-456a-a599-08abcfec6d72",
   "metadata": {},
   "source": [
    "# Inference with pretrained Nucleotide Transformer models"
   ]
  },
  {
   "cell_type": "markdown",
   "id": "a3de6889-1ceb-4acd-8765-1805a8b8bd6d",
   "metadata": {},
   "source": [
    "## Installation and imports"
   ]
  },
  {
   "cell_type": "code",
   "execution_count": 1,
   "id": "3549c2f1-bbdb-4fa7-847f-782a36cdca3e",
   "metadata": {},
   "outputs": [],
   "source": [
    "import os\n",
    "import nucleotide_transformer\n",
    "import random\n",
    "random.seed(123)"
   ]
  },
  {
   "cell_type": "code",
   "execution_count": 2,
   "id": "4be65e94-28db-4110-a147-7d8c05b44e97",
   "metadata": {},
   "outputs": [],
   "source": [
    "import haiku as hk\n",
    "import jax\n",
    "import jax.numpy as jnp\n",
    "from nucleotide_transformer.pretrained import get_pretrained_model"
   ]
  },
  {
   "cell_type": "code",
   "execution_count": 3,
   "id": "772f71e6-5820-4477-98d3-af98d177a28c",
   "metadata": {},
   "outputs": [],
   "source": [
    "NT_DIR = os.path.dirname(os.path.abspath('.'))"
   ]
  },
  {
   "cell_type": "code",
   "execution_count": 4,
   "id": "2037a048",
   "metadata": {},
   "outputs": [],
   "source": [
    "#@title Select a model\n",
    "#@markdown ---\n",
    "model_name = '2B5_multi_species'#@param['500M_human_ref', '500M_1000G', '2B5_1000G', '2B5_multi_species']\n",
    "#@markdown ---"
   ]
  },
  {
   "cell_type": "code",
   "execution_count": 5,
   "id": "84d3d8ab-ee0e-4592-b44f-a722e9372cc0",
   "metadata": {
    "tags": []
   },
   "outputs": [],
   "source": [
    "# Get pretrained model\n",
    "parameters, forward_fn, tokenizer, config = get_pretrained_model(\n",
    "    model_name=model_name,\n",
    "    mixed_precision=False,\n",
    "    embeddings_layers_to_save=(20,),\n",
    "    attention_maps_to_save=((1, 4), (7, 18)),\n",
    "    max_positions=32,\n",
    "    chkpt_dir = os.path.join(NT_DIR, 'checkpoints'),\n",
    ")\n",
    "forward_fn = hk.transform(forward_fn)"
   ]
  },
  {
   "cell_type": "code",
   "execution_count": 5,
   "id": "b3a9cf33-bb5b-4e0e-8dc2-21e652f4ea3d",
   "metadata": {},
   "outputs": [],
   "source": [
    "#@title Select a model\n",
    "#@markdown ---\n",
    "model_name = '2B5_multi_species'#@param['500M_human_ref', '500M_1000G', '2B5_1000G', '2B5_multi_species']\n",
    "#@markdown ---\n",
    "\n",
    "# Get pretrained model\n",
    "parameters, forward_fn, tokenizer, config = get_pretrained_model(\n",
    "    model_name=model_name,\n",
    "    mixed_precision=False,\n",
    "    embeddings_layers_to_save=(20,),\n",
    "    attention_maps_to_save=((1, 4), (7, 18)),\n",
    "    max_positions=7000,\n",
    "    chkpt_dir = os.path.join(NT_DIR, 'checkpoints')\n",
    ")\n",
    "forward_fn = hk.transform(forward_fn)"
   ]
  },
  {
   "cell_type": "markdown",
   "id": "54878442-4c4b-4f65-b5fb-0a89aabb5ef5",
   "metadata": {},
   "source": [
    "## Define your input data and tokenize it\n",
    "You can have a look at the tokens_str variable to see how your sequences have been split into tokens. The sequences will all be padded to the value you filled for max_positions."
   ]
  },
  {
   "cell_type": "code",
   "execution_count": 6,
   "id": "85f3dcba-2e12-4fa4-8e73-8494f97b6513",
   "metadata": {},
   "outputs": [
    {
     "ename": "ValueError",
     "evalue": "Found a sequence with length 1171 that exceeds the fixed length to tokenize (32).",
     "output_type": "error",
     "traceback": [
      "\u001b[0;31m---------------------------------------------------------------------------\u001b[0m",
      "\u001b[0;31mValueError\u001b[0m                                Traceback (most recent call last)",
      "Cell \u001b[0;32mIn[6], line 4\u001b[0m\n\u001b[1;32m      2\u001b[0m seq_len \u001b[38;5;241m=\u001b[39m \u001b[38;5;241m7000\u001b[39m\n\u001b[1;32m      3\u001b[0m sequences \u001b[38;5;241m=\u001b[39m [\u001b[38;5;124m'\u001b[39m\u001b[38;5;124m'\u001b[39m\u001b[38;5;241m.\u001b[39mjoin(random\u001b[38;5;241m.\u001b[39mchoice(\u001b[38;5;124m\"\u001b[39m\u001b[38;5;124mATCG\u001b[39m\u001b[38;5;124m\"\u001b[39m) \u001b[38;5;28;01mfor\u001b[39;00m i \u001b[38;5;129;01min\u001b[39;00m \u001b[38;5;28mrange\u001b[39m(seq_len))]\n\u001b[0;32m----> 4\u001b[0m tokens_ids \u001b[38;5;241m=\u001b[39m [b[\u001b[38;5;241m1\u001b[39m] \u001b[38;5;28;01mfor\u001b[39;00m b \u001b[38;5;129;01min\u001b[39;00m \u001b[43mtokenizer\u001b[49m\u001b[38;5;241;43m.\u001b[39;49m\u001b[43mbatch_tokenize\u001b[49m\u001b[43m(\u001b[49m\u001b[43msequences\u001b[49m\u001b[43m)\u001b[49m]\n\u001b[1;32m      5\u001b[0m tokens_str \u001b[38;5;241m=\u001b[39m [b[\u001b[38;5;241m0\u001b[39m] \u001b[38;5;28;01mfor\u001b[39;00m b \u001b[38;5;129;01min\u001b[39;00m tokenizer\u001b[38;5;241m.\u001b[39mbatch_tokenize(sequences)]\n\u001b[1;32m      6\u001b[0m tokens \u001b[38;5;241m=\u001b[39m jnp\u001b[38;5;241m.\u001b[39masarray(tokens_ids, dtype\u001b[38;5;241m=\u001b[39mjnp\u001b[38;5;241m.\u001b[39mint32)\n",
      "File \u001b[0;32m~/miniconda3/envs/rnarna/lib/python3.11/site-packages/nucleotide_transformer/tokenizers.py:330\u001b[0m, in \u001b[0;36mStandardTokenizer.batch_tokenize\u001b[0;34m(self, sequences)\u001b[0m\n\u001b[1;32m    317\u001b[0m \u001b[38;5;28;01mdef\u001b[39;00m \u001b[38;5;21mbatch_tokenize\u001b[39m(\u001b[38;5;28mself\u001b[39m, sequences: List[\u001b[38;5;28mstr\u001b[39m]) \u001b[38;5;241m-\u001b[39m\u001b[38;5;241m>\u001b[39m List[Tuple[List[\u001b[38;5;28mstr\u001b[39m], List[\u001b[38;5;28mint\u001b[39m]]]:\n\u001b[1;32m    318\u001b[0m \u001b[38;5;250m    \u001b[39m\u001b[38;5;124;03m\"\"\"\u001b[39;00m\n\u001b[1;32m    319\u001b[0m \u001b[38;5;124;03m    Tokenizes a batch of sequences.\u001b[39;00m\n\u001b[1;32m    320\u001b[0m \u001b[38;5;124;03m    Sequences are padded to the maximum length in the batch.\u001b[39;00m\n\u001b[0;32m   (...)\u001b[0m\n\u001b[1;32m    328\u001b[0m \u001b[38;5;124;03m        in the batch.\u001b[39;00m\n\u001b[1;32m    329\u001b[0m \u001b[38;5;124;03m    \"\"\"\u001b[39;00m\n\u001b[0;32m--> 330\u001b[0m     \u001b[38;5;28;01mreturn\u001b[39;00m \u001b[38;5;28;43mself\u001b[39;49m\u001b[38;5;241;43m.\u001b[39;49m\u001b[43mpad_tokens_batch\u001b[49m\u001b[43m(\u001b[49m\u001b[43m  \u001b[49m\u001b[38;5;66;43;03m# type: ignore\u001b[39;49;00m\n\u001b[1;32m    331\u001b[0m \u001b[43m        \u001b[49m\u001b[43m[\u001b[49m\u001b[38;5;28;43mself\u001b[39;49m\u001b[38;5;241;43m.\u001b[39;49m\u001b[43mtokenize\u001b[49m\u001b[43m(\u001b[49m\u001b[43mseq\u001b[49m\u001b[43m)\u001b[49m\u001b[43m \u001b[49m\u001b[38;5;28;43;01mfor\u001b[39;49;00m\u001b[43m \u001b[49m\u001b[43mseq\u001b[49m\u001b[43m \u001b[49m\u001b[38;5;129;43;01min\u001b[39;49;00m\u001b[43m \u001b[49m\u001b[43msequences\u001b[49m\u001b[43m]\u001b[49m\n\u001b[1;32m    332\u001b[0m \u001b[43m    \u001b[49m\u001b[43m)\u001b[49m\n",
      "File \u001b[0;32m~/miniconda3/envs/rnarna/lib/python3.11/site-packages/nucleotide_transformer/tokenizers.py:540\u001b[0m, in \u001b[0;36mFixedSizeNucleotidesKmersTokenizer.pad_tokens_batch\u001b[0;34m(self, batch)\u001b[0m\n\u001b[1;32m    538\u001b[0m maximum_length \u001b[38;5;241m=\u001b[39m \u001b[38;5;28mmax\u001b[39m(lengths)\n\u001b[1;32m    539\u001b[0m \u001b[38;5;28;01mif\u001b[39;00m maximum_length \u001b[38;5;241m>\u001b[39m \u001b[38;5;28mself\u001b[39m\u001b[38;5;241m.\u001b[39m_fixed_length:\n\u001b[0;32m--> 540\u001b[0m     \u001b[38;5;28;01mraise\u001b[39;00m \u001b[38;5;167;01mValueError\u001b[39;00m(\n\u001b[1;32m    541\u001b[0m         \u001b[38;5;124mf\u001b[39m\u001b[38;5;124m\"\u001b[39m\u001b[38;5;124mFound a sequence with length \u001b[39m\u001b[38;5;132;01m{\u001b[39;00mmaximum_length\u001b[38;5;132;01m}\u001b[39;00m\u001b[38;5;124m that \u001b[39m\u001b[38;5;124m\"\u001b[39m\n\u001b[1;32m    542\u001b[0m         \u001b[38;5;124mf\u001b[39m\u001b[38;5;124m\"\u001b[39m\u001b[38;5;124mexceeds the fixed length to tokenize (\u001b[39m\u001b[38;5;132;01m{\u001b[39;00m\u001b[38;5;28mself\u001b[39m\u001b[38;5;241m.\u001b[39m_fixed_length\u001b[38;5;132;01m}\u001b[39;00m\u001b[38;5;124m).\u001b[39m\u001b[38;5;124m\"\u001b[39m\n\u001b[1;32m    543\u001b[0m     )\n\u001b[1;32m    544\u001b[0m deltas \u001b[38;5;241m=\u001b[39m [\u001b[38;5;28mself\u001b[39m\u001b[38;5;241m.\u001b[39m_fixed_length \u001b[38;5;241m-\u001b[39m length \u001b[38;5;28;01mfor\u001b[39;00m length \u001b[38;5;129;01min\u001b[39;00m lengths]\n\u001b[1;32m    545\u001b[0m padded_tokens \u001b[38;5;241m=\u001b[39m [\n\u001b[1;32m    546\u001b[0m     t[\u001b[38;5;241m0\u001b[39m] \u001b[38;5;241m+\u001b[39m ([\u001b[38;5;28mself\u001b[39m\u001b[38;5;241m.\u001b[39mpad_token] \u001b[38;5;241m*\u001b[39m delta) \u001b[38;5;28;01mfor\u001b[39;00m t, delta \u001b[38;5;129;01min\u001b[39;00m \u001b[38;5;28mzip\u001b[39m(batch, deltas)\n\u001b[1;32m    547\u001b[0m ]\n",
      "\u001b[0;31mValueError\u001b[0m: Found a sequence with length 1171 that exceeds the fixed length to tokenize (32)."
     ]
    }
   ],
   "source": [
    "# Get data and tokenize it\n",
    "seq_len = 7000\n",
    "sequences = [''.join(random.choice(\"ATCG\") for i in range(seq_len))]\n",
    "tokens_ids = [b[1] for b in tokenizer.batch_tokenize(sequences)]\n",
    "tokens_str = [b[0] for b in tokenizer.batch_tokenize(sequences)]\n",
    "tokens = jnp.asarray(tokens_ids, dtype=jnp.int32)"
   ]
  },
  {
   "cell_type": "code",
   "execution_count": null,
   "id": "f0f6531b-7e66-47ff-af27-018e25ab5182",
   "metadata": {},
   "outputs": [],
   "source": [
    "sequences[0][:10]"
   ]
  },
  {
   "cell_type": "markdown",
   "id": "1fb9228f-ecc5-4ce0-99c2-c3062d6c19b4",
   "metadata": {},
   "source": [
    "## Do the Inference\n",
    "The first time you query this cell will be slower than usual inference because of the computation graph compilation."
   ]
  },
  {
   "cell_type": "code",
   "execution_count": 7,
   "id": "16ef8d85-31d8-4c72-97a9-c3ae4c1bdd40",
   "metadata": {},
   "outputs": [
    {
     "name": "stdout",
     "output_type": "stream",
     "text": [
      "CPU times: user 15.7 s, sys: 420 ms, total: 16.2 s\n",
      "Wall time: 2.18 s\n"
     ]
    }
   ],
   "source": [
    "%%time\n",
    "# Initialize random key\n",
    "random_key = jax.random.PRNGKey(0)\n",
    "\n",
    "# Infer\n",
    "outs = forward_fn.apply(parameters, random_key, tokens)"
   ]
  },
  {
   "cell_type": "code",
   "execution_count": 8,
   "id": "fa6b405a-823c-4208-bdb4-313cd21f64fd",
   "metadata": {},
   "outputs": [
    {
     "name": "stdout",
     "output_type": "stream",
     "text": [
      "dict_keys(['attention_map_layer_1_number_4', 'attention_map_layer_7_number_18', 'embeddings_20', 'logits'])\n"
     ]
    }
   ],
   "source": [
    "print(outs.keys())"
   ]
  },
  {
   "cell_type": "markdown",
   "id": "f820ee47-7d03-47d9-b3f9-9faac32005d6",
   "metadata": {},
   "source": [
    "## Retrieve embeddings\n",
    "And use them as you please! Enjoy!"
   ]
  },
  {
   "cell_type": "code",
   "execution_count": 9,
   "id": "756502bc-c1f9-44b7-b7dc-9b4c7806ac28",
   "metadata": {},
   "outputs": [
    {
     "name": "stdout",
     "output_type": "stream",
     "text": [
      "(2, 32, 2560)\n"
     ]
    }
   ],
   "source": [
    "print(outs[\"embeddings_20\"].shape)"
   ]
  },
  {
   "cell_type": "markdown",
   "id": "4e1cf379-fa94-407f-babf-02d8fcbe9844",
   "metadata": {},
   "source": [
    "**Additional Tip**: Don't forget to remove the cls token and padded positions if you want for instance to compute mean embeddings!"
   ]
  },
  {
   "cell_type": "code",
   "execution_count": 12,
   "id": "be2387a8-8edb-43d5-beaf-e129df0b2dd2",
   "metadata": {},
   "outputs": [],
   "source": [
    "embeddings = outs[\"embeddings_20\"][:, 1:, :]  # removing CLS token\n",
    "padding_mask = jnp.expand_dims(tokens[:, 1:] != tokenizer.pad_token_id, axis=-1)\n",
    "masked_embeddings = embeddings * padding_mask  # multiply by 0 pad tokens embeddings\n",
    "sequences_lengths = jnp.sum(padding_mask, axis=1)\n",
    "mean_embeddings = jnp.sum(masked_embeddings, axis=1) / sequences_lengths"
   ]
  },
  {
   "cell_type": "code",
   "execution_count": 13,
   "id": "5d4a187a-265e-4125-b33c-3d2266d073c6",
   "metadata": {},
   "outputs": [
    {
     "name": "stdout",
     "output_type": "stream",
     "text": [
      "(2, 2560)\n"
     ]
    }
   ],
   "source": [
    "print(mean_embeddings.shape)"
   ]
  }
 ],
 "metadata": {
  "kernelspec": {
   "display_name": "Python 3 (ipykernel)",
   "language": "python",
   "name": "python3"
  },
  "language_info": {
   "codemirror_mode": {
    "name": "ipython",
    "version": 3
   },
   "file_extension": ".py",
   "mimetype": "text/x-python",
   "name": "python",
   "nbconvert_exporter": "python",
   "pygments_lexer": "ipython3",
   "version": "3.11.1"
  }
 },
 "nbformat": 4,
 "nbformat_minor": 5
}
