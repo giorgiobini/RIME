{
 "cells": [
  {
   "cell_type": "markdown",
   "id": "75fd7e20-8dab-4f31-a886-2801a259b193",
   "metadata": {
    "tags": []
   },
   "source": [
    "# Code"
   ]
  },
  {
   "cell_type": "code",
   "execution_count": 1,
   "id": "a3b7acf7-7061-49e6-b0d7-8480984933f0",
   "metadata": {},
   "outputs": [],
   "source": [
    "its_jupyter_notebook = True"
   ]
  },
  {
   "cell_type": "code",
   "execution_count": 2,
   "id": "685f531f",
   "metadata": {},
   "outputs": [
    {
     "name": "stdout",
     "output_type": "stream",
     "text": [
      "============================================================\n",
      "<class 'transformers.tokenization_dna.DNATokenizer'>\n"
     ]
    }
   ],
   "source": [
    "import pandas as pd\n",
    "import time\n",
    "import os\n",
    "import re\n",
    "import matplotlib.pyplot as plt\n",
    "import time\n",
    "import numpy as np\n",
    "import random\n",
    "import sys\n",
    "import torch\n",
    "import pickle\n",
    "from pathlib import Path\n",
    "from torch.utils.data import DataLoader\n",
    "if its_jupyter_notebook:\n",
    "    sys.argv = [''] #Remove this if it's not a jupyter notebook!\n",
    "sys.path.insert(0, '..')\n",
    "from tqdm.notebook import tqdm\n",
    "import seaborn as sns\n",
    "import util.misc as utils\n",
    "from dataset.data import (\n",
    "    RNADataset,\n",
    "    RNADatasetNT,\n",
    "    RNADatasetNT500,\n",
    "    EasyPosAugment,\n",
    "    InteractionSelectionPolicy,\n",
    "    EasyNegAugment,\n",
    "    HardPosAugment,\n",
    "    HardNegAugment,\n",
    "    SmartNegAugment,\n",
    "    HFDataset,\n",
    "    HFDataLoader, \n",
    "    create_augment_list,\n",
    "    plot_sample,\n",
    "    seed_everything,\n",
    ")\n",
    "from train_binary_cl import seed_worker, obtain_train_dataset, obtain_val_dataset, undersample_df, obtain_policies_object, obtain_dataset_object\n",
    "from config import *"
   ]
  },
  {
   "cell_type": "code",
   "execution_count": 3,
   "id": "48066385-1fd6-437f-a752-7000dbb37295",
   "metadata": {},
   "outputs": [],
   "source": [
    "EASY_PRETRAINING = False\n",
    "FINETUNING = False\n",
    "TRAIN_HQ = True\n",
    "SPECIE = 'human'\n",
    "\n",
    "scaling_factor = 5\n",
    "min_n_groups_train = 5\n",
    "max_n_groups_train = 80\n",
    "min_n_groups_val = 80\n",
    "max_n_groups_val = 80"
   ]
  },
  {
   "cell_type": "markdown",
   "id": "c7c521fe-a601-4537-91e3-65f42519f865",
   "metadata": {},
   "source": [
    "# Esecuzione data loader train"
   ]
  },
  {
   "cell_type": "code",
   "execution_count": 32,
   "id": "8a44d454-ae2e-4905-84db-09b9e4824a49",
   "metadata": {},
   "outputs": [
    {
     "name": "stderr",
     "output_type": "stream",
     "text": [
      "/data01/giorgio/ENTER/envs/dnabert/lib/python3.9/site-packages/IPython/core/interactiveshell.py:3444: DtypeWarning: Columns (1,2,16,17,18,20) have mixed types.Specify dtype option on import or set low_memory=False.\n",
      "  exec(code_obj, self.user_global_ns, self.user_ns)\n"
     ]
    }
   ],
   "source": [
    "if EASY_PRETRAINING:\n",
    "    df_nt = pd.read_csv(os.path.join(metadata_dir, f'df_nt_easy.csv'))\n",
    "    df_genes_nt = pd.read_csv(os.path.join(metadata_dir, f'df_genes_nt_easy.csv'))\n",
    "    subset_train_nt = os.path.join(rna_rna_files_dir, f\"gene_pairs_training_nt_easy.txt\")\n",
    "else:\n",
    "    if TRAIN_HQ:\n",
    "        df_nt = pd.read_csv(os.path.join(metadata_dir, f'df_nt_HQ.csv'))\n",
    "        df_genes_nt = pd.read_csv(os.path.join(metadata_dir, f'df_genes_nt_HQ.csv'))\n",
    "        subset_train_nt = os.path.join(rna_rna_files_dir, 'gene_pairs_training_nt_HQ.txt')\n",
    "    else:\n",
    "        df_nt = pd.read_csv(os.path.join(metadata_dir, f'df_nt.csv'))\n",
    "        df_genes_nt = pd.read_csv(os.path.join(metadata_dir, f'df_genes_nt.csv'))\n",
    "        if FINETUNING:\n",
    "            subset_train_nt = os.path.join(rna_rna_files_dir, f\"gene_pairs_train_val_fine_tuning_nt.txt\")\n",
    "        else:\n",
    "            subset_train_nt = os.path.join(rna_rna_files_dir, f\"gene_pairs_training_nt.txt\")\n",
    "\n",
    "with open(subset_train_nt, \"rb\") as fp:  # Unpickling\n",
    "    list_train = pickle.load(fp)\n",
    "\n",
    "if SPECIE in ['human', 'mouse']:\n",
    "    paris = pd.read_csv(os.path.join(processed_files_dir, f'paris.csv'))\n",
    "    couples_to_keep = set(paris[paris.specie == SPECIE].couples)\n",
    "    df_nt = df_nt[df_nt.couples_id.isin(couples_to_keep)]\n",
    "    \n",
    "vc_train = df_nt[df_nt.couples.isin(list_train)].interacting.value_counts()\n",
    "assert vc_train[False]>vc_train[True]\n",
    "unbalance_factor = 1 - (vc_train[False] - vc_train[True]) / vc_train[False]\n",
    "\n",
    "if EASY_PRETRAINING:\n",
    "    pos_multipliers = {15:0.2, \n",
    "            25:0.3,\n",
    "            50:0.2, \n",
    "            100:0.23, \n",
    "            10_000_000: 0.07}\n",
    "\n",
    "    neg_multipliers = {15:0.05, \n",
    "                    28:0.15,\n",
    "\n",
    "                    40:0.08,\n",
    "                    50:0.05,\n",
    "                    60:0.1,\n",
    "\n",
    "                    80:0.03,\n",
    "                    90:0.03,\n",
    "                    100:0.05,\n",
    "\n",
    "                    110:0.05,\n",
    "\n",
    "                    120:0.1,\n",
    "\n",
    "                    140:0.05,\n",
    "                    160:0.03,\n",
    "                    180:0.03,\n",
    "                    200:0.03,\n",
    "                    220:0.02,\n",
    "                    240:0.01,\n",
    "                    260:0.01,\n",
    "\n",
    "                    10_000_000: 0.1}\n",
    "\n",
    "else:\n",
    "    pos_multipliers = {15:0.2, \n",
    "                   25:0.3,\n",
    "                   50:0.2, \n",
    "                   100:0.23,\n",
    "                   100_000_000:0.07}\n",
    "    neg_multipliers = pos_multipliers\n",
    "    \n",
    "policies_train = [\n",
    "    EasyPosAugment(\n",
    "        per_sample=0.5,\n",
    "        interaction_selection=InteractionSelectionPolicy.LARGEST,\n",
    "        width_multipliers=pos_multipliers,\n",
    "        height_multipliers=pos_multipliers,\n",
    "    ),  \n",
    "    SmartNegAugment(\n",
    "        per_sample=unbalance_factor * 0.5,\n",
    "        interaction_selection=InteractionSelectionPolicy.LARGEST,\n",
    "        width_multipliers=neg_multipliers,\n",
    "        height_multipliers=neg_multipliers,\n",
    "    ),\n",
    "]"
   ]
  },
  {
   "cell_type": "code",
   "execution_count": 33,
   "id": "546620ac-52a6-414f-b58d-e6a26ed59e67",
   "metadata": {},
   "outputs": [
    {
     "data": {
      "text/plain": [
       "1.0"
      ]
     },
     "execution_count": 33,
     "metadata": {},
     "output_type": "execute_result"
    }
   ],
   "source": [
    "np.sum(list(neg_multipliers.values()))"
   ]
  },
  {
   "cell_type": "code",
   "execution_count": 34,
   "id": "3fc98596-20df-4631-91ae-72863680203a",
   "metadata": {},
   "outputs": [],
   "source": [
    "dataset_paris = RNADatasetNT(\n",
    "            gene2info=df_genes_nt,\n",
    "            interactions=df_nt,\n",
    "            subset_file=subset_train_nt,\n",
    "            augment_policies=policies_train,\n",
    "            data_dir = os.path.join(embedding_dir, '32'),\n",
    "            scaling_factor = scaling_factor,\n",
    "            min_n_groups = min_n_groups_train,\n",
    "            max_n_groups = max_n_groups_train,\n",
    ")"
   ]
  },
  {
   "cell_type": "code",
   "execution_count": 35,
   "id": "bea1fba1-02b8-48ff-bb12-f5c3affe7b94",
   "metadata": {},
   "outputs": [
    {
     "data": {
      "application/vnd.jupyter.widget-view+json": {
       "model_id": "33ac981828d3425f98baed3f342b6541",
       "version_major": 2,
       "version_minor": 0
      },
      "text/plain": [
       "  0%|          | 0/5 [00:00<?, ?it/s]"
      ]
     },
     "metadata": {},
     "output_type": "display_data"
    },
    {
     "data": {
      "application/vnd.jupyter.widget-view+json": {
       "model_id": "7c6ca90717e84fdb8e31b8c001cdfcf5",
       "version_major": 2,
       "version_minor": 0
      },
      "text/plain": [
       "  0%|          | 0/28035 [00:00<?, ?it/s]"
      ]
     },
     "metadata": {},
     "output_type": "display_data"
    },
    {
     "data": {
      "application/vnd.jupyter.widget-view+json": {
       "model_id": "a20a435937324bf9abae186554faaa6a",
       "version_major": 2,
       "version_minor": 0
      },
      "text/plain": [
       "  0%|          | 0/27963 [00:00<?, ?it/s]"
      ]
     },
     "metadata": {},
     "output_type": "display_data"
    },
    {
     "data": {
      "application/vnd.jupyter.widget-view+json": {
       "model_id": "2e24851dd0cf49ea87f61b89b7b42251",
       "version_major": 2,
       "version_minor": 0
      },
      "text/plain": [
       "  0%|          | 0/28118 [00:00<?, ?it/s]"
      ]
     },
     "metadata": {},
     "output_type": "display_data"
    },
    {
     "data": {
      "application/vnd.jupyter.widget-view+json": {
       "model_id": "ced5d1611b24439eb9d3dd324a0e59f2",
       "version_major": 2,
       "version_minor": 0
      },
      "text/plain": [
       "  0%|          | 0/28230 [00:00<?, ?it/s]"
      ]
     },
     "metadata": {},
     "output_type": "display_data"
    },
    {
     "data": {
      "application/vnd.jupyter.widget-view+json": {
       "model_id": "87881b1010d54b53bd4b428f8cb9eafc",
       "version_major": 2,
       "version_minor": 0
      },
      "text/plain": [
       "  0%|          | 0/28046 [00:00<?, ?it/s]"
      ]
     },
     "metadata": {},
     "output_type": "display_data"
    }
   ],
   "source": [
    "n_epochs = 5\n",
    "neg_len_1 = []\n",
    "pos_len_1 = []\n",
    "neg_len_2 = []\n",
    "pos_len_2 = []\n",
    "matrix_area_neg = []\n",
    "matrix_area_pos = []\n",
    "\n",
    "all_couples_id = []\n",
    "\n",
    "for epoch in tqdm(range(n_epochs)):\n",
    "    dataset_train = RNADatasetNT(\n",
    "            gene2info=df_genes_nt,\n",
    "            interactions=df_nt,\n",
    "            subset_file=subset_train_nt,\n",
    "            augment_policies=policies_train,\n",
    "            data_dir = os.path.join(embedding_dir, '32'),\n",
    "            scaling_factor = scaling_factor,\n",
    "            min_n_groups = min_n_groups_train,\n",
    "            max_n_groups = max_n_groups_train,\n",
    "    )\n",
    "    for sample in tqdm(dataset_train, total=len(dataset_train)):\n",
    "        box = sample.bbox\n",
    "        if sample.interacting:\n",
    "            pos_len_1.append(box.x2-box.x1)\n",
    "            pos_len_2.append(box.y2-box.y1)\n",
    "            matrix_area_pos.append((box.x2-box.x1)*(box.y2-box.y1))\n",
    "        else:\n",
    "            neg_len_1.append(box.x2-box.x1)\n",
    "            neg_len_2.append(box.y2-box.y1)\n",
    "            matrix_area_neg.append((box.x2-box.x1)*(box.y2-box.y1))\n",
    "            \n",
    "        g1 = re.search('(.*)_(.*)_(.*)', sample.gene1).group(1)\n",
    "        g2 = re.search('(.*)_(.*)_(.*)', sample.gene2).group(1)\n",
    "        all_couples_id.append(g1 + '_' + g2)\n",
    "        all_couples_id.append(g2 + '_' + g1)\n",
    "            \n",
    "neg_len = neg_len_1+neg_len_2\n",
    "pos_len = pos_len_1+pos_len_2\n",
    "label_n = ['n' for i in range(len(neg_len))]\n",
    "label_p = ['p' for i in range(len(pos_len))]\n",
    "label = label_n + label_p\n",
    "length = neg_len + pos_len\n",
    "df_len = pd.DataFrame({'label':label, 'length':length})"
   ]
  },
  {
   "cell_type": "code",
   "execution_count": 36,
   "id": "5671a366-fdc2-4053-a43b-d625f6ff9c7e",
   "metadata": {},
   "outputs": [],
   "source": [
    "# plot_sample(sample, plot_interaction_negatives=True)"
   ]
  },
  {
   "cell_type": "code",
   "execution_count": 37,
   "id": "c6fbfee5-95bc-4640-a6b7-4ddc284b74dc",
   "metadata": {},
   "outputs": [
    {
     "data": {
      "text/plain": [
       "p    140544\n",
       "n    140240\n",
       "Name: label, dtype: int64"
      ]
     },
     "execution_count": 37,
     "metadata": {},
     "output_type": "execute_result"
    }
   ],
   "source": [
    "df_len.label.value_counts()"
   ]
  },
  {
   "cell_type": "code",
   "execution_count": 38,
   "id": "91dca285-31e4-46d8-a4b9-7227f04afa61",
   "metadata": {},
   "outputs": [
    {
     "data": {
      "text/plain": [
       "n    290\n",
       "p    210\n",
       "Name: label, dtype: int64"
      ]
     },
     "execution_count": 38,
     "metadata": {},
     "output_type": "execute_result"
    }
   ],
   "source": [
    "df_len.sort_values('length').head(500).label.value_counts()"
   ]
  },
  {
   "cell_type": "code",
   "execution_count": 39,
   "id": "6b96d186-d595-4c32-925c-61eff6355281",
   "metadata": {},
   "outputs": [
    {
     "data": {
      "text/plain": [
       "1.0416666666666665"
      ]
     },
     "execution_count": 39,
     "metadata": {},
     "output_type": "execute_result"
    }
   ],
   "source": [
    "(float(df_len.sort_values('length').quantile(0.2))/6)/80"
   ]
  },
  {
   "cell_type": "code",
   "execution_count": 40,
   "id": "cd242dd9-8e63-445c-a218-6b45ef6c8b78",
   "metadata": {},
   "outputs": [
    {
     "data": {
      "text/plain": [
       "1.96875"
      ]
     },
     "execution_count": 40,
     "metadata": {},
     "output_type": "execute_result"
    }
   ],
   "source": [
    "(float(df_len.sort_values('length').quantile(0.5))/6)/80"
   ]
  },
  {
   "cell_type": "code",
   "execution_count": 41,
   "id": "bcfcd036-7502-4ea5-b17f-dc91ff76ae99",
   "metadata": {},
   "outputs": [],
   "source": [
    "#balance set\n",
    "assert abs(df_len.label.value_counts().n/df_len.shape[0] - 0.5) < 0.05"
   ]
  },
  {
   "cell_type": "code",
   "execution_count": 42,
   "id": "45b2461c-6fa4-4ac5-9988-b7fd3086018b",
   "metadata": {},
   "outputs": [
    {
     "data": {
      "image/png": "[encoded data removed]",
      "text/plain": [
       "<Figure size 432x288 with 1 Axes>"
      ]
     },
     "metadata": {
      "needs_background": "light"
     },
     "output_type": "display_data"
    },
    {
     "data": {
      "image/png": "[encoded data removed]",
      "text/plain": [
       "<Figure size 432x288 with 1 Axes>"
      ]
     },
     "metadata": {
      "needs_background": "light"
     },
     "output_type": "display_data"
    }
   ],
   "source": [
    "sns.kdeplot(df_len[df_len.label == 'n'].length, color = 'red', label = 'negative')\n",
    "sns.kdeplot(df_len[df_len.label == 'p'].length, color = 'blue', label = 'positive')\n",
    "plt.title(f'Length distribution')\n",
    "plt.legend()\n",
    "plt.show()\n",
    "sns.kdeplot(matrix_area_neg, color = 'red', label = 'negative')\n",
    "sns.kdeplot(matrix_area_pos, color = 'blue', label = 'positive')\n",
    "plt.title(f'Matrix area distribution')\n",
    "plt.legend()\n",
    "plt.show()"
   ]
  },
  {
   "cell_type": "code",
   "execution_count": 43,
   "id": "de5aa0f6-dc70-4b2d-abff-51f40f7951a2",
   "metadata": {},
   "outputs": [
    {
     "data": {
      "image/png": "[encoded data removed]",
      "text/plain": [
       "<Figure size 432x288 with 1 Axes>"
      ]
     },
     "metadata": {
      "needs_background": "light"
     },
     "output_type": "display_data"
    }
   ],
   "source": [
    "sns.kdeplot(neg_len_1, color = 'red', label = 'gene1_negative')\n",
    "sns.kdeplot(pos_len_1, color = 'green', label = 'gene1_positive')\n",
    "sns.kdeplot(neg_len_2, color = 'blue', label = 'gene2_negative')\n",
    "sns.kdeplot(pos_len_2, color = 'black', label = 'gene2_positive')\n",
    "plt.title(f'Length distribution between gene1 and gene2')\n",
    "plt.legend()\n",
    "plt.show()"
   ]
  },
  {
   "cell_type": "code",
   "execution_count": 44,
   "id": "a03e1fa8-7c44-49e0-a356-e00384272f83",
   "metadata": {},
   "outputs": [
    {
     "name": "stdout",
     "output_type": "stream",
     "text": [
      "n    15613\n",
      "p    12448\n",
      "Name: label, dtype: int64\n",
      "\n",
      "\n",
      "p    43558\n",
      "n    37095\n",
      "Name: label, dtype: int64\n"
     ]
    }
   ],
   "source": [
    "small_l = df_len.length.quantile(0.1)\n",
    "print(df_len[df_len['length'] < small_l].label.value_counts())\n",
    "print('\\n')\n",
    "big_l = df_len.length.quantile(0.7)\n",
    "print(df_len[df_len['length'] > big_l].label.value_counts())"
   ]
  },
  {
   "cell_type": "markdown",
   "id": "16298e21-c768-4228-a039-3f843ae3f0ce",
   "metadata": {},
   "source": [
    "# Validation set "
   ]
  },
  {
   "cell_type": "code",
   "execution_count": 44,
   "id": "1141d3e0-5892-4401-855f-a2e935e99cfb",
   "metadata": {},
   "outputs": [],
   "source": [
    "EASY_PRETRAINING = False\n",
    "SPECIE = 'human'"
   ]
  },
  {
   "cell_type": "code",
   "execution_count": 45,
   "id": "6383cb8a-32fd-43b3-ae4d-aefc43284e0d",
   "metadata": {},
   "outputs": [
    {
     "name": "stderr",
     "output_type": "stream",
     "text": [
      "/data01/giorgio/ENTER/envs/dnabert/lib/python3.9/site-packages/IPython/core/interactiveshell.py:3444: DtypeWarning: Columns (1,2,16,17,18,20) have mixed types.Specify dtype option on import or set low_memory=False.\n",
      "  exec(code_obj, self.user_global_ns, self.user_ns)\n"
     ]
    }
   ],
   "source": [
    "if SPECIE in ['human', 'mouse']:\n",
    "    paris = pd.read_csv(os.path.join(processed_files_dir, f'paris.csv'))\n",
    "    couples_to_keep = set(paris[paris.specie == SPECIE].couples)\n",
    "\n",
    "if EASY_PRETRAINING:\n",
    "    df_nt = pd.read_csv(os.path.join(metadata_dir, f'df_nt_easy.csv'))\n",
    "    df_genes_nt = pd.read_csv(os.path.join(metadata_dir, f'df_genes_nt_easy.csv'))\n",
    "    subset_val_nt = os.path.join(rna_rna_files_dir, f\"gene_pairs_val_sampled_nt_easy.txt\")\n",
    "    if SPECIE in ['human', 'mouse']:\n",
    "        df_nt = df_nt[df_nt.couples_id.isin(couples_to_keep)]\n",
    "else:\n",
    "    df_nt = pd.read_csv(os.path.join(metadata_dir, f'df_nt_HQ.csv'))\n",
    "    df_genes_nt = pd.read_csv(os.path.join(metadata_dir, f'df_genes_nt_HQ.csv'))\n",
    "    if FINETUNING:\n",
    "        subset_val_nt = os.path.join(rna_rna_files_dir, f\"gene_pairs_test_sampled_nt_HQ.txt\") # gene_pairs_test_sampled_nt.txt it is also HQ\n",
    "        df500 = pd.read_csv(os.path.join(metadata_dir, f'test500.csv'))\n",
    "    else:\n",
    "        subset_val_nt = os.path.join(rna_rna_files_dir, f\"gene_pairs_val_sampled_nt_HQ.txt\") # gene_pairs_val_sampled_nt.txt it is also HQ\n",
    "        df500 = pd.read_csv(os.path.join(metadata_dir, f'val500.csv'))\n",
    "\n",
    "    with open(subset_val_nt, \"rb\") as fp:  # Unpickling\n",
    "        list_val = pickle.load(fp)\n",
    "        \n",
    "    if SPECIE in ['human', 'mouse']:\n",
    "        df_nt = df_nt[df_nt.couples_id.isin(couples_to_keep)]\n",
    "    elif SPECIE == 'all':\n",
    "        assert df500.shape[0] == df_nt[['couples', 'interacting', 'policy']].merge(df500, on = 'couples').shape[0]\n",
    "        \n",
    "    df500 = df_nt[['couples', 'interacting', 'policy']].merge(df500, on = 'couples')\n",
    "    df500 = df500[df500.couples.isin(list_val)] # in questo modo ho quasi bilanciato del tutto, ma per avere un bilanciamento al 100% devo fare undersampling\n",
    "    df500 = undersample_df(df500) #bilanciamento al 100%.\n",
    "\n",
    "if EASY_PRETRAINING:\n",
    "    pos_multipliers = {25:0.7, 50:0.2, 100:0.1}\n",
    "    neg_multipliers = {33:0.3, 45:0.1, 55:0.1, 65:0.1,\n",
    "                       80:0.05, 90:0.05, 100:0.05,\n",
    "                       120:0.05, 150:0.02, 160:0.02,\n",
    "                       170:0.02, 180:0.02, 190:0.02,\n",
    "                       200:0.02, 210:0.02, 220:0.02}\n",
    "\n",
    "    policies_val = [\n",
    "        EasyPosAugment(\n",
    "            per_sample=1,\n",
    "            interaction_selection=InteractionSelectionPolicy.LARGEST,\n",
    "            width_multipliers=pos_multipliers,\n",
    "            height_multipliers=pos_multipliers,\n",
    "        ),  \n",
    "        SmartNegAugment(\n",
    "            per_sample=1, # unbalance_factor\n",
    "            interaction_selection=InteractionSelectionPolicy.LARGEST,\n",
    "            width_multipliers=neg_multipliers,\n",
    "            height_multipliers=neg_multipliers,\n",
    "        ),\n",
    "    ]\n",
    "\n",
    "    dataset_val = RNADatasetNT(\n",
    "        gene2info=df_genes_nt,\n",
    "        interactions=df_nt,\n",
    "        subset_file=subset_val_nt,\n",
    "        augment_policies=policies_val,\n",
    "        data_dir = os.path.join(embedding_dir, '32'),\n",
    "        scaling_factor = scaling_factor,\n",
    "        min_n_groups = min_n_groups_val,\n",
    "        max_n_groups = max_n_groups_val,\n",
    "    )\n",
    "\n",
    "else:\n",
    "\n",
    "    df500 = df500.sample(frac=1, random_state=23).reset_index(drop = True)\n",
    "    assert df500.shape[0]>0\n",
    "\n",
    "    dataset_val = RNADatasetNT500(\n",
    "        df = df500,\n",
    "        data_dir = os.path.join(embedding_dir, '32'),\n",
    "        scaling_factor = scaling_factor,\n",
    "        min_n_groups = min_n_groups_val,\n",
    "        max_n_groups = max_n_groups_val,\n",
    "    )\n",
    "sampler_val = torch.utils.data.SequentialSampler(dataset_val)"
   ]
  },
  {
   "cell_type": "code",
   "execution_count": 49,
   "id": "5977ee69-6a32-419a-8670-fb3b732067c0",
   "metadata": {},
   "outputs": [
    {
     "data": {
      "text/plain": [
       "0.9600000000000001"
      ]
     },
     "execution_count": 49,
     "metadata": {},
     "output_type": "execute_result"
    }
   ],
   "source": [
    "np.sum(list(neg_multipliers.values()))"
   ]
  },
  {
   "cell_type": "code",
   "execution_count": 50,
   "id": "720eec94-577f-476b-967c-0e72dc3391e7",
   "metadata": {},
   "outputs": [
    {
     "data": {
      "application/vnd.jupyter.widget-view+json": {
       "model_id": "f07baa9500cf429a8ec6f54450e3e27d",
       "version_major": 2,
       "version_minor": 0
      },
      "text/plain": [
       "  0%|          | 0/5 [00:00<?, ?it/s]"
      ]
     },
     "metadata": {},
     "output_type": "display_data"
    },
    {
     "data": {
      "application/vnd.jupyter.widget-view+json": {
       "model_id": "dbffb50602c74979a8cb71afc8d1ee70",
       "version_major": 2,
       "version_minor": 0
      },
      "text/plain": [
       "  0%|          | 0/12230 [00:00<?, ?it/s]"
      ]
     },
     "metadata": {},
     "output_type": "display_data"
    },
    {
     "data": {
      "application/vnd.jupyter.widget-view+json": {
       "model_id": "c0b905011cb644be824807a04134e50f",
       "version_major": 2,
       "version_minor": 0
      },
      "text/plain": [
       "  0%|          | 0/12230 [00:00<?, ?it/s]"
      ]
     },
     "metadata": {},
     "output_type": "display_data"
    },
    {
     "data": {
      "application/vnd.jupyter.widget-view+json": {
       "model_id": "c27b1b2c9ead490eba3a4aaedd8ecba4",
       "version_major": 2,
       "version_minor": 0
      },
      "text/plain": [
       "  0%|          | 0/12230 [00:00<?, ?it/s]"
      ]
     },
     "metadata": {},
     "output_type": "display_data"
    },
    {
     "data": {
      "application/vnd.jupyter.widget-view+json": {
       "model_id": "2f2115fc2bdf4e1db0cbbec9de0043da",
       "version_major": 2,
       "version_minor": 0
      },
      "text/plain": [
       "  0%|          | 0/12230 [00:00<?, ?it/s]"
      ]
     },
     "metadata": {},
     "output_type": "display_data"
    },
    {
     "data": {
      "application/vnd.jupyter.widget-view+json": {
       "model_id": "d678937a848e4a3cb9e005ebb9ea6ea7",
       "version_major": 2,
       "version_minor": 0
      },
      "text/plain": [
       "  0%|          | 0/12230 [00:00<?, ?it/s]"
      ]
     },
     "metadata": {},
     "output_type": "display_data"
    },
    {
     "name": "stdout",
     "output_type": "stream",
     "text": [
      "median: 500.0\n"
     ]
    },
    {
     "data": {
      "text/plain": [
       "<matplotlib.legend.Legend at 0x7f56610a29a0>"
      ]
     },
     "execution_count": 50,
     "metadata": {},
     "output_type": "execute_result"
    },
    {
     "data": {
      "image/png": "[encoded data removed]",
      "text/plain": [
       "<Figure size 432x288 with 1 Axes>"
      ]
     },
     "metadata": {
      "needs_background": "light"
     },
     "output_type": "display_data"
    }
   ],
   "source": [
    "neg_len_1 = []\n",
    "pos_len_1 = []\n",
    "neg_len_2 = []\n",
    "pos_len_2 = []\n",
    "matrix_area_neg = []\n",
    "matrix_area_pos = []\n",
    "\n",
    "for epoch in tqdm(range(n_epochs)):\n",
    "    for sample in tqdm(dataset_val, total=len(dataset_val)):\n",
    "        box = sample.bbox\n",
    "        if sample.interacting:\n",
    "            pos_len_1.append(box.x2-box.x1)\n",
    "            pos_len_2.append(box.y2-box.y1)\n",
    "            matrix_area_pos.append((box.x2-box.x1)*(box.y2-box.y1))\n",
    "        else:\n",
    "            neg_len_1.append(box.x2-box.x1)\n",
    "            neg_len_2.append(box.y2-box.y1)\n",
    "            matrix_area_neg.append((box.x2-box.x1)*(box.y2-box.y1))\n",
    "        \n",
    "neg_len = neg_len_1+neg_len_2\n",
    "pos_len = pos_len_1+pos_len_2\n",
    "label_n = ['n' for i in range(len(neg_len))]\n",
    "label_p = ['p' for i in range(len(pos_len))]\n",
    "label = label_n + label_p\n",
    "length = neg_len + pos_len\n",
    "df_len = pd.DataFrame({'label':label, 'length':length})\n",
    "\n",
    "print('median:', df_len.length.median())\n",
    "\n",
    "sns.kdeplot(df_len[df_len.label == 'n'].length, color = 'red', label = 'negative')\n",
    "sns.kdeplot(df_len[df_len.label == 'p'].length, color = 'blue', label = 'positive')\n",
    "plt.title(f'Length distribution')\n",
    "plt.legend()"
   ]
  },
  {
   "cell_type": "markdown",
   "id": "7946ca33-65b6-4a8c-a7b7-99b5e77fb79e",
   "metadata": {},
   "source": [
    "# Esecuzione data loader external dataset"
   ]
  },
  {
   "cell_type": "code",
   "execution_count": 36,
   "id": "2c93c195-edca-4786-ac08-3fdd541c08ec",
   "metadata": {},
   "outputs": [],
   "source": [
    "dataset = 'splash'\n",
    "\n",
    "df_nt = pd.read_csv(os.path.join(metadata_dir, f'df_nt_{dataset}.csv'))\n",
    "df_genes_nt = pd.read_csv(os.path.join(metadata_dir, f'df_genes_nt_{dataset}.csv'))\n",
    "data_dir = os.path.join(rna_rna_files_dir, f'{dataset}')\n",
    "file_training = os.path.join(data_dir, 'gene_pairs_training.txt')\n",
    "with open(file_training, \"rb\") as fp:   # Unpickling\n",
    "    train_couples = pickle.load(fp)\n",
    "    \n",
    "file_test = os.path.join(data_dir, 'gene_pairs_test.txt')\n",
    "with open(file_test, \"rb\") as fp:   # Unpickling\n",
    "    test_couples = pickle.load(fp)\n",
    "    \n",
    "train_nt = df_nt[df_nt.couples_id.isin(train_couples)].reset_index(drop = True)\n",
    "test_nt = df_nt[df_nt.couples_id.isin(test_couples)].reset_index(drop = True)"
   ]
  },
  {
   "cell_type": "code",
   "execution_count": 37,
   "id": "773db251-b112-46ec-8ae8-aba7da22d63f",
   "metadata": {},
   "outputs": [],
   "source": [
    "scaling_factor = 5\n",
    "\n",
    "if dataset == 'splash':\n",
    "    pos_multipliers = {5:0.7, 15:0.2, 50:0.1, 100:0.1}\n",
    "    neg_multipliers = {5:0.7, 15:0.2, 50:0.1, 100:0.1}\n",
    "\n",
    "elif dataset == 'mario':\n",
    "    pos_multipliers = {5:0.7, 15:0.2, 50:0.1, 100:0.1}\n",
    "    neg_multipliers = {5:0.1, 6:0.5, 15:0.2, 50:0.13, 100:0.13}\n",
    "\n",
    "elif dataset == 'ricseq':\n",
    "    pos_multipliers = {5:0.7, 25:0.1, 70:0.1, 100:0.1}\n",
    "    neg_multipliers = {5:0.02, 10:0.85, \n",
    "                       70:0.02, 80:0.02, 90:0.02,\n",
    "                       100:0.2}\n",
    "\n",
    "vc_train = train_nt.interacting.value_counts()\n",
    "if vc_train[False]>vc_train[True]:\n",
    "    unbalance_factor = 1 - (vc_train[False] - vc_train[True]) / vc_train[False]\n",
    "    policies_train = obtain_policies_object(0.25, 0.25*unbalance_factor, pos_multipliers, neg_multipliers)\n",
    "elif vc_train[False]<vc_train[True]:\n",
    "    unbalance_factor = 1 - (vc_train[True] - vc_train[False]) / vc_train[True]\n",
    "    policies_train = obtain_policies_object(0.25*unbalance_factor, 0.25, pos_multipliers, neg_multipliers)\n",
    "elif vc_train[True]==vc_train[True]:\n",
    "    unbalance_factor = 1"
   ]
  },
  {
   "cell_type": "code",
   "execution_count": 38,
   "id": "2fc09dbe-4642-446f-b04c-9ec9c7743252",
   "metadata": {},
   "outputs": [],
   "source": [
    "if dataset == 'ricseq':\n",
    "    dataset_ricseq = obtain_dataset_object(policies_train, df_genes_nt, train_nt, '', scaling_factor, min_n_groups_train, max_n_groups_train)\n",
    "elif dataset == 'splash':\n",
    "    dataset_splash = obtain_dataset_object(policies_train, df_genes_nt, train_nt, '', scaling_factor, min_n_groups_train, max_n_groups_train)"
   ]
  },
  {
   "cell_type": "code",
   "execution_count": 39,
   "id": "e320a684-518c-4906-af6a-e43bafc8dfcd",
   "metadata": {},
   "outputs": [
    {
     "data": {
      "application/vnd.jupyter.widget-view+json": {
       "model_id": "089f92dc227f44a298019f0315eb8d17",
       "version_major": 2,
       "version_minor": 0
      },
      "text/plain": [
       "  0%|          | 0/100 [00:00<?, ?it/s]"
      ]
     },
     "metadata": {},
     "output_type": "display_data"
    }
   ],
   "source": [
    "n_epochs = 100\n",
    "neg_len_1 = []\n",
    "pos_len_1 = []\n",
    "neg_len_2 = []\n",
    "pos_len_2 = []\n",
    "matrix_area_neg = []\n",
    "matrix_area_pos = []\n",
    "\n",
    "all_couples_id = []\n",
    "\n",
    "for epoch in tqdm(range(n_epochs)):\n",
    "    dataset_train = obtain_dataset_object(policies_train, df_genes_nt, train_nt, '', scaling_factor, min_n_groups_train, max_n_groups_train)\n",
    "    for sample in dataset_train:\n",
    "        box = sample.bbox\n",
    "        if sample.interacting:\n",
    "            pos_len_1.append(box.x2-box.x1)\n",
    "            pos_len_2.append(box.y2-box.y1)\n",
    "            matrix_area_pos.append((box.x2-box.x1)*(box.y2-box.y1))\n",
    "        else:\n",
    "            neg_len_1.append(box.x2-box.x1)\n",
    "            neg_len_2.append(box.y2-box.y1)\n",
    "            matrix_area_neg.append((box.x2-box.x1)*(box.y2-box.y1))\n",
    "            \n",
    "        g1 = re.search('(.*)_(.*)_(.*)', sample.gene1).group(1)\n",
    "        g2 = re.search('(.*)_(.*)_(.*)', sample.gene2).group(1)\n",
    "        all_couples_id.append(g1 + '_' + g2)\n",
    "        all_couples_id.append(g2 + '_' + g1)\n",
    "        \n",
    "neg_len = neg_len_1+neg_len_2\n",
    "pos_len = pos_len_1+pos_len_2\n",
    "label_n = ['n' for i in range(len(neg_len))]\n",
    "label_p = ['p' for i in range(len(pos_len))]\n",
    "label = label_n + label_p\n",
    "length = neg_len + pos_len\n",
    "df_len = pd.DataFrame({'label':label, 'length':length})"
   ]
  },
  {
   "cell_type": "code",
   "execution_count": 40,
   "id": "e9671e85-6078-4828-8781-e260ad65fc55",
   "metadata": {},
   "outputs": [
    {
     "name": "stdout",
     "output_type": "stream",
     "text": [
      "1437\n",
      "619\n",
      "2865\n",
      "\n",
      "\n",
      "1437\n",
      "26\n",
      "\n",
      "\n",
      "0\n",
      "593\n"
     ]
    }
   ],
   "source": [
    "print(len(set(train_couples)))\n",
    "print(len(set(test_couples)))\n",
    "print(len(set(all_couples_id)))\n",
    "print('\\n')\n",
    "print(len(set(all_couples_id).intersection(train_couples)))\n",
    "print(len(set(all_couples_id).intersection(test_couples)))\n",
    "print('\\n')\n",
    "print(len(set(train_couples) - set(all_couples_id)))\n",
    "print(len(set(test_couples) - set(all_couples_id)))"
   ]
  },
  {
   "cell_type": "code",
   "execution_count": 41,
   "id": "d0d8177e-099f-4a3b-835e-7700c539ccd4",
   "metadata": {},
   "outputs": [
    {
     "data": {
      "text/plain": [
       "n    36158\n",
       "p    36046\n",
       "Name: label, dtype: int64"
      ]
     },
     "execution_count": 41,
     "metadata": {},
     "output_type": "execute_result"
    }
   ],
   "source": [
    "df_len.label.value_counts()"
   ]
  },
  {
   "cell_type": "code",
   "execution_count": 42,
   "id": "b6915621-79de-44f6-a771-4923e59b7f3f",
   "metadata": {},
   "outputs": [
    {
     "data": {
      "text/plain": [
       "n    500\n",
       "Name: label, dtype: int64"
      ]
     },
     "execution_count": 42,
     "metadata": {},
     "output_type": "execute_result"
    }
   ],
   "source": [
    "df_len.sort_values('length').head(500).label.value_counts()"
   ]
  },
  {
   "cell_type": "code",
   "execution_count": 43,
   "id": "c0b6d8e1-6dc0-48f3-a70f-1066c7ce38e2",
   "metadata": {},
   "outputs": [],
   "source": [
    "#balance set\n",
    "assert abs(df_len.label.value_counts().n/df_len.shape[0] - 0.5) < 0.05"
   ]
  },
  {
   "cell_type": "code",
   "execution_count": 44,
   "id": "5825215a-434e-4cce-acfe-74b555784a12",
   "metadata": {},
   "outputs": [
    {
     "data": {
      "image/png": "[encoded data removed]",
      "text/plain": [
       "<Figure size 432x288 with 1 Axes>"
      ]
     },
     "metadata": {
      "needs_background": "light"
     },
     "output_type": "display_data"
    },
    {
     "data": {
      "image/png": "[encoded data removed]",
      "text/plain": [
       "<Figure size 432x288 with 1 Axes>"
      ]
     },
     "metadata": {
      "needs_background": "light"
     },
     "output_type": "display_data"
    }
   ],
   "source": [
    "sns.kdeplot(df_len[df_len.label == 'n'].length, color = 'red', label = 'negative')\n",
    "sns.kdeplot(df_len[df_len.label == 'p'].length, color = 'blue', label = 'positive')\n",
    "plt.title(f'Length distribution')\n",
    "plt.legend()\n",
    "plt.show()\n",
    "sns.kdeplot(matrix_area_neg, color = 'red', label = 'negative')\n",
    "sns.kdeplot(matrix_area_pos, color = 'blue', label = 'positive')\n",
    "plt.title(f'Matrix area distribution')\n",
    "plt.legend()\n",
    "plt.show()"
   ]
  },
  {
   "cell_type": "markdown",
   "id": "e5fce0fc-0a24-4fad-8288-6f9118e43f8c",
   "metadata": {},
   "source": [
    "### Validation"
   ]
  },
  {
   "cell_type": "code",
   "execution_count": 170,
   "id": "8b0974e6-8359-49e4-8c7f-884741dba629",
   "metadata": {},
   "outputs": [],
   "source": [
    "dataset = 'mario'"
   ]
  },
  {
   "cell_type": "code",
   "execution_count": 150,
   "id": "7faa0874-207e-4301-8d65-a075c6e5c0eb",
   "metadata": {},
   "outputs": [],
   "source": [
    "df_nt = pd.read_csv(os.path.join(metadata_dir, f'df_nt_{dataset}.csv'))\n",
    "data_dir = os.path.join(rna_rna_files_dir, f'{dataset}')\n",
    "\n",
    "file_test = os.path.join(data_dir, 'gene_pairs_test.txt')\n",
    "with open(file_test, \"rb\") as fp:   # Unpickling\n",
    "    test_couples = pickle.load(fp)\n",
    "\n",
    "df500 = pd.read_csv(os.path.join(metadata_dir, f'{dataset}500.csv'))\n",
    "assert df500.shape[0] == df_nt[['couples', 'couples_id', 'interacting', 'policy']].merge(df500, on = 'couples').shape[0]\n",
    "df500 = df_nt[['couples', 'interacting', 'policy', 'couples_id']].merge(df500, on = 'couples')\n",
    "df500 = df500[df500.couples_id.isin(test_couples)]\n",
    "df500 = df500[df500.policy.isin(['easypos', 'smartneg'])]\n",
    "df500 = undersample_df(df500)\n",
    "\n",
    "df500 = df500.sample(frac=1, random_state=23).reset_index(drop = True)\n",
    "assert df500.shape[0]>0\n",
    "\n",
    "dataset_val = RNADatasetNT500(\n",
    "    df = df500,\n",
    "    data_dir = os.path.join(embedding_dir, '32'),\n",
    "    scaling_factor = scaling_factor,\n",
    "    min_n_groups = min_n_groups_val,\n",
    "    max_n_groups = max_n_groups_val,\n",
    ")\n",
    "sampler_val = torch.utils.data.SequentialSampler(dataset_val)"
   ]
  },
  {
   "cell_type": "code",
   "execution_count": 151,
   "id": "39535d93-20c2-464a-b2d6-3e44d04d7d95",
   "metadata": {},
   "outputs": [
    {
     "data": {
      "application/vnd.jupyter.widget-view+json": {
       "model_id": "b23119ebd8704b57813382b83eb431ad",
       "version_major": 2,
       "version_minor": 0
      },
      "text/plain": [
       "  0%|          | 0/10 [00:00<?, ?it/s]"
      ]
     },
     "metadata": {},
     "output_type": "display_data"
    },
    {
     "data": {
      "application/vnd.jupyter.widget-view+json": {
       "model_id": "a6b0c93ae15f4759941bf64abb81ce79",
       "version_major": 2,
       "version_minor": 0
      },
      "text/plain": [
       "  0%|          | 0/592 [00:00<?, ?it/s]"
      ]
     },
     "metadata": {},
     "output_type": "display_data"
    },
    {
     "data": {
      "application/vnd.jupyter.widget-view+json": {
       "model_id": "5116ecc670114f0694eee4bc80d470d5",
       "version_major": 2,
       "version_minor": 0
      },
      "text/plain": [
       "  0%|          | 0/592 [00:00<?, ?it/s]"
      ]
     },
     "metadata": {},
     "output_type": "display_data"
    },
    {
     "data": {
      "application/vnd.jupyter.widget-view+json": {
       "model_id": "f6def70977ae4ebeb33356a4f7122340",
       "version_major": 2,
       "version_minor": 0
      },
      "text/plain": [
       "  0%|          | 0/592 [00:00<?, ?it/s]"
      ]
     },
     "metadata": {},
     "output_type": "display_data"
    },
    {
     "data": {
      "application/vnd.jupyter.widget-view+json": {
       "model_id": "ea71adb2dd104e219eb35e18fc929c2c",
       "version_major": 2,
       "version_minor": 0
      },
      "text/plain": [
       "  0%|          | 0/592 [00:00<?, ?it/s]"
      ]
     },
     "metadata": {},
     "output_type": "display_data"
    },
    {
     "data": {
      "application/vnd.jupyter.widget-view+json": {
       "model_id": "fa1feabf33d14347b1c77e997f4197c8",
       "version_major": 2,
       "version_minor": 0
      },
      "text/plain": [
       "  0%|          | 0/592 [00:00<?, ?it/s]"
      ]
     },
     "metadata": {},
     "output_type": "display_data"
    },
    {
     "data": {
      "application/vnd.jupyter.widget-view+json": {
       "model_id": "14cd0de2de6c4e0795a66042f0b0eb6a",
       "version_major": 2,
       "version_minor": 0
      },
      "text/plain": [
       "  0%|          | 0/592 [00:00<?, ?it/s]"
      ]
     },
     "metadata": {},
     "output_type": "display_data"
    },
    {
     "data": {
      "application/vnd.jupyter.widget-view+json": {
       "model_id": "f49c5e46af50459090c9a2127278c761",
       "version_major": 2,
       "version_minor": 0
      },
      "text/plain": [
       "  0%|          | 0/592 [00:00<?, ?it/s]"
      ]
     },
     "metadata": {},
     "output_type": "display_data"
    },
    {
     "data": {
      "application/vnd.jupyter.widget-view+json": {
       "model_id": "56587bb753df4f55b6dd415fda0c40f9",
       "version_major": 2,
       "version_minor": 0
      },
      "text/plain": [
       "  0%|          | 0/592 [00:00<?, ?it/s]"
      ]
     },
     "metadata": {},
     "output_type": "display_data"
    },
    {
     "data": {
      "application/vnd.jupyter.widget-view+json": {
       "model_id": "5ef8bea0a6d841dbb4ef44f028bba953",
       "version_major": 2,
       "version_minor": 0
      },
      "text/plain": [
       "  0%|          | 0/592 [00:00<?, ?it/s]"
      ]
     },
     "metadata": {},
     "output_type": "display_data"
    },
    {
     "data": {
      "application/vnd.jupyter.widget-view+json": {
       "model_id": "4c84575a3f3e42498bf7391a20479ed3",
       "version_major": 2,
       "version_minor": 0
      },
      "text/plain": [
       "  0%|          | 0/592 [00:00<?, ?it/s]"
      ]
     },
     "metadata": {},
     "output_type": "display_data"
    },
    {
     "name": "stdout",
     "output_type": "stream",
     "text": [
      "median: 500.0\n"
     ]
    },
    {
     "data": {
      "text/plain": [
       "<matplotlib.legend.Legend at 0x7faf807bdc70>"
      ]
     },
     "execution_count": 151,
     "metadata": {},
     "output_type": "execute_result"
    },
    {
     "data": {
      "image/png": "[encoded data removed]",
      "text/plain": [
       "<Figure size 432x288 with 1 Axes>"
      ]
     },
     "metadata": {
      "needs_background": "light"
     },
     "output_type": "display_data"
    }
   ],
   "source": [
    "n_epochs = 10\n",
    "neg_len_1 = []\n",
    "pos_len_1 = []\n",
    "neg_len_2 = []\n",
    "pos_len_2 = []\n",
    "matrix_area_neg = []\n",
    "matrix_area_pos = []\n",
    "\n",
    "for epoch in tqdm(range(n_epochs)):\n",
    "    for sample in tqdm(dataset_val, total=len(dataset_val)):\n",
    "        box = sample.bbox\n",
    "        if sample.interacting:\n",
    "            pos_len_1.append(box.x2-box.x1)\n",
    "            pos_len_2.append(box.y2-box.y1)\n",
    "            matrix_area_pos.append((box.x2-box.x1)*(box.y2-box.y1))\n",
    "        else:\n",
    "            neg_len_1.append(box.x2-box.x1)\n",
    "            neg_len_2.append(box.y2-box.y1)\n",
    "            matrix_area_neg.append((box.x2-box.x1)*(box.y2-box.y1))\n",
    "        \n",
    "neg_len = neg_len_1+neg_len_2\n",
    "pos_len = pos_len_1+pos_len_2\n",
    "label_n = ['n' for i in range(len(neg_len))]\n",
    "label_p = ['p' for i in range(len(pos_len))]\n",
    "label = label_n + label_p\n",
    "length = neg_len + pos_len\n",
    "df_len = pd.DataFrame({'label':label, 'length':length})\n",
    "\n",
    "assert abs(df_len.label.value_counts().n/df_len.shape[0] - 0.5) < 0.05\n",
    "\n",
    "print('median:', df_len.length.median())\n",
    "\n",
    "sns.kdeplot(df_len[df_len.label == 'n'].length, color = 'red', label = 'negative')\n",
    "sns.kdeplot(df_len[df_len.label == 'p'].length, color = 'blue', label = 'positive')\n",
    "plt.title(f'Length distribution')\n",
    "plt.legend()"
   ]
  },
  {
   "cell_type": "markdown",
   "id": "813dd933-55b3-4549-bde6-d72bccaf37b7",
   "metadata": {},
   "source": [
    "# Combined dataset 1"
   ]
  },
  {
   "cell_type": "code",
   "execution_count": 4,
   "id": "b1261e7e-f68f-4944-a110-3de5ca3a0a05",
   "metadata": {},
   "outputs": [],
   "source": [
    "import torch\n",
    "from torch.utils.data import Dataset, ConcatDataset, DataLoader\n",
    "\n",
    "# Custom dataset class to undersample the first two datasets\n",
    "class UndersampledDataset(Dataset):\n",
    "    def __init__(self, datasets):\n",
    "        self.datasets = datasets\n",
    "        self.length = min(len(dataset) for dataset in datasets)\n",
    "\n",
    "    def __len__(self):\n",
    "        return self.length * len(self.datasets)\n",
    "\n",
    "    def __getitem__(self, index):\n",
    "        dataset_idx = index // self.length\n",
    "        sample_idx = index % self.length\n",
    "        return self.datasets[dataset_idx][sample_idx]"
   ]
  },
  {
   "cell_type": "code",
   "execution_count": 46,
   "id": "2117c3d9-a55f-4b03-a8bd-eb1fedb01b21",
   "metadata": {},
   "outputs": [
    {
     "data": {
      "application/vnd.jupyter.widget-view+json": {
       "model_id": "8a643c87d7c84ac0af1113ba02a0183b",
       "version_major": 2,
       "version_minor": 0
      },
      "text/plain": [
       "  0%|          | 0/10 [00:00<?, ?it/s]"
      ]
     },
     "metadata": {},
     "output_type": "display_data"
    }
   ],
   "source": [
    "n_epochs = 10\n",
    "batch_size = 32\n",
    "\n",
    "for epoch in tqdm(range(n_epochs)):\n",
    "\n",
    "    # Create UndersampledDataset with the concatenated dataset\n",
    "    undersampled_dataset = UndersampledDataset([dataset_ricseq, dataset_splash, dataset_paris])\n",
    "    # Create DataLoader using the undersampled dataset\n",
    "    custom_data_loader = DataLoader(undersampled_dataset, batch_size=batch_size, shuffle=True, collate_fn=utils.collate_fn_nt3)\n",
    "\n",
    "    neg_len_1 = []\n",
    "    pos_len_1 = []\n",
    "    neg_len_2 = []\n",
    "    pos_len_2 = []\n",
    "    matrix_area_neg = []\n",
    "    matrix_area_pos = []\n",
    "\n",
    "    for s, targets in custom_data_loader: #tqdm(custom_data_loader, total = len(custom_data_loader)):\n",
    "        for sample in targets:\n",
    "            box = sample['bbox']\n",
    "            if sample['interacting']==1:\n",
    "                pos_len_1.append(box.x2-box.x1)\n",
    "                pos_len_2.append(box.y2-box.y1)\n",
    "                matrix_area_pos.append((box.x2-box.x1)*(box.y2-box.y1))\n",
    "            else:\n",
    "                neg_len_1.append(box.x2-box.x1)\n",
    "                neg_len_2.append(box.y2-box.y1)\n",
    "                matrix_area_neg.append((box.x2-box.x1)*(box.y2-box.y1))\n",
    "\n",
    "neg_len = neg_len_1+neg_len_2\n",
    "pos_len = pos_len_1+pos_len_2\n",
    "label_n = ['n' for i in range(len(neg_len))]\n",
    "label_p = ['p' for i in range(len(pos_len))]\n",
    "label = label_n + label_p\n",
    "length = neg_len + pos_len\n",
    "df_len = pd.DataFrame({'label':label, 'length':length})"
   ]
  },
  {
   "cell_type": "code",
   "execution_count": 47,
   "id": "e1df8213-f629-4294-ac16-25ac01f5d3a2",
   "metadata": {},
   "outputs": [
    {
     "data": {
      "text/plain": [
       "472.0"
      ]
     },
     "execution_count": 47,
     "metadata": {},
     "output_type": "execute_result"
    }
   ],
   "source": [
    "len(neg_len)/2"
   ]
  },
  {
   "cell_type": "code",
   "execution_count": 48,
   "id": "72114039-1e86-478b-9670-35dd5b828f3a",
   "metadata": {},
   "outputs": [
    {
     "data": {
      "text/plain": [
       "515.0"
      ]
     },
     "execution_count": 48,
     "metadata": {},
     "output_type": "execute_result"
    }
   ],
   "source": [
    "len(pos_len)/2"
   ]
  },
  {
   "cell_type": "code",
   "execution_count": 49,
   "id": "15e3d0e7-1ecb-4f49-93af-087e1f190483",
   "metadata": {},
   "outputs": [
    {
     "data": {
      "image/png": "[encoded data removed]",
      "text/plain": [
       "<Figure size 432x288 with 1 Axes>"
      ]
     },
     "metadata": {
      "needs_background": "light"
     },
     "output_type": "display_data"
    },
    {
     "data": {
      "image/png": "[encoded data removed]",
      "text/plain": [
       "<Figure size 432x288 with 1 Axes>"
      ]
     },
     "metadata": {
      "needs_background": "light"
     },
     "output_type": "display_data"
    }
   ],
   "source": [
    "sns.kdeplot(df_len[df_len.label == 'n'].length, color = 'red', label = 'negative')\n",
    "sns.kdeplot(df_len[df_len.label == 'p'].length, color = 'blue', label = 'positive')\n",
    "plt.title(f'Length distribution')\n",
    "plt.legend()\n",
    "plt.show()\n",
    "sns.kdeplot(matrix_area_neg, color = 'red', label = 'negative')\n",
    "sns.kdeplot(matrix_area_pos, color = 'blue', label = 'positive')\n",
    "plt.title(f'Matrix area distribution')\n",
    "plt.legend()\n",
    "plt.show()"
   ]
  },
  {
   "cell_type": "markdown",
   "id": "81e25a55-0570-4a36-98cf-4a7b7c731e70",
   "metadata": {},
   "source": [
    "# Combined dataset 2"
   ]
  },
  {
   "cell_type": "code",
   "execution_count": 5,
   "id": "cc30edbf-8c5b-4779-8876-c8f5f47a318f",
   "metadata": {},
   "outputs": [
    {
     "name": "stderr",
     "output_type": "stream",
     "text": [
      "/data01/giorgio/RNARNA-NT/src/train_binary_cl.py:314: DtypeWarning: Columns (1,2,16,17,18,20) have mixed types.Specify dtype option on import or set low_memory=False.\n",
      "  dataset_train, policies_train = obtain_train_dataset_paris(easy_pretraining, train_hq, finetuning, min_n_groups_train, max_n_groups_train, specie, scaling_factor)\n"
     ]
    }
   ],
   "source": [
    "dataset_splash, policies_splash = obtain_train_dataset('splash', False, False, True, 5, 100, 'human')\n",
    "dataset_paris, policies_paris = obtain_train_dataset('paris', False, False, True,5, 100, 'human')"
   ]
  },
  {
   "cell_type": "code",
   "execution_count": 9,
   "id": "2a8e8922-4e93-4005-934a-526178841367",
   "metadata": {},
   "outputs": [],
   "source": [
    "import torch\n",
    "from torch.utils.data import Dataset, ConcatDataset, DataLoader\n",
    "\n",
    "class MergedDataset(Dataset):\n",
    "    def __init__(self, datasets):\n",
    "        self.datasets = datasets\n",
    "        self.lengths = [len(dataset) for dataset in datasets]\n",
    "        self.total_length = sum(self.lengths)\n",
    "\n",
    "    def __len__(self):\n",
    "        return self.total_length\n",
    "\n",
    "    def __getitem__(self, index):\n",
    "        for i, length in enumerate(self.lengths):\n",
    "            if index < length:\n",
    "                return self.datasets[i][index]\n",
    "            index -= length"
   ]
  },
  {
   "cell_type": "code",
   "execution_count": null,
   "id": "590b243f-72ee-4e24-ab01-9b9d5c42b540",
   "metadata": {},
   "outputs": [],
   "source": [
    "n_epochs = 10\n",
    "batch_size = 32\n",
    "\n",
    "for epoch in tqdm(range(n_epochs)):\n",
    "\n",
    "    # Create UndersampledDataset with the concatenated dataset\n",
    "    undersampled_dataset = MergedDataset([dataset_splash, dataset_paris])\n",
    "    # Create DataLoader using the undersampled dataset\n",
    "    custom_data_loader = DataLoader(undersampled_dataset, batch_size=batch_size, shuffle=True, collate_fn=utils.collate_fn_nt3)\n",
    "\n",
    "    neg_len_1 = []\n",
    "    pos_len_1 = []\n",
    "    neg_len_2 = []\n",
    "    pos_len_2 = []\n",
    "    matrix_area_neg = []\n",
    "    matrix_area_pos = []\n",
    "\n",
    "    for s, targets in tqdm(custom_data_loader, total = len(custom_data_loader)): #tqdm(custom_data_loader, total = len(custom_data_loader)):\n",
    "        for sample in targets:\n",
    "            box = sample['bbox']\n",
    "            if sample['interacting']==1:\n",
    "                pos_len_1.append(box.x2-box.x1)\n",
    "                pos_len_2.append(box.y2-box.y1)\n",
    "                matrix_area_pos.append((box.x2-box.x1)*(box.y2-box.y1))\n",
    "            else:\n",
    "                neg_len_1.append(box.x2-box.x1)\n",
    "                neg_len_2.append(box.y2-box.y1)\n",
    "                matrix_area_neg.append((box.x2-box.x1)*(box.y2-box.y1))\n",
    "\n",
    "neg_len = neg_len_1+neg_len_2\n",
    "pos_len = pos_len_1+pos_len_2\n",
    "label_n = ['n' for i in range(len(neg_len))]\n",
    "label_p = ['p' for i in range(len(pos_len))]\n",
    "label = label_n + label_p\n",
    "length = neg_len + pos_len\n",
    "df_len = pd.DataFrame({'label':label, 'length':length})"
   ]
  },
  {
   "cell_type": "code",
   "execution_count": 16,
   "id": "dc4d39e1-d2eb-4d26-9af6-63a790a2e8d7",
   "metadata": {},
   "outputs": [
    {
     "data": {
      "text/plain": [
       "177.0"
      ]
     },
     "execution_count": 16,
     "metadata": {},
     "output_type": "execute_result"
    }
   ],
   "source": [
    "len(neg_len)/2"
   ]
  },
  {
   "cell_type": "code",
   "execution_count": 17,
   "id": "2864a35e-d2c6-44b3-8821-51bf8523b313",
   "metadata": {},
   "outputs": [
    {
     "data": {
      "text/plain": [
       "175.0"
      ]
     },
     "execution_count": 17,
     "metadata": {},
     "output_type": "execute_result"
    }
   ],
   "source": [
    "len(pos_len)/2"
   ]
  },
  {
   "cell_type": "code",
   "execution_count": 18,
   "id": "4f85fa49-fcd6-4670-8494-ae814c8104ac",
   "metadata": {},
   "outputs": [
    {
     "data": {
      "image/png": "[encoded data removed]",
      "text/plain": [
       "<Figure size 432x288 with 1 Axes>"
      ]
     },
     "metadata": {
      "needs_background": "light"
     },
     "output_type": "display_data"
    },
    {
     "data": {
      "image/png": "[encoded data removed]",
      "text/plain": [
       "<Figure size 432x288 with 1 Axes>"
      ]
     },
     "metadata": {
      "needs_background": "light"
     },
     "output_type": "display_data"
    }
   ],
   "source": [
    "sns.kdeplot(df_len[df_len.label == 'n'].length, color = 'red', label = 'negative')\n",
    "sns.kdeplot(df_len[df_len.label == 'p'].length, color = 'blue', label = 'positive')\n",
    "plt.title(f'Length distribution')\n",
    "plt.legend()\n",
    "plt.show()\n",
    "sns.kdeplot(matrix_area_neg, color = 'red', label = 'negative')\n",
    "sns.kdeplot(matrix_area_pos, color = 'blue', label = 'positive')\n",
    "plt.title(f'Matrix area distribution')\n",
    "plt.legend()\n",
    "plt.show()"
   ]
  }
 ],
 "metadata": {
  "kernelspec": {
   "display_name": "Python 3 (ipykernel)",
   "language": "python",
   "name": "python3"
  },
  "language_info": {
   "codemirror_mode": {
    "name": "ipython",
    "version": 3
   },
   "file_extension": ".py",
   "mimetype": "text/x-python",
   "name": "python",
   "nbconvert_exporter": "python",
   "pygments_lexer": "ipython3",
   "version": "3.9.7"
  }
 },
 "nbformat": 4,
 "nbformat_minor": 5
}
