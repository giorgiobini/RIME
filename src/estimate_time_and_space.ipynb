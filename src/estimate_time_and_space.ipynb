{
 "cells": [
  {
   "cell_type": "code",
   "execution_count": 6,
   "id": "1661bd2b-acc4-42f3-8867-3e90dae1a3ed",
   "metadata": {},
   "outputs": [],
   "source": [
    "n_samples_train = 1.5 * (10**3) * (10**3) #231 * (10**3) in the actual training\n",
    "n_samples_val = 150 * (10**3) #40 * (10**3) in the actual val\n",
    "n_samples_test = n_samples_val #40 * (10**3) in the actual val\n",
    "n_samples = n_samples_train  + n_samples_val + n_samples_test"
   ]
  },
  {
   "cell_type": "code",
   "execution_count": 7,
   "id": "42e43eff-1ebf-44d8-ad79-06a8cef9bed6",
   "metadata": {},
   "outputs": [
    {
     "data": {
      "text/plain": [
       "19.65288098952256"
      ]
     },
     "execution_count": 7,
     "metadata": {},
     "output_type": "execute_result"
    }
   ],
   "source": [
    "def estimate_time_and_space(n_samples):\n",
    "    #TIME\n",
    "    minutes = 1024*n_samples/(38312*2)\n",
    "    hours = minutes/60\n",
    "    days = hours/24\n",
    "    print(days)"
   ]
  },
  {
   "cell_type": "code",
   "execution_count": 13,
   "id": "ab7db0e8-0553-4c78-856b-01664d42cbbe",
   "metadata": {},
   "outputs": [
    {
     "data": {
      "text/plain": [
       "4.228440175401963"
      ]
     },
     "execution_count": 13,
     "metadata": {},
     "output_type": "execute_result"
    }
   ],
   "source": [
    "#SPACE\n",
    "n_groups_per_sequence = 100\n",
    "\n",
    "gb = 0.9*n_groups_per_sequence*n_samples/38312\n",
    "gb/1000 #tb"
   ]
  }
 ],
 "metadata": {
  "kernelspec": {
   "display_name": "Python 3 (ipykernel)",
   "language": "python",
   "name": "python3"
  },
  "language_info": {
   "codemirror_mode": {
    "name": "ipython",
    "version": 3
   },
   "file_extension": ".py",
   "mimetype": "text/x-python",
   "name": "python",
   "nbconvert_exporter": "python",
   "pygments_lexer": "ipython3",
   "version": "3.10.10"
  }
 },
 "nbformat": 4,
 "nbformat_minor": 5
}
