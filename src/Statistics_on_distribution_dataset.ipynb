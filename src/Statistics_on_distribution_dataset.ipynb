{
 "cells": [
  {
   "cell_type": "markdown",
   "id": "75fd7e20-8dab-4f31-a886-2801a259b193",
   "metadata": {
    "tags": []
   },
   "source": [
    "# Code"
   ]
  },
  {
   "cell_type": "code",
   "execution_count": 1,
   "id": "a3b7acf7-7061-49e6-b0d7-8480984933f0",
   "metadata": {},
   "outputs": [],
   "source": [
    "its_jupyter_notebook = True"
   ]
  },
  {
   "cell_type": "code",
   "execution_count": 2,
   "id": "685f531f",
   "metadata": {},
   "outputs": [],
   "source": [
    "import pandas as pd\n",
    "import os\n",
    "import matplotlib.pyplot as plt\n",
    "import time\n",
    "import numpy as np\n",
    "import sys\n",
    "from pathlib import Path\n",
    "if its_jupyter_notebook:\n",
    "    sys.argv = [''] #Remove this if it's not a jupyter notebook!"
   ]
  },
  {
   "cell_type": "code",
   "execution_count": 3,
   "id": "cfdaa078-478c-4e41-b3c6-57ae5a98fb33",
   "metadata": {},
   "outputs": [],
   "source": [
    "ROOT_DIR = os.path.dirname(os.path.abspath('.'))\n",
    "original_files_dir = os.path.join(ROOT_DIR, 'dataset', 'original_files')\n",
    "processed_files_dir = os.path.join(ROOT_DIR, 'dataset', 'processed_files')\n",
    "rna_rna_files_dir = os.path.join(ROOT_DIR, 'dataset', 'rna_rna_pairs')"
   ]
  },
  {
   "cell_type": "code",
   "execution_count": 4,
   "id": "1e85293b-bf4e-4a80-86d9-477c90341f44",
   "metadata": {},
   "outputs": [
    {
     "name": "stderr",
     "output_type": "stream",
     "text": [
      "/home/gbini/miniconda3/envs/rnarna/lib/python3.9/site-packages/IPython/core/interactiveshell.py:3444: DtypeWarning: Columns (7,8) have mixed types.Specify dtype option on import or set low_memory=False.\n",
      "  exec(code_obj, self.user_global_ns, self.user_ns)\n",
      "/home/gbini/miniconda3/envs/rnarna/lib/python3.9/site-packages/IPython/core/interactiveshell.py:3444: FutureWarning: In a future version of pandas all arguments of read_csv except for the argument 'filepath_or_buffer' will be keyword-only\n",
      "  exec(code_obj, self.user_global_ns, self.user_ns)\n",
      "/home/gbini/miniconda3/envs/rnarna/lib/python3.9/site-packages/IPython/core/interactiveshell.py:3444: DtypeWarning: Columns (5) have mixed types.Specify dtype option on import or set low_memory=False.\n",
      "  exec(code_obj, self.user_global_ns, self.user_ns)\n"
     ]
    }
   ],
   "source": [
    "df = pd.read_csv(os.path.join(processed_files_dir,\"df_annotation_files_cleaned.csv\"))\n",
    "rs_rg = pd.read_csv(os.path.join(original_files_dir, 'rise_paris_tr.new.mapped_interactions.tx_regions.txt'), '\\t')\n",
    "tr_anns = pd.read_csv(os.path.join(original_files_dir, 'tx_regions.ens84.txt'), sep = '\\t')\n",
    "ens_gene_mapping = pd.concat([rs_rg[['ensembl_transcript_id_1', 'gene_id1']].rename({'ensembl_transcript_id_1':'ensembl_transcript_id', 'gene_id1':'gene_id'}, axis = 1), \n",
    "           rs_rg[['ensembl_transcript_id_2', 'gene_id2']].rename({'ensembl_transcript_id_2':'ensembl_transcript_id',  'gene_id2':'gene_id'}, axis = 1)\n",
    "          ], axis = 0).drop_duplicates()\n",
    "tr_anns = tr_anns.merge(ens_gene_mapping, left_on = 'ensembl_transcript_id', right_on = 'ensembl_transcript_id', how = 'inner')"
   ]
  },
  {
   "cell_type": "markdown",
   "id": "246165f7-a6e0-40a4-a60b-2a1cf8667260",
   "metadata": {},
   "source": [
    "# Script per distribuzioni"
   ]
  },
  {
   "cell_type": "code",
   "execution_count": 5,
   "id": "c7a621f2-2de2-473f-bcfd-e464d616ea75",
   "metadata": {},
   "outputs": [],
   "source": [
    "tr_anns['CDS_start'] = tr_anns.apply(lambda x: int(x['UTR5']) \\\n",
    "                                     if (x['UTR5'] not in ['/', 'UTR5']) else np.nan, axis=1)\n",
    "tr_anns['CDS_end'] = tr_anns.apply(lambda x: int(x['CDS']) \\\n",
    "                                   if (x['CDS'] not in ['/', 'CDS']) else np.nan, axis=1)\n",
    "tr_anns['CDS_length'] = tr_anns['CDS_end']-tr_anns['CDS_start'] \n",
    "tr_anns['CDS_ratio'] = tr_anns.apply(lambda x: int(x['CDS_length'])/int(x['length']) \\\n",
    "                                      if (np.isnan(x['CDS_length']) == False) else 0, axis=1)"
   ]
  },
  {
   "cell_type": "markdown",
   "id": "35f19758-2b30-4ab7-8b65-040013dd7651",
   "metadata": {},
   "source": [
    "Calcoliamo il valore atteso dei pixel CDS nella matrice di contatto tra gli rna."
   ]
  },
  {
   "cell_type": "code",
   "execution_count": 6,
   "id": "c9143a29-3751-4f0a-bcab-7562c55ec294",
   "metadata": {},
   "outputs": [],
   "source": [
    "df_res = tr_anns[['CDS_ratio', 'gene_id']].merge(df, left_on = 'gene_id', right_on = 'gene1', how = 'inner').rename(\n",
    "    {'CDS_ratio':'CDS_ratio_gene1'}, axis = 1).drop('gene_id', axis = 1)\n",
    "df_res = tr_anns[['CDS_ratio', 'gene_id']].merge(df_res, left_on = 'gene_id', right_on = 'gene2', how = 'inner').rename(\n",
    "    {'CDS_ratio':'CDS_ratio_gene2'}, axis = 1).drop('gene_id', axis = 1)\n",
    "df_res['expected_CDS_pixels'] =  df_res['CDS_ratio_gene2']/2 + df_res['CDS_ratio_gene1']/2\n",
    "df_res['expected_CDS_CDS_pixels'] =  df_res['CDS_ratio_gene2'] * df_res['CDS_ratio_gene1']\n",
    "assert df_res.shape[0] == df.shape[0]"
   ]
  },
  {
   "cell_type": "markdown",
   "id": "d0d5cfca-4656-4d97-8e9c-115cfc0056e6",
   "metadata": {},
   "source": [
    "Ora vediamo laddove ci sono i CDS quali sono le distribuzioni attese. Quelle veramente campionate non le sappiamo perche non ho salvato le coordinate delle finestre usate per training e test. Pero possiamo gia dire qualcosa su queste. "
   ]
  },
  {
   "cell_type": "code",
   "execution_count": 7,
   "id": "733c2529-4af6-4e42-8cec-0168b126c539",
   "metadata": {
    "tags": []
   },
   "outputs": [
    {
     "name": "stdout",
     "output_type": "stream",
     "text": [
      "84.41333247704065\n"
     ]
    }
   ],
   "source": [
    "at_least_one_cds = df_res[df_res['expected_CDS_pixels'] > 0]\n",
    "perc = at_least_one_cds.shape[0]/df_res.shape[0] * 100\n",
    "print(perc)"
   ]
  },
  {
   "cell_type": "markdown",
   "id": "99c2c986-4482-4317-abbf-f810cbd22637",
   "metadata": {},
   "source": [
    "L'86% delle matrici di contatto hanno una probabilitá positiva di avere una regione CDS all'interno.\n",
    "\n",
    "Le restanti matrici di contatto è tra non-protein-coding genes."
   ]
  },
  {
   "cell_type": "code",
   "execution_count": 8,
   "id": "8d7bf3cf-0eae-462c-9b20-fc4ca4c0e39b",
   "metadata": {},
   "outputs": [
    {
     "data": {
      "text/plain": [
       "Text(0.5, 0, 'Expected CDS pixels in contact matrix')"
      ]
     },
     "execution_count": 8,
     "metadata": {},
     "output_type": "execute_result"
    },
    {
     "data": {
      "image/png": "[encoded data removed]",
      "text/plain": [
       "<Figure size 432x288 with 1 Axes>"
      ]
     },
     "metadata": {
      "needs_background": "light"
     },
     "output_type": "display_data"
    }
   ],
   "source": [
    "plt.title('At least 1 protein coding gene in the contact matrix')\n",
    "at_least_one_cds['expected_CDS_pixels'].hist()\n",
    "plt.xlabel('Expected CDS pixels in contact matrix')"
   ]
  },
  {
   "cell_type": "markdown",
   "id": "92d6073c-4183-4565-8293-295161732f26",
   "metadata": {},
   "source": [
    "A questo punto vediamo i casi che possono essere problematici: quando entrambi i geni sono protein-coding. In questo caso sappiamo che c'è un rischio di campionare tanti CDS-CDS nei negativi, che sappiamo essere poco propensi all'interazione nel set dei positivi (3% dei positivi ha un interazione in regioni cds-cds). \n",
    "\n",
    "NB: Nel 60% dei dati questo problema non si pone, le distribuzioni di positivi e negativi sono assolutamente confrontabili."
   ]
  },
  {
   "cell_type": "code",
   "execution_count": 9,
   "id": "f4ff5fb8-ab9b-43ee-ab52-d44c5e9f5d03",
   "metadata": {},
   "outputs": [
    {
     "name": "stdout",
     "output_type": "stream",
     "text": [
      "38.70832141334999\n"
     ]
    },
    {
     "data": {
      "text/plain": [
       "Text(0.5, 0, 'Expected CDS pixels in contact matrix')"
      ]
     },
     "execution_count": 9,
     "metadata": {},
     "output_type": "execute_result"
    },
    {
     "data": {
      "image/png": "[encoded data removed]",
      "text/plain": [
       "<Figure size 432x288 with 1 Axes>"
      ]
     },
     "metadata": {
      "needs_background": "light"
     },
     "output_type": "display_data"
    }
   ],
   "source": [
    "both_protein_coding = df_res[(df_res['CDS_ratio_gene2'] > 0) & (df_res['CDS_ratio_gene1'] > 0)]\n",
    "perc = both_protein_coding.shape[0]/df_res.shape[0] * 100\n",
    "print(perc)\n",
    "\n",
    "plt.title('Both protein coding genes in the contact matrix')\n",
    "both_protein_coding['expected_CDS_pixels'].hist()\n",
    "plt.xlabel('Expected CDS pixels in contact matrix')"
   ]
  },
  {
   "cell_type": "code",
   "execution_count": 10,
   "id": "d390bcc4-14ff-49f2-86cb-1ac5c1a2450a",
   "metadata": {
    "tags": []
   },
   "outputs": [
    {
     "name": "stderr",
     "output_type": "stream",
     "text": [
      "/tmp/ipykernel_1658/3796410632.py:1: SettingWithCopyWarning: \n",
      "A value is trying to be set on a copy of a slice from a DataFrame.\n",
      "Try using .loc[row_indexer,col_indexer] = value instead\n",
      "\n",
      "See the caveats in the documentation: https://pandas.pydata.org/pandas-docs/stable/user_guide/indexing.html#returning-a-view-versus-a-copy\n",
      "  both_protein_coding['prob_of_sampling_cds_cds'] = both_protein_coding['CDS_ratio_gene2']*both_protein_coding['CDS_ratio_gene1']\n"
     ]
    },
    {
     "data": {
      "text/plain": [
       "Text(0.5, 0, 'Expected probability of sampling a CDS-CDS pixel in contact matrix')"
      ]
     },
     "execution_count": 10,
     "metadata": {},
     "output_type": "execute_result"
    },
    {
     "data": {
      "image/png": "[encoded data removed]",
      "text/plain": [
       "<Figure size 432x288 with 1 Axes>"
      ]
     },
     "metadata": {
      "needs_background": "light"
     },
     "output_type": "display_data"
    }
   ],
   "source": [
    "both_protein_coding['prob_of_sampling_cds_cds'] = both_protein_coding['CDS_ratio_gene2']*both_protein_coding['CDS_ratio_gene1']\n",
    "plt.title('Probabilities of sampling cds_cds  protein coding genes in the contact matrix')\n",
    "both_protein_coding['prob_of_sampling_cds_cds'].hist()\n",
    "plt.xlabel('Expected probability of sampling a CDS-CDS pixel in contact matrix')"
   ]
  },
  {
   "cell_type": "code",
   "execution_count": 11,
   "id": "ef8e8b34-15d0-4a78-ba06-1de63d7fa033",
   "metadata": {},
   "outputs": [
    {
     "data": {
      "text/plain": [
       "0.227445296537671"
      ]
     },
     "execution_count": 11,
     "metadata": {},
     "output_type": "execute_result"
    }
   ],
   "source": [
    "np.mean(both_protein_coding[both_protein_coding['there_is_interaction'] == False]['prob_of_sampling_cds_cds'])"
   ]
  },
  {
   "cell_type": "markdown",
   "id": "1dfa4237-eaee-4e7b-abea-9d826fbddaca",
   "metadata": {},
   "source": [
    "Mediamente, ci aspettiamo che il 21.5% dei pixel delle contact matrix nel set dei negativi (nel 32% dei casi problematici) sia CDS-CDS, mentre invece nei positivi questa percentuale è pari soltanto al 3%."
   ]
  },
  {
   "cell_type": "markdown",
   "id": "db8e1da6-31f2-467c-b688-6d518c9f30cd",
   "metadata": {},
   "source": [
    "### Hyperparameter setting (dataloader)"
   ]
  },
  {
   "cell_type": "code",
   "execution_count": null,
   "id": "43624607-354c-43b5-87e4-1bf1d95c1678",
   "metadata": {},
   "outputs": [],
   "source": [
    "positive = df_res[df_res.there_is_interaction == True]\n",
    "negative = df_res[df_res.there_is_interaction == False]\n",
    "assert positive.shape[0] + negative.shape[0] == df_res.shape[0]"
   ]
  },
  {
   "cell_type": "markdown",
   "id": "67f38f71-169d-4a7a-afae-69a2636c0c85",
   "metadata": {},
   "source": [
    "Vorrei settare gli hp tali che il valore atteso dei pixel CDS-CDS sia pari sia nel set dei positivi che nel set dei negativi. Assumiamo che nei positivi la probabilita di interazione tra CDS-CDS sia 0% (Adri ha detto di eliminare dal set dei positivi tutti gli interattori in regioni CDS-CDS perche possono essere falsi positivi).\n",
    "\n",
    "Se tutte le coppie di positivi fossero interagenti in un punto a caso nella matrice di contatto, il valore atteso dei pixel CDS nel set dei positivi sarebbe calcolabile come:"
   ]
  },
  {
   "cell_type": "code",
   "execution_count": 13,
   "id": "070026ac-ff1f-4c13-8a12-5c0df6839c8b",
   "metadata": {},
   "outputs": [
    {
     "data": {
      "text/plain": [
       "0.08578711172696872"
      ]
     },
     "execution_count": 13,
     "metadata": {},
     "output_type": "execute_result"
    }
   ],
   "source": [
    "positive['expected_CDS_CDS_pixels'].mean()"
   ]
  },
  {
   "cell_type": "markdown",
   "id": "1bce1daa-e09b-4088-9252-05485f88fa2c",
   "metadata": {},
   "source": [
    "Tuttavia, la finestra viene presa in un intorno della regione di interazione (e nella regione di interazione questo valore è 0, quindi mi aspetto che nel suo intorno questa probabilitá sia inferiore). Quindi è in quell'intorno che noi dobbiamo calcolare il valore atteso dei pixel CDS nella matrice di contatto.\n",
    "\n",
    "Prendiamo un intorno di 500 pixels, che mi sembra sensato come valore: consideriamo che i sample possono essere al massimo 512*512, e non sono sempre centrati nella regione di interazione. Io assumerò che questa probabilitá che vado a stimare centrando sempre in questa stima l'interazione, sará rappresentativa delle distribuzioni del dataloader (in cui invece la dimensione varierá e nei sample le regioni di interazione possono essere un po' decentrate."
   ]
  },
  {
   "cell_type": "code",
   "execution_count": 14,
   "id": "02f252c5-4a77-46e0-a581-af0673adbe8c",
   "metadata": {},
   "outputs": [],
   "source": [
    "interval_length = 500\n",
    "x = positive.loc[1]\n",
    "\n",
    "def cds_ratio_interval1(x):\n",
    "    if x.CDS_ratio_gene1 == 0:\n",
    "        return 0\n",
    "\n",
    "    elif x.CDS_ratio_gene1 == 1:\n",
    "        return 1\n",
    "\n",
    "    else:\n",
    "        gene1 = x.gene1\n",
    "\n",
    "        gene_info = tr_anns[tr_anns.gene_id == gene1].iloc[0]\n",
    "        cds_start, cds_end = int(gene_info.CDS_start), int(gene_info.CDS_end)\n",
    "\n",
    "        center_gene1 = int(x.x1 + x.w/2)\n",
    "        inf1 = int(max(0, center_gene1-(interval_length/2)))\n",
    "        sup1 = int(min(center_gene1+(interval_length/2), int(gene_info.length)))\n",
    "\n",
    "        cds_intersection = set(range(inf1, sup1)).intersection(range(cds_start, cds_end))\n",
    "        cds_ratio_interval1 = (len(cds_intersection))/(sup1-inf1)\n",
    "        \n",
    "        return cds_ratio_interval1\n",
    "    \n",
    "def cds_ratio_interval2(x):\n",
    "    if x.CDS_ratio_gene2 == 0:\n",
    "        return 0\n",
    "\n",
    "    elif x.CDS_ratio_gene2 == 1:\n",
    "        return 1\n",
    "\n",
    "    else:\n",
    "        gene2 = x.gene2\n",
    "\n",
    "        gene_info = tr_anns[tr_anns.gene_id == gene2].iloc[0]\n",
    "        cds_start, cds_end = int(gene_info.CDS_start), int(gene_info.CDS_end)\n",
    "\n",
    "        center_gene2 = int(x.y1 + x.h/2)\n",
    "        inf2 = int(max(0, center_gene2-(interval_length/2)))\n",
    "        sup2 = int(min(center_gene2+(interval_length/2), int(gene_info.length)))\n",
    "\n",
    "        cds_intersection = set(range(inf2, sup2)).intersection(range(cds_start, cds_end))\n",
    "        cds_ratio_interval2 = (len(cds_intersection))/(sup2-inf2)\n",
    "        \n",
    "        return cds_ratio_interval2"
   ]
  },
  {
   "cell_type": "code",
   "execution_count": 15,
   "id": "01475a4f-f89a-4862-beaf-3feb5e4b4a6d",
   "metadata": {},
   "outputs": [
    {
     "data": {
      "text/plain": [
       "1"
      ]
     },
     "execution_count": 15,
     "metadata": {},
     "output_type": "execute_result"
    }
   ],
   "source": [
    "cds_ratio_interval1(x)"
   ]
  },
  {
   "cell_type": "code",
   "execution_count": 16,
   "id": "9e914596-a176-484c-859c-3209b3a2a2f4",
   "metadata": {},
   "outputs": [
    {
     "data": {
      "text/plain": [
       "0"
      ]
     },
     "execution_count": 16,
     "metadata": {},
     "output_type": "execute_result"
    }
   ],
   "source": [
    "cds_ratio_interval2(x)"
   ]
  },
  {
   "cell_type": "code",
   "execution_count": null,
   "id": "48687e69-82c9-46b9-ba05-f784ae3bf94f",
   "metadata": {},
   "outputs": [],
   "source": [
    "start_time = time.time()\n",
    "positive['cds_ratio_interval1'] = positive.apply(cds_ratio_interval1, axis = 1)\n",
    "print(f\"Total minutes: {(time.time() - start_time)/60}\")"
   ]
  },
  {
   "cell_type": "code",
   "execution_count": null,
   "id": "9bc92482-954e-4a41-8089-815b9bd94810",
   "metadata": {},
   "outputs": [],
   "source": [
    "start_time = time.time()\n",
    "positive['cds_ratio_interval2'] = positive.apply(cds_ratio_interval2, axis = 1)\n",
    "print(f\"Total minutes: {(time.time() - start_time)/60}\")"
   ]
  },
  {
   "cell_type": "code",
   "execution_count": null,
   "id": "7e1e5739-92c1-4fe2-a239-7b21ffd17951",
   "metadata": {},
   "outputs": [],
   "source": [
    "positive['expected_cds_cds_around_interval'] = positive['cds_ratio_interval1']*positive['cds_ratio_interval2']"
   ]
  },
  {
   "cell_type": "code",
   "execution_count": null,
   "id": "b836466a-f911-4abf-a962-4ca529494f61",
   "metadata": {},
   "outputs": [],
   "source": [
    "print(positive['expected_cds_cds_around_interval'].mean())"
   ]
  },
  {
   "cell_type": "markdown",
   "id": "e06a0847-2bee-4d34-877a-7f856cf06782",
   "metadata": {},
   "source": [
    "Il valore qui sopra è il valore atteso dei pixel cds-cds nell'intorno (nella finestra) attorno alle interazioni. (easypos & hardpos)"
   ]
  },
  {
   "cell_type": "code",
   "execution_count": null,
   "id": "8c0a3281-42bf-4b92-b2b2-ec57823317da",
   "metadata": {},
   "outputs": [],
   "source": [
    "print(negative['expected_CDS_CDS_pixels'].mean())"
   ]
  },
  {
   "cell_type": "markdown",
   "id": "e277c399-875c-49ff-9835-f1fdcd1794e0",
   "metadata": {},
   "source": [
    "Il valore qui sopra è invece il valore atteso dei pixel cds-cds nei negativi. (easyneg)"
   ]
  },
  {
   "cell_type": "code",
   "execution_count": null,
   "id": "c9ca8d4c-5c65-49c0-a950-0d2ca129ab18",
   "metadata": {},
   "outputs": [],
   "source": [
    "print(positive['expected_CDS_CDS_pixels'].mean())"
   ]
  },
  {
   "cell_type": "markdown",
   "id": "11f2b492-6094-475a-b5e5-2dbe43022719",
   "metadata": {},
   "source": [
    "Negli hardneg, invece, assumiamo che il valore atteso sia invece pari a quello qui sopra (forse potrebbe essere leggermente piu alto perche è al di fuori delle interazioni ma piu o meno siamo li). "
   ]
  },
  {
   "cell_type": "markdown",
   "id": "23ccd5df-72f9-4c20-b69d-0f80381c6a56",
   "metadata": {},
   "source": [
    "(E_hardneg * N_hardneg) + (E_easyneg * N_easyneg) == (E_hardpos * N_hardpos) + (E_easypos * N_easypos)"
   ]
  },
  {
   "cell_type": "code",
   "execution_count": null,
   "id": "e8c38b33-da5a-4ab7-ba57-e055400da3e0",
   "metadata": {},
   "outputs": [],
   "source": [
    "eps = 0.003\n",
    "E_hardneg = positive['expected_CDS_CDS_pixels'].mean() + eps #aggiungo un epsilon per compensare il fatto che dovrebbe essere di piu\n",
    "E_easyneg = negative['expected_CDS_CDS_pixels'].mean() \n",
    "E_hardpos = positive['expected_cds_cds_around_interval'].mean()\n",
    "E_easypos = E_hardpos"
   ]
  },
  {
   "cell_type": "code",
   "execution_count": null,
   "id": "78c6e6cd-3cb8-4047-9989-1f586df60f99",
   "metadata": {},
   "outputs": [],
   "source": [
    "E_hardneg + E_easyneg"
   ]
  },
  {
   "cell_type": "code",
   "execution_count": null,
   "id": "28c7fb46-3173-485e-8a09-7f59815a3cb2",
   "metadata": {},
   "outputs": [],
   "source": [
    "E_hardpos + E_easypos"
   ]
  },
  {
   "cell_type": "markdown",
   "id": "30320566-72a3-4991-8cfe-6de220b29c19",
   "metadata": {
    "tags": []
   },
   "source": [
    "### Altre domande\n",
    "(Ci sono altri bias rispetto al tipo di rna? mouse and human hanno lunghezze diverse ad esempio)."
   ]
  },
  {
   "cell_type": "code",
   "execution_count": 189,
   "id": "df632823-fcd7-4c30-9ce0-30bd6579e384",
   "metadata": {},
   "outputs": [],
   "source": [
    "sys.path.insert(0, '..')\n",
    "from tqdm.notebook import tqdm\n",
    "import seaborn as sns\n",
    "from dataset.data import (\n",
    "    RNADataset,\n",
    "    ROOT_DIR,\n",
    "    EasyPosAugment,\n",
    "    RegionSpecNegAugment,\n",
    "    InteractionSelectionPolicy,\n",
    "    EasyPosAugment,\n",
    "    EasyNegAugment,\n",
    "    HardPosAugment,\n",
    "    HardNegAugment,\n",
    "    RegionSpecNegAugment,\n",
    "    plot_sample,\n",
    "    seed_everything,\n",
    ")"
   ]
  },
  {
   "cell_type": "code",
   "execution_count": 190,
   "id": "21d7338f-98e4-47ac-b103-5fd88c6126b0",
   "metadata": {
    "tags": []
   },
   "outputs": [],
   "source": [
    "pos_width_multipliers = {4: 0.05, 10: 0.1, 14: 0.15, 17: 0.1, 19: 0.3, 21: 0.3}\n",
    "pos_height_multipliers = pos_width_multipliers\n",
    "\n",
    "neg_width_windows = {(50, 150): 0.05, (150, 170): 0.12, (170, 260): 0.05, (260, 350): 0.15, (350, 450): 0.28, (450, 511): 0.1, (511, 512): 0.25}\n",
    "neg_height_windows = neg_width_windows\n",
    "\n",
    "regionspec_multipliers = pos_width_multipliers\n",
    "regionspec_windows = neg_width_windows\n",
    "\n",
    "assert np.round(sum(pos_width_multipliers.values()), 4) == np.round(sum(neg_width_windows.values()), 4) == 1"
   ]
  },
  {
   "cell_type": "code",
   "execution_count": 191,
   "id": "a1642bd7-fa34-4d54-a780-532fd23f1370",
   "metadata": {},
   "outputs": [
    {
     "name": "stderr",
     "output_type": "stream",
     "text": [
      "/tmp/ipykernel_30215/2489940218.py:34: DtypeWarning: Columns (7,8) have mixed types.Specify dtype option on import or set low_memory=False.\n",
      "  dataset_train = RNADataset(\n"
     ]
    }
   ],
   "source": [
    "policies = [\n",
    "        EasyPosAugment(\n",
    "            per_sample=8,\n",
    "            interaction_selection=InteractionSelectionPolicy.LARGEST,\n",
    "            width_multipliers=regionspec_multipliers,\n",
    "            height_multipliers=regionspec_multipliers,\n",
    "        ),\n",
    "        EasyNegAugment(\n",
    "            per_sample=2,\n",
    "            width_windows=neg_width_windows,\n",
    "            height_windows=neg_height_windows,\n",
    "        ),\n",
    "        HardPosAugment(\n",
    "            per_sample=3,\n",
    "            interaction_selection=InteractionSelectionPolicy.RANDOM_ONE,\n",
    "            min_width_overlap=0.3,\n",
    "            min_height_overlap=0.3,\n",
    "            width_multipliers=pos_width_multipliers,\n",
    "            height_multipliers=pos_height_multipliers,\n",
    "        ),\n",
    "        HardNegAugment(\n",
    "            per_sample=3,\n",
    "            width_windows=neg_width_windows,\n",
    "            height_windows=neg_height_windows,\n",
    "        ),\n",
    "        RegionSpecNegAugment(\n",
    "        per_sample=7,\n",
    "        width_windows=regionspec_multipliers,\n",
    "        height_windows=neg_height_windows,\n",
    "    ),\n",
    "]\n",
    "    \n",
    "    \n",
    "dataset_train = RNADataset(\n",
    "    gene_info_path=os.path.join(processed_files_dir, \"df_cdna.csv\"),\n",
    "        interactions_path=os.path.join(\n",
    "            processed_files_dir, \"df_annotation_files_cleaned.csv\"\n",
    "        ),\n",
    "        dot_bracket_path=os.path.join(processed_files_dir, \"dot_bracket.txt\"),\n",
    "        subset_file=os.path.join(\n",
    "            rna_rna_files_dir, \"gene_pairs_training_random_filtered.txt\"\n",
    "        ),\n",
    "    augment_policies=policies\n",
    ")\n",
    "# dataset_val = RNADataset(\n",
    "#     gene_info_path=os.path.join(processed_files_dir, \"df_cdna.csv\"),\n",
    "#         interactions_path=os.path.join(\n",
    "#             processed_files_dir, \"df_annotation_files_cleaned.csv\"\n",
    "#         ),\n",
    "#         dot_bracket_path=os.path.join(processed_files_dir, \"dot_bracket.txt\"),\n",
    "#         subset_file=os.path.join(\n",
    "#             rna_rna_files_dir, \"gene_pairs_val_random_filtered.txt\"\n",
    "#         ),\n",
    "#     augment_policies=policies\n",
    "# )\n",
    "\n",
    "# dataset_test = RNADataset(\n",
    "#     gene_info_path=os.path.join(processed_files_dir, \"df_cdna.csv\"),\n",
    "#         interactions_path=os.path.join(\n",
    "#             processed_files_dir, \"df_annotation_files_cleaned.csv\"\n",
    "#         ),\n",
    "#         dot_bracket_path=os.path.join(processed_files_dir, \"dot_bracket.txt\"),\n",
    "#         subset_file=os.path.join(\n",
    "#             rna_rna_files_dir, \"gene_pairs_test_random_filtered.txt\"\n",
    "#         ),\n",
    "#     augment_policies=policies\n",
    "# )"
   ]
  },
  {
   "cell_type": "markdown",
   "id": "96d488d0-9715-4b58-931f-bbdeb76d346f",
   "metadata": {},
   "source": [
    "#### Let s start with the training set"
   ]
  },
  {
   "cell_type": "code",
   "execution_count": 192,
   "id": "f3b7ae83-316e-4339-b129-648de2c468ed",
   "metadata": {},
   "outputs": [
    {
     "data": {
      "application/vnd.jupyter.widget-view+json": {
       "model_id": "7680d936e7cf44fd8eab5e3c4b7c56f9",
       "version_major": 2,
       "version_minor": 0
      },
      "text/plain": [
       "  0%|          | 0/3 [00:00<?, ?it/s]"
      ]
     },
     "metadata": {},
     "output_type": "display_data"
    },
    {
     "data": {
      "application/vnd.jupyter.widget-view+json": {
       "model_id": "424fcbf82bf149418196a514fe47892a",
       "version_major": 2,
       "version_minor": 0
      },
      "text/plain": [
       "  0%|          | 0/293760 [00:00<?, ?it/s]"
      ]
     },
     "metadata": {},
     "output_type": "display_data"
    },
    {
     "data": {
      "application/vnd.jupyter.widget-view+json": {
       "model_id": "47d4df20980b42b4956c51f18933c432",
       "version_major": 2,
       "version_minor": 0
      },
      "text/plain": [
       "  0%|          | 0/293760 [00:00<?, ?it/s]"
      ]
     },
     "metadata": {},
     "output_type": "display_data"
    },
    {
     "data": {
      "application/vnd.jupyter.widget-view+json": {
       "model_id": "4740168eb14b4b38867b6226e55ac992",
       "version_major": 2,
       "version_minor": 0
      },
      "text/plain": [
       "  0%|          | 0/293760 [00:00<?, ?it/s]"
      ]
     },
     "metadata": {},
     "output_type": "display_data"
    }
   ],
   "source": [
    "n_epochs = 3\n",
    "neg_len_1 = []\n",
    "pos_len_1 = []\n",
    "neg_len_2 = []\n",
    "pos_len_2 = []\n",
    "matrix_area_neg = []\n",
    "matrix_area_pos = []\n",
    "gene1_len = []\n",
    "\n",
    "for epoch in tqdm(range(n_epochs)):\n",
    "    for sample in tqdm(dataset_train, total=len(dataset_train)):\n",
    "        box = sample.bbox\n",
    "        if sample.interacting:\n",
    "            pos_len_1.append(box.x2-box.x1)\n",
    "            pos_len_2.append(box.y2-box.y1)\n",
    "            matrix_area_pos.append((box.x2-box.x1)*(box.y2-box.y1))\n",
    "        else:\n",
    "            neg_len_1.append(box.x2-box.x1)\n",
    "            neg_len_2.append(box.y2-box.y1)\n",
    "            matrix_area_neg.append((box.x2-box.x1)*(box.y2-box.y1))\n",
    "            \n",
    "neg_len = neg_len_1+neg_len_2\n",
    "pos_len = pos_len_1+pos_len_2\n",
    "label_n = ['n' for i in range(len(neg_len))]\n",
    "label_p = ['p' for i in range(len(pos_len))]\n",
    "label = label_n + label_p\n",
    "length = neg_len + pos_len\n",
    "df_len = pd.DataFrame({'label':label, 'length':length})"
   ]
  },
  {
   "cell_type": "code",
   "execution_count": 193,
   "id": "c6fbfee5-95bc-4640-a6b7-4ddc284b74dc",
   "metadata": {},
   "outputs": [
    {
     "data": {
      "text/plain": [
       "n    892680\n",
       "p    869880\n",
       "Name: label, dtype: int64"
      ]
     },
     "execution_count": 193,
     "metadata": {},
     "output_type": "execute_result"
    }
   ],
   "source": [
    "df_len.label.value_counts()"
   ]
  },
  {
   "cell_type": "code",
   "execution_count": 194,
   "id": "91dca285-31e4-46d8-a4b9-7227f04afa61",
   "metadata": {},
   "outputs": [
    {
     "data": {
      "text/plain": [
       "p    270\n",
       "n    230\n",
       "Name: label, dtype: int64"
      ]
     },
     "execution_count": 194,
     "metadata": {},
     "output_type": "execute_result"
    }
   ],
   "source": [
    "df_len.sort_values('length').head(500).label.value_counts()"
   ]
  },
  {
   "cell_type": "code",
   "execution_count": 195,
   "id": "bcfcd036-7502-4ea5-b17f-dc91ff76ae99",
   "metadata": {},
   "outputs": [],
   "source": [
    "#balance set\n",
    "assert abs(df_len.label.value_counts().n/df_len.shape[0] - 0.5) < 0.01"
   ]
  },
  {
   "cell_type": "code",
   "execution_count": 196,
   "id": "45b2461c-6fa4-4ac5-9988-b7fd3086018b",
   "metadata": {},
   "outputs": [
    {
     "data": {
      "image/png": "[encoded data removed]",
      "text/plain": [
       "<Figure size 432x288 with 1 Axes>"
      ]
     },
     "metadata": {
      "needs_background": "light"
     },
     "output_type": "display_data"
    },
    {
     "data": {
      "image/png": "[encoded data removed]",
      "text/plain": [
       "<Figure size 432x288 with 1 Axes>"
      ]
     },
     "metadata": {
      "needs_background": "light"
     },
     "output_type": "display_data"
    }
   ],
   "source": [
    "sns.kdeplot(df_len[df_len.label == 'n'].length, color = 'red', label = 'negative')\n",
    "sns.kdeplot(df_len[df_len.label == 'p'].length, color = 'blue', label = 'positive')\n",
    "plt.title(f'Length distribution')\n",
    "plt.legend()\n",
    "plt.show()\n",
    "sns.kdeplot(matrix_area_neg, color = 'red', label = 'negative')\n",
    "sns.kdeplot(matrix_area_pos, color = 'blue', label = 'positive')\n",
    "plt.title(f'Matrix area distribution')\n",
    "plt.legend()\n",
    "plt.show()"
   ]
  },
  {
   "cell_type": "code",
   "execution_count": 197,
   "id": "de5aa0f6-dc70-4b2d-abff-51f40f7951a2",
   "metadata": {},
   "outputs": [
    {
     "data": {
      "image/png": "[encoded data removed]",
      "text/plain": [
       "<Figure size 432x288 with 1 Axes>"
      ]
     },
     "metadata": {
      "needs_background": "light"
     },
     "output_type": "display_data"
    }
   ],
   "source": [
    "sns.kdeplot(neg_len_1, color = 'red', label = 'gene1_negative')\n",
    "sns.kdeplot(pos_len_1, color = 'green', label = 'gene1_positive')\n",
    "sns.kdeplot(neg_len_2, color = 'blue', label = 'gene2_negative')\n",
    "sns.kdeplot(pos_len_2, color = 'black', label = 'gene2_positive')\n",
    "plt.title(f'Length distribution between gene1 and gene2')\n",
    "plt.legend()\n",
    "plt.show()"
   ]
  },
  {
   "cell_type": "code",
   "execution_count": 188,
   "id": "a03e1fa8-7c44-49e0-a356-e00384272f83",
   "metadata": {},
   "outputs": [
    {
     "name": "stdout",
     "output_type": "stream",
     "text": [
      "p    87818\n",
      "n    84495\n",
      "Name: label, dtype: int64\n",
      "\n",
      "\n",
      "n    182982\n",
      "p    169017\n",
      "Name: label, dtype: int64\n"
     ]
    }
   ],
   "source": [
    "small_l = df_len.length.quantile(0.1)\n",
    "print(df_len[df_len['length'] < small_l].label.value_counts())\n",
    "print('\\n')\n",
    "big_l = df_len.length.quantile(0.8)\n",
    "print(df_len[df_len['length'] > big_l].label.value_counts())"
   ]
  }
 ],
 "metadata": {
  "kernelspec": {
   "display_name": "Python 3 (ipykernel)",
   "language": "python",
   "name": "python3"
  },
  "language_info": {
   "codemirror_mode": {
    "name": "ipython",
    "version": 3
   },
   "file_extension": ".py",
   "mimetype": "text/x-python",
   "name": "python",
   "nbconvert_exporter": "python",
   "pygments_lexer": "ipython3",
   "version": "3.9.7"
  }
 },
 "nbformat": 4,
 "nbformat_minor": 5
}
