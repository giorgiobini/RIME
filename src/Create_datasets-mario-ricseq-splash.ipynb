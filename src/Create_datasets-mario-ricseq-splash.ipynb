{
 "cells": [
  {
   "cell_type": "markdown",
   "id": "39d14840-ccc0-4cbc-9a43-46c0e1759485",
   "metadata": {},
   "source": [
    "# SE RIMANDI LA PIPELINE RICONTROLLA OGNI PASSAGGIO, POTREBBERO ESSERCI ERRORI, soprattutto con test500"
   ]
  },
  {
   "cell_type": "markdown",
   "id": "5b4d2f93",
   "metadata": {
    "tags": []
   },
   "source": [
    "# Code"
   ]
  },
  {
   "cell_type": "code",
   "execution_count": 1,
   "id": "d36572f2",
   "metadata": {},
   "outputs": [],
   "source": [
    "import pandas as pd\n",
    "import os\n",
    "import matplotlib.pyplot as plt\n",
    "import time\n",
    "import numpy as np\n",
    "import pickle\n",
    "import math\n",
    "import torch\n",
    "from tqdm.notebook import tqdm\n",
    "import seaborn as sns\n",
    "from torch.utils.data import DataLoader\n",
    "# if its_jupyter_notebook:\n",
    "#     sys.argv = [''] #Remove this if it's not a jupyter notebook!\n",
    "\n",
    "import sys\n",
    "sys.path.insert(0, '..')\n",
    "\n",
    "from util.create_nt_datasets_utils import *\n",
    "\n",
    "%load_ext autoreload\n",
    "%autoreload 2\n",
    "from dataset.data import (\n",
    "    RNADataset,\n",
    "    RNADatasetNT,\n",
    "    EasyPosAugment,\n",
    "    InteractionSelectionPolicy,\n",
    "    EasyNegAugment,\n",
    "    HardPosAugment,\n",
    "    HardNegAugment,\n",
    "    SmartNegAugment,\n",
    "    plot_sample,\n",
    "    #plot_sample2,\n",
    "    seed_everything,\n",
    "    clean_nt_dataframes_before_class_input,\n",
    "    get_features1,\n",
    "    get_features2, \n",
    "    get_full_overlap_features1,\n",
    "    get_full_overlap_features2,\n",
    ")\n",
    "from config import *"
   ]
  },
  {
   "cell_type": "code",
   "execution_count": 2,
   "id": "32b7c2a4",
   "metadata": {},
   "outputs": [],
   "source": [
    "how = 'mario'"
   ]
  },
  {
   "cell_type": "code",
   "execution_count": 3,
   "id": "8615c91a",
   "metadata": {},
   "outputs": [],
   "source": [
    "if how == 'splash':\n",
    "    df_genes = pd.read_csv(os.path.join(processed_files_dir, f'df_genes_splash.csv'))\n",
    "    df = pd.read_csv(os.path.join(processed_files_dir, f'splash.csv'))\n",
    "elif how in ['mario', 'ricseq']:\n",
    "    df_genes = pd.read_csv(os.path.join(processed_files_dir, f'df_genes.csv'))\n",
    "    df = pd.read_csv(os.path.join(processed_files_dir, f'{how}.csv'))"
   ]
  },
  {
   "cell_type": "code",
   "execution_count": 4,
   "id": "e3b8478f-d8d7-4527-bf5d-bb9fe4bf0287",
   "metadata": {},
   "outputs": [],
   "source": [
    "drop_treshold = 10 #avoid hardneg creation problems\n",
    "if how == 'ricseq':\n",
    "    original_shape = df.shape[0]\n",
    "    excluding_conditions = ((df.length_1 - df.w) < drop_treshold) | ((df.length_2 - df.h) < drop_treshold)\n",
    "    df = df[~excluding_conditions].reset_index(drop = True)\n",
    "    print('# dropped = ', original_shape - df.shape[0])"
   ]
  },
  {
   "cell_type": "code",
   "execution_count": 5,
   "id": "851e8a7c",
   "metadata": {},
   "outputs": [
    {
     "name": "stdout",
     "output_type": "stream",
     "text": [
      "2 genes have N, so will be excluded\n"
     ]
    }
   ],
   "source": [
    "#the N in the cdna creates problem with the tokenizer\n",
    "df_genes['problematic_set'] = df_genes['cdna'].apply(lambda x: False if (set(x) - set({'A', 'C', 'G', 'T'}) == set()) else True)\n",
    "genesN = set(df_genes[df_genes.problematic_set].gene_id.values)\n",
    "print(f'{len(genesN)} genes have N, so will be excluded')\n",
    "df = df[~(df.gene1.isin(genesN))|(df.gene2.isin(genesN))].reset_index(drop = True)"
   ]
  },
  {
   "cell_type": "code",
   "execution_count": 6,
   "id": "e6d5b652",
   "metadata": {},
   "outputs": [
    {
     "name": "stdout",
     "output_type": "stream",
     "text": [
      "limit of small rna is: 7000\n",
      "limit of medium rna is: 8500\n"
     ]
    },
    {
     "data": {
      "image/png": "[encoded data removed]",
      "text/plain": [
       "<Figure size 432x288 with 1 Axes>"
      ]
     },
     "metadata": {
      "needs_background": "light"
     },
     "output_type": "display_data"
    },
    {
     "name": "stdout",
     "output_type": "stream",
     "text": [
      "The amount of contact matrixes (in the entire dataset) that are small is 81.9% \n",
      "The amount of contact matrixes (in the entire dataset) that are medium is 17.1% \n",
      "The amount of contact matrixes (in the entire dataset) that are big is 1.0% \n"
     ]
    }
   ],
   "source": [
    "df_small, df_medium, df_big = get_df_small_medium_big(df, limit_small_rna = 7_000, limit_medium_rna = 8_500, plot_distributions=True)\n",
    "\n",
    "perc_small, perc_medium, perc_big = calc_perc_small_medium_big(df_small.shape[0],df_medium.shape[0],df_big.shape[0], df.shape[0])"
   ]
  },
  {
   "cell_type": "code",
   "execution_count": 7,
   "id": "143d17d3",
   "metadata": {},
   "outputs": [],
   "source": [
    "pos_width_multipliers = {1_000_000: 1.}\n",
    "pos_height_multipliers = pos_width_multipliers\n",
    "neg_width_windows = {(MAX_RNA_SIZE, MAX_RNA_SIZE + 1): float(1),}\n",
    "neg_height_windows = neg_width_windows"
   ]
  },
  {
   "cell_type": "code",
   "execution_count": 8,
   "id": "c43d7fff",
   "metadata": {},
   "outputs": [],
   "source": [
    "#small policies\n",
    "ep_per_sample_small=1\n",
    "sn_per_sample_small=1\n",
    "en_per_sample_small=1\n",
    "hn_per_sample_small=1\n",
    "\n",
    "#medium policies\n",
    "ep_per_sample_medium=1\n",
    "sn_per_sample_medium=1\n",
    "en_per_sample_medium=1\n",
    "hn_per_sample_medium=1\n",
    "\n",
    "\n",
    "#big policies\n",
    "ep_per_sample_big=1\n",
    "sn_per_sample_big=1\n",
    "en_per_sample_big=1\n",
    "hn_per_sample_big=1"
   ]
  },
  {
   "cell_type": "code",
   "execution_count": 9,
   "id": "e7c97ff0-166c-4334-9dc9-3208da56f03b",
   "metadata": {},
   "outputs": [
    {
     "name": "stdout",
     "output_type": "stream",
     "text": [
      "expected smartneg are the 33.33% of negative pairs\n",
      "expected easyneg are the 33.33% of negative pairs\n",
      "expected hardneg are the 33.33% of negative pairs\n",
      "expected unbalanced factor is 13.12%\n"
     ]
    }
   ],
   "source": [
    "tot_ep = ep_per_sample_small*perc_small + ep_per_sample_medium*perc_medium + ep_per_sample_big*perc_big\n",
    "tot_sn = sn_per_sample_small*perc_small + sn_per_sample_medium*perc_medium + sn_per_sample_big*perc_big\n",
    "tot_en = en_per_sample_small*perc_small + en_per_sample_medium*perc_medium + en_per_sample_big*perc_big\n",
    "tot_hn = hn_per_sample_small*perc_small + hn_per_sample_medium*perc_medium + hn_per_sample_big*perc_big\n",
    "\n",
    "tot_neg = tot_sn + tot_en + tot_hn\n",
    "print(f'expected smartneg are the {np.round( tot_sn/tot_neg *100, 2)}% of negative pairs')\n",
    "print(f'expected easyneg are the {np.round( tot_en/tot_neg *100, 2)}% of negative pairs')\n",
    "print(f'expected hardneg are the {np.round( tot_hn/tot_neg *100, 2)}% of negative pairs')\n",
    "\n",
    "unbalanced_factor = df[df.interacting == False].shape[0]/df.shape[0]\n",
    "expected_uf = tot_ep*unbalanced_factor / ((tot_ep*unbalanced_factor) + tot_neg)\n",
    "print(f'expected unbalanced factor is {np.round(expected_uf*100, 2)}%')"
   ]
  },
  {
   "cell_type": "markdown",
   "id": "4b032d94",
   "metadata": {
    "tags": []
   },
   "source": [
    "# Data Loader val"
   ]
  },
  {
   "cell_type": "code",
   "execution_count": 10,
   "id": "2c07e87d",
   "metadata": {},
   "outputs": [],
   "source": [
    "subset_file = ''\n",
    "\n",
    "meta = {}\n",
    "id_couple = 0"
   ]
  },
  {
   "cell_type": "code",
   "execution_count": 11,
   "id": "29154d0d-e720-423d-bfd7-c48c348be523",
   "metadata": {},
   "outputs": [],
   "source": [
    "#small policies\n",
    "ep_per_sample_small=0\n",
    "sn_per_sample_small=0\n",
    "en_per_sample_small=0\n",
    "hn_per_sample_small=1\n",
    "\n",
    "#medium policies\n",
    "ep_per_sample_medium=0\n",
    "sn_per_sample_medium=0\n",
    "en_per_sample_medium=0\n",
    "hn_per_sample_medium=1\n",
    "\n",
    "\n",
    "#big policies\n",
    "ep_per_sample_big=0\n",
    "sn_per_sample_big=0\n",
    "en_per_sample_big=0\n",
    "hn_per_sample_big=1"
   ]
  },
  {
   "cell_type": "code",
   "execution_count": 12,
   "id": "69177ee6-8dd0-4223-92b9-a582e6d191b7",
   "metadata": {},
   "outputs": [
    {
     "data": {
      "application/vnd.jupyter.widget-view+json": {
       "model_id": "50c27d5649f04b7185e3d40d69655655",
       "version_major": 2,
       "version_minor": 0
      },
      "text/plain": [
       "  0%|          | 0/1043 [00:00<?, ?it/s]"
      ]
     },
     "metadata": {},
     "output_type": "display_data"
    },
    {
     "name": "stdout",
     "output_type": "stream",
     "text": [
      "7122\n",
      "785 6755\n",
      "259 276\n",
      "1665\n",
      "0 943\n",
      "944 962\n",
      "\n",
      "\n",
      "\n",
      "7122 1665\n",
      "4.277477477477477\n",
      "2962\n",
      "682 2961\n",
      "664 681\n",
      "2848\n",
      "889 2847\n",
      "870 888\n",
      "\n",
      "\n",
      "\n",
      "2962 2848\n",
      "1.0400280898876404\n",
      "6271\n",
      "1383 6270\n",
      "1327 1382\n",
      "4662\n",
      "0 3751\n",
      "3752 3769\n",
      "\n",
      "\n",
      "\n",
      "6271 4662\n",
      "1.345130845130845\n",
      "3939\n",
      "0 3548\n",
      "3549 3567\n",
      "1621\n",
      "0 961\n",
      "962 979\n",
      "\n",
      "\n",
      "\n",
      "3939 1621\n",
      "2.429981492905614\n",
      "2434\n",
      "0 1774\n",
      "1775 1792\n",
      "1527\n",
      "781 1526\n",
      "675 780\n",
      "\n",
      "\n",
      "\n",
      "2434 1527\n",
      "1.5939751146037984\n",
      "1527\n",
      "0 1061\n",
      "1062 1120\n",
      "2842\n",
      "0 2604\n",
      "2605 2622\n",
      "\n",
      "\n",
      "\n",
      "1527 2842\n",
      "0.5372976776917664\n",
      "3363\n",
      "101 3362\n",
      "82 100\n",
      "1346\n",
      "0 762\n",
      "763 823\n",
      "\n",
      "\n",
      "\n",
      "3363 1346\n",
      "2.49851411589896\n",
      "3066\n",
      "0 2121\n",
      "2122 2161\n",
      "3165\n",
      "0 2982\n",
      "2983 3052\n",
      "\n",
      "\n",
      "\n",
      "3066 3165\n",
      "0.9687203791469194\n",
      "2505\n",
      "0 1508\n",
      "1509 2073\n",
      "1794\n",
      "78 1793\n",
      "53 77\n",
      "\n",
      "\n",
      "\n",
      "2505 1794\n",
      "1.3963210702341138\n",
      "4234\n",
      "0 3559\n",
      "3560 3577\n",
      "5897\n",
      "0 3877\n",
      "3878 3896\n",
      "\n",
      "\n",
      "\n",
      "4234 5897\n",
      "0.7179921994234356\n",
      "4662\n",
      "0 3751\n",
      "3752 3769\n",
      "2581\n",
      "0 1724\n",
      "1725 1742\n",
      "\n",
      "\n",
      "\n",
      "4662 2581\n",
      "1.8062766369624177\n",
      "4662\n",
      "0 3751\n",
      "3752 3769\n",
      "5705\n",
      "2339 5704\n",
      "2321 2338\n",
      "\n",
      "\n",
      "\n",
      "4662 5705\n"
     ]
    },
    {
     "name": "stderr",
     "output_type": "stream",
     "text": [
      "/data01/giorgio/RNARNA-NT/src/../dataset/data.py:1357: UserWarning: color is redundantly defined by the 'color' keyword argument and the fmt string \"ro\" (-> color='r'). The keyword argument will take precedence.\n",
      "  ax.plot([0, width],[0, height], 'ro', color = 'white')\n"
     ]
    },
    {
     "name": "stdout",
     "output_type": "stream",
     "text": [
      "0.8171779141104294\n",
      "4213\n",
      "0 3642\n",
      "3643 3663\n",
      "281\n",
      "0 47\n",
      "48 280\n",
      "\n",
      "\n",
      "\n",
      "4213 281\n",
      "14.99288256227758\n",
      "3066\n",
      "0 1714\n",
      "1715 1806\n",
      "1858\n",
      "0 1536\n",
      "1537 1618\n",
      "\n",
      "\n",
      "\n",
      "3066 1858\n",
      "1.6501614639397202\n",
      "581\n",
      "251 580\n",
      "219 250\n",
      "1527\n",
      "0 1063\n",
      "1064 1129\n",
      "\n",
      "\n",
      "\n",
      "581 1527\n",
      "0.3804846103470858\n"
     ]
    },
    {
     "data": {
      "application/vnd.jupyter.widget-view+json": {
       "model_id": "5fa9204146fe4d42af47988f3c34098d",
       "version_major": 2,
       "version_minor": 0
      },
      "text/plain": [
       "  0%|          | 0/215 [00:00<?, ?it/s]"
      ]
     },
     "metadata": {},
     "output_type": "display_data"
    },
    {
     "data": {
      "application/vnd.jupyter.widget-view+json": {
       "model_id": "5259ddfc4ae94911bfe80352c844bb1f",
       "version_major": 2,
       "version_minor": 0
      },
      "text/plain": [
       "  0%|          | 0/12 [00:00<?, ?it/s]"
      ]
     },
     "metadata": {},
     "output_type": "display_data"
    },
    {
     "ename": "AssertionError",
     "evalue": "",
     "output_type": "error",
     "traceback": [
      "\u001b[0;31m---------------------------------------------------------------------------\u001b[0m",
      "\u001b[0;31mAssertionError\u001b[0m                            Traceback (most recent call last)",
      "\u001b[0;32m/tmp/ipykernel_1733678/2551623574.py\u001b[0m in \u001b[0;36m<module>\u001b[0;34m\u001b[0m\n\u001b[1;32m     58\u001b[0m \u001b[0;32massert\u001b[0m \u001b[0;34m(\u001b[0m\u001b[0mm\u001b[0m\u001b[0;34m.\u001b[0m\u001b[0my2\u001b[0m \u001b[0;34m<=\u001b[0m \u001b[0mm\u001b[0m\u001b[0;34m.\u001b[0m\u001b[0mlength_2\u001b[0m\u001b[0;34m)\u001b[0m\u001b[0;34m.\u001b[0m\u001b[0mall\u001b[0m\u001b[0;34m(\u001b[0m\u001b[0;34m)\u001b[0m\u001b[0;34m\u001b[0m\u001b[0;34m\u001b[0m\u001b[0m\n\u001b[1;32m     59\u001b[0m \u001b[0;34m\u001b[0m\u001b[0m\n\u001b[0;32m---> 60\u001b[0;31m \u001b[0;32massert\u001b[0m \u001b[0mdf_meta\u001b[0m\u001b[0;34m[\u001b[0m\u001b[0mdf_meta\u001b[0m\u001b[0;34m.\u001b[0m\u001b[0mlength_1\u001b[0m\u001b[0;34m==\u001b[0m\u001b[0mdf_meta\u001b[0m\u001b[0;34m.\u001b[0m\u001b[0moriginal_length1\u001b[0m\u001b[0;34m]\u001b[0m\u001b[0;34m[\u001b[0m\u001b[0;34m[\u001b[0m\u001b[0;34m'gene1'\u001b[0m\u001b[0;34m,\u001b[0m \u001b[0;34m'id_gene1_sample'\u001b[0m\u001b[0;34m]\u001b[0m\u001b[0;34m]\u001b[0m\u001b[0;34m.\u001b[0m\u001b[0mgroupby\u001b[0m\u001b[0;34m(\u001b[0m\u001b[0;34m'gene1'\u001b[0m\u001b[0;34m)\u001b[0m\u001b[0;34m.\u001b[0m\u001b[0mnunique\u001b[0m\u001b[0;34m(\u001b[0m\u001b[0;34m)\u001b[0m\u001b[0;34m.\u001b[0m\u001b[0mmax\u001b[0m\u001b[0;34m(\u001b[0m\u001b[0;34m)\u001b[0m\u001b[0;34m.\u001b[0m\u001b[0miloc\u001b[0m\u001b[0;34m[\u001b[0m\u001b[0;36m0\u001b[0m\u001b[0;34m]\u001b[0m \u001b[0;34m==\u001b[0m \u001b[0;36m1\u001b[0m\u001b[0;34m\u001b[0m\u001b[0;34m\u001b[0m\u001b[0m\n\u001b[0m\u001b[1;32m     61\u001b[0m \u001b[0;32massert\u001b[0m \u001b[0mdf_meta\u001b[0m\u001b[0;34m[\u001b[0m\u001b[0mdf_meta\u001b[0m\u001b[0;34m.\u001b[0m\u001b[0mlength_2\u001b[0m\u001b[0;34m==\u001b[0m\u001b[0mdf_meta\u001b[0m\u001b[0;34m.\u001b[0m\u001b[0moriginal_length2\u001b[0m\u001b[0;34m]\u001b[0m\u001b[0;34m[\u001b[0m\u001b[0;34m[\u001b[0m\u001b[0;34m'gene2'\u001b[0m\u001b[0;34m,\u001b[0m \u001b[0;34m'id_gene2_sample'\u001b[0m\u001b[0;34m]\u001b[0m\u001b[0;34m]\u001b[0m\u001b[0;34m.\u001b[0m\u001b[0mgroupby\u001b[0m\u001b[0;34m(\u001b[0m\u001b[0;34m'gene2'\u001b[0m\u001b[0;34m)\u001b[0m\u001b[0;34m.\u001b[0m\u001b[0mnunique\u001b[0m\u001b[0;34m(\u001b[0m\u001b[0;34m)\u001b[0m\u001b[0;34m.\u001b[0m\u001b[0mmax\u001b[0m\u001b[0;34m(\u001b[0m\u001b[0;34m)\u001b[0m\u001b[0;34m.\u001b[0m\u001b[0miloc\u001b[0m\u001b[0;34m[\u001b[0m\u001b[0;36m0\u001b[0m\u001b[0;34m]\u001b[0m \u001b[0;34m==\u001b[0m \u001b[0;36m1\u001b[0m\u001b[0;34m\u001b[0m\u001b[0;34m\u001b[0m\u001b[0m\n\u001b[1;32m     62\u001b[0m \u001b[0;34m\u001b[0m\u001b[0m\n",
      "\u001b[0;31mAssertionError\u001b[0m: "
     ]
    },
    {
     "data": {
      "image/png": "[encoded data removed]",
      "text/plain": [
       "<Figure size 2155.85x504 with 1 Axes>"
      ]
     },
     "metadata": {
      "needs_background": "light"
     },
     "output_type": "display_data"
    },
    {
     "data": {
      "image/png": "[encoded data removed]",
      "text/plain": [
       "<Figure size 524.174x504 with 1 Axes>"
      ]
     },
     "metadata": {
      "needs_background": "light"
     },
     "output_type": "display_data"
    },
    {
     "data": {
      "image/png": "[encoded data removed]",
      "text/plain": [
       "<Figure size 677.946x504 with 1 Axes>"
      ]
     },
     "metadata": {
      "needs_background": "light"
     },
     "output_type": "display_data"
    },
    {
     "data": {
      "image/png": "[encoded data removed]",
      "text/plain": [
       "<Figure size 1224.71x504 with 1 Axes>"
      ]
     },
     "metadata": {
      "needs_background": "light"
     },
     "output_type": "display_data"
    },
    {
     "data": {
      "image/png": "[encoded data removed]",
      "text/plain": [
       "<Figure size 803.363x504 with 1 Axes>"
      ]
     },
     "metadata": {
      "needs_background": "light"
     },
     "output_type": "display_data"
    },
    {
     "data": {
      "image/png": "[encoded data removed]",
      "text/plain": [
       "<Figure size 270.798x504 with 1 Axes>"
      ]
     },
     "metadata": {
      "needs_background": "light"
     },
     "output_type": "display_data"
    },
    {
     "data": {
      "image/png": "[encoded data removed]",
      "text/plain": [
       "<Figure size 1259.25x504 with 1 Axes>"
      ]
     },
     "metadata": {
      "needs_background": "light"
     },
     "output_type": "display_data"
    },
    {
     "data": {
      "image/png": "[encoded data removed]",
      "text/plain": [
       "<Figure size 488.235x504 with 1 Axes>"
      ]
     },
     "metadata": {
      "needs_background": "light"
     },
     "output_type": "display_data"
    },
    {
     "data": {
      "image/png": "[encoded data removed]",
      "text/plain": [
       "<Figure size 703.746x504 with 1 Axes>"
      ]
     },
     "metadata": {
      "needs_background": "light"
     },
     "output_type": "display_data"
    },
    {
     "data": {
      "image/png": "[encoded data removed]",
      "text/plain": [
       "<Figure size 361.868x504 with 1 Axes>"
      ]
     },
     "metadata": {
      "needs_background": "light"
     },
     "output_type": "display_data"
    },
    {
     "data": {
      "image/png": "[encoded data removed]",
      "text/plain": [
       "<Figure size 910.363x504 with 1 Axes>"
      ]
     },
     "metadata": {
      "needs_background": "light"
     },
     "output_type": "display_data"
    },
    {
     "data": {
      "image/png": "[encoded data removed]",
      "text/plain": [
       "<Figure size 411.858x504 with 1 Axes>"
      ]
     },
     "metadata": {
      "needs_background": "light"
     },
     "output_type": "display_data"
    },
    {
     "data": {
      "image/png": "[encoded data removed]",
      "text/plain": [
       "<Figure size 7556.41x504 with 1 Axes>"
      ]
     },
     "metadata": {
      "needs_background": "light"
     },
     "output_type": "display_data"
    },
    {
     "data": {
      "image/png": "[encoded data removed]",
      "text/plain": [
       "<Figure size 831.681x504 with 1 Axes>"
      ]
     },
     "metadata": {
      "needs_background": "light"
     },
     "output_type": "display_data"
    },
    {
     "data": {
      "image/png": "[encoded data removed]",
      "text/plain": [
       "<Figure size 191.764x504 with 1 Axes>"
      ]
     },
     "metadata": {
      "needs_background": "light"
     },
     "output_type": "display_data"
    }
   ],
   "source": [
    "start_time = time.time()\n",
    "\n",
    "small = get_dataset(ep_per_sample=ep_per_sample_small, sn_per_sample=sn_per_sample_small, \n",
    "                    en_persample=en_per_sample_small, hn_per_sample=hn_per_sample_small, \n",
    "                    df_genes=df_genes, df=df_small, subset_file=subset_file, \n",
    "                    pos_width_multipliers=pos_width_multipliers, pos_height_multipliers=pos_height_multipliers, \n",
    "                    neg_width_windows=neg_width_windows, neg_height_windows=neg_height_windows)\n",
    "\n",
    "for i, sample in tqdm(enumerate(small), total = len(small)):\n",
    "    meta[id_couple] = create_sample_dict(id_couple, sample)\n",
    "    id_couple += 1\n",
    "    \n",
    "    if np.random.rand() < 0.01:\n",
    "        print(sample.gene1_info['length'])\n",
    "        print(sample.bbox.x1, sample.bbox.x2)\n",
    "        print(sample.seed_interaction_bbox.x1, sample.seed_interaction_bbox.x2)\n",
    "        print(sample.gene2_info['length'])\n",
    "        print(sample.bbox.y1, sample.bbox.y2)\n",
    "        print(sample.seed_interaction_bbox.y1, sample.seed_interaction_bbox.y2)\n",
    "        print('\\n\\n')\n",
    "        plot_sample(sample, True)\n",
    "    \n",
    "    \n",
    "medium = get_dataset(ep_per_sample=ep_per_sample_medium, sn_per_sample=sn_per_sample_medium,\n",
    "                     en_persample=en_per_sample_medium, hn_per_sample=hn_per_sample_medium, \n",
    "                     df_genes=df_genes, df=df_medium, subset_file=subset_file,\n",
    "                     pos_width_multipliers=pos_width_multipliers, pos_height_multipliers=pos_height_multipliers, \n",
    "                     neg_width_windows=neg_width_windows, neg_height_windows=neg_height_windows)\n",
    "\n",
    "for i, sample in tqdm(enumerate(medium), total = len(medium)):\n",
    "    meta[id_couple] = create_sample_dict(id_couple, sample)\n",
    "    id_couple += 1\n",
    "    \n",
    "    \n",
    "big = get_dataset(ep_per_sample=ep_per_sample_big, sn_per_sample=sn_per_sample_big, \n",
    "                  en_persample=en_per_sample_big, hn_per_sample=hn_per_sample_big, \n",
    "                  df_genes=df_genes, df=df_big, subset_file=subset_file, \n",
    "                  pos_width_multipliers=pos_width_multipliers, pos_height_multipliers=pos_height_multipliers, \n",
    "                  neg_width_windows=neg_width_windows, neg_height_windows=neg_height_windows)\n",
    "\n",
    "for i, sample in tqdm(enumerate(big), total = len(big)):\n",
    "    meta[id_couple] = create_sample_dict(id_couple, sample)\n",
    "    id_couple += 1\n",
    "    \n",
    "df_meta = pd.DataFrame.from_dict(meta, 'index')\n",
    "df_meta['lencdna1'] = df_meta.apply(lambda x: len(x.cdna1), axis = 1)\n",
    "df_meta['lencdna2'] = df_meta.apply(lambda x: len(x.cdna2), axis = 1)\n",
    "assert (df_meta['lencdna1'] == df_meta['length_1']).all()\n",
    "assert (df_meta['lencdna2'] == df_meta['length_2']).all()\n",
    "assert ((df_meta.window_x2 - df_meta.window_x1)==(df_meta.lencdna1)).all()\n",
    "assert ((df_meta.window_y2 - df_meta.window_y1)==(df_meta.lencdna2)).all()\n",
    "df_meta = df_meta.drop(['lencdna1', 'lencdna2'], axis = 1)\n",
    "\n",
    "m = df_meta[df_meta.policy.isin({'smartneg', 'easypos'})]\n",
    "assert (m.x1 >= 0).all()\n",
    "assert (m.y1 >= 0).all()\n",
    "assert (m.x2 <= m.length_1).all()\n",
    "assert (m.y2 <= m.length_2).all()\n",
    "\n",
    "assert df_meta[df_meta.length_1==df_meta.original_length1][['gene1', 'id_gene1_sample']].groupby('gene1').nunique().max().iloc[0] == 1\n",
    "assert df_meta[df_meta.length_2==df_meta.original_length2][['gene2', 'id_gene2_sample']].groupby('gene2').nunique().max().iloc[0] == 1\n",
    "\n",
    "print(f\"Total time to create datasets: {(time.time()-start_time)/60} minutes\")"
   ]
  },
  {
   "cell_type": "code",
   "execution_count": 32,
   "id": "3f17a63a-2dd4-4863-bf6e-6dc57982deb9",
   "metadata": {},
   "outputs": [
    {
     "name": "stderr",
     "output_type": "stream",
     "text": [
      "[autoreload of dataset.data failed: Traceback (most recent call last):\n",
      "  File \"/data01/giorgio/ENTER/envs/dnabert/lib/python3.9/site-packages/IPython/extensions/autoreload.py\", line 245, in check\n",
      "    superreload(m, reload, self.old_objects)\n",
      "  File \"/data01/giorgio/ENTER/envs/dnabert/lib/python3.9/site-packages/IPython/extensions/autoreload.py\", line 410, in superreload\n",
      "    update_generic(old_obj, new_obj)\n",
      "  File \"/data01/giorgio/ENTER/envs/dnabert/lib/python3.9/site-packages/IPython/extensions/autoreload.py\", line 347, in update_generic\n",
      "    update(a, b)\n",
      "  File \"/data01/giorgio/ENTER/envs/dnabert/lib/python3.9/site-packages/IPython/extensions/autoreload.py\", line 317, in update_class\n",
      "    update_instances(old, new)\n",
      "  File \"/data01/giorgio/ENTER/envs/dnabert/lib/python3.9/site-packages/IPython/extensions/autoreload.py\", line 280, in update_instances\n",
      "    ref.__class__ = new\n",
      "  File \"<string>\", line 4, in __setattr__\n",
      "dataclasses.FrozenInstanceError: cannot assign to field '__class__'\n",
      "]\n"
     ]
    }
   ],
   "source": [
    "assert ((df_meta.window_x1) / (df_meta.original_length1) < 1).all()\n",
    "assert ((df_meta.window_x2) / (df_meta.original_length1) <= 1).all()\n",
    "\n",
    "assert ((df_meta.window_y1) / (df_meta.original_length2) < 1).all()\n",
    "assert ((df_meta.window_y2) / (df_meta.original_length2) <= 1).all()"
   ]
  },
  {
   "cell_type": "code",
   "execution_count": 33,
   "id": "dd9c3200-7456-4515-8fee-4bb7ee7b522c",
   "metadata": {},
   "outputs": [
    {
     "data": {
      "text/html": [
       "<div>\n",
       "<style scoped>\n",
       "    .dataframe tbody tr th:only-of-type {\n",
       "        vertical-align: middle;\n",
       "    }\n",
       "\n",
       "    .dataframe tbody tr th {\n",
       "        vertical-align: top;\n",
       "    }\n",
       "\n",
       "    .dataframe thead th {\n",
       "        text-align: right;\n",
       "    }\n",
       "</style>\n",
       "<table border=\"1\" class=\"dataframe\">\n",
       "  <thead>\n",
       "    <tr style=\"text-align: right;\">\n",
       "      <th></th>\n",
       "      <th>id_sample</th>\n",
       "      <th>couples</th>\n",
       "      <th>gene1</th>\n",
       "      <th>gene2</th>\n",
       "      <th>interacting</th>\n",
       "      <th>length_1</th>\n",
       "      <th>length_2</th>\n",
       "      <th>protein_coding_1</th>\n",
       "      <th>protein_coding_2</th>\n",
       "      <th>x1</th>\n",
       "      <th>...</th>\n",
       "      <th>original_y1</th>\n",
       "      <th>original_y2</th>\n",
       "      <th>window_x1</th>\n",
       "      <th>window_x2</th>\n",
       "      <th>window_y1</th>\n",
       "      <th>window_y2</th>\n",
       "      <th>original_length1</th>\n",
       "      <th>original_length2</th>\n",
       "      <th>id_gene1_sample</th>\n",
       "      <th>id_gene2_sample</th>\n",
       "    </tr>\n",
       "  </thead>\n",
       "  <tbody>\n",
       "    <tr>\n",
       "      <th>0</th>\n",
       "      <td>0</td>\n",
       "      <td>ENSMUSG00000000093_ENSMUSG00000044854</td>\n",
       "      <td>ENSMUSG00000000093</td>\n",
       "      <td>ENSMUSG00000044854</td>\n",
       "      <td>False</td>\n",
       "      <td>2198</td>\n",
       "      <td>632</td>\n",
       "      <td>True</td>\n",
       "      <td>True</td>\n",
       "      <td>2199</td>\n",
       "      <td>...</td>\n",
       "      <td>633</td>\n",
       "      <td>650</td>\n",
       "      <td>0</td>\n",
       "      <td>2198</td>\n",
       "      <td>0</td>\n",
       "      <td>632</td>\n",
       "      <td>3626</td>\n",
       "      <td>967</td>\n",
       "      <td>ENSMUSG00000000093_0_2198</td>\n",
       "      <td>ENSMUSG00000044854_0_632</td>\n",
       "    </tr>\n",
       "    <tr>\n",
       "      <th>1</th>\n",
       "      <td>1</td>\n",
       "      <td>ENSMUSG00000000093_ENSMUSG00000086515</td>\n",
       "      <td>ENSMUSG00000086515</td>\n",
       "      <td>ENSMUSG00000000093</td>\n",
       "      <td>False</td>\n",
       "      <td>588</td>\n",
       "      <td>2198</td>\n",
       "      <td>False</td>\n",
       "      <td>True</td>\n",
       "      <td>589</td>\n",
       "      <td>...</td>\n",
       "      <td>2199</td>\n",
       "      <td>2216</td>\n",
       "      <td>0</td>\n",
       "      <td>588</td>\n",
       "      <td>0</td>\n",
       "      <td>2198</td>\n",
       "      <td>608</td>\n",
       "      <td>3626</td>\n",
       "      <td>ENSMUSG00000086515_0_588</td>\n",
       "      <td>ENSMUSG00000000093_0_2198</td>\n",
       "    </tr>\n",
       "    <tr>\n",
       "      <th>2</th>\n",
       "      <td>2</td>\n",
       "      <td>ENSMUSG00000000197_ENSMUSG00000035946</td>\n",
       "      <td>ENSMUSG00000035946</td>\n",
       "      <td>ENSMUSG00000000197</td>\n",
       "      <td>False</td>\n",
       "      <td>943</td>\n",
       "      <td>5970</td>\n",
       "      <td>True</td>\n",
       "      <td>True</td>\n",
       "      <td>944</td>\n",
       "      <td>...</td>\n",
       "      <td>259</td>\n",
       "      <td>276</td>\n",
       "      <td>0</td>\n",
       "      <td>943</td>\n",
       "      <td>383</td>\n",
       "      <td>6353</td>\n",
       "      <td>1665</td>\n",
       "      <td>7122</td>\n",
       "      <td>ENSMUSG00000035946_0_943</td>\n",
       "      <td>ENSMUSG00000000197_383_6353</td>\n",
       "    </tr>\n",
       "    <tr>\n",
       "      <th>3</th>\n",
       "      <td>3</td>\n",
       "      <td>ENSMUSG00000000339_ENSMUSG00000091021</td>\n",
       "      <td>ENSMUSG00000000339</td>\n",
       "      <td>ENSMUSG00000091021</td>\n",
       "      <td>False</td>\n",
       "      <td>844</td>\n",
       "      <td>768</td>\n",
       "      <td>True</td>\n",
       "      <td>False</td>\n",
       "      <td>845</td>\n",
       "      <td>...</td>\n",
       "      <td>668</td>\n",
       "      <td>757</td>\n",
       "      <td>0</td>\n",
       "      <td>844</td>\n",
       "      <td>758</td>\n",
       "      <td>1526</td>\n",
       "      <td>1594</td>\n",
       "      <td>1527</td>\n",
       "      <td>ENSMUSG00000000339_0_844</td>\n",
       "      <td>ENSMUSG00000091021_758_1526</td>\n",
       "    </tr>\n",
       "    <tr>\n",
       "      <th>4</th>\n",
       "      <td>4</td>\n",
       "      <td>ENSMUSG00000000359_ENSMUSG00000091021</td>\n",
       "      <td>ENSMUSG00000000359</td>\n",
       "      <td>ENSMUSG00000091021</td>\n",
       "      <td>False</td>\n",
       "      <td>1587</td>\n",
       "      <td>1038</td>\n",
       "      <td>True</td>\n",
       "      <td>False</td>\n",
       "      <td>-19</td>\n",
       "      <td>...</td>\n",
       "      <td>1039</td>\n",
       "      <td>1096</td>\n",
       "      <td>75</td>\n",
       "      <td>1662</td>\n",
       "      <td>0</td>\n",
       "      <td>1038</td>\n",
       "      <td>1663</td>\n",
       "      <td>1527</td>\n",
       "      <td>ENSMUSG00000000359_75_1662</td>\n",
       "      <td>ENSMUSG00000091021_0_1038</td>\n",
       "    </tr>\n",
       "    <tr>\n",
       "      <th>...</th>\n",
       "      <td>...</td>\n",
       "      <td>...</td>\n",
       "      <td>...</td>\n",
       "      <td>...</td>\n",
       "      <td>...</td>\n",
       "      <td>...</td>\n",
       "      <td>...</td>\n",
       "      <td>...</td>\n",
       "      <td>...</td>\n",
       "      <td>...</td>\n",
       "      <td>...</td>\n",
       "      <td>...</td>\n",
       "      <td>...</td>\n",
       "      <td>...</td>\n",
       "      <td>...</td>\n",
       "      <td>...</td>\n",
       "      <td>...</td>\n",
       "      <td>...</td>\n",
       "      <td>...</td>\n",
       "      <td>...</td>\n",
       "      <td>...</td>\n",
       "    </tr>\n",
       "    <tr>\n",
       "      <th>3805</th>\n",
       "      <td>3805</td>\n",
       "      <td>ENSMUSG00000036913_ENSMUSG00000101609</td>\n",
       "      <td>ENSMUSG00000036913</td>\n",
       "      <td>ENSMUSG00000101609</td>\n",
       "      <td>False</td>\n",
       "      <td>4778</td>\n",
       "      <td>5970</td>\n",
       "      <td>True</td>\n",
       "      <td>False</td>\n",
       "      <td>-19</td>\n",
       "      <td>...</td>\n",
       "      <td>52691</td>\n",
       "      <td>52708</td>\n",
       "      <td>3956</td>\n",
       "      <td>8734</td>\n",
       "      <td>35980</td>\n",
       "      <td>41950</td>\n",
       "      <td>8735</td>\n",
       "      <td>93092</td>\n",
       "      <td>ENSMUSG00000036913_3956_8734</td>\n",
       "      <td>ENSMUSG00000101609_35980_41950</td>\n",
       "    </tr>\n",
       "    <tr>\n",
       "      <th>3806</th>\n",
       "      <td>3806</td>\n",
       "      <td>ENSMUSG00000039218_ENSMUSG00000049336</td>\n",
       "      <td>ENSMUSG00000049336</td>\n",
       "      <td>ENSMUSG00000039218</td>\n",
       "      <td>False</td>\n",
       "      <td>5660</td>\n",
       "      <td>4997</td>\n",
       "      <td>True</td>\n",
       "      <td>True</td>\n",
       "      <td>5661</td>\n",
       "      <td>...</td>\n",
       "      <td>4998</td>\n",
       "      <td>5018</td>\n",
       "      <td>0</td>\n",
       "      <td>5660</td>\n",
       "      <td>0</td>\n",
       "      <td>4997</td>\n",
       "      <td>9908</td>\n",
       "      <td>8864</td>\n",
       "      <td>ENSMUSG00000049336_0_5660</td>\n",
       "      <td>ENSMUSG00000039218_0_4997</td>\n",
       "    </tr>\n",
       "    <tr>\n",
       "      <th>3807</th>\n",
       "      <td>3807</td>\n",
       "      <td>ENSMUSG00000039218_ENSMUSG00000056724</td>\n",
       "      <td>ENSMUSG00000039218</td>\n",
       "      <td>ENSMUSG00000056724</td>\n",
       "      <td>False</td>\n",
       "      <td>4997</td>\n",
       "      <td>5970</td>\n",
       "      <td>True</td>\n",
       "      <td>True</td>\n",
       "      <td>4998</td>\n",
       "      <td>...</td>\n",
       "      <td>1151</td>\n",
       "      <td>1168</td>\n",
       "      <td>0</td>\n",
       "      <td>4997</td>\n",
       "      <td>2275</td>\n",
       "      <td>8245</td>\n",
       "      <td>8864</td>\n",
       "      <td>8803</td>\n",
       "      <td>ENSMUSG00000039218_0_4997</td>\n",
       "      <td>ENSMUSG00000056724_2275_8245</td>\n",
       "    </tr>\n",
       "    <tr>\n",
       "      <th>3808</th>\n",
       "      <td>3808</td>\n",
       "      <td>ENSMUSG00000042644_ENSMUSG00000101609</td>\n",
       "      <td>ENSMUSG00000101609</td>\n",
       "      <td>ENSMUSG00000042644</td>\n",
       "      <td>False</td>\n",
       "      <td>5970</td>\n",
       "      <td>5970</td>\n",
       "      <td>False</td>\n",
       "      <td>True</td>\n",
       "      <td>-64303</td>\n",
       "      <td>...</td>\n",
       "      <td>2985</td>\n",
       "      <td>3002</td>\n",
       "      <td>84441</td>\n",
       "      <td>90411</td>\n",
       "      <td>3004</td>\n",
       "      <td>8974</td>\n",
       "      <td>93092</td>\n",
       "      <td>8990</td>\n",
       "      <td>ENSMUSG00000101609_84441_90411</td>\n",
       "      <td>ENSMUSG00000042644_3004_8974</td>\n",
       "    </tr>\n",
       "    <tr>\n",
       "      <th>3809</th>\n",
       "      <td>3809</td>\n",
       "      <td>ENSMUSG00000048126_ENSMUSG00000075324</td>\n",
       "      <td>ENSMUSG00000075324</td>\n",
       "      <td>ENSMUSG00000048126</td>\n",
       "      <td>False</td>\n",
       "      <td>5970</td>\n",
       "      <td>5970</td>\n",
       "      <td>True</td>\n",
       "      <td>True</td>\n",
       "      <td>-3204</td>\n",
       "      <td>...</td>\n",
       "      <td>6676</td>\n",
       "      <td>6693</td>\n",
       "      <td>3219</td>\n",
       "      <td>9189</td>\n",
       "      <td>393</td>\n",
       "      <td>6363</td>\n",
       "      <td>9734</td>\n",
       "      <td>10106</td>\n",
       "      <td>ENSMUSG00000075324_3219_9189</td>\n",
       "      <td>ENSMUSG00000048126_393_6363</td>\n",
       "    </tr>\n",
       "  </tbody>\n",
       "</table>\n",
       "<p>3810 rows × 28 columns</p>\n",
       "</div>"
      ],
      "text/plain": [
       "      id_sample                                couples               gene1  \\\n",
       "0             0  ENSMUSG00000000093_ENSMUSG00000044854  ENSMUSG00000000093   \n",
       "1             1  ENSMUSG00000000093_ENSMUSG00000086515  ENSMUSG00000086515   \n",
       "2             2  ENSMUSG00000000197_ENSMUSG00000035946  ENSMUSG00000035946   \n",
       "3             3  ENSMUSG00000000339_ENSMUSG00000091021  ENSMUSG00000000339   \n",
       "4             4  ENSMUSG00000000359_ENSMUSG00000091021  ENSMUSG00000000359   \n",
       "...         ...                                    ...                 ...   \n",
       "3805       3805  ENSMUSG00000036913_ENSMUSG00000101609  ENSMUSG00000036913   \n",
       "3806       3806  ENSMUSG00000039218_ENSMUSG00000049336  ENSMUSG00000049336   \n",
       "3807       3807  ENSMUSG00000039218_ENSMUSG00000056724  ENSMUSG00000039218   \n",
       "3808       3808  ENSMUSG00000042644_ENSMUSG00000101609  ENSMUSG00000101609   \n",
       "3809       3809  ENSMUSG00000048126_ENSMUSG00000075324  ENSMUSG00000075324   \n",
       "\n",
       "                   gene2  interacting  length_1  length_2  protein_coding_1  \\\n",
       "0     ENSMUSG00000044854        False      2198       632              True   \n",
       "1     ENSMUSG00000000093        False       588      2198             False   \n",
       "2     ENSMUSG00000000197        False       943      5970              True   \n",
       "3     ENSMUSG00000091021        False       844       768              True   \n",
       "4     ENSMUSG00000091021        False      1587      1038              True   \n",
       "...                  ...          ...       ...       ...               ...   \n",
       "3805  ENSMUSG00000101609        False      4778      5970              True   \n",
       "3806  ENSMUSG00000039218        False      5660      4997              True   \n",
       "3807  ENSMUSG00000056724        False      4997      5970              True   \n",
       "3808  ENSMUSG00000042644        False      5970      5970             False   \n",
       "3809  ENSMUSG00000048126        False      5970      5970              True   \n",
       "\n",
       "      protein_coding_2     x1  ...  original_y1  original_y2  window_x1  \\\n",
       "0                 True   2199  ...          633          650          0   \n",
       "1                 True    589  ...         2199         2216          0   \n",
       "2                 True    944  ...          259          276          0   \n",
       "3                False    845  ...          668          757          0   \n",
       "4                False    -19  ...         1039         1096         75   \n",
       "...                ...    ...  ...          ...          ...        ...   \n",
       "3805             False    -19  ...        52691        52708       3956   \n",
       "3806              True   5661  ...         4998         5018          0   \n",
       "3807              True   4998  ...         1151         1168          0   \n",
       "3808              True -64303  ...         2985         3002      84441   \n",
       "3809              True  -3204  ...         6676         6693       3219   \n",
       "\n",
       "     window_x2 window_y1 window_y2  original_length1  original_length2  \\\n",
       "0         2198         0       632              3626               967   \n",
       "1          588         0      2198               608              3626   \n",
       "2          943       383      6353              1665              7122   \n",
       "3          844       758      1526              1594              1527   \n",
       "4         1662         0      1038              1663              1527   \n",
       "...        ...       ...       ...               ...               ...   \n",
       "3805      8734     35980     41950              8735             93092   \n",
       "3806      5660         0      4997              9908              8864   \n",
       "3807      4997      2275      8245              8864              8803   \n",
       "3808     90411      3004      8974             93092              8990   \n",
       "3809      9189       393      6363              9734             10106   \n",
       "\n",
       "                     id_gene1_sample                 id_gene2_sample  \n",
       "0          ENSMUSG00000000093_0_2198        ENSMUSG00000044854_0_632  \n",
       "1           ENSMUSG00000086515_0_588       ENSMUSG00000000093_0_2198  \n",
       "2           ENSMUSG00000035946_0_943     ENSMUSG00000000197_383_6353  \n",
       "3           ENSMUSG00000000339_0_844     ENSMUSG00000091021_758_1526  \n",
       "4         ENSMUSG00000000359_75_1662       ENSMUSG00000091021_0_1038  \n",
       "...                              ...                             ...  \n",
       "3805    ENSMUSG00000036913_3956_8734  ENSMUSG00000101609_35980_41950  \n",
       "3806       ENSMUSG00000049336_0_5660       ENSMUSG00000039218_0_4997  \n",
       "3807       ENSMUSG00000039218_0_4997    ENSMUSG00000056724_2275_8245  \n",
       "3808  ENSMUSG00000101609_84441_90411    ENSMUSG00000042644_3004_8974  \n",
       "3809    ENSMUSG00000075324_3219_9189     ENSMUSG00000048126_393_6363  \n",
       "\n",
       "[3810 rows x 28 columns]"
      ]
     },
     "execution_count": 33,
     "metadata": {},
     "output_type": "execute_result"
    }
   ],
   "source": [
    "relative_start1 = (df_meta.window_x1) / (df_meta.original_length1)\n",
    "relative_end1 = (df_meta.window_x2) / (df_meta.original_length1)\n",
    "\n",
    "relative_start2 = (df_meta.window_y1) / (df_meta.original_length2)\n",
    "relative_end2 = (df_meta.window_y2) / (df_meta.original_length2)"
   ]
  },
  {
   "cell_type": "code",
   "execution_count": null,
   "id": "0d62d63a-348e-4668-bab8-1f4ffc0d2363",
   "metadata": {},
   "outputs": [],
   "source": []
  },
  {
   "cell_type": "code",
   "execution_count": null,
   "id": "fc1ecbd6-802b-42aa-968b-bdd76cca5964",
   "metadata": {},
   "outputs": [],
   "source": []
  },
  {
   "cell_type": "code",
   "execution_count": null,
   "id": "c82045cd",
   "metadata": {},
   "outputs": [],
   "source": [
    "df_meta.to_csv(os.path.join(metadata_dir, f'{how}.csv'), index = False)"
   ]
  },
  {
   "cell_type": "markdown",
   "id": "479ac190",
   "metadata": {},
   "source": [
    "# Create the embedding query"
   ]
  },
  {
   "cell_type": "code",
   "execution_count": 29,
   "id": "3b843ca1",
   "metadata": {},
   "outputs": [],
   "source": [
    "df_meta = pd.read_csv(os.path.join(metadata_dir, f'{how}.csv'))"
   ]
  },
  {
   "cell_type": "code",
   "execution_count": 30,
   "id": "28b61c8f",
   "metadata": {},
   "outputs": [],
   "source": [
    "def create_query_df(df):\n",
    "    df1 = df[['id_gene1_sample', 'cdna1']].drop_duplicates().rename({'id_gene1_sample':'id_query', 'cdna1':'cdna'}, axis = 1)\n",
    "    df2 = df[['id_gene2_sample', 'cdna2']].drop_duplicates().rename({'id_gene2_sample':'id_query', 'cdna2':'cdna'}, axis = 1)\n",
    "    df = pd.concat([df1, df2], axis = 0).drop_duplicates().reset_index(drop = True)\n",
    "    return df"
   ]
  },
  {
   "cell_type": "code",
   "execution_count": 31,
   "id": "00647396",
   "metadata": {},
   "outputs": [],
   "source": [
    "df_query = create_query_df(df_meta).drop_duplicates().reset_index(drop = True)"
   ]
  },
  {
   "cell_type": "code",
   "execution_count": 32,
   "id": "5b2edae0",
   "metadata": {},
   "outputs": [],
   "source": [
    "query = set(df_meta['id_gene1_sample']).union(df_meta['id_gene2_sample'])\n",
    "\n",
    "#the 2 assert below also means that there are unique cdna per id_query\n",
    "assert len(df_query.id_query) == len(query)\n",
    "assert set(df_query.id_query) == query"
   ]
  },
  {
   "cell_type": "code",
   "execution_count": 33,
   "id": "fd166b72",
   "metadata": {},
   "outputs": [],
   "source": [
    "all_files = os.listdir(os.path.join(embedding_dir, '32'))\n",
    "all_files = list(pd.Series(all_files).str.extractall('(.*)\\.npy').reset_index()[0])\n",
    "df_query = df_query[~df_query.id_query.isin(all_files)]"
   ]
  },
  {
   "cell_type": "code",
   "execution_count": 34,
   "id": "f5b656a0",
   "metadata": {},
   "outputs": [],
   "source": [
    "df_query.to_csv(os.path.join(metadata_dir, f'embedding_query.csv'), index = False)"
   ]
  },
  {
   "cell_type": "code",
   "execution_count": 105,
   "id": "df1ac975",
   "metadata": {},
   "outputs": [
    {
     "name": "stdout",
     "output_type": "stream",
     "text": [
      "estimated # hours: 0.45\n",
      "estimated # days: 0.02\n",
      "estimated terabytes (pessimistic): 0.02\n",
      "estimated terabytes (realistic): 0.01\n"
     ]
    }
   ],
   "source": [
    "def estimate_time_and_space(n_samples):\n",
    "    #TIME\n",
    "    minutes = 3219*n_samples/(228278)\n",
    "    hours = minutes/60\n",
    "    days = hours/24\n",
    "    print('estimated # hours:', np.round(hours, 2))\n",
    "    print('estimated # days:', np.round(days, 2))\n",
    "\n",
    "    mb = 10.2*n_samples\n",
    "    gb = mb/1000\n",
    "    tb = gb/1000\n",
    "    print('estimated terabytes (pessimistic):', np.round(tb, 2))\n",
    "    mb = 1995*n_samples/(300)\n",
    "    gb = mb/1000\n",
    "    tb = gb/1000\n",
    "    print('estimated terabytes (realistic):', np.round(tb, 2))\n",
    "estimate_time_and_space(df_query.shape[0])"
   ]
  },
  {
   "cell_type": "code",
   "execution_count": 98,
   "id": "018c30e2",
   "metadata": {},
   "outputs": [],
   "source": [
    "def get_directory_size(directory):\n",
    "    total_size = 0\n",
    "    n_files = 0\n",
    "    # Walk through all the files and subdirectories in the directory\n",
    "    for path, dirs, files in os.walk(directory):\n",
    "        for file in files:\n",
    "            file_path = os.path.join(path, file)\n",
    "            total_size += os.stat(file_path).st_size\n",
    "            n_files+=1\n",
    "\n",
    "    # Convert the size to a human-readable format\n",
    "    size_in_bytes = total_size\n",
    "    size_in_kilobytes = total_size / 1000\n",
    "    size_in_megabytes = size_in_kilobytes / 1000\n",
    "    size_in_gigabytes = size_in_megabytes / 1000\n",
    "    size_in_terabytes = size_in_gigabytes / 1000\n",
    "\n",
    "    return {\n",
    "        \"n_files\":n_files,\n",
    "        # \"bytes\": size_in_bytes,\n",
    "        # \"kilobytes\": size_in_kilobytes,\n",
    "        # \"megabytes\": size_in_megabytes,\n",
    "        \"gigabytes\": size_in_gigabytes, \n",
    "        \"terabytes\": size_in_terabytes, \n",
    "    }\n",
    "\n",
    "# Usage example\n",
    "directory_path = os.path.join(embedding_dir)\n",
    "print_size = False\n",
    "if print_size:\n",
    "    directory_size = get_directory_size(directory_path)\n",
    "    print(directory_size)"
   ]
  },
  {
   "cell_type": "markdown",
   "id": "bed3520d",
   "metadata": {},
   "source": [
    "# Create df_genes_nt and df_nt"
   ]
  },
  {
   "cell_type": "code",
   "execution_count": 91,
   "id": "3e1f4e3a",
   "metadata": {},
   "outputs": [],
   "source": [
    "#import data \n",
    "df_meta = pd.read_csv(os.path.join(metadata_dir, f'{how}.csv'))"
   ]
  },
  {
   "cell_type": "code",
   "execution_count": 92,
   "id": "095dc8b3",
   "metadata": {},
   "outputs": [],
   "source": [
    "def swap_if_needed(df):\n",
    "    df['actual_couples'] = df.gene1 + '_' + df.gene2\n",
    "    df['need_to_swap'] = df.couples!=df.actual_couples\n",
    "    where = df.need_to_swap\n",
    "    df.loc[where, ['gene1', 'gene2']] = (df.loc[where, ['gene2', 'gene1']].values)\n",
    "    df.loc[where, ['length_1', 'length_2']] = (df.loc[where, ['length_2', 'length_1']].values)\n",
    "    df.loc[where, ['protein_coding_1', 'protein_coding_2']] = (df.loc[where, ['protein_coding_2', 'protein_coding_1']].values)\n",
    "    df.loc[where, ['x1', 'y1']] = (df.loc[where, ['y1', 'x1']].values)\n",
    "    df.loc[where, ['x2', 'y2']] = (df.loc[where, ['y2', 'x2']].values)\n",
    "    df.loc[where, ['cdna1', 'cdna2']] = (df.loc[where, ['cdna2', 'cdna1']].values)\n",
    "    df.loc[where, ['original_x1', 'original_y1']] = (df.loc[where, ['original_y1', 'original_x1']].values)\n",
    "    df.loc[where, ['original_x2', 'original_y2']] = (df.loc[where, ['original_y2', 'original_x2']].values)\n",
    "    df.loc[where, ['window_x1', 'window_y1']] = (df.loc[where, ['window_y1', 'window_x1']].values)\n",
    "    df.loc[where, ['window_x2', 'window_y2']] = (df.loc[where, ['window_y2', 'window_x2']].values)\n",
    "    df.loc[where, ['original_length1', 'original_length2']] = (df.loc[where, ['original_length2', 'original_length1']].values)\n",
    "    df.loc[where, ['id_gene1_sample', 'id_gene2_sample']] = (df.loc[where, ['id_gene2_sample', 'id_gene1_sample']].values)\n",
    "    if ('diff1' in df.columns)&('diff2' in df.columns):\n",
    "        df.loc[where, ['diff1', 'diff2']] = (df.loc[where, ['diff2', 'diff1']].values)\n",
    "    df['actual_couples'] = df.gene1 + '_' + df.gene2\n",
    "    assert (df.couples==df.actual_couples).all()\n",
    "    return df.drop(['need_to_swap', 'actual_couples'], axis = 1)"
   ]
  },
  {
   "cell_type": "code",
   "execution_count": 93,
   "id": "a189c808",
   "metadata": {},
   "outputs": [],
   "source": [
    "df_meta = swap_if_needed(df_meta)"
   ]
  },
  {
   "cell_type": "code",
   "execution_count": 94,
   "id": "f83a1416",
   "metadata": {},
   "outputs": [],
   "source": [
    "assert len(set(df_meta.id_sample)) == len(df_meta)"
   ]
  },
  {
   "cell_type": "code",
   "execution_count": 95,
   "id": "606d01e4",
   "metadata": {},
   "outputs": [
    {
     "name": "stdout",
     "output_type": "stream",
     "text": [
      "splash: 4060\n"
     ]
    }
   ],
   "source": [
    "df_meta['couples_id'] = df_meta['couples']\n",
    "df_meta['couples'] = df_meta['id_sample']\n",
    "\n",
    "\n",
    "print(f'{how}:', len(list(set(df_meta.couples))))"
   ]
  },
  {
   "cell_type": "markdown",
   "id": "3685c6ae-8054-4e30-91b7-0584ebe59a95",
   "metadata": {},
   "source": [
    "#### Drop the small couples"
   ]
  },
  {
   "cell_type": "code",
   "execution_count": 96,
   "id": "1b10add1-418d-4178-afcf-243dedc6318b",
   "metadata": {},
   "outputs": [
    {
     "name": "stdout",
     "output_type": "stream",
     "text": [
      "# dropped =  0\n"
     ]
    }
   ],
   "source": [
    "min_len = 25\n",
    "\n",
    "original_shape = df_meta.shape[0]\n",
    "df_meta = df_meta[~((df_meta.length_1 < min_len) | (df_meta.length_2 < min_len))].reset_index(drop = True)\n",
    "print('# dropped = ', original_shape - df_meta.shape[0])"
   ]
  },
  {
   "cell_type": "markdown",
   "id": "81798964",
   "metadata": {},
   "source": [
    "##### Create fake_interaction_region"
   ]
  },
  {
   "cell_type": "code",
   "execution_count": 97,
   "id": "5e10a5a5",
   "metadata": {},
   "outputs": [],
   "source": [
    "#create fake_interaction_region\n",
    "interaction_size=16\n",
    "\n",
    "def create_fake_interaction_region(df, interaction_size=16):\n",
    "    subset = df[df.policy.isin(['hardneg', 'easyneg'])]\n",
    "    \n",
    "    length1_values = subset['length_1'].values - interaction_size\n",
    "    length2_values = subset['length_2'].values - interaction_size\n",
    "\n",
    "    # Generate random indices within the length1 range\n",
    "    x1_indices = np.random.randint(0, length1_values, size=len(subset))\n",
    "    x2_indices = x1_indices + interaction_size  # Ensure a distance of interaction_size between x1 and x2\n",
    "\n",
    "    # Generate random indices within the length2 range\n",
    "    y1_indices = np.random.randint(0, length2_values, size=len(subset))\n",
    "    y2_indices = y1_indices + interaction_size  # Ensure a distance of interaction_size between y1 and y2\n",
    "    \n",
    "    df.loc[df.policy.isin(['hardneg', 'easyneg']), 'x1'] = x1_indices\n",
    "    df.loc[df.policy.isin(['hardneg', 'easyneg']), 'x2'] = x2_indices\n",
    "    df.loc[df.policy.isin(['hardneg', 'easyneg']), 'y1'] = y1_indices\n",
    "    df.loc[df.policy.isin(['hardneg', 'easyneg']), 'y2'] = y2_indices\n",
    "    return df\n",
    "\n",
    "\n",
    "df_meta = create_fake_interaction_region(df_meta, interaction_size=16)\n",
    "\n",
    "assert (df_meta.x2<=df_meta.length_1).all()\n",
    "\n",
    "assert (df_meta.x1>=0).all()\n",
    "\n",
    "\n",
    "subset = df_meta[df_meta.policy.isin(['hardneg', 'easyneg'])]\n",
    "assert ((subset.x2-subset.x1) == interaction_size).all()"
   ]
  },
  {
   "cell_type": "code",
   "execution_count": 98,
   "id": "c09f399c",
   "metadata": {},
   "outputs": [],
   "source": [
    "df_full = df_meta\n",
    "df_full = df_full.rename({'gene1':'gene1_id', 'gene2':'gene2_id'}, axis = 1)\n",
    "df_full = df_full.rename({'id_gene1_sample':'gene1', 'id_gene2_sample':'gene2'}, axis = 1)"
   ]
  },
  {
   "cell_type": "code",
   "execution_count": 99,
   "id": "4a430d97",
   "metadata": {},
   "outputs": [],
   "source": [
    "df_nt = df_full.copy()\n",
    "df_nt['w'] = df_nt['x2'] - df_nt['x1']\n",
    "df_nt['h'] = df_nt['y2'] - df_nt['y1']\n",
    "column_order = ['couples','gene1','gene2','interacting',\n",
    "                'length_1','length_2','protein_coding_1','protein_coding_2',\n",
    "                'x1','y1','w','h', 'policy',\n",
    "                'original_x1','original_x2',\n",
    "                'original_y1','original_y2',\n",
    "                'id_gene1_sample','id_gene2_sample', 'couples_id',\n",
    "               ]\n",
    "df_nt = df_nt.drop_duplicates(subset = [\n",
    "    'couples','gene1','gene2','interacting',\n",
    "    'length_1','length_2','protein_coding_1',\n",
    "    'protein_coding_2','x1','y1','w','h',\n",
    "    'policy','original_x1','original_x2',\n",
    "    'original_y1','original_y2','couples_id'\n",
    "]).reset_index(drop = True)\n",
    "df_nt = df_nt.filter(column_order, axis = 1)\n",
    "#crea coordinate per easyneg e hardneg\n",
    "df_nt.to_csv(os.path.join(metadata_dir, f'df_nt_{how}.csv'), index = False)"
   ]
  },
  {
   "cell_type": "code",
   "execution_count": 100,
   "id": "3eba1cfe",
   "metadata": {},
   "outputs": [],
   "source": [
    "column_order = [\n",
    "    'gene1','gene2','id_gene1_sample','id_gene2_sample',\n",
    "    'original_length1','original_length2', 'cdna1', 'cdna2',\n",
    "    'window_x1','window_x2','window_y1','window_y2', \n",
    "    'gene1_id', 'gene2_id', 'protein_coding_1',  'protein_coding_2'\n",
    "]\n",
    "\n",
    "df_g = df_full.filter(column_order, axis = 1)\n",
    "\n",
    "df_g1 = df_g.filter(\n",
    "    [\n",
    "    'gene1', \n",
    "    'id_gene1_sample', \n",
    "    'cdna1', \n",
    "    'window_x1',\n",
    "    'window_x2', \n",
    "    'gene1_id',\n",
    "    'protein_coding_1', \n",
    "    'length_1',\n",
    "    'original_length1', \n",
    "    ]\n",
    ").rename(\n",
    "    {\n",
    "    'gene1':'gene_id',\n",
    "    'cdna1':'cdna', \n",
    "    'length_1':'length',\n",
    "    'window_x1':'window_c1',\n",
    "    'window_x2':'window_c2',\n",
    "    'gene1_id':'original_gene_id', \n",
    "    'protein_coding_1':'protein_coding', \n",
    "    'original_length1':'original_length'\n",
    "    }, \n",
    "    axis = 1)\n",
    "df_g2 = df_g.filter(\n",
    "    [\n",
    "    'gene2', \n",
    "    'id_gene2_sample', \n",
    "    'cdna2', \n",
    "    'window_y1',\n",
    "    'window_y2', \n",
    "    'gene2_id',\n",
    "    'protein_coding_2', \n",
    "    'length_2',\n",
    "    'original_length2', \n",
    "    ]\n",
    ").rename(\n",
    "    {\n",
    "    'gene2':'gene_id',\n",
    "    'cdna2':'cdna', \n",
    "    'length_2':'length',\n",
    "    'window_y1':'window_c1',\n",
    "    'window_y2':'window_c2',\n",
    "    'gene2_id':'original_gene_id', \n",
    "    'protein_coding_2':'protein_coding', \n",
    "    'original_length2':'original_length'\n",
    "    }, \n",
    "    axis = 1)\n",
    "\n",
    "df_genes_nt = pd.concat([df_g1, df_g2], axis = 0).drop_duplicates().reset_index(drop = True)\n",
    "\n",
    "df_genes_nt['UTR5'] = 0\n",
    "df_genes_nt['CDS'] = 0\n",
    "df_genes_nt['UTR3'] = 0"
   ]
  },
  {
   "cell_type": "code",
   "execution_count": 101,
   "id": "292ddc7b-8de0-4f19-930c-c1676d7d850a",
   "metadata": {},
   "outputs": [],
   "source": [
    "assert set(df.gene1).union(df.gene2) == set(df_meta.gene1).union(df_meta.gene2)\n",
    "assert set(df.gene1).union(df.gene2) == set(df_full.gene1_id).union(df_full.gene2_id)"
   ]
  },
  {
   "cell_type": "code",
   "execution_count": 102,
   "id": "4c8369d7",
   "metadata": {},
   "outputs": [],
   "source": [
    "df_genes_nt.to_csv(os.path.join(metadata_dir, f'df_genes_nt_{how}.csv'), index = False)"
   ]
  },
  {
   "cell_type": "markdown",
   "id": "f71202b9-79c9-4212-b02a-386b5cf40eb7",
   "metadata": {},
   "source": [
    "### Add experiment column\n",
    "Ho bisogno di sapere a quale id dell esperimento corrisponde ogni riga del dataset"
   ]
  },
  {
   "cell_type": "code",
   "execution_count": 103,
   "id": "925b3314-9c42-4e42-a083-e3ac8e2c95ce",
   "metadata": {},
   "outputs": [],
   "source": [
    "df = pd.read_csv(os.path.join(processed_files_dir, f\"{how}.csv\"))\n",
    "df_nt = pd.read_csv(os.path.join(metadata_dir,  f'df_nt_{how}.csv'))\n",
    "\n",
    "df['x2'] = df['x1'] + df['w']\n",
    "df['y2'] = df['y1'] + df['h']\n",
    "df = df.rename({'couples':'couples_id', 'x1':'original_x1', 'x2':'original_x2', 'y1':'original_y1', 'y2':'original_y2'}, axis = 1)\n",
    "\n",
    "if how == 'splash':\n",
    "    df = df[['couples_id', 'original_x1', 'original_x2', 'original_y1', 'original_y2', 'experiment', 'where_x1', 'where_y1', 'where']]\n",
    "\n",
    "elif how in ['mario', 'ricseq']:\n",
    "    df = df[['couples_id', 'original_x1', 'original_x2', \n",
    "             'original_y1', 'original_y2', 'name', 'other_id', \n",
    "             'experiment', 'simple_repeats', 'sine_alu', 'low_complex', \n",
    "             'n_reads', 'is_merged', 'where_x1', 'where_y1', 'where']]\n",
    "df_nt_new = df_nt.merge(df, on = ['couples_id', 'original_x1', 'original_x2', 'original_y1', 'original_y2'])\n",
    "df_nt_new = df_nt_new.drop_duplicates(['couples'])\n",
    "\n",
    "todo = df_nt[df_nt.couples.isin(set(df_nt.couples) - set(df_nt_new.couples))]\n",
    "todogenes = todo.couples_id.str.extractall('(.*)_(.*)').reset_index()\n",
    "assert ( todogenes[0] == todogenes[1] ).all()\n",
    "\n",
    "todo.couples.all\n",
    "#they are negative but they are the same rnarna thats why they didnt metch\n",
    "\n",
    "todo = todo.rename({\n",
    "    'original_x1':'original_y1', \n",
    "    'original_x2':'original_y2', \n",
    "    'original_y1':'original_x1', \n",
    "    'original_y2':'original_x2', \n",
    "}, axis = 1)\n",
    "\n",
    "last = todo.merge(df, on = ['couples_id', 'original_x1', 'original_x2', 'original_y1', 'original_y2'])\n",
    "last = last.drop_duplicates(['couples'])\n",
    "df_nt_new = pd.concat([df_nt_new, last], axis = 0).reset_index(drop = True)\n",
    "\n",
    "assert set(df_nt_new.couples) == set(df_nt.couples)\n",
    "assert df_nt_new.shape[0] == df_nt.shape[0] \n",
    "\n",
    "df_nt_new.to_csv(os.path.join(metadata_dir, f'df_nt_{how}.csv'), index = False)"
   ]
  },
  {
   "cell_type": "markdown",
   "id": "f775ad7b",
   "metadata": {
    "tags": []
   },
   "source": [
    "# Check the data saved"
   ]
  },
  {
   "cell_type": "code",
   "execution_count": 104,
   "id": "de16fff3",
   "metadata": {},
   "outputs": [],
   "source": [
    "df_meta = pd.read_csv(os.path.join(metadata_dir, f'{how}.csv'))\n",
    "df = pd.read_csv(os.path.join(processed_files_dir, f\"{how}.csv\"))\n",
    "\n",
    "assert max(df_meta.length_1.max(), df_meta.length_2.max()) == MAX_RNA_SIZE"
   ]
  },
  {
   "cell_type": "code",
   "execution_count": 105,
   "id": "3a1d476d",
   "metadata": {},
   "outputs": [],
   "source": [
    "df_nt = pd.read_csv(os.path.join(metadata_dir, f'df_nt_{how}.csv'))\n",
    "df_genes_nt = pd.read_csv(os.path.join(metadata_dir, f'df_genes_nt_{how}.csv'))"
   ]
  },
  {
   "cell_type": "code",
   "execution_count": 106,
   "id": "eff22d51",
   "metadata": {},
   "outputs": [
    {
     "name": "stdout",
     "output_type": "stream",
     "text": [
      "0\n"
     ]
    }
   ],
   "source": [
    "# all the excluded couples belonw are few (should be zero)\n",
    "not_in_df = set(df.couples) - set(df_nt.couples_id) \n",
    "print(len(df[df.couples.isin(not_in_df)]))\n",
    "assert len(df[df.couples.isin(not_in_df)]) < 20"
   ]
  },
  {
   "cell_type": "code",
   "execution_count": 107,
   "id": "9d907142",
   "metadata": {
    "tags": []
   },
   "outputs": [],
   "source": [
    "assert (df_nt.x1 >= 0).all()\n",
    "assert (df_nt.y1 >= 0).all()\n",
    "assert ((df_nt.x1 + df_nt.w) <= df_nt.length_1).all()\n",
    "assert ((df_nt.y1 + df_nt.h) <= df_nt.length_2).all()\n",
    "assert df_genes_nt.apply(lambda x: len(x.cdna) == (x.window_c2-x.window_c1), axis = 1).all()"
   ]
  },
  {
   "cell_type": "code",
   "execution_count": 108,
   "id": "5872c3d7",
   "metadata": {},
   "outputs": [],
   "source": [
    "pos_width_multipliers = {1_000_000: 1.}\n",
    "pos_height_multipliers = pos_width_multipliers\n",
    "neg_width_windows = {(MAX_RNA_SIZE-1, MAX_RNA_SIZE): float(1),}\n",
    "neg_height_windows = neg_width_windows\n",
    "\n",
    "policies = [\n",
    "    EasyPosAugment(\n",
    "    per_sample=1,\n",
    "    interaction_selection=InteractionSelectionPolicy.LARGEST,\n",
    "    width_multipliers=pos_width_multipliers,\n",
    "    height_multipliers=pos_height_multipliers,\n",
    "    ),  \n",
    "    SmartNegAugment(\n",
    "        per_sample=1,\n",
    "        interaction_selection=InteractionSelectionPolicy.LARGEST,\n",
    "        width_multipliers=pos_width_multipliers,\n",
    "        height_multipliers=pos_height_multipliers,\n",
    "    ),\n",
    "]"
   ]
  },
  {
   "cell_type": "code",
   "execution_count": 109,
   "id": "f99134bd",
   "metadata": {},
   "outputs": [],
   "source": [
    "dataset = RNADataset(\n",
    "        gene2info=df_genes_nt,\n",
    "        interactions=df_nt,\n",
    "        subset_file='',\n",
    "        augment_policies=policies,\n",
    ")"
   ]
  },
  {
   "cell_type": "code",
   "execution_count": 110,
   "id": "bbc48cbb",
   "metadata": {},
   "outputs": [],
   "source": [
    "def map_coordinates(window_c1, window_c2, actual_window_c1, actual_window_c2, actual_interaction_c1, actual_interaction_c2):\n",
    "    real_c1 = actual_window_c1 + window_c1\n",
    "    real_c2 = actual_window_c2 + window_c1\n",
    "    real_interaction_c1 = actual_interaction_c1 + window_c1\n",
    "    real_interaction_c2 = actual_interaction_c2 + window_c1\n",
    "    return real_c1, real_c2, real_interaction_c1, real_interaction_c2"
   ]
  },
  {
   "cell_type": "code",
   "execution_count": 111,
   "id": "b935bbf9",
   "metadata": {},
   "outputs": [
    {
     "data": {
      "application/vnd.jupyter.widget-view+json": {
       "model_id": "0ea4f3fc7f774077b1de9bd68d881c7f",
       "version_major": 2,
       "version_minor": 0
      },
      "text/plain": [
       "  0%|          | 0/3163 [00:00<?, ?it/s]"
      ]
     },
     "metadata": {},
     "output_type": "display_data"
    }
   ],
   "source": [
    "all_couples = set(df.couples)\n",
    "\n",
    "for s in tqdm(dataset):\n",
    "    interacting, actual_policy = s.interacting, s.policy\n",
    "\n",
    "    couple_id = s.gene1_info['original_gene_id'] + '_' + s.gene2_info['original_gene_id']\n",
    "    couple_id_swapped = s.gene2_info['original_gene_id'] + '_' + s.gene1_info['original_gene_id']\n",
    "    \n",
    "    if couple_id in all_couples:\n",
    "        gene1_id, gene2_id = s.gene1, s.gene2\n",
    "        gene1_info, gene2_info = s.gene1_info, s.gene2_info\n",
    "        real_couple_id = couple_id\n",
    "        actual_window_x1, actual_window_x2 = s.bbox.x1, s.bbox.x2\n",
    "        actual_window_y1, actual_window_y2 = s.bbox.y1, s.bbox.y2\n",
    "        actual_interaction_x1, actual_interaction_x2 = s.seed_interaction_bbox.x1, s.seed_interaction_bbox.x2\n",
    "        actual_interaction_y1, actual_interaction_y2 = s.seed_interaction_bbox.y1, s.seed_interaction_bbox.y2\n",
    "    elif couple_id_swapped in all_couples:\n",
    "        gene2_id, gene1_id = s.gene1, s.gene2\n",
    "        gene2_info, gene1_info = s.gene1_info, s.gene2_info\n",
    "        actual_window_y1, actual_window_y2 = s.bbox.x1, s.bbox.x2\n",
    "        actual_window_x1, actual_window_x2 = s.bbox.y1, s.bbox.y2\n",
    "        actual_interaction_y1, actual_interaction_y2 = s.seed_interaction_bbox.x1, s.seed_interaction_bbox.x2\n",
    "        actual_interaction_x1, actual_interaction_x2 = s.seed_interaction_bbox.y1, s.seed_interaction_bbox.y2\n",
    "        real_couple_id = couple_id_swapped\n",
    "    else:\n",
    "        raise NotImplementedError\n",
    "        \n",
    "    original_gene_id1, original_gene_id2 = gene1_info['original_gene_id'], gene2_info['original_gene_id']\n",
    "    cdna_slice1, cdna_slice2 = gene1_info['cdna'], gene2_info['cdna']\n",
    "    window_x1, window_x2 = gene1_info['window_c1'], gene1_info['window_c2']\n",
    "    window_y1, window_y2 = gene2_info['window_c1'], gene2_info['window_c2']\n",
    "    protein_coding1, protein_coding2 = gene1_info['protein_coding'], gene2_info['protein_coding']\n",
    "    original_length1, original_length2 = gene1_info['original_length'], gene2_info['original_length']\n",
    "    \n",
    "    policy_res = [\n",
    "        i['policy'] for i in s.gene1_info['interactions'] if \n",
    "        (i['couples_id']==real_couple_id)&\n",
    "        ( set([i['gene1'],i['gene2']])==set([s.gene1, s.gene2]) )\n",
    "    ]\n",
    "    \n",
    "    assert (len(set(policy_res)) == 1) | (set(policy_res) == {'smartneg', 'easyneg'})\n",
    "    policy = policy_res[0]\n",
    "        \n",
    "    assert gene1_id == gene1_info['gene_id']\n",
    "    assert gene2_id == gene2_info['gene_id']\n",
    "    assert window_x2-window_x1 == len(cdna_slice1)\n",
    "    assert window_y2-window_y1 == len(cdna_slice2)\n",
    "    \n",
    "    real1 = df_genes[df_genes.gene_id == original_gene_id1].iloc[0]\n",
    "    real2 = df_genes[df_genes.gene_id == original_gene_id2].iloc[0]\n",
    "\n",
    "    assert real1['cdna'][window_x1:window_x2] == cdna_slice1\n",
    "    assert real2['cdna'][window_y1:window_y2] == cdna_slice2\n",
    "    assert real1.protein_coding == protein_coding1\n",
    "    assert real2.protein_coding == protein_coding2\n",
    "    \n",
    "    real_df = df[df.couples == real_couple_id].iloc[0]\n",
    "    if policy == 'easypos':\n",
    "        assert real_df.interacting == interacting == True\n",
    "        assert actual_policy == 'easypos'\n",
    "    if policy == 'hardneg':\n",
    "        assert real_df.interacting == True\n",
    "        assert interacting == False\n",
    "        assert actual_policy == 'smartneg'\n",
    "    elif policy in ['smartneg', 'easyneg']:\n",
    "        assert real_df.interacting == interacting == False\n",
    "        assert actual_policy == 'smartneg'\n",
    "    assert real_df.protein_coding_1 == protein_coding1\n",
    "    assert real_df.protein_coding_2 == protein_coding2\n",
    "        \n",
    "    real_x1, real_x2, real_interaction_x1, real_interaction_x2 = map_coordinates(window_x1, window_x2, actual_window_x1, actual_window_x2, actual_interaction_x1, actual_interaction_x2)\n",
    "    real_y1, real_y2, real_interaction_y1, real_interaction_y2 = map_coordinates(window_y1, window_y2, actual_window_y1, actual_window_y2, actual_interaction_y1, actual_interaction_y2)\n",
    "\n",
    "    assert real_x1>=0\n",
    "    assert real_y1>=0\n",
    "    assert real_x1<=real_x2<=original_length1\n",
    "    assert real_y1<=real_y2<=original_length2\n",
    "\n",
    "    if (policy == 'easypos')|(policy == 'smartneg'):\n",
    "        assert real_x1<=real_interaction_x1<=real_interaction_x2\n",
    "        assert real_interaction_x1<=real_interaction_x2<=real_x2\n",
    "        assert real_y1<=real_interaction_y1<=real_interaction_y2\n",
    "        assert real_interaction_y1<=real_interaction_y2<=real_y2\n",
    "    elif policy == 'hardneg':\n",
    "        # le coordinate real_x1, real_x2 non sono piu buone perche avevo sovrascritto le regioni di interazione di hardneg e easyneg\n",
    "        real_x1, real_x2 = real_df.x1, real_df.x1+real_df.w\n",
    "        real_y1, real_y2 = real_df.y1, real_df.y1+real_df.h\n",
    "        assert ( \n",
    "            (real_interaction_x2 < real_x1)|(real_interaction_x1 > real_x2) | \n",
    "            (real_interaction_y2 < real_y1)|(real_interaction_y1 > real_y2) \n",
    "        )"
   ]
  },
  {
   "cell_type": "markdown",
   "id": "05f19b91",
   "metadata": {},
   "source": [
    "```\n",
    "original      0, 10, 20, 23,24, 50, 70, 100\n",
    "window           10                 70\n",
    "actual_win           10         40\n",
    "actual_int               13,14\n",
    "```"
   ]
  },
  {
   "cell_type": "markdown",
   "id": "83a8d95a",
   "metadata": {},
   "source": [
    "### Check embeddings"
   ]
  },
  {
   "cell_type": "code",
   "execution_count": 14,
   "id": "b37ddc04-ef59-41b8-a575-2d4ecc29dfd7",
   "metadata": {},
   "outputs": [
    {
     "name": "stderr",
     "output_type": "stream",
     "text": [
      "[autoreload of dataset.data failed: Traceback (most recent call last):\n",
      "  File \"/data01/giorgio/ENTER/envs/dnabert/lib/python3.9/site-packages/IPython/extensions/autoreload.py\", line 245, in check\n",
      "    superreload(m, reload, self.old_objects)\n",
      "  File \"/data01/giorgio/ENTER/envs/dnabert/lib/python3.9/site-packages/IPython/extensions/autoreload.py\", line 410, in superreload\n",
      "    update_generic(old_obj, new_obj)\n",
      "  File \"/data01/giorgio/ENTER/envs/dnabert/lib/python3.9/site-packages/IPython/extensions/autoreload.py\", line 347, in update_generic\n",
      "    update(a, b)\n",
      "  File \"/data01/giorgio/ENTER/envs/dnabert/lib/python3.9/site-packages/IPython/extensions/autoreload.py\", line 317, in update_class\n",
      "    update_instances(old, new)\n",
      "  File \"/data01/giorgio/ENTER/envs/dnabert/lib/python3.9/site-packages/IPython/extensions/autoreload.py\", line 280, in update_instances\n",
      "    ref.__class__ = new\n",
      "  File \"<string>\", line 4, in __setattr__\n",
      "dataclasses.FrozenInstanceError: cannot assign to field '__class__'\n",
      "]\n"
     ]
    }
   ],
   "source": [
    "how='mario'"
   ]
  },
  {
   "cell_type": "code",
   "execution_count": 15,
   "id": "086e607b-8f81-40e9-9b2a-dc6ef327353a",
   "metadata": {},
   "outputs": [],
   "source": [
    "df_nt = pd.read_csv(os.path.join(metadata_dir, f'df_nt_{how}.csv'))\n",
    "df_genes_nt = pd.read_csv(os.path.join(metadata_dir, f'df_genes_nt_{how}.csv'))"
   ]
  },
  {
   "cell_type": "code",
   "execution_count": 16,
   "id": "94b9e89c",
   "metadata": {},
   "outputs": [],
   "source": [
    "vc_train = df_nt.interacting.value_counts()\n",
    "assert vc_train[False]>vc_train[True]\n",
    "unbalance_factor = 1 - (vc_train[False] - vc_train[True]) / vc_train[False]\n",
    "\n",
    "pos_width_multipliers = {10_000_000: 1.}\n",
    "\n",
    "pos_height_multipliers = pos_width_multipliers\n",
    "neg_width_windows = {(MAX_RNA_SIZE-1, MAX_RNA_SIZE): float(1),}\n",
    "neg_height_windows = neg_width_windows\n",
    "\n",
    "policies = [\n",
    "    EasyPosAugment(\n",
    "    per_sample=1,\n",
    "    interaction_selection=InteractionSelectionPolicy.LARGEST,\n",
    "    width_multipliers=pos_width_multipliers,\n",
    "    height_multipliers=pos_height_multipliers,\n",
    "    ),  \n",
    "    SmartNegAugment(\n",
    "        per_sample=unbalance_factor,\n",
    "        interaction_selection=InteractionSelectionPolicy.LARGEST,\n",
    "        width_multipliers=pos_width_multipliers,\n",
    "        height_multipliers=pos_height_multipliers,\n",
    "    ),\n",
    "]\n",
    "\n",
    "dataset = RNADatasetNT(\n",
    "        gene2info=df_genes_nt,\n",
    "        interactions=df_nt,\n",
    "        subset_file='',\n",
    "        augment_policies=policies,\n",
    "        data_dir = os.path.join(embedding_dir, '32'),\n",
    "        scaling_factor = 20,\n",
    "        min_n_groups = 5,\n",
    "        max_n_groups = 80,\n",
    ")"
   ]
  },
  {
   "cell_type": "code",
   "execution_count": 17,
   "id": "5fd398ea",
   "metadata": {},
   "outputs": [
    {
     "data": {
      "application/vnd.jupyter.widget-view+json": {
       "model_id": "efa12eaddf8e4b9b9e74d4e9ebed9946",
       "version_major": 2,
       "version_minor": 0
      },
      "text/plain": [
       "  0%|          | 0/2242 [00:00<?, ?it/s]"
      ]
     },
     "metadata": {},
     "output_type": "display_data"
    }
   ],
   "source": [
    "l1_neg, l2_neg, l1_pos, l2_pos = [], [], [], []\n",
    "\n",
    "for s in tqdm(dataset):\n",
    "    length1, length2 = s.bbox.x2-s.bbox.x1, s.bbox.y2-s.bbox.y1\n",
    "    if s.interacting:\n",
    "        l1_pos.append(length1)\n",
    "        l2_pos.append(length2)\n",
    "    else:\n",
    "        l1_neg.append(length1)\n",
    "        l2_neg.append(length2)"
   ]
  },
  {
   "cell_type": "code",
   "execution_count": 18,
   "id": "3f438796",
   "metadata": {},
   "outputs": [
    {
     "data": {
      "image/png": "[encoded data removed]",
      "text/plain": [
       "<Figure size 432x288 with 1 Axes>"
      ]
     },
     "metadata": {
      "needs_background": "light"
     },
     "output_type": "display_data"
    }
   ],
   "source": [
    "sns.kdeplot(l1_pos, color = 'red', label = 'gene1_pos')\n",
    "sns.kdeplot(l2_pos, color = 'green', label = 'gene2_pos')\n",
    "sns.kdeplot(l1_neg, color = 'black', label = 'gene1_neg')\n",
    "sns.kdeplot(l2_neg, color = 'blue', label = 'gene2_neg')\n",
    "plt.title(f'Length distribution (maximum values for policies)')\n",
    "plt.legend()\n",
    "plt.show()"
   ]
  },
  {
   "cell_type": "markdown",
   "id": "be55d201",
   "metadata": {
    "tags": []
   },
   "source": [
    "# Download test set 500 nucleotides"
   ]
  },
  {
   "cell_type": "code",
   "execution_count": 26,
   "id": "b692c81a",
   "metadata": {},
   "outputs": [],
   "source": [
    "import util.misc as utils\n",
    "import shutil\n",
    "\n",
    "def load_data_bert_script(dataset_files_dir, MAX_RNA_SIZE_BERT):\n",
    "    source_file_path = os.path.join(dataset_files_dir, 'data.py')\n",
    "    data_bert_file_path = os.path.join(dataset_files_dir, 'data_bert.py')\n",
    "    shutil.copy(source_file_path, data_bert_file_path)\n",
    "    new_max_rna_length = MAX_RNA_SIZE_BERT\n",
    "\n",
    "    # Read the content of data_bert.py\n",
    "    with open(data_bert_file_path, 'r') as file:\n",
    "        lines = file.readlines()\n",
    "\n",
    "    # Find and modify the MAX_RNA_LENGTH line\n",
    "    modified_lines = []\n",
    "    for line in lines:\n",
    "        if line.startswith('MAX_RNA_SIZE'):\n",
    "            modified_lines.append(f'MAX_RNA_SIZE = {new_max_rna_length}\\n')\n",
    "        else:\n",
    "            modified_lines.append(line)\n",
    "\n",
    "    # Write the modified content back to data_bert.py\n",
    "    with open(data_bert_file_path, 'w') as file:\n",
    "        file.writelines(modified_lines)\n",
    "\n",
    "load_data_bert_script(dataset_files_dir, MAX_RNA_SIZE_BERT)\n",
    "\n",
    "from dataset.data_bert import (\n",
    "    RNADataset,\n",
    "    RNADatasetNT,\n",
    "    EasyPosAugment,\n",
    "    SmartNegAugment,\n",
    "    InteractionSelectionPolicy,\n",
    "    EasyNegAugment,\n",
    "    HardPosAugment,\n",
    "    HardNegAugment,\n",
    "    SmartNegAugment,\n",
    "    create_augment_list,\n",
    "    plot_sample,\n",
    "    seed_everything,\n",
    ")\n"
   ]
  },
  {
   "cell_type": "code",
   "execution_count": 27,
   "id": "098226b3",
   "metadata": {},
   "outputs": [
    {
     "name": "stderr",
     "output_type": "stream",
     "text": [
      "[autoreload of dataset.data_bert failed: Traceback (most recent call last):\n",
      "  File \"/data01/giorgio/ENTER/envs/dnabert/lib/python3.9/site-packages/IPython/extensions/autoreload.py\", line 245, in check\n",
      "    superreload(m, reload, self.old_objects)\n",
      "  File \"/data01/giorgio/ENTER/envs/dnabert/lib/python3.9/site-packages/IPython/extensions/autoreload.py\", line 410, in superreload\n",
      "    update_generic(old_obj, new_obj)\n",
      "  File \"/data01/giorgio/ENTER/envs/dnabert/lib/python3.9/site-packages/IPython/extensions/autoreload.py\", line 347, in update_generic\n",
      "    update(a, b)\n",
      "  File \"/data01/giorgio/ENTER/envs/dnabert/lib/python3.9/site-packages/IPython/extensions/autoreload.py\", line 317, in update_class\n",
      "    update_instances(old, new)\n",
      "  File \"/data01/giorgio/ENTER/envs/dnabert/lib/python3.9/site-packages/IPython/extensions/autoreload.py\", line 280, in update_instances\n",
      "    ref.__class__ = new\n",
      "  File \"<string>\", line 4, in __setattr__\n",
      "dataclasses.FrozenInstanceError: cannot assign to field '__class__'\n",
      "]\n"
     ]
    }
   ],
   "source": [
    "df_nt = pd.read_csv(os.path.join(metadata_dir, f'df_nt_{how}.csv'))\n",
    "df_genes_nt = pd.read_csv(os.path.join(metadata_dir, f'df_genes_nt_{how}.csv'))\n",
    "\n",
    "#leva quelli con regione di interazione maggiore di 500\n",
    "df_nt = df_nt[~((df_nt.w>=MAX_RNA_SIZE_BERT)|(df_nt.h>=MAX_RNA_SIZE_BERT))]\n",
    "\n",
    "pos_multipliers = {10_000_000:1.,}\n",
    "neg_multipliers = pos_multipliers\n",
    "\n",
    "policies_test = [\n",
    "    EasyPosAugment(\n",
    "        per_sample=1,\n",
    "        interaction_selection=InteractionSelectionPolicy.LARGEST,\n",
    "        width_multipliers=pos_multipliers,\n",
    "        height_multipliers=pos_multipliers,\n",
    "    ),  \n",
    "    SmartNegAugment(\n",
    "        per_sample=1,\n",
    "        interaction_selection=InteractionSelectionPolicy.LARGEST,\n",
    "        width_multipliers=neg_multipliers,\n",
    "        height_multipliers=neg_multipliers,\n",
    "    ),\n",
    "]\n",
    "\n",
    "df_nt, df_genes_nt = clean_nt_dataframes_before_class_input(df_nt, df_genes_nt)\n",
    "\n",
    "dataset_test = RNADatasetNT(\n",
    "    gene2info=df_genes_nt,\n",
    "    interactions=df_nt,\n",
    "    subset_file='',\n",
    "    augment_policies=policies_test,\n",
    "    data_dir = os.path.join(embedding_dir, '32'),\n",
    "    scaling_factor = 5,\n",
    "    min_n_groups = np.nan,\n",
    "    max_n_groups = 80,\n",
    ")"
   ]
  },
  {
   "cell_type": "code",
   "execution_count": 28,
   "id": "40619a41",
   "metadata": {},
   "outputs": [
    {
     "data": {
      "application/vnd.jupyter.widget-view+json": {
       "model_id": "966972ae11fe458db489d66f4495f0b5",
       "version_major": 2,
       "version_minor": 0
      },
      "text/plain": [
       "  0%|          | 0/4060 [00:00<?, ?it/s]"
      ]
     },
     "metadata": {},
     "output_type": "display_data"
    }
   ],
   "source": [
    "test500 = []\n",
    "\n",
    "for s in tqdm(dataset_test):\n",
    "    \n",
    "    gene1, gene2 = s.gene1, s.gene2\n",
    "\n",
    "    x1, x2, y1, y2 = s.bbox.x1, s.bbox.x2, s.bbox.y1, s.bbox.y2\n",
    "\n",
    "    seed_x1, seed_x2, seed_y1, seed_y2 = s.seed_interaction_bbox.x1, s.seed_interaction_bbox.x2, s.seed_interaction_bbox.y1, s.seed_interaction_bbox.y2\n",
    "    \n",
    "    interacting = s.interacting\n",
    "\n",
    "    cdna1, cdna2 = s.gene1_info['cdna'], s.gene2_info['cdna']\n",
    "\n",
    "    cdna1slice, cdna2slice = cdna1[x1:x2], cdna2[y1:y2]\n",
    "    \n",
    "    assert len(s.all_couple_interactions) == 1\n",
    "    couples_id = s.all_couple_interactions[0]['couple']\n",
    "\n",
    "    test500.append({\n",
    "        'gene1':gene1,\n",
    "        'gene2':gene2,\n",
    "        'x1':x1,\n",
    "        'x2':x2,\n",
    "        'y1':y1,\n",
    "        'y2':y2,\n",
    "        'seed_x1':seed_x1,\n",
    "        'seed_x2':seed_x2,\n",
    "        'seed_y1':seed_y1,\n",
    "        'seed_y2':seed_y2,\n",
    "        'cdna1':cdna1slice,\n",
    "        'cdna2':cdna2slice,\n",
    "        'len1':len(cdna1slice),\n",
    "        'len2':len(cdna2slice),\n",
    "        'couples':couples_id\n",
    "    })\n",
    "    \n",
    "test500 = pd.DataFrame(test500)\n",
    "\n",
    "assert test500.len1.max() == test500.len2.max() == 500\n",
    "n_rows = test500.shape[0]"
   ]
  },
  {
   "cell_type": "code",
   "execution_count": 29,
   "id": "c0aa5be1-5119-485d-aaac-da0a801bc909",
   "metadata": {},
   "outputs": [],
   "source": [
    "assert (test500.x1 <= test500.seed_x1).all()\n",
    "assert (test500.seed_x1 <= test500.seed_x2).all()\n",
    "assert (test500.seed_x2 <= test500.x2).all()\n",
    "assert (test500.y1 <= test500.seed_y1).all()\n",
    "assert (test500.seed_y1 <= test500.seed_y2).all()\n",
    "assert (test500.seed_y2 <= test500.y2).all()"
   ]
  },
  {
   "cell_type": "code",
   "execution_count": 30,
   "id": "73c63e73",
   "metadata": {},
   "outputs": [
    {
     "name": "stdout",
     "output_type": "stream",
     "text": [
      "NB There are  3  duplicated in df_nt (i think they are easyneg and smartneg overlapping)\n"
     ]
    }
   ],
   "source": [
    "test500_1 = test500.merge(df_nt[['gene1', 'gene2', 'couples']], left_on = ['gene1', 'gene2'], right_on = ['gene1', 'gene2'])\n",
    "test500_2 = test500.merge(df_nt[['gene1', 'gene2', 'couples']], left_on = ['gene1', 'gene2'], right_on = ['gene2', 'gene1'])\n",
    "\n",
    "\n",
    "test500_2 = test500_2.drop(['gene1_x', 'gene2_x'], axis = 1).rename({'gene1_y':'gene1', 'gene2_y':'gene2'}, axis = 1)\n",
    "where = test500_2.len1>0 #all rows\n",
    "test500_2.loc[where, ['x1', 'y1']] = (test500_2.loc[where, ['y1', 'x1']].values)\n",
    "test500_2.loc[where, ['x2', 'y2']] = (test500_2.loc[where, ['y2', 'x2']].values)\n",
    "test500_2.loc[where, ['seed_x1', 'seed_y1']] = (test500_2.loc[where, ['seed_y1', 'seed_x1']].values)\n",
    "test500_2.loc[where, ['seed_x2', 'seed_y2']] = (test500_2.loc[where, ['seed_y2', 'seed_x2']].values)\n",
    "test500_2.loc[where, ['len1', 'len2']] = (test500_2.loc[where, ['len2', 'len1']].values)\n",
    "test500_2.loc[where, ['cdna1', 'cdna2']] = (test500_2.loc[where, ['cdna2', 'cdna1']].values)\n",
    "\n",
    "#shuffling\n",
    "test500 = pd.concat([test500_1, test500_2], axis = 0).sample(frac=1).reset_index(drop = True)\n",
    "\n",
    "#clean couples column\n",
    "assert (test500.couples_x == test500.couples_y).all()\n",
    "test500 = test500.drop('couples_x', axis = 1).rename({'couples_y':'couples'}, axis = 1)\n",
    "\n",
    "#clean gene_name_column\n",
    "test500['gene1'] = test500['gene1'].str.extractall('(.*)_(.*)').reset_index()[0]\n",
    "test500['gene2'] = test500['gene2'].str.extractall('(.*)_(.*)').reset_index()[0]\n",
    "\n",
    "#clean gene_name_column\n",
    "df_nt['gene1'] = df_nt['gene1'].str.extractall('(.*)_(.*)').reset_index(1)[0]\n",
    "df_nt['gene2'] = df_nt['gene2'].str.extractall('(.*)_(.*)').reset_index(1)[0]\n",
    "\n",
    "assert df_nt[df_nt.duplicated(set(df_nt.columns) - {'couples'})].shape[0] < df_nt.shape[0]*0.01\n",
    "\n",
    "print('NB There are ', abs(n_rows - test500.shape[0]), ' duplicated in df_nt (i think they are easyneg and smartneg overlapping)')\n",
    "# with respect to this key \n",
    "# df_nt['key'] = df_nt['gene1'] + '_' + df_nt['gene2'] \n",
    "# but they are few\n",
    "# df_nt[(df_nt['gene1'] + '_' + df_nt['gene2']).duplicated()]"
   ]
  },
  {
   "cell_type": "code",
   "execution_count": 31,
   "id": "fe53211c",
   "metadata": {
    "tags": []
   },
   "outputs": [],
   "source": [
    "test500.to_csv(os.path.join(metadata_dir, f'{how}500.csv'), index = False)"
   ]
  },
  {
   "cell_type": "markdown",
   "id": "5c8b39e8-a13e-406f-bb8b-2d6dd06bdbcc",
   "metadata": {},
   "source": [
    "### Repeats"
   ]
  },
  {
   "cell_type": "code",
   "execution_count": 104,
   "id": "b40857fd-7cbd-4538-a998-588c335b6af5",
   "metadata": {},
   "outputs": [],
   "source": [
    "test500 = pd.read_csv(os.path.join(metadata_dir, f'{how}500.csv'))\n",
    "\n",
    "test500['start_embedding1'] = test500.gene1.str.extractall('(.*)_(.*)_(.*)').reset_index(drop = True)[1].astype(int)\n",
    "test500['end_embedding1'] = test500.gene1.str.extractall('(.*)_(.*)_(.*)').reset_index(drop = True)[2].astype(int)\n",
    "test500['start_embedding2'] = test500.gene2.str.extractall('(.*)_(.*)_(.*)').reset_index(drop = True)[1].astype(int)\n",
    "test500['end_embedding2'] = test500.gene2.str.extractall('(.*)_(.*)_(.*)').reset_index(drop = True)[2].astype(int)\n",
    "\n",
    "\n",
    "\n",
    "if how == 'splash':\n",
    "    df_repeats = pd.read_csv(os.path.join(processed_files_dir, 'nt_data', 'mean_embeddings', 'df_repeats_splash.csv'))\n",
    "elif how in ['mario', 'ricseq']:\n",
    "    df_repeats = pd.read_csv(os.path.join(processed_files_dir, 'nt_data', 'mean_embeddings', 'df_repeats.csv'))\n",
    "\n",
    "test500['g1'] = test500['gene1'].str.extractall('(.*)_(.*)_(.*)').reset_index()[0]\n",
    "test500['g2'] = test500['gene2'].str.extractall('(.*)_(.*)_(.*)').reset_index()[0]\n",
    "\n",
    "# Apply the function to create the 'feature1' column in the test500 dataframe\n",
    "test500['feature1'] = test500.apply(get_features1, axis=1, args=(df_repeats,)) # test500['feature1']\n",
    "test500['feature2'] = test500.apply(get_features2, axis=1, args=(df_repeats,)) # test500['feature1']\n",
    "\n",
    "test500['full_feature1'] = test500.apply(get_full_overlap_features1, axis=1, args=(df_repeats,)) # test500['feature1']\n",
    "test500['full_feature2'] = test500.apply(get_full_overlap_features2, axis=1, args=(df_repeats,)) # test500['feature1']\n",
    "\n",
    "test500 = test500.drop(['start_embedding1', 'end_embedding1', 'start_embedding2', 'end_embedding2'], axis = 1)"
   ]
  },
  {
   "cell_type": "code",
   "execution_count": 107,
   "id": "5bbed634-60d3-4dd4-beca-062bc5b28e72",
   "metadata": {},
   "outputs": [],
   "source": [
    "test500.to_csv(os.path.join(metadata_dir, f'{how}500.csv'), index = False)"
   ]
  },
  {
   "cell_type": "code",
   "execution_count": 108,
   "id": "bf8dc100-d494-4df9-acf6-df8dd881e317",
   "metadata": {},
   "outputs": [
    {
     "data": {
      "text/plain": [
       "easypos     1086\n",
       "hardneg     1086\n",
       "smartneg     944\n",
       "easyneg      944\n",
       "Name: policy, dtype: int64"
      ]
     },
     "execution_count": 108,
     "metadata": {},
     "output_type": "execute_result"
    }
   ],
   "source": [
    "df_nt.policy.value_counts()"
   ]
  },
  {
   "cell_type": "markdown",
   "id": "4519af34-f650-427b-84a6-60b085a2c1ac",
   "metadata": {},
   "source": [
    "### Add the distance to the colosest region of interaction "
   ]
  },
  {
   "cell_type": "code",
   "execution_count": 109,
   "id": "a8fd8b55-cd58-4832-bfa3-4870dce774f2",
   "metadata": {},
   "outputs": [],
   "source": [
    "df_nt = pd.read_csv(os.path.join(metadata_dir, f'df_nt_{how}.csv'))\n",
    "\n",
    "test500 = pd.read_csv(os.path.join(metadata_dir, f'{how}500.csv'))"
   ]
  },
  {
   "cell_type": "code",
   "execution_count": 110,
   "id": "e2128a83-90b4-491c-9c6c-29c7fa34b01e",
   "metadata": {},
   "outputs": [],
   "source": [
    "def min_distance(interval1, interval2):\n",
    "    # Sorting intervals to make sure interval1[0] is less than interval2[0]\n",
    "    interval1, interval2 = sorted([interval1, interval2], key=lambda x: x[0])\n",
    "\n",
    "    # Case where intervals overlap\n",
    "    if interval1[1] >= interval2[0]:\n",
    "        return 0\n",
    "\n",
    "    # Minimum distance between non-overlapping intervals\n",
    "    return interval2[0] - interval1[1]"
   ]
  },
  {
   "cell_type": "code",
   "execution_count": 111,
   "id": "33bf2982-6e9f-4149-a1cf-b2e6375177bc",
   "metadata": {},
   "outputs": [],
   "source": [
    "gene1_coord = test500['gene1'].str.extractall('(.*)_(.*)_(.*)').reset_index()\n",
    "gene2_coord = test500['gene2'].str.extractall('(.*)_(.*)_(.*)').reset_index()\n",
    "\n",
    "test500['start_window_x'] = gene1_coord[1].astype(int) + test500['x1']\n",
    "test500['end_window_x'] = gene1_coord[1].astype(int) + test500['x2']\n",
    "\n",
    "test500['start_window_y'] = gene2_coord[1].astype(int) + test500['y1']\n",
    "test500['end_window_y'] = gene2_coord[1].astype(int) + test500['y2']"
   ]
  },
  {
   "cell_type": "code",
   "execution_count": 112,
   "id": "af75ec3b-8e97-4026-8ed2-7787036546fc",
   "metadata": {},
   "outputs": [
    {
     "data": {
      "application/vnd.jupyter.widget-view+json": {
       "model_id": "aec36257259f4a3494edb1434c4bda8d",
       "version_major": 2,
       "version_minor": 0
      },
      "text/plain": [
       "  0%|          | 0/4063 [00:00<?, ?it/s]"
      ]
     },
     "metadata": {},
     "output_type": "display_data"
    }
   ],
   "source": [
    "diz = {}\n",
    "for _, row in tqdm(test500.iterrows(), total = test500.shape[0]):\n",
    "    g1, g2 = row.g1, row.g2\n",
    "    x1,x2,y1,y2 = row.start_window_x, row.end_window_x, row.start_window_y, row.end_window_y\n",
    "\n",
    "    couple_name = g1 + '_' + g2\n",
    "    assert couple_name in set(df.couples)\n",
    "\n",
    "    all_interactions = df[df['couples'] == couple_name]\n",
    "\n",
    "    distances_x = []\n",
    "    distances_y = []\n",
    "    for _, df_row in all_interactions.iterrows():\n",
    "        distances_x.append(\n",
    "            min_distance([x1,x2], [df_row.x1,df_row.x1 + df_row.w])\n",
    "        )\n",
    "        distances_y.append(\n",
    "            min_distance([y1,y2], [df_row.y1,df_row.y1 + df_row.h])\n",
    "        )\n",
    "\n",
    "    distance_x = min(distances_x)\n",
    "    distance_y = min(distances_y)\n",
    "    \n",
    "    diz[row.couples] = {'distance_x':distance_x, 'distance_y':distance_y}"
   ]
  },
  {
   "cell_type": "code",
   "execution_count": 113,
   "id": "0ce42b0c-1023-40cb-9fd0-2ebcd719ad43",
   "metadata": {},
   "outputs": [],
   "source": [
    "distances = pd.DataFrame.from_dict(diz, orient = 'index').reset_index().rename({'index':'couples'},axis =1)\n",
    "test500 = test500.merge(distances, on = 'couples')\n",
    "test500 = test500.merge(df_nt[['couples', 'policy']], on = 'couples')"
   ]
  },
  {
   "cell_type": "code",
   "execution_count": 114,
   "id": "87882bfa-67fb-4f1e-ae53-5a7d12c8d1ba",
   "metadata": {},
   "outputs": [
    {
     "data": {
      "text/html": [
       "<div>\n",
       "<style scoped>\n",
       "    .dataframe tbody tr th:only-of-type {\n",
       "        vertical-align: middle;\n",
       "    }\n",
       "\n",
       "    .dataframe tbody tr th {\n",
       "        vertical-align: top;\n",
       "    }\n",
       "\n",
       "    .dataframe thead th {\n",
       "        text-align: right;\n",
       "    }\n",
       "</style>\n",
       "<table border=\"1\" class=\"dataframe\">\n",
       "  <thead>\n",
       "    <tr style=\"text-align: right;\">\n",
       "      <th></th>\n",
       "      <th>gene1</th>\n",
       "      <th>gene2</th>\n",
       "      <th>x1</th>\n",
       "      <th>x2</th>\n",
       "      <th>y1</th>\n",
       "      <th>y2</th>\n",
       "      <th>seed_x1</th>\n",
       "      <th>seed_x2</th>\n",
       "      <th>seed_y1</th>\n",
       "      <th>seed_y2</th>\n",
       "      <th>...</th>\n",
       "      <th>feature2</th>\n",
       "      <th>full_feature1</th>\n",
       "      <th>full_feature2</th>\n",
       "      <th>start_window_x</th>\n",
       "      <th>end_window_x</th>\n",
       "      <th>start_window_y</th>\n",
       "      <th>end_window_y</th>\n",
       "      <th>distance_x</th>\n",
       "      <th>distance_y</th>\n",
       "      <th>policy</th>\n",
       "    </tr>\n",
       "  </thead>\n",
       "  <tbody>\n",
       "    <tr>\n",
       "      <th>1835</th>\n",
       "      <td>ENSG00000156508_0_3512</td>\n",
       "      <td>ENSG00000156508_0_3512</td>\n",
       "      <td>311</td>\n",
       "      <td>811</td>\n",
       "      <td>1161</td>\n",
       "      <td>1661</td>\n",
       "      <td>399.0</td>\n",
       "      <td>501.0</td>\n",
       "      <td>1199.0</td>\n",
       "      <td>1301.0</td>\n",
       "      <td>...</td>\n",
       "      <td>None</td>\n",
       "      <td>None</td>\n",
       "      <td>None</td>\n",
       "      <td>311</td>\n",
       "      <td>811</td>\n",
       "      <td>1161</td>\n",
       "      <td>1661</td>\n",
       "      <td>388.0</td>\n",
       "      <td>660.0</td>\n",
       "      <td>smartneg</td>\n",
       "    </tr>\n",
       "  </tbody>\n",
       "</table>\n",
       "<p>1 rows × 28 columns</p>\n",
       "</div>"
      ],
      "text/plain": [
       "                       gene1                   gene2   x1   x2    y1    y2  \\\n",
       "1835  ENSG00000156508_0_3512  ENSG00000156508_0_3512  311  811  1161  1661   \n",
       "\n",
       "      seed_x1  seed_x2  seed_y1  seed_y2  ... feature2 full_feature1  \\\n",
       "1835    399.0    501.0   1199.0   1301.0  ...     None          None   \n",
       "\n",
       "      full_feature2  start_window_x  end_window_x start_window_y end_window_y  \\\n",
       "1835           None             311           811           1161         1661   \n",
       "\n",
       "     distance_x distance_y    policy  \n",
       "1835      388.0      660.0  smartneg  \n",
       "\n",
       "[1 rows x 28 columns]"
      ]
     },
     "execution_count": 114,
     "metadata": {},
     "output_type": "execute_result"
    }
   ],
   "source": [
    "test500[(test500.policy == 'smartneg') & ( (test500.distance_x > 0) | (test500.distance_y > 0) )]"
   ]
  },
  {
   "cell_type": "code",
   "execution_count": 115,
   "id": "b160371e-45ae-4266-8561-9bae9991a7f0",
   "metadata": {},
   "outputs": [
    {
     "name": "stdout",
     "output_type": "stream",
     "text": [
      "easypos\n",
      "0.0\n",
      "0.0\n",
      "\n",
      "\n",
      "smartneg\n",
      "388.0\n",
      "660.0\n"
     ]
    },
    {
     "data": {
      "image/png": "[encoded data removed]",
      "text/plain": [
       "<Figure size 432x288 with 1 Axes>"
      ]
     },
     "metadata": {
      "needs_background": "light"
     },
     "output_type": "display_data"
    },
    {
     "name": "stdout",
     "output_type": "stream",
     "text": [
      "\n",
      "\n",
      "easyneg\n",
      "6388.0\n",
      "5438.0\n"
     ]
    },
    {
     "data": {
      "image/png": "[encoded data removed]",
      "text/plain": [
       "<Figure size 432x288 with 1 Axes>"
      ]
     },
     "metadata": {
      "needs_background": "light"
     },
     "output_type": "display_data"
    },
    {
     "name": "stdout",
     "output_type": "stream",
     "text": [
      "\n",
      "\n",
      "hardneg\n",
      "6814.0\n",
      "5800.0\n"
     ]
    },
    {
     "data": {
      "image/png": "[encoded data removed]",
      "text/plain": [
       "<Figure size 432x288 with 1 Axes>"
      ]
     },
     "metadata": {
      "needs_background": "light"
     },
     "output_type": "display_data"
    },
    {
     "name": "stdout",
     "output_type": "stream",
     "text": [
      "\n",
      "\n"
     ]
    }
   ],
   "source": [
    "def filter_percentile_for_plot(data, percentile = 0.95):\n",
    "    # Calculate the 95th percentile value\n",
    "    percentile_95 = data.quantile(percentile)\n",
    "\n",
    "    # Filter values less than the 95th percentile\n",
    "    filtered_values = data[data < percentile_95]\n",
    "    \n",
    "    return filtered_values\n",
    "\n",
    "for p in ['easypos', 'smartneg', 'easyneg', 'hardneg']:\n",
    "    print(p)\n",
    "    print(test500[test500.policy == p].distance_x.max())\n",
    "    print(test500[test500.policy == p].distance_y.max())\n",
    "    \n",
    "    if test500[test500.policy == p].distance_x.max() >0:\n",
    "        sns.kdeplot(filter_percentile_for_plot(test500[test500.policy == p].distance_x))\n",
    "        sns.kdeplot(filter_percentile_for_plot(test500[test500.policy == p].distance_y))\n",
    "        plt.show()\n",
    "\n",
    "    print('\\n')"
   ]
  },
  {
   "cell_type": "code",
   "execution_count": 15,
   "id": "f843d5fb-4431-4437-8a6c-8aceed9053cf",
   "metadata": {},
   "outputs": [],
   "source": [
    "test500 = test500.drop(['start_window_x', 'end_window_x', 'start_window_y', 'end_window_y'], axis = 1)"
   ]
  },
  {
   "cell_type": "code",
   "execution_count": null,
   "id": "21aee313-73ae-47ac-a481-d18e8e15912c",
   "metadata": {},
   "outputs": [],
   "source": [
    "condition_wrong_smartneg = (test500['policy'] == 'smartneg') & (test500['distance_x'] > 0) & (test500['distance_y'] > 0)\n",
    "condition_wrong_easyneg = (test500['policy'] == 'easyneg') &  (test500['distance_x'] == 0) & (test500['distance_y'] == 0) \n",
    "\n",
    "test500.loc[condition_wrong_smartneg, 'policy'] = 'easyneg'\n",
    "test500.loc[condition_wrong_easyneg, 'policy'] = 'smartneg'\n",
    "\n",
    "assert (test500[condition_wrong_smartneg].policy == 'easyneg').all()\n",
    "assert (test500[condition_wrong_easyneg].policy == 'smartneg').all()"
   ]
  },
  {
   "cell_type": "code",
   "execution_count": 12,
   "id": "37603672-a37b-465e-8427-5766f674a8a4",
   "metadata": {},
   "outputs": [],
   "source": [
    "test500.to_csv(os.path.join(metadata_dir, f'{how}500.csv'), index = False)"
   ]
  },
  {
   "cell_type": "markdown",
   "id": "6c60329a-a1e1-4b70-a778-1d9b4f34aa49",
   "metadata": {},
   "source": [
    "# Download HN, EN set 500 nucleotides in the same embedding of P, SN"
   ]
  },
  {
   "cell_type": "code",
   "execution_count": 51,
   "id": "681ebfae-305e-463c-828d-0573d91aadd5",
   "metadata": {},
   "outputs": [],
   "source": [
    "import util.misc as utils\n",
    "import shutil\n",
    "\n",
    "def load_data_bert_script(dataset_files_dir, MAX_RNA_SIZE_BERT):\n",
    "    source_file_path = os.path.join(dataset_files_dir, 'data.py')\n",
    "    data_bert_file_path = os.path.join(dataset_files_dir, 'data_bert.py')\n",
    "    shutil.copy(source_file_path, data_bert_file_path)\n",
    "    new_max_rna_length = MAX_RNA_SIZE_BERT\n",
    "\n",
    "    # Read the content of data_bert.py\n",
    "    with open(data_bert_file_path, 'r') as file:\n",
    "        lines = file.readlines()\n",
    "\n",
    "    # Find and modify the MAX_RNA_LENGTH line\n",
    "    modified_lines = []\n",
    "    for line in lines:\n",
    "        if line.startswith('MAX_RNA_SIZE'):\n",
    "            modified_lines.append(f'MAX_RNA_SIZE = {new_max_rna_length}\\n')\n",
    "        else:\n",
    "            modified_lines.append(line)\n",
    "\n",
    "    # Write the modified content back to data_bert.py\n",
    "    with open(data_bert_file_path, 'w') as file:\n",
    "        file.writelines(modified_lines)\n",
    "\n",
    "load_data_bert_script(dataset_files_dir, MAX_RNA_SIZE_BERT)\n",
    "\n",
    "from dataset.data_bert import (\n",
    "    RNADataset,\n",
    "    RNADatasetNT,\n",
    "    EasyPosAugment,\n",
    "    SmartNegAugment,\n",
    "    InteractionSelectionPolicy,\n",
    "    create_augment_list,\n",
    "    seed_everything,\n",
    ")\n"
   ]
  },
  {
   "cell_type": "code",
   "execution_count": 52,
   "id": "aaadedfc-fb8a-4d30-8318-d4ec942db07a",
   "metadata": {},
   "outputs": [
    {
     "name": "stderr",
     "output_type": "stream",
     "text": [
      "[autoreload of dataset.data_bert failed: Traceback (most recent call last):\n",
      "  File \"/data01/giorgio/ENTER/envs/dnabert/lib/python3.9/site-packages/IPython/extensions/autoreload.py\", line 245, in check\n",
      "    superreload(m, reload, self.old_objects)\n",
      "  File \"/data01/giorgio/ENTER/envs/dnabert/lib/python3.9/site-packages/IPython/extensions/autoreload.py\", line 410, in superreload\n",
      "    update_generic(old_obj, new_obj)\n",
      "  File \"/data01/giorgio/ENTER/envs/dnabert/lib/python3.9/site-packages/IPython/extensions/autoreload.py\", line 347, in update_generic\n",
      "    update(a, b)\n",
      "  File \"/data01/giorgio/ENTER/envs/dnabert/lib/python3.9/site-packages/IPython/extensions/autoreload.py\", line 317, in update_class\n",
      "    update_instances(old, new)\n",
      "  File \"/data01/giorgio/ENTER/envs/dnabert/lib/python3.9/site-packages/IPython/extensions/autoreload.py\", line 280, in update_instances\n",
      "    ref.__class__ = new\n",
      "  File \"<string>\", line 4, in __setattr__\n",
      "dataclasses.FrozenInstanceError: cannot assign to field '__class__'\n",
      "]\n"
     ]
    }
   ],
   "source": [
    "df_nt = pd.read_csv(os.path.join(metadata_dir, f'df_nt_{how}.csv'))\n",
    "df_genes_nt = pd.read_csv(os.path.join(metadata_dir, f'df_genes_nt_{how}.csv'))\n",
    "df_nt = df_nt[df_nt.policy.isin(['easypos', 'smartneg'])].reset_index(drop = True)\n",
    "#leva quelli con regione di interazione maggiore di 500\n",
    "df_nt = df_nt[~((df_nt.w>=MAX_RNA_SIZE_BERT)|(df_nt.h>=MAX_RNA_SIZE_BERT))]\n",
    "\n",
    "df_nt, df_genes_nt = clean_nt_dataframes_before_class_input(df_nt, df_genes_nt)\n",
    "\n",
    "neg_windows = {(500, 501): 1.}\n",
    "\n",
    "policies_test = [\n",
    "    HardNegAugment(\n",
    "        per_sample=1,\n",
    "        width_windows=neg_windows,\n",
    "        height_windows=neg_windows,\n",
    "    ),\n",
    "    EasyNegAugment(\n",
    "        per_sample=1,\n",
    "        width_windows=neg_windows,\n",
    "        height_windows=neg_windows,\n",
    "    ),\n",
    "]\n",
    "\n",
    "dataset_test = RNADatasetNT(\n",
    "    gene2info=df_genes_nt,\n",
    "    interactions=df_nt,\n",
    "    subset_file='',\n",
    "    augment_policies=policies_test,\n",
    "    data_dir = os.path.join(embedding_dir, '32'),\n",
    "    scaling_factor = 5,\n",
    "    min_n_groups = np.nan,\n",
    "    max_n_groups = 80,\n",
    ")"
   ]
  },
  {
   "cell_type": "code",
   "execution_count": 53,
   "id": "a6621b9b-456a-4432-a462-5492f5beec56",
   "metadata": {},
   "outputs": [
    {
     "data": {
      "application/vnd.jupyter.widget-view+json": {
       "model_id": "55ae2838ed734f2ab44a453d33babc8b",
       "version_major": 2,
       "version_minor": 0
      },
      "text/plain": [
       "  0%|          | 0/4605 [00:00<?, ?it/s]"
      ]
     },
     "metadata": {},
     "output_type": "display_data"
    }
   ],
   "source": [
    "test500 = []\n",
    "\n",
    "for s in tqdm(dataset_test):\n",
    "    \n",
    "    gene1, gene2 = s.gene1, s.gene2\n",
    "\n",
    "    x1, x2, y1, y2 = s.bbox.x1, s.bbox.x2, s.bbox.y1, s.bbox.y2\n",
    "\n",
    "    seed_x1, seed_x2, seed_y1, seed_y2 = s.seed_interaction_bbox.x1, s.seed_interaction_bbox.x2, s.seed_interaction_bbox.y1, s.seed_interaction_bbox.y2\n",
    "    \n",
    "    interacting = s.interacting\n",
    "\n",
    "    cdna1, cdna2 = s.gene1_info['cdna'], s.gene2_info['cdna']\n",
    "\n",
    "    cdna1slice, cdna2slice = cdna1[x1:x2], cdna2[y1:y2]\n",
    "    \n",
    "    assert len(s.all_couple_interactions) == 1\n",
    "    couples_id = s.all_couple_interactions[0]['couple']\n",
    "\n",
    "    test500.append({\n",
    "        'gene1':gene1,\n",
    "        'gene2':gene2,\n",
    "        'x1':x1,\n",
    "        'x2':x2,\n",
    "        'y1':y1,\n",
    "        'y2':y2,\n",
    "        'seed_x1':seed_x1,\n",
    "        'seed_x2':seed_x2,\n",
    "        'seed_y1':seed_y1,\n",
    "        'seed_y2':seed_y2,\n",
    "        'cdna1':cdna1slice,\n",
    "        'cdna2':cdna2slice,\n",
    "        'len1':len(cdna1slice),\n",
    "        'len2':len(cdna2slice),\n",
    "        'couples':couples_id\n",
    "    })\n",
    "    \n",
    "test500 = pd.DataFrame(test500)\n",
    "\n",
    "assert test500.len1.max() == test500.len2.max() == 500\n",
    "n_rows = test500.shape[0]"
   ]
  },
  {
   "cell_type": "code",
   "execution_count": 54,
   "id": "61cdf6b9-f1ab-48b2-ad33-2c1806e1fc2b",
   "metadata": {},
   "outputs": [],
   "source": [
    "assert (test500.seed_x1 <= test500.seed_x2).all()\n",
    "assert (test500.seed_y1 <= test500.seed_y2).all()\n",
    "\n",
    "hn = test500[test500['couples'].isin(df_nt[df_nt['policy'] == 'easypos'].couples)]\n",
    "assert ((hn.x1 >= hn.seed_x2) | (hn.x2 <= hn.seed_x1) | (hn.y1 >= hn.seed_y2) | (hn.y2 <= hn.seed_y1)).all()"
   ]
  },
  {
   "cell_type": "code",
   "execution_count": 55,
   "id": "2f55b97b-7a69-42ea-984d-ebb92a0e59a6",
   "metadata": {},
   "outputs": [
    {
     "name": "stdout",
     "output_type": "stream",
     "text": [
      "NB There are  0  duplicated in df_nt (i think they are easyneg and smartneg overlapping)\n"
     ]
    }
   ],
   "source": [
    "test500_1 = test500.merge(df_nt[['gene1', 'gene2', 'couples']], left_on = ['gene1', 'gene2'], right_on = ['gene1', 'gene2'])\n",
    "test500_2 = test500.merge(df_nt[['gene1', 'gene2', 'couples']], left_on = ['gene1', 'gene2'], right_on = ['gene2', 'gene1'])\n",
    "\n",
    "\n",
    "test500_2 = test500_2.drop(['gene1_x', 'gene2_x'], axis = 1).rename({'gene1_y':'gene1', 'gene2_y':'gene2'}, axis = 1)\n",
    "where = test500_2.len1>0 #all rows\n",
    "test500_2.loc[where, ['x1', 'y1']] = (test500_2.loc[where, ['y1', 'x1']].values)\n",
    "test500_2.loc[where, ['x2', 'y2']] = (test500_2.loc[where, ['y2', 'x2']].values)\n",
    "test500_2.loc[where, ['seed_x1', 'seed_y1']] = (test500_2.loc[where, ['seed_y1', 'seed_x1']].values)\n",
    "test500_2.loc[where, ['seed_x2', 'seed_y2']] = (test500_2.loc[where, ['seed_y2', 'seed_x2']].values)\n",
    "test500_2.loc[where, ['len1', 'len2']] = (test500_2.loc[where, ['len2', 'len1']].values)\n",
    "test500_2.loc[where, ['cdna1', 'cdna2']] = (test500_2.loc[where, ['cdna2', 'cdna1']].values)\n",
    "\n",
    "#shuffling\n",
    "test500 = pd.concat([test500_1, test500_2], axis = 0).sample(frac=1).reset_index(drop = True)\n",
    "\n",
    "#clean couples column\n",
    "assert (test500.couples_x == test500.couples_y).all()\n",
    "test500 = test500.drop('couples_x', axis = 1).rename({'couples_y':'couples'}, axis = 1)\n",
    "\n",
    "#clean gene_name_column\n",
    "test500['gene1'] = test500['gene1'].str.extractall('(.*)_(.*)').reset_index()[0]\n",
    "test500['gene2'] = test500['gene2'].str.extractall('(.*)_(.*)').reset_index()[0]\n",
    "\n",
    "#clean gene_name_column\n",
    "df_nt['gene1'] = df_nt['gene1'].str.extractall('(.*)_(.*)').reset_index(1)[0]\n",
    "df_nt['gene2'] = df_nt['gene2'].str.extractall('(.*)_(.*)').reset_index(1)[0]\n",
    "\n",
    "assert df_nt[df_nt.duplicated(set(df_nt.columns) - {'couples'})].shape[0] < df_nt.shape[0]*0.01\n",
    "\n",
    "print('NB There are ', abs(n_rows - test500.shape[0]), ' duplicated in df_nt (i think they are easyneg and smartneg overlapping)')\n",
    "# with respect to this key \n",
    "# df_nt['key'] = df_nt['gene1'] + '_' + df_nt['gene2'] \n",
    "# but they are few\n",
    "# df_nt[(df_nt['gene1'] + '_' + df_nt['gene2']).duplicated()]"
   ]
  },
  {
   "cell_type": "markdown",
   "id": "1c898088-0138-41f7-9122-8e67cd6c0f5b",
   "metadata": {},
   "source": [
    "### Repeats"
   ]
  },
  {
   "cell_type": "code",
   "execution_count": 56,
   "id": "5fbc363d-cf5f-4196-a66c-db136876e6cc",
   "metadata": {},
   "outputs": [],
   "source": [
    "if how == 'splash':\n",
    "    df_repeats = pd.read_csv(os.path.join(processed_files_dir, 'nt_data', 'mean_embeddings', 'df_repeats_splash.csv'))\n",
    "elif how in ['mario', 'ricseq']:\n",
    "    df_repeats = pd.read_csv(os.path.join(processed_files_dir, 'nt_data', 'mean_embeddings', 'df_repeats.csv'))\n",
    "\n",
    "    \n",
    "    \n",
    "test500['start_embedding1'] = test500.gene1.str.extractall('(.*)_(.*)_(.*)').reset_index(drop = True)[1].astype(int)\n",
    "test500['end_embedding1'] = test500.gene1.str.extractall('(.*)_(.*)_(.*)').reset_index(drop = True)[2].astype(int)\n",
    "test500['start_embedding2'] = test500.gene2.str.extractall('(.*)_(.*)_(.*)').reset_index(drop = True)[1].astype(int)\n",
    "test500['end_embedding2'] = test500.gene2.str.extractall('(.*)_(.*)_(.*)').reset_index(drop = True)[2].astype(int)\n",
    "\n",
    "test500['g1'] = test500['gene1'].str.extractall('(.*)_(.*)_(.*)').reset_index()[0]\n",
    "test500['g2'] = test500['gene2'].str.extractall('(.*)_(.*)_(.*)').reset_index()[0]\n",
    "\n",
    "# Apply the function to create the 'feature1' column in the test500 dataframe\n",
    "test500['feature1'] = test500.apply(get_features1, axis=1, args=(df_repeats,)) # test500['feature1']\n",
    "test500['feature2'] = test500.apply(get_features2, axis=1, args=(df_repeats,)) # test500['feature1']\n",
    "test500['full_feature1'] = test500.apply(get_full_overlap_features1, axis=1, args=(df_repeats,)) # test500['feature1']\n",
    "test500['full_feature2'] = test500.apply(get_full_overlap_features2, axis=1, args=(df_repeats,)) # test500['feature1']\n",
    "\n",
    "test500 = test500.drop(['start_embedding1', 'end_embedding1', 'start_embedding2', 'end_embedding2'], axis = 1)"
   ]
  },
  {
   "cell_type": "code",
   "execution_count": 58,
   "id": "9d4077d1-5391-404c-b666-f6f58af4640e",
   "metadata": {},
   "outputs": [],
   "source": [
    "test500.to_csv(os.path.join(metadata_dir, f'{how}ENHN500.csv'), index = False)"
   ]
  },
  {
   "cell_type": "markdown",
   "id": "c8683181-79d1-47e0-8f28-8efcc670164f",
   "metadata": {},
   "source": [
    "### Add the distance to the colosest region of interaction "
   ]
  },
  {
   "cell_type": "code",
   "execution_count": 59,
   "id": "f20d587a-a07b-4411-ab1b-b4b27b582e1f",
   "metadata": {},
   "outputs": [],
   "source": [
    "df_nt = pd.read_csv(os.path.join(metadata_dir, f'df_nt_{how}.csv'))\n",
    "test500 = pd.read_csv(os.path.join(metadata_dir, f'{how}ENHN500.csv'))"
   ]
  },
  {
   "cell_type": "code",
   "execution_count": 60,
   "id": "f53168e6-ba1f-4b0e-8af3-eb7190700fe9",
   "metadata": {},
   "outputs": [],
   "source": [
    "def min_distance(interval1, interval2):\n",
    "    # Sorting intervals to make sure interval1[0] is less than interval2[0]\n",
    "    interval1, interval2 = sorted([interval1, interval2], key=lambda x: x[0])\n",
    "\n",
    "    # Case where intervals overlap\n",
    "    if interval1[1] >= interval2[0]:\n",
    "        return 0\n",
    "\n",
    "    # Minimum distance between non-overlapping intervals\n",
    "    return interval2[0] - interval1[1]\n",
    "\n",
    "gene1_coord = test500['gene1'].str.extractall('(.*)_(.*)_(.*)').reset_index()\n",
    "gene2_coord = test500['gene2'].str.extractall('(.*)_(.*)_(.*)').reset_index()\n",
    "\n",
    "test500['start_window_x'] = gene1_coord[1].astype(int) + test500['x1']\n",
    "test500['end_window_x'] = gene1_coord[1].astype(int) + test500['x2']\n",
    "\n",
    "test500['start_window_y'] = gene2_coord[1].astype(int) + test500['y1']\n",
    "test500['end_window_y'] = gene2_coord[1].astype(int) + test500['y2']"
   ]
  },
  {
   "cell_type": "code",
   "execution_count": 61,
   "id": "762520ea-1b6e-480a-a722-bbfdb95bbfa2",
   "metadata": {},
   "outputs": [
    {
     "data": {
      "application/vnd.jupyter.widget-view+json": {
       "model_id": "e26d760b316b4d959b4b762ebfde0115",
       "version_major": 2,
       "version_minor": 0
      },
      "text/plain": [
       "  0%|          | 0/4605 [00:00<?, ?it/s]"
      ]
     },
     "metadata": {},
     "output_type": "display_data"
    }
   ],
   "source": [
    "diz = {}\n",
    "for _, row in tqdm(test500.iterrows(), total = test500.shape[0]):\n",
    "    g1, g2 = row.g1, row.g2\n",
    "    x1,x2,y1,y2 = row.start_window_x, row.end_window_x, row.start_window_y, row.end_window_y\n",
    "\n",
    "    couple_name = g1 + '_' + g2\n",
    "    assert couple_name in set(df.couples)\n",
    "\n",
    "    all_interactions = df[df['couples'] == couple_name]\n",
    "\n",
    "    distances_x = []\n",
    "    distances_y = []\n",
    "    for _, df_row in all_interactions.iterrows():\n",
    "        distances_x.append(\n",
    "            min_distance([x1,x2], [df_row.x1,df_row.x1 + df_row.w])\n",
    "        )\n",
    "        distances_y.append(\n",
    "            min_distance([y1,y2], [df_row.y1,df_row.y1 + df_row.h])\n",
    "        )\n",
    "\n",
    "    distance_x = min(distances_x)\n",
    "    distance_y = min(distances_y)\n",
    "    \n",
    "    diz[row.couples] = {'distance_x':distance_x, 'distance_y':distance_y}"
   ]
  },
  {
   "cell_type": "code",
   "execution_count": 62,
   "id": "15f9d86f-4062-4ebf-bf8b-387192f20f16",
   "metadata": {},
   "outputs": [],
   "source": [
    "test500 = test500.filter(['gene1', 'gene2', 'x1', 'x2', 'y1', 'y2', \n",
    "                'seed_x1', 'seed_x2', 'seed_y1', 'seed_y2', \n",
    "                'cdna1', 'cdna2', 'len1', 'len2', 'couples',\n",
    "                'g1','g2', 'feature1', 'feature2'\n",
    "               ], axis = 1)"
   ]
  },
  {
   "cell_type": "code",
   "execution_count": 63,
   "id": "6ab9daac-dd4e-4741-94a9-505ff7745d6f",
   "metadata": {},
   "outputs": [
    {
     "name": "stdout",
     "output_type": "stream",
     "text": [
      "easypos\n",
      "nan\n",
      "nan\n",
      "\n",
      "\n",
      "smartneg\n",
      "nan\n",
      "nan\n",
      "\n",
      "\n",
      "easyneg\n",
      "67144\n",
      "30482\n"
     ]
    },
    {
     "data": {
      "image/png": "[encoded data removed]",
      "text/plain": [
       "<Figure size 432x288 with 1 Axes>"
      ]
     },
     "metadata": {
      "needs_background": "light"
     },
     "output_type": "display_data"
    },
    {
     "name": "stdout",
     "output_type": "stream",
     "text": [
      "\n",
      "\n",
      "hardneg\n",
      "34486\n",
      "27438\n"
     ]
    },
    {
     "data": {
      "image/png": "[encoded data removed]",
      "text/plain": [
       "<Figure size 432x288 with 1 Axes>"
      ]
     },
     "metadata": {
      "needs_background": "light"
     },
     "output_type": "display_data"
    },
    {
     "name": "stdout",
     "output_type": "stream",
     "text": [
      "\n",
      "\n"
     ]
    }
   ],
   "source": [
    "distances = pd.DataFrame.from_dict(diz, orient = 'index').reset_index().rename({'index':'couples'},axis =1)\n",
    "test500 = test500.merge(distances, on = 'couples')\n",
    "test500 = test500.merge(df_nt[['couples', 'policy']], on = 'couples')\n",
    "\n",
    "#I have to change policy values because they where caclulated over the original embeddings\n",
    "test500.loc[(test500['policy'] == 'smartneg'), 'policy'] = 'easyneg'\n",
    "test500.loc[(test500['policy'] == 'easypos'), 'policy'] = 'hardneg'\n",
    "\n",
    "\n",
    "def filter_percentile_for_plot(data, percentile = 0.95):\n",
    "    # Calculate the 95th percentile value\n",
    "    percentile_95 = data.quantile(percentile)\n",
    "\n",
    "    # Filter values less than the 95th percentile\n",
    "    filtered_values = data[data < percentile_95]\n",
    "    \n",
    "    return filtered_values\n",
    "\n",
    "for p in ['easypos', 'smartneg', 'easyneg', 'hardneg']:\n",
    "    print(p)\n",
    "    print(test500[test500.policy == p].distance_x.max())\n",
    "    print(test500[test500.policy == p].distance_y.max())\n",
    "    \n",
    "    if test500[test500.policy == p].distance_x.max() >0:\n",
    "        sns.kdeplot(filter_percentile_for_plot(test500[test500.policy == p].distance_x))\n",
    "        sns.kdeplot(filter_percentile_for_plot(test500[test500.policy == p].distance_y))\n",
    "        plt.show()\n",
    "\n",
    "    print('\\n')"
   ]
  },
  {
   "cell_type": "code",
   "execution_count": 64,
   "id": "d30641c0-4bfa-4b23-a87f-d266d046a083",
   "metadata": {},
   "outputs": [],
   "source": [
    "condition_wrong_hardneg = (test500['policy'] == 'hardneg') &  (test500['distance_x'] == 0) & (test500['distance_y'] == 0) \n",
    "condition_wrong_easyneg = (test500['policy'] == 'easyneg') &  (test500['distance_x'] == 0) & (test500['distance_y'] == 0) \n",
    "\n",
    "test500.loc[condition_wrong_hardneg, 'policy'] = 'easypos'\n",
    "test500.loc[condition_wrong_easyneg, 'policy'] = 'smartneg'\n",
    "\n",
    "assert (test500[condition_wrong_hardneg].policy == 'easypos').all()\n",
    "assert (test500[condition_wrong_easyneg].policy == 'smartneg').all()"
   ]
  },
  {
   "cell_type": "code",
   "execution_count": 65,
   "id": "4de4ad81-9717-4845-9a18-cce9a9aa7602",
   "metadata": {},
   "outputs": [
    {
     "data": {
      "text/plain": [
       "hardneg     2516\n",
       "easyneg     1951\n",
       "smartneg     137\n",
       "easypos        1\n",
       "Name: policy, dtype: int64"
      ]
     },
     "execution_count": 65,
     "metadata": {},
     "output_type": "execute_result"
    }
   ],
   "source": [
    "# come mai ci sono easypos? non funziona bene la generazione di hardneg?\n",
    "test500.policy.value_counts()"
   ]
  },
  {
   "cell_type": "code",
   "execution_count": 66,
   "id": "dad8b823-29a3-4528-9193-2fcd0569d23c",
   "metadata": {},
   "outputs": [],
   "source": [
    "#drop easypos and smartneg, I only want EN, HN\n",
    "test500 = test500[test500.policy.isin(['hardneg', 'easyneg'])].reset_index(drop = True)"
   ]
  },
  {
   "cell_type": "code",
   "execution_count": 67,
   "id": "b597497b-e330-45a7-adbe-c3861db921dc",
   "metadata": {},
   "outputs": [],
   "source": [
    "test500.to_csv(os.path.join(metadata_dir, f'{how}ENHN500.csv'), index = False)"
   ]
  },
  {
   "cell_type": "markdown",
   "id": "fe950450-0788-4313-b08b-f46fb690108a",
   "metadata": {},
   "source": [
    "# Do the embedding contain the region of interaction?"
   ]
  },
  {
   "cell_type": "code",
   "execution_count": 109,
   "id": "e787af81-de92-4d39-a1e9-6a537fab5105",
   "metadata": {},
   "outputs": [],
   "source": [
    "how = 'mario'\n",
    "def min_distance(interval1, interval2):\n",
    "    # Sorting intervals to make sure interval1[0] is less than interval2[0]\n",
    "    interval1, interval2 = sorted([interval1, interval2], key=lambda x: x[0])\n",
    "\n",
    "    # Case where intervals overlap\n",
    "    if interval1[1] >= interval2[0]:\n",
    "        return 0\n",
    "\n",
    "    # Minimum distance between non-overlapping intervals\n",
    "    return interval2[0] - interval1[1]\n",
    "\n",
    "df = pd.read_csv(os.path.join(processed_files_dir, f\"{how}.csv\"))"
   ]
  },
  {
   "cell_type": "code",
   "execution_count": 110,
   "id": "f8e6be85-1fb6-4930-a14d-258f3d9c05ab",
   "metadata": {},
   "outputs": [
    {
     "data": {
      "application/vnd.jupyter.widget-view+json": {
       "model_id": "dd14d3b198024569adc7c1714b07f6e3",
       "version_major": 2,
       "version_minor": 0
      },
      "text/plain": [
       "  0%|          | 0/2208 [00:00<?, ?it/s]"
      ]
     },
     "metadata": {},
     "output_type": "display_data"
    },
    {
     "data": {
      "application/vnd.jupyter.widget-view+json": {
       "model_id": "e384a7b613a44c78af6f4a04eef4d027",
       "version_major": 2,
       "version_minor": 0
      },
      "text/plain": [
       "  0%|          | 0/4601 [00:00<?, ?it/s]"
      ]
     },
     "metadata": {},
     "output_type": "display_data"
    }
   ],
   "source": [
    "test500_paths = [os.path.join(metadata_dir, f'{how}ENHN500.csv'), \n",
    "            os.path.join(metadata_dir, f'{how}500.csv')]\n",
    "\n",
    "\n",
    "for test500_path in test500_paths:\n",
    "    test500 = pd.read_csv(test500_path)\n",
    "    \n",
    "    gene1_coord = test500['gene1'].str.extractall('(.*)_(.*)_(.*)').reset_index()\n",
    "    gene2_coord = test500['gene2'].str.extractall('(.*)_(.*)_(.*)').reset_index()\n",
    "\n",
    "\n",
    "    test500['start_embedding_x'] = gene1_coord[1].astype(int)\n",
    "    test500['end_embedding_x'] = gene1_coord[2].astype(int)\n",
    "\n",
    "    test500['start_embedding_y'] = gene2_coord[1].astype(int)\n",
    "    test500['end_embedding_y'] = gene2_coord[2].astype(int)\n",
    "\n",
    "\n",
    "    diz = {}\n",
    "    for _, row in tqdm(test500.iterrows(), total = test500.shape[0]):\n",
    "        g1, g2 = row.g1, row.g2\n",
    "        x1,x2,y1,y2 = row.start_embedding_x, row.end_embedding_x, row.start_embedding_y, row.end_embedding_y\n",
    "\n",
    "        couple_name = g1 + '_' + g2\n",
    "        assert couple_name in set(df.couples)\n",
    "\n",
    "        all_interactions = df[df['couples'] == couple_name]\n",
    "\n",
    "        distances_x = []\n",
    "        distances_y = []\n",
    "        for _, df_row in all_interactions.iterrows():\n",
    "            distances_x.append(\n",
    "                min_distance([x1,x2], [df_row.x1,df_row.x1 + df_row.w])\n",
    "            )\n",
    "            distances_y.append(\n",
    "                min_distance([y1,y2], [df_row.y1,df_row.y1 + df_row.h])\n",
    "            )\n",
    "\n",
    "        distance_x = min(distances_x)\n",
    "        distance_y = min(distances_y)\n",
    "\n",
    "        diz[row.couples] = {'distance_embedding_x':distance_x, 'distance_embedding_y':distance_y}\n",
    "\n",
    "\n",
    "    distances = pd.DataFrame.from_dict(diz, orient = 'index').reset_index().rename({'index':'couples'},axis =1)\n",
    "    test500 = test500.merge(distances, on = 'couples')\n",
    "\n",
    "    test500 = test500.drop(['start_embedding_x',\t'end_embedding_x', 'start_embedding_y', 'end_embedding_y'], axis = 1)\n",
    "\n",
    "    if len(set(test500.policy).intersection(['easypos', 'smartneg'])) > 0 :\n",
    "        assert 0 == np.max(np.max(test500[test500.policy.isin(['easypos', 'smartneg'])][['distance_embedding_x', 'distance_embedding_y']]))\n",
    "\n",
    "    test500.to_csv(test500_path, index = False)\n",
    "    \n",
    "    \n",
    "# controlla che in test500 la distanza all embedding sia 0\n",
    "\n",
    "test500 = pd.read_csv(os.path.join(metadata_dir, f'{set_data}ENHN500.csv'))\n",
    "\n",
    "assert 0 == np.argmax(test500.apply(lambda x: np.min([x.distance_embedding_x, x.distance_embedding_y]), axis = 1))"
   ]
  },
  {
   "cell_type": "markdown",
   "id": "3f5d261b-5c94-4f08-bfa9-f5635e17dc34",
   "metadata": {},
   "source": [
    "# DROP SECONDARY STRUCTURE COUPLES "
   ]
  },
  {
   "cell_type": "code",
   "execution_count": 17,
   "id": "168cbea7-8fa2-43f3-8e01-cb76a18bc2de",
   "metadata": {},
   "outputs": [],
   "source": [
    "how = 'ricseq'"
   ]
  },
  {
   "cell_type": "code",
   "execution_count": 18,
   "id": "c385a7b9-c0b4-4860-b2e8-c6525101f829",
   "metadata": {},
   "outputs": [],
   "source": [
    "test500 = pd.read_csv(os.path.join(metadata_dir, f'{how}500.csv'))\n",
    "test500[~(test500.g1 == test500.g2)].reset_index(drop = True).to_csv(os.path.join(metadata_dir, f'{how}500.csv'), index = False)"
   ]
  },
  {
   "cell_type": "code",
   "execution_count": 19,
   "id": "4fcecc90-887c-4660-b5eb-469ce1158e5b",
   "metadata": {},
   "outputs": [],
   "source": [
    "test500 = pd.read_csv(os.path.join(metadata_dir, f'{how}ENHN500.csv'))\n",
    "test500[~(test500.g1 == test500.g2)].reset_index(drop = True).to_csv(os.path.join(metadata_dir, f'{how}ENHN500.csv'), index = False)"
   ]
  }
 ],
 "metadata": {
  "kernelspec": {
   "display_name": "Python 3 (ipykernel)",
   "language": "python",
   "name": "python3"
  },
  "language_info": {
   "codemirror_mode": {
    "name": "ipython",
    "version": 3
   },
   "file_extension": ".py",
   "mimetype": "text/x-python",
   "name": "python",
   "nbconvert_exporter": "python",
   "pygments_lexer": "ipython3",
   "version": "3.9.7"
  }
 },
 "nbformat": 4,
 "nbformat_minor": 5
}
