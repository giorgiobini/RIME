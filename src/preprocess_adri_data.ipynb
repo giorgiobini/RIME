{
 "cells": [
  {
   "cell_type": "markdown",
   "id": "75fd7e20-8dab-4f31-a886-2801a259b193",
   "metadata": {},
   "source": [
    "# Code"
   ]
  },
  {
   "cell_type": "code",
   "execution_count": 1,
   "id": "685f531f",
   "metadata": {},
   "outputs": [],
   "source": [
    "import pandas as pd\n",
    "import os\n",
    "import time\n",
    "import numpy as np\n",
    "import sys\n",
    "from tqdm.notebook import tqdm\n",
    "sys.path.insert(0, '..')\n",
    "import dataset.preprocessing as utils"
   ]
  },
  {
   "cell_type": "code",
   "execution_count": 2,
   "id": "cfdaa078-478c-4e41-b3c6-57ae5a98fb33",
   "metadata": {},
   "outputs": [],
   "source": [
    "ROOT_DIR = os.path.dirname(os.path.abspath('.'))\n",
    "original_files_dir = os.path.join(ROOT_DIR, 'dataset', 'original_files')\n",
    "processed_files_dir = os.path.join(ROOT_DIR, 'dataset', 'processed_files')\n",
    "rna_rna_pairs_data_dir = os.path.join(ROOT_DIR, 'dataset', 'rna_rna_pairs')"
   ]
  },
  {
   "cell_type": "markdown",
   "id": "0c4ff3bd-6803-470d-a1bd-3a21e6d1e19b",
   "metadata": {},
   "source": [
    "### Pre-processing"
   ]
  },
  {
   "cell_type": "code",
   "execution_count": 3,
   "id": "497655dd-0964-429a-9985-d99f3cebec6d",
   "metadata": {},
   "outputs": [],
   "source": [
    "df_hub = utils.read_dataframe(os.path.join(original_files_dir, 'hub.table.paris.txt'), columns_to_drop = ['Unnamed: 0','gene_name']).rename({'cell_line': 'cell_line_set',\n",
    "                                                                                                                                                    'degree':'n_interactors',\n",
    "                                                                                                                                                    'gene_type': 'gene_type_set',\n",
    "                                                                                                                                                    'species': 'species_set'}, axis = 1)\n",
    "tx = utils.read_dataframe(os.path.join(original_files_dir,'tx_regions.ens99.txt'), columns_to_drop = ['Unnamed: 0','ensembl_transcript_id']).rename({'ensembl_gene_id': 'gene_id'}, axis = 1)\n",
    "cc = pd.read_csv(os.path.join(original_files_dir,'controls_controlled.hub.txt'), sep = '\\t')\n",
    "int_or = utils.read_dataframe(os.path.join(original_files_dir, 'rise_paris_tr.new.mapped_interactions.tx_regions.txt'), columns_to_drop = ['Unnamed: 0', 'gene_name1', 'gene_name2', 'score', 'tx_id_1', 'tx_id_2', 'rise_id', 'type_interaction', 'tx_id_1_localization', 'tx_id_2_localization'])\n",
    "\n",
    "df_genes = df_hub.merge(tx, on = 'gene_id')\n",
    "assert df_genes.shape[0] == df_hub.shape[0]"
   ]
  },
  {
   "cell_type": "code",
   "execution_count": 4,
   "id": "0e7b1e9c-91cc-4a58-b2a8-91f2579abe1e",
   "metadata": {},
   "outputs": [],
   "source": [
    "int_or_all = utils.read_dataframe(os.path.join(original_files_dir, 'rise_paris_tr.new.mapped_interactions.tx_regions.txt'), columns_to_drop = ['rise_id','Unnamed: 0', 'type_interaction'])"
   ]
  },
  {
   "cell_type": "code",
   "execution_count": 5,
   "id": "0a51a73d-3a39-4d63-a88e-c1a5607ad418",
   "metadata": {},
   "outputs": [
    {
     "data": {
      "text/plain": [
       "90086"
      ]
     },
     "execution_count": 5,
     "metadata": {},
     "output_type": "execute_result"
    }
   ],
   "source": [
    "int_or_all.drop_duplicates().shape[0]"
   ]
  },
  {
   "cell_type": "code",
   "execution_count": 6,
   "id": "16cfd973-5d23-40f9-9747-ac773b8c8ec7",
   "metadata": {},
   "outputs": [
    {
     "data": {
      "text/plain": [
       "92173"
      ]
     },
     "execution_count": 6,
     "metadata": {},
     "output_type": "execute_result"
    }
   ],
   "source": [
    "int_or.shape[0]"
   ]
  },
  {
   "cell_type": "code",
   "execution_count": 7,
   "id": "2a95e013-bcbd-42be-ae4b-b76858f58123",
   "metadata": {},
   "outputs": [
    {
     "data": {
      "text/plain": [
       "89971"
      ]
     },
     "execution_count": 7,
     "metadata": {},
     "output_type": "execute_result"
    }
   ],
   "source": [
    "int_or = int_or.drop_duplicates().reset_index(drop = True)\n",
    "int_or.shape[0]"
   ]
  },
  {
   "cell_type": "code",
   "execution_count": 8,
   "id": "30fa167f-b15a-4b2f-83ed-91248a5ce12a",
   "metadata": {},
   "outputs": [],
   "source": [
    "df_pairs_full = utils.obtain_df_pos_controls(cc)"
   ]
  },
  {
   "cell_type": "code",
   "execution_count": 9,
   "id": "0f73dcaa-bfa7-4767-9f51-fd299f71c4dd",
   "metadata": {},
   "outputs": [
    {
     "name": "stdout",
     "output_type": "stream",
     "text": [
      "We have 80494 pairs interacting (they can have multiple interactions) \n",
      "\n",
      "We have 160511 pairs not interacting \n",
      "\n"
     ]
    }
   ],
   "source": [
    "print(f'We have {len(set(df_pairs_full.positive))} pairs interacting (they can have multiple interactions) \\n')\n",
    "print(f'We have {len(set(df_pairs_full.negative))} pairs not interacting \\n')"
   ]
  },
  {
   "cell_type": "code",
   "execution_count": 10,
   "id": "023dbe0c-9ade-49d3-b1ca-6b8573b18187",
   "metadata": {},
   "outputs": [],
   "source": [
    "df_pairs_full.to_csv(os.path.join(processed_files_dir, 'df_pairs_full.csv'), index = False)"
   ]
  },
  {
   "cell_type": "code",
   "execution_count": 11,
   "id": "7d986478-382b-4a55-9f5d-e2207b0beadd",
   "metadata": {},
   "outputs": [],
   "source": [
    "# LEVA I COMMENTI\n",
    "\n",
    "# assert len(set(df_pairs.positive).intersection(set(int_or.gene_id1 + '_' + int_or.gene_id2))) > 0\n",
    "# assert len(set(df_pairs.positive).intersection(set(int_or.gene_id2 + '_' + int_or.gene_id1))) > 0\n",
    "\n",
    "# assert len(set(df_pairs.negative).intersection(set(int_or.gene_id1 + '_' + int_or.gene_id2))) == 0\n",
    "# assert len(set(df_pairs.negative).intersection(set(int_or.gene_id2 + '_' + int_or.gene_id1))) == 0"
   ]
  },
  {
   "cell_type": "code",
   "execution_count": 12,
   "id": "525854c0-e941-46c0-9bd0-98d098a4cfdb",
   "metadata": {},
   "outputs": [],
   "source": [
    "df_neg = df_pairs_full[['negative']].drop_duplicates().reset_index(drop = True)\n",
    "df_neg[['gene1', 'gene2']] = df_neg['negative'].str.split('_', expand = True)\n",
    "df_neg = df_neg.rename({'negative':'couples'}, axis = 1)\n",
    "\n",
    "df_pairs = df_pairs_full.groupby('positive').agg({'negative': list}).reset_index()"
   ]
  },
  {
   "cell_type": "code",
   "execution_count": 13,
   "id": "653bf7a5-ed9a-4938-acf7-e7fe258f64a2",
   "metadata": {},
   "outputs": [],
   "source": [
    "int_or[['couples', 'need_to_swap']] = int_or[['gene_id1', 'gene_id2']].apply(utils.create_pairs, axis = 1)"
   ]
  },
  {
   "cell_type": "code",
   "execution_count": 14,
   "id": "85328018-11fc-463e-862c-47b9ec71e253",
   "metadata": {},
   "outputs": [],
   "source": [
    "int_or = utils.swap_genes_if_needed(int_or)"
   ]
  },
  {
   "cell_type": "code",
   "execution_count": 15,
   "id": "4c9651e4-dd93-4886-b0a5-038c8924df06",
   "metadata": {},
   "outputs": [],
   "source": [
    "assert (int_or[['gene_id1', 'gene_id2']].apply(utils.create_pairs, axis = 1)[1] == False).all() #check if swapping works"
   ]
  },
  {
   "cell_type": "code",
   "execution_count": 16,
   "id": "36c988cd-bcb4-4940-9b20-8a98abdc8a8e",
   "metadata": {},
   "outputs": [
    {
     "data": {
      "text/plain": [
       "88999"
      ]
     },
     "execution_count": 16,
     "metadata": {},
     "output_type": "execute_result"
    }
   ],
   "source": [
    "int_or.drop_duplicates().shape[0]"
   ]
  },
  {
   "cell_type": "code",
   "execution_count": 17,
   "id": "f3476d97-a892-4a1d-a233-174ad88b7afe",
   "metadata": {},
   "outputs": [],
   "source": [
    "int_or = utils.create_features(int_or)"
   ]
  },
  {
   "cell_type": "code",
   "execution_count": 18,
   "id": "27bb7407-a450-4043-a902-88c02e1802f8",
   "metadata": {},
   "outputs": [
    {
     "data": {
      "text/plain": [
       "88999"
      ]
     },
     "execution_count": 18,
     "metadata": {},
     "output_type": "execute_result"
    }
   ],
   "source": [
    "int_or.drop_duplicates().shape[0]"
   ]
  },
  {
   "cell_type": "code",
   "execution_count": 21,
   "id": "adc34529-ce86-4295-8a60-e28ecf50fd42",
   "metadata": {},
   "outputs": [],
   "source": [
    "assert int_or.groupby('gene_id1').std(numeric_only = True).protein_coding_1.max() == 0\n",
    "assert int_or.groupby('gene_id2').std(numeric_only = True).protein_coding_2.max() == 0\n",
    "\n",
    "assert int_or.groupby('gene_id1').std(numeric_only = True).length_1.max() == 0\n",
    "assert int_or.groupby('gene_id2').std(numeric_only = True).length_2.max() == 0\n",
    "\n",
    "idx = np.random.randint(int_or.shape[0])\n",
    "assert int_or.loc[idx].length_1 == len(int_or.loc[idx].cdna_1)\n",
    "assert int_or.loc[idx].length_2 == len(int_or.loc[idx].cdna_2)"
   ]
  },
  {
   "cell_type": "markdown",
   "id": "c6106d43-9af8-4b5c-aab5-14dfba61d979",
   "metadata": {},
   "source": [
    "### Gene info df"
   ]
  },
  {
   "cell_type": "code",
   "execution_count": 22,
   "id": "b6a1a9a5-9872-4354-aaab-8e13a0d0d90c",
   "metadata": {},
   "outputs": [],
   "source": [
    "gene_info1 = int_or[['gene_id1', 'length_1', 'cdna_1', 'protein_coding_1']]\n",
    "gene_info1.columns = ['gene_id', 'length', 'cdna', 'protein_coding']\n",
    "gene_info2 = int_or[['gene_id2', 'length_2', 'cdna_2', 'protein_coding_2']]\n",
    "gene_info2.columns = ['gene_id', 'length', 'cdna', 'protein_coding']\n",
    "gene_info = pd.concat([gene_info1, gene_info2], axis = 0, ignore_index = True).drop_duplicates()\n",
    "#assert set(gene_info.gene_id) == set(df_genes.gene_id)\n",
    "df_genes = df_genes.merge(gene_info)\n",
    "df_genes.to_csv(os.path.join(processed_files_dir, 'df_genes.csv'), index = False)"
   ]
  },
  {
   "cell_type": "code",
   "execution_count": 23,
   "id": "2334d7ea-f6a9-4a1e-b6c1-c3076d8ff961",
   "metadata": {},
   "outputs": [],
   "source": [
    "#clean int_or\n",
    "int_or = int_or.drop(['cdna_1', 'cdna_2'], axis = 1)"
   ]
  },
  {
   "cell_type": "markdown",
   "id": "dab1efbb-8073-4979-9f94-c1524997142e",
   "metadata": {},
   "source": [
    "### Clean bounding boxes of df interactions"
   ]
  },
  {
   "cell_type": "code",
   "execution_count": 22,
   "id": "11b11f6f-e14c-48a3-ad5a-4792a75fee02",
   "metadata": {},
   "outputs": [],
   "source": [
    "df_boxes = int_or.filter(['start_map1', 'end_map1', 'start_map2', 'end_map2','area_of_the_interaction'], axis = 1).apply(utils.create_boxes_xywh, axis = 1).rename({0: 'x1', 1: 'y1', 2:'w', 3:'h'}, axis = 1)\n",
    "int_or = pd.concat([int_or, df_boxes], axis = 1).drop(['start_map1', 'end_map1', 'start_map2', 'end_map2'], axis = 1)"
   ]
  },
  {
   "cell_type": "code",
   "execution_count": 23,
   "id": "219a9bab-c76d-4d9a-9837-2c715c05499a",
   "metadata": {},
   "outputs": [
    {
     "data": {
      "application/vnd.jupyter.widget-view+json": {
       "model_id": "206ad38945b640eda41efcb48370a610",
       "version_major": 2,
       "version_minor": 0
      },
      "text/plain": [
       "  0%|          | 0/85127 [00:00<?, ?it/s]"
      ]
     },
     "metadata": {},
     "output_type": "display_data"
    }
   ],
   "source": [
    "#approx 13 min\n",
    "diz_int = {}\n",
    "idx = 0\n",
    "for couple in tqdm(int_or.couples.unique()):\n",
    "    subset = int_or[int_or.couples == couple]\n",
    "    list_of_boxes = subset.filter(['x1', 'y1', 'w', 'h']).values.tolist()\n",
    "    new_list_of_boxes = utils.clean_bounding_boxes(list_of_boxes)\n",
    "    row = int_or[int_or.couples == couple].iloc[0]\n",
    "    for box in new_list_of_boxes:\n",
    "        d = dict(row)\n",
    "        d['x1'] = box[0]\n",
    "        d['y1'] = box[1] \n",
    "        d['w'] = box[2]\n",
    "        d['h'] = box[3]\n",
    "        diz_int[idx] = d\n",
    "        idx+=1"
   ]
  },
  {
   "cell_type": "code",
   "execution_count": 24,
   "id": "51272abd-31b7-4f77-92e7-87cb666d1bc2",
   "metadata": {},
   "outputs": [],
   "source": [
    "df_int = pd.DataFrame.from_dict(diz_int, 'index').rename({'gene_id1':'gene1', 'gene_id2':'gene2'}, axis = 1)"
   ]
  },
  {
   "cell_type": "code",
   "execution_count": 25,
   "id": "9a0f9950-e30a-443a-b731-58be7ef6a119",
   "metadata": {},
   "outputs": [],
   "source": [
    "assert len(int_or.couples.unique()) == len(df_int.couples.unique())"
   ]
  },
  {
   "cell_type": "code",
   "execution_count": 26,
   "id": "526fe6a9-0f76-4ff6-aa97-92999811fb43",
   "metadata": {},
   "outputs": [
    {
     "name": "stdout",
     "output_type": "stream",
     "text": [
      "#interazioni prima 89971, #interazioni dopo: 88106\n"
     ]
    }
   ],
   "source": [
    "print(f'#interazioni prima {int_or.shape[0]}, #interazioni dopo: {df_int.shape[0]}')"
   ]
  },
  {
   "cell_type": "code",
   "execution_count": 27,
   "id": "5a16cbd7-b99d-4a07-91af-9092738fbfe6",
   "metadata": {},
   "outputs": [],
   "source": [
    "df_int.to_csv(os.path.join(processed_files_dir, 'full_paris_info_interactions.csv'), index = False)"
   ]
  },
  {
   "cell_type": "code",
   "execution_count": 25,
   "id": "73ae1fab-dbea-413a-b550-cccefb1b89c9",
   "metadata": {},
   "outputs": [],
   "source": [
    "df_int = df_int[['couples', 'gene1', 'gene2', \n",
    "                 'interacting', 'length_1', 'length_2',\n",
    "                 'protein_coding_1', 'protein_coding_2',\n",
    "                 'x1', 'y1', 'w', 'h']]"
   ]
  },
  {
   "cell_type": "code",
   "execution_count": 26,
   "id": "0131c473-1bd0-4c7c-a1f7-cd83639bbfc8",
   "metadata": {},
   "outputs": [
    {
     "data": {
      "text/html": [
       "<div>\n",
       "<style scoped>\n",
       "    .dataframe tbody tr th:only-of-type {\n",
       "        vertical-align: middle;\n",
       "    }\n",
       "\n",
       "    .dataframe tbody tr th {\n",
       "        vertical-align: top;\n",
       "    }\n",
       "\n",
       "    .dataframe thead th {\n",
       "        text-align: right;\n",
       "    }\n",
       "</style>\n",
       "<table border=\"1\" class=\"dataframe\">\n",
       "  <thead>\n",
       "    <tr style=\"text-align: right;\">\n",
       "      <th></th>\n",
       "      <th>couples</th>\n",
       "      <th>gene1</th>\n",
       "      <th>gene2</th>\n",
       "      <th>interacting</th>\n",
       "      <th>length_1</th>\n",
       "      <th>length_2</th>\n",
       "      <th>protein_coding_1</th>\n",
       "      <th>protein_coding_2</th>\n",
       "      <th>x1</th>\n",
       "      <th>y1</th>\n",
       "      <th>w</th>\n",
       "      <th>h</th>\n",
       "    </tr>\n",
       "  </thead>\n",
       "  <tbody>\n",
       "    <tr>\n",
       "      <th>42028</th>\n",
       "      <td>ENSG00000005022_ENSG00000234421</td>\n",
       "      <td>ENSG00000005022</td>\n",
       "      <td>ENSG00000234421</td>\n",
       "      <td>True</td>\n",
       "      <td>1307</td>\n",
       "      <td>869</td>\n",
       "      <td>True</td>\n",
       "      <td>False</td>\n",
       "      <td>831</td>\n",
       "      <td>752</td>\n",
       "      <td>21</td>\n",
       "      <td>20</td>\n",
       "    </tr>\n",
       "    <tr>\n",
       "      <th>42029</th>\n",
       "      <td>ENSG00000005022_ENSG00000234421</td>\n",
       "      <td>ENSG00000005022</td>\n",
       "      <td>ENSG00000234421</td>\n",
       "      <td>True</td>\n",
       "      <td>1307</td>\n",
       "      <td>869</td>\n",
       "      <td>True</td>\n",
       "      <td>False</td>\n",
       "      <td>265</td>\n",
       "      <td>228</td>\n",
       "      <td>23</td>\n",
       "      <td>23</td>\n",
       "    </tr>\n",
       "  </tbody>\n",
       "</table>\n",
       "</div>"
      ],
      "text/plain": [
       "                               couples            gene1            gene2  \\\n",
       "42028  ENSG00000005022_ENSG00000234421  ENSG00000005022  ENSG00000234421   \n",
       "42029  ENSG00000005022_ENSG00000234421  ENSG00000005022  ENSG00000234421   \n",
       "\n",
       "       interacting  length_1  length_2  protein_coding_1  protein_coding_2  \\\n",
       "42028         True      1307       869              True             False   \n",
       "42029         True      1307       869              True             False   \n",
       "\n",
       "        x1   y1   w   h  \n",
       "42028  831  752  21  20  \n",
       "42029  265  228  23  23  "
      ]
     },
     "execution_count": 26,
     "metadata": {},
     "output_type": "execute_result"
    }
   ],
   "source": [
    "df_int[df_int.couples == 'ENSG00000005022_ENSG00000234421']"
   ]
  },
  {
   "cell_type": "code",
   "execution_count": 27,
   "id": "87891f00-ee7e-4a59-91d9-f54669c78748",
   "metadata": {},
   "outputs": [
    {
     "data": {
      "text/html": [
       "<div>\n",
       "<style scoped>\n",
       "    .dataframe tbody tr th:only-of-type {\n",
       "        vertical-align: middle;\n",
       "    }\n",
       "\n",
       "    .dataframe tbody tr th {\n",
       "        vertical-align: top;\n",
       "    }\n",
       "\n",
       "    .dataframe thead th {\n",
       "        text-align: right;\n",
       "    }\n",
       "</style>\n",
       "<table border=\"1\" class=\"dataframe\">\n",
       "  <thead>\n",
       "    <tr style=\"text-align: right;\">\n",
       "      <th></th>\n",
       "      <th>couples</th>\n",
       "      <th>gene1</th>\n",
       "      <th>gene2</th>\n",
       "      <th>interacting</th>\n",
       "      <th>length_1</th>\n",
       "      <th>length_2</th>\n",
       "      <th>protein_coding_1</th>\n",
       "      <th>protein_coding_2</th>\n",
       "      <th>x1</th>\n",
       "      <th>y1</th>\n",
       "      <th>w</th>\n",
       "      <th>h</th>\n",
       "    </tr>\n",
       "  </thead>\n",
       "  <tbody>\n",
       "    <tr>\n",
       "      <th>42029</th>\n",
       "      <td>ENSG00000005022_ENSG00000234421</td>\n",
       "      <td>ENSG00000005022</td>\n",
       "      <td>ENSG00000234421</td>\n",
       "      <td>True</td>\n",
       "      <td>1307</td>\n",
       "      <td>869</td>\n",
       "      <td>True</td>\n",
       "      <td>False</td>\n",
       "      <td>265</td>\n",
       "      <td>228</td>\n",
       "      <td>23</td>\n",
       "      <td>23</td>\n",
       "    </tr>\n",
       "    <tr>\n",
       "      <th>3028</th>\n",
       "      <td>ENSG00000006327_ENSG00000198886</td>\n",
       "      <td>ENSG00000006327</td>\n",
       "      <td>ENSG00000198886</td>\n",
       "      <td>True</td>\n",
       "      <td>1133</td>\n",
       "      <td>1378</td>\n",
       "      <td>True</td>\n",
       "      <td>True</td>\n",
       "      <td>856</td>\n",
       "      <td>461</td>\n",
       "      <td>54</td>\n",
       "      <td>39</td>\n",
       "    </tr>\n",
       "    <tr>\n",
       "      <th>3029</th>\n",
       "      <td>ENSG00000006327_ENSG00000198886</td>\n",
       "      <td>ENSG00000006327</td>\n",
       "      <td>ENSG00000198886</td>\n",
       "      <td>True</td>\n",
       "      <td>1133</td>\n",
       "      <td>1378</td>\n",
       "      <td>True</td>\n",
       "      <td>True</td>\n",
       "      <td>875</td>\n",
       "      <td>1101</td>\n",
       "      <td>35</td>\n",
       "      <td>39</td>\n",
       "    </tr>\n",
       "    <tr>\n",
       "      <th>16378</th>\n",
       "      <td>ENSG00000006831_ENSG00000229807</td>\n",
       "      <td>ENSG00000006831</td>\n",
       "      <td>ENSG00000229807</td>\n",
       "      <td>True</td>\n",
       "      <td>3971</td>\n",
       "      <td>19245</td>\n",
       "      <td>True</td>\n",
       "      <td>False</td>\n",
       "      <td>3105</td>\n",
       "      <td>6378</td>\n",
       "      <td>20</td>\n",
       "      <td>33</td>\n",
       "    </tr>\n",
       "    <tr>\n",
       "      <th>38457</th>\n",
       "      <td>ENSG00000008128_ENSG00000248333</td>\n",
       "      <td>ENSG00000008128</td>\n",
       "      <td>ENSG00000248333</td>\n",
       "      <td>True</td>\n",
       "      <td>2984</td>\n",
       "      <td>2998</td>\n",
       "      <td>True</td>\n",
       "      <td>True</td>\n",
       "      <td>2546</td>\n",
       "      <td>2528</td>\n",
       "      <td>41</td>\n",
       "      <td>32</td>\n",
       "    </tr>\n",
       "    <tr>\n",
       "      <th>...</th>\n",
       "      <td>...</td>\n",
       "      <td>...</td>\n",
       "      <td>...</td>\n",
       "      <td>...</td>\n",
       "      <td>...</td>\n",
       "      <td>...</td>\n",
       "      <td>...</td>\n",
       "      <td>...</td>\n",
       "      <td>...</td>\n",
       "      <td>...</td>\n",
       "      <td>...</td>\n",
       "      <td>...</td>\n",
       "    </tr>\n",
       "    <tr>\n",
       "      <th>57380</th>\n",
       "      <td>ENSMUSG00000098178_ENSMUSG00000107822</td>\n",
       "      <td>ENSMUSG00000098178</td>\n",
       "      <td>ENSMUSG00000107822</td>\n",
       "      <td>True</td>\n",
       "      <td>1831</td>\n",
       "      <td>1064</td>\n",
       "      <td>False</td>\n",
       "      <td>True</td>\n",
       "      <td>868</td>\n",
       "      <td>306</td>\n",
       "      <td>24</td>\n",
       "      <td>22</td>\n",
       "    </tr>\n",
       "    <tr>\n",
       "      <th>60453</th>\n",
       "      <td>ENSMUSG00000098178_ENSMUSG00000109324</td>\n",
       "      <td>ENSMUSG00000098178</td>\n",
       "      <td>ENSMUSG00000109324</td>\n",
       "      <td>True</td>\n",
       "      <td>1831</td>\n",
       "      <td>2147</td>\n",
       "      <td>False</td>\n",
       "      <td>True</td>\n",
       "      <td>650</td>\n",
       "      <td>1735</td>\n",
       "      <td>34</td>\n",
       "      <td>22</td>\n",
       "    </tr>\n",
       "    <tr>\n",
       "      <th>65742</th>\n",
       "      <td>ENSMUSG00000098178_ENSMUSG00000109508</td>\n",
       "      <td>ENSMUSG00000098178</td>\n",
       "      <td>ENSMUSG00000109508</td>\n",
       "      <td>True</td>\n",
       "      <td>1831</td>\n",
       "      <td>2887</td>\n",
       "      <td>False</td>\n",
       "      <td>False</td>\n",
       "      <td>1243</td>\n",
       "      <td>1702</td>\n",
       "      <td>29</td>\n",
       "      <td>19</td>\n",
       "    </tr>\n",
       "    <tr>\n",
       "      <th>60644</th>\n",
       "      <td>ENSMUSG00000098178_ENSMUSG00000115420</td>\n",
       "      <td>ENSMUSG00000098178</td>\n",
       "      <td>ENSMUSG00000115420</td>\n",
       "      <td>True</td>\n",
       "      <td>1831</td>\n",
       "      <td>281</td>\n",
       "      <td>False</td>\n",
       "      <td>False</td>\n",
       "      <td>915</td>\n",
       "      <td>176</td>\n",
       "      <td>21</td>\n",
       "      <td>20</td>\n",
       "    </tr>\n",
       "    <tr>\n",
       "      <th>60645</th>\n",
       "      <td>ENSMUSG00000098178_ENSMUSG00000115420</td>\n",
       "      <td>ENSMUSG00000098178</td>\n",
       "      <td>ENSMUSG00000115420</td>\n",
       "      <td>True</td>\n",
       "      <td>1831</td>\n",
       "      <td>281</td>\n",
       "      <td>False</td>\n",
       "      <td>False</td>\n",
       "      <td>593</td>\n",
       "      <td>105</td>\n",
       "      <td>36</td>\n",
       "      <td>25</td>\n",
       "    </tr>\n",
       "  </tbody>\n",
       "</table>\n",
       "<p>2979 rows × 12 columns</p>\n",
       "</div>"
      ],
      "text/plain": [
       "                                     couples               gene1  \\\n",
       "42029        ENSG00000005022_ENSG00000234421     ENSG00000005022   \n",
       "3028         ENSG00000006327_ENSG00000198886     ENSG00000006327   \n",
       "3029         ENSG00000006327_ENSG00000198886     ENSG00000006327   \n",
       "16378        ENSG00000006831_ENSG00000229807     ENSG00000006831   \n",
       "38457        ENSG00000008128_ENSG00000248333     ENSG00000008128   \n",
       "...                                      ...                 ...   \n",
       "57380  ENSMUSG00000098178_ENSMUSG00000107822  ENSMUSG00000098178   \n",
       "60453  ENSMUSG00000098178_ENSMUSG00000109324  ENSMUSG00000098178   \n",
       "65742  ENSMUSG00000098178_ENSMUSG00000109508  ENSMUSG00000098178   \n",
       "60644  ENSMUSG00000098178_ENSMUSG00000115420  ENSMUSG00000098178   \n",
       "60645  ENSMUSG00000098178_ENSMUSG00000115420  ENSMUSG00000098178   \n",
       "\n",
       "                    gene2  interacting  length_1  length_2  protein_coding_1  \\\n",
       "42029     ENSG00000234421         True      1307       869              True   \n",
       "3028      ENSG00000198886         True      1133      1378              True   \n",
       "3029      ENSG00000198886         True      1133      1378              True   \n",
       "16378     ENSG00000229807         True      3971     19245              True   \n",
       "38457     ENSG00000248333         True      2984      2998              True   \n",
       "...                   ...          ...       ...       ...               ...   \n",
       "57380  ENSMUSG00000107822         True      1831      1064             False   \n",
       "60453  ENSMUSG00000109324         True      1831      2147             False   \n",
       "65742  ENSMUSG00000109508         True      1831      2887             False   \n",
       "60644  ENSMUSG00000115420         True      1831       281             False   \n",
       "60645  ENSMUSG00000115420         True      1831       281             False   \n",
       "\n",
       "       protein_coding_2    x1    y1   w   h  \n",
       "42029             False   265   228  23  23  \n",
       "3028               True   856   461  54  39  \n",
       "3029               True   875  1101  35  39  \n",
       "16378             False  3105  6378  20  33  \n",
       "38457              True  2546  2528  41  32  \n",
       "...                 ...   ...   ...  ..  ..  \n",
       "57380              True   868   306  24  22  \n",
       "60453              True   650  1735  34  22  \n",
       "65742             False  1243  1702  29  19  \n",
       "60644             False   915   176  21  20  \n",
       "60645             False   593   105  36  25  \n",
       "\n",
       "[2979 rows x 12 columns]"
      ]
     },
     "execution_count": 27,
     "metadata": {},
     "output_type": "execute_result"
    }
   ],
   "source": [
    "df_int[df_int.couples.duplicated()].sort_values('couples')"
   ]
  },
  {
   "cell_type": "code",
   "execution_count": 28,
   "id": "7a2c82b2-db68-468d-9be7-9357490114e9",
   "metadata": {},
   "outputs": [],
   "source": [
    "df_neg['interacting'] = False\n",
    "df_neg = df_neg.merge(df_genes[['gene_id', 'length', 'protein_coding']], left_on = 'gene1', right_on = 'gene_id').drop('gene_id', axis = 1).rename({'length': 'length_1','protein_coding':'protein_coding_1'} , axis = 1)\n",
    "df_neg = df_neg.merge(df_genes[['gene_id', 'length', 'protein_coding']], left_on = 'gene2', right_on = 'gene_id').drop('gene_id', axis = 1).rename({'length': 'length_2','protein_coding':'protein_coding_2'} , axis = 1)"
   ]
  },
  {
   "cell_type": "code",
   "execution_count": 29,
   "id": "45cd86c3-12c6-416b-a57a-33d1d254fad6",
   "metadata": {},
   "outputs": [
    {
     "ename": "AssertionError",
     "evalue": "",
     "output_type": "error",
     "traceback": [
      "\u001b[0;31m---------------------------------------------------------------------------\u001b[0m",
      "\u001b[0;31mAssertionError\u001b[0m                            Traceback (most recent call last)",
      "Cell \u001b[0;32mIn[29], line 2\u001b[0m\n\u001b[1;32m      1\u001b[0m \u001b[38;5;28;01massert\u001b[39;00m \u001b[38;5;28mset\u001b[39m(df_pairs_full\u001b[38;5;241m.\u001b[39mnegative) \u001b[38;5;241m==\u001b[39m  \u001b[38;5;28mset\u001b[39m(df_neg\u001b[38;5;241m.\u001b[39mcouples)\n\u001b[0;32m----> 2\u001b[0m \u001b[38;5;28;01massert\u001b[39;00m df_pairs_full\u001b[38;5;241m.\u001b[39mshape[\u001b[38;5;241m0\u001b[39m] \u001b[38;5;241m==\u001b[39m  df_neg\u001b[38;5;241m.\u001b[39mshape[\u001b[38;5;241m0\u001b[39m]\n",
      "\u001b[0;31mAssertionError\u001b[0m: "
     ]
    }
   ],
   "source": [
    "assert set(df_pairs_full.negative) ==  set(df_neg.couples)\n",
    "assert df_pairs_full.shape[0] ==  df_neg.shape[0] # ci sono dei negativi che sono gli stessi per piu "
   ]
  },
  {
   "cell_type": "code",
   "execution_count": 30,
   "id": "bb684b87-ab9f-4eb4-92e3-d46a15a6cddf",
   "metadata": {},
   "outputs": [],
   "source": [
    "df_int1 = df_int[['gene1', 'x1', 'w']].rename({'gene1':'gene', 'x1':'c1',  'w': 'l'}, axis = 1)\n",
    "df_int2 = df_int[['gene2', 'y1', 'h']].rename({'gene2':'gene', 'y1':'c1',  'h': 'l'}, axis = 1)\n",
    "df_coord = pd.concat([df_int1, df_int2], ignore_index = True)#.drop_duplicates().reset_index(drop = True)\n",
    "#df_coord may have duplicates. but this is something I want. If a gene appears more than once, I want it to be sampled according to its distribution."
   ]
  },
  {
   "cell_type": "code",
   "execution_count": 31,
   "id": "f905d068-a9f7-4b90-be97-20f5261ce4fe",
   "metadata": {},
   "outputs": [],
   "source": [
    "assert set(df_neg.gene1).union(set(df_neg.gene2)) - set(df_coord.gene) == set()"
   ]
  },
  {
   "cell_type": "code",
   "execution_count": 32,
   "id": "488a1250-18b1-4cd7-8840-fabaa77cd86b",
   "metadata": {},
   "outputs": [],
   "source": [
    "# RICONTROLLALA, POI STIMA IL TEMPO\n",
    "\n",
    "def create_fake_coord_neg(x, df_coord, df_pairs_full, df_int):\n",
    "    g1 = x.gene1\n",
    "    g2 = x.gene2\n",
    "    s1 = df_coord[df_coord.gene == g1].sample(1).iloc[0]\n",
    "    s2 = df_coord[df_coord.gene == g2].sample(1).iloc[0]\n",
    "    \n",
    "    pos = df_pairs_full[df_pairs_full.negative == x.couples].sample(1).iloc[0] #dovrebbe essere 1 ma non sono sicuro (e possibile piu di una? dovrei ragionarci su con l assert di prima), nel dubbio campiono.\n",
    "    p1, p2 = pos.positive.split('_')\n",
    "    \n",
    "    interaction_coords = df_int[df_int.couples == pos.positive].sample(1).iloc[0] #puo essere piu di una, se ho piu di una regione di interzione\n",
    "    \n",
    "    if g1 == p1:\n",
    "        x1, w = interaction_coords.x1, interaction_coords.w\n",
    "        y1, h = s2.c1, s2.l\n",
    "        \n",
    "    elif g1 == p2:\n",
    "        x1, w = interaction_coords.y1, interaction_coords.h\n",
    "        y1, h = s2.c1, s2.l\n",
    "        \n",
    "    elif g2 == p1:\n",
    "        x1, w = s1.c1, s1.l\n",
    "        y1, h = interaction_coords.x1, interaction_coords.w\n",
    "        \n",
    "    elif g2 == p2:\n",
    "        x1, w = s1.c1, s1.l\n",
    "        y1, h = interaction_coords.y1, interaction_coords.h\n",
    "        \n",
    "    else:\n",
    "        raise NotImplementedError\n",
    "    \n",
    "    return x1, y1, w, h"
   ]
  },
  {
   "cell_type": "code",
   "execution_count": 33,
   "id": "bdf72c1c-4bf5-4fec-b13b-c68fe8432729",
   "metadata": {},
   "outputs": [
    {
     "name": "stdout",
     "output_type": "stream",
     "text": [
      "Total time: 68.04835674762725 minutes\n"
     ]
    }
   ],
   "source": [
    "#69 min\n",
    "start_time = time.time()\n",
    "new_cols = df_neg[['couples', 'gene1', 'gene2']].apply(create_fake_coord_neg, axis = 1, args = (df_coord,df_pairs_full,df_int,))\n",
    "print(f\"Total time: {(time.time()-start_time)/60} minutes\")"
   ]
  },
  {
   "cell_type": "code",
   "execution_count": 34,
   "id": "d046f49e-de25-489b-876b-8964d336efbf",
   "metadata": {},
   "outputs": [],
   "source": [
    "new_cols = new_cols.apply(pd.Series).rename({0:'x1', 1:'y1', 2:'w', 3:'h'}, axis = 1)"
   ]
  },
  {
   "cell_type": "code",
   "execution_count": 35,
   "id": "3ba239a2-1ec9-4400-900a-6e5151cbe8fe",
   "metadata": {},
   "outputs": [],
   "source": [
    "df_neg = pd.concat([df_neg, new_cols], axis = 1)"
   ]
  },
  {
   "cell_type": "code",
   "execution_count": 36,
   "id": "8cf95245-eaaa-497e-9312-77c4c053a6ee",
   "metadata": {},
   "outputs": [
    {
     "data": {
      "text/html": [
       "<div>\n",
       "<style scoped>\n",
       "    .dataframe tbody tr th:only-of-type {\n",
       "        vertical-align: middle;\n",
       "    }\n",
       "\n",
       "    .dataframe tbody tr th {\n",
       "        vertical-align: top;\n",
       "    }\n",
       "\n",
       "    .dataframe thead th {\n",
       "        text-align: right;\n",
       "    }\n",
       "</style>\n",
       "<table border=\"1\" class=\"dataframe\">\n",
       "  <thead>\n",
       "    <tr style=\"text-align: right;\">\n",
       "      <th></th>\n",
       "      <th>couples</th>\n",
       "      <th>gene1</th>\n",
       "      <th>gene2</th>\n",
       "      <th>interacting</th>\n",
       "      <th>length_1</th>\n",
       "      <th>protein_coding_1</th>\n",
       "      <th>length_2</th>\n",
       "      <th>protein_coding_2</th>\n",
       "      <th>x1</th>\n",
       "      <th>y1</th>\n",
       "      <th>w</th>\n",
       "      <th>h</th>\n",
       "    </tr>\n",
       "  </thead>\n",
       "  <tbody>\n",
       "    <tr>\n",
       "      <th>0</th>\n",
       "      <td>ENSG00000000003_ENSG00000183779</td>\n",
       "      <td>ENSG00000000003</td>\n",
       "      <td>ENSG00000183779</td>\n",
       "      <td>False</td>\n",
       "      <td>3796</td>\n",
       "      <td>True</td>\n",
       "      <td>3316</td>\n",
       "      <td>True</td>\n",
       "      <td>882</td>\n",
       "      <td>2952</td>\n",
       "      <td>29</td>\n",
       "      <td>38</td>\n",
       "    </tr>\n",
       "    <tr>\n",
       "      <th>1</th>\n",
       "      <td>ENSG00000041353_ENSG00000183779</td>\n",
       "      <td>ENSG00000041353</td>\n",
       "      <td>ENSG00000183779</td>\n",
       "      <td>False</td>\n",
       "      <td>7003</td>\n",
       "      <td>True</td>\n",
       "      <td>3316</td>\n",
       "      <td>True</td>\n",
       "      <td>33</td>\n",
       "      <td>793</td>\n",
       "      <td>36</td>\n",
       "      <td>29</td>\n",
       "    </tr>\n",
       "    <tr>\n",
       "      <th>2</th>\n",
       "      <td>ENSG00000065243_ENSG00000183779</td>\n",
       "      <td>ENSG00000065243</td>\n",
       "      <td>ENSG00000183779</td>\n",
       "      <td>False</td>\n",
       "      <td>6070</td>\n",
       "      <td>True</td>\n",
       "      <td>3316</td>\n",
       "      <td>True</td>\n",
       "      <td>2852</td>\n",
       "      <td>2949</td>\n",
       "      <td>18</td>\n",
       "      <td>31</td>\n",
       "    </tr>\n",
       "    <tr>\n",
       "      <th>3</th>\n",
       "      <td>ENSG00000084710_ENSG00000183779</td>\n",
       "      <td>ENSG00000084710</td>\n",
       "      <td>ENSG00000183779</td>\n",
       "      <td>False</td>\n",
       "      <td>7486</td>\n",
       "      <td>True</td>\n",
       "      <td>3316</td>\n",
       "      <td>True</td>\n",
       "      <td>4741</td>\n",
       "      <td>493</td>\n",
       "      <td>71</td>\n",
       "      <td>26</td>\n",
       "    </tr>\n",
       "    <tr>\n",
       "      <th>4</th>\n",
       "      <td>ENSG00000105287_ENSG00000183779</td>\n",
       "      <td>ENSG00000105287</td>\n",
       "      <td>ENSG00000183779</td>\n",
       "      <td>False</td>\n",
       "      <td>3321</td>\n",
       "      <td>True</td>\n",
       "      <td>3316</td>\n",
       "      <td>True</td>\n",
       "      <td>3177</td>\n",
       "      <td>2746</td>\n",
       "      <td>23</td>\n",
       "      <td>17</td>\n",
       "    </tr>\n",
       "    <tr>\n",
       "      <th>...</th>\n",
       "      <td>...</td>\n",
       "      <td>...</td>\n",
       "      <td>...</td>\n",
       "      <td>...</td>\n",
       "      <td>...</td>\n",
       "      <td>...</td>\n",
       "      <td>...</td>\n",
       "      <td>...</td>\n",
       "      <td>...</td>\n",
       "      <td>...</td>\n",
       "      <td>...</td>\n",
       "      <td>...</td>\n",
       "    </tr>\n",
       "    <tr>\n",
       "      <th>160506</th>\n",
       "      <td>ENSMUSG00000063626_ENSMUSG00000116557</td>\n",
       "      <td>ENSMUSG00000063626</td>\n",
       "      <td>ENSMUSG00000116557</td>\n",
       "      <td>False</td>\n",
       "      <td>9220</td>\n",
       "      <td>True</td>\n",
       "      <td>3257</td>\n",
       "      <td>False</td>\n",
       "      <td>4655</td>\n",
       "      <td>1066</td>\n",
       "      <td>18</td>\n",
       "      <td>21</td>\n",
       "    </tr>\n",
       "    <tr>\n",
       "      <th>160507</th>\n",
       "      <td>ENSMUSG00000107577_ENSMUSG00000116557</td>\n",
       "      <td>ENSMUSG00000107577</td>\n",
       "      <td>ENSMUSG00000116557</td>\n",
       "      <td>False</td>\n",
       "      <td>3662</td>\n",
       "      <td>False</td>\n",
       "      <td>3257</td>\n",
       "      <td>False</td>\n",
       "      <td>114</td>\n",
       "      <td>1066</td>\n",
       "      <td>13</td>\n",
       "      <td>21</td>\n",
       "    </tr>\n",
       "    <tr>\n",
       "      <th>160508</th>\n",
       "      <td>ENSMUSG00000107924_ENSMUSG00000108322</td>\n",
       "      <td>ENSMUSG00000107924</td>\n",
       "      <td>ENSMUSG00000108322</td>\n",
       "      <td>False</td>\n",
       "      <td>656</td>\n",
       "      <td>False</td>\n",
       "      <td>1332</td>\n",
       "      <td>False</td>\n",
       "      <td>232</td>\n",
       "      <td>1279</td>\n",
       "      <td>19</td>\n",
       "      <td>31</td>\n",
       "    </tr>\n",
       "    <tr>\n",
       "      <th>160509</th>\n",
       "      <td>ENSMUSG00000109413_ENSMUSG00000110285</td>\n",
       "      <td>ENSMUSG00000109413</td>\n",
       "      <td>ENSMUSG00000110285</td>\n",
       "      <td>False</td>\n",
       "      <td>1631</td>\n",
       "      <td>False</td>\n",
       "      <td>1250</td>\n",
       "      <td>False</td>\n",
       "      <td>418</td>\n",
       "      <td>741</td>\n",
       "      <td>24</td>\n",
       "      <td>15</td>\n",
       "    </tr>\n",
       "    <tr>\n",
       "      <th>160510</th>\n",
       "      <td>ENSMUSG00000097428_ENSMUSG00000110285</td>\n",
       "      <td>ENSMUSG00000097428</td>\n",
       "      <td>ENSMUSG00000110285</td>\n",
       "      <td>False</td>\n",
       "      <td>2579</td>\n",
       "      <td>False</td>\n",
       "      <td>1250</td>\n",
       "      <td>False</td>\n",
       "      <td>25</td>\n",
       "      <td>741</td>\n",
       "      <td>20</td>\n",
       "      <td>15</td>\n",
       "    </tr>\n",
       "  </tbody>\n",
       "</table>\n",
       "<p>160511 rows × 12 columns</p>\n",
       "</div>"
      ],
      "text/plain": [
       "                                      couples               gene1  \\\n",
       "0             ENSG00000000003_ENSG00000183779     ENSG00000000003   \n",
       "1             ENSG00000041353_ENSG00000183779     ENSG00000041353   \n",
       "2             ENSG00000065243_ENSG00000183779     ENSG00000065243   \n",
       "3             ENSG00000084710_ENSG00000183779     ENSG00000084710   \n",
       "4             ENSG00000105287_ENSG00000183779     ENSG00000105287   \n",
       "...                                       ...                 ...   \n",
       "160506  ENSMUSG00000063626_ENSMUSG00000116557  ENSMUSG00000063626   \n",
       "160507  ENSMUSG00000107577_ENSMUSG00000116557  ENSMUSG00000107577   \n",
       "160508  ENSMUSG00000107924_ENSMUSG00000108322  ENSMUSG00000107924   \n",
       "160509  ENSMUSG00000109413_ENSMUSG00000110285  ENSMUSG00000109413   \n",
       "160510  ENSMUSG00000097428_ENSMUSG00000110285  ENSMUSG00000097428   \n",
       "\n",
       "                     gene2  interacting  length_1  protein_coding_1  length_2  \\\n",
       "0          ENSG00000183779        False      3796              True      3316   \n",
       "1          ENSG00000183779        False      7003              True      3316   \n",
       "2          ENSG00000183779        False      6070              True      3316   \n",
       "3          ENSG00000183779        False      7486              True      3316   \n",
       "4          ENSG00000183779        False      3321              True      3316   \n",
       "...                    ...          ...       ...               ...       ...   \n",
       "160506  ENSMUSG00000116557        False      9220              True      3257   \n",
       "160507  ENSMUSG00000116557        False      3662             False      3257   \n",
       "160508  ENSMUSG00000108322        False       656             False      1332   \n",
       "160509  ENSMUSG00000110285        False      1631             False      1250   \n",
       "160510  ENSMUSG00000110285        False      2579             False      1250   \n",
       "\n",
       "        protein_coding_2    x1    y1   w   h  \n",
       "0                   True   882  2952  29  38  \n",
       "1                   True    33   793  36  29  \n",
       "2                   True  2852  2949  18  31  \n",
       "3                   True  4741   493  71  26  \n",
       "4                   True  3177  2746  23  17  \n",
       "...                  ...   ...   ...  ..  ..  \n",
       "160506             False  4655  1066  18  21  \n",
       "160507             False   114  1066  13  21  \n",
       "160508             False   232  1279  19  31  \n",
       "160509             False   418   741  24  15  \n",
       "160510             False    25   741  20  15  \n",
       "\n",
       "[160511 rows x 12 columns]"
      ]
     },
     "execution_count": 36,
     "metadata": {},
     "output_type": "execute_result"
    }
   ],
   "source": [
    "df_neg"
   ]
  },
  {
   "cell_type": "code",
   "execution_count": 41,
   "id": "654e7a7b-4096-4669-ac97-195b8e06b847",
   "metadata": {},
   "outputs": [],
   "source": [
    "#check if it worked\n",
    "assert (df_neg.x1 <= df_neg.length_1).all()\n",
    "assert ((df_neg.x1 + df_neg.w) <= df_neg.length_1).all()\n",
    "assert (df_neg.y1 <= df_neg.length_2).all()\n",
    "assert ((df_neg.y1 + df_neg.h) <= df_neg.length_2).all()"
   ]
  },
  {
   "cell_type": "code",
   "execution_count": 42,
   "id": "86a6b0e3-0d8c-49f8-9fc6-4581e78bccd6",
   "metadata": {},
   "outputs": [
    {
     "name": "stdout",
     "output_type": "stream",
     "text": [
      "5.61% in 2.1523165424664814 minutes\n",
      "9.53% in 3.6562916239102683 minutes\n",
      "10.27% in 3.938682496547699 minutes\n",
      "11.06% in 4.239685928821563 minutes\n",
      "11.63% in 4.461082176367442 minutes\n",
      "11.82% in 4.531164320309957 minutes\n",
      "12.42% in 4.7625657280286156 minutes\n",
      "13.5% in 5.176020340124766 minutes\n",
      "14.09% in 5.400156982739767 minutes\n",
      "17.5% in 6.706833561261495 minutes\n",
      "19.37% in 7.421156402428945 minutes\n",
      "19.44% in 7.446127025286357 minutes\n",
      "23.37% in 8.95110768477122 minutes\n",
      "23.38% in 8.955255691210429 minutes\n",
      "24.49% in 9.379004844029744 minutes\n",
      "29.34% in 11.233985873063405 minutes\n",
      "36.14% in 13.838606373469036 minutes\n",
      "43.92% in 16.81263703505198 minutes\n",
      "46.63% in 17.852186103661854 minutes\n",
      "46.93% in 17.96507182518641 minutes\n",
      "50.66% in 19.39568118651708 minutes\n",
      "62.3% in 23.84744616349538 minutes\n",
      "63.25% in 24.212267577648163 minutes\n",
      "66.15% in 25.32101083199183 minutes\n",
      "71.67% in 27.36985952059428 minutes\n",
      "71.97% in 27.482889684041343 minutes\n",
      "72.33% in 27.615792389710744 minutes\n",
      "72.41% in 27.647251530488333 minutes\n",
      "75.55% in 28.812947408358255 minutes\n",
      "79.05% in 30.10987476905187 minutes\n",
      "81.05% in 30.853830778598784 minutes\n",
      "85.54% in 32.51807256937027 minutes\n",
      "90.89% in 34.50461572408676 minutes\n",
      "92.35% in 35.04659996430079 minutes\n",
      "93.97% in 35.65000847975413 minutes\n",
      "94.01% in 35.6634224375089 minutes\n",
      "97.43% in 36.93688942193985 minutes\n",
      "98.29% in 37.253877592086795 minutes\n",
      "98.39% in 37.29313513835271 minutes\n",
      "99.61% in 37.748699855804446 minutes\n",
      "Total time: 37.8938525835673 minutes\n"
     ]
    }
   ],
   "source": [
    "# 37 min\n",
    "#check if it worked\n",
    "start_time = time.time()\n",
    "for _, row in df_neg.iterrows():\n",
    "    g1 = row.gene1\n",
    "    g2 = row.gene2\n",
    "    assert [row.x1, row.w] in df_coord[df_coord.gene == g1][['c1', 'l']].values\n",
    "    assert [row.y1, row.h] in df_coord[df_coord.gene == g2][['c1', 'l']].values\n",
    "    if np.random.rand() < 0.0003: #progress\n",
    "        print(f\"{np.round(_/df_neg.shape[0] * 100, 2)}% in {(time.time()-start_time)/60} minutes\")\n",
    "print(f\"Total time: {(time.time()-start_time)/60} minutes\")"
   ]
  },
  {
   "cell_type": "code",
   "execution_count": 43,
   "id": "359622be-406b-4ac4-8f37-ddb9b957b82b",
   "metadata": {},
   "outputs": [],
   "source": [
    "df = pd.concat([df_int, df_neg], ignore_index = True, axis = 0)\n",
    "df.to_csv(os.path.join(processed_files_dir, 'final_df.csv'), index = False)"
   ]
  }
 ],
 "metadata": {
  "kernelspec": {
   "display_name": "Python 3 (ipykernel)",
   "language": "python",
   "name": "python3"
  },
  "language_info": {
   "codemirror_mode": {
    "name": "ipython",
    "version": 3
   },
   "file_extension": ".py",
   "mimetype": "text/x-python",
   "name": "python",
   "nbconvert_exporter": "python",
   "pygments_lexer": "ipython3",
   "version": "3.10.10"
  }
 },
 "nbformat": 4,
 "nbformat_minor": 5
}
