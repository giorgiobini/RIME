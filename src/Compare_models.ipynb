{
 "cells": [
  {
   "cell_type": "code",
   "execution_count": 1,
   "id": "aa8ae948",
   "metadata": {},
   "outputs": [
    {
     "name": "stdout",
     "output_type": "stream",
     "text": [
      "============================================================\n",
      "<class 'transformers.tokenization_dna.DNATokenizer'>\n"
     ]
    }
   ],
   "source": [
    "its_jupyter_notebook = True\n",
    "# %load_ext autoreload\n",
    "# %autoreload 2\n",
    "\n",
    "import pandas as pd\n",
    "import os\n",
    "import time\n",
    "import numpy as np\n",
    "import seaborn as sns\n",
    "import pickle\n",
    "import torch\n",
    "from tqdm.notebook import tqdm\n",
    "from pathlib import Path\n",
    "import argparse\n",
    "import math\n",
    "from scipy import stats\n",
    "import copy\n",
    "import re\n",
    "import matplotlib.pyplot as plt\n",
    "import sys\n",
    "from sklearn.metrics import classification_report, roc_curve, roc_auc_score, auc, accuracy_score\n",
    "from sklearn.model_selection import train_test_split\n",
    "from sklearn.linear_model import LogisticRegression\n",
    "from mpl_toolkits.axes_grid1 import make_axes_locatable\n",
    "\n",
    "sys.path.insert(0, '..')\n",
    "\n",
    "from util.evaluation import ModelResultsManager, calculate_correlations, balancing_only_for_one_task, obtain_all_model_auc, remove_outliers, map_thermodynamic_columns, obtain_df_auc, replace_outliers_with_nan_and_make_positive, obtain_sr_nosr, map_dataset_to_hp\n",
    "from util.plot_utils import npv_precision, plot_sr_distributions, calc_metric, plot_tnr_based_on_distance_for_our_model, collect_results_based_on_topbottom_for_all_models, plot_results_based_on_topbottom_for_all_models, plot_results_how_many_repeats_in_pred_pos_for_all_models, plot_metric_confidence_for_all_models, plot_tnr_based_on_distance_for_all_models, plot_confidence_based_on_distance_for_all_models, plot_tnr_for_all_models, quantile_bins, plot_features_vs_risearch2_confidence, plot_heatmap, plot_tnr_recall_for_all_models, plot_correlation_nreads_prob_intsize\n",
    "from util.model_names_map import map_model_names\n",
    "from run_compare_models import load_results_new\n",
    "#from run_compare_models import load_results_new\n",
    "\n",
    "from config import *\n",
    "from models.nt_classifier import build as build_model \n",
    "if its_jupyter_notebook:\n",
    "    sys.argv = [''] #Remove this if it's not a jupyter notebook!\n",
    "    \n",
    "external_dataset_dir = os.path.join(dataset_files_dir, 'external_dataset', '200_test_tables')"
   ]
  },
  {
   "cell_type": "code",
   "execution_count": 125,
   "id": "22d20f62-e98c-4f82-8ca6-3cb19d532364",
   "metadata": {},
   "outputs": [],
   "source": [
    "checkpoint_dir_paths = []\n",
    "\n",
    "chkpt_folder = os.path.join(ROOT_DIR, 'checkpoints')\n",
    "\n",
    "models_to_check = os.listdir(chkpt_folder)\n",
    "for model_name in models_to_check:\n",
    "    model_folder = os.path.join(chkpt_folder, model_name)\n",
    "    test_paris = os.path.join(chkpt_folder, model_name, 'test_results200.csv')\n",
    "    ricseq = os.path.join(chkpt_folder, model_name, 'ricseq_results200.csv')\n",
    "    splash = os.path.join(chkpt_folder, model_name, 'splash_results200.csv')\n",
    "    mario = os.path.join(chkpt_folder, model_name, 'mario_results200.csv')\n",
    "\n",
    "    if os.path.exists(test_paris) & os.path.exists(ricseq) & os.path.exists(splash) & os.path.exists(mario):\n",
    "        checkpoint_dir_paths.append(model_folder)"
   ]
  },
  {
   "cell_type": "code",
   "execution_count": 126,
   "id": "d702c9eb-18aa-4790-be21-866127a41987",
   "metadata": {},
   "outputs": [],
   "source": [
    "for i in range(1, 2):\n",
    "    df, name_map = load_results_new(checkpoint_dir_paths[:i], chkpt_folder)"
   ]
  },
  {
   "cell_type": "code",
   "execution_count": 127,
   "id": "7c4e85d5-b6f1-4aac-b301-7c7d7cd96dac",
   "metadata": {},
   "outputs": [],
   "source": [
    "mean_aucHQ = df.filter(['auc_interactors_parisHQ', 'auc_patches_parisHQ', 'auc_interactors_ricseqHQ', 'auc_patches_ricseqHQ'], axis = 1).mean(axis = 1)\n",
    "\n",
    "mean_tnr = df.filter(['tnr_psoralen', 'tnr_ricseq', 'tnr_paris_mouse', 'tnr_mario'], axis = 1).mean(axis = 1)\n",
    "mean_prec = df.filter(['precision_psoralen', 'precision_ricseq', 'precision_paris_mouse', 'precision_mario'], axis = 1).mean(axis = 1)\n",
    "mean_recall = df.filter(['recall_psoralen', 'recall_ricseq', 'recall_paris_mouse', 'recall_mario'], axis = 1).mean(axis = 1)"
   ]
  },
  {
   "cell_type": "code",
   "execution_count": 128,
   "id": "f3654f46-ee10-49eb-a3e9-d755a7da4473",
   "metadata": {},
   "outputs": [
    {
     "data": {
      "text/plain": [
       "<matplotlib.collections.PathCollection at 0x7fb03eb8df70>"
      ]
     },
     "execution_count": 128,
     "metadata": {},
     "output_type": "execute_result"
    },
    {
     "data": {
      "image/png": "[encoded data removed]",
      "text/plain": [
       "<Figure size 432x288 with 1 Axes>"
      ]
     },
     "metadata": {
      "needs_background": "light"
     },
     "output_type": "display_data"
    }
   ],
   "source": [
    "plt.scatter(mean_tnr, mean_prec)"
   ]
  },
  {
   "cell_type": "code",
   "execution_count": 129,
   "id": "70d15530-a16f-49b8-ac3a-a6af450b4823",
   "metadata": {},
   "outputs": [
    {
     "data": {
      "text/plain": [
       "<matplotlib.collections.PathCollection at 0x7fb03eafe9d0>"
      ]
     },
     "execution_count": 129,
     "metadata": {},
     "output_type": "execute_result"
    },
    {
     "data": {
      "image/png": "[encoded data removed]",
      "text/plain": [
       "<Figure size 432x288 with 1 Axes>"
      ]
     },
     "metadata": {
      "needs_background": "light"
     },
     "output_type": "display_data"
    }
   ],
   "source": [
    "plt.scatter(mean_aucHQ, mean_tnr)"
   ]
  },
  {
   "cell_type": "code",
   "execution_count": 130,
   "id": "8b877012-6ca4-4936-b469-107d73780ab4",
   "metadata": {},
   "outputs": [
    {
     "data": {
      "text/plain": [
       "<matplotlib.collections.PathCollection at 0x7fb03eaf0790>"
      ]
     },
     "execution_count": 130,
     "metadata": {},
     "output_type": "execute_result"
    },
    {
     "data": {
      "image/png": "[encoded data removed]",
      "text/plain": [
       "<Figure size 432x288 with 1 Axes>"
      ]
     },
     "metadata": {
      "needs_background": "light"
     },
     "output_type": "display_data"
    }
   ],
   "source": [
    "mean_aucvalHQ = df.filter(['auc_interactors_val_HQ', 'auc_patches_val_HQ'], axis = 1).mean(axis = 1)\n",
    "mean_auctestHQ = df.filter(['auc_interactors_parisHQ', 'auc_patches_parisHQ'], axis = 1).mean(axis = 1)\n",
    "plt.scatter(mean_aucvalHQ, mean_auctestHQ)"
   ]
  },
  {
   "cell_type": "code",
   "execution_count": 131,
   "id": "c2e3048b-05d5-4e47-b412-e219bef598bb",
   "metadata": {},
   "outputs": [],
   "source": [
    "MIN_TNR = 70\n",
    "MIN_AUC = 75\n",
    "\n",
    "best_models = df[\n",
    "    (mean_tnr >= MIN_TNR) &\n",
    "    (mean_aucHQ >= MIN_AUC)\n",
    "]"
   ]
  },
  {
   "cell_type": "code",
   "execution_count": 132,
   "id": "14d92b64-e402-4f16-9b3f-d47717f162e3",
   "metadata": {},
   "outputs": [
    {
     "data": {
      "text/html": [
       "<div>\n",
       "<style scoped>\n",
       "    .dataframe tbody tr th:only-of-type {\n",
       "        vertical-align: middle;\n",
       "    }\n",
       "\n",
       "    .dataframe tbody tr th {\n",
       "        vertical-align: top;\n",
       "    }\n",
       "\n",
       "    .dataframe thead th {\n",
       "        text-align: right;\n",
       "    }\n",
       "</style>\n",
       "<table border=\"1\" class=\"dataframe\">\n",
       "  <thead>\n",
       "    <tr style=\"text-align: right;\">\n",
       "      <th></th>\n",
       "      <th>auc_interactors_parisHQ</th>\n",
       "      <th>auc_patches_parisHQ</th>\n",
       "      <th>auc_interactors_paris_mouse_HQ</th>\n",
       "      <th>auc_patches_paris_mouse_HQ</th>\n",
       "      <th>auc_interactors_ricseqHQ</th>\n",
       "      <th>auc_patches_ricseqHQ</th>\n",
       "    </tr>\n",
       "  </thead>\n",
       "  <tbody>\n",
       "    <tr>\n",
       "      <th>5</th>\n",
       "      <td>73.0</td>\n",
       "      <td>79.0</td>\n",
       "      <td>60.0</td>\n",
       "      <td>75.0</td>\n",
       "      <td>71.0</td>\n",
       "      <td>77.0</td>\n",
       "    </tr>\n",
       "    <tr>\n",
       "      <th>6</th>\n",
       "      <td>73.0</td>\n",
       "      <td>79.0</td>\n",
       "      <td>62.0</td>\n",
       "      <td>77.0</td>\n",
       "      <td>72.0</td>\n",
       "      <td>78.0</td>\n",
       "    </tr>\n",
       "    <tr>\n",
       "      <th>37</th>\n",
       "      <td>72.0</td>\n",
       "      <td>79.0</td>\n",
       "      <td>61.0</td>\n",
       "      <td>77.0</td>\n",
       "      <td>71.0</td>\n",
       "      <td>78.0</td>\n",
       "    </tr>\n",
       "    <tr>\n",
       "      <th>38</th>\n",
       "      <td>72.0</td>\n",
       "      <td>79.0</td>\n",
       "      <td>59.0</td>\n",
       "      <td>75.0</td>\n",
       "      <td>71.0</td>\n",
       "      <td>78.0</td>\n",
       "    </tr>\n",
       "    <tr>\n",
       "      <th>40</th>\n",
       "      <td>73.0</td>\n",
       "      <td>79.0</td>\n",
       "      <td>60.0</td>\n",
       "      <td>76.0</td>\n",
       "      <td>70.0</td>\n",
       "      <td>78.0</td>\n",
       "    </tr>\n",
       "    <tr>\n",
       "      <th>43</th>\n",
       "      <td>72.0</td>\n",
       "      <td>79.0</td>\n",
       "      <td>62.0</td>\n",
       "      <td>78.0</td>\n",
       "      <td>71.0</td>\n",
       "      <td>78.0</td>\n",
       "    </tr>\n",
       "    <tr>\n",
       "      <th>46</th>\n",
       "      <td>72.0</td>\n",
       "      <td>79.0</td>\n",
       "      <td>61.0</td>\n",
       "      <td>76.0</td>\n",
       "      <td>71.0</td>\n",
       "      <td>78.0</td>\n",
       "    </tr>\n",
       "    <tr>\n",
       "      <th>49</th>\n",
       "      <td>73.0</td>\n",
       "      <td>79.0</td>\n",
       "      <td>59.0</td>\n",
       "      <td>75.0</td>\n",
       "      <td>71.0</td>\n",
       "      <td>78.0</td>\n",
       "    </tr>\n",
       "    <tr>\n",
       "      <th>52</th>\n",
       "      <td>72.0</td>\n",
       "      <td>79.0</td>\n",
       "      <td>61.0</td>\n",
       "      <td>75.0</td>\n",
       "      <td>71.0</td>\n",
       "      <td>78.0</td>\n",
       "    </tr>\n",
       "    <tr>\n",
       "      <th>56</th>\n",
       "      <td>73.0</td>\n",
       "      <td>80.0</td>\n",
       "      <td>59.0</td>\n",
       "      <td>75.0</td>\n",
       "      <td>71.0</td>\n",
       "      <td>78.0</td>\n",
       "    </tr>\n",
       "    <tr>\n",
       "      <th>58</th>\n",
       "      <td>73.0</td>\n",
       "      <td>80.0</td>\n",
       "      <td>60.0</td>\n",
       "      <td>76.0</td>\n",
       "      <td>70.0</td>\n",
       "      <td>77.0</td>\n",
       "    </tr>\n",
       "    <tr>\n",
       "      <th>59</th>\n",
       "      <td>73.0</td>\n",
       "      <td>79.0</td>\n",
       "      <td>62.0</td>\n",
       "      <td>75.0</td>\n",
       "      <td>72.0</td>\n",
       "      <td>78.0</td>\n",
       "    </tr>\n",
       "  </tbody>\n",
       "</table>\n",
       "</div>"
      ],
      "text/plain": [
       "    auc_interactors_parisHQ  auc_patches_parisHQ  \\\n",
       "5                      73.0                 79.0   \n",
       "6                      73.0                 79.0   \n",
       "37                     72.0                 79.0   \n",
       "38                     72.0                 79.0   \n",
       "40                     73.0                 79.0   \n",
       "43                     72.0                 79.0   \n",
       "46                     72.0                 79.0   \n",
       "49                     73.0                 79.0   \n",
       "52                     72.0                 79.0   \n",
       "56                     73.0                 80.0   \n",
       "58                     73.0                 80.0   \n",
       "59                     73.0                 79.0   \n",
       "\n",
       "    auc_interactors_paris_mouse_HQ  auc_patches_paris_mouse_HQ  \\\n",
       "5                             60.0                        75.0   \n",
       "6                             62.0                        77.0   \n",
       "37                            61.0                        77.0   \n",
       "38                            59.0                        75.0   \n",
       "40                            60.0                        76.0   \n",
       "43                            62.0                        78.0   \n",
       "46                            61.0                        76.0   \n",
       "49                            59.0                        75.0   \n",
       "52                            61.0                        75.0   \n",
       "56                            59.0                        75.0   \n",
       "58                            60.0                        76.0   \n",
       "59                            62.0                        75.0   \n",
       "\n",
       "    auc_interactors_ricseqHQ  auc_patches_ricseqHQ  \n",
       "5                       71.0                  77.0  \n",
       "6                       72.0                  78.0  \n",
       "37                      71.0                  78.0  \n",
       "38                      71.0                  78.0  \n",
       "40                      70.0                  78.0  \n",
       "43                      71.0                  78.0  \n",
       "46                      71.0                  78.0  \n",
       "49                      71.0                  78.0  \n",
       "52                      71.0                  78.0  \n",
       "56                      71.0                  78.0  \n",
       "58                      70.0                  77.0  \n",
       "59                      72.0                  78.0  "
      ]
     },
     "execution_count": 132,
     "metadata": {},
     "output_type": "execute_result"
    }
   ],
   "source": [
    "best_models.filter([\n",
    "    'auc_interactors_parisHQ', 'auc_patches_parisHQ', \n",
    "    'auc_interactors_paris_mouse_HQ', 'auc_patches_paris_mouse_HQ',\n",
    "    'auc_interactors_ricseqHQ', 'auc_patches_ricseqHQ'\n",
    "], axis = 1)"
   ]
  },
  {
   "cell_type": "code",
   "execution_count": 133,
   "id": "1b5cde67-4aec-41bc-b06b-9d6c77872f25",
   "metadata": {},
   "outputs": [
    {
     "name": "stdout",
     "output_type": "stream",
     "text": [
      "5 /data01/giorgio/RNARNA-NT/checkpoints/arch2_PARISfinetuned_PARIStest0023_PARISfinetunedFPweight_PARIStest0054\n",
      "6 /data01/giorgio/RNARNA-NT/checkpoints/arch2_PARISfinetuned_PARIStest0023_PARISfinetunedFPweight_PARIStest0057\n",
      "37 /data01/giorgio/RNARNA-NT/checkpoints/arch2_PARISfinetuned_PARIStest0023_PARISfinetunedFPweight_PARIStest0056\n",
      "38 /data01/giorgio/RNARNA-NT/checkpoints/arch2_PARISfinetuned_PARIStest0023_PARISfinetunedFPweight_PARIStest0063\n",
      "40 /data01/giorgio/RNARNA-NT/checkpoints/arch2_PARISfinetuned_PARIStest0023_PARISfinetunedFPweight_PARIStest0030\n",
      "43 /data01/giorgio/RNARNA-NT/checkpoints/arch2_PARISfinetuned_PARIStest0023_PARISfinetunedFPweight_PARIStest0043\n",
      "46 /data01/giorgio/RNARNA-NT/checkpoints/arch2_PARISfinetuned_PARIStest0023_PARISfinetunedFPweight_PARIStest0052\n",
      "49 /data01/giorgio/RNARNA-NT/checkpoints/arch2_PARISfinetuned_PARIStest0023_PARISfinetunedFPweight_PARIStest0066\n",
      "52 /data01/giorgio/RNARNA-NT/checkpoints/arch2_PARISfinetuned_PARIStest0023_PARISfinetunedFPweight_PARIStest0069\n",
      "56 /data01/giorgio/RNARNA-NT/checkpoints/arch2_PARISfinetuned_PARIStest0023_PARISfinetunedFPweight_PARIStest0080\n",
      "58 /data01/giorgio/RNARNA-NT/checkpoints/arch2_PARISfinetuned_PARIStest0023_PARISfinetunedFPweight_PARIStest0082\n",
      "59 /data01/giorgio/RNARNA-NT/checkpoints/arch2_PARISfinetuned_PARIStest0023_PARISfinetunedFPweight_PARIStest0086\n"
     ]
    }
   ],
   "source": [
    "for _, row in best_models.iterrows():\n",
    "    print(_, name_map[row.model])"
   ]
  },
  {
   "cell_type": "markdown",
   "id": "c0d6835f-024b-4650-99fa-77a0249bf4ec",
   "metadata": {
    "tags": []
   },
   "source": [
    "# Best model in the same training"
   ]
  },
  {
   "cell_type": "code",
   "execution_count": 134,
   "id": "abad6f62-3963-4e76-812d-c0bdea5fb3ae",
   "metadata": {},
   "outputs": [],
   "source": [
    "def extract_last_digits(text):\n",
    "    # Search for the last number pattern at the end of the string\n",
    "    match = re.search(r'(\\d+)(?!.*\\d)', text)\n",
    "    return match.group(1) if match else None"
   ]
  },
  {
   "cell_type": "code",
   "execution_count": 135,
   "id": "c36ac089-f78f-4eab-9100-28655a35e1ae",
   "metadata": {},
   "outputs": [],
   "source": [
    "folder_name = 'arch2_PARISfinetuned_PARIStest0023_PARISfinetunedFPweight_PARIStest' #'arch2_PARIStrained_PARISval'\n",
    "\n",
    "folders = []\n",
    "\n",
    "checkpoint_dir = os.path.join(ROOT_DIR, 'checkpoints', folder_name)\n",
    "\n",
    "# List of files\n",
    "files = os.listdir(checkpoint_dir)\n",
    "\n",
    "# Dictionary to store filenames and their values\n",
    "desired_files = {}\n",
    "\n",
    "# Regular expression pattern to extract numbers or 'BEST'\n",
    "pattern = re.compile(r'checkpoint(\\d+).pth|checkpointBEST.pth')\n",
    "\n",
    "for file in files:\n",
    "    match = pattern.match(file)\n",
    "    if match:\n",
    "        value = match.group(1) if match.group(1) else 'BEST'\n",
    "        desired_files[file] = value\n",
    "\n",
    "for i in desired_files.keys():\n",
    "    ckpt_folder = checkpoint_dir+desired_files[i]\n",
    "    folders.append(os.path.basename(ckpt_folder))"
   ]
  },
  {
   "cell_type": "code",
   "execution_count": 136,
   "id": "f9c34cc7-5684-4acf-956a-31c05a64c9f9",
   "metadata": {},
   "outputs": [
    {
     "data": {
      "text/html": [
       "<div>\n",
       "<style scoped>\n",
       "    .dataframe tbody tr th:only-of-type {\n",
       "        vertical-align: middle;\n",
       "    }\n",
       "\n",
       "    .dataframe tbody tr th {\n",
       "        vertical-align: top;\n",
       "    }\n",
       "\n",
       "    .dataframe thead th {\n",
       "        text-align: right;\n",
       "    }\n",
       "</style>\n",
       "<table border=\"1\" class=\"dataframe\">\n",
       "  <thead>\n",
       "    <tr style=\"text-align: right;\">\n",
       "      <th></th>\n",
       "      <th>model_name</th>\n",
       "      <th>model_path_folder</th>\n",
       "    </tr>\n",
       "  </thead>\n",
       "  <tbody>\n",
       "    <tr>\n",
       "      <th>0</th>\n",
       "      <td>model0</td>\n",
       "      <td>/data01/giorgio/RNARNA-NT/checkpoints/arch2_PA...</td>\n",
       "    </tr>\n",
       "    <tr>\n",
       "      <th>1</th>\n",
       "      <td>model1</td>\n",
       "      <td>/data01/giorgio/RNARNA-NT/checkpoints/arch2_PA...</td>\n",
       "    </tr>\n",
       "    <tr>\n",
       "      <th>2</th>\n",
       "      <td>model2</td>\n",
       "      <td>/data01/giorgio/RNARNA-NT/checkpoints/arch2_PA...</td>\n",
       "    </tr>\n",
       "    <tr>\n",
       "      <th>3</th>\n",
       "      <td>model3</td>\n",
       "      <td>/data01/giorgio/RNARNA-NT/checkpoints/arch2_PA...</td>\n",
       "    </tr>\n",
       "    <tr>\n",
       "      <th>4</th>\n",
       "      <td>model4</td>\n",
       "      <td>/data01/giorgio/RNARNA-NT/checkpoints/arch2_PA...</td>\n",
       "    </tr>\n",
       "    <tr>\n",
       "      <th>...</th>\n",
       "      <td>...</td>\n",
       "      <td>...</td>\n",
       "    </tr>\n",
       "    <tr>\n",
       "      <th>71</th>\n",
       "      <td>model71</td>\n",
       "      <td>/data01/giorgio/RNARNA-NT/checkpoints/arch2_PA...</td>\n",
       "    </tr>\n",
       "    <tr>\n",
       "      <th>72</th>\n",
       "      <td>model72</td>\n",
       "      <td>/data01/giorgio/RNARNA-NT/checkpoints/arch2_PA...</td>\n",
       "    </tr>\n",
       "    <tr>\n",
       "      <th>73</th>\n",
       "      <td>model73</td>\n",
       "      <td>/data01/giorgio/RNARNA-NT/checkpoints/arch2_PA...</td>\n",
       "    </tr>\n",
       "    <tr>\n",
       "      <th>74</th>\n",
       "      <td>model74</td>\n",
       "      <td>/data01/giorgio/RNARNA-NT/checkpoints/arch2_PA...</td>\n",
       "    </tr>\n",
       "    <tr>\n",
       "      <th>75</th>\n",
       "      <td>model75</td>\n",
       "      <td>/data01/giorgio/RNARNA-NT/checkpoints/arch2_PA...</td>\n",
       "    </tr>\n",
       "  </tbody>\n",
       "</table>\n",
       "<p>76 rows × 2 columns</p>\n",
       "</div>"
      ],
      "text/plain": [
       "   model_name                                  model_path_folder\n",
       "0      model0  /data01/giorgio/RNARNA-NT/checkpoints/arch2_PA...\n",
       "1      model1  /data01/giorgio/RNARNA-NT/checkpoints/arch2_PA...\n",
       "2      model2  /data01/giorgio/RNARNA-NT/checkpoints/arch2_PA...\n",
       "3      model3  /data01/giorgio/RNARNA-NT/checkpoints/arch2_PA...\n",
       "4      model4  /data01/giorgio/RNARNA-NT/checkpoints/arch2_PA...\n",
       "..        ...                                                ...\n",
       "71    model71  /data01/giorgio/RNARNA-NT/checkpoints/arch2_PA...\n",
       "72    model72  /data01/giorgio/RNARNA-NT/checkpoints/arch2_PA...\n",
       "73    model73  /data01/giorgio/RNARNA-NT/checkpoints/arch2_PA...\n",
       "74    model74  /data01/giorgio/RNARNA-NT/checkpoints/arch2_PA...\n",
       "75    model75  /data01/giorgio/RNARNA-NT/checkpoints/arch2_PA...\n",
       "\n",
       "[76 rows x 2 columns]"
      ]
     },
     "execution_count": 136,
     "metadata": {},
     "output_type": "execute_result"
    }
   ],
   "source": [
    "names_df = pd.DataFrame.from_dict(name_map, 'index').reset_index().rename({0:'model_path_folder', 'index':'model_name'}, axis = 1)\n",
    "names_df"
   ]
  },
  {
   "cell_type": "code",
   "execution_count": 137,
   "id": "a3e6d71c-0682-4f61-89af-147979e0d2ba",
   "metadata": {},
   "outputs": [],
   "source": [
    "names_df = pd.DataFrame.from_dict(name_map, 'index').reset_index().rename({0:'model_path_folder', 'index':'model_name'}, axis = 1)\n",
    "\n",
    "rows = []\n",
    "for folder in folders:\n",
    "    model_path_folder=os.path.join(chkpt_folder, folder)\n",
    "    names_df_row = names_df[names_df.model_path_folder == model_path_folder]\n",
    "    if names_df_row.shape[0]>0:\n",
    "        names_df_row = names_df_row.iloc[0]\n",
    "        rows.append({\n",
    "            'original_model_name':folder,\n",
    "            'model':names_df_row.model_name,\n",
    "            'epoch':int(extract_last_digits(folder)),\n",
    "            'model_path_folder':model_path_folder,\n",
    "            })\n",
    "    \n",
    "training = pd.DataFrame(rows).sort_values('epoch', ascending = True).reset_index(drop = True)"
   ]
  },
  {
   "cell_type": "code",
   "execution_count": 138,
   "id": "15d23151-021f-4893-8f02-f6edbff01663",
   "metadata": {},
   "outputs": [],
   "source": [
    "df_plot = training.merge(df[['model','auc_interactors_val', 'auc_patches_val', 'auc_interactors_paris', 'auc_patches_paris']], on ='model')"
   ]
  },
  {
   "cell_type": "code",
   "execution_count": 139,
   "id": "26a1a8d2-29d4-4435-a5c0-9f6cc8e68f12",
   "metadata": {},
   "outputs": [
    {
     "data": {
      "image/png": "[encoded data removed]",
      "text/plain": [
       "<Figure size 720x432 with 1 Axes>"
      ]
     },
     "metadata": {
      "needs_background": "light"
     },
     "output_type": "display_data"
    }
   ],
   "source": [
    "# Plotting\n",
    "plt.figure(figsize=(10, 6))\n",
    "plt.plot(df_plot['epoch'], df_plot['auc_interactors_val'], color = 'orange', label='AUC Interactors Val', marker='o')\n",
    "plt.plot(df_plot['epoch'], df_plot['auc_patches_val'], color = 'orange', label='AUC Patches Val', marker='o')\n",
    "plt.plot(df_plot['epoch'], df_plot['auc_interactors_paris'], color = 'blue', label='AUC Interactors Test', marker='o')\n",
    "plt.plot(df_plot['epoch'], df_plot['auc_patches_paris'], color = 'blue', label='AUC Patches Test', marker='o')\n",
    "\n",
    "# Labels and title\n",
    "plt.xlabel('Epoch')\n",
    "plt.ylabel('AUC')\n",
    "plt.title('AUC Metrics Over Epochs')\n",
    "plt.legend()\n",
    "plt.grid(True)\n",
    "plt.show()"
   ]
  },
  {
   "cell_type": "code",
   "execution_count": 140,
   "id": "66932f0d-f35c-4a59-aee7-c65203a34661",
   "metadata": {},
   "outputs": [],
   "source": [
    "df_plot = training.merge(df[['model','auc_interactors_val_HQ', 'auc_patches_val_HQ', 'auc_interactors_parisHQ', 'auc_patches_parisHQ']], on ='model')"
   ]
  },
  {
   "cell_type": "code",
   "execution_count": 141,
   "id": "f8d230b1-f8fd-4672-a1bf-54c90294119c",
   "metadata": {},
   "outputs": [
    {
     "data": {
      "image/png": "[encoded data removed]",
      "text/plain": [
       "<Figure size 720x432 with 1 Axes>"
      ]
     },
     "metadata": {
      "needs_background": "light"
     },
     "output_type": "display_data"
    }
   ],
   "source": [
    "# Plotting\n",
    "plt.figure(figsize=(10, 6))\n",
    "plt.plot(df_plot['epoch'], df_plot['auc_interactors_val_HQ'], color = 'orange', label='AUC Interactors Val', marker='o')\n",
    "plt.plot(df_plot['epoch'], df_plot['auc_patches_val_HQ'], color = 'orange', label='AUC Patches Val', marker='o')\n",
    "plt.plot(df_plot['epoch'], df_plot['auc_interactors_parisHQ'], color = 'blue', label='AUC Interactors Test', marker='o')\n",
    "plt.plot(df_plot['epoch'], df_plot['auc_patches_parisHQ'], color = 'blue', label='AUC Patches Test', marker='o')\n",
    "\n",
    "# Labels and title\n",
    "plt.xlabel('Epoch')\n",
    "plt.ylabel('AUC')\n",
    "plt.title('AUC Metrics Over Epochs')\n",
    "plt.legend()\n",
    "plt.grid(True)\n",
    "plt.show()"
   ]
  }
 ],
 "metadata": {
  "kernelspec": {
   "display_name": "Python 3 (ipykernel)",
   "language": "python",
   "name": "python3"
  },
  "language_info": {
   "codemirror_mode": {
    "name": "ipython",
    "version": 3
   },
   "file_extension": ".py",
   "mimetype": "text/x-python",
   "name": "python",
   "nbconvert_exporter": "python",
   "pygments_lexer": "ipython3",
   "version": "3.9.7"
  }
 },
 "nbformat": 4,
 "nbformat_minor": 5
}
