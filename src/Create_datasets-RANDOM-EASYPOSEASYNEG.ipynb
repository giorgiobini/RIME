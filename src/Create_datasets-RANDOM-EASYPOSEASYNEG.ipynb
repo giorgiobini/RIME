{
 "cells": [
  {
   "cell_type": "markdown",
   "id": "adae8967",
   "metadata": {
    "tags": []
   },
   "source": [
    "# Code"
   ]
  },
  {
   "cell_type": "code",
   "execution_count": 1,
   "id": "563c7461",
   "metadata": {},
   "outputs": [],
   "source": [
    "import pandas as pd\n",
    "import os\n",
    "import matplotlib.pyplot as plt\n",
    "import time\n",
    "import numpy as np\n",
    "import pickle\n",
    "import math\n",
    "import torch\n",
    "from tqdm.notebook import tqdm\n",
    "import seaborn as sns\n",
    "from torch.utils.data import DataLoader\n",
    "# if its_jupyter_notebook:\n",
    "#     sys.argv = [''] #Remove this if it's not a jupyter notebook!\n",
    "\n",
    "import sys\n",
    "sys.path.insert(0, '..')\n",
    "\n",
    "%load_ext autoreload\n",
    "%autoreload 2\n",
    "from dataset.data import (\n",
    "    RNADataset,\n",
    "    RNADatasetNT,\n",
    "    EasyPosAugment,\n",
    "    InteractionSelectionPolicy,\n",
    "    EasyNegAugment,\n",
    "    HardPosAugment,\n",
    "    HardNegAugment,\n",
    "    SmartNegAugment,\n",
    "    plot_sample,\n",
    "    #plot_sample2,\n",
    "    seed_everything,\n",
    ")\n",
    "from config import *"
   ]
  },
  {
   "cell_type": "code",
   "execution_count": 2,
   "id": "eeb11609",
   "metadata": {},
   "outputs": [],
   "source": [
    "df_genes = pd.read_csv(os.path.join(processed_files_dir, \"df_genes.csv\"))\n",
    "df = pd.read_csv(os.path.join(processed_files_dir, \"final_df_RANDOM.csv\"))"
   ]
  },
  {
   "cell_type": "code",
   "execution_count": 3,
   "id": "ae758f71",
   "metadata": {},
   "outputs": [
    {
     "name": "stdout",
     "output_type": "stream",
     "text": [
      "2 genes have N, so will be excluded\n"
     ]
    }
   ],
   "source": [
    "#the N in the cdna creates problem with the tokenizer\n",
    "df_genes['problematic_set'] = df_genes['cdna'].apply(lambda x: False if (set(x) - set({'A', 'C', 'G', 'T'}) == set()) else True)\n",
    "genesN = set(df_genes[df_genes.problematic_set].gene_id.values)\n",
    "print(f'{len(genesN)} genes have N, so will be excluded')\n",
    "df = df[~(df.gene1.isin(genesN))|(df.gene2.isin(genesN))].reset_index(drop = True)"
   ]
  },
  {
   "cell_type": "code",
   "execution_count": 4,
   "id": "ea7d5505",
   "metadata": {},
   "outputs": [],
   "source": [
    "with open(os.path.join(rna_rna_files_dir, 'RANDOM', f\"gene_pairs_training.txt\"), \"rb\") as fp:  # Unpickling\n",
    "    subset_train = pickle.load(fp)\n",
    "    subset_train = pd.Series(subset_train).str.split('_', expand = True)\n",
    "    genes_train = set(subset_train[0]).union(set(subset_train[1]))"
   ]
  },
  {
   "cell_type": "code",
   "execution_count": 5,
   "id": "fc7bdab5",
   "metadata": {},
   "outputs": [
    {
     "name": "stdout",
     "output_type": "stream",
     "text": [
      "MAX_RNA_SIZE is 5970\n",
      "limit of small rna is: 7000\n",
      "limit of medium rna is: 8500\n",
      "The amount of contact matrixes (in the entire dataset) that are small is 75.4% \n",
      "The amount of contact matrixes (in the entire dataset) that are medium is 22.9% \n",
      "The amount of contact matrixes (in the entire dataset) that are big is 1.8% \n"
     ]
    }
   ],
   "source": [
    "limit_small_rna = 7000\n",
    "limit_medium_rna = 8500\n",
    "\n",
    "print('MAX_RNA_SIZE is', MAX_RNA_SIZE)\n",
    "print('limit of small rna is:', limit_small_rna)\n",
    "print('limit of medium rna is:', limit_medium_rna)\n",
    "\n",
    "small1 = df[(df.length_2<=limit_small_rna)&(df.length_1<=limit_medium_rna)] #both small and one small the other medium\n",
    "small2 = df[(df.length_1<=limit_small_rna)&(df.length_2<=limit_medium_rna)] #both small and one small the other medium\n",
    "df_small = pd.concat([small1, small2], axis = 0).drop_duplicates()\n",
    "\n",
    "df_big = df[(df.length_1>limit_medium_rna)&(df.length_2>limit_medium_rna)]\n",
    "\n",
    "big_small_idx = list(df_small.index) + list(df_big.index) \n",
    "df_medium = df.loc[set(df.index) - set(big_small_idx)]\n",
    "\n",
    "assert (df_small.shape[0]+df_medium.shape[0]+df_big.shape[0]) == df.shape[0]\n",
    "assert set(df_big.couples).union(df_medium.couples).union(df_small.couples) == set(df.couples)\n",
    "\n",
    "df_small = df_small.reset_index(drop=True)\n",
    "df_medium = df_medium.reset_index(drop=True)\n",
    "df_big = df_big.reset_index(drop=True)\n",
    "\n",
    "\n",
    "set(df_small.couples).union(set(df_medium.couples)).union(set(df_big.couples)) == set(df.couples)\n",
    "perc_small = np.round(df_small.shape[0]/df.shape[0]*100, 1)\n",
    "perc_medium = np.round(df_medium.shape[0]/df.shape[0]*100, 1)\n",
    "perc_big = np.round(df_big.shape[0]/df.shape[0]*100, 1)\n",
    "print(f'The amount of contact matrixes (in the entire dataset) that are small is {perc_small}% ')\n",
    "print(f'The amount of contact matrixes (in the entire dataset) that are medium is {perc_medium}% ')\n",
    "print(f'The amount of contact matrixes (in the entire dataset) that are big is {perc_big}% ')"
   ]
  },
  {
   "cell_type": "code",
   "execution_count": 6,
   "id": "69d85537",
   "metadata": {},
   "outputs": [],
   "source": [
    "def create_sample_dict(id_couple, sample):\n",
    "    \"\"\"\n",
    "    x1, x2, y1, y2 is where is the interaction with respect to the actual coordinates (not the original coordinates)\n",
    "    length_1, length_2 is the length with respect to the actual length (not the original length)\n",
    "    \n",
    "    original_x1, original_x2, original_y1, original_y2 is where the rna interacts with respect to original coordinates \n",
    "    window_x1, window_x2, window_y1, window_y2 is where the rna was sampled with respect to original coordinates \n",
    "    original_length1, original_length2 is the original length\n",
    "    \"\"\"\n",
    "    d = {\n",
    "        'id_sample':id_couple,\n",
    "        'couples':sample.couple_id,\n",
    "        'gene1':sample.gene1,\n",
    "        'gene2':sample.gene2,\n",
    "        'interacting':sample.interacting,\n",
    "        'length_1':sample.bbox.x2-sample.bbox.x1,\n",
    "        'length_2':sample.bbox.y2-sample.bbox.y1,\n",
    "        'protein_coding_1':sample.gene1_info[\"protein_coding\"],\n",
    "        'protein_coding_2':sample.gene2_info[\"protein_coding\"],\n",
    "        'x1': sample.seed_interaction_bbox.x1 - sample.bbox.x1,\n",
    "        'x2': sample.seed_interaction_bbox.x2 - sample.bbox.x1,\n",
    "        'y1': sample.seed_interaction_bbox.y1 - sample.bbox.y1,\n",
    "        'y2': sample.seed_interaction_bbox.y2 - sample.bbox.y1,\n",
    "        'policy':sample.policy,\n",
    "        'cdna1':sample.gene1_info[\"cdna\"][sample.bbox.x1:sample.bbox.x2],\n",
    "        'cdna2':sample.gene2_info[\"cdna\"][sample.bbox.y1:sample.bbox.y2],\n",
    "        'original_x1':sample.seed_interaction_bbox.x1,\n",
    "        'original_x2':sample.seed_interaction_bbox.x2,\n",
    "        'original_y1':sample.seed_interaction_bbox.y1,\n",
    "        'original_y2':sample.seed_interaction_bbox.y2,\n",
    "        'window_x1':sample.bbox.x1,\n",
    "        'window_x2':sample.bbox.x2,\n",
    "        'window_y1':sample.bbox.y1,\n",
    "        'window_y2':sample.bbox.y2,\n",
    "        'original_length1':len(sample.gene1_info[\"cdna\"]),\n",
    "        'original_length2':len(sample.gene2_info[\"cdna\"]),\n",
    "        'id_gene1_sample':sample.gene1 + '_' + str(sample.bbox.x1) + '_' + str(sample.bbox.x2),\n",
    "        'id_gene2_sample':sample.gene2 + '_' + str(sample.bbox.y1) + '_' + str(sample.bbox.y2)\n",
    "    }\n",
    "    return d\n",
    "\n",
    "def get_dataset(ep_per_sample, sn_per_sample, en_persample, hn_per_sample, df_genes, df, subset_file, pos_width_multipliers, pos_height_multipliers, neg_width_windows, neg_height_windows):\n",
    "    assert np.round(sum(pos_width_multipliers.values()), 4) == np.round(sum(neg_width_windows.values()), 4) == 1\n",
    "    \n",
    "    pol = []\n",
    "    \n",
    "    if ep_per_sample>0:\n",
    "        pol.append(\n",
    "            EasyPosAugment(\n",
    "            per_sample=ep_per_sample,\n",
    "            interaction_selection=InteractionSelectionPolicy.LARGEST,\n",
    "            width_multipliers=pos_width_multipliers,\n",
    "            height_multipliers=pos_height_multipliers,\n",
    "            )\n",
    "        )\n",
    "        \n",
    "    if sn_per_sample>0:\n",
    "        pol.append(   \n",
    "            SmartNegAugment(\n",
    "                per_sample=sn_per_sample,\n",
    "                interaction_selection=InteractionSelectionPolicy.LARGEST,\n",
    "                width_multipliers=pos_width_multipliers,\n",
    "                height_multipliers=pos_height_multipliers,\n",
    "            )\n",
    "        )\n",
    "        \n",
    "    if en_persample>0:\n",
    "        pol.append( \n",
    "            EasyNegAugment(\n",
    "                per_sample=en_persample,\n",
    "                width_windows=neg_width_windows,\n",
    "                height_windows=neg_height_windows,\n",
    "            )\n",
    "        )\n",
    "        \n",
    "    if hn_per_sample>0:\n",
    "        pol.append(\n",
    "            HardNegAugment(\n",
    "                per_sample=hn_per_sample,\n",
    "                width_windows=neg_width_windows,\n",
    "                height_windows=neg_height_windows,\n",
    "            )\n",
    "        )\n",
    "        \n",
    "    dataset = RNADataset(\n",
    "            gene2info=df_genes,\n",
    "            interactions=df,\n",
    "            subset_file=subset_file,\n",
    "            augment_policies=pol,\n",
    "    )\n",
    "    return dataset "
   ]
  },
  {
   "cell_type": "code",
   "execution_count": 7,
   "id": "5779cc9e",
   "metadata": {},
   "outputs": [],
   "source": [
    "pos_width_multipliers = {1_000_000: 1.}\n",
    "pos_height_multipliers = pos_width_multipliers\n",
    "neg_width_windows = {(MAX_RNA_SIZE-1, MAX_RNA_SIZE): float(1),}\n",
    "neg_height_windows = neg_width_windows"
   ]
  },
  {
   "cell_type": "code",
   "execution_count": 8,
   "id": "ea9b9784",
   "metadata": {},
   "outputs": [],
   "source": [
    "#small policies\n",
    "ep_per_sample_small=1\n",
    "sn_per_sample_small=0\n",
    "en_per_sample_small=1\n",
    "hn_per_sample_small=1\n",
    "\n",
    "#medium policies\n",
    "ep_per_sample_medium=2\n",
    "sn_per_sample_medium=0\n",
    "en_per_sample_medium=1\n",
    "hn_per_sample_medium=1\n",
    "\n",
    "\n",
    "#big policies\n",
    "ep_per_sample_big=3\n",
    "sn_per_sample_big=0\n",
    "en_per_sample_big=2\n",
    "hn_per_sample_big=2"
   ]
  },
  {
   "cell_type": "code",
   "execution_count": 9,
   "id": "72afaf90",
   "metadata": {},
   "outputs": [
    {
     "name": "stdout",
     "output_type": "stream",
     "text": [
      "expected smartneg are the 0.0% of negative pairs\n",
      "expected easyneg are the 50.0% of negative pairs\n",
      "expected hardneg are the 50.0% of negative pairs\n",
      "expected unbalanced factor is 29.38%\n"
     ]
    }
   ],
   "source": [
    "tot_ep = ep_per_sample_small*perc_small + ep_per_sample_medium*perc_medium + ep_per_sample_big*perc_big\n",
    "tot_sn = sn_per_sample_small*perc_small + sn_per_sample_medium*perc_medium + sn_per_sample_big*perc_big\n",
    "tot_en = en_per_sample_small*perc_small + en_per_sample_medium*perc_medium + en_per_sample_big*perc_big\n",
    "tot_hn = hn_per_sample_small*perc_small + hn_per_sample_medium*perc_medium + hn_per_sample_big*perc_big\n",
    "\n",
    "tot_neg = tot_sn + tot_en + tot_hn\n",
    "print(f'expected smartneg are the {np.round( tot_sn/tot_neg *100, 2)}% of negative pairs')\n",
    "print(f'expected easyneg are the {np.round( tot_en/tot_neg *100, 2)}% of negative pairs')\n",
    "print(f'expected hardneg are the {np.round( tot_hn/tot_neg *100, 2)}% of negative pairs')\n",
    "\n",
    "unbalanced_factor = df[df.interacting == False].shape[0]/df.shape[0]\n",
    "expected_uf = tot_ep*unbalanced_factor / ((tot_ep*unbalanced_factor) + tot_neg)\n",
    "print(f'expected unbalanced factor is {np.round(expected_uf*100, 2)}%')"
   ]
  },
  {
   "cell_type": "markdown",
   "id": "0507c53d",
   "metadata": {
    "tags": []
   },
   "source": [
    "# Data loader train"
   ]
  },
  {
   "cell_type": "code",
   "execution_count": 10,
   "id": "2f3863a6",
   "metadata": {
    "tags": []
   },
   "outputs": [],
   "source": [
    "set_data = 'training' \n",
    "assert set_data in ['training', 'val', 'test']\n",
    "subset_file = os.path.join(rna_rna_files_dir, 'RANDOM', f\"gene_pairs_training.txt\")\n",
    "\n",
    "id_couple = 0\n",
    "meta = {}"
   ]
  },
  {
   "cell_type": "code",
   "execution_count": 11,
   "id": "c30e0152-bd99-41aa-9684-3365d642eee9",
   "metadata": {},
   "outputs": [],
   "source": [
    "#sample.all_couple_interactions"
   ]
  },
  {
   "cell_type": "code",
   "execution_count": 13,
   "id": "a1c860a4-ae9f-4149-88ac-d2ad37ecad8c",
   "metadata": {},
   "outputs": [
    {
     "data": {
      "application/vnd.jupyter.widget-view+json": {
       "model_id": "1d546c95375a4a689c062a0a0e061b1f",
       "version_major": 2,
       "version_minor": 0
      },
      "text/plain": [
       "  0%|          | 0/179085 [00:00<?, ?it/s]"
      ]
     },
     "metadata": {},
     "output_type": "display_data"
    },
    {
     "data": {
      "application/vnd.jupyter.widget-view+json": {
       "model_id": "37a42dbcccfc41aca6293f6a387f6dad",
       "version_major": 2,
       "version_minor": 0
      },
      "text/plain": [
       "  0%|          | 0/64382 [00:00<?, ?it/s]"
      ]
     },
     "metadata": {},
     "output_type": "display_data"
    },
    {
     "data": {
      "application/vnd.jupyter.widget-view+json": {
       "model_id": "0876e72a704d402a9be2b0df9654a345",
       "version_major": 2,
       "version_minor": 0
      },
      "text/plain": [
       "  0%|          | 0/8968 [00:00<?, ?it/s]"
      ]
     },
     "metadata": {},
     "output_type": "display_data"
    },
    {
     "name": "stdout",
     "output_type": "stream",
     "text": [
      "Total time to create datasets: 33.59297627607982 minutes\n"
     ]
    }
   ],
   "source": [
    "start_time = time.time()\n",
    "\n",
    "small = get_dataset(ep_per_sample=ep_per_sample_small, sn_per_sample=sn_per_sample_small, \n",
    "                    en_persample=en_per_sample_small, hn_per_sample=hn_per_sample_small, \n",
    "                    df_genes=df_genes, df=df_small, subset_file=subset_file, \n",
    "                    pos_width_multipliers=pos_width_multipliers, pos_height_multipliers=pos_height_multipliers, \n",
    "                    neg_width_windows=neg_width_windows, neg_height_windows=neg_height_windows)\n",
    "\n",
    "for i, sample in tqdm(enumerate(small), total = len(small)):\n",
    "    meta[id_couple] = create_sample_dict(id_couple, sample)\n",
    "    id_couple += 1\n",
    "    \n",
    "    \n",
    "medium = get_dataset(ep_per_sample=ep_per_sample_medium, sn_per_sample=sn_per_sample_medium,\n",
    "                     en_persample=en_per_sample_medium, hn_per_sample=hn_per_sample_medium, \n",
    "                     df_genes=df_genes, df=df_medium, subset_file=subset_file,\n",
    "                     pos_width_multipliers=pos_width_multipliers, pos_height_multipliers=pos_height_multipliers, \n",
    "                     neg_width_windows=neg_width_windows, neg_height_windows=neg_height_windows)\n",
    "\n",
    "for i, sample in tqdm(enumerate(medium), total = len(medium)):\n",
    "    meta[id_couple] = create_sample_dict(id_couple, sample)\n",
    "    id_couple += 1\n",
    "    \n",
    "    \n",
    "big = get_dataset(ep_per_sample=ep_per_sample_big, sn_per_sample=sn_per_sample_big, \n",
    "                  en_persample=en_per_sample_big, hn_per_sample=hn_per_sample_big, \n",
    "                  df_genes=df_genes, df=df_big, subset_file=subset_file, \n",
    "                  pos_width_multipliers=pos_width_multipliers, pos_height_multipliers=pos_height_multipliers, \n",
    "                  neg_width_windows=neg_width_windows, neg_height_windows=neg_height_windows)\n",
    "\n",
    "for i, sample in tqdm(enumerate(big), total = len(big)):\n",
    "    meta[id_couple] = create_sample_dict(id_couple, sample)\n",
    "    id_couple += 1\n",
    "    \n",
    "def df_meta_from_meta_dict(meta, do_controls = True):\n",
    "    df_meta = pd.DataFrame.from_dict(meta, 'index')\n",
    "    df_meta['lencdna1'] = df_meta.apply(lambda x: len(x.cdna1), axis = 1)\n",
    "    df_meta['lencdna2'] = df_meta.apply(lambda x: len(x.cdna2), axis = 1)\n",
    "    if do_controls:\n",
    "        assert (df_meta['lencdna1'] == df_meta['length_1']).all()\n",
    "        assert (df_meta['lencdna2'] == df_meta['length_2']).all()\n",
    "        assert ((df_meta.window_x2 - df_meta.window_x1)==(df_meta.lencdna1)).all()\n",
    "        assert ((df_meta.window_y2 - df_meta.window_y1)==(df_meta.lencdna2)).all()\n",
    "    df_meta = df_meta.drop(['lencdna1', 'lencdna2'], axis = 1)\n",
    "    if do_controls:\n",
    "        m = df_meta[df_meta.policy.isin({'smartneg', 'easypos'})]\n",
    "        assert (m.x1 >= 0).all()\n",
    "        assert (m.y1 >= 0).all()\n",
    "        assert (m.x2 <= m.length_1).all()\n",
    "        assert (m.y2 <= m.length_2).all()\n",
    "\n",
    "        assert df_meta[df_meta.length_1==df_meta.original_length1][['gene1', 'id_gene1_sample']].groupby('gene1').nunique().max().iloc[0] == 1\n",
    "        assert df_meta[df_meta.length_2==df_meta.original_length2][['gene2', 'id_gene2_sample']].groupby('gene2').nunique().max().iloc[0] == 1\n",
    "    return df_meta\n",
    "\n",
    "df_meta = df_meta_from_meta_dict(meta, do_controls = False)\n",
    "print(f\"Total time to create datasets: {(time.time()-start_time)/60} minutes\")"
   ]
  },
  {
   "cell_type": "code",
   "execution_count": 14,
   "id": "43fc2474",
   "metadata": {},
   "outputs": [
    {
     "name": "stdout",
     "output_type": "stream",
     "text": [
      "20771 14814\n",
      "1.4021196165789118\n",
      "easyneg\n"
     ]
    },
    {
     "name": "stderr",
     "output_type": "stream",
     "text": [
      "[autoreload of dataset.data failed: Traceback (most recent call last):\n",
      "  File \"/data01/giorgio/ENTER/envs/dnabert/lib/python3.9/site-packages/IPython/extensions/autoreload.py\", line 245, in check\n",
      "    superreload(m, reload, self.old_objects)\n",
      "  File \"/data01/giorgio/ENTER/envs/dnabert/lib/python3.9/site-packages/IPython/extensions/autoreload.py\", line 410, in superreload\n",
      "    update_generic(old_obj, new_obj)\n",
      "  File \"/data01/giorgio/ENTER/envs/dnabert/lib/python3.9/site-packages/IPython/extensions/autoreload.py\", line 347, in update_generic\n",
      "    update(a, b)\n",
      "  File \"/data01/giorgio/ENTER/envs/dnabert/lib/python3.9/site-packages/IPython/extensions/autoreload.py\", line 317, in update_class\n",
      "    update_instances(old, new)\n",
      "  File \"/data01/giorgio/ENTER/envs/dnabert/lib/python3.9/site-packages/IPython/extensions/autoreload.py\", line 280, in update_instances\n",
      "    ref.__class__ = new\n",
      "  File \"<string>\", line 4, in __setattr__\n",
      "dataclasses.FrozenInstanceError: cannot assign to field '__class__'\n",
      "]\n",
      "/data01/giorgio/RNARNA-NT/src/../dataset/data.py:1333: UserWarning: color is redundantly defined by the 'color' keyword argument and the fmt string \"ro\" (-> color='r'). The keyword argument will take precedence.\n",
      "  ax.plot([0, width],[0, height], 'ro', color = 'white')\n"
     ]
    },
    {
     "data": {
      "image/png": "[encoded data removed]",
      "text/plain": [
       "<Figure size 706.668x504 with 1 Axes>"
      ]
     },
     "metadata": {
      "needs_background": "light"
     },
     "output_type": "display_data"
    }
   ],
   "source": [
    "plot_sample(sample, True)\n",
    "print(sample.policy)"
   ]
  },
  {
   "cell_type": "markdown",
   "id": "97c619e3",
   "metadata": {
    "tags": []
   },
   "source": [
    "### Controllo se alcuni geni hanno un arricchimento solo nei positivi o solo nei negativi."
   ]
  },
  {
   "cell_type": "code",
   "execution_count": 15,
   "id": "5b32f19d-c5ef-4af3-b52a-3ab3cab70d18",
   "metadata": {},
   "outputs": [],
   "source": [
    "def balance_df(df):\n",
    "    positives = df[df.interacting]\n",
    "    negatives = df[df.interacting == False]\n",
    "    if negatives.shape[0]>=positives.shape[0]:\n",
    "        negatives_to_sample = positives.shape[0]\n",
    "        df_sampled = pd.concat([positives, negatives.sample(negatives_to_sample)],axis = 0)\n",
    "    else:\n",
    "        positives_to_sample = negatives.shape[0]\n",
    "        df_sampled = pd.concat([negatives, positives.sample(positives_to_sample)],axis = 0)\n",
    "    return df_sampled.reset_index(drop = True)\n",
    "\n",
    "def obtain_pair_diff_distribution(sampled, gene_count_real):\n",
    "    sampled = sampled.merge(gene_count_real[['gene', 'diff']], left_on = 'gene1', right_on = 'gene').drop('gene', axis = 1).rename({'diff':'diff1'}, axis =1)\n",
    "    sampled = sampled.merge(gene_count_real[['gene', 'diff']], left_on = 'gene2', right_on = 'gene').drop('gene', axis = 1).rename({'diff':'diff2'}, axis =1)\n",
    "    sampled['diff'] = sampled['diff1'] + sampled['diff2']\n",
    "    return sampled\n",
    "\n",
    "def obtain_gene_count_real(df):\n",
    "    vc = df.interacting.value_counts()\n",
    "    if set(vc.index) == {False, True}:\n",
    "        unbalance_factor = vc[True]/vc[False]\n",
    "    else:\n",
    "        unbalance_factor = np.nan\n",
    "    gene_count_pos_list = list(df[df.interacting].gene1) + list(df[df.interacting].gene2)\n",
    "    gene_count_neg_list = list(df[df.interacting == False].gene1) + list(df[df.interacting == False].gene2)\n",
    "\n",
    "    gene_count_pos = pd.DataFrame({'gene': gene_count_pos_list, 'interacting':1})\n",
    "    gene_count_neg = pd.DataFrame({'gene': gene_count_neg_list, 'interacting':0})\n",
    "    gene_count_res = pd.concat([gene_count_pos, gene_count_neg], axis = 0)\n",
    "    \n",
    "    gene_count_res['weight'] = 1\n",
    "    gene_count_res.loc[ gene_count_res.interacting == 0, 'weight'] = unbalance_factor\n",
    "    gene_count_real = gene_count_res.groupby('gene').sum()\n",
    "    gene_count_real['not_interacting'] = gene_count_real['weight'] - gene_count_real['interacting']\n",
    "    gene_count_real['diff'] = gene_count_real['interacting'] - gene_count_real['not_interacting']\n",
    "    gene_count_real['total'] = gene_count_real['not_interacting'] + gene_count_real['interacting']\n",
    "    gene_count_real = gene_count_real.reset_index()#add gene column\n",
    "    return gene_count_real"
   ]
  },
  {
   "cell_type": "code",
   "execution_count": 16,
   "id": "ef4329dd-f656-420c-9b1c-8eae177e4219",
   "metadata": {},
   "outputs": [],
   "source": [
    "gene_count = obtain_gene_count_real(df_meta)\n",
    "df_meta = obtain_pair_diff_distribution(df_meta, gene_count)"
   ]
  },
  {
   "cell_type": "code",
   "execution_count": 17,
   "id": "ba2d6c18-654a-41a7-8a24-7cfd3be9195d",
   "metadata": {},
   "outputs": [
    {
     "name": "stdout",
     "output_type": "stream",
     "text": [
      "252435\n"
     ]
    }
   ],
   "source": [
    "print(df_meta.shape[0])"
   ]
  },
  {
   "cell_type": "markdown",
   "id": "196bdfeb-dcfc-4353-a2d4-1742deee7e5a",
   "metadata": {},
   "source": [
    "#### Simulate"
   ]
  },
  {
   "cell_type": "code",
   "execution_count": 18,
   "id": "50f761ae-da08-4316-b00c-634450773610",
   "metadata": {},
   "outputs": [
    {
     "data": {
      "application/vnd.jupyter.widget-view+json": {
       "model_id": "4711f1ebbcca449c9ffff8c6202a5d71",
       "version_major": 2,
       "version_minor": 0
      },
      "text/plain": [
       "  0%|          | 0/30 [00:00<?, ?it/s]"
      ]
     },
     "metadata": {},
     "output_type": "display_data"
    },
    {
     "data": {
      "image/png": "[encoded data removed]",
      "text/plain": [
       "<Figure size 432x288 with 1 Axes>"
      ]
     },
     "metadata": {
      "needs_background": "light"
     },
     "output_type": "display_data"
    }
   ],
   "source": [
    "n_epochs = 30\n",
    "couples = []\n",
    "interactings = []\n",
    "for i in tqdm(range(n_epochs)):\n",
    "    train_sampled = balance_df(df_meta.copy().drop(['diff1', 'diff2', 'diff'], axis = 1))\n",
    "    couples += list(train_sampled.couples)\n",
    "    interactings += list(train_sampled.interacting)\n",
    "\n",
    "res = pd.DataFrame({'couples':couples, 'interactings':interactings})\n",
    "new_cols = res.couples.str.extractall('(.*)_(.*)')\n",
    "res['gene1'] = new_cols.reset_index()[0]\n",
    "res['gene2'] = new_cols.reset_index()[1]\n",
    "\n",
    "gene_count_pos_list = list(res[res.interactings].gene1) + list(res[res.interactings].gene2)\n",
    "gene_count_neg_list = list(res[res.interactings == False].gene1) + list(res[res.interactings == False].gene2)\n",
    "gene_count_pos = pd.DataFrame({'gene': gene_count_pos_list, 'interacting':1})\n",
    "gene_count_neg = pd.DataFrame({'gene': gene_count_neg_list, 'interacting':0})\n",
    "gene_count_res = pd.concat([gene_count_pos, gene_count_neg], axis = 0)\n",
    "gene_count_res['n'] = 1\n",
    "gene_count_real = gene_count_res.groupby('gene').sum()\n",
    "gene_count_real['not_interacting'] = gene_count_real['n'] - gene_count_real['interacting']\n",
    "gene_count_real['diff'] = gene_count_real['interacting'] - gene_count_real['not_interacting']\n",
    "gene_count_real = gene_count_real.reset_index()\n",
    "\n",
    "res = obtain_pair_diff_distribution(res, gene_count_real)\n",
    "\n",
    "sns.kdeplot(res['diff']/n_epochs, color = 'red', label = 'empirical')\n",
    "plt.title(f'Gene1 Expected value to be an interactor + Gene2 Expected value be an interactor')\n",
    "plt.show()"
   ]
  },
  {
   "cell_type": "code",
   "execution_count": 19,
   "id": "33b56426-4343-47e6-9b6f-8addbffc0932",
   "metadata": {},
   "outputs": [],
   "source": [
    "df_meta = df_meta_from_meta_dict(meta, do_controls = False)"
   ]
  },
  {
   "cell_type": "code",
   "execution_count": 20,
   "id": "20913ff5-4d03-42ca-8b4a-eefabbbbb086",
   "metadata": {},
   "outputs": [
    {
     "name": "stdout",
     "output_type": "stream",
     "text": [
      "actual smartneg are the 0.0% of negative pairs\n",
      "actual easyneg are the 67.21% of negative pairs\n",
      "actual hardneg are the 32.79% of negative pairs\n",
      "actual unbalanced factor is 28.76%\n"
     ]
    }
   ],
   "source": [
    "tot_ep = (df_meta.policy == 'easypos').sum()\n",
    "tot_sn = (df_meta.policy == 'smartneg').sum()\n",
    "tot_en = (df_meta.policy == 'easyneg').sum()\n",
    "tot_hn = (df_meta.policy == 'hardneg').sum()\n",
    "tot_neg = (df_meta.interacting == False).sum()\n",
    "assert tot_ep == (df_meta.interacting == True).sum()\n",
    "assert tot_neg == tot_en+tot_sn+tot_hn\n",
    "print(f'actual smartneg are the {np.round( tot_sn/tot_neg *100, 2)}% of negative pairs')\n",
    "print(f'actual easyneg are the {np.round( tot_en/tot_neg *100, 2)}% of negative pairs')\n",
    "print(f'actual hardneg are the {np.round( tot_hn/tot_neg *100, 2)}% of negative pairs')\n",
    "\n",
    "print(f'actual unbalanced factor is {np.round( (tot_ep/(tot_ep+tot_neg))*100, 2)}%')"
   ]
  },
  {
   "cell_type": "code",
   "execution_count": 21,
   "id": "5976f6d9-58db-497b-86f0-7ae32a59b7b0",
   "metadata": {},
   "outputs": [],
   "source": [
    "assert (df_meta.id_gene1_sample.str.extract('(.*)_(.*)_(.*)')[0] == df_meta.gene1).all()\n",
    "assert (df_meta.id_gene2_sample.str.extract('(.*)_(.*)_(.*)')[0] == df_meta.gene2).all()"
   ]
  },
  {
   "cell_type": "code",
   "execution_count": 22,
   "id": "621fe018-2e6b-4917-9cbb-fd7d5e972649",
   "metadata": {},
   "outputs": [
    {
     "name": "stdout",
     "output_type": "stream",
     "text": [
      "n to drop:  22\n"
     ]
    }
   ],
   "source": [
    "#drop sequences that are too short\n",
    "min_length = 30\n",
    "print('n to drop: ', df_meta[(df_meta.length_1<min_length)|(df_meta.length_2<min_length)].shape[0])\n",
    "\n",
    "df_meta = df_meta[ ~ (\n",
    "    (df_meta.length_1<min_length)|(df_meta.length_2<min_length)\n",
    ")]"
   ]
  },
  {
   "cell_type": "code",
   "execution_count": 23,
   "id": "1aa7eae7",
   "metadata": {},
   "outputs": [],
   "source": [
    "df_meta.to_csv(os.path.join(metadata_dir, 'RANDOM', f'{set_data}_easy.csv'), index = False)"
   ]
  },
  {
   "cell_type": "markdown",
   "id": "3711cb42",
   "metadata": {
    "tags": []
   },
   "source": [
    "# Data Loader val"
   ]
  },
  {
   "cell_type": "code",
   "execution_count": 24,
   "id": "a2c89bd0-a6cc-47d8-bd37-e1cb1ea1cb25",
   "metadata": {},
   "outputs": [],
   "source": [
    "#small policies\n",
    "ep_per_sample_small=1\n",
    "sn_per_sample_small=0\n",
    "en_per_sample_small=1\n",
    "hn_per_sample_small=1\n",
    "\n",
    "#medium policies\n",
    "ep_per_sample_medium=2\n",
    "sn_per_sample_medium=0\n",
    "en_per_sample_medium=1\n",
    "hn_per_sample_medium=1\n",
    "\n",
    "\n",
    "#big policies\n",
    "ep_per_sample_big=3\n",
    "sn_per_sample_big=0\n",
    "en_per_sample_big=2\n",
    "hn_per_sample_big=2"
   ]
  },
  {
   "cell_type": "code",
   "execution_count": 25,
   "id": "4b011077",
   "metadata": {},
   "outputs": [],
   "source": [
    "set_data = 'val' \n",
    "assert set_data in ['training', 'val', 'test']\n",
    "subset_file = os.path.join(rna_rna_files_dir, 'RANDOM', f\"gene_pairs_{set_data}.txt\")\n",
    "\n",
    "meta = {}"
   ]
  },
  {
   "cell_type": "code",
   "execution_count": 26,
   "id": "c9cea6a8",
   "metadata": {},
   "outputs": [
    {
     "data": {
      "application/vnd.jupyter.widget-view+json": {
       "model_id": "869216b4f8ac410eb2a1dc9b07c29a8c",
       "version_major": 2,
       "version_minor": 0
      },
      "text/plain": [
       "  0%|          | 0/32436 [00:00<?, ?it/s]"
      ]
     },
     "metadata": {},
     "output_type": "display_data"
    },
    {
     "data": {
      "application/vnd.jupyter.widget-view+json": {
       "model_id": "892b878088444fc7939b2a888f67fa30",
       "version_major": 2,
       "version_minor": 0
      },
      "text/plain": [
       "  0%|          | 0/14804 [00:00<?, ?it/s]"
      ]
     },
     "metadata": {},
     "output_type": "display_data"
    },
    {
     "data": {
      "application/vnd.jupyter.widget-view+json": {
       "model_id": "9030f41c96b04e4db6e822501d07e7b6",
       "version_major": 2,
       "version_minor": 0
      },
      "text/plain": [
       "  0%|          | 0/2341 [00:00<?, ?it/s]"
      ]
     },
     "metadata": {},
     "output_type": "display_data"
    },
    {
     "name": "stdout",
     "output_type": "stream",
     "text": [
      "Total time to create datasets: 6.513924590746561 minutes\n"
     ]
    }
   ],
   "source": [
    "start_time = time.time()\n",
    "\n",
    "small = get_dataset(ep_per_sample=ep_per_sample_small, sn_per_sample=sn_per_sample_small, \n",
    "                    en_persample=en_per_sample_small, hn_per_sample=hn_per_sample_small, \n",
    "                    df_genes=df_genes, df=df_small, subset_file=subset_file, \n",
    "                    pos_width_multipliers=pos_width_multipliers, pos_height_multipliers=pos_height_multipliers, \n",
    "                    neg_width_windows=neg_width_windows, neg_height_windows=neg_height_windows)\n",
    "\n",
    "for i, sample in tqdm(enumerate(small), total = len(small)):\n",
    "    meta[id_couple] = create_sample_dict(id_couple, sample)\n",
    "    id_couple += 1\n",
    "    \n",
    "    \n",
    "medium = get_dataset(ep_per_sample=ep_per_sample_medium, sn_per_sample=sn_per_sample_medium,\n",
    "                     en_persample=en_per_sample_medium, hn_per_sample=hn_per_sample_medium, \n",
    "                     df_genes=df_genes, df=df_medium, subset_file=subset_file,\n",
    "                     pos_width_multipliers=pos_width_multipliers, pos_height_multipliers=pos_height_multipliers, \n",
    "                     neg_width_windows=neg_width_windows, neg_height_windows=neg_height_windows)\n",
    "\n",
    "for i, sample in tqdm(enumerate(medium), total = len(medium)):\n",
    "    meta[id_couple] = create_sample_dict(id_couple, sample)\n",
    "    id_couple += 1\n",
    "    \n",
    "    \n",
    "big = get_dataset(ep_per_sample=ep_per_sample_big, sn_per_sample=sn_per_sample_big, \n",
    "                  en_persample=en_per_sample_big, hn_per_sample=hn_per_sample_big, \n",
    "                  df_genes=df_genes, df=df_big, subset_file=subset_file, \n",
    "                  pos_width_multipliers=pos_width_multipliers, pos_height_multipliers=pos_height_multipliers, \n",
    "                  neg_width_windows=neg_width_windows, neg_height_windows=neg_height_windows)\n",
    "\n",
    "for i, sample in tqdm(enumerate(big), total = len(big)):\n",
    "    meta[id_couple] = create_sample_dict(id_couple, sample)\n",
    "    id_couple += 1\n",
    "    \n",
    "df_meta = pd.DataFrame.from_dict(meta, 'index')\n",
    "df_meta['lencdna1'] = df_meta.apply(lambda x: len(x.cdna1), axis = 1)\n",
    "df_meta['lencdna2'] = df_meta.apply(lambda x: len(x.cdna2), axis = 1)\n",
    "assert (df_meta['lencdna1'] == df_meta['length_1']).all()\n",
    "assert (df_meta['lencdna2'] == df_meta['length_2']).all()\n",
    "assert ((df_meta.window_x2 - df_meta.window_x1)==(df_meta.lencdna1)).all()\n",
    "assert ((df_meta.window_y2 - df_meta.window_y1)==(df_meta.lencdna2)).all()\n",
    "df_meta = df_meta.drop(['lencdna1', 'lencdna2'], axis = 1)\n",
    "\n",
    "m = df_meta[df_meta.policy.isin({'smartneg', 'easypos'})]\n",
    "assert (m.x1 >= 0).all()\n",
    "assert (m.y1 >= 0).all()\n",
    "assert (m.x2 <= m.length_1).all()\n",
    "assert (m.y2 <= m.length_2).all()\n",
    "\n",
    "assert df_meta[df_meta.length_1==df_meta.original_length1][['gene1', 'id_gene1_sample']].groupby('gene1').nunique().max().iloc[0] == 1\n",
    "assert df_meta[df_meta.length_2==df_meta.original_length2][['gene2', 'id_gene2_sample']].groupby('gene2').nunique().max().iloc[0] == 1\n",
    "\n",
    "print(f\"Total time to create datasets: {(time.time()-start_time)/60} minutes\")"
   ]
  },
  {
   "cell_type": "code",
   "execution_count": 27,
   "id": "85f4165b-3c96-4900-81b7-369ea1f72c5a",
   "metadata": {},
   "outputs": [],
   "source": [
    "df_meta.to_csv(os.path.join(metadata_dir, 'RANDOM', f'{set_data}_easy.csv'), index = False)"
   ]
  },
  {
   "cell_type": "markdown",
   "id": "effaefa5",
   "metadata": {},
   "source": [
    "I have to undersample df_meta because I want a balanced validation set."
   ]
  },
  {
   "cell_type": "code",
   "execution_count": 35,
   "id": "7fdf4212-02b6-4fb4-bec5-c6a7acff1b3c",
   "metadata": {},
   "outputs": [],
   "source": [
    "df_meta = pd.read_csv(os.path.join(metadata_dir, 'RANDOM', f'{set_data}_easy.csv'))"
   ]
  },
  {
   "cell_type": "code",
   "execution_count": 36,
   "id": "97a8667c",
   "metadata": {},
   "outputs": [],
   "source": [
    "#undersample df_meta\n",
    "\n",
    "subset_file = os.path.join(rna_rna_files_dir, 'RANDOM', f\"gene_pairs_{set_data}_HQ.txt\")\n",
    "with open(subset_file, \"rb\") as fp:  # Unpickling\n",
    "    subset_val_HQ = pickle.load(fp)\n",
    "    \n",
    "df_meta = df_meta[df_meta.couples.isin(subset_val_HQ)]\n",
    "\n",
    "if df_meta.interacting.value_counts()[False] >= df_meta.interacting.value_counts()[True]:\n",
    "    n_to_exclude = df_meta.interacting.value_counts()[False] - df_meta.interacting.value_counts()[True]\n",
    "    df_to_sample = df_meta[(df_meta.gene1.isin(genes_train))&(df_meta.gene2.isin(genes_train))&(df_meta.interacting == False)]\n",
    "else:\n",
    "    n_to_exclude = df_meta.interacting.value_counts()[True] - df_meta.interacting.value_counts()[False]\n",
    "    df_to_sample = df_meta[(df_meta.gene1.isin(genes_train))&(df_meta.gene2.isin(genes_train))&(df_meta.interacting == True)]\n",
    "    \n",
    "ids_to_eclude = set(df_to_sample.sample(frac = 1).head(n_to_exclude).id_sample)\n",
    "df_meta = df_meta[~df_meta.id_sample.isin(ids_to_eclude)]\n",
    "assert np.isclose(1, df_meta.interacting.value_counts()[True]/df_meta.interacting.value_counts()[False])\n",
    "df_meta = df_meta.reset_index(drop = True)\n",
    "\n",
    "df_meta.to_csv(os.path.join(metadata_dir, 'RANDOM', f'{set_data}_sampled_easy.csv'), index = False)"
   ]
  },
  {
   "cell_type": "markdown",
   "id": "76373036-6ba7-4494-bfdc-f3d1bbfae53a",
   "metadata": {},
   "source": [
    "# Create the embedding query"
   ]
  },
  {
   "cell_type": "code",
   "execution_count": 39,
   "id": "ceb2b412-dd99-4567-bc36-ff0316d146b9",
   "metadata": {},
   "outputs": [],
   "source": [
    "#import data \n",
    "train = pd.read_csv(os.path.join(metadata_dir, 'RANDOM', f'training_easy.csv'))\n",
    "val = pd.read_csv(os.path.join(metadata_dir, 'RANDOM', f'val_sampled_easy.csv'))"
   ]
  },
  {
   "cell_type": "code",
   "execution_count": 40,
   "id": "9a967c4b-d32a-4074-a22e-8a3a269a2259",
   "metadata": {},
   "outputs": [
    {
     "name": "stderr",
     "output_type": "stream",
     "text": [
      "[autoreload of dataset.data failed: Traceback (most recent call last):\n",
      "  File \"/data01/giorgio/ENTER/envs/dnabert/lib/python3.9/site-packages/IPython/extensions/autoreload.py\", line 245, in check\n",
      "    superreload(m, reload, self.old_objects)\n",
      "  File \"/data01/giorgio/ENTER/envs/dnabert/lib/python3.9/site-packages/IPython/extensions/autoreload.py\", line 410, in superreload\n",
      "    update_generic(old_obj, new_obj)\n",
      "  File \"/data01/giorgio/ENTER/envs/dnabert/lib/python3.9/site-packages/IPython/extensions/autoreload.py\", line 347, in update_generic\n",
      "    update(a, b)\n",
      "  File \"/data01/giorgio/ENTER/envs/dnabert/lib/python3.9/site-packages/IPython/extensions/autoreload.py\", line 317, in update_class\n",
      "    update_instances(old, new)\n",
      "  File \"/data01/giorgio/ENTER/envs/dnabert/lib/python3.9/site-packages/IPython/extensions/autoreload.py\", line 280, in update_instances\n",
      "    ref.__class__ = new\n",
      "  File \"<string>\", line 4, in __setattr__\n",
      "dataclasses.FrozenInstanceError: cannot assign to field '__class__'\n",
      "]\n"
     ]
    }
   ],
   "source": [
    "def create_query_df(df):\n",
    "    df1 = df[['id_gene1_sample', 'cdna1']].drop_duplicates().rename({'id_gene1_sample':'id_query', 'cdna1':'cdna'}, axis = 1)\n",
    "    df2 = df[['id_gene2_sample', 'cdna2']].drop_duplicates().rename({'id_gene2_sample':'id_query', 'cdna2':'cdna'}, axis = 1)\n",
    "    df = pd.concat([df1, df2], axis = 0).drop_duplicates().reset_index(drop = True)\n",
    "    return df"
   ]
  },
  {
   "cell_type": "code",
   "execution_count": 41,
   "id": "0c66e292-93ac-48d0-b45b-41134844ec60",
   "metadata": {},
   "outputs": [],
   "source": [
    "train_query = create_query_df(train)\n",
    "val_query = create_query_df(val)\n",
    "df_query = pd.concat([train_query, val_query], axis = 0).drop_duplicates().reset_index(drop = True)\n",
    "del train_query\n",
    "del val_query\n",
    "\n",
    "query_train = set(train['id_gene1_sample']).union(set(train['id_gene2_sample']))\n",
    "query_val = set(val['id_gene1_sample']).union(set(val['id_gene2_sample']))\n",
    "query = set(query_train).union(query_val)\n",
    "\n",
    "#the 2 assert below also means that there are unique cdna per id_query\n",
    "assert len(df_query.id_query) == len(query)\n",
    "assert set(df_query.id_query) == query"
   ]
  },
  {
   "cell_type": "code",
   "execution_count": 42,
   "id": "9760cc10-b08f-4da2-b20f-2d86d185de4b",
   "metadata": {},
   "outputs": [],
   "source": [
    "all_files = os.listdir(os.path.join(embedding_dir, '32'))\n",
    "all_files = list(pd.Series(all_files).str.extractall('(.*)\\.npy').reset_index()[0])\n",
    "df_query = df_query[~df_query.id_query.isin(all_files)]"
   ]
  },
  {
   "cell_type": "code",
   "execution_count": 43,
   "id": "9529f4a6-18b1-4476-9cb3-518ca267c26c",
   "metadata": {},
   "outputs": [],
   "source": [
    "df_query.to_csv(os.path.join(metadata_dir, 'embedding_query.csv'), index = False)"
   ]
  },
  {
   "cell_type": "code",
   "execution_count": null,
   "id": "34e271fa-4901-4f46-a670-2e6b2bbe1be8",
   "metadata": {},
   "outputs": [],
   "source": [
    "def estimate_time_and_space(n_samples):\n",
    "    #TIME\n",
    "    minutes = 3219*n_samples/(228278)\n",
    "    hours = minutes/60\n",
    "    days = hours/24\n",
    "    print('estimated # hours:', np.round(hours, 2))\n",
    "    print('estimated # days:', np.round(days, 2))\n",
    "\n",
    "    mb = 10.2*n_samples\n",
    "    gb = mb/1000\n",
    "    tb = gb/1000\n",
    "    print('estimated terabytes (pessimistic):', np.round(tb, 2))\n",
    "    mb = 1995*n_samples/(300)\n",
    "    gb = mb/1000\n",
    "    tb = gb/1000\n",
    "    print('estimated terabytes (realistic):', np.round(tb, 2))\n",
    "estimate_time_and_space(df_query.shape[0])"
   ]
  },
  {
   "cell_type": "code",
   "execution_count": null,
   "id": "7e5121d3-c81d-4831-b3db-a01ecd9918b4",
   "metadata": {},
   "outputs": [],
   "source": [
    "def get_directory_size(directory):\n",
    "    total_size = 0\n",
    "    n_files = 0\n",
    "    # Walk through all the files and subdirectories in the directory\n",
    "    for path, dirs, files in os.walk(directory):\n",
    "        for file in files:\n",
    "            file_path = os.path.join(path, file)\n",
    "            total_size += os.stat(file_path).st_size\n",
    "            n_files+=1\n",
    "\n",
    "    # Convert the size to a human-readable format\n",
    "    size_in_bytes = total_size\n",
    "    size_in_kilobytes = total_size / 1000\n",
    "    size_in_megabytes = size_in_kilobytes / 1000\n",
    "    size_in_gigabytes = size_in_megabytes / 1000\n",
    "    size_in_terabytes = size_in_gigabytes / 1000\n",
    "\n",
    "    return {\n",
    "        \"n_files\":n_files,\n",
    "        # \"bytes\": size_in_bytes,\n",
    "        # \"kilobytes\": size_in_kilobytes,\n",
    "        # \"megabytes\": size_in_megabytes,\n",
    "        \"gigabytes\": size_in_gigabytes, \n",
    "        \"terabytes\": size_in_terabytes, \n",
    "    }\n",
    "\n",
    "# Usage example\n",
    "directory_path = os.path.join(embedding_dir)\n",
    "directory_size = get_directory_size(directory_path)\n",
    "print(directory_size)"
   ]
  },
  {
   "cell_type": "markdown",
   "id": "41fa8b3e-38e5-4c8e-a5f9-dc30302d6c52",
   "metadata": {},
   "source": [
    "# Create df_genes_nt and df_nt"
   ]
  },
  {
   "cell_type": "code",
   "execution_count": 3,
   "id": "75f5c9be-30d9-4b27-888d-b1051549f423",
   "metadata": {},
   "outputs": [],
   "source": [
    "#import data \n",
    "train = pd.read_csv(os.path.join(metadata_dir, 'RANDOM', f'training_easy.csv'))\n",
    "\n",
    "val = pd.read_csv(os.path.join(metadata_dir, 'RANDOM',  f'val_sampled_easy.csv'))"
   ]
  },
  {
   "cell_type": "code",
   "execution_count": 4,
   "id": "d6fc61cd-4428-46b0-9857-5ecbe4d70959",
   "metadata": {},
   "outputs": [],
   "source": [
    "def swap_if_needed(df):\n",
    "    df['actual_couples'] = df.gene1 + '_' + df.gene2\n",
    "    df['need_to_swap'] = df.couples!=df.actual_couples\n",
    "    where = df.need_to_swap\n",
    "    df.loc[where, ['gene1', 'gene2']] = (df.loc[where, ['gene2', 'gene1']].values)\n",
    "    df.loc[where, ['length_1', 'length_2']] = (df.loc[where, ['length_2', 'length_1']].values)\n",
    "    df.loc[where, ['protein_coding_1', 'protein_coding_2']] = (df.loc[where, ['protein_coding_2', 'protein_coding_1']].values)\n",
    "    df.loc[where, ['x1', 'y1']] = (df.loc[where, ['y1', 'x1']].values)\n",
    "    df.loc[where, ['x2', 'y2']] = (df.loc[where, ['y2', 'x2']].values)\n",
    "    df.loc[where, ['cdna1', 'cdna2']] = (df.loc[where, ['cdna2', 'cdna1']].values)\n",
    "    df.loc[where, ['original_x1', 'original_y1']] = (df.loc[where, ['original_y1', 'original_x1']].values)\n",
    "    df.loc[where, ['original_x2', 'original_y2']] = (df.loc[where, ['original_y2', 'original_x2']].values)\n",
    "    df.loc[where, ['window_x1', 'window_y1']] = (df.loc[where, ['window_y1', 'window_x1']].values)\n",
    "    df.loc[where, ['window_x2', 'window_y2']] = (df.loc[where, ['window_y2', 'window_x2']].values)\n",
    "    df.loc[where, ['original_length1', 'original_length2']] = (df.loc[where, ['original_length2', 'original_length1']].values)\n",
    "    df.loc[where, ['id_gene1_sample', 'id_gene2_sample']] = (df.loc[where, ['id_gene2_sample', 'id_gene1_sample']].values)\n",
    "    if ('diff1' in df.columns)&('diff2' in df.columns):\n",
    "        df.loc[where, ['diff1', 'diff2']] = (df.loc[where, ['diff2', 'diff1']].values)\n",
    "    df['actual_couples'] = df.gene1 + '_' + df.gene2\n",
    "    assert (df.couples==df.actual_couples).all()\n",
    "    return df.drop(['need_to_swap', 'actual_couples'], axis = 1)"
   ]
  },
  {
   "cell_type": "code",
   "execution_count": 5,
   "id": "d64ceac5-f03c-4ced-ac0c-77999e13b2eb",
   "metadata": {},
   "outputs": [],
   "source": [
    "train = swap_if_needed(train)\n",
    "val = swap_if_needed(val)"
   ]
  },
  {
   "cell_type": "code",
   "execution_count": 6,
   "id": "bc58b8d2-e1d4-40ff-9ae5-df9915e87405",
   "metadata": {},
   "outputs": [],
   "source": [
    "assert len(set(train.id_sample)) == len(train)\n",
    "assert len(set(val.id_sample)) == len(val)\n",
    "\n",
    "assert set(val.id_sample).intersection(set(train.id_sample)) == set()"
   ]
  },
  {
   "cell_type": "code",
   "execution_count": 7,
   "id": "6895e0eb-347b-4dda-81db-c5d9c52da19b",
   "metadata": {},
   "outputs": [
    {
     "name": "stdout",
     "output_type": "stream",
     "text": [
      "train: 252413\n",
      "val: 11766\n"
     ]
    }
   ],
   "source": [
    "train['couples_id'] = train['couples']\n",
    "train['couples'] = train['id_sample']\n",
    "\n",
    "val['couples_id'] = val['couples']\n",
    "val['couples'] = val['id_sample']\n",
    "\n",
    "# export subsets\n",
    "\n",
    "with open(os.path.join(rna_rna_files_dir, 'RANDOM', f\"gene_pairs_training_nt_easy.txt\"), \"wb\") as fp:   #Pickling\n",
    "    pickle.dump(list(set(train.couples)), fp)\n",
    "\n",
    "with open(os.path.join(rna_rna_files_dir, 'RANDOM', f\"gene_pairs_val_sampled_nt_easy.txt\"), \"wb\") as fp:   #Pickling\n",
    "    pickle.dump(list(set(val.couples)), fp)\n",
    "\n",
    "print('train:', len(list(set(train.couples))))\n",
    "print('val:', len(list(set(val.couples))))"
   ]
  },
  {
   "cell_type": "markdown",
   "id": "ebeed349-877f-41bb-b218-124463a20c15",
   "metadata": {},
   "source": [
    "##### Create fake_interaction_region"
   ]
  },
  {
   "cell_type": "code",
   "execution_count": 8,
   "id": "52b10ba5-bc6d-4c07-ac05-65e23c22ab69",
   "metadata": {},
   "outputs": [],
   "source": [
    "#create fake_interaction_region\n",
    "interaction_size= 16\n",
    "\n",
    "def create_fake_interaction_region(df, interaction_size=16):\n",
    "    subset = df[df.policy.isin(['hardneg', 'easyneg'])]\n",
    "    \n",
    "    length1_values = subset['length_1'].values - interaction_size\n",
    "    length2_values = subset['length_2'].values - interaction_size\n",
    "\n",
    "    # Generate random indices within the length1 range\n",
    "    x1_indices = np.random.randint(0, length1_values, size=len(subset))\n",
    "    x2_indices = x1_indices + interaction_size  # Ensure a distance of interaction_size between x1 and x2\n",
    "\n",
    "    # Generate random indices within the length2 range\n",
    "    y1_indices = np.random.randint(0, length2_values, size=len(subset))\n",
    "    y2_indices = y1_indices + interaction_size  # Ensure a distance of interaction_size between y1 and y2\n",
    "    \n",
    "    df.loc[df.policy.isin(['hardneg', 'easyneg']), 'x1'] = x1_indices\n",
    "    df.loc[df.policy.isin(['hardneg', 'easyneg']), 'x2'] = x2_indices\n",
    "    df.loc[df.policy.isin(['hardneg', 'easyneg']), 'y1'] = y1_indices\n",
    "    df.loc[df.policy.isin(['hardneg', 'easyneg']), 'y2'] = y2_indices\n",
    "    return df\n",
    "\n",
    "\n",
    "train = create_fake_interaction_region(train)\n",
    "val = create_fake_interaction_region(val)\n",
    "\n",
    "assert (train.x2<=train.length_1).all()\n",
    "assert (val.x2<=val.length_1).all()\n",
    "\n",
    "assert (train.x1>=0).all()\n",
    "assert (val.x1>=0).all()\n",
    "\n",
    "subset = train[train.policy.isin(['hardneg', 'easyneg'])]\n",
    "assert ((subset.x2-subset.x1) == interaction_size).all()\n",
    "subset = val[val.policy.isin(['hardneg', 'easyneg'])]\n",
    "assert ((subset.x2-subset.x1) == interaction_size).all()"
   ]
  },
  {
   "cell_type": "code",
   "execution_count": 9,
   "id": "853fc785-7fb1-4ac5-978d-977e6eed6d2a",
   "metadata": {},
   "outputs": [],
   "source": [
    "df_full = pd.concat([train, val], axis = 0)\n",
    "df_full = df_full.rename({'gene1':'gene1_id', 'gene2':'gene2_id'}, axis = 1)\n",
    "df_full = df_full.rename({'id_gene1_sample':'gene1', 'id_gene2_sample':'gene2'}, axis = 1)"
   ]
  },
  {
   "cell_type": "code",
   "execution_count": 10,
   "id": "6ec8c7a7-3a45-43bb-8e75-150452e7ed7e",
   "metadata": {},
   "outputs": [],
   "source": [
    "df_nt = df_full.copy()\n",
    "df_nt['w'] = df_nt['x2'] - df_nt['x1']\n",
    "df_nt['h'] = df_nt['y2'] - df_nt['y1']\n",
    "column_order = ['couples','gene1','gene2','interacting',\n",
    "                'length_1','length_2','protein_coding_1','protein_coding_2',\n",
    "                'x1','y1','w','h', 'policy',\n",
    "                'original_x1','original_x2',\n",
    "                'original_y1','original_y2',\n",
    "                'id_gene1_sample','id_gene2_sample', 'couples_id',\n",
    "               ]\n",
    "df_nt = df_nt.drop_duplicates(subset = [\n",
    "    'couples','gene1','gene2','interacting',\n",
    "    'length_1','length_2','protein_coding_1',\n",
    "    'protein_coding_2','x1','y1','w','h',\n",
    "    'policy','original_x1','original_x2',\n",
    "    'original_y1','original_y2','couples_id'\n",
    "]).reset_index(drop = True)\n",
    "df_nt = df_nt.filter(column_order, axis = 1)\n",
    "#crea coordinate per easyneg e hardneg\n",
    "df_nt.to_csv(os.path.join(metadata_dir, 'RANDOM', f'df_nt_easy.csv'), index = False)"
   ]
  },
  {
   "cell_type": "code",
   "execution_count": 11,
   "id": "576d5a86-6797-4265-83bf-3445aeff2cdf",
   "metadata": {},
   "outputs": [],
   "source": [
    "column_order = [\n",
    "    'gene1','gene2','id_gene1_sample','id_gene2_sample',\n",
    "    'original_length1','original_length2', 'cdna1', 'cdna2',\n",
    "    'window_x1','window_x2','window_y1','window_y2', \n",
    "    'gene1_id', 'gene2_id', 'protein_coding_1',  'protein_coding_2'\n",
    "]\n",
    "\n",
    "df_g = df_full.filter(column_order, axis = 1)\n",
    "\n",
    "df_g1 = df_g.filter(\n",
    "    [\n",
    "    'gene1', \n",
    "    'id_gene1_sample', \n",
    "    'cdna1', \n",
    "    'window_x1',\n",
    "    'window_x2', \n",
    "    'gene1_id',\n",
    "    'protein_coding_1', \n",
    "    'length_1',\n",
    "    'original_length1', \n",
    "    ]\n",
    ").rename(\n",
    "    {\n",
    "    'gene1':'gene_id',\n",
    "    'cdna1':'cdna', \n",
    "    'length_1':'length',\n",
    "    'window_x1':'window_c1',\n",
    "    'window_x2':'window_c2',\n",
    "    'gene1_id':'original_gene_id', \n",
    "    'protein_coding_1':'protein_coding', \n",
    "    'original_length1':'original_length'\n",
    "    }, \n",
    "    axis = 1)\n",
    "df_g2 = df_g.filter(\n",
    "    [\n",
    "    'gene2', \n",
    "    'id_gene2_sample', \n",
    "    'cdna2', \n",
    "    'window_y1',\n",
    "    'window_y2', \n",
    "    'gene2_id',\n",
    "    'protein_coding_2', \n",
    "    'length_2',\n",
    "    'original_length2', \n",
    "    ]\n",
    ").rename(\n",
    "    {\n",
    "    'gene2':'gene_id',\n",
    "    'cdna2':'cdna', \n",
    "    'length_2':'length',\n",
    "    'window_y1':'window_c1',\n",
    "    'window_y2':'window_c2',\n",
    "    'gene2_id':'original_gene_id', \n",
    "    'protein_coding_2':'protein_coding', \n",
    "    'original_length2':'original_length'\n",
    "    }, \n",
    "    axis = 1)\n",
    "\n",
    "df_genes_nt = pd.concat([df_g1, df_g2], axis = 0).drop_duplicates().reset_index(drop = True)\n",
    "\n",
    "df_genes_nt['UTR5'] = 0\n",
    "df_genes_nt['CDS'] = 0\n",
    "df_genes_nt['UTR3'] = 0"
   ]
  },
  {
   "cell_type": "code",
   "execution_count": 12,
   "id": "d4d11f00-263f-4acc-868a-c304ce1a11be",
   "metadata": {
    "tags": []
   },
   "outputs": [],
   "source": [
    "assert set(df_genes_nt.original_gene_id) - set(df_genes.gene_id) == set()\n",
    "assert set(train.gene1).union(train.gene2).union(val.gene1).union(val.gene2) - set(df.gene1).union(df.gene2) == set()\n",
    "assert set(df_full.gene1_id).union(df_full.gene2_id) - set(df.gene1).union(df.gene2) == set()"
   ]
  },
  {
   "cell_type": "code",
   "execution_count": 13,
   "id": "03e57a38-dfb4-43bf-b072-b8836172538d",
   "metadata": {},
   "outputs": [],
   "source": [
    "df_genes_nt.to_csv(os.path.join(metadata_dir, 'RANDOM', f'df_genes_nt_easy.csv'), index = False)"
   ]
  }
 ],
 "metadata": {
  "kernelspec": {
   "display_name": "Python 3 (ipykernel)",
   "language": "python",
   "name": "python3"
  },
  "language_info": {
   "codemirror_mode": {
    "name": "ipython",
    "version": 3
   },
   "file_extension": ".py",
   "mimetype": "text/x-python",
   "name": "python",
   "nbconvert_exporter": "python",
   "pygments_lexer": "ipython3",
   "version": "3.9.7"
  }
 },
 "nbformat": 4,
 "nbformat_minor": 5
}
