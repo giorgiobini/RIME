{
 "cells": [
  {
   "cell_type": "code",
   "execution_count": 1,
   "metadata": {
    "collapsed": false,
    "jupyter": {
     "outputs_hidden": false
    }
   },
   "outputs": [],
   "source": [
    "seed = 123\n",
    "import sys\n",
    "from pathlib import Path\n",
    "from typing import *\n",
    "import shutil\n",
    "import time\n",
    "import pandas as pd\n",
    "import pickle\n",
    "import torch\n",
    "import numpy as np\n",
    "import os\n",
    "from torch.utils.data import random_split, Subset\n",
    "from tqdm.notebook import tqdm\n",
    "import matplotlib.pyplot as plt\n",
    "\n",
    "sys.path.insert(0, \"..\")\n",
    "from dataset.data import (\n",
    "    RNADataset,\n",
    "    ROOT_DIR,\n",
    "    EasyPosAugment,\n",
    "    InteractionSelectionPolicy,\n",
    "    EasyNegAugment,\n",
    "    HardPosAugment,\n",
    "    HardNegAugment,\n",
    "    SmartNegAugment,\n",
    "    plot_sample,\n",
    "    #plot_sample2,\n",
    "    seed_everything,\n",
    "    MAX_RNA_SIZE,\n",
    ")\n",
    "\n",
    "import haiku as hk\n",
    "import jax\n",
    "import jax.numpy as jnp\n",
    "import nucleotide_transformer\n",
    "from nucleotide_transformer.mypretrained import get_pretrained_model\n",
    "import time\n",
    "random_key = jax.random.PRNGKey(0)"
   ]
  },
  {
   "cell_type": "code",
   "execution_count": 13,
   "metadata": {
    "collapsed": false,
    "jupyter": {
     "outputs_hidden": false
    }
   },
   "outputs": [],
   "source": [
    "pos_width_multipliers = {1000000: 0.5}\n",
    "pos_height_multipliers = pos_width_multipliers\n",
    "neg_width_windows = {(MAX_RNA_SIZE-1, MAX_RNA_SIZE): float(1),}\n",
    "neg_height_windows = neg_width_windows"
   ]
  },
  {
   "cell_type": "code",
   "execution_count": 14,
   "metadata": {},
   "outputs": [],
   "source": [
    "rna_rna_files_dir = os.path.join(ROOT_DIR, \"dataset\", \"rna_rna_pairs\")\n",
    "processed_files_dir = os.path.join(ROOT_DIR, \"dataset\", \"processed_files\")\n",
    "nt_data_dir = os.path.join(processed_files_dir, \"nt_data\")\n",
    "embedding_dir = os.path.join(nt_data_dir, \"embeddings\")\n",
    "metadata_dir = os.path.join(nt_data_dir, \"metadata\")\n",
    "nt_dir =  os.path.join(ROOT_DIR, \"NT_dependencies\")"
   ]
  },
  {
   "cell_type": "code",
   "execution_count": 15,
   "metadata": {},
   "outputs": [],
   "source": [
    "set_data = 'training' \n",
    "assert set_data in ['training', 'val', 'test']"
   ]
  },
  {
   "cell_type": "code",
   "execution_count": 16,
   "metadata": {},
   "outputs": [],
   "source": [
    "df_genes = pd.read_csv(os.path.join(processed_files_dir, \"df_genes.csv\"))\n",
    "df = pd.read_csv(os.path.join(processed_files_dir, \"final_df.csv\"))\n",
    "subset_file = os.path.join(rna_rna_files_dir, f\"gene_pairs_{set_data}.txt\")"
   ]
  },
  {
   "cell_type": "code",
   "execution_count": 23,
   "metadata": {},
   "outputs": [
    {
     "data": {
      "application/vnd.jupyter.widget-view+json": {
       "model_id": "0da1acb0d880468292832b1049879a3d",
       "version_major": 2,
       "version_minor": 0
      },
      "text/plain": [
       "0it [00:00, ?it/s]"
      ]
     },
     "metadata": {},
     "output_type": "display_data"
    },
    {
     "ename": "TypeError",
     "evalue": "unsupported operand type(s) for -: 'str' and 'int'",
     "output_type": "error",
     "traceback": [
      "\u001b[0;31m---------------------------------------------------------------------------\u001b[0m",
      "\u001b[0;31mTypeError\u001b[0m                                 Traceback (most recent call last)",
      "Cell \u001b[0;32mIn[23], line 51\u001b[0m\n\u001b[1;32m     41\u001b[0m     start_time \u001b[38;5;241m=\u001b[39m time\u001b[38;5;241m.\u001b[39mtime()\n\u001b[1;32m     43\u001b[0m     dataset \u001b[38;5;241m=\u001b[39m RNADataset(\n\u001b[1;32m     44\u001b[0m         gene2info\u001b[38;5;241m=\u001b[39mdf_genes,\n\u001b[1;32m     45\u001b[0m         interactions\u001b[38;5;241m=\u001b[39mdf,\n\u001b[0;32m   (...)\u001b[0m\n\u001b[1;32m     49\u001b[0m         ],\n\u001b[1;32m     50\u001b[0m     )\n\u001b[0;32m---> 51\u001b[0m     \u001b[38;5;28;01mfor\u001b[39;00m i, sample \u001b[38;5;129;01min\u001b[39;00m tqdm(\u001b[38;5;28menumerate\u001b[39m(dataset)):\n\u001b[1;32m     52\u001b[0m         \u001b[38;5;66;03m# d = {\u001b[39;00m\n\u001b[1;32m     53\u001b[0m         \u001b[38;5;66;03m#     'id_sample':id_couple,\u001b[39;00m\n\u001b[1;32m     54\u001b[0m         \u001b[38;5;66;03m#     'couple':sample.couple_id,\u001b[39;00m\n\u001b[1;32m     55\u001b[0m         \u001b[38;5;66;03m#     'gene1':sample.gene1,\u001b[39;00m\n\u001b[1;32m     56\u001b[0m         \u001b[38;5;66;03m#     'gene2':sample.gene2,\u001b[39;00m\n\u001b[1;32m     57\u001b[0m         \u001b[38;5;66;03m#     'x1':sample.bbox.x1,\u001b[39;00m\n\u001b[1;32m     58\u001b[0m         \u001b[38;5;66;03m#     'x2':sample.bbox.x2,\u001b[39;00m\n\u001b[1;32m     59\u001b[0m         \u001b[38;5;66;03m#     'y1':sample.bbox.y1,\u001b[39;00m\n\u001b[1;32m     60\u001b[0m         \u001b[38;5;66;03m#     'y2':sample.bbox.y2,\u001b[39;00m\n\u001b[1;32m     61\u001b[0m         \u001b[38;5;66;03m#     'interacting':sample.interacting,\u001b[39;00m\n\u001b[1;32m     62\u001b[0m         \u001b[38;5;66;03m#     'policy':sample.policy,\u001b[39;00m\n\u001b[1;32m     63\u001b[0m         \u001b[38;5;66;03m#     'cdna1':sample.gene1_info[\"cdna\"][sample.bbox.x1:sample.bbox.x2],\u001b[39;00m\n\u001b[1;32m     64\u001b[0m         \u001b[38;5;66;03m#     'cdna2':sample.gene2_info[\"cdna\"][sample.bbox.y1:sample.bbox.y2],\u001b[39;00m\n\u001b[1;32m     65\u001b[0m         \u001b[38;5;66;03m#     'seed_x1':sample.seed_interaction_bbox.x1,\u001b[39;00m\n\u001b[1;32m     66\u001b[0m         \u001b[38;5;66;03m#     'seed_x2':sample.seed_interaction_bbox.x2,\u001b[39;00m\n\u001b[1;32m     67\u001b[0m         \u001b[38;5;66;03m#     'seed_y1':sample.seed_interaction_bbox.y1,\u001b[39;00m\n\u001b[1;32m     68\u001b[0m         \u001b[38;5;66;03m#     'seed_y2':sample.seed_interaction_bbox.y2,\u001b[39;00m\n\u001b[1;32m     69\u001b[0m         \u001b[38;5;66;03m#     'protein_coding1':sample.gene1_info[\"protein_coding\"],\u001b[39;00m\n\u001b[1;32m     70\u001b[0m         \u001b[38;5;66;03m#     'protein_coding2':sample.gene2_info[\"protein_coding\"],\u001b[39;00m\n\u001b[1;32m     71\u001b[0m         \u001b[38;5;66;03m#     'original_length1':len(sample.gene1_info[\"cdna\"]),\u001b[39;00m\n\u001b[1;32m     72\u001b[0m         \u001b[38;5;66;03m#     'original_length2':len(sample.gene2_info[\"cdna\"]),\u001b[39;00m\n\u001b[1;32m     73\u001b[0m         \u001b[38;5;66;03m# }\u001b[39;00m\n\u001b[1;32m     74\u001b[0m         \u001b[38;5;66;03m# meta[id_couple] = d\u001b[39;00m\n\u001b[1;32m     75\u001b[0m         id_couple \u001b[38;5;241m+\u001b[39m\u001b[38;5;241m=\u001b[39m \u001b[38;5;241m1\u001b[39m\n\u001b[1;32m     76\u001b[0m \u001b[38;5;66;03m#         if sample.interacting:\u001b[39;00m\n\u001b[1;32m     77\u001b[0m \u001b[38;5;66;03m#             sequences_pos.append()\u001b[39;00m\n\u001b[1;32m     78\u001b[0m \u001b[38;5;66;03m#         else:\u001b[39;00m\n\u001b[0;32m   (...)\u001b[0m\n\u001b[1;32m     82\u001b[0m         \u001b[38;5;66;03m#     break\u001b[39;00m\n\u001b[1;32m     83\u001b[0m         \u001b[38;5;66;03m#print(sample.gene1, sample.gene2)\u001b[39;00m\n",
      "File \u001b[0;32m~/miniconda3/envs/rnarna/lib/python3.10/site-packages/tqdm/notebook.py:254\u001b[0m, in \u001b[0;36mtqdm_notebook.__iter__\u001b[0;34m(self)\u001b[0m\n\u001b[1;32m    252\u001b[0m \u001b[38;5;28;01mtry\u001b[39;00m:\n\u001b[1;32m    253\u001b[0m     it \u001b[38;5;241m=\u001b[39m \u001b[38;5;28msuper\u001b[39m(tqdm_notebook, \u001b[38;5;28mself\u001b[39m)\u001b[38;5;241m.\u001b[39m\u001b[38;5;21m__iter__\u001b[39m()\n\u001b[0;32m--> 254\u001b[0m     \u001b[38;5;28;01mfor\u001b[39;00m obj \u001b[38;5;129;01min\u001b[39;00m it:\n\u001b[1;32m    255\u001b[0m         \u001b[38;5;66;03m# return super(tqdm...) will not catch exception\u001b[39;00m\n\u001b[1;32m    256\u001b[0m         \u001b[38;5;28;01myield\u001b[39;00m obj\n\u001b[1;32m    257\u001b[0m \u001b[38;5;66;03m# NB: except ... [ as ...] breaks IPython async KeyboardInterrupt\u001b[39;00m\n",
      "File \u001b[0;32m~/miniconda3/envs/rnarna/lib/python3.10/site-packages/tqdm/std.py:1178\u001b[0m, in \u001b[0;36mtqdm.__iter__\u001b[0;34m(self)\u001b[0m\n\u001b[1;32m   1175\u001b[0m time \u001b[38;5;241m=\u001b[39m \u001b[38;5;28mself\u001b[39m\u001b[38;5;241m.\u001b[39m_time\n\u001b[1;32m   1177\u001b[0m \u001b[38;5;28;01mtry\u001b[39;00m:\n\u001b[0;32m-> 1178\u001b[0m     \u001b[38;5;28;01mfor\u001b[39;00m obj \u001b[38;5;129;01min\u001b[39;00m iterable:\n\u001b[1;32m   1179\u001b[0m         \u001b[38;5;28;01myield\u001b[39;00m obj\n\u001b[1;32m   1180\u001b[0m         \u001b[38;5;66;03m# Update and possibly print the progressbar.\u001b[39;00m\n\u001b[1;32m   1181\u001b[0m         \u001b[38;5;66;03m# Note: does not call self.update(1) for speed optimisation.\u001b[39;00m\n",
      "File \u001b[0;32m/data01/gbini/projects/RNA-RNA/src/../dataset/data.py:1208\u001b[0m, in \u001b[0;36mRNADataset.__getitem__\u001b[0;34m(self, item)\u001b[0m\n\u001b[1;32m   1204\u001b[0m gene2: \u001b[38;5;28mstr\u001b[39m \u001b[38;5;241m=\u001b[39m couple_interactions[\u001b[38;5;241m0\u001b[39m][\u001b[38;5;124m\"\u001b[39m\u001b[38;5;124mgene2\u001b[39m\u001b[38;5;124m\"\u001b[39m]\n\u001b[1;32m   1206\u001b[0m policy \u001b[38;5;241m=\u001b[39m augment_policy\u001b[38;5;241m.\u001b[39mname\n\u001b[0;32m-> 1208\u001b[0m augment_result: AugmentResult \u001b[38;5;241m=\u001b[39m \u001b[43maugment_policy\u001b[49m\u001b[38;5;241;43m.\u001b[39;49m\u001b[43maugment\u001b[49m\u001b[43m(\u001b[49m\n\u001b[1;32m   1209\u001b[0m \u001b[43m    \u001b[49m\u001b[43mtarget_interaction\u001b[49m\u001b[38;5;241;43m=\u001b[39;49m\u001b[43maugment_spec\u001b[49m\u001b[43m[\u001b[49m\u001b[38;5;124;43m\"\u001b[39;49m\u001b[38;5;124;43mtarget_interaction\u001b[39;49m\u001b[38;5;124;43m\"\u001b[39;49m\u001b[43m]\u001b[49m\u001b[43m,\u001b[49m\n\u001b[1;32m   1210\u001b[0m \u001b[43m    \u001b[49m\u001b[43mcouple_interactions\u001b[49m\u001b[38;5;241;43m=\u001b[39;49m\u001b[43mcouple_interactions\u001b[49m\u001b[43m,\u001b[49m\n\u001b[1;32m   1211\u001b[0m \u001b[43m    \u001b[49m\u001b[43mgene1\u001b[49m\u001b[38;5;241;43m=\u001b[39;49m\u001b[43mgene1\u001b[49m\u001b[43m,\u001b[49m\n\u001b[1;32m   1212\u001b[0m \u001b[43m    \u001b[49m\u001b[43mgene2\u001b[49m\u001b[38;5;241;43m=\u001b[39;49m\u001b[43mgene2\u001b[49m\u001b[43m,\u001b[49m\n\u001b[1;32m   1213\u001b[0m \u001b[43m    \u001b[49m\u001b[43mdataset\u001b[49m\u001b[38;5;241;43m=\u001b[39;49m\u001b[38;5;28;43mself\u001b[39;49m\u001b[43m,\u001b[49m\n\u001b[1;32m   1214\u001b[0m \u001b[43m\u001b[49m\u001b[43m)\u001b[49m\n\u001b[1;32m   1216\u001b[0m interaction \u001b[38;5;241m=\u001b[39m couple_interactions[augment_spec[\u001b[38;5;124m\"\u001b[39m\u001b[38;5;124mtarget_interaction\u001b[39m\u001b[38;5;124m\"\u001b[39m]]\n\u001b[1;32m   1217\u001b[0m interaction_bbox: BBOX \u001b[38;5;241m=\u001b[39m BBOX\u001b[38;5;241m.\u001b[39mfrom_xyhw(\n\u001b[1;32m   1218\u001b[0m     x\u001b[38;5;241m=\u001b[39minteraction[\u001b[38;5;124m\"\u001b[39m\u001b[38;5;124mx1\u001b[39m\u001b[38;5;124m\"\u001b[39m],\n\u001b[1;32m   1219\u001b[0m     y\u001b[38;5;241m=\u001b[39minteraction[\u001b[38;5;124m\"\u001b[39m\u001b[38;5;124my1\u001b[39m\u001b[38;5;124m\"\u001b[39m],\n\u001b[1;32m   1220\u001b[0m     width\u001b[38;5;241m=\u001b[39minteraction[\u001b[38;5;124m\"\u001b[39m\u001b[38;5;124mw\u001b[39m\u001b[38;5;124m\"\u001b[39m],\n\u001b[1;32m   1221\u001b[0m     height\u001b[38;5;241m=\u001b[39minteraction[\u001b[38;5;124m\"\u001b[39m\u001b[38;5;124mh\u001b[39m\u001b[38;5;124m\"\u001b[39m],\n\u001b[1;32m   1222\u001b[0m )\n",
      "File \u001b[0;32m/data01/gbini/projects/RNA-RNA/src/../dataset/data.py:1075\u001b[0m, in \u001b[0;36mRegionSpecNegAugment.augment\u001b[0;34m(self, target_interaction, couple_interactions, gene1, gene2, dataset)\u001b[0m\n\u001b[1;32m   1072\u001b[0m random\u001b[38;5;241m.\u001b[39mshuffle(genes)\n\u001b[1;32m   1073\u001b[0m gene1, gene2 \u001b[38;5;241m=\u001b[39m genes\n\u001b[0;32m-> 1075\u001b[0m \u001b[38;5;28;01mreturn\u001b[39;00m \u001b[38;5;28;43mself\u001b[39;49m\u001b[38;5;241;43m.\u001b[39;49m\u001b[43m_augment\u001b[49m\u001b[43m(\u001b[49m\n\u001b[1;32m   1076\u001b[0m \u001b[43m    \u001b[49m\u001b[43mtarget_interaction\u001b[49m\u001b[38;5;241;43m=\u001b[39;49m\u001b[43mtarget_interaction\u001b[49m\u001b[43m,\u001b[49m\n\u001b[1;32m   1077\u001b[0m \u001b[43m    \u001b[49m\u001b[43mcouple_interactions\u001b[49m\u001b[38;5;241;43m=\u001b[39;49m\u001b[43mcouple_interactions\u001b[49m\u001b[43m,\u001b[49m\n\u001b[1;32m   1078\u001b[0m \u001b[43m    \u001b[49m\u001b[43mgene1\u001b[49m\u001b[38;5;241;43m=\u001b[39;49m\u001b[43mgene1\u001b[49m\u001b[43m,\u001b[49m\n\u001b[1;32m   1079\u001b[0m \u001b[43m    \u001b[49m\u001b[43mgene2\u001b[49m\u001b[38;5;241;43m=\u001b[39;49m\u001b[43mgene2\u001b[49m\u001b[43m,\u001b[49m\n\u001b[1;32m   1080\u001b[0m \u001b[43m    \u001b[49m\u001b[43mdataset\u001b[49m\u001b[38;5;241;43m=\u001b[39;49m\u001b[43mdataset\u001b[49m\u001b[43m,\u001b[49m\n\u001b[1;32m   1081\u001b[0m \u001b[43m    \u001b[49m\u001b[43mswapped\u001b[49m\u001b[38;5;241;43m=\u001b[39;49m\u001b[38;5;28;43;01mFalse\u001b[39;49;00m\u001b[43m,\u001b[49m\n\u001b[1;32m   1082\u001b[0m \u001b[43m\u001b[49m\u001b[43m)\u001b[49m\n",
      "File \u001b[0;32m/data01/gbini/projects/RNA-RNA/src/../dataset/data.py:997\u001b[0m, in \u001b[0;36mRegionSpecNegAugment._augment\u001b[0;34m(self, target_interaction, couple_interactions, gene1, gene2, dataset, swapped)\u001b[0m\n\u001b[1;32m    988\u001b[0m \u001b[38;5;66;03m# It can be that gene2_info[f\"{region}_start\"] == gene2_info[f\"{region}_end\"]\u001b[39;00m\n\u001b[1;32m    989\u001b[0m \u001b[38;5;66;03m# because some rna are only UTR3, only UTR5 or only CDS, so I need an if-else statement for these cases.\u001b[39;00m\n\u001b[1;32m    990\u001b[0m \u001b[38;5;66;03m# If I fall in the except, I will fall inside a random region of the gene2.\u001b[39;00m\n\u001b[1;32m    991\u001b[0m \u001b[38;5;66;03m# (I can fall inside a CDS, but they are few cases).\u001b[39;00m\n\u001b[1;32m    992\u001b[0m \u001b[38;5;28;01mif\u001b[39;00m (\n\u001b[1;32m    993\u001b[0m     gene2_info[\u001b[38;5;124mf\u001b[39m\u001b[38;5;124m\"\u001b[39m\u001b[38;5;132;01m{\u001b[39;00mgene2_region_type\u001b[38;5;132;01m}\u001b[39;00m\u001b[38;5;124m_start\u001b[39m\u001b[38;5;124m\"\u001b[39m]\n\u001b[1;32m    994\u001b[0m     \u001b[38;5;241m<\u001b[39m gene2_info[\u001b[38;5;124mf\u001b[39m\u001b[38;5;124m\"\u001b[39m\u001b[38;5;132;01m{\u001b[39;00mgene2_region_type\u001b[38;5;132;01m}\u001b[39;00m\u001b[38;5;124m_end\u001b[39m\u001b[38;5;124m\"\u001b[39m]\n\u001b[1;32m    995\u001b[0m ):\n\u001b[1;32m    996\u001b[0m     fake_y1: \u001b[38;5;28mint\u001b[39m \u001b[38;5;241m=\u001b[39m np\u001b[38;5;241m.\u001b[39mrandom\u001b[38;5;241m.\u001b[39mrandint(gene2_info[\u001b[38;5;124mf\u001b[39m\u001b[38;5;124m\"\u001b[39m\u001b[38;5;132;01m{\u001b[39;00mgene2_region_type\u001b[38;5;132;01m}\u001b[39;00m\u001b[38;5;124m_start\u001b[39m\u001b[38;5;124m\"\u001b[39m],\n\u001b[0;32m--> 997\u001b[0m                                      \u001b[43mgene2_info\u001b[49m\u001b[43m[\u001b[49m\u001b[38;5;124;43mf\u001b[39;49m\u001b[38;5;124;43m\"\u001b[39;49m\u001b[38;5;132;43;01m{\u001b[39;49;00m\u001b[43mgene2_region_type\u001b[49m\u001b[38;5;132;43;01m}\u001b[39;49;00m\u001b[38;5;124;43m_end\u001b[39;49m\u001b[38;5;124;43m\"\u001b[39;49m\u001b[43m]\u001b[49m\u001b[43m \u001b[49m\u001b[38;5;241;43m-\u001b[39;49m\u001b[43m \u001b[49m\u001b[38;5;241;43m1\u001b[39;49m)\n\u001b[1;32m    998\u001b[0m     fake_y2:\u001b[38;5;28mint\u001b[39m \u001b[38;5;241m=\u001b[39m fake_y1\u001b[38;5;241m+\u001b[39m\u001b[38;5;241m1\u001b[39m\n\u001b[1;32m    999\u001b[0m     y1: \u001b[38;5;28mint\u001b[39m \u001b[38;5;241m=\u001b[39m _compute_target(\n\u001b[1;32m   1000\u001b[0m         interaction_p1\u001b[38;5;241m=\u001b[39mfake_y1,\n\u001b[1;32m   1001\u001b[0m         interaction_p2\u001b[38;5;241m=\u001b[39mfake_y2,\n\u001b[0;32m   (...)\u001b[0m\n\u001b[1;32m   1005\u001b[0m         target_length\u001b[38;5;241m=\u001b[39mtarget_height,\n\u001b[1;32m   1006\u001b[0m     )\n",
      "\u001b[0;31mTypeError\u001b[0m: unsupported operand type(s) for -: 'str' and 'int'"
     ]
    }
   ],
   "source": [
    "meta = {}\n",
    "id_couple = 0\n",
    "seed_everything(seed)\n",
    "for policy in (\n",
    "    EasyPosAugment(\n",
    "        per_sample=1,\n",
    "        interaction_selection=InteractionSelectionPolicy.LARGEST,\n",
    "        width_multipliers=pos_width_multipliers,\n",
    "        height_multipliers=pos_height_multipliers,\n",
    "    ),\n",
    "    SmartNegAugment(\n",
    "        per_sample=1,\n",
    "        interaction_selection=InteractionSelectionPolicy.LARGEST,\n",
    "        width_multipliers=pos_width_multipliers,\n",
    "        height_multipliers=pos_height_multipliers,\n",
    "    ),\n",
    "    EasyNegAugment(\n",
    "        per_sample=1,\n",
    "        width_windows=neg_width_windows,\n",
    "        height_windows=neg_height_windows,\n",
    "    ),\n",
    "    HardPosAugment(\n",
    "        per_sample=1,\n",
    "        interaction_selection=InteractionSelectionPolicy.RANDOM_ONE,\n",
    "        min_width_overlap=0.3,\n",
    "        min_height_overlap=0.3,\n",
    "        width_multipliers=pos_width_multipliers,\n",
    "        height_multipliers=pos_height_multipliers,\n",
    "    ),\n",
    "    HardNegAugment(\n",
    "        per_sample=1,\n",
    "        width_windows=neg_width_windows,\n",
    "        height_windows=neg_height_windows,\n",
    "    ),\n",
    "):\n",
    "    start_time = time.time()\n",
    "\n",
    "    dataset = RNADataset(\n",
    "        gene2info=df_genes,\n",
    "        interactions=df,\n",
    "        subset_file=subset_file,\n",
    "        augment_policies=[\n",
    "            policy,\n",
    "        ],\n",
    "    )\n",
    "    for i, sample in tqdm(enumerate(dataset)):\n",
    "        # d = {\n",
    "        #     'id_sample':id_couple,\n",
    "        #     'couple':sample.couple_id,\n",
    "        #     'gene1':sample.gene1,\n",
    "        #     'gene2':sample.gene2,\n",
    "        #     'x1':sample.bbox.x1,\n",
    "        #     'x2':sample.bbox.x2,\n",
    "        #     'y1':sample.bbox.y1,\n",
    "        #     'y2':sample.bbox.y2,\n",
    "        #     'interacting':sample.interacting,\n",
    "        #     'policy':sample.policy,\n",
    "        #     'cdna1':sample.gene1_info[\"cdna\"][sample.bbox.x1:sample.bbox.x2],\n",
    "        #     'cdna2':sample.gene2_info[\"cdna\"][sample.bbox.y1:sample.bbox.y2],\n",
    "        #     'seed_x1':sample.seed_interaction_bbox.x1,\n",
    "        #     'seed_x2':sample.seed_interaction_bbox.x2,\n",
    "        #     'seed_y1':sample.seed_interaction_bbox.y1,\n",
    "        #     'seed_y2':sample.seed_interaction_bbox.y2,\n",
    "        #     'protein_coding1':sample.gene1_info[\"protein_coding\"],\n",
    "        #     'protein_coding2':sample.gene2_info[\"protein_coding\"],\n",
    "        #     'original_length1':len(sample.gene1_info[\"cdna\"]),\n",
    "        #     'original_length2':len(sample.gene2_info[\"cdna\"]),\n",
    "        # }\n",
    "        # meta[id_couple] = d\n",
    "        id_couple += 1\n",
    "            \n",
    "        # if i == 21:\n",
    "        #     break\n",
    "        #print(sample.gene1, sample.gene2)\n",
    "        continue\n",
    "meta = pd.DataFrame.from_dict(meta, 'index')\n",
    "#meta.to_csv(os.path.join(metadata_dir, f'{set_data}.csv'), index = False)"
   ]
  },
  {
   "cell_type": "code",
   "execution_count": 18,
   "metadata": {},
   "outputs": [],
   "source": [
    "m = meta[meta.policy.isin({'smartneg', 'easypos'})]\n",
    "assert (m.seed_x1 >= m.x1).all()\n",
    "assert (m.seed_y1 >= m.y1).all()\n",
    "assert ((m.seed_x2) <= (m.x2)).all()\n",
    "assert ((m.seed_y2) <= (m.y2)).all()"
   ]
  },
  {
   "cell_type": "code",
   "execution_count": 22,
   "metadata": {},
   "outputs": [
    {
     "name": "stdout",
     "output_type": "stream",
     "text": [
      "2118 3705\n",
      "0.5716599190283401\n"
     ]
    },
    {
     "data": {
      "image/png": "[encoded data removed]",
      "text/plain": [
       "<Figure size 400.162x700 with 1 Axes>"
      ]
     },
     "execution_count": 22,
     "metadata": {},
     "output_type": "execute_result"
    },
    {
     "data": {
      "image/png": "[encoded data removed]",
      "text/plain": [
       "<Figure size 400.162x700 with 1 Axes>"
      ]
     },
     "metadata": {},
     "output_type": "display_data"
    }
   ],
   "source": [
    "plot_sample(sample, True)"
   ]
  },
  {
   "cell_type": "markdown",
   "metadata": {
    "tags": []
   },
   "source": [
    "### NT Embeddings"
   ]
  },
  {
   "cell_type": "code",
   "execution_count": 5,
   "metadata": {},
   "outputs": [],
   "source": [
    "def retrieve_embeddings(outs, tokens, layer):\n",
    "    # Retrieve embeddings\n",
    "    embeddings = outs[f\"embeddings_{layer}\"][:, 1:, :]  # removing CLS token\n",
    "    padding_mask = jnp.expand_dims(tokens[:, 1:] != tokenizer.pad_token_id, axis=-1)\n",
    "    masked_embeddings = embeddings * padding_mask  # multiply by 0 pad tokens embeddings\n",
    "    sequences_lengths = jnp.sum(padding_mask, axis=1)\n",
    "    mean_embeddings = jnp.sum(masked_embeddings, axis=1) / sequences_lengths\n",
    "    return mean_embeddings\n",
    "\n",
    "def infer(sequences, forward_fn, tokenizer, parameters, random_key):\n",
    "    tokens_ids = [b[1] for b in tokenizer.batch_tokenize(sequences)]\n",
    "    tokens_str = [b[0] for b in tokenizer.batch_tokenize(sequences)]\n",
    "    tokens = jnp.asarray(tokens_ids, dtype=jnp.int32)\n",
    "    # Infer\n",
    "    outs = forward_fn.apply(parameters, random_key, tokens)\n",
    "    return outs, tokens\n",
    "\n",
    "def save_data_to_folder(data, labels, ids, folder_path):\n",
    "    if not os.path.exists(folder_path):\n",
    "        os.makedirs(folder_path)\n",
    "    for i in range(len(data)):\n",
    "        sample = data[i]\n",
    "        label = labels[i]\n",
    "        id_sample = ids[i]\n",
    "        if label == 0:\n",
    "            class_folder = os.path.join(folder_path, 'class_0')\n",
    "        else:\n",
    "            class_folder = os.path.join(folder_path, 'class_1')\n",
    "        if not os.path.exists(class_folder):\n",
    "            os.makedirs(class_folder)\n",
    "        np.save(os.path.join(class_folder, f'{id_sample}.npy'), sample)"
   ]
  },
  {
   "cell_type": "code",
   "execution_count": 274,
   "metadata": {},
   "outputs": [],
   "source": [
    "embeddings_layers_to_save = (20, 24, 28, 32)\n",
    "\n",
    "model_name = '2B5_multi_species'\n",
    "\n",
    "# Get pretrained model\n",
    "parameters, forward_fn, tokenizer, config = get_pretrained_model(\n",
    "    model_name=model_name,\n",
    "    mixed_precision=False,\n",
    "    embeddings_layers_to_save=embeddings_layers_to_save,\n",
    "    attention_maps_to_save=(),\n",
    "    max_positions=1000,\n",
    "    chkpt_dir = os.path.join(nt_dir, 'checkpoints')\n",
    ")\n",
    "forward_fn = hk.transform(forward_fn)"
   ]
  },
  {
   "cell_type": "code",
   "execution_count": 330,
   "metadata": {},
   "outputs": [],
   "source": [
    "sequences1 = [''.join(['A'for i in range(MAX_RNA_SIZE)]), ''.join(['A'for i in range(MAX_RNA_SIZE-20)]), ''.join(['C'for i in range(MAX_RNA_SIZE-5)]), 'TAAAAAAAAAAACC', 'TAAAACC']\n",
    "tokens_ids = [b[1] for b in tokenizer.batch_tokenize(sequences1)]\n",
    "tokens_str = [b[0] for b in tokenizer.batch_tokenize(sequences1)]"
   ]
  },
  {
   "cell_type": "code",
   "execution_count": 331,
   "metadata": {},
   "outputs": [],
   "source": [
    "layer = 20\n",
    "outs, tokens = infer(sequences1, forward_fn, tokenizer, parameters, random_key)\n",
    "embeddings = outs[f\"embeddings_{layer}\"][:, 1:, :]  # removing CLS token\n",
    "padding_mask = jnp.expand_dims(tokens[:, 1:] != tokenizer.pad_token_id, axis=-1) # padding_mask.shape is (batch_size, 999, 1)\n",
    "masked_embeddings = embeddings * padding_mask  # multiply by 0 pad tokens embeddings\n",
    "# masked_embeddings.shape is (batch_size, 999, 2560)\n",
    "sequences_lengths = jnp.sum(padding_mask, axis=1) #sequences_lengths.shape is (batch_size, 1)\n",
    "mean_embeddings = jnp.sum(masked_embeddings, axis=1) / sequences_lengths #mean_embeddings.shape is (batch_size, 2560)"
   ]
  },
  {
   "cell_type": "code",
   "execution_count": 332,
   "metadata": {},
   "outputs": [],
   "source": [
    "def calculate_grouped_mean_embeddings(outs, layer, tokens, tokenizer, k):\n",
    "    # Get the embeddings for the specified layer\n",
    "    embeddings = outs[f\"embeddings_{layer}\"]\n",
    "    \n",
    "    # Remove the CLS token and paddings\n",
    "    embeddings = embeddings[:, 1:, :]\n",
    "    padding_mask = jnp.expand_dims(tokens[:, 1:] != tokenizer.pad_token_id, axis=-1)\n",
    "    masked_embeddings = embeddings * padding_mask\n",
    "    \n",
    "    # Calculate the number of groups\n",
    "    batch_size = masked_embeddings.shape[0]\n",
    "    seq_length = masked_embeddings.shape[1]\n",
    "    num_groups = seq_length // k\n",
    "    \n",
    "    # Reshape the embeddings to form groups\n",
    "    grouped_embeddings = jnp.reshape(masked_embeddings[:, :num_groups*k, :], (batch_size, num_groups, k, -1))\n",
    "    grouped_padding_mask = jnp.reshape(padding_mask[:, :num_groups*k, :], (batch_size, num_groups, k, -1))\n",
    "    \n",
    "    # Calculate the mean embeddings for each group\n",
    "    group_sum_embeddings = jnp.sum(grouped_embeddings, axis=2)\n",
    "    sequence_count_in_groups = grouped_padding_mask.sum(axis=2)\n",
    "    sequence_count_in_groups = jnp.where(sequence_count_in_groups == 0, 1, sequence_count_in_groups)  # to avoid division by zero\n",
    "    group_mean_embeddings = group_sum_embeddings / sequence_count_in_groups\n",
    "    \n",
    "    return group_mean_embeddings"
   ]
  },
  {
   "cell_type": "code",
   "execution_count": 333,
   "metadata": {},
   "outputs": [],
   "source": [
    "mean_embeddings_copy = calculate_grouped_mean_embeddings(outs, layer, tokens, tokenizer, k=999)"
   ]
  },
  {
   "cell_type": "code",
   "execution_count": 334,
   "metadata": {},
   "outputs": [],
   "source": [
    "assert np.isclose(mean_embeddings, mean_embeddings_copy.squeeze()).all()"
   ]
  },
  {
   "cell_type": "code",
   "execution_count": null,
   "metadata": {},
   "outputs": [],
   "source": []
  },
  {
   "cell_type": "code",
   "execution_count": 335,
   "metadata": {},
   "outputs": [],
   "source": [
    "mean_embeddings2 = calculate_grouped_mean_embeddings(outs, layer, tokens, tokenizer, k=10)"
   ]
  },
  {
   "cell_type": "code",
   "execution_count": 336,
   "metadata": {},
   "outputs": [
    {
     "data": {
      "text/plain": [
       "Array(0.00022485, dtype=float32)"
      ]
     },
     "execution_count": 336,
     "metadata": {},
     "output_type": "execute_result"
    }
   ],
   "source": [
    "(mean_embeddings2[0][0] - mean_embeddings2[1][0]).mean()"
   ]
  },
  {
   "cell_type": "code",
   "execution_count": 337,
   "metadata": {},
   "outputs": [
    {
     "data": {
      "text/plain": [
       "Array(0.05363286, dtype=float32)"
      ]
     },
     "execution_count": 337,
     "metadata": {},
     "output_type": "execute_result"
    }
   ],
   "source": [
    "(mean_embeddings2[0][0] - mean_embeddings2[2][0]).mean()"
   ]
  },
  {
   "cell_type": "code",
   "execution_count": 338,
   "metadata": {},
   "outputs": [
    {
     "data": {
      "text/plain": [
       "Array(-0.01238899, dtype=float32)"
      ]
     },
     "execution_count": 338,
     "metadata": {},
     "output_type": "execute_result"
    }
   ],
   "source": [
    "(mean_embeddings2[2][0] - mean_embeddings2[3][0]).mean()"
   ]
  },
  {
   "cell_type": "code",
   "execution_count": null,
   "metadata": {},
   "outputs": [],
   "source": []
  },
  {
   "cell_type": "code",
   "execution_count": null,
   "metadata": {},
   "outputs": [],
   "source": []
  },
  {
   "cell_type": "code",
   "execution_count": null,
   "metadata": {},
   "outputs": [],
   "source": []
  },
  {
   "cell_type": "code",
   "execution_count": null,
   "metadata": {},
   "outputs": [],
   "source": []
  },
  {
   "cell_type": "code",
   "execution_count": null,
   "metadata": {},
   "outputs": [],
   "source": [
    "batch_size = 12\n",
    "n_batch = int(meta.shape[0]/batch_size)\n",
    "slices = np.linspace(0, meta.shape[0], n_batch, dtype = np.int64)"
   ]
  },
  {
   "cell_type": "code",
   "execution_count": null,
   "metadata": {},
   "outputs": [],
   "source": [
    "embeddings_layers_to_save = (20, 24, 28, 32)\n",
    "\n",
    "model_name = '2B5_multi_species'\n",
    "\n",
    "# Get pretrained model\n",
    "parameters, forward_fn, tokenizer, config = get_pretrained_model(\n",
    "    model_name=model_name,\n",
    "    mixed_precision=False,\n",
    "    embeddings_layers_to_save=embeddings_layers_to_save,\n",
    "    attention_maps_to_save=(),\n",
    "    max_positions=1000,\n",
    "    chkpt_dir = os.path.join(nt_dir, 'checkpoints')\n",
    ")\n",
    "forward_fn = hk.transform(forward_fn)"
   ]
  },
  {
   "cell_type": "code",
   "execution_count": null,
   "metadata": {},
   "outputs": [],
   "source": [
    "start_time = time.time()\n",
    "for i in tqdm(range(len(slices)-1)):\n",
    "    \n",
    "    meta_slice = meta[slices[i]:slices[i+1]]\n",
    "    labels = list(meta[slices[i]:slices[i+1]].interacting.values.astype(int))\n",
    "    ids = list(meta[slices[i]:slices[i+1]].id_sample.values)\n",
    "    \n",
    "    sequences1 = list(meta_slice.cdna1.values)\n",
    "    outs1, tokens1 = infer(sequences1, forward_fn, tokenizer, parameters, random_key)\n",
    "    \n",
    "    sequences2 = list(meta_slice.cdna2.values)\n",
    "    outs2, tokens2 = infer(sequences2, forward_fn, tokenizer, parameters, random_key)\n",
    "    \n",
    "    for layer in embeddings_layers_to_save:\n",
    "        layer_folder = os.path.join(embedding_dir, str(layer))\n",
    "        if not os.path.exists(layer_folder):\n",
    "            os.makedirs(layer_folder)\n",
    "            \n",
    "        mean_embeddings1 = retrieve_embeddings(outs1, tokens1, layer) #shape is (batch_size, 2560)\n",
    "        mean_embeddings2 = retrieve_embeddings(outs2, tokens2, layer) #shape is (batch_size, 2560)\n",
    "        \n",
    "        #concatenate the two embeddings (check if I am doing this properly, with the rigth axis)\n",
    "        embeddings = np.concatenate((mean_embeddings1, mean_embeddings2), axis=1) #shape is (2*batch_size, 5120)\n",
    "        \n",
    "        save_data_to_folder(embeddings, labels, ids,  os.path.join(layer_folder, set_data))\n",
    "print(f\"Total time to process batch: {(time.time()-start_time)/60} minutes\")"
   ]
  }
 ],
 "metadata": {
  "kernelspec": {
   "display_name": "Python 3 (ipykernel)",
   "language": "python",
   "name": "python3"
  },
  "language_info": {
   "codemirror_mode": {
    "name": "ipython",
    "version": 3
   },
   "file_extension": ".py",
   "mimetype": "text/x-python",
   "name": "python",
   "nbconvert_exporter": "python",
   "pygments_lexer": "ipython3",
   "version": "3.10.10"
  },
  "vscode": {
   "interpreter": {
    "hash": "28f202d77f1a85c5cab767fd2089c1bba19c245ba743de17ef12d30078485197"
   }
  }
 },
 "nbformat": 4,
 "nbformat_minor": 4
}
