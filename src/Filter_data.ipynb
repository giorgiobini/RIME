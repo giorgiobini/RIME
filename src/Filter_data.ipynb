{
 "cells": [
  {
   "cell_type": "markdown",
   "id": "1b40aec4-6a87-4f3a-b6f8-d405b20878fd",
   "metadata": {},
   "source": [
    "# Code"
   ]
  },
  {
   "cell_type": "code",
   "execution_count": 1,
   "id": "bc3b83bc",
   "metadata": {},
   "outputs": [],
   "source": [
    "its_jupyter_notebook = True"
   ]
  },
  {
   "cell_type": "code",
   "execution_count": 2,
   "id": "685f531f",
   "metadata": {},
   "outputs": [],
   "source": [
    "import sys\n",
    "sys.path.insert(0, '..')\n",
    "import pickle\n",
    "import seaborn as sns\n",
    "import pandas as pd\n",
    "import os\n",
    "import random\n",
    "import numpy as np\n",
    "import time\n",
    "if its_jupyter_notebook:\n",
    "    sys.argv = [''] #Remove this if it's not a jupyter notebook!"
   ]
  },
  {
   "cell_type": "code",
   "execution_count": 3,
   "id": "6f6cf51e",
   "metadata": {},
   "outputs": [],
   "source": [
    "ROOT_DIR = os.path.dirname(os.path.abspath('.'))\n",
    "original_files_dir = os.path.join(ROOT_DIR, 'dataset', 'original_files')\n",
    "processed_files_dir = os.path.join(ROOT_DIR, 'dataset', 'processed_files')\n",
    "rna_rna_files_dir = os.path.join(ROOT_DIR, 'dataset', 'rna_rna_pairs')\n",
    "df_or = pd.read_csv(os.path.join(original_files_dir, \"rise_paris_tr.new.mapped_interactions.tx_regions.txt\"), sep = '\\t')"
   ]
  },
  {
   "cell_type": "markdown",
   "id": "8b2033be-76f4-4c6a-9872-e0eeec069126",
   "metadata": {},
   "source": [
    "### Import"
   ]
  },
  {
   "cell_type": "code",
   "execution_count": 4,
   "id": "a0e2f1bc-12cc-4025-b791-152665ab7931",
   "metadata": {},
   "outputs": [],
   "source": [
    "file_train = os.path.join(rna_rna_files_dir, \"gene_pairs_training_random.txt\")\n",
    "file_test =  os.path.join(rna_rna_files_dir, \"gene_pairs_test_random.txt\")\n",
    "file_val = os.path.join(rna_rna_files_dir, \"gene_pairs_val_random.txt\")\n",
    "\n",
    "assert (os.path.isfile(file_test))&(os.path.isfile(file_val))&(os.path.isfile(file_test))\n",
    "with open(file_test, \"rb\") as fp:   # Unpickling\n",
    "    gene_pairs_test = pickle.load(fp)\n",
    "with open(file_val, \"rb\") as fp:   # Unpickling\n",
    "    gene_pairs_val = pickle.load(fp)\n",
    "with open(file_train, \"rb\") as fp:   # Unpickling\n",
    "    gene_pairs_train = pickle.load(fp)"
   ]
  },
  {
   "cell_type": "code",
   "execution_count": 5,
   "id": "83e412fa-758b-4133-b475-8ff3467e5cd2",
   "metadata": {},
   "outputs": [
    {
     "name": "stderr",
     "output_type": "stream",
     "text": [
      "/home/gbini/miniconda3/envs/rnarna/lib/python3.9/site-packages/IPython/core/interactiveshell.py:3444: DtypeWarning: Columns (7,8) have mixed types.Specify dtype option on import or set low_memory=False.\n",
      "  exec(code_obj, self.user_global_ns, self.user_ns)\n"
     ]
    }
   ],
   "source": [
    "df = pd.read_csv(os.path.join(processed_files_dir,\"df_annotation_files_cleaned.csv\"), sep = ',')"
   ]
  },
  {
   "cell_type": "code",
   "execution_count": 6,
   "id": "c32eee0d-096c-4a2b-a1c6-7b238096b6b0",
   "metadata": {},
   "outputs": [
    {
     "data": {
      "text/plain": [
       "171281"
      ]
     },
     "execution_count": 6,
     "metadata": {},
     "output_type": "execute_result"
    }
   ],
   "source": [
    "df.shape[0]"
   ]
  },
  {
   "cell_type": "code",
   "execution_count": 7,
   "id": "091fa1e3-5d88-4e45-a249-40298c206eba",
   "metadata": {},
   "outputs": [
    {
     "data": {
      "text/plain": [
       "167706"
      ]
     },
     "execution_count": 7,
     "metadata": {},
     "output_type": "execute_result"
    }
   ],
   "source": [
    "len(gene_pairs_val) + len(gene_pairs_test) + len(gene_pairs_train)"
   ]
  },
  {
   "cell_type": "code",
   "execution_count": 8,
   "id": "47b802c8-6595-497a-9c34-7cac317deb29",
   "metadata": {},
   "outputs": [],
   "source": [
    "excl1 = pd.read_csv(os.path.join(processed_files_dir,\"exclude\", \"rise_ids.abundant_RNAs.txt\"), sep = '\\t')"
   ]
  },
  {
   "cell_type": "code",
   "execution_count": 9,
   "id": "bc94ea43-707c-4771-8f52-a6d9e549b78a",
   "metadata": {},
   "outputs": [],
   "source": [
    "excl2 = pd.read_csv(os.path.join(processed_files_dir,\"exclude\", \"rise_tr.exclude_riseids.no_aboundant.txt\"), sep = '\\t', header = None)"
   ]
  },
  {
   "cell_type": "code",
   "execution_count": 10,
   "id": "a3c3b320-1483-4f3c-828f-4d85425aebf1",
   "metadata": {},
   "outputs": [],
   "source": [
    "excl3 = pd.read_csv(os.path.join(processed_files_dir,\"exclude\",\"swappereccio.exclude_couples.no_aboundant.txt\"), sep = '\\t', header = None)"
   ]
  },
  {
   "cell_type": "code",
   "execution_count": 12,
   "id": "ec68c3b9-2383-406f-abbb-a9323bb8ba59",
   "metadata": {},
   "outputs": [
    {
     "data": {
      "text/plain": [
       "{'SINE_5S-Deu-L2',\n",
       " 'SINE_7SL',\n",
       " 'SINE_tRNA',\n",
       " 'SINE_tRNA-RTE',\n",
       " 'rRNA_unknown',\n",
       " 'scRNA_unknown',\n",
       " 'snRNA_unknown',\n",
       " 'srpRNA_unknown',\n",
       " 'tRNA_unknown'}"
      ]
     },
     "execution_count": 12,
     "metadata": {},
     "output_type": "execute_result"
    }
   ],
   "source": [
    "set(excl1.name)"
   ]
  },
  {
   "cell_type": "markdown",
   "id": "63b017e3-180f-4b03-b988-f2e0768afbda",
   "metadata": {},
   "source": [
    "### Let's start with excl3"
   ]
  },
  {
   "cell_type": "markdown",
   "id": "f35e47d7-0482-4a73-af7d-97f129213fa7",
   "metadata": {},
   "source": [
    "Non so se sono ordinate nel modo in cui ho ordinato io le coppie, percio faro cosi: credo due liste, una con gene1_gene2 e l altra con gene2_gene1 e poi faccio l inner di entrambe le liste col df."
   ]
  },
  {
   "cell_type": "code",
   "execution_count": 11,
   "id": "6f5c8851-73fd-4112-872d-53a686be8986",
   "metadata": {
    "tags": []
   },
   "outputs": [],
   "source": [
    "excl3 = excl3[0].str.extractall(\"(.*)-(.*)\").reset_index()"
   ]
  },
  {
   "cell_type": "code",
   "execution_count": 12,
   "id": "d174d860-d2be-423e-8fe1-50de32144515",
   "metadata": {},
   "outputs": [],
   "source": [
    "excl3['drop1'] = excl3[[0, 1]].agg('_'.join, axis=1)\n",
    "excl3['drop2'] = excl3[[1, 0]].agg('_'.join, axis=1)"
   ]
  },
  {
   "cell_type": "code",
   "execution_count": 13,
   "id": "04e1788a-831d-44c1-9f24-0b4436d4134a",
   "metadata": {},
   "outputs": [],
   "source": [
    "excl3_list = list(excl3['drop1']) + list(excl3['drop2'])"
   ]
  },
  {
   "cell_type": "markdown",
   "id": "557130c7-d616-4b7a-a69d-d3465472ba87",
   "metadata": {},
   "source": [
    "### Let's work with excl1 and excl2"
   ]
  },
  {
   "cell_type": "code",
   "execution_count": 14,
   "id": "50effa78-4378-4dbd-81c2-58634e8001c1",
   "metadata": {},
   "outputs": [],
   "source": [
    "rise_to_exclude = list(excl2[0]) + list(excl1.rise_id)"
   ]
  },
  {
   "cell_type": "code",
   "execution_count": 15,
   "id": "fffd5a25-4a61-4561-9377-9e94bb39b98d",
   "metadata": {
    "tags": []
   },
   "outputs": [],
   "source": [
    "subset = df_or[~(df_or.rise_id.isin(rise_to_exclude))].reset_index()[['gene_1', 'gene_2']]\n",
    "subset['drop1'] = subset[['gene_1', 'gene_2']].agg('_'.join, axis=1)\n",
    "subset['drop2'] = subset[['gene_2', 'gene_1']].agg('_'.join, axis=1)\n",
    "excl12_list = list(subset['drop1']) + list(subset['drop2'])"
   ]
  },
  {
   "cell_type": "markdown",
   "id": "3d34fb93-44d7-48fb-8131-8415c9082b0f",
   "metadata": {},
   "source": [
    "### Let's exclude CDS-CDS"
   ]
  },
  {
   "cell_type": "code",
   "execution_count": 16,
   "id": "2a62d582-b1b2-4be5-ad95-9cb11f3a432c",
   "metadata": {},
   "outputs": [],
   "source": [
    "subset = df_or[(df_or['tx_id_1_localization'] == 'CDS')&(df_or['tx_id_2_localization'] == 'CDS')][['gene_1', 'gene_2']]\n",
    "subset['drop1'] = subset[['gene_1', 'gene_2']].agg('_'.join, axis=1)\n",
    "subset['drop2'] = subset[['gene_2', 'gene_1']].agg('_'.join, axis=1)"
   ]
  },
  {
   "cell_type": "code",
   "execution_count": 17,
   "id": "4fff1b8b-2466-42d2-97f1-457630207fb2",
   "metadata": {},
   "outputs": [],
   "source": [
    "cds_cds_list = list(subset['drop1']) + list(subset['drop2'])"
   ]
  },
  {
   "cell_type": "markdown",
   "id": "0918d17a-adcf-44fa-bc0d-aec354baa250",
   "metadata": {},
   "source": [
    "### Exclude"
   ]
  },
  {
   "cell_type": "code",
   "execution_count": 18,
   "id": "433a46e7-cbdd-4db7-8be2-4de958d98043",
   "metadata": {},
   "outputs": [],
   "source": [
    "exclude = excl3_list + excl12_list + cds_cds_list\n",
    "\n",
    "exclude = set(exclude) #remove duplicates"
   ]
  },
  {
   "cell_type": "code",
   "execution_count": 19,
   "id": "be20500f-27b6-47f1-98a3-80e4e22e0490",
   "metadata": {},
   "outputs": [],
   "source": [
    "gene_pairs_test_filtered = list(set(gene_pairs_test) - exclude)\n",
    "gene_pairs_val_filtered = list(set(gene_pairs_val) - exclude)\n",
    "gene_pairs_train_filtered = list(set(gene_pairs_train) - exclude)"
   ]
  },
  {
   "cell_type": "code",
   "execution_count": 20,
   "id": "2554db7b-0ecc-449e-925e-2f02a4cbaffb",
   "metadata": {},
   "outputs": [],
   "source": [
    "def print_perc_01(df):\n",
    "    true = list(set(df[df.there_is_interaction == True].couples))\n",
    "    false = list(set(df[df.there_is_interaction == False].couples))\n",
    "    t = len(true)\n",
    "    f = len(false)\n",
    "    return np.round(t/(t+f)*100, 2)"
   ]
  },
  {
   "cell_type": "code",
   "execution_count": 21,
   "id": "66e5d942-8eb2-4624-8859-ec6684697dbe",
   "metadata": {},
   "outputs": [
    {
     "name": "stdout",
     "output_type": "stream",
     "text": [
      "Tot dati prima:\n",
      "167706\n",
      "Tot dati dopo:\n",
      "95562\n",
      "\n",
      "\n",
      "Test prima:\n",
      "34013\n",
      "Perc interaction: 50.22\n",
      "Val prima:\n",
      "17120\n",
      "Perc interaction: 49.55\n",
      "Train prima:\n",
      "116573\n",
      "Perc interaction: 50.0\n",
      "\n",
      "\n",
      "Test dopo:\n",
      "17527\n",
      "Perc interaction: 5.0\n",
      "Val dopo:\n",
      "8853\n",
      "Perc interaction: 4.83\n",
      "Train dopo:\n",
      "69182\n",
      "Perc interaction: 19.05\n"
     ]
    }
   ],
   "source": [
    "print('Tot dati prima:')\n",
    "print(len(gene_pairs_test) + len(gene_pairs_val) + len(gene_pairs_train))\n",
    "\n",
    "print('Tot dati dopo:')\n",
    "print(len(gene_pairs_test_filtered) + len(gene_pairs_val_filtered) + len(gene_pairs_train_filtered))\n",
    "\n",
    "print('\\n')\n",
    "\n",
    "print('Test prima:')\n",
    "print(len(gene_pairs_test))\n",
    "print(f\"Perc interaction: {print_perc_01(df[df.couples.isin(gene_pairs_test)])}\")\n",
    "print('Val prima:')\n",
    "print(len(gene_pairs_val))\n",
    "print(f\"Perc interaction: {print_perc_01(df[df.couples.isin(gene_pairs_val)])}\")\n",
    "print('Train prima:')\n",
    "print(len(gene_pairs_train))\n",
    "print(f\"Perc interaction: {print_perc_01(df[df.couples.isin(gene_pairs_train)])}\")\n",
    "\n",
    "print('\\n')\n",
    "\n",
    "print('Test dopo:')\n",
    "print(len(gene_pairs_test_filtered))\n",
    "print(f\"Perc interaction: {print_perc_01(df[df.couples.isin(gene_pairs_test_filtered)])}\")\n",
    "print('Val dopo:')\n",
    "print(len(gene_pairs_val_filtered))\n",
    "print(f\"Perc interaction: {print_perc_01(df[df.couples.isin(gene_pairs_val_filtered)])}\")\n",
    "print('Train dopo:')\n",
    "print(len(gene_pairs_train_filtered))\n",
    "print(f\"Perc interaction: {print_perc_01(df[df.couples.isin(gene_pairs_train_filtered)])}\")"
   ]
  },
  {
   "cell_type": "markdown",
   "id": "9ce37eac-f74f-4629-b7ec-a10adb9d2b3a",
   "metadata": {},
   "source": [
    "### Export unbalanced new lists of train, test, val"
   ]
  },
  {
   "cell_type": "code",
   "execution_count": 22,
   "id": "e9f7ad37-2222-4d7e-b47f-9c535e53fa4c",
   "metadata": {},
   "outputs": [],
   "source": [
    "new_file_train = os.path.join(rna_rna_files_dir, \"gene_pairs_training_random_filtered_unbalanced.txt\")\n",
    "new_file_test =  os.path.join(rna_rna_files_dir, \"gene_pairs_test_random_filtered_unbalanced.txt\")\n",
    "new_file_val = os.path.join(rna_rna_files_dir, \"gene_pairs_val_random_filtered_unbalanced.txt\")\n",
    "\n",
    "with open(new_file_train, \"wb\") as fp: #Pickling\n",
    "    pickle.dump(gene_pairs_train_filtered, fp)\n",
    "\n",
    "with open(new_file_val, \"wb\") as fp: #Pickling\n",
    "    pickle.dump(gene_pairs_val_filtered, fp)\n",
    "    \n",
    "with open(new_file_test, \"wb\") as fp: #Pickling\n",
    "    pickle.dump(gene_pairs_test_filtered, fp)"
   ]
  },
  {
   "cell_type": "code",
   "execution_count": 23,
   "id": "86b4c93e-c437-4b04-9fb0-975cbd203c3b",
   "metadata": {},
   "outputs": [],
   "source": [
    "gene_pairs_test_filtered_un = gene_pairs_test_filtered.copy()\n",
    "gene_pairs_train_filtered_un = gene_pairs_train_filtered.copy()\n",
    "gene_pairs_val_filtered_un = gene_pairs_val_filtered.copy()"
   ]
  },
  {
   "cell_type": "markdown",
   "id": "579cf09b-37ea-4571-ae22-d402b1a35125",
   "metadata": {},
   "source": [
    "### Bilanciamento"
   ]
  },
  {
   "cell_type": "markdown",
   "id": "03225939-3adf-4bc3-9552-da83eecf70fb",
   "metadata": {},
   "source": [
    "I dati sono troppo sbilanciati, provo a bilanciare il set."
   ]
  },
  {
   "cell_type": "code",
   "execution_count": 24,
   "id": "b6f8e1b0-84f6-42a0-8196-26bfa4b4c70b",
   "metadata": {
    "tags": []
   },
   "outputs": [],
   "source": [
    "test = df[df.couples.isin(gene_pairs_test_filtered)].reset_index(drop = True)\n",
    "val = df[df.couples.isin(gene_pairs_val_filtered)].reset_index(drop = True)\n",
    "train = df[df.couples.isin(gene_pairs_train_filtered)].reset_index(drop = True)"
   ]
  },
  {
   "cell_type": "code",
   "execution_count": 25,
   "id": "56b7db69-e8cb-463c-b1e8-e46e443d755b",
   "metadata": {},
   "outputs": [],
   "source": [
    "def balance(df):\n",
    "    true = list(set(df[df.there_is_interaction == True].couples))\n",
    "    false = list(set(df[df.there_is_interaction == False].couples))\n",
    "    n_true = len(true)\n",
    "    false_sample = random.sample( false, n_true)\n",
    "    return true + false_sample\n",
    "\n",
    "gene_pairs_train_filtered = balance(train)\n",
    "gene_pairs_val_filtered = balance(val)\n",
    "gene_pairs_test_filtered = balance(test)"
   ]
  },
  {
   "cell_type": "code",
   "execution_count": 26,
   "id": "0ac28510-460c-4cdb-9a0a-831f0b728251",
   "metadata": {},
   "outputs": [
    {
     "name": "stdout",
     "output_type": "stream",
     "text": [
      "26360\n",
      "856\n",
      "1752\n"
     ]
    }
   ],
   "source": [
    "print(len(gene_pairs_train_filtered))\n",
    "print(len(gene_pairs_val_filtered))\n",
    "print(len(gene_pairs_test_filtered))"
   ]
  },
  {
   "cell_type": "code",
   "execution_count": 27,
   "id": "78c74864-43c7-4de8-91f7-f64256062486",
   "metadata": {},
   "outputs": [],
   "source": [
    "def check_intersection(split, split_un):\n",
    "    split = set(split)\n",
    "    split_un = set(split_un)\n",
    "    intersection = split.intersection(split_un)\n",
    "    return len(split) == len(intersection)\n",
    "    \n",
    "assert check_intersection(gene_pairs_train_filtered, gene_pairs_train_filtered_un)\n",
    "assert check_intersection(gene_pairs_val_filtered, gene_pairs_val_filtered_un)\n",
    "assert check_intersection(gene_pairs_test_filtered, gene_pairs_test_filtered_un)"
   ]
  },
  {
   "cell_type": "markdown",
   "id": "a9755d35-2e58-42fb-b878-1e5b4f3aeafd",
   "metadata": {
    "tags": []
   },
   "source": [
    "### Export balanced new lists of train, test, val"
   ]
  },
  {
   "cell_type": "code",
   "execution_count": 28,
   "id": "eb1665f9-8614-4689-b777-441e8f9ffe1e",
   "metadata": {},
   "outputs": [],
   "source": [
    "new_file_train = os.path.join(rna_rna_files_dir, \"gene_pairs_training_random_filtered.txt\")\n",
    "new_file_test =  os.path.join(rna_rna_files_dir, \"gene_pairs_test_random_filtered.txt\")\n",
    "new_file_val = os.path.join(rna_rna_files_dir, \"gene_pairs_val_random_filtered.txt\")\n",
    "\n",
    "with open(new_file_train, \"wb\") as fp: #Pickling\n",
    "    pickle.dump(gene_pairs_train_filtered, fp)\n",
    "\n",
    "with open(new_file_val, \"wb\") as fp: #Pickling\n",
    "    pickle.dump(gene_pairs_val_filtered, fp)\n",
    "    \n",
    "with open(new_file_test, \"wb\") as fp: #Pickling\n",
    "    pickle.dump(gene_pairs_test_filtered, fp)"
   ]
  }
 ],
 "metadata": {
  "kernelspec": {
   "display_name": "Python 3 (ipykernel)",
   "language": "python",
   "name": "python3"
  },
  "language_info": {
   "codemirror_mode": {
    "name": "ipython",
    "version": 3
   },
   "file_extension": ".py",
   "mimetype": "text/x-python",
   "name": "python",
   "nbconvert_exporter": "python",
   "pygments_lexer": "ipython3",
   "version": "3.9.7"
  }
 },
 "nbformat": 4,
 "nbformat_minor": 5
}
