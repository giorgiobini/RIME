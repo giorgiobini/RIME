{
 "cells": [
  {
   "cell_type": "code",
   "execution_count": 1,
   "id": "aa8ae948",
   "metadata": {},
   "outputs": [
    {
     "name": "stdout",
     "output_type": "stream",
     "text": [
      "============================================================\n",
      "<class 'transformers.tokenization_dna.DNATokenizer'>\n"
     ]
    }
   ],
   "source": [
    "its_jupyter_notebook = True\n",
    "# %load_ext autoreload\n",
    "# %autoreload 2\n",
    "\n",
    "import pandas as pd\n",
    "import os\n",
    "import time\n",
    "import numpy as np\n",
    "import seaborn as sns\n",
    "import pickle\n",
    "import torch\n",
    "from tqdm.notebook import tqdm\n",
    "from pathlib import Path\n",
    "import argparse\n",
    "import math\n",
    "from scipy import stats\n",
    "import copy\n",
    "import matplotlib.pyplot as plt\n",
    "import sys\n",
    "from sklearn.metrics import classification_report, roc_curve, roc_auc_score, auc, accuracy_score\n",
    "from sklearn.model_selection import train_test_split\n",
    "from sklearn.linear_model import LogisticRegression\n",
    "from mpl_toolkits.axes_grid1 import make_axes_locatable\n",
    "\n",
    "sys.path.insert(0, '..')\n",
    "\n",
    "from util.evaluation import ModelResultsManager, calculate_correlations, balancing_only_for_one_task, obtain_all_model_auc, remove_outliers, map_thermodynamic_columns, obtain_df_auc, replace_outliers_with_nan_and_make_positive, obtain_sr_nosr, map_dataset_to_hp\n",
    "from util.plot_utils import npv_precision, plot_sr_distributions, calc_metric, plot_tnr_based_on_distance_for_our_model, collect_results_based_on_topbottom_for_all_models, plot_results_based_on_topbottom_for_all_models, plot_results_how_many_repeats_in_pred_pos_for_all_models, plot_metric_confidence_for_all_models, plot_tnr_based_on_distance_for_all_models, plot_confidence_based_on_distance_for_all_models, plot_tnr_for_all_models, quantile_bins, plot_features_vs_risearch2_confidence, plot_heatmap, plot_tnr_recall_for_all_models, plot_correlation_nreads_prob_intsize\n",
    "from util.model_names_map import map_model_names\n",
    "from run_compare_models import load_results_new\n",
    "#from run_compare_models import load_results_new\n",
    "\n",
    "from config import *\n",
    "from models.nt_classifier import build as build_model \n",
    "if its_jupyter_notebook:\n",
    "    sys.argv = [''] #Remove this if it's not a jupyter notebook!\n",
    "    \n",
    "external_dataset_dir = os.path.join(dataset_files_dir, 'external_dataset', '200_test_tables')"
   ]
  },
  {
   "cell_type": "code",
   "execution_count": 2,
   "id": "22d20f62-e98c-4f82-8ca6-3cb19d532364",
   "metadata": {},
   "outputs": [],
   "source": [
    "checkpoint_dir_paths = []\n",
    "\n",
    "chkpt_folder = os.path.join(ROOT_DIR, 'checkpoints')\n",
    "\n",
    "models_to_check = os.listdir(chkpt_folder)\n",
    "for model_name in models_to_check:\n",
    "    model_folder = os.path.join(chkpt_folder, model_name)\n",
    "    test_paris = os.path.join(chkpt_folder, model_name, 'test_results200.csv')\n",
    "    ricseq = os.path.join(chkpt_folder, model_name, 'ricseq_results200.csv')\n",
    "    splash = os.path.join(chkpt_folder, model_name, 'splash_results200.csv')\n",
    "    mario = os.path.join(chkpt_folder, model_name, 'mario_results200.csv')\n",
    "\n",
    "    if os.path.exists(test_paris) & os.path.exists(ricseq) & os.path.exists(splash) & os.path.exists(mario):\n",
    "        checkpoint_dir_paths.append(model_folder)"
   ]
  },
  {
   "cell_type": "code",
   "execution_count": 3,
   "id": "d702c9eb-18aa-4790-be21-866127a41987",
   "metadata": {},
   "outputs": [],
   "source": [
    "for i in range(1, 2):\n",
    "    df, name_map = load_results_new(checkpoint_dir_paths[:i], chkpt_folder)"
   ]
  },
  {
   "cell_type": "code",
   "execution_count": 4,
   "id": "7c4e85d5-b6f1-4aac-b301-7c7d7cd96dac",
   "metadata": {},
   "outputs": [],
   "source": [
    "mean_aucHQ = df.filter(['auc_interactors_parisHQ', 'auc_patches_parisHQ', 'auc_interactors_ricseqHQ', 'auc_patches_ricseqHQ'], axis = 1).mean(axis = 1)\n",
    "\n",
    "mean_tnr = df.filter(['tnr_psoralen', 'tnr_ricseq', 'tnr_paris_mouse', 'tnr_mario'], axis = 1).mean(axis = 1)\n",
    "mean_prec = df.filter(['precision_psoralen', 'precision_ricseq', 'precision_paris_mouse', 'precision_mario'], axis = 1).mean(axis = 1)\n",
    "mean_recall = df.filter(['recall_psoralen', 'recall_ricseq', 'recall_paris_mouse', 'recall_mario'], axis = 1).mean(axis = 1)\n"
   ]
  },
  {
   "cell_type": "code",
   "execution_count": 5,
   "id": "f3654f46-ee10-49eb-a3e9-d755a7da4473",
   "metadata": {},
   "outputs": [
    {
     "data": {
      "text/plain": [
       "<matplotlib.collections.PathCollection at 0x7fde0453c7f0>"
      ]
     },
     "execution_count": 5,
     "metadata": {},
     "output_type": "execute_result"
    },
    {
     "data": {
      "image/png": "[encoded data removed]",
      "text/plain": [
       "<Figure size 432x288 with 1 Axes>"
      ]
     },
     "metadata": {
      "needs_background": "light"
     },
     "output_type": "display_data"
    }
   ],
   "source": [
    "plt.scatter(mean_tnr, mean_prec)"
   ]
  },
  {
   "cell_type": "code",
   "execution_count": 6,
   "id": "70d15530-a16f-49b8-ac3a-a6af450b4823",
   "metadata": {},
   "outputs": [
    {
     "data": {
      "text/plain": [
       "<matplotlib.collections.PathCollection at 0x7fde0443f880>"
      ]
     },
     "execution_count": 6,
     "metadata": {},
     "output_type": "execute_result"
    },
    {
     "data": {
      "image/png": "[encoded data removed]",
      "text/plain": [
       "<Figure size 432x288 with 1 Axes>"
      ]
     },
     "metadata": {
      "needs_background": "light"
     },
     "output_type": "display_data"
    }
   ],
   "source": [
    "plt.scatter(mean_aucHQ, mean_tnr)"
   ]
  },
  {
   "cell_type": "code",
   "execution_count": 20,
   "id": "c2e3048b-05d5-4e47-b412-e219bef598bb",
   "metadata": {},
   "outputs": [],
   "source": [
    "MIN_TNR = 70\n",
    "MIN_AUC = 76.5\n",
    "\n",
    "best_models = df[\n",
    "    (mean_tnr >= MIN_TNR) &\n",
    "    (mean_aucHQ >= MIN_AUC)\n",
    "]"
   ]
  },
  {
   "cell_type": "code",
   "execution_count": 21,
   "id": "14d92b64-e402-4f16-9b3f-d47717f162e3",
   "metadata": {},
   "outputs": [
    {
     "data": {
      "text/html": [
       "<div>\n",
       "<style scoped>\n",
       "    .dataframe tbody tr th:only-of-type {\n",
       "        vertical-align: middle;\n",
       "    }\n",
       "\n",
       "    .dataframe tbody tr th {\n",
       "        vertical-align: top;\n",
       "    }\n",
       "\n",
       "    .dataframe thead th {\n",
       "        text-align: right;\n",
       "    }\n",
       "</style>\n",
       "<table border=\"1\" class=\"dataframe\">\n",
       "  <thead>\n",
       "    <tr style=\"text-align: right;\">\n",
       "      <th></th>\n",
       "      <th>auc_interactors_parisHQ</th>\n",
       "      <th>auc_patches_parisHQ</th>\n",
       "      <th>auc_interactors_paris_mouse_HQ</th>\n",
       "      <th>auc_patches_paris_mouse_HQ</th>\n",
       "      <th>auc_interactors_ricseqHQ</th>\n",
       "      <th>auc_patches_ricseqHQ</th>\n",
       "    </tr>\n",
       "  </thead>\n",
       "  <tbody>\n",
       "    <tr>\n",
       "      <th>43</th>\n",
       "      <td>71.0</td>\n",
       "      <td>79.0</td>\n",
       "      <td>58.0</td>\n",
       "      <td>72.0</td>\n",
       "      <td>76.0</td>\n",
       "      <td>81.0</td>\n",
       "    </tr>\n",
       "    <tr>\n",
       "      <th>44</th>\n",
       "      <td>70.0</td>\n",
       "      <td>79.0</td>\n",
       "      <td>59.0</td>\n",
       "      <td>73.0</td>\n",
       "      <td>75.0</td>\n",
       "      <td>82.0</td>\n",
       "    </tr>\n",
       "    <tr>\n",
       "      <th>45</th>\n",
       "      <td>70.0</td>\n",
       "      <td>79.0</td>\n",
       "      <td>55.0</td>\n",
       "      <td>69.0</td>\n",
       "      <td>75.0</td>\n",
       "      <td>82.0</td>\n",
       "    </tr>\n",
       "    <tr>\n",
       "      <th>66</th>\n",
       "      <td>70.0</td>\n",
       "      <td>79.0</td>\n",
       "      <td>56.0</td>\n",
       "      <td>71.0</td>\n",
       "      <td>77.0</td>\n",
       "      <td>82.0</td>\n",
       "    </tr>\n",
       "  </tbody>\n",
       "</table>\n",
       "</div>"
      ],
      "text/plain": [
       "    auc_interactors_parisHQ  auc_patches_parisHQ  \\\n",
       "43                     71.0                 79.0   \n",
       "44                     70.0                 79.0   \n",
       "45                     70.0                 79.0   \n",
       "66                     70.0                 79.0   \n",
       "\n",
       "    auc_interactors_paris_mouse_HQ  auc_patches_paris_mouse_HQ  \\\n",
       "43                            58.0                        72.0   \n",
       "44                            59.0                        73.0   \n",
       "45                            55.0                        69.0   \n",
       "66                            56.0                        71.0   \n",
       "\n",
       "    auc_interactors_ricseqHQ  auc_patches_ricseqHQ  \n",
       "43                      76.0                  81.0  \n",
       "44                      75.0                  82.0  \n",
       "45                      75.0                  82.0  \n",
       "66                      77.0                  82.0  "
      ]
     },
     "execution_count": 21,
     "metadata": {},
     "output_type": "execute_result"
    }
   ],
   "source": [
    "best_models.filter([\n",
    "    'auc_interactors_parisHQ', 'auc_patches_parisHQ', \n",
    "    'auc_interactors_paris_mouse_HQ', 'auc_patches_paris_mouse_HQ',\n",
    "    'auc_interactors_ricseqHQ', 'auc_patches_ricseqHQ'\n",
    "], axis = 1)"
   ]
  },
  {
   "cell_type": "code",
   "execution_count": 22,
   "id": "1b5cde67-4aec-41bc-b06b-9d6c77872f25",
   "metadata": {},
   "outputs": [
    {
     "name": "stdout",
     "output_type": "stream",
     "text": [
      "43 /data01/giorgio/RNARNA-NT/checkpoints/arch2_PARISfinetuned_PARIStest0023_PARISfinetunedFPweight_PARIStest0057\n",
      "44 /data01/giorgio/RNARNA-NT/checkpoints/arch2_PARISfinetuned_PARIStest0023_PARISfinetunedFPweight_PARIStest0056\n",
      "45 /data01/giorgio/RNARNA-NT/checkpoints/arch2_PARISfinetuned_PARIStest0023_PARISfinetunedFPweight_PARIStest0063\n",
      "66 /data01/giorgio/RNARNA-NT/checkpoints/arch2_PARISfinetuned_PARIStest0023_PARISfinetunedFPweight_PARIStest0086\n"
     ]
    }
   ],
   "source": [
    "for _, row in best_models.iterrows():\n",
    "    print(_, name_map[row.model])"
   ]
  },
  {
   "cell_type": "code",
   "execution_count": null,
   "id": "52cd40d2-08af-4c09-b558-22e69ebaacb3",
   "metadata": {},
   "outputs": [],
   "source": []
  }
 ],
 "metadata": {
  "kernelspec": {
   "display_name": "Python 3 (ipykernel)",
   "language": "python",
   "name": "python3"
  },
  "language_info": {
   "codemirror_mode": {
    "name": "ipython",
    "version": 3
   },
   "file_extension": ".py",
   "mimetype": "text/x-python",
   "name": "python",
   "nbconvert_exporter": "python",
   "pygments_lexer": "ipython3",
   "version": "3.9.7"
  }
 },
 "nbformat": 4,
 "nbformat_minor": 5
}
