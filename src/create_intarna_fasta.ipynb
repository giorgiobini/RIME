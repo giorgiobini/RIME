{
 "cells": [
  {
   "cell_type": "markdown",
   "id": "adae8967",
   "metadata": {
    "tags": []
   },
   "source": [
    "# Code"
   ]
  },
  {
   "cell_type": "code",
   "execution_count": 1,
   "id": "563c7461",
   "metadata": {},
   "outputs": [],
   "source": [
    "import pandas as pd\n",
    "import os\n",
    "import numpy as np\n",
    "import pickle\n",
    "import sys\n",
    "from tqdm.notebook import tqdm\n",
    "sys.path.insert(0, '..')\n",
    "from config import *"
   ]
  },
  {
   "cell_type": "code",
   "execution_count": 2,
   "id": "a0599507-8135-4c3a-bcd2-10ee6a2bf7d7",
   "metadata": {},
   "outputs": [],
   "source": [
    "RANDOM = True"
   ]
  },
  {
   "cell_type": "code",
   "execution_count": 2,
   "id": "eeb11609",
   "metadata": {},
   "outputs": [],
   "source": [
    "df_nt = pd.read_csv(os.path.join(metadata_dir,  f'df_nt.csv'))\n",
    "df_genes_nt = pd.read_csv(os.path.join(metadata_dir, f'df_genes_nt.csv'))   "
   ]
  },
  {
   "cell_type": "markdown",
   "id": "51d237ae-28e8-47c8-bd4d-d9afe5618066",
   "metadata": {},
   "source": [
    "# Test 500 nucleotides"
   ]
  },
  {
   "cell_type": "code",
   "execution_count": 3,
   "id": "ede01d82-2927-4ee8-962c-22b82ecddbf0",
   "metadata": {},
   "outputs": [],
   "source": [
    "test_500 = pd.read_csv(os.path.join(metadata_dir, 'test500.csv'))\n",
    "save_dir = os.path.join(intarna_dir, 'test500')"
   ]
  },
  {
   "cell_type": "code",
   "execution_count": 4,
   "id": "afe21af3-acc2-411c-baeb-5850a1436c86",
   "metadata": {},
   "outputs": [],
   "source": [
    "# save_dir = os.path.join(intarna_dir, 'toy500')\n",
    "\n",
    "# if not os.path.exists(save_dir):\n",
    "#     # If it doesn't exist, create it\n",
    "#     os.makedirs(save_dir)\n",
    "    \n",
    "# rna1 = open(os.path.join(save_dir, 'rna1.fasta'), \"a\")\n",
    "# rna2 = open(os.path.join(save_dir, 'rna2.fasta'), \"a\")\n",
    "\n",
    "# for _, row in tqdm(test_500.head(500).iterrows()):\n",
    "#     name1 = str(row.couples) + '_' + 'rna1'\n",
    "#     name2 = str(row.couples) + '_' + 'rna2'\n",
    "#     rna1.write(\">\" + name1 + \"\\n\" + row.cdna1 + \"\\n\")\n",
    "#     rna2.write(\">\" + name2 + \"\\n\" + row.cdna2 + \"\\n\")\n",
    "# rna1.close()\n",
    "# rna2.close()"
   ]
  },
  {
   "cell_type": "code",
   "execution_count": 5,
   "id": "3334f895-b080-4aef-888f-9836434fd639",
   "metadata": {},
   "outputs": [
    {
     "data": {
      "application/vnd.jupyter.widget-view+json": {
       "model_id": "37f4edf94b844f1eb0236e2218695d94",
       "version_major": 2,
       "version_minor": 0
      },
      "text/plain": [
       "0it [00:00, ?it/s]"
      ]
     },
     "metadata": {},
     "output_type": "display_data"
    }
   ],
   "source": [
    "if not os.path.exists(save_dir):\n",
    "    # If it doesn't exist, create it\n",
    "    os.makedirs(save_dir)\n",
    "    \n",
    "rna1 = open(os.path.join(save_dir, 'rna1.fasta'), \"a\")\n",
    "rna2 = open(os.path.join(save_dir, 'rna2.fasta'), \"a\")\n",
    "\n",
    "for _, row in tqdm(test_500.iterrows()):\n",
    "    name1 = str(row.couples) + '_' + 'rna1'\n",
    "    name2 = str(row.couples) + '_' + 'rna2'\n",
    "    rna1.write(\">\" + name1 + \"\\n\" + row.cdna1 + \"\\n\")\n",
    "    rna2.write(\">\" + name2 + \"\\n\" + row.cdna2 + \"\\n\")\n",
    "    \n",
    "rna1.close()\n",
    "rna2.close()"
   ]
  },
  {
   "cell_type": "markdown",
   "id": "7c1fd906-cd61-4d5a-83a9-9977074a97fe",
   "metadata": {},
   "source": [
    "# Val 500 nucleotides"
   ]
  },
  {
   "cell_type": "code",
   "execution_count": 6,
   "id": "50cd7545-7632-46fe-878f-791ea88d30b4",
   "metadata": {},
   "outputs": [],
   "source": [
    "val_500 = pd.read_csv(os.path.join(metadata_dir, 'val500.csv'))\n",
    "save_dir = os.path.join(intarna_dir, 'val500')"
   ]
  },
  {
   "cell_type": "code",
   "execution_count": 7,
   "id": "cbda8b4c-a546-488d-8e3f-968364e47e3e",
   "metadata": {},
   "outputs": [
    {
     "data": {
      "application/vnd.jupyter.widget-view+json": {
       "model_id": "33ec6b57f29b4e43b43c96cd02cee705",
       "version_major": 2,
       "version_minor": 0
      },
      "text/plain": [
       "0it [00:00, ?it/s]"
      ]
     },
     "metadata": {},
     "output_type": "display_data"
    }
   ],
   "source": [
    "if not os.path.exists(save_dir):\n",
    "    # If it doesn't exist, create it\n",
    "    os.makedirs(save_dir)\n",
    "    \n",
    "rna1 = open(os.path.join(save_dir, 'rna1.fasta'), \"a\")\n",
    "rna2 = open(os.path.join(save_dir, 'rna2.fasta'), \"a\")\n",
    "\n",
    "for _, row in tqdm(val_500.iterrows()):\n",
    "    name1 = str(row.couples) + '_' + 'rna1'\n",
    "    name2 = str(row.couples) + '_' + 'rna2'\n",
    "    rna1.write(\">\" + name1 + \"\\n\" + row.cdna1 + \"\\n\")\n",
    "    rna2.write(\">\" + name2 + \"\\n\" + row.cdna2 + \"\\n\")\n",
    "    \n",
    "rna1.close()\n",
    "rna2.close()"
   ]
  },
  {
   "cell_type": "markdown",
   "id": "3d558d7f-4d03-412d-9ca8-d90340559c22",
   "metadata": {},
   "source": [
    "# RICSEQ-MARIO 500 nucleotides"
   ]
  },
  {
   "cell_type": "code",
   "execution_count": 14,
   "id": "ce5be60e-297c-4364-845e-68b6272f9fe3",
   "metadata": {},
   "outputs": [],
   "source": [
    "how = 'ricseq'\n",
    "assert how in ['mario', 'ricseq', 'splash']"
   ]
  },
  {
   "cell_type": "code",
   "execution_count": 15,
   "id": "8f8a8b75-cf75-4fc5-a904-1529befad9f2",
   "metadata": {},
   "outputs": [],
   "source": [
    "df_nt = pd.read_csv(os.path.join(metadata_dir, f'df_nt_{how}.csv'))\n",
    "df_genes_nt = pd.read_csv(os.path.join(metadata_dir, f'df_genes_nt_{how}.csv')) \n",
    "\n",
    "val_500 = pd.read_csv(os.path.join(metadata_dir, f'{how}500.csv'))\n",
    "save_dir = os.path.join(intarna_dir, f'{how}500_RANDOM')"
   ]
  },
  {
   "cell_type": "code",
   "execution_count": 16,
   "id": "adc0d4bf-2b41-404a-81ee-cbe35d68c3d7",
   "metadata": {},
   "outputs": [
    {
     "data": {
      "application/vnd.jupyter.widget-view+json": {
       "model_id": "f3c78d9372a24f0687d4e53218065dca",
       "version_major": 2,
       "version_minor": 0
      },
      "text/plain": [
       "0it [00:00, ?it/s]"
      ]
     },
     "metadata": {},
     "output_type": "display_data"
    }
   ],
   "source": [
    "if not os.path.exists(save_dir):\n",
    "    # If it doesn't exist, create it\n",
    "    os.makedirs(save_dir)\n",
    "    \n",
    "rna1 = open(os.path.join(save_dir, 'rna1.fasta'), \"a\")\n",
    "rna2 = open(os.path.join(save_dir, 'rna2.fasta'), \"a\")\n",
    "\n",
    "for _, row in tqdm(val_500.iterrows()):\n",
    "    name1 = str(row.couples) + '_' + 'rna1'\n",
    "    name2 = str(row.couples) + '_' + 'rna2'\n",
    "    rna1.write(\">\" + name1 + \"\\n\" + row.cdna1 + \"\\n\")\n",
    "    rna2.write(\">\" + name2 + \"\\n\" + row.cdna2 + \"\\n\")\n",
    "    \n",
    "rna1.close()\n",
    "rna2.close()"
   ]
  },
  {
   "cell_type": "markdown",
   "id": "8e12fcc1-a39a-4660-b3fb-567fbdc003df",
   "metadata": {},
   "source": [
    "# This is what we need if we want to create fasta for full length pairs"
   ]
  },
  {
   "cell_type": "code",
   "execution_count": null,
   "id": "10f445e8-b683-4031-bb24-1dbebf19d4f1",
   "metadata": {},
   "outputs": [],
   "source": [
    "df_query = pd.read_csv(os.path.join(metadata_dir, 'embedding_query.csv'))"
   ]
  },
  {
   "cell_type": "code",
   "execution_count": 3,
   "id": "ba24f994-3c20-48ed-9d98-a25e64ea730a",
   "metadata": {},
   "outputs": [],
   "source": [
    "subset_test_nt = os.path.join(rna_rna_files_dir, f\"gene_pairs_test_nt.txt\")\n",
    "\n",
    "with open(subset_test_nt, \"rb\") as fp:  # Unpickling\n",
    "    subset_test_nt = pickle.load(fp)"
   ]
  },
  {
   "cell_type": "code",
   "execution_count": 4,
   "id": "f8693982-a4a7-4015-8f1c-db1209d900bc",
   "metadata": {},
   "outputs": [],
   "source": [
    "df = df_nt[df_nt.couples.isin(subset_test_nt)]\n",
    "\n",
    "n = df.shape[0]\n",
    "\n",
    "df = df.filter(['couples', 'gene1', 'gene2', 'interacting'])\n",
    "\n",
    "df = df.merge(df_query, left_on = 'gene1', right_on = 'id_query').drop('id_query', axis = 1).rename({'cdna': 'cdna1'} , axis =1 )\n",
    "df = df.merge(df_query, left_on = 'gene2', right_on = 'id_query').drop('id_query', axis = 1).rename({'cdna': 'cdna2'} , axis =1 )\n",
    "\n",
    "assert df.shape[0] == n"
   ]
  },
  {
   "cell_type": "code",
   "execution_count": 5,
   "id": "ab79c50f-96dd-43c5-85cd-ea4a9478863a",
   "metadata": {},
   "outputs": [
    {
     "data": {
      "application/vnd.jupyter.widget-view+json": {
       "model_id": "f46f1dbda7ef4cd9a83b6958232b5d64",
       "version_major": 2,
       "version_minor": 0
      },
      "text/plain": [
       "0it [00:00, ?it/s]"
      ]
     },
     "metadata": {},
     "output_type": "display_data"
    }
   ],
   "source": [
    "save_dir = os.path.join(intarna_dir, 'toy')\n",
    "\n",
    "if not os.path.exists(save_dir):\n",
    "    # If it doesn't exist, create it\n",
    "    os.makedirs(save_dir)\n",
    "\n",
    "rna1 = open(os.path.join(save_dir, 'rna1.fasta'), \"a\")\n",
    "rna2 = open(os.path.join(save_dir, 'rna2.fasta'), \"a\")\n",
    "\n",
    "for _, row in tqdm(df.head(20).iterrows()):\n",
    "    name1 = str(row.couples) + '_' + 'rna1'\n",
    "    name2 = str(row.couples) + '_' + 'rna2'\n",
    "    rna1.write(\">\" + name1 + \"\\n\" + row.cdna1 + \"\\n\")\n",
    "    rna2.write(\">\" + name2 + \"\\n\" + row.cdna2 + \"\\n\")\n",
    "rna1.close()\n",
    "rna2.close()"
   ]
  },
  {
   "cell_type": "code",
   "execution_count": 58,
   "id": "f73be42b-78ab-49e3-95ab-6b4b07d1c8bd",
   "metadata": {},
   "outputs": [
    {
     "data": {
      "application/vnd.jupyter.widget-view+json": {
       "model_id": "5e84acd521324089aeaaba0db0b0c943",
       "version_major": 2,
       "version_minor": 0
      },
      "text/plain": [
       "  0%|          | 0/45398 [00:00<?, ?it/s]"
      ]
     },
     "metadata": {},
     "output_type": "display_data"
    }
   ],
   "source": [
    "save_dir = os.path.join(intarna_dir, 'test')\n",
    "\n",
    "if not os.path.exists(save_dir):\n",
    "    # If it doesn't exist, create it\n",
    "    os.makedirs(save_dir)\n",
    "\n",
    "rna1 = open(os.path.join(save_dir, 'rna1.fasta'), \"a\")\n",
    "rna2 = open(os.path.join(save_dir, 'rna2.fasta'), \"a\")\n",
    "\n",
    "for _, row in tqdm(df.iterrows(), total = len(df)):\n",
    "    name1 = str(row.couples) + ' ' + row.gene1 + ' ' + str(row.interacting)\n",
    "    name2 = str(row.couples) + ' ' + row.gene2 + ' ' + str(row.interacting)\n",
    "    rna1.write(\">\" + name1 + \"\\n\" + row.cdna1 + \"\\n\")\n",
    "    rna2.write(\">\" + name2 + \"\\n\" + row.cdna2 + \"\\n\")\n",
    "rna1.close()\n",
    "rna2.close()"
   ]
  }
 ],
 "metadata": {
  "kernelspec": {
   "display_name": "Python 3 (ipykernel)",
   "language": "python",
   "name": "python3"
  },
  "language_info": {
   "codemirror_mode": {
    "name": "ipython",
    "version": 3
   },
   "file_extension": ".py",
   "mimetype": "text/x-python",
   "name": "python",
   "nbconvert_exporter": "python",
   "pygments_lexer": "ipython3",
   "version": "3.9.7"
  }
 },
 "nbformat": 4,
 "nbformat_minor": 5
}
