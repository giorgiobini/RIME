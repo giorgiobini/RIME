{
 "cells": [
  {
   "cell_type": "code",
   "execution_count": 6,
   "metadata": {
    "collapsed": false,
    "jupyter": {
     "outputs_hidden": false
    }
   },
   "outputs": [],
   "source": [
    "import pandas as pd\n",
    "import os\n",
    "import time\n",
    "import numpy as np\n",
    "import seaborn as sns\n",
    "import pickle\n",
    "import torch\n",
    "from pathlib import Path\n",
    "import argparse\n",
    "import math\n",
    "import matplotlib.patches as patches\n",
    "from scipy import stats\n",
    "from Bio import SeqIO\n",
    "import matplotlib.pyplot as plt\n",
    "from IPython.display import Image, display\n",
    "from tqdm.notebook import tqdm\n",
    "import sys\n",
    "import matplotlib.image as mpimg\n",
    "from sklearn.metrics import classification_report, roc_curve, roc_auc_score, auc\n",
    "\n",
    "sys.path.insert(0, '..')\n",
    "\n",
    "from util.xai import gradcam, interpolate_expl_matrix, plot_matrix\n",
    "from config import *\n",
    "from util.evaluation import ModelResultsManager, calculate_correlations, balancing_only_for_one_task, obtain_all_model_auc, remove_outliers, map_thermodynamic_columns, obtain_df_auc, replace_outliers_with_nan_and_make_positive, obtain_sr_nosr, map_dataset_to_hp\n",
    "from models.nt_classifier import build as build_model \n",
    "from util.plot_utils import obtain_plot, plot_logs, collect_results_based_on_confidence_level_how_many1, acc_for_each_class\n",
    "from util.plot_utils import collect_results_based_on_confidence_level_based_on_percentile as collect_results_based_on_confidence_level\n",
    "from train_binary_cl import (\n",
    "    get_args_parser,\n",
    ")\n",
    "\n",
    "from dataset.data import (\n",
    "    FindSplits,\n",
    "    RNADatasetInference\n",
    ")"
   ]
  },
  {
   "cell_type": "code",
   "execution_count": 7,
   "metadata": {},
   "outputs": [],
   "source": [
    "external_dataset_files_dir = os.path.join(ROOT_DIR, \"dataset\", \"external_dataset\")\n",
    "windows_dir = os.path.join(external_dataset_files_dir, \"windows\")"
   ]
  },
  {
   "cell_type": "code",
   "execution_count": 8,
   "metadata": {},
   "outputs": [],
   "source": [
    "def collect_result(rna1, rna2, model):\n",
    "    rna1, rna2 = rna1.to(device), rna2.to(device)\n",
    "    outputs = model(rna1, rna2)\n",
    "    probability = float(outputs.softmax(-1)[:, 1])\n",
    "    return probability\n",
    "\n",
    "def make_plot(heatmap_data, interacting_regions, x_range, y_range, rna1_name='RNA1', rna2_name='RNA2', model_name = 'NT', savepath = '', show_plot = False):\n",
    "    # Create a DataFrame for the heatmap\n",
    "    heatmap_df = pd.DataFrame(heatmap_data, columns=x_range, index=y_range)\n",
    "\n",
    "    # Create a custom color map (cmap) that goes from 0 (blue) to 1 (red)\n",
    "    cmap = sns.diverging_palette(250, 10, as_cmap=True)\n",
    "\n",
    "    # Create the heatmap using Seaborn\n",
    "    plt.figure(figsize=(12, 6))\n",
    "    sns.heatmap(heatmap_df, cmap=cmap, cbar=True, vmin=0, vmax=1)\n",
    "\n",
    "    for x1_real, width, y1_real, height in interacting_regions:\n",
    "        rect = patches.Rectangle((x1_real, y1_real), width, height, linewidth=1.5, edgecolor='black', facecolor='none')\n",
    "        plt.gca().add_patch(rect)\n",
    "\n",
    "    # Set axis labels and title\n",
    "    plt.xlabel(rna1_name)\n",
    "    plt.ylabel(rna2_name)\n",
    "    plt.title(f'{model_name} Intensity of prob for Each Window')\n",
    "    \n",
    "    if savepath:\n",
    "        plt.savefig(savepath)\n",
    "\n",
    "    if show_plot:\n",
    "        # Show the plot\n",
    "        plt.show()"
   ]
  },
  {
   "cell_type": "code",
   "execution_count": 9,
   "metadata": {},
   "outputs": [],
   "source": [
    "sys.argv = ['']\n",
    "parser = argparse.ArgumentParser('Training', parents=[get_args_parser()])\n",
    "args = parser.parse_args()\n",
    "\n",
    "model_name  = 'arch2_PARISfinetuned_PARIStest0023_PARISfinetunedFPweight_PARIStest0086'\n",
    "\n",
    "# OR LIKE THIS?\n",
    "checkpoint_dir = os.path.join(ROOT_DIR, 'checkpoints', f'/data01/giorgio/RNARNA-NT/checkpoints/{model_name}')\n",
    "with open(os.path.join(checkpoint_dir, 'args.pkl'), 'rb') as fp:\n",
    "    args = pickle.load(fp)"
   ]
  },
  {
   "cell_type": "code",
   "execution_count": 70,
   "metadata": {},
   "outputs": [
    {
     "name": "stderr",
     "output_type": "stream",
     "text": [
      "/data01/giorgio/ENTER/envs/dnabert/lib/python3.9/site-packages/torch/nn/init.py:388: UserWarning: Initializing zero-element tensors is a no-op\n",
      "  warnings.warn(\"Initializing zero-element tensors is a no-op\")\n"
     ]
    },
    {
     "data": {
      "text/plain": [
       "BinaryClassifierNT2(\n",
       "  (nt_projection_module): NTProjectionModule(\n",
       "    (conv1d): Conv1d(2560, 0, kernel_size=(1,), stride=(1,))\n",
       "    (bn): BatchNorm1d(2560, eps=1e-05, momentum=0.1, affine=True, track_running_stats=True)\n",
       "  )\n",
       "  (top_classifier): MLP(\n",
       "    (input_layer): Sequential(\n",
       "      (0): LayerNorm((5120,), eps=1e-05, elementwise_affine=True)\n",
       "      (1): Linear(in_features=5120, out_features=512, bias=True)\n",
       "    )\n",
       "    (hidden_layers): ModuleList()\n",
       "    (output_layer): Linear(in_features=512, out_features=800, bias=True)\n",
       "    (activation_functions): ModuleList(\n",
       "      (0): Tanh()\n",
       "    )\n",
       "    (dropout_layers): ModuleList(\n",
       "      (0): Dropout(p=0.01, inplace=False)\n",
       "    )\n",
       "  )\n",
       "  (small_cnn): SmallCNN(\n",
       "    (conv1): Conv2d(800, 300, kernel_size=(2, 2), stride=(1, 1))\n",
       "    (conv2): Conv2d(300, 300, kernel_size=(1, 1), stride=(1, 1))\n",
       "    (relu): ReLU()\n",
       "    (maxpool2d): MaxPool2d(kernel_size=1, stride=1, padding=0, dilation=1, ceil_mode=False)\n",
       "    (tanh): Tanh()\n",
       "    (global_avg_pool): AdaptiveAvgPool2d(output_size=1)\n",
       "    (fc): Linear(in_features=300, out_features=300, bias=True)\n",
       "    (output_layer): Linear(in_features=300, out_features=2, bias=True)\n",
       "  )\n",
       ")"
      ]
     },
     "execution_count": 70,
     "metadata": {},
     "output_type": "execute_result"
    }
   ],
   "source": [
    "DEVICE = 'cuda' #cpu, cuda\n",
    "\n",
    "args_path = os.path.join(checkpoint_dir, 'args.pkl')\n",
    "\n",
    "# Load the args namespace from the file\n",
    "with open(args_path, 'rb') as f:\n",
    "    args_dict = pickle.load(f)\n",
    "\n",
    "# Convert the dictionary to an argparse.Namespace object\n",
    "args = argparse.Namespace(**args_dict)\n",
    "args.resume = os.path.join(checkpoint_dir, 'best_model.pth') # best_model\n",
    "\n",
    "device = torch.device(DEVICE)\n",
    "model = build_model(args)\n",
    "\n",
    "checkpoint = torch.load(args.resume, map_location='cpu')\n",
    "model.load_state_dict(checkpoint['model'])\n",
    "\n",
    "model.to(device)\n",
    "model.eval()"
   ]
  },
  {
   "cell_type": "markdown",
   "metadata": {},
   "source": [
    "### Paoletto"
   ]
  },
  {
   "cell_type": "code",
   "execution_count": 11,
   "metadata": {},
   "outputs": [],
   "source": [
    "paoletto_dir = '/data01/giorgio/RNARNA-NT/dataset/external_dataset/paoletto/'\n",
    "embedding_dir =  os.path.join(paoletto_dir,'embeddings','32')\n",
    "\n",
    "output_dir = os.path.join(paoletto_dir, 'output')\n",
    "if os.path.isdir(output_dir) == False:\n",
    "    os.mkdir(output_dir)"
   ]
  },
  {
   "cell_type": "code",
   "execution_count": 55,
   "metadata": {},
   "outputs": [],
   "source": [
    "seq = pd.read_csv(os.path.join(paoletto_dir, 'seq.csv'))\n",
    "seq['len'] = seq.cdna.apply(lambda x: len(x))"
   ]
  },
  {
   "cell_type": "code",
   "execution_count": 60,
   "metadata": {},
   "outputs": [
    {
     "data": {
      "text/html": [
       "<div>\n",
       "<style scoped>\n",
       "    .dataframe tbody tr th:only-of-type {\n",
       "        vertical-align: middle;\n",
       "    }\n",
       "\n",
       "    .dataframe tbody tr th {\n",
       "        vertical-align: top;\n",
       "    }\n",
       "\n",
       "    .dataframe thead th {\n",
       "        text-align: right;\n",
       "    }\n",
       "</style>\n",
       "<table border=\"1\" class=\"dataframe\">\n",
       "  <thead>\n",
       "    <tr style=\"text-align: right;\">\n",
       "      <th></th>\n",
       "      <th>id_query</th>\n",
       "      <th>cdna</th>\n",
       "      <th>len</th>\n",
       "    </tr>\n",
       "  </thead>\n",
       "  <tbody>\n",
       "    <tr>\n",
       "      <th>0</th>\n",
       "      <td>1a</td>\n",
       "      <td>AAAAGTTTGCCGGCTTCCGCAGTGATGGATCACCGTTTTAGTGGCA...</td>\n",
       "      <td>1068</td>\n",
       "    </tr>\n",
       "    <tr>\n",
       "      <th>1</th>\n",
       "      <td>1b</td>\n",
       "      <td>GCATTAATAGTAATACAGATAACGGGTTTGAAAGAATTCTCTACTG...</td>\n",
       "      <td>6927</td>\n",
       "    </tr>\n",
       "    <tr>\n",
       "      <th>2</th>\n",
       "      <td>1c</td>\n",
       "      <td>TTAAACCCCCTTCAAGGAAAAGCAAAACAAAACTGCTGCCTCATTT...</td>\n",
       "      <td>9208</td>\n",
       "    </tr>\n",
       "    <tr>\n",
       "      <th>3</th>\n",
       "      <td>2a</td>\n",
       "      <td>CTGTTAACTCCTCACCGTCAGCCTCCGAGACCATGATCATTCTCCC...</td>\n",
       "      <td>631</td>\n",
       "    </tr>\n",
       "    <tr>\n",
       "      <th>4</th>\n",
       "      <td>2b</td>\n",
       "      <td>GATTTTTGACGATTCCTTCCCTGAGAAGAGGGCGAGGAGAAGAAGA...</td>\n",
       "      <td>2099</td>\n",
       "    </tr>\n",
       "  </tbody>\n",
       "</table>\n",
       "</div>"
      ],
      "text/plain": [
       "  id_query                                               cdna   len\n",
       "0       1a  AAAAGTTTGCCGGCTTCCGCAGTGATGGATCACCGTTTTAGTGGCA...  1068\n",
       "1       1b  GCATTAATAGTAATACAGATAACGGGTTTGAAAGAATTCTCTACTG...  6927\n",
       "2       1c  TTAAACCCCCTTCAAGGAAAAGCAAAACAAAACTGCTGCCTCATTT...  9208\n",
       "3       2a  CTGTTAACTCCTCACCGTCAGCCTCCGAGACCATGATCATTCTCCC...   631\n",
       "4       2b  GATTTTTGACGATTCCTTCCCTGAGAAGAGGGCGAGGAGAAGAAGA...  2099"
      ]
     },
     "execution_count": 60,
     "metadata": {},
     "output_type": "execute_result"
    }
   ],
   "source": [
    "seq"
   ]
  },
  {
   "cell_type": "code",
   "execution_count": 56,
   "metadata": {},
   "outputs": [],
   "source": [
    "new_rows = []\n",
    "\n",
    "new_rows.append({\n",
    "    'id_query': '1b_1',\n",
    "    'cdna': seq.iloc[1].cdna[:5970],\n",
    "    'len': len(seq.iloc[1].cdna[:5970])\n",
    "})\n",
    "\n",
    "new_rows.append({\n",
    "    'id_query': '1b_2',\n",
    "    'cdna': seq.iloc[1].cdna[1000:1000+5970],\n",
    "    'len': len(seq.iloc[1].cdna[1000:1000+5970])\n",
    "})\n",
    "\n",
    "new_rows.append({\n",
    "    'id_query':'1c_1',\n",
    "    'cdna': seq.iloc[2].cdna[:5970],\n",
    "    'len': len(seq.iloc[2].cdna[:5970])\n",
    "})\n",
    "\n",
    "new_rows.append({\n",
    "    'id_query':'1c_2',\n",
    "    'cdna': seq.iloc[2].cdna[2000:2000+5970],\n",
    "    'len': len(seq.iloc[2].cdna[2000:2000+5970])\n",
    "})\n",
    "\n",
    "new_rows.append({\n",
    "    'id_query':'1c_3',\n",
    "    'cdna': seq.iloc[2].cdna[4000:4000+5970],\n",
    "    'len': len(seq.iloc[2].cdna[4000:4000+5970])\n",
    "})\n",
    "\n",
    "new_rows = pd.DataFrame(new_rows)\n",
    "embs=pd.concat([seq, new_rows], axis = 0)\n",
    "embs = embs[embs.len<=5970]\n",
    "embs.to_csv(os.path.join(paoletto_dir, 'embedding_query.csv'))"
   ]
  },
  {
   "cell_type": "markdown",
   "metadata": {},
   "source": [
    "### NOW DOWNLOAD EMBEDDINGS\n",
    "nohup python download_embeddings.py --batch_size=1 --path_to_embedding_query_dir=/data01/giorgio/RNARNA-NT/dataset/external_dataset/paoletto/ --embedding_dir=/data01/giorgio/RNARNA-NT/dataset/external_dataset/paoletto/embeddings &> download_embeddings.out &\n"
   ]
  },
  {
   "cell_type": "code",
   "execution_count": 64,
   "metadata": {},
   "outputs": [],
   "source": [
    "combinations = [\n",
    "    ['1a','1b_1'],\n",
    "    ['1a','1b_2'],\n",
    "    ['1a','1c_1'],\n",
    "    ['1a','1c_2'],\n",
    "    ['1a','1c_3'],\n",
    "    ['2a','2b'],\n",
    "]"
   ]
  },
  {
   "cell_type": "code",
   "execution_count": 72,
   "metadata": {},
   "outputs": [
    {
     "data": {
      "text/plain": [
       "'/data01/giorgio/RNARNA-NT/dataset/external_dataset/paoletto/embeddings/32'"
      ]
     },
     "execution_count": 72,
     "metadata": {},
     "output_type": "execute_result"
    }
   ],
   "source": [
    "embedding_dir"
   ]
  },
  {
   "cell_type": "code",
   "execution_count": 76,
   "metadata": {},
   "outputs": [],
   "source": [
    "STEP_SIZE = 200\n",
    "\n",
    "x1_start, y1_start = 0, 0\n",
    "\n",
    "for emb1_name,emb2_name in combinations:\n",
    "    id_sample = emb1_name + '_' + emb2_name\n",
    "    cdna1 = embs[embs.id_query == emb1_name].cdna.iloc[0]\n",
    "    cdna2 = embs[embs.id_query == emb2_name].cdna.iloc[0]\n",
    "    len1 = len(cdna1)\n",
    "    len2 = len(cdna2)\n",
    "    \n",
    "    emb1_path = os.path.join(embedding_dir, emb1_name + '.npy')\n",
    "    emb2_path = os.path.join(embedding_dir, emb2_name + '.npy')\n",
    "\n",
    "    assert os.path.isfile(emb1_path)\n",
    "    assert os.path.isfile(emb2_path)\n",
    "\n",
    "    emb1 = np.load(emb1_path)\n",
    "    emb2 = np.load(emb2_path)\n",
    "\n",
    "    # no overlap setup\n",
    "    step_size = STEP_SIZE\n",
    "    fs = FindSplits(max_size = step_size + 1)\n",
    "    gene1_coords = pd.Series(len1).apply(lambda x: fs.get_split_coords(length = x, step_size=step_size)).iloc[0]\n",
    "    gene2_coords = pd.Series(len2).apply(lambda x: fs.get_split_coords(length = x, step_size=step_size)).iloc[0]\n",
    "\n",
    "    coord_dict = {}\n",
    "\n",
    "    idx = 0\n",
    "\n",
    "    for (x1, x2) in gene1_coords:\n",
    "        \n",
    "        for (y1, y2) in gene2_coords:\n",
    "\n",
    "            cdna1_slice = cdna1[x1_start + x1: x1_start + x2]\n",
    "            cdna2_slice = cdna2[y1_start + y1: y1_start + y2]\n",
    "\n",
    "            assert len(cdna1_slice) == x2-x1\n",
    "            assert len(cdna2_slice) == y2-y1\n",
    "\n",
    "            x1_emb, x2_emb, y1_emb, y2_emb = x1//6, x2//6, y1//6, y2//6\n",
    "            embedding1 = emb1[x1_emb:x2_emb, :]\n",
    "            embedding2 = emb2[y1_emb:y2_emb, :]\n",
    "            rna1, rna2 =  torch.as_tensor(embedding1).unsqueeze(0), torch.as_tensor(embedding2).unsqueeze(0)\n",
    "            rna1, rna2 = torch.transpose(rna1, 1, 2), torch.transpose(rna2, 1, 2)\n",
    "            probability = collect_result(rna1, rna2, model)\n",
    "            coord_dict[idx] = {'x1': x1, 'x2':x2, 'y1':y1, 'y2':y2, 'prob':probability,\n",
    "                               'cdna1_slice':cdna1_slice, 'cdna2_slice':cdna2_slice}\n",
    "            idx += 1\n",
    "\n",
    "\n",
    "    result = pd.DataFrame.from_dict(coord_dict, 'index')\n",
    "\n",
    "    assert result.shape[0] > 0\n",
    "\n",
    "    dir_row = os.path.join(output_dir, str(id_sample))\n",
    "    if os.path.isdir(dir_row) == False:\n",
    "        os.mkdir(dir_row)\n",
    "\n",
    "    result.to_csv(os.path.join(dir_row, 'nt_result.csv'), index = False)"
   ]
  },
  {
   "cell_type": "markdown",
   "metadata": {},
   "source": [
    "# Let's read and save the results"
   ]
  },
  {
   "cell_type": "code",
   "execution_count": 179,
   "metadata": {},
   "outputs": [],
   "source": [
    "def merge_dataframes_and_calculate_mean(*dfs):\n",
    "    # Start with the first dataframe\n",
    "    final_df = dfs[0].copy()\n",
    "    \n",
    "    # Iterate through the rest of the dataframes\n",
    "    for i, df in enumerate(dfs[1:], start=1):\n",
    "        suffix = f'_new{i}'  # Suffix to ensure unique prob columns if we have more than two dataframes\n",
    "        # Merge on the common x1, x2, y1, y2\n",
    "        final_df = final_df.merge(df, on=['x1', 'x2', 'y1', 'y2'], how='outer', suffixes=('', suffix))\n",
    "    \n",
    "    # Get all columns that start with 'prob' (including prob, prob_new1, prob_new2, etc.)\n",
    "    prob_columns = [col for col in final_df.columns if col.startswith('prob')]\n",
    "    \n",
    "    # Calculate the mean across all prob columns, skipping NaN values\n",
    "    final_df['prob'] = final_df[prob_columns].mean(axis=1, skipna=True)\n",
    "    \n",
    "    # Drop the individual prob columns and keep only the final mean prob\n",
    "    final_df = final_df.drop(columns=[col for col in prob_columns if col != 'prob'])\n",
    "    \n",
    "    return final_df\n",
    "\n",
    "def heatmap_from_result(result, x_range, y_range):\n",
    "\n",
    "    # Create an empty 2D array to store the prob values in the grid\n",
    "    heatmap_data = [[0 for _ in x_range] for _ in y_range]\n",
    "\n",
    "    # Fill the heatmap_data with 'prob' values\n",
    "    for _, row in result.iterrows():\n",
    "        x1, x2, y1, y2, prob = row\n",
    "        x1, x2, y1, y2 = int(x1), int(x2), int(y1), int(y2)\n",
    "        for x in range(x1, x2):\n",
    "            for y in range(y1, y2):\n",
    "                heatmap_data[y][x] = prob\n",
    "    return heatmap_data"
   ]
  },
  {
   "cell_type": "code",
   "execution_count": 174,
   "metadata": {},
   "outputs": [],
   "source": [
    "output_dir = os.path.join(paoletto_dir, 'output')"
   ]
  },
  {
   "cell_type": "code",
   "execution_count": 175,
   "metadata": {},
   "outputs": [],
   "source": [
    "a1b1_1 = pd.read_csv(os.path.join(output_dir, '1a_1b_1', 'nt_result.csv'))[['x1', 'x2', 'y1', 'y2', 'prob']]\n",
    "a1b1_2 = pd.read_csv(os.path.join(output_dir, '1a_1b_2', 'nt_result.csv'))[['x1', 'x2', 'y1', 'y2', 'prob']]\n",
    "a1b1_2.y1 = a1b1_2.y1 + 1000\n",
    "a1b1_2.y2 = a1b1_2.y2 + 1000\n",
    "\n",
    "result = merge_dataframes_and_calculate_mean(a1b1_1, a1b1_2)"
   ]
  },
  {
   "cell_type": "code",
   "execution_count": 176,
   "metadata": {},
   "outputs": [],
   "source": [
    "x_range = range(0, int(result.max().x2))\n",
    "y_range = range(0, int(result.max().y2))\n",
    "heatmap_data = heatmap_from_result(result, x_range, y_range)"
   ]
  },
  {
   "cell_type": "code",
   "execution_count": 160,
   "metadata": {},
   "outputs": [
    {
     "data": {
      "image/png": "[encoded data removed]",
      "text/plain": [
       "<Figure size 864x432 with 2 Axes>"
      ]
     },
     "metadata": {
      "needs_background": "light"
     },
     "output_type": "display_data"
    }
   ],
   "source": [
    "id_sample = '1a1b'\n",
    "savepath = os.path.join(plot_dir, f'{id_sample}_RIME.png')\n",
    "if os.path.exists(savepath) == False:\n",
    "    make_plot(heatmap_data, [], x_range, y_range, rna1_name='1a', rna2_name='1b', model_name = 'RIME', savepath = savepath, show_plot = True)"
   ]
  },
  {
   "cell_type": "code",
   "execution_count": 180,
   "metadata": {},
   "outputs": [
    {
     "data": {
      "image/png": "[encoded data removed]",
      "text/plain": [
       "<Figure size 864x432 with 2 Axes>"
      ]
     },
     "metadata": {
      "needs_background": "light"
     },
     "output_type": "display_data"
    }
   ],
   "source": [
    "a1c1_1 = pd.read_csv(os.path.join(output_dir, '1a_1c_1', 'nt_result.csv'))[['x1', 'x2', 'y1', 'y2', 'prob']]\n",
    "a1c1_2 = pd.read_csv(os.path.join(output_dir, '1a_1c_2', 'nt_result.csv'))[['x1', 'x2', 'y1', 'y2', 'prob']]\n",
    "a1c1_3 = pd.read_csv(os.path.join(output_dir, '1a_1c_3', 'nt_result.csv'))[['x1', 'x2', 'y1', 'y2', 'prob']]\n",
    "a1c1_2.y1 = a1c1_2.y1 + 2000\n",
    "a1c1_2.y2 = a1c1_2.y2 + 2000\n",
    "a1c1_3.y1 = a1c1_3.y1 + 4000\n",
    "a1c1_3.y2 = a1c1_3.y2 + 4000\n",
    "\n",
    "result = merge_dataframes_and_calculate_mean(a1c1_1, a1c1_2, a1c1_3)\n",
    "\n",
    "x_range = range(0, int(result.max().x2))\n",
    "y_range = range(0, int(result.max().y2))\n",
    "heatmap_data = heatmap_from_result(result, x_range, y_range)\n",
    "\n",
    "id_sample = '1a1c'\n",
    "savepath = os.path.join(plot_dir, f'{id_sample}_RIME.png')\n",
    "if os.path.exists(savepath) == False:\n",
    "    make_plot(heatmap_data, [], x_range, y_range, rna1_name='1a', rna2_name='1c', model_name = 'RIME', savepath = savepath, show_plot = True)"
   ]
  },
  {
   "cell_type": "code",
   "execution_count": 181,
   "metadata": {},
   "outputs": [
    {
     "data": {
      "image/png": "[encoded data removed]",
      "text/plain": [
       "<Figure size 864x432 with 2 Axes>"
      ]
     },
     "metadata": {
      "needs_background": "light"
     },
     "output_type": "display_data"
    }
   ],
   "source": [
    "result = pd.read_csv(os.path.join(output_dir, '2a_2b', 'nt_result.csv'))[['x1', 'x2', 'y1', 'y2', 'prob']]\n",
    "\n",
    "x_range = range(0, int(result.max().x2))\n",
    "y_range = range(0, int(result.max().y2))\n",
    "heatmap_data = heatmap_from_result(result, x_range, y_range)\n",
    "\n",
    "id_sample = '2a_2b'\n",
    "savepath = os.path.join(plot_dir, f'{id_sample}_RIME.png')\n",
    "if os.path.exists(savepath) == False:\n",
    "    make_plot(heatmap_data, [], x_range, y_range, rna1_name='2a', rna2_name='2b', model_name = 'RIME', savepath = savepath, show_plot = True)"
   ]
  }
 ],
 "metadata": {
  "kernelspec": {
   "display_name": "Python 3 (ipykernel)",
   "language": "python",
   "name": "python3"
  },
  "language_info": {
   "codemirror_mode": {
    "name": "ipython",
    "version": 3
   },
   "file_extension": ".py",
   "mimetype": "text/x-python",
   "name": "python",
   "nbconvert_exporter": "python",
   "pygments_lexer": "ipython3",
   "version": "3.9.7"
  },
  "vscode": {
   "interpreter": {
    "hash": "28f202d77f1a85c5cab767fd2089c1bba19c245ba743de17ef12d30078485197"
   }
  }
 },
 "nbformat": 4,
 "nbformat_minor": 4
}
