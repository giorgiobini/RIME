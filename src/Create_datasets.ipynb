{
 "cells": [
  {
   "cell_type": "markdown",
   "id": "defeb11c-26b6-4119-b59a-aef77d156c79",
   "metadata": {},
   "source": [
    "# LEVA GLI EASYNEG DA SMALL_TRAIN"
   ]
  },
  {
   "cell_type": "markdown",
   "id": "75fd7e20-8dab-4f31-a886-2801a259b193",
   "metadata": {
    "tags": []
   },
   "source": [
    "# Code"
   ]
  },
  {
   "cell_type": "code",
   "execution_count": 1,
   "id": "a3b7acf7-7061-49e6-b0d7-8480984933f0",
   "metadata": {},
   "outputs": [],
   "source": [
    "its_jupyter_notebook = True"
   ]
  },
  {
   "cell_type": "code",
   "execution_count": 2,
   "id": "4ae0806e-12d4-498c-a0f4-9844c1be1435",
   "metadata": {},
   "outputs": [],
   "source": [
    "import pandas as pd\n",
    "import os\n",
    "import matplotlib.pyplot as plt\n",
    "import time\n",
    "import numpy as np\n",
    "import pickle\n",
    "import math\n",
    "import torch\n",
    "from tqdm.notebook import tqdm\n",
    "import seaborn as sns\n",
    "from torch.utils.data import DataLoader\n",
    "# if its_jupyter_notebook:\n",
    "#     sys.argv = [''] #Remove this if it's not a jupyter notebook!\n",
    "\n",
    "import sys\n",
    "sys.path.insert(0, '..')\n",
    "#from config import *\n",
    "from dataset.data import (\n",
    "    RNADataset,\n",
    "    EasyPosAugment,\n",
    "    InteractionSelectionPolicy,\n",
    "    EasyNegAugment,\n",
    "    HardPosAugment,\n",
    "    HardNegAugment,\n",
    "    SmartNegAugment,\n",
    "    plot_sample,\n",
    "    #plot_sample2,\n",
    "    seed_everything,\n",
    ")\n",
    "from config import *"
   ]
  },
  {
   "cell_type": "code",
   "execution_count": 3,
   "id": "d7ba5c76-b571-41ac-b6f4-44a74e629da3",
   "metadata": {},
   "outputs": [],
   "source": [
    "df_genes = pd.read_csv(os.path.join(processed_files_dir, \"df_genes.csv\"))\n",
    "df = pd.read_csv(os.path.join(processed_files_dir, \"final_df.csv\"))"
   ]
  },
  {
   "cell_type": "code",
   "execution_count": 4,
   "id": "5acdd8ba-77ce-45d6-a961-3f5ef32d4883",
   "metadata": {},
   "outputs": [],
   "source": [
    "#the N in the cdna creates problem with the tokenizer\n",
    "df_genes['problematic_set'] = df_genes['cdna'].apply(lambda x: False if (set(x) - set({'A', 'C', 'G', 'T'}) == set()) else True)\n",
    "genesN = set(df_genes[df_genes.problematic_set].gene_id.values)\n",
    "df = df[~(df.gene1.isin(genesN))|(df.gene2.isin(genesN))].reset_index(drop = True)"
   ]
  },
  {
   "cell_type": "code",
   "execution_count": 5,
   "id": "d604b8e8-83ad-4cf1-87f0-be33e8cdfb6c",
   "metadata": {},
   "outputs": [],
   "source": [
    "with open(os.path.join(rna_rna_files_dir, f\"gene_pairs_training.txt\"), \"rb\") as fp:  # Unpickling\n",
    "    subset_train = pickle.load(fp)\n",
    "    subset_train = pd.Series(subset_train).str.split('_', expand = True)\n",
    "    genes_train = set(subset_train[0]).union(set(subset_train[1]))"
   ]
  },
  {
   "cell_type": "code",
   "execution_count": 6,
   "id": "26164520-db92-49a4-b2c1-f47585fe6575",
   "metadata": {},
   "outputs": [
    {
     "name": "stdout",
     "output_type": "stream",
     "text": [
      "The amount of data (in the entire dataset) that will be sampled once is 65.6% \n",
      "The amount of data (in the entire dataset) that will be sampled twice is 33.0% \n",
      "The amount of data (in the entire dataset) that will be sampled 3 times is 1.4% \n"
     ]
    }
   ],
   "source": [
    "limit_small_rna = MAX_RNA_SIZE + 1000\n",
    "limit_medium_rna = int(MAX_RNA_SIZE * 1.5)\n",
    "\n",
    "df_small = df[(df.length_1<=limit_small_rna)&(df.length_2<=limit_small_rna)].reset_index(drop=True)\n",
    "df_big = df[(df.length_1>limit_medium_rna)&(df.length_2>limit_medium_rna)].reset_index(drop=True)\n",
    "df_medium = df[~df.couples.isin(set(df_small.couples).union(set(df_big.couples)))].reset_index(drop=True)\n",
    "assert (df_small.shape[0]+df_medium.shape[0]+df_big.shape[0]) == df.shape[0]\n",
    "perc_small = np.round(df_small.shape[0]/df.shape[0]*100, 1)\n",
    "perc_medium = np.round(df_medium.shape[0]/df.shape[0]*100, 1)\n",
    "perc_big = np.round(df_big.shape[0]/df.shape[0]*100, 1)\n",
    "print(f'The amount of data (in the entire dataset) that will be sampled once is {perc_small}% ')\n",
    "print(f'The amount of data (in the entire dataset) that will be sampled twice is {perc_medium}% ')\n",
    "print(f'The amount of data (in the entire dataset) that will be sampled 3 times is {perc_big}% ')"
   ]
  },
  {
   "cell_type": "code",
   "execution_count": 7,
   "id": "a9cfda9f-73c2-4890-9bdd-1c9b7fba1f65",
   "metadata": {},
   "outputs": [],
   "source": [
    "def create_sample_dict(id_couple, sample):\n",
    "        d = {\n",
    "            'id_sample':id_couple,\n",
    "            'couple':sample.couple_id,\n",
    "            'gene1':sample.gene1,\n",
    "            'gene2':sample.gene2,\n",
    "            'x1':sample.bbox.x1,\n",
    "            'x2':sample.bbox.x2,\n",
    "            'y1':sample.bbox.y1,\n",
    "            'y2':sample.bbox.y2,\n",
    "            'interacting':sample.interacting,\n",
    "            'policy':sample.policy,\n",
    "            'cdna1':sample.gene1_info[\"cdna\"][sample.bbox.x1:sample.bbox.x2],\n",
    "            'cdna2':sample.gene2_info[\"cdna\"][sample.bbox.y1:sample.bbox.y2],\n",
    "            'seed_x1':sample.seed_interaction_bbox.x1,\n",
    "            'seed_x2':sample.seed_interaction_bbox.x2,\n",
    "            'seed_y1':sample.seed_interaction_bbox.y1,\n",
    "            'seed_y2':sample.seed_interaction_bbox.y2,\n",
    "            'protein_coding1':sample.gene1_info[\"protein_coding\"],\n",
    "            'protein_coding2':sample.gene2_info[\"protein_coding\"],\n",
    "            'original_length1':len(sample.gene1_info[\"cdna\"]),\n",
    "            'original_length2':len(sample.gene2_info[\"cdna\"]),\n",
    "        }\n",
    "        return d\n",
    "\n",
    "def get_dataset(ep_per_sample, sn_per_sample, en_persample, hn_per_sample, df_genes, df, subset_file, pos_width_multipliers, pos_height_multipliers, neg_width_windows, neg_height_windows):\n",
    "    assert np.round(sum(pos_width_multipliers.values()), 4) == np.round(sum(neg_width_windows.values()), 4) == 1\n",
    "    pol = [\n",
    "        EasyPosAugment(\n",
    "        per_sample=ep_per_sample,\n",
    "        interaction_selection=InteractionSelectionPolicy.LARGEST,\n",
    "        width_multipliers=pos_width_multipliers,\n",
    "        height_multipliers=pos_height_multipliers,\n",
    "        ),\n",
    "        SmartNegAugment(\n",
    "            per_sample=sn_per_sample,\n",
    "            interaction_selection=InteractionSelectionPolicy.LARGEST,\n",
    "            width_multipliers=pos_width_multipliers,\n",
    "            height_multipliers=pos_height_multipliers,\n",
    "        ),\n",
    "        EasyNegAugment(\n",
    "            per_sample=en_persample,\n",
    "            width_windows=neg_width_windows,\n",
    "            height_windows=neg_height_windows,\n",
    "        ),\n",
    "    ]\n",
    "    if hn_per_sample>0:\n",
    "        pol.append(\n",
    "            HardNegAugment(\n",
    "                per_sample=hn_per_sample,\n",
    "                width_windows=neg_width_windows,\n",
    "                height_windows=neg_height_windows,\n",
    "            )\n",
    "        )\n",
    "    dataset = RNADataset(\n",
    "            gene2info=df_genes,\n",
    "            interactions=df,\n",
    "            subset_file=subset_file,\n",
    "            augment_policies=pol,\n",
    "    )\n",
    "    return dataset \n",
    "\n",
    "def create_gene_count(df, unbalanced_ratio):\n",
    "    gene_count = pd.concat([df[['gene1', 'interacting']].rename({'gene1':'gene'}, axis = 1),\n",
    "                            df[['gene2','interacting']].rename({'gene2':'gene'}, axis = 1)], axis = 0).reset_index(drop = True)\n",
    "    g = gene_count.groupby('gene').sum()\n",
    "    g['not_interacting'] = gene_count.groupby('gene').count() - gene_count.groupby('gene').sum()\n",
    "    g['not_interacting'] = g['not_interacting']*unbalanced_ratio\n",
    "    g = g.reset_index() #add the gene column from the index\n",
    "    g['diff'] = g['not_interacting'] - g['interacting']\n",
    "    g['abs_diff'] = g['diff'].abs()\n",
    "    g['tot'] = g['interacting'] + g['not_interacting']\n",
    "    g['abs_diff_weighted'] = g['tot']*g['abs_diff']\n",
    "    return g"
   ]
  },
  {
   "cell_type": "code",
   "execution_count": 8,
   "id": "f769a496-dcc6-4a25-8cd1-aff9dc5f69d6",
   "metadata": {},
   "outputs": [],
   "source": [
    "pos_width_multipliers = {1000000: 1.}\n",
    "pos_height_multipliers = pos_width_multipliers\n",
    "neg_width_windows = {(MAX_RNA_SIZE-1, MAX_RNA_SIZE): float(1),}\n",
    "neg_height_windows = neg_width_windows"
   ]
  },
  {
   "cell_type": "markdown",
   "id": "b1c3ce07-999a-43cf-8d07-71c68baab7ab",
   "metadata": {
    "tags": []
   },
   "source": [
    "# Data loader train"
   ]
  },
  {
   "cell_type": "code",
   "execution_count": 9,
   "id": "bec15668-4b2f-4df7-806f-39e11c59c657",
   "metadata": {},
   "outputs": [],
   "source": [
    "set_data = 'training' \n",
    "assert set_data in ['training', 'val', 'test']\n",
    "subset_file = os.path.join(rna_rna_files_dir, f\"gene_pairs_{set_data}.txt\")\n",
    "\n",
    "id_couple = 0\n",
    "meta = {}"
   ]
  },
  {
   "cell_type": "code",
   "execution_count": null,
   "id": "b050e9d2-a192-4584-8746-22ecc4558f7b",
   "metadata": {},
   "outputs": [],
   "source": [
    "small_train = get_dataset(ep_per_sample=1, sn_per_sample=1, en_persample=0.2, hn_per_sample=0, \n",
    "                          df_genes=df_genes, df=df_small, subset_file=subset_file, \n",
    "                          pos_width_multipliers=pos_width_multipliers, pos_height_multipliers=pos_height_multipliers, \n",
    "                          neg_width_windows=neg_width_windows, neg_height_windows=neg_height_windows)\n",
    "\n",
    "for i, sample in tqdm(enumerate(small_train), total = len(small_train)):\n",
    "    meta[id_couple] = create_sample_dict(id_couple, sample)\n",
    "    id_couple += 1\n",
    "    \n",
    "    \n",
    "medium_train = get_dataset(ep_per_sample=2, sn_per_sample=2, en_persample=0.2, hn_per_sample=0, \n",
    "                           df_genes=df_genes, df=df_medium, subset_file=subset_file,\n",
    "                           pos_width_multipliers=pos_width_multipliers, pos_height_multipliers=pos_height_multipliers, \n",
    "                           neg_width_windows=neg_width_windows, neg_height_windows=neg_height_windows)\n",
    "\n",
    "for i, sample in tqdm(enumerate(medium_train), total = len(medium_train)):\n",
    "    meta[id_couple] = create_sample_dict(id_couple, sample)\n",
    "    id_couple += 1\n",
    "    \n",
    "    \n",
    "big_train = get_dataset(ep_per_sample=3, sn_per_sample=3, en_persample=0.2, hn_per_sample=0, \n",
    "                        df_genes=df_genes, df=df_big, subset_file=subset_file, \n",
    "                        pos_width_multipliers=pos_width_multipliers, pos_height_multipliers=pos_height_multipliers, \n",
    "                        neg_width_windows=neg_width_windows, neg_height_windows=neg_height_windows)\n",
    "\n",
    "for i, sample in tqdm(enumerate(big_train), total = len(big_train)):\n",
    "    meta[id_couple] = create_sample_dict(id_couple, sample)\n",
    "    id_couple += 1\n",
    "    \n",
    "df_meta = pd.DataFrame.from_dict(meta, 'index')\n",
    "df_meta['lencdna1'] = df_meta.apply(lambda x: len(x.cdna1), axis = 1)\n",
    "df_meta['lencdna2'] = df_meta.apply(lambda x: len(x.cdna2), axis = 1)\n",
    "assert ((df_meta.x2 - df_meta.x1)==(df_meta.lencdna1)).all()\n",
    "assert ((df_meta.y2 - df_meta.y1)==(df_meta.lencdna2)).all()\n",
    "\n",
    "m = df_meta[df_meta.policy.isin({'smartneg', 'easypos'})]\n",
    "assert (m.seed_x1 >= m.x1).all()\n",
    "assert (m.seed_y1 >= m.y1).all()\n",
    "assert ((m.seed_x2) <= (m.x2)).all()\n",
    "assert ((m.seed_y2) <= (m.y2)).all()"
   ]
  },
  {
   "cell_type": "code",
   "execution_count": 25,
   "id": "7bb71ed2-ddba-4c26-87ea-5352264642df",
   "metadata": {},
   "outputs": [
    {
     "name": "stdout",
     "output_type": "stream",
     "text": [
      "93092 14845\n",
      "6.2709329740653414\n"
     ]
    },
    {
     "name": "stderr",
     "output_type": "stream",
     "text": [
      "/data01/gbini/projects/RNA-RNA/src/../dataset/data.py:1306: UserWarning: color is redundantly defined by the 'color' keyword argument and the fmt string \"ro\" (-> color='r'). The keyword argument will take precedence.\n",
      "  ax.plot([0, width],[0, height], 'ro', color = 'white')\n"
     ]
    },
    {
     "data": {
      "image/png": "[encoded data removed]",
      "text/plain": [
       "<Figure size 4389.65x700 with 1 Axes>"
      ]
     },
     "execution_count": 25,
     "metadata": {},
     "output_type": "execute_result"
    },
    {
     "data": {
      "image/png": "[encoded data removed]",
      "text/plain": [
       "<Figure size 4389.65x700 with 1 Axes>"
      ]
     },
     "metadata": {},
     "output_type": "display_data"
    }
   ],
   "source": [
    "plot_sample(sample, True)"
   ]
  },
  {
   "cell_type": "markdown",
   "id": "de525499-ef05-4619-a8fa-569810b85b79",
   "metadata": {
    "tags": []
   },
   "source": [
    "### Controllo se alcuni geni hanno un arricchimento solo nei positivi o solo nei negativi."
   ]
  },
  {
   "cell_type": "code",
   "execution_count": 27,
   "id": "aad61d62-58a8-46af-80fd-e15d9deb97a7",
   "metadata": {},
   "outputs": [
    {
     "name": "stdout",
     "output_type": "stream",
     "text": [
      "unbalanced_ratio:0.44\n",
      "weighted_average=18.9\n"
     ]
    }
   ],
   "source": [
    "original_shape = df_meta.shape[0]\n",
    "\n",
    "unbalanced_ratio = df_meta.interacting.value_counts()[True]/df_meta.interacting.value_counts()[False]\n",
    "print(f'unbalanced_ratio:{unbalanced_ratio:.2f}')\n",
    "\n",
    "gene_count = create_gene_count(df_meta, unbalanced_ratio)\n",
    "weighted_average = np.round(gene_count['abs_diff_weighted'].sum()/gene_count['tot'].sum(),2)\n",
    "print(f'{weighted_average=}')\n",
    "df_meta = df_meta.merge(gene_count[['gene', 'diff']], left_on = 'gene1', right_on = 'gene').drop('gene', axis = 1).rename({'diff':'diff1'}, axis =1)\n",
    "df_meta = df_meta.merge(gene_count[['gene', 'diff']], left_on = 'gene2', right_on = 'gene').drop('gene', axis = 1).rename({'diff':'diff2'}, axis =1)\n",
    "df_meta['diff'] = df_meta['diff1'] + df_meta['diff2']"
   ]
  },
  {
   "cell_type": "code",
   "execution_count": 29,
   "id": "14111b44-b7e5-4075-9feb-34a2d58398fb",
   "metadata": {},
   "outputs": [
    {
     "data": {
      "image/png": "[encoded data removed]",
      "text/plain": [
       "<Figure size 640x480 with 1 Axes>"
      ]
     },
     "metadata": {},
     "output_type": "display_data"
    }
   ],
   "source": [
    "sns.kdeplot(df_meta['diff'], color = 'red')\n",
    "plt.title(f'Gene1 Expected value to be an interactor + Gene2 Expected value be an interactor')\n",
    "plt.show()"
   ]
  },
  {
   "cell_type": "code",
   "execution_count": null,
   "id": "983f2758-596e-4e36-8c8f-5d5e5e74a31f",
   "metadata": {},
   "outputs": [],
   "source": [
    "tolerance = 50\n",
    "print(f'before:{df_meta.shape[0]}')\n",
    "problematics = df_meta[(df_meta['diff']>tolerance)|(df_meta['diff']<-tolerance)]\n",
    "subsetted = df_meta[(df_meta['diff']<tolerance)&(df_meta['diff']>-tolerance)]\n",
    "print(f'after:{subsetted.shape[0]}')\n",
    "perc = np.round(100 - subsetted.shape[0]/original_shape*100, 2)\n",
    "print(f'lost:{perc}%')"
   ]
  },
  {
   "cell_type": "code",
   "execution_count": 30,
   "id": "01ec43f8-4e37-4b75-8a40-e61d72989d0e",
   "metadata": {},
   "outputs": [],
   "source": [
    "df_meta = subsetted.reset_index(drop = True).drop(['diff', 'diff1', 'diff2'], axis =1)"
   ]
  },
  {
   "cell_type": "code",
   "execution_count": 31,
   "id": "812942b6-03d3-4ca7-952d-7e031108d5ea",
   "metadata": {},
   "outputs": [
    {
     "name": "stdout",
     "output_type": "stream",
     "text": [
      "unbalanced_ratio:0.44\n",
      "weighted_average=4.59\n"
     ]
    }
   ],
   "source": [
    "unbalanced_ratio = df_meta.interacting.value_counts()[True]/df_meta.interacting.value_counts()[False]\n",
    "print(f'unbalanced_ratio:{unbalanced_ratio:.2f}')\n",
    "\n",
    "gene_count = create_gene_count(df_meta, unbalanced_ratio)\n",
    "weighted_average = np.round(gene_count['abs_diff_weighted'].sum()/gene_count['tot'].sum(),2)\n",
    "print(f'{weighted_average=}')\n",
    "df_meta = df_meta.merge(gene_count[['gene', 'diff']], left_on = 'gene1', right_on = 'gene').drop('gene', axis = 1).rename({'diff':'diff1'}, axis =1)\n",
    "df_meta = df_meta.merge(gene_count[['gene', 'diff']], left_on = 'gene2', right_on = 'gene').drop('gene', axis = 1).rename({'diff':'diff2'}, axis =1)\n",
    "df_meta['diff'] = df_meta['diff1'] + df_meta['diff2']"
   ]
  },
  {
   "cell_type": "code",
   "execution_count": 32,
   "id": "ac0babe6-c9b7-40f6-ac3c-e7ea8dc253e5",
   "metadata": {},
   "outputs": [
    {
     "name": "stdout",
     "output_type": "stream",
     "text": [
      "In total, I lost the:10.44% of the pairs\n"
     ]
    }
   ],
   "source": [
    "perc = np.round(100 - df_meta.shape[0]/original_shape*100, 2)\n",
    "print(f'In total, I lost the:{perc}% of the pairs')"
   ]
  },
  {
   "cell_type": "code",
   "execution_count": 33,
   "id": "d411470f-c5f9-4099-a345-2cb3c70449ee",
   "metadata": {},
   "outputs": [
    {
     "data": {
      "image/png": "[encoded data removed]",
      "text/plain": [
       "<Figure size 640x480 with 1 Axes>"
      ]
     },
     "metadata": {},
     "output_type": "display_data"
    }
   ],
   "source": [
    "sns.kdeplot(df_meta['diff'], color = 'red')\n",
    "plt.title(f'Gene1 Expected value to be an interactor + Gene2 Expected value be an interactor')\n",
    "plt.show()"
   ]
  },
  {
   "cell_type": "code",
   "execution_count": 34,
   "id": "de2517d4-64c1-462b-b3b9-cf92fd384eb2",
   "metadata": {},
   "outputs": [],
   "source": [
    "df_meta.to_csv(os.path.join(metadata_dir, f'{set_data}.csv'), index = False)"
   ]
  },
  {
   "cell_type": "markdown",
   "id": "b6b6dd79-1706-47a4-81f0-8eb8eca619c6",
   "metadata": {
    "jp-MarkdownHeadingCollapsed": true,
    "tags": []
   },
   "source": [
    "If you want to sample from problematics pair such that we have all the genes, comment this\n",
    "```{python}\n",
    "df_meta = subsetted.reset_index(drop = True).drop(['diff', 'diff1', 'diff2'], axis =1)\n",
    "```\n",
    "and uncomment this\n",
    "\n",
    "```{python}\n",
    "all_problematic_genes = set(problematics.gene2).union(set(problematics.gene1))\n",
    "genes_to_sample = all_problematic_genes - set(subsetted.gene1).union(set(subsetted.gene2))\n",
    "\n",
    "id_to_keep = []\n",
    "for gene in genes_to_sample:\n",
    "    subset = problematics[(problematics.gene1 == gene) | (problematics.gene2 == gene)]\n",
    "    n_sample = min(3,subset.shape[0])\n",
    "    #n_sample = 1\n",
    "    id_to_keep = id_to_keep + list(subset.sample(n_sample)['id_sample'])\n",
    "id_to_keep = set(id_to_keep)\n",
    "problematics_to_sample = problematics[problematics.id_sample.isin(id_to_keep)]\n",
    "\n",
    "df_meta = pd.concat([subsetted, problematics_to_sample], axis = 0).reset_index(drop = True).drop(['diff', 'diff1', 'diff2'], axis =1)\n",
    "assert all_problematic_genes - set(df_meta.gene2).union(set(df_meta.gene1)) == set()\n",
    "```"
   ]
  },
  {
   "cell_type": "markdown",
   "id": "f265f84c-e348-4461-abca-d00624a8709f",
   "metadata": {},
   "source": [
    "# Data Loader val "
   ]
  },
  {
   "cell_type": "code",
   "execution_count": 9,
   "id": "b14398bb-bf96-46b3-90c0-a71d5372229a",
   "metadata": {},
   "outputs": [],
   "source": [
    "set_data = 'val' \n",
    "assert set_data in ['training', 'val', 'test']\n",
    "subset_file = os.path.join(rna_rna_files_dir, f\"gene_pairs_{set_data}.txt\")\n",
    "\n",
    "id_couple = 0\n",
    "meta = {}"
   ]
  },
  {
   "cell_type": "code",
   "execution_count": 10,
   "id": "66333a43-cc1c-4a85-9bd0-187f6bb782f3",
   "metadata": {},
   "outputs": [
    {
     "data": {
      "application/vnd.jupyter.widget-view+json": {
       "model_id": "0fe1daab3d9f4fd1b1eb0149f21aab51",
       "version_major": 2,
       "version_minor": 0
      },
      "text/plain": [
       "  0%|          | 0/23457 [00:00<?, ?it/s]"
      ]
     },
     "metadata": {},
     "output_type": "display_data"
    },
    {
     "data": {
      "application/vnd.jupyter.widget-view+json": {
       "model_id": "c7027e7f3c274f099ddcf524daa3ac2c",
       "version_major": 2,
       "version_minor": 0
      },
      "text/plain": [
       "  0%|          | 0/18875 [00:00<?, ?it/s]"
      ]
     },
     "metadata": {},
     "output_type": "display_data"
    },
    {
     "data": {
      "application/vnd.jupyter.widget-view+json": {
       "model_id": "4e94a4936a2f498e836ee13c6c555676",
       "version_major": 2,
       "version_minor": 0
      },
      "text/plain": [
       "  0%|          | 0/1212 [00:00<?, ?it/s]"
      ]
     },
     "metadata": {},
     "output_type": "display_data"
    }
   ],
   "source": [
    "small_train = get_dataset(ep_per_sample=1, sn_per_sample=1, en_persample=0.1, hn_per_sample=0, \n",
    "                          df_genes=df_genes, df=df_small, subset_file=subset_file, \n",
    "                          pos_width_multipliers=pos_width_multipliers, pos_height_multipliers=pos_height_multipliers, \n",
    "                          neg_width_windows=neg_width_windows, neg_height_windows=neg_height_windows)\n",
    "\n",
    "for i, sample in tqdm(enumerate(small_train), total = len(small_train)):\n",
    "    meta[id_couple] = create_sample_dict(id_couple, sample)\n",
    "    id_couple += 1\n",
    "    \n",
    "    \n",
    "medium_train = get_dataset(ep_per_sample=3, sn_per_sample=1, en_persample=0.1, hn_per_sample=0, \n",
    "                           df_genes=df_genes, df=df_medium, subset_file=subset_file,\n",
    "                           pos_width_multipliers=pos_width_multipliers, pos_height_multipliers=pos_height_multipliers, \n",
    "                           neg_width_windows=neg_width_windows, neg_height_windows=neg_height_windows)\n",
    "\n",
    "for i, sample in tqdm(enumerate(medium_train), total = len(medium_train)):\n",
    "    meta[id_couple] = create_sample_dict(id_couple, sample)\n",
    "    id_couple += 1\n",
    "    \n",
    "    \n",
    "big_train = get_dataset(ep_per_sample=5, sn_per_sample=1, en_persample=0.1, hn_per_sample=0, \n",
    "                        df_genes=df_genes, df=df_big, subset_file=subset_file, \n",
    "                        pos_width_multipliers=pos_width_multipliers, pos_height_multipliers=pos_height_multipliers, \n",
    "                        neg_width_windows=neg_width_windows, neg_height_windows=neg_height_windows)\n",
    "\n",
    "for i, sample in tqdm(enumerate(big_train), total = len(big_train)):\n",
    "    meta[id_couple] = create_sample_dict(id_couple, sample)\n",
    "    id_couple += 1\n",
    "    \n",
    "df_meta = pd.DataFrame.from_dict(meta, 'index')\n",
    "df_meta['lencdna1'] = df_meta.apply(lambda x: len(x.cdna1), axis = 1)\n",
    "df_meta['lencdna2'] = df_meta.apply(lambda x: len(x.cdna2), axis = 1)\n",
    "assert ((df_meta.x2 - df_meta.x1)==(df_meta.lencdna1)).all()\n",
    "assert ((df_meta.y2 - df_meta.y1)==(df_meta.lencdna2)).all()\n",
    "\n",
    "m = df_meta[df_meta.policy.isin({'smartneg', 'easypos'})]\n",
    "assert (m.seed_x1 >= m.x1).all()\n",
    "assert (m.seed_y1 >= m.y1).all()\n",
    "assert ((m.seed_x2) <= (m.x2)).all()\n",
    "assert ((m.seed_y2) <= (m.y2)).all()"
   ]
  },
  {
   "cell_type": "code",
   "execution_count": 11,
   "id": "4ed4af96-5535-412d-9162-805ea3594ab8",
   "metadata": {},
   "outputs": [
    {
     "name": "stdout",
     "output_type": "stream",
     "text": [
      "unbalanced_ratio:0.79\n",
      "weighted_average=11.02\n"
     ]
    }
   ],
   "source": [
    "original_shape = df_meta.shape[0]\n",
    "\n",
    "unbalanced_ratio = df_meta.interacting.value_counts()[True]/df_meta.interacting.value_counts()[False]\n",
    "print(f'unbalanced_ratio:{unbalanced_ratio:.2f}')\n",
    "\n",
    "gene_count = create_gene_count(df_meta, unbalanced_ratio)\n",
    "weighted_average = np.round(gene_count['abs_diff_weighted'].sum()/gene_count['tot'].sum(),2)\n",
    "print(f'{weighted_average=}')\n",
    "df_meta = df_meta.merge(gene_count[['gene', 'diff']], left_on = 'gene1', right_on = 'gene').drop('gene', axis = 1).rename({'diff':'diff1'}, axis =1)\n",
    "df_meta = df_meta.merge(gene_count[['gene', 'diff']], left_on = 'gene2', right_on = 'gene').drop('gene', axis = 1).rename({'diff':'diff2'}, axis =1)\n",
    "df_meta['diff'] = df_meta['diff1'] + df_meta['diff2']"
   ]
  },
  {
   "cell_type": "markdown",
   "id": "77428314-26b3-4f7c-92e1-c453f727c50e",
   "metadata": {},
   "source": [
    "I have to undersample df_meta because I want a balanced validation set. I will exclude rows where both genes are in the training set."
   ]
  },
  {
   "cell_type": "code",
   "execution_count": 12,
   "id": "04a0abd5-cb02-4b1b-b666-6a8e5c396315",
   "metadata": {},
   "outputs": [],
   "source": [
    "df_not_in_train = df_meta[~( (df_meta.gene1.isin(genes_train))|(df_meta.gene2.isin(genes_train)) )]\n",
    "n_to_exclude = df_meta.interacting.value_counts()[False] - df_meta.interacting.value_counts()[True]\n",
    "df_to_sample = df_meta[(df_meta.gene1.isin(genes_train))&(df_meta.gene2.isin(genes_train))&(df_meta.interacting == False)]\n",
    "ids_to_eclude = set(df_to_sample.sample(frac = 1).head(n_to_exclude).id_sample)\n",
    "assert set(ids_to_eclude).intersection(set(df_not_in_train.id_sample)) == set()\n",
    "df_meta = df_meta[~df_meta.id_sample.isin(ids_to_eclude)]\n",
    "assert np.isclose(1, df_meta.interacting.value_counts()[True]/df_meta.interacting.value_counts()[False])\n",
    "df_meta = df_meta.reset_index(drop = True)\n",
    "df_meta.to_csv(os.path.join(metadata_dir, f'{set_data}.csv'), index = False)"
   ]
  },
  {
   "cell_type": "markdown",
   "id": "9c421db8-1fee-4b19-aa56-f17626534585",
   "metadata": {
    "tags": []
   },
   "source": [
    "# Data Loader test "
   ]
  },
  {
   "cell_type": "code",
   "execution_count": 13,
   "id": "63c986fc-341e-462e-8b8f-cd451282ee92",
   "metadata": {},
   "outputs": [],
   "source": [
    "set_data = 'test' \n",
    "assert set_data in ['training', 'val', 'test']\n",
    "subset_file = os.path.join(rna_rna_files_dir, f\"gene_pairs_{set_data}.txt\")\n",
    "\n",
    "id_couple = 0\n",
    "meta = {}"
   ]
  },
  {
   "cell_type": "code",
   "execution_count": 14,
   "id": "88252cc1-3bde-4897-920d-9815917dbeba",
   "metadata": {},
   "outputs": [
    {
     "data": {
      "application/vnd.jupyter.widget-view+json": {
       "model_id": "d84dfcbc16ed4e9fbd00e1dd853a57c3",
       "version_major": 2,
       "version_minor": 0
      },
      "text/plain": [
       "  0%|          | 0/24879 [00:00<?, ?it/s]"
      ]
     },
     "metadata": {},
     "output_type": "display_data"
    },
    {
     "data": {
      "application/vnd.jupyter.widget-view+json": {
       "model_id": "b9e641060ee641c5ad6442edc22192e4",
       "version_major": 2,
       "version_minor": 0
      },
      "text/plain": [
       "  0%|          | 0/18498 [00:00<?, ?it/s]"
      ]
     },
     "metadata": {},
     "output_type": "display_data"
    },
    {
     "data": {
      "application/vnd.jupyter.widget-view+json": {
       "model_id": "25e6a4c50f04477f9a3bcacf87763c7d",
       "version_major": 2,
       "version_minor": 0
      },
      "text/plain": [
       "  0%|          | 0/1119 [00:00<?, ?it/s]"
      ]
     },
     "metadata": {},
     "output_type": "display_data"
    }
   ],
   "source": [
    "small_train = get_dataset(ep_per_sample=1, sn_per_sample=1, en_persample=0.1, hn_per_sample=0, \n",
    "                          df_genes=df_genes, df=df_small, subset_file=subset_file, \n",
    "                          pos_width_multipliers=pos_width_multipliers, pos_height_multipliers=pos_height_multipliers, \n",
    "                          neg_width_windows=neg_width_windows, neg_height_windows=neg_height_windows)\n",
    "\n",
    "for i, sample in tqdm(enumerate(small_train), total = len(small_train)):\n",
    "    meta[id_couple] = create_sample_dict(id_couple, sample)\n",
    "    id_couple += 1\n",
    "    \n",
    "    \n",
    "medium_train = get_dataset(ep_per_sample=3, sn_per_sample=1, en_persample=0.1, hn_per_sample=0, \n",
    "                           df_genes=df_genes, df=df_medium, subset_file=subset_file,\n",
    "                           pos_width_multipliers=pos_width_multipliers, pos_height_multipliers=pos_height_multipliers, \n",
    "                           neg_width_windows=neg_width_windows, neg_height_windows=neg_height_windows)\n",
    "\n",
    "for i, sample in tqdm(enumerate(medium_train), total = len(medium_train)):\n",
    "    meta[id_couple] = create_sample_dict(id_couple, sample)\n",
    "    id_couple += 1\n",
    "    \n",
    "    \n",
    "big_train = get_dataset(ep_per_sample=5, sn_per_sample=1, en_persample=0.1, hn_per_sample=0, \n",
    "                        df_genes=df_genes, df=df_big, subset_file=subset_file, \n",
    "                        pos_width_multipliers=pos_width_multipliers, pos_height_multipliers=pos_height_multipliers, \n",
    "                        neg_width_windows=neg_width_windows, neg_height_windows=neg_height_windows)\n",
    "\n",
    "for i, sample in tqdm(enumerate(big_train), total = len(big_train)):\n",
    "    meta[id_couple] = create_sample_dict(id_couple, sample)\n",
    "    id_couple += 1\n",
    "    \n",
    "df_meta = pd.DataFrame.from_dict(meta, 'index')\n",
    "df_meta['lencdna1'] = df_meta.apply(lambda x: len(x.cdna1), axis = 1)\n",
    "df_meta['lencdna2'] = df_meta.apply(lambda x: len(x.cdna2), axis = 1)\n",
    "assert ((df_meta.x2 - df_meta.x1)==(df_meta.lencdna1)).all()\n",
    "assert ((df_meta.y2 - df_meta.y1)==(df_meta.lencdna2)).all()\n",
    "\n",
    "m = df_meta[df_meta.policy.isin({'smartneg', 'easypos'})]\n",
    "assert (m.seed_x1 >= m.x1).all()\n",
    "assert (m.seed_y1 >= m.y1).all()\n",
    "assert ((m.seed_x2) <= (m.x2)).all()\n",
    "assert ((m.seed_y2) <= (m.y2)).all()"
   ]
  },
  {
   "cell_type": "code",
   "execution_count": 15,
   "id": "b29c1fb8-0366-4bb1-8dc7-57d066fd0f10",
   "metadata": {},
   "outputs": [
    {
     "name": "stdout",
     "output_type": "stream",
     "text": [
      "unbalanced_ratio:0.78\n",
      "weighted_average=13.81\n"
     ]
    }
   ],
   "source": [
    "original_shape = df_meta.shape[0]\n",
    "\n",
    "unbalanced_ratio = df_meta.interacting.value_counts()[True]/df_meta.interacting.value_counts()[False]\n",
    "print(f'unbalanced_ratio:{unbalanced_ratio:.2f}')\n",
    "\n",
    "gene_count = create_gene_count(df_meta, unbalanced_ratio)\n",
    "weighted_average = np.round(gene_count['abs_diff_weighted'].sum()/gene_count['tot'].sum(),2)\n",
    "print(f'{weighted_average=}')\n",
    "df_meta = df_meta.merge(gene_count[['gene', 'diff']], left_on = 'gene1', right_on = 'gene').drop('gene', axis = 1).rename({'diff':'diff1'}, axis =1)\n",
    "df_meta = df_meta.merge(gene_count[['gene', 'diff']], left_on = 'gene2', right_on = 'gene').drop('gene', axis = 1).rename({'diff':'diff2'}, axis =1)\n",
    "df_meta['diff'] = df_meta['diff1'] + df_meta['diff2']"
   ]
  },
  {
   "cell_type": "code",
   "execution_count": 16,
   "id": "2efcaead-a551-4c5f-baba-9b6cfcc4a413",
   "metadata": {},
   "outputs": [],
   "source": [
    "#undersample df_meta and save it\n",
    "df_not_in_train = df_meta[~( (df_meta.gene1.isin(genes_train))|(df_meta.gene2.isin(genes_train)) )]\n",
    "n_to_exclude = df_meta.interacting.value_counts()[False] - df_meta.interacting.value_counts()[True]\n",
    "df_to_sample = df_meta[(df_meta.gene1.isin(genes_train))&(df_meta.gene2.isin(genes_train))&(df_meta.interacting == False)]\n",
    "ids_to_eclude = set(df_to_sample.sample(frac = 1).head(n_to_exclude).id_sample)\n",
    "assert set(ids_to_eclude).intersection(set(df_not_in_train.id_sample)) == set()\n",
    "df_meta = df_meta[~df_meta.id_sample.isin(ids_to_eclude)].reset_index(drop = True)\n",
    "assert np.isclose(1, df_meta.interacting.value_counts()[True]/df_meta.interacting.value_counts()[False])\n",
    "df_meta.to_csv(os.path.join(metadata_dir, f'{set_data}.csv'), index = False)"
   ]
  }
 ],
 "metadata": {
  "kernelspec": {
   "display_name": "Python 3 (ipykernel)",
   "language": "python",
   "name": "python3"
  },
  "language_info": {
   "codemirror_mode": {
    "name": "ipython",
    "version": 3
   },
   "file_extension": ".py",
   "mimetype": "text/x-python",
   "name": "python",
   "nbconvert_exporter": "python",
   "pygments_lexer": "ipython3",
   "version": "3.10.10"
  }
 },
 "nbformat": 4,
 "nbformat_minor": 5
}
