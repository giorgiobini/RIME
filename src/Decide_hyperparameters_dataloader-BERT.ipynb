{
 "cells": [
  {
   "cell_type": "markdown",
   "id": "75fd7e20-8dab-4f31-a886-2801a259b193",
   "metadata": {
    "tags": []
   },
   "source": [
    "# Code"
   ]
  },
  {
   "cell_type": "code",
   "execution_count": 1,
   "id": "a3b7acf7-7061-49e6-b0d7-8480984933f0",
   "metadata": {},
   "outputs": [],
   "source": [
    "its_jupyter_notebook = True"
   ]
  },
  {
   "cell_type": "code",
   "execution_count": 2,
   "id": "685f531f",
   "metadata": {},
   "outputs": [
    {
     "name": "stdout",
     "output_type": "stream",
     "text": [
      "============================================================\n",
      "<class 'transformers.tokenization_dna.DNATokenizer'>\n"
     ]
    }
   ],
   "source": [
    "import pandas as pd\n",
    "import time\n",
    "import os\n",
    "import matplotlib.pyplot as plt\n",
    "import time\n",
    "import numpy as np\n",
    "import random\n",
    "import sys\n",
    "import torch\n",
    "import shutil\n",
    "import pickle\n",
    "from pathlib import Path\n",
    "from tqdm.notebook import tqdm\n",
    "import seaborn as sns\n",
    "from torch.utils.data import DataLoader\n",
    "import importlib\n",
    "if its_jupyter_notebook:\n",
    "    sys.argv = [''] #Remove this if it's not a jupyter notebook!\n",
    "sys.path.insert(0, '..')\n",
    "from config import *\n",
    "import util.misc as utils\n",
    "\n",
    "from config import ROOT_DIR, processed_files_dir, rna_rna_files_dir, dataset_files_dir, ufold_path, bert_pretrained_dir, MAX_RNA_SIZE_BERT\n",
    "\n",
    "def load_data_bert_script(dataset_files_dir, MAX_RNA_SIZE_BERT):\n",
    "    source_file_path = os.path.join(dataset_files_dir, 'data.py')\n",
    "    data_bert_file_path = os.path.join(dataset_files_dir, 'data_bert.py')\n",
    "    shutil.copy(source_file_path, data_bert_file_path)\n",
    "    new_max_rna_length = MAX_RNA_SIZE_BERT\n",
    "\n",
    "    # Read the content of data_bert.py\n",
    "    with open(data_bert_file_path, 'r') as file:\n",
    "        lines = file.readlines()\n",
    "\n",
    "    # Find and modify the MAX_RNA_LENGTH line\n",
    "    modified_lines = []\n",
    "    for line in lines:\n",
    "        if line.startswith('MAX_RNA_SIZE'):\n",
    "            modified_lines.append(f'MAX_RNA_SIZE = {new_max_rna_length}\\n')\n",
    "        else:\n",
    "            modified_lines.append(line)\n",
    "\n",
    "    # Write the modified content back to data_bert.py\n",
    "    with open(data_bert_file_path, 'w') as file:\n",
    "        file.writelines(modified_lines)\n",
    "\n",
    "load_data_bert_script(dataset_files_dir, MAX_RNA_SIZE_BERT)\n",
    "\n",
    "from dataset.data_bert import (\n",
    "    RNADataset,\n",
    "    RNADatasetNT,\n",
    "    EasyPosAugment,\n",
    "    SmartNegAugment,\n",
    "    InteractionSelectionPolicy,\n",
    "    EasyNegAugment,\n",
    "    HardPosAugment,\n",
    "    HardNegAugment,\n",
    "    SmartNegAugment,\n",
    "    create_augment_list,\n",
    "    plot_sample,\n",
    "    seed_everything,\n",
    ")"
   ]
  },
  {
   "cell_type": "code",
   "execution_count": 3,
   "id": "59ca6c91-3c5c-426c-81d4-9c46cc483fdd",
   "metadata": {},
   "outputs": [
    {
     "name": "stdout",
     "output_type": "stream",
     "text": [
      "2 genes have N, so will be excluded\n"
     ]
    }
   ],
   "source": [
    "df_genes = pd.read_csv(os.path.join(processed_files_dir, \"df_genes.csv\"))\n",
    "df = pd.read_csv(os.path.join(processed_files_dir, \"final_df.csv\"))\n",
    "\n",
    "#the N in the cdna creates problem with the tokenizer\n",
    "df_genes['problematic_set'] = df_genes['cdna'].apply(lambda x: False if (set(x) - set({'A', 'C', 'G', 'T'}) == set()) else True)\n",
    "genesN = set(df_genes[df_genes.problematic_set].gene_id.values)\n",
    "print(f'{len(genesN)} genes have N, so will be excluded')\n",
    "df = df[~(df.gene1.isin(genesN))|(df.gene2.isin(genesN))].reset_index(drop = True)\n",
    "\n",
    "subset_train = os.path.join(rna_rna_files_dir, f\"gene_pairs_training.txt\")\n",
    "subset_test = os.path.join(rna_rna_files_dir, f\"gene_pairs_test.txt\")\n",
    "subset_val = os.path.join(rna_rna_files_dir, f\"gene_pairs_val.txt\")\n",
    "\n",
    "with open(subset_train, \"rb\") as fp:  # Unpickling\n",
    "    list_train = pickle.load(fp)\n",
    "    \n",
    "with open(subset_test, \"rb\") as fp:  # Unpickling\n",
    "    list_test = pickle.load(fp)\n",
    "    \n",
    "with open(subset_val, \"rb\") as fp:  # Unpickling\n",
    "    list_val = pickle.load(fp)"
   ]
  },
  {
   "cell_type": "markdown",
   "id": "b1c3ce07-999a-43cf-8d07-71c68baab7ab",
   "metadata": {},
   "source": [
    "# Esecuzione data loader train"
   ]
  },
  {
   "cell_type": "code",
   "execution_count": 4,
   "id": "bc739933-6278-4eeb-83b0-dfd3fec0333b",
   "metadata": {},
   "outputs": [],
   "source": [
    "pos_width_multipliers = {4: 0.1, 10: 0.15, \n",
    "                     14: 0.15, 17: 0.1, \n",
    "                     19: 0.3, 21: 0.2}\n",
    "neg_width_windows = {(50, 150): 0.05, (150, 170): 0.02,\n",
    "                    (170, 260): 0.05, (260, 350): 0.15,\n",
    "                    (350, 450): 0.28, (450, 511): 0.1,\n",
    "                    (511, 512): 0.35}\n",
    "assert np.round(sum(pos_width_multipliers.values()), 4) == np.round(sum(neg_width_windows.values()), 4) == 1\n",
    "\n",
    "policies_train = [\n",
    "        EasyPosAugment(\n",
    "            per_sample=1,\n",
    "            interaction_selection=InteractionSelectionPolicy.LARGEST,\n",
    "            width_multipliers=pos_width_multipliers,\n",
    "            height_multipliers=pos_width_multipliers,\n",
    "        ),\n",
    "        SmartNegAugment(\n",
    "            per_sample=0.5,\n",
    "            interaction_selection=InteractionSelectionPolicy.LARGEST,\n",
    "            width_multipliers=pos_width_multipliers,\n",
    "            height_multipliers=pos_width_multipliers,\n",
    "        ),\n",
    "        EasyNegAugment(\n",
    "            per_sample=0.1,\n",
    "            width_windows=neg_width_windows,\n",
    "            height_windows=neg_width_windows,\n",
    "        ),\n",
    "        HardPosAugment(\n",
    "            per_sample=0.2,\n",
    "            interaction_selection=InteractionSelectionPolicy.RANDOM_ONE,\n",
    "            min_width_overlap=0.3,\n",
    "            min_height_overlap=0.3,\n",
    "            width_multipliers=pos_width_multipliers,\n",
    "            height_multipliers=pos_width_multipliers,\n",
    "        ),\n",
    "        HardNegAugment(\n",
    "            per_sample=0.1,\n",
    "            width_windows=neg_width_windows,\n",
    "            height_windows=neg_width_windows,\n",
    "        ),\n",
    "]"
   ]
  },
  {
   "cell_type": "code",
   "execution_count": 5,
   "id": "09b3874f-0eca-4ec5-9e55-5744e1cffc4d",
   "metadata": {},
   "outputs": [],
   "source": [
    "dataset_train = RNADataset(\n",
    "        gene2info=df_genes,\n",
    "        interactions=df,\n",
    "        subset_file=subset_train,\n",
    "        augment_policies=policies_train,\n",
    ")"
   ]
  },
  {
   "cell_type": "code",
   "execution_count": 6,
   "id": "1a21164d-4935-4db3-8a06-7506d7d17145",
   "metadata": {},
   "outputs": [
    {
     "data": {
      "application/vnd.jupyter.widget-view+json": {
       "model_id": "410d33d4ff2c4ca2b916518a4542b76b",
       "version_major": 2,
       "version_minor": 0
      },
      "text/plain": [
       "  0%|          | 0/5 [00:00<?, ?it/s]"
      ]
     },
     "metadata": {},
     "output_type": "display_data"
    },
    {
     "data": {
      "application/vnd.jupyter.widget-view+json": {
       "model_id": "49e9e8499205448c829c2a6d6413548c",
       "version_major": 2,
       "version_minor": 0
      },
      "text/plain": [
       "  0%|          | 0/144265 [00:00<?, ?it/s]"
      ]
     },
     "metadata": {},
     "output_type": "display_data"
    },
    {
     "data": {
      "application/vnd.jupyter.widget-view+json": {
       "model_id": "ec0c1e2434de44c8978036cc509a6a3d",
       "version_major": 2,
       "version_minor": 0
      },
      "text/plain": [
       "  0%|          | 0/144265 [00:00<?, ?it/s]"
      ]
     },
     "metadata": {},
     "output_type": "display_data"
    },
    {
     "data": {
      "application/vnd.jupyter.widget-view+json": {
       "model_id": "1be5d13c113d4b838c08a53929f79c96",
       "version_major": 2,
       "version_minor": 0
      },
      "text/plain": [
       "  0%|          | 0/144265 [00:00<?, ?it/s]"
      ]
     },
     "metadata": {},
     "output_type": "display_data"
    },
    {
     "data": {
      "application/vnd.jupyter.widget-view+json": {
       "model_id": "46265dcf448646f3b7a6112484b288b0",
       "version_major": 2,
       "version_minor": 0
      },
      "text/plain": [
       "  0%|          | 0/144265 [00:00<?, ?it/s]"
      ]
     },
     "metadata": {},
     "output_type": "display_data"
    },
    {
     "data": {
      "application/vnd.jupyter.widget-view+json": {
       "model_id": "1cfcd48220de4519ba3bfd1246b5bab7",
       "version_major": 2,
       "version_minor": 0
      },
      "text/plain": [
       "  0%|          | 0/144265 [00:00<?, ?it/s]"
      ]
     },
     "metadata": {},
     "output_type": "display_data"
    }
   ],
   "source": [
    "n_epochs = 1\n",
    "neg_len_1 = []\n",
    "pos_len_1 = []\n",
    "neg_len_2 = []\n",
    "pos_len_2 = []\n",
    "matrix_area_neg = []\n",
    "matrix_area_pos = []\n",
    "policies_pos = []\n",
    "policies_neg = []\n",
    "\n",
    "for epoch in tqdm(range(n_epochs)):\n",
    "    for sample in tqdm(dataset_train, total=len(dataset_train)):\n",
    "        box = sample.bbox\n",
    "        if sample.interacting:\n",
    "            pos_len_1.append(box.x2-box.x1)\n",
    "            pos_len_2.append(box.y2-box.y1)\n",
    "            matrix_area_pos.append((box.x2-box.x1)*(box.y2-box.y1))\n",
    "            policies_pos.append(sample.policy)\n",
    "            policies_pos.append(sample.policy)\n",
    "        else:\n",
    "            neg_len_1.append(box.x2-box.x1)\n",
    "            neg_len_2.append(box.y2-box.y1)\n",
    "            matrix_area_neg.append((box.x2-box.x1)*(box.y2-box.y1))\n",
    "            policies_neg.append(sample.policy)\n",
    "            policies_neg.append(sample.policy)\n",
    "            \n",
    "neg_len = neg_len_1+neg_len_2\n",
    "pos_len = pos_len_1+pos_len_2\n",
    "label_n = ['n' for i in range(len(neg_len))]\n",
    "label_p = ['p' for i in range(len(pos_len))]\n",
    "label = label_n + label_p\n",
    "length = neg_len + pos_len\n",
    "policies = policies_neg+policies_pos\n",
    "df_len = pd.DataFrame({'label':label, 'length':length, 'policy':policies})"
   ]
  },
  {
   "cell_type": "code",
   "execution_count": 7,
   "id": "a6d9dea8-7395-491a-a547-019c15828b2b",
   "metadata": {},
   "outputs": [],
   "source": [
    "df_len = pd.DataFrame({'label':label, 'length':length})"
   ]
  },
  {
   "cell_type": "code",
   "execution_count": 8,
   "id": "6873c9e4-37b9-4f7e-9016-0769bc18590a",
   "metadata": {},
   "outputs": [
    {
     "data": {
      "text/plain": [
       "n    749690\n",
       "p    692960\n",
       "Name: label, dtype: int64"
      ]
     },
     "execution_count": 8,
     "metadata": {},
     "output_type": "execute_result"
    }
   ],
   "source": [
    "df_len.label.value_counts()"
   ]
  },
  {
   "cell_type": "code",
   "execution_count": 9,
   "id": "aeda411d-2def-4374-b7bb-164d8af8572a",
   "metadata": {},
   "outputs": [
    {
     "data": {
      "text/plain": [
       "n    377\n",
       "p    123\n",
       "Name: label, dtype: int64"
      ]
     },
     "execution_count": 9,
     "metadata": {},
     "output_type": "execute_result"
    }
   ],
   "source": [
    "df_len.sort_values('length').tail(500).label.value_counts()"
   ]
  },
  {
   "cell_type": "code",
   "execution_count": 10,
   "id": "49aae541-df92-4879-8010-a0dc4439dcbc",
   "metadata": {},
   "outputs": [],
   "source": [
    "#balance set\n",
    "assert abs(df_len.label.value_counts().n/df_len.shape[0] - 0.5) < 0.05"
   ]
  },
  {
   "cell_type": "code",
   "execution_count": 11,
   "id": "9ce45421-ff70-4638-bfa1-c4c569223b82",
   "metadata": {},
   "outputs": [
    {
     "data": {
      "image/png": "[encoded data removed]",
      "text/plain": [
       "<Figure size 432x288 with 1 Axes>"
      ]
     },
     "metadata": {
      "needs_background": "light"
     },
     "output_type": "display_data"
    },
    {
     "data": {
      "image/png": "[encoded data removed]",
      "text/plain": [
       "<Figure size 432x288 with 1 Axes>"
      ]
     },
     "metadata": {
      "needs_background": "light"
     },
     "output_type": "display_data"
    }
   ],
   "source": [
    "sns.kdeplot(df_len[df_len.label == 'n'].length, color = 'red', label = 'negative')\n",
    "sns.kdeplot(df_len[df_len.label == 'p'].length, color = 'blue', label = 'positive')\n",
    "plt.title(f'Length distribution')\n",
    "plt.legend()\n",
    "plt.show()\n",
    "sns.kdeplot(matrix_area_neg, color = 'red', label = 'negative')\n",
    "sns.kdeplot(matrix_area_pos, color = 'blue', label = 'positive')\n",
    "plt.title(f'Matrix area distribution')\n",
    "plt.legend()\n",
    "plt.show()"
   ]
  },
  {
   "cell_type": "code",
   "execution_count": 12,
   "id": "5b35a39e-d2e5-4122-9413-94c81432bdd7",
   "metadata": {},
   "outputs": [
    {
     "data": {
      "image/png": "[encoded data removed]",
      "text/plain": [
       "<Figure size 432x288 with 1 Axes>"
      ]
     },
     "metadata": {
      "needs_background": "light"
     },
     "output_type": "display_data"
    }
   ],
   "source": [
    "sns.kdeplot(neg_len_1, color = 'red', label = 'gene1_negative')\n",
    "sns.kdeplot(pos_len_1, color = 'green', label = 'gene1_positive')\n",
    "sns.kdeplot(neg_len_2, color = 'blue', label = 'gene2_negative')\n",
    "sns.kdeplot(pos_len_2, color = 'black', label = 'gene2_positive')\n",
    "plt.title(f'Length distribution between gene1 and gene2')\n",
    "plt.legend()\n",
    "plt.show()"
   ]
  },
  {
   "cell_type": "markdown",
   "id": "7c685989-d341-445c-99eb-dbd899b96252",
   "metadata": {},
   "source": [
    "### Validation Set"
   ]
  },
  {
   "cell_type": "code",
   "execution_count": 5,
   "id": "4ebfe6ea-64e8-4f3d-ae1d-bfcc143ead1a",
   "metadata": {},
   "outputs": [
    {
     "data": {
      "application/vnd.jupyter.widget-view+json": {
       "model_id": "9b95c58d4bf34c07b6346c7ca654a672",
       "version_major": 2,
       "version_minor": 0
      },
      "text/plain": [
       "  0%|          | 0/693 [00:00<?, ?it/s]"
      ]
     },
     "metadata": {},
     "output_type": "display_data"
    }
   ],
   "source": [
    "policies_val = [\n",
    "    EasyPosAugment(\n",
    "        per_sample=1,\n",
    "        interaction_selection=InteractionSelectionPolicy.LARGEST,\n",
    "        width_multipliers=pos_width_multipliers,\n",
    "        height_multipliers=pos_width_multipliers,\n",
    "    ),  \n",
    "    SmartNegAugment(\n",
    "        per_sample=0.5,\n",
    "        interaction_selection=InteractionSelectionPolicy.LARGEST,\n",
    "        width_multipliers=pos_width_multipliers,\n",
    "        height_multipliers=pos_width_multipliers,\n",
    "    ),\n",
    "]\n",
    "\n",
    "dataset_val = RNADataset(\n",
    "        gene2info=df_genes,\n",
    "        interactions=df,\n",
    "        subset_file=subset_val,\n",
    "        augment_policies=policies_val,\n",
    "    )\n",
    "\n",
    "def seed_worker(worker_id):\n",
    "    worker_seed = torch.initial_seed() % 2**32\n",
    "    np.random.seed(worker_seed)\n",
    "    random.seed(worker_seed)\n",
    "    torch.manual_seed(worker_seed)\n",
    "    \n",
    "g = torch.Generator()\n",
    "g.manual_seed(0)\n",
    "\n",
    "\n",
    "sampler_val = torch.utils.data.SequentialSampler(dataset_val)\n",
    "data_loader_val = DataLoader(dataset_val, 32,\n",
    "                             sampler=sampler_val, drop_last=False,\n",
    "                             collate_fn=utils.collate_fn_bert,\n",
    "                             num_workers=2,\n",
    "                             worker_init_fn=seed_worker, \n",
    "                             generator=g,)\n",
    "\n",
    "neg_len_1 = []\n",
    "pos_len_1 = []\n",
    "neg_len_2 = []\n",
    "pos_len_2 = []\n",
    "matrix_area_neg = []\n",
    "matrix_area_pos = []\n",
    "\n",
    "for s, targets in tqdm(data_loader_val, total = len(data_loader_val)):\n",
    "    for sample in targets:\n",
    "        box = sample['bbox']\n",
    "        if sample['interacting']==1:\n",
    "            pos_len_1.append(box.x2-box.x1)\n",
    "            pos_len_2.append(box.y2-box.y1)\n",
    "            matrix_area_pos.append((box.x2-box.x1)*(box.y2-box.y1))\n",
    "        else:\n",
    "            neg_len_1.append(box.x2-box.x1)\n",
    "            neg_len_2.append(box.y2-box.y1)\n",
    "            matrix_area_neg.append((box.x2-box.x1)*(box.y2-box.y1))\n",
    "            \n",
    "neg_len = neg_len_1+neg_len_2\n",
    "pos_len = pos_len_1+pos_len_2\n",
    "label_n = ['n' for i in range(len(neg_len))]\n",
    "label_p = ['p' for i in range(len(pos_len))]\n",
    "label = label_n + label_p\n",
    "length = neg_len + pos_len\n",
    "df_len = pd.DataFrame({'label':label, 'length':length})"
   ]
  },
  {
   "cell_type": "code",
   "execution_count": 6,
   "id": "f79814ec-61c7-4838-9715-3c6ec79e5345",
   "metadata": {},
   "outputs": [],
   "source": [
    "#balance set\n",
    "assert abs(df_len.label.value_counts().n/df_len.shape[0] - 0.5) < 0.05"
   ]
  },
  {
   "cell_type": "code",
   "execution_count": 7,
   "id": "bd7394dd-545b-4f2c-8083-d304b37af456",
   "metadata": {},
   "outputs": [
    {
     "data": {
      "image/png": "[encoded data removed]",
      "text/plain": [
       "<Figure size 432x288 with 1 Axes>"
      ]
     },
     "metadata": {
      "needs_background": "light"
     },
     "output_type": "display_data"
    },
    {
     "data": {
      "image/png": "[encoded data removed]",
      "text/plain": [
       "<Figure size 432x288 with 1 Axes>"
      ]
     },
     "metadata": {
      "needs_background": "light"
     },
     "output_type": "display_data"
    }
   ],
   "source": [
    "sns.kdeplot(df_len[df_len.label == 'n'].length, color = 'red', label = 'negative')\n",
    "sns.kdeplot(df_len[df_len.label == 'p'].length, color = 'blue', label = 'positive')\n",
    "plt.title(f'Length distribution')\n",
    "plt.legend()\n",
    "plt.show()\n",
    "sns.kdeplot(matrix_area_neg, color = 'red', label = 'negative')\n",
    "sns.kdeplot(matrix_area_pos, color = 'blue', label = 'positive')\n",
    "plt.title(f'Matrix area distribution')\n",
    "plt.legend()\n",
    "plt.show()"
   ]
  },
  {
   "cell_type": "code",
   "execution_count": null,
   "id": "3895194b-f023-47e5-a690-b3b687f4eade",
   "metadata": {},
   "outputs": [],
   "source": []
  },
  {
   "cell_type": "code",
   "execution_count": null,
   "id": "4da6ed84-7122-4c6c-ae3a-1e28ac13e9db",
   "metadata": {},
   "outputs": [],
   "source": []
  },
  {
   "cell_type": "code",
   "execution_count": null,
   "id": "b3e27231-2e67-4b95-ae79-8de9ec904f91",
   "metadata": {},
   "outputs": [],
   "source": []
  },
  {
   "cell_type": "code",
   "execution_count": null,
   "id": "0839fff1-3563-4bf4-8e75-c471dbb34d66",
   "metadata": {},
   "outputs": [],
   "source": []
  },
  {
   "cell_type": "code",
   "execution_count": null,
   "id": "e517b94f-6895-4aea-9ed8-7045a4c96db3",
   "metadata": {},
   "outputs": [],
   "source": []
  },
  {
   "cell_type": "code",
   "execution_count": null,
   "id": "4162aa92-1d10-42e2-a3ce-18942589ad1d",
   "metadata": {},
   "outputs": [],
   "source": []
  },
  {
   "cell_type": "code",
   "execution_count": null,
   "id": "56ad7fdb-358a-450f-aed9-7560fca29742",
   "metadata": {},
   "outputs": [],
   "source": []
  },
  {
   "cell_type": "code",
   "execution_count": 7,
   "id": "e6655c2f-4867-4fc8-b2b1-2b4c2160d2d1",
   "metadata": {},
   "outputs": [],
   "source": [
    "# sample = dataset_train[0]\n",
    "\n",
    "# sampler_train = torch.utils.data.RandomSampler(dataset_train)\n",
    "\n",
    "# batch_sampler_train = torch.utils.data.BatchSampler(sampler_train, 32, drop_last=False)\n",
    "# data_loader_train = DataLoader(dataset_train, batch_sampler=batch_sampler_train,\n",
    "#                                collate_fn=utils.collate_fn_bert, num_workers=2)"
   ]
  },
  {
   "cell_type": "code",
   "execution_count": 12,
   "id": "1843c89a-f55e-41da-86c3-40938f238577",
   "metadata": {},
   "outputs": [
    {
     "name": "stdout",
     "output_type": "stream",
     "text": [
      "ok\n"
     ]
    }
   ],
   "source": [
    "import argparse\n",
    "import pickle\n",
    "from models.bert_classifier2 import build as build_model \n",
    "\n",
    "def dict_to_namespace(d):\n",
    "    namespace = argparse.Namespace(**d)\n",
    "    return namespace\n",
    "\n",
    "file = os.path.join(ROOT_DIR, 'checkpoints_bert', 'binary_cl', 'args.pkl')\n",
    "\n",
    "with open(file, 'rb') as f:\n",
    "    args_dict = pickle.load(f)\n",
    "    \n",
    "args = dict_to_namespace(args_dict)\n",
    "\n",
    "args.device = 'cpu'\n",
    "\n",
    "device = torch.device(args.device)\n",
    "model = build_model(args, bert_pretrained_dir)\n",
    "\n",
    "checkpoint = torch.load(os.path.join(ROOT_DIR, 'checkpoints_bert', 'binary_cl', '8.pth'), map_location='cpu')\n",
    "model.load_state_dict(checkpoint['model'])\n",
    "\n",
    "\n",
    "model.to(device)\n",
    "print('ok')"
   ]
  },
  {
   "cell_type": "code",
   "execution_count": 13,
   "id": "9245319c-02e4-40fe-8576-7cd19a8c663b",
   "metadata": {},
   "outputs": [],
   "source": [
    "criterion = torch.nn.CrossEntropyLoss()\n",
    "optimizer = torch.optim.AdamW(model.parameters(), lr=args.lr,\n",
    "                                  weight_decay=args.weight_decay)"
   ]
  },
  {
   "cell_type": "code",
   "execution_count": 14,
   "id": "f6c0e149-3758-4650-a33f-75a10d0498f8",
   "metadata": {},
   "outputs": [],
   "source": [
    "@torch.no_grad()\n",
    "def evaluate_bert(model, criterion, data_loader, device, frequency_print = 1000):\n",
    "    \n",
    "    model.eval()\n",
    "    criterion.eval()\n",
    "    for samples, labels in data_loader:\n",
    "        rna1, rna2 = samples\n",
    "        rna1 = rna1.to(device)\n",
    "        rna2 = rna2.to(device)\n",
    "        \n",
    "        outputs = model(rna1, rna2)\n",
    "        del rna1, rna2\n",
    "        labels = torch.tensor([l['interacting'] for l in labels]).to(device)\n",
    "        loss = criterion(outputs, labels)\n",
    "        \n",
    "        metric_dict = calc_metrics(outputs, labels, beta = 2)\n",
    "        metric_dict['loss'] = loss\n",
    "        \n",
    "        metric_logger.update(**metric_dict)       \n",
    "\n",
    "    # gather the stats from all processes\n",
    "    #metric_logger.synchronize_between_processes()\n",
    "    print(\"Averaged stats:\", metric_logger)\n",
    " \n",
    "    stats = {k: meter.global_avg for k, meter in metric_logger.meters.items()}\n",
    "\n",
    "    return stats"
   ]
  },
  {
   "cell_type": "code",
   "execution_count": 15,
   "id": "4739485b-056d-4456-8b87-f47e22136ab7",
   "metadata": {},
   "outputs": [],
   "source": [
    "for samples, labels in data_loader_val:\n",
    "    rna1, rna2 = samples\n",
    "    rna1 = rna1.to(device)\n",
    "    rna2 = rna2.to(device)\n",
    "\n",
    "    outputs = model(rna1, rna2)\n",
    "    del rna1, rna2\n",
    "    labels = torch.tensor([l['interacting'] for l in labels]).to(device)\n",
    "    break"
   ]
  },
  {
   "cell_type": "code",
   "execution_count": 18,
   "id": "df150d50-5711-4ae3-bcf6-1f38f4d7345c",
   "metadata": {},
   "outputs": [
    {
     "data": {
      "text/plain": [
       "tensor([1, 1, 0, 0, 1, 0, 0, 1, 1, 0, 1, 0, 0, 1, 1, 0, 1, 0, 1, 1, 0, 0, 0, 0,\n",
       "        0, 0, 0, 1, 1, 1, 1, 0, 1, 1, 0, 0, 1, 0, 0, 1, 1, 0, 1, 0, 0, 1, 1, 0,\n",
       "        1, 0, 1, 1, 0, 0, 0, 0, 0, 0, 0, 1, 1, 1, 1, 0])"
      ]
     },
     "execution_count": 18,
     "metadata": {},
     "output_type": "execute_result"
    }
   ],
   "source": [
    "torch.cat([labels, labels], axis = 0)"
   ]
  },
  {
   "cell_type": "code",
   "execution_count": 19,
   "id": "bf36f519-7742-41e0-b3a9-739f775d0047",
   "metadata": {},
   "outputs": [
    {
     "data": {
      "text/plain": [
       "tensor([[-0.3718,  0.2570],\n",
       "        [-0.2199,  0.1650],\n",
       "        [ 0.1845, -0.1383],\n",
       "        [ 0.1776, -0.4932],\n",
       "        [-0.5915,  0.5277],\n",
       "        [-0.0125,  0.0215],\n",
       "        [-0.1273,  0.1203],\n",
       "        [ 0.0397, -0.0159],\n",
       "        [ 0.3688, -0.1931],\n",
       "        [ 0.0452, -0.0178],\n",
       "        [ 0.0829, -0.0521],\n",
       "        [ 0.1587, -0.0754],\n",
       "        [ 0.3670, -0.1755],\n",
       "        [-0.9224,  0.3086],\n",
       "        [ 0.1392, -0.0865],\n",
       "        [ 0.0709, -0.0323],\n",
       "        [-0.0396,  0.0452],\n",
       "        [ 0.4319, -0.1978],\n",
       "        [-0.0146,  0.0281],\n",
       "        [-0.0048,  0.0225],\n",
       "        [ 0.1266, -0.0757],\n",
       "        [-0.0034,  0.0201],\n",
       "        [ 0.0849, -0.0441],\n",
       "        [-0.0133,  0.0299],\n",
       "        [ 0.4015, -0.1870],\n",
       "        [ 0.0115,  0.0097],\n",
       "        [-0.0041,  0.0206],\n",
       "        [-0.1740,  0.1407],\n",
       "        [ 0.1005, -0.0538],\n",
       "        [-0.0051,  0.0203],\n",
       "        [ 0.0814, -0.0403],\n",
       "        [ 0.0661, -0.0335],\n",
       "        [-0.3718,  0.2570],\n",
       "        [-0.2199,  0.1650],\n",
       "        [ 0.1845, -0.1383],\n",
       "        [ 0.1776, -0.4932],\n",
       "        [-0.5915,  0.5277],\n",
       "        [-0.0125,  0.0215],\n",
       "        [-0.1273,  0.1203],\n",
       "        [ 0.0397, -0.0159],\n",
       "        [ 0.3688, -0.1931],\n",
       "        [ 0.0452, -0.0178],\n",
       "        [ 0.0829, -0.0521],\n",
       "        [ 0.1587, -0.0754],\n",
       "        [ 0.3670, -0.1755],\n",
       "        [-0.9224,  0.3086],\n",
       "        [ 0.1392, -0.0865],\n",
       "        [ 0.0709, -0.0323],\n",
       "        [-0.0396,  0.0452],\n",
       "        [ 0.4319, -0.1978],\n",
       "        [-0.0146,  0.0281],\n",
       "        [-0.0048,  0.0225],\n",
       "        [ 0.1266, -0.0757],\n",
       "        [-0.0034,  0.0201],\n",
       "        [ 0.0849, -0.0441],\n",
       "        [-0.0133,  0.0299],\n",
       "        [ 0.4015, -0.1870],\n",
       "        [ 0.0115,  0.0097],\n",
       "        [-0.0041,  0.0206],\n",
       "        [-0.1740,  0.1407],\n",
       "        [ 0.1005, -0.0538],\n",
       "        [-0.0051,  0.0203],\n",
       "        [ 0.0814, -0.0403],\n",
       "        [ 0.0661, -0.0335]], grad_fn=<CatBackward>)"
      ]
     },
     "execution_count": 19,
     "metadata": {},
     "output_type": "execute_result"
    }
   ],
   "source": [
    "torch.cat([outputs, outputs], axis = 0)"
   ]
  },
  {
   "cell_type": "code",
   "execution_count": 10,
   "id": "9b381034-d1fb-42b1-801a-abf43681bdc4",
   "metadata": {},
   "outputs": [
    {
     "name": "stdout",
     "output_type": "stream",
     "text": [
      "Test:  [  0/696]  eta: 0:50:10  accuracy: 0.5938 (0.5938)  precision: 0.6000 (0.6000)  recall: 0.5625 (0.5625)  F2: 0.5696 (0.5696)  specificity: 0.6250 (0.6250)  NPV: 0.5882 (0.5882)  loss: 0.6445 (0.6445)  time: 4.3247  data: 0.4233  max mem: 8326\n",
      "Test:  [695/696]  eta: 0:00:03  accuracy: 0.5312 (0.5581)  precision: 0.4667 (0.5529)  recall: 0.5385 (0.5753)  F2: 0.5000 (0.5637)  specificity: 0.5000 (0.5359)  NPV: 0.5556 (0.5602)  loss: 0.6874 (0.6831)  time: 3.3374  data: 0.0011  max mem: 8326\n",
      "Test: Total time: 0:39:33 (3.4106 s / it)\n",
      "Averaged stats: accuracy: 0.5312 (0.5581)  precision: 0.4667 (0.5529)  recall: 0.5385 (0.5753)  F2: 0.5000 (0.5637)  specificity: 0.5000 (0.5359)  NPV: 0.5556 (0.5602)  loss: 0.6874 (0.6831)\n"
     ]
    },
    {
     "ename": "ValueError",
     "evalue": "too many values to unpack (expected 2)",
     "output_type": "error",
     "traceback": [
      "\u001b[0;31m---------------------------------------------------------------------------\u001b[0m",
      "\u001b[0;31mValueError\u001b[0m                                Traceback (most recent call last)",
      "\u001b[0;32m/tmp/ipykernel_1072326/2333647963.py\u001b[0m in \u001b[0;36m<module>\u001b[0;34m\u001b[0m\n\u001b[1;32m      1\u001b[0m \u001b[0;32mfrom\u001b[0m \u001b[0mutil\u001b[0m\u001b[0;34m.\u001b[0m\u001b[0mengine\u001b[0m \u001b[0;32mimport\u001b[0m \u001b[0mevaluate_bert\u001b[0m \u001b[0;32mas\u001b[0m \u001b[0mevaluate\u001b[0m\u001b[0;34m\u001b[0m\u001b[0;34m\u001b[0m\u001b[0m\n\u001b[1;32m      2\u001b[0m \u001b[0;34m\u001b[0m\u001b[0m\n\u001b[0;32m----> 3\u001b[0;31m \u001b[0moutputs\u001b[0m\u001b[0;34m,\u001b[0m \u001b[0mlabels\u001b[0m \u001b[0;34m=\u001b[0m \u001b[0mevaluate\u001b[0m\u001b[0;34m(\u001b[0m\u001b[0mmodel\u001b[0m\u001b[0;34m,\u001b[0m \u001b[0mcriterion\u001b[0m\u001b[0;34m,\u001b[0m \u001b[0mdata_loader_val\u001b[0m\u001b[0;34m,\u001b[0m \u001b[0mdevice\u001b[0m\u001b[0;34m)\u001b[0m\u001b[0;34m\u001b[0m\u001b[0;34m\u001b[0m\u001b[0m\n\u001b[0m",
      "\u001b[0;31mValueError\u001b[0m: too many values to unpack (expected 2)"
     ]
    }
   ],
   "source": [
    "from util.engine import evaluate_bert as evaluate\n",
    "\n",
    "stats = evaluate(model, criterion, data_loader_val, device)"
   ]
  },
  {
   "cell_type": "code",
   "execution_count": null,
   "id": "0106d483-0c0e-4046-93a6-f4c7c012c2fa",
   "metadata": {},
   "outputs": [],
   "source": []
  },
  {
   "cell_type": "code",
   "execution_count": null,
   "id": "c8e030ff-8e09-41f3-8fa5-362c4cbc7dae",
   "metadata": {},
   "outputs": [],
   "source": []
  },
  {
   "cell_type": "code",
   "execution_count": null,
   "id": "db523a79-22fe-4de3-8321-31301f009f29",
   "metadata": {},
   "outputs": [],
   "source": []
  },
  {
   "cell_type": "code",
   "execution_count": null,
   "id": "a4c06d66-b6ca-43f4-a03b-903eac04f615",
   "metadata": {},
   "outputs": [],
   "source": []
  },
  {
   "cell_type": "code",
   "execution_count": null,
   "id": "57a6d837-dffa-4b70-8f4d-de21adc0296b",
   "metadata": {},
   "outputs": [],
   "source": []
  },
  {
   "cell_type": "code",
   "execution_count": null,
   "id": "3bba38a5-e4bf-49f3-9695-4c1d8449af5c",
   "metadata": {},
   "outputs": [],
   "source": []
  }
 ],
 "metadata": {
  "kernelspec": {
   "display_name": "Python 3 (ipykernel)",
   "language": "python",
   "name": "python3"
  },
  "language_info": {
   "codemirror_mode": {
    "name": "ipython",
    "version": 3
   },
   "file_extension": ".py",
   "mimetype": "text/x-python",
   "name": "python",
   "nbconvert_exporter": "python",
   "pygments_lexer": "ipython3",
   "version": "3.9.7"
  }
 },
 "nbformat": 4,
 "nbformat_minor": 5
}
