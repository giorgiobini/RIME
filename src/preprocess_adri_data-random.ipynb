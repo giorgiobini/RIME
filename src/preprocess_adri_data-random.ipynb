{
 "cells": [
  {
   "cell_type": "markdown",
   "id": "75fd7e20-8dab-4f31-a886-2801a259b193",
   "metadata": {},
   "source": [
    "# Code"
   ]
  },
  {
   "cell_type": "code",
   "execution_count": 14,
   "id": "685f531f",
   "metadata": {},
   "outputs": [],
   "source": [
    "import pandas as pd\n",
    "import os\n",
    "import time\n",
    "import numpy as np\n",
    "import sys\n",
    "from tqdm.notebook import tqdm\n",
    "import seaborn as sns\n",
    "import matplotlib.pyplot as plt\n",
    "sys.path.insert(0, '..')\n",
    "import dataset.preprocessing as utils\n",
    "from config import *"
   ]
  },
  {
   "cell_type": "markdown",
   "id": "0c4ff3bd-6803-470d-a1bd-3a21e6d1e19b",
   "metadata": {},
   "source": [
    "### Pre-processing"
   ]
  },
  {
   "cell_type": "code",
   "execution_count": 2,
   "id": "497655dd-0964-429a-9985-d99f3cebec6d",
   "metadata": {},
   "outputs": [],
   "source": [
    "df_hub = utils.read_dataframe(os.path.join(original_files_dir, 'hub.table.paris.txt'), columns_to_drop = ['Unnamed: 0','gene_name']).rename({'cell_line': 'cell_line_set',\n",
    "                                                                                                                                                    'degree':'n_interactors',\n",
    "                                                                                                                                                    'gene_type': 'gene_type_set',\n",
    "                                                                                                                                                    'species': 'species_set'}, axis = 1)\n",
    "tx = utils.read_dataframe(os.path.join(original_files_dir,'tx_regions.ens99.txt'), columns_to_drop = ['Unnamed: 0','ensembl_transcript_id']).rename({'ensembl_gene_id': 'gene_id'}, axis = 1)\n",
    "cc = utils.read_dataframe(os.path.join(original_files_dir,'controls_controlled.hub.txt'), columns_to_drop = ['Unnamed: 0'])\n",
    "int_or = utils.read_dataframe(os.path.join(original_files_dir, 'rise_paris_tr.new.mapped_interactions.tx_regions.txt'), columns_to_drop = ['Unnamed: 0',  'Unnamed: 0.1', 'gene_name1', 'gene_name2', 'score', 'tx_id_1', 'tx_id_2', 'rise_id', 'type_interaction', 'tx_id_1_localization', 'tx_id_2_localization'])\n",
    "int_or = int_or.drop_duplicates().reset_index(drop = True)\n",
    "df_genes = df_hub.merge(tx, on = 'gene_id')\n",
    "assert df_genes.shape[0] == df_hub.shape[0]"
   ]
  },
  {
   "cell_type": "code",
   "execution_count": 3,
   "id": "30fa167f-b15a-4b2f-83ed-91248a5ce12a",
   "metadata": {},
   "outputs": [],
   "source": [
    "df_pairs_full = utils.obtain_df_pos_controls(cc)[['positive']].drop_duplicates().reset_index(drop = True)"
   ]
  },
  {
   "cell_type": "code",
   "execution_count": 4,
   "id": "d44900e6-be9e-4189-8401-561fce665a17",
   "metadata": {},
   "outputs": [],
   "source": [
    "rgx = df_pairs_full['positive'].str.extractall('(.*)_(.*)').reset_index(drop = True)\n",
    "df_pairs_full['gene1'], df_pairs_full['gene2'] = rgx[0], rgx[1]"
   ]
  },
  {
   "cell_type": "code",
   "execution_count": 5,
   "id": "02b8b74b-e536-4d79-833e-1978c5c6fe85",
   "metadata": {},
   "outputs": [],
   "source": [
    "how_many_negatives_per_positive = 2 \n",
    "for i in range(how_many_negatives_per_positive):\n",
    "    df_pairs_full['gene2'] = df_pairs_full.sample(frac=1, replace=False, random_state=42).reset_index(drop = True)['gene2']\n",
    "    df_pairs_full[f'negative{i}'] = df_pairs_full['gene1'] + '_' + df_pairs_full['gene2']\n",
    "    \n",
    "df_pairs_full = pd.concat([\n",
    "    df_pairs_full[['positive', 'negative0']].rename({'negative0':'negative'}, axis = 1),\n",
    "    df_pairs_full[['positive', 'negative1']].rename({'negative1':'negative'}, axis = 1)\n",
    "], axis = 0)\n",
    "\n",
    "def order_genes(x):\n",
    "    x1, x2 = x.split('_')\n",
    "    return utils.get_couple_id(x1, x2)\n",
    "\n",
    "df_pairs_full['negative'] = df_pairs_full['negative'].apply(order_genes)\n",
    "df_pairs_full['positive'] = df_pairs_full['positive'].apply(order_genes)"
   ]
  },
  {
   "cell_type": "code",
   "execution_count": 6,
   "id": "debabab8-fdd7-4df3-95ff-37ac8a2795e4",
   "metadata": {},
   "outputs": [
    {
     "name": "stdout",
     "output_type": "stream",
     "text": [
      "how many to drop 546\n"
     ]
    }
   ],
   "source": [
    "to_drop = set(df_pairs_full['positive']).intersection(df_pairs_full['negative'])\n",
    "\n",
    "print('how many to drop', len(to_drop))\n",
    "\n",
    "df_pairs_full = df_pairs_full[~df_pairs_full['negative'].isin(to_drop)]"
   ]
  },
  {
   "cell_type": "code",
   "execution_count": 7,
   "id": "0f73dcaa-bfa7-4767-9f51-fd299f71c4dd",
   "metadata": {},
   "outputs": [
    {
     "name": "stdout",
     "output_type": "stream",
     "text": [
      "We have 80485 pairs interacting (they can have multiple interactions) \n",
      "\n",
      "We have 159687 pairs not interacting \n",
      "\n"
     ]
    }
   ],
   "source": [
    "print(f'We have {len(set(df_pairs_full.positive))} pairs interacting (they can have multiple interactions) \\n')\n",
    "print(f'We have {len(set(df_pairs_full.negative))} pairs not interacting \\n')"
   ]
  },
  {
   "cell_type": "code",
   "execution_count": 8,
   "id": "023dbe0c-9ade-49d3-b1ca-6b8573b18187",
   "metadata": {},
   "outputs": [],
   "source": [
    "df_pairs_full.to_csv(os.path.join(processed_files_dir, 'df_pairs_full_RANDOM.csv'), index = False)"
   ]
  },
  {
   "cell_type": "code",
   "execution_count": 9,
   "id": "bf7b8a43-60bc-47cc-9c58-c409a8e275af",
   "metadata": {},
   "outputs": [],
   "source": [
    "df_neg = df_pairs_full[['negative']].drop_duplicates().reset_index(drop = True)\n",
    "df_neg[['gene1', 'gene2']] = df_neg['negative'].str.split('_', expand = True)\n",
    "df_neg = df_neg.rename({'negative':'couples'}, axis = 1)"
   ]
  },
  {
   "cell_type": "markdown",
   "id": "c6106d43-9af8-4b5c-aab5-14dfba61d979",
   "metadata": {},
   "source": [
    "### Gene info df"
   ]
  },
  {
   "cell_type": "code",
   "execution_count": 10,
   "id": "785883b9-0f3c-4c90-a06f-4a938b4d8e65",
   "metadata": {},
   "outputs": [],
   "source": [
    "df_genes = pd.read_csv(os.path.join(processed_files_dir, 'df_genes.csv'))"
   ]
  },
  {
   "cell_type": "markdown",
   "id": "dab1efbb-8073-4979-9f94-c1524997142e",
   "metadata": {},
   "source": [
    "### Clean bounding boxes of df interactions"
   ]
  },
  {
   "cell_type": "code",
   "execution_count": 11,
   "id": "73ae1fab-dbea-413a-b550-cccefb1b89c9",
   "metadata": {},
   "outputs": [],
   "source": [
    "df_int = pd.read_csv(os.path.join(processed_files_dir, 'full_paris_info_interactions.csv'))\n",
    "\n",
    "df_int = df_int[['couples', 'gene1', 'gene2', \n",
    "                 'interacting', 'length_1', 'length_2',\n",
    "                 'protein_coding_1', 'protein_coding_2',\n",
    "                 'x1', 'y1', 'w', 'h']]"
   ]
  },
  {
   "cell_type": "code",
   "execution_count": 12,
   "id": "7a2c82b2-db68-468d-9be7-9357490114e9",
   "metadata": {},
   "outputs": [],
   "source": [
    "df_neg['interacting'] = False\n",
    "df_neg = df_neg.merge(df_genes[['gene_id', 'length', 'protein_coding']], left_on = 'gene1', right_on = 'gene_id').drop('gene_id', axis = 1).rename({'length': 'length_1','protein_coding':'protein_coding_1'} , axis = 1)\n",
    "df_neg = df_neg.merge(df_genes[['gene_id', 'length', 'protein_coding']], left_on = 'gene2', right_on = 'gene_id').drop('gene_id', axis = 1).rename({'length': 'length_2','protein_coding':'protein_coding_2'} , axis = 1)"
   ]
  },
  {
   "cell_type": "code",
   "execution_count": 14,
   "id": "45cd86c3-12c6-416b-a57a-33d1d254fad6",
   "metadata": {},
   "outputs": [],
   "source": [
    "assert (set(df_pairs_full.negative) - set(df_neg.couples) == {np.nan})|(set(df_pairs_full.negative) - set(df_neg.couples) == set()) # I have some NaN in the df_pairs_full"
   ]
  },
  {
   "cell_type": "code",
   "execution_count": 15,
   "id": "bb684b87-ab9f-4eb4-92e3-d46a15a6cddf",
   "metadata": {},
   "outputs": [],
   "source": [
    "df_int1 = df_int[['gene1', 'x1', 'w']].rename({'gene1':'gene', 'x1':'c1',  'w': 'l'}, axis = 1)\n",
    "df_int2 = df_int[['gene2', 'y1', 'h']].rename({'gene2':'gene', 'y1':'c1',  'h': 'l'}, axis = 1)\n",
    "df_coord = pd.concat([df_int1, df_int2], ignore_index = True)#.drop_duplicates().reset_index(drop = True)\n",
    "#df_coord may have duplicates. but this is something I want. If a gene appears more than once, I want it to be sampled according to its distribution."
   ]
  },
  {
   "cell_type": "code",
   "execution_count": 16,
   "id": "f905d068-a9f7-4b90-be97-20f5261ce4fe",
   "metadata": {},
   "outputs": [],
   "source": [
    "assert set(df_neg.gene1).union(set(df_neg.gene2)) - set(df_coord.gene) == set()"
   ]
  },
  {
   "cell_type": "markdown",
   "id": "5c996562-83ab-41f2-a9de-9a9aacfe6b1c",
   "metadata": {},
   "source": [
    "### Create fake negative interactions"
   ]
  },
  {
   "cell_type": "code",
   "execution_count": 17,
   "id": "42ca2e75-3f07-4b19-9608-adb0e60eab30",
   "metadata": {},
   "outputs": [],
   "source": [
    "df_coord = df_coord.merge(\n",
    "    df_genes.filter(['gene_id', 'UTR5', 'CDS', 'UTR3', 'protein_coding'], axis = 1).rename({'gene_id':'gene'}, axis = 1)\n",
    ")\n",
    "df_coord['where_c1'] = df_coord.apply(utils.where_interacts, axis = 1)"
   ]
  },
  {
   "cell_type": "code",
   "execution_count": 18,
   "id": "bdf72c1c-4bf5-4fec-b13b-c68fe8432729",
   "metadata": {},
   "outputs": [
    {
     "name": "stdout",
     "output_type": "stream",
     "text": [
      "Total time: 127.97081159353256 minutes\n"
     ]
    }
   ],
   "source": [
    "#127 min\n",
    "start_time = time.time()\n",
    "new_cols = df_neg[['couples', 'gene1', 'gene2']].apply(utils.create_fake_coord_neg, axis = 1, args = (df_coord,df_pairs_full,df_int,))\n",
    "print(f\"Total time: {(time.time()-start_time)/60} minutes\")"
   ]
  },
  {
   "cell_type": "code",
   "execution_count": 19,
   "id": "d046f49e-de25-489b-876b-8964d336efbf",
   "metadata": {},
   "outputs": [],
   "source": [
    "new_cols = new_cols.apply(pd.Series).rename({0:'x1', 1:'y1', 2:'w', 3:'h'}, axis = 1)"
   ]
  },
  {
   "cell_type": "code",
   "execution_count": 20,
   "id": "3ba239a2-1ec9-4400-900a-6e5151cbe8fe",
   "metadata": {},
   "outputs": [],
   "source": [
    "df_neg = pd.concat([df_neg, new_cols], axis = 1)"
   ]
  },
  {
   "cell_type": "code",
   "execution_count": 21,
   "id": "83d1de31-9c99-4f76-8c4f-36c2f90fceab",
   "metadata": {},
   "outputs": [],
   "source": [
    "df = pd.concat([df_int, df_neg], ignore_index = True, axis = 0)\n",
    "df.to_csv(os.path.join(processed_files_dir, 'final_df_RANDOM.csv'), index = False)"
   ]
  },
  {
   "cell_type": "markdown",
   "id": "cddc574e-a3dd-4a63-b048-7bf108b9a9d0",
   "metadata": {},
   "source": [
    "Now I do checks"
   ]
  },
  {
   "cell_type": "code",
   "execution_count": 22,
   "id": "654e7a7b-4096-4669-ac97-195b8e06b847",
   "metadata": {},
   "outputs": [],
   "source": [
    "#check if it worked\n",
    "assert (df_neg.x1 <= df_neg.length_1).all()\n",
    "assert ((df_neg.x1 + df_neg.w) <= df_neg.length_1).all()\n",
    "assert (df_neg.y1 <= df_neg.length_2).all()\n",
    "assert ((df_neg.y1 + df_neg.h) <= df_neg.length_2).all()"
   ]
  },
  {
   "cell_type": "code",
   "execution_count": 23,
   "id": "86a6b0e3-0d8c-49f8-9fc6-4581e78bccd6",
   "metadata": {},
   "outputs": [
    {
     "name": "stdout",
     "output_type": "stream",
     "text": [
      "0.49% in 0.2674432396888733 minutes\n",
      "1.28% in 0.6839573502540588 minutes\n",
      "8.14% in 4.317260754108429 minutes\n",
      "9.92% in 5.259678407510122 minutes\n",
      "12.7% in 6.731126554807028 minutes\n",
      "13.63% in 7.224628718694051 minutes\n",
      "15.42% in 8.172607183456421 minutes\n",
      "19.99% in 10.593974514802296 minutes\n",
      "24.2% in 12.827969026565551 minutes\n",
      "25.07% in 13.286136547724405 minutes\n",
      "29.36% in 15.51808332602183 minutes\n",
      "29.55% in 15.614556908607483 minutes\n",
      "29.64% in 15.656647749741872 minutes\n",
      "30.76% in 16.20518857638041 minutes\n",
      "39.27% in 20.353888646761575 minutes\n",
      "41.51% in 21.44532863299052 minutes\n",
      "42.41% in 21.88201893965403 minutes\n",
      "42.77% in 22.05802938143412 minutes\n",
      "44.75% in 23.02445451418559 minutes\n",
      "51.54% in 26.332193080584208 minutes\n",
      "51.82% in 26.468093542257943 minutes\n",
      "54.11% in 27.58557262420654 minutes\n",
      "56.94% in 29.00339949131012 minutes\n",
      "66.4% in 34.024077320098876 minutes\n",
      "67.42% in 34.567647349834445 minutes\n",
      "70.07% in 35.96970264116923 minutes\n",
      "72.13% in 37.05869233210881 minutes\n",
      "77.01% in 39.64921414057414 minutes\n",
      "77.51% in 39.912873498598735 minutes\n",
      "78.28% in 40.32058425744375 minutes\n",
      "78.42% in 40.39499927759171 minutes\n",
      "79.4% in 40.91574221452077 minutes\n",
      "79.57% in 41.00248157978058 minutes\n",
      "81.61% in 42.087093436717986 minutes\n",
      "83.1% in 42.87847451766332 minutes\n",
      "86.6% in 44.731599509716034 minutes\n",
      "87.25% in 45.08018816312154 minutes\n",
      "88.07% in 45.51340527534485 minutes\n",
      "90.97% in 47.04653678337733 minutes\n",
      "92.08% in 47.63729442755381 minutes\n",
      "97.25% in 50.370692217350005 minutes\n",
      "97.94% in 50.733624025185904 minutes\n",
      "Total time: 51.81961032152176 minutes\n"
     ]
    }
   ],
   "source": [
    "# 37 min\n",
    "#check if it worked\n",
    "start_time = time.time()\n",
    "for _, row in df_neg.iterrows():\n",
    "    g1 = row.gene1\n",
    "    g2 = row.gene2\n",
    "    assert [row.x1, row.w] in df_coord[df_coord.gene == g1][['c1', 'l']].values\n",
    "    assert [row.y1, row.h] in df_coord[df_coord.gene == g2][['c1', 'l']].values\n",
    "    if np.random.rand() < 0.0003: #progress\n",
    "        print(f\"{np.round(_/df_neg.shape[0] * 100, 2)}% in {(time.time()-start_time)/60} minutes\")\n",
    "print(f\"Total time: {(time.time()-start_time)/60} minutes\")"
   ]
  },
  {
   "cell_type": "markdown",
   "id": "77e9405b-f2ba-4cda-a93e-e0290fca5cf2",
   "metadata": {
    "tags": []
   },
   "source": [
    "# Plots "
   ]
  },
  {
   "cell_type": "markdown",
   "id": "f07e0918-86de-4b38-b88d-414dcc4ae831",
   "metadata": {},
   "source": [
    "### Degree"
   ]
  },
  {
   "cell_type": "code",
   "execution_count": 2,
   "id": "c78e90ec-84bb-47a5-80da-70740f5f353e",
   "metadata": {},
   "outputs": [],
   "source": [
    "df = pd.read_csv(os.path.join(processed_files_dir, 'final_df_RANDOM.csv'))"
   ]
  },
  {
   "cell_type": "code",
   "execution_count": 37,
   "id": "a6d90093-8f0b-44bb-b8b6-293c203b464a",
   "metadata": {},
   "outputs": [],
   "source": [
    "def obtain_gene_count_real(df):\n",
    "    vc = df.interacting.value_counts()\n",
    "    if set(vc.index) == {False, True}:\n",
    "        unbalance_factor = vc[True]/vc[False]\n",
    "    else:\n",
    "        unbalance_factor = np.nan\n",
    "    gene_count_pos_list = list(df[df.interacting].gene1) + list(df[df.interacting].gene2)\n",
    "    gene_count_neg_list = list(df[df.interacting == False].gene1) + list(df[df.interacting == False].gene2)\n",
    "\n",
    "    gene_count_pos = pd.DataFrame({'gene': gene_count_pos_list, 'interacting':1})\n",
    "    gene_count_neg = pd.DataFrame({'gene': gene_count_neg_list, 'interacting':0})\n",
    "    gene_count_res = pd.concat([gene_count_pos, gene_count_neg], axis = 0)\n",
    "    \n",
    "    gene_count_res['weight'] = 1\n",
    "    gene_count_res.loc[ gene_count_res.interacting == 0, 'weight'] = unbalance_factor\n",
    "    gene_count_real = gene_count_res.groupby('gene').sum()\n",
    "    gene_count_real['not_interacting'] = gene_count_real['weight'] - gene_count_real['interacting']\n",
    "    gene_count_real['diff'] = gene_count_real['interacting'] - gene_count_real['not_interacting']\n",
    "    gene_count_real['total'] = gene_count_real['not_interacting'] + gene_count_real['interacting']\n",
    "    gene_count_real = gene_count_real.reset_index()#add gene column\n",
    "    return gene_count_real"
   ]
  },
  {
   "cell_type": "code",
   "execution_count": 38,
   "id": "5f621ec8-d107-4661-8cb9-80beba67117a",
   "metadata": {},
   "outputs": [],
   "source": [
    "gene_count = obtain_gene_count_real(df)"
   ]
  },
  {
   "cell_type": "code",
   "execution_count": 77,
   "id": "2a2e38d5-5b1e-4854-8c05-57405af3021c",
   "metadata": {},
   "outputs": [
    {
     "data": {
      "text/plain": [
       "45"
      ]
     },
     "execution_count": 77,
     "metadata": {},
     "output_type": "execute_result"
    }
   ],
   "source": [
    "gene_count[gene_count['diff']>10].shape[0]"
   ]
  },
  {
   "cell_type": "code",
   "execution_count": 78,
   "id": "2e8b5d9c-7c8e-4639-afcd-f50d5dcc5044",
   "metadata": {},
   "outputs": [
    {
     "data": {
      "text/plain": [
       "2"
      ]
     },
     "execution_count": 78,
     "metadata": {},
     "output_type": "execute_result"
    }
   ],
   "source": [
    "gene_count[gene_count['diff']>100].shape[0]"
   ]
  },
  {
   "cell_type": "code",
   "execution_count": 79,
   "id": "5266b0b8-8898-4a70-918c-b021690a0296",
   "metadata": {},
   "outputs": [
    {
     "data": {
      "image/png": "[encoded data removed]",
      "text/plain": [
       "<Figure size 432x288 with 1 Axes>"
      ]
     },
     "metadata": {
      "needs_background": "light"
     },
     "output_type": "display_data"
    },
    {
     "data": {
      "image/png": "[encoded data removed]",
      "text/plain": [
       "<Figure size 432x288 with 1 Axes>"
      ]
     },
     "metadata": {
      "needs_background": "light"
     },
     "output_type": "display_data"
    }
   ],
   "source": [
    "sns.kdeplot(gene_count['diff'], color = 'red')\n",
    "plt.title(f'Gene1 Expected value to be an interactor + Gene2 Expected value be an interactor')\n",
    "plt.show()\n",
    "\n",
    "sns.kdeplot(gene_count[gene_count['diff']<10]['diff'], color = 'red')\n",
    "plt.title(f'Gene1 Expected value to be an interactor + Gene2 Expected value be an interactor')\n",
    "plt.show()"
   ]
  },
  {
   "cell_type": "markdown",
   "id": "2d45bf25-1bb3-4c3f-9beb-fac7423f8f93",
   "metadata": {},
   "source": [
    "### CDS-CDS enrichment?"
   ]
  },
  {
   "cell_type": "code",
   "execution_count": 38,
   "id": "dc6332ba-689f-4acf-826f-087f77ea9cb9",
   "metadata": {},
   "outputs": [],
   "source": [
    "df = pd.read_csv(os.path.join(processed_files_dir, 'final_df_RANDOM.csv')) #final_df_RANDOM"
   ]
  },
  {
   "cell_type": "code",
   "execution_count": 28,
   "id": "e15bc0de-3844-43bf-a376-ef9179a35dec",
   "metadata": {},
   "outputs": [],
   "source": [
    "df_genes = pd.read_csv(os.path.join(processed_files_dir, 'df_genes.csv'))[['gene_id', 'CDS', 'UTR5', 'UTR3']]"
   ]
  },
  {
   "cell_type": "code",
   "execution_count": 29,
   "id": "2ad23cb0-5da3-428c-9025-614366c94f96",
   "metadata": {},
   "outputs": [],
   "source": [
    "def create_interactions_columns(df, df_genes):\n",
    "\n",
    "    df = df.merge(df_genes, left_on = 'gene1', right_on = 'gene_id')\n",
    "    df['where_x1'] = 'none'\n",
    "    df.loc[(df.x1 < df.UTR5), 'where_x1'] = 'UTR5'\n",
    "    df.loc[(df.x1 >= df.UTR5)&(df.x1 < df.CDS), 'where_x1'] = 'CDS'\n",
    "    df.loc[(df.x1 >= df.CDS), 'where_x1'] = 'UTR3'\n",
    "    df = df.drop(['gene_id', 'UTR5', 'CDS', 'UTR3'], axis = 1)\n",
    "    \n",
    "    df = df.merge(df_genes, left_on = 'gene2', right_on = 'gene_id')\n",
    "    df['where_y1'] = 'none'\n",
    "    df.loc[(df.y1 < df.UTR5), 'where_y1'] = 'UTR5'\n",
    "    df.loc[(df.y1 >= df.UTR5)&(df.y1 < df.CDS), 'where_y1'] = 'CDS'\n",
    "    df.loc[(df.y1 >= df.CDS), 'where_y1'] = 'UTR3'\n",
    "    df = df.drop(['gene_id', 'UTR5', 'CDS', 'UTR3'], axis = 1)\n",
    "    return df\n",
    "\n",
    "def where_interacts(x):\n",
    "    a,b = sorted([x.where_x1, x.where_y1])\n",
    "    return a + '-' + b\n",
    "\n",
    "df = create_interactions_columns(df, df_genes)\n",
    "df['where'] = df.apply(where_interacts,axis = 1)\n",
    "df_int, df_neg = df[df.interacting == True], df[df.interacting == False]"
   ]
  },
  {
   "cell_type": "code",
   "execution_count": 30,
   "id": "26f03f7b-c379-4c56-99b5-795f86d8670a",
   "metadata": {},
   "outputs": [
    {
     "data": {
      "image/png": "[encoded data removed]",
      "text/plain": [
       "<Figure size 864x576 with 1 Axes>"
      ]
     },
     "metadata": {
      "needs_background": "light"
     },
     "output_type": "display_data"
    }
   ],
   "source": [
    "# PLOT \n",
    "categories = list(set(df_int['where'].value_counts().index).union(df_neg['where'].value_counts().index))\n",
    "\n",
    "neg = df_neg['where'].value_counts()\n",
    "neg = pd.Series([neg.get(key, 0) for key in categories], index=categories)\n",
    "\n",
    "pos = df_int['where'].value_counts()\n",
    "pos = pd.Series([pos.get(key, 0) for key in categories], index=categories)\n",
    "\n",
    "values1 = pos.values\n",
    "\n",
    "values2 = neg.values\n",
    "\n",
    "total1 = sum(values1)\n",
    "total2 = sum(values2)\n",
    "\n",
    "percentages1 = np.array([value / total1 * 100 for value in values1])\n",
    "percentages2 = np.array([value / total2 * 100 for value in values2])\n",
    "\n",
    "bar_width = 0.35\n",
    "index = np.arange(len(categories))\n",
    "\n",
    "fig, ax = plt.subplots(figsize=(12, 8))\n",
    "bar1 = ax.bar(index, percentages1, bar_width, label='Positive Distribution', color='skyblue')\n",
    "bar2 = ax.bar(index + bar_width, percentages2, bar_width, label='Negative Distribution', color='orange')\n",
    "\n",
    "ax.set_xlabel('Categories')\n",
    "ax.set_ylabel('Percentage')\n",
    "ax.set_title('Comparison of Two Distributions')\n",
    "ax.set_xticks(index + bar_width / 2)\n",
    "ax.set_xticklabels(categories, rotation=45, ha='right')\n",
    "ax.legend()\n",
    "\n",
    "plt.tight_layout()\n",
    "plt.show()"
   ]
  },
  {
   "cell_type": "markdown",
   "id": "a43042cc-382c-495c-824a-6fa1e10750c8",
   "metadata": {},
   "source": [
    "# Train-test-val split"
   ]
  },
  {
   "cell_type": "code",
   "execution_count": 48,
   "id": "38b136ef-d773-47ab-8f78-a3e80b96d1ab",
   "metadata": {},
   "outputs": [],
   "source": [
    "from sklearn.model_selection import train_test_split\n",
    "import dataset.train_test_val_utils as utils"
   ]
  },
  {
   "cell_type": "code",
   "execution_count": 60,
   "id": "621c4511-aac4-449a-9697-abde8d731de1",
   "metadata": {},
   "outputs": [],
   "source": [
    "df_labels = df[['couples', 'interacting']].drop_duplicates().reset_index(drop = True)\n",
    "assert df_labels.shape[0] == len(df['couples'].unique())\n",
    "df_labels['interacting'] = df_labels['interacting'].astype('int')\n",
    "\n",
    "\n",
    "train, test_val = train_test_split(df_labels, test_size=0.3, random_state=0, stratify=df_labels[['interacting']])\n",
    "test, val = train_test_split(test_val, test_size=0.5, random_state=0, stratify=test_val[['interacting']])"
   ]
  },
  {
   "cell_type": "code",
   "execution_count": 65,
   "id": "8e2bf884-a9a9-4695-a235-ca70bb6aaa8b",
   "metadata": {},
   "outputs": [],
   "source": [
    "import dataset.train_test_val_utils as utils"
   ]
  },
  {
   "cell_type": "code",
   "execution_count": 66,
   "id": "82888809-b0e7-431a-b7d1-fbec046d86a3",
   "metadata": {},
   "outputs": [
    {
     "data": {
      "image/png": "[encoded data removed]",
      "text/plain": [
       "<Figure size 432x288 with 1 Axes>"
      ]
     },
     "metadata": {},
     "output_type": "display_data"
    }
   ],
   "source": [
    "gene_pairs_training = list(set(train.couples))\n",
    "gene_pairs_test = list(set(val.couples))\n",
    "gene_pairs_val = list(set(test.couples))\n",
    "utils.venn_between_genes(gene_pairs_training, gene_pairs_test, gene_pairs_val)"
   ]
  },
  {
   "cell_type": "code",
   "execution_count": null,
   "id": "3dedd763-64af-4bec-8860-802672612fb5",
   "metadata": {},
   "outputs": [],
   "source": []
  }
 ],
 "metadata": {
  "kernelspec": {
   "display_name": "Python 3 (ipykernel)",
   "language": "python",
   "name": "python3"
  },
  "language_info": {
   "codemirror_mode": {
    "name": "ipython",
    "version": 3
   },
   "file_extension": ".py",
   "mimetype": "text/x-python",
   "name": "python",
   "nbconvert_exporter": "python",
   "pygments_lexer": "ipython3",
   "version": "3.9.7"
  }
 },
 "nbformat": 4,
 "nbformat_minor": 5
}
