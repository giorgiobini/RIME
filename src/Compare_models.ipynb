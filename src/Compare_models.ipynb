{
 "cells": [
  {
   "cell_type": "code",
   "execution_count": 1,
   "id": "aa8ae948",
   "metadata": {},
   "outputs": [
    {
     "name": "stdout",
     "output_type": "stream",
     "text": [
      "============================================================\n",
      "<class 'transformers.tokenization_dna.DNATokenizer'>\n"
     ]
    }
   ],
   "source": [
    "its_jupyter_notebook = True\n",
    "# %load_ext autoreload\n",
    "# %autoreload 2\n",
    "\n",
    "import pandas as pd\n",
    "import os\n",
    "import time\n",
    "import numpy as np\n",
    "import seaborn as sns\n",
    "import pickle\n",
    "import torch\n",
    "from tqdm.notebook import tqdm\n",
    "from pathlib import Path\n",
    "import argparse\n",
    "import math\n",
    "from scipy import stats\n",
    "import copy\n",
    "import matplotlib.pyplot as plt\n",
    "import sys\n",
    "from sklearn.metrics import classification_report, roc_curve, roc_auc_score, auc, accuracy_score\n",
    "from sklearn.model_selection import train_test_split\n",
    "from sklearn.linear_model import LogisticRegression\n",
    "from mpl_toolkits.axes_grid1 import make_axes_locatable\n",
    "\n",
    "sys.path.insert(0, '..')\n",
    "\n",
    "from util.evaluation import ModelResultsManager, calculate_correlations, balancing_only_for_one_task, obtain_all_model_auc, remove_outliers, map_thermodynamic_columns, obtain_df_auc, replace_outliers_with_nan_and_make_positive, obtain_sr_nosr, map_dataset_to_hp\n",
    "from util.plot_utils import npv_precision, plot_sr_distributions, calc_metric, plot_tnr_based_on_distance_for_our_model, collect_results_based_on_topbottom_for_all_models, plot_results_based_on_topbottom_for_all_models, plot_results_how_many_repeats_in_pred_pos_for_all_models, plot_metric_confidence_for_all_models, plot_tnr_based_on_distance_for_all_models, plot_confidence_based_on_distance_for_all_models, plot_tnr_for_all_models, quantile_bins, plot_features_vs_risearch2_confidence, plot_heatmap, plot_tnr_recall_for_all_models, plot_correlation_nreads_prob_intsize\n",
    "from util.model_names_map import map_model_names\n",
    "from run_compare_models import load_results_new\n",
    "#from run_compare_models import load_results_new\n",
    "\n",
    "from config import *\n",
    "from models.nt_classifier import build as build_model \n",
    "if its_jupyter_notebook:\n",
    "    sys.argv = [''] #Remove this if it's not a jupyter notebook!\n",
    "    \n",
    "external_dataset_dir = os.path.join(dataset_files_dir, 'external_dataset', '200_test_tables')"
   ]
  },
  {
   "cell_type": "code",
   "execution_count": 2,
   "id": "22d20f62-e98c-4f82-8ca6-3cb19d532364",
   "metadata": {},
   "outputs": [],
   "source": [
    "checkpoint_dir_paths = []\n",
    "\n",
    "chkpt_folder = os.path.join(ROOT_DIR, 'checkpoints')\n",
    "\n",
    "models_to_check = os.listdir(chkpt_folder)\n",
    "for model_name in models_to_check:\n",
    "    model_folder = os.path.join(chkpt_folder, model_name)\n",
    "    test_paris = os.path.join(chkpt_folder, model_name, 'test_results200.csv')\n",
    "    ricseq = os.path.join(chkpt_folder, model_name, 'ricseq_results200.csv')\n",
    "    splash = os.path.join(chkpt_folder, model_name, 'splash_results200.csv')\n",
    "    mario = os.path.join(chkpt_folder, model_name, 'mario_results200.csv')\n",
    "\n",
    "    if os.path.exists(test_paris) & os.path.exists(ricseq) & os.path.exists(splash) & os.path.exists(mario):\n",
    "        checkpoint_dir_paths.append(model_folder)"
   ]
  },
  {
   "cell_type": "code",
   "execution_count": 3,
   "id": "d702c9eb-18aa-4790-be21-866127a41987",
   "metadata": {},
   "outputs": [],
   "source": [
    "for i in range(1, 2):\n",
    "    df, name_map = load_results_new(checkpoint_dir_paths[:i], chkpt_folder)"
   ]
  },
  {
   "cell_type": "code",
   "execution_count": 4,
   "id": "7c4e85d5-b6f1-4aac-b301-7c7d7cd96dac",
   "metadata": {},
   "outputs": [],
   "source": [
    "mean_aucHQ = df.filter(['auc_interactors_parisHQ', 'auc_patches_parisHQ', 'auc_interactors_ricseqHQ', 'auc_patches_ricseqHQ'], axis = 1).mean(axis = 1)\n",
    "\n",
    "mean_tnr = df.filter(['tnr_psoralen', 'tnr_ricseq', 'tnr_paris_mouse', 'tnr_mario'], axis = 1).mean(axis = 1)\n",
    "mean_prec = df.filter(['precision_psoralen', 'precision_ricseq', 'precision_paris_mouse', 'precision_mario'], axis = 1).mean(axis = 1)\n",
    "mean_recall = df.filter(['recall_psoralen', 'recall_ricseq', 'recall_paris_mouse', 'recall_mario'], axis = 1).mean(axis = 1)\n"
   ]
  },
  {
   "cell_type": "code",
   "execution_count": 5,
   "id": "f3654f46-ee10-49eb-a3e9-d755a7da4473",
   "metadata": {},
   "outputs": [
    {
     "data": {
      "text/plain": [
       "<matplotlib.collections.PathCollection at 0x7f16fc33a190>"
      ]
     },
     "execution_count": 5,
     "metadata": {},
     "output_type": "execute_result"
    },
    {
     "data": {
      "image/png": "[encoded data removed]",
      "text/plain": [
       "<Figure size 432x288 with 1 Axes>"
      ]
     },
     "metadata": {
      "needs_background": "light"
     },
     "output_type": "display_data"
    }
   ],
   "source": [
    "plt.scatter(mean_tnr, mean_prec)"
   ]
  },
  {
   "cell_type": "code",
   "execution_count": 6,
   "id": "70d15530-a16f-49b8-ac3a-a6af450b4823",
   "metadata": {},
   "outputs": [
    {
     "data": {
      "text/plain": [
       "<matplotlib.collections.PathCollection at 0x7f16fc299130>"
      ]
     },
     "execution_count": 6,
     "metadata": {},
     "output_type": "execute_result"
    },
    {
     "data": {
      "image/png": "[encoded data removed]",
      "text/plain": [
       "<Figure size 432x288 with 1 Axes>"
      ]
     },
     "metadata": {
      "needs_background": "light"
     },
     "output_type": "display_data"
    }
   ],
   "source": [
    "plt.scatter(mean_aucHQ, mean_tnr)"
   ]
  },
  {
   "cell_type": "code",
   "execution_count": 10,
   "id": "c2e3048b-05d5-4e47-b412-e219bef598bb",
   "metadata": {},
   "outputs": [],
   "source": [
    "MIN_TNR = 70\n",
    "MIN_AUC = 75\n",
    "\n",
    "best_models = df[\n",
    "    (mean_tnr >= MIN_TNR) &\n",
    "    (mean_aucHQ >= MIN_AUC)\n",
    "]"
   ]
  },
  {
   "cell_type": "code",
   "execution_count": 11,
   "id": "14d92b64-e402-4f16-9b3f-d47717f162e3",
   "metadata": {},
   "outputs": [
    {
     "data": {
      "text/html": [
       "<div>\n",
       "<style scoped>\n",
       "    .dataframe tbody tr th:only-of-type {\n",
       "        vertical-align: middle;\n",
       "    }\n",
       "\n",
       "    .dataframe tbody tr th {\n",
       "        vertical-align: top;\n",
       "    }\n",
       "\n",
       "    .dataframe thead th {\n",
       "        text-align: right;\n",
       "    }\n",
       "</style>\n",
       "<table border=\"1\" class=\"dataframe\">\n",
       "  <thead>\n",
       "    <tr style=\"text-align: right;\">\n",
       "      <th></th>\n",
       "      <th>auc_interactors_parisHQ</th>\n",
       "      <th>auc_patches_parisHQ</th>\n",
       "      <th>auc_interactors_paris_mouse_HQ</th>\n",
       "      <th>auc_patches_paris_mouse_HQ</th>\n",
       "      <th>auc_interactors_ricseqHQ</th>\n",
       "      <th>auc_patches_ricseqHQ</th>\n",
       "    </tr>\n",
       "  </thead>\n",
       "  <tbody>\n",
       "    <tr>\n",
       "      <th>5</th>\n",
       "      <td>73.0</td>\n",
       "      <td>79.0</td>\n",
       "      <td>60.0</td>\n",
       "      <td>75.0</td>\n",
       "      <td>71.0</td>\n",
       "      <td>77.0</td>\n",
       "    </tr>\n",
       "    <tr>\n",
       "      <th>6</th>\n",
       "      <td>74.0</td>\n",
       "      <td>79.0</td>\n",
       "      <td>63.0</td>\n",
       "      <td>76.0</td>\n",
       "      <td>72.0</td>\n",
       "      <td>78.0</td>\n",
       "    </tr>\n",
       "    <tr>\n",
       "      <th>44</th>\n",
       "      <td>72.0</td>\n",
       "      <td>79.0</td>\n",
       "      <td>61.0</td>\n",
       "      <td>76.0</td>\n",
       "      <td>71.0</td>\n",
       "      <td>78.0</td>\n",
       "    </tr>\n",
       "    <tr>\n",
       "      <th>45</th>\n",
       "      <td>72.0</td>\n",
       "      <td>79.0</td>\n",
       "      <td>58.0</td>\n",
       "      <td>74.0</td>\n",
       "      <td>71.0</td>\n",
       "      <td>78.0</td>\n",
       "    </tr>\n",
       "    <tr>\n",
       "      <th>47</th>\n",
       "      <td>73.0</td>\n",
       "      <td>79.0</td>\n",
       "      <td>60.0</td>\n",
       "      <td>76.0</td>\n",
       "      <td>70.0</td>\n",
       "      <td>78.0</td>\n",
       "    </tr>\n",
       "    <tr>\n",
       "      <th>50</th>\n",
       "      <td>72.0</td>\n",
       "      <td>79.0</td>\n",
       "      <td>62.0</td>\n",
       "      <td>77.0</td>\n",
       "      <td>71.0</td>\n",
       "      <td>79.0</td>\n",
       "    </tr>\n",
       "    <tr>\n",
       "      <th>53</th>\n",
       "      <td>72.0</td>\n",
       "      <td>79.0</td>\n",
       "      <td>62.0</td>\n",
       "      <td>76.0</td>\n",
       "      <td>71.0</td>\n",
       "      <td>78.0</td>\n",
       "    </tr>\n",
       "    <tr>\n",
       "      <th>55</th>\n",
       "      <td>73.0</td>\n",
       "      <td>79.0</td>\n",
       "      <td>61.0</td>\n",
       "      <td>76.0</td>\n",
       "      <td>70.0</td>\n",
       "      <td>78.0</td>\n",
       "    </tr>\n",
       "    <tr>\n",
       "      <th>63</th>\n",
       "      <td>72.0</td>\n",
       "      <td>80.0</td>\n",
       "      <td>59.0</td>\n",
       "      <td>76.0</td>\n",
       "      <td>70.0</td>\n",
       "      <td>78.0</td>\n",
       "    </tr>\n",
       "    <tr>\n",
       "      <th>65</th>\n",
       "      <td>73.0</td>\n",
       "      <td>80.0</td>\n",
       "      <td>60.0</td>\n",
       "      <td>76.0</td>\n",
       "      <td>70.0</td>\n",
       "      <td>77.0</td>\n",
       "    </tr>\n",
       "    <tr>\n",
       "      <th>66</th>\n",
       "      <td>73.0</td>\n",
       "      <td>79.0</td>\n",
       "      <td>61.0</td>\n",
       "      <td>75.0</td>\n",
       "      <td>72.0</td>\n",
       "      <td>78.0</td>\n",
       "    </tr>\n",
       "  </tbody>\n",
       "</table>\n",
       "</div>"
      ],
      "text/plain": [
       "    auc_interactors_parisHQ  auc_patches_parisHQ  \\\n",
       "5                      73.0                 79.0   \n",
       "6                      74.0                 79.0   \n",
       "44                     72.0                 79.0   \n",
       "45                     72.0                 79.0   \n",
       "47                     73.0                 79.0   \n",
       "50                     72.0                 79.0   \n",
       "53                     72.0                 79.0   \n",
       "55                     73.0                 79.0   \n",
       "63                     72.0                 80.0   \n",
       "65                     73.0                 80.0   \n",
       "66                     73.0                 79.0   \n",
       "\n",
       "    auc_interactors_paris_mouse_HQ  auc_patches_paris_mouse_HQ  \\\n",
       "5                             60.0                        75.0   \n",
       "6                             63.0                        76.0   \n",
       "44                            61.0                        76.0   \n",
       "45                            58.0                        74.0   \n",
       "47                            60.0                        76.0   \n",
       "50                            62.0                        77.0   \n",
       "53                            62.0                        76.0   \n",
       "55                            61.0                        76.0   \n",
       "63                            59.0                        76.0   \n",
       "65                            60.0                        76.0   \n",
       "66                            61.0                        75.0   \n",
       "\n",
       "    auc_interactors_ricseqHQ  auc_patches_ricseqHQ  \n",
       "5                       71.0                  77.0  \n",
       "6                       72.0                  78.0  \n",
       "44                      71.0                  78.0  \n",
       "45                      71.0                  78.0  \n",
       "47                      70.0                  78.0  \n",
       "50                      71.0                  79.0  \n",
       "53                      71.0                  78.0  \n",
       "55                      70.0                  78.0  \n",
       "63                      70.0                  78.0  \n",
       "65                      70.0                  77.0  \n",
       "66                      72.0                  78.0  "
      ]
     },
     "execution_count": 11,
     "metadata": {},
     "output_type": "execute_result"
    }
   ],
   "source": [
    "best_models.filter([\n",
    "    'auc_interactors_parisHQ', 'auc_patches_parisHQ', \n",
    "    'auc_interactors_paris_mouse_HQ', 'auc_patches_paris_mouse_HQ',\n",
    "    'auc_interactors_ricseqHQ', 'auc_patches_ricseqHQ'\n",
    "], axis = 1)"
   ]
  },
  {
   "cell_type": "code",
   "execution_count": 12,
   "id": "1b5cde67-4aec-41bc-b06b-9d6c77872f25",
   "metadata": {},
   "outputs": [
    {
     "name": "stdout",
     "output_type": "stream",
     "text": [
      "5 /data01/giorgio/RNARNA-NT/checkpoints/arch2_PARISfinetuned_PARIStest0023_PARISfinetunedFPweight_PARIStest0054\n",
      "6 /data01/giorgio/RNARNA-NT/checkpoints/arch2_PARISfinetuned_PARIStest0023_PARISfinetunedFPweight_PARIStest0057\n",
      "44 /data01/giorgio/RNARNA-NT/checkpoints/arch2_PARISfinetuned_PARIStest0023_PARISfinetunedFPweight_PARIStest0056\n",
      "45 /data01/giorgio/RNARNA-NT/checkpoints/arch2_PARISfinetuned_PARIStest0023_PARISfinetunedFPweight_PARIStest0063\n",
      "47 /data01/giorgio/RNARNA-NT/checkpoints/arch2_PARISfinetuned_PARIStest0023_PARISfinetunedFPweight_PARIStest0030\n",
      "50 /data01/giorgio/RNARNA-NT/checkpoints/arch2_PARISfinetuned_PARIStest0023_PARISfinetunedFPweight_PARIStest0043\n",
      "53 /data01/giorgio/RNARNA-NT/checkpoints/arch2_PARISfinetuned_PARIStest0023_PARISfinetunedFPweight_PARIStest0052\n",
      "55 /data01/giorgio/RNARNA-NT/checkpoints/arch2_PARISfinetuned_PARIStest0023_PARISfinetunedFPweight_PARIStest0062\n",
      "63 /data01/giorgio/RNARNA-NT/checkpoints/arch2_PARISfinetuned_PARIStest0023_PARISfinetunedFPweight_PARIStest0080\n",
      "65 /data01/giorgio/RNARNA-NT/checkpoints/arch2_PARISfinetuned_PARIStest0023_PARISfinetunedFPweight_PARIStest0082\n",
      "66 /data01/giorgio/RNARNA-NT/checkpoints/arch2_PARISfinetuned_PARIStest0023_PARISfinetunedFPweight_PARIStest0086\n"
     ]
    }
   ],
   "source": [
    "for _, row in best_models.iterrows():\n",
    "    print(_, name_map[row.model])"
   ]
  }
 ],
 "metadata": {
  "kernelspec": {
   "display_name": "Python 3 (ipykernel)",
   "language": "python",
   "name": "python3"
  },
  "language_info": {
   "codemirror_mode": {
    "name": "ipython",
    "version": 3
   },
   "file_extension": ".py",
   "mimetype": "text/x-python",
   "name": "python",
   "nbconvert_exporter": "python",
   "pygments_lexer": "ipython3",
   "version": "3.9.7"
  }
 },
 "nbformat": 4,
 "nbformat_minor": 5
}
