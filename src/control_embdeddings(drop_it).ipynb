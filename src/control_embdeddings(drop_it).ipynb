{
 "cells": [
  {
   "cell_type": "markdown",
   "id": "75fd7e20-8dab-4f31-a886-2801a259b193",
   "metadata": {
    "tags": []
   },
   "source": [
    "# Code"
   ]
  },
  {
   "cell_type": "code",
   "execution_count": 1,
   "id": "a3b7acf7-7061-49e6-b0d7-8480984933f0",
   "metadata": {},
   "outputs": [],
   "source": [
    "its_jupyter_notebook = True"
   ]
  },
  {
   "cell_type": "code",
   "execution_count": 2,
   "id": "4ae0806e-12d4-498c-a0f4-9844c1be1435",
   "metadata": {},
   "outputs": [],
   "source": [
    "import pandas as pd\n",
    "import os\n",
    "import matplotlib.pyplot as plt\n",
    "import time\n",
    "import numpy as np\n",
    "import pickle\n",
    "import math\n",
    "import torch\n",
    "from tqdm.notebook import tqdm\n",
    "import seaborn as sns\n",
    "from torch.utils.data import DataLoader\n",
    "# if its_jupyter_notebook:\n",
    "#     sys.argv = [''] #Remove this if it's not a jupyter notebook!\n",
    "\n",
    "import sys\n",
    "sys.path.insert(0, '..')\n",
    "\n",
    "from config import *"
   ]
  },
  {
   "cell_type": "code",
   "execution_count": 3,
   "id": "c3634011-c10a-4792-b2ca-46d2f4ebb153",
   "metadata": {},
   "outputs": [],
   "source": [
    "def create_gene_count(df, unbalanced_ratio):\n",
    "    gene_count = pd.concat([df[['gene1', 'interacting']].rename({'gene1':'gene'}, axis = 1),\n",
    "                            df[['gene2','interacting']].rename({'gene2':'gene'}, axis = 1)], axis = 0).reset_index(drop = True)\n",
    "    g = gene_count.groupby('gene').sum()\n",
    "    g['not_interacting'] = gene_count.groupby('gene').count() - gene_count.groupby('gene').sum()\n",
    "    g['not_interacting'] = g['not_interacting']*unbalanced_ratio\n",
    "    g = g.reset_index() #add the gene column from the index\n",
    "    g['diff'] = g['not_interacting'] - g['interacting']\n",
    "    g['abs_diff'] = g['diff'].abs()\n",
    "    g['tot'] = g['interacting'] + g['not_interacting']\n",
    "    g['abs_diff_weighted'] = g['tot']*g['abs_diff']\n",
    "    return g"
   ]
  },
  {
   "cell_type": "code",
   "execution_count": 4,
   "id": "d7ba5c76-b571-41ac-b6f4-44a74e629da3",
   "metadata": {},
   "outputs": [
    {
     "name": "stdout",
     "output_type": "stream",
     "text": [
      "['ENSG00000122566_ENSG00000261713' 'ENSG00000176049_ENSG00000261713']\n",
      "['ENSG00000005020_ENSG00000261713' 'ENSG00000112541_ENSG00000261713'\n",
      " 'ENSG00000122566_ENSG00000204277' 'ENSG00000176049_ENSG00000204277']\n",
      "['ENSG00000005020_ENSG00000261713' 'ENSG00000112541_ENSG00000261713'\n",
      " 'ENSG00000196576_ENSG00000261713' 'ENSG00000261713_ENSG00000279905']\n"
     ]
    }
   ],
   "source": [
    "df_meta = pd.read_csv(os.path.join(metadata_dir, f'training.csv'))\n",
    "df_genes = pd.read_csv(os.path.join(processed_files_dir, f'df_genes.csv'))\n",
    "df = pd.read_csv(os.path.join(processed_files_dir, f'df_pairs_full.csv'))\n",
    "new_cols = df.positive.str.split('_', expand = True)\n",
    "df['g1'], df['g2'] = new_cols[0],new_cols[1]\n",
    "\n",
    "new_cols = df.negative.str.split('_', expand = True)\n",
    "df['g1_neg'], df['g2_neg'] = new_cols[0],new_cols[1]\n",
    "\n",
    "gene = 'ENSG00000261713'\n",
    "print(df[(df.g1 == gene)|(df.g2 == gene)].positive.unique())\n",
    "print(df[(df.g1 == gene)|(df.g2 == gene)].negative.unique())\n",
    "print(df_meta[((df_meta.gene1 == gene)|(df_meta.gene2 == gene))&(df_meta.interacting == False)].couple.unique())"
   ]
  },
  {
   "cell_type": "code",
   "execution_count": 15,
   "id": "6d91ecbe-87a1-4908-a183-331b64717e62",
   "metadata": {},
   "outputs": [],
   "source": [
    "class_folder = os.path.join(embedding_dir,'999', '22', 'training', 'class_1')"
   ]
  },
  {
   "cell_type": "code",
   "execution_count": 61,
   "id": "5af368dd-b065-4a0e-b374-2fa88a19f3f5",
   "metadata": {},
   "outputs": [],
   "source": [
    "sample = np.load(os.path.join(class_folder, '217458.npy'))\n",
    "vec10, vec20 = np.split(sample, 2)"
   ]
  },
  {
   "cell_type": "code",
   "execution_count": 62,
   "id": "70b37dc6-c0d7-430e-b553-1dd020d29476",
   "metadata": {},
   "outputs": [],
   "source": [
    "sample = np.load(os.path.join(class_folder, '217459.npy'))\n",
    "vec11, vec21 = np.split(sample, 2)"
   ]
  },
  {
   "cell_type": "code",
   "execution_count": 63,
   "id": "fadcc998-f2f8-416e-afde-6559dc1a9eba",
   "metadata": {},
   "outputs": [],
   "source": [
    "sample = np.load(os.path.join(class_folder, '26379.npy'))\n",
    "vec12, vec22 = np.split(sample, 2)"
   ]
  },
  {
   "cell_type": "code",
   "execution_count": 69,
   "id": "37a4e751-ebf6-442a-bb90-abfbbfa35dbf",
   "metadata": {},
   "outputs": [
    {
     "data": {
      "text/plain": [
       "(5120,)"
      ]
     },
     "execution_count": 69,
     "metadata": {},
     "output_type": "execute_result"
    }
   ],
   "source": [
    "sample.shape"
   ]
  },
  {
   "cell_type": "code",
   "execution_count": 64,
   "id": "d28fa2eb-5a80-463c-8c55-28bd18f6e5b5",
   "metadata": {},
   "outputs": [
    {
     "data": {
      "text/plain": [
       "True"
      ]
     },
     "execution_count": 64,
     "metadata": {},
     "output_type": "execute_result"
    }
   ],
   "source": [
    "np.isclose(vec10, vec12).all()"
   ]
  },
  {
   "cell_type": "code",
   "execution_count": 65,
   "id": "52483cf4-a42d-4cb6-bcfb-5b1eb508b63c",
   "metadata": {},
   "outputs": [
    {
     "data": {
      "text/plain": [
       "True"
      ]
     },
     "execution_count": 65,
     "metadata": {},
     "output_type": "execute_result"
    }
   ],
   "source": [
    "np.isclose(vec10, vec11).all()"
   ]
  },
  {
   "cell_type": "code",
   "execution_count": 66,
   "id": "19876cff-0ae8-4bdc-9358-e631e57a70fb",
   "metadata": {},
   "outputs": [
    {
     "data": {
      "text/plain": [
       "True"
      ]
     },
     "execution_count": 66,
     "metadata": {},
     "output_type": "execute_result"
    }
   ],
   "source": [
    "np.isclose(vec12, vec11).all()"
   ]
  },
  {
   "cell_type": "code",
   "execution_count": 67,
   "id": "8749de75-b418-4777-b7a3-b5a523df5f3f",
   "metadata": {},
   "outputs": [
    {
     "data": {
      "text/html": [
       "<div>\n",
       "<style scoped>\n",
       "    .dataframe tbody tr th:only-of-type {\n",
       "        vertical-align: middle;\n",
       "    }\n",
       "\n",
       "    .dataframe tbody tr th {\n",
       "        vertical-align: top;\n",
       "    }\n",
       "\n",
       "    .dataframe thead th {\n",
       "        text-align: right;\n",
       "    }\n",
       "</style>\n",
       "<table border=\"1\" class=\"dataframe\">\n",
       "  <thead>\n",
       "    <tr style=\"text-align: right;\">\n",
       "      <th></th>\n",
       "      <th>id_sample</th>\n",
       "      <th>couple</th>\n",
       "      <th>gene1</th>\n",
       "      <th>gene2</th>\n",
       "      <th>x1</th>\n",
       "      <th>x2</th>\n",
       "      <th>y1</th>\n",
       "      <th>y2</th>\n",
       "      <th>interacting</th>\n",
       "      <th>policy</th>\n",
       "      <th>...</th>\n",
       "      <th>seed_x2</th>\n",
       "      <th>seed_y1</th>\n",
       "      <th>seed_y2</th>\n",
       "      <th>protein_coding1</th>\n",
       "      <th>protein_coding2</th>\n",
       "      <th>original_length1</th>\n",
       "      <th>original_length2</th>\n",
       "      <th>diff1</th>\n",
       "      <th>diff2</th>\n",
       "      <th>diff</th>\n",
       "    </tr>\n",
       "  </thead>\n",
       "  <tbody>\n",
       "    <tr>\n",
       "      <th>63803</th>\n",
       "      <td>217458</td>\n",
       "      <td>ENSG00000260604_ENSG00000272195</td>\n",
       "      <td>ENSG00000272195</td>\n",
       "      <td>ENSG00000260604</td>\n",
       "      <td>0</td>\n",
       "      <td>1739</td>\n",
       "      <td>203</td>\n",
       "      <td>6192</td>\n",
       "      <td>True</td>\n",
       "      <td>easypos</td>\n",
       "      <td>...</td>\n",
       "      <td>1124</td>\n",
       "      <td>1816</td>\n",
       "      <td>1830</td>\n",
       "      <td>False</td>\n",
       "      <td>False</td>\n",
       "      <td>1739</td>\n",
       "      <td>7060</td>\n",
       "      <td>0.656653</td>\n",
       "      <td>-1.992075</td>\n",
       "      <td>-1.335422</td>\n",
       "    </tr>\n",
       "    <tr>\n",
       "      <th>63804</th>\n",
       "      <td>217459</td>\n",
       "      <td>ENSG00000260604_ENSG00000272195</td>\n",
       "      <td>ENSG00000272195</td>\n",
       "      <td>ENSG00000260604</td>\n",
       "      <td>0</td>\n",
       "      <td>1739</td>\n",
       "      <td>58</td>\n",
       "      <td>6047</td>\n",
       "      <td>True</td>\n",
       "      <td>easypos</td>\n",
       "      <td>...</td>\n",
       "      <td>1124</td>\n",
       "      <td>1816</td>\n",
       "      <td>1830</td>\n",
       "      <td>False</td>\n",
       "      <td>False</td>\n",
       "      <td>1739</td>\n",
       "      <td>7060</td>\n",
       "      <td>0.656653</td>\n",
       "      <td>-1.992075</td>\n",
       "      <td>-1.335422</td>\n",
       "    </tr>\n",
       "    <tr>\n",
       "      <th>68717</th>\n",
       "      <td>26379</td>\n",
       "      <td>ENSG00000113758_ENSG00000272195</td>\n",
       "      <td>ENSG00000272195</td>\n",
       "      <td>ENSG00000113758</td>\n",
       "      <td>0</td>\n",
       "      <td>1739</td>\n",
       "      <td>0</td>\n",
       "      <td>3072</td>\n",
       "      <td>True</td>\n",
       "      <td>easypos</td>\n",
       "      <td>...</td>\n",
       "      <td>1210</td>\n",
       "      <td>2678</td>\n",
       "      <td>2703</td>\n",
       "      <td>False</td>\n",
       "      <td>True</td>\n",
       "      <td>1739</td>\n",
       "      <td>3072</td>\n",
       "      <td>0.656653</td>\n",
       "      <td>0.786399</td>\n",
       "      <td>1.443052</td>\n",
       "    </tr>\n",
       "  </tbody>\n",
       "</table>\n",
       "<p>3 rows × 23 columns</p>\n",
       "</div>"
      ],
      "text/plain": [
       "       id_sample                           couple            gene1  \\\n",
       "63803     217458  ENSG00000260604_ENSG00000272195  ENSG00000272195   \n",
       "63804     217459  ENSG00000260604_ENSG00000272195  ENSG00000272195   \n",
       "68717      26379  ENSG00000113758_ENSG00000272195  ENSG00000272195   \n",
       "\n",
       "                 gene2  x1    x2   y1    y2  interacting   policy  ...  \\\n",
       "63803  ENSG00000260604   0  1739  203  6192         True  easypos  ...   \n",
       "63804  ENSG00000260604   0  1739   58  6047         True  easypos  ...   \n",
       "68717  ENSG00000113758   0  1739    0  3072         True  easypos  ...   \n",
       "\n",
       "      seed_x2 seed_y1  seed_y2  protein_coding1  protein_coding2  \\\n",
       "63803    1124    1816     1830            False            False   \n",
       "63804    1124    1816     1830            False            False   \n",
       "68717    1210    2678     2703            False             True   \n",
       "\n",
       "       original_length1  original_length2     diff1     diff2      diff  \n",
       "63803              1739              7060  0.656653 -1.992075 -1.335422  \n",
       "63804              1739              7060  0.656653 -1.992075 -1.335422  \n",
       "68717              1739              3072  0.656653  0.786399  1.443052  \n",
       "\n",
       "[3 rows x 23 columns]"
      ]
     },
     "execution_count": 67,
     "metadata": {},
     "output_type": "execute_result"
    }
   ],
   "source": [
    "df_meta[(df_meta.gene1 == 'ENSG00000272195')&(df_meta.interacting)]"
   ]
  }
 ],
 "metadata": {
  "kernelspec": {
   "display_name": "Python 3 (ipykernel)",
   "language": "python",
   "name": "python3"
  },
  "language_info": {
   "codemirror_mode": {
    "name": "ipython",
    "version": 3
   },
   "file_extension": ".py",
   "mimetype": "text/x-python",
   "name": "python",
   "nbconvert_exporter": "python",
   "pygments_lexer": "ipython3",
   "version": "3.10.10"
  }
 },
 "nbformat": 4,
 "nbformat_minor": 5
}
