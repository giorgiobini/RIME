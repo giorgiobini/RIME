{
 "cells": [
  {
   "cell_type": "code",
   "execution_count": 1,
   "id": "685f531f",
   "metadata": {},
   "outputs": [],
   "source": [
    "import time\n",
    "import os\n",
    "import numpy as np\n",
    "import random\n",
    "import re\n",
    "import sys\n",
    "import shutil\n",
    "sys.path.insert(0, '..')\n",
    "from config import *"
   ]
  },
  {
   "cell_type": "code",
   "execution_count": 8,
   "id": "0deedbb8-1253-485e-a248-5517500e7066",
   "metadata": {},
   "outputs": [],
   "source": [
    "folder_name = 'all_modelarch1_easypretrain10_paristfinetuningSPLASHval29_ricseqSPLASHval60_splashRICSEQval110_trainall'\n",
    "checkpoint_dir = os.path.join(ROOT_DIR, 'checkpoints', folder_name)"
   ]
  },
  {
   "cell_type": "code",
   "execution_count": 9,
   "id": "243f7258-ee40-4988-a060-994e2b7763af",
   "metadata": {},
   "outputs": [],
   "source": [
    "# List of files\n",
    "files = os.listdir(checkpoint_dir)\n",
    "\n",
    "# Dictionary to store filenames and their values\n",
    "desired_files = {}\n",
    "\n",
    "# Regular expression pattern to extract numbers or 'BEST'\n",
    "pattern = re.compile(r'checkpoint(\\d+).pth|checkpointBEST.pth')\n",
    "\n",
    "for file in files:\n",
    "    match = pattern.match(file)\n",
    "    if match:\n",
    "        value = match.group(1) if match.group(1) else 'BEST'\n",
    "        desired_files[file] = value"
   ]
  },
  {
   "cell_type": "code",
   "execution_count": 10,
   "id": "8a4ed704-e5af-4815-985f-e0dcf0230209",
   "metadata": {},
   "outputs": [],
   "source": [
    "for i in desired_files.keys():\n",
    "    \n",
    "    ckpt_folder = checkpoint_dir+desired_files[i]\n",
    "    \n",
    "    if os.path.exists(ckpt_folder) == False:\n",
    "        os.mkdir(ckpt_folder)\n",
    "    \n",
    "    shutil.copy2(os.path.join(checkpoint_dir, 'log.txt'), os.path.join(ckpt_folder, 'log.txt'))\n",
    "    shutil.copy2(os.path.join(checkpoint_dir, 'args.pkl'), os.path.join(ckpt_folder, 'args.pkl'))\n",
    "    shutil.copy2(os.path.join(checkpoint_dir, i), os.path.join(ckpt_folder, 'best_model.pth'))"
   ]
  },
  {
   "cell_type": "markdown",
   "id": "7c1ee25e-0e41-4f7d-98e6-78f3658fba67",
   "metadata": {},
   "source": [
    "# Create string for the sh file"
   ]
  },
  {
   "cell_type": "code",
   "execution_count": 21,
   "id": "95cb042f-606c-44e9-a111-182dcc6c8400",
   "metadata": {},
   "outputs": [],
   "source": [
    "folder_names = ['all_modelarch1_easypretrain10_paristfinetuningSPLASHval29_ricseqSPLASHval60_splashRICSEQval110_trainall', 'all_modelarch2_easypretrain3_paristfinetuning14_ricseq23_splash151_trainall', 'all_modelarch1_paristfinetuningSPLASHval25_ricseqSPLASHval28_splashBEST_trainall', 'all_modelarch1_paristfinetuningSPLASHval25_ricseqSPLASHval28_splash103_trainall']\n",
    "\n",
    "folders = []\n",
    "\n",
    "for folder_name in folder_names:\n",
    "    checkpoint_dir = os.path.join(ROOT_DIR, 'checkpoints', folder_name)\n",
    "\n",
    "    # List of files\n",
    "    files = os.listdir(checkpoint_dir)\n",
    "\n",
    "    # Dictionary to store filenames and their values\n",
    "    desired_files = {}\n",
    "\n",
    "    # Regular expression pattern to extract numbers or 'BEST'\n",
    "    pattern = re.compile(r'checkpoint(\\d+).pth|checkpointBEST.pth')\n",
    "\n",
    "    for file in files:\n",
    "        match = pattern.match(file)\n",
    "        if match:\n",
    "            value = match.group(1) if match.group(1) else 'BEST'\n",
    "            desired_files[file] = value\n",
    "\n",
    "    for i in desired_files.keys():\n",
    "        ckpt_folder = checkpoint_dir+desired_files[i]\n",
    "        folders.append(os.path.basename(ckpt_folder))\n",
    "    "
   ]
  },
  {
   "cell_type": "code",
   "execution_count": 22,
   "id": "95befb79-73c8-4172-b0d1-1a03dbe732e2",
   "metadata": {},
   "outputs": [],
   "source": [
    "result_string = ' '.join(f\"'{s}'\" for s in folders)"
   ]
  },
  {
   "cell_type": "code",
   "execution_count": 23,
   "id": "df169a42-705a-41f4-a4a4-d2c0d1ca468a",
   "metadata": {},
   "outputs": [
    {
     "data": {
      "text/plain": [
       "\"'all_modelarch1_easypretrain10_paristfinetuningSPLASHval29_ricseqSPLASHval60_splashRICSEQval110_trainall0111' 'all_modelarch1_easypretrain10_paristfinetuningSPLASHval29_ricseqSPLASHval60_splashRICSEQval110_trainall0112' 'all_modelarch1_easypretrain10_paristfinetuningSPLASHval29_ricseqSPLASHval60_splashRICSEQval110_trainall0113' 'all_modelarch1_easypretrain10_paristfinetuningSPLASHval29_ricseqSPLASHval60_splashRICSEQval110_trainall0114' 'all_modelarch1_easypretrain10_paristfinetuningSPLASHval29_ricseqSPLASHval60_splashRICSEQval110_trainall0115' 'all_modelarch1_easypretrain10_paristfinetuningSPLASHval29_ricseqSPLASHval60_splashRICSEQval110_trainall0116' 'all_modelarch1_easypretrain10_paristfinetuningSPLASHval29_ricseqSPLASHval60_splashRICSEQval110_trainall0117' 'all_modelarch1_easypretrain10_paristfinetuningSPLASHval29_ricseqSPLASHval60_splashRICSEQval110_trainall0118' 'all_modelarch1_easypretrain10_paristfinetuningSPLASHval29_ricseqSPLASHval60_splashRICSEQval110_trainall0159' 'all_modelarch1_easypretrain10_paristfinetuningSPLASHval29_ricseqSPLASHval60_splashRICSEQval110_trainall0165' 'all_modelarch1_easypretrain10_paristfinetuningSPLASHval29_ricseqSPLASHval60_splashRICSEQval110_trainall0180' 'all_modelarch1_easypretrain10_paristfinetuningSPLASHval29_ricseqSPLASHval60_splashRICSEQval110_trainall0197' 'all_modelarch2_easypretrain3_paristfinetuning14_ricseq23_splash151_trainall0152' 'all_modelarch2_easypretrain3_paristfinetuning14_ricseq23_splash151_trainall0153' 'all_modelarch2_easypretrain3_paristfinetuning14_ricseq23_splash151_trainall0154' 'all_modelarch2_easypretrain3_paristfinetuning14_ricseq23_splash151_trainall0155' 'all_modelarch2_easypretrain3_paristfinetuning14_ricseq23_splash151_trainall0161' 'all_modelarch2_easypretrain3_paristfinetuning14_ricseq23_splash151_trainall0162' 'all_modelarch2_easypretrain3_paristfinetuning14_ricseq23_splash151_trainall0164' 'all_modelarch2_easypretrain3_paristfinetuning14_ricseq23_splash151_trainall0198' 'all_modelarch2_easypretrain3_paristfinetuning14_ricseq23_splash151_trainall0199' 'all_modelarch2_easypretrain3_paristfinetuning14_ricseq23_splash151_trainallBEST' 'all_modelarch1_paristfinetuningSPLASHval25_ricseqSPLASHval28_splashBEST_trainall0170' 'all_modelarch1_paristfinetuningSPLASHval25_ricseqSPLASHval28_splashBEST_trainall0171' 'all_modelarch1_paristfinetuningSPLASHval25_ricseqSPLASHval28_splashBEST_trainall0172' 'all_modelarch1_paristfinetuningSPLASHval25_ricseqSPLASHval28_splashBEST_trainall0173' 'all_modelarch1_paristfinetuningSPLASHval25_ricseqSPLASHval28_splashBEST_trainall0174' 'all_modelarch1_paristfinetuningSPLASHval25_ricseqSPLASHval28_splashBEST_trainall0175' 'all_modelarch1_paristfinetuningSPLASHval25_ricseqSPLASHval28_splashBEST_trainall0176' 'all_modelarch1_paristfinetuningSPLASHval25_ricseqSPLASHval28_splashBEST_trainall0177' 'all_modelarch1_paristfinetuningSPLASHval25_ricseqSPLASHval28_splashBEST_trainall0178' 'all_modelarch1_paristfinetuningSPLASHval25_ricseqSPLASHval28_splashBEST_trainall0188' 'all_modelarch1_paristfinetuningSPLASHval25_ricseqSPLASHval28_splashBEST_trainall0190' 'all_modelarch1_paristfinetuningSPLASHval25_ricseqSPLASHval28_splash103_trainall0105' 'all_modelarch1_paristfinetuningSPLASHval25_ricseqSPLASHval28_splash103_trainall0106' 'all_modelarch1_paristfinetuningSPLASHval25_ricseqSPLASHval28_splash103_trainall0107' 'all_modelarch1_paristfinetuningSPLASHval25_ricseqSPLASHval28_splash103_trainall0108' 'all_modelarch1_paristfinetuningSPLASHval25_ricseqSPLASHval28_splash103_trainall0109' 'all_modelarch1_paristfinetuningSPLASHval25_ricseqSPLASHval28_splash103_trainall0110' 'all_modelarch1_paristfinetuningSPLASHval25_ricseqSPLASHval28_splash103_trainall0111' 'all_modelarch1_paristfinetuningSPLASHval25_ricseqSPLASHval28_splash103_trainall0113' 'all_modelarch1_paristfinetuningSPLASHval25_ricseqSPLASHval28_splash103_trainall0122' 'all_modelarch1_paristfinetuningSPLASHval25_ricseqSPLASHval28_splash103_trainall0130'\""
      ]
     },
     "execution_count": 23,
     "metadata": {},
     "output_type": "execute_result"
    }
   ],
   "source": [
    "result_string"
   ]
  },
  {
   "cell_type": "code",
   "execution_count": null,
   "id": "6fcf23d3-81dc-442d-abec-34d6c725aacd",
   "metadata": {},
   "outputs": [],
   "source": []
  }
 ],
 "metadata": {
  "kernelspec": {
   "display_name": "Python 3 (ipykernel)",
   "language": "python",
   "name": "python3"
  },
  "language_info": {
   "codemirror_mode": {
    "name": "ipython",
    "version": 3
   },
   "file_extension": ".py",
   "mimetype": "text/x-python",
   "name": "python",
   "nbconvert_exporter": "python",
   "pygments_lexer": "ipython3",
   "version": "3.9.7"
  }
 },
 "nbformat": 4,
 "nbformat_minor": 5
}
