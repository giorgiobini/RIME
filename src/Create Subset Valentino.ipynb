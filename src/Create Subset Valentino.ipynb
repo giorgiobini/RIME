{
 "cells": [
  {
   "cell_type": "code",
   "execution_count": 1,
   "id": "bc3b83bc",
   "metadata": {},
   "outputs": [],
   "source": [
    "its_jupyter_notebook = True"
   ]
  },
  {
   "cell_type": "code",
   "execution_count": 2,
   "id": "685f531f",
   "metadata": {},
   "outputs": [],
   "source": [
    "import sys\n",
    "import pandas as pd\n",
    "import numpy as np\n",
    "import os\n",
    "import time\n",
    "if its_jupyter_notebook:\n",
    "    sys.argv = [''] #Remove this if it's not a jupyter notebook!\n",
    "sys.path.insert(0, '..')\n",
    "import dataset.annotation_files_utils as utils\n",
    "import numpy as np"
   ]
  },
  {
   "cell_type": "code",
   "execution_count": 3,
   "id": "e57aadea-b044-4384-a2f8-ae3e9ad3efc4",
   "metadata": {},
   "outputs": [],
   "source": [
    "ROOT_DIR = os.path.dirname(os.path.abspath('.'))\n",
    "original_files_dir = os.path.join(ROOT_DIR, 'dataset', 'original_files')\n",
    "processed_files_dir = os.path.join(ROOT_DIR, 'dataset', 'processed_files')\n",
    "df = utils.get_df(processed_files_dir, cleaned_version = True)\n",
    "df_cdna = utils.get_df_cdna(original_files_dir, processed_files_dir)"
   ]
  },
  {
   "cell_type": "code",
   "execution_count": 4,
   "id": "704029b7-6cf8-4305-a9cd-8fb66eea64e1",
   "metadata": {},
   "outputs": [
    {
     "data": {
      "text/html": [
       "<div>\n",
       "<style scoped>\n",
       "    .dataframe tbody tr th:only-of-type {\n",
       "        vertical-align: middle;\n",
       "    }\n",
       "\n",
       "    .dataframe tbody tr th {\n",
       "        vertical-align: top;\n",
       "    }\n",
       "\n",
       "    .dataframe thead th {\n",
       "        text-align: right;\n",
       "    }\n",
       "</style>\n",
       "<table border=\"1\" class=\"dataframe\">\n",
       "  <thead>\n",
       "    <tr style=\"text-align: right;\">\n",
       "      <th></th>\n",
       "      <th>gene_id</th>\n",
       "      <th>cdna</th>\n",
       "      <th>species</th>\n",
       "      <th>length</th>\n",
       "    </tr>\n",
       "  </thead>\n",
       "  <tbody>\n",
       "    <tr>\n",
       "      <th>0</th>\n",
       "      <td>ENSMUSG00000000058</td>\n",
       "      <td>GGGGTTCGGCCAGCCAAGGCTGGGAGCGGGAACCGGCAGCGGGAAG...</td>\n",
       "      <td>mouse</td>\n",
       "      <td>2733</td>\n",
       "    </tr>\n",
       "    <tr>\n",
       "      <th>1</th>\n",
       "      <td>ENSMUSG00000000078</td>\n",
       "      <td>GAGGCTGGCAGCGGAGCTTTGAATAGGGAAGTTTTGCAGGGGTTAC...</td>\n",
       "      <td>mouse</td>\n",
       "      <td>4217</td>\n",
       "    </tr>\n",
       "    <tr>\n",
       "      <th>2</th>\n",
       "      <td>ENSMUSG00000000320</td>\n",
       "      <td>TGGCCCCGAGGCGACGGTGGCCCTGGGCGGTCTTCGAATTGAACTT...</td>\n",
       "      <td>mouse</td>\n",
       "      <td>3001</td>\n",
       "    </tr>\n",
       "    <tr>\n",
       "      <th>3</th>\n",
       "      <td>ENSMUSG00000001441</td>\n",
       "      <td>CGCAGCCGCCGCCGCCTCCCTCCCCGCCCTCCTCCCCTGCCCTCCC...</td>\n",
       "      <td>mouse</td>\n",
       "      <td>4215</td>\n",
       "    </tr>\n",
       "    <tr>\n",
       "      <th>4</th>\n",
       "      <td>ENSMUSG00000031967</td>\n",
       "      <td>CCGGGGGATGTTACTGCGGCTGGTGGGGGCGGCGGGCAGTCGAGCC...</td>\n",
       "      <td>mouse</td>\n",
       "      <td>4227</td>\n",
       "    </tr>\n",
       "    <tr>\n",
       "      <th>...</th>\n",
       "      <td>...</td>\n",
       "      <td>...</td>\n",
       "      <td>...</td>\n",
       "      <td>...</td>\n",
       "    </tr>\n",
       "    <tr>\n",
       "      <th>41301</th>\n",
       "      <td>ENSG00000226706</td>\n",
       "      <td>CCACCATCTGGGACACCAGCTGGTCCAGGCACAGCCTTGCCACAGT...</td>\n",
       "      <td>human</td>\n",
       "      <td>1117</td>\n",
       "    </tr>\n",
       "    <tr>\n",
       "      <th>41302</th>\n",
       "      <td>ENSG00000262020</td>\n",
       "      <td>CGAATCTCCAGGCAATCCGATGAAAATAGCCAGGGACTTCCACTCT...</td>\n",
       "      <td>human</td>\n",
       "      <td>610</td>\n",
       "    </tr>\n",
       "    <tr>\n",
       "      <th>41303</th>\n",
       "      <td>ENSG00000277511</td>\n",
       "      <td>AGACGCGCGGCTCCCCTTCCTTGTCCTCCGCATGACGCCCGTGCCG...</td>\n",
       "      <td>human</td>\n",
       "      <td>860</td>\n",
       "    </tr>\n",
       "    <tr>\n",
       "      <th>41304</th>\n",
       "      <td>ENSG00000113525</td>\n",
       "      <td>TTAATCTAGCCACAGTCATAGTAGAACATAGCCGATCTGAAAAAAA...</td>\n",
       "      <td>human</td>\n",
       "      <td>905</td>\n",
       "    </tr>\n",
       "    <tr>\n",
       "      <th>41305</th>\n",
       "      <td>ENSG00000241499</td>\n",
       "      <td>ATGGTGAACCTTCCTAAAACCCATCGGACTTTCTGTCACAGTGTGG...</td>\n",
       "      <td>human</td>\n",
       "      <td>314</td>\n",
       "    </tr>\n",
       "  </tbody>\n",
       "</table>\n",
       "<p>41306 rows × 4 columns</p>\n",
       "</div>"
      ],
      "text/plain": [
       "                  gene_id                                               cdna  \\\n",
       "0      ENSMUSG00000000058  GGGGTTCGGCCAGCCAAGGCTGGGAGCGGGAACCGGCAGCGGGAAG...   \n",
       "1      ENSMUSG00000000078  GAGGCTGGCAGCGGAGCTTTGAATAGGGAAGTTTTGCAGGGGTTAC...   \n",
       "2      ENSMUSG00000000320  TGGCCCCGAGGCGACGGTGGCCCTGGGCGGTCTTCGAATTGAACTT...   \n",
       "3      ENSMUSG00000001441  CGCAGCCGCCGCCGCCTCCCTCCCCGCCCTCCTCCCCTGCCCTCCC...   \n",
       "4      ENSMUSG00000031967  CCGGGGGATGTTACTGCGGCTGGTGGGGGCGGCGGGCAGTCGAGCC...   \n",
       "...                   ...                                                ...   \n",
       "41301     ENSG00000226706  CCACCATCTGGGACACCAGCTGGTCCAGGCACAGCCTTGCCACAGT...   \n",
       "41302     ENSG00000262020  CGAATCTCCAGGCAATCCGATGAAAATAGCCAGGGACTTCCACTCT...   \n",
       "41303     ENSG00000277511  AGACGCGCGGCTCCCCTTCCTTGTCCTCCGCATGACGCCCGTGCCG...   \n",
       "41304     ENSG00000113525  TTAATCTAGCCACAGTCATAGTAGAACATAGCCGATCTGAAAAAAA...   \n",
       "41305     ENSG00000241499  ATGGTGAACCTTCCTAAAACCCATCGGACTTTCTGTCACAGTGTGG...   \n",
       "\n",
       "      species  length  \n",
       "0       mouse    2733  \n",
       "1       mouse    4217  \n",
       "2       mouse    3001  \n",
       "3       mouse    4215  \n",
       "4       mouse    4227  \n",
       "...       ...     ...  \n",
       "41301   human    1117  \n",
       "41302   human     610  \n",
       "41303   human     860  \n",
       "41304   human     905  \n",
       "41305   human     314  \n",
       "\n",
       "[41306 rows x 4 columns]"
      ]
     },
     "execution_count": 4,
     "metadata": {},
     "output_type": "execute_result"
    }
   ],
   "source": [
    "df_cdna"
   ]
  },
  {
   "cell_type": "code",
   "execution_count": 9,
   "id": "fbbc83ab-c73e-4233-a0d3-5d8e90d0728d",
   "metadata": {},
   "outputs": [],
   "source": [
    "subset = df.sample(2000)"
   ]
  },
  {
   "cell_type": "code",
   "execution_count": 26,
   "id": "ee255991-d67e-4c38-89d8-8d8b0736d3a5",
   "metadata": {},
   "outputs": [
    {
     "data": {
      "text/plain": [
       "'/data01/gbini/projects/DETR/dataset/processed_files'"
      ]
     },
     "execution_count": 26,
     "metadata": {},
     "output_type": "execute_result"
    }
   ],
   "source": [
    "processed_files_dir"
   ]
  },
  {
   "cell_type": "code",
   "execution_count": 22,
   "id": "bd365e97-4c9e-40e3-bb2c-8d53fe7c3711",
   "metadata": {},
   "outputs": [],
   "source": [
    "subset.to_csv(os.path.join(processed_files_dir, 'subset_valentino.csv'), index = False)"
   ]
  },
  {
   "cell_type": "code",
   "execution_count": 24,
   "id": "04110fa9-4271-4d6e-b293-be12d361527a",
   "metadata": {},
   "outputs": [],
   "source": [
    "subset = pd.read_csv(os.path.join(processed_files_dir, 'subset_valentino.csv'))"
   ]
  }
 ],
 "metadata": {
  "kernelspec": {
   "display_name": "Python 3 (ipykernel)",
   "language": "python",
   "name": "python3"
  },
  "language_info": {
   "codemirror_mode": {
    "name": "ipython",
    "version": 3
   },
   "file_extension": ".py",
   "mimetype": "text/x-python",
   "name": "python",
   "nbconvert_exporter": "python",
   "pygments_lexer": "ipython3",
   "version": "3.9.7"
  }
 },
 "nbformat": 4,
 "nbformat_minor": 5
}
