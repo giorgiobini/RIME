{
 "cells": [
  {
   "cell_type": "markdown",
   "id": "75fd7e20-8dab-4f31-a886-2801a259b193",
   "metadata": {},
   "source": [
    "# Code"
   ]
  },
  {
   "cell_type": "code",
   "execution_count": 1,
   "id": "685f531f",
   "metadata": {},
   "outputs": [],
   "source": [
    "import pandas as pd\n",
    "import os\n",
    "import time\n",
    "import numpy as np\n",
    "import argparse\n",
    "import sys\n",
    "sys.path.insert(0, '..')\n",
    "import dataset.train_test_val_utils as utils\n",
    "import ast\n",
    "import re\n",
    "from tqdm.notebook import tqdm"
   ]
  },
  {
   "cell_type": "code",
   "execution_count": 2,
   "id": "cfdaa078-478c-4e41-b3c6-57ae5a98fb33",
   "metadata": {},
   "outputs": [],
   "source": [
    "ROOT_DIR = os.path.dirname(os.path.abspath('.'))\n",
    "original_files_dir = os.path.join(ROOT_DIR, 'dataset', 'original_files')\n",
    "processed_files_dir = os.path.join(ROOT_DIR, 'dataset', 'processed_files')\n",
    "rna_rna_pairs_data_dir = os.path.join(ROOT_DIR, 'dataset', 'rna_rna_pairs')"
   ]
  },
  {
   "cell_type": "markdown",
   "id": "0c4ff3bd-6803-470d-a1bd-3a21e6d1e19b",
   "metadata": {},
   "source": [
    "### Pre-processing"
   ]
  },
  {
   "cell_type": "code",
   "execution_count": 3,
   "id": "497655dd-0964-429a-9985-d99f3cebec6d",
   "metadata": {},
   "outputs": [],
   "source": [
    "df_hub = utils.read_dataframe(os.path.join(original_files_dir, 'hub.table.paris.txt'), columns_to_drop = ['Unnamed: 0','gene_name']).rename({'cell_line': 'cell_line_set',\n",
    "                                                                                                                                                    'degree':'n_interactors',\n",
    "                                                                                                                                                    'gene_type': 'gene_type_set',\n",
    "                                                                                                                                                    'species': 'species_set'}, axis = 1)\n",
    "tx = utils.read_dataframe(os.path.join(original_files_dir,'tx_regions.ens99.txt'), columns_to_drop = ['Unnamed: 0','ensembl_transcript_id']).rename({'ensembl_gene_id': 'gene_id'}, axis = 1)\n",
    "cc = pd.read_csv(os.path.join(original_files_dir,'controls_controlled.hub.txt'), sep = '\\t')\n",
    "int_or = utils.read_dataframe(os.path.join(original_files_dir, 'rise_paris_tr.new.mapped_interactions.tx_regions.txt'), columns_to_drop = ['Unnamed: 0', 'gene_name1', 'gene_name2', 'score', 'tx_id_1', 'tx_id_2', 'rise_id', 'type_interaction'])\n",
    "\n",
    "df_genes = df_hub.merge(tx, on = 'gene_id')\n",
    "assert df_genes.shape[0] == df_hub.shape[0]"
   ]
  },
  {
   "cell_type": "code",
   "execution_count": 4,
   "id": "a5784c8d-fade-41a5-bf9f-a70f8b470834",
   "metadata": {},
   "outputs": [],
   "source": [
    "int_or_all = utils.read_dataframe(os.path.join(original_files_dir, 'rise_paris_tr.new.mapped_interactions.tx_regions.txt'), columns_to_drop = ['rise_id','Unnamed: 0', 'type_interaction'])"
   ]
  },
  {
   "cell_type": "code",
   "execution_count": 5,
   "id": "0a51a73d-3a39-4d63-a88e-c1a5607ad418",
   "metadata": {},
   "outputs": [
    {
     "data": {
      "text/plain": [
       "90086"
      ]
     },
     "execution_count": 5,
     "metadata": {},
     "output_type": "execute_result"
    }
   ],
   "source": [
    "int_or_all.drop_duplicates().shape[0]"
   ]
  },
  {
   "cell_type": "code",
   "execution_count": 6,
   "id": "16cfd973-5d23-40f9-9747-ac773b8c8ec7",
   "metadata": {},
   "outputs": [
    {
     "data": {
      "text/plain": [
       "92173"
      ]
     },
     "execution_count": 6,
     "metadata": {},
     "output_type": "execute_result"
    }
   ],
   "source": [
    "int_or.shape[0]"
   ]
  },
  {
   "cell_type": "code",
   "execution_count": 7,
   "id": "2a95e013-bcbd-42be-ae4b-b76858f58123",
   "metadata": {},
   "outputs": [
    {
     "data": {
      "text/plain": [
       "89971"
      ]
     },
     "execution_count": 7,
     "metadata": {},
     "output_type": "execute_result"
    }
   ],
   "source": [
    "int_or = int_or.drop_duplicates().reset_index(drop = True)\n",
    "int_or.shape[0]"
   ]
  },
  {
   "cell_type": "code",
   "execution_count": 8,
   "id": "ef9674dc-0331-48d5-b605-e5d795e8ead2",
   "metadata": {},
   "outputs": [],
   "source": [
    "def get_list_couples(d):\n",
    "    l = []\n",
    "    for pair in d:\n",
    "        rgx = re.search(r\"(.+)--(.+)\", pair)\n",
    "        first_gene, second_gene = rgx.group(1), rgx.group(2)\n",
    "        couple = '_'.join(sorted([first_gene, second_gene]))\n",
    "        # print(couple, couple in all_couples)\n",
    "        # assert couple in all_couples\n",
    "        l.append(couple)\n",
    "    return l\n",
    "\n",
    "def get_couple_id(g1, g2, needed_to_swap = False):\n",
    "    l = sorted([g1, g2])\n",
    "    if needed_to_swap:\n",
    "        need_to_swap = False if l[0] == g1 else True\n",
    "        return '_'.join(l), need_to_swap\n",
    "    else:\n",
    "        return '_'.join(l)\n",
    "\n",
    "def create_pairs(x):\n",
    "    \"\"\"\n",
    "    Pairs will be created in such a way that gene1_gene2 is equal to gene2_gene1. How? I will simply order the strings before create the couple string.\n",
    "    \"\"\"\n",
    "    first_gene = x.gene_id1\n",
    "    second_gene = x.gene_id2\n",
    "    couple, need_to_swap = get_couple_id(first_gene, second_gene, needed_to_swap = True)\n",
    "    return pd.Series([couple, need_to_swap])\n",
    "\n",
    "def obtain_df_pos_controls(cc):\n",
    "    diz = {}\n",
    "    idx = 0\n",
    "    for _, row in cc.iterrows():\n",
    "        controlled_gene = row.controlled\n",
    "        control_gene = row.controls\n",
    "        d_neg = ast.literal_eval(row.couples_negative)\n",
    "        d_pos = ast.literal_eval(row.couples_rr_ctrlled)\n",
    "        negatives = get_list_couples(d_neg)\n",
    "        positives = get_list_couples(d_pos)\n",
    "        for pair in positives:\n",
    "            rgx = re.search(r\"(.+)_(.+)\", pair)\n",
    "            first_gene, second_gene = rgx.group(1), rgx.group(2)\n",
    "            gene_to_search = second_gene if first_gene == controlled_gene else first_gene\n",
    "            negative_pair =  get_couple_id(control_gene, gene_to_search)\n",
    "            assert negative_pair in negatives\n",
    "            diz[idx] = {'positive': pair, 'negative':negative_pair}\n",
    "            idx+=1\n",
    "        \n",
    "    df_pairs = pd.DataFrame.from_dict(diz, 'index')\n",
    "    return df_pairs\n",
    "\n",
    "def swap_genes_if_needed(df):\n",
    "    original_dim = df.shape[0]\n",
    "    where = df.need_to_swap\n",
    "    df.loc[where, ['gene_id1', 'gene_id2']] = (df.loc[where, ['gene_id2', 'gene_id1']].values)\n",
    "    df.loc[where, ['length_1', 'length_2']] = (df.loc[where, ['length_2', 'length_1']].values)\n",
    "    df.loc[where, ['start_map1', 'start_map2']] = (df.loc[where, ['start_map2', 'start_map1']].values)\n",
    "    df.loc[where, ['end_map1', 'end_map2']] = (df.loc[where, ['end_map2', 'end_map1']].values)\n",
    "    df.loc[where, ['transcript_biotype_1', 'transcript_biotype_2']] = (df.loc[where, ['transcript_biotype_2', 'transcript_biotype_1']].values)\n",
    "    df.loc[where, ['tx_id_1_localization', 'tx_id_2_localization']] = (df.loc[where, ['tx_id_2_localization', 'tx_id_1_localization']].values)\n",
    "    df.loc[where, ['gene_type1', 'gene_type2']] = (df.loc[where, ['gene_type2', 'gene_type1']].values) \n",
    "    df.loc[where, ['cdna_1', 'cdna_2']] = (df.loc[where, ['cdna_2', 'cdna_1']].values)\n",
    "    df = df.drop('need_to_swap', axis = 1)\n",
    "    assert df.drop_duplicates().shape[0] == original_dim \n",
    "    return df\n",
    "\n",
    "def create_features(df):\n",
    "    df['area_of_the_matrix'] = df['length_1']*df['length_2']\n",
    "    df['protein_coding_1'] = df['transcript_biotype_1'].apply(lambda x: True if x == 'protein_coding' else False)\n",
    "    df['protein_coding_2'] = df['transcript_biotype_2'].apply(lambda x: True if x == 'protein_coding' else False)\n",
    "    assert (df['end_map1'] - df['start_map1']).min() > 0 \n",
    "    assert (df['end_map2'] - df['start_map2']).min() > 0 \n",
    "    df['area_of_the_interaction'] = (df['end_map1'] - df['start_map1'])*(df['end_map2'] - df['start_map2'])\n",
    "    df['interacting'] = True\n",
    "    assert set(pd.get_dummies(df.cell_line).columns) == set(['HEK293T', 'HeLa', 'HEK293', 'mES', 'Mouse_brain'])\n",
    "    df = pd.concat([df, pd.get_dummies(df.cell_line)], axis = 1).drop('cell_line', axis = 1)\n",
    "    return df"
   ]
  },
  {
   "cell_type": "code",
   "execution_count": 9,
   "id": "30fa167f-b15a-4b2f-83ed-91248a5ce12a",
   "metadata": {},
   "outputs": [],
   "source": [
    "df_pairs = obtain_df_pos_controls(cc)"
   ]
  },
  {
   "cell_type": "code",
   "execution_count": 10,
   "id": "0f73dcaa-bfa7-4767-9f51-fd299f71c4dd",
   "metadata": {},
   "outputs": [
    {
     "name": "stdout",
     "output_type": "stream",
     "text": [
      "We have 80494 pairs interacting (they can have multiple interactions) \n",
      "\n",
      "We have 160511 pairs not interacting \n",
      "\n"
     ]
    }
   ],
   "source": [
    "print(f'We have {len(set(df_pairs.positive))} pairs interacting (they can have multiple interactions) \\n')\n",
    "print(f'We have {len(set(df_pairs.negative))} pairs not interacting \\n')"
   ]
  },
  {
   "cell_type": "code",
   "execution_count": 11,
   "id": "7d986478-382b-4a55-9f5d-e2207b0beadd",
   "metadata": {},
   "outputs": [],
   "source": [
    "# LEVA I COMMENTI\n",
    "\n",
    "# assert len(set(df_pairs.positive).intersection(set(int_or.gene_id1 + '_' + int_or.gene_id2))) > 0\n",
    "# assert len(set(df_pairs.positive).intersection(set(int_or.gene_id2 + '_' + int_or.gene_id1))) > 0\n",
    "\n",
    "# assert len(set(df_pairs.negative).intersection(set(int_or.gene_id1 + '_' + int_or.gene_id2))) == 0\n",
    "# assert len(set(df_pairs.negative).intersection(set(int_or.gene_id2 + '_' + int_or.gene_id1))) == 0"
   ]
  },
  {
   "cell_type": "code",
   "execution_count": 12,
   "id": "525854c0-e941-46c0-9bd0-98d098a4cfdb",
   "metadata": {},
   "outputs": [],
   "source": [
    "df_neg = df_pairs[['negative']].drop_duplicates().reset_index(drop = True)\n",
    "df_neg[['gene1', 'gene2']] = df_neg['negative'].str.split('_', expand = True)\n",
    "df_neg = df_neg.rename({'negative':'couples'}, axis = 1)\n",
    "\n",
    "df_pairs = df_pairs.groupby('positive').agg({'negative': list}).reset_index()"
   ]
  },
  {
   "cell_type": "code",
   "execution_count": 13,
   "id": "653bf7a5-ed9a-4938-acf7-e7fe258f64a2",
   "metadata": {},
   "outputs": [],
   "source": [
    "int_or[['couples', 'need_to_swap']] = int_or[['gene_id1', 'gene_id2']].apply(create_pairs, axis = 1)"
   ]
  },
  {
   "cell_type": "code",
   "execution_count": 14,
   "id": "85328018-11fc-463e-862c-47b9ec71e253",
   "metadata": {},
   "outputs": [],
   "source": [
    "int_or = swap_genes_if_needed(int_or)"
   ]
  },
  {
   "cell_type": "code",
   "execution_count": 15,
   "id": "4c9651e4-dd93-4886-b0a5-038c8924df06",
   "metadata": {},
   "outputs": [],
   "source": [
    "assert (int_or[['gene_id1', 'gene_id2']].apply(create_pairs, axis = 1)[1] == False).all() #check if swapping works"
   ]
  },
  {
   "cell_type": "code",
   "execution_count": 16,
   "id": "36c988cd-bcb4-4940-9b20-8a98abdc8a8e",
   "metadata": {},
   "outputs": [
    {
     "data": {
      "text/plain": [
       "88999"
      ]
     },
     "execution_count": 16,
     "metadata": {},
     "output_type": "execute_result"
    }
   ],
   "source": [
    "int_or.drop_duplicates().shape[0]"
   ]
  },
  {
   "cell_type": "code",
   "execution_count": 17,
   "id": "f3476d97-a892-4a1d-a233-174ad88b7afe",
   "metadata": {},
   "outputs": [],
   "source": [
    "int_or = create_features(int_or)"
   ]
  },
  {
   "cell_type": "code",
   "execution_count": 18,
   "id": "27bb7407-a450-4043-a902-88c02e1802f8",
   "metadata": {},
   "outputs": [
    {
     "data": {
      "text/plain": [
       "88999"
      ]
     },
     "execution_count": 18,
     "metadata": {},
     "output_type": "execute_result"
    }
   ],
   "source": [
    "int_or.drop_duplicates().shape[0]"
   ]
  },
  {
   "cell_type": "code",
   "execution_count": 19,
   "id": "adc34529-ce86-4295-8a60-e28ecf50fd42",
   "metadata": {},
   "outputs": [],
   "source": [
    "assert int_or.groupby('gene_id1').std(numeric_only = True).protein_coding_1.max() == 0\n",
    "assert int_or.groupby('gene_id2').std(numeric_only = True).protein_coding_2.max() == 0\n",
    "\n",
    "assert int_or.groupby('gene_id1').std(numeric_only = True).length_1.max() == 0\n",
    "assert int_or.groupby('gene_id2').std(numeric_only = True).length_2.max() == 0\n",
    "\n",
    "idx = np.random.randint(int_or.shape[0])\n",
    "assert int_or.loc[idx].length_1 == len(int_or.loc[idx].cdna_1)\n",
    "assert int_or.loc[idx].length_2 == len(int_or.loc[idx].cdna_2)"
   ]
  },
  {
   "cell_type": "code",
   "execution_count": null,
   "id": "ba5d9924-d50c-4f8d-9ffb-24ca562e51cf",
   "metadata": {},
   "outputs": [],
   "source": []
  },
  {
   "cell_type": "code",
   "execution_count": null,
   "id": "c53a3d03-b9e7-4b89-b8d4-f1a180f513b2",
   "metadata": {},
   "outputs": [],
   "source": []
  },
  {
   "cell_type": "code",
   "execution_count": null,
   "id": "3caafb87-702d-4be1-bd3f-23484c816c49",
   "metadata": {},
   "outputs": [],
   "source": []
  },
  {
   "cell_type": "code",
   "execution_count": 22,
   "id": "10c03287-5837-46be-9c50-d1c037b4fb78",
   "metadata": {},
   "outputs": [],
   "source": [
    "gene_info1 = int_or[['gene_id1', 'length_1', 'cdna_1', 'protein_coding_1']]\n",
    "gene_info1.columns = ['gene_id', 'length', 'cdna', 'protein_coding']\n",
    "gene_info2 = int_or[['gene_id2', 'length_2', 'cdna_2', 'protein_coding_2']]\n",
    "gene_info2.columns = ['gene_id', 'length', 'cdna', 'protein_coding']"
   ]
  },
  {
   "cell_type": "code",
   "execution_count": 26,
   "id": "b71b7cf0-d84c-4b5a-a185-efb049ece3e1",
   "metadata": {},
   "outputs": [],
   "source": [
    "gene_info = pd.concat([gene_info1, gene_info2], axis = 0, ignore_index = True).drop_duplicates()"
   ]
  },
  {
   "cell_type": "code",
   "execution_count": null,
   "id": "b97d809f-999e-4f09-804d-91a8a74cdb80",
   "metadata": {},
   "outputs": [],
   "source": [
    "assert set(gene_info.gene_id) == set(df_genes.gene_id)"
   ]
  },
  {
   "cell_type": "code",
   "execution_count": 31,
   "id": "ad71157f-f5e4-44c6-9f28-db0883c7fc2b",
   "metadata": {},
   "outputs": [],
   "source": [
    "df_genes = df_genes.merge(gene_info)"
   ]
  },
  {
   "cell_type": "code",
   "execution_count": 33,
   "id": "6887c0a3-fc81-4edd-836b-db94e043b030",
   "metadata": {},
   "outputs": [],
   "source": [
    "df_genes.to_csv(os.path.join(processed_files_dir, 'df_genes.csv'), index = False)"
   ]
  },
  {
   "cell_type": "code",
   "execution_count": null,
   "id": "b405802b-532c-4a85-b478-2f791b826e68",
   "metadata": {},
   "outputs": [],
   "source": [
    "#clean int_or\n",
    "int_full_info = int_or.drop(['cdna1', 'cdna2'], axis = 1).columns\n",
    "\n",
    "int_full_info.to_csv(os.path.join(processed_files_dir, 'full_paris_info_interactions.csv'), index = False)"
   ]
  },
  {
   "cell_type": "code",
   "execution_count": null,
   "id": "73ae1fab-dbea-413a-b550-cccefb1b89c9",
   "metadata": {},
   "outputs": [],
   "source": [
    "df_int = int_full_info[['couples', 'gene_id1', 'gene_id2', 'interacting', \n",
    "                        'length_1', 'protein_coding_1',\n",
    "                        'start_map1', 'end_map1', 'start_map2', 'end_map2']].rename({'gene_id1':'gene1', 'gene_id2':'gene1'}, axis = 1)"
   ]
  },
  {
   "cell_type": "code",
   "execution_count": 39,
   "id": "87891f00-ee7e-4a59-91d9-f54669c78748",
   "metadata": {},
   "outputs": [
    {
     "data": {
      "text/html": [
       "<div>\n",
       "<style scoped>\n",
       "    .dataframe tbody tr th:only-of-type {\n",
       "        vertical-align: middle;\n",
       "    }\n",
       "\n",
       "    .dataframe tbody tr th {\n",
       "        vertical-align: top;\n",
       "    }\n",
       "\n",
       "    .dataframe thead th {\n",
       "        text-align: right;\n",
       "    }\n",
       "</style>\n",
       "<table border=\"1\" class=\"dataframe\">\n",
       "  <thead>\n",
       "    <tr style=\"text-align: right;\">\n",
       "      <th></th>\n",
       "      <th>couples</th>\n",
       "      <th>gene1</th>\n",
       "      <th>gene2</th>\n",
       "    </tr>\n",
       "  </thead>\n",
       "  <tbody>\n",
       "    <tr>\n",
       "      <th>0</th>\n",
       "      <td>ENSG00000000003_ENSG00000133703</td>\n",
       "      <td>ENSG00000000003</td>\n",
       "      <td>ENSG00000133703</td>\n",
       "    </tr>\n",
       "    <tr>\n",
       "      <th>1</th>\n",
       "      <td>ENSG00000000003_ENSG00000272716</td>\n",
       "      <td>ENSG00000000003</td>\n",
       "      <td>ENSG00000272716</td>\n",
       "    </tr>\n",
       "    <tr>\n",
       "      <th>2</th>\n",
       "      <td>ENSG00000000003_ENSG00000183779</td>\n",
       "      <td>ENSG00000000003</td>\n",
       "      <td>ENSG00000183779</td>\n",
       "    </tr>\n",
       "    <tr>\n",
       "      <th>3</th>\n",
       "      <td>ENSG00000000003_ENSG00000164363</td>\n",
       "      <td>ENSG00000000003</td>\n",
       "      <td>ENSG00000164363</td>\n",
       "    </tr>\n",
       "    <tr>\n",
       "      <th>4</th>\n",
       "      <td>ENSG00000000003_ENSG00000129351</td>\n",
       "      <td>ENSG00000000003</td>\n",
       "      <td>ENSG00000129351</td>\n",
       "    </tr>\n",
       "    <tr>\n",
       "      <th>...</th>\n",
       "      <td>...</td>\n",
       "      <td>...</td>\n",
       "      <td>...</td>\n",
       "    </tr>\n",
       "    <tr>\n",
       "      <th>160506</th>\n",
       "      <td>ENSMUSG00000021302_ENSMUSG00000118552</td>\n",
       "      <td>ENSMUSG00000021302</td>\n",
       "      <td>ENSMUSG00000118552</td>\n",
       "    </tr>\n",
       "    <tr>\n",
       "      <th>160507</th>\n",
       "      <td>ENSMUSG00000064373_ENSMUSG00000118559</td>\n",
       "      <td>ENSMUSG00000064373</td>\n",
       "      <td>ENSMUSG00000118559</td>\n",
       "    </tr>\n",
       "    <tr>\n",
       "      <th>160508</th>\n",
       "      <td>ENSMUSG00000027630_ENSMUSG00000118559</td>\n",
       "      <td>ENSMUSG00000027630</td>\n",
       "      <td>ENSMUSG00000118559</td>\n",
       "    </tr>\n",
       "    <tr>\n",
       "      <th>160509</th>\n",
       "      <td>ENSMUSG00000015090_ENSMUSG00000118559</td>\n",
       "      <td>ENSMUSG00000015090</td>\n",
       "      <td>ENSMUSG00000118559</td>\n",
       "    </tr>\n",
       "    <tr>\n",
       "      <th>160510</th>\n",
       "      <td>ENSMUSG00000033209_ENSMUSG00000118604</td>\n",
       "      <td>ENSMUSG00000033209</td>\n",
       "      <td>ENSMUSG00000118604</td>\n",
       "    </tr>\n",
       "  </tbody>\n",
       "</table>\n",
       "<p>160511 rows × 3 columns</p>\n",
       "</div>"
      ],
      "text/plain": [
       "                                      couples               gene1  \\\n",
       "0             ENSG00000000003_ENSG00000133703     ENSG00000000003   \n",
       "1             ENSG00000000003_ENSG00000272716     ENSG00000000003   \n",
       "2             ENSG00000000003_ENSG00000183779     ENSG00000000003   \n",
       "3             ENSG00000000003_ENSG00000164363     ENSG00000000003   \n",
       "4             ENSG00000000003_ENSG00000129351     ENSG00000000003   \n",
       "...                                       ...                 ...   \n",
       "160506  ENSMUSG00000021302_ENSMUSG00000118552  ENSMUSG00000021302   \n",
       "160507  ENSMUSG00000064373_ENSMUSG00000118559  ENSMUSG00000064373   \n",
       "160508  ENSMUSG00000027630_ENSMUSG00000118559  ENSMUSG00000027630   \n",
       "160509  ENSMUSG00000015090_ENSMUSG00000118559  ENSMUSG00000015090   \n",
       "160510  ENSMUSG00000033209_ENSMUSG00000118604  ENSMUSG00000033209   \n",
       "\n",
       "                     gene2  \n",
       "0          ENSG00000133703  \n",
       "1          ENSG00000272716  \n",
       "2          ENSG00000183779  \n",
       "3          ENSG00000164363  \n",
       "4          ENSG00000129351  \n",
       "...                    ...  \n",
       "160506  ENSMUSG00000118552  \n",
       "160507  ENSMUSG00000118559  \n",
       "160508  ENSMUSG00000118559  \n",
       "160509  ENSMUSG00000118559  \n",
       "160510  ENSMUSG00000118604  \n",
       "\n",
       "[160511 rows x 3 columns]"
      ]
     },
     "execution_count": 39,
     "metadata": {},
     "output_type": "execute_result"
    }
   ],
   "source": [
    "df_neg"
   ]
  },
  {
   "cell_type": "code",
   "execution_count": 46,
   "id": "2c36cf8f-fd4c-4f36-9db9-04e45f95f5e7",
   "metadata": {},
   "outputs": [],
   "source": [
    "#TODO:\n",
    "# Metti a df_neg le stesse colonne di df_int. Per le regioni di interazione potrei prendere delle interazioni finte dai positivi."
   ]
  },
  {
   "cell_type": "code",
   "execution_count": null,
   "id": "807799f1-9062-47ad-9697-d50226e40b55",
   "metadata": {},
   "outputs": [],
   "source": [
    "# # ONLY FOR CONTROLS \n",
    "# df['interacting'] = False\n",
    "# df[['area_of_the_interaction', \n",
    "#     'start_map1', 'end_map1', \n",
    "#     'start_map2', 'end_map2', \n",
    "#     'tx_id_1_localization', 'tx_id_2_localization',\n",
    "#     'HEK293T', 'HeLa', 'HEK293', 'mES', 'Mouse_brain',\n",
    "#    'tx_id_1_localization', 'tx_id_2_localization']] = np.nan"
   ]
  },
  {
   "cell_type": "code",
   "execution_count": 10,
   "id": "c496b122-5d5b-495c-92dc-138cc506b293",
   "metadata": {},
   "outputs": [],
   "source": [
    "#create protein_coding_columns"
   ]
  },
  {
   "cell_type": "code",
   "execution_count": null,
   "id": "3ba239a2-1ec9-4400-900a-6e5151cbe8fe",
   "metadata": {},
   "outputs": [],
   "source": []
  },
  {
   "cell_type": "code",
   "execution_count": null,
   "id": "7361b525-d527-4fe7-97f7-9ceb1bbaa853",
   "metadata": {},
   "outputs": [],
   "source": []
  },
  {
   "cell_type": "code",
   "execution_count": null,
   "id": "359622be-406b-4ac4-8f37-ddb9b957b82b",
   "metadata": {},
   "outputs": [],
   "source": []
  },
  {
   "cell_type": "code",
   "execution_count": null,
   "id": "afa2f3fc-2d6c-4cf0-b2f4-43680306eeb4",
   "metadata": {},
   "outputs": [],
   "source": []
  },
  {
   "cell_type": "code",
   "execution_count": null,
   "id": "2193d4d5-2714-4be4-ba25-d7febe3d3ce2",
   "metadata": {},
   "outputs": [],
   "source": []
  },
  {
   "cell_type": "code",
   "execution_count": null,
   "id": "e008e31c-6d20-4013-aa09-d95cf2189208",
   "metadata": {},
   "outputs": [],
   "source": []
  },
  {
   "cell_type": "code",
   "execution_count": null,
   "id": "92f1fe26-4483-429c-9b6a-68bfda2442ed",
   "metadata": {},
   "outputs": [],
   "source": []
  },
  {
   "cell_type": "code",
   "execution_count": null,
   "id": "0bd81649-ab83-4131-bae7-9112f95276cc",
   "metadata": {},
   "outputs": [],
   "source": []
  }
 ],
 "metadata": {
  "kernelspec": {
   "display_name": "Python 3 (ipykernel)",
   "language": "python",
   "name": "python3"
  },
  "language_info": {
   "codemirror_mode": {
    "name": "ipython",
    "version": 3
   },
   "file_extension": ".py",
   "mimetype": "text/x-python",
   "name": "python",
   "nbconvert_exporter": "python",
   "pygments_lexer": "ipython3",
   "version": "3.10.10"
  }
 },
 "nbformat": 4,
 "nbformat_minor": 5
}
