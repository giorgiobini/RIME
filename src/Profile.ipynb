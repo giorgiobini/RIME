{
 "cells": [
  {
   "cell_type": "code",
   "execution_count": 1,
   "id": "aa8ae948",
   "metadata": {},
   "outputs": [],
   "source": [
    "import pandas as pd\n",
    "import os\n",
    "import time\n",
    "import numpy as np\n",
    "import seaborn as sns\n",
    "import pickle\n",
    "import torch\n",
    "from pathlib import Path\n",
    "from tqdm.notebook import tqdm\n",
    "import argparse\n",
    "import math\n",
    "import matplotlib.pyplot as plt\n",
    "import sys\n",
    "from sklearn.metrics import classification_report, roc_curve, roc_auc_score, auc\n",
    "from scipy.stats import chi2_contingency, fisher_exact\n",
    "from sklearn.preprocessing import StandardScaler\n",
    "from sklearn.decomposition import PCA\n",
    "from sklearn.discriminant_analysis import StandardScaler\n",
    "from sklearn.pipeline import make_pipeline\n",
    "from sklearn.preprocessing import Normalizer\n",
    "from sklearn.svm import LinearSVC\n",
    "from sklearn.linear_model import LogisticRegression,SGDClassifier\n",
    "import joblib\n",
    "from sklearn.model_selection import train_test_split\n",
    "\n",
    "\n",
    "sys.path.insert(0, '..')\n",
    "\n",
    "import dataset.preprocessing as utils\n",
    "from config import *"
   ]
  },
  {
   "cell_type": "code",
   "execution_count": 2,
   "id": "fa6c604d-0fc4-4cee-b45f-4589ccd41366",
   "metadata": {},
   "outputs": [],
   "source": [
    "emb_dir = os.path.join(processed_files_dir, 'nt_data', 'mean_embeddings')"
   ]
  },
  {
   "cell_type": "code",
   "execution_count": 3,
   "id": "c01bde9b-169a-4c7e-9b50-a873c7cfdbe4",
   "metadata": {},
   "outputs": [],
   "source": [
    "columns_to_keep = ['gene1', 'gene2', 'x1', 'y1', 'w', 'h']\n",
    "df_splash = pd.read_csv(os.path.join(processed_files_dir, 'splash.csv')).filter(columns_to_keep, axis = 1)\n",
    "df_splash['dataset'] = 'splash'\n",
    "df_genes_splash=pd.read_csv(os.path.join(processed_files_dir, 'df_genes_splash.csv'))[['gene_id', 'cdna', 'length', 'UTR5', 'CDS', 'UTR3']]"
   ]
  },
  {
   "cell_type": "code",
   "execution_count": 4,
   "id": "171c7133-16e5-45d5-9f5d-67c8f89e190e",
   "metadata": {},
   "outputs": [],
   "source": [
    "def create_df_coord(df_coord, drop_duplicates = True):\n",
    "    #dataset with all the interactinons of the datasets\n",
    "    df_coord['x2'] = df_coord['x1'] + df_coord['w'] \n",
    "    df_coord['y2'] = df_coord['y1'] + df_coord['h'] \n",
    "\n",
    "    df_coord1 = df_coord[['gene1', 'x1', 'x2', 'dataset']].rename({'gene1':'gene_id', 'x1':'start', 'x2':'end'}, axis=1)\n",
    "    df_coord2 = df_coord[['gene2', 'y1', 'y2', 'dataset']].rename({'gene2':'gene_id', 'y1':'start', 'y2':'end'}, axis=1)\n",
    "    if drop_duplicates:\n",
    "        df_coord = pd.concat([df_coord1, df_coord2], axis = 0).drop_duplicates().reset_index(drop = True)\n",
    "    else:\n",
    "        df_coord = pd.concat([df_coord1, df_coord2], axis = 0).reset_index(drop = True)\n",
    "    return df_coord"
   ]
  },
  {
   "cell_type": "code",
   "execution_count": 5,
   "id": "ff64fc1e-1b4a-4275-8683-a4fb6448c890",
   "metadata": {},
   "outputs": [],
   "source": [
    "df_coord_splash = create_df_coord(\n",
    "    df_splash, drop_duplicates = False\n",
    ").merge(df_genes_splash[['gene_id', 'length', 'UTR5', 'CDS', 'UTR3']])"
   ]
  },
  {
   "cell_type": "markdown",
   "id": "6a57786a-8804-49b4-bb49-22467e2fdaf9",
   "metadata": {},
   "source": [
    "### Profile "
   ]
  },
  {
   "cell_type": "code",
   "execution_count": 6,
   "id": "df5f6774-702e-4cb6-94ca-8df2e21ac0dd",
   "metadata": {},
   "outputs": [],
   "source": [
    "# Define a function to calculate density at each position\n",
    "def calculate_density(start, end, weight, gene_length):\n",
    "    density = np.zeros(gene_length)\n",
    "    for i in range(len(start)):\n",
    "        density[int(start[i]):int(end[i])] += weight[i]\n",
    "    return density / np.max(density)  # Normalize density between 0 and 1\n",
    "\n",
    "# Create a function to generate the profile\n",
    "def generate_profile(df, gene_length):\n",
    "    density = calculate_density(df['start'], df['end'], df['weight'], gene_length)\n",
    "    return density"
   ]
  },
  {
   "cell_type": "code",
   "execution_count": 338,
   "id": "b58f66b3-b36c-41fb-bf75-9d2fb9090c51",
   "metadata": {},
   "outputs": [],
   "source": [
    "selected_gene = df_coord_splash.gene_id.value_counts().index[-10] #0, 23, -10, -23, -1, -2, -3\n",
    "\n",
    "\n",
    "row = df_genes_splash[df_genes_splash.gene_id == selected_gene].iloc[0]\n",
    "gene_length, cdna = row.length, row.cdna\n",
    "UTR5, CDS, UTR3 = row.UTR5, row.CDS, row.UTR3\n",
    "if np.isnan(UTR5):\n",
    "    protein_coding = False\n",
    "else:\n",
    "    protein_coding = True"
   ]
  },
  {
   "cell_type": "code",
   "execution_count": 339,
   "id": "31cc3da9-f913-4941-a1ba-8b1db4e949dd",
   "metadata": {},
   "outputs": [],
   "source": [
    "data = df_coord_splash[df_coord_splash.gene_id == selected_gene].reset_index(drop = True)\n",
    "data['weight'] = 1"
   ]
  },
  {
   "cell_type": "code",
   "execution_count": 340,
   "id": "16ace8c1-dfb5-4c8e-80c8-b241e990ec05",
   "metadata": {},
   "outputs": [],
   "source": [
    "real_interaction_profile = generate_profile(data, gene_length)"
   ]
  },
  {
   "cell_type": "code",
   "execution_count": 341,
   "id": "a5f20a3b-5bd5-4e90-a738-0732143b9aa7",
   "metadata": {},
   "outputs": [
    {
     "data": {
      "image/png": "[encoded data removed]",
      "text/plain": [
       "<Figure size 720x432 with 1 Axes>"
      ]
     },
     "metadata": {
      "needs_background": "light"
     },
     "output_type": "display_data"
    }
   ],
   "source": [
    "x_axis = np.arange(len(real_interaction_profile))\n",
    "plt.figure(figsize=(10, 6))\n",
    "plt.plot(x_axis, real_interaction_profile, label = 'real')\n",
    "if protein_coding:\n",
    "    plt.vlines(UTR5, ymin = 0, ymax = 1, color = 'grey', ls='--', lw=1.5, label = 'UTR5 CDS UTR3')\n",
    "    plt.vlines(CDS, ymin = 0, ymax = 1, color = 'grey', ls='--', lw=1.5)\n",
    "plt.xlabel('Gene Position')\n",
    "plt.ylabel('Interaction Density')\n",
    "plt.legend()\n",
    "plt.title(f'{selected_gene} Interaction Density Profile')\n",
    "plt.show()"
   ]
  },
  {
   "cell_type": "code",
   "execution_count": 342,
   "id": "a240661e-e293-4fe4-a275-003a4cb3f521",
   "metadata": {},
   "outputs": [],
   "source": [
    "start = 0\n",
    "end = gene_length\n",
    "windows_length = 29\n",
    "overlap = 10\n",
    "min_length = 20\n",
    "\n",
    "def create_coordinates(start, end, distance, overlap, min_length):\n",
    "    coordinates = [(start + i * (distance - overlap), start + (i + 1) * (distance - overlap) + overlap) for i in range((end - start) // (distance - overlap))]\n",
    "    coordinates.append((coordinates[-1][1] - overlap, end))  # Adjusting the last tuple to reach the end\n",
    "    coordinates = [(s, e) for (s, e) in coordinates if (s<e) & (e<=end) & (e-s >= min_length)]\n",
    "    return coordinates"
   ]
  },
  {
   "cell_type": "code",
   "execution_count": 343,
   "id": "7d1b6eca-70ce-4ecc-a715-935722a2636b",
   "metadata": {},
   "outputs": [],
   "source": [
    "coordinates = create_coordinates(start, end, windows_length, overlap, min_length)\n",
    "\n",
    "def create_df_query(id_gene, cdna, coordinates):\n",
    "    diz = {}\n",
    "    for _, (start, end) in enumerate(coordinates):\n",
    "        diz[_] = {'id_query': id_gene + '_' + str(start) + '_' + str(end), 'cdna': cdna[start:end], 'start':start, 'end':end}\n",
    "    return pd.DataFrame.from_dict(diz, orient = 'index')"
   ]
  },
  {
   "cell_type": "code",
   "execution_count": 344,
   "id": "cf3941fc-e72a-4554-90f7-3dba6d96849e",
   "metadata": {},
   "outputs": [],
   "source": [
    "predicted_profile = create_df_query(selected_gene, cdna, coordinates)"
   ]
  },
  {
   "cell_type": "code",
   "execution_count": 345,
   "id": "c950aefe-6523-4c57-8ac0-981a0c578843",
   "metadata": {},
   "outputs": [
    {
     "name": "stdout",
     "output_type": "stream",
     "text": [
      "# of embedding to download:  0\n"
     ]
    }
   ],
   "source": [
    "df_query = predicted_profile[['id_query', 'cdna']]\n",
    "\n",
    "all_files = os.listdir(os.path.join(emb_dir, '32'))\n",
    "all_files = list(pd.Series(all_files).str.extractall('(.*)\\.npy').reset_index()[0])\n",
    "df_query = df_query[~df_query.id_query.isin(all_files)]\n",
    "\n",
    "df_query.to_csv(os.path.join(emb_dir, 'embedding_query.csv'))\n",
    "\n",
    "print('# of embedding to download: ', len(df_query))"
   ]
  },
  {
   "cell_type": "markdown",
   "id": "7cfd8193-3e80-41e3-af1f-93a2ac5a8b81",
   "metadata": {
    "tags": []
   },
   "source": [
    "### Download embeddings\n",
    "\n",
    "nohup python download_embeddings.py --save_mean=1 --batch_size=15 --path_to_embedding_query_dir=/data01/giorgio/RNARNA-NT/dataset/processed_files/nt_data/mean_embeddings --embedding_dir=/data01/giorgio/RNARNA-NT/dataset/processed_files/nt_data/mean_embeddings &> download_embeddings.out &"
   ]
  },
  {
   "cell_type": "code",
   "execution_count": 346,
   "id": "c63357f0-8195-4d4b-ac85-a18bf05f7d4a",
   "metadata": {},
   "outputs": [],
   "source": [
    "def load_features(arrays_to_load):\n",
    "    # Initialize an empty list to store the loaded arrays\n",
    "    loaded_arrays = []\n",
    "\n",
    "    # Loop through each file and load the numpy array\n",
    "    for file_name in tqdm(arrays_to_load):\n",
    "        # Load the numpy array from file\n",
    "        array_data = np.load(os.path.join(emb_dir, '32', file_name + '.npy'))\n",
    "\n",
    "        # Append the loaded array to the list\n",
    "        loaded_arrays.append(array_data)\n",
    "\n",
    "    # Stack the loaded arrays along the first axis to create a single array\n",
    "    result_array = np.stack(loaded_arrays)\n",
    "\n",
    "    # Verify the shape of the resulting array\n",
    "    print(\"Shape of the resulting array:\", result_array.shape)\n",
    "    \n",
    "    return result_array"
   ]
  },
  {
   "cell_type": "markdown",
   "id": "f9ba2175-0399-450f-91ae-296dd7f785c6",
   "metadata": {},
   "source": [
    "### Predicted profile"
   ]
  },
  {
   "cell_type": "code",
   "execution_count": 357,
   "id": "7beb885b-bcea-4444-848c-9ee96ee1910b",
   "metadata": {},
   "outputs": [],
   "source": [
    "filename_scaler = os.path.join(emb_dir, 'scaler.joblib')\n",
    "filename = os.path.join(emb_dir, 'rf_model_easy.joblib') #rf_model_easy3\n",
    "\n",
    "clf = joblib.load(filename)\n",
    "scaler = joblib.load(filename_scaler)"
   ]
  },
  {
   "cell_type": "code",
   "execution_count": 358,
   "id": "ad84c2ec-3cdc-4047-b9a4-fc98c6b86833",
   "metadata": {},
   "outputs": [
    {
     "data": {
      "application/vnd.jupyter.widget-view+json": {
       "model_id": "bb5827a2fe4947ab8dd56010e8fd0f9d",
       "version_major": 2,
       "version_minor": 0
      },
      "text/plain": [
       "  0%|          | 0/78 [00:00<?, ?it/s]"
      ]
     },
     "metadata": {},
     "output_type": "display_data"
    },
    {
     "name": "stdout",
     "output_type": "stream",
     "text": [
      "Shape of the resulting array: (78, 2560)\n"
     ]
    }
   ],
   "source": [
    "test_x = load_features(list(predicted_profile.id_query))"
   ]
  },
  {
   "cell_type": "code",
   "execution_count": 359,
   "id": "2bfb2428-0b44-44e9-a020-bbd632e52c01",
   "metadata": {},
   "outputs": [],
   "source": [
    "# Define a function to calculate density at each position\n",
    "def calculate_density_pred(start, end, weight, gene_length):\n",
    "    density = np.zeros(gene_length)\n",
    "    for i in range(len(start)):\n",
    "        density[int(start[i]):int(end[i])] += weight[i]\n",
    "    return density  # Normalize density between 0 and 1\n",
    "\n",
    "# Create a function to generate the profile\n",
    "def generate_profile_pred(df, gene_length):\n",
    "    density = calculate_density_pred(df['start'], df['end'], df['weight'], gene_length)\n",
    "    return density"
   ]
  },
  {
   "cell_type": "code",
   "execution_count": 360,
   "id": "0b8eeaf8-9936-4f2c-aab3-d9f77b4c0954",
   "metadata": {},
   "outputs": [
    {
     "name": "stderr",
     "output_type": "stream",
     "text": [
      "/tmp/ipykernel_974484/933486646.py:11: RuntimeWarning: invalid value encountered in true_divide\n",
      "  corrected_predicted_interaciton_profile = predicted_interaction_profile / predicted_interaction_profile_ones\n"
     ]
    }
   ],
   "source": [
    "#need this for correction. come sarebbe se fossero tutti ones?\n",
    "predicted_profile['weight'] = pd.Series(np.ones(test_x.shape[0]))\n",
    "predicted_interaction_profile_ones = generate_profile_pred(predicted_profile, gene_length)\n",
    "\n",
    "#this is the real profile, but the counts are fake\n",
    "test_x_scaled = scaler.transform(test_x)\n",
    "predicted_profile['weight'] = pd.Series(clf.predict_proba(test_x_scaled)[:, 1])\n",
    "predicted_interaction_profile = generate_profile_pred(predicted_profile, gene_length)\n",
    "\n",
    "#correction\n",
    "corrected_predicted_interaciton_profile = predicted_interaction_profile / predicted_interaction_profile_ones"
   ]
  },
  {
   "cell_type": "code",
   "execution_count": 361,
   "id": "55e673b9-2d40-4496-b009-bf97ee564ec3",
   "metadata": {},
   "outputs": [
    {
     "data": {
      "image/png": "[encoded data removed]",
      "text/plain": [
       "<Figure size 720x432 with 1 Axes>"
      ]
     },
     "metadata": {
      "needs_background": "light"
     },
     "output_type": "display_data"
    }
   ],
   "source": [
    "prediction_color = 'red'\n",
    "\n",
    "x_axis = np.arange(len(real_interaction_profile))\n",
    "plt.figure(figsize=(10, 6))\n",
    "plt.plot(x_axis, real_interaction_profile, label = 'real')\n",
    "plt.plot(x_axis, corrected_predicted_interaciton_profile, label = 'predicted', color = prediction_color)\n",
    "if protein_coding:\n",
    "    plt.vlines(UTR5, ymin = 0, ymax = 1, color = 'grey', ls='--', lw=1.5, label = 'UTR5 CDS UTR3')\n",
    "    plt.vlines(CDS, ymin = 0, ymax = 1, color = 'grey', ls='--', lw=1.5)\n",
    "plt.hlines(0.5, xmin = 0, xmax = len(real_interaction_profile), color = prediction_color, alpha=0.3, ls = '--')\n",
    "plt.xlabel('Gene Position')\n",
    "plt.ylabel('Interaction Density')\n",
    "plt.legend()\n",
    "plt.title(f'{selected_gene} Interaction Density Profile')\n",
    "plt.show()"
   ]
  }
 ],
 "metadata": {
  "kernelspec": {
   "display_name": "Python 3 (ipykernel)",
   "language": "python",
   "name": "python3"
  },
  "language_info": {
   "codemirror_mode": {
    "name": "ipython",
    "version": 3
   },
   "file_extension": ".py",
   "mimetype": "text/x-python",
   "name": "python",
   "nbconvert_exporter": "python",
   "pygments_lexer": "ipython3",
   "version": "3.9.7"
  }
 },
 "nbformat": 4,
 "nbformat_minor": 5
}
