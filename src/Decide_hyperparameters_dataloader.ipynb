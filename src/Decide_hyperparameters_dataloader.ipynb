{
 "cells": [
  {
   "cell_type": "markdown",
   "id": "75fd7e20-8dab-4f31-a886-2801a259b193",
   "metadata": {
    "tags": []
   },
   "source": [
    "# Code"
   ]
  },
  {
   "cell_type": "code",
   "execution_count": 6,
   "id": "a3b7acf7-7061-49e6-b0d7-8480984933f0",
   "metadata": {},
   "outputs": [],
   "source": [
    "its_jupyter_notebook = True"
   ]
  },
  {
   "cell_type": "code",
   "execution_count": 7,
   "id": "685f531f",
   "metadata": {},
   "outputs": [],
   "source": [
    "import pandas as pd\n",
    "import time\n",
    "import os\n",
    "import re\n",
    "import matplotlib.pyplot as plt\n",
    "import time\n",
    "import numpy as np\n",
    "import random\n",
    "import sys\n",
    "import torch\n",
    "import pickle\n",
    "from pathlib import Path\n",
    "from torch.utils.data import DataLoader\n",
    "if its_jupyter_notebook:\n",
    "    sys.argv = [''] #Remove this if it's not a jupyter notebook!\n",
    "sys.path.insert(0, '..')\n",
    "from tqdm.notebook import tqdm\n",
    "import seaborn as sns\n",
    "import util.misc as utils\n",
    "from util.params_dataloader import load_windows_and_multipliers\n",
    "from dataset.data import (\n",
    "    RNADataset,\n",
    "    RNADatasetNT,\n",
    "    RNADatasetNT500,\n",
    "    EasyPosAugment,\n",
    "    InteractionSelectionPolicy,\n",
    "    EasyNegAugment,\n",
    "    HardPosAugment,\n",
    "    HardNegAugment,\n",
    "    SmartNegAugment,\n",
    "    HFDataset,\n",
    "    HFDataLoader, \n",
    "    create_augment_list,\n",
    "    plot_sample,\n",
    "    seed_everything,\n",
    "    clean_nt_dataframes_before_class_input,\n",
    ")\n",
    "from train_binary_cl import seed_worker, obtain_train_dataset, obtain_val_dataset, obtain_val_dataset_paris, obtain_train_dataset_paris, undersample_df, obtain_policies_object, obtain_dataset_object, get_per_sample_from_proportion\n",
    "from config import *"
   ]
  },
  {
   "cell_type": "code",
   "execution_count": 8,
   "id": "6750e742-65e6-4de7-a334-3b4ff97419a3",
   "metadata": {},
   "outputs": [],
   "source": [
    "def print_df_len(df_len, xlim = 1_000, bins = 400):\n",
    "    df_len[df_len.label == 'p'].length.hist(bins = bins)\n",
    "    plt.xlim((0,xlim))\n",
    "    plt.show()\n",
    "    df_len[df_len.label == 'sn'].length.hist(bins = bins)\n",
    "    plt.xlim((0,xlim))\n",
    "    plt.show()\n",
    "    df_len[df_len.label == 'enhn'].length.hist(bins = bins)\n",
    "    plt.xlim((0,xlim))\n",
    "    plt.show()"
   ]
  },
  {
   "cell_type": "code",
   "execution_count": 9,
   "id": "48066385-1fd6-437f-a752-7000dbb37295",
   "metadata": {},
   "outputs": [],
   "source": [
    "DIMENSION = 200\n",
    "FINETUNING = False\n",
    "TRAIN_HQ = False\n",
    "SPECIE = 'all'\n",
    "\n",
    "scaling_factor = 5\n",
    "min_n_groups_train = 5\n",
    "max_n_groups_train = 80\n",
    "min_n_groups_val = 80\n",
    "max_n_groups_val = 80\n",
    "\n",
    "\n",
    "DESIRED_DIM_TEST = 500"
   ]
  },
  {
   "cell_type": "code",
   "execution_count": 10,
   "id": "931f0cc7-cd07-41f2-83e3-07ae867b0074",
   "metadata": {},
   "outputs": [],
   "source": [
    "per_sample_p = 0.25\n",
    "proportion_sn = 0.5\n",
    "proportion_hn = 0.3\n",
    "proportion_en = 0.2"
   ]
  },
  {
   "cell_type": "markdown",
   "id": "c7c521fe-a601-4537-91e3-65f42519f865",
   "metadata": {
    "tags": []
   },
   "source": [
    "# Esecuzione data loader train"
   ]
  },
  {
   "cell_type": "markdown",
   "id": "44b723c2-d0bf-4d32-88e2-bf3d7ea00407",
   "metadata": {
    "tags": []
   },
   "source": [
    "### Dataset"
   ]
  },
  {
   "cell_type": "code",
   "execution_count": 78,
   "id": "bea1fba1-02b8-48ff-bb12-f5c3affe7b94",
   "metadata": {},
   "outputs": [
    {
     "data": {
      "application/vnd.jupyter.widget-view+json": {
       "model_id": "447c79f42fbb4ca088399d36e6041015",
       "version_major": 2,
       "version_minor": 0
      },
      "text/plain": [
       "  0%|          | 0/10 [00:00<?, ?it/s]"
      ]
     },
     "metadata": {},
     "output_type": "display_data"
    },
    {
     "data": {
      "application/vnd.jupyter.widget-view+json": {
       "model_id": "38a34402dbf84781a183bf7f2b0b198c",
       "version_major": 2,
       "version_minor": 0
      },
      "text/plain": [
       "  0%|          | 0/43007 [00:00<?, ?it/s]"
      ]
     },
     "metadata": {},
     "output_type": "display_data"
    },
    {
     "data": {
      "application/vnd.jupyter.widget-view+json": {
       "model_id": "126da9a01a6d440a81909ed88fc9fef3",
       "version_major": 2,
       "version_minor": 0
      },
      "text/plain": [
       "  0%|          | 0/43116 [00:00<?, ?it/s]"
      ]
     },
     "metadata": {},
     "output_type": "display_data"
    },
    {
     "data": {
      "application/vnd.jupyter.widget-view+json": {
       "model_id": "f6c09749292f45a5877726e3c0f57cdb",
       "version_major": 2,
       "version_minor": 0
      },
      "text/plain": [
       "  0%|          | 0/42899 [00:00<?, ?it/s]"
      ]
     },
     "metadata": {},
     "output_type": "display_data"
    },
    {
     "data": {
      "application/vnd.jupyter.widget-view+json": {
       "model_id": "f39b4724d64d42c8937646d2cf4b82c3",
       "version_major": 2,
       "version_minor": 0
      },
      "text/plain": [
       "  0%|          | 0/43219 [00:00<?, ?it/s]"
      ]
     },
     "metadata": {},
     "output_type": "display_data"
    },
    {
     "data": {
      "application/vnd.jupyter.widget-view+json": {
       "model_id": "87d95d8e6fc34e8f893f294c11623bad",
       "version_major": 2,
       "version_minor": 0
      },
      "text/plain": [
       "  0%|          | 0/43184 [00:00<?, ?it/s]"
      ]
     },
     "metadata": {},
     "output_type": "display_data"
    },
    {
     "data": {
      "application/vnd.jupyter.widget-view+json": {
       "model_id": "cb3e59c6d7544602a5d4f0780b7cf0dc",
       "version_major": 2,
       "version_minor": 0
      },
      "text/plain": [
       "  0%|          | 0/43427 [00:00<?, ?it/s]"
      ]
     },
     "metadata": {},
     "output_type": "display_data"
    },
    {
     "data": {
      "application/vnd.jupyter.widget-view+json": {
       "model_id": "3034231d4e5d4d68ad85954e80d60267",
       "version_major": 2,
       "version_minor": 0
      },
      "text/plain": [
       "  0%|          | 0/43184 [00:00<?, ?it/s]"
      ]
     },
     "metadata": {},
     "output_type": "display_data"
    },
    {
     "data": {
      "application/vnd.jupyter.widget-view+json": {
       "model_id": "5fdc011c7c27409ebdc55bf0fb090e1d",
       "version_major": 2,
       "version_minor": 0
      },
      "text/plain": [
       "  0%|          | 0/42839 [00:00<?, ?it/s]"
      ]
     },
     "metadata": {},
     "output_type": "display_data"
    },
    {
     "data": {
      "application/vnd.jupyter.widget-view+json": {
       "model_id": "2f4273fe4d774e49ac850256b9d78629",
       "version_major": 2,
       "version_minor": 0
      },
      "text/plain": [
       "  0%|          | 0/43434 [00:00<?, ?it/s]"
      ]
     },
     "metadata": {},
     "output_type": "display_data"
    },
    {
     "data": {
      "application/vnd.jupyter.widget-view+json": {
       "model_id": "9296267422dd4a6f897a21393b059066",
       "version_major": 2,
       "version_minor": 0
      },
      "text/plain": [
       "  0%|          | 0/42732 [00:00<?, ?it/s]"
      ]
     },
     "metadata": {},
     "output_type": "display_data"
    }
   ],
   "source": [
    "n_epochs = 10\n",
    "sn_len_1 = []\n",
    "sn_len_2 = []\n",
    "enhn_len_1 = []\n",
    "enhn_len_2 = []\n",
    "pos_len_1 = []\n",
    "pos_len_2 = []\n",
    "matrix_area_neg = []\n",
    "matrix_area_pos = []\n",
    "\n",
    "all_couples_id = []\n",
    "\n",
    "for epoch in tqdm(range(n_epochs)):\n",
    "    dataset_train, policies_train = obtain_train_dataset_paris(DIMENSION, TRAIN_HQ, FINETUNING, per_sample_p, proportion_sn, proportion_hn, proportion_en, min_n_groups_train, max_n_groups_train, SPECIE, scaling_factor = 5)\n",
    "    for sample in tqdm(dataset_train, total=len(dataset_train)):\n",
    "        box = sample.bbox\n",
    "        if sample.interacting:\n",
    "            pos_len_1.append(box.x2-box.x1)\n",
    "            pos_len_2.append(box.y2-box.y1)\n",
    "            matrix_area_pos.append(np.sqrt((box.x2-box.x1)*(box.y2-box.y1)))\n",
    "        else:\n",
    "            if sample.policy == 'smartneg':\n",
    "                sn_len_1.append(box.x2-box.x1)\n",
    "                sn_len_2.append(box.y2-box.y1)\n",
    "            else:\n",
    "                enhn_len_1.append(box.x2-box.x1)\n",
    "                enhn_len_2.append(box.y2-box.y1)\n",
    "            matrix_area_neg.append(np.sqrt((box.x2-box.x1)*(box.y2-box.y1)))\n",
    "\n",
    "        g1 = re.search('(.*)_(.*)_(.*)', sample.gene1).group(1)\n",
    "        g2 = re.search('(.*)_(.*)_(.*)', sample.gene2).group(1)\n",
    "        all_couples_id.append(g1 + '_' + g2)\n",
    "        all_couples_id.append(g2 + '_' + g1)\n",
    "\n",
    "pos_len = pos_len_1+pos_len_2\n",
    "label_p = ['p' for i in range(len(pos_len))]\n",
    "sn_len = sn_len_1+sn_len_2\n",
    "label_sn = ['sn' for i in range(len(sn_len))]\n",
    "enhn_len = enhn_len_1+enhn_len_2\n",
    "label_enhn = ['enhn' for i in range(len(enhn_len))]\n",
    "label = label_p + label_sn + label_enhn\n",
    "length = pos_len + sn_len + enhn_len\n",
    "df_len = pd.DataFrame({'label':label, 'length':length})"
   ]
  },
  {
   "cell_type": "code",
   "execution_count": 79,
   "id": "b3003187-a712-45f0-9870-9675c74d0fc3",
   "metadata": {},
   "outputs": [
    {
     "data": {
      "text/plain": [
       "(0.0, 1000.0)"
      ]
     },
     "execution_count": 79,
     "metadata": {},
     "output_type": "execute_result"
    },
    {
     "data": {
      "image/png": "[encoded data removed]",
      "text/plain": [
       "<Figure size 432x288 with 1 Axes>"
      ]
     },
     "metadata": {
      "needs_background": "light"
     },
     "output_type": "display_data"
    }
   ],
   "source": [
    "df_len[df_len.label == 'sn'].length.hist(bins = 400)\n",
    "plt.xlim((0,1_000))\n",
    "#plt.xlim((1_000,6_000))"
   ]
  },
  {
   "cell_type": "code",
   "execution_count": 80,
   "id": "ac4118bd-2da5-4d4a-99a9-1fce90a9554d",
   "metadata": {},
   "outputs": [
    {
     "data": {
      "text/plain": [
       "(0.0, 1000.0)"
      ]
     },
     "execution_count": 80,
     "metadata": {},
     "output_type": "execute_result"
    },
    {
     "data": {
      "image/png": "[encoded data removed]",
      "text/plain": [
       "<Figure size 432x288 with 1 Axes>"
      ]
     },
     "metadata": {
      "needs_background": "light"
     },
     "output_type": "display_data"
    }
   ],
   "source": [
    "df_len[df_len.label == 'p'].length.hist(bins = 400)\n",
    "plt.xlim((0,1_000))\n",
    "#plt.xlim((1_000,6_000))"
   ]
  },
  {
   "cell_type": "code",
   "execution_count": 81,
   "id": "4fb20710-564c-44ce-993c-2a4c7755daf2",
   "metadata": {},
   "outputs": [
    {
     "data": {
      "text/plain": [
       "(0.0, 1000.0)"
      ]
     },
     "execution_count": 81,
     "metadata": {},
     "output_type": "execute_result"
    },
    {
     "data": {
      "image/png": "[encoded data removed]",
      "text/plain": [
       "<Figure size 432x288 with 1 Axes>"
      ]
     },
     "metadata": {
      "needs_background": "light"
     },
     "output_type": "display_data"
    }
   ],
   "source": [
    "df_len[df_len.label == 'enhn'].length.hist(bins = 400)\n",
    "plt.xlim((0,1_000))\n",
    "#plt.xlim((1_000,6_000))"
   ]
  },
  {
   "cell_type": "code",
   "execution_count": 82,
   "id": "44c84893-c6eb-4ae2-a20c-339b04ebc481",
   "metadata": {},
   "outputs": [
    {
     "data": {
      "image/png": "[encoded data removed]",
      "text/plain": [
       "<Figure size 432x288 with 1 Axes>"
      ]
     },
     "metadata": {
      "needs_background": "light"
     },
     "output_type": "display_data"
    }
   ],
   "source": [
    "df_len[(df_len.label == 'sn')|(df_len.label == 'enhn')].length.hist(bins = 500, color = 'orange', label = 'neg')\n",
    "df_len[df_len.label == 'p'].length.hist(bins = 500, color = 'blue', label = 'positive')\n",
    "plt.legend()\n",
    "plt.xlim((0,1_000))\n",
    "plt.show()"
   ]
  },
  {
   "cell_type": "code",
   "execution_count": 83,
   "id": "b65aacd8-abaf-409b-b03b-3207a0c7d7cb",
   "metadata": {},
   "outputs": [
    {
     "data": {
      "text/plain": [
       "(554.1953622938059, 642.6235289810046)"
      ]
     },
     "execution_count": 83,
     "metadata": {},
     "output_type": "execute_result"
    }
   ],
   "source": [
    "q = 0.9\n",
    "np.quantile(matrix_area_pos, q), np.quantile(matrix_area_neg, q)"
   ]
  },
  {
   "cell_type": "code",
   "execution_count": 84,
   "id": "a67b2593-f597-4426-a6c5-0ce8cd2082cd",
   "metadata": {},
   "outputs": [
    {
     "data": {
      "image/png": "[encoded data removed]",
      "text/plain": [
       "<Figure size 720x432 with 1 Axes>"
      ]
     },
     "metadata": {
      "needs_background": "light"
     },
     "output_type": "display_data"
    }
   ],
   "source": [
    "plt.figure(figsize = (10, 6))\n",
    "pd.Series(matrix_area_neg).hist(bins=500, label='neg', color='orange', alpha=0.5, density = True)  # Set transparency for neg\n",
    "pd.Series(matrix_area_pos).hist(bins=500, label='positive', color='blue', alpha=0.5, density = True)  # Set transparency for positive\n",
    "plt.title(f'Matrix area distribution')\n",
    "plt.legend()\n",
    "plt.xlim((0, np.mean(matrix_area_pos) * 3))\n",
    "plt.show()"
   ]
  },
  {
   "cell_type": "code",
   "execution_count": 11,
   "id": "5671a366-fdc2-4053-a43b-d625f6ff9c7e",
   "metadata": {},
   "outputs": [],
   "source": [
    "# plot_sample(sample, plot_interaction_negatives=True)"
   ]
  },
  {
   "cell_type": "code",
   "execution_count": 12,
   "id": "c6fbfee5-95bc-4640-a6b7-4ddc284b74dc",
   "metadata": {},
   "outputs": [
    {
     "data": {
      "text/plain": [
       "False    430974\n",
       "True     430906\n",
       "Name: label, dtype: int64"
      ]
     },
     "execution_count": 12,
     "metadata": {},
     "output_type": "execute_result"
    }
   ],
   "source": [
    "(df_len.label == 'p').value_counts()"
   ]
  },
  {
   "cell_type": "code",
   "execution_count": 13,
   "id": "9c3b7189-a977-4bb7-9f51-036848b65bc5",
   "metadata": {},
   "outputs": [
    {
     "data": {
      "text/plain": [
       "p       1455\n",
       "enhn     771\n",
       "sn       741\n",
       "Name: label, dtype: int64"
      ]
     },
     "execution_count": 13,
     "metadata": {},
     "output_type": "execute_result"
    }
   ],
   "source": [
    "df_len[df_len.length == 5970].label.value_counts()"
   ]
  },
  {
   "cell_type": "code",
   "execution_count": 14,
   "id": "2211fdbf-c321-4b44-9897-031e611fa56e",
   "metadata": {},
   "outputs": [
    {
     "data": {
      "text/plain": [
       "p       23398\n",
       "sn      11945\n",
       "enhn    10801\n",
       "Name: label, dtype: int64"
      ]
     },
     "execution_count": 14,
     "metadata": {},
     "output_type": "execute_result"
    }
   ],
   "source": [
    "df_len[df_len.length == 100].label.value_counts()"
   ]
  },
  {
   "cell_type": "code",
   "execution_count": 15,
   "id": "1a7dd693-37ef-4be7-8b34-f5bf7d6edcfd",
   "metadata": {},
   "outputs": [
    {
     "data": {
      "text/plain": [
       "p       15276\n",
       "enhn     8649\n",
       "sn       7310\n",
       "Name: label, dtype: int64"
      ]
     },
     "execution_count": 15,
     "metadata": {},
     "output_type": "execute_result"
    }
   ],
   "source": [
    "df_len[df_len.length == 200].label.value_counts()"
   ]
  },
  {
   "cell_type": "code",
   "execution_count": 16,
   "id": "cc39b472-82f2-4faf-a1f8-705ec1a2e537",
   "metadata": {},
   "outputs": [
    {
     "name": "stdout",
     "output_type": "stream",
     "text": [
      "p       42665\n",
      "sn      22140\n",
      "enhn    19852\n",
      "Name: label, dtype: int64\n",
      "\n",
      "\n",
      "p       127189\n",
      "enhn     67733\n",
      "sn       63426\n",
      "Name: label, dtype: int64\n"
     ]
    }
   ],
   "source": [
    "small_l = df_len.length.quantile(0.1)\n",
    "print(df_len[df_len['length'] < small_l].label.value_counts())\n",
    "print('\\n')\n",
    "big_l = df_len.length.quantile(0.7)\n",
    "print(df_len[df_len['length'] > big_l].label.value_counts())"
   ]
  },
  {
   "cell_type": "code",
   "execution_count": 17,
   "id": "6b96d186-d595-4c32-925c-61eff6355281",
   "metadata": {},
   "outputs": [
    {
     "data": {
      "text/plain": [
       "0.35416666666666663"
      ]
     },
     "execution_count": 17,
     "metadata": {},
     "output_type": "execute_result"
    }
   ],
   "source": [
    "(float(df_len.sort_values('length').quantile(0.2))/6)/80"
   ]
  },
  {
   "cell_type": "code",
   "execution_count": 18,
   "id": "cd242dd9-8e63-445c-a218-6b45ef6c8b78",
   "metadata": {},
   "outputs": [
    {
     "data": {
      "text/plain": [
       "0.5625"
      ]
     },
     "execution_count": 18,
     "metadata": {},
     "output_type": "execute_result"
    }
   ],
   "source": [
    "(float(df_len.sort_values('length').quantile(0.5))/6)/80"
   ]
  },
  {
   "cell_type": "code",
   "execution_count": 19,
   "id": "bcfcd036-7502-4ea5-b17f-dc91ff76ae99",
   "metadata": {},
   "outputs": [],
   "source": [
    "#balance set\n",
    "assert abs(df_len.label.value_counts().p/df_len.shape[0] - 0.5) < 0.05"
   ]
  },
  {
   "cell_type": "code",
   "execution_count": 20,
   "id": "92363c29-6b14-446f-91c9-4b6535732119",
   "metadata": {},
   "outputs": [
    {
     "data": {
      "image/png": "[encoded data removed]",
      "text/plain": [
       "<Figure size 432x288 with 1 Axes>"
      ]
     },
     "metadata": {
      "needs_background": "light"
     },
     "output_type": "display_data"
    }
   ],
   "source": [
    "sns.kdeplot(sn_len_1, color = 'red', label = 'gene1_sn')\n",
    "sns.kdeplot(sn_len_2, color = 'brown', label = 'gene2_sn')\n",
    "sns.kdeplot(enhn_len_1, color = 'pink', label = 'gene1_enhn')\n",
    "sns.kdeplot(enhn_len_2, color = 'green', label = 'gene2_enhn')\n",
    "sns.kdeplot(pos_len_1, color = 'orange', label = 'gene1_positive')\n",
    "sns.kdeplot(pos_len_2, color = 'black', label = 'gene2_positive')\n",
    "plt.title(f'Length distribution between gene1 and gene2')\n",
    "plt.legend()\n",
    "plt.xlim((0,1_000))\n",
    "plt.show()"
   ]
  },
  {
   "cell_type": "markdown",
   "id": "ba6b3f84-69ff-4b05-8a99-8070d65f3e77",
   "metadata": {
    "tags": []
   },
   "source": [
    "### Dataloader "
   ]
  },
  {
   "cell_type": "code",
   "execution_count": 21,
   "id": "cdeb6046-9124-4cb2-83e0-79b0cf087dcb",
   "metadata": {},
   "outputs": [],
   "source": [
    "dataset_train, policies_train = obtain_train_dataset_paris(DIMENSION, TRAIN_HQ, FINETUNING, per_sample_p, proportion_sn, proportion_hn, proportion_en, min_n_groups_train, max_n_groups_train, SPECIE, scaling_factor = 5)\n",
    "sampler_train = torch.utils.data.RandomSampler(dataset_train)\n",
    "batch_sampler_train = torch.utils.data.BatchSampler(sampler_train, 32, drop_last=False)\n",
    "data_loader_train = DataLoader(dataset_train, batch_sampler=batch_sampler_train,\n",
    "                               collate_fn=utils.collate_fn_nt2, num_workers=2)"
   ]
  },
  {
   "cell_type": "code",
   "execution_count": null,
   "id": "bad641d5-9047-4337-a497-7e59130da2bd",
   "metadata": {},
   "outputs": [],
   "source": [
    "n_total = 40\n",
    "shapes_rna1 = []\n",
    "shapes_rna2 = []\n",
    "for _, (samples, labels) in tqdm(enumerate(data_loader_train), total = n_total):\n",
    "    rna1, rna2 = samples\n",
    "    shapes_rna1.append(rna1.shape[-1])\n",
    "    shapes_rna2.append(rna2.shape[-1])\n",
    "    if _ == n_total:\n",
    "        break"
   ]
  },
  {
   "cell_type": "code",
   "execution_count": 23,
   "id": "86552e54-bd5b-4e48-a931-3bd27ca587e0",
   "metadata": {},
   "outputs": [
    {
     "data": {
      "text/plain": [
       "16"
      ]
     },
     "execution_count": 23,
     "metadata": {},
     "output_type": "execute_result"
    }
   ],
   "source": [
    "np.min(shapes_rna1)"
   ]
  },
  {
   "cell_type": "code",
   "execution_count": 24,
   "id": "8259ae77-c865-4f59-a8f5-f0df78f90d45",
   "metadata": {},
   "outputs": [
    {
     "data": {
      "image/png": "[encoded data removed]",
      "text/plain": [
       "<Figure size 432x288 with 1 Axes>"
      ]
     },
     "metadata": {
      "needs_background": "light"
     },
     "output_type": "display_data"
    }
   ],
   "source": [
    "pd.Series(shapes_rna1).hist(bins = 300, color = 'orange', label = 'branch1')\n",
    "pd.Series(shapes_rna2).hist(bins = 300, color = 'blue', label = 'branch2')\n",
    "plt.legend()\n",
    "#plt.xlim((0,100))\n",
    "plt.title('Lengths of rna tensors during training')\n",
    "plt.show()"
   ]
  },
  {
   "cell_type": "markdown",
   "id": "16298e21-c768-4228-a039-3f843ae3f0ce",
   "metadata": {
    "jp-MarkdownHeadingCollapsed": true,
    "tags": []
   },
   "source": [
    "# Validation set "
   ]
  },
  {
   "cell_type": "code",
   "execution_count": 21,
   "id": "c716b5ad-99df-4338-acf3-df7afaf62ced",
   "metadata": {},
   "outputs": [],
   "source": [
    "dataset_val, policies_val = obtain_val_dataset_paris(DIMENSION, FINETUNING, min_n_groups_val, max_n_groups_val, SPECIE, scaling_factor = 5)"
   ]
  },
  {
   "cell_type": "code",
   "execution_count": 22,
   "id": "720eec94-577f-476b-967c-0e72dc3391e7",
   "metadata": {},
   "outputs": [
    {
     "data": {
      "application/vnd.jupyter.widget-view+json": {
       "model_id": "eca62a059e6c4675859ee5b17a48d9b8",
       "version_major": 2,
       "version_minor": 0
      },
      "text/plain": [
       "  0%|          | 0/1 [00:00<?, ?it/s]"
      ]
     },
     "metadata": {},
     "output_type": "display_data"
    },
    {
     "data": {
      "application/vnd.jupyter.widget-view+json": {
       "model_id": "c44baa6093524b1abb4924fd42f1f085",
       "version_major": 2,
       "version_minor": 0
      },
      "text/plain": [
       "  0%|          | 0/17734 [00:00<?, ?it/s]"
      ]
     },
     "metadata": {},
     "output_type": "display_data"
    },
    {
     "name": "stdout",
     "output_type": "stream",
     "text": [
      "median: 200.0\n"
     ]
    },
    {
     "data": {
      "text/plain": [
       "<matplotlib.legend.Legend at 0x7fbc2060c550>"
      ]
     },
     "execution_count": 22,
     "metadata": {},
     "output_type": "execute_result"
    },
    {
     "data": {
      "image/png": "[encoded data removed]",
      "text/plain": [
       "<Figure size 432x288 with 1 Axes>"
      ]
     },
     "metadata": {
      "needs_background": "light"
     },
     "output_type": "display_data"
    }
   ],
   "source": [
    "neg_len_1 = []\n",
    "pos_len_1 = []\n",
    "neg_len_2 = []\n",
    "pos_len_2 = []\n",
    "matrix_area_neg = []\n",
    "matrix_area_pos = []\n",
    "\n",
    "for epoch in tqdm(range(1)):\n",
    "    for sample in tqdm(dataset_val, total=len(dataset_val)):\n",
    "        box = sample.bbox\n",
    "        if sample.interacting:\n",
    "            pos_len_1.append(box.x2-box.x1)\n",
    "            pos_len_2.append(box.y2-box.y1)\n",
    "            matrix_area_pos.append((box.x2-box.x1)*(box.y2-box.y1))\n",
    "        else:\n",
    "            neg_len_1.append(box.x2-box.x1)\n",
    "            neg_len_2.append(box.y2-box.y1)\n",
    "            matrix_area_neg.append((box.x2-box.x1)*(box.y2-box.y1))\n",
    "        \n",
    "neg_len = neg_len_1+neg_len_2\n",
    "pos_len = pos_len_1+pos_len_2\n",
    "label_n = ['n' for i in range(len(neg_len))]\n",
    "label_p = ['p' for i in range(len(pos_len))]\n",
    "label = label_n + label_p\n",
    "length = neg_len + pos_len\n",
    "df_len = pd.DataFrame({'label':label, 'length':length})\n",
    "\n",
    "print('median:', df_len.length.median())\n",
    "\n",
    "sns.kdeplot(df_len[df_len.label == 'n'].length, color = 'red', label = 'negative')\n",
    "sns.kdeplot(df_len[df_len.label == 'p'].length, color = 'blue', label = 'positive')\n",
    "plt.title(f'Length distribution')\n",
    "plt.xlim((150, 200))\n",
    "plt.legend()"
   ]
  },
  {
   "cell_type": "markdown",
   "id": "7946ca33-65b6-4a8c-a7b7-99b5e77fb79e",
   "metadata": {
    "tags": []
   },
   "source": [
    "# Esecuzione data loader external dataset"
   ]
  },
  {
   "cell_type": "code",
   "execution_count": 23,
   "id": "4bc57016-85e5-4a75-8b88-30a612278017",
   "metadata": {},
   "outputs": [],
   "source": [
    "dataset_train, policies_train = obtain_train_dataset('splash', DIMENSION, TRAIN_HQ, FINETUNING, per_sample_p, proportion_sn, proportion_hn, proportion_en, min_n_groups_train, max_n_groups_train, SPECIE, scaling_factor = 5)"
   ]
  },
  {
   "cell_type": "code",
   "execution_count": 24,
   "id": "55a1a878-5ddb-4d84-87ff-09fcd6564e52",
   "metadata": {},
   "outputs": [
    {
     "data": {
      "text/plain": [
       "<dataset.data.RNADatasetNT at 0x7fc32e1779d0>"
      ]
     },
     "execution_count": 24,
     "metadata": {},
     "output_type": "execute_result"
    }
   ],
   "source": [
    "dataset_train"
   ]
  },
  {
   "cell_type": "code",
   "execution_count": 33,
   "id": "b1f7fda1-60a2-4629-974a-e51e7696d64d",
   "metadata": {},
   "outputs": [
    {
     "data": {
      "application/vnd.jupyter.widget-view+json": {
       "model_id": "586c7cec8c1d4ee9974ae9d81c91c22d",
       "version_major": 2,
       "version_minor": 0
      },
      "text/plain": [
       "  0%|          | 0/50 [00:00<?, ?it/s]"
      ]
     },
     "metadata": {},
     "output_type": "display_data"
    }
   ],
   "source": [
    "n_epochs = 50\n",
    "sn_len_1 = []\n",
    "sn_len_2 = []\n",
    "enhn_len_1 = []\n",
    "enhn_len_2 = []\n",
    "pos_len_1 = []\n",
    "pos_len_2 = []\n",
    "matrix_area_neg = []\n",
    "matrix_area_pos = []\n",
    "\n",
    "all_couples_id = []\n",
    "\n",
    "for epoch in tqdm(range(n_epochs)):\n",
    "    dataset_train, policies_train = obtain_train_dataset('splash', DIMENSION, np.nan, np.nan, per_sample_p, proportion_sn, proportion_hn, proportion_en, min_n_groups_train, max_n_groups_train, SPECIE, scaling_factor = 5)\n",
    "    for sample in dataset_train:\n",
    "        box = sample.bbox\n",
    "        if sample.interacting:\n",
    "            pos_len_1.append(box.x2-box.x1)\n",
    "            pos_len_2.append(box.y2-box.y1)\n",
    "            matrix_area_pos.append(np.sqrt((box.x2-box.x1)*(box.y2-box.y1)))\n",
    "        else:\n",
    "            if sample.policy == 'smartneg':\n",
    "                sn_len_1.append(box.x2-box.x1)\n",
    "                sn_len_2.append(box.y2-box.y1)\n",
    "            else:\n",
    "                enhn_len_1.append(box.x2-box.x1)\n",
    "                enhn_len_2.append(box.y2-box.y1)\n",
    "            matrix_area_neg.append(np.sqrt((box.x2-box.x1)*(box.y2-box.y1)))\n",
    "\n",
    "        g1 = re.search('(.*)_(.*)_(.*)', sample.gene1).group(1)\n",
    "        g2 = re.search('(.*)_(.*)_(.*)', sample.gene2).group(1)\n",
    "        all_couples_id.append(g1 + '_' + g2)\n",
    "        all_couples_id.append(g2 + '_' + g1)\n",
    "\n",
    "pos_len = pos_len_1+pos_len_2\n",
    "label_p = ['p' for i in range(len(pos_len))]\n",
    "sn_len = sn_len_1+sn_len_2\n",
    "label_sn = ['sn' for i in range(len(sn_len))]\n",
    "enhn_len = enhn_len_1+enhn_len_2\n",
    "label_enhn = ['enhn' for i in range(len(enhn_len))]\n",
    "label = label_p + label_sn + label_enhn\n",
    "length = pos_len + sn_len + enhn_len\n",
    "df_len = pd.DataFrame({'label':label, 'length':length})"
   ]
  },
  {
   "cell_type": "code",
   "execution_count": 29,
   "id": "67c622d2-cf33-42ea-a1cd-7dca58c20bf9",
   "metadata": {},
   "outputs": [
    {
     "data": {
      "text/plain": [
       "p       26766\n",
       "sn      13556\n",
       "enhn    13366\n",
       "Name: label, dtype: int64"
      ]
     },
     "execution_count": 29,
     "metadata": {},
     "output_type": "execute_result"
    }
   ],
   "source": [
    "df_len.label.value_counts()"
   ]
  },
  {
   "cell_type": "code",
   "execution_count": 30,
   "id": "083d5b4b-b39d-4b22-9180-574f462857a7",
   "metadata": {},
   "outputs": [
    {
     "data": {
      "image/png": "[encoded data removed]",
      "text/plain": [
       "<Figure size 432x288 with 1 Axes>"
      ]
     },
     "metadata": {
      "needs_background": "light"
     },
     "output_type": "display_data"
    },
    {
     "data": {
      "image/png": "[encoded data removed]",
      "text/plain": [
       "<Figure size 432x288 with 1 Axes>"
      ]
     },
     "metadata": {
      "needs_background": "light"
     },
     "output_type": "display_data"
    },
    {
     "data": {
      "image/png": "[encoded data removed]",
      "text/plain": [
       "<Figure size 432x288 with 1 Axes>"
      ]
     },
     "metadata": {
      "needs_background": "light"
     },
     "output_type": "display_data"
    }
   ],
   "source": [
    "print_df_len(df_len, xlim = 2_000)"
   ]
  },
  {
   "cell_type": "code",
   "execution_count": 31,
   "id": "9c414352-b636-492b-8c53-6252dd19c9a6",
   "metadata": {},
   "outputs": [
    {
     "data": {
      "image/png": "[encoded data removed]",
      "text/plain": [
       "<Figure size 432x288 with 1 Axes>"
      ]
     },
     "metadata": {
      "needs_background": "light"
     },
     "output_type": "display_data"
    }
   ],
   "source": [
    "df_len[(df_len.label == 'sn')|(df_len.label == 'enhn')].length.hist(bins = 500, color = 'orange', label = 'neg')\n",
    "df_len[df_len.label == 'p'].length.hist(bins = 500, color = 'blue', label = 'positive')\n",
    "plt.legend()\n",
    "plt.xlim((0,1_000))\n",
    "plt.show()"
   ]
  },
  {
   "cell_type": "markdown",
   "id": "81e25a55-0570-4a36-98cf-4a7b7c731e70",
   "metadata": {
    "tags": []
   },
   "source": [
    "# Combined dataset"
   ]
  },
  {
   "cell_type": "code",
   "execution_count": null,
   "id": "02de2c1b-2fa4-4a15-a4f3-01b3727b32d1",
   "metadata": {},
   "outputs": [],
   "source": [
    "n_epochs = 1\n",
    "batch_size = 64\n",
    "\n",
    "for epoch in tqdm(range(n_epochs)):\n",
    "\n",
    "    dataset_train, policies_train = obtain_train_dataset('psoralen', DIMENSION, TRAIN_HQ, FINETUNING, per_sample_p, proportion_sn, proportion_hn, proportion_en, min_n_groups_train, max_n_groups_train, SPECIE, scaling_factor = 5)\n",
    "    custom_data_loader = DataLoader(dataset_train, batch_size=batch_size, shuffle=True, collate_fn=utils.collate_fn_nt3)\n",
    "\n",
    "    neg_len_1 = []\n",
    "    pos_len_1 = []\n",
    "    neg_len_2 = []\n",
    "    pos_len_2 = []\n",
    "    matrix_area_neg = []\n",
    "    matrix_area_pos = []\n",
    "\n",
    "    for s, targets in tqdm(custom_data_loader, total = len(custom_data_loader)): #tqdm(custom_data_loader, total = len(custom_data_loader)):\n",
    "        for sample in targets:\n",
    "            box = sample['bbox']\n",
    "            if sample['interacting']==1:\n",
    "                pos_len_1.append(box.x2-box.x1)\n",
    "                pos_len_2.append(box.y2-box.y1)\n",
    "                matrix_area_pos.append(np.sqrt((box.x2-box.x1)*(box.y2-box.y1)))\n",
    "            else:\n",
    "                neg_len_1.append(box.x2-box.x1)\n",
    "                neg_len_2.append(box.y2-box.y1)\n",
    "                matrix_area_neg.append(np.sqrt((box.x2-box.x1)*(box.y2-box.y1)))"
   ]
  },
  {
   "cell_type": "code",
   "execution_count": 35,
   "id": "c726b935-e4ec-4e69-924a-dfdd89eef3f2",
   "metadata": {},
   "outputs": [],
   "source": [
    "neg_len = neg_len_1+neg_len_2\n",
    "pos_len = pos_len_1+pos_len_2\n",
    "label_n = ['n' for i in range(len(neg_len))]\n",
    "label_p = ['p' for i in range(len(pos_len))]\n",
    "label = label_n + label_p\n",
    "length = neg_len + pos_len\n",
    "df_len = pd.DataFrame({'label':label, 'length':length})"
   ]
  },
  {
   "cell_type": "code",
   "execution_count": 36,
   "id": "5e08ab31-ccd8-42f6-b370-d16f0e77e414",
   "metadata": {},
   "outputs": [
    {
     "data": {
      "text/plain": [
       "1416.0"
      ]
     },
     "execution_count": 36,
     "metadata": {},
     "output_type": "execute_result"
    }
   ],
   "source": [
    "len(neg_len)/2"
   ]
  },
  {
   "cell_type": "code",
   "execution_count": 37,
   "id": "2864a35e-d2c6-44b3-8821-51bf8523b313",
   "metadata": {},
   "outputs": [
    {
     "data": {
      "text/plain": [
       "1528.0"
      ]
     },
     "execution_count": 37,
     "metadata": {},
     "output_type": "execute_result"
    }
   ],
   "source": [
    "len(pos_len)/2"
   ]
  },
  {
   "cell_type": "code",
   "execution_count": 38,
   "id": "4f85fa49-fcd6-4670-8494-ae814c8104ac",
   "metadata": {},
   "outputs": [
    {
     "data": {
      "image/png": "[encoded data removed]",
      "text/plain": [
       "<Figure size 432x288 with 1 Axes>"
      ]
     },
     "metadata": {
      "needs_background": "light"
     },
     "output_type": "display_data"
    }
   ],
   "source": [
    "df_len[(df_len.label == 'sn')|(df_len.label == 'n')].length.hist(bins = 500, color = 'orange', label = 'neg')\n",
    "df_len[df_len.label == 'p'].length.hist(bins = 500, color = 'blue', label = 'positive')\n",
    "plt.legend()\n",
    "plt.xlim((0,1_000))\n",
    "plt.show()"
   ]
  },
  {
   "cell_type": "code",
   "execution_count": 39,
   "id": "3ca4f35a-03ef-4e16-bc71-f0622e52d408",
   "metadata": {},
   "outputs": [
    {
     "data": {
      "text/plain": [
       "(565.1052664183272, 661.2600368651467)"
      ]
     },
     "execution_count": 39,
     "metadata": {},
     "output_type": "execute_result"
    }
   ],
   "source": [
    "q = 0.9\n",
    "np.quantile(matrix_area_pos, q), np.quantile(matrix_area_neg, q)"
   ]
  },
  {
   "cell_type": "code",
   "execution_count": 40,
   "id": "3c564a20-d09d-4588-a5fa-cd9544c94214",
   "metadata": {},
   "outputs": [
    {
     "data": {
      "image/png": "[encoded data removed]",
      "text/plain": [
       "<Figure size 720x432 with 1 Axes>"
      ]
     },
     "metadata": {
      "needs_background": "light"
     },
     "output_type": "display_data"
    }
   ],
   "source": [
    "plt.figure(figsize = (10, 6))\n",
    "pd.Series(matrix_area_neg).hist(bins=500, label='neg', color='orange', alpha=0.5, density = True)  # Set transparency for neg\n",
    "pd.Series(matrix_area_pos).hist(bins=500, label='positive', color='blue', alpha=0.5, density = True)  # Set transparency for positive\n",
    "plt.title(f'Matrix area distribution')\n",
    "plt.legend()\n",
    "plt.xlim((0, np.mean(matrix_area_pos) * 3))\n",
    "plt.show()"
   ]
  }
 ],
 "metadata": {
  "kernelspec": {
   "display_name": "Python 3 (ipykernel)",
   "language": "python",
   "name": "python3"
  },
  "language_info": {
   "codemirror_mode": {
    "name": "ipython",
    "version": 3
   },
   "file_extension": ".py",
   "mimetype": "text/x-python",
   "name": "python",
   "nbconvert_exporter": "python",
   "pygments_lexer": "ipython3",
   "version": "3.9.7"
  }
 },
 "nbformat": 4,
 "nbformat_minor": 5
}
