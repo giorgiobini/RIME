{
 "cells": [
  {
   "cell_type": "code",
   "execution_count": 1,
   "id": "a6ebb322",
   "metadata": {},
   "outputs": [],
   "source": [
    "its_jupyter_notebook = True"
   ]
  },
  {
   "cell_type": "code",
   "execution_count": 2,
   "id": "aa8ae948",
   "metadata": {},
   "outputs": [
    {
     "name": "stdout",
     "output_type": "stream",
     "text": [
      "============================================================\n",
      "<class 'transformers.tokenization_dna.DNATokenizer'>\n"
     ]
    }
   ],
   "source": [
    "import pandas as pd\n",
    "import os\n",
    "import time\n",
    "import numpy as np\n",
    "import seaborn as sns\n",
    "import pickle\n",
    "import torch\n",
    "from pathlib import Path\n",
    "import argparse\n",
    "import math\n",
    "import pickle\n",
    "import seaborn as sns\n",
    "import matplotlib.pyplot as plt\n",
    "import sys\n",
    "from sklearn.metrics import classification_report, roc_curve, roc_auc_score, auc\n",
    "from tqdm.notebook import tqdm\n",
    "sys.path.insert(0, '..')\n",
    "\n",
    "from util.xai import gradcam, interpolate_expl_matrix, plot_matrix\n",
    "from config import *\n",
    "from models.nt_classifier import build as build_model \n",
    "from util.plot_utils import balance_df, obtain_plot, plot_logs, plot_roc_curves, get_results_based_on_treshold, get_results_based_on_treshold, map_signal_to_sigmoid_range\n",
    "from util.plot_utils import collect_results_based_on_confidence_level_based_on_percentile as collect_results_based_on_confidence_level\n",
    "if its_jupyter_notebook:\n",
    "    sys.argv = [''] #Remove this if it's not a jupyter notebook!"
   ]
  },
  {
   "cell_type": "code",
   "execution_count": 3,
   "id": "a0381476-e955-474b-b27d-48fe23b7d9c6",
   "metadata": {},
   "outputs": [],
   "source": [
    "checkpoint_dir_paths = []\n",
    "\n",
    "chkpt_folder = os.path.join(ROOT_DIR, 'checkpoints')\n",
    "\n",
    "models_to_check = os.listdir(chkpt_folder)\n",
    "for model_name in models_to_check:\n",
    "    model_folder = os.path.join(chkpt_folder, model_name)\n",
    "    test_paris = os.path.join(chkpt_folder, model_name, 'test_results500.csv')\n",
    "    ricseq = os.path.join(chkpt_folder, model_name, 'ricseq_results500.csv')\n",
    "    splash = os.path.join(chkpt_folder, model_name, 'splash_results500.csv')\n",
    "    if os.path.exists(test_paris) & os.path.exists(ricseq) & os.path.exists(splash) :\n",
    "        checkpoint_dir_paths.append(model_folder)"
   ]
  },
  {
   "cell_type": "code",
   "execution_count": 4,
   "id": "715ce057-5783-484d-b441-ae9a161ac64c",
   "metadata": {},
   "outputs": [],
   "source": [
    "def load_paris_results(checkpoint_dir, HOW, SPECIE, show_plot_map_signal=False):\n",
    "\n",
    "    file_train = os.path.join(rna_rna_files_dir, \"gene_pairs_training.txt\")\n",
    "    with open(file_train, \"rb\") as fp:   # Unpickling\n",
    "        gene_pairs_train_original = pickle.load(fp)\n",
    "\n",
    "    file_train = os.path.join(rna_rna_files_dir, \"gene_pairs_training_nt_HQ.txt\")\n",
    "    with open(file_train, \"rb\") as fp:   # Unpickling\n",
    "        gene_pairs_train = pickle.load(fp)\n",
    "\n",
    "    file_test = os.path.join(rna_rna_files_dir, f\"gene_pairs_{HOW}_nt_HQ.txt\")\n",
    "    with open(file_test, \"rb\") as fp:   # Unpickling\n",
    "        gene_pairs_test = pickle.load(fp)\n",
    "\n",
    "    # file_test_subset = os.path.join(rna_rna_files_dir, f\"gene_pairs_{HOW}_sampled_nt_HQ.txt\")\n",
    "    # with open(file_test_subset, \"rb\") as fp:   # Unpickling\n",
    "    #     gene_pairs_test_subset = pickle.load(fp)\n",
    "    \n",
    "    #-------------- -------------- -------------- -------------- -------------- -------------- --------------\n",
    "    \n",
    "    test500 = pd.read_csv(os.path.join(metadata_dir, f'{HOW}500.csv'))\n",
    "    assert test500.couples.isin(gene_pairs_test).all()\n",
    "\n",
    "    df_nt = pd.read_csv(os.path.join(metadata_dir, f'df_nt_HQ.csv'))\n",
    "\n",
    "    assert test500.shape[0] == df_nt[['couples', 'interacting', 'policy']].merge(test500, on = 'couples').shape[0]\n",
    "    test500 = df_nt[['couples', 'interacting', 'policy', 'where', 'where_x1', 'where_y1', 'simple_repeats', 'sine_alu', 'low_complex']].merge(test500, on = 'couples')\n",
    "\n",
    "    id_cds_cds = set(test500[test500['where'] == 'CDS-CDS'].couples)\n",
    "    \n",
    "    #-------------- -------------- -------------- -------------- -------------- -------------- --------------\n",
    "    \n",
    "    res = pd.read_csv(os.path.join(checkpoint_dir, f'{HOW}_results500.csv'))\n",
    "\n",
    "    # Drop all the pairs (they should be 60-70) that are present in the training set.\n",
    "    res = res[~res.couples.isin(gene_pairs_train_original)]\n",
    "\n",
    "    # show only results for 1 specie\n",
    "    res = res[res.specie == SPECIE]\n",
    "\n",
    "    #-------------- -------------- -------------- -------------- -------------- -------------- --------------\n",
    "    \n",
    "    intarna = pd.read_csv(os.path.join(intarna_dir, f'{HOW}500', f'{HOW}.csv'), sep = ';')\n",
    "    intarna['key'] = intarna.id1 + '_' + intarna.id2\n",
    "\n",
    "    # keep only the lower E_norm for each group\n",
    "    intarna.sort_values('E_norm', ascending = False, inplace=True)\n",
    "    intarna.drop_duplicates(subset='key', keep='first', inplace=True)\n",
    "    intarna = intarna.reset_index(drop = True)\n",
    "    intarna['couples'] = intarna.id1.str.extractall('(.*)_(.*)').reset_index(drop = True)[0]\n",
    "    intarna['couples'] = intarna['couples'].astype(int)\n",
    "\n",
    "    # #merge with id of df_nt\n",
    "    # df_nt = pd.read_csv(os.path.join(metadata_dir, f'df_nt.csv'))\n",
    "    # df_nt = df_nt[['couples', 'interacting']]\n",
    "    # df_nt['interacting'] = df_nt['interacting'].astype(int)\n",
    "\n",
    "    intarna = intarna.dropna()\n",
    "\n",
    "    res = res.merge(intarna[['E','E_norm', 'couples']].rename({'couples':'id_sample'}, axis =1), on = 'id_sample')\n",
    "    res['original_area'] = res.original_length1 * res.original_length2\n",
    "    \n",
    "    #-------------- -------------- -------------- -------------- -------------- -------------- --------------\n",
    "    \n",
    "    intarna_treshold = -1.25\n",
    "\n",
    "    # Example usage\n",
    "    signal_range = np.linspace(-5, 0, 1000)\n",
    "\n",
    "    mapped_signal = map_signal_to_sigmoid_range(signal_range, intarna_treshold)\n",
    "\n",
    "    if show_plot_map_signal:\n",
    "        # Plotting the results\n",
    "        plt.plot(signal_range, mapped_signal, label='Mapped Signal')\n",
    "        plt.axvline(x=intarna_treshold, color='r', linestyle='--', label='Intarna Threshold to be 0.5')\n",
    "        plt.axhline(y=0.5, color='g', linestyle='--', label='0.5')\n",
    "        plt.xlabel('Original Signal')\n",
    "        plt.ylabel('Mapped Signal')\n",
    "        plt.legend()\n",
    "        plt.show()\n",
    "\n",
    "    # Ranking the 'E_norm' column in ascending order\n",
    "    res['E_norm_conf'] = map_signal_to_sigmoid_range(res['E_norm'], intarna_treshold)\n",
    "    res['E_norm_conf'] = 1 - res['E_norm_conf']\n",
    "\n",
    "    ### L agreement score in questo caso di intarna non tiene conto dello sbilanciamento dei dati... dovrei prima trovare qual e l la soglia di INTARNA dove mettere lo 0.5 e poi fare la media con lo score del nostro modello\n",
    "    res['ensemble_score'] = (res['probability'] + res['E_norm_conf']) / 2\n",
    "    assert res.ensemble_score.max() <= 1\n",
    "    assert res.ensemble_score.min() >= 0\n",
    "    \n",
    "    return res\n",
    "\n",
    "def load_ricseq_splash_mario_results(checkpoint_dir, how, only_test, exclude_train_genes, exclude_paris_genes, exclude_paris_couples, filter_hq_ricseq, MIN_N_READS_RICSEQ, show_plot_map_signal=False):\n",
    "    \n",
    "    res = pd.read_csv(os.path.join(checkpoint_dir, f'{how}_results500.csv'))\n",
    "    \n",
    "    if (how == 'ricseq')&filter_hq_ricseq:\n",
    "        ricsechq = pd.read_csv(os.path.join(os.path.join('ricseqHQ_couples.csv')))\n",
    "        hq = res[res.couples.isin(ricsechq['couples'])]\n",
    "        pos_to_keep = list(hq[hq.policy == 'easypos'].id_sample)\n",
    "        smartneg_to_drop = list(hq[hq.policy == 'smartneg'].id_sample)\n",
    "        res = res[\n",
    "            (res.id_sample.isin(pos_to_keep)) | \n",
    "            ((res.policy == 'smartneg') & (~res.id_sample.isin(smartneg_to_drop)) ) | \n",
    "            ((res.policy == 'hardneg') & (res.id_sample.isin(pos_to_keep)) ) |\n",
    "            ((res.policy == 'easyneg') & (~res.id_sample.isin(smartneg_to_drop)) )\n",
    "        ]\n",
    "        \n",
    "    #-------------- -------------- -------------- -------------- -------------- -------------- --------------\n",
    "        \n",
    "    file_train = os.path.join(rna_rna_files_dir, f'{how}', 'gene_pairs_training.txt')\n",
    "    with open(file_train, \"rb\") as fp:   # Unpickling\n",
    "        train_couples = pickle.load(fp)\n",
    "\n",
    "    file_test = os.path.join(rna_rna_files_dir, f'{how}', 'gene_pairs_test.txt')\n",
    "    with open(file_test, \"rb\") as fp:   # Unpickling\n",
    "        test_couples = pickle.load(fp)\n",
    "\n",
    "    train_paris = os.path.join(rna_rna_files_dir, 'gene_pairs_training.txt')\n",
    "    with open(train_paris, \"rb\") as fp:   # Unpickling\n",
    "        paris_couples1 = pickle.load(fp)\n",
    "    val_paris = os.path.join(rna_rna_files_dir, 'gene_pairs_val.txt')\n",
    "    with open(val_paris, \"rb\") as fp:   # Unpickling\n",
    "        paris_couples2 = pickle.load(fp)\n",
    "\n",
    "    paris_couples=pd.Series(list(set(paris_couples1).union(paris_couples2))).str.extractall('(.*)_(.*)').reset_index()\n",
    "    paris_genes = set(paris_couples[0]).union(paris_couples[1])    \n",
    "    paris_couples = set(paris_couples1).union(paris_couples2)\n",
    "\n",
    "\n",
    "    tr_genes=pd.Series(train_couples).str.extractall('(.*)_(.*)').reset_index()\n",
    "    training_genes = set(tr_genes[0]).union(tr_genes[1])\n",
    "\n",
    "    if only_test:\n",
    "        res = res[res.couples.isin(test_couples)]\n",
    "        if exclude_train_genes:\n",
    "            res = res[~(res.gene1_original.isin(training_genes) | res.gene2_original.isin(training_genes))]\n",
    "\n",
    "    if exclude_paris_genes:\n",
    "        n_original_couples=res.shape[0]\n",
    "        res = res[~(res.gene1_original.isin(paris_genes) | res.gene2_original.isin(paris_genes))]\n",
    "        print('# excluded couples: ', n_original_couples - res.shape[0])\n",
    "    if exclude_paris_couples:\n",
    "        n_original_couples=res.shape[0]\n",
    "        res = res[~(res.couples.isin(paris_couples))]\n",
    "        print('# excluded couples: ', n_original_couples - res.shape[0])\n",
    "        \n",
    "    #-------------- -------------- -------------- -------------- -------------- -------------- --------------\n",
    "        \n",
    "    test500 = pd.read_csv(os.path.join(metadata_dir, f'{how}500.csv'))\n",
    "    df_nt = pd.read_csv(os.path.join(metadata_dir, f'df_nt_{how}.csv'))\n",
    "\n",
    "    assert test500.shape[0] == df_nt[['couples', 'interacting', 'policy']].merge(test500, on = 'couples').shape[0]\n",
    "\n",
    "    if how == 'ricseq':\n",
    "        test500 = df_nt[['couples', 'interacting', 'policy', 'where', 'where_x1', 'where_y1', 'simple_repeats', 'sine_alu', 'low_complex', 'n_reads']].merge(test500, on = 'couples')\n",
    "        ids_to_keep = set(test500[test500.n_reads >= MIN_N_READS_RICSEQ].couples).union(test500[test500.interacting==False].couples)\n",
    "        res = res[res.id_sample.isin(ids_to_keep)]\n",
    "    elif how == 'mario':\n",
    "        test500 = df_nt[['couples', 'interacting', 'policy', 'where', 'where_x1', 'where_y1', 'simple_repeats', 'sine_alu', 'low_complex', 'n_reads']].merge(test500, on = 'couples')\n",
    "    elif how == 'splash':\n",
    "        test500 = df_nt[['couples', 'interacting', 'policy', 'where', 'where_x1', 'where_y1', 'experiment']].merge(test500, on = 'couples')\n",
    "    else:\n",
    "        raise NotImplementedError\n",
    "\n",
    "    id_cds_cds = set(test500[test500['where'] == 'CDS-CDS'].couples)\n",
    "    \n",
    "    #-------------- -------------- -------------- -------------- -------------- -------------- --------------\n",
    "    \n",
    "    intarna = pd.read_csv(os.path.join(intarna_dir, f'{how}500_RANDOM', f'{how}.csv'), sep = ';')\n",
    "    intarna['key'] = intarna.id1 + '_' + intarna.id2\n",
    "\n",
    "    # keep only the lower E_norm for each group\n",
    "    intarna.sort_values('E_norm', ascending = False, inplace=True)\n",
    "    intarna.drop_duplicates(subset='key', keep='first', inplace=True)\n",
    "    intarna = intarna.reset_index(drop = True)\n",
    "    intarna['couples'] = intarna.id1.str.extractall('(.*)_(.*)').reset_index(drop = True)[0]\n",
    "    intarna['couples'] = intarna['couples'].astype(int)\n",
    "\n",
    "    intarna = intarna.dropna()\n",
    "\n",
    "\n",
    "    res = res.merge(intarna[['E','E_norm', 'couples']].rename({'couples':'id_sample'}, axis =1), on = 'id_sample')\n",
    "    res['original_area'] = res.original_length1 * res.original_length2\n",
    "    \n",
    "    \n",
    "    #-------------- -------------- -------------- -------------- -------------- -------------- --------------\n",
    "    \n",
    "    intarna_treshold = -1.25\n",
    "\n",
    "    # Example usage\n",
    "    signal_range = np.linspace(-5, 0, 1000)\n",
    "\n",
    "    mapped_signal = map_signal_to_sigmoid_range(signal_range, intarna_treshold)\n",
    "    \n",
    "    if show_plot_map_signal:\n",
    "        # Plotting the results\n",
    "        plt.plot(signal_range, mapped_signal, label='Mapped Signal')\n",
    "        plt.axvline(x=intarna_treshold, color='r', linestyle='--', label='Intarna Threshold to be 0.5')\n",
    "        plt.axhline(y=0.5, color='g', linestyle='--', label='0.5')\n",
    "        plt.xlabel('Original Signal')\n",
    "        plt.ylabel('Mapped Signal')\n",
    "        plt.legend()\n",
    "        plt.show()\n",
    "\n",
    "    # Ranking the 'E_norm' column in ascending order\n",
    "    res['E_norm_conf'] = map_signal_to_sigmoid_range(res['E_norm'], intarna_treshold)\n",
    "    res['E_norm_conf'] = 1 - res['E_norm_conf']\n",
    "\n",
    "    ### L agreement score in questo caso di intarna non tiene conto dello sbilanciamento dei dati... dovrei prima trovare qual e l la soglia di INTARNA dove mettere lo 0.5 e poi fare la media con lo score del nostro modello\n",
    "    res['ensemble_score'] = (res['probability'] + res['E_norm_conf']) / 2\n",
    "    assert res.ensemble_score.max() <= 1\n",
    "    assert res.ensemble_score.min() >= 0\n",
    "    \n",
    "    return res"
   ]
  },
  {
   "cell_type": "code",
   "execution_count": 5,
   "id": "cd9e6a48-238c-41b6-919d-25838e524cc4",
   "metadata": {},
   "outputs": [],
   "source": [
    "def obtain_auc_nt_intarna(res):\n",
    "    fpr, tpr, _ = roc_curve(res.ground_truth, res.probability)\n",
    "    roc_auc_nt = auc(fpr, tpr)\n",
    "    fpr, tpr, _ = roc_curve(res.ground_truth, abs(res.E_norm))\n",
    "    roc_auc_intarna = auc(fpr, tpr)\n",
    "    return roc_auc_nt, roc_auc_intarna"
   ]
  },
  {
   "cell_type": "code",
   "execution_count": 6,
   "id": "050fdc1a-3e6d-4c9a-a7ca-d75792c9d6ee",
   "metadata": {},
   "outputs": [],
   "source": [
    "def load_results(checkpoint_dir_paths, space, n_values, MIN_PERC, chkpt_folder):\n",
    "    \n",
    "    filename_output = os.path.join(chkpt_folder, 'model_performance.pkl')\n",
    "    \n",
    "    if os.path.exists(filename_output):\n",
    "        # Loading the variables from the file\n",
    "        with open(filename_output, 'rb') as file:\n",
    "            df_full, name_map, confidence_level = pickle.load(file)\n",
    "        \n",
    "        to_do = list( set(checkpoint_dir_paths) - set(name_map.values()) )\n",
    "        \n",
    "        if len(to_do) > 0:\n",
    "        \n",
    "            new_df_full, new_name_map, new_confidence_level = otain_results(to_do, space, n_values, MIN_PERC, index_name = len(name_map))\n",
    "\n",
    "            df_full = pd.concat([df_full,new_df_full], axis = 0).reset_index(drop = True)\n",
    "            name_map.update(new_name_map)\n",
    "\n",
    "            # Saving the variables to a file\n",
    "            with open(filename_output, 'wb') as file:\n",
    "                pickle.dump((df_full, name_map, confidence_level), file)\n",
    "\n",
    "    else:\n",
    "        df_full, name_map, confidence_level = otain_results(checkpoint_dir_paths, space, n_values, MIN_PERC)\n",
    "        # Saving the variables to a file\n",
    "        with open(filename_output, 'wb') as file:\n",
    "            pickle.dump((df_full, name_map, confidence_level), file)\n",
    "        \n",
    "    return df_full, name_map, confidence_level"
   ]
  },
  {
   "cell_type": "code",
   "execution_count": 7,
   "id": "0d6c950e-c75e-4b5d-b8a9-ee85b39ba444",
   "metadata": {},
   "outputs": [],
   "source": [
    "def add_row_values(task_name, set_name, subset, row, n_values, n_run_undersampling, MIN_PERC):\n",
    "    for metric in ['precision_recall_curve', 'f1']:\n",
    "        # Get results based on threshold for NT\n",
    "        confidence_level, metric_nt, perc_nt, _, _, _, _ = get_results_based_on_treshold(subset=subset, MIN_PERC=MIN_PERC, n_values=n_values, order_by='nt', n_run_undersampling=n_run_undersampling, metric=metric, consensus=False)\n",
    "        \n",
    "        # Add NT confidence level results to row\n",
    "        for i in range(len(confidence_level)):\n",
    "            row[f'{set_name}_{task_name}_{metric}_NTconf{confidence_level[i]}'] = metric_nt[i]\n",
    "\n",
    "        # Get results based on threshold for INTARNA\n",
    "        _, _, _, metric_intarna, perc_intarna, _, _ = get_results_based_on_treshold(subset=subset, MIN_PERC=MIN_PERC, n_values=n_values, order_by='intarna', n_run_undersampling=n_run_undersampling, metric=metric, consensus=False)\n",
    "        \n",
    "        # Add INTARNA confidence level results to row\n",
    "        for i in range(len(confidence_level)):\n",
    "            row[f'{set_name}_{task_name}_{metric}_INTARNAconf{confidence_level[i]}'] = metric_intarna[i]\n",
    "            \n",
    "    fpr, tpr, _ = roc_curve(subset.ground_truth, subset.probability)\n",
    "    roc_auc = auc(fpr, tpr)\n",
    "    row[f'{set_name}_auc_NT_{task_name}'] = roc_auc\n",
    "\n",
    "    fpr, tpr, _ = roc_curve(abs(1 - subset.ground_truth), subset.E_norm)\n",
    "    roc_auc = auc(fpr, tpr)\n",
    "    row[f'{set_name}_auc_INTARNA_{task_name}'] = roc_auc\n",
    "    \n",
    "    return row, confidence_level\n",
    "\n",
    "\n",
    "def otain_results(checkpoint_dir_paths, space, n_values, MIN_PERC, index_name = 0):\n",
    "\n",
    "    diz_results = {}\n",
    "    name_map = {}\n",
    "    \n",
    "    for idx_v, checkpoint_dir in tqdm(enumerate(checkpoint_dir_paths), total = len(checkpoint_dir_paths)):\n",
    "        row = {}\n",
    "\n",
    "        # -----------\n",
    "        # PARIS args\n",
    "        # -----------\n",
    "        \n",
    "        HOW = 'test'\n",
    "        SPECIE = 'human'\n",
    "        \n",
    "        # -----------------------\n",
    "        # RICSEQ and SPLASH args\n",
    "        # -----------------------\n",
    "\n",
    "        only_test = False\n",
    "        exclude_train_genes = False\n",
    "        exclude_paris_genes = False\n",
    "        exclude_paris_couples = True\n",
    "\n",
    "        filter_hq_ricseq = False\n",
    "\n",
    "        MIN_N_READS_RICSEQ = 3\n",
    "        \n",
    "        # -----------\n",
    "        # Calculation\n",
    "        # ------------\n",
    "        \n",
    "        n_run_undersampling = 30\n",
    "        n_values = 12\n",
    "        MIN_PERC = 1\n",
    "\n",
    "        for how in ['paris', 'ricseq', 'splash']:\n",
    "            \n",
    "            if how == 'paris':\n",
    "                res = load_paris_results(checkpoint_dir, HOW, SPECIE)\n",
    "\n",
    "            else:\n",
    "                res = load_ricseq_splash_mario_results(checkpoint_dir, how, only_test, exclude_train_genes, exclude_paris_genes, exclude_paris_couples, filter_hq_ricseq, MIN_N_READS_RICSEQ)\n",
    "\n",
    "            easypos_smartneg = res[res.policy.isin(['smartneg', 'easypos'])].reset_index(drop = True)\n",
    "            subset = easypos_smartneg.copy()\n",
    "            subset = balance_df(subset).reset_index(drop = True)\n",
    "            row, confidence_level = add_row_values('interactors', how, subset, row, n_values, n_run_undersampling, MIN_PERC)\n",
    "            \n",
    "            ephnen = res[(res.policy == 'easyneg')|(res.policy == 'easypos')|(res.policy == 'hardneg')].reset_index(drop = True)\n",
    "            subset = ephnen.copy()\n",
    "            subset = balance_df(subset).reset_index(drop = True)\n",
    "            row, _ = add_row_values('patches', how, subset, row, n_values, n_run_undersampling, MIN_PERC)\n",
    "            \n",
    "        # -------------------\n",
    "        # SPLASH RICSEQ test\n",
    "        # -------------------\n",
    "        only_test = True\n",
    "        for how in ['ricseq', 'splash']:\n",
    "            res = load_ricseq_splash_mario_results(checkpoint_dir, how, only_test, exclude_train_genes, exclude_paris_genes, exclude_paris_couples, filter_hq_ricseq, MIN_N_READS_RICSEQ)\n",
    "            easypos_smartneg = res[res.policy.isin(['smartneg', 'easypos'])].reset_index(drop = True)\n",
    "            subset = easypos_smartneg.copy()\n",
    "            subset = balance_df(subset).reset_index(drop = True)\n",
    "            row, _ = add_row_values('interactors', how+'test', subset, row, n_values, n_run_undersampling, MIN_PERC)\n",
    "            \n",
    "            ephnen = res[(res.policy == 'easyneg')|(res.policy == 'easypos')|(res.policy == 'hardneg')].reset_index(drop = True)\n",
    "            subset = ephnen.copy()\n",
    "            subset = balance_df(subset).reset_index(drop = True)\n",
    "            row, _ = add_row_values('patches', how+'test', subset, row, n_values, n_run_undersampling, MIN_PERC)\n",
    "            \n",
    "        model_name = f'model{idx_v + index_name}'\n",
    "        name_map[model_name] = checkpoint_dir\n",
    "        diz_results[model_name] = row\n",
    "    \n",
    "    df = pd.DataFrame.from_dict(diz_results, 'index')\n",
    "    df = df*100\n",
    "    df = df.round(2)\n",
    "    df = df.reset_index().rename({'index':'model'}, axis = 1)\n",
    "    \n",
    "    intarna_columns = []\n",
    "    all_columns = list(df.columns)\n",
    "    for col in all_columns:\n",
    "        if 'INTARNA' in col:\n",
    "            intarna_columns.append(col)\n",
    "\n",
    "\n",
    "    df_intarna, other = df.filter(intarna_columns, axis = 1), df.filter(set(df.columns) - set(intarna_columns), axis = 1)\n",
    "\n",
    "    map_name = {}\n",
    "    for col in df_intarna.columns:\n",
    "        if 'INTARNAconf' in col:\n",
    "            col_clean = col.replace('INTARNAconf', 'NTconf')\n",
    "            map_name[col] = col_clean\n",
    "        elif 'INTARNA_' in col:\n",
    "            col_clean = col.replace('INTARNA_', 'NT_')\n",
    "            map_name[col] = col_clean\n",
    "    df_intarna = df_intarna.rename(map_name, axis = 1)\n",
    "\n",
    "\n",
    "    assert set(df_intarna.columns) - set(other.columns) == set()\n",
    "\n",
    "\n",
    "    for col in (set(other.columns) - set(df_intarna.columns)):\n",
    "        df_intarna[col] = np.nan\n",
    "\n",
    "\n",
    "    df_intarna = pd.DataFrame(df_intarna.mean()).T\n",
    "    df_intarna['model'] = 'INTARNA'\n",
    "    df_intarna = df_intarna.filter(other.columns, axis = 1)\n",
    "    df_full = pd.concat([other, df_intarna], axis = 0).reset_index(drop = True)\n",
    "    \n",
    "    \n",
    "    map_name = {}\n",
    "    for col in df_full.columns:\n",
    "        if 'NTconf' in col:\n",
    "            col_clean = col.replace('NTconf', 'conf')\n",
    "            map_name[col] = col_clean\n",
    "        elif 'NT_' in col:\n",
    "            col_clean = col.replace('NT_', '')\n",
    "            map_name[col] = col_clean\n",
    "    df_full = df_full.rename(map_name, axis = 1).reset_index(drop = True)\n",
    "\n",
    "    return df_full, name_map, confidence_level"
   ]
  },
  {
   "cell_type": "code",
   "execution_count": 8,
   "id": "744341c9-1180-41e9-b608-af7cfdda0a9b",
   "metadata": {},
   "outputs": [],
   "source": [
    "space = 'linear'\n",
    "n_values = 12\n",
    "MIN_PERC = 1\n",
    "\n",
    "assert space in ['log', 'linear']"
   ]
  },
  {
   "cell_type": "code",
   "execution_count": null,
   "id": "3c79c7fb-427c-4624-b30b-23080900ce74",
   "metadata": {},
   "outputs": [],
   "source": [
    "df_full, name_map, confidence_level = load_results(checkpoint_dir_paths, space, n_values, MIN_PERC, chkpt_folder)\n",
    "\n",
    "#df = otain_results(checkpoint_dir_paths[:3], space, n_values, MIN_PERC)"
   ]
  },
  {
   "cell_type": "code",
   "execution_count": null,
   "id": "bee47c07-01c0-4435-99d9-6532dbbde01b",
   "metadata": {},
   "outputs": [],
   "source": [
    "df_full = df_full.groupby('model').mean().reset_index()"
   ]
  },
  {
   "cell_type": "markdown",
   "id": "7caaaf14-5e60-4250-8033-088452654465",
   "metadata": {
    "tags": []
   },
   "source": [
    "# Curve"
   ]
  },
  {
   "cell_type": "code",
   "execution_count": 11,
   "id": "d581c004-e1a3-4afc-b9a7-752ed69557d3",
   "metadata": {},
   "outputs": [],
   "source": [
    "n_best = 5\n",
    "min_auc_on_all_dataset = 0.53\n",
    "way = 3"
   ]
  },
  {
   "cell_type": "code",
   "execution_count": 12,
   "id": "94457c4c-df95-4cdf-9e2c-3b1686cad9c6",
   "metadata": {},
   "outputs": [],
   "source": [
    "plt.rcParams['figure.figsize'] = [10, 7]"
   ]
  },
  {
   "cell_type": "code",
   "execution_count": 13,
   "id": "a9a572fd-ffe0-4324-8b1a-8b05140720e6",
   "metadata": {},
   "outputs": [],
   "source": [
    "df_auc = df_full.filter(['model', 'paris_auc_interactors',  'ricseq_auc_interactors', 'splash_auc_interactors', 'splashtest_auc_interactors'])"
   ]
  },
  {
   "cell_type": "code",
   "execution_count": 14,
   "id": "db5f8be1-098e-4bcb-add9-ec440260b155",
   "metadata": {
    "tags": []
   },
   "outputs": [],
   "source": [
    "if way == 1:\n",
    "    #way1\n",
    "    df_select = df_auc[(df_auc.drop('model', axis = 1) > min_auc_on_all_dataset * 100).all(axis = 1)]\n",
    "    best_models = set(df_select.sort_values('mean', ascending = False).head(n_best)['model']).union(set(['INTARNA']))\n",
    "elif way == 2:\n",
    "    #way2\n",
    "    best_paris = set(df_select.sort_values('paris_auc_interactors', ascending = False).head( int(n_best) )['model'])\n",
    "    best_ricseq = set(df_select.sort_values('ricseq_auc_interactors', ascending = False).head( int(n_best) )['model'])\n",
    "    best_splash = set(df_select.sort_values('splash_auc_interactors', ascending = False).head( int(n_best) )['model'])\n",
    "    best_models = ( best_paris.intersection(best_ricseq).intersection(best_splash) ).union(set(['INTARNA']))\n",
    "elif way == 3:\n",
    "    #take the best in ricseq\n",
    "    best_models = set(df_auc.sort_values('ricseq_auc_interactors', ascending = False).head(n_best)['model']).union(set(['INTARNA']))"
   ]
  },
  {
   "cell_type": "code",
   "execution_count": 15,
   "id": "3b339e99-9734-46d2-8a50-0d943db8fd54",
   "metadata": {},
   "outputs": [],
   "source": [
    "task_name = 'interactors' #interactors, patches\n",
    "metric = 'precision_recall_curve' #precision_recall_curve, f1\n",
    "model_list = ['splashtest', 'ricseq', 'paris']\n",
    "\n",
    "diz_curve = {}\n",
    "\n",
    "for set_name in model_list:\n",
    "    diz_dataset = {}\n",
    "    for model in best_models:\n",
    "        datasetlist = []\n",
    "        for conf in confidence_level:\n",
    "            modelrow = df_full[df_full['model'] == model]\n",
    "            \n",
    "            value = modelrow[f'{set_name}_{task_name}_{metric}_conf{conf}'].iloc[0]\n",
    "            \n",
    "            datasetlist.append(value)  \n",
    "        diz_dataset[model] = datasetlist\n",
    "    diz_curve[set_name] = diz_dataset"
   ]
  },
  {
   "cell_type": "code",
   "execution_count": 16,
   "id": "81d8e3e7-ae8e-4ca0-b091-04c5960952ec",
   "metadata": {},
   "outputs": [],
   "source": [
    "df_curve = pd.DataFrame.from_dict(diz_curve, 'index')#.reset_index().rename({'index':'dataset'}, axis = 1)"
   ]
  },
  {
   "cell_type": "code",
   "execution_count": 17,
   "id": "4efa253d-5045-4ad2-930e-af806a99f50a",
   "metadata": {},
   "outputs": [
    {
     "data": {
      "image/png": "[encoded data removed]",
      "text/plain": [
       "<Figure size 720x504 with 1 Axes>"
      ]
     },
     "metadata": {
      "needs_background": "light"
     },
     "output_type": "display_data"
    },
    {
     "data": {
      "image/png": "[encoded data removed]",
      "text/plain": [
       "<Figure size 720x504 with 1 Axes>"
      ]
     },
     "metadata": {
      "needs_background": "light"
     },
     "output_type": "display_data"
    },
    {
     "data": {
      "image/png": "[encoded data removed]",
      "text/plain": [
       "<Figure size 720x504 with 1 Axes>"
      ]
     },
     "metadata": {
      "needs_background": "light"
     },
     "output_type": "display_data"
    }
   ],
   "source": [
    "for dataset in model_list:\n",
    "    row = df_curve.loc[dataset]\n",
    "    for model in best_models:\n",
    "        plt.plot(confidence_level, row[model], label = model)\n",
    "      \n",
    "    plt.title(f'Dataset: {dataset}')\n",
    "    plt.legend()\n",
    "    plt.show()"
   ]
  },
  {
   "cell_type": "code",
   "execution_count": 20,
   "id": "2b102c25-47b2-4aab-855e-2cee7d6f3a70",
   "metadata": {},
   "outputs": [
    {
     "data": {
      "text/html": [
       "<div>\n",
       "<style scoped>\n",
       "    .dataframe tbody tr th:only-of-type {\n",
       "        vertical-align: middle;\n",
       "    }\n",
       "\n",
       "    .dataframe tbody tr th {\n",
       "        vertical-align: top;\n",
       "    }\n",
       "\n",
       "    .dataframe thead th {\n",
       "        text-align: right;\n",
       "    }\n",
       "</style>\n",
       "<table border=\"1\" class=\"dataframe\">\n",
       "  <thead>\n",
       "    <tr style=\"text-align: right;\">\n",
       "      <th></th>\n",
       "      <th>model</th>\n",
       "      <th>paris_auc_interactors</th>\n",
       "      <th>ricseq_auc_interactors</th>\n",
       "      <th>splash_auc_interactors</th>\n",
       "      <th>splashtest_auc_interactors</th>\n",
       "    </tr>\n",
       "  </thead>\n",
       "  <tbody>\n",
       "    <tr>\n",
       "      <th>0</th>\n",
       "      <td>INTARNA</td>\n",
       "      <td>53.689369</td>\n",
       "      <td>56.68303</td>\n",
       "      <td>73.866111</td>\n",
       "      <td>72.487803</td>\n",
       "    </tr>\n",
       "    <tr>\n",
       "      <th>2</th>\n",
       "      <td>model1</td>\n",
       "      <td>59.300000</td>\n",
       "      <td>61.36000</td>\n",
       "      <td>64.760000</td>\n",
       "      <td>60.510000</td>\n",
       "    </tr>\n",
       "    <tr>\n",
       "      <th>16</th>\n",
       "      <td>model22</td>\n",
       "      <td>60.440000</td>\n",
       "      <td>61.99000</td>\n",
       "      <td>62.110000</td>\n",
       "      <td>64.850000</td>\n",
       "    </tr>\n",
       "    <tr>\n",
       "      <th>21</th>\n",
       "      <td>model27</td>\n",
       "      <td>59.000000</td>\n",
       "      <td>61.32000</td>\n",
       "      <td>56.800000</td>\n",
       "      <td>58.440000</td>\n",
       "    </tr>\n",
       "    <tr>\n",
       "      <th>54</th>\n",
       "      <td>model57</td>\n",
       "      <td>60.720000</td>\n",
       "      <td>62.12000</td>\n",
       "      <td>60.290000</td>\n",
       "      <td>62.240000</td>\n",
       "    </tr>\n",
       "    <tr>\n",
       "      <th>62</th>\n",
       "      <td>model64</td>\n",
       "      <td>60.530000</td>\n",
       "      <td>61.41000</td>\n",
       "      <td>62.670000</td>\n",
       "      <td>65.730000</td>\n",
       "    </tr>\n",
       "  </tbody>\n",
       "</table>\n",
       "</div>"
      ],
      "text/plain": [
       "      model  paris_auc_interactors  ricseq_auc_interactors  \\\n",
       "0   INTARNA              53.689369                56.68303   \n",
       "2    model1              59.300000                61.36000   \n",
       "16  model22              60.440000                61.99000   \n",
       "21  model27              59.000000                61.32000   \n",
       "54  model57              60.720000                62.12000   \n",
       "62  model64              60.530000                61.41000   \n",
       "\n",
       "    splash_auc_interactors  splashtest_auc_interactors  \n",
       "0                73.866111                   72.487803  \n",
       "2                64.760000                   60.510000  \n",
       "16               62.110000                   64.850000  \n",
       "21               56.800000                   58.440000  \n",
       "54               60.290000                   62.240000  \n",
       "62               62.670000                   65.730000  "
      ]
     },
     "execution_count": 20,
     "metadata": {},
     "output_type": "execute_result"
    }
   ],
   "source": [
    "df_auc[df_auc.model.isin(best_models)]"
   ]
  },
  {
   "cell_type": "code",
   "execution_count": null,
   "id": "e65c281a-f8db-498b-9003-945232fd938b",
   "metadata": {},
   "outputs": [],
   "source": []
  },
  {
   "cell_type": "code",
   "execution_count": null,
   "id": "2f2f3dbe-bf78-4f4b-8083-174db7736863",
   "metadata": {},
   "outputs": [],
   "source": []
  },
  {
   "cell_type": "code",
   "execution_count": null,
   "id": "bc279d84-56b3-4f81-a313-dbd77d221e09",
   "metadata": {},
   "outputs": [],
   "source": []
  },
  {
   "cell_type": "code",
   "execution_count": null,
   "id": "1a2cdad3-8cb0-4126-8687-54c9e3e6ce11",
   "metadata": {},
   "outputs": [],
   "source": []
  },
  {
   "cell_type": "code",
   "execution_count": null,
   "id": "1626ebe3-f3c1-4bcf-8fd3-f54df5f6fc4b",
   "metadata": {},
   "outputs": [],
   "source": []
  },
  {
   "cell_type": "code",
   "execution_count": 18,
   "id": "2e56c72a-0e90-45c2-9cd5-f530c7fe5d01",
   "metadata": {},
   "outputs": [
    {
     "name": "stdout",
     "output_type": "stream",
     "text": [
      "model22 /data01/giorgio/RNARNA-NT/checkpoints/all_modelarch2_easypretrain11_paristfinetuningSPLASHval0061\n",
      "model64 /data01/giorgio/RNARNA-NT/checkpoints/all_modelarch2_easypretrain11_paristfinetuningSPLASHval0039parisHQSPLASHval0054\n",
      "model27 /data01/giorgio/RNARNA-NT/checkpoints/all_modelarch2_easypretrain11_paristfinetuningSPLASHval0085\n",
      "model57 /data01/giorgio/RNARNA-NT/checkpoints/all_modelarch2_easypretrain11_paristfinetuningSPLASHval0061parisHQSPLASHval0098\n",
      "model1 /data01/giorgio/RNARNA-NT/checkpoints/all_modelarch2_parisANDsplashRICSEQval0083\n"
     ]
    }
   ],
   "source": [
    "for i in list(best_models):\n",
    "    if i != 'INTARNA':\n",
    "        print(i, name_map[i])"
   ]
  },
  {
   "cell_type": "code",
   "execution_count": 36,
   "id": "030a3bc3-ab84-4efb-8e52-d6cfcc0948f6",
   "metadata": {},
   "outputs": [],
   "source": [
    "# /data01/giorgio/RNARNA-NT/checkpoints/all_modelarch1_paristfinetuningSPLASHval25_ricseqSPLASHval28_splash103\n",
    "# /data01/giorgio/RNARNA-NT/checkpoints/all_modelarch1_easypretrain10_paristfinetuningSPLASHval29_ricseqSPLASHval60_splashRICSEQval110\n",
    "# /data01/giorgio/RNARNA-NT/checkpoints/all_modelarch1_paristfinetuningSPLASHval25_ricseqSPLASHval28_splashBEST\n",
    "# /data01/giorgio/RNARNA-NT/checkpoints/all_modelarch2_easypretrain3_paristfinetuning14_ricseq23_splash151"
   ]
  },
  {
   "cell_type": "code",
   "execution_count": 37,
   "id": "34770988-2c4f-4bd6-8df0-7f8b5a03fd34",
   "metadata": {},
   "outputs": [
    {
     "ename": "NameError",
     "evalue": "name 'models_selected' is not defined",
     "output_type": "error",
     "traceback": [
      "\u001b[0;31m---------------------------------------------------------------------------\u001b[0m",
      "\u001b[0;31mNameError\u001b[0m                                 Traceback (most recent call last)",
      "\u001b[0;32m/tmp/ipykernel_647533/851026771.py\u001b[0m in \u001b[0;36m<module>\u001b[0;34m\u001b[0m\n\u001b[1;32m      3\u001b[0m                     \u001b[0;34m'ricseq_auc_ES'\u001b[0m\u001b[0;34m,\u001b[0m \u001b[0;34m'ricseq_auc_EPENHN'\u001b[0m\u001b[0;34m,\u001b[0m\u001b[0;34m\u001b[0m\u001b[0;34m\u001b[0m\u001b[0m\n\u001b[1;32m      4\u001b[0m                     'splash_auc_ES', 'splash_auc_EPENHN']\n\u001b[0;32m----> 5\u001b[0;31m \u001b[0mdf_full\u001b[0m\u001b[0;34m[\u001b[0m\u001b[0mdf_full\u001b[0m\u001b[0;34m[\u001b[0m\u001b[0;34m'model'\u001b[0m\u001b[0;34m]\u001b[0m\u001b[0;34m.\u001b[0m\u001b[0misin\u001b[0m\u001b[0;34m(\u001b[0m\u001b[0mmodels_selected\u001b[0m\u001b[0;34m)\u001b[0m\u001b[0;34m|\u001b[0m\u001b[0;34m(\u001b[0m\u001b[0mdf_full\u001b[0m\u001b[0;34m[\u001b[0m\u001b[0;34m'model'\u001b[0m\u001b[0;34m]\u001b[0m\u001b[0;34m==\u001b[0m\u001b[0;34m'INTARNA'\u001b[0m\u001b[0;34m)\u001b[0m\u001b[0;34m]\u001b[0m\u001b[0;34m.\u001b[0m\u001b[0mfilter\u001b[0m\u001b[0;34m(\u001b[0m\u001b[0mcolumns_to_print\u001b[0m\u001b[0;34m,\u001b[0m \u001b[0maxis\u001b[0m \u001b[0;34m=\u001b[0m \u001b[0;36m1\u001b[0m\u001b[0;34m)\u001b[0m\u001b[0;34m.\u001b[0m\u001b[0mround\u001b[0m\u001b[0;34m(\u001b[0m\u001b[0;36m2\u001b[0m\u001b[0;34m)\u001b[0m\u001b[0;34m\u001b[0m\u001b[0;34m\u001b[0m\u001b[0m\n\u001b[0m",
      "\u001b[0;31mNameError\u001b[0m: name 'models_selected' is not defined"
     ]
    }
   ],
   "source": [
    "columns_to_print = ['model', \n",
    "                    'paris_auc_ES', 'paris_auc_EPENHN',\n",
    "                    'ricseq_auc_ES', 'ricseq_auc_EPENHN',\n",
    "                    'splash_auc_ES', 'splash_auc_EPENHN']\n",
    "df_full[df_full['model'].isin(models_selected)|(df_full['model']=='INTARNA')].filter(columns_to_print, axis = 1).round(2)"
   ]
  },
  {
   "cell_type": "code",
   "execution_count": null,
   "id": "15059d56-52bf-4bcd-890a-7a9897d6b0d6",
   "metadata": {},
   "outputs": [],
   "source": [
    "models_selected = ['model7', 'model9', 'model10', 'model12', 'model15', 'model21', 'model22', 'model23', 'model24', 'model25', 'model26']"
   ]
  },
  {
   "cell_type": "code",
   "execution_count": null,
   "id": "984b6e7f-7c3d-4bf7-a0e2-acd3fe3997a8",
   "metadata": {},
   "outputs": [],
   "source": [
    "columns_to_print = ['model', \n",
    "                    'paris_auc_ES', 'paris_auc_EPENHN',\n",
    "                    'ricseq_auc_ES', 'ricseq_acc_ES_notrain', 'ricseq_auc_EPENHN',\n",
    "                    'splash_auc_ES', 'splash_auc_EPENHN']\n",
    "df_full[df_full['model'].isin(models_selected)|(df_full['model']=='INTARNA')].filter(columns_to_print, axis = 1).round(2)"
   ]
  },
  {
   "cell_type": "code",
   "execution_count": null,
   "id": "a2ec2bf2-aab6-44d0-8707-9e16c889ded4",
   "metadata": {},
   "outputs": [],
   "source": []
  },
  {
   "cell_type": "code",
   "execution_count": null,
   "id": "6cb478b4-3f05-4787-82df-2c5f33ad7124",
   "metadata": {},
   "outputs": [],
   "source": []
  },
  {
   "cell_type": "code",
   "execution_count": null,
   "id": "eca5d10a-d6f5-4197-bf98-eb02730a9cde",
   "metadata": {},
   "outputs": [],
   "source": []
  },
  {
   "cell_type": "code",
   "execution_count": null,
   "id": "8ad26a4c-425d-48f0-ae9e-5bc196ef9321",
   "metadata": {},
   "outputs": [],
   "source": []
  },
  {
   "cell_type": "code",
   "execution_count": null,
   "id": "8ad9f85c-5fff-4417-96cb-c3f2e7cfdf10",
   "metadata": {},
   "outputs": [],
   "source": []
  },
  {
   "cell_type": "markdown",
   "id": "f1180734-0dea-47eb-95c4-eeba2c21f8e5",
   "metadata": {
    "tags": []
   },
   "source": [
    "### Correlation between ricsecTest VS ricseq, splashTest VS splash\n",
    "\n",
    "Sembra esserci una correlazione abbastanza forte, quindi posso utilizzare i dati di test per fare tutte le altre analisi."
   ]
  },
  {
   "cell_type": "code",
   "execution_count": null,
   "id": "aacc9480-bcd5-4c4f-a201-7939efde075f",
   "metadata": {},
   "outputs": [],
   "source": [
    "only_test = False\n",
    "df_full_F, name_map_F, confidence_level = otain_results(checkpoint_dir_paths, space, n_values, MIN_PERC, only_test)"
   ]
  },
  {
   "cell_type": "code",
   "execution_count": null,
   "id": "ec284ce7-c706-4cc4-85ab-32a9ee591112",
   "metadata": {},
   "outputs": [],
   "source": [
    "ok_ricseq = [ os.path.join(chkpt_folder, i) for i in [\n",
    "    'all_modelarch2_easypretrain3_paristfinetuningSPLASHval8', \n",
    "             'all_modelarch2_easypretrain3_paristfinetuningSPLASHval29', \n",
    "             'all_modelarch2_easypretrain3_paristfinetuningSPLASHval30',\n",
    "             'all_modelarch2_easypretrain3_paristfinetuningSPLASHval20',\n",
    "             'all_modelarch1_easypretrain7_paristrain22', \n",
    "             'all_modelarch1_easypretrain7_paristrain12_trainhq',\n",
    "             'all_modelarch2_easypretrain3_paristfinetuning13',\n",
    "             'all_modelarch2_easypretrain3_paristfinetuning14', \n",
    "             'all_modelarch2_easypretrain3_paristfinetuningSPLASHval12'\n",
    "]]\n",
    "\n",
    "\n",
    "\n",
    "ok_splash = [os.path.join(chkpt_folder, i) for i in [\n",
    "    'all_modelarch2_easypretrain3_paristfinetuningSPLASHval8', \n",
    "             'all_modelarch2_easypretrain3_paristfinetuningSPLASHval29', \n",
    "             'all_modelarch2_easypretrain3_paristfinetuningSPLASHval30',\n",
    "             'all_modelarch2_easypretrain3_paristfinetuningSPLASHval20',\n",
    "             'all_modelarch2_easypretrain3_paristfinetuningSPLASHval18_ricseqSPLASHvalBEST',\n",
    "             'all_modelarch1_easypretrain7_paristrain22',\n",
    "             'all_modelarch1_easypretrain7_paristrain12_trainhq',\n",
    "             'all_modelarch2_easypretrain3_paristfinetuning13',\n",
    "             'all_modelarch2_easypretrain3_paristfinetuning14',\n",
    "             'all_modelarch2_easypretrain3_paristfinetuning14_ricseq20',\n",
    "             'all_modelarch2_easypretrain3_paristfinetuning14_ricseq23',\n",
    "             'all_modelarch2_easypretrain3_paristfinetuningSPLASHval18',\n",
    "             'all_modelarch1_paristfinetuningSPLASHval25_ricseqSPLASHval28',\n",
    "             'all_modelarch2_easypretrain3_paristfinetuningSPLASHval12',\n",
    "             'all_modelarch2_easypretrain3_paristfinetuningSPLASHval18_ricseqSPLASHval20',\n",
    "             'all_modelarch2_easypretrain3_paristfinetuningSPLASHval29_ricseqSPLASHvalBEST'\n",
    "]]"
   ]
  },
  {
   "cell_type": "code",
   "execution_count": null,
   "id": "13fdd7fb-e737-4bc4-8b0d-5bfaa5dfbab9",
   "metadata": {},
   "outputs": [],
   "source": [
    "map_splash = {}\n",
    "for i in ok_splash:\n",
    "    for j in name_map.keys():\n",
    "        if name_map[j] == i:\n",
    "            name_map_splash = j\n",
    "    for j in name_map_F.keys():\n",
    "        if name_map[j] == i:\n",
    "            name_map_splash_F = j\n",
    "    map_splash[name_map_splash] = name_map_splash_F\n",
    "\n",
    "map_splash = pd.DataFrame.from_dict(map_splash, 'index').reset_index().rename({'index':'name_map', 0:'name_map_F'}, axis = 1)\n",
    "    \n",
    "map_ricseq = {}\n",
    "for i in ok_ricseq:\n",
    "    for j in name_map.keys():\n",
    "        if name_map[j] == i:\n",
    "            name_map_ricseq = j\n",
    "    for j in name_map_F.keys():\n",
    "        if name_map[j] == i:\n",
    "            name_map_ricseq_F = j\n",
    "    map_ricseq[name_map_ricseq] = name_map_ricseq_F\n",
    "    \n",
    "map_ricseq = pd.DataFrame.from_dict(map_ricseq, 'index').reset_index().rename({'index':'name_map', 0:'name_map_F'}, axis = 1)\n"
   ]
  },
  {
   "cell_type": "code",
   "execution_count": 121,
   "id": "d929eb8c-9152-4c0e-a02b-2e5515fe51ef",
   "metadata": {},
   "outputs": [],
   "source": [
    "#assert we dont have to change names of the dataframes, otherwise we have to modify the names, I didnt implement this case\n",
    "if ((map_ricseq.name_map == map_ricseq.name_map_F).all()) & ((map_splash.name_map == map_splash.name_map_F).all()):\n",
    "    pass\n",
    "else:\n",
    "    raise NotImplementedError"
   ]
  },
  {
   "cell_type": "code",
   "execution_count": 122,
   "id": "664581ad-18d0-4069-b43e-1bccceaaf0e8",
   "metadata": {},
   "outputs": [],
   "source": [
    "df_ricseq = df_full[df_full['model'].isin(set(map_ricseq['name_map']))][['model', 'ricseq_auc_ES']]\n",
    "df_ricseq_F = df_full_F[df_full_F['model'].isin(set(map_ricseq['name_map']))][['model', 'ricseq_auc_ES']]\n",
    "\n",
    "df_splash = df_full[df_full['model'].isin(set(map_splash['name_map']))][['model', 'splash_auc_ES']]\n",
    "df_splash_F = df_full_F[df_full_F['model'].isin(set(map_splash['name_map']))][['model', 'splash_auc_ES']]"
   ]
  },
  {
   "cell_type": "code",
   "execution_count": 123,
   "id": "7b2b3247-41bd-474f-ae20-a1027abe2897",
   "metadata": {},
   "outputs": [],
   "source": [
    "df_ricseq = df_ricseq.merge(df_ricseq_F, on = 'model').drop('model', axis = 1).rename(\n",
    "    {'ricseq_auc_ES_x':'ricseq_auc_ES_Test', \n",
    "    'ricseq_auc_ES_y':'ricseq_auc_ES_Full'}, axis = 1)\n",
    "\n",
    "df_splash = df_splash.merge(df_splash_F, on = 'model').drop('model', axis = 1).rename(\n",
    "    {'splash_auc_ES_x':'splash_auc_ES_Test', \n",
    "    'splash_auc_ES_y':'splash_auc_ES_Full'}, axis = 1)"
   ]
  },
  {
   "cell_type": "code",
   "execution_count": 124,
   "id": "e14b46c4-420f-4580-a753-1d623b01e3dc",
   "metadata": {},
   "outputs": [
    {
     "name": "stdout",
     "output_type": "stream",
     "text": [
      "Correlation Matrix:\n",
      "                    ricseq_auc_ES_Test  ricseq_auc_ES_Full\n",
      "ricseq_auc_ES_Test            1.000000            0.986051\n",
      "ricseq_auc_ES_Full            0.986051            1.000000\n"
     ]
    },
    {
     "data": {
      "image/png": "[encoded data removed]",
      "text/plain": [
       "<Figure size 360x360 with 6 Axes>"
      ]
     },
     "metadata": {
      "needs_background": "light"
     },
     "output_type": "display_data"
    }
   ],
   "source": [
    "plot_correlation(df_ricseq)"
   ]
  },
  {
   "cell_type": "code",
   "execution_count": 125,
   "id": "45202c6b-81dd-4d93-ab8c-82599f00f5ae",
   "metadata": {},
   "outputs": [
    {
     "name": "stdout",
     "output_type": "stream",
     "text": [
      "Correlation Matrix:\n",
      "                    splash_auc_ES_Test  splash_auc_ES_Full\n",
      "splash_auc_ES_Test            1.000000            0.762477\n",
      "splash_auc_ES_Full            0.762477            1.000000\n"
     ]
    },
    {
     "data": {
      "image/png": "[encoded data removed]",
      "text/plain": [
       "<Figure size 360x360 with 6 Axes>"
      ]
     },
     "metadata": {
      "needs_background": "light"
     },
     "output_type": "display_data"
    }
   ],
   "source": [
    "plot_correlation(df_splash)"
   ]
  }
 ],
 "metadata": {
  "kernelspec": {
   "display_name": "Python 3 (ipykernel)",
   "language": "python",
   "name": "python3"
  },
  "language_info": {
   "codemirror_mode": {
    "name": "ipython",
    "version": 3
   },
   "file_extension": ".py",
   "mimetype": "text/x-python",
   "name": "python",
   "nbconvert_exporter": "python",
   "pygments_lexer": "ipython3",
   "version": "3.9.7"
  }
 },
 "nbformat": 4,
 "nbformat_minor": 5
}
