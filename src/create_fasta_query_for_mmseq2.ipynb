{
 "cells": [
  {
   "cell_type": "code",
   "execution_count": 1,
   "id": "b5504ead",
   "metadata": {},
   "outputs": [],
   "source": [
    "its_jupyter_notebook = True\n",
    "\n",
    "import sys\n",
    "import os\n",
    "import matplotlib.pyplot as plt\n",
    "import numpy as np\n",
    "import pandas as pd\n",
    "sys.path.insert(0, '..')\n",
    "import ast\n",
    "from tqdm.notebook import tqdm\n",
    "import seaborn as sns\n",
    "if its_jupyter_notebook:\n",
    "    sys.argv = [''] #Remove this if it's not a jupyter notebook!"
   ]
  },
  {
   "cell_type": "code",
   "execution_count": 2,
   "id": "908a8de1",
   "metadata": {},
   "outputs": [],
   "source": [
    "ROOT_DIR = os.path.dirname(os.path.abspath('.'))\n",
    "processed_files_dir = os.path.join(ROOT_DIR, 'dataset', 'processed_files')\n",
    "mmseq_dir = os.path.join(processed_files_dir, 'mmseq2')\n",
    "os.mkdir(mmseq_dir)"
   ]
  },
  {
   "cell_type": "code",
   "execution_count": 3,
   "id": "92575f33",
   "metadata": {},
   "outputs": [],
   "source": [
    "df_cdna = pd.read_csv(os.path.join(processed_files_dir, \"df_cdna.csv\"), sep = ',')\n",
    "df_genes = pd.read_csv(os.path.join(processed_files_dir, \"df_genes.csv\"), sep = ',')\n",
    "df = pd.read_csv(os.path.join(processed_files_dir, \"df_annotation_files_cleaned.csv\"), sep = ',')"
   ]
  },
  {
   "cell_type": "code",
   "execution_count": 4,
   "id": "44c1758d",
   "metadata": {},
   "outputs": [
    {
     "name": "stdout",
     "output_type": "stream",
     "text": [
      "2.0\n",
      "4.23308962378347\n"
     ]
    }
   ],
   "source": [
    "n_interactions = []\n",
    "for _, row in df_genes.iterrows():\n",
    "    gene = row.gene\n",
    "    list_of_coords = ast.literal_eval(row.interaction_coords)\n",
    "    n_int = len(list_of_coords) \n",
    "    n_interactions.append(n_int)\n",
    "print(np.median(n_interactions))\n",
    "print(np.mean(n_interactions))"
   ]
  },
  {
   "cell_type": "code",
   "execution_count": 5,
   "id": "f0affe11",
   "metadata": {},
   "outputs": [
    {
     "data": {
      "image/png": "[encoded data removed]",
      "text/plain": [
       "<Figure size 432x288 with 1 Axes>"
      ]
     },
     "metadata": {
      "needs_background": "light"
     },
     "output_type": "display_data"
    }
   ],
   "source": [
    "sns.kdeplot(n_interactions)\n",
    "plt.title(f'# interactions per gene')\n",
    "plt.show()"
   ]
  },
  {
   "cell_type": "code",
   "execution_count": 6,
   "id": "c9cf117f",
   "metadata": {},
   "outputs": [
    {
     "data": {
      "application/vnd.jupyter.widget-view+json": {
       "model_id": "03f6efc62712423caa9a547cc683ddf9",
       "version_major": 2,
       "version_minor": 0
      },
      "text/plain": [
       "  0%|          | 0/171281 [00:00<?, ?it/s]"
      ]
     },
     "metadata": {},
     "output_type": "display_data"
    }
   ],
   "source": [
    "slice_len = 200\n",
    "\n",
    "def obtain_cdna_slice(cdna, center_coord, seq_len = 200):\n",
    "    len_cdna = len(cdna)\n",
    "    x1 = max(center_coord-int(seq_len/2), 0)\n",
    "    x2 = min(center_coord+int(seq_len/2), len_cdna)\n",
    "    if x1 == 0:\n",
    "        len_slice = x2\n",
    "        scarto = seq_len-len_slice\n",
    "        x2 = min(x2 + scarto, len_cdna)\n",
    "    elif x2 == len_cdna:\n",
    "        len_slice = x2-x1\n",
    "        scarto = seq_len-len_slice\n",
    "        x1 = max(x1-scarto, 0)\n",
    "    return x1, x2\n",
    "\n",
    "output_file = os.path.join(mmseq_dir, 'fasta_mmseq2.txt')\n",
    "\n",
    "for _, row in tqdm(df.iterrows(), total=df.shape[0]):\n",
    "    couple = row.couples\n",
    "    gene1, gene2 = row.gene1, row.gene2\n",
    "    x1, y1, x2, y2 = row.x1, row.y1, row.x1+row.w, row.y1+row.h\n",
    "    cdna1 = df_cdna[df_cdna.gene_id == gene1].cdna.iloc[0]\n",
    "    cdna2 = df_cdna[df_cdna.gene_id == gene2].cdna.iloc[0]\n",
    "    \n",
    "    slice_x1, slice_x2 = obtain_cdna_slice(cdna1, center_coord = int(np.mean([x1, x2])), seq_len = slice_len)\n",
    "    slice_y1, slice_y2 = obtain_cdna_slice(cdna2, center_coord = int(np.mean([y1, y2])), seq_len = slice_len)\n",
    "    \n",
    "    seq1 = cdna1[slice_x1:slice_x2]\n",
    "    seq2 = cdna2[slice_y1:slice_y2]\n",
    "\n",
    "    fastafile = open(output_file, \"a\")\n",
    "    \n",
    "    list_seq = [seq1, seq2]\n",
    "    list_name = [couple + ' ' + gene1, couple + ' ' + gene2]\n",
    "    for i in range(len(list_seq)):\n",
    "        fastafile.write(\">\" + list_name[i] + \"\\n\" +list_seq[i] + \"\\n\")\n",
    "    fastafile.close()"
   ]
  }
 ],
 "metadata": {
  "kernelspec": {
   "display_name": "Python 3 (ipykernel)",
   "language": "python",
   "name": "python3"
  },
  "language_info": {
   "codemirror_mode": {
    "name": "ipython",
    "version": 3
   },
   "file_extension": ".py",
   "mimetype": "text/x-python",
   "name": "python",
   "nbconvert_exporter": "python",
   "pygments_lexer": "ipython3",
   "version": "3.9.7"
  }
 },
 "nbformat": 4,
 "nbformat_minor": 5
}
