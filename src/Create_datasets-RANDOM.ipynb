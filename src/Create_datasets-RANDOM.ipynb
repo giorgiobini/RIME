{
 "cells": [
  {
   "cell_type": "markdown",
   "id": "adae8967",
   "metadata": {
    "tags": []
   },
   "source": [
    "# Code"
   ]
  },
  {
   "cell_type": "code",
   "execution_count": 2,
   "id": "563c7461",
   "metadata": {},
   "outputs": [],
   "source": [
    "import pandas as pd\n",
    "import os\n",
    "import matplotlib.pyplot as plt\n",
    "import time\n",
    "import numpy as np\n",
    "import pickle\n",
    "import math\n",
    "import torch\n",
    "from tqdm.notebook import tqdm\n",
    "import seaborn as sns\n",
    "from torch.utils.data import DataLoader\n",
    "# if its_jupyter_notebook:\n",
    "#     sys.argv = [''] #Remove this if it's not a jupyter notebook!\n",
    "\n",
    "import sys\n",
    "sys.path.insert(0, '..')\n",
    "\n",
    "%load_ext autoreload\n",
    "%autoreload 2\n",
    "from dataset.data import (\n",
    "    RNADataset,\n",
    "    RNADatasetNT,\n",
    "    EasyPosAugment,\n",
    "    InteractionSelectionPolicy,\n",
    "    EasyNegAugment,\n",
    "    HardPosAugment,\n",
    "    HardNegAugment,\n",
    "    SmartNegAugment,\n",
    "    plot_sample,\n",
    "    #plot_sample2,\n",
    "    seed_everything,\n",
    ")\n",
    "from config import *"
   ]
  },
  {
   "cell_type": "code",
   "execution_count": 14,
   "id": "eeb11609",
   "metadata": {},
   "outputs": [],
   "source": [
    "df_genes = pd.read_csv(os.path.join(processed_files_dir, \"df_genes.csv\"))\n",
    "df = pd.read_csv(os.path.join(processed_files_dir, \"final_df_RANDOM.csv\"))"
   ]
  },
  {
   "cell_type": "code",
   "execution_count": 3,
   "id": "ae758f71",
   "metadata": {},
   "outputs": [
    {
     "name": "stdout",
     "output_type": "stream",
     "text": [
      "2 genes have N, so will be excluded\n"
     ]
    }
   ],
   "source": [
    "#the N in the cdna creates problem with the tokenizer\n",
    "df_genes['problematic_set'] = df_genes['cdna'].apply(lambda x: False if (set(x) - set({'A', 'C', 'G', 'T'}) == set()) else True)\n",
    "genesN = set(df_genes[df_genes.problematic_set].gene_id.values)\n",
    "print(f'{len(genesN)} genes have N, so will be excluded')\n",
    "df = df[~(df.gene1.isin(genesN))|(df.gene2.isin(genesN))].reset_index(drop = True)"
   ]
  },
  {
   "cell_type": "code",
   "execution_count": 4,
   "id": "ea7d5505",
   "metadata": {},
   "outputs": [],
   "source": [
    "with open(os.path.join(rna_rna_files_dir, 'RANDOM', f\"gene_pairs_training.txt\"), \"rb\") as fp:  # Unpickling\n",
    "    subset_train = pickle.load(fp)\n",
    "    subset_train = pd.Series(subset_train).str.split('_', expand = True)\n",
    "    genes_train = set(subset_train[0]).union(set(subset_train[1]))"
   ]
  },
  {
   "cell_type": "code",
   "execution_count": 5,
   "id": "fc7bdab5",
   "metadata": {},
   "outputs": [
    {
     "name": "stdout",
     "output_type": "stream",
     "text": [
      "MAX_RNA_SIZE is 5970\n",
      "limit of small rna is: 7000\n",
      "limit of medium rna is: 8500\n",
      "The amount of contact matrixes (in the entire dataset) that are small is 75.6% \n",
      "The amount of contact matrixes (in the entire dataset) that are medium is 22.7% \n",
      "The amount of contact matrixes (in the entire dataset) that are big is 1.7% \n"
     ]
    }
   ],
   "source": [
    "limit_small_rna = 7000\n",
    "limit_medium_rna = 8500\n",
    "\n",
    "print('MAX_RNA_SIZE is', MAX_RNA_SIZE)\n",
    "print('limit of small rna is:', limit_small_rna)\n",
    "print('limit of medium rna is:', limit_medium_rna)\n",
    "\n",
    "small1 = df[(df.length_2<=limit_small_rna)&(df.length_1<=limit_medium_rna)] #both small and one small the other medium\n",
    "small2 = df[(df.length_1<=limit_small_rna)&(df.length_2<=limit_medium_rna)] #both small and one small the other medium\n",
    "df_small = pd.concat([small1, small2], axis = 0).drop_duplicates().reset_index(drop = True) #one small the other medium\n",
    "\n",
    "df_big = df[(df.length_1>limit_medium_rna)&(df.length_2>limit_medium_rna)].reset_index(drop=True)\n",
    "\n",
    "df_medium = df[~df.couples.isin(set(df_small.couples).union(set(df_big.couples)))].reset_index(drop=True)\n",
    "assert (df_small.shape[0]+df_medium.shape[0]+df_big.shape[0]) == df.shape[0]\n",
    "set(df_small.couples).union(set(df_medium.couples)).union(set(df_big.couples)) == set(df.couples)\n",
    "perc_small = np.round(df_small.shape[0]/df.shape[0]*100, 1)\n",
    "perc_medium = np.round(df_medium.shape[0]/df.shape[0]*100, 1)\n",
    "perc_big = np.round(df_big.shape[0]/df.shape[0]*100, 1)\n",
    "print(f'The amount of contact matrixes (in the entire dataset) that are small is {perc_small}% ')\n",
    "print(f'The amount of contact matrixes (in the entire dataset) that are medium is {perc_medium}% ')\n",
    "print(f'The amount of contact matrixes (in the entire dataset) that are big is {perc_big}% ')"
   ]
  },
  {
   "cell_type": "code",
   "execution_count": 6,
   "id": "69d85537",
   "metadata": {},
   "outputs": [],
   "source": [
    "def create_sample_dict(id_couple, sample):\n",
    "    \"\"\"\n",
    "    x1, x2, y1, y2 is where is the interaction with respect to the actual coordinates (not the original coordinates)\n",
    "    length_1, length_2 is the length with respect to the actual length (not the original length)\n",
    "    \n",
    "    original_x1, original_x2, original_y1, original_y2 is where the rna interacts with respect to original coordinates \n",
    "    window_x1, window_x2, window_y1, window_y2 is where the rna was sampled with respect to original coordinates \n",
    "    original_length1, original_length2 is the original length\n",
    "    \"\"\"\n",
    "    d = {\n",
    "        'id_sample':id_couple,\n",
    "        'couples':sample.couple_id,\n",
    "        'gene1':sample.gene1,\n",
    "        'gene2':sample.gene2,\n",
    "        'interacting':sample.interacting,\n",
    "        'length_1':sample.bbox.x2-sample.bbox.x1,\n",
    "        'length_2':sample.bbox.y2-sample.bbox.y1,\n",
    "        'protein_coding_1':sample.gene1_info[\"protein_coding\"],\n",
    "        'protein_coding_2':sample.gene2_info[\"protein_coding\"],\n",
    "        'x1': sample.seed_interaction_bbox.x1 - sample.bbox.x1,\n",
    "        'x2': sample.seed_interaction_bbox.x2 - sample.bbox.x1,\n",
    "        'y1': sample.seed_interaction_bbox.y1 - sample.bbox.y1,\n",
    "        'y2': sample.seed_interaction_bbox.y2 - sample.bbox.y1,\n",
    "        'policy':sample.policy,\n",
    "        'cdna1':sample.gene1_info[\"cdna\"][sample.bbox.x1:sample.bbox.x2],\n",
    "        'cdna2':sample.gene2_info[\"cdna\"][sample.bbox.y1:sample.bbox.y2],\n",
    "        'original_x1':sample.seed_interaction_bbox.x1,\n",
    "        'original_x2':sample.seed_interaction_bbox.x2,\n",
    "        'original_y1':sample.seed_interaction_bbox.y1,\n",
    "        'original_y2':sample.seed_interaction_bbox.y2,\n",
    "        'window_x1':sample.bbox.x1,\n",
    "        'window_x2':sample.bbox.x2,\n",
    "        'window_y1':sample.bbox.y1,\n",
    "        'window_y2':sample.bbox.y2,\n",
    "        'original_length1':len(sample.gene1_info[\"cdna\"]),\n",
    "        'original_length2':len(sample.gene2_info[\"cdna\"]),\n",
    "        'id_gene1_sample':sample.gene1 + '_' + str(sample.bbox.x1) + '_' + str(sample.bbox.x2),\n",
    "        'id_gene2_sample':sample.gene2 + '_' + str(sample.bbox.y1) + '_' + str(sample.bbox.y2)\n",
    "    }\n",
    "    return d\n",
    "\n",
    "def get_dataset(ep_per_sample, sn_per_sample, en_persample, hn_per_sample, df_genes, df, subset_file, pos_width_multipliers, pos_height_multipliers, neg_width_windows, neg_height_windows):\n",
    "    assert np.round(sum(pos_width_multipliers.values()), 4) == np.round(sum(neg_width_windows.values()), 4) == 1\n",
    "    \n",
    "    pol = []\n",
    "    \n",
    "    if ep_per_sample>0:\n",
    "        pol.append(\n",
    "            EasyPosAugment(\n",
    "            per_sample=ep_per_sample,\n",
    "            interaction_selection=InteractionSelectionPolicy.LARGEST,\n",
    "            width_multipliers=pos_width_multipliers,\n",
    "            height_multipliers=pos_height_multipliers,\n",
    "            )\n",
    "        )\n",
    "        \n",
    "    if sn_per_sample>0:\n",
    "        pol.append(   \n",
    "            SmartNegAugment(\n",
    "                per_sample=sn_per_sample,\n",
    "                interaction_selection=InteractionSelectionPolicy.LARGEST,\n",
    "                width_multipliers=pos_width_multipliers,\n",
    "                height_multipliers=pos_height_multipliers,\n",
    "            )\n",
    "        )\n",
    "        \n",
    "    if en_persample>0:\n",
    "        pol.append( \n",
    "            EasyNegAugment(\n",
    "                per_sample=en_persample,\n",
    "                width_windows=neg_width_windows,\n",
    "                height_windows=neg_height_windows,\n",
    "            )\n",
    "        )\n",
    "        \n",
    "    if hn_per_sample>0:\n",
    "        pol.append(\n",
    "            HardNegAugment(\n",
    "                per_sample=hn_per_sample,\n",
    "                width_windows=neg_width_windows,\n",
    "                height_windows=neg_height_windows,\n",
    "            )\n",
    "        )\n",
    "        \n",
    "    dataset = RNADataset(\n",
    "            gene2info=df_genes,\n",
    "            interactions=df,\n",
    "            subset_file=subset_file,\n",
    "            augment_policies=pol,\n",
    "    )\n",
    "    return dataset "
   ]
  },
  {
   "cell_type": "code",
   "execution_count": 7,
   "id": "5779cc9e",
   "metadata": {},
   "outputs": [],
   "source": [
    "pos_width_multipliers = {1_000_000: 1.}\n",
    "pos_height_multipliers = pos_width_multipliers\n",
    "neg_width_windows = {(MAX_RNA_SIZE-1, MAX_RNA_SIZE): float(1),}\n",
    "neg_height_windows = neg_width_windows"
   ]
  },
  {
   "cell_type": "code",
   "execution_count": 8,
   "id": "ea9b9784",
   "metadata": {},
   "outputs": [],
   "source": [
    "#small policies\n",
    "ep_per_sample_small=1\n",
    "sn_per_sample_small=1\n",
    "en_per_sample_small=0\n",
    "hn_per_sample_small=0\n",
    "\n",
    "#medium policies\n",
    "ep_per_sample_medium=2\n",
    "sn_per_sample_medium=2\n",
    "en_per_sample_medium=0\n",
    "hn_per_sample_medium=0\n",
    "\n",
    "\n",
    "#big policies\n",
    "ep_per_sample_big=3\n",
    "sn_per_sample_big=3\n",
    "en_per_sample_big=0\n",
    "hn_per_sample_big=0"
   ]
  },
  {
   "cell_type": "code",
   "execution_count": 9,
   "id": "72afaf90",
   "metadata": {},
   "outputs": [
    {
     "name": "stdout",
     "output_type": "stream",
     "text": [
      "expected smartneg are the 100.0% of negative pairs\n",
      "expected easyneg are the 0.0% of negative pairs\n",
      "expected hardneg are the 0.0% of negative pairs\n",
      "expected unbalanced factor is 39.78%\n"
     ]
    }
   ],
   "source": [
    "tot_ep = ep_per_sample_small*perc_small + ep_per_sample_medium*perc_medium + ep_per_sample_big*perc_big\n",
    "tot_sn = sn_per_sample_small*perc_small + sn_per_sample_medium*perc_medium + sn_per_sample_big*perc_big\n",
    "tot_en = en_per_sample_small*perc_small + en_per_sample_medium*perc_medium + en_per_sample_big*perc_big\n",
    "tot_hn = hn_per_sample_small*perc_small + hn_per_sample_medium*perc_medium + hn_per_sample_big*perc_big\n",
    "\n",
    "tot_neg = tot_sn + tot_en + tot_hn\n",
    "print(f'expected smartneg are the {np.round( tot_sn/tot_neg *100, 2)}% of negative pairs')\n",
    "print(f'expected easyneg are the {np.round( tot_en/tot_neg *100, 2)}% of negative pairs')\n",
    "print(f'expected hardneg are the {np.round( tot_hn/tot_neg *100, 2)}% of negative pairs')\n",
    "\n",
    "unbalanced_factor = df[df.interacting == False].shape[0]/df.shape[0]\n",
    "expected_uf = tot_ep*unbalanced_factor / ((tot_ep*unbalanced_factor) + tot_neg)\n",
    "print(f'expected unbalanced factor is {np.round(expected_uf*100, 2)}%')"
   ]
  },
  {
   "cell_type": "markdown",
   "id": "0507c53d",
   "metadata": {
    "tags": []
   },
   "source": [
    "# Data loader train"
   ]
  },
  {
   "cell_type": "code",
   "execution_count": 10,
   "id": "2f3863a6",
   "metadata": {},
   "outputs": [],
   "source": [
    "set_data = 'training' \n",
    "assert set_data in ['training', 'val', 'test']\n",
    "subset_file = os.path.join(rna_rna_files_dir, 'RANDOM', f\"gene_pairs_training.txt\")\n",
    "\n",
    "id_couple = 0\n",
    "meta = {}"
   ]
  },
  {
   "cell_type": "code",
   "execution_count": 11,
   "id": "a1c860a4-ae9f-4149-88ac-d2ad37ecad8c",
   "metadata": {},
   "outputs": [
    {
     "data": {
      "application/vnd.jupyter.widget-view+json": {
       "model_id": "40e8392ce9174416be618f14ccda703a",
       "version_major": 2,
       "version_minor": 0
      },
      "text/plain": [
       "  0%|          | 0/130444 [00:00<?, ?it/s]"
      ]
     },
     "metadata": {},
     "output_type": "display_data"
    },
    {
     "data": {
      "application/vnd.jupyter.widget-view+json": {
       "model_id": "368de796219248cbb39ea5129551311d",
       "version_major": 2,
       "version_minor": 0
      },
      "text/plain": [
       "  0%|          | 0/77692 [00:00<?, ?it/s]"
      ]
     },
     "metadata": {},
     "output_type": "display_data"
    },
    {
     "data": {
      "application/vnd.jupyter.widget-view+json": {
       "model_id": "71b87bfe023c41688dc2e7d0bb1b10fb",
       "version_major": 2,
       "version_minor": 0
      },
      "text/plain": [
       "  0%|          | 0/8586 [00:00<?, ?it/s]"
      ]
     },
     "metadata": {},
     "output_type": "display_data"
    },
    {
     "name": "stdout",
     "output_type": "stream",
     "text": [
      "Total time to create datasets: 0.40090844631195066 minutes\n"
     ]
    }
   ],
   "source": [
    "start_time = time.time()\n",
    "\n",
    "small = get_dataset(ep_per_sample=ep_per_sample_small, sn_per_sample=sn_per_sample_small, \n",
    "                    en_persample=en_per_sample_small, hn_per_sample=hn_per_sample_small, \n",
    "                    df_genes=df_genes, df=df_small, subset_file=subset_file, \n",
    "                    pos_width_multipliers=pos_width_multipliers, pos_height_multipliers=pos_height_multipliers, \n",
    "                    neg_width_windows=neg_width_windows, neg_height_windows=neg_height_windows)\n",
    "\n",
    "for i, sample in tqdm(enumerate(small), total = len(small)):\n",
    "    meta[id_couple] = create_sample_dict(id_couple, sample)\n",
    "    id_couple += 1\n",
    "    \n",
    "    \n",
    "medium = get_dataset(ep_per_sample=ep_per_sample_medium, sn_per_sample=sn_per_sample_medium,\n",
    "                     en_persample=en_per_sample_medium, hn_per_sample=hn_per_sample_medium, \n",
    "                     df_genes=df_genes, df=df_medium, subset_file=subset_file,\n",
    "                     pos_width_multipliers=pos_width_multipliers, pos_height_multipliers=pos_height_multipliers, \n",
    "                     neg_width_windows=neg_width_windows, neg_height_windows=neg_height_windows)\n",
    "\n",
    "for i, sample in tqdm(enumerate(medium), total = len(medium)):\n",
    "    meta[id_couple] = create_sample_dict(id_couple, sample)\n",
    "    id_couple += 1\n",
    "    \n",
    "    \n",
    "big = get_dataset(ep_per_sample=ep_per_sample_big, sn_per_sample=sn_per_sample_big, \n",
    "                  en_persample=en_per_sample_big, hn_per_sample=hn_per_sample_big, \n",
    "                  df_genes=df_genes, df=df_big, subset_file=subset_file, \n",
    "                  pos_width_multipliers=pos_width_multipliers, pos_height_multipliers=pos_height_multipliers, \n",
    "                  neg_width_windows=neg_width_windows, neg_height_windows=neg_height_windows)\n",
    "\n",
    "for i, sample in tqdm(enumerate(big), total = len(big)):\n",
    "    meta[id_couple] = create_sample_dict(id_couple, sample)\n",
    "    id_couple += 1\n",
    "    \n",
    "def df_meta_from_meta_dict(meta, do_controls = True):\n",
    "    df_meta = pd.DataFrame.from_dict(meta, 'index')\n",
    "    df_meta['lencdna1'] = df_meta.apply(lambda x: len(x.cdna1), axis = 1)\n",
    "    df_meta['lencdna2'] = df_meta.apply(lambda x: len(x.cdna2), axis = 1)\n",
    "    if do_controls:\n",
    "        assert (df_meta['lencdna1'] == df_meta['length_1']).all()\n",
    "        assert (df_meta['lencdna2'] == df_meta['length_2']).all()\n",
    "        assert ((df_meta.window_x2 - df_meta.window_x1)==(df_meta.lencdna1)).all()\n",
    "        assert ((df_meta.window_y2 - df_meta.window_y1)==(df_meta.lencdna2)).all()\n",
    "    df_meta = df_meta.drop(['lencdna1', 'lencdna2'], axis = 1)\n",
    "    if do_controls:\n",
    "        m = df_meta[df_meta.policy.isin({'smartneg', 'easypos'})]\n",
    "        assert (m.x1 >= 0).all()\n",
    "        assert (m.y1 >= 0).all()\n",
    "        assert (m.x2 <= m.length_1).all()\n",
    "        assert (m.y2 <= m.length_2).all()\n",
    "\n",
    "        assert df_meta[df_meta.length_1==df_meta.original_length1][['gene1', 'id_gene1_sample']].groupby('gene1').nunique().max().iloc[0] == 1\n",
    "        assert df_meta[df_meta.length_2==df_meta.original_length2][['gene2', 'id_gene2_sample']].groupby('gene2').nunique().max().iloc[0] == 1\n",
    "    return df_meta\n",
    "\n",
    "df_meta = df_meta_from_meta_dict(meta, do_controls = True)\n",
    "print(f\"Total time to create datasets: {(time.time()-start_time)/60} minutes\")"
   ]
  },
  {
   "cell_type": "code",
   "execution_count": 12,
   "id": "43fc2474",
   "metadata": {},
   "outputs": [
    {
     "name": "stdout",
     "output_type": "stream",
     "text": [
      "10354 18100\n",
      "0.5720441988950277\n",
      "easypos\n"
     ]
    },
    {
     "name": "stderr",
     "output_type": "stream",
     "text": [
      "/data01/giorgio/RNARNA-NT/src/../dataset/data.py:1324: UserWarning: color is redundantly defined by the 'color' keyword argument and the fmt string \"ro\" (-> color='r'). The keyword argument will take precedence.\n",
      "  ax.plot([0, width],[0, height], 'ro', color = 'white')\n"
     ]
    },
    {
     "data": {
      "image/png": "[encoded data removed]",
      "text/plain": [
       "<Figure size 288.31x504 with 1 Axes>"
      ]
     },
     "metadata": {
      "needs_background": "light"
     },
     "output_type": "display_data"
    }
   ],
   "source": [
    "plot_sample(sample, True)\n",
    "print(sample.policy)"
   ]
  },
  {
   "cell_type": "markdown",
   "id": "97c619e3",
   "metadata": {
    "tags": []
   },
   "source": [
    "### Controllo se alcuni geni hanno un arricchimento solo nei positivi o solo nei negativi."
   ]
  },
  {
   "cell_type": "code",
   "execution_count": 13,
   "id": "5b32f19d-c5ef-4af3-b52a-3ab3cab70d18",
   "metadata": {},
   "outputs": [],
   "source": [
    "def balance_df(df):\n",
    "    positives = df[df.interacting]\n",
    "    negatives = df[df.interacting == False]\n",
    "    if negatives.shape[0]>=positives.shape[0]:\n",
    "        negatives_to_sample = positives.shape[0]\n",
    "        df_sampled = pd.concat([positives, negatives.sample(negatives_to_sample)],axis = 0)\n",
    "    else:\n",
    "        positives_to_sample = negatives.shape[0]\n",
    "        df_sampled = pd.concat([negatives, positives.sample(positives_to_sample)],axis = 0)\n",
    "    return df_sampled.reset_index(drop = True)\n",
    "\n",
    "def obtain_pair_diff_distribution(sampled, gene_count_real):\n",
    "    sampled = sampled.merge(gene_count_real[['gene', 'diff']], left_on = 'gene1', right_on = 'gene').drop('gene', axis = 1).rename({'diff':'diff1'}, axis =1)\n",
    "    sampled = sampled.merge(gene_count_real[['gene', 'diff']], left_on = 'gene2', right_on = 'gene').drop('gene', axis = 1).rename({'diff':'diff2'}, axis =1)\n",
    "    sampled['diff'] = sampled['diff1'] + sampled['diff2']\n",
    "    return sampled\n",
    "\n",
    "def obtain_gene_count_real(df):\n",
    "    vc = df.interacting.value_counts()\n",
    "    if set(vc.index) == {False, True}:\n",
    "        unbalance_factor = vc[True]/vc[False]\n",
    "    else:\n",
    "        unbalance_factor = np.nan\n",
    "    gene_count_pos_list = list(df[df.interacting].gene1) + list(df[df.interacting].gene2)\n",
    "    gene_count_neg_list = list(df[df.interacting == False].gene1) + list(df[df.interacting == False].gene2)\n",
    "\n",
    "    gene_count_pos = pd.DataFrame({'gene': gene_count_pos_list, 'interacting':1})\n",
    "    gene_count_neg = pd.DataFrame({'gene': gene_count_neg_list, 'interacting':0})\n",
    "    gene_count_res = pd.concat([gene_count_pos, gene_count_neg], axis = 0)\n",
    "    \n",
    "    gene_count_res['weight'] = 1\n",
    "    gene_count_res.loc[ gene_count_res.interacting == 0, 'weight'] = unbalance_factor\n",
    "    gene_count_real = gene_count_res.groupby('gene').sum()\n",
    "    gene_count_real['not_interacting'] = gene_count_real['weight'] - gene_count_real['interacting']\n",
    "    gene_count_real['diff'] = gene_count_real['interacting'] - gene_count_real['not_interacting']\n",
    "    gene_count_real['total'] = gene_count_real['not_interacting'] + gene_count_real['interacting']\n",
    "    gene_count_real = gene_count_real.reset_index()#add gene column\n",
    "    return gene_count_real"
   ]
  },
  {
   "cell_type": "code",
   "execution_count": 14,
   "id": "ef4329dd-f656-420c-9b1c-8eae177e4219",
   "metadata": {},
   "outputs": [],
   "source": [
    "gene_count = obtain_gene_count_real(df_meta)\n",
    "df_meta = obtain_pair_diff_distribution(df_meta, gene_count)"
   ]
  },
  {
   "cell_type": "code",
   "execution_count": 15,
   "id": "ba2d6c18-654a-41a7-8a24-7cfd3be9195d",
   "metadata": {},
   "outputs": [
    {
     "name": "stdout",
     "output_type": "stream",
     "text": [
      "216722\n"
     ]
    }
   ],
   "source": [
    "print(df_meta.shape[0])"
   ]
  },
  {
   "cell_type": "markdown",
   "id": "196bdfeb-dcfc-4353-a2d4-1742deee7e5a",
   "metadata": {},
   "source": [
    "#### Simulate"
   ]
  },
  {
   "cell_type": "code",
   "execution_count": 16,
   "id": "50f761ae-da08-4316-b00c-634450773610",
   "metadata": {},
   "outputs": [
    {
     "data": {
      "application/vnd.jupyter.widget-view+json": {
       "model_id": "836abaef089a47528ff7ce85f566ab9c",
       "version_major": 2,
       "version_minor": 0
      },
      "text/plain": [
       "  0%|          | 0/30 [00:00<?, ?it/s]"
      ]
     },
     "metadata": {},
     "output_type": "display_data"
    },
    {
     "data": {
      "image/png": "[encoded data removed]",
      "text/plain": [
       "<Figure size 432x288 with 1 Axes>"
      ]
     },
     "metadata": {
      "needs_background": "light"
     },
     "output_type": "display_data"
    }
   ],
   "source": [
    "n_epochs = 30\n",
    "couples = []\n",
    "interactings = []\n",
    "for i in tqdm(range(n_epochs)):\n",
    "    train_sampled = balance_df(df_meta.copy().drop(['diff1', 'diff2', 'diff'], axis = 1))\n",
    "    couples += list(train_sampled.couples)\n",
    "    interactings += list(train_sampled.interacting)\n",
    "\n",
    "res = pd.DataFrame({'couples':couples, 'interactings':interactings})\n",
    "new_cols = res.couples.str.extractall('(.*)_(.*)')\n",
    "res['gene1'] = new_cols.reset_index()[0]\n",
    "res['gene2'] = new_cols.reset_index()[1]\n",
    "\n",
    "gene_count_pos_list = list(res[res.interactings].gene1) + list(res[res.interactings].gene2)\n",
    "gene_count_neg_list = list(res[res.interactings == False].gene1) + list(res[res.interactings == False].gene2)\n",
    "gene_count_pos = pd.DataFrame({'gene': gene_count_pos_list, 'interacting':1})\n",
    "gene_count_neg = pd.DataFrame({'gene': gene_count_neg_list, 'interacting':0})\n",
    "gene_count_res = pd.concat([gene_count_pos, gene_count_neg], axis = 0)\n",
    "gene_count_res['n'] = 1\n",
    "gene_count_real = gene_count_res.groupby('gene').sum()\n",
    "gene_count_real['not_interacting'] = gene_count_real['n'] - gene_count_real['interacting']\n",
    "gene_count_real['diff'] = gene_count_real['interacting'] - gene_count_real['not_interacting']\n",
    "gene_count_real = gene_count_real.reset_index()\n",
    "\n",
    "res = obtain_pair_diff_distribution(res, gene_count_real)\n",
    "\n",
    "sns.kdeplot(res['diff']/n_epochs, color = 'red', label = 'empirical')\n",
    "plt.title(f'Gene1 Expected value to be an interactor + Gene2 Expected value be an interactor')\n",
    "plt.show()"
   ]
  },
  {
   "cell_type": "code",
   "execution_count": 17,
   "id": "4378cdb5-9dd7-4058-8c4f-a588f927d94d",
   "metadata": {},
   "outputs": [],
   "source": [
    "# n_epochs = 30\n",
    "\n",
    "# def update_df(updt_df, subsetted_sampled):\n",
    "#     subsetted_sampled = subsetted_sampled[['couples', 'diff1', 'diff2']].reset_index(drop = True)\n",
    "#     subsetted_sampled['diff'] = subsetted_sampled['diff1'] + subsetted_sampled['diff2'] \n",
    "#     gb1 = subsetted_sampled.groupby('couples').sum().reset_index() #this is to sum the effect of duplicated couples\n",
    "#     gb2 = subsetted_sampled.groupby('couples').count().reset_index()[['couples', 'diff']].rename({'diff':'n'}, axis = 1)\n",
    "#     subsetted_sampled = gb1.merge(gb2, on = 'couples')\n",
    "#     merged_df = updt_df.merge(subsetted_sampled[['couples', 'diff', 'n']], on = 'couples', how='left').fillna(0)\n",
    "#     merged_df['diff'] = merged_df['diff_x'] + merged_df['diff_y']\n",
    "#     merged_df['n'] = merged_df['n_x'] + merged_df['n_y']\n",
    "#     return merged_df[['couples', 'diff', 'n']]\n",
    "\n",
    "# updt_df = pd.DataFrame(df_meta.couples).drop_duplicates().reset_index(drop=True)\n",
    "# updt_df['diff'] = 0\n",
    "# updt_df['n'] = 0\n",
    "\n",
    "# for i in tqdm(range(n_epochs)):\n",
    "#     train_sampled = balance_df(df_meta.copy().drop(['diff1', 'diff2', 'diff'], axis = 1))\n",
    "#     gene_count_real = obtain_gene_count_real(train_sampled)\n",
    "#     train_sampled = obtain_pair_diff_distribution(train_sampled, gene_count_real)\n",
    "#     updt_df = update_df(updt_df, train_sampled)\n",
    "\n",
    "# updt_df['n_per_epochs'] = updt_df['n']/n_epochs\n",
    "# updt_df['diff_weigthed'] = (updt_df['n_per_epochs'] * updt_df['diff'])/n_epochs\n",
    "    \n",
    "# sns.kdeplot(updt_df['diff_weigthed'], color = 'red', label = 'empirical')\n",
    "# sns.kdeplot(df_meta['diff'], color = 'blue', label = 'theorical')\n",
    "# plt.title(f'Gene1 Expected value to be an interactor + Gene2 Expected value be an interactor')\n",
    "# plt.legend()\n",
    "# plt.show()\n",
    "\n",
    "# sns.kdeplot(updt_df[(updt_df['diff'] > 1)]['diff_weigthed'], color = 'red', label = 'empirical')\n",
    "# sns.kdeplot(df_meta[df_meta['diff'] > 1]['diff'], color = 'blue', label = 'theorical')\n",
    "# plt.title(f'Gene1 Expected value to be an interactor + Gene2 Expected value be an interactor (zoom)')\n",
    "# plt.legend()\n",
    "# plt.show()\n",
    "\n",
    "# sns.kdeplot(updt_df[(updt_df['diff']<-1)]['diff_weigthed'], color = 'red', label = 'empirical')\n",
    "# sns.kdeplot(df_meta[df_meta['diff'] < - 1]['diff'], color = 'blue', label = 'theorical')\n",
    "# plt.title(f'Gene1 Expected value to be an interactor + Gene2 Expected value be an interactor (zoom)')\n",
    "# plt.legend()\n",
    "# plt.show()"
   ]
  },
  {
   "cell_type": "code",
   "execution_count": 18,
   "id": "5a82c1c6-de52-4aad-995a-fa69b4e4329b",
   "metadata": {},
   "outputs": [],
   "source": [
    "EXCLUDE_SMALL_RNA = False\n",
    "genes_to_exclude = []#list(gene_count[(gene_count['diff'] <- 30)|(gene_count['diff'] > 30)].gene) #I don't want to oversample pairs where these gene are present, since I cannot adjust them."
   ]
  },
  {
   "cell_type": "code",
   "execution_count": 19,
   "id": "34e0240a-1eef-40d2-bfa9-2dbd6bf0cd26",
   "metadata": {},
   "outputs": [],
   "source": [
    "they_need_smartneg = df_meta[(df_meta['diff1']>0.7) & (df_meta['diff2']>0.7)]\n",
    "they_need_smartneg = they_need_smartneg[~(\n",
    "    (they_need_smartneg['gene1'].isin(genes_to_exclude))|(they_need_smartneg['gene2'].isin(genes_to_exclude)) \n",
    ")]\n",
    "they_need_easypos = df_meta[(df_meta['diff1']<-0.7) & (df_meta['diff2']<-0.7)]\n",
    "they_need_easypos = they_need_easypos[~(\n",
    "    (they_need_easypos['gene1'].isin(genes_to_exclude))|(they_need_easypos['gene2'].isin(genes_to_exclude)) \n",
    ")]\n",
    "\n",
    "if EXCLUDE_SMALL_RNA:\n",
    "    #filter out small rna, where I don't want to sample more\n",
    "    they_need_smartneg = they_need_smartneg[~(\n",
    "        (they_need_smartneg.original_length2<=limit_small_rna)&(they_need_smartneg.original_length1<=limit_medium_rna)\n",
    "    )]\n",
    "    they_need_smartneg = they_need_smartneg[~(\n",
    "        (they_need_smartneg.original_length1<=limit_small_rna)&(they_need_smartneg.original_length2<=limit_medium_rna)\n",
    "    )]\n",
    "\n",
    "\n",
    "    they_need_easypos = they_need_easypos[~(\n",
    "        (they_need_easypos.original_length2<=limit_small_rna)&(they_need_easypos.original_length1<=limit_medium_rna)\n",
    "    )]\n",
    "    they_need_easypos = they_need_easypos[~(\n",
    "        (they_need_easypos.original_length1<=limit_small_rna)&(they_need_easypos.original_length2<=limit_medium_rna)\n",
    "    )]\n",
    "\n",
    "#filter out easypos if the need smartneg and viceversa\n",
    "\n",
    "they_need_smartneg = they_need_smartneg[(they_need_smartneg.policy == 'smartneg')]\n",
    "they_need_easypos = they_need_easypos[(they_need_easypos.policy == 'easypos')]\n",
    "\n",
    "if they_need_smartneg.shape[0] > 0:\n",
    "    they_need_smartneg['min_diff'] = they_need_smartneg.apply(lambda x: min(x.diff1, x.diff2), axis = 1 )\n",
    "if they_need_easypos.shape[0] > 0:\n",
    "    they_need_easypos['max_diff'] = they_need_easypos.apply(lambda x: max(x.diff1, x.diff2), axis = 1 )"
   ]
  },
  {
   "cell_type": "code",
   "execution_count": 23,
   "id": "f560db41-5036-43d4-bdb9-91b8bac582fc",
   "metadata": {},
   "outputs": [],
   "source": [
    "# create smartnegs\n",
    "\n",
    "start_time = time.time()\n",
    "\n",
    "value = they_need_smartneg['min_diff'].max()\n",
    "\n",
    "while they_need_smartneg.shape[0] > 0:\n",
    "    new_query = df[df.couples.isin(list(they_need_smartneg['couples']))].sample(frac = 1).drop_duplicates(subset=['couples'])\n",
    "\n",
    "    data = get_dataset(ep_per_sample=0, sn_per_sample=1, \n",
    "                  en_persample=0, hn_per_sample=0, \n",
    "                  df_genes=df_genes, df=new_query, subset_file=subset_file, \n",
    "                  pos_width_multipliers=pos_width_multipliers, pos_height_multipliers=pos_height_multipliers, \n",
    "                  neg_width_windows=neg_width_windows, neg_height_windows=neg_height_windows)\n",
    "\n",
    "    for i, sample in enumerate(data):\n",
    "        meta[id_couple] = create_sample_dict(id_couple, sample)\n",
    "        id_couple += 1\n",
    "\n",
    "    df_meta = df_meta_from_meta_dict(meta, do_controls = False)\n",
    "\n",
    "    gene_count = obtain_gene_count_real(df_meta)\n",
    "    df_meta = obtain_pair_diff_distribution(df_meta, gene_count)\n",
    "\n",
    "    they_need_smartneg = df_meta[(df_meta['diff1']>0.7) & (df_meta['diff2']>0.7)]\n",
    "    they_need_smartneg = they_need_smartneg[~(\n",
    "        (they_need_smartneg['gene1'].isin(genes_to_exclude))|(they_need_smartneg['gene2'].isin(genes_to_exclude)) \n",
    "    )]\n",
    "\n",
    "    if EXCLUDE_SMALL_RNA:\n",
    "        #filter out small rna, where I don't want to sample more\n",
    "        they_need_smartneg = they_need_smartneg[~(\n",
    "            (they_need_smartneg.original_length2<=limit_small_rna)&(they_need_smartneg.original_length1<=limit_medium_rna)\n",
    "        )]\n",
    "        they_need_smartneg = they_need_smartneg[~(\n",
    "            (they_need_smartneg.original_length1<=limit_small_rna)&(they_need_smartneg.original_length2<=limit_medium_rna)\n",
    "        )]\n",
    "\n",
    "    they_need_smartneg = they_need_smartneg[(they_need_smartneg.policy == 'smartneg')]\n",
    "    if they_need_smartneg.shape[0] > 0:\n",
    "        they_need_smartneg['min_diff'] = they_need_smartneg.apply(lambda x: min(x.diff1, x.diff2), axis = 1 )\n",
    "        value = they_need_smartneg['min_diff'].max()\n",
    "        print('value:', value)\n",
    "\n",
    "print(f\"Total time to adjust datasets: {(time.time()-start_time)/60} minutes\")"
   ]
  },
  {
   "cell_type": "code",
   "execution_count": 30,
   "id": "5b3984b7-afca-45d5-899d-f072d9250ab5",
   "metadata": {},
   "outputs": [
    {
     "name": "stdout",
     "output_type": "stream",
     "text": [
      "Total time to adjust datasets: 1.0303656260172526e-05 minutes\n"
     ]
    }
   ],
   "source": [
    "# create easypos\n",
    "\n",
    "start_time = time.time()\n",
    "\n",
    "value = they_need_easypos['max_diff'].min()\n",
    "\n",
    "while they_need_easypos.shape[0] > 0:\n",
    "    \n",
    "    new_query = df[df.couples.isin(list(they_need_easypos['couples']))].sample(frac = 1).drop_duplicates(subset=['couples'])\n",
    "\n",
    "    data = get_dataset(ep_per_sample=1, sn_per_sample=0, \n",
    "                  en_persample=0, hn_per_sample=0, \n",
    "                  df_genes=df_genes, df=new_query, subset_file=subset_file, \n",
    "                  pos_width_multipliers=pos_width_multipliers, pos_height_multipliers=pos_height_multipliers, \n",
    "                  neg_width_windows=neg_width_windows, neg_height_windows=neg_height_windows)\n",
    "\n",
    "    for i, sample in enumerate(data):\n",
    "        meta[id_couple] = create_sample_dict(id_couple, sample)\n",
    "        id_couple += 1\n",
    "\n",
    "    df_meta = df_meta_from_meta_dict(meta, do_controls = False)\n",
    "\n",
    "    gene_count = obtain_gene_count_real(df_meta)\n",
    "    df_meta = obtain_pair_diff_distribution(df_meta, gene_count)\n",
    "\n",
    "    they_need_easypos = df_meta[(df_meta['diff1']<-0.7) & (df_meta['diff2']<-0.7)]\n",
    "    they_need_easypos = they_need_easypos[~(\n",
    "        (they_need_easypos['gene1'].isin(genes_to_exclude))|(they_need_easypos['gene2'].isin(genes_to_exclude)) \n",
    "    )]\n",
    "\n",
    "    #filter out small rna, where I don't want to sample more\n",
    "    if EXCLUDE_SMALL_RNA:\n",
    "        they_need_easypos = they_need_easypos[~(\n",
    "            (they_need_easypos.original_length2<=limit_small_rna)&(they_need_easypos.original_length1<=limit_medium_rna)\n",
    "        )]\n",
    "        they_need_easypos = they_need_easypos[~(\n",
    "            (they_need_easypos.original_length1<=limit_small_rna)&(they_need_easypos.original_length2<=limit_medium_rna)\n",
    "        )]\n",
    "\n",
    "    they_need_easypos = they_need_easypos[(they_need_easypos.policy == 'easypos')]\n",
    "    \n",
    "    if they_need_easypos.shape[0] > 0:\n",
    "        they_need_easypos['max_diff'] = they_need_easypos.apply(lambda x: max(x.diff1, x.diff2), axis = 1 )\n",
    "        value = they_need_easypos['max_diff'].min()\n",
    "        print('value:', value)\n",
    "\n",
    "print(f\"Total time to adjust datasets: {(time.time()-start_time)/60} minutes\")"
   ]
  },
  {
   "cell_type": "code",
   "execution_count": 31,
   "id": "3a0c8ebf-8f89-4f20-a625-5e2981d0a94c",
   "metadata": {},
   "outputs": [
    {
     "name": "stdout",
     "output_type": "stream",
     "text": [
      "# of total sample 250833\n",
      "# of duplicates that help degree balance 14151\n"
     ]
    }
   ],
   "source": [
    "print('# of total sample', df_meta.shape[0])\n",
    "print('# of duplicates that help degree balance', df_meta[\n",
    "    df_meta.apply(lambda x: ''.join(sorted([x.id_gene1_sample, x.id_gene2_sample])), axis = 1).duplicated()\n",
    "].shape[0])"
   ]
  },
  {
   "cell_type": "markdown",
   "id": "75acbdc5-2faf-45b3-a559-ced59a83b59d",
   "metadata": {},
   "source": [
    "#### Simulate "
   ]
  },
  {
   "cell_type": "code",
   "execution_count": 32,
   "id": "eddef478-69a3-4a19-b9de-1fc000a687da",
   "metadata": {},
   "outputs": [
    {
     "data": {
      "application/vnd.jupyter.widget-view+json": {
       "model_id": "9e06b8454b7443a59c1c0818c94ca766",
       "version_major": 2,
       "version_minor": 0
      },
      "text/plain": [
       "  0%|          | 0/30 [00:00<?, ?it/s]"
      ]
     },
     "metadata": {},
     "output_type": "display_data"
    },
    {
     "data": {
      "image/png": "[encoded data removed]",
      "text/plain": [
       "<Figure size 432x288 with 1 Axes>"
      ]
     },
     "metadata": {
      "needs_background": "light"
     },
     "output_type": "display_data"
    }
   ],
   "source": [
    "couples = []\n",
    "interactings = []\n",
    "for i in tqdm(range(n_epochs)):\n",
    "    train_sampled = balance_df(df_meta.copy().drop(['diff1', 'diff2', 'diff'], axis = 1))\n",
    "    couples += list(train_sampled.couples)\n",
    "    interactings += list(train_sampled.interacting)\n",
    "\n",
    "res = pd.DataFrame({'couples':couples, 'interactings':interactings})\n",
    "new_cols = res.couples.str.extractall('(.*)_(.*)')\n",
    "res['gene1'] = new_cols.reset_index()[0]\n",
    "res['gene2'] = new_cols.reset_index()[1]\n",
    "\n",
    "gene_count_pos_list = list(res[res.interactings].gene1) + list(res[res.interactings].gene2)\n",
    "gene_count_neg_list = list(res[res.interactings == False].gene1) + list(res[res.interactings == False].gene2)\n",
    "gene_count_pos = pd.DataFrame({'gene': gene_count_pos_list, 'interacting':1})\n",
    "gene_count_neg = pd.DataFrame({'gene': gene_count_neg_list, 'interacting':0})\n",
    "gene_count_res = pd.concat([gene_count_pos, gene_count_neg], axis = 0)\n",
    "gene_count_res['n'] = 1\n",
    "gene_count_real = gene_count_res.groupby('gene').sum()\n",
    "gene_count_real['not_interacting'] = gene_count_real['n'] - gene_count_real['interacting']\n",
    "gene_count_real['diff'] = gene_count_real['interacting'] - gene_count_real['not_interacting']\n",
    "gene_count_real = gene_count_real.reset_index()\n",
    "\n",
    "res = obtain_pair_diff_distribution(res, gene_count_real)\n",
    "\n",
    "sns.kdeplot(res['diff']/n_epochs, color = 'red', label = 'empirical')\n",
    "plt.title(f'Gene1 Expected value to be an interactor + Gene2 Expected value be an interactor')\n",
    "plt.show()"
   ]
  },
  {
   "cell_type": "markdown",
   "id": "93e972a8-7575-47b4-8ff9-d00b6dc3c018",
   "metadata": {},
   "source": [
    "#### Hardneg, Easyneg for training"
   ]
  },
  {
   "cell_type": "code",
   "execution_count": 33,
   "id": "3c8401a6-58aa-4521-b85f-1ffe69aaf062",
   "metadata": {},
   "outputs": [],
   "source": [
    "#small policies\n",
    "ep_per_sample_small=0\n",
    "sn_per_sample_small=0\n",
    "en_per_sample_small=0\n",
    "hn_per_sample_small=0\n",
    "\n",
    "#medium policies\n",
    "ep_per_sample_medium=0\n",
    "sn_per_sample_medium=0\n",
    "en_per_sample_medium=0.5\n",
    "hn_per_sample_medium=0.5\n",
    "\n",
    "\n",
    "#big policies\n",
    "ep_per_sample_big=0\n",
    "sn_per_sample_big=0\n",
    "en_per_sample_big=1\n",
    "hn_per_sample_big=1"
   ]
  },
  {
   "cell_type": "code",
   "execution_count": 34,
   "id": "b55af621-0500-4a98-bbb4-e845bc6ebf08",
   "metadata": {},
   "outputs": [
    {
     "data": {
      "application/vnd.jupyter.widget-view+json": {
       "model_id": "0319a211638447d5a0f5b273ccf43a0e",
       "version_major": 2,
       "version_minor": 0
      },
      "text/plain": [
       "0it [00:00, ?it/s]"
      ]
     },
     "metadata": {},
     "output_type": "display_data"
    },
    {
     "data": {
      "application/vnd.jupyter.widget-view+json": {
       "model_id": "fbd8341b66a74a4b917f5fbd4a13dc22",
       "version_major": 2,
       "version_minor": 0
      },
      "text/plain": [
       "  0%|          | 0/19416 [00:00<?, ?it/s]"
      ]
     },
     "metadata": {},
     "output_type": "display_data"
    },
    {
     "data": {
      "application/vnd.jupyter.widget-view+json": {
       "model_id": "0a4139ea5cc448cfa8abd18439a696fc",
       "version_major": 2,
       "version_minor": 0
      },
      "text/plain": [
       "  0%|          | 0/2862 [00:00<?, ?it/s]"
      ]
     },
     "metadata": {},
     "output_type": "display_data"
    },
    {
     "name": "stdout",
     "output_type": "stream",
     "text": [
      "Total time to create easyneg, hardneg: 7.808506759007772 minutes\n"
     ]
    }
   ],
   "source": [
    "start_time = time.time()\n",
    "\n",
    "small = get_dataset(ep_per_sample=ep_per_sample_small, sn_per_sample=sn_per_sample_small, \n",
    "                    en_persample=en_per_sample_small, hn_per_sample=hn_per_sample_small, \n",
    "                    df_genes=df_genes, df=df_small, subset_file=subset_file, \n",
    "                    pos_width_multipliers=pos_width_multipliers, pos_height_multipliers=pos_height_multipliers, \n",
    "                    neg_width_windows=neg_width_windows, neg_height_windows=neg_height_windows)\n",
    "\n",
    "for i, sample in tqdm(enumerate(small), total = len(small)):\n",
    "    meta[id_couple] = create_sample_dict(id_couple, sample)\n",
    "    id_couple += 1\n",
    "    \n",
    "    \n",
    "medium = get_dataset(ep_per_sample=ep_per_sample_medium, sn_per_sample=sn_per_sample_medium,\n",
    "                     en_persample=en_per_sample_medium, hn_per_sample=hn_per_sample_medium, \n",
    "                     df_genes=df_genes, df=df_medium, subset_file=subset_file,\n",
    "                     pos_width_multipliers=pos_width_multipliers, pos_height_multipliers=pos_height_multipliers, \n",
    "                     neg_width_windows=neg_width_windows, neg_height_windows=neg_height_windows)\n",
    "\n",
    "for i, sample in tqdm(enumerate(medium), total = len(medium)):\n",
    "    meta[id_couple] = create_sample_dict(id_couple, sample)\n",
    "    id_couple += 1\n",
    "    \n",
    "    \n",
    "big = get_dataset(ep_per_sample=ep_per_sample_big, sn_per_sample=sn_per_sample_big, \n",
    "                  en_persample=en_per_sample_big, hn_per_sample=hn_per_sample_big, \n",
    "                  df_genes=df_genes, df=df_big, subset_file=subset_file, \n",
    "                  pos_width_multipliers=pos_width_multipliers, pos_height_multipliers=pos_height_multipliers, \n",
    "                  neg_width_windows=neg_width_windows, neg_height_windows=neg_height_windows)\n",
    "\n",
    "for i, sample in tqdm(enumerate(big), total = len(big)):\n",
    "    meta[id_couple] = create_sample_dict(id_couple, sample)\n",
    "    id_couple += 1\n",
    "    \n",
    "print(f\"Total time to create easyneg, hardneg: {(time.time()-start_time)/60} minutes\")"
   ]
  },
  {
   "cell_type": "code",
   "execution_count": 35,
   "id": "33b56426-4343-47e6-9b6f-8addbffc0932",
   "metadata": {},
   "outputs": [],
   "source": [
    "df_meta = df_meta_from_meta_dict(meta, do_controls = False)"
   ]
  },
  {
   "cell_type": "code",
   "execution_count": 36,
   "id": "20913ff5-4d03-42ca-8b4a-eefabbbbb086",
   "metadata": {},
   "outputs": [
    {
     "name": "stdout",
     "output_type": "stream",
     "text": [
      "actual smartneg are the 88.5% of negative pairs\n",
      "actual easyneg are the 7.64% of negative pairs\n",
      "actual hardneg are the 3.86% of negative pairs\n",
      "actual unbalanced factor is 29.1%\n"
     ]
    }
   ],
   "source": [
    "tot_ep = (df_meta.policy == 'easypos').sum()\n",
    "tot_sn = (df_meta.policy == 'smartneg').sum()\n",
    "tot_en = (df_meta.policy == 'easyneg').sum()\n",
    "tot_hn = (df_meta.policy == 'hardneg').sum()\n",
    "tot_neg = (df_meta.interacting == False).sum()\n",
    "assert tot_ep == (df_meta.interacting == True).sum()\n",
    "assert tot_neg == tot_en+tot_sn+tot_hn\n",
    "print(f'actual smartneg are the {np.round( tot_sn/tot_neg *100, 2)}% of negative pairs')\n",
    "print(f'actual easyneg are the {np.round( tot_en/tot_neg *100, 2)}% of negative pairs')\n",
    "print(f'actual hardneg are the {np.round( tot_hn/tot_neg *100, 2)}% of negative pairs')\n",
    "\n",
    "print(f'actual unbalanced factor is {np.round( (tot_ep/(tot_ep+tot_neg))*100, 2)}%')"
   ]
  },
  {
   "cell_type": "code",
   "execution_count": 37,
   "id": "5976f6d9-58db-497b-86f0-7ae32a59b7b0",
   "metadata": {},
   "outputs": [],
   "source": [
    "assert (df_meta.id_gene1_sample.str.extract('(.*)_(.*)_(.*)')[0] == df_meta.gene1).all()\n",
    "assert (df_meta.id_gene2_sample.str.extract('(.*)_(.*)_(.*)')[0] == df_meta.gene2).all()"
   ]
  },
  {
   "cell_type": "code",
   "execution_count": 38,
   "id": "1aa7eae7",
   "metadata": {},
   "outputs": [],
   "source": [
    "df_meta.to_csv(os.path.join(metadata_dir, 'RANDOM', f'{set_data}.csv'), index = False)"
   ]
  },
  {
   "cell_type": "markdown",
   "id": "3711cb42",
   "metadata": {
    "tags": []
   },
   "source": [
    "# Data Loader val"
   ]
  },
  {
   "cell_type": "code",
   "execution_count": 81,
   "id": "a2c89bd0-a6cc-47d8-bd37-e1cb1ea1cb25",
   "metadata": {},
   "outputs": [],
   "source": [
    "#small policies\n",
    "ep_per_sample_small=1\n",
    "sn_per_sample_small=1\n",
    "en_per_sample_small=0\n",
    "hn_per_sample_small=0\n",
    "\n",
    "#medium policies\n",
    "ep_per_sample_medium=2\n",
    "sn_per_sample_medium=2\n",
    "en_per_sample_medium=0.2\n",
    "hn_per_sample_medium=0.3\n",
    "\n",
    "\n",
    "#big policies\n",
    "ep_per_sample_big=4\n",
    "sn_per_sample_big=4\n",
    "en_per_sample_big=0.5\n",
    "hn_per_sample_big=1"
   ]
  },
  {
   "cell_type": "code",
   "execution_count": 82,
   "id": "4b011077",
   "metadata": {},
   "outputs": [],
   "source": [
    "set_data = 'val' \n",
    "assert set_data in ['training', 'val', 'test']\n",
    "subset_file = os.path.join(rna_rna_files_dir, 'RANDOM', f\"gene_pairs_{set_data}.txt\")\n",
    "\n",
    "meta = {}"
   ]
  },
  {
   "cell_type": "code",
   "execution_count": 83,
   "id": "c9cea6a8",
   "metadata": {},
   "outputs": [
    {
     "data": {
      "application/vnd.jupyter.widget-view+json": {
       "model_id": "9208810f97e64543a9e91841d5bb0484",
       "version_major": 2,
       "version_minor": 0
      },
      "text/plain": [
       "  0%|          | 0/25032 [00:00<?, ?it/s]"
      ]
     },
     "metadata": {},
     "output_type": "display_data"
    },
    {
     "data": {
      "application/vnd.jupyter.widget-view+json": {
       "model_id": "17c4045f92504d5e87c2cdcf51ae2763",
       "version_major": 2,
       "version_minor": 0
      },
      "text/plain": [
       "  0%|          | 0/17091 [00:00<?, ?it/s]"
      ]
     },
     "metadata": {},
     "output_type": "display_data"
    },
    {
     "data": {
      "application/vnd.jupyter.widget-view+json": {
       "model_id": "026af6715be147ffb43418e428763584",
       "version_major": 2,
       "version_minor": 0
      },
      "text/plain": [
       "  0%|          | 0/2818 [00:00<?, ?it/s]"
      ]
     },
     "metadata": {},
     "output_type": "display_data"
    },
    {
     "name": "stdout",
     "output_type": "stream",
     "text": [
      "Total time to create datasets: 1.6190034707387289 minutes\n"
     ]
    }
   ],
   "source": [
    "start_time = time.time()\n",
    "\n",
    "small = get_dataset(ep_per_sample=ep_per_sample_small, sn_per_sample=sn_per_sample_small, \n",
    "                    en_persample=en_per_sample_small, hn_per_sample=hn_per_sample_small, \n",
    "                    df_genes=df_genes, df=df_small, subset_file=subset_file, \n",
    "                    pos_width_multipliers=pos_width_multipliers, pos_height_multipliers=pos_height_multipliers, \n",
    "                    neg_width_windows=neg_width_windows, neg_height_windows=neg_height_windows)\n",
    "\n",
    "for i, sample in tqdm(enumerate(small), total = len(small)):\n",
    "    meta[id_couple] = create_sample_dict(id_couple, sample)\n",
    "    id_couple += 1\n",
    "    \n",
    "    \n",
    "medium = get_dataset(ep_per_sample=ep_per_sample_medium, sn_per_sample=sn_per_sample_medium,\n",
    "                     en_persample=en_per_sample_medium, hn_per_sample=hn_per_sample_medium, \n",
    "                     df_genes=df_genes, df=df_medium, subset_file=subset_file,\n",
    "                     pos_width_multipliers=pos_width_multipliers, pos_height_multipliers=pos_height_multipliers, \n",
    "                     neg_width_windows=neg_width_windows, neg_height_windows=neg_height_windows)\n",
    "\n",
    "for i, sample in tqdm(enumerate(medium), total = len(medium)):\n",
    "    meta[id_couple] = create_sample_dict(id_couple, sample)\n",
    "    id_couple += 1\n",
    "    \n",
    "    \n",
    "big = get_dataset(ep_per_sample=ep_per_sample_big, sn_per_sample=sn_per_sample_big, \n",
    "                  en_persample=en_per_sample_big, hn_per_sample=hn_per_sample_big, \n",
    "                  df_genes=df_genes, df=df_big, subset_file=subset_file, \n",
    "                  pos_width_multipliers=pos_width_multipliers, pos_height_multipliers=pos_height_multipliers, \n",
    "                  neg_width_windows=neg_width_windows, neg_height_windows=neg_height_windows)\n",
    "\n",
    "for i, sample in tqdm(enumerate(big), total = len(big)):\n",
    "    meta[id_couple] = create_sample_dict(id_couple, sample)\n",
    "    id_couple += 1\n",
    "    \n",
    "df_meta = pd.DataFrame.from_dict(meta, 'index')\n",
    "df_meta['lencdna1'] = df_meta.apply(lambda x: len(x.cdna1), axis = 1)\n",
    "df_meta['lencdna2'] = df_meta.apply(lambda x: len(x.cdna2), axis = 1)\n",
    "assert (df_meta['lencdna1'] == df_meta['length_1']).all()\n",
    "assert (df_meta['lencdna2'] == df_meta['length_2']).all()\n",
    "assert ((df_meta.window_x2 - df_meta.window_x1)==(df_meta.lencdna1)).all()\n",
    "assert ((df_meta.window_y2 - df_meta.window_y1)==(df_meta.lencdna2)).all()\n",
    "df_meta = df_meta.drop(['lencdna1', 'lencdna2'], axis = 1)\n",
    "\n",
    "m = df_meta[df_meta.policy.isin({'smartneg', 'easypos'})]\n",
    "assert (m.x1 >= 0).all()\n",
    "assert (m.y1 >= 0).all()\n",
    "assert (m.x2 <= m.length_1).all()\n",
    "assert (m.y2 <= m.length_2).all()\n",
    "\n",
    "assert df_meta[df_meta.length_1==df_meta.original_length1][['gene1', 'id_gene1_sample']].groupby('gene1').nunique().max().iloc[0] == 1\n",
    "assert df_meta[df_meta.length_2==df_meta.original_length2][['gene2', 'id_gene2_sample']].groupby('gene2').nunique().max().iloc[0] == 1\n",
    "\n",
    "print(f\"Total time to create datasets: {(time.time()-start_time)/60} minutes\")"
   ]
  },
  {
   "cell_type": "code",
   "execution_count": 84,
   "id": "85f4165b-3c96-4900-81b7-369ea1f72c5a",
   "metadata": {},
   "outputs": [],
   "source": [
    "df_meta.to_csv(os.path.join(metadata_dir, 'RANDOM', f'{set_data}.csv'), index = False)"
   ]
  },
  {
   "cell_type": "code",
   "execution_count": 85,
   "id": "87b834fc-496b-4b66-a35e-b84464b32def",
   "metadata": {},
   "outputs": [
    {
     "data": {
      "text/plain": [
       "False    30568\n",
       "True     14373\n",
       "Name: interacting, dtype: int64"
      ]
     },
     "execution_count": 85,
     "metadata": {},
     "output_type": "execute_result"
    }
   ],
   "source": [
    "df_meta.interacting.value_counts()"
   ]
  },
  {
   "cell_type": "markdown",
   "id": "effaefa5",
   "metadata": {},
   "source": [
    "I have to undersample df_meta because I want a balanced validation set. I will exclude easyneg, hardneg and smartneg where both genes are in the training set."
   ]
  },
  {
   "cell_type": "code",
   "execution_count": 87,
   "id": "97a8667c",
   "metadata": {},
   "outputs": [],
   "source": [
    "#undersample df_meta\n",
    "\n",
    "subset_file = os.path.join(rna_rna_files_dir, 'RANDOM', f\"gene_pairs_{set_data}_HQ.txt\")\n",
    "with open(subset_file, \"rb\") as fp:  # Unpickling\n",
    "    subset_val_HQ = pickle.load(fp)\n",
    "    \n",
    "df_meta = df_meta[df_meta.couples.isin(subset_val_HQ)]\n",
    "\n",
    "df_meta = df_meta[df_meta.policy.isin(['smartneg','easypos'])]\n",
    "df_not_in_train = df_meta[~( (df_meta.gene1.isin(genes_train))|(df_meta.gene2.isin(genes_train)) )]\n",
    "\n",
    "if df_meta.interacting.value_counts()[False] >= df_meta.interacting.value_counts()[True]:\n",
    "    n_to_exclude = df_meta.interacting.value_counts()[False] - df_meta.interacting.value_counts()[True]\n",
    "    df_to_sample = df_meta[(df_meta.gene1.isin(genes_train))&(df_meta.gene2.isin(genes_train))&(df_meta.interacting == False)]\n",
    "else:\n",
    "    n_to_exclude = df_meta.interacting.value_counts()[True] - df_meta.interacting.value_counts()[False]\n",
    "    df_to_sample = df_meta[(df_meta.gene1.isin(genes_train))&(df_meta.gene2.isin(genes_train))&(df_meta.interacting == True)]\n",
    "    \n",
    "ids_to_eclude = set(df_to_sample.sample(frac = 1).head(n_to_exclude).id_sample)\n",
    "assert set(ids_to_eclude).intersection(set(df_not_in_train.id_sample)) == set()\n",
    "df_meta = df_meta[~df_meta.id_sample.isin(ids_to_eclude)]\n",
    "assert np.isclose(1, df_meta.interacting.value_counts()[True]/df_meta.interacting.value_counts()[False])\n",
    "df_meta = df_meta.reset_index(drop = True)\n",
    "\n",
    "df_meta.to_csv(os.path.join(metadata_dir, 'RANDOM', f'{set_data}_sampled.csv'), index = False)"
   ]
  },
  {
   "cell_type": "code",
   "execution_count": 88,
   "id": "98e11e5c-bbf2-4088-9b90-5a465b696637",
   "metadata": {},
   "outputs": [
    {
     "data": {
      "text/plain": [
       "False    2705\n",
       "True     2705\n",
       "Name: interacting, dtype: int64"
      ]
     },
     "execution_count": 88,
     "metadata": {},
     "output_type": "execute_result"
    }
   ],
   "source": [
    "df_meta.interacting.value_counts()"
   ]
  },
  {
   "cell_type": "markdown",
   "id": "83fa3a7c",
   "metadata": {
    "tags": []
   },
   "source": [
    "# Data Loader test "
   ]
  },
  {
   "cell_type": "code",
   "execution_count": 89,
   "id": "12a2e9ea",
   "metadata": {},
   "outputs": [],
   "source": [
    "set_data = 'test' \n",
    "assert set_data in ['training', 'val', 'test']\n",
    "subset_file = os.path.join(rna_rna_files_dir, 'RANDOM', f\"gene_pairs_{set_data}.txt\")\n",
    "\n",
    "meta = {}"
   ]
  },
  {
   "cell_type": "code",
   "execution_count": 90,
   "id": "e147d911-38c8-4fd0-8565-3cd6f26ef122",
   "metadata": {},
   "outputs": [
    {
     "data": {
      "application/vnd.jupyter.widget-view+json": {
       "model_id": "d773abfb2f254285917a2b03abb4d43f",
       "version_major": 2,
       "version_minor": 0
      },
      "text/plain": [
       "  0%|          | 0/25715 [00:00<?, ?it/s]"
      ]
     },
     "metadata": {},
     "output_type": "display_data"
    },
    {
     "data": {
      "application/vnd.jupyter.widget-view+json": {
       "model_id": "4d4e76646963456abb600150574d0f7e",
       "version_major": 2,
       "version_minor": 0
      },
      "text/plain": [
       "  0%|          | 0/17775 [00:00<?, ?it/s]"
      ]
     },
     "metadata": {},
     "output_type": "display_data"
    },
    {
     "data": {
      "application/vnd.jupyter.widget-view+json": {
       "model_id": "19a15278c7ee4b619d50d1f542706e8a",
       "version_major": 2,
       "version_minor": 0
      },
      "text/plain": [
       "  0%|          | 0/2627 [00:00<?, ?it/s]"
      ]
     },
     "metadata": {},
     "output_type": "display_data"
    },
    {
     "name": "stdout",
     "output_type": "stream",
     "text": [
      "Total time to create datasets: 1.3011757294336954 minutes\n"
     ]
    }
   ],
   "source": [
    "start_time = time.time()\n",
    "\n",
    "small = get_dataset(ep_per_sample=ep_per_sample_small, sn_per_sample=sn_per_sample_small, \n",
    "                    en_persample=en_per_sample_small, hn_per_sample=hn_per_sample_small, \n",
    "                    df_genes=df_genes, df=df_small, subset_file=subset_file, \n",
    "                    pos_width_multipliers=pos_width_multipliers, pos_height_multipliers=pos_height_multipliers, \n",
    "                    neg_width_windows=neg_width_windows, neg_height_windows=neg_height_windows)\n",
    "\n",
    "for i, sample in tqdm(enumerate(small), total = len(small)):\n",
    "    meta[id_couple] = create_sample_dict(id_couple, sample)\n",
    "    id_couple += 1\n",
    "    \n",
    "    \n",
    "medium = get_dataset(ep_per_sample=ep_per_sample_medium, sn_per_sample=sn_per_sample_medium,\n",
    "                     en_persample=en_per_sample_medium, hn_per_sample=hn_per_sample_medium, \n",
    "                     df_genes=df_genes, df=df_medium, subset_file=subset_file,\n",
    "                     pos_width_multipliers=pos_width_multipliers, pos_height_multipliers=pos_height_multipliers, \n",
    "                     neg_width_windows=neg_width_windows, neg_height_windows=neg_height_windows)\n",
    "\n",
    "for i, sample in tqdm(enumerate(medium), total = len(medium)):\n",
    "    meta[id_couple] = create_sample_dict(id_couple, sample)\n",
    "    id_couple += 1\n",
    "    \n",
    "    \n",
    "big = get_dataset(ep_per_sample=ep_per_sample_big, sn_per_sample=sn_per_sample_big, \n",
    "                  en_persample=en_per_sample_big, hn_per_sample=hn_per_sample_big, \n",
    "                  df_genes=df_genes, df=df_big, subset_file=subset_file, \n",
    "                  pos_width_multipliers=pos_width_multipliers, pos_height_multipliers=pos_height_multipliers, \n",
    "                  neg_width_windows=neg_width_windows, neg_height_windows=neg_height_windows)\n",
    "\n",
    "for i, sample in tqdm(enumerate(big), total = len(big)):\n",
    "    meta[id_couple] = create_sample_dict(id_couple, sample)\n",
    "    id_couple += 1\n",
    "    \n",
    "df_meta = pd.DataFrame.from_dict(meta, 'index')\n",
    "df_meta['lencdna1'] = df_meta.apply(lambda x: len(x.cdna1), axis = 1)\n",
    "df_meta['lencdna2'] = df_meta.apply(lambda x: len(x.cdna2), axis = 1)\n",
    "assert (df_meta['lencdna1'] == df_meta['length_1']).all()\n",
    "assert (df_meta['lencdna2'] == df_meta['length_2']).all()\n",
    "assert ((df_meta.window_x2 - df_meta.window_x1)==(df_meta.lencdna1)).all()\n",
    "assert ((df_meta.window_y2 - df_meta.window_y1)==(df_meta.lencdna2)).all()\n",
    "df_meta = df_meta.drop(['lencdna1', 'lencdna2'], axis = 1)\n",
    "\n",
    "m = df_meta[df_meta.policy.isin({'smartneg', 'easypos'})]\n",
    "assert (m.x1 >= 0).all()\n",
    "assert (m.y1 >= 0).all()\n",
    "assert (m.x2 <= m.length_1).all()\n",
    "assert (m.y2 <= m.length_2).all()\n",
    "\n",
    "assert df_meta[df_meta.length_1==df_meta.original_length1][['gene1', 'id_gene1_sample']].groupby('gene1').nunique().max().iloc[0] == 1\n",
    "assert df_meta[df_meta.length_2==df_meta.original_length2][['gene2', 'id_gene2_sample']].groupby('gene2').nunique().max().iloc[0] == 1\n",
    "\n",
    "print(f\"Total time to create datasets: {(time.time()-start_time)/60} minutes\")"
   ]
  },
  {
   "cell_type": "code",
   "execution_count": 91,
   "id": "ba720677-4faf-4da1-b0ff-4bc6f06e0b30",
   "metadata": {},
   "outputs": [],
   "source": [
    "df_meta.to_csv(os.path.join(metadata_dir, 'RANDOM', f'{set_data}.csv'), index = False)"
   ]
  },
  {
   "cell_type": "code",
   "execution_count": 92,
   "id": "71ed9be9-ad22-4fa5-bc62-2872554da17b",
   "metadata": {},
   "outputs": [
    {
     "data": {
      "text/plain": [
       "False    31411\n",
       "True     14706\n",
       "Name: interacting, dtype: int64"
      ]
     },
     "execution_count": 92,
     "metadata": {},
     "output_type": "execute_result"
    }
   ],
   "source": [
    "df_meta.interacting.value_counts()"
   ]
  },
  {
   "cell_type": "code",
   "execution_count": 93,
   "id": "7e29b709",
   "metadata": {},
   "outputs": [],
   "source": [
    "#undersample df_meta\n",
    "\n",
    "subset_file = os.path.join(rna_rna_files_dir, 'RANDOM', f\"gene_pairs_{set_data}_HQ.txt\")\n",
    "with open(subset_file, \"rb\") as fp:  # Unpickling\n",
    "    subset_val_HQ = pickle.load(fp)\n",
    "    \n",
    "df_meta = df_meta[df_meta.couples.isin(subset_val_HQ)]\n",
    "\n",
    "df_meta = df_meta[df_meta.policy.isin(['smartneg','easypos'])]\n",
    "df_not_in_train = df_meta[~( (df_meta.gene1.isin(genes_train))|(df_meta.gene2.isin(genes_train)) )]\n",
    "\n",
    "if df_meta.interacting.value_counts()[False] >= df_meta.interacting.value_counts()[True]:\n",
    "    n_to_exclude = df_meta.interacting.value_counts()[False] - df_meta.interacting.value_counts()[True]\n",
    "    df_to_sample = df_meta[(df_meta.gene1.isin(genes_train))&(df_meta.gene2.isin(genes_train))&(df_meta.interacting == False)]\n",
    "else:\n",
    "    n_to_exclude = df_meta.interacting.value_counts()[True] - df_meta.interacting.value_counts()[False]\n",
    "    df_to_sample = df_meta[(df_meta.gene1.isin(genes_train))&(df_meta.gene2.isin(genes_train))&(df_meta.interacting == True)]\n",
    "    \n",
    "ids_to_eclude = set(df_to_sample.sample(frac = 1).head(n_to_exclude).id_sample)\n",
    "assert set(ids_to_eclude).intersection(set(df_not_in_train.id_sample)) == set()\n",
    "df_meta = df_meta[~df_meta.id_sample.isin(ids_to_eclude)]\n",
    "assert np.isclose(1, df_meta.interacting.value_counts()[True]/df_meta.interacting.value_counts()[False])\n",
    "df_meta = df_meta.reset_index(drop = True)\n",
    "\n",
    "df_meta.to_csv(os.path.join(metadata_dir, 'RANDOM', f'{set_data}_sampled.csv'), index = False)"
   ]
  },
  {
   "cell_type": "code",
   "execution_count": 94,
   "id": "1ac6fb3c-a4e6-4a8c-9810-1cb74ea86d67",
   "metadata": {},
   "outputs": [
    {
     "data": {
      "text/plain": [
       "True     2668\n",
       "False    2668\n",
       "Name: interacting, dtype: int64"
      ]
     },
     "execution_count": 94,
     "metadata": {},
     "output_type": "execute_result"
    }
   ],
   "source": [
    "df_meta.interacting.value_counts()"
   ]
  },
  {
   "cell_type": "markdown",
   "id": "76373036-6ba7-4494-bfdc-f3d1bbfae53a",
   "metadata": {},
   "source": [
    "# Create the embedding query"
   ]
  },
  {
   "cell_type": "code",
   "execution_count": 95,
   "id": "ceb2b412-dd99-4567-bc36-ff0316d146b9",
   "metadata": {},
   "outputs": [],
   "source": [
    "#import data \n",
    "train = pd.read_csv(os.path.join(metadata_dir, 'RANDOM', f'training.csv'))\n",
    "val = pd.read_csv(os.path.join(metadata_dir, 'RANDOM', f'val.csv'))\n",
    "test = pd.read_csv(os.path.join(metadata_dir,'RANDOM',  f'test.csv'))"
   ]
  },
  {
   "cell_type": "code",
   "execution_count": 96,
   "id": "9a967c4b-d32a-4074-a22e-8a3a269a2259",
   "metadata": {},
   "outputs": [],
   "source": [
    "def create_query_df(df):\n",
    "    df1 = df[['id_gene1_sample', 'cdna1']].drop_duplicates().rename({'id_gene1_sample':'id_query', 'cdna1':'cdna'}, axis = 1)\n",
    "    df2 = df[['id_gene2_sample', 'cdna2']].drop_duplicates().rename({'id_gene2_sample':'id_query', 'cdna2':'cdna'}, axis = 1)\n",
    "    df = pd.concat([df1, df2], axis = 0).drop_duplicates().reset_index(drop = True)\n",
    "    return df"
   ]
  },
  {
   "cell_type": "code",
   "execution_count": 97,
   "id": "9f09f1c4-c490-4a47-940e-713793aa0fd1",
   "metadata": {},
   "outputs": [],
   "source": [
    "train_query = create_query_df(train)\n",
    "val_query = create_query_df(val)\n",
    "test_query = create_query_df(test)\n",
    "df_query = pd.concat([train_query, val_query, test_query], axis = 0).drop_duplicates().reset_index(drop = True)\n",
    "del train_query\n",
    "del val_query\n",
    "del test_query"
   ]
  },
  {
   "cell_type": "code",
   "execution_count": 98,
   "id": "0c66e292-93ac-48d0-b45b-41134844ec60",
   "metadata": {},
   "outputs": [],
   "source": [
    "query_train = set(train['id_gene1_sample']).union(set(train['id_gene2_sample']))\n",
    "query_val = set(val['id_gene1_sample']).union(set(val['id_gene2_sample']))\n",
    "query_test = set(test['id_gene1_sample']).union(set(test['id_gene2_sample']))\n",
    "query = set(query_train).union(query_val).union(query_test)\n",
    "\n",
    "#the 2 assert below also means that there are unique cdna per id_query\n",
    "assert len(df_query.id_query) == len(query)\n",
    "assert set(df_query.id_query) == query"
   ]
  },
  {
   "cell_type": "code",
   "execution_count": 100,
   "id": "0fbf9bdc-ff2e-4ce5-9496-c3d3ccf66f14",
   "metadata": {},
   "outputs": [],
   "source": [
    "# df_change = pd.read_csv('error.txt', sep = '\\t', header = None)\n",
    "\n",
    "# for _, row in df_change.iterrows():\n",
    "#     assert os.path.isfile(row[0])\n",
    "#     os.remove(row[0])\n",
    "#     assert os.path.isfile(row[0]) == False\n",
    "\n",
    "# import re\n",
    "# subset = []\n",
    "# for _, row in df_change.iterrows():\n",
    "#     gene_name_pattern = r'\\/(\\w+_\\d+_\\d+)\\.npy'\n",
    "#     match = re.search(gene_name_pattern, row[0])\n",
    "#     assert match\n",
    "#     gene_name = match.group(1)\n",
    "#     subset.append(gene_name)\n",
    "    \n",
    "# df_query = df_query[df_query.id_query.isin(subset)].reset_index(drop = True)"
   ]
  },
  {
   "cell_type": "code",
   "execution_count": 101,
   "id": "9760cc10-b08f-4da2-b20f-2d86d185de4b",
   "metadata": {},
   "outputs": [],
   "source": [
    "all_files = os.listdir(os.path.join(embedding_dir, '32'))\n",
    "all_files = list(pd.Series(all_files).str.extractall('(.*)\\.npy').reset_index()[0])\n",
    "df_query = df_query[~df_query.id_query.isin(all_files)]"
   ]
  },
  {
   "cell_type": "code",
   "execution_count": 105,
   "id": "9529f4a6-18b1-4476-9cb3-518ca267c26c",
   "metadata": {},
   "outputs": [],
   "source": [
    "df_query.to_csv(os.path.join(metadata_dir, 'embedding_query.csv'), index = False)"
   ]
  },
  {
   "cell_type": "code",
   "execution_count": 106,
   "id": "5d862d2c",
   "metadata": {},
   "outputs": [
    {
     "name": "stdout",
     "output_type": "stream",
     "text": [
      "estimated # hours: 57.27\n",
      "estimated # days: 2.39\n",
      "estimated terabytes (pessimistic): 2.49\n",
      "estimated terabytes (realistic): 1.62\n"
     ]
    }
   ],
   "source": [
    "def estimate_time_and_space(n_samples):\n",
    "    #TIME\n",
    "    minutes = 3219*n_samples/(228278)\n",
    "    hours = minutes/60\n",
    "    days = hours/24\n",
    "    print('estimated # hours:', np.round(hours, 2))\n",
    "    print('estimated # days:', np.round(days, 2))\n",
    "\n",
    "    mb = 10.2*n_samples\n",
    "    gb = mb/1000\n",
    "    tb = gb/1000\n",
    "    print('estimated terabytes (pessimistic):', np.round(tb, 2))\n",
    "    mb = 1995*n_samples/(300)\n",
    "    gb = mb/1000\n",
    "    tb = gb/1000\n",
    "    print('estimated terabytes (realistic):', np.round(tb, 2))\n",
    "estimate_time_and_space(243689)"
   ]
  },
  {
   "cell_type": "code",
   "execution_count": 107,
   "id": "355c5a0b-5696-4f6e-ab07-b3eaace833d4",
   "metadata": {},
   "outputs": [
    {
     "name": "stdout",
     "output_type": "stream",
     "text": [
      "{'n_files': 302310, 'gigabytes': 2853.41454208, 'terabytes': 2.85341454208}\n"
     ]
    }
   ],
   "source": [
    "def get_directory_size(directory):\n",
    "    total_size = 0\n",
    "    n_files = 0\n",
    "    # Walk through all the files and subdirectories in the directory\n",
    "    for path, dirs, files in os.walk(directory):\n",
    "        for file in files:\n",
    "            file_path = os.path.join(path, file)\n",
    "            total_size += os.stat(file_path).st_size\n",
    "            n_files+=1\n",
    "\n",
    "    # Convert the size to a human-readable format\n",
    "    size_in_bytes = total_size\n",
    "    size_in_kilobytes = total_size / 1000\n",
    "    size_in_megabytes = size_in_kilobytes / 1000\n",
    "    size_in_gigabytes = size_in_megabytes / 1000\n",
    "    size_in_terabytes = size_in_gigabytes / 1000\n",
    "\n",
    "    return {\n",
    "        \"n_files\":n_files,\n",
    "        # \"bytes\": size_in_bytes,\n",
    "        # \"kilobytes\": size_in_kilobytes,\n",
    "        # \"megabytes\": size_in_megabytes,\n",
    "        \"gigabytes\": size_in_gigabytes, \n",
    "        \"terabytes\": size_in_terabytes, \n",
    "    }\n",
    "\n",
    "# Usage example\n",
    "directory_path = os.path.join(embedding_dir)\n",
    "directory_size = get_directory_size(directory_path)\n",
    "print(directory_size)"
   ]
  },
  {
   "cell_type": "markdown",
   "id": "41fa8b3e-38e5-4c8e-a5f9-dc30302d6c52",
   "metadata": {},
   "source": [
    "# Create df_genes_nt and df_nt"
   ]
  },
  {
   "cell_type": "code",
   "execution_count": 3,
   "id": "02b95f90-3891-4e60-b0ea-ebc34f386fe0",
   "metadata": {},
   "outputs": [],
   "source": [
    "#import data \n",
    "train = pd.read_csv(os.path.join(metadata_dir, 'RANDOM', f'training.csv'))\n",
    "val = pd.read_csv(os.path.join(metadata_dir, 'RANDOM',  f'val.csv'))\n",
    "test = pd.read_csv(os.path.join(metadata_dir, 'RANDOM',  f'test.csv'))\n",
    "\n",
    "val_sampled = pd.read_csv(os.path.join(metadata_dir, 'RANDOM', f'val_sampled.csv'))\n",
    "test_sampled = pd.read_csv(os.path.join(metadata_dir, 'RANDOM', f'test_sampled.csv'))"
   ]
  },
  {
   "cell_type": "code",
   "execution_count": 4,
   "id": "d6fc61cd-4428-46b0-9857-5ecbe4d70959",
   "metadata": {},
   "outputs": [],
   "source": [
    "def swap_if_needed(df):\n",
    "    df['actual_couples'] = df.gene1 + '_' + df.gene2\n",
    "    df['need_to_swap'] = df.couples!=df.actual_couples\n",
    "    where = df.need_to_swap\n",
    "    df.loc[where, ['gene1', 'gene2']] = (df.loc[where, ['gene2', 'gene1']].values)\n",
    "    df.loc[where, ['length_1', 'length_2']] = (df.loc[where, ['length_2', 'length_1']].values)\n",
    "    df.loc[where, ['protein_coding_1', 'protein_coding_2']] = (df.loc[where, ['protein_coding_2', 'protein_coding_1']].values)\n",
    "    df.loc[where, ['x1', 'y1']] = (df.loc[where, ['y1', 'x1']].values)\n",
    "    df.loc[where, ['x2', 'y2']] = (df.loc[where, ['y2', 'x2']].values)\n",
    "    df.loc[where, ['cdna1', 'cdna2']] = (df.loc[where, ['cdna2', 'cdna1']].values)\n",
    "    df.loc[where, ['original_x1', 'original_y1']] = (df.loc[where, ['original_y1', 'original_x1']].values)\n",
    "    df.loc[where, ['original_x2', 'original_y2']] = (df.loc[where, ['original_y2', 'original_x2']].values)\n",
    "    df.loc[where, ['window_x1', 'window_y1']] = (df.loc[where, ['window_y1', 'window_x1']].values)\n",
    "    df.loc[where, ['window_x2', 'window_y2']] = (df.loc[where, ['window_y2', 'window_x2']].values)\n",
    "    df.loc[where, ['original_length1', 'original_length2']] = (df.loc[where, ['original_length2', 'original_length1']].values)\n",
    "    df.loc[where, ['id_gene1_sample', 'id_gene2_sample']] = (df.loc[where, ['id_gene2_sample', 'id_gene1_sample']].values)\n",
    "    if ('diff1' in df.columns)&('diff2' in df.columns):\n",
    "        df.loc[where, ['diff1', 'diff2']] = (df.loc[where, ['diff2', 'diff1']].values)\n",
    "    df['actual_couples'] = df.gene1 + '_' + df.gene2\n",
    "    assert (df.couples==df.actual_couples).all()\n",
    "    return df.drop(['need_to_swap', 'actual_couples'], axis = 1)"
   ]
  },
  {
   "cell_type": "code",
   "execution_count": 5,
   "id": "d64ceac5-f03c-4ced-ac0c-77999e13b2eb",
   "metadata": {},
   "outputs": [],
   "source": [
    "train = swap_if_needed(train)\n",
    "val = swap_if_needed(val)\n",
    "test = swap_if_needed(test)\n",
    "\n",
    "val_sampled = swap_if_needed(val_sampled)\n",
    "test_sampled = swap_if_needed(test_sampled)"
   ]
  },
  {
   "cell_type": "code",
   "execution_count": 6,
   "id": "bc58b8d2-e1d4-40ff-9ae5-df9915e87405",
   "metadata": {},
   "outputs": [],
   "source": [
    "assert len(set(train.id_sample)) == len(train)\n",
    "assert len(set(test.id_sample)) == len(test)\n",
    "assert len(set(val.id_sample)) == len(val)\n",
    "\n",
    "assert set(val.id_sample).intersection(set(train.id_sample)) == set()\n",
    "assert set(test.id_sample).intersection(set(train.id_sample)) == set()\n",
    "assert set(val.id_sample).intersection(set(test.id_sample)) == set()\n",
    "\n",
    "assert set(val.id_sample).intersection(set(val_sampled.id_sample)) == set(val_sampled.id_sample)\n",
    "assert set(test.id_sample).intersection(set(test_sampled.id_sample)) == set(test_sampled.id_sample)"
   ]
  },
  {
   "cell_type": "code",
   "execution_count": 7,
   "id": "6895e0eb-347b-4dda-81db-c5d9c52da19b",
   "metadata": {},
   "outputs": [
    {
     "name": "stdout",
     "output_type": "stream",
     "text": [
      "train: 273111\n",
      "test: 46117\n",
      "val: 44941\n",
      "test_sampled: 5336\n",
      "val_sampled: 5410\n"
     ]
    }
   ],
   "source": [
    "train['couples_id'] = train['couples']\n",
    "train['couples'] = train['id_sample']\n",
    "\n",
    "val['couples_id'] = val['couples']\n",
    "val['couples'] = val['id_sample']\n",
    "\n",
    "test['couples_id'] = test['couples']\n",
    "test['couples'] = test['id_sample']\n",
    "\n",
    "\n",
    "\n",
    "val_sampled['couples_id'] = val_sampled['couples']\n",
    "val_sampled['couples'] = val_sampled['id_sample']\n",
    "\n",
    "test_sampled['couples_id'] = test_sampled['couples']\n",
    "test_sampled['couples'] = test_sampled['id_sample']\n",
    "\n",
    "\n",
    "# export subsets\n",
    "\n",
    "with open(os.path.join(rna_rna_files_dir, 'RANDOM', f\"gene_pairs_training_nt.txt\"), \"wb\") as fp:   #Pickling\n",
    "    pickle.dump(list(set(train.couples)), fp)\n",
    "    \n",
    "with open(os.path.join(rna_rna_files_dir, 'RANDOM', f\"gene_pairs_test_nt.txt\"), \"wb\") as fp:   #Pickling\n",
    "    pickle.dump(list(set(test.couples)), fp)\n",
    "    \n",
    "with open(os.path.join(rna_rna_files_dir, 'RANDOM', f\"gene_pairs_val_nt.txt\"), \"wb\") as fp:   #Pickling\n",
    "    pickle.dump(list(set(val.couples)), fp)\n",
    "\n",
    "    \n",
    "with open(os.path.join(rna_rna_files_dir, 'RANDOM', f\"gene_pairs_test_sampled_nt.txt\"), \"wb\") as fp:   #Pickling\n",
    "    pickle.dump(list(set(test_sampled.couples)), fp)\n",
    "    \n",
    "with open(os.path.join(rna_rna_files_dir, 'RANDOM', f\"gene_pairs_val_sampled_nt.txt\"), \"wb\") as fp:   #Pickling\n",
    "    pickle.dump(list(set(val_sampled.couples)), fp)\n",
    "\n",
    "print('train:', len(list(set(train.couples))))\n",
    "print('test:', len(list(set(test.couples))))\n",
    "print('val:', len(list(set(val.couples))))\n",
    "print('test_sampled:', len(list(set(test_sampled.couples))))\n",
    "print('val_sampled:', len(list(set(val_sampled.couples))))"
   ]
  },
  {
   "cell_type": "markdown",
   "id": "3785c2f1-a138-40f2-9c62-6f7ca26337db",
   "metadata": {},
   "source": [
    "##### Create the file for fine tuning. \n",
    "This file has val+training data, but I exclude all the samples that are in the test set but not in the training so that I can keep estimation over those samples independent from the tranining procedure."
   ]
  },
  {
   "cell_type": "code",
   "execution_count": 8,
   "id": "f3af869a-d925-42d2-b0b2-d4f012dc9060",
   "metadata": {},
   "outputs": [
    {
     "name": "stdout",
     "output_type": "stream",
     "text": [
      "train+val, fine tuning: 314997\n"
     ]
    }
   ],
   "source": [
    "training_genes = set(train.gene1).union(train.gene2)\n",
    "test_genes = set(test.gene1).union(test.gene2)\n",
    "\n",
    "genes_in_test_not_train = test_genes-training_genes\n",
    "\n",
    "val_subset = val[~ (   (val.gene1.isin(genes_in_test_not_train)) | (val.gene2.isin(genes_in_test_not_train))   ) ]\n",
    "\n",
    "with open(os.path.join(rna_rna_files_dir, 'RANDOM', f\"gene_pairs_train_val_fine_tuning_nt.txt\"), \"wb\") as fp:   #Pickling\n",
    "    pickle.dump(list(set(train.couples).union(val_subset.couples)), fp)\n",
    "    \n",
    "print('train+val, fine tuning:', len(list(set(train.couples).union(val_subset.couples))))"
   ]
  },
  {
   "cell_type": "markdown",
   "id": "ebeed349-877f-41bb-b218-124463a20c15",
   "metadata": {},
   "source": [
    "##### Create fake_interaction_region"
   ]
  },
  {
   "cell_type": "code",
   "execution_count": 9,
   "id": "52b10ba5-bc6d-4c07-ac05-65e23c22ab69",
   "metadata": {},
   "outputs": [],
   "source": [
    "#create fake_interaction_region\n",
    "interaction_size= 16\n",
    "\n",
    "def create_fake_interaction_region(df, interaction_size=16):\n",
    "    subset = df[df.policy.isin(['hardneg', 'easyneg'])]\n",
    "    \n",
    "    length1_values = subset['length_1'].values - interaction_size\n",
    "    length2_values = subset['length_2'].values - interaction_size\n",
    "\n",
    "    # Generate random indices within the length1 range\n",
    "    x1_indices = np.random.randint(0, length1_values, size=len(subset))\n",
    "    x2_indices = x1_indices + interaction_size  # Ensure a distance of interaction_size between x1 and x2\n",
    "\n",
    "    # Generate random indices within the length2 range\n",
    "    y1_indices = np.random.randint(0, length2_values, size=len(subset))\n",
    "    y2_indices = y1_indices + interaction_size  # Ensure a distance of interaction_size between y1 and y2\n",
    "    \n",
    "    df.loc[df.policy.isin(['hardneg', 'easyneg']), 'x1'] = x1_indices\n",
    "    df.loc[df.policy.isin(['hardneg', 'easyneg']), 'x2'] = x2_indices\n",
    "    df.loc[df.policy.isin(['hardneg', 'easyneg']), 'y1'] = y1_indices\n",
    "    df.loc[df.policy.isin(['hardneg', 'easyneg']), 'y2'] = y2_indices\n",
    "    return df\n",
    "\n",
    "\n",
    "train = create_fake_interaction_region(train)\n",
    "test = create_fake_interaction_region(test)\n",
    "val = create_fake_interaction_region(val)\n",
    "\n",
    "assert (train.x2<=train.length_1).all()\n",
    "assert (test.x2<=test.length_1).all()\n",
    "assert (val.x2<=val.length_1).all()\n",
    "\n",
    "assert (train.x1>=0).all()\n",
    "assert (test.x1>=0).all()\n",
    "assert (val.x1>=0).all()\n",
    "\n",
    "subset = train[train.policy.isin(['hardneg', 'easyneg'])]\n",
    "assert ((subset.x2-subset.x1) == interaction_size).all()\n",
    "subset = test[test.policy.isin(['hardneg', 'easyneg'])]\n",
    "assert ((subset.x2-subset.x1) == interaction_size).all()\n",
    "subset = val[val.policy.isin(['hardneg', 'easyneg'])]\n",
    "assert ((subset.x2-subset.x1) == interaction_size).all()"
   ]
  },
  {
   "cell_type": "code",
   "execution_count": 10,
   "id": "853fc785-7fb1-4ac5-978d-977e6eed6d2a",
   "metadata": {},
   "outputs": [],
   "source": [
    "df_full = pd.concat([train, val, test], axis = 0)\n",
    "df_full = df_full.rename({'gene1':'gene1_id', 'gene2':'gene2_id'}, axis = 1)\n",
    "df_full = df_full.rename({'id_gene1_sample':'gene1', 'id_gene2_sample':'gene2'}, axis = 1)"
   ]
  },
  {
   "cell_type": "code",
   "execution_count": 11,
   "id": "6ec8c7a7-3a45-43bb-8e75-150452e7ed7e",
   "metadata": {},
   "outputs": [],
   "source": [
    "df_nt = df_full.copy()\n",
    "df_nt['w'] = df_nt['x2'] - df_nt['x1']\n",
    "df_nt['h'] = df_nt['y2'] - df_nt['y1']\n",
    "column_order = ['couples','gene1','gene2','interacting',\n",
    "                'length_1','length_2','protein_coding_1','protein_coding_2',\n",
    "                'x1','y1','w','h', 'policy',\n",
    "                'original_x1','original_x2',\n",
    "                'original_y1','original_y2',\n",
    "                'id_gene1_sample','id_gene2_sample', 'couples_id',\n",
    "               ]\n",
    "df_nt = df_nt.drop_duplicates(subset = [\n",
    "    'couples','gene1','gene2','interacting',\n",
    "    'length_1','length_2','protein_coding_1',\n",
    "    'protein_coding_2','x1','y1','w','h',\n",
    "    'policy','original_x1','original_x2',\n",
    "    'original_y1','original_y2','couples_id'\n",
    "]).reset_index(drop = True)\n",
    "df_nt = df_nt.filter(column_order, axis = 1)\n",
    "#crea coordinate per easyneg e hardneg\n",
    "df_nt.to_csv(os.path.join(metadata_dir, 'RANDOM', f'df_nt.csv'), index = False)"
   ]
  },
  {
   "cell_type": "code",
   "execution_count": 12,
   "id": "576d5a86-6797-4265-83bf-3445aeff2cdf",
   "metadata": {},
   "outputs": [],
   "source": [
    "column_order = [\n",
    "    'gene1','gene2','id_gene1_sample','id_gene2_sample',\n",
    "    'original_length1','original_length2', 'cdna1', 'cdna2',\n",
    "    'window_x1','window_x2','window_y1','window_y2', \n",
    "    'gene1_id', 'gene2_id', 'protein_coding_1',  'protein_coding_2'\n",
    "]\n",
    "\n",
    "df_g = df_full.filter(column_order, axis = 1)\n",
    "\n",
    "df_g1 = df_g.filter(\n",
    "    [\n",
    "    'gene1', \n",
    "    'id_gene1_sample', \n",
    "    'cdna1', \n",
    "    'window_x1',\n",
    "    'window_x2', \n",
    "    'gene1_id',\n",
    "    'protein_coding_1', \n",
    "    'length_1',\n",
    "    'original_length1', \n",
    "    ]\n",
    ").rename(\n",
    "    {\n",
    "    'gene1':'gene_id',\n",
    "    'cdna1':'cdna', \n",
    "    'length_1':'length',\n",
    "    'window_x1':'window_c1',\n",
    "    'window_x2':'window_c2',\n",
    "    'gene1_id':'original_gene_id', \n",
    "    'protein_coding_1':'protein_coding', \n",
    "    'original_length1':'original_length'\n",
    "    }, \n",
    "    axis = 1)\n",
    "df_g2 = df_g.filter(\n",
    "    [\n",
    "    'gene2', \n",
    "    'id_gene2_sample', \n",
    "    'cdna2', \n",
    "    'window_y1',\n",
    "    'window_y2', \n",
    "    'gene2_id',\n",
    "    'protein_coding_2', \n",
    "    'length_2',\n",
    "    'original_length2', \n",
    "    ]\n",
    ").rename(\n",
    "    {\n",
    "    'gene2':'gene_id',\n",
    "    'cdna2':'cdna', \n",
    "    'length_2':'length',\n",
    "    'window_y1':'window_c1',\n",
    "    'window_y2':'window_c2',\n",
    "    'gene2_id':'original_gene_id', \n",
    "    'protein_coding_2':'protein_coding', \n",
    "    'original_length2':'original_length'\n",
    "    }, \n",
    "    axis = 1)\n",
    "\n",
    "df_genes_nt = pd.concat([df_g1, df_g2], axis = 0).drop_duplicates().reset_index(drop = True)\n",
    "\n",
    "df_genes_nt['UTR5'] = 0\n",
    "df_genes_nt['CDS'] = 0\n",
    "df_genes_nt['UTR3'] = 0"
   ]
  },
  {
   "cell_type": "code",
   "execution_count": 15,
   "id": "d4d11f00-263f-4acc-868a-c304ce1a11be",
   "metadata": {
    "tags": []
   },
   "outputs": [],
   "source": [
    "assert set(df_genes.gene_id) == set(df_genes_nt.original_gene_id)\n",
    "assert set(df.gene1).union(df.gene2) == set(train.gene1).union(train.gene2).union(val.gene1).union(val.gene2).union(test.gene1).union(test.gene2)\n",
    "assert set(df.gene1).union(df.gene2) == set(df_full.gene1_id).union(df_full.gene2_id)"
   ]
  },
  {
   "cell_type": "code",
   "execution_count": 16,
   "id": "03e57a38-dfb4-43bf-b072-b8836172538d",
   "metadata": {},
   "outputs": [],
   "source": [
    "df_genes_nt.to_csv(os.path.join(metadata_dir, 'RANDOM', f'df_genes_nt.csv'), index = False)"
   ]
  },
  {
   "cell_type": "markdown",
   "id": "5f9e1f4f-2229-45d6-8471-6d79102894b8",
   "metadata": {},
   "source": [
    "# Check the data saved"
   ]
  },
  {
   "cell_type": "code",
   "execution_count": 19,
   "id": "47b5300d-06db-4754-beed-a49765a1bfca",
   "metadata": {},
   "outputs": [],
   "source": [
    "train = pd.read_csv(os.path.join(metadata_dir,  'RANDOM', f'training.csv'))\n",
    "val = pd.read_csv(os.path.join(metadata_dir, 'RANDOM', f'val.csv'))\n",
    "test = pd.read_csv(os.path.join(metadata_dir, 'RANDOM', f'test.csv'))\n",
    "\n",
    "assert max(train.length_1.max(), train.length_2.max()) == MAX_RNA_SIZE\n",
    "\n",
    "with open(os.path.join(rna_rna_files_dir,  'RANDOM', f\"gene_pairs_training.txt\"), \"rb\") as fp:  # Unpickling\n",
    "    subset_train = pickle.load(fp)\n",
    "    subset = pd.Series(subset_train).str.split('_', expand = True)\n",
    "    genes_train = set(subset[0]).union(set(subset[1]))\n",
    "\n",
    "with open(os.path.join(rna_rna_files_dir,  'RANDOM', f\"gene_pairs_test.txt\"), \"rb\") as fp:  # Unpickling\n",
    "    subset_test = pickle.load(fp)\n",
    "    subset = pd.Series(subset_test).str.split('_', expand = True)\n",
    "    genes_test = set(subset[0]).union(set(subset[1]))\n",
    "    \n",
    "with open(os.path.join(rna_rna_files_dir,  'RANDOM', f\"gene_pairs_val.txt\"), \"rb\") as fp:  # Unpickling\n",
    "    subset_val = pickle.load(fp)\n",
    "    subset = pd.Series(subset_val).str.split('_', expand = True)\n",
    "    genes_val = set(subset[0]).union(set(subset[1]))\n",
    "    \n",
    "assert set(train[train.gene1.isin(genes_train)|train.gene2.isin(genes_train)].id_sample) == set(train.id_sample)\n",
    "assert set(train[train.couples.isin(subset_train)].id_sample) == set(train.id_sample)\n",
    "\n",
    "assert set(test[test.gene1.isin(genes_test)|test.gene2.isin(genes_test)].id_sample) == set(test.id_sample)\n",
    "assert set(test[test.couples.isin(subset_test)].id_sample) == set(test.id_sample)\n",
    "\n",
    "assert set(val[val.gene1.isin(genes_val)|val.gene2.isin(genes_val)].id_sample) == set(val.id_sample)\n",
    "assert set(val[val.couples.isin(subset_val)].id_sample) == set(val.id_sample)"
   ]
  },
  {
   "cell_type": "code",
   "execution_count": 20,
   "id": "dfc9c6c5-5f50-44bb-8000-ce29a286ddc1",
   "metadata": {},
   "outputs": [],
   "source": [
    "df_nt = pd.read_csv(os.path.join(metadata_dir, 'RANDOM',  f'df_nt.csv'))\n",
    "df_genes_nt = pd.read_csv(os.path.join(metadata_dir, 'RANDOM', f'df_genes_nt.csv'))"
   ]
  },
  {
   "cell_type": "code",
   "execution_count": 23,
   "id": "2b4dddac-b7af-4106-a14a-dd0c7f32d360",
   "metadata": {},
   "outputs": [
    {
     "name": "stdout",
     "output_type": "stream",
     "text": [
      "17\n"
     ]
    }
   ],
   "source": [
    "# all the excluded couples belonw are few (should be zero)\n",
    "not_in_df = set(df.couples) - set(df_nt.couples_id) \n",
    "print(len(df[df.couples.isin(not_in_df)]))\n",
    "assert len(df[df.couples.isin(not_in_df)]) < 20"
   ]
  },
  {
   "cell_type": "code",
   "execution_count": 24,
   "id": "80b5765e-7adc-4910-aa42-904f1f245571",
   "metadata": {
    "tags": []
   },
   "outputs": [],
   "source": [
    "subset_train_nt = os.path.join(rna_rna_files_dir, 'RANDOM',  f\"gene_pairs_training_nt.txt\")\n",
    "subset_test_nt = os.path.join(rna_rna_files_dir, 'RANDOM', f\"gene_pairs_test_nt.txt\")\n",
    "subset_val_nt = os.path.join(rna_rna_files_dir, 'RANDOM', f\"gene_pairs_val_nt.txt\")\n",
    "\n",
    "assert (df_nt.x1 >= 0).all()\n",
    "assert (df_nt.y1 >= 0).all()\n",
    "assert ((df_nt.x1 + df_nt.w) <= df_nt.length_1).all()\n",
    "assert ((df_nt.y1 + df_nt.h) <= df_nt.length_2).all()\n",
    "assert df_genes_nt.apply(lambda x: len(x.cdna) == (x.window_c2-x.window_c1), axis = 1).all()"
   ]
  },
  {
   "cell_type": "code",
   "execution_count": 25,
   "id": "cad11283-33b6-4d9d-87a6-b8e2fa2bebbf",
   "metadata": {},
   "outputs": [],
   "source": [
    "pos_width_multipliers = {1_000_000: 1.}\n",
    "pos_height_multipliers = pos_width_multipliers\n",
    "neg_width_windows = {(MAX_RNA_SIZE-1, MAX_RNA_SIZE): float(1),}\n",
    "neg_height_windows = neg_width_windows\n",
    "\n",
    "policies = [\n",
    "    EasyPosAugment(\n",
    "    per_sample=1,\n",
    "    interaction_selection=InteractionSelectionPolicy.LARGEST,\n",
    "    width_multipliers=pos_width_multipliers,\n",
    "    height_multipliers=pos_height_multipliers,\n",
    "    ),  \n",
    "    SmartNegAugment(\n",
    "        per_sample=1,\n",
    "        interaction_selection=InteractionSelectionPolicy.LARGEST,\n",
    "        width_multipliers=pos_width_multipliers,\n",
    "        height_multipliers=pos_height_multipliers,\n",
    "    ),\n",
    "]"
   ]
  },
  {
   "cell_type": "code",
   "execution_count": 26,
   "id": "efa71280-fd5a-4715-ad1e-60a50618d55e",
   "metadata": {},
   "outputs": [],
   "source": [
    "dataset = RNADataset(\n",
    "        gene2info=df_genes_nt,\n",
    "        interactions=df_nt,\n",
    "        subset_file=subset_test_nt,\n",
    "        augment_policies=policies,\n",
    ")"
   ]
  },
  {
   "cell_type": "code",
   "execution_count": 27,
   "id": "e5aa658b-1c33-4eea-9500-a20ccfa3fc14",
   "metadata": {},
   "outputs": [],
   "source": [
    "def map_coordinates(window_c1, window_c2, actual_window_c1, actual_window_c2, actual_interaction_c1, actual_interaction_c2):\n",
    "    real_c1 = actual_window_c1 + window_c1\n",
    "    real_c2 = actual_window_c2 + window_c1\n",
    "    real_interaction_c1 = actual_interaction_c1 + window_c1\n",
    "    real_interaction_c2 = actual_interaction_c2 + window_c1\n",
    "    return real_c1, real_c2, real_interaction_c1, real_interaction_c2"
   ]
  },
  {
   "cell_type": "code",
   "execution_count": 28,
   "id": "4d463686-bede-4373-8c9b-a570e7d1e49f",
   "metadata": {},
   "outputs": [
    {
     "data": {
      "application/vnd.jupyter.widget-view+json": {
       "model_id": "819b49c1eaab4da7a99910c795f2dd34",
       "version_major": 2,
       "version_minor": 0
      },
      "text/plain": [
       "  0%|          | 0/46104 [00:00<?, ?it/s]"
      ]
     },
     "metadata": {},
     "output_type": "display_data"
    }
   ],
   "source": [
    "all_couples = set(df.couples)\n",
    "\n",
    "for s in tqdm(dataset):\n",
    "    interacting, actual_policy = s.interacting, s.policy\n",
    "\n",
    "    couple_id = s.gene1_info['original_gene_id'] + '_' + s.gene2_info['original_gene_id']\n",
    "    couple_id_swapped = s.gene2_info['original_gene_id'] + '_' + s.gene1_info['original_gene_id']\n",
    "    \n",
    "    if couple_id in all_couples:\n",
    "        gene1_id, gene2_id = s.gene1, s.gene2\n",
    "        gene1_info, gene2_info = s.gene1_info, s.gene2_info\n",
    "        real_couple_id = couple_id\n",
    "        actual_window_x1, actual_window_x2 = s.bbox.x1, s.bbox.x2\n",
    "        actual_window_y1, actual_window_y2 = s.bbox.y1, s.bbox.y2\n",
    "        actual_interaction_x1, actual_interaction_x2 = s.seed_interaction_bbox.x1, s.seed_interaction_bbox.x2\n",
    "        actual_interaction_y1, actual_interaction_y2 = s.seed_interaction_bbox.y1, s.seed_interaction_bbox.y2\n",
    "    elif couple_id_swapped in all_couples:\n",
    "        gene2_id, gene1_id = s.gene1, s.gene2\n",
    "        gene2_info, gene1_info = s.gene1_info, s.gene2_info\n",
    "        actual_window_y1, actual_window_y2 = s.bbox.x1, s.bbox.x2\n",
    "        actual_window_x1, actual_window_x2 = s.bbox.y1, s.bbox.y2\n",
    "        actual_interaction_y1, actual_interaction_y2 = s.seed_interaction_bbox.x1, s.seed_interaction_bbox.x2\n",
    "        actual_interaction_x1, actual_interaction_x2 = s.seed_interaction_bbox.y1, s.seed_interaction_bbox.y2\n",
    "        real_couple_id = couple_id_swapped\n",
    "    else:\n",
    "        raise NotImplementedError\n",
    "        \n",
    "    original_gene_id1, original_gene_id2 = gene1_info['original_gene_id'], gene2_info['original_gene_id']\n",
    "    cdna_slice1, cdna_slice2 = gene1_info['cdna'], gene2_info['cdna']\n",
    "    window_x1, window_x2 = gene1_info['window_c1'], gene1_info['window_c2']\n",
    "    window_y1, window_y2 = gene2_info['window_c1'], gene2_info['window_c2']\n",
    "    protein_coding1, protein_coding2 = gene1_info['protein_coding'], gene2_info['protein_coding']\n",
    "    original_length1, original_length2 = gene1_info['original_length'], gene2_info['original_length']\n",
    "    \n",
    "    policy_res = [\n",
    "        i['policy'] for i in s.gene1_info['interactions'] if \n",
    "        (i['couples_id']==real_couple_id)&\n",
    "        ( set([i['gene1'],i['gene2']])==set([s.gene1, s.gene2]) )\n",
    "    ]\n",
    "    assert len(set(policy_res)) == 1\n",
    "    policy = policy_res[0]\n",
    "        \n",
    "    assert gene1_id == gene1_info['gene_id']\n",
    "    assert gene2_id == gene2_info['gene_id']\n",
    "    assert window_x2-window_x1 == len(cdna_slice1)\n",
    "    assert window_y2-window_y1 == len(cdna_slice2)\n",
    "    \n",
    "    real1 = df_genes[df_genes.gene_id == original_gene_id1].iloc[0]\n",
    "    real2 = df_genes[df_genes.gene_id == original_gene_id2].iloc[0]\n",
    "\n",
    "    assert real1['cdna'][window_x1:window_x2] == cdna_slice1\n",
    "    assert real2['cdna'][window_y1:window_y2] == cdna_slice2\n",
    "    assert real1.protein_coding == protein_coding1\n",
    "    assert real2.protein_coding == protein_coding2\n",
    "    \n",
    "    real_df = df[df.couples == real_couple_id].iloc[0]\n",
    "    if policy == 'easypos':\n",
    "        assert real_df.interacting == interacting == True\n",
    "        assert actual_policy == 'easypos'\n",
    "    if policy == 'hardneg':\n",
    "        assert real_df.interacting == True\n",
    "        assert interacting == False\n",
    "        assert actual_policy == 'smartneg'\n",
    "    elif policy in ['smartneg', 'easyneg']:\n",
    "        assert real_df.interacting == interacting == False\n",
    "        assert actual_policy == 'smartneg'\n",
    "    assert real_df.protein_coding_1 == protein_coding1\n",
    "    assert real_df.protein_coding_2 == protein_coding2\n",
    "        \n",
    "    real_x1, real_x2, real_interaction_x1, real_interaction_x2 = map_coordinates(window_x1, window_x2, actual_window_x1, actual_window_x2, actual_interaction_x1, actual_interaction_x2)\n",
    "    real_y1, real_y2, real_interaction_y1, real_interaction_y2 = map_coordinates(window_y1, window_y2, actual_window_y1, actual_window_y2, actual_interaction_y1, actual_interaction_y2)\n",
    "\n",
    "    assert real_x1>=0\n",
    "    assert real_y1>=0\n",
    "    assert real_x1<=real_x2<=original_length1\n",
    "    assert real_y1<=real_y2<=original_length2\n",
    "\n",
    "    if (policy == 'easypos')|(policy == 'smartneg'):\n",
    "        assert real_x1<=real_interaction_x1<=real_interaction_x2\n",
    "        assert real_interaction_x1<=real_interaction_x2<=real_x2\n",
    "        assert real_y1<=real_interaction_y1<=real_interaction_y2\n",
    "        assert real_interaction_y1<=real_interaction_y2<=real_y2\n",
    "    elif policy == 'hardneg':\n",
    "        # le coordinate real_x1, real_x2 non sono piu buone perche avevo sovrascritto le regioni di interazione di hardneg e easyneg\n",
    "        real_x1, real_x2 = real_df.x1, real_df.x1+real_df.w\n",
    "        real_y1, real_y2 = real_df.y1, real_df.y1+real_df.h\n",
    "        assert ( \n",
    "            (real_interaction_x2 < real_x1)|(real_interaction_x1 > real_x2) | \n",
    "            (real_interaction_y2 < real_y1)|(real_interaction_y1 > real_y2) \n",
    "        )"
   ]
  },
  {
   "cell_type": "markdown",
   "id": "e6ef9dc2-10f1-44a5-980d-e5df0b5ece90",
   "metadata": {},
   "source": [
    "```\n",
    "original      0, 10, 20, 23,24, 50, 70, 100\n",
    "window           10                 70\n",
    "actual_win           10         40\n",
    "actual_int               13,14\n",
    "```"
   ]
  },
  {
   "cell_type": "markdown",
   "id": "648cfd31-0280-4c76-a6a3-d59bfa9faf05",
   "metadata": {},
   "source": [
    "### Check embeddings"
   ]
  },
  {
   "cell_type": "code",
   "execution_count": 97,
   "id": "bfc52ff3-5ba5-4850-ac50-fcc4d9046cfc",
   "metadata": {},
   "outputs": [],
   "source": [
    "subset_train_nt = os.path.join(rna_rna_files_dir,  'RANDOM', f\"gene_pairs_training_nt.txt\")\n",
    "\n",
    "df_nt = pd.read_csv(os.path.join(metadata_dir,  'RANDOM', f'df_nt.csv'))\n",
    "df_genes_nt = pd.read_csv(os.path.join(metadata_dir,  'RANDOM', f'df_genes_nt.csv'))"
   ]
  },
  {
   "cell_type": "code",
   "execution_count": 98,
   "id": "f6495ec5-0589-4c4f-a7be-c9275d81ecce",
   "metadata": {},
   "outputs": [],
   "source": [
    "with open(subset_train_nt, \"rb\") as fp:  # Unpickling\n",
    "    list_train = pickle.load(fp)\n",
    "\n",
    "vc_train = df_nt[df_nt.couples.isin(list_train)].interacting.value_counts()\n",
    "assert vc_train[False]>vc_train[True]\n",
    "unbalance_factor = 1 - (vc_train[False] - vc_train[True]) / vc_train[False]\n",
    "\n",
    "pos_width_multipliers = {10_000_000: 1.}\n",
    "\n",
    "pos_height_multipliers = pos_width_multipliers\n",
    "neg_width_windows = {(MAX_RNA_SIZE-1, MAX_RNA_SIZE): float(1),}\n",
    "neg_height_windows = neg_width_windows\n",
    "\n",
    "policies = [\n",
    "    EasyPosAugment(\n",
    "    per_sample=1,\n",
    "    interaction_selection=InteractionSelectionPolicy.LARGEST,\n",
    "    width_multipliers=pos_width_multipliers,\n",
    "    height_multipliers=pos_height_multipliers,\n",
    "    ),  \n",
    "    SmartNegAugment(\n",
    "        per_sample=unbalance_factor,\n",
    "        interaction_selection=InteractionSelectionPolicy.LARGEST,\n",
    "        width_multipliers=pos_width_multipliers,\n",
    "        height_multipliers=pos_height_multipliers,\n",
    "    ),\n",
    "]\n",
    "\n",
    "dataset = RNADatasetNT(\n",
    "        gene2info=df_genes_nt,\n",
    "        interactions=df_nt,\n",
    "        subset_file=subset_train_nt,\n",
    "        augment_policies=policies,\n",
    "        data_dir = os.path.join(embedding_dir, '32'),\n",
    "        scaling_factor = 20,\n",
    "        min_n_groups = 5,\n",
    "        max_n_groups = 80,\n",
    ")"
   ]
  },
  {
   "cell_type": "code",
   "execution_count": 99,
   "id": "13c6574b-f6fe-40b2-ba76-bd19542c2b8c",
   "metadata": {},
   "outputs": [
    {
     "data": {
      "application/vnd.jupyter.widget-view+json": {
       "model_id": "0f71a3b673d8404b99101c36524a4153",
       "version_major": 2,
       "version_minor": 0
      },
      "text/plain": [
       "  0%|          | 0/145837 [00:00<?, ?it/s]"
      ]
     },
     "metadata": {},
     "output_type": "display_data"
    }
   ],
   "source": [
    "l1_neg, l2_neg, l1_pos, l2_pos = [], [], [], []\n",
    "\n",
    "for s in tqdm(dataset):\n",
    "    length1, length2 = s.bbox.x2-s.bbox.x1, s.bbox.y2-s.bbox.y1\n",
    "    if s.interacting:\n",
    "        l1_pos.append(length1)\n",
    "        l2_pos.append(length2)\n",
    "    else:\n",
    "        l1_neg.append(length1)\n",
    "        l2_neg.append(length2)"
   ]
  },
  {
   "cell_type": "code",
   "execution_count": 100,
   "id": "be08e40d-cffc-4b89-bfda-4bf0f6dcc339",
   "metadata": {},
   "outputs": [
    {
     "data": {
      "image/png": "[encoded data removed]",
      "text/plain": [
       "<Figure size 640x480 with 1 Axes>"
      ]
     },
     "metadata": {},
     "output_type": "display_data"
    }
   ],
   "source": [
    "sns.kdeplot(l1_pos, color = 'red', label = 'gene1_pos')\n",
    "sns.kdeplot(l2_pos, color = 'green', label = 'gene2_pos')\n",
    "sns.kdeplot(l1_neg, color = 'black', label = 'gene1_neg')\n",
    "sns.kdeplot(l2_neg, color = 'blue', label = 'gene2_neg')\n",
    "plt.title(f'Length distribution (maximum values for policies)')\n",
    "plt.legend()\n",
    "plt.show()"
   ]
  },
  {
   "cell_type": "markdown",
   "id": "23b1ff0e-5909-49de-8045-4646e5501f4c",
   "metadata": {},
   "source": [
    "#### Check if dataloader preprocessing (group average) is working well."
   ]
  },
  {
   "cell_type": "code",
   "execution_count": 101,
   "id": "e2a8a2a0-849b-4a4c-b2bc-243b8dc283b0",
   "metadata": {},
   "outputs": [
    {
     "name": "stderr",
     "output_type": "stream",
     "text": [
      "/data01/giorgio/ENTER/envs/rnarna/lib/python3.10/site-packages/torchvision/io/image.py:13: UserWarning: Failed to load image Python extension: /data01/giorgio/ENTER/envs/rnarna/lib/python3.10/site-packages/torchvision/image.so: undefined symbol: _ZN2at4_ops10select_int4callERKNS_6TensorEll\n",
      "  warn(f\"Failed to load image Python extension: {e}\")\n"
     ]
    }
   ],
   "source": [
    "import util.misc as utils"
   ]
  },
  {
   "cell_type": "code",
   "execution_count": 102,
   "id": "a14b073f-e285-4985-8fd7-62ed0bdbb093",
   "metadata": {},
   "outputs": [],
   "source": [
    "sampler_train = torch.utils.data.RandomSampler(dataset)\n",
    "batch_sampler_train = torch.utils.data.BatchSampler(sampler_train, 32, drop_last=False)\n",
    "data_loader_train = DataLoader(dataset, batch_sampler=batch_sampler_train,\n",
    "                               collate_fn=utils.collate_fn_nt2, num_workers=1)"
   ]
  },
  {
   "cell_type": "code",
   "execution_count": null,
   "id": "564addeb-6bef-4994-9601-6e4609b78f66",
   "metadata": {},
   "outputs": [],
   "source": [
    "TOT_SAMPLES = 200\n",
    "\n",
    "neg_len_1 = []\n",
    "pos_len_1 = []\n",
    "neg_len_2 = []\n",
    "pos_len_2 = []\n",
    "\n",
    "conta = 0\n",
    "for s, targets in tqdm(data_loader_train, total = TOT_SAMPLES):\n",
    "    \n",
    "    if targets[0]['interacting']:\n",
    "        pos_len_1.append(s[0].shape[-1])\n",
    "        pos_len_2.append(s[1].shape[-1])\n",
    "    else:\n",
    "        neg_len_1.append(s[0].shape[-1])\n",
    "        neg_len_2.append(s[1].shape[-1])\n",
    "        \n",
    "    conta +=1\n",
    "    \n",
    "    if conta == TOT_SAMPLES:\n",
    "        break"
   ]
  },
  {
   "cell_type": "code",
   "execution_count": null,
   "id": "a81e5014-3d09-4b72-a64d-88f3c233e930",
   "metadata": {},
   "outputs": [],
   "source": [
    "#pos_width_multipliers = {1_000_000: 1.}\n",
    "\n",
    "sns.kdeplot(neg_len_1, color = 'red', label = 'gene1_negative')\n",
    "sns.kdeplot(pos_len_1, color = 'green', label = 'gene1_positive')\n",
    "sns.kdeplot(neg_len_2, color = 'blue', label = 'gene2_negative')\n",
    "sns.kdeplot(pos_len_2, color = 'black', label = 'gene2_positive')\n",
    "plt.title(f'Length distribution between gene1 and gene2')\n",
    "plt.legend()\n",
    "plt.show()"
   ]
  },
  {
   "cell_type": "code",
   "execution_count": null,
   "id": "3233038a-68b1-4834-b973-953a9b441643",
   "metadata": {},
   "outputs": [],
   "source": [
    "#{15:0.2, 50:0.2, 100:0.1, 150:0.1, 10_000_000: 0.4}\n",
    "\n",
    "sns.kdeplot(neg_len_1, color = 'red', label = 'gene1_negative')\n",
    "sns.kdeplot(pos_len_1, color = 'green', label = 'gene1_positive')\n",
    "sns.kdeplot(neg_len_2, color = 'blue', label = 'gene2_negative')\n",
    "sns.kdeplot(pos_len_2, color = 'black', label = 'gene2_positive')\n",
    "plt.title(f'Length distribution between gene1 and gene2')\n",
    "plt.legend()\n",
    "plt.show()"
   ]
  },
  {
   "cell_type": "markdown",
   "id": "13c03de8-28f5-4604-81e2-b61949c8c3d4",
   "metadata": {},
   "source": [
    "# Download test set 500 nucleotides"
   ]
  },
  {
   "cell_type": "markdown",
   "id": "760f90c2-738b-4531-80cb-b56a307975dd",
   "metadata": {},
   "source": [
    "##### FIRST THING TO DO: GO TO data.py and change \n",
    "MAX_RNA_SIZE = 500\n",
    "At the end of the creation of test500, drop the line where we put MAX_RNA_SIZE = 500"
   ]
  },
  {
   "cell_type": "code",
   "execution_count": 2,
   "id": "4cee14b5-686c-4a1f-b673-7acc0d786399",
   "metadata": {},
   "outputs": [
    {
     "name": "stderr",
     "output_type": "stream",
     "text": [
      "/data01/giorgio/ENTER/envs/rnarna/lib/python3.10/site-packages/torchvision/io/image.py:13: UserWarning: Failed to load image Python extension: /data01/giorgio/ENTER/envs/rnarna/lib/python3.10/site-packages/torchvision/image.so: undefined symbol: _ZN2at4_ops10select_int4callERKNS_6TensorEll\n",
      "  warn(f\"Failed to load image Python extension: {e}\")\n"
     ]
    }
   ],
   "source": [
    "import util.misc as utils"
   ]
  },
  {
   "cell_type": "code",
   "execution_count": 12,
   "id": "0c3950b6-e3f7-446c-a261-fe1cf2f33995",
   "metadata": {},
   "outputs": [],
   "source": [
    "set_data = 'val' #'test'\n",
    "\n",
    "assert set_data in ['test', 'val']"
   ]
  },
  {
   "cell_type": "code",
   "execution_count": 13,
   "id": "f020cb60-029c-43cf-91f1-d0200741e773",
   "metadata": {},
   "outputs": [],
   "source": [
    "file_test  = os.path.join(rna_rna_files_dir,  'RANDOM',  f\"gene_pairs_{set_data}_nt.txt\")\n",
    "with open(file_test, \"rb\") as fp:   # Unpickling\n",
    "    gene_pairs_test = pickle.load(fp)\n",
    "\n",
    "df_nt = pd.read_csv(os.path.join(metadata_dir,  'RANDOM', f'df_nt.csv'))\n",
    "df_genes_nt = pd.read_csv(os.path.join(metadata_dir,  'RANDOM', f'df_genes_nt.csv'))\n",
    "\n",
    "pos_multipliers = {10_000_000:1.,}\n",
    "neg_multipliers = pos_multipliers\n",
    "\n",
    "policies_test = [\n",
    "    EasyPosAugment(\n",
    "        per_sample=1,\n",
    "        interaction_selection=InteractionSelectionPolicy.LARGEST,\n",
    "        width_multipliers=pos_multipliers,\n",
    "        height_multipliers=pos_multipliers,\n",
    "    ),  \n",
    "    SmartNegAugment(\n",
    "        per_sample=1,\n",
    "        interaction_selection=InteractionSelectionPolicy.LARGEST,\n",
    "        width_multipliers=neg_multipliers,\n",
    "        height_multipliers=neg_multipliers,\n",
    "    ),\n",
    "]\n",
    "\n",
    "dataset_test = RNADatasetNT(\n",
    "    gene2info=df_genes_nt,\n",
    "    interactions=df_nt,\n",
    "    subset_file=file_test,\n",
    "    augment_policies=policies_test,\n",
    "    data_dir = os.path.join(embedding_dir, '32'),\n",
    "    scaling_factor = 5,\n",
    "    min_n_groups = np.nan,\n",
    "    max_n_groups = 80,\n",
    ")"
   ]
  },
  {
   "cell_type": "code",
   "execution_count": 14,
   "id": "29c87606-fe9a-46a3-8189-6645fff1625b",
   "metadata": {},
   "outputs": [
    {
     "data": {
      "application/vnd.jupyter.widget-view+json": {
       "model_id": "fea19eb463ba40759727d7338627d5ae",
       "version_major": 2,
       "version_minor": 0
      },
      "text/plain": [
       "  0%|          | 0/44382 [00:00<?, ?it/s]"
      ]
     },
     "metadata": {},
     "output_type": "display_data"
    }
   ],
   "source": [
    "test500 = []\n",
    "\n",
    "for s in tqdm(dataset_test):\n",
    "    \n",
    "    gene1, gene2 = s.gene1, s.gene2\n",
    "\n",
    "    x1, x2, y1, y2 = s.bbox.x1, s.bbox.x2, s.bbox.y1, s.bbox.y2\n",
    "\n",
    "    seed_x1, seed_x2, seed_y1, seed_y2 = s.seed_interaction_bbox.x1, s.seed_interaction_bbox.x2, s.seed_interaction_bbox.y1, s.seed_interaction_bbox.y2\n",
    "    \n",
    "    interacting = s.interacting\n",
    "\n",
    "    cdna1, cdna2 = s.gene1_info['cdna'], s.gene2_info['cdna']\n",
    "\n",
    "    cdna1slice, cdna2slice = cdna1[x1:x2], cdna2[y1:y2]\n",
    "\n",
    "    test500.append({\n",
    "        'gene1':gene1,\n",
    "        'gene2':gene2,\n",
    "        'x1':x1,\n",
    "        'x2':x2,\n",
    "        'y1':y1,\n",
    "        'y2':y2,\n",
    "        'seed_x1':seed_x1,\n",
    "        'seed_x2':seed_x2,\n",
    "        'seed_y1':seed_y1,\n",
    "        'seed_y2':seed_y2,\n",
    "        'cdna1':cdna1slice,\n",
    "        'cdna2':cdna2slice,\n",
    "        'len1':len(cdna1slice),\n",
    "        'len2':len(cdna2slice),\n",
    "    })\n",
    "test500 = pd.DataFrame(test500)\n",
    "\n",
    "assert test500.len1.max() == test500.len2.max() == 500\n",
    "n_rows = test500.shape[0]"
   ]
  },
  {
   "cell_type": "code",
   "execution_count": 15,
   "id": "aa1c3e87-3849-496e-bfa1-f1e62821b561",
   "metadata": {},
   "outputs": [],
   "source": [
    "# add the couples column, swap the columns that need to be swapped\n",
    "\n",
    "with open(os.path.join(rna_rna_files_dir, 'RANDOM', f\"gene_pairs_{set_data}_nt.txt\"), \"rb\") as fp:   #Pickling\n",
    "    subset_test = pickle.load(fp)\n",
    "\n",
    "df_nt = df_nt[df_nt.couples.isin(subset_test)]\n",
    "\n",
    "test500_1 = test500.merge(df_nt[['gene1', 'gene2', 'couples']], left_on = ['gene1', 'gene2'], right_on = ['gene1', 'gene2'])\n",
    "test500_2 = test500.merge(df_nt[['gene1', 'gene2', 'couples']], left_on = ['gene1', 'gene2'], right_on = ['gene2', 'gene1'])\n",
    "\n",
    "\n",
    "test500_2 = test500_2.drop(['gene1_x', 'gene2_x'], axis = 1).rename({'gene1_y':'gene1', 'gene2_y':'gene2'}, axis = 1)\n",
    "where = test500_2.len1>0 #all rows\n",
    "test500_2.loc[where, ['x1', 'y1']] = (test500_2.loc[where, ['y1', 'x1']].values)\n",
    "test500_2.loc[where, ['x2', 'y2']] = (test500_2.loc[where, ['y2', 'x2']].values)\n",
    "test500_2.loc[where, ['seed_x1', 'seed_y1']] = (test500_2.loc[where, ['seed_y1', 'seed_x1']].values)\n",
    "test500_2.loc[where, ['seed_x2', 'seed_y2']] = (test500_2.loc[where, ['seed_y2', 'seed_x2']].values)\n",
    "test500_2.loc[where, ['len1', 'len2']] = (test500_2.loc[where, ['len2', 'len1']].values)\n",
    "test500_2.loc[where, ['cdna1', 'cdna2']] = (test500_2.loc[where, ['cdna2', 'cdna1']].values)\n",
    "\n",
    "#shuffling\n",
    "test500 = pd.concat([test500_1, test500_2], axis = 0).sample(frac=1).reset_index(drop = True)"
   ]
  },
  {
   "cell_type": "code",
   "execution_count": 16,
   "id": "06529ec9-0324-45f1-878d-aef3858a2570",
   "metadata": {},
   "outputs": [
    {
     "data": {
      "text/html": [
       "<div>\n",
       "<style scoped>\n",
       "    .dataframe tbody tr th:only-of-type {\n",
       "        vertical-align: middle;\n",
       "    }\n",
       "\n",
       "    .dataframe tbody tr th {\n",
       "        vertical-align: top;\n",
       "    }\n",
       "\n",
       "    .dataframe thead th {\n",
       "        text-align: right;\n",
       "    }\n",
       "</style>\n",
       "<table border=\"1\" class=\"dataframe\">\n",
       "  <thead>\n",
       "    <tr style=\"text-align: right;\">\n",
       "      <th></th>\n",
       "      <th>gene1</th>\n",
       "      <th>gene2</th>\n",
       "      <th>x1</th>\n",
       "      <th>x2</th>\n",
       "      <th>y1</th>\n",
       "      <th>y2</th>\n",
       "      <th>seed_x1</th>\n",
       "      <th>seed_x2</th>\n",
       "      <th>seed_y1</th>\n",
       "      <th>seed_y2</th>\n",
       "      <th>cdna1</th>\n",
       "      <th>cdna2</th>\n",
       "      <th>len1</th>\n",
       "      <th>len2</th>\n",
       "      <th>couples</th>\n",
       "    </tr>\n",
       "  </thead>\n",
       "  <tbody>\n",
       "    <tr>\n",
       "      <th>0</th>\n",
       "      <td>ENSG00000130764_0_4303</td>\n",
       "      <td>ENSG00000155660_0_2921</td>\n",
       "      <td>1794</td>\n",
       "      <td>2294</td>\n",
       "      <td>1766</td>\n",
       "      <td>2266</td>\n",
       "      <td>2230</td>\n",
       "      <td>2263</td>\n",
       "      <td>1782</td>\n",
       "      <td>1828</td>\n",
       "      <td>GTTTGTTTGGCCGGTTTTGCGGAGGTTTCTATGCGGCAATGCTGAA...</td>\n",
       "      <td>GCTTTCAAAAAAGGAAAACTGAAGCCAGTCATCAAATCCCAGCCAG...</td>\n",
       "      <td>500</td>\n",
       "      <td>500</td>\n",
       "      <td>293454</td>\n",
       "    </tr>\n",
       "    <tr>\n",
       "      <th>1</th>\n",
       "      <td>ENSG00000160818_0_1972</td>\n",
       "      <td>ENSG00000184752_0_562</td>\n",
       "      <td>1414</td>\n",
       "      <td>1914</td>\n",
       "      <td>59</td>\n",
       "      <td>559</td>\n",
       "      <td>1859</td>\n",
       "      <td>1882</td>\n",
       "      <td>326</td>\n",
       "      <td>348</td>\n",
       "      <td>AAGAGCTGGAGTCAGCACTGTCCAGAAAGCCAAAAAGAAACAGAAG...</td>\n",
       "      <td>ACCGGCCACGGCGGTCTCCGAGGCTATCTACGGGTTTTTTTCAGGA...</td>\n",
       "      <td>500</td>\n",
       "      <td>500</td>\n",
       "      <td>297038</td>\n",
       "    </tr>\n",
       "    <tr>\n",
       "      <th>2</th>\n",
       "      <td>ENSG00000166484_0_3149</td>\n",
       "      <td>ENSG00000255352_0_1795</td>\n",
       "      <td>376</td>\n",
       "      <td>876</td>\n",
       "      <td>709</td>\n",
       "      <td>1209</td>\n",
       "      <td>651</td>\n",
       "      <td>670</td>\n",
       "      <td>996</td>\n",
       "      <td>1019</td>\n",
       "      <td>CCAAGACACCATGGCCGAGCCTCTGAAGGAGGAAGACGGCGAGGAC...</td>\n",
       "      <td>CAGAAGCTCTTCCTGGACAAGGTGAGTCCTCATGAACTGATCCTGA...</td>\n",
       "      <td>500</td>\n",
       "      <td>500</td>\n",
       "      <td>297881</td>\n",
       "    </tr>\n",
       "  </tbody>\n",
       "</table>\n",
       "</div>"
      ],
      "text/plain": [
       "                    gene1                   gene2    x1    x2    y1    y2  \\\n",
       "0  ENSG00000130764_0_4303  ENSG00000155660_0_2921  1794  2294  1766  2266   \n",
       "1  ENSG00000160818_0_1972   ENSG00000184752_0_562  1414  1914    59   559   \n",
       "2  ENSG00000166484_0_3149  ENSG00000255352_0_1795   376   876   709  1209   \n",
       "\n",
       "   seed_x1  seed_x2  seed_y1  seed_y2  \\\n",
       "0     2230     2263     1782     1828   \n",
       "1     1859     1882      326      348   \n",
       "2      651      670      996     1019   \n",
       "\n",
       "                                               cdna1  \\\n",
       "0  GTTTGTTTGGCCGGTTTTGCGGAGGTTTCTATGCGGCAATGCTGAA...   \n",
       "1  AAGAGCTGGAGTCAGCACTGTCCAGAAAGCCAAAAAGAAACAGAAG...   \n",
       "2  CCAAGACACCATGGCCGAGCCTCTGAAGGAGGAAGACGGCGAGGAC...   \n",
       "\n",
       "                                               cdna2  len1  len2  couples  \n",
       "0  GCTTTCAAAAAAGGAAAACTGAAGCCAGTCATCAAATCCCAGCCAG...   500   500   293454  \n",
       "1  ACCGGCCACGGCGGTCTCCGAGGCTATCTACGGGTTTTTTTCAGGA...   500   500   297038  \n",
       "2  CAGAAGCTCTTCCTGGACAAGGTGAGTCCTCATGAACTGATCCTGA...   500   500   297881  "
      ]
     },
     "execution_count": 16,
     "metadata": {},
     "output_type": "execute_result"
    }
   ],
   "source": [
    "test500.head(3)"
   ]
  },
  {
   "cell_type": "code",
   "execution_count": 17,
   "id": "37b93037-008d-42cd-8410-038723a1cc8b",
   "metadata": {},
   "outputs": [
    {
     "data": {
      "text/plain": [
       "44382"
      ]
     },
     "execution_count": 17,
     "metadata": {},
     "output_type": "execute_result"
    }
   ],
   "source": [
    "n_rows"
   ]
  },
  {
   "cell_type": "code",
   "execution_count": 18,
   "id": "036b9323-03ab-400d-8396-57a32c628052",
   "metadata": {},
   "outputs": [],
   "source": [
    "assert abs(n_rows - test500.shape[0]) < 20 # I Know there are some duplicates in df_nt \n",
    "# with respect to this key \n",
    "# df_nt['key'] = df_nt['gene1'] + '_' + df_nt['gene2'] \n",
    "# but they are few"
   ]
  },
  {
   "cell_type": "code",
   "execution_count": 19,
   "id": "bf8ad031-6e2d-4073-b71c-3e073c09ba25",
   "metadata": {
    "tags": []
   },
   "outputs": [],
   "source": [
    "test500.to_csv(os.path.join(metadata_dir, 'RANDOM', f'{set_data}500.csv'), index = False)"
   ]
  },
  {
   "cell_type": "markdown",
   "id": "4c111bd5-25b7-4744-b90f-73db9c8d1a95",
   "metadata": {},
   "source": [
    "# Create Datasets HQ"
   ]
  },
  {
   "cell_type": "code",
   "execution_count": 31,
   "id": "03ae6057-d20c-43a4-8e16-a3bc05de41a2",
   "metadata": {},
   "outputs": [],
   "source": [
    "TRESHOLD = 25 \n",
    "\n",
    "df_nt = pd.read_csv(os.path.join(metadata_dir, 'RANDOM', f'df_nt.csv'))\n",
    "df_genes_nt = pd.read_csv(os.path.join(metadata_dir,  'RANDOM',f'df_genes_nt.csv'))\n",
    "\n",
    "subset_train_nt = os.path.join(rna_rna_files_dir, 'RANDOM',f\"gene_pairs_training_nt.txt\")\n",
    "with open(subset_train_nt, \"rb\") as fp:  # Unpickling\n",
    "    subset_train = pickle.load(fp)\n",
    "\n",
    "subset_val_nt = os.path.join(rna_rna_files_dir, 'RANDOM', f\"gene_pairs_val_nt.txt\")\n",
    "with open(subset_val_nt, \"rb\") as fp:  # Unpickling\n",
    "    subset_val = pickle.load(fp)    \n",
    "    \n",
    "subset_test_nt = os.path.join(rna_rna_files_dir, 'RANDOM', f\"gene_pairs_test_nt.txt\")\n",
    "with open(subset_test_nt, \"rb\") as fp:  # Unpickling\n",
    "    subset_test = pickle.load(fp)    "
   ]
  },
  {
   "cell_type": "markdown",
   "id": "99e28fb0-ce7c-4b6b-b351-b0d66c6c641b",
   "metadata": {},
   "source": [
    "### Training "
   ]
  },
  {
   "cell_type": "code",
   "execution_count": 35,
   "id": "8abb74cf-43b8-4a87-a2c7-1974b7171d70",
   "metadata": {},
   "outputs": [
    {
     "name": "stdout",
     "output_type": "stream",
     "text": [
      "Perc of the training set in the treshold:  13.16 %\n"
     ]
    }
   ],
   "source": [
    "epsn, hnen = df_nt[df_nt.policy.isin(['easypos','smartneg'])], df_nt[df_nt.policy.isin(['easyneg','hardneg'])]\n",
    "\n",
    "train = epsn[epsn.couples.isin(subset_train)].reset_index(drop=True)\n",
    "train = train[(train.w > TRESHOLD)&(train.h > TRESHOLD)]\n",
    "\n",
    "print('Perc of the training set in the treshold: ', np.round(train.shape[0]/epsn[epsn.couples.isin(subset_train)].shape[0] * 100, 2), '%')"
   ]
  },
  {
   "cell_type": "code",
   "execution_count": 36,
   "id": "57f1f6bf-3b6c-4c7a-988d-c9acf2270850",
   "metadata": {
    "tags": []
   },
   "outputs": [],
   "source": [
    "def simulate(train, n_epochs = 25):\n",
    "    couples = []\n",
    "    interactings = []\n",
    "    for i in tqdm(range(n_epochs)):\n",
    "        train_sampled = balance_df(train)\n",
    "        couples += list(train_sampled.couples_id)\n",
    "        interactings += list(train_sampled.interacting)\n",
    "\n",
    "    res = pd.DataFrame({'couples':couples, 'interactings':interactings})\n",
    "    new_cols = res.couples.str.extractall('(.*)_(.*)')\n",
    "    res['gene1'] = new_cols.reset_index()[0]\n",
    "    res['gene2'] = new_cols.reset_index()[1]\n",
    "\n",
    "    gene_count_pos_list = list(res[res.interactings].gene1) + list(res[res.interactings].gene2)\n",
    "    gene_count_neg_list = list(res[res.interactings == False].gene1) + list(res[res.interactings == False].gene2)\n",
    "    gene_count_pos = pd.DataFrame({'gene': gene_count_pos_list, 'interacting':1})\n",
    "    gene_count_neg = pd.DataFrame({'gene': gene_count_neg_list, 'interacting':0})\n",
    "    gene_count_res = pd.concat([gene_count_pos, gene_count_neg], axis = 0)\n",
    "    gene_count_res['n'] = 1\n",
    "    gene_count_real = gene_count_res.groupby('gene').sum()\n",
    "    gene_count_real['not_interacting'] = gene_count_real['n'] - gene_count_real['interacting']\n",
    "    gene_count_real['diff'] = gene_count_real['interacting'] - gene_count_real['not_interacting']\n",
    "    gene_count_real = gene_count_real.reset_index()\n",
    "\n",
    "    res = obtain_pair_diff_distribution(res, gene_count_real)\n",
    "\n",
    "    sns.kdeplot(res['diff']/n_epochs, color = 'red', label = 'empirical')\n",
    "    plt.title(f'Gene1 Expected value to be an interactor + Gene2 Expected value be an interactor')\n",
    "    plt.show()"
   ]
  },
  {
   "cell_type": "code",
   "execution_count": 37,
   "id": "01065959-e547-4de7-8e57-90d88ad326dd",
   "metadata": {},
   "outputs": [
    {
     "data": {
      "application/vnd.jupyter.widget-view+json": {
       "model_id": "c89c8474e0d74b74a8872de9690feb25",
       "version_major": 2,
       "version_minor": 0
      },
      "text/plain": [
       "  0%|          | 0/25 [00:00<?, ?it/s]"
      ]
     },
     "metadata": {},
     "output_type": "display_data"
    },
    {
     "data": {
      "image/png": "[encoded data removed]",
      "text/plain": [
       "<Figure size 432x288 with 1 Axes>"
      ]
     },
     "metadata": {
      "needs_background": "light"
     },
     "output_type": "display_data"
    }
   ],
   "source": [
    "simulate(train)"
   ]
  },
  {
   "cell_type": "code",
   "execution_count": 38,
   "id": "f8fcd091-06af-4d6f-9ccf-f456e589c82a",
   "metadata": {},
   "outputs": [
    {
     "data": {
      "application/vnd.jupyter.widget-view+json": {
       "model_id": "9c06733193b143e38eb18dbaa744010f",
       "version_major": 2,
       "version_minor": 0
      },
      "text/plain": [
       "  0%|          | 0/25 [00:00<?, ?it/s]"
      ]
     },
     "metadata": {},
     "output_type": "display_data"
    },
    {
     "data": {
      "image/png": "[encoded data removed]",
      "text/plain": [
       "<Figure size 432x288 with 1 Axes>"
      ]
     },
     "metadata": {
      "needs_background": "light"
     },
     "output_type": "display_data"
    }
   ],
   "source": [
    "n_hardneg_easyneg = 10_000 # in total they are approx 22_000\n",
    "\n",
    "train_hnen = hnen[hnen.couples.isin(subset_train)].reset_index(drop=True)\n",
    "train_hnen = train_hnen.sample(n_hardneg_easyneg)\n",
    "\n",
    "train_hq = pd.concat([train, train_hnen], axis = 0)\n",
    "\n",
    "simulate(train_hq)"
   ]
  },
  {
   "cell_type": "markdown",
   "id": "6cb929a0-be68-423a-98f6-f572475cc712",
   "metadata": {},
   "source": [
    "### Test, val"
   ]
  },
  {
   "cell_type": "code",
   "execution_count": 51,
   "id": "55b0d54d-16ea-4767-bd79-9f0776742485",
   "metadata": {},
   "outputs": [],
   "source": [
    "test = epsn[epsn.couples.isin(subset_test)].reset_index(drop=True)\n",
    "test = test[(test.w > TRESHOLD)&(test.h > TRESHOLD)]\n",
    "test_hq = balance_df(test)\n",
    "\n",
    "val = epsn[epsn.couples.isin(subset_val)].reset_index(drop=True)\n",
    "val = val[(val.w > TRESHOLD)&(val.h > TRESHOLD)]\n",
    "val_hq = balance_df(val)"
   ]
  },
  {
   "cell_type": "markdown",
   "id": "04ffebd6-0d64-41ad-b68b-6d05933a9e4d",
   "metadata": {},
   "source": [
    "### Export"
   ]
  },
  {
   "cell_type": "code",
   "execution_count": 53,
   "id": "3d9532e0-7dd5-4e3a-a5c5-602aabf1b1b3",
   "metadata": {},
   "outputs": [],
   "source": [
    "gene_pairs_training = list(train_hq.couples)\n",
    "gene_pairs_test = list(test_hq.couples)\n",
    "gene_pairs_val = list(val_hq.couples)\n",
    "\n",
    "with open(os.path.join(rna_rna_files_dir,  'RANDOM', 'gene_pairs_training_nt_HQ.txt'), \"wb\") as fp:   #Pickling\n",
    "    pickle.dump(gene_pairs_training, fp)\n",
    "\n",
    "with open(os.path.join(rna_rna_files_dir,  'RANDOM', 'gene_pairs_test_nt_HQ.txt'), \"wb\") as fp:   #Pickling\n",
    "    pickle.dump(gene_pairs_test, fp)\n",
    "\n",
    "with open(os.path.join(rna_rna_files_dir,  'RANDOM', 'gene_pairs_val_nt_HQ.txt'), \"wb\") as fp:   #Pickling\n",
    "    pickle.dump(gene_pairs_val, fp)"
   ]
  }
 ],
 "metadata": {
  "kernelspec": {
   "display_name": "Python 3 (ipykernel)",
   "language": "python",
   "name": "python3"
  },
  "language_info": {
   "codemirror_mode": {
    "name": "ipython",
    "version": 3
   },
   "file_extension": ".py",
   "mimetype": "text/x-python",
   "name": "python",
   "nbconvert_exporter": "python",
   "pygments_lexer": "ipython3",
   "version": "3.9.7"
  }
 },
 "nbformat": 4,
 "nbformat_minor": 5
}
