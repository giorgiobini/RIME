{
 "cells": [
  {
   "cell_type": "code",
   "execution_count": 1,
   "id": "87739880",
   "metadata": {},
   "outputs": [],
   "source": [
    "its_jupyter_notebook = True"
   ]
  },
  {
   "cell_type": "code",
   "execution_count": 2,
   "id": "e8c9f77f",
   "metadata": {},
   "outputs": [
    {
     "name": "stdout",
     "output_type": "stream",
     "text": [
      "============================================================\n",
      "<class 'transformers.tokenization_dna.DNATokenizer'>\n"
     ]
    }
   ],
   "source": [
    "import pandas as pd\n",
    "import os\n",
    "import time\n",
    "import numpy as np\n",
    "import pickle\n",
    "import argparse\n",
    "from tqdm.notebook import tqdm\n",
    "import torch\n",
    "import matplotlib.pyplot as plt\n",
    "import sys\n",
    "import datetime\n",
    "from pathlib import Path\n",
    "import seaborn as sns\n",
    "import time\n",
    "from Bio import SeqIO\n",
    "from torch.utils.data import DataLoader\n",
    "import sys\n",
    "from sklearn.metrics import classification_report, roc_curve, roc_auc_score, auc\n",
    "\n",
    "sys.path.insert(0, '..')\n",
    "\n",
    "from config import *\n",
    "import util.misc as utils\n",
    "from models.nt_classifier import build as build_model\n",
    "if its_jupyter_notebook:\n",
    "    sys.argv = [''] #Remove this if it's not a jupyter notebook!"
   ]
  },
  {
   "cell_type": "markdown",
   "id": "2b3f27c1-c62f-45e0-92cc-365733e6e032",
   "metadata": {
    "tags": []
   },
   "source": [
    "### Only hardneg not containing regions of interaction from scratch"
   ]
  },
  {
   "cell_type": "code",
   "execution_count": 53,
   "id": "0c1098b6-60a7-47a4-9546-9bbc558d951a",
   "metadata": {},
   "outputs": [],
   "source": [
    "# MAX_SIZE = 5970\n",
    "#N_MAX_SAMPLES = 10000000\n",
    "# check_data_path = '/data01/giorgio/RNARNA-NT/dataset/external_dataset/my_check_predictions_ricseq'\n",
    "# embedding_dir = os.path.join(check_data_path, 'embeddings')"
   ]
  },
  {
   "cell_type": "code",
   "execution_count": 3,
   "id": "86e8bb5f-4da1-4e1b-a62e-a87c26405fc7",
   "metadata": {},
   "outputs": [],
   "source": [
    "MAX_SIZE = 5969\n",
    "N_MAX_SAMPLES = 100_000\n",
    "check_data_path = '/data01/giorgio/RNARNA-NT/dataset/external_dataset/my_check_predictions_ricseq5969'\n",
    "embedding_dir = os.path.join(check_data_path, 'embeddings')"
   ]
  },
  {
   "cell_type": "code",
   "execution_count": 4,
   "id": "1751d2b9-bb98-4559-9659-c00a970df787",
   "metadata": {},
   "outputs": [],
   "source": [
    "def load_sample_from_chunk(file_swap_neg, chunksize = 1_000_000, n_count_max = 5, n_samples = 500_000):\n",
    "    \n",
    "    count=0\n",
    "    \n",
    "    for chunk in pd.read_csv(file_swap_neg,chunksize=chunksize,sep=\"\\t\"):    \n",
    "        if count == 0:\n",
    "            subset_filtered=chunk.copy(deep=True)\n",
    "        else:\n",
    "            subset_filtered=subset_filtered.append(chunk)\n",
    "\n",
    "        count+=1\n",
    "\n",
    "        if count == n_count_max:\n",
    "            break\n",
    "        \n",
    "        \n",
    "    subset_filtered = subset_filtered.sample(n_samples).reset_index(drop = True)\n",
    "    \n",
    "    return subset_filtered\n",
    "\n",
    "def read_and_concatenate_bed_files_paris(directory, list_of_files_to_load, list_of_names, n_samples):\n",
    "    # List to store individual dataframes\n",
    "    dataframes = []\n",
    "    \n",
    "    # Iterate over all files in the directory\n",
    "    for _, filename in enumerate(list_of_files_to_load):\n",
    "        \n",
    "        \n",
    "        file_path = os.path.join(directory, filename)\n",
    "        \n",
    "        # Read the .bed file into a dataframe\n",
    "        if 'NegativeBySwap' in filename:\n",
    "            df = load_sample_from_chunk(file_path, n_samples = n_samples)\n",
    "        else:\n",
    "            df = pd.read_csv(file_path, sep='\\t')\n",
    "            print(df.shape[0])\n",
    "\n",
    "        # Check and rename columns if necessary\n",
    "        if 'chrom_1' in df.columns and 'chrom_2' in df.columns:\n",
    "            df = df.rename(columns={'chrom_1': 'emb_name_1', 'chrom_2': 'emb_name_2'})\n",
    "            \n",
    "            \n",
    "        df['id_pair'] = df['emb_name_1'] + '+' + df['emb_name_2'] + '+' + df['start_1'].astype(str) + '+' + df['end_1'].astype(str) + '+' + df['start_2'].astype(str) + '+' + df['end_2'].astype(str)\n",
    "        \n",
    "        \n",
    "        df = df.rename(columns={\n",
    "            'emb_name_1': 'embedding1name', \n",
    "            'emb_name_2': 'embedding2name',\n",
    "            'start_1': 'start_window1',\n",
    "            'end_1': 'end_window1',\n",
    "            'start_2': 'start_window2',\n",
    "            'end_2': 'end_window2',\n",
    "        })\n",
    "        \n",
    "        dataframes.append(df)\n",
    "    \n",
    "    # Concatenate all dataframes into one\n",
    "    concatenated_df = pd.concat(dataframes, ignore_index=True)\n",
    "    \n",
    "    concatenated_df = concatenated_df.drop('Unnamed: 0', axis = 1) \n",
    "    \n",
    "    concatenated_df = concatenated_df.drop_duplicates()\n",
    "\n",
    "    # devo droppare tutti quelli che non iniziano per ens\n",
    "    concatenated_df['ens_gene'] = concatenated_df['embedding1name'].str.startswith('ENS')\n",
    "    concatenated_df = concatenated_df[concatenated_df.ens_gene].reset_index(drop = True)\n",
    "    concatenated_df = concatenated_df.drop('ens_gene', axis = 1)\n",
    "\n",
    "    concatenated_df['ens_gene'] = concatenated_df['embedding2name'].str.startswith('ENS')\n",
    "    concatenated_df = concatenated_df[concatenated_df.ens_gene].reset_index(drop = True)\n",
    "    concatenated_df = concatenated_df.drop('ens_gene', axis = 1)\n",
    "    \n",
    "    return concatenated_df"
   ]
  },
  {
   "cell_type": "code",
   "execution_count": 5,
   "id": "558c889a-7de3-4c72-9264-e92b550a7dff",
   "metadata": {},
   "outputs": [],
   "source": [
    "import random\n",
    "\n",
    "def min_distance(interval1, interval2):\n",
    "    # Sorting intervals to make sure interval1[0] is less than interval2[0]\n",
    "    interval1, interval2 = sorted([interval1, interval2], key=lambda x: x[0])\n",
    "\n",
    "    # Case where intervals overlap\n",
    "    if interval1[1] >= interval2[0]:\n",
    "        return 0\n",
    "\n",
    "    # Minimum distance between non-overlapping intervals\n",
    "    return interval2[0] - interval1[1]\n",
    "\n",
    "def find_possible_interval(rna1_coords, len_rna1):\n",
    "    max_interval_length = len_rna1  # min(5970, len_rna1)\n",
    "\n",
    "    # Add boundaries to the list of coordinates\n",
    "    extended_coords = [(0, -1)] + sorted(rna1_coords) + [(len_rna1, len_rna1 + 1)]\n",
    "\n",
    "    # Initialize variables to keep track of the largest interval\n",
    "    largest_interval_start = 0\n",
    "    largest_interval_end = 0\n",
    "    largest_interval_length = 0\n",
    "\n",
    "    # Iterate through the sorted coordinates to find the gaps\n",
    "    for i in range(len(extended_coords) - 1):\n",
    "        current_end = extended_coords[i][1]\n",
    "        next_start = extended_coords[i + 1][0]\n",
    "\n",
    "        # Calculate the gap between the current end and the next start\n",
    "        gap_start = current_end + 1\n",
    "        gap_end = next_start - 1\n",
    "        gap_length = gap_end - gap_start + 1\n",
    "\n",
    "        # Check if this gap is the largest found so far and within the max limit\n",
    "        if gap_length > largest_interval_length and gap_length <= max_interval_length:\n",
    "            largest_interval_start = gap_start\n",
    "            largest_interval_end = gap_end\n",
    "            largest_interval_length = gap_length\n",
    "\n",
    "    # The interval should be [largest_interval_start, largest_interval_end]\n",
    "    # But to ensure it is within the allowed maximum length\n",
    "    if largest_interval_length > max_interval_length:\n",
    "        largest_interval_end = largest_interval_start + max_interval_length - 1\n",
    "\n",
    "    largest_interval = (largest_interval_start, largest_interval_end)\n",
    "    return largest_interval\n",
    "\n",
    "def find_random_interval(start, end, max_length):\n",
    "    # Calculate the length of the input interval\n",
    "    length_of_input_interval = end - start\n",
    "    # Calculate the maximum possible length for the random interval\n",
    "    max_interval_length = min(max_length, length_of_input_interval)\n",
    "    \n",
    "    # Generate a random starting point\n",
    "    random_start = random.randint(start, end - max_interval_length)\n",
    "    # Calculate the ending point of the interval\n",
    "    random_end = random_start + max_interval_length\n",
    "    \n",
    "    return (random_start, random_end)\n",
    "\n",
    "def find_hardneg_window(rna_coords, len_rna):\n",
    "    interval = find_possible_interval(rna_coords, len_rna)\n",
    "    return find_random_interval(interval[0], interval[1], MAX_SIZE)"
   ]
  },
  {
   "cell_type": "code",
   "execution_count": 6,
   "id": "782c4f88-e76d-47fb-8a09-21d1e47e3689",
   "metadata": {},
   "outputs": [],
   "source": [
    "filename = os.path.join(original_files_dir, 'Tx.RI_ALL.specie.no_abundant.filter_rep.no_mirna.no_mito.bedpe')\n",
    "\n",
    "rows = []\n",
    "with open(filename)as f:\n",
    "    for line in f:\n",
    "        L = line.strip().split()\n",
    "        rows.append(L)\n",
    "\n",
    "all_interactions = pd.DataFrame(rows, columns = ['tr1', 'x1', 'x2', 'tr2', 'y1', 'y2', 'name', 'n_reads', 'strand1', 'strand2', 'other_id', 'experiment'] )\n",
    "all_interactions[['x1', 'x2', 'y1', 'y2']] = all_interactions[['x1', 'x2', 'y1', 'y2']].apply(pd.to_numeric)\n",
    "\n",
    "#they are already mapped so the strand should be always '+'\n",
    "assert (all_interactions.strand1 == all_interactions.strand2).all()\n",
    "assert set(all_interactions.strand1) == {'+'}\n",
    "all_interactions = all_interactions.drop(['strand1', 'strand2'], axis = 1)\n",
    "\n",
    "paris_experiments = ['hs_PARIS1__Hela_highRNase', 'mm_PARIS2__GSM4503873_Mouse_brain_mRNA', 'hs_PARIS1__Hela_lowRNase', 'hs_PARIS1__HEK293T', 'hs_PARIS2__GSM4503872_HEK293_mRNA', 'mm_PARIS1__mES', 'hs_PARIS2__HEK293_AMT', 'hs_PARIS2__HEK293_Amoto']\n",
    "mario_experiments = ['mm_MARIO__mES']\n",
    "ricseq_experiments = ['hs_RIC-seq__HeLa_merge.InterGene.arms']\n",
    "ricseq_exp = all_interactions[all_interactions.experiment.isin(ricseq_experiments)].reset_index(drop = True)"
   ]
  },
  {
   "cell_type": "code",
   "execution_count": 7,
   "id": "2acdc6eb-ceb5-4d4e-9e9f-69d8dad9f98e",
   "metadata": {},
   "outputs": [],
   "source": [
    "ricseq_exp['couple'] = ricseq_exp['tr1'] + '_' + ricseq_exp['tr2']\n",
    "\n",
    "ricseq_exp['couple_swap'] = ricseq_exp['tr2'] + '_' + ricseq_exp['tr1']\n",
    "to_drop = set(ricseq_exp[ricseq_exp['couple'].isin(set(ricseq_exp['couple_swap'] ))].couple)\n",
    "ricseq_exp = ricseq_exp[~ricseq_exp.couple.isin(to_drop)]\n",
    "ricseq_exp = ricseq_exp.drop('couple_swap', axis = 1)\n",
    "\n",
    "# 2 or more reads\n",
    "ricseq_exp = ricseq_exp[ricseq_exp.n_reads.astype(int)>1]"
   ]
  },
  {
   "cell_type": "code",
   "execution_count": 8,
   "id": "a1ed6b7d-ab9f-4931-aa3f-05e13e7e8031",
   "metadata": {},
   "outputs": [],
   "source": [
    "df_genes = pd.read_csv(os.path.join(processed_files_dir, f'df_genes.csv'))"
   ]
  },
  {
   "cell_type": "code",
   "execution_count": 9,
   "id": "7a255c79-8f66-4a77-822e-cb218bc05ff4",
   "metadata": {},
   "outputs": [],
   "source": [
    "list_of_pos_couples = set(ricseq_exp.couple)"
   ]
  },
  {
   "cell_type": "code",
   "execution_count": null,
   "id": "1dc8d6f3-1702-4f73-9c54-add23c8e3930",
   "metadata": {},
   "outputs": [],
   "source": [
    "diz = {}\n",
    "idx=0\n",
    "\n",
    "for couple in tqdm(list_of_pos_couples):\n",
    "    \n",
    "    all_interactions = ricseq_exp[ricseq_exp.couple == couple]\n",
    "\n",
    "    rna1_coords = []\n",
    "    rna2_coords = []\n",
    "\n",
    "    for _, row in all_interactions.iterrows():\n",
    "        rna1_coords.append((row.x1, row.x2))\n",
    "        rna2_coords.append((row.y1, row.y2))\n",
    "\n",
    "    len_rna1 = df_genes[df_genes.ensembl_transcript_id == row.tr1].length.iloc[0]\n",
    "    len_rna2 = df_genes[df_genes.ensembl_transcript_id == row.tr2].length.iloc[0]\n",
    "\n",
    "    \n",
    "    if (len_rna1>8_000)&(len_rna2>8_000):\n",
    "        n_iters = 3\n",
    "    else:\n",
    "        n_iters = 1\n",
    "        \n",
    "    for i in range(n_iters):\n",
    "        embedding1_interval = find_hardneg_window(rna1_coords, len_rna1)\n",
    "        emb_length1 = embedding1_interval[1] - embedding1_interval[0]\n",
    "\n",
    "        embedding2_interval = find_hardneg_window(rna2_coords, len_rna2)\n",
    "        emb_length2 = embedding2_interval[1] - embedding2_interval[0]\n",
    "\n",
    "        if (emb_length1>550) & (emb_length2>550): # I calculate only if the embedding has at least length of 550\n",
    "\n",
    "            x1, x2 = find_random_interval(0, emb_length1, 500)\n",
    "            y1, y2 = find_random_interval(0, emb_length2, 500)\n",
    "\n",
    "            diz[idx] = {'couple': couple, \n",
    "                        'transcript1':row.tr1,\n",
    "                        'transcript2':row.tr2,\n",
    "                        'start_emb1':embedding1_interval[0],\n",
    "                        'end_emb1':embedding1_interval[1],\n",
    "                        'x1':x1,\n",
    "                        'x2':x2,\n",
    "                        'start_emb2':embedding2_interval[0],\n",
    "                        'end_emb2':embedding2_interval[1],\n",
    "                        'y1':y1,\n",
    "                        'y2':y2,\n",
    "                        'original_len1':len_rna1,\n",
    "                        'original_len2':len_rna2,\n",
    "                       }\n",
    "\n",
    "            idx+=1"
   ]
  },
  {
   "cell_type": "code",
   "execution_count": 62,
   "id": "bbb2130f-7594-484a-a53b-9a7610429e40",
   "metadata": {},
   "outputs": [],
   "source": [
    "hn = pd.DataFrame.from_dict(diz, orient = 'index')"
   ]
  },
  {
   "cell_type": "code",
   "execution_count": 65,
   "id": "95bba915-a64c-473d-89fc-e182b16b286f",
   "metadata": {},
   "outputs": [
    {
     "data": {
      "application/vnd.jupyter.widget-view+json": {
       "model_id": "12de555f4cab4a35802f6e7b41dfc341",
       "version_major": 2,
       "version_minor": 0
      },
      "text/plain": [
       "  0%|          | 0/9592 [00:00<?, ?it/s]"
      ]
     },
     "metadata": {},
     "output_type": "display_data"
    }
   ],
   "source": [
    "diz = {}\n",
    "for idx, row in tqdm(hn.iterrows(), total = hn.shape[0]):\n",
    "    tr1, tr2 = row.transcript1, row.transcript2\n",
    "    x1,x2,y1,y2 = row.start_emb1, row.end_emb1, row.start_emb2, row.end_emb2\n",
    "\n",
    "    all_interactions = ricseq_exp[(ricseq_exp['tr1'] == tr1)&(ricseq_exp['tr2'] == tr2)]\n",
    "    assert all_interactions.shape[0] > 0\n",
    "\n",
    "    distances_x = []\n",
    "    distances_y = []\n",
    "    for _, df_row in all_interactions.iterrows():\n",
    "        distances_x.append(\n",
    "            min_distance([x1,x2], [df_row.x1,df_row.x2])\n",
    "        )\n",
    "        distances_y.append(\n",
    "            min_distance([y1,y2], [df_row.y1,df_row.y2])\n",
    "        )\n",
    "\n",
    "    distance_x = min(distances_x)\n",
    "    distance_y = min(distances_y)\n",
    "    \n",
    "    diz[idx] = {'distance_x':distance_x, 'distance_y':distance_y}"
   ]
  },
  {
   "cell_type": "code",
   "execution_count": 66,
   "id": "74c7d85f-d77e-4fdc-ab6a-7d5396b1acc4",
   "metadata": {},
   "outputs": [],
   "source": [
    "distances = pd.DataFrame.from_dict(diz, orient = 'index')\n",
    "final_hn = pd.concat([hn, distances], axis = 1)"
   ]
  },
  {
   "cell_type": "code",
   "execution_count": 67,
   "id": "2dc9bddb-b8b6-4b95-a1cd-a6e1e6f719f9",
   "metadata": {},
   "outputs": [
    {
     "data": {
      "text/plain": [
       "7"
      ]
     },
     "execution_count": 67,
     "metadata": {},
     "output_type": "execute_result"
    }
   ],
   "source": [
    "wrong=final_hn[((final_hn.distance_x>0) & (final_hn.distance_y>0)) == False]\n",
    "# sono solo 7, shalla\n",
    "wrong.shape[0]"
   ]
  },
  {
   "cell_type": "code",
   "execution_count": 68,
   "id": "0eac323c-762f-4b68-b8e1-37e24a4c44ee",
   "metadata": {},
   "outputs": [],
   "source": [
    "final_hn = final_hn[((final_hn.distance_x>0) & (final_hn.distance_y>0)) == True].reset_index(drop = True)"
   ]
  },
  {
   "cell_type": "code",
   "execution_count": 76,
   "id": "cf196458-1b23-40e6-86f2-2cc19ec1133d",
   "metadata": {},
   "outputs": [],
   "source": [
    "final_hn = final_hn.sample(min(N_MAX_SAMPLES, final_hn.shape[0]))"
   ]
  },
  {
   "cell_type": "code",
   "execution_count": 77,
   "id": "43701a2a-c5a7-47d8-9353-bb9719885792",
   "metadata": {},
   "outputs": [
    {
     "data": {
      "text/plain": [
       "1000"
      ]
     },
     "execution_count": 77,
     "metadata": {},
     "output_type": "execute_result"
    }
   ],
   "source": [
    "final_hn.shape[0]"
   ]
  },
  {
   "cell_type": "code",
   "execution_count": 78,
   "id": "b3ae4390-3d95-4868-9757-cf33903d83b1",
   "metadata": {},
   "outputs": [
    {
     "data": {
      "text/plain": [
       "79"
      ]
     },
     "execution_count": 78,
     "metadata": {},
     "output_type": "execute_result"
    }
   ],
   "source": [
    "final_hn[(final_hn.distance_x>200)&(final_hn.distance_y>200)].shape[0]"
   ]
  },
  {
   "cell_type": "code",
   "execution_count": 79,
   "id": "5d3b0575-febb-4378-96c0-d8af01431081",
   "metadata": {},
   "outputs": [
    {
     "data": {
      "text/plain": [
       "True"
      ]
     },
     "execution_count": 79,
     "metadata": {},
     "output_type": "execute_result"
    }
   ],
   "source": [
    "#sono tutte 500 X 500\n",
    "(final_hn.x2-final_hn.x1).min() == (final_hn.x2-final_hn.x1).max() == (final_hn.y2-final_hn.y1).min() == 500"
   ]
  },
  {
   "cell_type": "code",
   "execution_count": 81,
   "id": "ebda9e2e-ad76-48ab-97cc-f8dfa08324e1",
   "metadata": {},
   "outputs": [],
   "source": [
    "assert (final_hn.end_emb1-final_hn.start_emb1).max() == (final_hn.end_emb2-final_hn.start_emb2).max() == MAX_SIZE"
   ]
  },
  {
   "cell_type": "code",
   "execution_count": 82,
   "id": "53535bfd-99d0-4c64-8991-a8b4eeaf48d2",
   "metadata": {},
   "outputs": [
    {
     "data": {
      "text/plain": [
       "(563, 560)"
      ]
     },
     "execution_count": 82,
     "metadata": {},
     "output_type": "execute_result"
    }
   ],
   "source": [
    "(final_hn.end_emb1-final_hn.start_emb1).min(), (final_hn.end_emb2-final_hn.start_emb2).min() "
   ]
  },
  {
   "cell_type": "code",
   "execution_count": 83,
   "id": "9bd0953c-9e5f-4194-9809-d55bae6a4d11",
   "metadata": {},
   "outputs": [
    {
     "data": {
      "text/plain": [
       "<matplotlib.legend.Legend at 0x7efc9e84cb20>"
      ]
     },
     "execution_count": 83,
     "metadata": {},
     "output_type": "execute_result"
    },
    {
     "data": {
      "image/png": "[encoded data removed]",
      "text/plain": [
       "<Figure size 432x288 with 1 Axes>"
      ]
     },
     "metadata": {
      "needs_background": "light"
     },
     "output_type": "display_data"
    }
   ],
   "source": [
    "plt.title('emb length')\n",
    "sns.kdeplot(data=list(final_hn.end_emb1-final_hn.start_emb1), label = 'emb length1')\n",
    "sns.kdeplot(data=list(final_hn.end_emb2-final_hn.start_emb2), label = 'emb length2')\n",
    "plt.legend()"
   ]
  },
  {
   "cell_type": "code",
   "execution_count": 84,
   "id": "2964401b-5efc-4d09-8180-60391934e11a",
   "metadata": {},
   "outputs": [],
   "source": [
    "final_hn['id_pair'] = final_hn.index"
   ]
  },
  {
   "cell_type": "code",
   "execution_count": 85,
   "id": "819d4ddd-00b5-44e9-b73b-03adf6b804ae",
   "metadata": {},
   "outputs": [],
   "source": [
    "final_hn['embedding1name'] = final_hn.transcript1 + '_' + final_hn.start_emb1.astype(str) + '_' + final_hn.end_emb1.astype(str)\n",
    "final_hn['embedding2name'] = final_hn.transcript2 + '_' + final_hn.start_emb2.astype(str) + '_' + final_hn.end_emb2.astype(str)"
   ]
  },
  {
   "cell_type": "code",
   "execution_count": 86,
   "id": "51701fa0-142f-4c69-bd83-1d7e782649de",
   "metadata": {},
   "outputs": [],
   "source": [
    "final_hn = final_hn.rename(columns={\n",
    "            'x1': 'start_window1',\n",
    "            'x2': 'end_window1',\n",
    "            'y1': 'start_window2',\n",
    "            'y2': 'end_window2',\n",
    "        })"
   ]
  },
  {
   "cell_type": "code",
   "execution_count": 87,
   "id": "2065e92b-2b43-49bf-a217-5e075a5ee990",
   "metadata": {},
   "outputs": [],
   "source": [
    "final_hn.to_csv(os.path.join(check_data_path, 'df_hn.csv'), index = False)"
   ]
  },
  {
   "cell_type": "code",
   "execution_count": 88,
   "id": "87635620-7c17-426c-9a97-3cd39c6f207f",
   "metadata": {},
   "outputs": [],
   "source": [
    "pairs = final_hn[['embedding1name', 'embedding2name','id_pair', 'start_window1', 'end_window1', 'start_window2', 'end_window2']]\n",
    "pairs.to_csv(os.path.join(check_data_path, 'pairs.csv'), index = False)"
   ]
  },
  {
   "cell_type": "markdown",
   "id": "f25a0080-3a6a-44be-9d5e-06322fad5e7a",
   "metadata": {},
   "source": [
    "#### creo df_query"
   ]
  },
  {
   "cell_type": "code",
   "execution_count": 89,
   "id": "4ede13bf-b6b9-4b56-8650-bafffd8e769b",
   "metadata": {},
   "outputs": [],
   "source": [
    "idx = 0\n",
    "diz_q = {}\n",
    "for _, row in final_hn.iterrows():\n",
    "    \n",
    "    cdna1 = df_genes[df_genes.ensembl_transcript_id == row.transcript1].cdna.iloc[0]\n",
    "    cdna1 = cdna1[row.start_emb1: row.end_emb1]\n",
    "    \n",
    "    cdna2 = df_genes[df_genes.ensembl_transcript_id == row.transcript2].cdna.iloc[0]\n",
    "    cdna2 = cdna2[row.start_emb2: row.end_emb2]\n",
    "    \n",
    "    \n",
    "    assert len(cdna1) == row.end_emb1 - row.start_emb1\n",
    "    assert len(cdna2) == row.end_emb2 - row.start_emb2\n",
    "    \n",
    "    \n",
    "    diz_q[idx] = {\n",
    "        'id_query': row.embedding1name, \n",
    "        'cdna': cdna1\n",
    "    }\n",
    "    idx +=1\n",
    "    \n",
    "    diz_q[idx] = {\n",
    "        'id_query': row.embedding2name, \n",
    "        'cdna': cdna2\n",
    "    }\n",
    "    idx +=1"
   ]
  },
  {
   "cell_type": "code",
   "execution_count": 90,
   "id": "57ff4f01-0bfc-4f5e-9841-b9e5596e1848",
   "metadata": {},
   "outputs": [],
   "source": [
    "df_query = pd.DataFrame.from_dict(diz_q, orient = 'index')\n",
    "df_query = df_query.drop_duplicates().reset_index(drop = True)"
   ]
  },
  {
   "cell_type": "code",
   "execution_count": 91,
   "id": "37578e4d-9495-44b9-a290-008c417c02db",
   "metadata": {},
   "outputs": [
    {
     "name": "stdout",
     "output_type": "stream",
     "text": [
      "estimated # hours: 0.47\n",
      "estimated # days: 0.02\n",
      "estimated terabytes (pessimistic): 0.02\n",
      "estimated terabytes (realistic): 0.01\n"
     ]
    }
   ],
   "source": [
    "def estimate_time_and_space(n_samples):\n",
    "    #TIME\n",
    "    minutes = 3219*n_samples/(228278)\n",
    "    hours = minutes/60\n",
    "    days = hours/24\n",
    "    print('estimated # hours:', np.round(hours, 2))\n",
    "    print('estimated # days:', np.round(days, 2))\n",
    "\n",
    "    mb = 10.2*n_samples\n",
    "    gb = mb/1000\n",
    "    tb = gb/1000\n",
    "    print('estimated terabytes (pessimistic):', np.round(tb, 2))\n",
    "    mb = 1995*n_samples/(300)\n",
    "    gb = mb/1000\n",
    "    tb = gb/1000\n",
    "    print('estimated terabytes (realistic):', np.round(tb, 2))\n",
    "estimate_time_and_space(df_query.shape[0])"
   ]
  },
  {
   "cell_type": "code",
   "execution_count": 92,
   "id": "87add418-ab47-4f82-8f68-48847d551ccd",
   "metadata": {},
   "outputs": [],
   "source": [
    "df_query.to_csv(os.path.join(check_data_path, f'embedding_query.csv'), index = False)"
   ]
  },
  {
   "cell_type": "code",
   "execution_count": 93,
   "id": "55c96073-8846-408f-b20c-82e1f47260fb",
   "metadata": {},
   "outputs": [],
   "source": [
    "assert set(df_query.id_query) == set(pairs.embedding1name).union(pairs.embedding2name)"
   ]
  },
  {
   "cell_type": "markdown",
   "id": "db23ba0a-4427-4e10-9032-94263dd9ddf9",
   "metadata": {},
   "source": [
    "### Read the results"
   ]
  },
  {
   "cell_type": "code",
   "execution_count": 10,
   "id": "b338047c-a276-4d37-9937-419816a790d5",
   "metadata": {},
   "outputs": [
    {
     "name": "stdout",
     "output_type": "stream",
     "text": [
      "0.795\n"
     ]
    }
   ],
   "source": [
    "final_hn = pd.read_csv(os.path.join(check_data_path, 'df_hn.csv'))\n",
    "predictions = pd.read_csv(os.path.join(check_data_path, 'predictions.csv'))\n",
    "\n",
    "final_hn = final_hn.merge(predictions, left_on = 'id_pair', right_on = 'id_sample')\n",
    "\n",
    "\n",
    "vc = (final_hn.probability<0.5).value_counts()\n",
    "tnr = (vc.loc[True])/ final_hn.shape[0]\n",
    "print(tnr)"
   ]
  },
  {
   "cell_type": "code",
   "execution_count": 18,
   "id": "f9ff132e-ec80-48d2-8585-8a6e3a6077bb",
   "metadata": {},
   "outputs": [
    {
     "name": "stdout",
     "output_type": "stream",
     "text": [
      "0.9745762711864406\n"
     ]
    }
   ],
   "source": [
    "final_hn = final_hn[(final_hn['end_emb2'] - final_hn['start_emb2'] == 5969) & (final_hn['end_emb1'] - final_hn['start_emb1'] == 5969)]\n",
    "\n",
    "vc = (final_hn.probability<0.5).value_counts()\n",
    "tnr = (vc.loc[True])/ final_hn.shape[0]\n",
    "print(tnr)"
   ]
  },
  {
   "cell_type": "markdown",
   "id": "3d24f757-c5ce-49fc-8f6d-245ad63ec5ec",
   "metadata": {},
   "source": [
    "##### Compare results with df_nt results"
   ]
  },
  {
   "cell_type": "code",
   "execution_count": 11,
   "id": "ff98e478-798a-42f9-81a6-3e6abbe61b3d",
   "metadata": {},
   "outputs": [
    {
     "name": "stdout",
     "output_type": "stream",
     "text": [
      "# excluded couples:  234\n"
     ]
    }
   ],
   "source": [
    "from util.evaluation import *\n",
    "\n",
    "def load_res_and_tools(external_dataset_dir, checkpoint_dir, tools, dataset, how, only_test, exclude_train_genes, exclude_paris_genes, exclude_paris_couples, filter_hq_ricseq, MIN_N_READS_RICSEQ, specie_paris, paris_hq, paris_hq_threshold):\n",
    "    \n",
    "    if type(checkpoint_dir) == str:\n",
    "        checkpoint_dir = [checkpoint_dir]\n",
    "    else:\n",
    "        assert type(checkpoint_dir) == list\n",
    "        assert type(checkpoint_dir[0]) == str\n",
    "\n",
    "    if dataset == 'paris':\n",
    "        \n",
    "        test500 = pd.read_csv(os.path.join(metadata_dir, f'test500.csv'))\n",
    "        test500['distance_from_site'] = ( (test500['distance_x'] ** 2) + (test500['distance_y']** 2) )**(0.5) #pitagora\n",
    "        test500['distance_from_site_embedding'] = ( (test500['distance_embedding_x'] ** 2) + (test500['distance_embedding_y']** 2) )**(0.5) #pitagora\n",
    "        df_nt = pd.read_csv(os.path.join(metadata_dir, f'df_nt_HQ.csv'))\n",
    "        assert test500.shape[0] == df_nt[['couples', 'interacting']].merge(test500, on = 'couples').shape[0]\n",
    "        test500 = df_nt[['couples', 'interacting']].merge(test500, on = 'couples').reset_index(drop = True)\n",
    "        \n",
    "        for i in range(len(checkpoint_dir)):\n",
    "            r = load_paris_results(checkpoint_dir[i], test500, df_nt, 'test', specie_paris)\n",
    "            if paris_hq:\n",
    "                r = filter_hq_data_by_interaction_length(r, test500, paris_hq_threshold)\n",
    "                \n",
    "            if i == 0:\n",
    "                res = r.copy()\n",
    "            else:\n",
    "                r = r.rename({'probability':f'nt{i}'}, axis = 1)\n",
    "                res = pd.concat([res, r[f'nt{i}']], axis = 1)\n",
    "    else:\n",
    "        test500 = pd.read_csv(os.path.join(metadata_dir, f'{how}500.csv'))\n",
    "        test500['distance_from_site'] = ( (test500['distance_x'] ** 2) + (test500['distance_y']** 2) )**(0.5) #pitagora\n",
    "        test500['distance_from_site_embedding'] = ( (test500['distance_embedding_x'] ** 2) + (test500['distance_embedding_y']** 2) )**(0.5) #pitagora\n",
    "        df_nt = pd.read_csv(os.path.join(metadata_dir, f'df_nt_{how}.csv'))\n",
    "        assert df_nt[['couples', 'interacting']].drop_duplicates().shape[0] == df_nt.shape[0]\n",
    "        test500 = df_nt[['couples', 'interacting']].merge(test500, on = 'couples') #questo interacting verra poi\n",
    "        \n",
    "        for i in range(len(checkpoint_dir)):\n",
    "            r = load_ricseq_splash_mario_results(checkpoint_dir[i], test500, df_nt, how, only_test, exclude_train_genes, exclude_paris_genes, exclude_paris_couples, filter_hq_ricseq, MIN_N_READS_RICSEQ)\n",
    "            if i == 0:\n",
    "                res = r.copy()\n",
    "            else:\n",
    "                r = r.rename({'probability':f'nt{i}'}, axis = 1)\n",
    "                res = pd.concat([res, r[f'nt{i}']], axis = 1)\n",
    "    \n",
    "    assert (res['ground_truth'] == res['interacting'].astype(int)).all()\n",
    "    \n",
    "    \n",
    "    for tool_name in tools:\n",
    "        tool = pd.read_csv(os.path.join(external_dataset_dir, f'{tool_name}_{how}500.csv'), sep = ',').fillna(0)\n",
    "        tool['value'] = tool['value'].astype(float)\n",
    "        assert (tool.minimum == True).all()\n",
    "        res = res.merge(tool[['value', 'couples']].rename({'couples':'id_sample', 'value':tool_name}, axis =1), on = 'id_sample', how = 'left').fillna(0)\n",
    "\n",
    "    \n",
    "    #mi serve solo per il merge, poi le elimino queste colonne\n",
    "    if dataset == 'splash':\n",
    "        df_nt['simple_repeats'] = np.nan\n",
    "        df_nt['sine_alu'] = np.nan \n",
    "        df_nt['low_complex'] = np.nan \n",
    "        df_nt['n_reads'] = np.nan \n",
    "    \n",
    "    #now we merge with ENHN500\n",
    "    testenhn500 = pd.read_csv(os.path.join(metadata_dir, f'{how}ENHN500.csv'))\n",
    "    testenhn500['distance_from_site'] = ( (testenhn500['distance_x'] ** 2) + (testenhn500['distance_y']** 2) )**(0.5) #pitagora\n",
    "    testenhn500['distance_from_site_embedding'] = ( (testenhn500['distance_embedding_x'] ** 2) + (testenhn500['distance_embedding_y']** 2) )**(0.5) #pitagora\n",
    "    testenhn500 = df_nt[['couples', 'where', 'where_x1', 'where_y1', 'simple_repeats', 'sine_alu', 'low_complex']].merge(testenhn500, on = 'couples')\n",
    "    \n",
    "    for i in range(len(checkpoint_dir)):\n",
    "        r = pd.read_csv(os.path.join(checkpoint_dir[i], f'{how}ENHN_results500.csv')).drop('policy', axis = 1)\n",
    "        # qui e necessario perche 'ground_truth' è preso da df_nt, che originariamente mette positivi gli hardneg. \n",
    "        # invece in ENHN500 quello che in df_nt era un positivo diventa un negativo (hardneg, easyneg). comunque queste colonne verranno sovrascritte dopo\n",
    "        r['ground_truth'] = 0\n",
    "        r['interacting'] = False\n",
    "        if i == 0:\n",
    "            enhn = r.copy()\n",
    "        else:\n",
    "            r = r.rename({'probability':f'nt{i}'}, axis = 1)\n",
    "            enhn = pd.concat([enhn, r[f'nt{i}']], axis = 1)\n",
    "    \n",
    "    if dataset == 'ricseq':\n",
    "        #aggiungi n_reads a testenhn500, quindi a enhn (visto che poi lo mergio con testenhn500)\n",
    "        to_merge = res[['id_sample', 'n_reads']].rename({'id_sample':'couples'}, axis = 1).drop_duplicates().reset_index(drop=True)\n",
    "        assert len(set(to_merge.couples)) == to_merge.shape[0]\n",
    "        testenhn500 = testenhn500.merge(to_merge)\n",
    "                \n",
    "           \n",
    "    #tengo solo le couples di res, perche escludo quelle che erano tipo nel training di paris, oppure solo paris human, oppure quelle < n_reads_ricseq, ecc... \n",
    "    enhn = enhn[enhn.couples.isin(res.couples)].reset_index(drop = True)\n",
    "    \n",
    "    #policy tengo quello di testenhn500, che sono hn, en\n",
    "    enhn = enhn.merge(testenhn500.drop(['g1', 'g2'], axis = 1).rename({'couples':'id_sample'}, axis = 1), on = 'id_sample').reset_index(drop = True)\n",
    "\n",
    "    enhnintarna = load_intarnaENHN500(how)\n",
    "    enhn = enhn.merge(enhnintarna[['E','E_norm', 'couples']].rename({'couples':'id_sample'}, axis =1), on = 'id_sample', how = 'left').fillna(0)\n",
    "    enhn['original_area'] = enhn.original_length1 * enhn.original_length2    \n",
    "\n",
    "    how = how + 'ENHN'\n",
    "    for tool_name in tools:\n",
    "        tool = pd.read_csv(os.path.join(external_dataset_dir, f'{tool_name}_{how}500.csv'), sep = ',').fillna(0)\n",
    "        tool['value'] = tool['value'].astype(float)\n",
    "        assert (tool.minimum == True).all()\n",
    "        enhn = enhn.merge(tool[['value', 'couples']].rename({'couples':'id_sample', 'value':tool_name}, axis =1), on = 'id_sample', how = 'left')\n",
    "\n",
    "    # tolgo 'E_norm_conf', 'ensemble_score'\n",
    "    res = res.filter(list(enhn.columns), axis = 1)\n",
    "    \n",
    "    res = pd.concat([res, enhn], axis = 0).reset_index(drop=True)\n",
    "    \n",
    "    res = res.drop(['Unnamed: 0', 'simple_repeats', 'sine_alu', 'low_complex'], axis = 1)\n",
    "    res['dataset'] = dataset\n",
    "    \n",
    "    \n",
    "    # l unica cosa affidabile è la colonna policy, che viene da test500, testenhn500\n",
    "    res.loc[res.policy.isin(['easyneg', 'hardneg', 'smartneg']), 'interacting'] = False\n",
    "    res.loc[res.policy.isin(['easyneg', 'hardneg', 'smartneg']), 'ground_truth'] = 0\n",
    "    res.loc[res.policy.isin(['easypos']), 'interacting'] = True\n",
    "    res.loc[res.policy.isin(['easypos']), 'ground_truth'] = 1\n",
    "    \n",
    "    assert res[res.ground_truth.isna()].shape[0] == res[res.interacting.isna()].shape[0] == 0\n",
    "    assert (res['ground_truth'] == res['interacting'].astype(int)).all()\n",
    "    \n",
    "    return res\n",
    "\n",
    "\n",
    "def load_test_set_df(external_dataset_dir, checkpoint_dir, tools, dataset, args_datasets):\n",
    "    \n",
    "    assert dataset in ['psoralen', 'paris', 'splash', 'mario', 'ricseq', 'paris_mouse']\n",
    "\n",
    "    if (dataset == 'psoralen'):\n",
    "        \n",
    "        dataset, how = 'paris',  'test'\n",
    "        paris = load_res_and_tools(external_dataset_dir, checkpoint_dir, tools, dataset, how, \n",
    "                                   args_datasets[how]['only_test'], \n",
    "                                   args_datasets[how]['exclude_train_genes'], \n",
    "                                   args_datasets[how]['exclude_paris_genes'], \n",
    "                                   args_datasets[how]['exclude_paris_couples'],\n",
    "                                   args_datasets[how]['filter_hq_ricseq'], \n",
    "                                   args_datasets[how]['MIN_N_READS_RICSEQ'], \n",
    "                                   args_datasets[how]['SPECIE_PARIS'],\n",
    "                                   args_datasets[how]['PARIS_HQ'],\n",
    "                                   args_datasets[how]['PARIS_HQ_THRESHOLD'],)\n",
    "        \n",
    "        dataset, how = 'splash', 'splash'\n",
    "        splash = load_res_and_tools(external_dataset_dir, checkpoint_dir, tools, dataset, how, \n",
    "                                   args_datasets[how]['only_test'], \n",
    "                                   args_datasets[how]['exclude_train_genes'], \n",
    "                                   args_datasets[how]['exclude_paris_genes'], \n",
    "                                   args_datasets[how]['exclude_paris_couples'],\n",
    "                                   args_datasets[how]['filter_hq_ricseq'], \n",
    "                                   args_datasets[how]['MIN_N_READS_RICSEQ'], \n",
    "                                   args_datasets[how]['SPECIE_PARIS'],\n",
    "                                   args_datasets[how]['PARIS_HQ'],\n",
    "                                   args_datasets[how]['PARIS_HQ_THRESHOLD'],)\n",
    "                  \n",
    "        assert set(paris.columns) == set(splash.columns)\n",
    "        res = pd.concat([paris, splash], axis = 0).reset_index(drop=True)\n",
    "    \n",
    "    else: \n",
    "        if dataset == 'paris_mouse':\n",
    "            SPECIE_PARIS = 'mouse'\n",
    "            dataset = 'paris'\n",
    "        else:\n",
    "            SPECIE_PARIS = 'human'\n",
    "            \n",
    "        how = dataset if dataset not in ['paris', 'paris_mouse'] else 'test'\n",
    "        res = load_res_and_tools(external_dataset_dir, checkpoint_dir, tools, dataset, how, \n",
    "                                   args_datasets[how]['only_test'], \n",
    "                                   args_datasets[how]['exclude_train_genes'], \n",
    "                                   args_datasets[how]['exclude_paris_genes'], \n",
    "                                   args_datasets[how]['exclude_paris_couples'],\n",
    "                                   args_datasets[how]['filter_hq_ricseq'], \n",
    "                                   args_datasets[how]['MIN_N_READS_RICSEQ'], \n",
    "                                   SPECIE_PARIS,\n",
    "                                   args_datasets[how]['PARIS_HQ'],\n",
    "                                   args_datasets[how]['PARIS_HQ_THRESHOLD'],)\n",
    "                  \n",
    "    return res\n",
    "    \n",
    "def obtain_epsn_ephnen_from_res(res):\n",
    "    easypos_smartneg = res[(res.policy.isin(['easypos', 'smartneg']))].reset_index(drop = True)\n",
    "    ephnen = res[\n",
    "        ((res.distance_from_site_embedding > 0)&(res.policy.isin(['hardneg', 'easyneg']))) |\n",
    "        (res.policy == 'easypos')\n",
    "    ].reset_index(drop = True)\n",
    "    enhn500 = res[(res.distance_from_site_embedding == 0)&(res.policy.isin(['easypos', 'hardneg', 'easyneg']))].reset_index(drop = True)\n",
    "    return easypos_smartneg, ephnen, enhn500\n",
    "\n",
    "datasets = ['paris', 'ricseq', 'splash', 'mario']\n",
    "tools = ['priblast', 'RNAplex', 'rnacofold', 'assa', 'risearch2', 'RNAhybrid', 'RNAup'] #['priblast', 'risearch2'] #['priblast', 'RNAup', 'RNAplex', 'RNAhybrid', 'rnacofold', 'risearch2', 'assa']\n",
    "energy_columns = tools + ['E_norm']\n",
    "\n",
    "#ARGS for paris\n",
    "PARIS_HQ = False\n",
    "PARIS_HQ_THRESHOLD = 35\n",
    "MIN_N_READS_RICSEQ = 2\n",
    "RICSEQ_HQ = False\n",
    "\n",
    "RICSEQ_TEST = False\n",
    "SPLASH_TEST = True\n",
    "\n",
    "#ARGS for splash, ricseq, mario\n",
    "\n",
    "\n",
    "args_datasets = {'paris':\n",
    "                 {'only_test' : np.nan, #uneuseful for paris\n",
    "                  'exclude_train_genes' : np.nan, #uneuseful for paris\n",
    "                  'exclude_paris_genes' : np.nan, #uneuseful for paris\n",
    "                  'exclude_paris_couples' : np.nan, #uneuseful for paris\n",
    "                  'filter_hq_ricseq' : np.nan, #uneuseful for paris\n",
    "                  'MIN_N_READS_RICSEQ' : np.nan, #uneuseful for paris\n",
    "                  'SPECIE_PARIS' : 'human',\n",
    "                  'PARIS_HQ':PARIS_HQ,\n",
    "                  'PARIS_HQ_THRESHOLD':PARIS_HQ_THRESHOLD,\n",
    "                 }, \n",
    "                 'ricseq': \n",
    "                 {'only_test' : RICSEQ_TEST,\n",
    "                  'exclude_train_genes' : False,\n",
    "                  'exclude_paris_genes' : False,\n",
    "                  'exclude_paris_couples' : True,\n",
    "                  'filter_hq_ricseq' : RICSEQ_HQ,\n",
    "                  'MIN_N_READS_RICSEQ' : MIN_N_READS_RICSEQ,\n",
    "                  'SPECIE_PARIS' : np.nan, #uneuseful for ricseq\n",
    "                  'PARIS_HQ':np.nan, #uneuseful for ricseq\n",
    "                  'PARIS_HQ_THRESHOLD':np.nan, #uneuseful for ricseq\n",
    "                 },\n",
    "                 'splash': \n",
    "                 {'only_test' : SPLASH_TEST,\n",
    "                  'exclude_train_genes' : False,\n",
    "                  'exclude_paris_genes' : False,\n",
    "                  'exclude_paris_couples' : True,\n",
    "                  'filter_hq_ricseq' : False, #uneuseful for splash\n",
    "                  'MIN_N_READS_RICSEQ' : np.nan, #uneuseful for splash\n",
    "                  'SPECIE_PARIS' : np.nan, #uneuseful for splash\n",
    "                  'PARIS_HQ':np.nan, #uneuseful for splash\n",
    "                  'PARIS_HQ_THRESHOLD':np.nan, #uneuseful for splash\n",
    "                 },\n",
    "                'mario': \n",
    "                 {'only_test' : False,\n",
    "                  'exclude_train_genes' : False,\n",
    "                  'exclude_paris_genes' : False,\n",
    "                  'exclude_paris_couples' : True,\n",
    "                  'filter_hq_ricseq' : False, #uneuseful for mario\n",
    "                  'MIN_N_READS_RICSEQ' : np.nan,  #uneuseful for mario\n",
    "                  'SPECIE_PARIS' : np.nan, #uneuseful for mario\n",
    "                  'PARIS_HQ':np.nan, #uneuseful for mario\n",
    "                  'PARIS_HQ_THRESHOLD':np.nan, #uneuseful for mario\n",
    "                 },\n",
    "}\n",
    "\n",
    "args_datasets['test'] = args_datasets['paris'] #sometimes I want to call it 'test'\n",
    "\n",
    "nt_models = ['all_modelarch2_wrongSN_easypretrain11_paristfinetuningSPLASHval0039parisHQSPLASHval0054_okSN_splashPARISFINETUNINGtrainhqRICSEQval0060_NOWENHNokSN_splashPARISFINETUNINGtrainhqRICSEQval0064',\n",
    "            ]\n",
    "\n",
    "checkpoint_dir = os.path.join(ROOT_DIR, 'checkpoints', nt_models[0]) \n",
    "\n",
    "checkpoint_dir = [os.path.join(ROOT_DIR, 'checkpoints', _) for _ in nt_models]\n",
    "\n",
    "external_dataset_dir = os.path.join(dataset_files_dir, 'external_dataset', '500_test_tables')\n",
    "\n",
    "res = load_test_set_df(external_dataset_dir, checkpoint_dir, tools, 'ricseq', args_datasets)\n",
    "\n",
    "len_emb1 = res.g1.str.extractall('(.*)_(.*)_(.*)').reset_index(drop = True)\n",
    "len_emb2 = res.g2.str.extractall('(.*)_(.*)_(.*)').reset_index(drop = True)\n",
    "res['start_emb1'] = len_emb1[1].astype(int)\n",
    "res['start_emb2'] = len_emb2[1].astype(int)\n",
    "res['end_emb1'] = len_emb1[2].astype(int)\n",
    "res['end_emb2'] = len_emb2[2].astype(int)\n",
    "res['len_emb1'] = res['end_emb1'] - res['start_emb1']\n",
    "res['len_emb2'] = res['end_emb2'] - res['start_emb2']\n",
    "\n",
    "res['emebedding_area'] = res['len_emb1'] * res['len_emb2']\n",
    "\n",
    "easypos_smartneg, ephnen, enhn500 = obtain_epsn_ephnen_from_res(res) \n",
    "ephnen = ephnen[ephnen.ground_truth == 0]\n",
    "enhn500 = enhn500[enhn500.ground_truth == 0]"
   ]
  },
  {
   "cell_type": "code",
   "execution_count": 12,
   "id": "7e7f0935-7281-4c08-a855-24e43d4a96c2",
   "metadata": {},
   "outputs": [],
   "source": [
    "ephnen = ephnen.merge(df_genes[['gene_id', 'ensembl_transcript_id']], left_on = 'gene1_original', right_on = 'gene_id').rename({'ensembl_transcript_id':'tr1'}, axis = 1).drop('gene_id', axis=1)\n",
    "ephnen = ephnen.merge(df_genes[['gene_id', 'ensembl_transcript_id']], left_on = 'gene2_original', right_on = 'gene_id').rename({'ensembl_transcript_id':'tr2'}, axis = 1).drop('gene_id', axis=1)\n",
    "ephnen['couple_tr'] = ephnen['tr1'] + '_' + ephnen['tr2']\n",
    "\n",
    "ephnen = ephnen[ephnen.policy == 'hardneg']\n",
    "ephnen = ephnen[(ephnen.distance_embedding_x > 0)&(ephnen.distance_embedding_y > 0)]"
   ]
  },
  {
   "cell_type": "code",
   "execution_count": 77,
   "id": "86402cd4-811b-4914-b1cd-2df188f06cb0",
   "metadata": {},
   "outputs": [],
   "source": [
    "subset_hn = final_hn[final_hn.couple.isin(ephnen['couple_tr'])].reset_index(drop = True) #quelli che non metchano mi sa hanno le coppie invertite\n",
    "subset_hn_big = subset_hn[(subset_hn['original_len1'] > 8_000)&(subset_hn['original_len2'] > 8_000)].reset_index(drop = True)"
   ]
  },
  {
   "cell_type": "code",
   "execution_count": 78,
   "id": "4dbfb621-de42-4169-9435-5907abed2fcc",
   "metadata": {},
   "outputs": [
    {
     "name": "stdout",
     "output_type": "stream",
     "text": [
      "0.6813953488372093\n"
     ]
    }
   ],
   "source": [
    "vc = (subset_hn.probability<0.5).value_counts()\n",
    "tnr = (vc.loc[True])/ subset_hn.shape[0]\n",
    "print(tnr)"
   ]
  },
  {
   "cell_type": "code",
   "execution_count": 79,
   "id": "fd9d4ae4-8dbe-44b2-b1ab-857326ac68d5",
   "metadata": {},
   "outputs": [],
   "source": [
    "def min_distance(interval1, interval2):\n",
    "    # Sorting intervals to make sure interval1[0] is less than interval2[0]\n",
    "    interval1, interval2 = sorted([interval1, interval2], key=lambda x: x[0])\n",
    "\n",
    "    # Case where intervals overlap\n",
    "    if interval1[1] >= interval2[0]:\n",
    "        return 0\n",
    "\n",
    "    # Minimum distance between non-overlapping intervals\n",
    "    return interval2[0] - interval1[1]"
   ]
  },
  {
   "cell_type": "code",
   "execution_count": 80,
   "id": "1e6abbb3-126a-4e0e-b1b9-1b904188b152",
   "metadata": {},
   "outputs": [],
   "source": [
    "diz_dist = {}\n",
    "\n",
    "for idx, row in subset_hn.iterrows():\n",
    "    tr_name = row.couple\n",
    "    interval1 = [row.start_emb1, row.end_emb1]\n",
    "    interval2 = [row.start_emb2, row.end_emb2]\n",
    "    ephnen_subset = ephnen[ephnen.couple_tr == tr_name]\n",
    "    \n",
    "    distance_list = []\n",
    "    ids = []\n",
    "    for _, row_sub in ephnen_subset.iterrows():\n",
    "        \n",
    "        interval1_sub = [row_sub.start_emb1, row_sub.end_emb1]\n",
    "        interval2_sub = [row_sub.start_emb2, row_sub.end_emb2]\n",
    "        \n",
    "        distance1 = abs(interval1_sub[0] - interval1[0]) + abs(interval1_sub[1] - interval1[1]) \n",
    "        distance2 = abs(interval2_sub[0] - interval2[0]) + abs(interval2_sub[1] - interval2[1]) \n",
    "        \n",
    "        distance = distance1 + distance2\n",
    "        \n",
    "        distance_list.append(distance)\n",
    "        \n",
    "        ids.append(row_sub.id_sample)\n",
    "        \n",
    "    \n",
    "    diz_dist[idx] = {\n",
    "        'min_distance':min(distance_list),\n",
    "        'id_min_distance':ids[np.argmin(min_distance_list)]\n",
    "                    }"
   ]
  },
  {
   "cell_type": "code",
   "execution_count": 81,
   "id": "5706a5bc-c3b4-4903-beec-7706ba72698f",
   "metadata": {},
   "outputs": [],
   "source": [
    "subset_hn = pd.concat([subset_hn, pd.DataFrame.from_dict(diz_dist, orient = 'index')], axis = 1)"
   ]
  },
  {
   "cell_type": "code",
   "execution_count": 82,
   "id": "c4a8c65e-3c00-4e51-9611-573ce7eb829c",
   "metadata": {},
   "outputs": [
    {
     "data": {
      "text/plain": [
       "(446, 22499)"
      ]
     },
     "execution_count": 82,
     "metadata": {},
     "output_type": "execute_result"
    }
   ],
   "source": [
    "subset_hn.min_distance.min(), subset_hn.min_distance.max()"
   ]
  },
  {
   "cell_type": "code",
   "execution_count": 83,
   "id": "6a3e766f-0e60-4437-9dfb-2d59695e891b",
   "metadata": {},
   "outputs": [],
   "source": [
    "subset_hn = subset_hn.merge(\n",
    "    ephnen[['probability', 'id_sample']].rename({'probability':'original_probability', 'id_sample':'id_min_distance'},axis = 1),\n",
    "    on = 'id_min_distance')"
   ]
  },
  {
   "cell_type": "code",
   "execution_count": 84,
   "id": "a743c877-4964-45a9-a2fc-395851701c86",
   "metadata": {},
   "outputs": [
    {
     "data": {
      "text/plain": [
       "<matplotlib.collections.PathCollection at 0x7f5ec7620ac0>"
      ]
     },
     "execution_count": 84,
     "metadata": {},
     "output_type": "execute_result"
    },
    {
     "data": {
      "image/png": "[encoded data removed]",
      "text/plain": [
       "<Figure size 432x288 with 1 Axes>"
      ]
     },
     "metadata": {
      "needs_background": "light"
     },
     "output_type": "display_data"
    }
   ],
   "source": [
    "plt.scatter(subset_hn.min_distance, abs(subset_hn.probability - subset_hn.original_probability))"
   ]
  },
  {
   "cell_type": "code",
   "execution_count": 103,
   "id": "18a5ddde-6970-44a1-aa54-66ce96b6ac14",
   "metadata": {},
   "outputs": [
    {
     "name": "stdout",
     "output_type": "stream",
     "text": [
      "0.7567567567567568\n"
     ]
    }
   ],
   "source": [
    "s = subset_hn[subset_hn.min_distance<1500]\n",
    "\n",
    "vc = (s.probability<0.5).value_counts()\n",
    "tnr = (vc.loc[True])/ s.shape[0]\n",
    "print(tnr)"
   ]
  },
  {
   "cell_type": "code",
   "execution_count": 104,
   "id": "1a56e8f4-6d02-48c7-b553-aba9c710be33",
   "metadata": {},
   "outputs": [
    {
     "data": {
      "text/plain": [
       "37"
      ]
     },
     "execution_count": 104,
     "metadata": {},
     "output_type": "execute_result"
    }
   ],
   "source": [
    "s.shape[0]"
   ]
  },
  {
   "cell_type": "code",
   "execution_count": null,
   "id": "0d9ae529-d9f8-4511-ab3b-1b5fbcc41d74",
   "metadata": {},
   "outputs": [],
   "source": []
  },
  {
   "cell_type": "code",
   "execution_count": null,
   "id": "5c8ddd27-fc54-4d14-96bb-9129bff0a90d",
   "metadata": {},
   "outputs": [],
   "source": []
  },
  {
   "cell_type": "code",
   "execution_count": null,
   "id": "7f025c43-8c0c-44c9-b709-3f85230bb28d",
   "metadata": {},
   "outputs": [],
   "source": []
  },
  {
   "cell_type": "code",
   "execution_count": 30,
   "id": "b49bebdf-6885-4541-88e0-16e69d0c4e26",
   "metadata": {},
   "outputs": [],
   "source": [
    "tr_name = subset_hn_big.iloc[0].couple"
   ]
  },
  {
   "cell_type": "code",
   "execution_count": 21,
   "id": "fbd43e21-7686-4255-b02e-0a9357a95dd9",
   "metadata": {},
   "outputs": [
    {
     "data": {
      "text/plain": [
       "'ENST00000613296_ENST00000317147'"
      ]
     },
     "execution_count": 21,
     "metadata": {},
     "output_type": "execute_result"
    }
   ],
   "source": [
    "tr_name"
   ]
  },
  {
   "cell_type": "code",
   "execution_count": 22,
   "id": "2fe1b797-f331-45c7-ad5b-921844d9260d",
   "metadata": {},
   "outputs": [],
   "source": [
    "row_final_hn = final_hn[final_hn.couple==tr_name].iloc[0]"
   ]
  },
  {
   "cell_type": "code",
   "execution_count": 23,
   "id": "de66cb0f-8d32-4234-b553-874ea4b7a584",
   "metadata": {},
   "outputs": [
    {
     "data": {
      "text/plain": [
       "0.5027517676353455"
      ]
     },
     "execution_count": 23,
     "metadata": {},
     "output_type": "execute_result"
    }
   ],
   "source": [
    "row_final_hn.probability"
   ]
  },
  {
   "cell_type": "code",
   "execution_count": 24,
   "id": "ee02d0fe-6e0c-469d-87c4-c38c607e059c",
   "metadata": {},
   "outputs": [
    {
     "data": {
      "text/plain": [
       "(1141, 'ENST00000613296', 2703, 8673, 3481, 3981)"
      ]
     },
     "execution_count": 24,
     "metadata": {},
     "output_type": "execute_result"
    }
   ],
   "source": [
    "row_final_hn.distance_x, row_final_hn.transcript1,  row_final_hn.start_emb1, row_final_hn.end_emb1, row_final_hn.start_window1, row_final_hn.end_window1 "
   ]
  },
  {
   "cell_type": "code",
   "execution_count": 25,
   "id": "9b845672-0e97-4b53-9c37-a79c9dd8f12b",
   "metadata": {},
   "outputs": [
    {
     "data": {
      "text/plain": [
       "(906, 'ENST00000317147', 1784, 7754, 5293, 5793)"
      ]
     },
     "execution_count": 25,
     "metadata": {},
     "output_type": "execute_result"
    }
   ],
   "source": [
    "row_final_hn.distance_y, row_final_hn.transcript2,  row_final_hn.start_emb2, row_final_hn.end_emb2, row_final_hn.start_window2, row_final_hn.end_window2 "
   ]
  },
  {
   "cell_type": "code",
   "execution_count": 26,
   "id": "839eae6a-ad43-4397-a336-02f7a7052344",
   "metadata": {},
   "outputs": [],
   "source": [
    "row_ephnen = ephnen[ephnen.couple_tr == tr_name].iloc[0]"
   ]
  },
  {
   "cell_type": "code",
   "execution_count": 27,
   "id": "a302589d-4c95-47f6-8127-ab3374d27d3f",
   "metadata": {},
   "outputs": [
    {
     "data": {
      "text/plain": [
       "0.1267641484737396"
      ]
     },
     "execution_count": 27,
     "metadata": {},
     "output_type": "execute_result"
    }
   ],
   "source": [
    "row_ephnen.probability"
   ]
  },
  {
   "cell_type": "code",
   "execution_count": 28,
   "id": "ee46dd13-a40d-4ba0-a1f7-88611aeb0cdb",
   "metadata": {},
   "outputs": [
    {
     "data": {
      "text/plain": [
       "(1933, 'ENST00000613296', 1912, 7881, 602, 1102)"
      ]
     },
     "execution_count": 28,
     "metadata": {},
     "output_type": "execute_result"
    }
   ],
   "source": [
    "row_ephnen.distance_embedding_x, row_ephnen.tr1,  row_ephnen.start_emb1, row_ephnen.end_emb1, row_ephnen.x1, row_ephnen.x2 "
   ]
  },
  {
   "cell_type": "code",
   "execution_count": 29,
   "id": "ffdbdd68-81a5-4b48-8862-40133f1291e8",
   "metadata": {},
   "outputs": [
    {
     "data": {
      "text/plain": [
       "(13, 'ENST00000317147', 891, 6860, 15, 515)"
      ]
     },
     "execution_count": 29,
     "metadata": {},
     "output_type": "execute_result"
    }
   ],
   "source": [
    "row_ephnen.distance_embedding_y, row_ephnen.tr2,  row_ephnen.start_emb2, row_ephnen.end_emb2, row_ephnen.y1, row_ephnen.y2 "
   ]
  },
  {
   "cell_type": "code",
   "execution_count": null,
   "id": "395d5388-aaaf-4161-ae3c-6f962c418117",
   "metadata": {},
   "outputs": [],
   "source": []
  },
  {
   "cell_type": "code",
   "execution_count": null,
   "id": "610d7c18-f65e-49d9-b5ed-6dc42911d621",
   "metadata": {},
   "outputs": [],
   "source": []
  },
  {
   "cell_type": "code",
   "execution_count": null,
   "id": "bc76e5e4-e56e-4252-8ff0-f47a48ff457e",
   "metadata": {},
   "outputs": [],
   "source": []
  },
  {
   "cell_type": "code",
   "execution_count": null,
   "id": "2802d655-f8fc-495a-b90f-99695c7658ad",
   "metadata": {},
   "outputs": [],
   "source": []
  },
  {
   "cell_type": "code",
   "execution_count": null,
   "id": "4b22e159-f1cc-4e5b-991a-ba7d12e341f4",
   "metadata": {},
   "outputs": [],
   "source": []
  },
  {
   "cell_type": "code",
   "execution_count": null,
   "id": "6bfbf918-740e-4822-b503-1b151eaba3a2",
   "metadata": {},
   "outputs": [],
   "source": []
  },
  {
   "cell_type": "code",
   "execution_count": null,
   "id": "d6340037-79a3-4359-a346-d3638408f246",
   "metadata": {},
   "outputs": [],
   "source": []
  },
  {
   "cell_type": "code",
   "execution_count": null,
   "id": "8c7cdd80-fcaa-4f2f-93fd-ffc7392c03dc",
   "metadata": {},
   "outputs": [],
   "source": []
  },
  {
   "cell_type": "code",
   "execution_count": null,
   "id": "085570e2-a466-448e-9c1a-9777a3b335d5",
   "metadata": {},
   "outputs": [],
   "source": []
  },
  {
   "cell_type": "code",
   "execution_count": null,
   "id": "f2ae4782-7984-484c-8572-14da8092b2d6",
   "metadata": {},
   "outputs": [],
   "source": []
  },
  {
   "cell_type": "code",
   "execution_count": null,
   "id": "8520808c-cf15-4e96-bf3b-ccebd8202068",
   "metadata": {},
   "outputs": [],
   "source": []
  },
  {
   "cell_type": "code",
   "execution_count": null,
   "id": "83d0bb4d-180e-41a4-bd75-a976fd9ffa92",
   "metadata": {},
   "outputs": [],
   "source": []
  },
  {
   "cell_type": "code",
   "execution_count": null,
   "id": "268ac747-85bc-4928-9cc3-f14ffa60c5dc",
   "metadata": {},
   "outputs": [],
   "source": []
  },
  {
   "cell_type": "code",
   "execution_count": null,
   "id": "18005297-6dcf-4da0-85f5-9bfcd28be9c1",
   "metadata": {},
   "outputs": [],
   "source": []
  },
  {
   "cell_type": "markdown",
   "id": "396f80d0-496f-459f-944e-018887706b34",
   "metadata": {},
   "source": [
    "#### Ne creo uno nuovo che fa le stesse predizioni di res (ma a lunghezza massima 5969)"
   ]
  },
  {
   "cell_type": "code",
   "execution_count": 36,
   "id": "5d0d0a3e-736c-4cb6-a807-dc2934974ae9",
   "metadata": {},
   "outputs": [],
   "source": [
    "check_data_path = '/data01/giorgio/RNARNA-NT/dataset/external_dataset/my_check_predictions_ricseq5969'\n",
    "embedding_dir = os.path.join(check_data_path, 'embeddings')"
   ]
  },
  {
   "cell_type": "code",
   "execution_count": 37,
   "id": "bde83b29-15d2-40ad-b98f-4bcf9eb6e3a5",
   "metadata": {},
   "outputs": [
    {
     "name": "stdout",
     "output_type": "stream",
     "text": [
      "# excluded couples:  234\n"
     ]
    }
   ],
   "source": [
    "res = load_test_set_df(external_dataset_dir, checkpoint_dir, tools, 'ricseq', args_datasets)\n",
    "\n",
    "len_emb1 = res.g1.str.extractall('(.*)_(.*)_(.*)').reset_index(drop = True)\n",
    "len_emb2 = res.g2.str.extractall('(.*)_(.*)_(.*)').reset_index(drop = True)\n",
    "res['start_emb1'] = len_emb1[1].astype(int)\n",
    "res['start_emb2'] = len_emb2[1].astype(int)\n",
    "res['end_emb1'] = len_emb1[2].astype(int)\n",
    "res['end_emb2'] = len_emb2[2].astype(int)\n",
    "res['len_emb1'] = res['end_emb1'] - res['start_emb1']\n",
    "res['len_emb2'] = res['end_emb2'] - res['start_emb2']\n",
    "\n",
    "easypos_smartneg, ephnen, enhn500 = obtain_epsn_ephnen_from_res(res) "
   ]
  },
  {
   "cell_type": "code",
   "execution_count": 38,
   "id": "fb317ee6-3811-4bbb-ac84-e4a93a688a10",
   "metadata": {},
   "outputs": [],
   "source": [
    "ephnen = ephnen[ \n",
    "    ~((ephnen.len_emb1 == ephnen.x2) | (ephnen.len_emb2 == ephnen.y2))\n",
    "].reset_index(drop = True)\n",
    "\n",
    "ephnen = ephnen.drop(['len_emb1','len_emb2'], axis = 1)"
   ]
  },
  {
   "cell_type": "code",
   "execution_count": 39,
   "id": "e26a2c8a-35a2-4e92-a823-cbfd2bc2a838",
   "metadata": {},
   "outputs": [],
   "source": [
    "ephnen['end_emb1'] = ephnen['end_emb1'] - 1\n",
    "ephnen['end_emb2'] = ephnen['end_emb2'] - 1\n",
    "\n",
    "ephnen['g1'] = ephnen['gene1_original']+'_'+res['start_emb1'].astype(str)+'_'+res['end_emb1'].astype(str)\n",
    "ephnen['g2'] = ephnen['gene2_original']+'_'+res['start_emb2'].astype(str)+'_'+res['end_emb2'].astype(str)"
   ]
  },
  {
   "cell_type": "code",
   "execution_count": 40,
   "id": "3be0e99e-f2f9-4c11-96c9-d805533e26ba",
   "metadata": {},
   "outputs": [],
   "source": [
    "ephnen = ephnen.rename({\n",
    "    'g1':'embedding1name', 'g2':'embedding2name', \n",
    "    'x1':'start_window1', 'x2':'end_window1',\n",
    "    'y1':'start_window2', 'y2':'end_window2',\n",
    "    'id_sample':'id_pair'\n",
    "}, axis = 1)\n",
    "\n",
    "pairs = ephnen[['embedding1name', 'embedding2name','id_pair', 'start_window1', 'end_window1', 'start_window2', 'end_window2']]\n",
    "\n",
    "ephnen.to_csv(os.path.join(check_data_path, 'ephnen.csv'))\n",
    "pairs.to_csv(os.path.join(check_data_path, 'pairs.csv'))"
   ]
  },
  {
   "cell_type": "markdown",
   "id": "f27e4f62-12dd-499d-9c32-718f906ba3dd",
   "metadata": {},
   "source": [
    "###### create df query"
   ]
  },
  {
   "cell_type": "code",
   "execution_count": 49,
   "id": "86404392-9190-40b4-a063-cec117b4865e",
   "metadata": {},
   "outputs": [],
   "source": [
    "ephnen = ephnen.merge(df_genes[['gene_id', 'cdna']], left_on = 'gene1_original', right_on = 'gene_id').drop('gene_id',axis = 1)\n",
    "ephnen['cdna1'] = ephnen.apply(lambda x: x.cdna[x.start_emb1:x.end_emb1], axis=1)\n",
    "ephnen = ephnen.drop(['cdna'], axis = 1)\n",
    "\n",
    "ephnen = ephnen.merge(df_genes[['gene_id', 'cdna']], left_on = 'gene2_original', right_on = 'gene_id').drop('gene_id',axis = 1)\n",
    "ephnen['cdna2'] = ephnen.apply(lambda x: x.cdna[x.start_emb2:x.end_emb2], axis=1)\n",
    "ephnen = ephnen.drop(['cdna'], axis = 1)\n",
    "\n",
    "assert ephnen.apply(lambda x: len(x.cdna2) == (x.end_emb2-x.start_emb2), axis=1).all()\n",
    "assert ephnen.apply(lambda x: len(x.cdna1) == (x.end_emb1-x.start_emb1), axis=1).all()"
   ]
  },
  {
   "cell_type": "code",
   "execution_count": 65,
   "id": "65c91ec8-e5ab-40a9-9c20-7d4e076067b4",
   "metadata": {},
   "outputs": [],
   "source": [
    "df1 = ephnen[['embedding1name', 'cdna1']].drop_duplicates().rename({'embedding1name':'id_query', 'cdna1':'cdna'}, axis = 1)\n",
    "df2 = ephnen[['embedding2name', 'cdna2']].drop_duplicates().rename({'embedding2name':'id_query', 'cdna2':'cdna'}, axis = 1)\n",
    "df_query = pd.concat([df1, df2], axis = 0).drop_duplicates().reset_index(drop = True)"
   ]
  },
  {
   "cell_type": "code",
   "execution_count": 67,
   "id": "756b639f-1df4-45a0-9756-f68e04b12dfa",
   "metadata": {},
   "outputs": [],
   "source": [
    "df_query.to_csv(os.path.join(check_data_path, 'embedding_query.csv'), index=False)"
   ]
  },
  {
   "cell_type": "markdown",
   "id": "eddd5aa8-4f3d-4a4a-aba2-17528fc08ab7",
   "metadata": {},
   "source": [
    "##### Read results"
   ]
  },
  {
   "cell_type": "code",
   "execution_count": 189,
   "id": "10de3f12-d324-4016-9516-933494916640",
   "metadata": {},
   "outputs": [],
   "source": [
    "predictions = pd.read_csv(os.path.join(out_path, 'predictions.csv'))"
   ]
  },
  {
   "cell_type": "code",
   "execution_count": 78,
   "id": "ae46e15f-631a-4ab7-8432-8540027a1a21",
   "metadata": {},
   "outputs": [],
   "source": [
    "ephnen = pd.read_csv(os.path.join(check_data_path, 'ephnen.csv'))"
   ]
  },
  {
   "cell_type": "code",
   "execution_count": null,
   "id": "e5c3ce5c-b42a-4c7f-822d-a8d48accfaae",
   "metadata": {},
   "outputs": [],
   "source": [
    "ephnen = ephnen.merge(predictions.rename({'probability':'new_probability'}, axis = 1), on = 'id_sample')"
   ]
  },
  {
   "cell_type": "code",
   "execution_count": 192,
   "id": "421a3a35-0bb8-4379-a679-fecbe4937bd7",
   "metadata": {},
   "outputs": [],
   "source": [
    "(ephnen['probability'] - ephnen['new_probability']).hist()"
   ]
  },
  {
   "cell_type": "code",
   "execution_count": null,
   "id": "c6674821-1099-4d57-9ad0-4ee64f1320aa",
   "metadata": {},
   "outputs": [],
   "source": [
    "neg = ephnen[ephnen.ground_truth == 0]\n",
    "(neg.new_probability<0.5).sum()/neg.shape[0]"
   ]
  },
  {
   "cell_type": "code",
   "execution_count": null,
   "id": "f9952040-dad2-4c3d-9a4c-c50fdb9e8627",
   "metadata": {},
   "outputs": [],
   "source": []
  },
  {
   "cell_type": "code",
   "execution_count": null,
   "id": "c99594e4-004b-4d9f-a404-5fe6258b13fd",
   "metadata": {},
   "outputs": [],
   "source": []
  },
  {
   "cell_type": "code",
   "execution_count": null,
   "id": "89034158-495f-4938-a0cb-49c84552adf7",
   "metadata": {},
   "outputs": [],
   "source": []
  },
  {
   "cell_type": "code",
   "execution_count": null,
   "id": "3beb7551-f0a9-4715-9efb-3b2f1ec9b7fd",
   "metadata": {},
   "outputs": [],
   "source": []
  },
  {
   "cell_type": "markdown",
   "id": "8b1ece8f-9c51-46b0-a77b-5d259e1858ff",
   "metadata": {},
   "source": [
    "### Ne creo uno simile al precedente, cioe che fa le stesse predizioni di res, ma stavolta prendo i trascritti mappandoli sulle stesse coordinate dei geni, qui lo sto facendo a 5970"
   ]
  },
  {
   "cell_type": "code",
   "execution_count": 15,
   "id": "4393caf2-23ac-49a0-aa06-c7263fee3187",
   "metadata": {},
   "outputs": [],
   "source": [
    "check_data_path = '/data01/giorgio/RNARNA-NT/dataset/external_dataset/my_check_predictions_ricseq2'\n",
    "embedding_dir = os.path.join(check_data_path, 'embeddings')"
   ]
  },
  {
   "cell_type": "code",
   "execution_count": 13,
   "id": "1a29530e-95f1-4c88-aeba-937550d46d42",
   "metadata": {},
   "outputs": [
    {
     "name": "stdout",
     "output_type": "stream",
     "text": [
      "# excluded couples:  234\n"
     ]
    }
   ],
   "source": [
    "res = load_test_set_df(external_dataset_dir, checkpoint_dir, tools, 'ricseq', args_datasets)\n",
    "\n",
    "len_emb1 = res.g1.str.extractall('(.*)_(.*)_(.*)').reset_index(drop = True)\n",
    "len_emb2 = res.g2.str.extractall('(.*)_(.*)_(.*)').reset_index(drop = True)\n",
    "res['start_emb1'] = len_emb1[1].astype(int)\n",
    "res['start_emb2'] = len_emb2[1].astype(int)\n",
    "res['end_emb1'] = len_emb1[2].astype(int)\n",
    "res['end_emb2'] = len_emb2[2].astype(int)\n",
    "res['len_emb1'] = res['end_emb1'] - res['start_emb1']\n",
    "res['len_emb2'] = res['end_emb2'] - res['start_emb2']\n",
    "\n",
    "res['emebedding_area'] = res['len_emb1'] * res['len_emb2']\n",
    "\n",
    "easypos_smartneg, ephnen, enhn500 = obtain_epsn_ephnen_from_res(res) "
   ]
  },
  {
   "cell_type": "code",
   "execution_count": 14,
   "id": "7e2e9402-1739-4456-be81-c5fda6be8069",
   "metadata": {},
   "outputs": [],
   "source": [
    "ephnen = ephnen[ephnen.ground_truth == 0]\n",
    "ephnen = ephnen.merge(df_genes[['gene_id', 'ensembl_transcript_id']], left_on = 'gene1_original', right_on = 'gene_id').rename({'ensembl_transcript_id':'tr1'}, axis = 1).drop('gene_id', axis=1)\n",
    "ephnen = ephnen.merge(df_genes[['gene_id', 'ensembl_transcript_id']], left_on = 'gene2_original', right_on = 'gene_id').rename({'ensembl_transcript_id':'tr2'}, axis = 1).drop('gene_id', axis=1)\n",
    "ephnen['couple_tr'] = ephnen['tr1'] + '_' + ephnen['tr2']"
   ]
  },
  {
   "cell_type": "code",
   "execution_count": 34,
   "id": "23aabce7-b095-4de6-b28a-3f871b779b29",
   "metadata": {},
   "outputs": [],
   "source": [
    "filename = os.path.join(original_files_dir, 'Tx.RI_ALL.specie.no_abundant.filter_rep.no_mirna.no_mito.bedpe')\n",
    "\n",
    "rows = []\n",
    "with open(filename)as f:\n",
    "    for line in f:\n",
    "        L = line.strip().split()\n",
    "        rows.append(L)\n",
    "\n",
    "all_interactions = pd.DataFrame(rows, columns = ['tr1', 'x1', 'x2', 'tr2', 'y1', 'y2', 'name', 'n_reads', 'strand1', 'strand2', 'other_id', 'experiment'] )\n",
    "all_interactions[['x1', 'x2', 'y1', 'y2']] = all_interactions[['x1', 'x2', 'y1', 'y2']].apply(pd.to_numeric)\n",
    "\n",
    "#they are already mapped so the strand should be always '+'\n",
    "assert (all_interactions.strand1 == all_interactions.strand2).all()\n",
    "assert set(all_interactions.strand1) == {'+'}\n",
    "all_interactions = all_interactions.drop(['strand1', 'strand2'], axis = 1)\n",
    "\n",
    "paris_experiments = ['hs_PARIS1__Hela_highRNase', 'mm_PARIS2__GSM4503873_Mouse_brain_mRNA', 'hs_PARIS1__Hela_lowRNase', 'hs_PARIS1__HEK293T', 'hs_PARIS2__GSM4503872_HEK293_mRNA', 'mm_PARIS1__mES', 'hs_PARIS2__HEK293_AMT', 'hs_PARIS2__HEK293_Amoto']\n",
    "mario_experiments = ['mm_MARIO__mES']\n",
    "ricseq_experiments = ['hs_RIC-seq__HeLa_merge.InterGene.arms']\n",
    "ricseq_exp = all_interactions[all_interactions.experiment.isin(ricseq_experiments)].reset_index(drop = True)"
   ]
  },
  {
   "cell_type": "code",
   "execution_count": 39,
   "id": "ad0c0e98-2b2a-4142-973e-edc9d6fce55e",
   "metadata": {},
   "outputs": [],
   "source": [
    "subset_to_test = ephnen[ephnen.couple_tr.isin(ricseq_exp['tr1'] + '_' + ricseq_exp['tr2'])].reset_index(drop = True)"
   ]
  },
  {
   "cell_type": "code",
   "execution_count": 45,
   "id": "f368d86b-fb59-4d67-8452-b8e1ed526a86",
   "metadata": {},
   "outputs": [
    {
     "data": {
      "text/plain": [
       "couples             ENSG00000099194_ENSG00000197102\n",
       "gene1_pc                                       True\n",
       "gene2_pc                                       True\n",
       "original_length1                               5245\n",
       "original_length2                              19940\n",
       "                                 ...               \n",
       "len_emb2                                       5969\n",
       "emebedding_area                            31307405\n",
       "tr1                                 ENST00000370355\n",
       "tr2                                 ENST00000360184\n",
       "couple_tr           ENST00000370355_ENST00000360184\n",
       "Name: 0, Length: 69, dtype: object"
      ]
     },
     "execution_count": 45,
     "metadata": {},
     "output_type": "execute_result"
    }
   ],
   "source": [
    "# export di questo dataframe\n",
    "#subset_to_test.to_csv(os.path.join(,'original_results.csv'))"
   ]
  },
  {
   "cell_type": "code",
   "execution_count": 51,
   "id": "0e70a12a-49df-48f0-be4e-d6f09e817f45",
   "metadata": {},
   "outputs": [],
   "source": [
    "diz_pairs = {}\n",
    "for _, row in subset_to_test.iterrows():\n",
    "    \n",
    "    tr1_cdna = df_genes[df_genes['ensembl_transcript_id'] == row.tr1].iloc[0].cdna\n",
    "    tr1_cdna = tr1_cdna[row.start_emb1:row.end_emb1]\n",
    "    \n",
    "    tr2_cdna = df_genes[df_genes['ensembl_transcript_id'] == row.tr2].iloc[0].cdna\n",
    "    tr2_cdna = tr2_cdna[row.start_emb2:row.end_emb2]\n",
    "    \n",
    "    diz_pairs[_] = {\n",
    "        'embedding1name': row.tr1 + '_' + str(row.start_emb1) + '_' + str(row.end_emb1),\n",
    "        'embedding2name': row.tr2 + '_' + str(row.start_emb2) + '_' + str(row.end_emb2),\n",
    "        'id_pair':row.id_sample,\n",
    "        'start_window1':row.x1,\n",
    "        'end_window1':row.x2,\n",
    "        'start_window2':row.y1,\n",
    "        'end_window2':row.y2,\n",
    "        'cdna1':tr1_cdna, \n",
    "        'cdna2':tr2_cdna, \n",
    "    }"
   ]
  },
  {
   "cell_type": "code",
   "execution_count": 52,
   "id": "271c9421-983c-4f93-a42d-f4d10eace540",
   "metadata": {},
   "outputs": [],
   "source": [
    "pairs = pd.DataFrame.from_dict(diz_pairs, orient = 'index')"
   ]
  },
  {
   "cell_type": "code",
   "execution_count": 54,
   "id": "170f434e-f993-4ef3-aec0-2a73d551d8bd",
   "metadata": {},
   "outputs": [],
   "source": [
    "df_query = pd.concat([\n",
    "    pairs[['embedding1name', 'cdna1']].rename({'embedding1name':'id_query', 'cdna1':'cdna'}, axis = 1),\n",
    "    pairs[['embedding2name', 'cdna2']].rename({'embedding2name':'id_query', 'cdna2':'cdna'}, axis = 1)\n",
    "],axis = 0).drop_duplicates().reset_index(drop = True)"
   ]
  },
  {
   "cell_type": "code",
   "execution_count": 58,
   "id": "332fba98-308f-495f-8b54-8e0b35d05a9c",
   "metadata": {},
   "outputs": [],
   "source": [
    "df_query.to_csv(os.path.join(check_data_path, 'embedding_query.csv'), index = False)"
   ]
  },
  {
   "cell_type": "code",
   "execution_count": 63,
   "id": "df957f5b-3fbe-4f8d-ad49-5cf8385d260b",
   "metadata": {},
   "outputs": [],
   "source": [
    "pairs = pairs[['embedding1name', 'embedding2name','id_pair', 'start_window1', 'end_window1', 'start_window2', 'end_window2']]"
   ]
  },
  {
   "cell_type": "code",
   "execution_count": 64,
   "id": "f2685859-d59d-45f0-9073-b601fb525341",
   "metadata": {},
   "outputs": [],
   "source": [
    "pairs.to_csv(os.path.join(check_data_path, 'pairs.csv'), index = False)"
   ]
  },
  {
   "cell_type": "markdown",
   "id": "58df1937-2901-4943-ac01-e9bd0bc0c203",
   "metadata": {},
   "source": [
    "#### Read the results"
   ]
  },
  {
   "cell_type": "code",
   "execution_count": 16,
   "id": "27007dcb-426b-4fdb-93bd-7de0bc685a3c",
   "metadata": {},
   "outputs": [],
   "source": [
    "predictions = pd.read_csv(os.path.join(check_data_path, 'predictions.csv'))"
   ]
  },
  {
   "cell_type": "code",
   "execution_count": 19,
   "id": "a4b07353-6c24-466b-882e-1d9bfbc7283c",
   "metadata": {},
   "outputs": [
    {
     "data": {
      "text/plain": [
       "0.9393414211438474"
      ]
     },
     "execution_count": 19,
     "metadata": {},
     "output_type": "execute_result"
    }
   ],
   "source": [
    "predictions[predictions.probability<0.5].shape[0]/predictions.shape[0]"
   ]
  },
  {
   "cell_type": "code",
   "execution_count": 22,
   "id": "6ab4954a-f3b6-47ad-907c-2aa535519301",
   "metadata": {},
   "outputs": [],
   "source": [
    "merged = ephnen.merge(predictions, on = 'id_sample')"
   ]
  },
  {
   "cell_type": "code",
   "execution_count": 24,
   "id": "d2154c2e-12d7-4559-afe7-dc719963a069",
   "metadata": {},
   "outputs": [
    {
     "data": {
      "text/plain": [
       "0    4039\n",
       "Name: ground_truth, dtype: int64"
      ]
     },
     "execution_count": 24,
     "metadata": {},
     "output_type": "execute_result"
    }
   ],
   "source": [
    "merged.ground_truth.value_counts()"
   ]
  },
  {
   "cell_type": "code",
   "execution_count": 25,
   "id": "c4b7ef73-7c89-4c07-919a-8acd4f0b693f",
   "metadata": {},
   "outputs": [
    {
     "data": {
      "text/plain": [
       "<AxesSubplot:>"
      ]
     },
     "execution_count": 25,
     "metadata": {},
     "output_type": "execute_result"
    },
    {
     "data": {
      "image/png": "[encoded data removed]",
      "text/plain": [
       "<Figure size 432x288 with 1 Axes>"
      ]
     },
     "metadata": {
      "needs_background": "light"
     },
     "output_type": "display_data"
    }
   ],
   "source": [
    "(merged.probability_x - merged.probability_y).hist()"
   ]
  },
  {
   "cell_type": "code",
   "execution_count": null,
   "id": "4ebf4d4a-ec2b-48a3-80df-91a62a4389e1",
   "metadata": {},
   "outputs": [],
   "source": []
  },
  {
   "cell_type": "code",
   "execution_count": null,
   "id": "4980a1f5-d4a2-497d-8b25-e4e16a4772d3",
   "metadata": {},
   "outputs": [],
   "source": []
  },
  {
   "cell_type": "code",
   "execution_count": null,
   "id": "334a914f-15d5-4be0-8dcf-0d716aabe3a0",
   "metadata": {},
   "outputs": [],
   "source": []
  },
  {
   "cell_type": "markdown",
   "id": "87829552-bef6-4abf-a928-a5512a724a62",
   "metadata": {},
   "source": [
    "# Qui script dove faccio import dei file di Adri"
   ]
  },
  {
   "cell_type": "markdown",
   "id": "472d053b-8755-4706-99f7-f9c561a87e59",
   "metadata": {},
   "source": [
    "### Paris only hardneg not containing regions of interaction, from adri files"
   ]
  },
  {
   "cell_type": "code",
   "execution_count": 34,
   "id": "b0b2ad16-594f-4363-b784-4b0e8da40425",
   "metadata": {},
   "outputs": [],
   "source": [
    "def load_sample_from_chunk(file_swap_neg, chunksize = 1_000_000, n_count_max = 5, n_samples = 500_000):\n",
    "    \n",
    "    count=0\n",
    "    \n",
    "    for chunk in pd.read_csv(file_swap_neg,chunksize=chunksize,sep=\"\\t\"):    \n",
    "        if count == 0:\n",
    "            subset_filtered=chunk.copy(deep=True)\n",
    "        else:\n",
    "            subset_filtered=subset_filtered.append(chunk)\n",
    "\n",
    "        count+=1\n",
    "\n",
    "        if count == n_count_max:\n",
    "            break\n",
    "        \n",
    "        \n",
    "    subset_filtered = subset_filtered.sample(n_samples).reset_index(drop = True)\n",
    "    \n",
    "    return subset_filtered\n",
    "\n",
    "def read_and_concatenate_bed_files_paris(directory, list_of_files_to_load, list_of_names, n_samples):\n",
    "    # List to store individual dataframes\n",
    "    dataframes = []\n",
    "    \n",
    "    # Iterate over all files in the directory\n",
    "    for _, filename in enumerate(list_of_files_to_load):\n",
    "        \n",
    "        \n",
    "        file_path = os.path.join(directory, filename)\n",
    "        \n",
    "        # Read the .bed file into a dataframe\n",
    "        if 'NegativeBySwap' in filename:\n",
    "            df = load_sample_from_chunk(file_path, n_samples = n_samples)\n",
    "        else:\n",
    "            df = pd.read_csv(file_path, sep='\\t')\n",
    "            print(df.shape[0])\n",
    "\n",
    "        # Check and rename columns if necessary\n",
    "        if 'chrom_1' in df.columns and 'chrom_2' in df.columns:\n",
    "            df = df.rename(columns={'chrom_1': 'emb_name_1', 'chrom_2': 'emb_name_2'})\n",
    "            \n",
    "            \n",
    "        df['id_pair'] = df['emb_name_1'] + '+' + df['emb_name_2'] + '+' + df['start_1'].astype(str) + '+' + df['end_1'].astype(str) + '+' + df['start_2'].astype(str) + '+' + df['end_2'].astype(str)\n",
    "        \n",
    "        \n",
    "        df = df.rename(columns={\n",
    "            'emb_name_1': 'embedding1name', \n",
    "            'emb_name_2': 'embedding2name',\n",
    "            'start_1': 'start_window1',\n",
    "            'end_1': 'end_window1',\n",
    "            'start_2': 'start_window2',\n",
    "            'end_2': 'end_window2',\n",
    "        })\n",
    "        \n",
    "        dataframes.append(df)\n",
    "    \n",
    "    # Concatenate all dataframes into one\n",
    "    concatenated_df = pd.concat(dataframes, ignore_index=True)\n",
    "    \n",
    "    concatenated_df = concatenated_df.drop('Unnamed: 0', axis = 1) \n",
    "    \n",
    "    concatenated_df = concatenated_df.drop_duplicates()\n",
    "\n",
    "    # devo droppare tutti quelli che non iniziano per ens\n",
    "    concatenated_df['ens_gene'] = concatenated_df['embedding1name'].str.startswith('ENS')\n",
    "    concatenated_df = concatenated_df[concatenated_df.ens_gene].reset_index(drop = True)\n",
    "    concatenated_df = concatenated_df.drop('ens_gene', axis = 1)\n",
    "\n",
    "    concatenated_df['ens_gene'] = concatenated_df['embedding2name'].str.startswith('ENS')\n",
    "    concatenated_df = concatenated_df[concatenated_df.ens_gene].reset_index(drop = True)\n",
    "    concatenated_df = concatenated_df.drop('ens_gene', axis = 1)\n",
    "    \n",
    "    return concatenated_df"
   ]
  },
  {
   "cell_type": "code",
   "execution_count": 35,
   "id": "4e31ef16-7d3c-4581-870c-dfb21104ad99",
   "metadata": {},
   "outputs": [],
   "source": [
    "filename = os.path.join(original_files_dir, 'Tx.RI_ALL.specie.no_abundant.filter_rep.no_mirna.no_mito.bedpe')\n",
    "\n",
    "rows = []\n",
    "with open(filename)as f:\n",
    "    for line in f:\n",
    "        L = line.strip().split()\n",
    "        rows.append(L)\n",
    "\n",
    "all_interactions = pd.DataFrame(rows, columns = ['tr1', 'x1', 'x2', 'tr2', 'y1', 'y2', 'name', 'n_reads', 'strand1', 'strand2', 'other_id', 'experiment'] )\n",
    "all_interactions[['x1', 'x2', 'y1', 'y2']] = all_interactions[['x1', 'x2', 'y1', 'y2']].apply(pd.to_numeric)\n",
    "\n",
    "#they are already mapped so the strand should be always '+'\n",
    "assert (all_interactions.strand1 == all_interactions.strand2).all()\n",
    "assert set(all_interactions.strand1) == {'+'}\n",
    "all_interactions = all_interactions.drop(['strand1', 'strand2'], axis = 1)\n",
    "\n",
    "paris_experiments = ['hs_PARIS1__Hela_highRNase', 'mm_PARIS2__GSM4503873_Mouse_brain_mRNA', 'hs_PARIS1__Hela_lowRNase', 'hs_PARIS1__HEK293T', 'hs_PARIS2__GSM4503872_HEK293_mRNA', 'mm_PARIS1__mES', 'hs_PARIS2__HEK293_AMT', 'hs_PARIS2__HEK293_Amoto']\n",
    "mario_experiments = ['mm_MARIO__mES']\n",
    "ricseq_experiments = ['hs_RIC-seq__HeLa_merge.InterGene.arms']\n",
    "paris_exp = all_interactions[all_interactions.experiment.isin(paris_experiments)].reset_index(drop = True)"
   ]
  },
  {
   "cell_type": "code",
   "execution_count": 36,
   "id": "7e0b0548-3f83-49ed-9fdb-718c2fb14445",
   "metadata": {},
   "outputs": [],
   "source": [
    "list_of_files_to_load = [\n",
    "    'Giorgio.positivi_e_hardneg.no_train_eval.PARIS1__Hela_lowRNase.bed',\n",
    "    'Giorgio.positivi_e_hardneg.no_train_eval.PARIS2__GSM4503872_HEK293_mRNA.bed', \n",
    "    'Giorgio.positivi_e_hardneg.no_train_eval.PARIS1__Hela_highRNase.bed',\n",
    "    'Giorgio.positivi_e_hardneg.no_train_eval.PARIS1__HEK293T.bed',\n",
    "    'Giorgio.positivi_e_hardneg.no_train_eval.PARIS2__GSM4503873_Mouse_brain_mRNA.bed',\n",
    "    'Giorgio.positivi_e_hardneg.no_train_eval.PARIS2__HEK293_AMT.bed',\n",
    "    'Giorgio.positivi_e_hardneg.no_train_eval.PARIS1__mES.bed',\n",
    "    'Giorgio.positivi_e_hardneg.no_train_eval.PARIS2__HEK293_Amoto.bed',\n",
    "]\n",
    "list_of_names = ['paris' for i in range(len(list_of_files_to_load))]"
   ]
  },
  {
   "cell_type": "code",
   "execution_count": 37,
   "id": "47998985-4ef2-4257-b5ef-87c9e3d4766a",
   "metadata": {},
   "outputs": [
    {
     "name": "stdout",
     "output_type": "stream",
     "text": [
      "7209\n",
      "6761\n",
      "9103\n",
      "7177\n",
      "7874\n",
      "435\n",
      "21867\n",
      "362\n"
     ]
    }
   ],
   "source": [
    "check_data_path = '/data01/giorgio/RNARNA-NT/dataset/external_dataset/check_predictions'\n",
    "original_data_path = os.path.join(check_data_path, 'original_data', 'check_predictions')\n",
    "embedding_dir = os.path.join(check_data_path, 'embeddings')\n",
    "\n",
    "emb = pd.read_csv(os.path.join(original_data_path, 'embeddings.filtered.bed'), sep = '\\t', names = ['transcript','start','end','emb_name'])\n",
    "\n",
    "\n",
    "n_samples_for_each_file = 10_000_000\n",
    "\n",
    "df = read_and_concatenate_bed_files_paris(original_data_path, list_of_files_to_load, list_of_names, n_samples_for_each_file)\n",
    "assert df[df.id_pair.duplicated()].shape[0] == 0"
   ]
  },
  {
   "cell_type": "code",
   "execution_count": 38,
   "id": "ab3d6724-4138-4af1-9c02-a439416bb6c7",
   "metadata": {},
   "outputs": [],
   "source": [
    "df_coord = df.id_pair.str.extractall('(.*)\\+(.*)\\+(.*)\\+(.*)\\+(.*)\\+(.*)')\n",
    "df_coord = df_coord.reset_index(drop = True).rename({\n",
    "        0:'emb_name1',\n",
    "        1:'emb_name2',\n",
    "        2:'x1',\n",
    "        3:'x2',\n",
    "        4:'y1',\n",
    "        5:'y2',\n",
    "        },axis = 1)\n",
    "\n",
    "df['emb_1'] = df_coord['emb_name1']\n",
    "df['emb_2'] = df_coord['emb_name2']\n",
    "\n",
    "\n",
    "df_coord['x1'] = df_coord['x1'].astype(int)\n",
    "df_coord['x2'] = df_coord['x2'].astype(int)\n",
    "df_coord['y1'] = df_coord['y1'].astype(int)\n",
    "df_coord['y2'] = df_coord['y2'].astype(int)\n",
    "\n",
    "\n",
    "df_coord = df_coord.merge(emb, how = 'left', left_on = 'emb_name1', right_on = 'emb_name')\n",
    "df_coord['start_window_x'] = df_coord['x1'] + df_coord['start']\n",
    "df_coord['end_window_x'] = df_coord['x2'] + df_coord['start']\n",
    "df_coord = df_coord.rename({'transcript':'transcript1', 'start':'start_emb1', 'end': 'end_emb1'}, axis = 1)\n",
    "df_coord = df_coord.drop(['x1', 'x2', 'emb_name'], axis = 1)\n",
    "\n",
    "\n",
    "\n",
    "\n",
    "df_coord = df_coord.merge(emb, how = 'left', left_on = 'emb_name2', right_on = 'emb_name')\n",
    "df_coord['start_window_y'] = df_coord['y1'] + df_coord['start']\n",
    "df_coord['end_window_y'] = df_coord['y2'] + df_coord['start']\n",
    "df_coord = df_coord.rename({'transcript':'transcript2', 'start':'start_emb2', 'end': 'end_emb2'}, axis = 1)\n",
    "df_coord = df_coord.drop(['y1', 'y2', 'emb_name'], axis = 1)\n",
    "\n",
    "df = pd.concat([df, df_coord], axis = 1)\n",
    "\n",
    "assert (df.emb_1 == df.emb_name1).all()\n",
    "assert (df.emb_2 == df.emb_name2).all()\n",
    "\n",
    "df = df.drop(['emb_1', 'emb_2'], axis = 1)"
   ]
  },
  {
   "cell_type": "code",
   "execution_count": 42,
   "id": "decc2e19-6a85-420c-94f7-2e6550b2d561",
   "metadata": {},
   "outputs": [],
   "source": [
    "set_pos = set(df.transcript1 + '_' + df.transcript2)\n",
    "\n",
    "set_pos_paris = set(paris_exp.tr1 + '_' + paris_exp.tr2)"
   ]
  },
  {
   "cell_type": "code",
   "execution_count": 52,
   "id": "1825e1bc-baec-4dbb-9907-cc639eed07d7",
   "metadata": {},
   "outputs": [],
   "source": [
    "found = set_pos.intersection(set_pos_paris)\n",
    "not_found = set_pos_paris - found"
   ]
  },
  {
   "cell_type": "code",
   "execution_count": 53,
   "id": "cc0f9f81-e5c8-44f2-9faf-0a18e048d222",
   "metadata": {},
   "outputs": [
    {
     "data": {
      "text/plain": [
       "2384"
      ]
     },
     "execution_count": 53,
     "metadata": {},
     "output_type": "execute_result"
    }
   ],
   "source": [
    "#I will loose these\n",
    "len(not_found.intersection(set(paris_exp.tr2 + '_' + paris_exp.tr1)))"
   ]
  },
  {
   "cell_type": "code",
   "execution_count": 57,
   "id": "d22ce65d-7596-4512-a020-33afd4eadd3b",
   "metadata": {},
   "outputs": [
    {
     "data": {
      "text/plain": [
       "14929"
      ]
     },
     "execution_count": 57,
     "metadata": {},
     "output_type": "execute_result"
    }
   ],
   "source": [
    "#I will keep these\n",
    "len(found)"
   ]
  },
  {
   "cell_type": "code",
   "execution_count": 61,
   "id": "821a50f5-0a24-420c-b825-03fb36b8103c",
   "metadata": {},
   "outputs": [],
   "source": [
    "def min_distance(interval1, interval2):\n",
    "    # Sorting intervals to make sure interval1[0] is less than interval2[0]\n",
    "    interval1, interval2 = sorted([interval1, interval2], key=lambda x: x[0])\n",
    "\n",
    "    # Case where intervals overlap\n",
    "    if interval1[1] >= interval2[0]:\n",
    "        return 0\n",
    "\n",
    "    # Minimum distance between non-overlapping intervals\n",
    "    return interval2[0] - interval1[1]"
   ]
  },
  {
   "cell_type": "code",
   "execution_count": 58,
   "id": "3bf50536-26f7-4802-91d8-75c6ae1c23a6",
   "metadata": {},
   "outputs": [],
   "source": [
    "#I keep the ones with the same order\n",
    "df = df[(df.transcript1 + '_' + df.transcript2).isin(found)]"
   ]
  },
  {
   "cell_type": "code",
   "execution_count": 62,
   "id": "41f0051d-5dbe-48ac-97aa-98dab2435015",
   "metadata": {},
   "outputs": [
    {
     "data": {
      "application/vnd.jupyter.widget-view+json": {
       "model_id": "465f7c4e220b477786fac3428fc6f60a",
       "version_major": 2,
       "version_minor": 0
      },
      "text/plain": [
       "  0%|          | 0/44309 [00:00<?, ?it/s]"
      ]
     },
     "metadata": {},
     "output_type": "display_data"
    }
   ],
   "source": [
    "diz = {}\n",
    "for idx, row in tqdm(df.iterrows(), total = df.shape[0]):\n",
    "    tr1, tr2 = row.transcript1, row.transcript2\n",
    "    x1,x2,y1,y2 = row.start_emb1, row.end_emb1, row.start_emb2, row.end_emb2\n",
    "\n",
    "    all_interactions = paris_exp[(paris_exp['tr1'] == tr1)&(paris_exp['tr2'] == tr2)]\n",
    "    assert all_interactions.shape[0] > 0\n",
    "\n",
    "    distances_x = []\n",
    "    distances_y = []\n",
    "    for _, df_row in all_interactions.iterrows():\n",
    "        distances_x.append(\n",
    "            min_distance([x1,x2], [df_row.x1,df_row.x2])\n",
    "        )\n",
    "        distances_y.append(\n",
    "            min_distance([y1,y2], [df_row.y1,df_row.y2])\n",
    "        )\n",
    "\n",
    "    distance_x = min(distances_x)\n",
    "    distance_y = min(distances_y)\n",
    "    \n",
    "    diz[idx] = {'distance_x':distance_x, 'distance_y':distance_y}"
   ]
  },
  {
   "cell_type": "code",
   "execution_count": 63,
   "id": "b78fc085-a09a-4aa2-8feb-0b4c43e62f38",
   "metadata": {},
   "outputs": [],
   "source": [
    "distances = pd.DataFrame.from_dict(diz, orient = 'index')"
   ]
  },
  {
   "cell_type": "code",
   "execution_count": 104,
   "id": "b470206b-514e-497b-ba6f-d2dc1b6488a9",
   "metadata": {},
   "outputs": [],
   "source": [
    "final_hn = pd.concat([df, distances], axis = 1)\n",
    "subset = final_hn[(final_hn.distance_x>0) & (final_hn.distance_y>0)]"
   ]
  },
  {
   "cell_type": "code",
   "execution_count": 105,
   "id": "b5834564-f926-4235-a453-194f17a09d4b",
   "metadata": {},
   "outputs": [
    {
     "data": {
      "text/html": [
       "<div>\n",
       "<style scoped>\n",
       "    .dataframe tbody tr th:only-of-type {\n",
       "        vertical-align: middle;\n",
       "    }\n",
       "\n",
       "    .dataframe tbody tr th {\n",
       "        vertical-align: top;\n",
       "    }\n",
       "\n",
       "    .dataframe thead th {\n",
       "        text-align: right;\n",
       "    }\n",
       "</style>\n",
       "<table border=\"1\" class=\"dataframe\">\n",
       "  <thead>\n",
       "    <tr style=\"text-align: right;\">\n",
       "      <th></th>\n",
       "      <th>embedding1name</th>\n",
       "      <th>embedding2name</th>\n",
       "      <th>start_window1</th>\n",
       "      <th>end_window1</th>\n",
       "      <th>start_window2</th>\n",
       "      <th>end_window2</th>\n",
       "      <th>id_pair</th>\n",
       "      <th>emb_name1</th>\n",
       "      <th>emb_name2</th>\n",
       "      <th>transcript1</th>\n",
       "      <th>...</th>\n",
       "      <th>end_emb1</th>\n",
       "      <th>start_window_x</th>\n",
       "      <th>end_window_x</th>\n",
       "      <th>transcript2</th>\n",
       "      <th>start_emb2</th>\n",
       "      <th>end_emb2</th>\n",
       "      <th>start_window_y</th>\n",
       "      <th>end_window_y</th>\n",
       "      <th>distance_x</th>\n",
       "      <th>distance_y</th>\n",
       "    </tr>\n",
       "  </thead>\n",
       "  <tbody>\n",
       "    <tr>\n",
       "      <th>3099</th>\n",
       "      <td>ENST00000396987_1</td>\n",
       "      <td>ENST00000275034_60</td>\n",
       "      <td>2200</td>\n",
       "      <td>2700</td>\n",
       "      <td>3334</td>\n",
       "      <td>3834</td>\n",
       "      <td>ENST00000396987_1+ENST00000275034_60+2200+2700...</td>\n",
       "      <td>ENST00000396987_1</td>\n",
       "      <td>ENST00000275034_60</td>\n",
       "      <td>ENST00000396987</td>\n",
       "      <td>...</td>\n",
       "      <td>5970</td>\n",
       "      <td>2200</td>\n",
       "      <td>2700</td>\n",
       "      <td>ENST00000275034</td>\n",
       "      <td>5900</td>\n",
       "      <td>11870</td>\n",
       "      <td>9234</td>\n",
       "      <td>9734</td>\n",
       "      <td>59</td>\n",
       "      <td>112</td>\n",
       "    </tr>\n",
       "    <tr>\n",
       "      <th>3575</th>\n",
       "      <td>ENST00000618457_1</td>\n",
       "      <td>ENST00000394329_8</td>\n",
       "      <td>5312</td>\n",
       "      <td>5812</td>\n",
       "      <td>2266</td>\n",
       "      <td>2766</td>\n",
       "      <td>ENST00000618457_1+ENST00000394329_8+5312+5812+...</td>\n",
       "      <td>ENST00000618457_1</td>\n",
       "      <td>ENST00000394329_8</td>\n",
       "      <td>ENST00000618457</td>\n",
       "      <td>...</td>\n",
       "      <td>5970</td>\n",
       "      <td>5312</td>\n",
       "      <td>5812</td>\n",
       "      <td>ENST00000394329</td>\n",
       "      <td>700</td>\n",
       "      <td>6670</td>\n",
       "      <td>2966</td>\n",
       "      <td>3466</td>\n",
       "      <td>1729</td>\n",
       "      <td>7767</td>\n",
       "    </tr>\n",
       "    <tr>\n",
       "      <th>3638</th>\n",
       "      <td>ENST00000633556_1</td>\n",
       "      <td>ENST00000262189_54</td>\n",
       "      <td>4657</td>\n",
       "      <td>5157</td>\n",
       "      <td>1236</td>\n",
       "      <td>1736</td>\n",
       "      <td>ENST00000633556_1+ENST00000262189_54+4657+5157...</td>\n",
       "      <td>ENST00000633556_1</td>\n",
       "      <td>ENST00000262189_54</td>\n",
       "      <td>ENST00000633556</td>\n",
       "      <td>...</td>\n",
       "      <td>5970</td>\n",
       "      <td>4657</td>\n",
       "      <td>5157</td>\n",
       "      <td>ENST00000262189</td>\n",
       "      <td>5300</td>\n",
       "      <td>11270</td>\n",
       "      <td>6536</td>\n",
       "      <td>7036</td>\n",
       "      <td>2264</td>\n",
       "      <td>4928</td>\n",
       "    </tr>\n",
       "    <tr>\n",
       "      <th>3646</th>\n",
       "      <td>ENST00000637265_35</td>\n",
       "      <td>ENST00000319080_1</td>\n",
       "      <td>2453</td>\n",
       "      <td>2953</td>\n",
       "      <td>693</td>\n",
       "      <td>1193</td>\n",
       "      <td>ENST00000637265_35+ENST00000319080_1+2453+2953...</td>\n",
       "      <td>ENST00000637265_35</td>\n",
       "      <td>ENST00000319080_1</td>\n",
       "      <td>ENST00000637265</td>\n",
       "      <td>...</td>\n",
       "      <td>9370</td>\n",
       "      <td>5853</td>\n",
       "      <td>6353</td>\n",
       "      <td>ENST00000319080</td>\n",
       "      <td>0</td>\n",
       "      <td>5970</td>\n",
       "      <td>693</td>\n",
       "      <td>1193</td>\n",
       "      <td>1463</td>\n",
       "      <td>1697</td>\n",
       "    </tr>\n",
       "    <tr>\n",
       "      <th>3731</th>\n",
       "      <td>ENST00000255305_1</td>\n",
       "      <td>ENST00000215832_51</td>\n",
       "      <td>1225</td>\n",
       "      <td>1725</td>\n",
       "      <td>2916</td>\n",
       "      <td>3416</td>\n",
       "      <td>ENST00000255305_1+ENST00000215832_51+1225+1725...</td>\n",
       "      <td>ENST00000255305_1</td>\n",
       "      <td>ENST00000215832_51</td>\n",
       "      <td>ENST00000255305</td>\n",
       "      <td>...</td>\n",
       "      <td>5970</td>\n",
       "      <td>1225</td>\n",
       "      <td>1725</td>\n",
       "      <td>ENST00000215832</td>\n",
       "      <td>5000</td>\n",
       "      <td>10970</td>\n",
       "      <td>7916</td>\n",
       "      <td>8416</td>\n",
       "      <td>1806</td>\n",
       "      <td>1902</td>\n",
       "    </tr>\n",
       "    <tr>\n",
       "      <th>...</th>\n",
       "      <td>...</td>\n",
       "      <td>...</td>\n",
       "      <td>...</td>\n",
       "      <td>...</td>\n",
       "      <td>...</td>\n",
       "      <td>...</td>\n",
       "      <td>...</td>\n",
       "      <td>...</td>\n",
       "      <td>...</td>\n",
       "      <td>...</td>\n",
       "      <td>...</td>\n",
       "      <td>...</td>\n",
       "      <td>...</td>\n",
       "      <td>...</td>\n",
       "      <td>...</td>\n",
       "      <td>...</td>\n",
       "      <td>...</td>\n",
       "      <td>...</td>\n",
       "      <td>...</td>\n",
       "      <td>...</td>\n",
       "      <td>...</td>\n",
       "    </tr>\n",
       "    <tr>\n",
       "      <th>35188</th>\n",
       "      <td>ENSMUST00000115104_24</td>\n",
       "      <td>ENSMUST00000114812_8</td>\n",
       "      <td>4501</td>\n",
       "      <td>5001</td>\n",
       "      <td>5410</td>\n",
       "      <td>5910</td>\n",
       "      <td>ENSMUST00000115104_24+ENSMUST00000114812_8+450...</td>\n",
       "      <td>ENSMUST00000115104_24</td>\n",
       "      <td>ENSMUST00000114812_8</td>\n",
       "      <td>ENSMUST00000115104</td>\n",
       "      <td>...</td>\n",
       "      <td>8270</td>\n",
       "      <td>6801</td>\n",
       "      <td>7301</td>\n",
       "      <td>ENSMUST00000114812</td>\n",
       "      <td>700</td>\n",
       "      <td>6670</td>\n",
       "      <td>6110</td>\n",
       "      <td>6610</td>\n",
       "      <td>7743</td>\n",
       "      <td>2164</td>\n",
       "    </tr>\n",
       "    <tr>\n",
       "      <th>49445</th>\n",
       "      <td>ENSMUST00000081619_19</td>\n",
       "      <td>ENSMUST00000040025_63</td>\n",
       "      <td>1615</td>\n",
       "      <td>2115</td>\n",
       "      <td>431</td>\n",
       "      <td>931</td>\n",
       "      <td>ENSMUST00000081619_19+ENSMUST00000040025_63+16...</td>\n",
       "      <td>ENSMUST00000081619_19</td>\n",
       "      <td>ENSMUST00000040025_63</td>\n",
       "      <td>ENSMUST00000081619</td>\n",
       "      <td>...</td>\n",
       "      <td>7770</td>\n",
       "      <td>3415</td>\n",
       "      <td>3915</td>\n",
       "      <td>ENSMUST00000040025</td>\n",
       "      <td>6200</td>\n",
       "      <td>12132</td>\n",
       "      <td>6631</td>\n",
       "      <td>7131</td>\n",
       "      <td>1228</td>\n",
       "      <td>4799</td>\n",
       "    </tr>\n",
       "    <tr>\n",
       "      <th>50960</th>\n",
       "      <td>ENSMUST00000075164_33</td>\n",
       "      <td>ENSMUST00000128570_8</td>\n",
       "      <td>3370</td>\n",
       "      <td>3870</td>\n",
       "      <td>3177</td>\n",
       "      <td>3677</td>\n",
       "      <td>ENSMUST00000075164_33+ENSMUST00000128570_8+337...</td>\n",
       "      <td>ENSMUST00000075164_33</td>\n",
       "      <td>ENSMUST00000128570_8</td>\n",
       "      <td>ENSMUST00000075164</td>\n",
       "      <td>...</td>\n",
       "      <td>9115</td>\n",
       "      <td>6570</td>\n",
       "      <td>7070</td>\n",
       "      <td>ENSMUST00000128570</td>\n",
       "      <td>700</td>\n",
       "      <td>6670</td>\n",
       "      <td>3877</td>\n",
       "      <td>4377</td>\n",
       "      <td>1807</td>\n",
       "      <td>48</td>\n",
       "    </tr>\n",
       "    <tr>\n",
       "      <th>51017</th>\n",
       "      <td>ENSMUST00000115104_105</td>\n",
       "      <td>ENSMUST00000072607_3</td>\n",
       "      <td>5421</td>\n",
       "      <td>5921</td>\n",
       "      <td>3381</td>\n",
       "      <td>3881</td>\n",
       "      <td>ENSMUST00000115104_105+ENSMUST00000072607_3+54...</td>\n",
       "      <td>ENSMUST00000115104_105</td>\n",
       "      <td>ENSMUST00000072607_3</td>\n",
       "      <td>ENSMUST00000115104</td>\n",
       "      <td>...</td>\n",
       "      <td>16370</td>\n",
       "      <td>15821</td>\n",
       "      <td>16321</td>\n",
       "      <td>ENSMUST00000072607</td>\n",
       "      <td>200</td>\n",
       "      <td>6170</td>\n",
       "      <td>3581</td>\n",
       "      <td>4081</td>\n",
       "      <td>4233</td>\n",
       "      <td>905</td>\n",
       "    </tr>\n",
       "    <tr>\n",
       "      <th>60581</th>\n",
       "      <td>ENST00000299441_46</td>\n",
       "      <td>ENST00000651671_37</td>\n",
       "      <td>4366</td>\n",
       "      <td>4866</td>\n",
       "      <td>1973</td>\n",
       "      <td>2473</td>\n",
       "      <td>ENST00000299441_46+ENST00000651671_37+4366+486...</td>\n",
       "      <td>ENST00000299441_46</td>\n",
       "      <td>ENST00000651671_37</td>\n",
       "      <td>ENST00000299441</td>\n",
       "      <td>...</td>\n",
       "      <td>10470</td>\n",
       "      <td>8866</td>\n",
       "      <td>9366</td>\n",
       "      <td>ENST00000651671</td>\n",
       "      <td>3600</td>\n",
       "      <td>9568</td>\n",
       "      <td>5573</td>\n",
       "      <td>6073</td>\n",
       "      <td>46</td>\n",
       "      <td>2954</td>\n",
       "    </tr>\n",
       "  </tbody>\n",
       "</table>\n",
       "<p>100 rows × 21 columns</p>\n",
       "</div>"
      ],
      "text/plain": [
       "               embedding1name         embedding2name  start_window1  \\\n",
       "3099        ENST00000396987_1     ENST00000275034_60           2200   \n",
       "3575        ENST00000618457_1      ENST00000394329_8           5312   \n",
       "3638        ENST00000633556_1     ENST00000262189_54           4657   \n",
       "3646       ENST00000637265_35      ENST00000319080_1           2453   \n",
       "3731        ENST00000255305_1     ENST00000215832_51           1225   \n",
       "...                       ...                    ...            ...   \n",
       "35188   ENSMUST00000115104_24   ENSMUST00000114812_8           4501   \n",
       "49445   ENSMUST00000081619_19  ENSMUST00000040025_63           1615   \n",
       "50960   ENSMUST00000075164_33   ENSMUST00000128570_8           3370   \n",
       "51017  ENSMUST00000115104_105   ENSMUST00000072607_3           5421   \n",
       "60581      ENST00000299441_46     ENST00000651671_37           4366   \n",
       "\n",
       "       end_window1  start_window2  end_window2  \\\n",
       "3099          2700           3334         3834   \n",
       "3575          5812           2266         2766   \n",
       "3638          5157           1236         1736   \n",
       "3646          2953            693         1193   \n",
       "3731          1725           2916         3416   \n",
       "...            ...            ...          ...   \n",
       "35188         5001           5410         5910   \n",
       "49445         2115            431          931   \n",
       "50960         3870           3177         3677   \n",
       "51017         5921           3381         3881   \n",
       "60581         4866           1973         2473   \n",
       "\n",
       "                                                 id_pair  \\\n",
       "3099   ENST00000396987_1+ENST00000275034_60+2200+2700...   \n",
       "3575   ENST00000618457_1+ENST00000394329_8+5312+5812+...   \n",
       "3638   ENST00000633556_1+ENST00000262189_54+4657+5157...   \n",
       "3646   ENST00000637265_35+ENST00000319080_1+2453+2953...   \n",
       "3731   ENST00000255305_1+ENST00000215832_51+1225+1725...   \n",
       "...                                                  ...   \n",
       "35188  ENSMUST00000115104_24+ENSMUST00000114812_8+450...   \n",
       "49445  ENSMUST00000081619_19+ENSMUST00000040025_63+16...   \n",
       "50960  ENSMUST00000075164_33+ENSMUST00000128570_8+337...   \n",
       "51017  ENSMUST00000115104_105+ENSMUST00000072607_3+54...   \n",
       "60581  ENST00000299441_46+ENST00000651671_37+4366+486...   \n",
       "\n",
       "                    emb_name1              emb_name2         transcript1  ...  \\\n",
       "3099        ENST00000396987_1     ENST00000275034_60     ENST00000396987  ...   \n",
       "3575        ENST00000618457_1      ENST00000394329_8     ENST00000618457  ...   \n",
       "3638        ENST00000633556_1     ENST00000262189_54     ENST00000633556  ...   \n",
       "3646       ENST00000637265_35      ENST00000319080_1     ENST00000637265  ...   \n",
       "3731        ENST00000255305_1     ENST00000215832_51     ENST00000255305  ...   \n",
       "...                       ...                    ...                 ...  ...   \n",
       "35188   ENSMUST00000115104_24   ENSMUST00000114812_8  ENSMUST00000115104  ...   \n",
       "49445   ENSMUST00000081619_19  ENSMUST00000040025_63  ENSMUST00000081619  ...   \n",
       "50960   ENSMUST00000075164_33   ENSMUST00000128570_8  ENSMUST00000075164  ...   \n",
       "51017  ENSMUST00000115104_105   ENSMUST00000072607_3  ENSMUST00000115104  ...   \n",
       "60581      ENST00000299441_46     ENST00000651671_37     ENST00000299441  ...   \n",
       "\n",
       "       end_emb1  start_window_x  end_window_x         transcript2 start_emb2  \\\n",
       "3099       5970            2200          2700     ENST00000275034       5900   \n",
       "3575       5970            5312          5812     ENST00000394329        700   \n",
       "3638       5970            4657          5157     ENST00000262189       5300   \n",
       "3646       9370            5853          6353     ENST00000319080          0   \n",
       "3731       5970            1225          1725     ENST00000215832       5000   \n",
       "...         ...             ...           ...                 ...        ...   \n",
       "35188      8270            6801          7301  ENSMUST00000114812        700   \n",
       "49445      7770            3415          3915  ENSMUST00000040025       6200   \n",
       "50960      9115            6570          7070  ENSMUST00000128570        700   \n",
       "51017     16370           15821         16321  ENSMUST00000072607        200   \n",
       "60581     10470            8866          9366     ENST00000651671       3600   \n",
       "\n",
       "       end_emb2  start_window_y  end_window_y  distance_x  distance_y  \n",
       "3099      11870            9234          9734          59         112  \n",
       "3575       6670            2966          3466        1729        7767  \n",
       "3638      11270            6536          7036        2264        4928  \n",
       "3646       5970             693          1193        1463        1697  \n",
       "3731      10970            7916          8416        1806        1902  \n",
       "...         ...             ...           ...         ...         ...  \n",
       "35188      6670            6110          6610        7743        2164  \n",
       "49445     12132            6631          7131        1228        4799  \n",
       "50960      6670            3877          4377        1807          48  \n",
       "51017      6170            3581          4081        4233         905  \n",
       "60581      9568            5573          6073          46        2954  \n",
       "\n",
       "[100 rows x 21 columns]"
      ]
     },
     "execution_count": 105,
     "metadata": {},
     "output_type": "execute_result"
    }
   ],
   "source": [
    "subset"
   ]
  },
  {
   "cell_type": "code",
   "execution_count": 106,
   "id": "19532d93-1006-46c6-a5ab-2fcafef88f2a",
   "metadata": {},
   "outputs": [],
   "source": [
    "pred = pd.read_csv(os.path.join(check_data_path, 'predictions.csv'))"
   ]
  },
  {
   "cell_type": "code",
   "execution_count": 107,
   "id": "989549c1-0a4a-46d2-ae1a-4f531a6dc139",
   "metadata": {},
   "outputs": [
    {
     "name": "stderr",
     "output_type": "stream",
     "text": [
      "/tmp/ipykernel_473531/2791520523.py:1: SettingWithCopyWarning: \n",
      "A value is trying to be set on a copy of a slice from a DataFrame.\n",
      "Try using .loc[row_indexer,col_indexer] = value instead\n",
      "\n",
      "See the caveats in the documentation: https://pandas.pydata.org/pandas-docs/stable/user_guide/indexing.html#returning-a-view-versus-a-copy\n",
      "  subset['id_sample'] = 'paris+' + subset.id_pair\n"
     ]
    }
   ],
   "source": [
    "subset['id_sample'] = 'paris+' + subset.id_pair"
   ]
  },
  {
   "cell_type": "code",
   "execution_count": 110,
   "id": "1dd8fa32-11e6-4a72-91f8-ba637c72caa3",
   "metadata": {},
   "outputs": [
    {
     "data": {
      "text/plain": [
       "0.6666666666666666"
      ]
     },
     "execution_count": 110,
     "metadata": {},
     "output_type": "execute_result"
    }
   ],
   "source": [
    "paris_exp['w'] = paris_exp.x2 - paris_exp.x1\n",
    "paris_exp['h'] = paris_exp.y2 - paris_exp.y1\n",
    "hq = paris_exp[(paris_exp.w > 20) & (paris_exp.h > 20)]\n",
    "subset = subset[(subset.transcript1 + '_' + subset.transcript2).isin(set(hq.tr1 + '_' + hq.tr2))]\n",
    "subset = pred.merge(subset, on = 'id_sample')\n",
    "(subset.probability<0.5).sum()/subset.shape[0]"
   ]
  },
  {
   "cell_type": "code",
   "execution_count": 112,
   "id": "174917b0-331f-4f4f-8721-7c1f6bcb4a9a",
   "metadata": {},
   "outputs": [
    {
     "data": {
      "text/plain": [
       "42"
      ]
     },
     "execution_count": 112,
     "metadata": {},
     "output_type": "execute_result"
    }
   ],
   "source": [
    "subset.shape[0]"
   ]
  },
  {
   "cell_type": "code",
   "execution_count": 95,
   "id": "5ae27db0-4045-4585-a8f5-cd9e120eeae2",
   "metadata": {},
   "outputs": [
    {
     "data": {
      "text/plain": [
       "('ENST00000618457', 'ENST00000394329', 0, 5970, 1729, 700, 6670, 7767)"
      ]
     },
     "execution_count": 95,
     "metadata": {},
     "output_type": "execute_result"
    }
   ],
   "source": [
    "row = subset.iloc[1]\n",
    "row.transcript1, row.transcript2, row.start_emb1, row.end_emb1, row.distance_x, row.start_emb2, row.end_emb2, row.distance_y"
   ]
  },
  {
   "cell_type": "code",
   "execution_count": 96,
   "id": "2a229f14-1a71-4bec-be22-774680938db2",
   "metadata": {},
   "outputs": [],
   "source": [
    "all_interactions = paris_exp[(paris_exp['tr1'] == row.transcript1)&(paris_exp['tr2'] == row.transcript2)]"
   ]
  },
  {
   "cell_type": "code",
   "execution_count": 97,
   "id": "f95ac98f-924c-4bd3-bc92-bd40ce58e5cb",
   "metadata": {},
   "outputs": [
    {
     "data": {
      "text/html": [
       "<div>\n",
       "<style scoped>\n",
       "    .dataframe tbody tr th:only-of-type {\n",
       "        vertical-align: middle;\n",
       "    }\n",
       "\n",
       "    .dataframe tbody tr th {\n",
       "        vertical-align: top;\n",
       "    }\n",
       "\n",
       "    .dataframe thead th {\n",
       "        text-align: right;\n",
       "    }\n",
       "</style>\n",
       "<table border=\"1\" class=\"dataframe\">\n",
       "  <thead>\n",
       "    <tr style=\"text-align: right;\">\n",
       "      <th></th>\n",
       "      <th>tr1</th>\n",
       "      <th>x1</th>\n",
       "      <th>x2</th>\n",
       "      <th>tr2</th>\n",
       "      <th>y1</th>\n",
       "      <th>y2</th>\n",
       "      <th>name</th>\n",
       "      <th>n_reads</th>\n",
       "      <th>other_id</th>\n",
       "      <th>experiment</th>\n",
       "    </tr>\n",
       "  </thead>\n",
       "  <tbody>\n",
       "    <tr>\n",
       "      <th>103443</th>\n",
       "      <td>ENST00000618457</td>\n",
       "      <td>7699</td>\n",
       "      <td>7718</td>\n",
       "      <td>ENST00000394329</td>\n",
       "      <td>14437</td>\n",
       "      <td>14456</td>\n",
       "      <td>interaction15212_PARIS1__Hela_lowRNase</td>\n",
       "      <td>1</td>\n",
       "      <td>RISE0256751</td>\n",
       "      <td>hs_PARIS1__Hela_lowRNase</td>\n",
       "    </tr>\n",
       "  </tbody>\n",
       "</table>\n",
       "</div>"
      ],
      "text/plain": [
       "                    tr1    x1    x2              tr2     y1     y2  \\\n",
       "103443  ENST00000618457  7699  7718  ENST00000394329  14437  14456   \n",
       "\n",
       "                                          name n_reads     other_id  \\\n",
       "103443  interaction15212_PARIS1__Hela_lowRNase       1  RISE0256751   \n",
       "\n",
       "                      experiment  \n",
       "103443  hs_PARIS1__Hela_lowRNase  "
      ]
     },
     "execution_count": 97,
     "metadata": {},
     "output_type": "execute_result"
    }
   ],
   "source": [
    "all_interactions"
   ]
  },
  {
   "cell_type": "code",
   "execution_count": null,
   "id": "6eb4a80e-3d69-4531-8d9e-2520f1b3fa1f",
   "metadata": {},
   "outputs": [],
   "source": []
  },
  {
   "cell_type": "code",
   "execution_count": null,
   "id": "5cabd3d6-4bbf-45e3-8172-988c5aa10c00",
   "metadata": {},
   "outputs": [],
   "source": []
  },
  {
   "cell_type": "code",
   "execution_count": null,
   "id": "7b96ea1e-9fde-408d-b2e5-3a1cc2ef4303",
   "metadata": {},
   "outputs": [],
   "source": []
  },
  {
   "cell_type": "code",
   "execution_count": null,
   "id": "8ad203de-91ba-4a09-a368-87ac69ab8bf4",
   "metadata": {},
   "outputs": [],
   "source": []
  },
  {
   "cell_type": "code",
   "execution_count": null,
   "id": "bde3c10e-7bea-49c0-8d4f-7808f0b85ad1",
   "metadata": {},
   "outputs": [],
   "source": []
  },
  {
   "cell_type": "code",
   "execution_count": null,
   "id": "1ef925f3-633e-4d59-a5cb-ca740c16d44a",
   "metadata": {},
   "outputs": [],
   "source": []
  },
  {
   "cell_type": "code",
   "execution_count": null,
   "id": "f0835c33-1b70-42ba-bfce-8a1c093d0194",
   "metadata": {},
   "outputs": [],
   "source": []
  },
  {
   "cell_type": "code",
   "execution_count": null,
   "id": "ddc8f71f-7118-4b66-83e0-f02e9587b491",
   "metadata": {},
   "outputs": [],
   "source": []
  },
  {
   "cell_type": "code",
   "execution_count": 102,
   "id": "93a6771b-5a71-4645-abb9-035997fe17b7",
   "metadata": {},
   "outputs": [],
   "source": [
    "def min_distance(interval1, interval2):\n",
    "    # Sorting intervals to make sure interval1[0] is less than interval2[0]\n",
    "    interval1, interval2 = sorted([interval1, interval2], key=lambda x: x[0])\n",
    "\n",
    "    # Case where intervals overlap\n",
    "    if interval1[1] >= interval2[0]:\n",
    "        return 0\n",
    "\n",
    "    # Minimum distance between non-overlapping intervals\n",
    "    return interval2[0] - interval1[1]"
   ]
  },
  {
   "cell_type": "code",
   "execution_count": 103,
   "id": "305faaa8-8f12-48bb-ae8c-c50f438379c8",
   "metadata": {},
   "outputs": [],
   "source": [
    "filename = os.path.join(original_files_dir, 'Tx.RI_ALL.specie.no_abundant.filter_rep.no_mirna.no_mito.bedpe')\n",
    "\n",
    "rows = []\n",
    "with open(filename)as f:\n",
    "    for line in f:\n",
    "        L = line.strip().split()\n",
    "        rows.append(L)\n",
    "\n",
    "all_interactions = pd.DataFrame(rows, columns = ['tr1', 'x1', 'x2', 'tr2', 'y1', 'y2', 'name', 'n_reads', 'strand1', 'strand2', 'other_id', 'experiment'] )\n",
    "all_interactions[['x1', 'x2', 'y1', 'y2']] = all_interactions[['x1', 'x2', 'y1', 'y2']].apply(pd.to_numeric)\n",
    "\n",
    "#they are already mapped so the strand should be always '+'\n",
    "assert (all_interactions.strand1 == all_interactions.strand2).all()\n",
    "assert set(all_interactions.strand1) == {'+'}\n",
    "all_interactions = all_interactions.drop(['strand1', 'strand2'], axis = 1)\n",
    "\n",
    "paris_experiments = ['hs_PARIS1__Hela_highRNase', 'mm_PARIS2__GSM4503873_Mouse_brain_mRNA', 'hs_PARIS1__Hela_lowRNase', 'hs_PARIS1__HEK293T', 'hs_PARIS2__GSM4503872_HEK293_mRNA', 'mm_PARIS1__mES', 'hs_PARIS2__HEK293_AMT', 'hs_PARIS2__HEK293_Amoto']\n",
    "mario_experiments = ['mm_MARIO__mES']\n",
    "ricseq_experiments = ['hs_RIC-seq__HeLa_merge.InterGene.arms']\n",
    "ricseq_exp = all_interactions[all_interactions.experiment.isin(ricseq_experiments)].reset_index(drop = True)"
   ]
  },
  {
   "cell_type": "code",
   "execution_count": 180,
   "id": "80385912-d89e-4794-b3ef-c58bc0597217",
   "metadata": {},
   "outputs": [],
   "source": [
    "check_data_path = '/data01/giorgio/RNARNA-NT/dataset/external_dataset/check_predictions/original_data/'\n",
    "emb = pd.read_csv(os.path.join(check_data_path, 'check_predictions', 'embeddings.filtered.bed'), sep = '\\t', names = ['transcript','start','end','emb_name'])\n",
    "assert (emb.emb_name.str.extractall('(.*)_(.*)').reset_index(drop = True)[0] == emb.transcript).all()\n",
    "df = pd.read_csv(os.path.join(check_data_path, 'giorgio.ricseq.txt'), sep = '\\t').reset_index(drop = True)"
   ]
  },
  {
   "cell_type": "code",
   "execution_count": 181,
   "id": "dc1a5a21-3349-4806-aae2-d08d6fe8c8c8",
   "metadata": {},
   "outputs": [],
   "source": [
    "df_coord = df.id_pair.str.extractall('(.*)\\+(.*)\\+(.*)\\+(.*)\\+(.*)\\+(.*)')\n",
    "\n",
    "df_coord = df_coord.reset_index(drop = True).rename({\n",
    "        0:'emb_name1',\n",
    "        1:'emb_name2',\n",
    "        2:'x1',\n",
    "        3:'x2',\n",
    "        4:'y1',\n",
    "        5:'y2',\n",
    "        },axis = 1)\n",
    "\n",
    "df['emb_1'] = df_coord['emb_name1']\n",
    "df['emb_2'] = df_coord['emb_name2']\n",
    "\n",
    "df_coord['x1'] = df_coord['x1'].astype(int)\n",
    "df_coord['x2'] = df_coord['x2'].astype(int)\n",
    "df_coord['y1'] = df_coord['y1'].astype(int)\n",
    "df_coord['y2'] = df_coord['y2'].astype(int)\n",
    "\n",
    "\n",
    "df_coord = df_coord.merge(emb, how = 'left', left_on = 'emb_name1', right_on = 'emb_name')\n",
    "df_coord['start_window_x'] = df_coord['x1'] + df_coord['start']\n",
    "df_coord['end_window_x'] = df_coord['x2'] + df_coord['start']\n",
    "df_coord = df_coord.rename({'transcript':'transcript1', 'start':'start_emb1', 'end': 'end_emb1'}, axis = 1)\n",
    "df_coord = df_coord.drop(['x1', 'x2', 'emb_name'], axis = 1)\n",
    "\n",
    "\n",
    "\n",
    "\n",
    "df_coord = df_coord.merge(emb, how = 'left', left_on = 'emb_name2', right_on = 'emb_name')\n",
    "df_coord['start_window_y'] = df_coord['y1'] + df_coord['start']\n",
    "df_coord['end_window_y'] = df_coord['y2'] + df_coord['start']\n",
    "df_coord = df_coord.rename({'transcript':'transcript2', 'start':'start_emb2', 'end': 'end_emb2'}, axis = 1)\n",
    "df_coord = df_coord.drop(['y1', 'y2', 'emb_name'], axis = 1)"
   ]
  },
  {
   "cell_type": "code",
   "execution_count": 182,
   "id": "f85e5644-8675-4621-a038-59b62b27b6cf",
   "metadata": {},
   "outputs": [],
   "source": [
    "df = pd.concat([df, df_coord], axis = 1)\n",
    "\n",
    "assert (df.emb_1 == df.emb_name1).all()\n",
    "assert (df.emb_2 == df.emb_name2).all()\n",
    "\n",
    "df = df.drop(['emb_1', 'emb_2'], axis = 1)"
   ]
  },
  {
   "cell_type": "code",
   "execution_count": 185,
   "id": "105bde2c-fce6-4056-ba20-0a3338e89f4b",
   "metadata": {},
   "outputs": [
    {
     "data": {
      "text/plain": [
       "smartneg               384509\n",
       "easyneg_singlepatch     80109\n",
       "hardneg_singlepatch     18686\n",
       "positive                 9409\n",
       "hardneg                  9343\n",
       "easyneg                   189\n",
       "Name: category, dtype: int64"
      ]
     },
     "execution_count": 185,
     "metadata": {},
     "output_type": "execute_result"
    }
   ],
   "source": [
    "df.category.value_counts()"
   ]
  },
  {
   "cell_type": "code",
   "execution_count": 186,
   "id": "c267a360-50bd-4c1a-b04a-40e6cd80d426",
   "metadata": {},
   "outputs": [
    {
     "data": {
      "text/html": [
       "<div>\n",
       "<style scoped>\n",
       "    .dataframe tbody tr th:only-of-type {\n",
       "        vertical-align: middle;\n",
       "    }\n",
       "\n",
       "    .dataframe tbody tr th {\n",
       "        vertical-align: top;\n",
       "    }\n",
       "\n",
       "    .dataframe thead th {\n",
       "        text-align: right;\n",
       "    }\n",
       "</style>\n",
       "<table border=\"1\" class=\"dataframe\">\n",
       "  <thead>\n",
       "    <tr style=\"text-align: right;\">\n",
       "      <th></th>\n",
       "      <th>Unnamed: 0</th>\n",
       "      <th>id_pair</th>\n",
       "      <th>name_analysis</th>\n",
       "      <th>probability</th>\n",
       "      <th>name</th>\n",
       "      <th>score_1</th>\n",
       "      <th>score_2</th>\n",
       "      <th>true_value</th>\n",
       "      <th>binary_true_value</th>\n",
       "      <th>macro_group</th>\n",
       "      <th>...</th>\n",
       "      <th>transcript1</th>\n",
       "      <th>start_emb1</th>\n",
       "      <th>end_emb1</th>\n",
       "      <th>start_window_x</th>\n",
       "      <th>end_window_x</th>\n",
       "      <th>transcript2</th>\n",
       "      <th>start_emb2</th>\n",
       "      <th>end_emb2</th>\n",
       "      <th>start_window_y</th>\n",
       "      <th>end_window_y</th>\n",
       "    </tr>\n",
       "  </thead>\n",
       "  <tbody>\n",
       "    <tr>\n",
       "      <th>9409</th>\n",
       "      <td>9409</td>\n",
       "      <td>ENST00000001146_1+ENST00000389286_24+2678+3178...</td>\n",
       "      <td>hardneg_easy</td>\n",
       "      <td>0.395211</td>\n",
       "      <td>interaction58_RIC-seq__HeLa_merge.InterGene.arms</td>\n",
       "      <td>2</td>\n",
       "      <td>2</td>\n",
       "      <td>negative</td>\n",
       "      <td>0</td>\n",
       "      <td>hardneg</td>\n",
       "      <td>...</td>\n",
       "      <td>ENST00000001146</td>\n",
       "      <td>0</td>\n",
       "      <td>4732</td>\n",
       "      <td>2678</td>\n",
       "      <td>3178</td>\n",
       "      <td>ENST00000389286</td>\n",
       "      <td>2300</td>\n",
       "      <td>8270</td>\n",
       "      <td>4417</td>\n",
       "      <td>4917</td>\n",
       "    </tr>\n",
       "    <tr>\n",
       "      <th>9410</th>\n",
       "      <td>9410</td>\n",
       "      <td>ENST00000003912_1+ENST00000276204_7+3463+3963+...</td>\n",
       "      <td>hardneg_easy</td>\n",
       "      <td>0.279407</td>\n",
       "      <td>interaction78_RIC-seq__HeLa_merge.InterGene.arms</td>\n",
       "      <td>1</td>\n",
       "      <td>1</td>\n",
       "      <td>negative</td>\n",
       "      <td>0</td>\n",
       "      <td>hardneg</td>\n",
       "      <td>...</td>\n",
       "      <td>ENST00000003912</td>\n",
       "      <td>0</td>\n",
       "      <td>5481</td>\n",
       "      <td>3463</td>\n",
       "      <td>3963</td>\n",
       "      <td>ENST00000276204</td>\n",
       "      <td>600</td>\n",
       "      <td>6570</td>\n",
       "      <td>2478</td>\n",
       "      <td>2978</td>\n",
       "    </tr>\n",
       "    <tr>\n",
       "      <th>9411</th>\n",
       "      <td>9411</td>\n",
       "      <td>ENST00000003912_1+ENST00000260270_1+3498+3998+...</td>\n",
       "      <td>hardneg_easy</td>\n",
       "      <td>0.294737</td>\n",
       "      <td>interaction75_RIC-seq__HeLa_merge.InterGene.arms</td>\n",
       "      <td>1</td>\n",
       "      <td>1</td>\n",
       "      <td>negative</td>\n",
       "      <td>0</td>\n",
       "      <td>hardneg</td>\n",
       "      <td>...</td>\n",
       "      <td>ENST00000003912</td>\n",
       "      <td>0</td>\n",
       "      <td>5481</td>\n",
       "      <td>3498</td>\n",
       "      <td>3998</td>\n",
       "      <td>ENST00000260270</td>\n",
       "      <td>0</td>\n",
       "      <td>3144</td>\n",
       "      <td>1152</td>\n",
       "      <td>1652</td>\n",
       "    </tr>\n",
       "    <tr>\n",
       "      <th>9412</th>\n",
       "      <td>9412</td>\n",
       "      <td>ENST00000003912_1+ENST00000354212_1+3565+4065+...</td>\n",
       "      <td>hardneg_easy</td>\n",
       "      <td>0.328119</td>\n",
       "      <td>interaction76_RIC-seq__HeLa_merge.InterGene.arms</td>\n",
       "      <td>1</td>\n",
       "      <td>1</td>\n",
       "      <td>negative</td>\n",
       "      <td>0</td>\n",
       "      <td>hardneg</td>\n",
       "      <td>...</td>\n",
       "      <td>ENST00000003912</td>\n",
       "      <td>0</td>\n",
       "      <td>5481</td>\n",
       "      <td>3565</td>\n",
       "      <td>4065</td>\n",
       "      <td>ENST00000354212</td>\n",
       "      <td>0</td>\n",
       "      <td>5970</td>\n",
       "      <td>3450</td>\n",
       "      <td>3950</td>\n",
       "    </tr>\n",
       "    <tr>\n",
       "      <th>9413</th>\n",
       "      <td>9413</td>\n",
       "      <td>ENST00000005260_1+ENST00000399070_1+2395+2895+...</td>\n",
       "      <td>hardneg_easy</td>\n",
       "      <td>0.370093</td>\n",
       "      <td>interaction83_RIC-seq__HeLa_merge.InterGene.arms</td>\n",
       "      <td>1</td>\n",
       "      <td>1</td>\n",
       "      <td>negative</td>\n",
       "      <td>0</td>\n",
       "      <td>hardneg</td>\n",
       "      <td>...</td>\n",
       "      <td>ENST00000005260</td>\n",
       "      <td>0</td>\n",
       "      <td>3645</td>\n",
       "      <td>2395</td>\n",
       "      <td>2895</td>\n",
       "      <td>ENST00000399070</td>\n",
       "      <td>0</td>\n",
       "      <td>5124</td>\n",
       "      <td>2917</td>\n",
       "      <td>3417</td>\n",
       "    </tr>\n",
       "    <tr>\n",
       "      <th>...</th>\n",
       "      <td>...</td>\n",
       "      <td>...</td>\n",
       "      <td>...</td>\n",
       "      <td>...</td>\n",
       "      <td>...</td>\n",
       "      <td>...</td>\n",
       "      <td>...</td>\n",
       "      <td>...</td>\n",
       "      <td>...</td>\n",
       "      <td>...</td>\n",
       "      <td>...</td>\n",
       "      <td>...</td>\n",
       "      <td>...</td>\n",
       "      <td>...</td>\n",
       "      <td>...</td>\n",
       "      <td>...</td>\n",
       "      <td>...</td>\n",
       "      <td>...</td>\n",
       "      <td>...</td>\n",
       "      <td>...</td>\n",
       "      <td>...</td>\n",
       "    </tr>\n",
       "    <tr>\n",
       "      <th>37433</th>\n",
       "      <td>37433</td>\n",
       "      <td>ENST00000626826_304+ENST00000369604_1+1320+182...</td>\n",
       "      <td>hardneg_hard</td>\n",
       "      <td>0.262093</td>\n",
       "      <td>interaction128512_RIC-seq__HeLa_merge.InterGen...</td>\n",
       "      <td>1</td>\n",
       "      <td>1</td>\n",
       "      <td>negative</td>\n",
       "      <td>0</td>\n",
       "      <td>hardneg</td>\n",
       "      <td>...</td>\n",
       "      <td>ENST00000626826</td>\n",
       "      <td>30300</td>\n",
       "      <td>36270</td>\n",
       "      <td>31620</td>\n",
       "      <td>32120</td>\n",
       "      <td>ENST00000369604</td>\n",
       "      <td>0</td>\n",
       "      <td>3657</td>\n",
       "      <td>1853</td>\n",
       "      <td>2353</td>\n",
       "    </tr>\n",
       "    <tr>\n",
       "      <th>37434</th>\n",
       "      <td>37434</td>\n",
       "      <td>ENST00000626826_1136+ENST00000257868_1+4357+48...</td>\n",
       "      <td>hardneg_hard</td>\n",
       "      <td>0.466847</td>\n",
       "      <td>interaction128486_RIC-seq__HeLa_merge.InterGen...</td>\n",
       "      <td>1</td>\n",
       "      <td>1</td>\n",
       "      <td>negative</td>\n",
       "      <td>0</td>\n",
       "      <td>hardneg</td>\n",
       "      <td>...</td>\n",
       "      <td>ENST00000626826</td>\n",
       "      <td>113500</td>\n",
       "      <td>119470</td>\n",
       "      <td>117857</td>\n",
       "      <td>118357</td>\n",
       "      <td>ENST00000257868</td>\n",
       "      <td>0</td>\n",
       "      <td>5970</td>\n",
       "      <td>116</td>\n",
       "      <td>616</td>\n",
       "    </tr>\n",
       "    <tr>\n",
       "      <th>37435</th>\n",
       "      <td>37435</td>\n",
       "      <td>ENST00000626826_1990+ENST00000566029_5+5182+56...</td>\n",
       "      <td>hardneg_hard</td>\n",
       "      <td>0.661785</td>\n",
       "      <td>interaction128461_RIC-seq__HeLa_merge.InterGen...</td>\n",
       "      <td>1</td>\n",
       "      <td>1</td>\n",
       "      <td>negative</td>\n",
       "      <td>0</td>\n",
       "      <td>hardneg</td>\n",
       "      <td>...</td>\n",
       "      <td>ENST00000626826</td>\n",
       "      <td>198900</td>\n",
       "      <td>204870</td>\n",
       "      <td>204082</td>\n",
       "      <td>204582</td>\n",
       "      <td>ENST00000566029</td>\n",
       "      <td>400</td>\n",
       "      <td>6370</td>\n",
       "      <td>473</td>\n",
       "      <td>973</td>\n",
       "    </tr>\n",
       "    <tr>\n",
       "      <th>37436</th>\n",
       "      <td>37436</td>\n",
       "      <td>ENST00000626826_1359+ENST00000376954_1+4274+47...</td>\n",
       "      <td>hardneg_hard</td>\n",
       "      <td>0.377358</td>\n",
       "      <td>interaction128490_RIC-seq__HeLa_merge.InterGen...</td>\n",
       "      <td>1</td>\n",
       "      <td>1</td>\n",
       "      <td>negative</td>\n",
       "      <td>0</td>\n",
       "      <td>hardneg</td>\n",
       "      <td>...</td>\n",
       "      <td>ENST00000626826</td>\n",
       "      <td>135800</td>\n",
       "      <td>141770</td>\n",
       "      <td>140074</td>\n",
       "      <td>140574</td>\n",
       "      <td>ENST00000376954</td>\n",
       "      <td>0</td>\n",
       "      <td>5970</td>\n",
       "      <td>2697</td>\n",
       "      <td>3197</td>\n",
       "    </tr>\n",
       "    <tr>\n",
       "      <th>37437</th>\n",
       "      <td>37437</td>\n",
       "      <td>ENST00000626826_791+ENST00000674063_1+5454+595...</td>\n",
       "      <td>hardneg_hard</td>\n",
       "      <td>0.565097</td>\n",
       "      <td>interaction128482_RIC-seq__HeLa_merge.InterGen...</td>\n",
       "      <td>1</td>\n",
       "      <td>1</td>\n",
       "      <td>negative</td>\n",
       "      <td>0</td>\n",
       "      <td>hardneg</td>\n",
       "      <td>...</td>\n",
       "      <td>ENST00000626826</td>\n",
       "      <td>79000</td>\n",
       "      <td>84970</td>\n",
       "      <td>84454</td>\n",
       "      <td>84954</td>\n",
       "      <td>ENST00000674063</td>\n",
       "      <td>0</td>\n",
       "      <td>5970</td>\n",
       "      <td>3436</td>\n",
       "      <td>3936</td>\n",
       "    </tr>\n",
       "  </tbody>\n",
       "</table>\n",
       "<p>28029 rows × 26 columns</p>\n",
       "</div>"
      ],
      "text/plain": [
       "       Unnamed: 0                                            id_pair  \\\n",
       "9409         9409  ENST00000001146_1+ENST00000389286_24+2678+3178...   \n",
       "9410         9410  ENST00000003912_1+ENST00000276204_7+3463+3963+...   \n",
       "9411         9411  ENST00000003912_1+ENST00000260270_1+3498+3998+...   \n",
       "9412         9412  ENST00000003912_1+ENST00000354212_1+3565+4065+...   \n",
       "9413         9413  ENST00000005260_1+ENST00000399070_1+2395+2895+...   \n",
       "...           ...                                                ...   \n",
       "37433       37433  ENST00000626826_304+ENST00000369604_1+1320+182...   \n",
       "37434       37434  ENST00000626826_1136+ENST00000257868_1+4357+48...   \n",
       "37435       37435  ENST00000626826_1990+ENST00000566029_5+5182+56...   \n",
       "37436       37436  ENST00000626826_1359+ENST00000376954_1+4274+47...   \n",
       "37437       37437  ENST00000626826_791+ENST00000674063_1+5454+595...   \n",
       "\n",
       "      name_analysis  probability  \\\n",
       "9409   hardneg_easy     0.395211   \n",
       "9410   hardneg_easy     0.279407   \n",
       "9411   hardneg_easy     0.294737   \n",
       "9412   hardneg_easy     0.328119   \n",
       "9413   hardneg_easy     0.370093   \n",
       "...             ...          ...   \n",
       "37433  hardneg_hard     0.262093   \n",
       "37434  hardneg_hard     0.466847   \n",
       "37435  hardneg_hard     0.661785   \n",
       "37436  hardneg_hard     0.377358   \n",
       "37437  hardneg_hard     0.565097   \n",
       "\n",
       "                                                    name  score_1  score_2  \\\n",
       "9409    interaction58_RIC-seq__HeLa_merge.InterGene.arms        2        2   \n",
       "9410    interaction78_RIC-seq__HeLa_merge.InterGene.arms        1        1   \n",
       "9411    interaction75_RIC-seq__HeLa_merge.InterGene.arms        1        1   \n",
       "9412    interaction76_RIC-seq__HeLa_merge.InterGene.arms        1        1   \n",
       "9413    interaction83_RIC-seq__HeLa_merge.InterGene.arms        1        1   \n",
       "...                                                  ...      ...      ...   \n",
       "37433  interaction128512_RIC-seq__HeLa_merge.InterGen...        1        1   \n",
       "37434  interaction128486_RIC-seq__HeLa_merge.InterGen...        1        1   \n",
       "37435  interaction128461_RIC-seq__HeLa_merge.InterGen...        1        1   \n",
       "37436  interaction128490_RIC-seq__HeLa_merge.InterGen...        1        1   \n",
       "37437  interaction128482_RIC-seq__HeLa_merge.InterGen...        1        1   \n",
       "\n",
       "      true_value  binary_true_value macro_group  ...      transcript1  \\\n",
       "9409    negative                  0     hardneg  ...  ENST00000001146   \n",
       "9410    negative                  0     hardneg  ...  ENST00000003912   \n",
       "9411    negative                  0     hardneg  ...  ENST00000003912   \n",
       "9412    negative                  0     hardneg  ...  ENST00000003912   \n",
       "9413    negative                  0     hardneg  ...  ENST00000005260   \n",
       "...          ...                ...         ...  ...              ...   \n",
       "37433   negative                  0     hardneg  ...  ENST00000626826   \n",
       "37434   negative                  0     hardneg  ...  ENST00000626826   \n",
       "37435   negative                  0     hardneg  ...  ENST00000626826   \n",
       "37436   negative                  0     hardneg  ...  ENST00000626826   \n",
       "37437   negative                  0     hardneg  ...  ENST00000626826   \n",
       "\n",
       "      start_emb1 end_emb1 start_window_x end_window_x      transcript2  \\\n",
       "9409           0     4732           2678         3178  ENST00000389286   \n",
       "9410           0     5481           3463         3963  ENST00000276204   \n",
       "9411           0     5481           3498         3998  ENST00000260270   \n",
       "9412           0     5481           3565         4065  ENST00000354212   \n",
       "9413           0     3645           2395         2895  ENST00000399070   \n",
       "...          ...      ...            ...          ...              ...   \n",
       "37433      30300    36270          31620        32120  ENST00000369604   \n",
       "37434     113500   119470         117857       118357  ENST00000257868   \n",
       "37435     198900   204870         204082       204582  ENST00000566029   \n",
       "37436     135800   141770         140074       140574  ENST00000376954   \n",
       "37437      79000    84970          84454        84954  ENST00000674063   \n",
       "\n",
       "      start_emb2  end_emb2  start_window_y  end_window_y  \n",
       "9409        2300      8270            4417          4917  \n",
       "9410         600      6570            2478          2978  \n",
       "9411           0      3144            1152          1652  \n",
       "9412           0      5970            3450          3950  \n",
       "9413           0      5124            2917          3417  \n",
       "...          ...       ...             ...           ...  \n",
       "37433          0      3657            1853          2353  \n",
       "37434          0      5970             116           616  \n",
       "37435        400      6370             473           973  \n",
       "37436          0      5970            2697          3197  \n",
       "37437          0      5970            3436          3936  \n",
       "\n",
       "[28029 rows x 26 columns]"
      ]
     },
     "execution_count": 186,
     "metadata": {},
     "output_type": "execute_result"
    }
   ],
   "source": [
    "df[df.category.isin(['hardneg_singlepatch', 'hardneg'])]"
   ]
  },
  {
   "cell_type": "code",
   "execution_count": 330,
   "id": "c08b9e8c-7021-415b-94f0-bb5f1199166b",
   "metadata": {},
   "outputs": [],
   "source": [
    "hn = df[df.category.isin(['hardneg_singlepatch', 'hardneg'])] #df[df.category.isin(['hardneg_singlepatch', 'hardneg', 'positive'])]\n",
    "set_pos = set(hn.transcript1 + '_' + hn.transcript2)\n",
    "\n",
    "set_pos_ricseq = set(ricseq_exp.tr1 + '_' + ricseq_exp.tr2)"
   ]
  },
  {
   "cell_type": "code",
   "execution_count": 214,
   "id": "be7fe47e-794e-4f0e-a00d-0229cd0eef5b",
   "metadata": {},
   "outputs": [
    {
     "data": {
      "text/plain": [
       "9021"
      ]
     },
     "execution_count": 214,
     "metadata": {},
     "output_type": "execute_result"
    }
   ],
   "source": [
    "len(set_pos)"
   ]
  },
  {
   "cell_type": "code",
   "execution_count": 215,
   "id": "c13c8ad4-ed3d-411f-817a-9c51d413d53a",
   "metadata": {},
   "outputs": [
    {
     "data": {
      "text/plain": [
       "116280"
      ]
     },
     "execution_count": 215,
     "metadata": {},
     "output_type": "execute_result"
    }
   ],
   "source": [
    "len(set_pos_ricseq)"
   ]
  },
  {
   "cell_type": "code",
   "execution_count": 216,
   "id": "bcc9e888-ed76-4b43-9b80-f9a16c9eef3d",
   "metadata": {},
   "outputs": [
    {
     "data": {
      "text/plain": [
       "9021"
      ]
     },
     "execution_count": 216,
     "metadata": {},
     "output_type": "execute_result"
    }
   ],
   "source": [
    "len(set_pos.intersection(set_pos_ricseq))"
   ]
  },
  {
   "cell_type": "code",
   "execution_count": 217,
   "id": "0ee4149d-222c-4d08-929a-acdb3af67397",
   "metadata": {
    "tags": []
   },
   "outputs": [
    {
     "name": "stdout",
     "output_type": "stream",
     "text": [
      "0\n"
     ]
    }
   ],
   "source": [
    "to_drop = set_pos - set_pos.intersection(set_pos_ricseq)\n",
    "print(len(to_drop))"
   ]
  },
  {
   "cell_type": "code",
   "execution_count": 228,
   "id": "c9fba031-f5d9-436a-ba1c-e1ccb3338ec5",
   "metadata": {},
   "outputs": [
    {
     "data": {
      "application/vnd.jupyter.widget-view+json": {
       "model_id": "92427604de6e42e38337fda92320f33f",
       "version_major": 2,
       "version_minor": 0
      },
      "text/plain": [
       "  0%|          | 0/28029 [00:00<?, ?it/s]"
      ]
     },
     "metadata": {},
     "output_type": "display_data"
    }
   ],
   "source": [
    "diz = {}\n",
    "for idx, row in tqdm(hn.iterrows(), total = hn.shape[0]):\n",
    "    tr1, tr2 = row.transcript1, row.transcript2\n",
    "    x1,x2,y1,y2 = row.start_emb1, row.end_emb1, row.start_emb2, row.end_emb2\n",
    "\n",
    "    all_interactions = ricseq_exp[(ricseq_exp['tr1'] == tr1)&(ricseq_exp['tr2'] == tr2)]\n",
    "    assert all_interactions.shape[0] > 0\n",
    "\n",
    "    distances_x = []\n",
    "    distances_y = []\n",
    "    for _, df_row in all_interactions.iterrows():\n",
    "        distances_x.append(\n",
    "            min_distance([x1,x2], [df_row.x1,df_row.x2])\n",
    "        )\n",
    "        distances_y.append(\n",
    "            min_distance([y1,y2], [df_row.y1,df_row.y2])\n",
    "        )\n",
    "\n",
    "    distance_x = min(distances_x)\n",
    "    distance_y = min(distances_y)\n",
    "    \n",
    "    diz[idx] = {'distance_x':distance_x, 'distance_y':distance_y}"
   ]
  },
  {
   "cell_type": "code",
   "execution_count": 229,
   "id": "64ae9b62-f527-4ab3-a933-5e3367a2646c",
   "metadata": {},
   "outputs": [],
   "source": [
    "distances = pd.DataFrame.from_dict(diz, orient = 'index')"
   ]
  },
  {
   "cell_type": "code",
   "execution_count": 331,
   "id": "9ad15355-0aee-41f7-9e5d-575d62126263",
   "metadata": {},
   "outputs": [],
   "source": [
    "final_hn = pd.concat([hn, distances], axis = 1)"
   ]
  },
  {
   "cell_type": "code",
   "execution_count": 333,
   "id": "8d56dabb-3041-44b8-a587-4bea04b22996",
   "metadata": {},
   "outputs": [],
   "source": [
    "subset = final_hn[(final_hn.distance_x>0) & (final_hn.distance_y>0)]\n",
    "subset = subset[subset.score_1 > 1]"
   ]
  },
  {
   "cell_type": "code",
   "execution_count": 334,
   "id": "2c8f195b-5c77-40a0-9c17-db28f6da6929",
   "metadata": {},
   "outputs": [
    {
     "name": "stdout",
     "output_type": "stream",
     "text": [
      "0.6190476190476191\n"
     ]
    }
   ],
   "source": [
    "vc = (subset.probability<0.5).value_counts()\n",
    "tnr = (vc.loc[True])/ subset.shape[0]\n",
    "print(tnr)"
   ]
  },
  {
   "cell_type": "code",
   "execution_count": 335,
   "id": "b686c686-26f1-4edc-b93d-d07e2b7e26c0",
   "metadata": {},
   "outputs": [],
   "source": [
    "row = subset.iloc[1]"
   ]
  },
  {
   "cell_type": "code",
   "execution_count": 307,
   "id": "2815c375-d7ff-4696-a952-adf0410cb799",
   "metadata": {},
   "outputs": [],
   "source": [
    "all_interactions = ricseq_exp[(ricseq_exp['tr1'] == row.transcript1)&(ricseq_exp['tr2'] == row.transcript2)]"
   ]
  },
  {
   "cell_type": "code",
   "execution_count": 308,
   "id": "77cad8a5-1da8-4e4e-857a-7732949c968d",
   "metadata": {},
   "outputs": [
    {
     "data": {
      "text/html": [
       "<div>\n",
       "<style scoped>\n",
       "    .dataframe tbody tr th:only-of-type {\n",
       "        vertical-align: middle;\n",
       "    }\n",
       "\n",
       "    .dataframe tbody tr th {\n",
       "        vertical-align: top;\n",
       "    }\n",
       "\n",
       "    .dataframe thead th {\n",
       "        text-align: right;\n",
       "    }\n",
       "</style>\n",
       "<table border=\"1\" class=\"dataframe\">\n",
       "  <thead>\n",
       "    <tr style=\"text-align: right;\">\n",
       "      <th></th>\n",
       "      <th>tr1</th>\n",
       "      <th>x1</th>\n",
       "      <th>x2</th>\n",
       "      <th>tr2</th>\n",
       "      <th>y1</th>\n",
       "      <th>y2</th>\n",
       "      <th>name</th>\n",
       "      <th>n_reads</th>\n",
       "      <th>other_id</th>\n",
       "      <th>experiment</th>\n",
       "    </tr>\n",
       "  </thead>\n",
       "  <tbody>\n",
       "    <tr>\n",
       "      <th>41857</th>\n",
       "      <td>ENST00000272793</td>\n",
       "      <td>7153</td>\n",
       "      <td>7223</td>\n",
       "      <td>ENST00000366630</td>\n",
       "      <td>6325</td>\n",
       "      <td>6351</td>\n",
       "      <td>interaction42000_RIC-seq__HeLa_merge.InterGene...</td>\n",
       "      <td>2</td>\n",
       "      <td>ST-E00205:676:HTJL3CCXY:4:2206:23673:39897,ST-...</td>\n",
       "      <td>hs_RIC-seq__HeLa_merge.InterGene.arms</td>\n",
       "    </tr>\n",
       "  </tbody>\n",
       "</table>\n",
       "</div>"
      ],
      "text/plain": [
       "                   tr1    x1    x2              tr2    y1    y2  \\\n",
       "41857  ENST00000272793  7153  7223  ENST00000366630  6325  6351   \n",
       "\n",
       "                                                    name n_reads  \\\n",
       "41857  interaction42000_RIC-seq__HeLa_merge.InterGene...       2   \n",
       "\n",
       "                                                other_id  \\\n",
       "41857  ST-E00205:676:HTJL3CCXY:4:2206:23673:39897,ST-...   \n",
       "\n",
       "                                  experiment  \n",
       "41857  hs_RIC-seq__HeLa_merge.InterGene.arms  "
      ]
     },
     "execution_count": 308,
     "metadata": {},
     "output_type": "execute_result"
    }
   ],
   "source": [
    "all_interactions"
   ]
  },
  {
   "cell_type": "code",
   "execution_count": 309,
   "id": "6e7585e3-e52c-47d7-a29c-3b62fd7e4040",
   "metadata": {},
   "outputs": [
    {
     "data": {
      "text/plain": [
       "('ENST00000272793', 'ENST00000366630', 0, 5970, 1183, 0, 5970, 355)"
      ]
     },
     "execution_count": 309,
     "metadata": {},
     "output_type": "execute_result"
    }
   ],
   "source": [
    "row.transcript1, row.transcript2, row.start_emb1, row.end_emb1, row.distance_x, row.start_emb2, row.end_emb2, row.distance_y"
   ]
  },
  {
   "cell_type": "code",
   "execution_count": null,
   "id": "8de1e959-bffe-463f-936b-2003314fc789",
   "metadata": {},
   "outputs": [],
   "source": []
  },
  {
   "cell_type": "code",
   "execution_count": null,
   "id": "d2ef2212-f16c-4c14-8a3c-79506140f508",
   "metadata": {},
   "outputs": [],
   "source": []
  },
  {
   "cell_type": "code",
   "execution_count": null,
   "id": "e973a7e2-21c7-4429-9d1a-33089a62fafc",
   "metadata": {},
   "outputs": [],
   "source": []
  },
  {
   "cell_type": "code",
   "execution_count": null,
   "id": "75e16031-9e5b-4073-befc-7756599a3d67",
   "metadata": {},
   "outputs": [],
   "source": []
  },
  {
   "cell_type": "code",
   "execution_count": null,
   "id": "54c42f50-ad9d-430f-9b50-520c46a1dadb",
   "metadata": {},
   "outputs": [],
   "source": []
  },
  {
   "cell_type": "code",
   "execution_count": null,
   "id": "5ac0c912-fa52-4a96-bef3-0b4e971ac036",
   "metadata": {},
   "outputs": [],
   "source": []
  },
  {
   "cell_type": "code",
   "execution_count": null,
   "id": "9186f823-6f76-4041-88ff-f344b8373f69",
   "metadata": {},
   "outputs": [],
   "source": []
  },
  {
   "cell_type": "code",
   "execution_count": null,
   "id": "aa51e53b-9319-44d2-8a38-5721377c02b3",
   "metadata": {},
   "outputs": [],
   "source": []
  },
  {
   "cell_type": "code",
   "execution_count": null,
   "id": "2f31a1c7-ea58-497a-9dcd-6158aa6a86c2",
   "metadata": {},
   "outputs": [],
   "source": []
  },
  {
   "cell_type": "code",
   "execution_count": 310,
   "id": "88976b15-61aa-47c0-81ae-9dddd30b918a",
   "metadata": {},
   "outputs": [],
   "source": [
    "subset_adri = df.loc[(df[\"classify_emb\"].str.count(\"__positive\")==0)&(df[\"category\"].isin(['hardneg_singlepatch', 'hardneg']))]\n",
    "subset_adri = subset_adri.merge(final_hn[['id_pair', 'distance_x', 'distance_y']], on = 'id_pair')"
   ]
  },
  {
   "cell_type": "code",
   "execution_count": 311,
   "id": "7a33fc53-f54b-492c-94fb-6b1d06088127",
   "metadata": {},
   "outputs": [],
   "source": [
    "wrong_adri = subset_adri[(subset_adri.distance_x == 0) & (subset_adri.distance_y == 0)]\n",
    "row = wrong_adri.iloc[0]"
   ]
  },
  {
   "cell_type": "code",
   "execution_count": 312,
   "id": "783c8367-deca-4e78-9139-1e8c75c2faa2",
   "metadata": {},
   "outputs": [
    {
     "data": {
      "text/plain": [
       "('ENST00000011898', 'ENST00000313578', 0, 4322, 0, 0, 1835, 0)"
      ]
     },
     "execution_count": 312,
     "metadata": {},
     "output_type": "execute_result"
    }
   ],
   "source": [
    "row.transcript1, row.transcript2, row.start_emb1, row.end_emb1, row.distance_x, row.start_emb2, row.end_emb2, row.distance_y"
   ]
  },
  {
   "cell_type": "code",
   "execution_count": 313,
   "id": "07ea69bd-2158-432a-94b7-aaa5262b40b9",
   "metadata": {},
   "outputs": [],
   "source": [
    "all_interactions = ricseq_exp[(ricseq_exp['tr1'] == row.transcript1)&(ricseq_exp['tr2'] == row.transcript2)]"
   ]
  },
  {
   "cell_type": "code",
   "execution_count": 314,
   "id": "d2d7fc0b-6c20-4008-89a3-9de76475094e",
   "metadata": {},
   "outputs": [
    {
     "data": {
      "text/html": [
       "<div>\n",
       "<style scoped>\n",
       "    .dataframe tbody tr th:only-of-type {\n",
       "        vertical-align: middle;\n",
       "    }\n",
       "\n",
       "    .dataframe tbody tr th {\n",
       "        vertical-align: top;\n",
       "    }\n",
       "\n",
       "    .dataframe thead th {\n",
       "        text-align: right;\n",
       "    }\n",
       "</style>\n",
       "<table border=\"1\" class=\"dataframe\">\n",
       "  <thead>\n",
       "    <tr style=\"text-align: right;\">\n",
       "      <th></th>\n",
       "      <th>tr1</th>\n",
       "      <th>x1</th>\n",
       "      <th>x2</th>\n",
       "      <th>tr2</th>\n",
       "      <th>y1</th>\n",
       "      <th>y2</th>\n",
       "      <th>name</th>\n",
       "      <th>n_reads</th>\n",
       "      <th>other_id</th>\n",
       "      <th>experiment</th>\n",
       "    </tr>\n",
       "  </thead>\n",
       "  <tbody>\n",
       "    <tr>\n",
       "      <th>49969</th>\n",
       "      <td>ENST00000011898</td>\n",
       "      <td>2592</td>\n",
       "      <td>2678</td>\n",
       "      <td>ENST00000313578</td>\n",
       "      <td>1255</td>\n",
       "      <td>1317</td>\n",
       "      <td>interaction50148_RIC-seq__HeLa_merge.InterGene...</td>\n",
       "      <td>1</td>\n",
       "      <td>ST-E00205:676:HTJL3CCXY:4:2213:7557:28716</td>\n",
       "      <td>hs_RIC-seq__HeLa_merge.InterGene.arms</td>\n",
       "    </tr>\n",
       "  </tbody>\n",
       "</table>\n",
       "</div>"
      ],
      "text/plain": [
       "                   tr1    x1    x2              tr2    y1    y2  \\\n",
       "49969  ENST00000011898  2592  2678  ENST00000313578  1255  1317   \n",
       "\n",
       "                                                    name n_reads  \\\n",
       "49969  interaction50148_RIC-seq__HeLa_merge.InterGene...       1   \n",
       "\n",
       "                                        other_id  \\\n",
       "49969  ST-E00205:676:HTJL3CCXY:4:2213:7557:28716   \n",
       "\n",
       "                                  experiment  \n",
       "49969  hs_RIC-seq__HeLa_merge.InterGene.arms  "
      ]
     },
     "execution_count": 314,
     "metadata": {},
     "output_type": "execute_result"
    }
   ],
   "source": [
    "all_interactions"
   ]
  },
  {
   "cell_type": "code",
   "execution_count": null,
   "id": "e6e22e66-1dd1-4d85-9be6-7f5f49ede789",
   "metadata": {},
   "outputs": [],
   "source": []
  },
  {
   "cell_type": "code",
   "execution_count": null,
   "id": "9be89c93-b0c6-4275-becf-116e91bbebba",
   "metadata": {},
   "outputs": [],
   "source": []
  },
  {
   "cell_type": "code",
   "execution_count": null,
   "id": "1b319704-43c7-4288-a59d-4bf71dff34bd",
   "metadata": {},
   "outputs": [],
   "source": []
  },
  {
   "cell_type": "code",
   "execution_count": 15,
   "id": "ca698716-3f7c-4504-8909-bb60d54e9cab",
   "metadata": {},
   "outputs": [
    {
     "name": "stdout",
     "output_type": "stream",
     "text": [
      "0.7129859387923904\n"
     ]
    }
   ],
   "source": [
    "subset = df.loc[(df[\"classify_emb\"].str.count(\"__positive\")==0)&(df[\"category\"]==\"hardneg\")]\n",
    "vc = (subset.probability<0.5).value_counts()\n",
    "tnr = (vc.loc[True])/ subset.shape[0]\n",
    "print(tnr)"
   ]
  },
  {
   "cell_type": "code",
   "execution_count": null,
   "id": "ff186d29-27b8-4b82-af3f-8e7f602399dd",
   "metadata": {},
   "outputs": [],
   "source": []
  },
  {
   "cell_type": "code",
   "execution_count": null,
   "id": "53bf489c-53d1-4bdd-befa-232e648096ec",
   "metadata": {},
   "outputs": [],
   "source": []
  },
  {
   "cell_type": "code",
   "execution_count": null,
   "id": "543716a8-a64c-46ce-a76d-766d260ff9cd",
   "metadata": {},
   "outputs": [],
   "source": []
  },
  {
   "cell_type": "code",
   "execution_count": null,
   "id": "661f780e-b4d3-4fa8-a25c-496e4ac80fa9",
   "metadata": {},
   "outputs": [],
   "source": []
  },
  {
   "cell_type": "code",
   "execution_count": null,
   "id": "b188bf3c-c74d-454e-b024-dfda03e64dff",
   "metadata": {},
   "outputs": [],
   "source": []
  },
  {
   "cell_type": "code",
   "execution_count": null,
   "id": "d498f0b4-610a-4fc0-843b-3017a3a4b946",
   "metadata": {},
   "outputs": [],
   "source": []
  },
  {
   "cell_type": "code",
   "execution_count": null,
   "id": "bafed4ab-d8cb-484e-8818-8367af9b3a2f",
   "metadata": {},
   "outputs": [],
   "source": []
  },
  {
   "cell_type": "code",
   "execution_count": null,
   "id": "65121e5e-b5e4-4426-9322-521e017b0a81",
   "metadata": {},
   "outputs": [],
   "source": []
  },
  {
   "cell_type": "code",
   "execution_count": null,
   "id": "fab22509-d94e-4a31-994e-b608fe56300c",
   "metadata": {},
   "outputs": [],
   "source": []
  },
  {
   "cell_type": "code",
   "execution_count": null,
   "id": "dcae3f55-6382-46b2-bd91-affa9b007af2",
   "metadata": {},
   "outputs": [],
   "source": []
  },
  {
   "cell_type": "code",
   "execution_count": null,
   "id": "208e5457-ab12-41de-a7f3-1c79b55eff58",
   "metadata": {},
   "outputs": [],
   "source": []
  },
  {
   "cell_type": "code",
   "execution_count": null,
   "id": "bd9e423d-e3f4-4ea0-960f-35b844512860",
   "metadata": {},
   "outputs": [],
   "source": []
  },
  {
   "cell_type": "code",
   "execution_count": null,
   "id": "ddb5c91a-667d-4476-bc23-d3f9b070254f",
   "metadata": {},
   "outputs": [],
   "source": []
  },
  {
   "cell_type": "code",
   "execution_count": null,
   "id": "b0e14a4d-e985-4f14-98fb-2720579c86f0",
   "metadata": {},
   "outputs": [],
   "source": []
  },
  {
   "cell_type": "code",
   "execution_count": null,
   "id": "51a579ea-4a5b-43d1-9c8a-fcb550938698",
   "metadata": {},
   "outputs": [],
   "source": []
  },
  {
   "cell_type": "code",
   "execution_count": null,
   "id": "f35e0a76-0e54-4956-a077-d508d50d8fff",
   "metadata": {},
   "outputs": [],
   "source": []
  },
  {
   "cell_type": "code",
   "execution_count": null,
   "id": "4fb89c2b-2d0e-4fe1-b6b7-f75d576cf88d",
   "metadata": {},
   "outputs": [],
   "source": []
  },
  {
   "cell_type": "code",
   "execution_count": null,
   "id": "753c8c5c-dd5e-43e9-b9b6-122afee6e77e",
   "metadata": {},
   "outputs": [],
   "source": []
  },
  {
   "cell_type": "code",
   "execution_count": null,
   "id": "3d4a88b4-ad5b-4976-92e8-19e760d487e4",
   "metadata": {},
   "outputs": [],
   "source": []
  },
  {
   "cell_type": "code",
   "execution_count": 5,
   "id": "6294b475-4e7a-46cb-b151-000bed7cab55",
   "metadata": {},
   "outputs": [],
   "source": [
    "check_data_path = '/data01/giorgio/RNARNA-NT/dataset/external_dataset/check_predictions50'\n",
    "original_data_path = os.path.join(check_data_path, 'original_data')\n",
    "embedding_dir = os.path.join(check_data_path, 'embeddings')"
   ]
  },
  {
   "cell_type": "code",
   "execution_count": 6,
   "id": "ef7bb542-a02c-41fa-a95e-accf767282ea",
   "metadata": {},
   "outputs": [],
   "source": [
    "# Function to parse the content\n",
    "def parse_fa_content(content):\n",
    "    entries = content.strip().split('>')\n",
    "    data = []\n",
    "    for entry in entries:\n",
    "        if entry:\n",
    "            lines = entry.split('\\n')\n",
    "            id_query = lines[0]\n",
    "            cdna = ''.join(lines[1:])\n",
    "            data.append([id_query, cdna])\n",
    "    return pd.DataFrame(data, columns=['id_query', 'cdna'])\n",
    "\n",
    "\n",
    "with open(os.path.join(original_data_path, 'embeddings.filtered.fa'), 'r') as file:\n",
    "    file_content = file.read()\n",
    "\n",
    "# Parse the content and create the DataFrame\n",
    "df_query = parse_fa_content(file_content)"
   ]
  },
  {
   "cell_type": "code",
   "execution_count": 7,
   "id": "1fbb572f-3012-47cd-ac39-07d92a47b342",
   "metadata": {},
   "outputs": [],
   "source": [
    "# devo droppare tutti quelli che non iniziano per ens\n",
    "df_query['ens_gene'] = df_query['id_query'].str.startswith('ENS')\n",
    "df_query = df_query[df_query.ens_gene].reset_index(drop = True)\n",
    "df_query = df_query.drop('ens_gene', axis = 1)"
   ]
  },
  {
   "cell_type": "code",
   "execution_count": 6,
   "id": "5baa8de3-d4c3-42c8-80d6-7c4cb6d513bf",
   "metadata": {},
   "outputs": [],
   "source": [
    "#droppo quelli che gia ci sono\n",
    "all_files = os.listdir(os.path.join(embedding_dir, '32'))\n",
    "all_files = list(pd.Series(all_files).str.extractall('(.*)\\.npy').reset_index()[0])\n",
    "df_query = df_query[~df_query.id_query.isin(all_files)]"
   ]
  },
  {
   "cell_type": "code",
   "execution_count": 8,
   "id": "17247ccf-5592-4f87-bbb3-b7cf2db50a35",
   "metadata": {},
   "outputs": [
    {
     "data": {
      "text/plain": [
       "53979"
      ]
     },
     "execution_count": 8,
     "metadata": {},
     "output_type": "execute_result"
    }
   ],
   "source": [
    "df_query.shape[0]"
   ]
  },
  {
   "cell_type": "code",
   "execution_count": 9,
   "id": "eb089276-62ec-4a11-8e6e-b6176ffbf500",
   "metadata": {},
   "outputs": [],
   "source": [
    "df_query.to_csv(os.path.join(check_data_path, f'embedding_query.csv'), index = False)"
   ]
  },
  {
   "cell_type": "code",
   "execution_count": 68,
   "id": "5a2375d9-3046-424c-94c0-b832de4e663f",
   "metadata": {},
   "outputs": [
    {
     "name": "stdout",
     "output_type": "stream",
     "text": [
      "estimated # hours: 6.94\n",
      "estimated # days: 0.29\n",
      "estimated terabytes (pessimistic): 0.3\n",
      "estimated terabytes (realistic): 0.2\n"
     ]
    }
   ],
   "source": [
    "def estimate_time_and_space(n_samples):\n",
    "    #TIME\n",
    "    minutes = 3219*n_samples/(228278)\n",
    "    hours = minutes/60\n",
    "    days = hours/24\n",
    "    print('estimated # hours:', np.round(hours, 2))\n",
    "    print('estimated # days:', np.round(days, 2))\n",
    "\n",
    "    mb = 10.2*n_samples\n",
    "    gb = mb/1000\n",
    "    tb = gb/1000\n",
    "    print('estimated terabytes (pessimistic):', np.round(tb, 2))\n",
    "    mb = 1995*n_samples/(300)\n",
    "    gb = mb/1000\n",
    "    tb = gb/1000\n",
    "    print('estimated terabytes (realistic):', np.round(tb, 2))\n",
    "estimate_time_and_space(df_query.shape[0])"
   ]
  },
  {
   "cell_type": "code",
   "execution_count": 15,
   "id": "33dd1d22-82a8-43d3-b198-7689f2a25be7",
   "metadata": {},
   "outputs": [],
   "source": [
    "df_query['len_cdna'] = df_query.apply(lambda x: len(x.cdna), axis = 1)"
   ]
  },
  {
   "cell_type": "code",
   "execution_count": 16,
   "id": "4352fbe1-3f9c-437b-9057-ebb3517ac531",
   "metadata": {},
   "outputs": [
    {
     "data": {
      "text/plain": [
       "<AxesSubplot:>"
      ]
     },
     "execution_count": 16,
     "metadata": {},
     "output_type": "execute_result"
    },
    {
     "data": {
      "image/png": "[encoded data removed]",
      "text/plain": [
       "<Figure size 432x288 with 1 Axes>"
      ]
     },
     "metadata": {
      "needs_background": "light"
     },
     "output_type": "display_data"
    }
   ],
   "source": [
    "df_query['len_cdna'].hist()"
   ]
  },
  {
   "cell_type": "code",
   "execution_count": 17,
   "id": "41db6498-de67-4b6b-ad82-e98f32b9d889",
   "metadata": {},
   "outputs": [
    {
     "data": {
      "text/plain": [
       "5970"
      ]
     },
     "execution_count": 17,
     "metadata": {},
     "output_type": "execute_result"
    }
   ],
   "source": [
    "df_query['len_cdna'].max()"
   ]
  },
  {
   "cell_type": "markdown",
   "id": "3ac2d0b5-2822-4ac0-a233-583cd95b92fd",
   "metadata": {},
   "source": [
    "### prendo un subset di Paris"
   ]
  },
  {
   "cell_type": "code",
   "execution_count": 24,
   "id": "77c78435-b7cf-4152-91fd-22a18c1f8c29",
   "metadata": {},
   "outputs": [],
   "source": [
    "def load_sample_from_chunk(file_swap_neg, chunksize = 1_000_000, n_count_max = 5, n_samples = 500_000):\n",
    "    \n",
    "    count=0\n",
    "    \n",
    "    for chunk in pd.read_csv(file_swap_neg,chunksize=chunksize,sep=\"\\t\"):    \n",
    "        if count == 0:\n",
    "            subset_filtered=chunk.copy(deep=True)\n",
    "        else:\n",
    "            subset_filtered=subset_filtered.append(chunk)\n",
    "\n",
    "        count+=1\n",
    "\n",
    "        if count == n_count_max:\n",
    "            break\n",
    "        \n",
    "        \n",
    "    subset_filtered = subset_filtered.sample(n_samples).reset_index(drop = True)\n",
    "    \n",
    "    return subset_filtered\n",
    "\n",
    "def read_and_concatenate_bed_files_paris(directory, list_of_files_to_load, list_of_names, n_samples):\n",
    "    # List to store individual dataframes\n",
    "    dataframes = []\n",
    "    \n",
    "    # Iterate over all files in the directory\n",
    "    for _, filename in enumerate(list_of_files_to_load):\n",
    "        \n",
    "        \n",
    "        file_path = os.path.join(directory, filename)\n",
    "        \n",
    "        # Read the .bed file into a dataframe\n",
    "        if 'NegativeBySwap' in filename:\n",
    "            df = load_sample_from_chunk(file_path, n_samples = n_samples)\n",
    "        else:\n",
    "            df = pd.read_csv(file_path, sep='\\t')\n",
    "\n",
    "        # Check and rename columns if necessary\n",
    "        if 'chrom_1' in df.columns and 'chrom_2' in df.columns:\n",
    "            df = df.rename(columns={'chrom_1': 'emb_name_1', 'chrom_2': 'emb_name_2'})\n",
    "            \n",
    "            \n",
    "        df['id_pair'] = list_of_names[_]\n",
    "        df['id_pair'] = df['id_pair'] + '+' + df['emb_name_1'] + '+' + df['emb_name_2'] + '+' + df['start_1'].astype(str) + '+' + df['end_1'].astype(str) + '+' + df['start_2'].astype(str) + '+' + df['end_2'].astype(str)\n",
    "        \n",
    "        \n",
    "        df = df.rename(columns={\n",
    "            'emb_name_1': 'embedding1name', \n",
    "            'emb_name_2': 'embedding2name',\n",
    "            'start_1': 'start_window1',\n",
    "            'end_1': 'end_window1',\n",
    "            'start_2': 'start_window2',\n",
    "            'end_2': 'end_window2',\n",
    "        })\n",
    "        \n",
    "        dataframes.append(df)\n",
    "    \n",
    "    # Concatenate all dataframes into one\n",
    "    concatenated_df = pd.concat(dataframes, ignore_index=True)\n",
    "    \n",
    "    concatenated_df = concatenated_df.drop('Unnamed: 0', axis = 1) \n",
    "    \n",
    "    concatenated_df = concatenated_df.drop_duplicates()\n",
    "\n",
    "    # devo droppare tutti quelli che non iniziano per ens\n",
    "    concatenated_df['ens_gene'] = concatenated_df['embedding1name'].str.startswith('ENS')\n",
    "    concatenated_df = concatenated_df[concatenated_df.ens_gene].reset_index(drop = True)\n",
    "    concatenated_df = concatenated_df.drop('ens_gene', axis = 1)\n",
    "\n",
    "    concatenated_df['ens_gene'] = concatenated_df['embedding2name'].str.startswith('ENS')\n",
    "    concatenated_df = concatenated_df[concatenated_df.ens_gene].reset_index(drop = True)\n",
    "    concatenated_df = concatenated_df.drop('ens_gene', axis = 1)\n",
    "    \n",
    "    return concatenated_df"
   ]
  },
  {
   "cell_type": "code",
   "execution_count": 25,
   "id": "92f25628-241d-4e59-adbc-2d3dece61f4f",
   "metadata": {},
   "outputs": [],
   "source": [
    "list_of_files_to_load = [\n",
    "    'Giorgio.positivi_e_hardneg.no_train_eval.PARIS1__Hela_lowRNase.bed',\n",
    "    'Giorgio.positivi_e_hardneg.no_train_eval.PARIS2__GSM4503872_HEK293_mRNA.bed', \n",
    "    'Giorgio.positivi_e_hardneg.no_train_eval.PARIS1__Hela_highRNase.bed',\n",
    "    'Giorgio.positivi_e_hardneg.no_train_eval.PARIS1__HEK293T.bed',\n",
    "    'Giorgio.positivi_e_hardneg.no_train_eval.PARIS2__GSM4503873_Mouse_brain_mRNA.bed',\n",
    "    'Giorgio.positivi_e_hardneg.no_train_eval.PARIS2__HEK293_AMT.bed',\n",
    "    'Giorgio.positivi_e_hardneg.no_train_eval.PARIS1__mES.bed',\n",
    "    'Giorgio.positivi_e_hardneg.no_train_eval.PARIS2__HEK293_Amoto.bed',\n",
    "    \n",
    "    'Giorgio.NegativeBySwap.mm_PARIS1__mES.embedding.bed',\n",
    "    'Giorgio.NegativeBySwap.hs_PARIS1__Hela_highRNase.embedding.bed',\n",
    "    'Giorgio.NegativeBySwap.hs_PARIS2__GSM4503872_HEK293_mRNA.embedding.bed',\n",
    "    'Giorgio.NegativeBySwap.hs_PARIS2__HEK293_AMT.embedding.bed',\n",
    "    'Giorgio.NegativeBySwap.hs_PARIS1__Hela_lowRNase.embedding.bed',\n",
    "    'Giorgio.NegativeBySwap.hs_PARIS1__HEK293T.embedding.bed',\n",
    "]\n",
    "list_of_names = ['paris' for i in range(len(list_of_files_to_load))]"
   ]
  },
  {
   "cell_type": "code",
   "execution_count": 32,
   "id": "f02db8fa-744d-45cb-8f19-ba296ffa6293",
   "metadata": {},
   "outputs": [],
   "source": [
    "n_samples_for_each_file = 1_000_000\n",
    "\n",
    "df = read_and_concatenate_bed_files_paris(original_data_path, list_of_files_to_load, list_of_names, n_samples_for_each_file)\n",
    "\n",
    "assert df[df.id_pair.duplicated()].shape[0] == 0"
   ]
  },
  {
   "cell_type": "code",
   "execution_count": 33,
   "id": "c9d86379-4375-4393-82ea-977b187c8179",
   "metadata": {},
   "outputs": [
    {
     "data": {
      "text/plain": [
       "16.6742275"
      ]
     },
     "execution_count": 33,
     "metadata": {},
     "output_type": "execute_result"
    }
   ],
   "source": [
    "(3.5 * df.shape[0]) / 400_000"
   ]
  },
  {
   "cell_type": "code",
   "execution_count": 34,
   "id": "c0e9d2c1-60e0-4559-87ec-4fdd33878bf4",
   "metadata": {},
   "outputs": [],
   "source": [
    "df.to_csv(os.path.join(check_data_path, 'pairs.csv'), index = False)"
   ]
  },
  {
   "cell_type": "markdown",
   "id": "3f128205-7a65-4f66-b737-bc7a7181e60f",
   "metadata": {},
   "source": [
    "### prendo un subset di Ricseq"
   ]
  },
  {
   "cell_type": "code",
   "execution_count": 30,
   "id": "aad6aea7-bd91-48f9-914f-e823f53776f4",
   "metadata": {},
   "outputs": [],
   "source": [
    "def read_and_concatenate_bed_files(directory, list_of_files_to_load, list_of_names):\n",
    "    # List to store individual dataframes\n",
    "    dataframes = []\n",
    "    \n",
    "    # Iterate over all files in the directory\n",
    "    for _, filename in enumerate(list_of_files_to_load):\n",
    "        file_path = os.path.join(directory, filename)\n",
    "        # Read the .bed file into a dataframe\n",
    "        df = pd.read_csv(file_path, sep='\\t')\n",
    "\n",
    "        # Check and rename columns if necessary\n",
    "        if 'chrom_1' in df.columns and 'chrom_2' in df.columns:\n",
    "            df = df.rename(columns={'chrom_1': 'emb_name_1', 'chrom_2': 'emb_name_2'})\n",
    "            \n",
    "            \n",
    "        df['id_pair'] = list_of_names[_]\n",
    "        df['id_pair'] = df['id_pair'] + '+' + df['emb_name_1'] + '+' + df['emb_name_2'] + '+' + df['start_1'].astype(str) + '+' + df['end_1'].astype(str) + '+' + df['start_2'].astype(str) + '+' + df['end_2'].astype(str)\n",
    "        \n",
    "        \n",
    "        df = df.rename(columns={\n",
    "            'emb_name_1': 'embedding1name', \n",
    "            'emb_name_2': 'embedding2name',\n",
    "            'start_1': 'start_window1',\n",
    "            'end_1': 'end_window1',\n",
    "            'start_2': 'start_window2',\n",
    "            'end_2': 'end_window2',\n",
    "        })\n",
    "        \n",
    "        dataframes.append(df)\n",
    "    \n",
    "    # Concatenate all dataframes into one\n",
    "    concatenated_df = pd.concat(dataframes, ignore_index=True)\n",
    "    \n",
    "    concatenated_df = concatenated_df.drop('Unnamed: 0', axis = 1) \n",
    "    \n",
    "    concatenated_df = concatenated_df.drop_duplicates()\n",
    "\n",
    "    # devo droppare tutti quelli che non iniziano per ens\n",
    "    concatenated_df['ens_gene'] = concatenated_df['embedding1name'].str.startswith('ENS')\n",
    "    concatenated_df = concatenated_df[concatenated_df.ens_gene].reset_index(drop = True)\n",
    "    concatenated_df = concatenated_df.drop('ens_gene', axis = 1)\n",
    "\n",
    "    concatenated_df['ens_gene'] = concatenated_df['embedding2name'].str.startswith('ENS')\n",
    "    concatenated_df = concatenated_df[concatenated_df.ens_gene].reset_index(drop = True)\n",
    "    concatenated_df = concatenated_df.drop('ens_gene', axis = 1)\n",
    "    \n",
    "    return concatenated_df\n",
    "\n",
    "\n",
    "list_of_files_to_load = os.listdir(original_data_path) # Questo è per tutti i dati\n",
    "list_of_files_to_load = ['Giorgio.positivi_e_hardneg.no_train_eval.RIC-seq__HeLa_merge.InterGene.arms.bed', 'Giorgio.NegativeBySwap.hs_RIC-seq__HeLa_merge.InterGene.arms.embedding.bed']\n",
    "list_of_names=['ricseq_pos_hn', 'ricseq_swap_neg']\n",
    "\n",
    "df = read_and_concatenate_bed_files(original_data_path, list_of_files_to_load, list_of_names)\n",
    "\n",
    "assert df[df.id_pair.duplicated()].shape[0] == 0"
   ]
  },
  {
   "cell_type": "code",
   "execution_count": 36,
   "id": "9db2cb8a-a474-44d3-ab62-76a7c8508aa9",
   "metadata": {},
   "outputs": [],
   "source": [
    "df.to_csv(os.path.join(check_data_path, 'pairs.csv'), index = False)"
   ]
  },
  {
   "cell_type": "code",
   "execution_count": 32,
   "id": "55926f46-601c-4a4d-be3b-c12b2b32409a",
   "metadata": {},
   "outputs": [],
   "source": [
    "# n_samples = 500_000\n",
    "\n",
    "# pos_hn = df[df.id_pair.str.startswith('ricseq_pos_hn')]\n",
    "\n",
    "# swap_neg = df[df.id_pair.str.startswith('ricseq_swap_neg')].sample(n_samples//2)\n",
    "\n",
    "# subset = pd.concat([\n",
    "#     pos_hn.sample(min(pos_hn.shape[0], n_samples//2)), \n",
    "#     swap_neg.sample(min(swap_neg.shape[0], n_samples//2)), \n",
    "# ], axis = 0)\n",
    "\n",
    "# subset.to_csv(os.path.join(check_data_path, 'pairs.csv'), index = False)\n",
    "\n",
    "# subset.shape[0], pos_hn.shape[0], swap_neg.shape[0]\n",
    "\n",
    "# subset.id_pair.iloc[0]"
   ]
  },
  {
   "cell_type": "code",
   "execution_count": 38,
   "id": "d31fb5f5-9584-4868-bf28-a76fa71c870f",
   "metadata": {},
   "outputs": [
    {
     "data": {
      "text/plain": [
       "'ricseq_pos_hn+ENST00000000233_1+ENST00000262960_1+28+78+2188+2238'"
      ]
     },
     "execution_count": 38,
     "metadata": {},
     "output_type": "execute_result"
    }
   ],
   "source": [
    "df.id_pair.iloc[0]"
   ]
  }
 ],
 "metadata": {
  "kernelspec": {
   "display_name": "Python 3 (ipykernel)",
   "language": "python",
   "name": "python3"
  },
  "language_info": {
   "codemirror_mode": {
    "name": "ipython",
    "version": 3
   },
   "file_extension": ".py",
   "mimetype": "text/x-python",
   "name": "python",
   "nbconvert_exporter": "python",
   "pygments_lexer": "ipython3",
   "version": "3.9.7"
  }
 },
 "nbformat": 4,
 "nbformat_minor": 5
}
