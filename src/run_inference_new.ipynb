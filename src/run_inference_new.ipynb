{
 "cells": [
  {
   "cell_type": "code",
   "execution_count": 11,
   "id": "87739880",
   "metadata": {},
   "outputs": [],
   "source": [
    "its_jupyter_notebook = True"
   ]
  },
  {
   "cell_type": "code",
   "execution_count": 12,
   "id": "e8c9f77f",
   "metadata": {},
   "outputs": [],
   "source": [
    "import pandas as pd\n",
    "import os\n",
    "import time\n",
    "import numpy as np\n",
    "import pickle\n",
    "import argparse\n",
    "from tqdm.notebook import tqdm\n",
    "import torch\n",
    "import matplotlib.pyplot as plt\n",
    "import sys\n",
    "import datetime\n",
    "from pathlib import Path\n",
    "import seaborn as sns\n",
    "import time\n",
    "from Bio import SeqIO\n",
    "from torch.utils.data import DataLoader\n",
    "import sys\n",
    "from sklearn.metrics import classification_report, roc_curve, roc_auc_score, auc\n",
    "\n",
    "sys.path.insert(0, '..')\n",
    "\n",
    "from config import *\n",
    "from models.nt_classifier import build as build_model\n",
    "if its_jupyter_notebook:\n",
    "    sys.argv = [''] #Remove this if it's not a jupyter notebook!"
   ]
  },
  {
   "cell_type": "code",
   "execution_count": 13,
   "id": "53b2376d-a19d-49e9-9669-b89ad0ceca96",
   "metadata": {},
   "outputs": [],
   "source": [
    "model_name = 'all_modelarch2_wrongSN_easypretrain11_paristfinetuningSPLASHval0039parisHQSPLASHval0054_okSN_splashPARISFINETUNINGtrainhqRICSEQval0060_NOWENHNokSN_splashPARISFINETUNINGtrainhqRICSEQval0083'"
   ]
  },
  {
   "cell_type": "code",
   "execution_count": 14,
   "id": "7f711f07-48d3-4cb4-b207-c97781eab942",
   "metadata": {},
   "outputs": [],
   "source": [
    "checkpoint_dir = os.path.join(ROOT_DIR, 'checkpoints', model_name)#'binary_cl2')\n",
    "\n",
    "# Define the path to the file containing the args namespace\n",
    "args_path = os.path.join(checkpoint_dir, 'args.pkl')\n",
    "\n",
    "# Load the args namespace from the file\n",
    "with open(args_path, 'rb') as f:\n",
    "    args_dict = pickle.load(f)\n",
    "\n",
    "# Convert the dictionary to an argparse.Namespace object\n",
    "args = argparse.Namespace(**args_dict)\n",
    "args.resume = os.path.join(checkpoint_dir, 'best_model.pth') "
   ]
  },
  {
   "cell_type": "code",
   "execution_count": 15,
   "id": "06daa0c4-1cf9-4404-901f-50eca2e76718",
   "metadata": {},
   "outputs": [],
   "source": [
    "pairs_path = os.path.join('/data01/giorgio/RNARNA-NT/dataset/external_dataset/check_predictions')\n",
    "\n",
    "df = pd.read_csv(os.path.join(pairs_path, 'pairs.csv'))\n",
    "\n",
    "embedding_dir = os.path.join(os.path.join(pairs_path, 'embeddings', '32')) #/data01/giorgio/RNARNA-NT/dataset/external_dataset/paris_windows_subset/embeddings/"
   ]
  },
  {
   "cell_type": "code",
   "execution_count": 16,
   "id": "7da81a30-c8c7-4d6f-9d0e-5284209593b1",
   "metadata": {},
   "outputs": [
    {
     "name": "stderr",
     "output_type": "stream",
     "text": [
      "/data01/giorgio/ENTER/envs/dnabert/lib/python3.9/site-packages/torch/nn/init.py:388: UserWarning: Initializing zero-element tensors is a no-op\n",
      "  warnings.warn(\"Initializing zero-element tensors is a no-op\")\n"
     ]
    },
    {
     "data": {
      "text/plain": [
       "BinaryClassifierNT2(\n",
       "  (nt_projection_module): NTProjectionModule(\n",
       "    (conv1d): Conv1d(2560, 0, kernel_size=(1,), stride=(1,))\n",
       "    (bn): BatchNorm1d(2560, eps=1e-05, momentum=0.1, affine=True, track_running_stats=True)\n",
       "  )\n",
       "  (top_classifier): MLP(\n",
       "    (input_layer): Sequential(\n",
       "      (0): LayerNorm((5120,), eps=1e-05, elementwise_affine=True)\n",
       "      (1): Linear(in_features=5120, out_features=512, bias=True)\n",
       "    )\n",
       "    (hidden_layers): ModuleList()\n",
       "    (output_layer): Linear(in_features=512, out_features=800, bias=True)\n",
       "    (activation_functions): ModuleList(\n",
       "      (0): Tanh()\n",
       "    )\n",
       "    (dropout_layers): ModuleList(\n",
       "      (0): Dropout(p=0.01, inplace=False)\n",
       "    )\n",
       "  )\n",
       "  (small_cnn): SmallCNN(\n",
       "    (conv1): Conv2d(800, 300, kernel_size=(2, 2), stride=(1, 1))\n",
       "    (conv2): Conv2d(300, 300, kernel_size=(1, 1), stride=(1, 1))\n",
       "    (relu): ReLU()\n",
       "    (maxpool2d): MaxPool2d(kernel_size=1, stride=1, padding=0, dilation=1, ceil_mode=False)\n",
       "    (tanh): Tanh()\n",
       "    (global_avg_pool): AdaptiveAvgPool2d(output_size=1)\n",
       "    (fc): Linear(in_features=300, out_features=300, bias=True)\n",
       "    (output_layer): Linear(in_features=300, out_features=2, bias=True)\n",
       "  )\n",
       ")"
      ]
     },
     "execution_count": 16,
     "metadata": {},
     "output_type": "execute_result"
    }
   ],
   "source": [
    "device = torch.device(args.device)\n",
    "model = build_model(args)\n",
    "model.to(device)\n",
    "\n",
    "checkpoint = torch.load(args.resume, map_location='cpu')\n",
    "model.load_state_dict(checkpoint['model'])\n",
    "\n",
    "model.eval()"
   ]
  },
  {
   "cell_type": "code",
   "execution_count": 17,
   "id": "5e3c1b66-bfd3-43b7-ad73-707162b9579d",
   "metadata": {},
   "outputs": [],
   "source": [
    "ids = []\n",
    "probability = []\n",
    "for _, row in df.iterrows():\n",
    "    \n",
    "    id_pair, embedding1name, embedding2name, x1, x2, y1, y2 = row['id_pair'], row['embedding1name'], row['embedding2name'], row['start_window1'], row['end_window1'], row['start_window2'], row['end_window2']\n",
    "\n",
    "    x1_emb, x2_emb, y1_emb, y2_emb = x1//6, x2//6, y1//6, y2//6\n",
    "\n",
    "    embedding1_path = os.path.join(embedding_dir, embedding1name+'.npy')\n",
    "    embedding2_path = os.path.join(embedding_dir, embedding2name+'.npy')\n",
    "\n",
    "    embedding1 = np.load(embedding1_path)[x1_emb:x2_emb, :]\n",
    "    embedding2 = np.load(embedding2_path)[y1_emb:y2_emb, :]\n",
    "    \n",
    "    rna1, rna2 =  torch.as_tensor(embedding1).unsqueeze(0), torch.as_tensor(embedding2).unsqueeze(0)\n",
    "    rna1, rna2 = torch.transpose(rna1, 1, 2), torch.transpose(rna2, 1, 2)\n",
    "    rna1, rna2 = rna1.to(device), rna2.to(device)\n",
    "\n",
    "    outputs = model(rna1, rna2)\n",
    "    \n",
    "    probability += outputs.softmax(-1)[:, 1].tolist()\n",
    "    ids.append(id_pair)\n",
    "    \n",
    "res = pd.DataFrame({\n",
    "        'id_sample':ids,\n",
    "        'probability':probability,\n",
    "})"
   ]
  },
  {
   "cell_type": "code",
   "execution_count": 18,
   "id": "87fa2a10-82ca-4b18-b92a-a985d1cd71aa",
   "metadata": {},
   "outputs": [
    {
     "data": {
      "text/plain": [
       "0.26"
      ]
     },
     "execution_count": 18,
     "metadata": {},
     "output_type": "execute_result"
    }
   ],
   "source": [
    "res[res.probability<0.5].shape[0]/res.shape[0]"
   ]
  },
  {
   "cell_type": "code",
   "execution_count": 19,
   "id": "96685291-eb66-43e9-b770-ead7ff2bee00",
   "metadata": {},
   "outputs": [
    {
     "data": {
      "text/plain": [
       "<AxesSubplot:>"
      ]
     },
     "execution_count": 19,
     "metadata": {},
     "output_type": "execute_result"
    },
    {
     "data": {
      "image/png": "[encoded data removed]",
      "text/plain": [
       "<Figure size 432x288 with 1 Axes>"
      ]
     },
     "metadata": {
      "needs_background": "light"
     },
     "output_type": "display_data"
    }
   ],
   "source": [
    "res.probability.hist()"
   ]
  }
 ],
 "metadata": {
  "kernelspec": {
   "display_name": "Python 3 (ipykernel)",
   "language": "python",
   "name": "python3"
  },
  "language_info": {
   "codemirror_mode": {
    "name": "ipython",
    "version": 3
   },
   "file_extension": ".py",
   "mimetype": "text/x-python",
   "name": "python",
   "nbconvert_exporter": "python",
   "pygments_lexer": "ipython3",
   "version": "3.9.7"
  }
 },
 "nbformat": 4,
 "nbformat_minor": 5
}
