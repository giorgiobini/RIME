{
 "cells": [
  {
   "cell_type": "code",
   "execution_count": 1,
   "id": "87739880",
   "metadata": {},
   "outputs": [],
   "source": [
    "its_jupyter_notebook = True"
   ]
  },
  {
   "cell_type": "code",
   "execution_count": 2,
   "id": "e8c9f77f",
   "metadata": {},
   "outputs": [
    {
     "name": "stdout",
     "output_type": "stream",
     "text": [
      "============================================================\n",
      "<class 'transformers.tokenization_dna.DNATokenizer'>\n"
     ]
    }
   ],
   "source": [
    "import pandas as pd\n",
    "import os\n",
    "import time\n",
    "import numpy as np\n",
    "import pickle\n",
    "import argparse\n",
    "from tqdm.notebook import tqdm\n",
    "import torch\n",
    "import matplotlib.pyplot as plt\n",
    "import sys\n",
    "import datetime\n",
    "from pathlib import Path\n",
    "import seaborn as sns\n",
    "import time\n",
    "from Bio import SeqIO\n",
    "from torch.utils.data import DataLoader\n",
    "import sys\n",
    "from sklearn.metrics import classification_report, roc_curve, roc_auc_score, auc\n",
    "\n",
    "sys.path.insert(0, '..')\n",
    "\n",
    "from config import *\n",
    "import util.misc as utils\n",
    "from models.nt_classifier import build as build_model\n",
    "if its_jupyter_notebook:\n",
    "    sys.argv = [''] #Remove this if it's not a jupyter notebook!"
   ]
  },
  {
   "cell_type": "code",
   "execution_count": 3,
   "id": "53b2376d-a19d-49e9-9669-b89ad0ceca96",
   "metadata": {},
   "outputs": [],
   "source": [
    "model_name = 'all_modelarch2_wrongSN_easypretrain11_paristfinetuningSPLASHval0039parisHQSPLASHval0054_okSN_splashPARISFINETUNINGtrainhqRICSEQval0060_NOWENHNokSN_splashPARISFINETUNINGtrainhqRICSEQval0083'"
   ]
  },
  {
   "cell_type": "code",
   "execution_count": 4,
   "id": "7f711f07-48d3-4cb4-b207-c97781eab942",
   "metadata": {},
   "outputs": [],
   "source": [
    "checkpoint_dir = os.path.join(ROOT_DIR, 'checkpoints', model_name)#'binary_cl2')\n",
    "\n",
    "# Define the path to the file containing the args namespace\n",
    "args_path = os.path.join(checkpoint_dir, 'args.pkl')\n",
    "\n",
    "# Load the args namespace from the file\n",
    "with open(args_path, 'rb') as f:\n",
    "    args_dict = pickle.load(f)\n",
    "\n",
    "# Convert the dictionary to an argparse.Namespace object\n",
    "args = argparse.Namespace(**args_dict)\n",
    "args.resume = os.path.join(checkpoint_dir, 'best_model.pth') "
   ]
  },
  {
   "cell_type": "code",
   "execution_count": 5,
   "id": "06daa0c4-1cf9-4404-901f-50eca2e76718",
   "metadata": {},
   "outputs": [],
   "source": [
    "pairs_path = os.path.join('/data01/giorgio/RNARNA-NT/dataset/external_dataset/paris_windows_subset')\n",
    "\n",
    "df = pd.read_csv(os.path.join(pairs_path, 'pairs.csv'))\n",
    "\n",
    "embedding_dir = os.path.join(os.path.join(pairs_path, 'embeddings', '32')) #/data01/giorgio/RNARNA-NT/dataset/external_dataset/paris_windows_subset/embeddings/"
   ]
  },
  {
   "cell_type": "code",
   "execution_count": 6,
   "id": "7da81a30-c8c7-4d6f-9d0e-5284209593b1",
   "metadata": {},
   "outputs": [
    {
     "name": "stderr",
     "output_type": "stream",
     "text": [
      "/data01/giorgio/ENTER/envs/dnabert/lib/python3.9/site-packages/torch/nn/init.py:388: UserWarning: Initializing zero-element tensors is a no-op\n",
      "  warnings.warn(\"Initializing zero-element tensors is a no-op\")\n"
     ]
    },
    {
     "data": {
      "text/plain": [
       "BinaryClassifierNT2(\n",
       "  (nt_projection_module): NTProjectionModule(\n",
       "    (conv1d): Conv1d(2560, 0, kernel_size=(1,), stride=(1,))\n",
       "    (bn): BatchNorm1d(2560, eps=1e-05, momentum=0.1, affine=True, track_running_stats=True)\n",
       "  )\n",
       "  (top_classifier): MLP(\n",
       "    (input_layer): Sequential(\n",
       "      (0): LayerNorm((5120,), eps=1e-05, elementwise_affine=True)\n",
       "      (1): Linear(in_features=5120, out_features=512, bias=True)\n",
       "    )\n",
       "    (hidden_layers): ModuleList()\n",
       "    (output_layer): Linear(in_features=512, out_features=800, bias=True)\n",
       "    (activation_functions): ModuleList(\n",
       "      (0): Tanh()\n",
       "    )\n",
       "    (dropout_layers): ModuleList(\n",
       "      (0): Dropout(p=0.01, inplace=False)\n",
       "    )\n",
       "  )\n",
       "  (small_cnn): SmallCNN(\n",
       "    (conv1): Conv2d(800, 300, kernel_size=(2, 2), stride=(1, 1))\n",
       "    (conv2): Conv2d(300, 300, kernel_size=(1, 1), stride=(1, 1))\n",
       "    (relu): ReLU()\n",
       "    (maxpool2d): MaxPool2d(kernel_size=1, stride=1, padding=0, dilation=1, ceil_mode=False)\n",
       "    (tanh): Tanh()\n",
       "    (global_avg_pool): AdaptiveAvgPool2d(output_size=1)\n",
       "    (fc): Linear(in_features=300, out_features=300, bias=True)\n",
       "    (output_layer): Linear(in_features=300, out_features=2, bias=True)\n",
       "  )\n",
       ")"
      ]
     },
     "execution_count": 6,
     "metadata": {},
     "output_type": "execute_result"
    }
   ],
   "source": [
    "device = torch.device(args.device)\n",
    "model = build_model(args)\n",
    "model.to(device)\n",
    "\n",
    "checkpoint = torch.load(args.resume, map_location='cpu')\n",
    "model.load_state_dict(checkpoint['model'])\n",
    "\n",
    "model.eval()"
   ]
  },
  {
   "cell_type": "code",
   "execution_count": 7,
   "id": "5e3c1b66-bfd3-43b7-ad73-707162b9579d",
   "metadata": {},
   "outputs": [],
   "source": [
    "ids = []\n",
    "probability = []\n",
    "for _, row in df.iterrows():\n",
    "    \n",
    "    id_pair, embedding1name, embedding2name, x1, x2, y1, y2 = row['id_pair'], row['embedding1name'], row['embedding2name'], row['start_window1'], row['end_window1'], row['start_window2'], row['end_window2']\n",
    "\n",
    "    x1_emb, x2_emb, y1_emb, y2_emb = x1//6, x2//6, y1//6, y2//6\n",
    "\n",
    "    embedding1_path = os.path.join(embedding_dir, embedding1name+'.npy')\n",
    "    embedding2_path = os.path.join(embedding_dir, embedding2name+'.npy')\n",
    "\n",
    "    embedding1 = np.load(embedding1_path)[x1_emb:x2_emb, :]\n",
    "    embedding2 = np.load(embedding2_path)[y1_emb:y2_emb, :]\n",
    "    \n",
    "    rna1, rna2 =  torch.as_tensor(embedding1).unsqueeze(0), torch.as_tensor(embedding2).unsqueeze(0)\n",
    "    rna1, rna2 = torch.transpose(rna1, 1, 2), torch.transpose(rna2, 1, 2)\n",
    "    rna1, rna2 = rna1.to(device), rna2.to(device)\n",
    "\n",
    "    outputs = model(rna1, rna2)\n",
    "    \n",
    "    probability += outputs.softmax(-1)[:, 1].tolist()\n",
    "    ids.append(id_pair)\n",
    "    \n",
    "res = pd.DataFrame({\n",
    "        'id_sample':ids,\n",
    "        'probability':probability,\n",
    "    })"
   ]
  },
  {
   "cell_type": "code",
   "execution_count": 8,
   "id": "87fa2a10-82ca-4b18-b92a-a985d1cd71aa",
   "metadata": {},
   "outputs": [
    {
     "data": {
      "text/html": [
       "<div>\n",
       "<style scoped>\n",
       "    .dataframe tbody tr th:only-of-type {\n",
       "        vertical-align: middle;\n",
       "    }\n",
       "\n",
       "    .dataframe tbody tr th {\n",
       "        vertical-align: top;\n",
       "    }\n",
       "\n",
       "    .dataframe thead th {\n",
       "        text-align: right;\n",
       "    }\n",
       "</style>\n",
       "<table border=\"1\" class=\"dataframe\">\n",
       "  <thead>\n",
       "    <tr style=\"text-align: right;\">\n",
       "      <th></th>\n",
       "      <th>id_sample</th>\n",
       "      <th>probability</th>\n",
       "    </tr>\n",
       "  </thead>\n",
       "  <tbody>\n",
       "    <tr>\n",
       "      <th>0</th>\n",
       "      <td>0</td>\n",
       "      <td>0.101831</td>\n",
       "    </tr>\n",
       "    <tr>\n",
       "      <th>1</th>\n",
       "      <td>1</td>\n",
       "      <td>0.030547</td>\n",
       "    </tr>\n",
       "    <tr>\n",
       "      <th>2</th>\n",
       "      <td>2</td>\n",
       "      <td>0.035162</td>\n",
       "    </tr>\n",
       "    <tr>\n",
       "      <th>3</th>\n",
       "      <td>3</td>\n",
       "      <td>0.129820</td>\n",
       "    </tr>\n",
       "    <tr>\n",
       "      <th>4</th>\n",
       "      <td>4</td>\n",
       "      <td>0.635525</td>\n",
       "    </tr>\n",
       "    <tr>\n",
       "      <th>5</th>\n",
       "      <td>5</td>\n",
       "      <td>0.065823</td>\n",
       "    </tr>\n",
       "    <tr>\n",
       "      <th>6</th>\n",
       "      <td>6</td>\n",
       "      <td>0.573185</td>\n",
       "    </tr>\n",
       "    <tr>\n",
       "      <th>7</th>\n",
       "      <td>7</td>\n",
       "      <td>0.334331</td>\n",
       "    </tr>\n",
       "    <tr>\n",
       "      <th>8</th>\n",
       "      <td>8</td>\n",
       "      <td>0.192002</td>\n",
       "    </tr>\n",
       "    <tr>\n",
       "      <th>9</th>\n",
       "      <td>9</td>\n",
       "      <td>0.394022</td>\n",
       "    </tr>\n",
       "  </tbody>\n",
       "</table>\n",
       "</div>"
      ],
      "text/plain": [
       "   id_sample  probability\n",
       "0          0     0.101831\n",
       "1          1     0.030547\n",
       "2          2     0.035162\n",
       "3          3     0.129820\n",
       "4          4     0.635525\n",
       "5          5     0.065823\n",
       "6          6     0.573185\n",
       "7          7     0.334331\n",
       "8          8     0.192002\n",
       "9          9     0.394022"
      ]
     },
     "execution_count": 8,
     "metadata": {},
     "output_type": "execute_result"
    }
   ],
   "source": [
    "res"
   ]
  },
  {
   "cell_type": "code",
   "execution_count": 9,
   "id": "96685291-eb66-43e9-b770-ead7ff2bee00",
   "metadata": {},
   "outputs": [
    {
     "data": {
      "text/html": [
       "<div>\n",
       "<style scoped>\n",
       "    .dataframe tbody tr th:only-of-type {\n",
       "        vertical-align: middle;\n",
       "    }\n",
       "\n",
       "    .dataframe tbody tr th {\n",
       "        vertical-align: top;\n",
       "    }\n",
       "\n",
       "    .dataframe thead th {\n",
       "        text-align: right;\n",
       "    }\n",
       "</style>\n",
       "<table border=\"1\" class=\"dataframe\">\n",
       "  <thead>\n",
       "    <tr style=\"text-align: right;\">\n",
       "      <th></th>\n",
       "      <th>id_pair</th>\n",
       "      <th>embedding1name</th>\n",
       "      <th>embedding2name</th>\n",
       "      <th>start_window1</th>\n",
       "      <th>end_window1</th>\n",
       "      <th>start_window2</th>\n",
       "      <th>end_window2</th>\n",
       "    </tr>\n",
       "  </thead>\n",
       "  <tbody>\n",
       "    <tr>\n",
       "      <th>0</th>\n",
       "      <td>0</td>\n",
       "      <td>ENSG00000055609_3923_9893</td>\n",
       "      <td>ENSG00000187908_889_6859</td>\n",
       "      <td>2735</td>\n",
       "      <td>3235</td>\n",
       "      <td>2735</td>\n",
       "      <td>3235</td>\n",
       "    </tr>\n",
       "    <tr>\n",
       "      <th>1</th>\n",
       "      <td>1</td>\n",
       "      <td>ENSG00000138688_7080_13050</td>\n",
       "      <td>ENSG00000185567_6594_12564</td>\n",
       "      <td>2735</td>\n",
       "      <td>3235</td>\n",
       "      <td>2735</td>\n",
       "      <td>3235</td>\n",
       "    </tr>\n",
       "    <tr>\n",
       "      <th>2</th>\n",
       "      <td>2</td>\n",
       "      <td>ENSG00000155008_0_5970</td>\n",
       "      <td>ENSG00000213064_5186_11040</td>\n",
       "      <td>1870</td>\n",
       "      <td>2370</td>\n",
       "      <td>2735</td>\n",
       "      <td>3235</td>\n",
       "    </tr>\n",
       "    <tr>\n",
       "      <th>3</th>\n",
       "      <td>3</td>\n",
       "      <td>ENSG00000089022_1921_7891</td>\n",
       "      <td>ENSG00000120137_5377_10274</td>\n",
       "      <td>2735</td>\n",
       "      <td>3235</td>\n",
       "      <td>2735</td>\n",
       "      <td>3235</td>\n",
       "    </tr>\n",
       "    <tr>\n",
       "      <th>4</th>\n",
       "      <td>4</td>\n",
       "      <td>ENSG00000007168_2115_5589</td>\n",
       "      <td>ENSG00000145779_0_5970</td>\n",
       "      <td>2735</td>\n",
       "      <td>3235</td>\n",
       "      <td>1308</td>\n",
       "      <td>1808</td>\n",
       "    </tr>\n",
       "    <tr>\n",
       "      <th>5</th>\n",
       "      <td>5</td>\n",
       "      <td>ENSG00000163956_4444_10414</td>\n",
       "      <td>ENSG00000173889_6355_12325</td>\n",
       "      <td>2735</td>\n",
       "      <td>3235</td>\n",
       "      <td>2735</td>\n",
       "      <td>3235</td>\n",
       "    </tr>\n",
       "    <tr>\n",
       "      <th>6</th>\n",
       "      <td>6</td>\n",
       "      <td>ENSG00000100030_0_5970</td>\n",
       "      <td>ENSG00000164070_1525_7495</td>\n",
       "      <td>1135</td>\n",
       "      <td>1635</td>\n",
       "      <td>2735</td>\n",
       "      <td>3235</td>\n",
       "    </tr>\n",
       "    <tr>\n",
       "      <th>7</th>\n",
       "      <td>7</td>\n",
       "      <td>ENSG00000165300_4894_10864</td>\n",
       "      <td>ENSG00000225484_0_5970</td>\n",
       "      <td>2735</td>\n",
       "      <td>3235</td>\n",
       "      <td>2064</td>\n",
       "      <td>2564</td>\n",
       "    </tr>\n",
       "    <tr>\n",
       "      <th>8</th>\n",
       "      <td>8</td>\n",
       "      <td>ENSG00000006432_5062_11032</td>\n",
       "      <td>ENSG00000129682_9290_15260</td>\n",
       "      <td>2735</td>\n",
       "      <td>3235</td>\n",
       "      <td>2735</td>\n",
       "      <td>3235</td>\n",
       "    </tr>\n",
       "    <tr>\n",
       "      <th>9</th>\n",
       "      <td>9</td>\n",
       "      <td>ENSG00000105810_4758_10728</td>\n",
       "      <td>ENSG00000164506_5048_9177</td>\n",
       "      <td>2735</td>\n",
       "      <td>3235</td>\n",
       "      <td>2735</td>\n",
       "      <td>3235</td>\n",
       "    </tr>\n",
       "  </tbody>\n",
       "</table>\n",
       "</div>"
      ],
      "text/plain": [
       "   id_pair              embedding1name              embedding2name  \\\n",
       "0        0   ENSG00000055609_3923_9893    ENSG00000187908_889_6859   \n",
       "1        1  ENSG00000138688_7080_13050  ENSG00000185567_6594_12564   \n",
       "2        2      ENSG00000155008_0_5970  ENSG00000213064_5186_11040   \n",
       "3        3   ENSG00000089022_1921_7891  ENSG00000120137_5377_10274   \n",
       "4        4   ENSG00000007168_2115_5589      ENSG00000145779_0_5970   \n",
       "5        5  ENSG00000163956_4444_10414  ENSG00000173889_6355_12325   \n",
       "6        6      ENSG00000100030_0_5970   ENSG00000164070_1525_7495   \n",
       "7        7  ENSG00000165300_4894_10864      ENSG00000225484_0_5970   \n",
       "8        8  ENSG00000006432_5062_11032  ENSG00000129682_9290_15260   \n",
       "9        9  ENSG00000105810_4758_10728   ENSG00000164506_5048_9177   \n",
       "\n",
       "   start_window1  end_window1  start_window2  end_window2  \n",
       "0           2735         3235           2735         3235  \n",
       "1           2735         3235           2735         3235  \n",
       "2           1870         2370           2735         3235  \n",
       "3           2735         3235           2735         3235  \n",
       "4           2735         3235           1308         1808  \n",
       "5           2735         3235           2735         3235  \n",
       "6           1135         1635           2735         3235  \n",
       "7           2735         3235           2064         2564  \n",
       "8           2735         3235           2735         3235  \n",
       "9           2735         3235           2735         3235  "
      ]
     },
     "execution_count": 9,
     "metadata": {},
     "output_type": "execute_result"
    }
   ],
   "source": [
    "df"
   ]
  },
  {
   "cell_type": "code",
   "execution_count": null,
   "id": "1a74df33-d886-40dc-8ed2-c727acb7e14c",
   "metadata": {},
   "outputs": [],
   "source": []
  },
  {
   "cell_type": "code",
   "execution_count": null,
   "id": "d3378cc0-b1ec-4144-8f8f-e6301267c4a1",
   "metadata": {},
   "outputs": [],
   "source": []
  },
  {
   "cell_type": "code",
   "execution_count": null,
   "id": "dfa2a6b6-ce15-4b0e-92cd-a02929a5fecf",
   "metadata": {},
   "outputs": [],
   "source": []
  },
  {
   "cell_type": "code",
   "execution_count": null,
   "id": "d6d03eb8-5364-4900-87cf-80c2cef5036f",
   "metadata": {},
   "outputs": [],
   "source": []
  },
  {
   "cell_type": "code",
   "execution_count": null,
   "id": "62536668-e417-4f00-a4a2-538bc1827ac8",
   "metadata": {},
   "outputs": [],
   "source": []
  },
  {
   "cell_type": "code",
   "execution_count": 9,
   "id": "64fe22a5-8693-4324-8fd0-fa539b9df1e5",
   "metadata": {},
   "outputs": [],
   "source": [
    "pos = '/data01/giorgio/RNARNA-NT/dataset/external_dataset/pulldown/cand_99.ids.fa'\n",
    "neg = '/data01/giorgio/RNARNA-NT/dataset/external_dataset/pulldown/ctrl_99.ids.fa'\n",
    "\n",
    "pairs_file = open('/data01/giorgio/RNARNA-NT/dataset/external_dataset/pulldown/pairs.txt', \"a\")\n",
    "\n",
    "lhx_id = 'ENSMUST00000128121'\n",
    "\n",
    "neg_genes = []\n",
    "pos_genes = []\n",
    "\n",
    "for fasta in SeqIO.parse(open(neg),'fasta'):\n",
    "    name = str(fasta.description)\n",
    "    neg_genes.append(name)\n",
    "\n",
    "for fasta in SeqIO.parse(open(pos),'fasta'):\n",
    "    name = str(fasta.description)\n",
    "    pos_genes.append(name)\n",
    "\n",
    "pairs_file.close()"
   ]
  },
  {
   "cell_type": "code",
   "execution_count": 10,
   "id": "3cc07aee-a5a4-4419-a333-ba3a2133b627",
   "metadata": {},
   "outputs": [
    {
     "data": {
      "application/vnd.jupyter.widget-view+json": {
       "model_id": "c2da588d78cb47fd8cafcfd33981f28c",
       "version_major": 2,
       "version_minor": 0
      },
      "text/plain": [
       "  0%|          | 0/312 [00:00<?, ?it/s]"
      ]
     },
     "metadata": {},
     "output_type": "display_data"
    }
   ],
   "source": [
    "probability = []\n",
    "g1 = []\n",
    "g2 = []\n",
    "len_g1 = []\n",
    "len_g2 = []\n",
    "ids = []\n",
    "\n",
    "for _, row in tqdm(pairs.iterrows(), total = pairs.shape[0]):\n",
    "    gene1 = row.gene1\n",
    "    gene2 = row.gene2\n",
    "    \n",
    "    rna1 = np.load(os.path.join(embedding_dir, gene1+'.npy'))\n",
    "    rna2 = np.load(os.path.join(embedding_dir, gene2+'.npy'))\n",
    "    \n",
    "    rna1 = torch.tensor(rna1).unsqueeze(0).to(device)\n",
    "    rna2 = torch.tensor(rna2).unsqueeze(0).to(device)\n",
    "    \n",
    "    rna1 = torch.transpose(rna1, 1, 2)\n",
    "    rna2 = torch.transpose(rna2, 1, 2)\n",
    "    \n",
    "    outputs = model(rna1, rna2)\n",
    "    probability += outputs.softmax(-1)[:, 1].tolist()\n",
    "    \n",
    "    g1.append(gene1)\n",
    "    g2.append(gene2)\n",
    "    len_g1.append(rna1.shape[2])\n",
    "    len_g2.append(rna2.shape[2])\n",
    "    ids.append(gene1 + '_' + gene2)"
   ]
  },
  {
   "cell_type": "code",
   "execution_count": 23,
   "id": "7d076086-344d-447f-8af5-546a29769cf8",
   "metadata": {},
   "outputs": [
    {
     "data": {
      "text/plain": [
       "torch.Size([1, 2560, 104])"
      ]
     },
     "execution_count": 23,
     "metadata": {},
     "output_type": "execute_result"
    }
   ],
   "source": [
    "rna1.shape"
   ]
  },
  {
   "cell_type": "code",
   "execution_count": 11,
   "id": "40878883-b404-4fe3-b76b-d379fb16a8ed",
   "metadata": {},
   "outputs": [],
   "source": [
    "res = pd.DataFrame({\n",
    "    'id_sample':ids,\n",
    "    'probability':probability,\n",
    "    'g1':g1,\n",
    "    'g2':g2,\n",
    "    'len_g1': len_g1,\n",
    "    'len_g2': len_g2,\n",
    "})"
   ]
  },
  {
   "cell_type": "code",
   "execution_count": 12,
   "id": "b3fef555-e6a0-4890-bb72-44b8defb26da",
   "metadata": {},
   "outputs": [],
   "source": [
    "res['ground_truth'] = 0\n",
    "res.loc[res.g2.isin(pos_genes), \"ground_truth\"] = 1\n",
    "\n",
    "res['prediction'] = res.probability>0.5"
   ]
  },
  {
   "cell_type": "code",
   "execution_count": 17,
   "id": "aa8fe80f-2bed-46cd-a46f-12546d79f90e",
   "metadata": {},
   "outputs": [],
   "source": [
    "auc_values = []\n",
    "acc_values = []\n",
    "\n",
    "#sample res\n",
    "for i in range(1500):\n",
    "    subset_pos=res[res['ground_truth'] == 1]\n",
    "    n_pos = subset_pos.shape[0]\n",
    "    subset_neg = res[res['ground_truth'] == 0].sample(n_pos)\n",
    "    subset = pd.concat([subset_pos, subset_neg], axis = 0)\n",
    "    \n",
    "    acc = subset[subset.prediction == subset.ground_truth].shape[0]/subset.shape[0]\n",
    "    \n",
    "    fpr, tpr, _ = roc_curve(subset.ground_truth, subset.probability)\n",
    "    roc_auc = auc(fpr, tpr)\n",
    "    \n",
    "    auc_values.append(roc_auc)\n",
    "    acc_values.append(acc)"
   ]
  },
  {
   "cell_type": "code",
   "execution_count": 18,
   "id": "78171e33-dba7-4aad-8bf4-eb32c47cd226",
   "metadata": {},
   "outputs": [
    {
     "data": {
      "text/plain": [
       "0.4644117647058824"
      ]
     },
     "execution_count": 18,
     "metadata": {},
     "output_type": "execute_result"
    }
   ],
   "source": [
    "np.mean(acc_values)"
   ]
  },
  {
   "cell_type": "code",
   "execution_count": 19,
   "id": "5ff9417f-d916-41da-afa4-e2c5bddbeec1",
   "metadata": {},
   "outputs": [
    {
     "data": {
      "text/plain": [
       "0.48586774317570164"
      ]
     },
     "execution_count": 19,
     "metadata": {},
     "output_type": "execute_result"
    }
   ],
   "source": [
    "np.mean(auc_values)"
   ]
  },
  {
   "cell_type": "code",
   "execution_count": 20,
   "id": "baf1ff08",
   "metadata": {},
   "outputs": [
    {
     "name": "stdout",
     "output_type": "stream",
     "text": [
      "              precision    recall  f1-score   support\n",
      "\n",
      "           0       0.82      0.71      0.76       261\n",
      "           1       0.13      0.22      0.16        51\n",
      "\n",
      "    accuracy                           0.63       312\n",
      "   macro avg       0.48      0.46      0.46       312\n",
      "weighted avg       0.71      0.63      0.67       312\n",
      "\n"
     ]
    }
   ],
   "source": [
    "print(classification_report(res.ground_truth, res.prediction))"
   ]
  },
  {
   "cell_type": "markdown",
   "id": "3f81c238",
   "metadata": {
    "tags": []
   },
   "source": [
    "## Metrics"
   ]
  },
  {
   "cell_type": "code",
   "execution_count": 26,
   "id": "7764f2cd",
   "metadata": {},
   "outputs": [
    {
     "name": "stdout",
     "output_type": "stream",
     "text": [
      "False    233\n",
      "True      79\n",
      "Name: prediction, dtype: int64\n",
      "\n",
      "\n",
      "0    261\n",
      "1     51\n",
      "Name: ground_truth, dtype: int64\n"
     ]
    }
   ],
   "source": [
    "print(res.prediction.value_counts())\n",
    "print('\\n')\n",
    "print(res.ground_truth.value_counts())"
   ]
  },
  {
   "cell_type": "code",
   "execution_count": 27,
   "id": "28959bcf",
   "metadata": {},
   "outputs": [],
   "source": [
    "n_conf = 10"
   ]
  },
  {
   "cell_type": "code",
   "execution_count": 28,
   "id": "7c45850c",
   "metadata": {},
   "outputs": [
    {
     "data": {
      "image/png": "[encoded data removed]",
      "text/plain": [
       "<Figure size 640x480 with 1 Axes>"
      ]
     },
     "metadata": {},
     "output_type": "display_data"
    }
   ],
   "source": [
    "obtain_plot(res, n_original_df = res.shape[0], title = 'Metrics', n_conf = n_conf)"
   ]
  }
 ],
 "metadata": {
  "kernelspec": {
   "display_name": "Python 3 (ipykernel)",
   "language": "python",
   "name": "python3"
  },
  "language_info": {
   "codemirror_mode": {
    "name": "ipython",
    "version": 3
   },
   "file_extension": ".py",
   "mimetype": "text/x-python",
   "name": "python",
   "nbconvert_exporter": "python",
   "pygments_lexer": "ipython3",
   "version": "3.9.7"
  }
 },
 "nbformat": 4,
 "nbformat_minor": 5
}
