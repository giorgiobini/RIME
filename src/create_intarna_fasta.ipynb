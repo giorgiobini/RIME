{
 "cells": [
  {
   "cell_type": "markdown",
   "id": "adae8967",
   "metadata": {
    "tags": []
   },
   "source": [
    "# Code"
   ]
  },
  {
   "cell_type": "code",
   "execution_count": 1,
   "id": "563c7461",
   "metadata": {},
   "outputs": [],
   "source": [
    "import pandas as pd\n",
    "import os\n",
    "import numpy as np\n",
    "import pickle\n",
    "import sys\n",
    "from tqdm.notebook import tqdm\n",
    "sys.path.insert(0, '..')\n",
    "from config import *"
   ]
  },
  {
   "cell_type": "code",
   "execution_count": 2,
   "id": "eeb11609",
   "metadata": {},
   "outputs": [
    {
     "name": "stderr",
     "output_type": "stream",
     "text": [
      "/tmp/ipykernel_270567/1062841503.py:1: DtypeWarning: Columns (21) have mixed types. Specify dtype option on import or set low_memory=False.\n",
      "  df_nt = pd.read_csv(os.path.join(metadata_dir, f'df_nt.csv'))\n"
     ]
    }
   ],
   "source": [
    "df_nt = pd.read_csv(os.path.join(metadata_dir, f'df_nt.csv'))\n",
    "df_genes_nt = pd.read_csv(os.path.join(metadata_dir, f'df_genes_nt.csv'))\n",
    "df_query = pd.read_csv(os.path.join(metadata_dir, 'embedding_query.csv'))"
   ]
  },
  {
   "cell_type": "markdown",
   "id": "51d237ae-28e8-47c8-bd4d-d9afe5618066",
   "metadata": {},
   "source": [
    "# Test 500 nucleotides"
   ]
  },
  {
   "cell_type": "code",
   "execution_count": 3,
   "id": "ede01d82-2927-4ee8-962c-22b82ecddbf0",
   "metadata": {},
   "outputs": [],
   "source": [
    "test_500 = pd.read_csv(os.path.join(metadata_dir, 'test500.csv'))"
   ]
  },
  {
   "cell_type": "code",
   "execution_count": 4,
   "id": "afe21af3-acc2-411c-baeb-5850a1436c86",
   "metadata": {},
   "outputs": [
    {
     "data": {
      "application/vnd.jupyter.widget-view+json": {
       "model_id": "2c02476d5cfb41b299a695933efd4423",
       "version_major": 2,
       "version_minor": 0
      },
      "text/plain": [
       "0it [00:00, ?it/s]"
      ]
     },
     "metadata": {},
     "output_type": "display_data"
    }
   ],
   "source": [
    "save_dir = os.path.join(intarna_dir, 'toy500')\n",
    "\n",
    "if not os.path.exists(save_dir):\n",
    "    # If it doesn't exist, create it\n",
    "    os.makedirs(save_dir)\n",
    "    \n",
    "rna1 = open(os.path.join(save_dir, 'rna1.fasta'), \"a\")\n",
    "rna2 = open(os.path.join(save_dir, 'rna2.fasta'), \"a\")\n",
    "\n",
    "for _, row in tqdm(test_500.head(500).iterrows()):\n",
    "    name1 = str(row.couples) + '_' + 'rna1'\n",
    "    name2 = str(row.couples) + '_' + 'rna2'\n",
    "    rna1.write(\">\" + name1 + \"\\n\" + row.cdna1 + \"\\n\")\n",
    "    rna2.write(\">\" + name2 + \"\\n\" + row.cdna2 + \"\\n\")\n",
    "rna1.close()\n",
    "rna2.close()"
   ]
  },
  {
   "cell_type": "code",
   "execution_count": 5,
   "id": "3334f895-b080-4aef-888f-9836434fd639",
   "metadata": {},
   "outputs": [
    {
     "data": {
      "application/vnd.jupyter.widget-view+json": {
       "model_id": "2a03ed61ff404a509e05223ba59f744b",
       "version_major": 2,
       "version_minor": 0
      },
      "text/plain": [
       "0it [00:00, ?it/s]"
      ]
     },
     "metadata": {},
     "output_type": "display_data"
    }
   ],
   "source": [
    "save_dir = os.path.join(intarna_dir, 'test500')\n",
    "\n",
    "if not os.path.exists(save_dir):\n",
    "    # If it doesn't exist, create it\n",
    "    os.makedirs(save_dir)\n",
    "    \n",
    "rna1 = open(os.path.join(save_dir, 'rna1.fasta'), \"a\")\n",
    "rna2 = open(os.path.join(save_dir, 'rna2.fasta'), \"a\")\n",
    "\n",
    "for _, row in tqdm(test_500.iterrows()):\n",
    "    name1 = str(row.couples) + '_' + 'rna1'\n",
    "    name2 = str(row.couples) + '_' + 'rna2'\n",
    "    rna1.write(\">\" + name1 + \"\\n\" + row.cdna1 + \"\\n\")\n",
    "    rna2.write(\">\" + name2 + \"\\n\" + row.cdna2 + \"\\n\")\n",
    "    \n",
    "rna1.close()\n",
    "rna2.close()"
   ]
  },
  {
   "cell_type": "markdown",
   "id": "8e12fcc1-a39a-4660-b3fb-567fbdc003df",
   "metadata": {},
   "source": [
    "# This is what we need if we want to create fasta for full length pairs"
   ]
  },
  {
   "cell_type": "code",
   "execution_count": 3,
   "id": "ba24f994-3c20-48ed-9d98-a25e64ea730a",
   "metadata": {},
   "outputs": [],
   "source": [
    "subset_test_nt = os.path.join(rna_rna_files_dir, f\"gene_pairs_test_nt.txt\")\n",
    "\n",
    "with open(subset_test_nt, \"rb\") as fp:  # Unpickling\n",
    "    subset_test_nt = pickle.load(fp)"
   ]
  },
  {
   "cell_type": "code",
   "execution_count": 4,
   "id": "f8693982-a4a7-4015-8f1c-db1209d900bc",
   "metadata": {},
   "outputs": [],
   "source": [
    "df = df_nt[df_nt.couples.isin(subset_test_nt)]\n",
    "\n",
    "n = df.shape[0]\n",
    "\n",
    "df = df.filter(['couples', 'gene1', 'gene2', 'interacting'])\n",
    "\n",
    "df = df.merge(df_query, left_on = 'gene1', right_on = 'id_query').drop('id_query', axis = 1).rename({'cdna': 'cdna1'} , axis =1 )\n",
    "df = df.merge(df_query, left_on = 'gene2', right_on = 'id_query').drop('id_query', axis = 1).rename({'cdna': 'cdna2'} , axis =1 )\n",
    "\n",
    "assert df.shape[0] == n"
   ]
  },
  {
   "cell_type": "code",
   "execution_count": 5,
   "id": "ab79c50f-96dd-43c5-85cd-ea4a9478863a",
   "metadata": {},
   "outputs": [
    {
     "data": {
      "application/vnd.jupyter.widget-view+json": {
       "model_id": "f46f1dbda7ef4cd9a83b6958232b5d64",
       "version_major": 2,
       "version_minor": 0
      },
      "text/plain": [
       "0it [00:00, ?it/s]"
      ]
     },
     "metadata": {},
     "output_type": "display_data"
    }
   ],
   "source": [
    "save_dir = os.path.join(intarna_dir, 'toy')\n",
    "\n",
    "if not os.path.exists(save_dir):\n",
    "    # If it doesn't exist, create it\n",
    "    os.makedirs(save_dir)\n",
    "\n",
    "rna1 = open(os.path.join(save_dir, 'rna1.fasta'), \"a\")\n",
    "rna2 = open(os.path.join(save_dir, 'rna2.fasta'), \"a\")\n",
    "\n",
    "for _, row in tqdm(df.head(20).iterrows()):\n",
    "    name1 = str(row.couples) + '_' + 'rna1'\n",
    "    name2 = str(row.couples) + '_' + 'rna2'\n",
    "    rna1.write(\">\" + name1 + \"\\n\" + row.cdna1 + \"\\n\")\n",
    "    rna2.write(\">\" + name2 + \"\\n\" + row.cdna2 + \"\\n\")\n",
    "rna1.close()\n",
    "rna2.close()"
   ]
  },
  {
   "cell_type": "code",
   "execution_count": 58,
   "id": "f73be42b-78ab-49e3-95ab-6b4b07d1c8bd",
   "metadata": {},
   "outputs": [
    {
     "data": {
      "application/vnd.jupyter.widget-view+json": {
       "model_id": "5e84acd521324089aeaaba0db0b0c943",
       "version_major": 2,
       "version_minor": 0
      },
      "text/plain": [
       "  0%|          | 0/45398 [00:00<?, ?it/s]"
      ]
     },
     "metadata": {},
     "output_type": "display_data"
    }
   ],
   "source": [
    "save_dir = os.path.join(intarna_dir, 'test')\n",
    "\n",
    "if not os.path.exists(save_dir):\n",
    "    # If it doesn't exist, create it\n",
    "    os.makedirs(save_dir)\n",
    "\n",
    "rna1 = open(os.path.join(save_dir, 'rna1.fasta'), \"a\")\n",
    "rna2 = open(os.path.join(save_dir, 'rna2.fasta'), \"a\")\n",
    "\n",
    "for _, row in tqdm(df.iterrows(), total = len(df)):\n",
    "    name1 = str(row.couples) + ' ' + row.gene1 + ' ' + str(row.interacting)\n",
    "    name2 = str(row.couples) + ' ' + row.gene2 + ' ' + str(row.interacting)\n",
    "    rna1.write(\">\" + name1 + \"\\n\" + row.cdna1 + \"\\n\")\n",
    "    rna2.write(\">\" + name2 + \"\\n\" + row.cdna2 + \"\\n\")\n",
    "rna1.close()\n",
    "rna2.close()"
   ]
  }
 ],
 "metadata": {
  "kernelspec": {
   "display_name": "Python 3 (ipykernel)",
   "language": "python",
   "name": "python3"
  },
  "language_info": {
   "codemirror_mode": {
    "name": "ipython",
    "version": 3
   },
   "file_extension": ".py",
   "mimetype": "text/x-python",
   "name": "python",
   "nbconvert_exporter": "python",
   "pygments_lexer": "ipython3",
   "version": "3.10.10"
  }
 },
 "nbformat": 4,
 "nbformat_minor": 5
}
