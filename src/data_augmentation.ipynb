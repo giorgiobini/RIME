{
 "cells": [
  {
   "cell_type": "markdown",
   "metadata": {},
   "source": [
    "This scripts allow us to understand if the classes in data.py work or not"
   ]
  },
  {
   "cell_type": "code",
   "execution_count": 1,
   "metadata": {
    "collapsed": false,
    "jupyter": {
     "outputs_hidden": false
    }
   },
   "outputs": [],
   "source": [
    "seed = 123\n",
    "import sys\n",
    "from pathlib import Path\n",
    "from typing import *\n",
    "import shutil\n",
    "import time\n",
    "import pandas as pd\n",
    "import pickle\n",
    "import torch\n",
    "import numpy as np\n",
    "import os\n",
    "from torch.utils.data import random_split, Subset\n",
    "from tqdm.notebook import tqdm\n",
    "import matplotlib.pyplot as plt\n",
    "\n",
    "sys.path.insert(0, \"..\")\n",
    "from dataset.data import (\n",
    "    RNADataset,\n",
    "    ROOT_DIR,\n",
    "    EasyPosAugment,\n",
    "    RegionSpecNegAugment,\n",
    "    InteractionSelectionPolicy,\n",
    "    EasyNegAugment,\n",
    "    HardPosAugment,\n",
    "    HardNegAugment,\n",
    "    plot_sample,\n",
    "    #plot_sample2,\n",
    "    seed_everything,\n",
    "    MAX_RNA_SIZE,\n",
    ")"
   ]
  },
  {
   "cell_type": "code",
   "execution_count": 2,
   "metadata": {
    "collapsed": false,
    "jupyter": {
     "outputs_hidden": false
    }
   },
   "outputs": [],
   "source": [
    "pos_width_multipliers = {20:0.5, MAX_RNA_SIZE: 0.5}\n",
    "pos_height_multipliers = pos_width_multipliers\n",
    "neg_width_windows = {\n",
    "    (50, 1000): 0.5,\n",
    "    (1000, MAX_RNA_SIZE): 0.5,\n",
    "}\n",
    "neg_height_windows = neg_width_windows"
   ]
  },
  {
   "cell_type": "code",
   "execution_count": 3,
   "metadata": {},
   "outputs": [],
   "source": [
    "ROOT_DIR = os.path.dirname(os.path.abspath('.'))\n",
    "original_files_dir = os.path.join(ROOT_DIR, \"dataset\", \"original_files\")\n",
    "processed_files_dir = os.path.join(ROOT_DIR, \"dataset\", \"processed_files\")\n",
    "rna_rna_files_dir = os.path.join(ROOT_DIR, \"dataset\", \"rna_rna_pairs\")"
   ]
  },
  {
   "cell_type": "code",
   "execution_count": 4,
   "metadata": {},
   "outputs": [
    {
     "ename": "TypeError",
     "evalue": "RNADataset.__init__() got an unexpected keyword argument 'gene_info_path'",
     "output_type": "error",
     "traceback": [
      "\u001b[0;31m---------------------------------------------------------------------------\u001b[0m",
      "\u001b[0;31mTypeError\u001b[0m                                 Traceback (most recent call last)",
      "Cell \u001b[0;32mIn[4], line 38\u001b[0m\n\u001b[1;32m      5\u001b[0m \u001b[38;5;28;01mfor\u001b[39;00m policy \u001b[38;5;129;01min\u001b[39;00m (\n\u001b[1;32m      6\u001b[0m     EasyPosAugment(\n\u001b[1;32m      7\u001b[0m         per_sample\u001b[38;5;241m=\u001b[39m\u001b[38;5;241m1\u001b[39m,\n\u001b[0;32m   (...)\u001b[0m\n\u001b[1;32m     34\u001b[0m     \u001b[38;5;66;03m# ),\u001b[39;00m\n\u001b[1;32m     35\u001b[0m ):\n\u001b[1;32m     36\u001b[0m     start_time \u001b[38;5;241m=\u001b[39m time\u001b[38;5;241m.\u001b[39mtime()\n\u001b[0;32m---> 38\u001b[0m     dataset \u001b[38;5;241m=\u001b[39m \u001b[43mRNADataset\u001b[49m\u001b[43m(\u001b[49m\n\u001b[1;32m     39\u001b[0m \u001b[43m        \u001b[49m\u001b[43mgene_info_path\u001b[49m\u001b[38;5;241;43m=\u001b[39;49m\u001b[43mos\u001b[49m\u001b[38;5;241;43m.\u001b[39;49m\u001b[43mpath\u001b[49m\u001b[38;5;241;43m.\u001b[39;49m\u001b[43mjoin\u001b[49m\u001b[43m(\u001b[49m\u001b[43mprocessed_files_dir\u001b[49m\u001b[43m,\u001b[49m\u001b[43m \u001b[49m\u001b[38;5;124;43m\"\u001b[39;49m\u001b[38;5;124;43mdf_genes.csv\u001b[39;49m\u001b[38;5;124;43m\"\u001b[39;49m\u001b[43m)\u001b[49m\u001b[43m,\u001b[49m\n\u001b[1;32m     40\u001b[0m \u001b[43m        \u001b[49m\u001b[43minteractions_path\u001b[49m\u001b[38;5;241;43m=\u001b[39;49m\u001b[43mos\u001b[49m\u001b[38;5;241;43m.\u001b[39;49m\u001b[43mpath\u001b[49m\u001b[38;5;241;43m.\u001b[39;49m\u001b[43mjoin\u001b[49m\u001b[43m(\u001b[49m\n\u001b[1;32m     41\u001b[0m \u001b[43m            \u001b[49m\u001b[43mprocessed_files_dir\u001b[49m\u001b[43m,\u001b[49m\u001b[43m \u001b[49m\u001b[38;5;124;43m\"\u001b[39;49m\u001b[38;5;124;43mfinal_df.csv\u001b[39;49m\u001b[38;5;124;43m\"\u001b[39;49m\n\u001b[1;32m     42\u001b[0m \u001b[43m        \u001b[49m\u001b[43m)\u001b[49m\u001b[43m,\u001b[49m\n\u001b[1;32m     43\u001b[0m \u001b[43m        \u001b[49m\u001b[43msubset_file\u001b[49m\u001b[38;5;241;43m=\u001b[39;49m\u001b[43mos\u001b[49m\u001b[38;5;241;43m.\u001b[39;49m\u001b[43mpath\u001b[49m\u001b[38;5;241;43m.\u001b[39;49m\u001b[43mjoin\u001b[49m\u001b[43m(\u001b[49m\n\u001b[1;32m     44\u001b[0m \u001b[43m            \u001b[49m\u001b[43mrna_rna_files_dir\u001b[49m\u001b[43m,\u001b[49m\u001b[43m \u001b[49m\u001b[38;5;124;43m\"\u001b[39;49m\u001b[38;5;124;43mgene_pairs_val.txt\u001b[39;49m\u001b[38;5;124;43m\"\u001b[39;49m\n\u001b[1;32m     45\u001b[0m \u001b[43m        \u001b[49m\u001b[43m)\u001b[49m\u001b[43m,\u001b[49m\n\u001b[1;32m     46\u001b[0m \u001b[43m        \u001b[49m\u001b[43maugment_policies\u001b[49m\u001b[38;5;241;43m=\u001b[39;49m\u001b[43m[\u001b[49m\n\u001b[1;32m     47\u001b[0m \u001b[43m            \u001b[49m\u001b[43mpolicy\u001b[49m\u001b[43m,\u001b[49m\n\u001b[1;32m     48\u001b[0m \u001b[43m        \u001b[49m\u001b[43m]\u001b[49m\u001b[43m,\u001b[49m\n\u001b[1;32m     49\u001b[0m \u001b[43m    \u001b[49m\u001b[43m)\u001b[49m\n\u001b[1;32m     50\u001b[0m     \u001b[38;5;28;01mfor\u001b[39;00m i, sample \u001b[38;5;129;01min\u001b[39;00m tqdm(\u001b[38;5;28menumerate\u001b[39m(dataset)):\n\u001b[1;32m     51\u001b[0m         l1\u001b[38;5;241m.\u001b[39mappend(sample\u001b[38;5;241m.\u001b[39mbbox\u001b[38;5;241m.\u001b[39mx2 \u001b[38;5;241m-\u001b[39m sample\u001b[38;5;241m.\u001b[39mbbox\u001b[38;5;241m.\u001b[39mx1)\n",
      "\u001b[0;31mTypeError\u001b[0m: RNADataset.__init__() got an unexpected keyword argument 'gene_info_path'"
     ]
    }
   ],
   "source": [
    "l1 = []\n",
    "l2 = []\n",
    "_SUBSET_SIZE: int = 1\n",
    "seed_everything(seed)\n",
    "for policy in (\n",
    "    EasyPosAugment(\n",
    "        per_sample=1,\n",
    "        interaction_selection=InteractionSelectionPolicy.LARGEST,\n",
    "        width_multipliers=pos_width_multipliers,\n",
    "        height_multipliers=pos_height_multipliers,\n",
    "    ),\n",
    "    # EasyNegAugment(\n",
    "    #     per_sample=1,\n",
    "    #     width_windows=neg_width_windows,\n",
    "    #     height_windows=neg_height_windows,\n",
    "    # ),\n",
    "    # HardPosAugment(\n",
    "    #     per_sample=1,\n",
    "    #     interaction_selection=InteractionSelectionPolicy.RANDOM_ONE,\n",
    "    #     min_width_overlap=0.3,\n",
    "    #     min_height_overlap=0.3,\n",
    "    #     width_multipliers=pos_width_multipliers,\n",
    "    #     height_multipliers=pos_height_multipliers,\n",
    "    # ),\n",
    "    # HardNegAugment(\n",
    "    #     per_sample=1,\n",
    "    #     width_windows=neg_width_windows,\n",
    "    #     height_windows=neg_height_windows,\n",
    "    # ),\n",
    "    # RegionSpecNegAugment(\n",
    "    #     per_sample=1,\n",
    "    #     width_windows=pos_width_multipliers,\n",
    "    #     height_windows=neg_height_windows,\n",
    "    # ),\n",
    "):\n",
    "    start_time = time.time()\n",
    "\n",
    "    dataset = RNADataset(\n",
    "        gene_info_path=os.path.join(processed_files_dir, \"df_genes.csv\"),\n",
    "        interactions_path=os.path.join(\n",
    "            processed_files_dir, \"final_df.csv\"\n",
    "        ),\n",
    "        subset_file=os.path.join(\n",
    "            rna_rna_files_dir, \"gene_pairs_val.txt\"\n",
    "        ),\n",
    "        augment_policies=[\n",
    "            policy,\n",
    "        ],\n",
    "    )\n",
    "    for i, sample in tqdm(enumerate(dataset)):\n",
    "        l1.append(sample.bbox.x2 - sample.bbox.x1)\n",
    "        l2.append(sample.bbox.y2 - sample.bbox.y1)\n",
    "        if i == 3:\n",
    "            break\n",
    "        #print(sample.gene1, sample.gene2)\n",
    "        continue"
   ]
  },
  {
   "cell_type": "code",
   "execution_count": 20,
   "metadata": {},
   "outputs": [
    {
     "data": {
      "text/plain": [
       "2198"
      ]
     },
     "execution_count": 20,
     "metadata": {},
     "output_type": "execute_result"
    }
   ],
   "source": [
    "len(sample.gene1_info[\"cdna\"])"
   ]
  },
  {
   "cell_type": "code",
   "execution_count": 21,
   "metadata": {},
   "outputs": [
    {
     "data": {
      "text/plain": [
       "3155"
      ]
     },
     "execution_count": 21,
     "metadata": {},
     "output_type": "execute_result"
    }
   ],
   "source": [
    "len(sample.gene2_info[\"cdna\"])"
   ]
  },
  {
   "cell_type": "code",
   "execution_count": 22,
   "metadata": {},
   "outputs": [
    {
     "data": {
      "text/plain": [
       "BBOX(x1=0, x2=2198, y1=0, y2=3155)"
      ]
     },
     "execution_count": 22,
     "metadata": {},
     "output_type": "execute_result"
    }
   ],
   "source": [
    "sample.bbox"
   ]
  },
  {
   "cell_type": "code",
   "execution_count": 23,
   "metadata": {},
   "outputs": [
    {
     "name": "stderr",
     "output_type": "stream",
     "text": [
      "/data01/gbini/projects/RNA-RNA/src/../dataset/data.py:1188: UserWarning: color is redundantly defined by the 'color' keyword argument and the fmt string \"ro\" (-> color='r'). The keyword argument will take precedence.\n",
      "  ax.plot([0, width],[0, height], 'ro', color = 'white')\n"
     ]
    },
    {
     "data": {
      "image/png": "[encoded data removed]",
      "text/plain": [
       "<Figure size 640x480 with 1 Axes>"
      ]
     },
     "execution_count": 23,
     "metadata": {},
     "output_type": "execute_result"
    },
    {
     "data": {
      "image/png": "[encoded data removed]",
      "text/plain": [
       "<Figure size 640x480 with 1 Axes>"
      ]
     },
     "metadata": {},
     "output_type": "display_data"
    }
   ],
   "source": [
    "plot_sample(sample)"
   ]
  },
  {
   "cell_type": "code",
   "execution_count": null,
   "metadata": {},
   "outputs": [],
   "source": []
  },
  {
   "cell_type": "code",
   "execution_count": null,
   "metadata": {},
   "outputs": [],
   "source": []
  },
  {
   "cell_type": "code",
   "execution_count": null,
   "metadata": {},
   "outputs": [],
   "source": [
    "df_genes = pd.read_csv(\n",
    "    os.path.join(processed_files_dir, \"df_genes.csv\"), sep=\",\"\n",
    ")"
   ]
  },
  {
   "cell_type": "markdown",
   "metadata": {},
   "source": [
    "# Check if classes works"
   ]
  },
  {
   "cell_type": "code",
   "execution_count": 31,
   "metadata": {},
   "outputs": [],
   "source": [
    "df = pd.read_csv(\n",
    "    os.path.join(processed_files_dir, \"df_annotation_files_cleaned.csv\"), sep=\",\"\n",
    ")\n",
    "with open(os.path.join(rna_rna_files_dir, \"gene_pairs_training_random_filtered.txt\"), \"rb\") as fp:  # Unpickling\n",
    "                subset = pickle.load(fp)\n",
    "# with open(os.path.join(rna_rna_files_dir, \"gene_pairs_test_random_filtered.txt\"), \"rb\") as fp:  # Unpickling\n",
    "#                 subset = pickle.load(fp)\n",
    "# with open(os.path.join(rna_rna_files_dir, \"gene_pairs_val_random_filtered.txt\"), \"rb\") as fp:  # Unpickling\n",
    "#                 subset = pickle.load(fp)\n",
    "df = df[df.couples.isin(subset)]"
   ]
  },
  {
   "cell_type": "markdown",
   "metadata": {},
   "source": [
    "### Check if RegionSpecificNeg works"
   ]
  },
  {
   "cell_type": "code",
   "execution_count": 6,
   "metadata": {},
   "outputs": [
    {
     "data": {
      "application/vnd.jupyter.widget-view+json": {
       "model_id": "f5223616225a4b1883d1df3199e40ca2",
       "version_major": 2,
       "version_minor": 0
      },
      "text/plain": [
       "0it [00:00, ?it/s]"
      ]
     },
     "metadata": {},
     "output_type": "display_data"
    }
   ],
   "source": [
    "d = {}\n",
    "idx = 0\n",
    "for i, sample in tqdm(enumerate(dataset)):\n",
    "    assert len(sample.all_couple_interactions) == 1\n",
    "    assert sample.all_couple_interactions[0]['interacting'] == False\n",
    "    couple = sample.all_couple_interactions[0]['couple']\n",
    "    gene1, gene2 = sample.gene1, sample.gene2\n",
    "    if gene1 + '_' + gene2 == couple:\n",
    "        are_swapped = False\n",
    "    elif gene2 + '_' + gene1 == couple:\n",
    "        are_swapped = True\n",
    "    else:\n",
    "        assert False\n",
    "    if are_swapped:\n",
    "        gene1, gene2 = gene2, gene1\n",
    "        y1, y2, x1, x2 = sample.bbox.coords\n",
    "    else:\n",
    "        x1, x2, y1, y2 = sample.bbox.coords\n",
    "    subset_gene1 = df[(df.gene1 == gene1)|(df.gene2 == gene1)]\n",
    "    subset_gene1 = subset_gene1[subset_gene1.there_is_interaction == True]\n",
    "    subset_gene2 = df[(df.gene1 == gene2)|(df.gene2 == gene2)]\n",
    "    subset_gene2 = subset_gene2[subset_gene2.there_is_interaction == True]\n",
    "    \n",
    "    theonlyone = subset_gene1.shape[0]+subset_gene2.shape[0] == 1 \n",
    "    \n",
    "    for _, row in subset_gene1.iterrows():\n",
    "        if row.gene1 == gene1:\n",
    "            c1, c2 = row.x1, row.x1 + row.w\n",
    "        elif row.gene2 == gene1:\n",
    "            c1, c2 = row.y1, row.y1 + row.h\n",
    "        else:\n",
    "            assert False\n",
    "        d[idx]={'gene': gene1,\n",
    "                'x1':x1,\n",
    "                'x2':x2,\n",
    "                'real_interaction_x1': c1,\n",
    "                'real_interaction_x2': c2,\n",
    "                'samplegene1': sample.gene1,\n",
    "                'samplegene2': sample.gene2,\n",
    "                'theonlyone':theonlyone\n",
    "               }\n",
    "        idx+=1\n",
    "\n",
    "    for _, row in subset_gene2.iterrows():\n",
    "        if row.gene1 == gene2:\n",
    "            c1, c2 = row.x1, row.x1 + row.w\n",
    "        elif row.gene2 == gene2:\n",
    "            c1, c2 = row.y1, row.y1 + row.h\n",
    "        else:\n",
    "            assert False\n",
    "        d[idx]={'gene': gene2,\n",
    "                'x1':y1,\n",
    "                'x2':y2,\n",
    "                'real_interaction_x1': c1,\n",
    "                'real_interaction_x2': c2,\n",
    "                'samplegene1': sample.gene1,\n",
    "                'samplegene2': sample.gene2,\n",
    "                'theonlyone':theonlyone\n",
    "               }\n",
    "        idx+=1\n",
    "\n",
    "    #if (sample.gene1 == 'ENSG00000167880')&(sample.gene2 == 'ENSG00000108799'):\n",
    "    #ENSG00000167880 ENSG00000108799\n",
    "    # if i == 3:\n",
    "         #break"
   ]
  },
  {
   "cell_type": "code",
   "execution_count": 7,
   "metadata": {},
   "outputs": [],
   "source": [
    "res = pd.DataFrame.from_dict(d, 'index')\n",
    "res2 = res[res.theonlyone == False]\n",
    "res = res[res.theonlyone == True]\n",
    "assert res[res.x1>res.real_interaction_x1].shape[0] == 0\n",
    "assert res[res.x2<res.real_interaction_x2].shape[0] == 0\n",
    "res2 = res2.drop_duplicates().reset_index(drop = True)"
   ]
  },
  {
   "cell_type": "markdown",
   "metadata": {},
   "source": [
    "Controllo su res2"
   ]
  },
  {
   "cell_type": "code",
   "execution_count": 8,
   "metadata": {},
   "outputs": [],
   "source": [
    "res2['id'] = res2.samplegene1 + res2.samplegene2\n",
    "def calc_coords(gene, df):\n",
    "    subset = df[(df.gene1 == gene)]\n",
    "    subset = subset[subset.there_is_interaction == True]\n",
    "    series_x1 = subset.x1\n",
    "    series_x2 = subset.x1 + subset.w\n",
    "\n",
    "    subset = df[(df.gene2 == gene)]\n",
    "    subset = subset[subset.there_is_interaction == True]\n",
    "    series_y1 = subset.y1\n",
    "    series_y2 = subset.y1 + subset.h\n",
    "\n",
    "    coord_x1 = pd.concat([series_x1, series_y1])\n",
    "    coord_x2 = pd.concat([series_x2, series_y2])\n",
    "    return coord_x1, coord_x2"
   ]
  },
  {
   "cell_type": "code",
   "execution_count": 9,
   "metadata": {},
   "outputs": [
    {
     "data": {
      "application/vnd.jupyter.widget-view+json": {
       "model_id": "d1061e8787da4d4a8e9f07b606efdf34",
       "version_major": 2,
       "version_minor": 0
      },
      "text/plain": [
       "  0%|          | 0/17944 [00:00<?, ?it/s]"
      ]
     },
     "metadata": {},
     "output_type": "display_data"
    }
   ],
   "source": [
    "all_genes = set(df.gene1).union(df.gene2)\n",
    "d_genes = {}\n",
    "for g in tqdm(all_genes):\n",
    "    d_genes[g] = calc_coords(g, df)"
   ]
  },
  {
   "cell_type": "code",
   "execution_count": 10,
   "metadata": {
    "tags": []
   },
   "outputs": [
    {
     "data": {
      "application/vnd.jupyter.widget-view+json": {
       "model_id": "3476c323beae4f35a0ae7ce4f1b57da6",
       "version_major": 2,
       "version_minor": 0
      },
      "text/plain": [
       "  0%|          | 0/2449 [00:00<?, ?it/s]"
      ]
     },
     "metadata": {},
     "output_type": "display_data"
    },
    {
     "name": "stderr",
     "output_type": "stream",
     "text": [
      "/tmp/ipykernel_12073/1821462824.py:6: SettingWithCopyWarning: \n",
      "A value is trying to be set on a copy of a slice from a DataFrame.\n",
      "Try using .loc[row_indexer,col_indexer] = value instead\n",
      "\n",
      "See the caveats in the documentation: https://pandas.pydata.org/pandas-docs/stable/user_guide/indexing.html#returning-a-view-versus-a-copy\n",
      "  subset['key'] = subset['x1'].astype(str) + '_' + subset['x2'].astype(str)\n"
     ]
    }
   ],
   "source": [
    "#total time gene_pairs_training_random_filtered: 8 min\n",
    "for idx in tqdm(np.unique(res2['id'])):\n",
    "    coord_x1, coord_x2 = [], []\n",
    "    sampled_x1, sampled_x2 = [], []\n",
    "    subset = res2[res2.id == idx]\n",
    "    subset['key'] = subset['x1'].astype(str) + '_' + subset['x2'].astype(str)\n",
    "    subset = subset.drop_duplicates('key')\n",
    "    for _, row in subset.iterrows():\n",
    "        c1, c2 = d_genes[row.gene]\n",
    "        coord_x1.append(c1)\n",
    "        coord_x2.append(c2)\n",
    "        sampled_x1 += [row.x1 for i in range(len(c1))]\n",
    "        sampled_x2 += [row.x2 for i in range(len(c2))]\n",
    "    coord_x1 = pd.concat(coord_x1).reset_index(drop = True)\n",
    "    coord_x2 = pd.concat(coord_x2).reset_index(drop = True)\n",
    "    sampled_x1 = pd.Series(sampled_x1)\n",
    "    sampled_x2 = pd.Series(sampled_x2)\n",
    "    assert ((sampled_x1 <= coord_x1)&(sampled_x2 >= coord_x2)).any()"
   ]
  },
  {
   "cell_type": "markdown",
   "metadata": {},
   "source": [
    "### Check if EasyPos works"
   ]
  },
  {
   "cell_type": "code",
   "execution_count": 16,
   "metadata": {},
   "outputs": [
    {
     "data": {
      "application/vnd.jupyter.widget-view+json": {
       "model_id": "1601dabb8a5d44fe90266d86cc0b2c99",
       "version_major": 2,
       "version_minor": 0
      },
      "text/plain": [
       "0it [00:00, ?it/s]"
      ]
     },
     "metadata": {},
     "output_type": "display_data"
    }
   ],
   "source": [
    "d = {}\n",
    "idx = 0\n",
    "for i, sample in tqdm(enumerate(dataset)):\n",
    "    #assert len(sample.all_couple_interactions) == 1\n",
    "    couple = sample.all_couple_interactions[0]['couple']\n",
    "    gene1, gene2 = sample.gene1, sample.gene2\n",
    "    if gene1 + '_' + gene2 == couple:\n",
    "        are_swapped = False\n",
    "    elif gene2 + '_' + gene1 == couple:\n",
    "        are_swapped = True\n",
    "    else:\n",
    "        assert False\n",
    "    if are_swapped:\n",
    "        gene1, gene2 = gene2, gene1\n",
    "        y1, y2, x1, x2 = sample.bbox.coords\n",
    "    else:\n",
    "        x1, x2, y1, y2 = sample.bbox.coords\n",
    "    subset = df[(df.gene1 == gene1)&(df.gene2 == gene2)]\n",
    "    theonlyone = subset.shape[0] == 1\n",
    "    for _, row in subset.iterrows():\n",
    "        d[idx]={'gene1': gene1,\n",
    "                'x1':x1,\n",
    "                'x2':x2,\n",
    "                'real_interaction_x1': row.x1,\n",
    "                'real_interaction_x2': row.x1 + row.w,\n",
    "                'gene2': gene2,\n",
    "                'y1':y1,\n",
    "                'y2':y2,\n",
    "                'real_interaction_y1': row.y1,\n",
    "                'real_interaction_y2': row.y1 + row.h,\n",
    "                'theonlyone':theonlyone\n",
    "               }\n",
    "        idx+=1"
   ]
  },
  {
   "cell_type": "code",
   "execution_count": 17,
   "metadata": {},
   "outputs": [],
   "source": [
    "res = pd.DataFrame.from_dict(d, 'index')\n",
    "res2 = res[res.theonlyone == False]\n",
    "res = res[res.theonlyone == True]"
   ]
  },
  {
   "cell_type": "code",
   "execution_count": 18,
   "metadata": {},
   "outputs": [],
   "source": [
    "assert ((res.x1<=res.real_interaction_x1) & \n",
    "        (res.x2>=res.real_interaction_x2) & \n",
    "        (res.y1<=res.real_interaction_y1) &\n",
    "        (res.y2>=res.real_interaction_y2)).all()"
   ]
  },
  {
   "cell_type": "code",
   "execution_count": 19,
   "metadata": {},
   "outputs": [],
   "source": [
    "res2['id'] = res2[['gene1', 'gene2']].agg('_'.join, axis=1)"
   ]
  },
  {
   "cell_type": "code",
   "execution_count": 20,
   "metadata": {},
   "outputs": [
    {
     "data": {
      "application/vnd.jupyter.widget-view+json": {
       "model_id": "c9adf27e06c84c388f0fb0a0a47e8d65",
       "version_major": 2,
       "version_minor": 0
      },
      "text/plain": [
       "  0%|          | 0/1053 [00:00<?, ?it/s]"
      ]
     },
     "metadata": {},
     "output_type": "display_data"
    }
   ],
   "source": [
    "for idx in tqdm(np.unique(res2['id'])):\n",
    "    real = df[df.couples == idx]\n",
    "    assert real.shape[0]>0\n",
    "    coord_x1, coord_x2 = real.x1, real.x1 + real.w\n",
    "    coord_y1, coord_y2 = real.y1, real.y1 + real.h\n",
    "    subset = res2[res2.id == idx]\n",
    "    for  _, row in subset.iterrows():\n",
    "        x1, x2, y1, y2 = row.x1, row.x2, row.y1, row.y2\n",
    "        assert ((x1 <= coord_x1)&(x2 >= coord_x2)&(y1 <= coord_y1)&(y2 >= coord_y2)).any()"
   ]
  },
  {
   "cell_type": "markdown",
   "metadata": {},
   "source": [
    "### Check if HardPos works"
   ]
  },
  {
   "cell_type": "code",
   "execution_count": 24,
   "metadata": {},
   "outputs": [
    {
     "data": {
      "application/vnd.jupyter.widget-view+json": {
       "model_id": "ffc9a2b9710c48a6933513d28f1180db",
       "version_major": 2,
       "version_minor": 0
      },
      "text/plain": [
       "0it [00:00, ?it/s]"
      ]
     },
     "metadata": {},
     "output_type": "display_data"
    }
   ],
   "source": [
    "d = {}\n",
    "idx = 0\n",
    "for i, sample in tqdm(enumerate(dataset)):\n",
    "    #assert len(sample.all_couple_interactions) == 1\n",
    "    couple = sample.all_couple_interactions[0]['couple']\n",
    "    gene1, gene2 = sample.gene1, sample.gene2\n",
    "    if gene1 + '_' + gene2 == couple:\n",
    "        are_swapped = False\n",
    "    elif gene2 + '_' + gene1 == couple:\n",
    "        are_swapped = True\n",
    "    else:\n",
    "        assert False\n",
    "    if are_swapped:\n",
    "        gene1, gene2 = gene2, gene1\n",
    "        y1, y2, x1, x2 = sample.bbox.coords\n",
    "    else:\n",
    "        x1, x2, y1, y2 = sample.bbox.coords\n",
    "    subset = df[(df.gene1 == gene1)&(df.gene2 == gene2)]\n",
    "    theonlyone = subset.shape[0] == 1\n",
    "    for _, row in subset.iterrows():\n",
    "        d[idx]={'gene1': gene1,\n",
    "                'x1':x1,\n",
    "                'x2':x2,\n",
    "                'real_interaction_x1': row.x1,\n",
    "                'real_interaction_x2': row.x1 + row.w,\n",
    "                'gene2': gene2,\n",
    "                'y1':y1,\n",
    "                'y2':y2,\n",
    "                'real_interaction_y1': row.y1,\n",
    "                'real_interaction_y2': row.y1 + row.h,\n",
    "                'theonlyone':theonlyone\n",
    "               }\n",
    "        idx+=1\n",
    "res = pd.DataFrame.from_dict(d, 'index')\n",
    "res2 = res[res.theonlyone == False]\n",
    "res = res[res.theonlyone == True]"
   ]
  },
  {
   "cell_type": "code",
   "execution_count": 25,
   "metadata": {},
   "outputs": [],
   "source": [
    "assert (\n",
    "    (res.x1<=res.real_interaction_x1)|(res.x2>=res.real_interaction_x2) &\n",
    "    ((res.y1<=res.real_interaction_y1)|(res.y2>=res.real_interaction_y2))\n",
    ").all()"
   ]
  },
  {
   "cell_type": "markdown",
   "metadata": {},
   "source": [
    "### Check if EasyNeg works"
   ]
  },
  {
   "cell_type": "code",
   "execution_count": 28,
   "metadata": {},
   "outputs": [
    {
     "data": {
      "application/vnd.jupyter.widget-view+json": {
       "model_id": "51565528a40044ee8bc9c8f71c195698",
       "version_major": 2,
       "version_minor": 0
      },
      "text/plain": [
       "0it [00:00, ?it/s]"
      ]
     },
     "metadata": {},
     "output_type": "display_data"
    }
   ],
   "source": [
    "d = {}\n",
    "idx = 0\n",
    "for i, sample in tqdm(enumerate(dataset)):\n",
    "    assert len(sample.all_couple_interactions) == 1\n",
    "    couple = sample.all_couple_interactions[0]['couple']\n",
    "    subset = df[(df.couples == couple)]\n",
    "    assert (subset.there_is_interaction == False).all()"
   ]
  },
  {
   "cell_type": "markdown",
   "metadata": {},
   "source": [
    "### Check if HardNeg works"
   ]
  },
  {
   "cell_type": "code",
   "execution_count": 32,
   "metadata": {},
   "outputs": [
    {
     "data": {
      "application/vnd.jupyter.widget-view+json": {
       "model_id": "f6e81c7e322547e2a9c1fc23373ceb75",
       "version_major": 2,
       "version_minor": 0
      },
      "text/plain": [
       "0it [00:00, ?it/s]"
      ]
     },
     "metadata": {},
     "output_type": "display_data"
    }
   ],
   "source": [
    "d = {}\n",
    "idx = 0\n",
    "for i, sample in tqdm(enumerate(dataset)):\n",
    "    #assert len(sample.all_couple_interactions) == 1\n",
    "    couple = sample.all_couple_interactions[0]['couple']\n",
    "    gene1, gene2 = sample.gene1, sample.gene2\n",
    "    if gene1 + '_' + gene2 == couple:\n",
    "        are_swapped = False\n",
    "    elif gene2 + '_' + gene1 == couple:\n",
    "        are_swapped = True\n",
    "    else:\n",
    "        assert False\n",
    "    if are_swapped:\n",
    "        gene1, gene2 = gene2, gene1\n",
    "        y1, y2, x1, x2 = sample.bbox.coords\n",
    "    else:\n",
    "        x1, x2, y1, y2 = sample.bbox.coords\n",
    "    subset = df[(df.gene1 == gene1)&(df.gene2 == gene2)]\n",
    "    assert (subset.there_is_interaction == True).all()\n",
    "    theonlyone = subset.shape[0] == 1\n",
    "    for _, row in subset.iterrows():\n",
    "        d[idx]={'gene1': gene1,\n",
    "                'x1':x1,\n",
    "                'x2':x2,\n",
    "                'real_interaction_x1': row.x1,\n",
    "                'real_interaction_x2': row.x1 + row.w,\n",
    "                'gene2': gene2,\n",
    "                'y1':y1,\n",
    "                'y2':y2,\n",
    "                'real_interaction_y1': row.y1,\n",
    "                'real_interaction_y2': row.y1 + row.h,\n",
    "                'theonlyone':theonlyone\n",
    "               }\n",
    "        idx+=1\n",
    "res = pd.DataFrame.from_dict(d, 'index')\n",
    "res2 = res[res.theonlyone == False]\n",
    "res = res[res.theonlyone == True]"
   ]
  },
  {
   "cell_type": "code",
   "execution_count": 33,
   "metadata": {},
   "outputs": [],
   "source": [
    "assert ((res.x2<=res.real_interaction_x1)|(res.x1>=res.real_interaction_x2)|\n",
    "        (res.y2<=res.real_interaction_y1)|(res.y1>=res.real_interaction_y2)\n",
    "       ).all()"
   ]
  }
 ],
 "metadata": {
  "kernelspec": {
   "display_name": "Python 3 (ipykernel)",
   "language": "python",
   "name": "python3"
  },
  "language_info": {
   "codemirror_mode": {
    "name": "ipython",
    "version": 3
   },
   "file_extension": ".py",
   "mimetype": "text/x-python",
   "name": "python",
   "nbconvert_exporter": "python",
   "pygments_lexer": "ipython3",
   "version": "3.10.10"
  },
  "vscode": {
   "interpreter": {
    "hash": "28f202d77f1a85c5cab767fd2089c1bba19c245ba743de17ef12d30078485197"
   }
  }
 },
 "nbformat": 4,
 "nbformat_minor": 4
}
