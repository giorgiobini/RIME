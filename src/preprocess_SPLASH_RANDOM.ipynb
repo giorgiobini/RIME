{
 "cells": [
  {
   "cell_type": "markdown",
   "id": "75fd7e20-8dab-4f31-a886-2801a259b193",
   "metadata": {},
   "source": [
    "# Code"
   ]
  },
  {
   "cell_type": "code",
   "execution_count": 1,
   "id": "685f531f",
   "metadata": {},
   "outputs": [],
   "source": [
    "import pandas as pd\n",
    "import os\n",
    "import time\n",
    "import numpy as np\n",
    "import sys\n",
    "from tqdm.notebook import tqdm\n",
    "from Bio import SeqIO\n",
    "import seaborn as sns\n",
    "import matplotlib.pyplot as plt\n",
    "sys.path.insert(0, '..')\n",
    "import dataset.preprocessing as utils\n",
    "from config import *"
   ]
  },
  {
   "cell_type": "markdown",
   "id": "0c4ff3bd-6803-470d-a1bd-3a21e6d1e19b",
   "metadata": {},
   "source": [
    "### Pre-processing"
   ]
  },
  {
   "cell_type": "code",
   "execution_count": 2,
   "id": "53734622-d013-410e-aeda-cdc556c00319",
   "metadata": {},
   "outputs": [],
   "source": [
    "# import data and convert gene_names to ensambl ids\n",
    "\n",
    "info = utils.read_dataframe(os.path.join(original_files_dir, 'splash', 'annotation_parsed_genesymbol.txt'))\n",
    "adri_mart =  utils.read_dataframe(os.path.join(original_files_dir, 'annotation_by_biomaRt_hs.txt'))[['ensembl_gene_id', 'external_gene_name']].drop_duplicates('external_gene_name')\n",
    "info = info.merge(adri_mart, left_on = 'GENESYMBOL', right_on = 'external_gene_name').drop('external_gene_name', axis = 1).rename({'ensembl_gene_id':'gene_id'}, axis = 1)"
   ]
  },
  {
   "cell_type": "code",
   "execution_count": 3,
   "id": "6e015e49-8d13-4471-9f58-3e67aa798f65",
   "metadata": {},
   "outputs": [],
   "source": [
    "# adri_mart =  utils.read_dataframe(os.path.join(original_files_dir, 'annotation_by_biomaRt_hs.txt'))[['ensembl_gene_id', 'external_gene_name']].drop_duplicates('external_gene_name')\n",
    "# mart_export = pd.read_csv(os.path.join(original_files_dir, 'splash', 'mart_export.txt')).drop_duplicates('Gene name')\n",
    "# mart_export2 = pd.read_csv(os.path.join(original_files_dir, 'splash', 'mart_export_synonyms.txt')).drop_duplicates('Gene name')\n",
    "\n",
    "# info_adri, other = info[info.GENESYMBOL.isin(set(adri_mart.external_gene_name))], info[~info.GENESYMBOL.isin(set(adri_mart.external_gene_name))]\n",
    "# assert info.shape[0] == info_adri.shape[0] + other.shape[0]\n",
    "# info_adri = info_adri.merge(adri_mart, left_on = 'GENESYMBOL', right_on = 'external_gene_name', how = 'left').drop('external_gene_name', axis = 1).rename({'ensembl_gene_id':'gene_id'}, axis = 1)\n",
    "\n",
    "# info_mart, other2 = other[other.GENESYMBOL.isin(set(mart_export['Gene name']))], other[~other.GENESYMBOL.isin(set(mart_export['Gene name']))]\n",
    "# assert info.shape[0] == info_adri.shape[0] + info_mart.shape[0] + other2.shape[0]\n",
    "# info_mart = info_mart.merge(mart_export, left_on = 'GENESYMBOL', right_on = 'Gene name').drop('Gene name', axis = 1).rename({'Gene stable ID':'gene_id'}, axis = 1)\n",
    "\n",
    "# info_mart2, other3 = other2[other2.GENESYMBOL.isin(set(mart_export2['Gene name']))], other2[~other2.GENESYMBOL.isin(set(mart_export2['Gene name']))]\n",
    "# assert info.shape[0] == info_adri.shape[0] + info_mart.shape[0] + info_mart2.shape[0] + other3.shape[0]\n",
    "# info_mart2 = info_mart2.merge(mart_export2, left_on = 'GENESYMBOL', right_on = 'Gene name').drop('Gene name', axis = 1).rename({'Gene stable ID':'gene_id'}, axis = 1)\n",
    "\n",
    "# info = pd.concat([info_adri, info_mart, info_mart2], axis = 0)"
   ]
  },
  {
   "cell_type": "code",
   "execution_count": 4,
   "id": "d99561c2-44ae-495a-9ecd-9150e09afc0f",
   "metadata": {},
   "outputs": [],
   "source": [
    "# import data\n",
    "fasta_file_path = os.path.join(original_files_dir, 'splash', 'our_transcriptome_ncrna-added-dedup.fa')\n",
    "\n",
    "names = []\n",
    "cdnas = []\n",
    "\n",
    "for fasta in SeqIO.parse(open(fasta_file_path), 'fasta'):\n",
    "    name = str(fasta.description).split(' ')[0]\n",
    "    cdnas.append(str(fasta.seq))\n",
    "    names.append(name)\n",
    "\n",
    "df_cdna = pd.DataFrame({'gene_name':names, 'cdna':cdnas})\n",
    "\n",
    "df_genes = df_cdna.merge(info, left_on = 'gene_name', right_on = 'GENESYMBOL').drop(['RefSeq', 'GENESYMBOL'], axis = 1)\n",
    "df_genes = df_genes.rename({'CDS_start':'UTR5', 'CDS_end':'CDS'}, axis = 1)\n",
    "\n",
    "df_genes['length'] = df_genes.cdna.apply(lambda x: len(x))\n",
    "df_genes['UTR3'] = df_genes['length']\n",
    "\n",
    "df_genes['protein_coding'] = True\n",
    "df_genes.loc[df_genes['UTR5'].isna(), 'UTR3'] = np.nan\n",
    "df_genes.loc[df_genes['UTR5'].isna(), 'protein_coding'] = False\n",
    "df_genes['species_set'] = 'human'\n",
    "df_genes = df_genes[['gene_id', 'gene_name', 'cdna', 'length', 'UTR5', 'CDS', 'UTR3', 'protein_coding', 'species_set']]\n",
    "df_genes[['UTR3', 'UTR5', 'CDS']] = df_genes[['UTR3', 'UTR5', 'CDS']].apply(pd.to_numeric)\n",
    "df_genes.to_csv(os.path.join(processed_files_dir, f'df_genes_splash.csv'), index = False)"
   ]
  },
  {
   "cell_type": "code",
   "execution_count": 5,
   "id": "3f03800f-c136-44c2-8cdf-327278542668",
   "metadata": {},
   "outputs": [
    {
     "name": "stdout",
     "output_type": "stream",
     "text": [
      "We lost 71 interactions because of mart merge between gene name and ensamble gene id\n"
     ]
    }
   ],
   "source": [
    "#import data\n",
    "\n",
    "filename = os.path.join(original_files_dir, 'splash', 'splash_interactions.bed')\n",
    "\n",
    "rows = []\n",
    "with open(filename)as f:\n",
    "    for line in f:\n",
    "        L = line.strip().split()\n",
    "        rows.append(L)\n",
    "        \n",
    "all_interactions = pd.DataFrame(rows, columns = ['gene_id1', 'x1', 'x2', 'gene_id2', 'y1', 'y2', 'cell_line', 'boh1', 'boh2', 'boh3'] ).drop(['boh1', 'boh2', 'boh3'], axis = 1)\n",
    "all_interactions[['x1', 'x2', 'y1', 'y2']] = all_interactions[['x1', 'x2', 'y1', 'y2']].apply(pd.to_numeric)\n",
    "\n",
    "#change gene name with esnable gene id\n",
    "original_shape = all_interactions.shape[0]\n",
    "\n",
    "all_interactions = all_interactions.merge(df_genes[['gene_id', 'gene_name']], left_on = 'gene_id1', right_on = 'gene_name').drop(\n",
    "    ['gene_id1', 'gene_name'], axis = 1).rename({'gene_id': 'gene_id1'}, axis = 1)\n",
    "\n",
    "all_interactions = all_interactions.merge(df_genes[['gene_id', 'gene_name']], left_on = 'gene_id2', right_on = 'gene_name').drop(\n",
    "    ['gene_id2', 'gene_name'], axis = 1).rename({'gene_id': 'gene_id2'}, axis = 1)\n",
    "\n",
    "new_shape = all_interactions.shape[0]\n",
    "\n",
    "print(f'We lost {original_shape - new_shape} interactions because of mart merge between gene name and ensamble gene id')"
   ]
  },
  {
   "cell_type": "code",
   "execution_count": 6,
   "id": "7617536b-7ddd-44ec-b8a5-46dced406f59",
   "metadata": {},
   "outputs": [
    {
     "data": {
      "application/vnd.jupyter.widget-view+json": {
       "model_id": "ef223864c71c4460af58cf787e9cacf7",
       "version_major": 2,
       "version_minor": 0
      },
      "text/plain": [
       "  0%|          | 0/1086 [00:00<?, ?it/s]"
      ]
     },
     "metadata": {},
     "output_type": "display_data"
    },
    {
     "name": "stdout",
     "output_type": "stream",
     "text": [
      "#interazioni prima 1494, #interazioni dopo: 1316\n",
      "#coppie 1086\n",
      "#interazioni dopo rimozione cds cds: 699\n",
      "#coppie dopo rimozione cds cds 635\n"
     ]
    }
   ],
   "source": [
    "# swap columns\n",
    "\n",
    "def swap_genes_if_needed(df):\n",
    "    original_dim = df.shape[0]\n",
    "    where = df.need_to_swap\n",
    "    df.loc[where, ['gene_id1', 'gene_id2']] = (df.loc[where, ['gene_id2', 'gene_id1']].values)\n",
    "    df.loc[where, ['x1', 'y1']] = (df.loc[where, ['y1', 'x1']].values)\n",
    "    df.loc[where, ['x2', 'y2']] = (df.loc[where, ['y2', 'x2']].values)\n",
    "    df = df.drop('need_to_swap', axis = 1)\n",
    "    df = df.drop_duplicates().reset_index(drop = True)\n",
    "    n_duplicates = original_dim - df.shape[0] \n",
    "    return df\n",
    "\n",
    "all_interactions[['couples', 'need_to_swap']] = all_interactions[['gene_id1', 'gene_id2']].apply(utils.create_pairs, axis = 1)\n",
    "all_interactions = swap_genes_if_needed(all_interactions)\n",
    "\n",
    "\n",
    "# merge cell_line\n",
    "\n",
    "all_couples = set(all_interactions.couples)\n",
    "\n",
    "couples = []\n",
    "cell_lines = []\n",
    "for couple in all_couples:\n",
    "    couples.append(couple)\n",
    "    list_of_cell_lines = list(all_interactions[all_interactions.couples == couple].cell_line.value_counts().index)\n",
    "    cell_lines.append(','.join(list_of_cell_lines))\n",
    "df_cell_lines = pd.DataFrame({'couples':couples, 'cell_lines':cell_lines})\n",
    "\n",
    "df_cell_lines['HeLa'] = df_cell_lines['cell_lines'].str.contains('HeLa').astype(int)\n",
    "df_cell_lines['ES'] = df_cell_lines['cell_lines'].str.contains('ES').astype(int)\n",
    "df_cell_lines['RA'] = df_cell_lines['cell_lines'].str.contains('RA').astype(int)\n",
    "df_cell_lines['LCL'] = df_cell_lines['cell_lines'].str.contains('LCL').astype(int)\n",
    "\n",
    "all_interactions = df_cell_lines.merge(all_interactions, on = 'couples').drop(['cell_lines', 'cell_line'], axis = 1)\n",
    "all_interactions['w'] = all_interactions['x2'] - all_interactions['x1']\n",
    "all_interactions['h'] = all_interactions['y2'] - all_interactions['y1']\n",
    "all_interactions = all_interactions.drop(['x2', 'y2'], axis = 1)\n",
    "\n",
    "int_or = all_interactions\n",
    "\n",
    "# clean bounding boxes \n",
    "\n",
    "diz_int = {}\n",
    "idx = 0\n",
    "\n",
    "for couple in tqdm(int_or.couples.unique()):\n",
    "    subset = int_or[int_or.couples == couple]\n",
    "    list_of_boxes = subset.filter(['x1', 'y1', 'w', 'h']).values.tolist()\n",
    "    new_list_of_boxes = utils.clean_bounding_boxes(list_of_boxes)\n",
    "    row = int_or[int_or.couples == couple].iloc[0]\n",
    "    for box in new_list_of_boxes:\n",
    "        d = dict(row)\n",
    "        d['x1'] = box[0]\n",
    "        d['y1'] = box[1] \n",
    "        d['w'] = box[2]\n",
    "        d['h'] = box[3]\n",
    "        diz_int[idx] = d\n",
    "        idx+=1\n",
    "df_int = pd.DataFrame.from_dict(diz_int, 'index').rename({'gene_id1':'gene1', 'gene_id2':'gene2'}, axis = 1)\n",
    "\n",
    "print(f'#interazioni prima {int_or.shape[0]}, #interazioni dopo: {df_int.shape[0]}')\n",
    "print(f'#coppie {len(set(df_int.couples))}')\n",
    "\n",
    "df_int = df_int[['couples', 'gene1', 'gene2', 'x1', 'y1', 'w', 'h', 'HeLa', 'ES', 'RA', 'LCL']]\n",
    "\n",
    "#drop interactions in cds-cds\n",
    "\n",
    "def check_if_cds(x, df_genes):\n",
    "    df_genes1 = df_genes[df_genes.gene_id == x.gene1].iloc[0]\n",
    "    if df_genes1.protein_coding:\n",
    "        cds_interval1 = set(np.arange(df_genes1.UTR5, df_genes1.CDS))\n",
    "        interval1 = set(np.arange(x.x1, x.x1 + x.w))\n",
    "        cds1 = len(cds_interval1.intersection(interval1)) > 0\n",
    "    else:\n",
    "        cds1 = False\n",
    "    \n",
    "    df_genes2 = df_genes[df_genes.gene_id == x.gene2].iloc[0]\n",
    "    if df_genes2.protein_coding:\n",
    "        cds_interval2 = set(np.arange(df_genes2.UTR5, df_genes2.CDS))\n",
    "        interval2 = set(np.arange(x.y1, x.y1 + x.h))\n",
    "        cds2 = len(cds_interval2.intersection(interval2)) > 0\n",
    "    else:\n",
    "        cds2 = False\n",
    "\n",
    "    return cds1 & cds2\n",
    "\n",
    "\n",
    "df_int['cds_cds'] = df_int.apply(check_if_cds, args = (df_genes, ), axis = 1)\n",
    "df_int = df_int[~df_int.cds_cds]\n",
    "assert df_int.cds_cds.all() == False \n",
    "df_int = df_int.drop('cds_cds', axis = 1)\n",
    "\n",
    "print(f'#interazioni dopo rimozione cds cds: {df_int.shape[0]}')\n",
    "print(f'#coppie dopo rimozione cds cds {len(set(df_int.couples))}')"
   ]
  },
  {
   "cell_type": "code",
   "execution_count": 7,
   "id": "11f2f358-7cdc-4d4f-82b3-de1ab5b9ea6d",
   "metadata": {},
   "outputs": [],
   "source": [
    "#add features\n",
    "\n",
    "df_int = df_int.merge(df_genes[['gene_id', 'length', 'protein_coding']], left_on = 'gene1', right_on = 'gene_id').drop('gene_id', axis = 1).rename({'protein_coding':'protein_coding_1', 'length':'length_1'}, axis = 1)\n",
    "df_int = df_int.merge(df_genes[['gene_id', 'length', 'protein_coding']], left_on = 'gene2', right_on = 'gene_id').drop('gene_id', axis = 1).rename({'protein_coding':'protein_coding_2', 'length':'length_2'}, axis = 1)\n",
    "df_int['interacting'] = True"
   ]
  },
  {
   "cell_type": "code",
   "execution_count": 8,
   "id": "d75afdc5-d028-41b9-a469-2ccf6a258edb",
   "metadata": {},
   "outputs": [],
   "source": [
    "# correct w and h based on the length of the genes (they can exceed and this is wrong)\n",
    "df_int['exceed1'] = (df_int['x1'] + df_int['w']) - df_int['length_1']\n",
    "df_int['exceed2'] = (df_int['y1'] + df_int['h']) - df_int['length_2']\n",
    "\n",
    "df_int['exceed1'] = df_int['exceed1'].clip(lower = 0)\n",
    "df_int['exceed2'] = df_int['exceed2'].clip(lower = 0)\n",
    "\n",
    "df_int['w'] = df_int['w'] - df_int['exceed1']\n",
    "df_int['h'] = df_int['h'] - df_int['exceed2']\n",
    "\n",
    "df_int = df_int.drop(['exceed1', 'exceed2'], axis = 1)\n",
    "\n",
    "assert ((df_int.x1 + df_int.w) <= df_int.length_1).all()\n",
    "assert ((df_int.y1 + df_int.h) <= df_int.length_2).all()"
   ]
  },
  {
   "cell_type": "markdown",
   "id": "d97cc28d-d8b0-4942-ac84-ba4f729ed132",
   "metadata": {},
   "source": [
    "##  Creazione negativi (per linee cellulari)"
   ]
  },
  {
   "cell_type": "code",
   "execution_count": 9,
   "id": "a82e7849-4d44-49e5-b05f-b44f8fbafc72",
   "metadata": {
    "tags": []
   },
   "outputs": [],
   "source": [
    "#colleziono tutti i positivi, quelli che non potranno mai essere visti nel set dei negativi\n",
    "\n",
    "def order_genes(x):\n",
    "    x1, x2 = x.split('_')\n",
    "    return utils.get_couple_id(x1, x2)\n",
    "\n",
    "prohibited_couples = pd.read_csv(os.path.join(original_files_dir, 'prohibited_couples.txt'), sep = '\\t')\n",
    "prohibited_couples['messy_id'] = prohibited_couples['gene_id1'] + '_' + prohibited_couples['gene_id2']\n",
    "prohibited_couples['id'] = prohibited_couples['messy_id'].apply(order_genes)\n",
    "prohibited_interactions = set(prohibited_couples['id']).union(set(all_interactions.couples.apply(order_genes)))"
   ]
  },
  {
   "cell_type": "code",
   "execution_count": 10,
   "id": "3ed1432c-d640-4fa0-977c-54c4c106a752",
   "metadata": {},
   "outputs": [
    {
     "name": "stdout",
     "output_type": "stream",
     "text": [
      "how many to drop 259\n",
      "We have 552 pairs interacting (they can have multiple interactions) \n",
      "\n",
      "We have 1022 pairs not interacting \n",
      "\n"
     ]
    }
   ],
   "source": [
    "#creazione negativi (per linee cellulari)\n",
    "\n",
    "how_many_negatives_per_positive = 2 \n",
    "\n",
    "df_pairs_full = []\n",
    "for cell_line in ['HeLa', 'ES', 'RA', 'LCL']:\n",
    "    df_exp = df_int[df_int[cell_line] == 1][['gene1', 'gene2']].drop_duplicates().reset_index(drop = True)\n",
    "    df_exp['positive'] = df_exp['gene1'] + '_' + df_exp['gene2']\n",
    "    for i in range(how_many_negatives_per_positive):\n",
    "        df_exp['gene2'] = df_exp.sample(frac=1, replace=False, random_state=42).reset_index(drop = True)['gene2']\n",
    "        df_exp[f'negative{i}'] = df_exp['gene1'] + '_' + df_exp['gene2']\n",
    "    df_exp['cell_line'] = cell_line\n",
    "    df_pairs_full.append(df_exp[['positive', 'negative0', 'negative1', 'cell_line']])\n",
    "df_pairs_full = pd.concat(df_pairs_full, axis = 0)\n",
    "assert set(df_pairs_full.positive) == set(df_int['gene1'] + '_' + df_int['gene2'])\n",
    "\n",
    "df_pairs_full = pd.concat([\n",
    "    df_pairs_full[['positive', 'negative0', 'cell_line']].rename({'negative0':'negative'}, axis = 1),\n",
    "    df_pairs_full[['positive', 'negative1', 'cell_line']].rename({'negative1':'negative'}, axis = 1)\n",
    "], axis = 0)\n",
    "\n",
    "df_pairs_full['negative'] = df_pairs_full['negative'].apply(order_genes)\n",
    "df_pairs_full['positive'] = df_pairs_full['positive'].apply(order_genes)\n",
    "\n",
    "assert set(df_pairs_full.positive) == set((df_int['gene1'] + '_' + df_int['gene2']).apply(order_genes))\n",
    "\n",
    "to_drop = set(df_pairs_full['negative']).intersection(prohibited_interactions)\n",
    "\n",
    "print('how many to drop', len(to_drop))\n",
    "\n",
    "df_pairs_full = df_pairs_full[~df_pairs_full['negative'].isin(to_drop)]\n",
    "\n",
    "print(f'We have {len(set(df_pairs_full.positive))} pairs interacting (they can have multiple interactions) \\n')\n",
    "print(f'We have {len(set(df_pairs_full.negative))} pairs not interacting \\n')\n",
    "\n",
    "df_pairs_full.to_csv(os.path.join(processed_files_dir, 'df_pairs_full_RANDOM_SPLASH.csv'), index = False)"
   ]
  },
  {
   "cell_type": "markdown",
   "id": "95cdf380-89a7-40bc-9748-2ad67d6e7a93",
   "metadata": {},
   "source": [
    "#### Create fake negative interactions"
   ]
  },
  {
   "cell_type": "code",
   "execution_count": 11,
   "id": "33919897-cac8-4bec-9706-a46018de7e15",
   "metadata": {},
   "outputs": [],
   "source": [
    "df_pairs_full = pd.read_csv(os.path.join(processed_files_dir, 'df_pairs_full_RANDOM_SPLASH.csv'))\n",
    "df_int1 = df_int[['gene1', 'x1', 'w']].rename({'gene1':'gene', 'x1':'c1',  'w': 'l'}, axis = 1)\n",
    "df_int2 = df_int[['gene2', 'y1', 'h']].rename({'gene2':'gene', 'y1':'c1',  'h': 'l'}, axis = 1)\n",
    "df_int = df_int[['couples', 'gene1', 'gene2', \n",
    "             'interacting', 'length_1', 'length_2',\n",
    "             'protein_coding_1', 'protein_coding_2',\n",
    "             'x1', 'y1', 'w', 'h']]\n",
    "    \n",
    "df_coord = pd.concat([df_int1, df_int2], ignore_index = True)#.drop_duplicates().reset_index(drop = True)\n",
    "#df_coord may have duplicates. but this is something I want. If a gene appears more than once, I want it to be sampled according to its distribution."
   ]
  },
  {
   "cell_type": "code",
   "execution_count": 12,
   "id": "7d7c3ee3-deb3-4fe3-bdec-6b0cf60c7d9f",
   "metadata": {},
   "outputs": [
    {
     "name": "stdout",
     "output_type": "stream",
     "text": [
      "Total time: 0.06222622791926066 minutes\n"
     ]
    }
   ],
   "source": [
    "df_neg = df_pairs_full[['negative']].drop_duplicates().reset_index(drop = True)\n",
    "df_neg[['gene1', 'gene2']] = df_neg['negative'].str.split('_', expand = True)\n",
    "df_neg = df_neg.rename({'negative':'couples'}, axis = 1)\n",
    "df_neg['interacting'] = False\n",
    "df_neg = df_neg.merge(df_genes[['gene_id', 'length', 'protein_coding']], left_on = 'gene1', right_on = 'gene_id').drop('gene_id', axis = 1).rename({'length': 'length_1','protein_coding':'protein_coding_1'} , axis = 1)\n",
    "df_neg = df_neg.merge(df_genes[['gene_id', 'length', 'protein_coding']], left_on = 'gene2', right_on = 'gene_id').drop('gene_id', axis = 1).rename({'length': 'length_2','protein_coding':'protein_coding_2'} , axis = 1)\n",
    "\n",
    "assert set(df_neg.gene1).union(set(df_neg.gene2)) - set(df_coord.gene) == set()\n",
    "df_coord = df_coord.merge(\n",
    "    df_genes.filter(['gene_id', 'UTR5', 'CDS', 'UTR3', 'protein_coding'], axis = 1).rename({'gene_id':'gene'}, axis = 1)\n",
    ")\n",
    "df_coord['where_c1'] = df_coord.apply(utils.where_interacts, axis = 1)\n",
    "\n",
    "start_time = time.time()\n",
    "new_cols = df_neg[['couples', 'gene1', 'gene2']].apply(utils.create_fake_coord_neg, axis = 1, args = (df_coord,df_pairs_full,df_int,))\n",
    "print(f\"Total time: {(time.time()-start_time)/60} minutes\")\n",
    "\n",
    "new_cols = new_cols.apply(pd.Series).rename({0:'x1', 1:'y1', 2:'w', 3:'h'}, axis = 1)\n",
    "df_neg = pd.concat([df_neg, new_cols], axis = 1)\n",
    "df = pd.concat([df_int, df_neg], ignore_index = True, axis = 0)\n",
    "\n",
    "df.to_csv(os.path.join(processed_files_dir, f'final_splash_RANDOM.csv'), index = False)"
   ]
  },
  {
   "cell_type": "markdown",
   "id": "fcb07efb-a01b-4f05-b240-e6d8c0076b7e",
   "metadata": {},
   "source": [
    "### Now I do checks"
   ]
  },
  {
   "cell_type": "code",
   "execution_count": 13,
   "id": "4aeb7e09-3dc3-4640-b8a3-8214b42ca63f",
   "metadata": {},
   "outputs": [
    {
     "data": {
      "application/vnd.jupyter.widget-view+json": {
       "model_id": "1eb033b15b5e4b2fa4d7fce68c784ad7",
       "version_major": 2,
       "version_minor": 0
      },
      "text/plain": [
       "  0%|          | 0/1022 [00:00<?, ?it/s]"
      ]
     },
     "metadata": {},
     "output_type": "display_data"
    },
    {
     "name": "stdout",
     "output_type": "stream",
     "text": [
      "112.13% in 0.012511046727498372 minutes\n",
      "Total time: 0.028184346357981362 minutes\n"
     ]
    }
   ],
   "source": [
    "df = pd.read_csv(os.path.join(processed_files_dir, f'final_splash_RANDOM.csv'))\n",
    "df_neg, df_int = df[df.interacting == False], df[df.interacting == True]\n",
    "\n",
    "# mario: 0. min\n",
    "# ricseq: min\n",
    "#check if it worked\n",
    "start_time = time.time()\n",
    "for _, row in tqdm(df_neg.iterrows(), total = df_neg.shape[0]):\n",
    "    g1 = row.gene1\n",
    "    g2 = row.gene2\n",
    "    assert [row.x1, row.w] in df_coord[df_coord.gene == g1][['c1', 'l']].values\n",
    "    assert [row.y1, row.h] in df_coord[df_coord.gene == g2][['c1', 'l']].values\n",
    "    if np.random.rand() < 0.0003: #progress\n",
    "        print(f\"{np.round(_/df_neg.shape[0] * 100, 2)}% in {(time.time()-start_time)/60} minutes\")\n",
    "print(f\"Total time: {(time.time()-start_time)/60} minutes\")"
   ]
  },
  {
   "cell_type": "code",
   "execution_count": 14,
   "id": "2d85e053-582d-478c-a7df-b57f6504f906",
   "metadata": {},
   "outputs": [],
   "source": [
    "#check if it worked\n",
    "assert (df.x1 <= df.length_1).all()\n",
    "assert (df.y1 <= df.length_2).all()"
   ]
  },
  {
   "cell_type": "code",
   "execution_count": 15,
   "id": "c06e17b6-6462-4079-89be-be9e4af8d046",
   "metadata": {},
   "outputs": [],
   "source": [
    "assert ((df_int.x1 + df_int.w) <= df_int.length_1).all()\n",
    "assert ((df_int.y1 + df_int.h) <= df_int.length_2).all()\n",
    "\n",
    "assert ((df_neg.x1 + df_neg.w) <= df_neg.length_1).all()\n",
    "assert ((df_neg.y1 + df_neg.h) <= df_neg.length_2).all()\n"
   ]
  },
  {
   "cell_type": "code",
   "execution_count": 16,
   "id": "3f971e64-2367-48a0-bc4f-84e417d6325e",
   "metadata": {},
   "outputs": [],
   "source": [
    "how = 'ricseq'"
   ]
  },
  {
   "cell_type": "markdown",
   "id": "0c76fa99-8ec7-4a67-ac13-3ef56bc9169d",
   "metadata": {},
   "source": [
    "Now I do checks "
   ]
  },
  {
   "cell_type": "code",
   "execution_count": 17,
   "id": "74d2a2ea-1614-49c4-bed9-43e2554bc123",
   "metadata": {},
   "outputs": [],
   "source": [
    "df = pd.read_csv(os.path.join(processed_files_dir, f'final_SPLASH_RANDOM.csv'))"
   ]
  },
  {
   "cell_type": "code",
   "execution_count": 18,
   "id": "fd2c57a4-de75-4348-ace1-522415a35a30",
   "metadata": {},
   "outputs": [],
   "source": [
    "df_neg = df[df.interacting == False]"
   ]
  },
  {
   "cell_type": "code",
   "execution_count": 19,
   "id": "024607e2-1f50-4f76-b894-e2e6c27d5bf5",
   "metadata": {},
   "outputs": [
    {
     "data": {
      "application/vnd.jupyter.widget-view+json": {
       "model_id": "151a35ac73d64a7fa2cb44806240882a",
       "version_major": 2,
       "version_minor": 0
      },
      "text/plain": [
       "  0%|          | 0/1022 [00:00<?, ?it/s]"
      ]
     },
     "metadata": {},
     "output_type": "display_data"
    },
    {
     "name": "stdout",
     "output_type": "stream",
     "text": [
      "Total time: 0.028054463863372802 minutes\n"
     ]
    }
   ],
   "source": [
    "#check if it worked\n",
    "assert (df_neg.x1 <= df_neg.length_1).all()\n",
    "assert ((df_neg.x1 + df_neg.w) <= df_neg.length_1).all()\n",
    "assert (df_neg.y1 <= df_neg.length_2).all()\n",
    "assert ((df_neg.y1 + df_neg.h) <= df_neg.length_2).all()\n",
    "\n",
    "# mario: 0. min\n",
    "# ricseq: min\n",
    "#check if it worked\n",
    "start_time = time.time()\n",
    "for _, row in tqdm(df_neg.iterrows(), total = df_neg.shape[0]):\n",
    "    g1 = row.gene1\n",
    "    g2 = row.gene2\n",
    "    assert [row.x1, row.w] in df_coord[df_coord.gene == g1][['c1', 'l']].values\n",
    "    assert [row.y1, row.h] in df_coord[df_coord.gene == g2][['c1', 'l']].values\n",
    "    if np.random.rand() < 0.0003: #progress\n",
    "        print(f\"{np.round(_/df_neg.shape[0] * 100, 2)}% in {(time.time()-start_time)/60} minutes\")\n",
    "print(f\"Total time: {(time.time()-start_time)/60} minutes\")"
   ]
  },
  {
   "cell_type": "markdown",
   "id": "77e9405b-f2ba-4cda-a93e-e0290fca5cf2",
   "metadata": {},
   "source": [
    "# Plots "
   ]
  },
  {
   "cell_type": "markdown",
   "id": "f07e0918-86de-4b38-b88d-414dcc4ae831",
   "metadata": {},
   "source": [
    "### Interaction Length distribution"
   ]
  },
  {
   "cell_type": "code",
   "execution_count": 20,
   "id": "c78e90ec-84bb-47a5-80da-70740f5f353e",
   "metadata": {},
   "outputs": [],
   "source": [
    "df = pd.read_csv(os.path.join(processed_files_dir, f'final_splash_RANDOM.csv'))"
   ]
  },
  {
   "cell_type": "code",
   "execution_count": 10,
   "id": "08b1d8d7-fd1c-46af-bf0a-0c12e086e9b3",
   "metadata": {},
   "outputs": [
    {
     "name": "stdout",
     "output_type": "stream",
     "text": [
      "median = 102.0 nucleotides\n"
     ]
    },
    {
     "data": {
      "image/png": "[encoded data removed]",
      "text/plain": [
       "<Figure size 432x288 with 1 Axes>"
      ]
     },
     "metadata": {
      "needs_background": "light"
     },
     "output_type": "display_data"
    }
   ],
   "source": [
    "df_int = df[df.interacting]\n",
    "lengths = list(pd.concat([df_int.w, df_int.h]))\n",
    "print(f'median = {np.median(lengths)} nucleotides')\n",
    "sns.kdeplot(lengths, color = 'blue')\n",
    "plt.title(f'Interaction length distribution')\n",
    "plt.show()"
   ]
  },
  {
   "cell_type": "markdown",
   "id": "2d45bf25-1bb3-4c3f-9beb-fac7423f8f93",
   "metadata": {},
   "source": [
    "### CDS-CDS enrichment?"
   ]
  },
  {
   "cell_type": "code",
   "execution_count": 22,
   "id": "e15bc0de-3844-43bf-a376-ef9179a35dec",
   "metadata": {},
   "outputs": [],
   "source": [
    "df = pd.read_csv(os.path.join(processed_files_dir, f'final_SPLASH_RANDOM.csv')) #final_df_RANDOM\n",
    "df_genes = pd.read_csv(os.path.join(processed_files_dir, 'df_genes_splash.csv'))[['gene_id', 'CDS', 'UTR5', 'UTR3']]"
   ]
  },
  {
   "cell_type": "code",
   "execution_count": 23,
   "id": "2ad23cb0-5da3-428c-9025-614366c94f96",
   "metadata": {},
   "outputs": [],
   "source": [
    "def create_interactions_columns(df, df_genes):\n",
    "\n",
    "    df = df.merge(df_genes, left_on = 'gene1', right_on = 'gene_id')\n",
    "    df['where_x1'] = 'none'\n",
    "    df.loc[(df.x1 < df.UTR5), 'where_x1'] = 'UTR5'\n",
    "    df.loc[(df.x1 >= df.UTR5)&(df.x1 < df.CDS), 'where_x1'] = 'CDS'\n",
    "    df.loc[(df.x1 >= df.CDS), 'where_x1'] = 'UTR3'\n",
    "    df = df.drop(['gene_id', 'UTR5', 'CDS', 'UTR3'], axis = 1)\n",
    "    \n",
    "    df = df.merge(df_genes, left_on = 'gene2', right_on = 'gene_id')\n",
    "    df['where_y1'] = 'none'\n",
    "    df.loc[(df.y1 < df.UTR5), 'where_y1'] = 'UTR5'\n",
    "    df.loc[(df.y1 >= df.UTR5)&(df.y1 < df.CDS), 'where_y1'] = 'CDS'\n",
    "    df.loc[(df.y1 >= df.CDS), 'where_y1'] = 'UTR3'\n",
    "    df = df.drop(['gene_id', 'UTR5', 'CDS', 'UTR3'], axis = 1)\n",
    "    return df\n",
    "\n",
    "def where_interacts(x):\n",
    "    a,b = sorted([x.where_x1, x.where_y1])\n",
    "    return a + '-' + b\n",
    "\n",
    "df = create_interactions_columns(df, df_genes)\n",
    "df['where'] = df.apply(where_interacts,axis = 1)"
   ]
  },
  {
   "cell_type": "code",
   "execution_count": 24,
   "id": "73c25dc6-44c1-4dcd-9db4-be133f9906c8",
   "metadata": {},
   "outputs": [],
   "source": [
    "def plot_interaction_region(df):\n",
    "    df_int, df_neg = df[df.interacting == True], df[df.interacting == False]\n",
    "    \n",
    "    # PLOT \n",
    "    categories = list(set(df_int['where'].value_counts().index).union(df_neg['where'].value_counts().index))\n",
    "\n",
    "    neg = df_neg['where'].value_counts()\n",
    "    neg = pd.Series([neg.get(key, 0) for key in categories], index=categories)\n",
    "\n",
    "    pos = df_int['where'].value_counts()\n",
    "    pos = pd.Series([pos.get(key, 0) for key in categories], index=categories)\n",
    "\n",
    "    values1 = pos.values\n",
    "\n",
    "    values2 = neg.values\n",
    "\n",
    "    total1 = sum(values1)\n",
    "    total2 = sum(values2)\n",
    "\n",
    "    percentages1 = np.array([value / total1 * 100 for value in values1])\n",
    "    percentages2 = np.array([value / total2 * 100 for value in values2])\n",
    "\n",
    "    bar_width = 0.35\n",
    "    index = np.arange(len(categories))\n",
    "\n",
    "    fig, ax = plt.subplots(figsize=(12, 8))\n",
    "    bar1 = ax.bar(index, percentages1, bar_width, label='Positive Distribution', color='skyblue')\n",
    "    bar2 = ax.bar(index + bar_width, percentages2, bar_width, label='Negative Distribution', color='orange')\n",
    "\n",
    "    ax.set_xlabel('Categories')\n",
    "    ax.set_ylabel('Percentage')\n",
    "    ax.set_title('Comparison of Two Distributions')\n",
    "    ax.set_xticks(index + bar_width / 2)\n",
    "    ax.set_xticklabels(categories, rotation=45, ha='right')\n",
    "    ax.legend()\n",
    "\n",
    "    plt.tight_layout()\n",
    "    plt.show()"
   ]
  },
  {
   "cell_type": "code",
   "execution_count": 25,
   "id": "8d41a0b8-d0d6-4fc8-8c09-7e176d98f29c",
   "metadata": {},
   "outputs": [
    {
     "data": {
      "image/png": "[encoded data removed]",
      "text/plain": [
       "<Figure size 864x576 with 1 Axes>"
      ]
     },
     "metadata": {
      "needs_background": "light"
     },
     "output_type": "display_data"
    }
   ],
   "source": [
    "plot_interaction_region(df)"
   ]
  },
  {
   "cell_type": "markdown",
   "id": "49700f4a-dbf6-41b0-9e39-5f8a10c9c447",
   "metadata": {},
   "source": [
    "# Create train-test"
   ]
  },
  {
   "cell_type": "code",
   "execution_count": 30,
   "id": "4573e5ba-caf2-4dd9-86dc-31c53b9f2103",
   "metadata": {},
   "outputs": [],
   "source": [
    "from dataset.train_test_val_utils import train_test_split_from_df_pairs\n",
    "import pickle\n",
    "\n",
    "PERC_TRAIN = 0.75\n",
    "\n",
    "splash_dir = '/data01/giorgio/RNARNA-NT/dataset/rna_rna_pairs/SPLASH'\n",
    "\n",
    "if not os.path.exists(splash_dir):\n",
    "    os.makedirs(splash_dir)\n",
    "\n",
    "file_training = os.path.join(splash_dir, 'training.txt')\n",
    "file_test = os.path.join(splash_dir, 'test.txt')"
   ]
  },
  {
   "cell_type": "code",
   "execution_count": 31,
   "id": "8e66f565-3daa-4eec-bae8-1029b26bbc94",
   "metadata": {},
   "outputs": [],
   "source": [
    "df_pairs_full = pd.read_csv(os.path.join(processed_files_dir, 'df_pairs_full_RANDOM_SPLASH.csv'))\n",
    "\n",
    "df_pairs_full['gene1'] = df_pairs_full.positive.str.split('_', expand = True)[0]\n",
    "df_pairs_full['gene2'] = df_pairs_full.positive.str.split('_', expand = True)[1]\n",
    "\n",
    "df_pairs_full['gene1_neg'] = df_pairs_full.negative.str.split('_', expand = True)[0]\n",
    "df_pairs_full['gene2_neg'] = df_pairs_full.negative.str.split('_', expand = True)[1]"
   ]
  },
  {
   "cell_type": "code",
   "execution_count": 32,
   "id": "1e38a40e-5637-4209-8e2b-6c30ba5edea3",
   "metadata": {},
   "outputs": [],
   "source": [
    "all_pairs = set(df_pairs_full.positive).union(df_pairs_full.negative)\n",
    "\n",
    "gp_training, gp_test = train_test_split_from_df_pairs(df_pairs_full, percentage_training = PERC_TRAIN)\n",
    "train_couples = set(df_pairs_full[df_pairs_full.positive.isin(gp_training)].negative).union(gp_training)\n",
    "test_couples = set(df_pairs_full[df_pairs_full.positive.isin(gp_test)].negative).union(gp_test)\n",
    "\n",
    "\n",
    "train_couples = train_couples\n",
    "common_pairs = train_couples.intersection(test_couples)\n",
    "test_couples = test_couples - common_pairs\n",
    "assert set(test_couples).union(train_couples) == all_pairs\n",
    "\n",
    "with open(file_training, \"wb\") as fp:   #Pickling\n",
    "    pickle.dump(list(train_couples), fp)\n",
    "\n",
    "with open(file_test, \"wb\") as fp:   #Pickling\n",
    "    pickle.dump(list(test_couples), fp)"
   ]
  }
 ],
 "metadata": {
  "kernelspec": {
   "display_name": "Python 3 (ipykernel)",
   "language": "python",
   "name": "python3"
  },
  "language_info": {
   "codemirror_mode": {
    "name": "ipython",
    "version": 3
   },
   "file_extension": ".py",
   "mimetype": "text/x-python",
   "name": "python",
   "nbconvert_exporter": "python",
   "pygments_lexer": "ipython3",
   "version": "3.9.7"
  }
 },
 "nbformat": 4,
 "nbformat_minor": 5
}
