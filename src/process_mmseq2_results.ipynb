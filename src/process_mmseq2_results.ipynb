{
 "cells": [
  {
   "cell_type": "code",
   "execution_count": 1,
   "id": "1cdf6c31",
   "metadata": {},
   "outputs": [],
   "source": [
    "its_jupyter_notebook = True\n",
    "\n",
    "import sys\n",
    "import os\n",
    "import matplotlib.pyplot as plt\n",
    "import numpy as np\n",
    "import pandas as pd\n",
    "sys.path.insert(0, '..')\n",
    "import ast\n",
    "from tqdm.notebook import tqdm\n",
    "import pickle\n",
    "import seaborn as sns\n",
    "from Bio import SeqIO\n",
    "import re\n",
    "if its_jupyter_notebook:\n",
    "    sys.argv = [''] #Remove this if it's not a jupyter notebook!"
   ]
  },
  {
   "cell_type": "code",
   "execution_count": 2,
   "id": "a43d33c4",
   "metadata": {},
   "outputs": [],
   "source": [
    "ROOT_DIR = os.path.dirname(os.path.abspath('.'))\n",
    "processed_files_dir = os.path.join(ROOT_DIR, 'dataset', 'processed_files')\n",
    "rna_rna_files_dir = os.path.join(ROOT_DIR, 'dataset', 'rna_rna_pairs')\n",
    "mmseq_dir = os.path.join(processed_files_dir, 'mmseq2')\n",
    "cl_results = os.path.join(mmseq_dir, 'DB_clu_seq.fasta')"
   ]
  },
  {
   "cell_type": "code",
   "execution_count": 3,
   "id": "8ee5db50",
   "metadata": {},
   "outputs": [],
   "source": [
    "df_cdna = pd.read_csv(os.path.join(processed_files_dir, \"df_cdna.csv\"), sep = ',')\n",
    "df_genes = pd.read_csv(os.path.join(processed_files_dir, \"df_genes.csv\"), sep = ',')\n",
    "df = pd.read_csv(os.path.join(processed_files_dir, \"df_annotation_files_cleaned.csv\"), sep = ',')"
   ]
  },
  {
   "cell_type": "code",
   "execution_count": 4,
   "id": "39fd3d08-151c-42d0-ae7f-8f1556f5ac01",
   "metadata": {},
   "outputs": [],
   "source": [
    "#see https://github.com/soedinglab/mmseqs2/wiki#how-to-set-the-right-alignment-coverage-to-cluster\n",
    "n_clusters = 0\n",
    "res = {}\n",
    "fasta_sequences = SeqIO.parse(open(cl_results),'fasta')\n",
    "with open(cl_results) as out_file:\n",
    "    for _, fasta in enumerate(fasta_sequences):\n",
    "        name, sequence = fasta.description, str(fasta.seq)\n",
    "        \n",
    "        if len(sequence) == 0:\n",
    "            cl_name = str(n_clusters)\n",
    "            n_clusters += 1\n",
    "        else:\n",
    "            rgx = re.search('(.*) (.*)', name)\n",
    "            couple, gene = rgx.group(1), rgx.group(2) \n",
    "            res[_] = {\n",
    "                'couple': couple,\n",
    "                'gene':gene, \n",
    "                'cl_name':cl_name\n",
    "                 }\n",
    "df_res = pd.DataFrame.from_dict(res, 'index').reset_index(drop = True)\n",
    "\n",
    "df_res.to_csv(os.path.join(processed_files_dir, 'mmseq2_clusters.csv'), index = False)"
   ]
  }
 ],
 "metadata": {
  "kernelspec": {
   "display_name": "Python 3 (ipykernel)",
   "language": "python",
   "name": "python3"
  },
  "language_info": {
   "codemirror_mode": {
    "name": "ipython",
    "version": 3
   },
   "file_extension": ".py",
   "mimetype": "text/x-python",
   "name": "python",
   "nbconvert_exporter": "python",
   "pygments_lexer": "ipython3",
   "version": "3.9.7"
  }
 },
 "nbformat": 4,
 "nbformat_minor": 5
}
