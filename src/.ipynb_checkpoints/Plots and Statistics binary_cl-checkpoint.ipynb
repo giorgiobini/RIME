{
 "cells": [
  {
   "cell_type": "markdown",
   "id": "75fd7e20-8dab-4f31-a886-2801a259b193",
   "metadata": {
    "tags": []
   },
   "source": [
    "# Code"
   ]
  },
  {
   "cell_type": "code",
   "execution_count": null,
   "id": "a3b7acf7-7061-49e6-b0d7-8480984933f0",
   "metadata": {},
   "outputs": [],
   "source": [
    "its_jupyter_notebook = True"
   ]
  },
  {
   "cell_type": "code",
   "execution_count": null,
   "id": "685f531f",
   "metadata": {},
   "outputs": [],
   "source": [
    "import pandas as pd\n",
    "import os\n",
    "from pathlib import Path\n",
    "import matplotlib.pyplot as plt\n",
    "import time\n",
    "import numpy as np\n",
    "from torch.utils.data import DataLoader\n",
    "import torch\n",
    "import seaborn as sns\n",
    "import sys\n",
    "sys.path.insert(0, '..')\n",
    "import util.misc as utils\n",
    "from dataset.data import (\n",
    "    RNADataset,\n",
    "    ROOT_DIR,\n",
    "    EasyPosAugment,\n",
    "    InteractionSelectionPolicy,\n",
    "    EasyNegAugment,\n",
    "    HardPosAugment,\n",
    "    HardNegAugment,\n",
    "    RegionSpecNegAugment,\n",
    "    plot_sample,\n",
    "    seed_everything,\n",
    ")"
   ]
  },
  {
   "cell_type": "code",
   "execution_count": null,
   "id": "cfdaa078-478c-4e41-b3c6-57ae5a98fb33",
   "metadata": {},
   "outputs": [],
   "source": [
    "original_files_dir = os.path.join(ROOT_DIR, 'dataset', 'original_files')\n",
    "processed_files_dir = os.path.join(ROOT_DIR, 'dataset', 'processed_files')\n",
    "original_files_dir = os.path.join(ROOT_DIR, 'dataset', 'original_files')\n",
    "rna_rna_files_dir = os.path.join(ROOT_DIR, 'dataset', 'rna_rna_pairs')"
   ]
  },
  {
   "cell_type": "code",
   "execution_count": null,
   "id": "8f3d6377-850a-4643-9064-c11733390062",
   "metadata": {},
   "outputs": [
    {
     "name": "stderr",
     "output_type": "stream",
     "text": [
      "/home/gbini/miniconda3/envs/rnarna/lib/python3.9/site-packages/IPython/core/interactiveshell.py:3444: FutureWarning: In a future version of pandas all arguments of read_csv except for the argument 'filepath_or_buffer' will be keyword-only\n",
      "  exec(code_obj, self.user_global_ns, self.user_ns)\n",
      "/home/gbini/miniconda3/envs/rnarna/lib/python3.9/site-packages/IPython/core/interactiveshell.py:3444: DtypeWarning: Columns (5) have mixed types.Specify dtype option on import or set low_memory=False.\n",
      "  exec(code_obj, self.user_global_ns, self.user_ns)\n"
     ]
    }
   ],
   "source": [
    "rs_rg = pd.read_csv(os.path.join(original_files_dir, 'rise_paris_tr.new.mapped_interactions.tx_regions.txt'), '\\t')\n",
    "tr_anns = pd.read_csv(os.path.join(original_files_dir, 'tx_regions.ens84.txt'), sep = '\\t')\n",
    "ens_gene_mapping = pd.concat([rs_rg[['ensembl_transcript_id_1', 'gene_id1']].rename({'ensembl_transcript_id_1':'ensembl_transcript_id', 'gene_id1':'gene_id'}, axis = 1), \n",
    "           rs_rg[['ensembl_transcript_id_2', 'gene_id2']].rename({'ensembl_transcript_id_2':'ensembl_transcript_id',  'gene_id2':'gene_id'}, axis = 1)\n",
    "          ], axis = 0).drop_duplicates()\n",
    "tr_anns = tr_anns.merge(ens_gene_mapping, left_on = 'ensembl_transcript_id', right_on = 'ensembl_transcript_id', how = 'inner')"
   ]
  },
  {
   "cell_type": "code",
   "execution_count": null,
   "id": "826e3e04-f81d-45cd-80f2-8f5ba64694ac",
   "metadata": {},
   "outputs": [],
   "source": [
    "pos_width_multipliers = {3: 0.1, 5: 0.2, 7: 0.2, 9: 0.1, 10: 0.1, 11: 0.1, 18: 0.2}\n",
    "pos_height_multipliers = {3: 0.1, 5: 0.2, 7: 0.2, 9: 0.1, 10: 0.1, 11: 0.1, 18: 0.2}\n",
    "neg_width_windows = {(50, 80): 0.1, (80, 120): 0.25, (120, 200): 0.3, (200, 300): 0.17, (300, 400): 0.07, (400, 500): 0.03, (500, 512): 0.03}\n",
    "neg_height_windows = {(50, 80): 0.1, (80, 120): 0.25, (120, 200): 0.3, (200, 300): 0.17, (300, 400): 0.07, (400, 500): 0.03, (500, 512): 0.03}\n",
    "\n",
    "policies = [\n",
    "    EasyPosAugment(\n",
    "        per_sample=10,\n",
    "        interaction_selection=InteractionSelectionPolicy.LARGEST,\n",
    "        width_multipliers=pos_width_multipliers,\n",
    "        height_multipliers=pos_height_multipliers,\n",
    "    ),\n",
    "    EasyNegAugment(\n",
    "        per_sample=10,\n",
    "        width_windows=neg_width_windows,\n",
    "        height_windows=neg_height_windows,\n",
    "    ),\n",
    "    HardPosAugment(\n",
    "        per_sample=0.5,\n",
    "        interaction_selection=InteractionSelectionPolicy.RANDOM_ONE,\n",
    "        min_width_overlap=0.3,\n",
    "        min_height_overlap=0.3,\n",
    "        width_multipliers=pos_width_multipliers,\n",
    "        height_multipliers=pos_height_multipliers,\n",
    "    ),\n",
    "    HardNegAugment(\n",
    "        per_sample=0.5,\n",
    "        width_windows=neg_width_windows,\n",
    "        height_windows=neg_height_windows,\n",
    "    ),\n",
    "]\n",
    "    \n",
    "dataset_test = RNADataset(\n",
    "            gene_info_path=os.path.join(processed_files_dir, \"df_cdna.csv\"),\n",
    "            interactions_path=os.path.join(processed_files_dir,\"df_annotation_files_cleaned.csv\"), #subset_valentino.csv\n",
    "            dot_bracket_path=os.path.join(processed_files_dir,\"dot_bracket.txt\"),\n",
    "            df_genes_path = os.path.join(processed_files_dir,\"df_genes.csv\"),\n",
    "            subset_file = os.path.join(rna_rna_files_dir, \"gene_pairs_val_random_filtered.txt\"),\n",
    "            augment_policies=policies\n",
    "        )"
   ]
  },
  {
   "cell_type": "code",
   "execution_count": null,
   "id": "0bf390a8-ae47-414c-86bb-bc37c309a346",
   "metadata": {},
   "outputs": [],
   "source": [
    "batch_size = 64\n",
    "num_workers = 3\n",
    "sampler_train = torch.utils.data.RandomSampler(dataset_test)\n",
    "batch_sampler_train = torch.utils.data.BatchSampler(sampler_train, batch_size, drop_last=False)\n",
    "data_loader_train = DataLoader(dataset_test, batch_sampler=batch_sampler_train,\n",
    "                               collate_fn=utils.collate_fn, num_workers=num_workers)"
   ]
  },
  {
   "cell_type": "code",
   "execution_count": null,
   "id": "df494d32-3a96-46b2-97a0-baf670265fcd",
   "metadata": {},
   "outputs": [
    {
     "name": "stdout",
     "output_type": "stream",
     "text": [
      "Total time: 0.1273263692855835 minutes\n"
     ]
    }
   ],
   "source": [
    "start_time = time.time()\n",
    "n_runs = 100\n",
    "target_list = []\n",
    "for _, res in enumerate(data_loader_train):\n",
    "    [rna1, rna2], target = res\n",
    "    target_list.append(target)\n",
    "    if _ == n_runs:\n",
    "        break\n",
    "target_list = np.concatenate(target_list, axis = 0)\n",
    "print(f\"Total time: {(time.time() - start_time)/60} minutes\")"
   ]
  },
  {
   "cell_type": "code",
   "execution_count": null,
   "id": "db644899-df56-4ee9-b739-0a8e850dae5e",
   "metadata": {},
   "outputs": [],
   "source": [
    "def get_gene_features(gene):\n",
    "    row = tr_anns[tr_anns['gene_id'] == gene].iloc[0]\n",
    "    if row.UTR5 == '/':\n",
    "        return [np.nan, np.nan, np.nan, np.nan]\n",
    "    else:\n",
    "        UTR5_start = 0\n",
    "        UTR5_end = int(row.UTR5)\n",
    "        CDS_end = int(row.CDS)\n",
    "        UTR3_end = int(row.UTR3)\n",
    "        return [UTR5_start, UTR5_end, CDS_end, UTR3_end]\n",
    "    \n",
    "    \n",
    "def get_ratio_intervals(gene_name, window):\n",
    "    UTR5_start, UTR5_end, CDS_end, UTR3_end = get_gene_features(gene_name)   \n",
    "    if np.isnan(UTR5_start) == False:\n",
    "        UTR5 = range(UTR5_start, UTR5_end)\n",
    "        CDS = range(UTR5_end+1, CDS_end)\n",
    "        UTR3 = range(CDS_end+1, UTR3_end)\n",
    "        \n",
    "        UTR5_intersection = set(UTR5).intersection(window)\n",
    "        UTR5_ratio_interval = (len(UTR5_intersection))/(len(window))\n",
    "        \n",
    "        CDS_intersection = set(CDS).intersection(window)\n",
    "        CDS_ratio_interval = (len(CDS_intersection))/(len(window))\n",
    "        \n",
    "        UTR3_intersection = set(UTR3).intersection(window)\n",
    "        UTR3_ratio_interval = (len(UTR3_intersection))/(len(window))\n",
    "        \n",
    "        return [UTR5_ratio_interval, CDS_ratio_interval, UTR3_ratio_interval]\n",
    "    else:\n",
    "        return [0, 0, 0]"
   ]
  },
  {
   "cell_type": "code",
   "execution_count": null,
   "id": "85701b2e-7c07-4245-984a-463a77256671",
   "metadata": {},
   "outputs": [
    {
     "name": "stdout",
     "output_type": "stream",
     "text": [
      "Total time: 0.530395491917928 minutes\n"
     ]
    }
   ],
   "source": [
    "start_time = time.time()\n",
    "d = {}\n",
    "for t in target_list:\n",
    "    gene_name1 = t['gene1']\n",
    "    window1 = range(t['sample_bbox'].x1, t['sample_bbox'].x2)\n",
    "    UTR5_ratio_interval1, CDS_ratio_interval1, UTR3_ratio_interval1 = get_ratio_intervals(gene_name1, window1)\n",
    "    \n",
    "    if UTR5_ratio_interval1==CDS_ratio_interval1==UTR3_ratio_interval1==0:\n",
    "        protein_coding1 = False\n",
    "    else:\n",
    "        protein_coding1 = True\n",
    "    \n",
    "    gene_name2 = t['gene2']\n",
    "    window2 = range(t['sample_bbox'].y1, t['sample_bbox'].y2)\n",
    "    UTR5_ratio_interval2, CDS_ratio_interval2, UTR3_ratio_interval2 = get_ratio_intervals(gene_name2, window2)\n",
    "    if UTR5_ratio_interval2==CDS_ratio_interval2==UTR3_ratio_interval2==0:\n",
    "        protein_coding2 = False\n",
    "    else:\n",
    "        protein_coding2 = True\n",
    "    \n",
    "    \n",
    "    UTR5_UTR5 = UTR5_ratio_interval1 * UTR5_ratio_interval2\n",
    "    \n",
    "    UTR5_CDS = (UTR5_ratio_interval1 * CDS_ratio_interval2) + (UTR5_ratio_interval2 * CDS_ratio_interval1)\n",
    "    \n",
    "    UTR5_UTR3 = (UTR5_ratio_interval1 * UTR3_ratio_interval2) + (UTR5_ratio_interval2 * UTR3_ratio_interval1)\n",
    "    \n",
    "    CDS_CDS = CDS_ratio_interval1 * CDS_ratio_interval2\n",
    "    \n",
    "    CDS_UTR3 = (CDS_ratio_interval1 * UTR3_ratio_interval2) + (CDS_ratio_interval2 * UTR3_ratio_interval1)\n",
    "        \n",
    "    UTR3_UTR3 = UTR3_ratio_interval1 * UTR3_ratio_interval2\n",
    "    \n",
    "    d[gene_name1 + '_' + gene_name2] = {'UTR5_UTR5': UTR5_UTR5, 'UTR5_CDS': UTR5_CDS, 'UTR5_UTR3': UTR5_UTR3, \n",
    "                                        'CDS_CDS': CDS_CDS, 'CDS_UTR3': CDS_UTR3, 'UTR3_UTR3': UTR3_UTR3,\n",
    "                                        'policy': t['policy'], 'is_interacting': t['is_interacting'],\n",
    "                                        'protein_coding2':protein_coding2, 'protein_coding1':protein_coding1}\n",
    "print(f\"Total time: {(time.time() - start_time)/60} minutes\")"
   ]
  },
  {
   "cell_type": "code",
   "execution_count": null,
   "id": "13d4053c-e9f7-4623-94f9-617747e3a1dd",
   "metadata": {},
   "outputs": [],
   "source": [
    "df = pd.DataFrame.from_dict(d, orient = 'index')"
   ]
  },
  {
   "cell_type": "code",
   "execution_count": null,
   "id": "83a5c7ae-904f-4fd3-bf27-3b8ba094abf2",
   "metadata": {},
   "outputs": [
    {
     "data": {
      "text/plain": [
       "1    387\n",
       "Name: is_interacting, dtype: int64"
      ]
     },
     "execution_count": 34,
     "metadata": {},
     "output_type": "execute_result"
    }
   ],
   "source": [
    "df[df.policy == 'easypos'].is_interacting.value_counts()"
   ]
  },
  {
   "cell_type": "code",
   "execution_count": null,
   "id": "5857affc-6f78-4772-ad1e-e03f1b1ae031",
   "metadata": {},
   "outputs": [],
   "source": [
    "#both protein codings\n",
    "pc = df[((df['protein_coding1'] == True)&(df['protein_coding2'] == True))]"
   ]
  },
  {
   "cell_type": "code",
   "execution_count": null,
   "id": "b488299e-c599-4f31-be01-1d4814887dc0",
   "metadata": {},
   "outputs": [
    {
     "data": {
      "text/plain": [
       "0    34\n",
       "Name: is_interacting, dtype: int64"
      ]
     },
     "execution_count": 36,
     "metadata": {},
     "output_type": "execute_result"
    }
   ],
   "source": [
    "# number of negative and positive contact matrixes with a percentage of CDS-CDS pixel in the windows > 80%\n",
    "pc[pc.CDS_CDS > 0.8].is_interacting.value_counts()"
   ]
  },
  {
   "cell_type": "code",
   "execution_count": null,
   "id": "1d5ffd4d-e277-495f-b712-cb983c8e236f",
   "metadata": {
    "tags": []
   },
   "outputs": [],
   "source": [
    "functions = [sns.histplot, sns.kdeplot]\n",
    "f = functions[0]"
   ]
  },
  {
   "cell_type": "code",
   "execution_count": null,
   "id": "292164aa-0c7a-47e5-b9d5-0025089e168a",
   "metadata": {},
   "outputs": [],
   "source": [
    "def postive_vs_negative(f, subset):\n",
    "    f(pc[pc.is_interacting == 0][subset], color = 'red', label = 'negative')\n",
    "    f(pc[pc.is_interacting == 1][subset], color = 'blue', label = 'positive')\n",
    "    plt.title(f'{subset} composition')\n",
    "    plt.legend()\n",
    "    plt.show()"
   ]
  },
  {
   "cell_type": "code",
   "execution_count": null,
   "id": "0b7c2780-a9a1-43e0-ae5f-9ee55eff11a8",
   "metadata": {},
   "outputs": [
    {
     "data": {
      "image/png": "[encoded data removed]",
      "text/plain": [
       "<Figure size 432x288 with 1 Axes>"
      ]
     },
     "metadata": {
      "needs_background": "light"
     },
     "output_type": "display_data"
    }
   ],
   "source": [
    "postive_vs_negative(f, 'CDS_UTR3')"
   ]
  },
  {
   "cell_type": "code",
   "execution_count": null,
   "id": "88f55309-7f35-4733-a912-c36c3a6d5a11",
   "metadata": {},
   "outputs": [
    {
     "data": {
      "image/png": "[encoded data removed]",
      "text/plain": [
       "<Figure size 432x288 with 1 Axes>"
      ]
     },
     "metadata": {
      "needs_background": "light"
     },
     "output_type": "display_data"
    }
   ],
   "source": [
    "postive_vs_negative(f, 'CDS_CDS')"
   ]
  },
  {
   "cell_type": "code",
   "execution_count": null,
   "id": "153e2a1e-b0b4-4577-9570-1697179a1ee9",
   "metadata": {},
   "outputs": [
    {
     "data": {
      "image/png": "[encoded data removed]",
      "text/plain": [
       "<Figure size 432x288 with 1 Axes>"
      ]
     },
     "metadata": {
      "needs_background": "light"
     },
     "output_type": "display_data"
    }
   ],
   "source": [
    "postive_vs_negative(f, 'UTR5_CDS')"
   ]
  },
  {
   "cell_type": "code",
   "execution_count": null,
   "id": "9f5ac257-1985-4174-863c-eaf1e062ce44",
   "metadata": {},
   "outputs": [
    {
     "data": {
      "image/png": "[encoded data removed]",
      "text/plain": [
       "<Figure size 432x288 with 1 Axes>"
      ]
     },
     "metadata": {
      "needs_background": "light"
     },
     "output_type": "display_data"
    }
   ],
   "source": [
    "postive_vs_negative(f, 'UTR5_UTR3')"
   ]
  },
  {
   "cell_type": "code",
   "execution_count": null,
   "id": "5ee5a89e-d7ac-4bcc-8ed1-253ec8eea8f4",
   "metadata": {},
   "outputs": [
    {
     "data": {
      "image/png": "[encoded data removed]",
      "text/plain": [
       "<Figure size 432x288 with 1 Axes>"
      ]
     },
     "metadata": {
      "needs_background": "light"
     },
     "output_type": "display_data"
    }
   ],
   "source": [
    "postive_vs_negative(f, 'UTR3_UTR3')"
   ]
  },
  {
   "cell_type": "code",
   "execution_count": null,
   "id": "2dd26176-963c-4a92-927a-19a11da4e1d7",
   "metadata": {},
   "outputs": [
    {
     "name": "stderr",
     "output_type": "stream",
     "text": [
      "/home/gbini/miniconda3/envs/rnarna/lib/python3.9/site-packages/seaborn/distributions.py:316: UserWarning: Dataset has 0 variance; skipping density estimate. Pass `warn_singular=False` to disable this warning.\n",
      "  warnings.warn(msg, UserWarning)\n"
     ]
    },
    {
     "data": {
      "image/png": "[encoded data removed]",
      "text/plain": [
       "<Figure size 432x288 with 1 Axes>"
      ]
     },
     "metadata": {
      "needs_background": "light"
     },
     "output_type": "display_data"
    }
   ],
   "source": [
    "postive_vs_negative(f, 'UTR5_UTR5')"
   ]
  },
  {
   "cell_type": "code",
   "execution_count": null,
   "id": "b1f1c560-4ac7-42e1-a768-43acf291d1a4",
   "metadata": {},
   "outputs": [],
   "source": []
  },
  {
   "cell_type": "code",
   "execution_count": null,
   "id": "b5f8a54c-6cf8-4db0-880e-9e166bf03e02",
   "metadata": {},
   "outputs": [],
   "source": []
  },
  {
   "cell_type": "code",
   "execution_count": null,
   "id": "ad91b2b3-0216-4879-be38-2caa43b051f8",
   "metadata": {},
   "outputs": [],
   "source": [
    "df_anns = pd.read_csv(os.path.join(processed_files_dir,\"df_annotation_files_cleaned.csv\"), ',')"
   ]
  },
  {
   "cell_type": "code",
   "execution_count": null,
   "id": "901c37a8-8dc1-41ea-b62b-0f9c898cf1b3",
   "metadata": {},
   "outputs": [],
   "source": [
    "interacting = df_anns[df_anns.there_is_interaction]"
   ]
  },
  {
   "cell_type": "code",
   "execution_count": null,
   "id": "865f2ad2-fa6b-4ee3-a422-f871085be8eb",
   "metadata": {},
   "outputs": [
    {
     "name": "stdout",
     "output_type": "stream",
     "text": [
      "Total time: 4.7596826434135435 minutes\n"
     ]
    }
   ],
   "source": [
    "start_time = time.time()\n",
    "d = {}\n",
    "for _, x in interacting.iterrows():\n",
    "    gene_name1 = x.gene1\n",
    "    window1 = range((x.x1),(x.x1 + x.w))\n",
    "    UTR5_ratio_interval1, CDS_ratio_interval1, UTR3_ratio_interval1 = get_ratio_intervals(gene_name1, window1)\n",
    "    \n",
    "    if UTR5_ratio_interval1==CDS_ratio_interval1==UTR3_ratio_interval1==0:\n",
    "        protein_coding1 = False\n",
    "    else:\n",
    "        protein_coding1 = True\n",
    "    \n",
    "    gene_name2 = x.gene2\n",
    "    window2 = range((x.y1),(x.y1 + x.h))\n",
    "    UTR5_ratio_interval2, CDS_ratio_interval2, UTR3_ratio_interval2 = get_ratio_intervals(gene_name2, window2)\n",
    "    if UTR5_ratio_interval2==CDS_ratio_interval2==UTR3_ratio_interval2==0:\n",
    "        protein_coding2 = False\n",
    "    else:\n",
    "        protein_coding2 = True\n",
    "    \n",
    "    \n",
    "    UTR5_UTR5 = UTR5_ratio_interval1 * UTR5_ratio_interval2\n",
    "    \n",
    "    UTR5_CDS = (UTR5_ratio_interval1 * CDS_ratio_interval2) + (UTR5_ratio_interval2 * CDS_ratio_interval1)\n",
    "    \n",
    "    UTR5_UTR3 = (UTR5_ratio_interval1 * UTR3_ratio_interval2) + (UTR5_ratio_interval2 * UTR3_ratio_interval1)\n",
    "    \n",
    "    CDS_CDS = CDS_ratio_interval1 * CDS_ratio_interval2\n",
    "    \n",
    "    CDS_UTR3 = (CDS_ratio_interval1 * UTR3_ratio_interval2) + (CDS_ratio_interval2 * UTR3_ratio_interval1)\n",
    "        \n",
    "    UTR3_UTR3 = UTR3_ratio_interval1 * UTR3_ratio_interval2\n",
    "    \n",
    "    d[gene_name1 + '_' + gene_name2] = {'UTR5_UTR5': UTR5_UTR5, 'UTR5_CDS': UTR5_CDS, 'UTR5_UTR3': UTR5_UTR3, \n",
    "                                        'CDS_CDS': CDS_CDS, 'CDS_UTR3': CDS_UTR3, 'UTR3_UTR3': UTR3_UTR3,\n",
    "                                        'protein_coding2':protein_coding2, 'protein_coding1':protein_coding1}\n",
    "    \n",
    "print(f\"Total time: {(time.time() - start_time)/60} minutes\")"
   ]
  },
  {
   "cell_type": "code",
   "execution_count": null,
   "id": "2359a72e-b39d-4e43-8a90-c01d4e74ae27",
   "metadata": {},
   "outputs": [],
   "source": [
    "df_interacting = pd.DataFrame.from_dict(d, orient = 'index')\n",
    "pc_interacting = df_interacting[((df_interacting['protein_coding1'] == True)&(df_interacting['protein_coding2'] == True))]"
   ]
  },
  {
   "cell_type": "code",
   "execution_count": null,
   "id": "f9401330-fb13-483b-8889-b3fe0883549b",
   "metadata": {},
   "outputs": [
    {
     "data": {
      "text/html": [
       "<div>\n",
       "<style scoped>\n",
       "    .dataframe tbody tr th:only-of-type {\n",
       "        vertical-align: middle;\n",
       "    }\n",
       "\n",
       "    .dataframe tbody tr th {\n",
       "        vertical-align: top;\n",
       "    }\n",
       "\n",
       "    .dataframe thead th {\n",
       "        text-align: right;\n",
       "    }\n",
       "</style>\n",
       "<table border=\"1\" class=\"dataframe\">\n",
       "  <thead>\n",
       "    <tr style=\"text-align: right;\">\n",
       "      <th></th>\n",
       "      <th>UTR5_UTR5</th>\n",
       "      <th>UTR5_CDS</th>\n",
       "      <th>UTR5_UTR3</th>\n",
       "      <th>CDS_CDS</th>\n",
       "      <th>CDS_UTR3</th>\n",
       "      <th>UTR3_UTR3</th>\n",
       "      <th>protein_coding2</th>\n",
       "      <th>protein_coding1</th>\n",
       "    </tr>\n",
       "  </thead>\n",
       "  <tbody>\n",
       "    <tr>\n",
       "      <th>ENSG00000105576_ENSG00000158458</th>\n",
       "      <td>0.0</td>\n",
       "      <td>0.0</td>\n",
       "      <td>0.0</td>\n",
       "      <td>0.0</td>\n",
       "      <td>1.0</td>\n",
       "      <td>0.0</td>\n",
       "      <td>True</td>\n",
       "      <td>True</td>\n",
       "    </tr>\n",
       "    <tr>\n",
       "      <th>ENSMUSG00000021136_ENSMUSG00000037487</th>\n",
       "      <td>0.0</td>\n",
       "      <td>1.0</td>\n",
       "      <td>0.0</td>\n",
       "      <td>0.0</td>\n",
       "      <td>0.0</td>\n",
       "      <td>0.0</td>\n",
       "      <td>True</td>\n",
       "      <td>True</td>\n",
       "    </tr>\n",
       "    <tr>\n",
       "      <th>ENSG00000080815_ENSG00000107951</th>\n",
       "      <td>0.0</td>\n",
       "      <td>0.0</td>\n",
       "      <td>0.0</td>\n",
       "      <td>0.0</td>\n",
       "      <td>1.0</td>\n",
       "      <td>0.0</td>\n",
       "      <td>True</td>\n",
       "      <td>True</td>\n",
       "    </tr>\n",
       "    <tr>\n",
       "      <th>ENSMUSG00000026610_ENSMUSG00000062866</th>\n",
       "      <td>0.0</td>\n",
       "      <td>1.0</td>\n",
       "      <td>0.0</td>\n",
       "      <td>0.0</td>\n",
       "      <td>0.0</td>\n",
       "      <td>0.0</td>\n",
       "      <td>True</td>\n",
       "      <td>True</td>\n",
       "    </tr>\n",
       "    <tr>\n",
       "      <th>ENSG00000160445_ENSG00000198886</th>\n",
       "      <td>0.0</td>\n",
       "      <td>0.0</td>\n",
       "      <td>0.0</td>\n",
       "      <td>0.0</td>\n",
       "      <td>1.0</td>\n",
       "      <td>0.0</td>\n",
       "      <td>True</td>\n",
       "      <td>True</td>\n",
       "    </tr>\n",
       "    <tr>\n",
       "      <th>...</th>\n",
       "      <td>...</td>\n",
       "      <td>...</td>\n",
       "      <td>...</td>\n",
       "      <td>...</td>\n",
       "      <td>...</td>\n",
       "      <td>...</td>\n",
       "      <td>...</td>\n",
       "      <td>...</td>\n",
       "    </tr>\n",
       "    <tr>\n",
       "      <th>ENSG00000083535_ENSG00000198715</th>\n",
       "      <td>0.0</td>\n",
       "      <td>1.0</td>\n",
       "      <td>0.0</td>\n",
       "      <td>0.0</td>\n",
       "      <td>0.0</td>\n",
       "      <td>0.0</td>\n",
       "      <td>True</td>\n",
       "      <td>True</td>\n",
       "    </tr>\n",
       "    <tr>\n",
       "      <th>ENSG00000176927_ENSG00000249437</th>\n",
       "      <td>0.0</td>\n",
       "      <td>0.0</td>\n",
       "      <td>0.0</td>\n",
       "      <td>0.0</td>\n",
       "      <td>1.0</td>\n",
       "      <td>0.0</td>\n",
       "      <td>True</td>\n",
       "      <td>True</td>\n",
       "    </tr>\n",
       "    <tr>\n",
       "      <th>ENSG00000073910_ENSG00000137812</th>\n",
       "      <td>0.0</td>\n",
       "      <td>0.0</td>\n",
       "      <td>0.0</td>\n",
       "      <td>0.0</td>\n",
       "      <td>1.0</td>\n",
       "      <td>0.0</td>\n",
       "      <td>True</td>\n",
       "      <td>True</td>\n",
       "    </tr>\n",
       "    <tr>\n",
       "      <th>ENSG00000089234_ENSG00000126785</th>\n",
       "      <td>0.0</td>\n",
       "      <td>0.0</td>\n",
       "      <td>0.0</td>\n",
       "      <td>0.0</td>\n",
       "      <td>1.0</td>\n",
       "      <td>0.0</td>\n",
       "      <td>True</td>\n",
       "      <td>True</td>\n",
       "    </tr>\n",
       "    <tr>\n",
       "      <th>ENSG00000175387_ENSG00000179151</th>\n",
       "      <td>0.0</td>\n",
       "      <td>0.0</td>\n",
       "      <td>1.0</td>\n",
       "      <td>0.0</td>\n",
       "      <td>0.0</td>\n",
       "      <td>0.0</td>\n",
       "      <td>True</td>\n",
       "      <td>True</td>\n",
       "    </tr>\n",
       "  </tbody>\n",
       "</table>\n",
       "<p>24886 rows × 8 columns</p>\n",
       "</div>"
      ],
      "text/plain": [
       "                                       UTR5_UTR5  UTR5_CDS  UTR5_UTR3  \\\n",
       "ENSG00000105576_ENSG00000158458              0.0       0.0        0.0   \n",
       "ENSMUSG00000021136_ENSMUSG00000037487        0.0       1.0        0.0   \n",
       "ENSG00000080815_ENSG00000107951              0.0       0.0        0.0   \n",
       "ENSMUSG00000026610_ENSMUSG00000062866        0.0       1.0        0.0   \n",
       "ENSG00000160445_ENSG00000198886              0.0       0.0        0.0   \n",
       "...                                          ...       ...        ...   \n",
       "ENSG00000083535_ENSG00000198715              0.0       1.0        0.0   \n",
       "ENSG00000176927_ENSG00000249437              0.0       0.0        0.0   \n",
       "ENSG00000073910_ENSG00000137812              0.0       0.0        0.0   \n",
       "ENSG00000089234_ENSG00000126785              0.0       0.0        0.0   \n",
       "ENSG00000175387_ENSG00000179151              0.0       0.0        1.0   \n",
       "\n",
       "                                       CDS_CDS  CDS_UTR3  UTR3_UTR3  \\\n",
       "ENSG00000105576_ENSG00000158458            0.0       1.0        0.0   \n",
       "ENSMUSG00000021136_ENSMUSG00000037487      0.0       0.0        0.0   \n",
       "ENSG00000080815_ENSG00000107951            0.0       1.0        0.0   \n",
       "ENSMUSG00000026610_ENSMUSG00000062866      0.0       0.0        0.0   \n",
       "ENSG00000160445_ENSG00000198886            0.0       1.0        0.0   \n",
       "...                                        ...       ...        ...   \n",
       "ENSG00000083535_ENSG00000198715            0.0       0.0        0.0   \n",
       "ENSG00000176927_ENSG00000249437            0.0       1.0        0.0   \n",
       "ENSG00000073910_ENSG00000137812            0.0       1.0        0.0   \n",
       "ENSG00000089234_ENSG00000126785            0.0       1.0        0.0   \n",
       "ENSG00000175387_ENSG00000179151            0.0       0.0        0.0   \n",
       "\n",
       "                                       protein_coding2  protein_coding1  \n",
       "ENSG00000105576_ENSG00000158458                   True             True  \n",
       "ENSMUSG00000021136_ENSMUSG00000037487             True             True  \n",
       "ENSG00000080815_ENSG00000107951                   True             True  \n",
       "ENSMUSG00000026610_ENSMUSG00000062866             True             True  \n",
       "ENSG00000160445_ENSG00000198886                   True             True  \n",
       "...                                                ...              ...  \n",
       "ENSG00000083535_ENSG00000198715                   True             True  \n",
       "ENSG00000176927_ENSG00000249437                   True             True  \n",
       "ENSG00000073910_ENSG00000137812                   True             True  \n",
       "ENSG00000089234_ENSG00000126785                   True             True  \n",
       "ENSG00000175387_ENSG00000179151                   True             True  \n",
       "\n",
       "[24886 rows x 8 columns]"
      ]
     },
     "execution_count": 25,
     "metadata": {},
     "output_type": "execute_result"
    }
   ],
   "source": [
    "pc_interacting"
   ]
  },
  {
   "cell_type": "code",
   "execution_count": null,
   "id": "e86ca42d-375a-4eb8-88f0-dd9b03e03047",
   "metadata": {},
   "outputs": [
    {
     "data": {
      "text/plain": [
       "UTR5_UTR5    0.126018\n",
       "UTR5_CDS     0.485657\n",
       "UTR5_UTR3    0.361485\n",
       "CDS_CDS      0.013630\n",
       "CDS_UTR3     0.010228\n",
       "UTR3_UTR3    0.000000\n",
       "dtype: float64"
      ]
     },
     "execution_count": 36,
     "metadata": {},
     "output_type": "execute_result"
    }
   ],
   "source": [
    "columns = ['UTR5_UTR5', 'UTR5_CDS', 'UTR5_UTR3', 'CDS_CDS', 'CDS_UTR3', 'UTR3_UTR3']\n",
    "\n",
    "\n",
    "utr5 = pc_interacting[(pc_interacting['UTR5_UTR5']>0)|(pc_interacting['UTR5_CDS']>0)|(pc_interacting['UTR5_UTR3']>0)]\n",
    "utr5.filter(columns).mean()"
   ]
  },
  {
   "cell_type": "code",
   "execution_count": null,
   "id": "72f6d70e-c399-4286-a22b-726649968756",
   "metadata": {},
   "outputs": [
    {
     "data": {
      "text/plain": [
       "UTR5_UTR5    0.000000\n",
       "UTR5_CDS     0.000920\n",
       "UTR5_UTR3    0.120981\n",
       "CDS_CDS      0.003702\n",
       "CDS_UTR3     0.467843\n",
       "UTR3_UTR3    0.405477\n",
       "dtype: float64"
      ]
     },
     "execution_count": 37,
     "metadata": {},
     "output_type": "execute_result"
    }
   ],
   "source": [
    "utr3 = pc_interacting[(pc_interacting['UTR3_UTR3']>0)|(pc_interacting['CDS_UTR3']>0)|(pc_interacting['UTR5_UTR3']>0)]\n",
    "utr3.filter(columns).mean()"
   ]
  },
  {
   "cell_type": "code",
   "execution_count": null,
   "id": "1c6b0a76-076c-48b7-b4ae-23523a83a11c",
   "metadata": {},
   "outputs": [
    {
     "data": {
      "text/plain": [
       "UTR5_UTR5    0.002893\n",
       "UTR5_CDS     0.249552\n",
       "UTR5_UTR3    0.006951\n",
       "CDS_CDS      0.013804\n",
       "CDS_UTR3     0.718298\n",
       "UTR3_UTR3    0.005954\n",
       "dtype: float64"
      ]
     },
     "execution_count": 38,
     "metadata": {},
     "output_type": "execute_result"
    }
   ],
   "source": [
    "cds = pc_interacting[(pc_interacting['UTR5_CDS']>0)|(pc_interacting['CDS_UTR3']>0)|(pc_interacting['CDS_CDS']>0)]\n",
    "cds.filter(columns, axis = 1).mean()"
   ]
  }
 ],
 "metadata": {
  "kernelspec": {
   "display_name": "Python 3 (ipykernel)",
   "language": "python",
   "name": "python3"
  },
  "language_info": {
   "codemirror_mode": {
    "name": "ipython",
    "version": 3
   },
   "file_extension": ".py",
   "mimetype": "text/x-python",
   "name": "python",
   "nbconvert_exporter": "python",
   "pygments_lexer": "ipython3",
   "version": "3.10.10"
  }
 },
 "nbformat": 4,
 "nbformat_minor": 5
}
