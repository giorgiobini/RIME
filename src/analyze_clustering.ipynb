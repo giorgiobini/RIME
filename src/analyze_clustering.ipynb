{
 "cells": [
  {
   "cell_type": "code",
   "execution_count": 1,
   "id": "1cdf6c31",
   "metadata": {},
   "outputs": [],
   "source": [
    "its_jupyter_notebook = True\n",
    "\n",
    "import sys\n",
    "import os\n",
    "import matplotlib.pyplot as plt\n",
    "import numpy as np\n",
    "import pandas as pd\n",
    "sys.path.insert(0, '..')\n",
    "import ast\n",
    "from tqdm.notebook import tqdm\n",
    "import pickle\n",
    "import seaborn as sns\n",
    "from Bio import SeqIO\n",
    "from matplotlib_venn import venn3\n",
    "import re\n",
    "if its_jupyter_notebook:\n",
    "    sys.argv = [''] #Remove this if it's not a jupyter notebook!"
   ]
  },
  {
   "cell_type": "code",
   "execution_count": 2,
   "id": "a43d33c4",
   "metadata": {},
   "outputs": [],
   "source": [
    "ROOT_DIR = os.path.dirname(os.path.abspath('.'))\n",
    "processed_files_dir = os.path.join(ROOT_DIR, 'dataset', 'processed_files')\n",
    "rna_rna_files_dir = os.path.join(ROOT_DIR, 'dataset', 'rna_rna_pairs')\n",
    "cl_dir = os.path.join(processed_files_dir, 'cdhit') #os.path.join(processed_files_dir, 'mmseq2')\n",
    "cl_results = os.path.join(cl_dir, 'DB_clu_seq.fasta')"
   ]
  },
  {
   "cell_type": "code",
   "execution_count": 3,
   "id": "8e61ec22-5488-482f-b8ad-0682b9082bdb",
   "metadata": {},
   "outputs": [],
   "source": [
    "df_cdna = pd.read_csv(os.path.join(processed_files_dir, \"df_cdna.csv\"), sep = ',')\n",
    "df_genes = pd.read_csv(os.path.join(processed_files_dir, \"df_genes.csv\"), sep = ',')"
   ]
  },
  {
   "cell_type": "code",
   "execution_count": 4,
   "id": "23370dff-36e7-4dae-baef-8f7fe2f0e788",
   "metadata": {},
   "outputs": [
    {
     "name": "stdout",
     "output_type": "stream",
     "text": [
      "856\n",
      "26360\n",
      "1752\n"
     ]
    }
   ],
   "source": [
    "df = pd.read_csv(os.path.join(processed_files_dir, 'cdhit_clusters.csv'))\n",
    "\n",
    "with open(os.path.join(rna_rna_files_dir, \"gene_pairs_val_random_filtered.txt\"), \"rb\") as fp:   # Unpickling\n",
    "    subset_val = pickle.load(fp)\n",
    "\n",
    "val = df[df.couple.isin(subset_val)].reset_index(drop = True)\n",
    "\n",
    "\n",
    "with open(os.path.join(rna_rna_files_dir, \"gene_pairs_training_random_filtered.txt\"), \"rb\") as fp:   # Unpickling\n",
    "    subset_train = pickle.load(fp)\n",
    "\n",
    "train = df[df.couple.isin(subset_train)].reset_index(drop = True)\n",
    "\n",
    "with open(os.path.join(rna_rna_files_dir, \"gene_pairs_test_random_filtered.txt\"), \"rb\") as fp:   # Unpickling\n",
    "    subset_test = pickle.load(fp)\n",
    "\n",
    "test = df[df.couple.isin(subset_test)].reset_index(drop = True)\n",
    "\n",
    "print(len(subset_val))\n",
    "print(len(subset_train))\n",
    "print(len(subset_test))"
   ]
  },
  {
   "cell_type": "markdown",
   "id": "cf32dbdb-a0ca-437d-843f-5f2fc6088568",
   "metadata": {},
   "source": [
    "# Slice "
   ]
  },
  {
   "cell_type": "code",
   "execution_count": 5,
   "id": "3c4f550c-5547-4a3f-a9f6-be649795753b",
   "metadata": {},
   "outputs": [],
   "source": [
    "clusters = df.groupby('cl_name').count()[['couple']].reset_index()"
   ]
  },
  {
   "cell_type": "code",
   "execution_count": 6,
   "id": "cd257b1e-e01c-484f-8cb6-ccbc59cbf880",
   "metadata": {},
   "outputs": [
    {
     "name": "stdout",
     "output_type": "stream",
     "text": [
      "Il numero totale di clusters è 135649\n"
     ]
    }
   ],
   "source": [
    "print(f'Il numero totale di clusters è {len(set(df.cl_name))}')"
   ]
  },
  {
   "cell_type": "code",
   "execution_count": 7,
   "id": "a4ca31cd-e54e-41a3-946a-90354178db38",
   "metadata": {},
   "outputs": [
    {
     "name": "stdout",
     "output_type": "stream",
     "text": [
      "Il numero totale di geni è 41306\n"
     ]
    }
   ],
   "source": [
    "print(f'Il numero totale di geni è {(len(df_genes.gene.unique()))}')"
   ]
  },
  {
   "cell_type": "code",
   "execution_count": 8,
   "id": "f75fb25a-5064-4552-9d87-9a2f6330c7f3",
   "metadata": {},
   "outputs": [
    {
     "name": "stdout",
     "output_type": "stream",
     "text": [
      "Il numero di sequenze valutate in questa analisi è 342562\n"
     ]
    }
   ],
   "source": [
    "print(f'Il numero di sequenze valutate in questa analisi è {df.shape[0]}')"
   ]
  },
  {
   "cell_type": "code",
   "execution_count": 9,
   "id": "f95faa0f-3b14-422b-a2e6-e5f155d054c5",
   "metadata": {},
   "outputs": [
    {
     "name": "stdout",
     "output_type": "stream",
     "text": [
      "Il numero di cluster con almeno 2 sequenze è 24680. Perciò il 82% dei cluster è formato solo da 1 sequenza.\n"
     ]
    }
   ],
   "source": [
    "print(f'Il numero di cluster con almeno 2 sequenze è {clusters[clusters.couple>2].shape[0]}. Perciò il {100 - int((clusters[clusters.couple>2].shape[0]/clusters.shape[0])*100)}% dei cluster è formato solo da 1 sequenza.')"
   ]
  },
  {
   "cell_type": "code",
   "execution_count": 10,
   "id": "2a1fba3e-3caa-4940-9dcf-c51f01b91199",
   "metadata": {},
   "outputs": [
    {
     "name": "stdout",
     "output_type": "stream",
     "text": [
      "Il numero di sequenze che appartengono ad un cluster con almeno 2 sequenze è il 62%.\n"
     ]
    }
   ],
   "source": [
    "print(f'Il numero di sequenze che appartengono ad un cluster con almeno 2 sequenze è il {int((df[df.cl_name.isin(set(clusters[clusters.couple>2].cl_name))].shape[0]) / df.shape[0] * 100)}%.')"
   ]
  },
  {
   "cell_type": "code",
   "execution_count": 11,
   "id": "4eb9c827-64ee-4ef6-9b52-b6430653cca9",
   "metadata": {},
   "outputs": [
    {
     "name": "stdout",
     "output_type": "stream",
     "text": [
      "Il cluster più numeroso contiene 3014 sequenze\n"
     ]
    }
   ],
   "source": [
    "print(f'Il cluster più numeroso contiene {clusters.couple.max()} sequenze')"
   ]
  },
  {
   "cell_type": "code",
   "execution_count": 12,
   "id": "d37e4993-2004-422b-94f7-2c07ef8876fa",
   "metadata": {},
   "outputs": [
    {
     "name": "stdout",
     "output_type": "stream",
     "text": [
      "Analizziamo la distribuzione dei cluster, escludendo però tutti i cluster con solo 1 sequenza.\n",
      "      Il primo quartile è: 3.0\n",
      "      Il secondo (mediana) è: 5.0\n",
      "      Il terzo quartile è: 8.0\n",
      "      Il percentile 90 è: 12.0\n"
     ]
    }
   ],
   "source": [
    "cl_filtered = clusters[clusters.couple>2].reset_index(drop = True)\n",
    "print(f'Analizziamo la distribuzione dei cluster, escludendo però tutti i cluster con solo 1 sequenza.\\n\\\n",
    "      Il primo quartile è: {np.percentile(cl_filtered.couple, q = 25)}\\n\\\n",
    "      Il secondo (mediana) è: {np.percentile(cl_filtered.couple, q = 50)}\\n\\\n",
    "      Il terzo quartile è: {np.percentile(cl_filtered.couple, q = 75)}\\n\\\n",
    "      Il percentile 90 è: {np.percentile(cl_filtered.couple, q = 90)}')"
   ]
  },
  {
   "cell_type": "code",
   "execution_count": 13,
   "id": "e58ca9da-f563-4912-83e3-691531124dd1",
   "metadata": {},
   "outputs": [
    {
     "name": "stdout",
     "output_type": "stream",
     "text": [
      "Poi c è un gruppo di cluster molto numerosi. Il cluster più numeroso contiene 3014 sequenze. Ecco i 15 clusters piu numerosi: \n",
      "[3014, 2758, 2396, 1737, 1169, 1147, 1043, 969, 901, 877, 868, 808, 772, 770, 744]\n"
     ]
    }
   ],
   "source": [
    "print(f'Poi c è un gruppo di cluster molto numerosi. Il cluster più numeroso contiene {clusters.couple.max()} sequenze. Ecco i 15 clusters piu numerosi: ')\n",
    "print(list(clusters.sort_values('couple', ascending = False).head(15).couple))"
   ]
  },
  {
   "cell_type": "markdown",
   "id": "8e64e4eb-f874-4432-91ec-6a508f130abc",
   "metadata": {},
   "source": [
    "Vediamo come sono distribuiti i cluster tra training, test e validation."
   ]
  },
  {
   "cell_type": "code",
   "execution_count": 14,
   "id": "bbdf1106-09bb-443c-8bff-fbae22e7fd01",
   "metadata": {},
   "outputs": [
    {
     "data": {
      "image/png": "[encoded data removed]",
      "text/plain": [
       "<Figure size 432x288 with 1 Axes>"
      ]
     },
     "metadata": {},
     "output_type": "display_data"
    }
   ],
   "source": [
    "fig = plt.figure()\n",
    "fig.patch.set_facecolor('white')\n",
    "venn3([set(train.cl_name), set(test.cl_name), set(val.cl_name)], set_labels = ('Training', 'Test', 'Validation'))\n",
    "plt.title('Clusters in common between Training, Test and Validation sets \\n')\n",
    "plt.show()"
   ]
  },
  {
   "cell_type": "markdown",
   "id": "736f02d8-4a85-489c-8901-03a7d69c3ca7",
   "metadata": {},
   "source": [
    "Rimuoviamo ora tutti i cluster con solo una sequenza"
   ]
  },
  {
   "cell_type": "markdown",
   "id": "1b053670-a809-4625-8c2f-61a1474840cf",
   "metadata": {},
   "source": [
    "In questa figura, se un cluster ha 3 sequenze tutte nel test, allora sara un punto nell'insieme verde. Se invece ha 2 sequenze nel test e 1 nel training sara un punto nell'insieme marrone."
   ]
  },
  {
   "cell_type": "code",
   "execution_count": 15,
   "id": "601c92a2-b5f0-4292-87e7-8849271e7c69",
   "metadata": {},
   "outputs": [
    {
     "data": {
      "image/png": "[encoded data removed]",
      "text/plain": [
       "<Figure size 432x288 with 1 Axes>"
      ]
     },
     "metadata": {},
     "output_type": "display_data"
    }
   ],
   "source": [
    "fig = plt.figure()\n",
    "fig.patch.set_facecolor('white')\n",
    "venn3([set(train[train.cl_name.isin(set(cl_filtered.cl_name))].cl_name), \n",
    "       set(test[test.cl_name.isin(set(cl_filtered.cl_name))].cl_name), \n",
    "       set(val[val.cl_name.isin(set(cl_filtered.cl_name))].cl_name)],\n",
    "      set_labels = ('Training', 'Test', 'Validation'))\n",
    "plt.title('Clusters in common between Training, Test and Validation sets \\n')\n",
    "plt.show()"
   ]
  },
  {
   "cell_type": "markdown",
   "id": "794f3ea3-7074-42c1-b04d-c438556361a0",
   "metadata": {},
   "source": [
    "##### Analizziamo se nella coppia non ci sono sempre 2 sequenze simili tra loro (questo sarebbe un bel problema perche con lo swappereccio la rete imparerebbe a distinguere le coppie uguali tra loro VS le coppie diverse tra loro)."
   ]
  },
  {
   "cell_type": "code",
   "execution_count": 16,
   "id": "eafc73df-40a8-4120-bce5-b0a4c2f33063",
   "metadata": {},
   "outputs": [],
   "source": [
    "d1 = pd.DataFrame(df.groupby('couple')['cl_name'].nunique()).reset_index()\n",
    "d2 = pd.DataFrame(df.groupby('couple').count().gene).reset_index()\n",
    "res = d1.merge(d2, on = 'couple')\n",
    "res['equal'] = res.cl_name == res.gene"
   ]
  },
  {
   "cell_type": "code",
   "execution_count": 17,
   "id": "6db096f9-0110-4844-8dea-9d0ddb51e169",
   "metadata": {},
   "outputs": [
    {
     "name": "stdout",
     "output_type": "stream",
     "text": [
      "La percentuale di coppie che appartengono allo stesso cluster è pari a: 1%\n"
     ]
    }
   ],
   "source": [
    "print(f'La percentuale di coppie che appartengono allo stesso cluster è pari a: {int(len(res[res.equal == False].couple.unique())/len(df.couple.unique()) * 100)}%')"
   ]
  },
  {
   "cell_type": "markdown",
   "id": "1d883180-782c-407d-b7da-eba8d124ea7c",
   "metadata": {},
   "source": [
    "Ecco un esempio"
   ]
  },
  {
   "cell_type": "code",
   "execution_count": 18,
   "id": "99dccdca-30b0-4a30-bb8b-923b46e031b4",
   "metadata": {},
   "outputs": [
    {
     "data": {
      "text/html": [
       "<div>\n",
       "<style scoped>\n",
       "    .dataframe tbody tr th:only-of-type {\n",
       "        vertical-align: middle;\n",
       "    }\n",
       "\n",
       "    .dataframe tbody tr th {\n",
       "        vertical-align: top;\n",
       "    }\n",
       "\n",
       "    .dataframe thead th {\n",
       "        text-align: right;\n",
       "    }\n",
       "</style>\n",
       "<table border=\"1\" class=\"dataframe\">\n",
       "  <thead>\n",
       "    <tr style=\"text-align: right;\">\n",
       "      <th></th>\n",
       "      <th>couple</th>\n",
       "      <th>gene</th>\n",
       "      <th>cl_name</th>\n",
       "    </tr>\n",
       "  </thead>\n",
       "  <tbody>\n",
       "    <tr>\n",
       "      <th>32649</th>\n",
       "      <td>ENSG00000003402_ENSG00000205649</td>\n",
       "      <td>ENSG00000003402</td>\n",
       "      <td>2463</td>\n",
       "    </tr>\n",
       "    <tr>\n",
       "      <th>32650</th>\n",
       "      <td>ENSG00000003402_ENSG00000205649</td>\n",
       "      <td>ENSG00000205649</td>\n",
       "      <td>2463</td>\n",
       "    </tr>\n",
       "  </tbody>\n",
       "</table>\n",
       "</div>"
      ],
      "text/plain": [
       "                                couple             gene  cl_name\n",
       "32649  ENSG00000003402_ENSG00000205649  ENSG00000003402     2463\n",
       "32650  ENSG00000003402_ENSG00000205649  ENSG00000205649     2463"
      ]
     },
     "execution_count": 18,
     "metadata": {},
     "output_type": "execute_result"
    }
   ],
   "source": [
    "df[df.couple == res[res['equal'] == False].iloc[0].couple]"
   ]
  },
  {
   "cell_type": "markdown",
   "id": "5c50f766-d2e5-4435-bc6e-4b60f1ca0662",
   "metadata": {},
   "source": [
    "# Full length"
   ]
  },
  {
   "cell_type": "code",
   "execution_count": 24,
   "id": "de16224d-59bd-4303-a2ac-f41e9d04b05b",
   "metadata": {},
   "outputs": [
    {
     "data": {
      "text/html": [
       "<div>\n",
       "<style scoped>\n",
       "    .dataframe tbody tr th:only-of-type {\n",
       "        vertical-align: middle;\n",
       "    }\n",
       "\n",
       "    .dataframe tbody tr th {\n",
       "        vertical-align: top;\n",
       "    }\n",
       "\n",
       "    .dataframe thead th {\n",
       "        text-align: right;\n",
       "    }\n",
       "</style>\n",
       "<table border=\"1\" class=\"dataframe\">\n",
       "  <thead>\n",
       "    <tr style=\"text-align: right;\">\n",
       "      <th></th>\n",
       "      <th>couple</th>\n",
       "      <th>gene</th>\n",
       "      <th>cl_name</th>\n",
       "    </tr>\n",
       "  </thead>\n",
       "  <tbody>\n",
       "    <tr>\n",
       "      <th>0</th>\n",
       "      <td>ENSG00000137074_ENSG00000170777</td>\n",
       "      <td>ENSG00000137074</td>\n",
       "      <td>0</td>\n",
       "    </tr>\n",
       "    <tr>\n",
       "      <th>1</th>\n",
       "      <td>ENSG00000137074_ENSG00000170777</td>\n",
       "      <td>ENSG00000170777</td>\n",
       "      <td>1</td>\n",
       "    </tr>\n",
       "    <tr>\n",
       "      <th>2</th>\n",
       "      <td>ENSG00000214031_ENSG00000248752</td>\n",
       "      <td>ENSG00000214031</td>\n",
       "      <td>2</td>\n",
       "    </tr>\n",
       "    <tr>\n",
       "      <th>3</th>\n",
       "      <td>ENSG00000214031_ENSG00000248752</td>\n",
       "      <td>ENSG00000248752</td>\n",
       "      <td>3</td>\n",
       "    </tr>\n",
       "    <tr>\n",
       "      <th>4</th>\n",
       "      <td>ENSG00000152580_ENSG00000233421</td>\n",
       "      <td>ENSG00000152580</td>\n",
       "      <td>4</td>\n",
       "    </tr>\n",
       "    <tr>\n",
       "      <th>...</th>\n",
       "      <td>...</td>\n",
       "      <td>...</td>\n",
       "      <td>...</td>\n",
       "    </tr>\n",
       "    <tr>\n",
       "      <th>342557</th>\n",
       "      <td>ENSMUSG00000025759_ENSMUSG00000088609</td>\n",
       "      <td>ENSMUSG00000088609</td>\n",
       "      <td>135648</td>\n",
       "    </tr>\n",
       "    <tr>\n",
       "      <th>342558</th>\n",
       "      <td>ENSMUSG00000031932_ENSMUSG00000076258</td>\n",
       "      <td>ENSMUSG00000076258</td>\n",
       "      <td>135648</td>\n",
       "    </tr>\n",
       "    <tr>\n",
       "      <th>342559</th>\n",
       "      <td>ENSMUSG00000055976_ENSMUSG00000076258</td>\n",
       "      <td>ENSMUSG00000076258</td>\n",
       "      <td>135648</td>\n",
       "    </tr>\n",
       "    <tr>\n",
       "      <th>342560</th>\n",
       "      <td>ENSMUSG00000037169_ENSMUSG00000087943</td>\n",
       "      <td>ENSMUSG00000087943</td>\n",
       "      <td>135648</td>\n",
       "    </tr>\n",
       "    <tr>\n",
       "      <th>342561</th>\n",
       "      <td>ENSMUSG00000039646_ENSMUSG00000076258</td>\n",
       "      <td>ENSMUSG00000076258</td>\n",
       "      <td>135648</td>\n",
       "    </tr>\n",
       "  </tbody>\n",
       "</table>\n",
       "<p>342562 rows × 3 columns</p>\n",
       "</div>"
      ],
      "text/plain": [
       "                                       couple                gene  cl_name\n",
       "0             ENSG00000137074_ENSG00000170777     ENSG00000137074        0\n",
       "1             ENSG00000137074_ENSG00000170777     ENSG00000170777        1\n",
       "2             ENSG00000214031_ENSG00000248752     ENSG00000214031        2\n",
       "3             ENSG00000214031_ENSG00000248752     ENSG00000248752        3\n",
       "4             ENSG00000152580_ENSG00000233421     ENSG00000152580        4\n",
       "...                                       ...                 ...      ...\n",
       "342557  ENSMUSG00000025759_ENSMUSG00000088609  ENSMUSG00000088609   135648\n",
       "342558  ENSMUSG00000031932_ENSMUSG00000076258  ENSMUSG00000076258   135648\n",
       "342559  ENSMUSG00000055976_ENSMUSG00000076258  ENSMUSG00000076258   135648\n",
       "342560  ENSMUSG00000037169_ENSMUSG00000087943  ENSMUSG00000087943   135648\n",
       "342561  ENSMUSG00000039646_ENSMUSG00000076258  ENSMUSG00000076258   135648\n",
       "\n",
       "[342562 rows x 3 columns]"
      ]
     },
     "execution_count": 24,
     "metadata": {},
     "output_type": "execute_result"
    }
   ],
   "source": [
    "df"
   ]
  },
  {
   "cell_type": "code",
   "execution_count": 26,
   "id": "9c8ff611-0674-4066-9bf7-c67db8cf88e6",
   "metadata": {},
   "outputs": [],
   "source": [
    "df1 = pd.read_csv(os.path.join(processed_files_dir, 'cdhit_clusters_fl.csv')) #mmseq2_clusters.csv\n",
    "df2 = pd.read_csv(os.path.join(processed_files_dir, 'cdhit_clusters_fl2.csv')) #mmseq2_clusters.csv\n",
    "df1 = df[['couple', 'gene']].merge(df1)\n",
    "df2 = df[['couple', 'gene']].merge(df2)\n",
    "df1.to_csv(os.path.join(processed_files_dir, 'cdhit_clusters_fl_merged.csv'), index = False)\n",
    "df2.to_csv(os.path.join(processed_files_dir, 'cdhit_clusters_fl2_merged.csv'), index = False)"
   ]
  },
  {
   "cell_type": "code",
   "execution_count": 27,
   "id": "56a14a0d-774f-4238-8685-cac7ab485be2",
   "metadata": {},
   "outputs": [],
   "source": [
    "clusters1 = df1.groupby('cl_name').count()[['couple']].reset_index()"
   ]
  },
  {
   "cell_type": "code",
   "execution_count": 33,
   "id": "f47432c4-1770-49f4-9db0-75084c1ec458",
   "metadata": {},
   "outputs": [
    {
     "name": "stdout",
     "output_type": "stream",
     "text": [
      "Il numero totale di clusters è 32456\n"
     ]
    }
   ],
   "source": [
    "print(f'Il numero totale di clusters è {clusters1.shape[0]}')"
   ]
  },
  {
   "cell_type": "code",
   "execution_count": 28,
   "id": "b3ba0d6f-0c1f-4248-9551-a380c9b057d7",
   "metadata": {},
   "outputs": [],
   "source": [
    "clusters2 = df2.groupby('cl_name').count()[['couple']].reset_index()"
   ]
  },
  {
   "cell_type": "code",
   "execution_count": 34,
   "id": "af4722f4-bf4f-4157-b850-1ab93a798c0f",
   "metadata": {},
   "outputs": [
    {
     "name": "stdout",
     "output_type": "stream",
     "text": [
      "Il numero totale di clusters è 36121\n"
     ]
    }
   ],
   "source": [
    "print(f'Il numero totale di clusters è {clusters2.shape[0]}')"
   ]
  }
 ],
 "metadata": {
  "kernelspec": {
   "display_name": "Python 3 (ipykernel)",
   "language": "python",
   "name": "python3"
  },
  "language_info": {
   "codemirror_mode": {
    "name": "ipython",
    "version": 3
   },
   "file_extension": ".py",
   "mimetype": "text/x-python",
   "name": "python",
   "nbconvert_exporter": "python",
   "pygments_lexer": "ipython3",
   "version": "3.9.7"
  }
 },
 "nbformat": 4,
 "nbformat_minor": 5
}
