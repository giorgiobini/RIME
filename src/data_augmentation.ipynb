{
 "cells": [
  {
   "cell_type": "markdown",
   "metadata": {},
   "source": [
    "This scripts allow us to understand if the classes in data.py work or not"
   ]
  },
  {
   "cell_type": "code",
   "execution_count": 1,
   "metadata": {
    "collapsed": false,
    "jupyter": {
     "outputs_hidden": false
    }
   },
   "outputs": [],
   "source": [
    "seed = 123\n",
    "import sys\n",
    "from pathlib import Path\n",
    "from typing import *\n",
    "import shutil\n",
    "import time\n",
    "import pandas as pd\n",
    "import pickle\n",
    "import torch\n",
    "import numpy as np\n",
    "import os\n",
    "from torch.utils.data import random_split, Subset\n",
    "\n",
    "sys.path.insert(0, \"..\")\n",
    "from dataset.data import (\n",
    "    RNADataset,\n",
    "    ROOT_DIR,\n",
    "    EasyPosAugment,\n",
    "    RegionSpecNegAugment,\n",
    "    InteractionSelectionPolicy,\n",
    "    EasyNegAugment,\n",
    "    HardPosAugment,\n",
    "    HardNegAugment,\n",
    "    plot_sample,\n",
    "    #plot_sample2,\n",
    "    seed_everything,\n",
    ")"
   ]
  },
  {
   "cell_type": "code",
   "execution_count": 2,
   "metadata": {
    "collapsed": false,
    "jupyter": {
     "outputs_hidden": false
    }
   },
   "outputs": [],
   "source": [
    "pos_width_multipliers = {3: 0.1, 5: 0.2, 7: 0.2, 9: 0.1, 10: 0.1, 11: 0.1, 18: 0.2}\n",
    "pos_height_multipliers = {3: 0.1, 5: 0.2, 7: 0.2, 9: 0.1, 10: 0.1, 11: 0.1, 18: 0.2}\n",
    "neg_width_windows = {\n",
    "    (50, 80): 0.1,\n",
    "    (80, 120): 0.25,\n",
    "    (120, 200): 0.3,\n",
    "    (200, 300): 0.17,\n",
    "    (300, 400): 0.07,\n",
    "    (400, 500): 0.03,\n",
    "    (500, 512): 0.03,\n",
    "}\n",
    "neg_height_windows = {\n",
    "    (50, 80): 0.1,\n",
    "    (80, 120): 0.25,\n",
    "    (120, 200): 0.3,\n",
    "    (200, 300): 0.17,\n",
    "    (300, 400): 0.07,\n",
    "    (400, 500): 0.03,\n",
    "    (500, 512): 0.03,\n",
    "}"
   ]
  },
  {
   "cell_type": "code",
   "execution_count": 3,
   "metadata": {},
   "outputs": [],
   "source": [
    "ROOT_DIR = os.path.dirname(os.path.abspath('.'))\n",
    "original_files_dir = os.path.join(ROOT_DIR, \"dataset\", \"original_files\")\n",
    "processed_files_dir = os.path.join(ROOT_DIR, \"dataset\", \"processed_files\")\n",
    "rna_rna_files_dir = os.path.join(ROOT_DIR, \"dataset\", \"rna_rna_pairs\")"
   ]
  },
  {
   "cell_type": "code",
   "execution_count": 30,
   "metadata": {},
   "outputs": [
    {
     "name": "stderr",
     "output_type": "stream",
     "text": [
      "/tmp/ipykernel_13785/2938297983.py:42: DtypeWarning: Columns (7,8) have mixed types.Specify dtype option on import or set low_memory=False.\n",
      "  dataset = RNADataset(\n"
     ]
    },
    {
     "data": {
      "application/vnd.jupyter.widget-view+json": {
       "model_id": "e888a62c319b4cb4a0d471dcbbc861f4",
       "version_major": 2,
       "version_minor": 0
      },
      "text/plain": [
       "0it [00:00, ?it/s]"
      ]
     },
     "metadata": {},
     "output_type": "display_data"
    }
   ],
   "source": [
    "#from tqdm import tqdm\n",
    "from tqdm.notebook import tqdm\n",
    "import matplotlib.pyplot as plt\n",
    "import data\n",
    "\n",
    "\n",
    "_SUBSET_SIZE: int = 100\n",
    "seed_everything(seed)\n",
    "for policy in (\n",
    "    # EasyPosAugment(\n",
    "    #     per_sample=1,\n",
    "    #     interaction_selection=InteractionSelectionPolicy.LARGEST,\n",
    "    #     width_multipliers=pos_width_multipliers,\n",
    "    #     height_multipliers=pos_height_multipliers,\n",
    "    # ),\n",
    "    # EasyNegAugment(\n",
    "    #     per_sample=1,\n",
    "    #     width_windows=neg_width_windows,\n",
    "    #     height_windows=neg_height_windows,\n",
    "    # ),\n",
    "    # HardPosAugment(\n",
    "    #     per_sample=1,\n",
    "    #     interaction_selection=InteractionSelectionPolicy.RANDOM_ONE,\n",
    "    #     min_width_overlap=0.3,\n",
    "    #     min_height_overlap=0.3,\n",
    "    #     width_multipliers=pos_width_multipliers,\n",
    "    #     height_multipliers=pos_height_multipliers,\n",
    "    # ),\n",
    "    HardNegAugment(\n",
    "        per_sample=1,\n",
    "        width_windows=neg_width_windows,\n",
    "        height_windows=neg_height_windows,\n",
    "    ),\n",
    "    # RegionSpecNegAugment(\n",
    "    #     per_sample=1,\n",
    "    #     width_windows=pos_width_multipliers,\n",
    "    #     height_windows=neg_height_windows,\n",
    "    # ),\n",
    "):\n",
    "    start_time = time.time()\n",
    "\n",
    "    dataset = RNADataset(\n",
    "        gene_info_path=os.path.join(processed_files_dir, \"df_cdna.csv\"),\n",
    "        interactions_path=os.path.join(\n",
    "            processed_files_dir, \"df_annotation_files_cleaned.csv\"\n",
    "        ),\n",
    "        dot_bracket_path=os.path.join(processed_files_dir, \"dot_bracket.txt\"),\n",
    "        subset_file=os.path.join(\n",
    "            rna_rna_files_dir, \"gene_pairs_training_random_filtered.txt\"\n",
    "        ),\n",
    "        augment_policies=[\n",
    "            policy,\n",
    "        ],\n",
    "    )\n",
    "\n",
    "    dst_dir = Path(os.path.join(processed_files_dir, \"sample\", policy.name))\n",
    "\n",
    "    shutil.rmtree(dst_dir, ignore_errors=True)\n",
    "    dst_dir.mkdir(exist_ok=True, parents=True)\n",
    "    sampled_widths, sampled_heights = [], []\n",
    "    for i, sample in tqdm(enumerate(dataset)):\n",
    "        #print(sample.gene1, sample.gene2)\n",
    "        continue"
   ]
  },
  {
   "cell_type": "markdown",
   "metadata": {},
   "source": [
    "# Check if classes works"
   ]
  },
  {
   "cell_type": "code",
   "execution_count": 31,
   "metadata": {},
   "outputs": [],
   "source": [
    "df = pd.read_csv(\n",
    "    os.path.join(processed_files_dir, \"df_annotation_files_cleaned.csv\"), sep=\",\"\n",
    ")\n",
    "with open(os.path.join(rna_rna_files_dir, \"gene_pairs_training_random_filtered.txt\"), \"rb\") as fp:  # Unpickling\n",
    "                subset = pickle.load(fp)\n",
    "# with open(os.path.join(rna_rna_files_dir, \"gene_pairs_test_random_filtered.txt\"), \"rb\") as fp:  # Unpickling\n",
    "#                 subset = pickle.load(fp)\n",
    "# with open(os.path.join(rna_rna_files_dir, \"gene_pairs_val_random_filtered.txt\"), \"rb\") as fp:  # Unpickling\n",
    "#                 subset = pickle.load(fp)\n",
    "df = df[df.couples.isin(subset)]"
   ]
  },
  {
   "cell_type": "markdown",
   "metadata": {},
   "source": [
    "### Check if RegionSpecificNeg works"
   ]
  },
  {
   "cell_type": "code",
   "execution_count": 6,
   "metadata": {},
   "outputs": [
    {
     "data": {
      "application/vnd.jupyter.widget-view+json": {
       "model_id": "f5223616225a4b1883d1df3199e40ca2",
       "version_major": 2,
       "version_minor": 0
      },
      "text/plain": [
       "0it [00:00, ?it/s]"
      ]
     },
     "metadata": {},
     "output_type": "display_data"
    }
   ],
   "source": [
    "d = {}\n",
    "idx = 0\n",
    "for i, sample in tqdm(enumerate(dataset)):\n",
    "    assert len(sample.all_couple_interactions) == 1\n",
    "    assert sample.all_couple_interactions[0]['interacting'] == False\n",
    "    couple = sample.all_couple_interactions[0]['couple']\n",
    "    gene1, gene2 = sample.gene1, sample.gene2\n",
    "    if gene1 + '_' + gene2 == couple:\n",
    "        are_swapped = False\n",
    "    elif gene2 + '_' + gene1 == couple:\n",
    "        are_swapped = True\n",
    "    else:\n",
    "        assert False\n",
    "    if are_swapped:\n",
    "        gene1, gene2 = gene2, gene1\n",
    "        y1, y2, x1, x2 = sample.bbox.coords\n",
    "    else:\n",
    "        x1, x2, y1, y2 = sample.bbox.coords\n",
    "    subset_gene1 = df[(df.gene1 == gene1)|(df.gene2 == gene1)]\n",
    "    subset_gene1 = subset_gene1[subset_gene1.there_is_interaction == True]\n",
    "    subset_gene2 = df[(df.gene1 == gene2)|(df.gene2 == gene2)]\n",
    "    subset_gene2 = subset_gene2[subset_gene2.there_is_interaction == True]\n",
    "    \n",
    "    theonlyone = subset_gene1.shape[0]+subset_gene2.shape[0] == 1 \n",
    "    \n",
    "    for _, row in subset_gene1.iterrows():\n",
    "        if row.gene1 == gene1:\n",
    "            c1, c2 = row.x1, row.x1 + row.w\n",
    "        elif row.gene2 == gene1:\n",
    "            c1, c2 = row.y1, row.y1 + row.h\n",
    "        else:\n",
    "            assert False\n",
    "        d[idx]={'gene': gene1,\n",
    "                'x1':x1,\n",
    "                'x2':x2,\n",
    "                'real_interaction_x1': c1,\n",
    "                'real_interaction_x2': c2,\n",
    "                'samplegene1': sample.gene1,\n",
    "                'samplegene2': sample.gene2,\n",
    "                'theonlyone':theonlyone\n",
    "               }\n",
    "        idx+=1\n",
    "\n",
    "    for _, row in subset_gene2.iterrows():\n",
    "        if row.gene1 == gene2:\n",
    "            c1, c2 = row.x1, row.x1 + row.w\n",
    "        elif row.gene2 == gene2:\n",
    "            c1, c2 = row.y1, row.y1 + row.h\n",
    "        else:\n",
    "            assert False\n",
    "        d[idx]={'gene': gene2,\n",
    "                'x1':y1,\n",
    "                'x2':y2,\n",
    "                'real_interaction_x1': c1,\n",
    "                'real_interaction_x2': c2,\n",
    "                'samplegene1': sample.gene1,\n",
    "                'samplegene2': sample.gene2,\n",
    "                'theonlyone':theonlyone\n",
    "               }\n",
    "        idx+=1\n",
    "\n",
    "    #if (sample.gene1 == 'ENSG00000167880')&(sample.gene2 == 'ENSG00000108799'):\n",
    "    #ENSG00000167880 ENSG00000108799\n",
    "    # if i == 3:\n",
    "         #break"
   ]
  },
  {
   "cell_type": "code",
   "execution_count": 7,
   "metadata": {},
   "outputs": [],
   "source": [
    "res = pd.DataFrame.from_dict(d, 'index')\n",
    "res2 = res[res.theonlyone == False]\n",
    "res = res[res.theonlyone == True]\n",
    "assert res[res.x1>res.real_interaction_x1].shape[0] == 0\n",
    "assert res[res.x2<res.real_interaction_x2].shape[0] == 0\n",
    "res2 = res2.drop_duplicates().reset_index(drop = True)"
   ]
  },
  {
   "cell_type": "markdown",
   "metadata": {},
   "source": [
    "Controllo su res2"
   ]
  },
  {
   "cell_type": "code",
   "execution_count": 8,
   "metadata": {},
   "outputs": [],
   "source": [
    "res2['id'] = res2.samplegene1 + res2.samplegene2\n",
    "def calc_coords(gene, df):\n",
    "    subset = df[(df.gene1 == gene)]\n",
    "    subset = subset[subset.there_is_interaction == True]\n",
    "    series_x1 = subset.x1\n",
    "    series_x2 = subset.x1 + subset.w\n",
    "\n",
    "    subset = df[(df.gene2 == gene)]\n",
    "    subset = subset[subset.there_is_interaction == True]\n",
    "    series_y1 = subset.y1\n",
    "    series_y2 = subset.y1 + subset.h\n",
    "\n",
    "    coord_x1 = pd.concat([series_x1, series_y1])\n",
    "    coord_x2 = pd.concat([series_x2, series_y2])\n",
    "    return coord_x1, coord_x2"
   ]
  },
  {
   "cell_type": "code",
   "execution_count": 9,
   "metadata": {},
   "outputs": [
    {
     "data": {
      "application/vnd.jupyter.widget-view+json": {
       "model_id": "d1061e8787da4d4a8e9f07b606efdf34",
       "version_major": 2,
       "version_minor": 0
      },
      "text/plain": [
       "  0%|          | 0/17944 [00:00<?, ?it/s]"
      ]
     },
     "metadata": {},
     "output_type": "display_data"
    }
   ],
   "source": [
    "all_genes = set(df.gene1).union(df.gene2)\n",
    "d_genes = {}\n",
    "for g in tqdm(all_genes):\n",
    "    d_genes[g] = calc_coords(g, df)"
   ]
  },
  {
   "cell_type": "code",
   "execution_count": 10,
   "metadata": {
    "tags": []
   },
   "outputs": [
    {
     "data": {
      "application/vnd.jupyter.widget-view+json": {
       "model_id": "3476c323beae4f35a0ae7ce4f1b57da6",
       "version_major": 2,
       "version_minor": 0
      },
      "text/plain": [
       "  0%|          | 0/2449 [00:00<?, ?it/s]"
      ]
     },
     "metadata": {},
     "output_type": "display_data"
    },
    {
     "name": "stderr",
     "output_type": "stream",
     "text": [
      "/tmp/ipykernel_12073/1821462824.py:6: SettingWithCopyWarning: \n",
      "A value is trying to be set on a copy of a slice from a DataFrame.\n",
      "Try using .loc[row_indexer,col_indexer] = value instead\n",
      "\n",
      "See the caveats in the documentation: https://pandas.pydata.org/pandas-docs/stable/user_guide/indexing.html#returning-a-view-versus-a-copy\n",
      "  subset['key'] = subset['x1'].astype(str) + '_' + subset['x2'].astype(str)\n"
     ]
    }
   ],
   "source": [
    "#total time gene_pairs_training_random_filtered: 8 min\n",
    "for idx in tqdm(np.unique(res2['id'])):\n",
    "    coord_x1, coord_x2 = [], []\n",
    "    sampled_x1, sampled_x2 = [], []\n",
    "    subset = res2[res2.id == idx]\n",
    "    subset['key'] = subset['x1'].astype(str) + '_' + subset['x2'].astype(str)\n",
    "    subset = subset.drop_duplicates('key')\n",
    "    for _, row in subset.iterrows():\n",
    "        c1, c2 = d_genes[row.gene]\n",
    "        coord_x1.append(c1)\n",
    "        coord_x2.append(c2)\n",
    "        sampled_x1 += [row.x1 for i in range(len(c1))]\n",
    "        sampled_x2 += [row.x2 for i in range(len(c2))]\n",
    "    coord_x1 = pd.concat(coord_x1).reset_index(drop = True)\n",
    "    coord_x2 = pd.concat(coord_x2).reset_index(drop = True)\n",
    "    sampled_x1 = pd.Series(sampled_x1)\n",
    "    sampled_x2 = pd.Series(sampled_x2)\n",
    "    assert ((sampled_x1 <= coord_x1)&(sampled_x2 >= coord_x2)).any()"
   ]
  },
  {
   "cell_type": "markdown",
   "metadata": {},
   "source": [
    "### Check if EasyPos works"
   ]
  },
  {
   "cell_type": "code",
   "execution_count": 16,
   "metadata": {},
   "outputs": [
    {
     "data": {
      "application/vnd.jupyter.widget-view+json": {
       "model_id": "1601dabb8a5d44fe90266d86cc0b2c99",
       "version_major": 2,
       "version_minor": 0
      },
      "text/plain": [
       "0it [00:00, ?it/s]"
      ]
     },
     "metadata": {},
     "output_type": "display_data"
    }
   ],
   "source": [
    "d = {}\n",
    "idx = 0\n",
    "for i, sample in tqdm(enumerate(dataset)):\n",
    "    #assert len(sample.all_couple_interactions) == 1\n",
    "    couple = sample.all_couple_interactions[0]['couple']\n",
    "    gene1, gene2 = sample.gene1, sample.gene2\n",
    "    if gene1 + '_' + gene2 == couple:\n",
    "        are_swapped = False\n",
    "    elif gene2 + '_' + gene1 == couple:\n",
    "        are_swapped = True\n",
    "    else:\n",
    "        assert False\n",
    "    if are_swapped:\n",
    "        gene1, gene2 = gene2, gene1\n",
    "        y1, y2, x1, x2 = sample.bbox.coords\n",
    "    else:\n",
    "        x1, x2, y1, y2 = sample.bbox.coords\n",
    "    subset = df[(df.gene1 == gene1)&(df.gene2 == gene2)]\n",
    "    theonlyone = subset.shape[0] == 1\n",
    "    for _, row in subset.iterrows():\n",
    "        d[idx]={'gene1': gene1,\n",
    "                'x1':x1,\n",
    "                'x2':x2,\n",
    "                'real_interaction_x1': row.x1,\n",
    "                'real_interaction_x2': row.x1 + row.w,\n",
    "                'gene2': gene2,\n",
    "                'y1':y1,\n",
    "                'y2':y2,\n",
    "                'real_interaction_y1': row.y1,\n",
    "                'real_interaction_y2': row.y1 + row.h,\n",
    "                'theonlyone':theonlyone\n",
    "               }\n",
    "        idx+=1"
   ]
  },
  {
   "cell_type": "code",
   "execution_count": 17,
   "metadata": {},
   "outputs": [],
   "source": [
    "res = pd.DataFrame.from_dict(d, 'index')\n",
    "res2 = res[res.theonlyone == False]\n",
    "res = res[res.theonlyone == True]"
   ]
  },
  {
   "cell_type": "code",
   "execution_count": 18,
   "metadata": {},
   "outputs": [],
   "source": [
    "assert ((res.x1<=res.real_interaction_x1) & \n",
    "        (res.x2>=res.real_interaction_x2) & \n",
    "        (res.y1<=res.real_interaction_y1) &\n",
    "        (res.y2>=res.real_interaction_y2)).all()"
   ]
  },
  {
   "cell_type": "code",
   "execution_count": 19,
   "metadata": {},
   "outputs": [],
   "source": [
    "res2['id'] = res2[['gene1', 'gene2']].agg('_'.join, axis=1)"
   ]
  },
  {
   "cell_type": "code",
   "execution_count": 20,
   "metadata": {},
   "outputs": [
    {
     "data": {
      "application/vnd.jupyter.widget-view+json": {
       "model_id": "c9adf27e06c84c388f0fb0a0a47e8d65",
       "version_major": 2,
       "version_minor": 0
      },
      "text/plain": [
       "  0%|          | 0/1053 [00:00<?, ?it/s]"
      ]
     },
     "metadata": {},
     "output_type": "display_data"
    }
   ],
   "source": [
    "for idx in tqdm(np.unique(res2['id'])):\n",
    "    real = df[df.couples == idx]\n",
    "    assert real.shape[0]>0\n",
    "    coord_x1, coord_x2 = real.x1, real.x1 + real.w\n",
    "    coord_y1, coord_y2 = real.y1, real.y1 + real.h\n",
    "    subset = res2[res2.id == idx]\n",
    "    for  _, row in subset.iterrows():\n",
    "        x1, x2, y1, y2 = row.x1, row.x2, row.y1, row.y2\n",
    "        assert ((x1 <= coord_x1)&(x2 >= coord_x2)&(y1 <= coord_y1)&(y2 >= coord_y2)).any()"
   ]
  },
  {
   "cell_type": "markdown",
   "metadata": {},
   "source": [
    "### Check if HardPos works"
   ]
  },
  {
   "cell_type": "code",
   "execution_count": 24,
   "metadata": {},
   "outputs": [
    {
     "data": {
      "application/vnd.jupyter.widget-view+json": {
       "model_id": "ffc9a2b9710c48a6933513d28f1180db",
       "version_major": 2,
       "version_minor": 0
      },
      "text/plain": [
       "0it [00:00, ?it/s]"
      ]
     },
     "metadata": {},
     "output_type": "display_data"
    }
   ],
   "source": [
    "d = {}\n",
    "idx = 0\n",
    "for i, sample in tqdm(enumerate(dataset)):\n",
    "    #assert len(sample.all_couple_interactions) == 1\n",
    "    couple = sample.all_couple_interactions[0]['couple']\n",
    "    gene1, gene2 = sample.gene1, sample.gene2\n",
    "    if gene1 + '_' + gene2 == couple:\n",
    "        are_swapped = False\n",
    "    elif gene2 + '_' + gene1 == couple:\n",
    "        are_swapped = True\n",
    "    else:\n",
    "        assert False\n",
    "    if are_swapped:\n",
    "        gene1, gene2 = gene2, gene1\n",
    "        y1, y2, x1, x2 = sample.bbox.coords\n",
    "    else:\n",
    "        x1, x2, y1, y2 = sample.bbox.coords\n",
    "    subset = df[(df.gene1 == gene1)&(df.gene2 == gene2)]\n",
    "    theonlyone = subset.shape[0] == 1\n",
    "    for _, row in subset.iterrows():\n",
    "        d[idx]={'gene1': gene1,\n",
    "                'x1':x1,\n",
    "                'x2':x2,\n",
    "                'real_interaction_x1': row.x1,\n",
    "                'real_interaction_x2': row.x1 + row.w,\n",
    "                'gene2': gene2,\n",
    "                'y1':y1,\n",
    "                'y2':y2,\n",
    "                'real_interaction_y1': row.y1,\n",
    "                'real_interaction_y2': row.y1 + row.h,\n",
    "                'theonlyone':theonlyone\n",
    "               }\n",
    "        idx+=1\n",
    "res = pd.DataFrame.from_dict(d, 'index')\n",
    "res2 = res[res.theonlyone == False]\n",
    "res = res[res.theonlyone == True]"
   ]
  },
  {
   "cell_type": "code",
   "execution_count": 25,
   "metadata": {},
   "outputs": [],
   "source": [
    "assert (\n",
    "    (res.x1<=res.real_interaction_x1)|(res.x2>=res.real_interaction_x2) &\n",
    "    ((res.y1<=res.real_interaction_y1)|(res.y2>=res.real_interaction_y2))\n",
    ").all()"
   ]
  },
  {
   "cell_type": "markdown",
   "metadata": {},
   "source": [
    "### Check if EasyNeg works"
   ]
  },
  {
   "cell_type": "code",
   "execution_count": 28,
   "metadata": {},
   "outputs": [
    {
     "data": {
      "application/vnd.jupyter.widget-view+json": {
       "model_id": "51565528a40044ee8bc9c8f71c195698",
       "version_major": 2,
       "version_minor": 0
      },
      "text/plain": [
       "0it [00:00, ?it/s]"
      ]
     },
     "metadata": {},
     "output_type": "display_data"
    }
   ],
   "source": [
    "d = {}\n",
    "idx = 0\n",
    "for i, sample in tqdm(enumerate(dataset)):\n",
    "    assert len(sample.all_couple_interactions) == 1\n",
    "    couple = sample.all_couple_interactions[0]['couple']\n",
    "    subset = df[(df.couples == couple)]\n",
    "    assert (subset.there_is_interaction == False).all()"
   ]
  },
  {
   "cell_type": "markdown",
   "metadata": {},
   "source": [
    "### Check if HardNeg works"
   ]
  },
  {
   "cell_type": "code",
   "execution_count": 32,
   "metadata": {},
   "outputs": [
    {
     "data": {
      "application/vnd.jupyter.widget-view+json": {
       "model_id": "f6e81c7e322547e2a9c1fc23373ceb75",
       "version_major": 2,
       "version_minor": 0
      },
      "text/plain": [
       "0it [00:00, ?it/s]"
      ]
     },
     "metadata": {},
     "output_type": "display_data"
    }
   ],
   "source": [
    "d = {}\n",
    "idx = 0\n",
    "for i, sample in tqdm(enumerate(dataset)):\n",
    "    #assert len(sample.all_couple_interactions) == 1\n",
    "    couple = sample.all_couple_interactions[0]['couple']\n",
    "    gene1, gene2 = sample.gene1, sample.gene2\n",
    "    if gene1 + '_' + gene2 == couple:\n",
    "        are_swapped = False\n",
    "    elif gene2 + '_' + gene1 == couple:\n",
    "        are_swapped = True\n",
    "    else:\n",
    "        assert False\n",
    "    if are_swapped:\n",
    "        gene1, gene2 = gene2, gene1\n",
    "        y1, y2, x1, x2 = sample.bbox.coords\n",
    "    else:\n",
    "        x1, x2, y1, y2 = sample.bbox.coords\n",
    "    subset = df[(df.gene1 == gene1)&(df.gene2 == gene2)]\n",
    "    assert (subset.there_is_interaction == True).all()\n",
    "    theonlyone = subset.shape[0] == 1\n",
    "    for _, row in subset.iterrows():\n",
    "        d[idx]={'gene1': gene1,\n",
    "                'x1':x1,\n",
    "                'x2':x2,\n",
    "                'real_interaction_x1': row.x1,\n",
    "                'real_interaction_x2': row.x1 + row.w,\n",
    "                'gene2': gene2,\n",
    "                'y1':y1,\n",
    "                'y2':y2,\n",
    "                'real_interaction_y1': row.y1,\n",
    "                'real_interaction_y2': row.y1 + row.h,\n",
    "                'theonlyone':theonlyone\n",
    "               }\n",
    "        idx+=1\n",
    "res = pd.DataFrame.from_dict(d, 'index')\n",
    "res2 = res[res.theonlyone == False]\n",
    "res = res[res.theonlyone == True]"
   ]
  },
  {
   "cell_type": "code",
   "execution_count": 33,
   "metadata": {},
   "outputs": [],
   "source": [
    "assert ((res.x2<=res.real_interaction_x1)|(res.x1>=res.real_interaction_x2)|\n",
    "        (res.y2<=res.real_interaction_y1)|(res.y1>=res.real_interaction_y2)\n",
    "       ).all()"
   ]
  }
 ],
 "metadata": {
  "kernelspec": {
   "display_name": "Python 3 (ipykernel)",
   "language": "python",
   "name": "python3"
  },
  "language_info": {
   "codemirror_mode": {
    "name": "ipython",
    "version": 3
   },
   "file_extension": ".py",
   "mimetype": "text/x-python",
   "name": "python",
   "nbconvert_exporter": "python",
   "pygments_lexer": "ipython3",
   "version": "3.9.7"
  },
  "vscode": {
   "interpreter": {
    "hash": "28f202d77f1a85c5cab767fd2089c1bba19c245ba743de17ef12d30078485197"
   }
  }
 },
 "nbformat": 4,
 "nbformat_minor": 4
}
