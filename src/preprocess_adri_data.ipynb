{
 "cells": [
  {
   "cell_type": "markdown",
   "id": "75fd7e20-8dab-4f31-a886-2801a259b193",
   "metadata": {},
   "source": [
    "# Code"
   ]
  },
  {
   "cell_type": "code",
   "execution_count": 1,
   "id": "685f531f",
   "metadata": {},
   "outputs": [],
   "source": [
    "import pandas as pd\n",
    "import os\n",
    "import time\n",
    "import numpy as np\n",
    "import sys\n",
    "from tqdm.notebook import tqdm\n",
    "sys.path.insert(0, '..')\n",
    "import dataset.preprocessing as utils"
   ]
  },
  {
   "cell_type": "code",
   "execution_count": 2,
   "id": "cfdaa078-478c-4e41-b3c6-57ae5a98fb33",
   "metadata": {},
   "outputs": [],
   "source": [
    "ROOT_DIR = os.path.dirname(os.path.abspath('.'))\n",
    "original_files_dir = os.path.join(ROOT_DIR, 'dataset', 'original_files')\n",
    "processed_files_dir = os.path.join(ROOT_DIR, 'dataset', 'processed_files')\n",
    "rna_rna_pairs_data_dir = os.path.join(ROOT_DIR, 'dataset', 'rna_rna_pairs')"
   ]
  },
  {
   "cell_type": "markdown",
   "id": "0c4ff3bd-6803-470d-a1bd-3a21e6d1e19b",
   "metadata": {},
   "source": [
    "### Pre-processing"
   ]
  },
  {
   "cell_type": "code",
   "execution_count": 3,
   "id": "497655dd-0964-429a-9985-d99f3cebec6d",
   "metadata": {},
   "outputs": [],
   "source": [
    "df_hub = utils.read_dataframe(os.path.join(original_files_dir, 'hub.table.paris.txt'), columns_to_drop = ['Unnamed: 0','gene_name']).rename({'cell_line': 'cell_line_set',\n",
    "                                                                                                                                                    'degree':'n_interactors',\n",
    "                                                                                                                                                    'gene_type': 'gene_type_set',\n",
    "                                                                                                                                                    'species': 'species_set'}, axis = 1)\n",
    "tx = utils.read_dataframe(os.path.join(original_files_dir,'tx_regions.ens99.txt'), columns_to_drop = ['Unnamed: 0','ensembl_transcript_id']).rename({'ensembl_gene_id': 'gene_id'}, axis = 1)\n",
    "cc = pd.read_csv(os.path.join(original_files_dir,'controls_controlled.hub.txt'), sep = '\\t')\n",
    "int_or = utils.read_dataframe(os.path.join(original_files_dir, 'rise_paris_tr.new.mapped_interactions.tx_regions.txt'), columns_to_drop = ['Unnamed: 0', 'gene_name1', 'gene_name2', 'score', 'tx_id_1', 'tx_id_2', 'rise_id', 'type_interaction', 'tx_id_1_localization', 'tx_id_2_localization'])\n",
    "\n",
    "df_genes = df_hub.merge(tx, on = 'gene_id')\n",
    "assert df_genes.shape[0] == df_hub.shape[0]"
   ]
  },
  {
   "cell_type": "code",
   "execution_count": 4,
   "id": "0e7b1e9c-91cc-4a58-b2a8-91f2579abe1e",
   "metadata": {},
   "outputs": [],
   "source": [
    "int_or_all = utils.read_dataframe(os.path.join(original_files_dir, 'rise_paris_tr.new.mapped_interactions.tx_regions.txt'), columns_to_drop = ['rise_id','Unnamed: 0', 'type_interaction'])"
   ]
  },
  {
   "cell_type": "code",
   "execution_count": 5,
   "id": "0a51a73d-3a39-4d63-a88e-c1a5607ad418",
   "metadata": {},
   "outputs": [
    {
     "data": {
      "text/plain": [
       "90086"
      ]
     },
     "execution_count": 5,
     "metadata": {},
     "output_type": "execute_result"
    }
   ],
   "source": [
    "int_or_all.drop_duplicates().shape[0]"
   ]
  },
  {
   "cell_type": "code",
   "execution_count": 6,
   "id": "16cfd973-5d23-40f9-9747-ac773b8c8ec7",
   "metadata": {},
   "outputs": [
    {
     "data": {
      "text/plain": [
       "92173"
      ]
     },
     "execution_count": 6,
     "metadata": {},
     "output_type": "execute_result"
    }
   ],
   "source": [
    "int_or.shape[0]"
   ]
  },
  {
   "cell_type": "code",
   "execution_count": 7,
   "id": "2a95e013-bcbd-42be-ae4b-b76858f58123",
   "metadata": {},
   "outputs": [
    {
     "data": {
      "text/plain": [
       "89971"
      ]
     },
     "execution_count": 7,
     "metadata": {},
     "output_type": "execute_result"
    }
   ],
   "source": [
    "int_or = int_or.drop_duplicates().reset_index(drop = True)\n",
    "int_or.shape[0]"
   ]
  },
  {
   "cell_type": "code",
   "execution_count": 8,
   "id": "30fa167f-b15a-4b2f-83ed-91248a5ce12a",
   "metadata": {},
   "outputs": [],
   "source": [
    "df_pairs_full = utils.obtain_df_pos_controls(cc)"
   ]
  },
  {
   "cell_type": "code",
   "execution_count": 9,
   "id": "0f73dcaa-bfa7-4767-9f51-fd299f71c4dd",
   "metadata": {},
   "outputs": [
    {
     "name": "stdout",
     "output_type": "stream",
     "text": [
      "We have 80494 pairs interacting (they can have multiple interactions) \n",
      "\n",
      "We have 160511 pairs not interacting \n",
      "\n"
     ]
    }
   ],
   "source": [
    "print(f'We have {len(set(df_pairs_full.positive))} pairs interacting (they can have multiple interactions) \\n')\n",
    "print(f'We have {len(set(df_pairs_full.negative))} pairs not interacting \\n')"
   ]
  },
  {
   "cell_type": "code",
   "execution_count": 10,
   "id": "023dbe0c-9ade-49d3-b1ca-6b8573b18187",
   "metadata": {},
   "outputs": [],
   "source": [
    "df_pairs_full.to_csv(os.path.join(processed_files_dir, 'df_pairs_full.csv'), index = False)"
   ]
  },
  {
   "cell_type": "code",
   "execution_count": 11,
   "id": "7d986478-382b-4a55-9f5d-e2207b0beadd",
   "metadata": {},
   "outputs": [],
   "source": [
    "# LEVA I COMMENTI\n",
    "\n",
    "# assert len(set(df_pairs.positive).intersection(set(int_or.gene_id1 + '_' + int_or.gene_id2))) > 0\n",
    "# assert len(set(df_pairs.positive).intersection(set(int_or.gene_id2 + '_' + int_or.gene_id1))) > 0\n",
    "\n",
    "# assert len(set(df_pairs.negative).intersection(set(int_or.gene_id1 + '_' + int_or.gene_id2))) == 0\n",
    "# assert len(set(df_pairs.negative).intersection(set(int_or.gene_id2 + '_' + int_or.gene_id1))) == 0"
   ]
  },
  {
   "cell_type": "code",
   "execution_count": 12,
   "id": "525854c0-e941-46c0-9bd0-98d098a4cfdb",
   "metadata": {},
   "outputs": [],
   "source": [
    "df_neg = df_pairs_full[['negative']].drop_duplicates().reset_index(drop = True)\n",
    "df_neg[['gene1', 'gene2']] = df_neg['negative'].str.split('_', expand = True)\n",
    "df_neg = df_neg.rename({'negative':'couples'}, axis = 1)\n",
    "\n",
    "df_pairs = df_pairs_full.groupby('positive').agg({'negative': list}).reset_index()"
   ]
  },
  {
   "cell_type": "code",
   "execution_count": 13,
   "id": "653bf7a5-ed9a-4938-acf7-e7fe258f64a2",
   "metadata": {},
   "outputs": [],
   "source": [
    "int_or[['couples', 'need_to_swap']] = int_or[['gene_id1', 'gene_id2']].apply(utils.create_pairs, axis = 1)"
   ]
  },
  {
   "cell_type": "code",
   "execution_count": 14,
   "id": "85328018-11fc-463e-862c-47b9ec71e253",
   "metadata": {},
   "outputs": [],
   "source": [
    "int_or = utils.swap_genes_if_needed(int_or)"
   ]
  },
  {
   "cell_type": "code",
   "execution_count": 15,
   "id": "4c9651e4-dd93-4886-b0a5-038c8924df06",
   "metadata": {},
   "outputs": [],
   "source": [
    "assert (int_or[['gene_id1', 'gene_id2']].apply(utils.create_pairs, axis = 1)[1] == False).all() #check if swapping works"
   ]
  },
  {
   "cell_type": "code",
   "execution_count": 16,
   "id": "36c988cd-bcb4-4940-9b20-8a98abdc8a8e",
   "metadata": {},
   "outputs": [
    {
     "data": {
      "text/plain": [
       "88999"
      ]
     },
     "execution_count": 16,
     "metadata": {},
     "output_type": "execute_result"
    }
   ],
   "source": [
    "int_or.drop_duplicates().shape[0]"
   ]
  },
  {
   "cell_type": "code",
   "execution_count": 17,
   "id": "f3476d97-a892-4a1d-a233-174ad88b7afe",
   "metadata": {},
   "outputs": [],
   "source": [
    "int_or = utils.create_features(int_or)"
   ]
  },
  {
   "cell_type": "code",
   "execution_count": 18,
   "id": "27bb7407-a450-4043-a902-88c02e1802f8",
   "metadata": {},
   "outputs": [
    {
     "data": {
      "text/plain": [
       "88999"
      ]
     },
     "execution_count": 18,
     "metadata": {},
     "output_type": "execute_result"
    }
   ],
   "source": [
    "int_or.drop_duplicates().shape[0]"
   ]
  },
  {
   "cell_type": "code",
   "execution_count": 19,
   "id": "adc34529-ce86-4295-8a60-e28ecf50fd42",
   "metadata": {},
   "outputs": [],
   "source": [
    "assert int_or.groupby('gene_id1').std(numeric_only = True).protein_coding_1.max() == 0\n",
    "assert int_or.groupby('gene_id2').std(numeric_only = True).protein_coding_2.max() == 0\n",
    "\n",
    "assert int_or.groupby('gene_id1').std(numeric_only = True).length_1.max() == 0\n",
    "assert int_or.groupby('gene_id2').std(numeric_only = True).length_2.max() == 0\n",
    "\n",
    "idx = np.random.randint(int_or.shape[0])\n",
    "assert int_or.loc[idx].length_1 == len(int_or.loc[idx].cdna_1)\n",
    "assert int_or.loc[idx].length_2 == len(int_or.loc[idx].cdna_2)"
   ]
  },
  {
   "cell_type": "markdown",
   "id": "c6106d43-9af8-4b5c-aab5-14dfba61d979",
   "metadata": {},
   "source": [
    "### Gene info df"
   ]
  },
  {
   "cell_type": "code",
   "execution_count": 22,
   "id": "b6a1a9a5-9872-4354-aaab-8e13a0d0d90c",
   "metadata": {},
   "outputs": [],
   "source": [
    "gene_info1 = int_or[['gene_id1', 'length_1', 'cdna_1', 'protein_coding_1']]\n",
    "gene_info1.columns = ['gene_id', 'length', 'cdna', 'protein_coding']\n",
    "gene_info2 = int_or[['gene_id2', 'length_2', 'cdna_2', 'protein_coding_2']]\n",
    "gene_info2.columns = ['gene_id', 'length', 'cdna', 'protein_coding']\n",
    "gene_info = pd.concat([gene_info1, gene_info2], axis = 0, ignore_index = True).drop_duplicates()\n",
    "#assert set(gene_info.gene_id) == set(df_genes.gene_id)\n",
    "df_genes = df_genes.merge(gene_info)\n",
    "df_genes.to_csv(os.path.join(processed_files_dir, 'df_genes.csv'), index = False)"
   ]
  },
  {
   "cell_type": "code",
   "execution_count": 23,
   "id": "2334d7ea-f6a9-4a1e-b6c1-c3076d8ff961",
   "metadata": {},
   "outputs": [],
   "source": [
    "#clean int_or\n",
    "int_or = int_or.drop(['cdna_1', 'cdna_2'], axis = 1)"
   ]
  },
  {
   "cell_type": "markdown",
   "id": "dab1efbb-8073-4979-9f94-c1524997142e",
   "metadata": {},
   "source": [
    "### Clean bounding boxes of df interactions"
   ]
  },
  {
   "cell_type": "code",
   "execution_count": 24,
   "id": "11b11f6f-e14c-48a3-ad5a-4792a75fee02",
   "metadata": {},
   "outputs": [],
   "source": [
    "df_boxes = int_or.filter(['start_map1', 'end_map1', 'start_map2', 'end_map2','area_of_the_interaction'], axis = 1).apply(utils.create_boxes_xywh, axis = 1).rename({0: 'x1', 1: 'y1', 2:'w', 3:'h'}, axis = 1)\n",
    "int_or = pd.concat([int_or, df_boxes], axis = 1).drop(['start_map1', 'end_map1', 'start_map2', 'end_map2'], axis = 1)"
   ]
  },
  {
   "cell_type": "code",
   "execution_count": 25,
   "id": "219a9bab-c76d-4d9a-9837-2c715c05499a",
   "metadata": {},
   "outputs": [
    {
     "data": {
      "application/vnd.jupyter.widget-view+json": {
       "model_id": "fcd1f911c39b4ca491ce30350aef4da3",
       "version_major": 2,
       "version_minor": 0
      },
      "text/plain": [
       "  0%|          | 0/85127 [00:00<?, ?it/s]"
      ]
     },
     "metadata": {},
     "output_type": "display_data"
    }
   ],
   "source": [
    "#approx 13 min\n",
    "diz_int = {}\n",
    "idx = 0\n",
    "for couple in tqdm(int_or.couples.unique()):\n",
    "    subset = int_or[int_or.couples == couple]\n",
    "    list_of_boxes = subset.filter(['x1', 'y1', 'w', 'h']).values.tolist()\n",
    "    new_list_of_boxes = utils.clean_bounding_boxes(list_of_boxes)\n",
    "    row = int_or[int_or.couples == couple].iloc[0]\n",
    "    for box in new_list_of_boxes:\n",
    "        d = dict(row)\n",
    "        d['x1'] = box[0]\n",
    "        d['y1'] = box[1] \n",
    "        d['w'] = box[2]\n",
    "        d['h'] = box[3]\n",
    "        diz_int[idx] = d\n",
    "        idx+=1"
   ]
  },
  {
   "cell_type": "code",
   "execution_count": 26,
   "id": "51272abd-31b7-4f77-92e7-87cb666d1bc2",
   "metadata": {},
   "outputs": [],
   "source": [
    "df_int = pd.DataFrame.from_dict(diz_int, 'index').rename({'gene_id1':'gene1', 'gene_id2':'gene2'}, axis = 1)"
   ]
  },
  {
   "cell_type": "code",
   "execution_count": 27,
   "id": "9a0f9950-e30a-443a-b731-58be7ef6a119",
   "metadata": {},
   "outputs": [],
   "source": [
    "assert len(int_or.couples.unique()) == len(df_int.couples.unique())"
   ]
  },
  {
   "cell_type": "code",
   "execution_count": 28,
   "id": "526fe6a9-0f76-4ff6-aa97-92999811fb43",
   "metadata": {},
   "outputs": [
    {
     "name": "stdout",
     "output_type": "stream",
     "text": [
      "#interazioni prima 89971, #interazioni dopo: 88106\n"
     ]
    }
   ],
   "source": [
    "print(f'#interazioni prima {int_or.shape[0]}, #interazioni dopo: {df_int.shape[0]}')"
   ]
  },
  {
   "cell_type": "code",
   "execution_count": 29,
   "id": "5a16cbd7-b99d-4a07-91af-9092738fbfe6",
   "metadata": {},
   "outputs": [],
   "source": [
    "df_int.to_csv(os.path.join(processed_files_dir, 'full_paris_info_interactions.csv'), index = False)"
   ]
  },
  {
   "cell_type": "code",
   "execution_count": 30,
   "id": "73ae1fab-dbea-413a-b550-cccefb1b89c9",
   "metadata": {},
   "outputs": [],
   "source": [
    "df_int = df_int[['couples', 'gene1', 'gene2', \n",
    "                 'interacting', 'length_1', 'length_2',\n",
    "                 'protein_coding_1', 'protein_coding_2',\n",
    "                 'x1', 'y1', 'w', 'h']]"
   ]
  },
  {
   "cell_type": "code",
   "execution_count": 31,
   "id": "0131c473-1bd0-4c7c-a1f7-cd83639bbfc8",
   "metadata": {},
   "outputs": [
    {
     "data": {
      "text/html": [
       "<div>\n",
       "<style scoped>\n",
       "    .dataframe tbody tr th:only-of-type {\n",
       "        vertical-align: middle;\n",
       "    }\n",
       "\n",
       "    .dataframe tbody tr th {\n",
       "        vertical-align: top;\n",
       "    }\n",
       "\n",
       "    .dataframe thead th {\n",
       "        text-align: right;\n",
       "    }\n",
       "</style>\n",
       "<table border=\"1\" class=\"dataframe\">\n",
       "  <thead>\n",
       "    <tr style=\"text-align: right;\">\n",
       "      <th></th>\n",
       "      <th>couples</th>\n",
       "      <th>gene1</th>\n",
       "      <th>gene2</th>\n",
       "      <th>interacting</th>\n",
       "      <th>length_1</th>\n",
       "      <th>length_2</th>\n",
       "      <th>protein_coding_1</th>\n",
       "      <th>protein_coding_2</th>\n",
       "      <th>x1</th>\n",
       "      <th>y1</th>\n",
       "      <th>w</th>\n",
       "      <th>h</th>\n",
       "    </tr>\n",
       "  </thead>\n",
       "  <tbody>\n",
       "    <tr>\n",
       "      <th>42028</th>\n",
       "      <td>ENSG00000005022_ENSG00000234421</td>\n",
       "      <td>ENSG00000005022</td>\n",
       "      <td>ENSG00000234421</td>\n",
       "      <td>True</td>\n",
       "      <td>1307</td>\n",
       "      <td>869</td>\n",
       "      <td>True</td>\n",
       "      <td>False</td>\n",
       "      <td>831</td>\n",
       "      <td>752</td>\n",
       "      <td>21</td>\n",
       "      <td>20</td>\n",
       "    </tr>\n",
       "    <tr>\n",
       "      <th>42029</th>\n",
       "      <td>ENSG00000005022_ENSG00000234421</td>\n",
       "      <td>ENSG00000005022</td>\n",
       "      <td>ENSG00000234421</td>\n",
       "      <td>True</td>\n",
       "      <td>1307</td>\n",
       "      <td>869</td>\n",
       "      <td>True</td>\n",
       "      <td>False</td>\n",
       "      <td>265</td>\n",
       "      <td>228</td>\n",
       "      <td>23</td>\n",
       "      <td>23</td>\n",
       "    </tr>\n",
       "  </tbody>\n",
       "</table>\n",
       "</div>"
      ],
      "text/plain": [
       "                               couples            gene1            gene2  \\\n",
       "42028  ENSG00000005022_ENSG00000234421  ENSG00000005022  ENSG00000234421   \n",
       "42029  ENSG00000005022_ENSG00000234421  ENSG00000005022  ENSG00000234421   \n",
       "\n",
       "       interacting  length_1  length_2  protein_coding_1  protein_coding_2  \\\n",
       "42028         True      1307       869              True             False   \n",
       "42029         True      1307       869              True             False   \n",
       "\n",
       "        x1   y1   w   h  \n",
       "42028  831  752  21  20  \n",
       "42029  265  228  23  23  "
      ]
     },
     "execution_count": 31,
     "metadata": {},
     "output_type": "execute_result"
    }
   ],
   "source": [
    "df_int[df_int.couples == 'ENSG00000005022_ENSG00000234421']"
   ]
  },
  {
   "cell_type": "code",
   "execution_count": 32,
   "id": "87891f00-ee7e-4a59-91d9-f54669c78748",
   "metadata": {},
   "outputs": [
    {
     "data": {
      "text/html": [
       "<div>\n",
       "<style scoped>\n",
       "    .dataframe tbody tr th:only-of-type {\n",
       "        vertical-align: middle;\n",
       "    }\n",
       "\n",
       "    .dataframe tbody tr th {\n",
       "        vertical-align: top;\n",
       "    }\n",
       "\n",
       "    .dataframe thead th {\n",
       "        text-align: right;\n",
       "    }\n",
       "</style>\n",
       "<table border=\"1\" class=\"dataframe\">\n",
       "  <thead>\n",
       "    <tr style=\"text-align: right;\">\n",
       "      <th></th>\n",
       "      <th>couples</th>\n",
       "      <th>gene1</th>\n",
       "      <th>gene2</th>\n",
       "      <th>interacting</th>\n",
       "      <th>length_1</th>\n",
       "      <th>length_2</th>\n",
       "      <th>protein_coding_1</th>\n",
       "      <th>protein_coding_2</th>\n",
       "      <th>x1</th>\n",
       "      <th>y1</th>\n",
       "      <th>w</th>\n",
       "      <th>h</th>\n",
       "    </tr>\n",
       "  </thead>\n",
       "  <tbody>\n",
       "    <tr>\n",
       "      <th>42029</th>\n",
       "      <td>ENSG00000005022_ENSG00000234421</td>\n",
       "      <td>ENSG00000005022</td>\n",
       "      <td>ENSG00000234421</td>\n",
       "      <td>True</td>\n",
       "      <td>1307</td>\n",
       "      <td>869</td>\n",
       "      <td>True</td>\n",
       "      <td>False</td>\n",
       "      <td>265</td>\n",
       "      <td>228</td>\n",
       "      <td>23</td>\n",
       "      <td>23</td>\n",
       "    </tr>\n",
       "    <tr>\n",
       "      <th>3028</th>\n",
       "      <td>ENSG00000006327_ENSG00000198886</td>\n",
       "      <td>ENSG00000006327</td>\n",
       "      <td>ENSG00000198886</td>\n",
       "      <td>True</td>\n",
       "      <td>1133</td>\n",
       "      <td>1378</td>\n",
       "      <td>True</td>\n",
       "      <td>True</td>\n",
       "      <td>875</td>\n",
       "      <td>1101</td>\n",
       "      <td>35</td>\n",
       "      <td>39</td>\n",
       "    </tr>\n",
       "    <tr>\n",
       "      <th>3029</th>\n",
       "      <td>ENSG00000006327_ENSG00000198886</td>\n",
       "      <td>ENSG00000006327</td>\n",
       "      <td>ENSG00000198886</td>\n",
       "      <td>True</td>\n",
       "      <td>1133</td>\n",
       "      <td>1378</td>\n",
       "      <td>True</td>\n",
       "      <td>True</td>\n",
       "      <td>856</td>\n",
       "      <td>461</td>\n",
       "      <td>54</td>\n",
       "      <td>39</td>\n",
       "    </tr>\n",
       "    <tr>\n",
       "      <th>16378</th>\n",
       "      <td>ENSG00000006831_ENSG00000229807</td>\n",
       "      <td>ENSG00000006831</td>\n",
       "      <td>ENSG00000229807</td>\n",
       "      <td>True</td>\n",
       "      <td>3971</td>\n",
       "      <td>19245</td>\n",
       "      <td>True</td>\n",
       "      <td>False</td>\n",
       "      <td>589</td>\n",
       "      <td>17178</td>\n",
       "      <td>23</td>\n",
       "      <td>22</td>\n",
       "    </tr>\n",
       "    <tr>\n",
       "      <th>38457</th>\n",
       "      <td>ENSG00000008128_ENSG00000248333</td>\n",
       "      <td>ENSG00000008128</td>\n",
       "      <td>ENSG00000248333</td>\n",
       "      <td>True</td>\n",
       "      <td>2984</td>\n",
       "      <td>2998</td>\n",
       "      <td>True</td>\n",
       "      <td>True</td>\n",
       "      <td>2546</td>\n",
       "      <td>2528</td>\n",
       "      <td>41</td>\n",
       "      <td>32</td>\n",
       "    </tr>\n",
       "    <tr>\n",
       "      <th>...</th>\n",
       "      <td>...</td>\n",
       "      <td>...</td>\n",
       "      <td>...</td>\n",
       "      <td>...</td>\n",
       "      <td>...</td>\n",
       "      <td>...</td>\n",
       "      <td>...</td>\n",
       "      <td>...</td>\n",
       "      <td>...</td>\n",
       "      <td>...</td>\n",
       "      <td>...</td>\n",
       "      <td>...</td>\n",
       "    </tr>\n",
       "    <tr>\n",
       "      <th>57380</th>\n",
       "      <td>ENSMUSG00000098178_ENSMUSG00000107822</td>\n",
       "      <td>ENSMUSG00000098178</td>\n",
       "      <td>ENSMUSG00000107822</td>\n",
       "      <td>True</td>\n",
       "      <td>1831</td>\n",
       "      <td>1064</td>\n",
       "      <td>False</td>\n",
       "      <td>True</td>\n",
       "      <td>868</td>\n",
       "      <td>306</td>\n",
       "      <td>24</td>\n",
       "      <td>22</td>\n",
       "    </tr>\n",
       "    <tr>\n",
       "      <th>60453</th>\n",
       "      <td>ENSMUSG00000098178_ENSMUSG00000109324</td>\n",
       "      <td>ENSMUSG00000098178</td>\n",
       "      <td>ENSMUSG00000109324</td>\n",
       "      <td>True</td>\n",
       "      <td>1831</td>\n",
       "      <td>2147</td>\n",
       "      <td>False</td>\n",
       "      <td>True</td>\n",
       "      <td>650</td>\n",
       "      <td>1735</td>\n",
       "      <td>34</td>\n",
       "      <td>22</td>\n",
       "    </tr>\n",
       "    <tr>\n",
       "      <th>65742</th>\n",
       "      <td>ENSMUSG00000098178_ENSMUSG00000109508</td>\n",
       "      <td>ENSMUSG00000098178</td>\n",
       "      <td>ENSMUSG00000109508</td>\n",
       "      <td>True</td>\n",
       "      <td>1831</td>\n",
       "      <td>2887</td>\n",
       "      <td>False</td>\n",
       "      <td>False</td>\n",
       "      <td>1332</td>\n",
       "      <td>1703</td>\n",
       "      <td>39</td>\n",
       "      <td>19</td>\n",
       "    </tr>\n",
       "    <tr>\n",
       "      <th>60644</th>\n",
       "      <td>ENSMUSG00000098178_ENSMUSG00000115420</td>\n",
       "      <td>ENSMUSG00000098178</td>\n",
       "      <td>ENSMUSG00000115420</td>\n",
       "      <td>True</td>\n",
       "      <td>1831</td>\n",
       "      <td>281</td>\n",
       "      <td>False</td>\n",
       "      <td>False</td>\n",
       "      <td>915</td>\n",
       "      <td>176</td>\n",
       "      <td>21</td>\n",
       "      <td>20</td>\n",
       "    </tr>\n",
       "    <tr>\n",
       "      <th>60645</th>\n",
       "      <td>ENSMUSG00000098178_ENSMUSG00000115420</td>\n",
       "      <td>ENSMUSG00000098178</td>\n",
       "      <td>ENSMUSG00000115420</td>\n",
       "      <td>True</td>\n",
       "      <td>1831</td>\n",
       "      <td>281</td>\n",
       "      <td>False</td>\n",
       "      <td>False</td>\n",
       "      <td>593</td>\n",
       "      <td>105</td>\n",
       "      <td>36</td>\n",
       "      <td>25</td>\n",
       "    </tr>\n",
       "  </tbody>\n",
       "</table>\n",
       "<p>2979 rows × 12 columns</p>\n",
       "</div>"
      ],
      "text/plain": [
       "                                     couples               gene1  \\\n",
       "42029        ENSG00000005022_ENSG00000234421     ENSG00000005022   \n",
       "3028         ENSG00000006327_ENSG00000198886     ENSG00000006327   \n",
       "3029         ENSG00000006327_ENSG00000198886     ENSG00000006327   \n",
       "16378        ENSG00000006831_ENSG00000229807     ENSG00000006831   \n",
       "38457        ENSG00000008128_ENSG00000248333     ENSG00000008128   \n",
       "...                                      ...                 ...   \n",
       "57380  ENSMUSG00000098178_ENSMUSG00000107822  ENSMUSG00000098178   \n",
       "60453  ENSMUSG00000098178_ENSMUSG00000109324  ENSMUSG00000098178   \n",
       "65742  ENSMUSG00000098178_ENSMUSG00000109508  ENSMUSG00000098178   \n",
       "60644  ENSMUSG00000098178_ENSMUSG00000115420  ENSMUSG00000098178   \n",
       "60645  ENSMUSG00000098178_ENSMUSG00000115420  ENSMUSG00000098178   \n",
       "\n",
       "                    gene2  interacting  length_1  length_2  protein_coding_1  \\\n",
       "42029     ENSG00000234421         True      1307       869              True   \n",
       "3028      ENSG00000198886         True      1133      1378              True   \n",
       "3029      ENSG00000198886         True      1133      1378              True   \n",
       "16378     ENSG00000229807         True      3971     19245              True   \n",
       "38457     ENSG00000248333         True      2984      2998              True   \n",
       "...                   ...          ...       ...       ...               ...   \n",
       "57380  ENSMUSG00000107822         True      1831      1064             False   \n",
       "60453  ENSMUSG00000109324         True      1831      2147             False   \n",
       "65742  ENSMUSG00000109508         True      1831      2887             False   \n",
       "60644  ENSMUSG00000115420         True      1831       281             False   \n",
       "60645  ENSMUSG00000115420         True      1831       281             False   \n",
       "\n",
       "       protein_coding_2    x1     y1   w   h  \n",
       "42029             False   265    228  23  23  \n",
       "3028               True   875   1101  35  39  \n",
       "3029               True   856    461  54  39  \n",
       "16378             False   589  17178  23  22  \n",
       "38457              True  2546   2528  41  32  \n",
       "...                 ...   ...    ...  ..  ..  \n",
       "57380              True   868    306  24  22  \n",
       "60453              True   650   1735  34  22  \n",
       "65742             False  1332   1703  39  19  \n",
       "60644             False   915    176  21  20  \n",
       "60645             False   593    105  36  25  \n",
       "\n",
       "[2979 rows x 12 columns]"
      ]
     },
     "execution_count": 32,
     "metadata": {},
     "output_type": "execute_result"
    }
   ],
   "source": [
    "df_int[df_int.couples.duplicated()].sort_values('couples')"
   ]
  },
  {
   "cell_type": "code",
   "execution_count": 33,
   "id": "7a2c82b2-db68-468d-9be7-9357490114e9",
   "metadata": {},
   "outputs": [],
   "source": [
    "df_neg['interacting'] = False\n",
    "df_neg = df_neg.merge(df_genes[['gene_id', 'length', 'protein_coding']], left_on = 'gene1', right_on = 'gene_id').drop('gene_id', axis = 1).rename({'length': 'length_1','protein_coding':'protein_coding_1'} , axis = 1)\n",
    "df_neg = df_neg.merge(df_genes[['gene_id', 'length', 'protein_coding']], left_on = 'gene2', right_on = 'gene_id').drop('gene_id', axis = 1).rename({'length': 'length_2','protein_coding':'protein_coding_2'} , axis = 1)"
   ]
  },
  {
   "cell_type": "code",
   "execution_count": 34,
   "id": "2c36cf8f-fd4c-4f36-9db9-04e45f95f5e7",
   "metadata": {},
   "outputs": [],
   "source": [
    "#TODO:\n",
    "# Metti a df_neg le stesse colonne di df_int. Per le regioni di interazione potrei prendere delle interazioni finte dai positivi."
   ]
  },
  {
   "cell_type": "code",
   "execution_count": 38,
   "id": "ec4dccd8-d46d-4b4f-b732-c4f590565ba3",
   "metadata": {},
   "outputs": [
    {
     "data": {
      "text/plain": [
       "0               ENSG00000000003_ENSG00000164363\n",
       "1               ENSG00000000003_ENSG00000151148\n",
       "2               ENSG00000000003_ENSG00000114805\n",
       "3               ENSG00000000003_ENSG00000133703\n",
       "4               ENSG00000000003_ENSG00000272716\n",
       "                          ...                  \n",
       "160546    ENSMUSG00000021302_ENSMUSG00000118552\n",
       "160547    ENSMUSG00000015090_ENSMUSG00000118559\n",
       "160548    ENSMUSG00000064373_ENSMUSG00000118559\n",
       "160549    ENSMUSG00000027630_ENSMUSG00000118559\n",
       "160550    ENSMUSG00000033209_ENSMUSG00000118604\n",
       "Name: negative, Length: 160551, dtype: object"
      ]
     },
     "execution_count": 38,
     "metadata": {},
     "output_type": "execute_result"
    }
   ],
   "source": [
    "df_pairs_full.negative"
   ]
  },
  {
   "cell_type": "code",
   "execution_count": 47,
   "id": "fef2fa2b-b34c-4c22-979c-f9e43dac16d3",
   "metadata": {},
   "outputs": [
    {
     "data": {
      "text/html": [
       "<div>\n",
       "<style scoped>\n",
       "    .dataframe tbody tr th:only-of-type {\n",
       "        vertical-align: middle;\n",
       "    }\n",
       "\n",
       "    .dataframe tbody tr th {\n",
       "        vertical-align: top;\n",
       "    }\n",
       "\n",
       "    .dataframe thead th {\n",
       "        text-align: right;\n",
       "    }\n",
       "</style>\n",
       "<table border=\"1\" class=\"dataframe\">\n",
       "  <thead>\n",
       "    <tr style=\"text-align: right;\">\n",
       "      <th></th>\n",
       "      <th>positive</th>\n",
       "      <th>negative</th>\n",
       "    </tr>\n",
       "  </thead>\n",
       "  <tbody>\n",
       "    <tr>\n",
       "      <th>0</th>\n",
       "      <td>ENSG00000122042_ENSG00000164363</td>\n",
       "      <td>ENSG00000000003_ENSG00000164363</td>\n",
       "    </tr>\n",
       "    <tr>\n",
       "      <th>1</th>\n",
       "      <td>ENSG00000122042_ENSG00000151148</td>\n",
       "      <td>ENSG00000000003_ENSG00000151148</td>\n",
       "    </tr>\n",
       "    <tr>\n",
       "      <th>2</th>\n",
       "      <td>ENSG00000114805_ENSG00000122042</td>\n",
       "      <td>ENSG00000000003_ENSG00000114805</td>\n",
       "    </tr>\n",
       "    <tr>\n",
       "      <th>3</th>\n",
       "      <td>ENSG00000122042_ENSG00000133703</td>\n",
       "      <td>ENSG00000000003_ENSG00000133703</td>\n",
       "    </tr>\n",
       "    <tr>\n",
       "      <th>4</th>\n",
       "      <td>ENSG00000122042_ENSG00000272716</td>\n",
       "      <td>ENSG00000000003_ENSG00000272716</td>\n",
       "    </tr>\n",
       "    <tr>\n",
       "      <th>...</th>\n",
       "      <td>...</td>\n",
       "      <td>...</td>\n",
       "    </tr>\n",
       "    <tr>\n",
       "      <th>160546</th>\n",
       "      <td>ENSMUSG00000021302_ENSMUSG00000089665</td>\n",
       "      <td>ENSMUSG00000021302_ENSMUSG00000118552</td>\n",
       "    </tr>\n",
       "    <tr>\n",
       "      <th>160547</th>\n",
       "      <td>ENSMUSG00000015090_ENSMUSG00000035575</td>\n",
       "      <td>ENSMUSG00000015090_ENSMUSG00000118559</td>\n",
       "    </tr>\n",
       "    <tr>\n",
       "      <th>160548</th>\n",
       "      <td>ENSMUSG00000035575_ENSMUSG00000064373</td>\n",
       "      <td>ENSMUSG00000064373_ENSMUSG00000118559</td>\n",
       "    </tr>\n",
       "    <tr>\n",
       "      <th>160549</th>\n",
       "      <td>ENSMUSG00000027630_ENSMUSG00000035575</td>\n",
       "      <td>ENSMUSG00000027630_ENSMUSG00000118559</td>\n",
       "    </tr>\n",
       "    <tr>\n",
       "      <th>160550</th>\n",
       "      <td>ENSMUSG00000033209_ENSMUSG00000107215</td>\n",
       "      <td>ENSMUSG00000033209_ENSMUSG00000118604</td>\n",
       "    </tr>\n",
       "  </tbody>\n",
       "</table>\n",
       "<p>160551 rows × 2 columns</p>\n",
       "</div>"
      ],
      "text/plain": [
       "                                     positive  \\\n",
       "0             ENSG00000122042_ENSG00000164363   \n",
       "1             ENSG00000122042_ENSG00000151148   \n",
       "2             ENSG00000114805_ENSG00000122042   \n",
       "3             ENSG00000122042_ENSG00000133703   \n",
       "4             ENSG00000122042_ENSG00000272716   \n",
       "...                                       ...   \n",
       "160546  ENSMUSG00000021302_ENSMUSG00000089665   \n",
       "160547  ENSMUSG00000015090_ENSMUSG00000035575   \n",
       "160548  ENSMUSG00000035575_ENSMUSG00000064373   \n",
       "160549  ENSMUSG00000027630_ENSMUSG00000035575   \n",
       "160550  ENSMUSG00000033209_ENSMUSG00000107215   \n",
       "\n",
       "                                     negative  \n",
       "0             ENSG00000000003_ENSG00000164363  \n",
       "1             ENSG00000000003_ENSG00000151148  \n",
       "2             ENSG00000000003_ENSG00000114805  \n",
       "3             ENSG00000000003_ENSG00000133703  \n",
       "4             ENSG00000000003_ENSG00000272716  \n",
       "...                                       ...  \n",
       "160546  ENSMUSG00000021302_ENSMUSG00000118552  \n",
       "160547  ENSMUSG00000015090_ENSMUSG00000118559  \n",
       "160548  ENSMUSG00000064373_ENSMUSG00000118559  \n",
       "160549  ENSMUSG00000027630_ENSMUSG00000118559  \n",
       "160550  ENSMUSG00000033209_ENSMUSG00000118604  \n",
       "\n",
       "[160551 rows x 2 columns]"
      ]
     },
     "execution_count": 47,
     "metadata": {},
     "output_type": "execute_result"
    }
   ],
   "source": [
    "df_pairs_full.drop_duplicates()"
   ]
  },
  {
   "cell_type": "code",
   "execution_count": 40,
   "id": "33f56ecd-185e-4b67-980d-94bfaf34c3e9",
   "metadata": {},
   "outputs": [
    {
     "data": {
      "text/plain": [
       "160551"
      ]
     },
     "execution_count": 40,
     "metadata": {},
     "output_type": "execute_result"
    }
   ],
   "source": [
    "df_pairs_full.shape[0]"
   ]
  },
  {
   "cell_type": "code",
   "execution_count": 45,
   "id": "ffb0fe7c-bcb7-4116-b329-964974bdca1f",
   "metadata": {},
   "outputs": [
    {
     "data": {
      "text/plain": [
       "160511"
      ]
     },
     "execution_count": 45,
     "metadata": {},
     "output_type": "execute_result"
    }
   ],
   "source": [
    "df_neg.shape[0]"
   ]
  },
  {
   "cell_type": "code",
   "execution_count": 42,
   "id": "45cd86c3-12c6-416b-a57a-33d1d254fad6",
   "metadata": {},
   "outputs": [
    {
     "ename": "AssertionError",
     "evalue": "",
     "output_type": "error",
     "traceback": [
      "\u001b[0;31m---------------------------------------------------------------------------\u001b[0m",
      "\u001b[0;31mAssertionError\u001b[0m                            Traceback (most recent call last)",
      "Cell \u001b[0;32mIn[42], line 2\u001b[0m\n\u001b[1;32m      1\u001b[0m \u001b[38;5;28;01massert\u001b[39;00m \u001b[38;5;28mset\u001b[39m(df_pairs_full\u001b[38;5;241m.\u001b[39mnegative) \u001b[38;5;241m==\u001b[39m  \u001b[38;5;28mset\u001b[39m(df_neg\u001b[38;5;241m.\u001b[39mcouples)\n\u001b[0;32m----> 2\u001b[0m \u001b[38;5;28;01massert\u001b[39;00m df_pairs_full\u001b[38;5;241m.\u001b[39mshape[\u001b[38;5;241m0\u001b[39m] \u001b[38;5;241m==\u001b[39m  df_neg\u001b[38;5;241m.\u001b[39mshape[\u001b[38;5;241m0\u001b[39m]\n",
      "\u001b[0;31mAssertionError\u001b[0m: "
     ]
    }
   ],
   "source": [
    "assert set(df_pairs_full.negative) ==  set(df_neg.couples)\n",
    "assert df_pairs_full.shape[0] ==  df_neg.shape[0] # ci sono dei negativi che sono gli stessi per piu "
   ]
  },
  {
   "cell_type": "code",
   "execution_count": 52,
   "id": "bb684b87-ab9f-4eb4-92e3-d46a15a6cddf",
   "metadata": {},
   "outputs": [],
   "source": [
    "df_int1 = df_int[['gene1', 'x1', 'w']].rename({'gene1':'gene', 'x1':'c1',  'w': 'l'}, axis = 1)\n",
    "df_int2 = df_int[['gene2', 'y1', 'h']].rename({'gene2':'gene', 'y1':'c1',  'h': 'l'}, axis = 1)\n",
    "df_coord = pd.concat([df_int1, df_int2], ignore_index = True)#.drop_duplicates().reset_index(drop = True)\n",
    "#df_coord may have duplicates. but this is something I want. If a gene appears more than once, I want it to be sampled according to its distribution."
   ]
  },
  {
   "cell_type": "code",
   "execution_count": null,
   "id": "f905d068-a9f7-4b90-be97-20f5261ce4fe",
   "metadata": {},
   "outputs": [],
   "source": [
    "assert set(df_neg.gene1).union(set(df_neg.gene2)) - set(df_coord.gene) == set()"
   ]
  },
  {
   "cell_type": "code",
   "execution_count": 74,
   "id": "8fc8e46f-c973-462e-b95f-1ae95e43e870",
   "metadata": {},
   "outputs": [
    {
     "data": {
      "text/html": [
       "<div>\n",
       "<style scoped>\n",
       "    .dataframe tbody tr th:only-of-type {\n",
       "        vertical-align: middle;\n",
       "    }\n",
       "\n",
       "    .dataframe tbody tr th {\n",
       "        vertical-align: top;\n",
       "    }\n",
       "\n",
       "    .dataframe thead th {\n",
       "        text-align: right;\n",
       "    }\n",
       "</style>\n",
       "<table border=\"1\" class=\"dataframe\">\n",
       "  <thead>\n",
       "    <tr style=\"text-align: right;\">\n",
       "      <th></th>\n",
       "      <th>couples</th>\n",
       "      <th>gene1</th>\n",
       "      <th>gene2</th>\n",
       "      <th>interacting</th>\n",
       "      <th>length_1</th>\n",
       "      <th>length_2</th>\n",
       "      <th>protein_coding_1</th>\n",
       "      <th>protein_coding_2</th>\n",
       "      <th>x1</th>\n",
       "      <th>y1</th>\n",
       "      <th>w</th>\n",
       "      <th>h</th>\n",
       "    </tr>\n",
       "  </thead>\n",
       "  <tbody>\n",
       "    <tr>\n",
       "      <th>0</th>\n",
       "      <td>ENSG00000145391_ENSG00000203801</td>\n",
       "      <td>ENSG00000145391</td>\n",
       "      <td>ENSG00000203801</td>\n",
       "      <td>True</td>\n",
       "      <td>7365</td>\n",
       "      <td>1785</td>\n",
       "      <td>True</td>\n",
       "      <td>False</td>\n",
       "      <td>2552</td>\n",
       "      <td>1175</td>\n",
       "      <td>25</td>\n",
       "      <td>19</td>\n",
       "    </tr>\n",
       "    <tr>\n",
       "      <th>1</th>\n",
       "      <td>ENSG00000143195_ENSG00000145391</td>\n",
       "      <td>ENSG00000143195</td>\n",
       "      <td>ENSG00000145391</td>\n",
       "      <td>True</td>\n",
       "      <td>13360</td>\n",
       "      <td>7365</td>\n",
       "      <td>True</td>\n",
       "      <td>True</td>\n",
       "      <td>7785</td>\n",
       "      <td>2119</td>\n",
       "      <td>22</td>\n",
       "      <td>22</td>\n",
       "    </tr>\n",
       "    <tr>\n",
       "      <th>2</th>\n",
       "      <td>ENSG00000039139_ENSG00000143195</td>\n",
       "      <td>ENSG00000039139</td>\n",
       "      <td>ENSG00000143195</td>\n",
       "      <td>True</td>\n",
       "      <td>15633</td>\n",
       "      <td>13360</td>\n",
       "      <td>True</td>\n",
       "      <td>True</td>\n",
       "      <td>2933</td>\n",
       "      <td>11748</td>\n",
       "      <td>18</td>\n",
       "      <td>39</td>\n",
       "    </tr>\n",
       "    <tr>\n",
       "      <th>3</th>\n",
       "      <td>ENSG00000123728_ENSG00000143195</td>\n",
       "      <td>ENSG00000123728</td>\n",
       "      <td>ENSG00000143195</td>\n",
       "      <td>True</td>\n",
       "      <td>3972</td>\n",
       "      <td>13360</td>\n",
       "      <td>True</td>\n",
       "      <td>True</td>\n",
       "      <td>3388</td>\n",
       "      <td>9487</td>\n",
       "      <td>19</td>\n",
       "      <td>18</td>\n",
       "    </tr>\n",
       "    <tr>\n",
       "      <th>4</th>\n",
       "      <td>ENSG00000143195_ENSG00000238013</td>\n",
       "      <td>ENSG00000143195</td>\n",
       "      <td>ENSG00000238013</td>\n",
       "      <td>True</td>\n",
       "      <td>13360</td>\n",
       "      <td>268</td>\n",
       "      <td>True</td>\n",
       "      <td>False</td>\n",
       "      <td>12157</td>\n",
       "      <td>154</td>\n",
       "      <td>19</td>\n",
       "      <td>19</td>\n",
       "    </tr>\n",
       "    <tr>\n",
       "      <th>...</th>\n",
       "      <td>...</td>\n",
       "      <td>...</td>\n",
       "      <td>...</td>\n",
       "      <td>...</td>\n",
       "      <td>...</td>\n",
       "      <td>...</td>\n",
       "      <td>...</td>\n",
       "      <td>...</td>\n",
       "      <td>...</td>\n",
       "      <td>...</td>\n",
       "      <td>...</td>\n",
       "      <td>...</td>\n",
       "    </tr>\n",
       "    <tr>\n",
       "      <th>88101</th>\n",
       "      <td>ENSG00000103126_ENSG00000253197</td>\n",
       "      <td>ENSG00000103126</td>\n",
       "      <td>ENSG00000253197</td>\n",
       "      <td>True</td>\n",
       "      <td>3707</td>\n",
       "      <td>602</td>\n",
       "      <td>True</td>\n",
       "      <td>False</td>\n",
       "      <td>1995</td>\n",
       "      <td>344</td>\n",
       "      <td>24</td>\n",
       "      <td>23</td>\n",
       "    </tr>\n",
       "    <tr>\n",
       "      <th>88102</th>\n",
       "      <td>ENSG00000136099_ENSG00000288586</td>\n",
       "      <td>ENSG00000136099</td>\n",
       "      <td>ENSG00000288586</td>\n",
       "      <td>True</td>\n",
       "      <td>5088</td>\n",
       "      <td>1703</td>\n",
       "      <td>True</td>\n",
       "      <td>False</td>\n",
       "      <td>932</td>\n",
       "      <td>124</td>\n",
       "      <td>16</td>\n",
       "      <td>14</td>\n",
       "    </tr>\n",
       "    <tr>\n",
       "      <th>88103</th>\n",
       "      <td>ENSG00000221968_ENSG00000259060</td>\n",
       "      <td>ENSG00000221968</td>\n",
       "      <td>ENSG00000259060</td>\n",
       "      <td>True</td>\n",
       "      <td>1790</td>\n",
       "      <td>578</td>\n",
       "      <td>True</td>\n",
       "      <td>True</td>\n",
       "      <td>56</td>\n",
       "      <td>21</td>\n",
       "      <td>11</td>\n",
       "      <td>12</td>\n",
       "    </tr>\n",
       "    <tr>\n",
       "      <th>88104</th>\n",
       "      <td>ENSG00000147119_ENSG00000254369</td>\n",
       "      <td>ENSG00000147119</td>\n",
       "      <td>ENSG00000254369</td>\n",
       "      <td>True</td>\n",
       "      <td>2396</td>\n",
       "      <td>3992</td>\n",
       "      <td>True</td>\n",
       "      <td>False</td>\n",
       "      <td>1173</td>\n",
       "      <td>2673</td>\n",
       "      <td>12</td>\n",
       "      <td>6</td>\n",
       "    </tr>\n",
       "    <tr>\n",
       "      <th>88105</th>\n",
       "      <td>ENSG00000177666_ENSG00000228613</td>\n",
       "      <td>ENSG00000177666</td>\n",
       "      <td>ENSG00000228613</td>\n",
       "      <td>True</td>\n",
       "      <td>2416</td>\n",
       "      <td>786</td>\n",
       "      <td>True</td>\n",
       "      <td>False</td>\n",
       "      <td>177</td>\n",
       "      <td>769</td>\n",
       "      <td>17</td>\n",
       "      <td>14</td>\n",
       "    </tr>\n",
       "  </tbody>\n",
       "</table>\n",
       "<p>88106 rows × 12 columns</p>\n",
       "</div>"
      ],
      "text/plain": [
       "                               couples            gene1            gene2  \\\n",
       "0      ENSG00000145391_ENSG00000203801  ENSG00000145391  ENSG00000203801   \n",
       "1      ENSG00000143195_ENSG00000145391  ENSG00000143195  ENSG00000145391   \n",
       "2      ENSG00000039139_ENSG00000143195  ENSG00000039139  ENSG00000143195   \n",
       "3      ENSG00000123728_ENSG00000143195  ENSG00000123728  ENSG00000143195   \n",
       "4      ENSG00000143195_ENSG00000238013  ENSG00000143195  ENSG00000238013   \n",
       "...                                ...              ...              ...   \n",
       "88101  ENSG00000103126_ENSG00000253197  ENSG00000103126  ENSG00000253197   \n",
       "88102  ENSG00000136099_ENSG00000288586  ENSG00000136099  ENSG00000288586   \n",
       "88103  ENSG00000221968_ENSG00000259060  ENSG00000221968  ENSG00000259060   \n",
       "88104  ENSG00000147119_ENSG00000254369  ENSG00000147119  ENSG00000254369   \n",
       "88105  ENSG00000177666_ENSG00000228613  ENSG00000177666  ENSG00000228613   \n",
       "\n",
       "       interacting  length_1  length_2  protein_coding_1  protein_coding_2  \\\n",
       "0             True      7365      1785              True             False   \n",
       "1             True     13360      7365              True              True   \n",
       "2             True     15633     13360              True              True   \n",
       "3             True      3972     13360              True              True   \n",
       "4             True     13360       268              True             False   \n",
       "...            ...       ...       ...               ...               ...   \n",
       "88101         True      3707       602              True             False   \n",
       "88102         True      5088      1703              True             False   \n",
       "88103         True      1790       578              True              True   \n",
       "88104         True      2396      3992              True             False   \n",
       "88105         True      2416       786              True             False   \n",
       "\n",
       "          x1     y1   w   h  \n",
       "0       2552   1175  25  19  \n",
       "1       7785   2119  22  22  \n",
       "2       2933  11748  18  39  \n",
       "3       3388   9487  19  18  \n",
       "4      12157    154  19  19  \n",
       "...      ...    ...  ..  ..  \n",
       "88101   1995    344  24  23  \n",
       "88102    932    124  16  14  \n",
       "88103     56     21  11  12  \n",
       "88104   1173   2673  12   6  \n",
       "88105    177    769  17  14  \n",
       "\n",
       "[88106 rows x 12 columns]"
      ]
     },
     "execution_count": 74,
     "metadata": {},
     "output_type": "execute_result"
    }
   ],
   "source": [
    "df_int"
   ]
  },
  {
   "cell_type": "code",
   "execution_count": 64,
   "id": "488a1250-18b1-4cd7-8840-fabaa77cd86b",
   "metadata": {},
   "outputs": [],
   "source": [
    "# RICONTROLLALA, POI STIMA IL TEMPO\n",
    "\n",
    "def create_fake_coord_neg(x, df_coord, df_pairs_full, df_int):\n",
    "    g1 = x.gene1\n",
    "    g2 = x.gene2\n",
    "    s1 = df_coord[df_coord.gene == g1].sample(1)\n",
    "    s2 = df_coord[df_coord.gene == g2].sample(1)\n",
    "    \n",
    "    pos = df_pairs_full[df_pairs_full.negative == x.couples].sample(1) #dovrebbe essere 1 ma non sono sicuro (e possibile piu di una? dovrei ragionarci su con l assert di prima), nel dubbio campiono.\n",
    "    p1, p2 = pos.positive.split('_')\n",
    "    \n",
    "    interaction_coords = df_int[df_int.couples == pos.positive].sample(1) #puo essere piu di una, se ho piu di una regione di interzione\n",
    "    \n",
    "    if g1 == p1:\n",
    "        x1, w = interaction_coords.x1, interaction_coords.w\n",
    "        y1, h = s2.c1, s2.l\n",
    "        \n",
    "    elif g1 == p2:\n",
    "        x1, w = interaction_coords.y1, interaction_coords.h\n",
    "        y1, h = s1.c1, s1.l\n",
    "        \n",
    "    elif g2 == p1:\n",
    "        x1, w = s2.c1, s2.l\n",
    "        y1, h = interaction_coords.x1, interaction_coords.w\n",
    "        \n",
    "    elif g2 == p2:\n",
    "        x1, w = s1.c1, s1.l\n",
    "        y1, h = interaction_coords.y1, interaction_coords.h\n",
    "        \n",
    "    else:\n",
    "        raise NotImplementedError\n",
    "    \n",
    "    return s1.c1, s1.l, s2.c1, s2.l"
   ]
  },
  {
   "cell_type": "code",
   "execution_count": 65,
   "id": "bdf72c1c-4bf5-4fec-b13b-c68fe8432729",
   "metadata": {},
   "outputs": [
    {
     "ename": "KeyboardInterrupt",
     "evalue": "",
     "output_type": "error",
     "traceback": [
      "\u001b[0;31m---------------------------------------------------------------------------\u001b[0m",
      "\u001b[0;31mKeyboardInterrupt\u001b[0m                         Traceback (most recent call last)",
      "Cell \u001b[0;32mIn[65], line 1\u001b[0m\n\u001b[0;32m----> 1\u001b[0m new_cols \u001b[38;5;241m=\u001b[39m \u001b[43mdf_neg\u001b[49m\u001b[43m[\u001b[49m\u001b[43m[\u001b[49m\u001b[38;5;124;43m'\u001b[39;49m\u001b[38;5;124;43mgene1\u001b[39;49m\u001b[38;5;124;43m'\u001b[39;49m\u001b[43m,\u001b[49m\u001b[43m \u001b[49m\u001b[38;5;124;43m'\u001b[39;49m\u001b[38;5;124;43mgene2\u001b[39;49m\u001b[38;5;124;43m'\u001b[39;49m\u001b[43m]\u001b[49m\u001b[43m]\u001b[49m\u001b[38;5;241;43m.\u001b[39;49m\u001b[43mapply\u001b[49m\u001b[43m(\u001b[49m\u001b[43mcreate_fake_coord_neg\u001b[49m\u001b[43m,\u001b[49m\u001b[43m \u001b[49m\u001b[43maxis\u001b[49m\u001b[43m \u001b[49m\u001b[38;5;241;43m=\u001b[39;49m\u001b[43m \u001b[49m\u001b[38;5;241;43m1\u001b[39;49m\u001b[43m,\u001b[49m\u001b[43m \u001b[49m\u001b[43margs\u001b[49m\u001b[43m \u001b[49m\u001b[38;5;241;43m=\u001b[39;49m\u001b[43m \u001b[49m\u001b[43m(\u001b[49m\u001b[43mdf_coord\u001b[49m\u001b[43m,\u001b[49m\u001b[43m)\u001b[49m\u001b[43m)\u001b[49m\n",
      "File \u001b[0;32m~/miniconda3/envs/rnarna/lib/python3.10/site-packages/pandas/core/frame.py:9568\u001b[0m, in \u001b[0;36mDataFrame.apply\u001b[0;34m(self, func, axis, raw, result_type, args, **kwargs)\u001b[0m\n\u001b[1;32m   9557\u001b[0m \u001b[38;5;28;01mfrom\u001b[39;00m \u001b[38;5;21;01mpandas\u001b[39;00m\u001b[38;5;21;01m.\u001b[39;00m\u001b[38;5;21;01mcore\u001b[39;00m\u001b[38;5;21;01m.\u001b[39;00m\u001b[38;5;21;01mapply\u001b[39;00m \u001b[38;5;28;01mimport\u001b[39;00m frame_apply\n\u001b[1;32m   9559\u001b[0m op \u001b[38;5;241m=\u001b[39m frame_apply(\n\u001b[1;32m   9560\u001b[0m     \u001b[38;5;28mself\u001b[39m,\n\u001b[1;32m   9561\u001b[0m     func\u001b[38;5;241m=\u001b[39mfunc,\n\u001b[0;32m   (...)\u001b[0m\n\u001b[1;32m   9566\u001b[0m     kwargs\u001b[38;5;241m=\u001b[39mkwargs,\n\u001b[1;32m   9567\u001b[0m )\n\u001b[0;32m-> 9568\u001b[0m \u001b[38;5;28;01mreturn\u001b[39;00m \u001b[43mop\u001b[49m\u001b[38;5;241;43m.\u001b[39;49m\u001b[43mapply\u001b[49m\u001b[43m(\u001b[49m\u001b[43m)\u001b[49m\u001b[38;5;241m.\u001b[39m__finalize__(\u001b[38;5;28mself\u001b[39m, method\u001b[38;5;241m=\u001b[39m\u001b[38;5;124m\"\u001b[39m\u001b[38;5;124mapply\u001b[39m\u001b[38;5;124m\"\u001b[39m)\n",
      "File \u001b[0;32m~/miniconda3/envs/rnarna/lib/python3.10/site-packages/pandas/core/apply.py:764\u001b[0m, in \u001b[0;36mFrameApply.apply\u001b[0;34m(self)\u001b[0m\n\u001b[1;32m    761\u001b[0m \u001b[38;5;28;01melif\u001b[39;00m \u001b[38;5;28mself\u001b[39m\u001b[38;5;241m.\u001b[39mraw:\n\u001b[1;32m    762\u001b[0m     \u001b[38;5;28;01mreturn\u001b[39;00m \u001b[38;5;28mself\u001b[39m\u001b[38;5;241m.\u001b[39mapply_raw()\n\u001b[0;32m--> 764\u001b[0m \u001b[38;5;28;01mreturn\u001b[39;00m \u001b[38;5;28;43mself\u001b[39;49m\u001b[38;5;241;43m.\u001b[39;49m\u001b[43mapply_standard\u001b[49m\u001b[43m(\u001b[49m\u001b[43m)\u001b[49m\n",
      "File \u001b[0;32m~/miniconda3/envs/rnarna/lib/python3.10/site-packages/pandas/core/apply.py:891\u001b[0m, in \u001b[0;36mFrameApply.apply_standard\u001b[0;34m(self)\u001b[0m\n\u001b[1;32m    890\u001b[0m \u001b[38;5;28;01mdef\u001b[39;00m \u001b[38;5;21mapply_standard\u001b[39m(\u001b[38;5;28mself\u001b[39m):\n\u001b[0;32m--> 891\u001b[0m     results, res_index \u001b[38;5;241m=\u001b[39m \u001b[38;5;28;43mself\u001b[39;49m\u001b[38;5;241;43m.\u001b[39;49m\u001b[43mapply_series_generator\u001b[49m\u001b[43m(\u001b[49m\u001b[43m)\u001b[49m\n\u001b[1;32m    893\u001b[0m     \u001b[38;5;66;03m# wrap results\u001b[39;00m\n\u001b[1;32m    894\u001b[0m     \u001b[38;5;28;01mreturn\u001b[39;00m \u001b[38;5;28mself\u001b[39m\u001b[38;5;241m.\u001b[39mwrap_results(results, res_index)\n",
      "File \u001b[0;32m~/miniconda3/envs/rnarna/lib/python3.10/site-packages/pandas/core/apply.py:907\u001b[0m, in \u001b[0;36mFrameApply.apply_series_generator\u001b[0;34m(self)\u001b[0m\n\u001b[1;32m    904\u001b[0m \u001b[38;5;28;01mwith\u001b[39;00m option_context(\u001b[38;5;124m\"\u001b[39m\u001b[38;5;124mmode.chained_assignment\u001b[39m\u001b[38;5;124m\"\u001b[39m, \u001b[38;5;28;01mNone\u001b[39;00m):\n\u001b[1;32m    905\u001b[0m     \u001b[38;5;28;01mfor\u001b[39;00m i, v \u001b[38;5;129;01min\u001b[39;00m \u001b[38;5;28menumerate\u001b[39m(series_gen):\n\u001b[1;32m    906\u001b[0m         \u001b[38;5;66;03m# ignore SettingWithCopy here in case the user mutates\u001b[39;00m\n\u001b[0;32m--> 907\u001b[0m         results[i] \u001b[38;5;241m=\u001b[39m \u001b[38;5;28;43mself\u001b[39;49m\u001b[38;5;241;43m.\u001b[39;49m\u001b[43mf\u001b[49m\u001b[43m(\u001b[49m\u001b[43mv\u001b[49m\u001b[43m)\u001b[49m\n\u001b[1;32m    908\u001b[0m         \u001b[38;5;28;01mif\u001b[39;00m \u001b[38;5;28misinstance\u001b[39m(results[i], ABCSeries):\n\u001b[1;32m    909\u001b[0m             \u001b[38;5;66;03m# If we have a view on v, we need to make a copy because\u001b[39;00m\n\u001b[1;32m    910\u001b[0m             \u001b[38;5;66;03m#  series_generator will swap out the underlying data\u001b[39;00m\n\u001b[1;32m    911\u001b[0m             results[i] \u001b[38;5;241m=\u001b[39m results[i]\u001b[38;5;241m.\u001b[39mcopy(deep\u001b[38;5;241m=\u001b[39m\u001b[38;5;28;01mFalse\u001b[39;00m)\n",
      "File \u001b[0;32m~/miniconda3/envs/rnarna/lib/python3.10/site-packages/pandas/core/apply.py:142\u001b[0m, in \u001b[0;36mApply.__init__.<locals>.f\u001b[0;34m(x)\u001b[0m\n\u001b[1;32m    141\u001b[0m \u001b[38;5;28;01mdef\u001b[39;00m \u001b[38;5;21mf\u001b[39m(x):\n\u001b[0;32m--> 142\u001b[0m     \u001b[38;5;28;01mreturn\u001b[39;00m \u001b[43mfunc\u001b[49m\u001b[43m(\u001b[49m\u001b[43mx\u001b[49m\u001b[43m,\u001b[49m\u001b[43m \u001b[49m\u001b[38;5;241;43m*\u001b[39;49m\u001b[43margs\u001b[49m\u001b[43m,\u001b[49m\u001b[43m \u001b[49m\u001b[38;5;241;43m*\u001b[39;49m\u001b[38;5;241;43m*\u001b[39;49m\u001b[43mkwargs\u001b[49m\u001b[43m)\u001b[49m\n",
      "Cell \u001b[0;32mIn[64], line 4\u001b[0m, in \u001b[0;36mcreate_fake_coord_neg\u001b[0;34m(x, df_coord)\u001b[0m\n\u001b[1;32m      2\u001b[0m g1 \u001b[38;5;241m=\u001b[39m x\u001b[38;5;241m.\u001b[39mgene1\n\u001b[1;32m      3\u001b[0m g2 \u001b[38;5;241m=\u001b[39m x\u001b[38;5;241m.\u001b[39mgene2\n\u001b[0;32m----> 4\u001b[0m s1 \u001b[38;5;241m=\u001b[39m df_coord[\u001b[43mdf_coord\u001b[49m\u001b[38;5;241;43m.\u001b[39;49m\u001b[43mgene\u001b[49m\u001b[43m \u001b[49m\u001b[38;5;241;43m==\u001b[39;49m\u001b[43m \u001b[49m\u001b[43mg1\u001b[49m]\u001b[38;5;241m.\u001b[39msample(\u001b[38;5;241m1\u001b[39m)\n\u001b[1;32m      5\u001b[0m s2 \u001b[38;5;241m=\u001b[39m df_coord[df_coord\u001b[38;5;241m.\u001b[39mgene \u001b[38;5;241m==\u001b[39m g2]\u001b[38;5;241m.\u001b[39msample(\u001b[38;5;241m1\u001b[39m)\n\u001b[1;32m      6\u001b[0m \u001b[38;5;28;01mreturn\u001b[39;00m s1\u001b[38;5;241m.\u001b[39mc1, s1\u001b[38;5;241m.\u001b[39ml, s2\u001b[38;5;241m.\u001b[39mc1, s2\u001b[38;5;241m.\u001b[39ml\n",
      "File \u001b[0;32m~/miniconda3/envs/rnarna/lib/python3.10/site-packages/pandas/core/ops/common.py:72\u001b[0m, in \u001b[0;36m_unpack_zerodim_and_defer.<locals>.new_method\u001b[0;34m(self, other)\u001b[0m\n\u001b[1;32m     68\u001b[0m             \u001b[38;5;28;01mreturn\u001b[39;00m \u001b[38;5;28mNotImplemented\u001b[39m\n\u001b[1;32m     70\u001b[0m other \u001b[38;5;241m=\u001b[39m item_from_zerodim(other)\n\u001b[0;32m---> 72\u001b[0m \u001b[38;5;28;01mreturn\u001b[39;00m \u001b[43mmethod\u001b[49m\u001b[43m(\u001b[49m\u001b[38;5;28;43mself\u001b[39;49m\u001b[43m,\u001b[49m\u001b[43m \u001b[49m\u001b[43mother\u001b[49m\u001b[43m)\u001b[49m\n",
      "File \u001b[0;32m~/miniconda3/envs/rnarna/lib/python3.10/site-packages/pandas/core/arraylike.py:42\u001b[0m, in \u001b[0;36mOpsMixin.__eq__\u001b[0;34m(self, other)\u001b[0m\n\u001b[1;32m     40\u001b[0m \u001b[38;5;129m@unpack_zerodim_and_defer\u001b[39m(\u001b[38;5;124m\"\u001b[39m\u001b[38;5;124m__eq__\u001b[39m\u001b[38;5;124m\"\u001b[39m)\n\u001b[1;32m     41\u001b[0m \u001b[38;5;28;01mdef\u001b[39;00m \u001b[38;5;21m__eq__\u001b[39m(\u001b[38;5;28mself\u001b[39m, other):\n\u001b[0;32m---> 42\u001b[0m     \u001b[38;5;28;01mreturn\u001b[39;00m \u001b[38;5;28;43mself\u001b[39;49m\u001b[38;5;241;43m.\u001b[39;49m\u001b[43m_cmp_method\u001b[49m\u001b[43m(\u001b[49m\u001b[43mother\u001b[49m\u001b[43m,\u001b[49m\u001b[43m \u001b[49m\u001b[43moperator\u001b[49m\u001b[38;5;241;43m.\u001b[39;49m\u001b[43meq\u001b[49m\u001b[43m)\u001b[49m\n",
      "File \u001b[0;32m~/miniconda3/envs/rnarna/lib/python3.10/site-packages/pandas/core/series.py:6243\u001b[0m, in \u001b[0;36mSeries._cmp_method\u001b[0;34m(self, other, op)\u001b[0m\n\u001b[1;32m   6240\u001b[0m rvalues \u001b[38;5;241m=\u001b[39m extract_array(other, extract_numpy\u001b[38;5;241m=\u001b[39m\u001b[38;5;28;01mTrue\u001b[39;00m, extract_range\u001b[38;5;241m=\u001b[39m\u001b[38;5;28;01mTrue\u001b[39;00m)\n\u001b[1;32m   6242\u001b[0m \u001b[38;5;28;01mwith\u001b[39;00m np\u001b[38;5;241m.\u001b[39merrstate(\u001b[38;5;28mall\u001b[39m\u001b[38;5;241m=\u001b[39m\u001b[38;5;124m\"\u001b[39m\u001b[38;5;124mignore\u001b[39m\u001b[38;5;124m\"\u001b[39m):\n\u001b[0;32m-> 6243\u001b[0m     res_values \u001b[38;5;241m=\u001b[39m \u001b[43mops\u001b[49m\u001b[38;5;241;43m.\u001b[39;49m\u001b[43mcomparison_op\u001b[49m\u001b[43m(\u001b[49m\u001b[43mlvalues\u001b[49m\u001b[43m,\u001b[49m\u001b[43m \u001b[49m\u001b[43mrvalues\u001b[49m\u001b[43m,\u001b[49m\u001b[43m \u001b[49m\u001b[43mop\u001b[49m\u001b[43m)\u001b[49m\n\u001b[1;32m   6245\u001b[0m \u001b[38;5;28;01mreturn\u001b[39;00m \u001b[38;5;28mself\u001b[39m\u001b[38;5;241m.\u001b[39m_construct_result(res_values, name\u001b[38;5;241m=\u001b[39mres_name)\n",
      "File \u001b[0;32m~/miniconda3/envs/rnarna/lib/python3.10/site-packages/pandas/core/ops/array_ops.py:287\u001b[0m, in \u001b[0;36mcomparison_op\u001b[0;34m(left, right, op)\u001b[0m\n\u001b[1;32m    284\u001b[0m     \u001b[38;5;28;01mreturn\u001b[39;00m invalid_comparison(lvalues, rvalues, op)\n\u001b[1;32m    286\u001b[0m \u001b[38;5;28;01melif\u001b[39;00m is_object_dtype(lvalues\u001b[38;5;241m.\u001b[39mdtype) \u001b[38;5;129;01mor\u001b[39;00m \u001b[38;5;28misinstance\u001b[39m(rvalues, \u001b[38;5;28mstr\u001b[39m):\n\u001b[0;32m--> 287\u001b[0m     res_values \u001b[38;5;241m=\u001b[39m \u001b[43mcomp_method_OBJECT_ARRAY\u001b[49m\u001b[43m(\u001b[49m\u001b[43mop\u001b[49m\u001b[43m,\u001b[49m\u001b[43m \u001b[49m\u001b[43mlvalues\u001b[49m\u001b[43m,\u001b[49m\u001b[43m \u001b[49m\u001b[43mrvalues\u001b[49m\u001b[43m)\u001b[49m\n\u001b[1;32m    289\u001b[0m \u001b[38;5;28;01melse\u001b[39;00m:\n\u001b[1;32m    290\u001b[0m     res_values \u001b[38;5;241m=\u001b[39m _na_arithmetic_op(lvalues, rvalues, op, is_cmp\u001b[38;5;241m=\u001b[39m\u001b[38;5;28;01mTrue\u001b[39;00m)\n",
      "File \u001b[0;32m~/miniconda3/envs/rnarna/lib/python3.10/site-packages/pandas/core/ops/array_ops.py:75\u001b[0m, in \u001b[0;36mcomp_method_OBJECT_ARRAY\u001b[0;34m(op, x, y)\u001b[0m\n\u001b[1;32m     73\u001b[0m     result \u001b[38;5;241m=\u001b[39m libops\u001b[38;5;241m.\u001b[39mvec_compare(x\u001b[38;5;241m.\u001b[39mravel(), y\u001b[38;5;241m.\u001b[39mravel(), op)\n\u001b[1;32m     74\u001b[0m \u001b[38;5;28;01melse\u001b[39;00m:\n\u001b[0;32m---> 75\u001b[0m     result \u001b[38;5;241m=\u001b[39m \u001b[43mlibops\u001b[49m\u001b[38;5;241;43m.\u001b[39;49m\u001b[43mscalar_compare\u001b[49m\u001b[43m(\u001b[49m\u001b[43mx\u001b[49m\u001b[38;5;241;43m.\u001b[39;49m\u001b[43mravel\u001b[49m\u001b[43m(\u001b[49m\u001b[43m)\u001b[49m\u001b[43m,\u001b[49m\u001b[43m \u001b[49m\u001b[43my\u001b[49m\u001b[43m,\u001b[49m\u001b[43m \u001b[49m\u001b[43mop\u001b[49m\u001b[43m)\u001b[49m\n\u001b[1;32m     76\u001b[0m \u001b[38;5;28;01mreturn\u001b[39;00m result\u001b[38;5;241m.\u001b[39mreshape(x\u001b[38;5;241m.\u001b[39mshape)\n",
      "\u001b[0;31mKeyboardInterrupt\u001b[0m: "
     ]
    }
   ],
   "source": [
    "new_cols = df_neg[['couples', 'gene1', 'gene2']].apply(create_fake_coord_neg, axis = 1, args = (df_coord,df_pairs_full,df_int,))"
   ]
  },
  {
   "cell_type": "code",
   "execution_count": null,
   "id": "4899985f-a131-483c-8c54-9c1a6ba4d6cf",
   "metadata": {},
   "outputs": [],
   "source": [
    "new_cols = new_cols.rename({0:'x1', 1:'y1', 2:'w', 3:'h'}, axis = 1)"
   ]
  },
  {
   "cell_type": "code",
   "execution_count": 96,
   "id": "3ba239a2-1ec9-4400-900a-6e5151cbe8fe",
   "metadata": {},
   "outputs": [
    {
     "data": {
      "text/html": [
       "<div>\n",
       "<style scoped>\n",
       "    .dataframe tbody tr th:only-of-type {\n",
       "        vertical-align: middle;\n",
       "    }\n",
       "\n",
       "    .dataframe tbody tr th {\n",
       "        vertical-align: top;\n",
       "    }\n",
       "\n",
       "    .dataframe thead th {\n",
       "        text-align: right;\n",
       "    }\n",
       "</style>\n",
       "<table border=\"1\" class=\"dataframe\">\n",
       "  <thead>\n",
       "    <tr style=\"text-align: right;\">\n",
       "      <th></th>\n",
       "      <th>couples</th>\n",
       "      <th>gene1</th>\n",
       "      <th>gene2</th>\n",
       "      <th>interacting</th>\n",
       "      <th>length_1</th>\n",
       "      <th>length_2</th>\n",
       "      <th>protein_coding_1</th>\n",
       "      <th>protein_coding_2</th>\n",
       "      <th>x1</th>\n",
       "      <th>y1</th>\n",
       "      <th>w</th>\n",
       "      <th>h</th>\n",
       "    </tr>\n",
       "  </thead>\n",
       "  <tbody>\n",
       "    <tr>\n",
       "      <th>0</th>\n",
       "      <td>ENSG00000145391_ENSG00000203801</td>\n",
       "      <td>ENSG00000145391</td>\n",
       "      <td>ENSG00000203801</td>\n",
       "      <td>True</td>\n",
       "      <td>7365</td>\n",
       "      <td>1785</td>\n",
       "      <td>True</td>\n",
       "      <td>False</td>\n",
       "      <td>2552</td>\n",
       "      <td>1175</td>\n",
       "      <td>25</td>\n",
       "      <td>19</td>\n",
       "    </tr>\n",
       "    <tr>\n",
       "      <th>1</th>\n",
       "      <td>ENSG00000143195_ENSG00000145391</td>\n",
       "      <td>ENSG00000143195</td>\n",
       "      <td>ENSG00000145391</td>\n",
       "      <td>True</td>\n",
       "      <td>13360</td>\n",
       "      <td>7365</td>\n",
       "      <td>True</td>\n",
       "      <td>True</td>\n",
       "      <td>7785</td>\n",
       "      <td>2119</td>\n",
       "      <td>22</td>\n",
       "      <td>22</td>\n",
       "    </tr>\n",
       "    <tr>\n",
       "      <th>2</th>\n",
       "      <td>ENSG00000039139_ENSG00000143195</td>\n",
       "      <td>ENSG00000039139</td>\n",
       "      <td>ENSG00000143195</td>\n",
       "      <td>True</td>\n",
       "      <td>15633</td>\n",
       "      <td>13360</td>\n",
       "      <td>True</td>\n",
       "      <td>True</td>\n",
       "      <td>2933</td>\n",
       "      <td>11748</td>\n",
       "      <td>18</td>\n",
       "      <td>39</td>\n",
       "    </tr>\n",
       "    <tr>\n",
       "      <th>3</th>\n",
       "      <td>ENSG00000123728_ENSG00000143195</td>\n",
       "      <td>ENSG00000123728</td>\n",
       "      <td>ENSG00000143195</td>\n",
       "      <td>True</td>\n",
       "      <td>3972</td>\n",
       "      <td>13360</td>\n",
       "      <td>True</td>\n",
       "      <td>True</td>\n",
       "      <td>3388</td>\n",
       "      <td>9487</td>\n",
       "      <td>19</td>\n",
       "      <td>18</td>\n",
       "    </tr>\n",
       "    <tr>\n",
       "      <th>4</th>\n",
       "      <td>ENSG00000143195_ENSG00000238013</td>\n",
       "      <td>ENSG00000143195</td>\n",
       "      <td>ENSG00000238013</td>\n",
       "      <td>True</td>\n",
       "      <td>13360</td>\n",
       "      <td>268</td>\n",
       "      <td>True</td>\n",
       "      <td>False</td>\n",
       "      <td>12157</td>\n",
       "      <td>154</td>\n",
       "      <td>19</td>\n",
       "      <td>19</td>\n",
       "    </tr>\n",
       "    <tr>\n",
       "      <th>...</th>\n",
       "      <td>...</td>\n",
       "      <td>...</td>\n",
       "      <td>...</td>\n",
       "      <td>...</td>\n",
       "      <td>...</td>\n",
       "      <td>...</td>\n",
       "      <td>...</td>\n",
       "      <td>...</td>\n",
       "      <td>...</td>\n",
       "      <td>...</td>\n",
       "      <td>...</td>\n",
       "      <td>...</td>\n",
       "    </tr>\n",
       "    <tr>\n",
       "      <th>88101</th>\n",
       "      <td>ENSG00000103126_ENSG00000253197</td>\n",
       "      <td>ENSG00000103126</td>\n",
       "      <td>ENSG00000253197</td>\n",
       "      <td>True</td>\n",
       "      <td>3707</td>\n",
       "      <td>602</td>\n",
       "      <td>True</td>\n",
       "      <td>False</td>\n",
       "      <td>1995</td>\n",
       "      <td>344</td>\n",
       "      <td>24</td>\n",
       "      <td>23</td>\n",
       "    </tr>\n",
       "    <tr>\n",
       "      <th>88102</th>\n",
       "      <td>ENSG00000136099_ENSG00000288586</td>\n",
       "      <td>ENSG00000136099</td>\n",
       "      <td>ENSG00000288586</td>\n",
       "      <td>True</td>\n",
       "      <td>5088</td>\n",
       "      <td>1703</td>\n",
       "      <td>True</td>\n",
       "      <td>False</td>\n",
       "      <td>932</td>\n",
       "      <td>124</td>\n",
       "      <td>16</td>\n",
       "      <td>14</td>\n",
       "    </tr>\n",
       "    <tr>\n",
       "      <th>88103</th>\n",
       "      <td>ENSG00000221968_ENSG00000259060</td>\n",
       "      <td>ENSG00000221968</td>\n",
       "      <td>ENSG00000259060</td>\n",
       "      <td>True</td>\n",
       "      <td>1790</td>\n",
       "      <td>578</td>\n",
       "      <td>True</td>\n",
       "      <td>True</td>\n",
       "      <td>56</td>\n",
       "      <td>21</td>\n",
       "      <td>11</td>\n",
       "      <td>12</td>\n",
       "    </tr>\n",
       "    <tr>\n",
       "      <th>88104</th>\n",
       "      <td>ENSG00000147119_ENSG00000254369</td>\n",
       "      <td>ENSG00000147119</td>\n",
       "      <td>ENSG00000254369</td>\n",
       "      <td>True</td>\n",
       "      <td>2396</td>\n",
       "      <td>3992</td>\n",
       "      <td>True</td>\n",
       "      <td>False</td>\n",
       "      <td>1173</td>\n",
       "      <td>2673</td>\n",
       "      <td>12</td>\n",
       "      <td>6</td>\n",
       "    </tr>\n",
       "    <tr>\n",
       "      <th>88105</th>\n",
       "      <td>ENSG00000177666_ENSG00000228613</td>\n",
       "      <td>ENSG00000177666</td>\n",
       "      <td>ENSG00000228613</td>\n",
       "      <td>True</td>\n",
       "      <td>2416</td>\n",
       "      <td>786</td>\n",
       "      <td>True</td>\n",
       "      <td>False</td>\n",
       "      <td>177</td>\n",
       "      <td>769</td>\n",
       "      <td>17</td>\n",
       "      <td>14</td>\n",
       "    </tr>\n",
       "  </tbody>\n",
       "</table>\n",
       "<p>88106 rows × 12 columns</p>\n",
       "</div>"
      ],
      "text/plain": [
       "                               couples            gene1            gene2  \\\n",
       "0      ENSG00000145391_ENSG00000203801  ENSG00000145391  ENSG00000203801   \n",
       "1      ENSG00000143195_ENSG00000145391  ENSG00000143195  ENSG00000145391   \n",
       "2      ENSG00000039139_ENSG00000143195  ENSG00000039139  ENSG00000143195   \n",
       "3      ENSG00000123728_ENSG00000143195  ENSG00000123728  ENSG00000143195   \n",
       "4      ENSG00000143195_ENSG00000238013  ENSG00000143195  ENSG00000238013   \n",
       "...                                ...              ...              ...   \n",
       "88101  ENSG00000103126_ENSG00000253197  ENSG00000103126  ENSG00000253197   \n",
       "88102  ENSG00000136099_ENSG00000288586  ENSG00000136099  ENSG00000288586   \n",
       "88103  ENSG00000221968_ENSG00000259060  ENSG00000221968  ENSG00000259060   \n",
       "88104  ENSG00000147119_ENSG00000254369  ENSG00000147119  ENSG00000254369   \n",
       "88105  ENSG00000177666_ENSG00000228613  ENSG00000177666  ENSG00000228613   \n",
       "\n",
       "       interacting  length_1  length_2  protein_coding_1  protein_coding_2  \\\n",
       "0             True      7365      1785              True             False   \n",
       "1             True     13360      7365              True              True   \n",
       "2             True     15633     13360              True              True   \n",
       "3             True      3972     13360              True              True   \n",
       "4             True     13360       268              True             False   \n",
       "...            ...       ...       ...               ...               ...   \n",
       "88101         True      3707       602              True             False   \n",
       "88102         True      5088      1703              True             False   \n",
       "88103         True      1790       578              True              True   \n",
       "88104         True      2396      3992              True             False   \n",
       "88105         True      2416       786              True             False   \n",
       "\n",
       "          x1     y1   w   h  \n",
       "0       2552   1175  25  19  \n",
       "1       7785   2119  22  22  \n",
       "2       2933  11748  18  39  \n",
       "3       3388   9487  19  18  \n",
       "4      12157    154  19  19  \n",
       "...      ...    ...  ..  ..  \n",
       "88101   1995    344  24  23  \n",
       "88102    932    124  16  14  \n",
       "88103     56     21  11  12  \n",
       "88104   1173   2673  12   6  \n",
       "88105    177    769  17  14  \n",
       "\n",
       "[88106 rows x 12 columns]"
      ]
     },
     "execution_count": 96,
     "metadata": {},
     "output_type": "execute_result"
    }
   ],
   "source": [
    "df_neg = pd.concat([df_neg, new_cols], axis = 1)"
   ]
  },
  {
   "cell_type": "code",
   "execution_count": null,
   "id": "359622be-406b-4ac4-8f37-ddb9b957b82b",
   "metadata": {},
   "outputs": [],
   "source": [
    "df = pd.concat([df_int, df_neg], ignore_index = True, axis = 0)\n",
    "df.to_csv(os.path.join(processed_files_dir, 'final_df.csv'), index = False)"
   ]
  },
  {
   "cell_type": "code",
   "execution_count": null,
   "id": "afa2f3fc-2d6c-4cf0-b2f4-43680306eeb4",
   "metadata": {},
   "outputs": [],
   "source": []
  },
  {
   "cell_type": "code",
   "execution_count": null,
   "id": "2193d4d5-2714-4be4-ba25-d7febe3d3ce2",
   "metadata": {},
   "outputs": [],
   "source": []
  },
  {
   "cell_type": "code",
   "execution_count": null,
   "id": "e008e31c-6d20-4013-aa09-d95cf2189208",
   "metadata": {},
   "outputs": [],
   "source": []
  },
  {
   "cell_type": "code",
   "execution_count": null,
   "id": "92f1fe26-4483-429c-9b6a-68bfda2442ed",
   "metadata": {},
   "outputs": [],
   "source": []
  },
  {
   "cell_type": "code",
   "execution_count": null,
   "id": "0bd81649-ab83-4131-bae7-9112f95276cc",
   "metadata": {},
   "outputs": [],
   "source": []
  }
 ],
 "metadata": {
  "kernelspec": {
   "display_name": "Python 3 (ipykernel)",
   "language": "python",
   "name": "python3"
  },
  "language_info": {
   "codemirror_mode": {
    "name": "ipython",
    "version": 3
   },
   "file_extension": ".py",
   "mimetype": "text/x-python",
   "name": "python",
   "nbconvert_exporter": "python",
   "pygments_lexer": "ipython3",
   "version": "3.10.10"
  }
 },
 "nbformat": 4,
 "nbformat_minor": 5
}
