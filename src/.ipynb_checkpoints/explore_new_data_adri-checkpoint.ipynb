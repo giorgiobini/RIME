{
 "cells": [
  {
   "cell_type": "markdown",
   "id": "75fd7e20-8dab-4f31-a886-2801a259b193",
   "metadata": {},
   "source": [
    "# Code"
   ]
  },
  {
   "cell_type": "code",
   "execution_count": 1,
   "id": "685f531f",
   "metadata": {},
   "outputs": [],
   "source": [
    "import pandas as pd\n",
    "import os\n",
    "import time\n",
    "import numpy as np\n",
    "import argparse\n",
    "import sys\n",
    "sys.path.insert(0, '..')\n",
    "import dataset.train_test_val_utils as utils\n",
    "from pandas.core.common import SettingWithCopyWarning\n",
    "import warnings\n",
    "warnings.simplefilter(action=\"ignore\", category=SettingWithCopyWarning)"
   ]
  },
  {
   "cell_type": "code",
   "execution_count": 2,
   "id": "cfdaa078-478c-4e41-b3c6-57ae5a98fb33",
   "metadata": {},
   "outputs": [],
   "source": [
    "ROOT_DIR = os.path.dirname(os.path.abspath('.'))\n",
    "old_original_files_dir = os.path.join(ROOT_DIR, 'dataset', 'original_files')\n",
    "original_files_dir = os.path.join(ROOT_DIR, 'dataset', 'new_original_files')\n",
    "processed_files_dir = os.path.join(ROOT_DIR, 'dataset', 'processed_files')\n",
    "rna_rna_pairs_data_dir = os.path.join(ROOT_DIR, 'dataset', 'rna_rna_pairs')"
   ]
  },
  {
   "cell_type": "markdown",
   "id": "8376f06b-0cc4-4b19-8e29-f851987b919f",
   "metadata": {},
   "source": [
    "### Positive"
   ]
  },
  {
   "cell_type": "code",
   "execution_count": 57,
   "id": "4f6b99da-173b-4145-97ea-c836f35ee738",
   "metadata": {},
   "outputs": [],
   "source": [
    "df_old=pd.read_csv(os.path.join(old_original_files_dir, 'rise_paris_tr.new.mapped_interactions.tx_regions.txt'), sep = '\\t')"
   ]
  },
  {
   "cell_type": "code",
   "execution_count": 58,
   "id": "09377bb3-b29d-4330-a07f-c977e8c56e2b",
   "metadata": {},
   "outputs": [],
   "source": [
    "df=pd.read_csv(os.path.join(original_files_dir, 'rise_paris_tr.new.mapped_interactions.tx_regions.txt'), sep = '\\t')"
   ]
  },
  {
   "cell_type": "code",
   "execution_count": 47,
   "id": "5f4fadf0-0e1d-4aae-89e7-d73c7ee3df74",
   "metadata": {},
   "outputs": [
    {
     "name": "stdout",
     "output_type": "stream",
     "text": [
      "df.shape[0] = 92173\n",
      "df_old.shape[0] = 101186\n"
     ]
    }
   ],
   "source": [
    "print(f'{df.shape[0] = }')\n",
    "print(f'{df_old.shape[0] = }')"
   ]
  },
  {
   "cell_type": "code",
   "execution_count": 65,
   "id": "6fa09ccc-5bad-4e5d-bee4-df7d2ec3cf77",
   "metadata": {},
   "outputs": [
    {
     "data": {
      "text/plain": [
       "86402"
      ]
     },
     "execution_count": 65,
     "metadata": {},
     "output_type": "execute_result"
    }
   ],
   "source": [
    "df[['tx_id_1', 'tx_id_2']].drop_duplicates().shape[0]"
   ]
  },
  {
   "cell_type": "code",
   "execution_count": 48,
   "id": "929c24a8-1499-4523-8306-c07d2baadb05",
   "metadata": {},
   "outputs": [
    {
     "data": {
      "text/plain": [
       "{'chr1',\n",
       " 'chr2',\n",
       " 'end1',\n",
       " 'end2',\n",
       " 'ensembl_transcript_id_1',\n",
       " 'ensembl_transcript_id_2',\n",
       " 'gene_1',\n",
       " 'gene_2',\n",
       " 'genomic_context1',\n",
       " 'genomic_context2',\n",
       " 'id_1',\n",
       " 'id_2',\n",
       " 'iranges.X.name_1',\n",
       " 'iranges.X.name_2',\n",
       " 'pubmed_id',\n",
       " 'start1',\n",
       " 'start2',\n",
       " 'strand1',\n",
       " 'strand2',\n",
       " 'width_map1',\n",
       " 'width_map2'}"
      ]
     },
     "execution_count": 48,
     "metadata": {},
     "output_type": "execute_result"
    }
   ],
   "source": [
    "set(df_old.columns) - set(df.columns) "
   ]
  },
  {
   "cell_type": "code",
   "execution_count": 51,
   "id": "3c87856b-c87d-4b32-8338-5183c7d1fb7a",
   "metadata": {},
   "outputs": [
    {
     "data": {
      "text/plain": [
       "Unnamed: 0                                                              0\n",
       "tx_id_1                                                   ENST00000274031\n",
       "start_map1                                                           2552\n",
       "end_map1                                                             2577\n",
       "tx_id_2                                                   ENST00000416104\n",
       "start_map2                                                           1175\n",
       "end_map2                                                             1194\n",
       "rise_id                                      interaction1_PARIS1__HEK293T\n",
       "score                                                                   1\n",
       "gene_id1                                                  ENSG00000145391\n",
       "gene_name1                                                          SETD7\n",
       "gene_id2                                                  ENSG00000203801\n",
       "gene_name2                                                      LINC00222\n",
       "gene_type1                                                 protein_coding\n",
       "gene_type2                                                         lncRNA\n",
       "tx_id_1_localization                                                 3UTR\n",
       "tx_id_2_localization                                                    /\n",
       "method                                                             PARIS1\n",
       "species                                                                hs\n",
       "cell_line                                                         HEK293T\n",
       "length_1                                                             7365\n",
       "transcript_biotype_1                                       protein_coding\n",
       "cdna_1                  GGGAACACGGACAGTGCACGACGGACTTTCAAGTTGCTCCCGGCAC...\n",
       "length_2                                                             1785\n",
       "transcript_biotype_2                                               lncRNA\n",
       "cdna_2                  CTCCTTTCCTAGTGTCCCCATCTTTGCTGCCTTCTGTGAGTTTGAT...\n",
       "type_interaction                                   lncRNA--protein_coding\n",
       "Name: 0, dtype: object"
      ]
     },
     "execution_count": 51,
     "metadata": {},
     "output_type": "execute_result"
    }
   ],
   "source": [
    "df.loc[0]"
   ]
  },
  {
   "cell_type": "code",
   "execution_count": 49,
   "id": "6e3f69e0-24db-4644-a20b-4bb08954c015",
   "metadata": {},
   "outputs": [
    {
     "name": "stderr",
     "output_type": "stream",
     "text": [
      "/home/gbini/miniconda3/envs/rnarna/lib/python3.9/site-packages/IPython/core/interactiveshell.py:3444: DtypeWarning: Columns (7,8) have mixed types.Specify dtype option on import or set low_memory=False.\n",
      "  exec(code_obj, self.user_global_ns, self.user_ns)\n"
     ]
    }
   ],
   "source": [
    "df_ann = pd.read_csv(os.path.join(processed_files_dir, 'df_annotation_files_cleaned.csv'))"
   ]
  },
  {
   "cell_type": "code",
   "execution_count": 62,
   "id": "b745b756-6600-4867-bd7d-13e45973c9c8",
   "metadata": {},
   "outputs": [
    {
     "data": {
      "text/plain": [
       "83851"
      ]
     },
     "execution_count": 62,
     "metadata": {},
     "output_type": "execute_result"
    }
   ],
   "source": [
    "len(df_ann[df_ann.there_is_interaction].couples.unique())"
   ]
  },
  {
   "cell_type": "code",
   "execution_count": 53,
   "id": "68eaafc4-6953-4109-b838-af9cc6479a09",
   "metadata": {},
   "outputs": [
    {
     "data": {
      "text/plain": [
       "87426"
      ]
     },
     "execution_count": 53,
     "metadata": {},
     "output_type": "execute_result"
    }
   ],
   "source": [
    "df_ann[df_ann.there_is_interaction].couples.shape[0]"
   ]
  },
  {
   "cell_type": "markdown",
   "id": "6919b44e-f4b0-4c48-b05a-c738ca29912d",
   "metadata": {},
   "source": [
    "### Controls"
   ]
  },
  {
   "cell_type": "code",
   "execution_count": 33,
   "id": "c25dc6c2-3501-40d7-b685-39ffe494af65",
   "metadata": {},
   "outputs": [],
   "source": [
    "df=pd.read_csv(os.path.join(original_files_dir, 'rise_paris_tr.controls.seq.txt'), sep = '\\t')\n",
    "df_old=pd.read_csv(os.path.join(old_original_files_dir, 'rise_paris_tr.controls.seq.txt'), sep = '\\t')"
   ]
  },
  {
   "cell_type": "code",
   "execution_count": 35,
   "id": "ac03a8e2-08f9-49d3-8817-0036bf6449b9",
   "metadata": {},
   "outputs": [
    {
     "data": {
      "text/html": [
       "<div>\n",
       "<style scoped>\n",
       "    .dataframe tbody tr th:only-of-type {\n",
       "        vertical-align: middle;\n",
       "    }\n",
       "\n",
       "    .dataframe tbody tr th {\n",
       "        vertical-align: top;\n",
       "    }\n",
       "\n",
       "    .dataframe thead th {\n",
       "        text-align: right;\n",
       "    }\n",
       "</style>\n",
       "<table border=\"1\" class=\"dataframe\">\n",
       "  <thead>\n",
       "    <tr style=\"text-align: right;\">\n",
       "      <th></th>\n",
       "      <th>Unnamed: 0</th>\n",
       "      <th>couples</th>\n",
       "      <th>gene_id1</th>\n",
       "      <th>gene_id2</th>\n",
       "      <th>ensembl_transcript_id_1</th>\n",
       "      <th>length_1</th>\n",
       "      <th>cdna_1</th>\n",
       "      <th>ensembl_transcript_id_2</th>\n",
       "      <th>length_2</th>\n",
       "      <th>cdna_2</th>\n",
       "    </tr>\n",
       "  </thead>\n",
       "  <tbody>\n",
       "    <tr>\n",
       "      <th>83850</th>\n",
       "      <td>83850</td>\n",
       "      <td>ENSG00000250561-ENSG00000271093</td>\n",
       "      <td>ENSG00000250561</td>\n",
       "      <td>ENSG00000271093</td>\n",
       "      <td>ENST00000508367</td>\n",
       "      <td>1000</td>\n",
       "      <td>CTTGTTTCTGATTTTTCAACCATCTTTTCCAGGCAAAAGGTGTCCA...</td>\n",
       "      <td>ENST00000605398</td>\n",
       "      <td>313</td>\n",
       "      <td>GGCCAGCCCAAGGCCACCCCCTTGGTCACTCTGTTCCCGTCCTCCT...</td>\n",
       "    </tr>\n",
       "    <tr>\n",
       "      <th>83851</th>\n",
       "      <td>83851</td>\n",
       "      <td>ENSG00000188451-ENSG00000270820</td>\n",
       "      <td>ENSG00000188451</td>\n",
       "      <td>ENSG00000270820</td>\n",
       "      <td>ENST00000344851</td>\n",
       "      <td>1979</td>\n",
       "      <td>AGTGCCTGTGCTGTGTGGAGTGAAGTGAACCGGTACGGCCAGAACA...</td>\n",
       "      <td>ENST00000605437</td>\n",
       "      <td>569</td>\n",
       "      <td>CAGGAGTGGGTGAGGGATAAGACTACACATAAGGTGGAGTTCATAC...</td>\n",
       "    </tr>\n",
       "    <tr>\n",
       "      <th>83852</th>\n",
       "      <td>83852</td>\n",
       "      <td>ENSG00000267521-ENSG00000271897</td>\n",
       "      <td>ENSG00000267521</td>\n",
       "      <td>ENSG00000271897</td>\n",
       "      <td>ENST00000591422</td>\n",
       "      <td>722</td>\n",
       "      <td>GCAGAATCAACCTGAAAAGTCAGGCTTGGGGACCACCCCCTTCTCC...</td>\n",
       "      <td>ENST00000607169</td>\n",
       "      <td>430</td>\n",
       "      <td>AAACCGGTGTAAGTGCAAAGAGCAGAGCCAGCTCCTCCCCAGCTCT...</td>\n",
       "    </tr>\n",
       "    <tr>\n",
       "      <th>83853</th>\n",
       "      <td>83853</td>\n",
       "      <td>ENSG00000269779-ENSG00000279971</td>\n",
       "      <td>ENSG00000269779</td>\n",
       "      <td>ENSG00000279971</td>\n",
       "      <td>ENST00000595195</td>\n",
       "      <td>2737</td>\n",
       "      <td>TCAGTTATGTGTTCTCATTTTGCCCAAGACCTTTGGCCAGAGCAGA...</td>\n",
       "      <td>ENST00000623084</td>\n",
       "      <td>1459</td>\n",
       "      <td>CGCCAACACCCAACCCCTCCCACTGCAGGCTGAGCTGAGTTCCTGA...</td>\n",
       "    </tr>\n",
       "    <tr>\n",
       "      <th>83854</th>\n",
       "      <td>83854</td>\n",
       "      <td>ENSG00000254109-ENSG00000281181</td>\n",
       "      <td>ENSG00000254109</td>\n",
       "      <td>ENSG00000281181</td>\n",
       "      <td>ENST00000519753</td>\n",
       "      <td>1031</td>\n",
       "      <td>CACACTGTGGGGCTGCGTCCGGGGCACGGGCCATGCCTGAACCTTC...</td>\n",
       "      <td>ENST00000627981</td>\n",
       "      <td>923</td>\n",
       "      <td>ATCAACGCAAGCTTATGACCCGCACTTACTGGGAATTCCTCGTTCA...</td>\n",
       "    </tr>\n",
       "  </tbody>\n",
       "</table>\n",
       "</div>"
      ],
      "text/plain": [
       "       Unnamed: 0                          couples         gene_id1  \\\n",
       "83850       83850  ENSG00000250561-ENSG00000271093  ENSG00000250561   \n",
       "83851       83851  ENSG00000188451-ENSG00000270820  ENSG00000188451   \n",
       "83852       83852  ENSG00000267521-ENSG00000271897  ENSG00000267521   \n",
       "83853       83853  ENSG00000269779-ENSG00000279971  ENSG00000269779   \n",
       "83854       83854  ENSG00000254109-ENSG00000281181  ENSG00000254109   \n",
       "\n",
       "              gene_id2 ensembl_transcript_id_1  length_1  \\\n",
       "83850  ENSG00000271093         ENST00000508367      1000   \n",
       "83851  ENSG00000270820         ENST00000344851      1979   \n",
       "83852  ENSG00000271897         ENST00000591422       722   \n",
       "83853  ENSG00000279971         ENST00000595195      2737   \n",
       "83854  ENSG00000281181         ENST00000519753      1031   \n",
       "\n",
       "                                                  cdna_1  \\\n",
       "83850  CTTGTTTCTGATTTTTCAACCATCTTTTCCAGGCAAAAGGTGTCCA...   \n",
       "83851  AGTGCCTGTGCTGTGTGGAGTGAAGTGAACCGGTACGGCCAGAACA...   \n",
       "83852  GCAGAATCAACCTGAAAAGTCAGGCTTGGGGACCACCCCCTTCTCC...   \n",
       "83853  TCAGTTATGTGTTCTCATTTTGCCCAAGACCTTTGGCCAGAGCAGA...   \n",
       "83854  CACACTGTGGGGCTGCGTCCGGGGCACGGGCCATGCCTGAACCTTC...   \n",
       "\n",
       "      ensembl_transcript_id_2  length_2  \\\n",
       "83850         ENST00000605398       313   \n",
       "83851         ENST00000605437       569   \n",
       "83852         ENST00000607169       430   \n",
       "83853         ENST00000623084      1459   \n",
       "83854         ENST00000627981       923   \n",
       "\n",
       "                                                  cdna_2  \n",
       "83850  GGCCAGCCCAAGGCCACCCCCTTGGTCACTCTGTTCCCGTCCTCCT...  \n",
       "83851  CAGGAGTGGGTGAGGGATAAGACTACACATAAGGTGGAGTTCATAC...  \n",
       "83852  AAACCGGTGTAAGTGCAAAGAGCAGAGCCAGCTCCTCCCCAGCTCT...  \n",
       "83853  CGCCAACACCCAACCCCTCCCACTGCAGGCTGAGCTGAGTTCCTGA...  \n",
       "83854  ATCAACGCAAGCTTATGACCCGCACTTACTGGGAATTCCTCGTTCA...  "
      ]
     },
     "execution_count": 35,
     "metadata": {},
     "output_type": "execute_result"
    }
   ],
   "source": [
    "df_old.tail()"
   ]
  },
  {
   "cell_type": "code",
   "execution_count": 19,
   "id": "7e2e24cd-f61a-479a-9c1a-3fd704ff1f64",
   "metadata": {},
   "outputs": [
    {
     "name": "stdout",
     "output_type": "stream",
     "text": [
      "df.shape[0] = 169981\n",
      "df_old.shape[0] = 83855\n"
     ]
    }
   ],
   "source": [
    "print(f'{df.shape[0] = }')\n",
    "print(f'{df_old.shape[0] = }')"
   ]
  },
  {
   "cell_type": "code",
   "execution_count": 21,
   "id": "c0e63ebc-23ec-450c-9b14-aceded2cd758",
   "metadata": {},
   "outputs": [
    {
     "data": {
      "text/plain": [
       "True"
      ]
     },
     "execution_count": 21,
     "metadata": {},
     "output_type": "execute_result"
    }
   ],
   "source": [
    "(df.columns == df_old.columns).all()"
   ]
  },
  {
   "cell_type": "markdown",
   "id": "3e2485e2-c830-47bd-a44a-61ba51caa919",
   "metadata": {},
   "source": [
    "### Df hub"
   ]
  },
  {
   "cell_type": "code",
   "execution_count": 36,
   "id": "86eaba84-0eff-4475-9051-e1fa4f045753",
   "metadata": {},
   "outputs": [],
   "source": [
    "df=pd.read_csv(os.path.join(original_files_dir, 'hub.table.paris.txt'), sep = '\\t')\n",
    "df_old=pd.read_csv(os.path.join(old_original_files_dir, 'hub.table.paris.txt'), sep = '\\t')"
   ]
  },
  {
   "cell_type": "code",
   "execution_count": 44,
   "id": "63c68b9c-27aa-409a-b11a-6bfe1557a7fd",
   "metadata": {},
   "outputs": [
    {
     "data": {
      "text/html": [
       "<div>\n",
       "<style scoped>\n",
       "    .dataframe tbody tr th:only-of-type {\n",
       "        vertical-align: middle;\n",
       "    }\n",
       "\n",
       "    .dataframe tbody tr th {\n",
       "        vertical-align: top;\n",
       "    }\n",
       "\n",
       "    .dataframe thead th {\n",
       "        text-align: right;\n",
       "    }\n",
       "</style>\n",
       "<table border=\"1\" class=\"dataframe\">\n",
       "  <thead>\n",
       "    <tr style=\"text-align: right;\">\n",
       "      <th></th>\n",
       "      <th>Unnamed: 0</th>\n",
       "      <th>gene_id</th>\n",
       "      <th>gene_name</th>\n",
       "      <th>gene_type</th>\n",
       "      <th>species</th>\n",
       "      <th>method</th>\n",
       "      <th>cell_line</th>\n",
       "      <th>interaction_set</th>\n",
       "      <th>degree</th>\n",
       "    </tr>\n",
       "  </thead>\n",
       "  <tbody>\n",
       "    <tr>\n",
       "      <th>0</th>\n",
       "      <td>0</td>\n",
       "      <td>ENSG00000000003</td>\n",
       "      <td>{'TSPAN6'}</td>\n",
       "      <td>{'protein_coding'}</td>\n",
       "      <td>{'human'}</td>\n",
       "      <td>{'PARIS'}</td>\n",
       "      <td>{'Hela(highRNase)', 'HEK293T', 'Hela(lowRNase)'}</td>\n",
       "      <td>{'ENSG00000138246', 'ENSG00000011275', 'ENSG00...</td>\n",
       "      <td>4</td>\n",
       "    </tr>\n",
       "    <tr>\n",
       "      <th>1</th>\n",
       "      <td>1</td>\n",
       "      <td>ENSG00000000005</td>\n",
       "      <td>{'TNMD'}</td>\n",
       "      <td>{'protein_coding'}</td>\n",
       "      <td>{'human'}</td>\n",
       "      <td>{'PARIS'}</td>\n",
       "      <td>{'Hela(lowRNase)'}</td>\n",
       "      <td>{'ENSG00000084090'}</td>\n",
       "      <td>1</td>\n",
       "    </tr>\n",
       "    <tr>\n",
       "      <th>2</th>\n",
       "      <td>2</td>\n",
       "      <td>ENSG00000000419</td>\n",
       "      <td>{'DPM1'}</td>\n",
       "      <td>{'protein_coding'}</td>\n",
       "      <td>{'human'}</td>\n",
       "      <td>{'PARIS'}</td>\n",
       "      <td>{'Hela(lowRNase)'}</td>\n",
       "      <td>{'ENSG00000280193', 'ENSG00000184617'}</td>\n",
       "      <td>2</td>\n",
       "    </tr>\n",
       "    <tr>\n",
       "      <th>3</th>\n",
       "      <td>3</td>\n",
       "      <td>ENSG00000000457</td>\n",
       "      <td>{'SCYL3'}</td>\n",
       "      <td>{'protein_coding'}</td>\n",
       "      <td>{'human'}</td>\n",
       "      <td>{'PARIS'}</td>\n",
       "      <td>{'Hela(highRNase)', 'Hela(lowRNase)'}</td>\n",
       "      <td>{'ENSG00000196352', 'ENSG00000228107', 'ENSG00...</td>\n",
       "      <td>17</td>\n",
       "    </tr>\n",
       "    <tr>\n",
       "      <th>4</th>\n",
       "      <td>4</td>\n",
       "      <td>ENSG00000000460</td>\n",
       "      <td>{'C1orf112'}</td>\n",
       "      <td>{'protein_coding'}</td>\n",
       "      <td>{'human'}</td>\n",
       "      <td>{'PARIS'}</td>\n",
       "      <td>{'HEK293T'}</td>\n",
       "      <td>{'ENSG00000171621', 'ENSG00000171735', 'ENSG00...</td>\n",
       "      <td>3</td>\n",
       "    </tr>\n",
       "    <tr>\n",
       "      <th>...</th>\n",
       "      <td>...</td>\n",
       "      <td>...</td>\n",
       "      <td>...</td>\n",
       "      <td>...</td>\n",
       "      <td>...</td>\n",
       "      <td>...</td>\n",
       "      <td>...</td>\n",
       "      <td>...</td>\n",
       "      <td>...</td>\n",
       "    </tr>\n",
       "    <tr>\n",
       "      <th>41314</th>\n",
       "      <td>41314</td>\n",
       "      <td>ENSMUSG00000109560</td>\n",
       "      <td>{'RP23-308M1'}</td>\n",
       "      <td>{'pseudogene'}</td>\n",
       "      <td>{'mouse'}</td>\n",
       "      <td>{'PARIS'}</td>\n",
       "      <td>{'mES'}</td>\n",
       "      <td>{'ENSMUSG00000009640'}</td>\n",
       "      <td>1</td>\n",
       "    </tr>\n",
       "    <tr>\n",
       "      <th>41315</th>\n",
       "      <td>41315</td>\n",
       "      <td>ENSMUSG00000109562</td>\n",
       "      <td>{'RP23-474B17'}</td>\n",
       "      <td>{'protein_coding'}</td>\n",
       "      <td>{'mouse'}</td>\n",
       "      <td>{'PARIS'}</td>\n",
       "      <td>{'mES'}</td>\n",
       "      <td>{'ENSMUSG00000026662'}</td>\n",
       "      <td>1</td>\n",
       "    </tr>\n",
       "    <tr>\n",
       "      <th>41316</th>\n",
       "      <td>41316</td>\n",
       "      <td>ENSMUSG00000109564</td>\n",
       "      <td>{'Muc16'}</td>\n",
       "      <td>{'protein_coding'}</td>\n",
       "      <td>{'mouse'}</td>\n",
       "      <td>{'PARIS'}</td>\n",
       "      <td>{'mES'}</td>\n",
       "      <td>{'ENSMUSG00000037089', 'ENSMUSG00000030016', '...</td>\n",
       "      <td>3</td>\n",
       "    </tr>\n",
       "    <tr>\n",
       "      <th>41317</th>\n",
       "      <td>41317</td>\n",
       "      <td>ENSMUSG00000109574</td>\n",
       "      <td>{'RP23-410K18'}</td>\n",
       "      <td>{'protein_coding'}</td>\n",
       "      <td>{'mouse'}</td>\n",
       "      <td>{'PARIS'}</td>\n",
       "      <td>{'mES'}</td>\n",
       "      <td>{'ENSMUSG00000098178'}</td>\n",
       "      <td>1</td>\n",
       "    </tr>\n",
       "    <tr>\n",
       "      <th>41318</th>\n",
       "      <td>41318</td>\n",
       "      <td>ENSMUSG00000109575</td>\n",
       "      <td>{'RP23-60N8'}</td>\n",
       "      <td>{'protein_coding'}</td>\n",
       "      <td>{'mouse'}</td>\n",
       "      <td>{'PARIS'}</td>\n",
       "      <td>{'mES'}</td>\n",
       "      <td>{'ENSMUSG00000098343', 'ENSMUSG00000016921'}</td>\n",
       "      <td>2</td>\n",
       "    </tr>\n",
       "  </tbody>\n",
       "</table>\n",
       "<p>41319 rows × 9 columns</p>\n",
       "</div>"
      ],
      "text/plain": [
       "       Unnamed: 0             gene_id        gene_name           gene_type  \\\n",
       "0               0     ENSG00000000003       {'TSPAN6'}  {'protein_coding'}   \n",
       "1               1     ENSG00000000005         {'TNMD'}  {'protein_coding'}   \n",
       "2               2     ENSG00000000419         {'DPM1'}  {'protein_coding'}   \n",
       "3               3     ENSG00000000457        {'SCYL3'}  {'protein_coding'}   \n",
       "4               4     ENSG00000000460     {'C1orf112'}  {'protein_coding'}   \n",
       "...           ...                 ...              ...                 ...   \n",
       "41314       41314  ENSMUSG00000109560   {'RP23-308M1'}      {'pseudogene'}   \n",
       "41315       41315  ENSMUSG00000109562  {'RP23-474B17'}  {'protein_coding'}   \n",
       "41316       41316  ENSMUSG00000109564        {'Muc16'}  {'protein_coding'}   \n",
       "41317       41317  ENSMUSG00000109574  {'RP23-410K18'}  {'protein_coding'}   \n",
       "41318       41318  ENSMUSG00000109575    {'RP23-60N8'}  {'protein_coding'}   \n",
       "\n",
       "         species     method                                         cell_line  \\\n",
       "0      {'human'}  {'PARIS'}  {'Hela(highRNase)', 'HEK293T', 'Hela(lowRNase)'}   \n",
       "1      {'human'}  {'PARIS'}                                {'Hela(lowRNase)'}   \n",
       "2      {'human'}  {'PARIS'}                                {'Hela(lowRNase)'}   \n",
       "3      {'human'}  {'PARIS'}             {'Hela(highRNase)', 'Hela(lowRNase)'}   \n",
       "4      {'human'}  {'PARIS'}                                       {'HEK293T'}   \n",
       "...          ...        ...                                               ...   \n",
       "41314  {'mouse'}  {'PARIS'}                                           {'mES'}   \n",
       "41315  {'mouse'}  {'PARIS'}                                           {'mES'}   \n",
       "41316  {'mouse'}  {'PARIS'}                                           {'mES'}   \n",
       "41317  {'mouse'}  {'PARIS'}                                           {'mES'}   \n",
       "41318  {'mouse'}  {'PARIS'}                                           {'mES'}   \n",
       "\n",
       "                                         interaction_set  degree  \n",
       "0      {'ENSG00000138246', 'ENSG00000011275', 'ENSG00...       4  \n",
       "1                                    {'ENSG00000084090'}       1  \n",
       "2                 {'ENSG00000280193', 'ENSG00000184617'}       2  \n",
       "3      {'ENSG00000196352', 'ENSG00000228107', 'ENSG00...      17  \n",
       "4      {'ENSG00000171621', 'ENSG00000171735', 'ENSG00...       3  \n",
       "...                                                  ...     ...  \n",
       "41314                             {'ENSMUSG00000009640'}       1  \n",
       "41315                             {'ENSMUSG00000026662'}       1  \n",
       "41316  {'ENSMUSG00000037089', 'ENSMUSG00000030016', '...       3  \n",
       "41317                             {'ENSMUSG00000098178'}       1  \n",
       "41318       {'ENSMUSG00000098343', 'ENSMUSG00000016921'}       2  \n",
       "\n",
       "[41319 rows x 9 columns]"
      ]
     },
     "execution_count": 44,
     "metadata": {},
     "output_type": "execute_result"
    }
   ],
   "source": [
    "df_old"
   ]
  },
  {
   "cell_type": "code",
   "execution_count": 37,
   "id": "cbab5e3f-a3b5-4a14-a4f2-31ac87b6f958",
   "metadata": {},
   "outputs": [
    {
     "name": "stdout",
     "output_type": "stream",
     "text": [
      "df.shape[0] = 41934\n",
      "df_old.shape[0] = 41319\n"
     ]
    }
   ],
   "source": [
    "print(f'{df.shape[0] = }')\n",
    "print(f'{df_old.shape[0] = }')"
   ]
  },
  {
   "cell_type": "code",
   "execution_count": 38,
   "id": "c34a8bcc-1997-40a8-bf0a-6707de01eabd",
   "metadata": {},
   "outputs": [
    {
     "data": {
      "text/plain": [
       "True"
      ]
     },
     "execution_count": 38,
     "metadata": {},
     "output_type": "execute_result"
    }
   ],
   "source": [
    "(df.columns == df_old.columns).all()"
   ]
  },
  {
   "cell_type": "code",
   "execution_count": 41,
   "id": "8b1b0ea5-16ed-489d-8e1b-76e57ebab878",
   "metadata": {},
   "outputs": [
    {
     "data": {
      "text/plain": [
       "41934"
      ]
     },
     "execution_count": 41,
     "metadata": {},
     "output_type": "execute_result"
    }
   ],
   "source": [
    "len(set(df.gene_id))"
   ]
  },
  {
   "cell_type": "code",
   "execution_count": 42,
   "id": "fc764d35-22af-420a-affa-f9f3614d8867",
   "metadata": {},
   "outputs": [
    {
     "data": {
      "text/plain": [
       "41319"
      ]
     },
     "execution_count": 42,
     "metadata": {},
     "output_type": "execute_result"
    }
   ],
   "source": [
    "len(set(df_old.gene_id))"
   ]
  },
  {
   "cell_type": "code",
   "execution_count": 43,
   "id": "9abe1cb0-995f-4e9d-be12-ee47afacef36",
   "metadata": {},
   "outputs": [
    {
     "data": {
      "text/plain": [
       "6641"
      ]
     },
     "execution_count": 43,
     "metadata": {},
     "output_type": "execute_result"
    }
   ],
   "source": [
    "len(set(df.gene_id) - set(df_old.gene_id))"
   ]
  },
  {
   "cell_type": "markdown",
   "id": "8eab0225-132c-49db-9ce1-790088c4f343",
   "metadata": {},
   "source": [
    "### txregions"
   ]
  },
  {
   "cell_type": "code",
   "execution_count": 27,
   "id": "93498f79-20bd-4d34-b482-731d0a1e7fd5",
   "metadata": {},
   "outputs": [
    {
     "name": "stderr",
     "output_type": "stream",
     "text": [
      "/home/gbini/miniconda3/envs/rnarna/lib/python3.9/site-packages/IPython/core/interactiveshell.py:3444: DtypeWarning: Columns (5) have mixed types.Specify dtype option on import or set low_memory=False.\n",
      "  exec(code_obj, self.user_global_ns, self.user_ns)\n"
     ]
    }
   ],
   "source": [
    "df=pd.read_csv(os.path.join(original_files_dir, 'tx_regions.ens99.txt'), sep = '\\t')\n",
    "df_old=pd.read_csv(os.path.join(old_original_files_dir, 'tx_regions.ens84.txt'), sep = '\\t')"
   ]
  },
  {
   "cell_type": "code",
   "execution_count": 29,
   "id": "0ac562ce-b4f1-4de8-93a4-c94581b91bd7",
   "metadata": {},
   "outputs": [
    {
     "name": "stdout",
     "output_type": "stream",
     "text": [
      "df.shape[0] = 123429\n",
      "df_old.shape[0] = 333371\n"
     ]
    }
   ],
   "source": [
    "print(f'{df.shape[0] = }')\n",
    "print(f'{df_old.shape[0] = }')"
   ]
  },
  {
   "cell_type": "code",
   "execution_count": 31,
   "id": "7b7ff145-0c8e-4316-a583-567c264a1db2",
   "metadata": {},
   "outputs": [
    {
     "data": {
      "text/plain": [
       "Index(['Unnamed: 0', 'ensembl_transcript_id', 'UTR5', 'CDS', 'UTR3'], dtype='object')"
      ]
     },
     "execution_count": 31,
     "metadata": {},
     "output_type": "execute_result"
    }
   ],
   "source": [
    "df.columns"
   ]
  },
  {
   "cell_type": "code",
   "execution_count": 32,
   "id": "be113c1a-245b-4f76-be4e-fc94879b99f1",
   "metadata": {},
   "outputs": [
    {
     "data": {
      "text/plain": [
       "Index(['Unnamed: 0', 'ensembl_transcript_id', 'UTR5', 'CDS', 'UTR3', 'length'], dtype='object')"
      ]
     },
     "execution_count": 32,
     "metadata": {},
     "output_type": "execute_result"
    }
   ],
   "source": [
    "df_old.columns"
   ]
  },
  {
   "cell_type": "markdown",
   "id": "d57e73a8-daef-43b5-ba53-1305ba15fbd6",
   "metadata": {},
   "source": [
    "### New dataset"
   ]
  },
  {
   "cell_type": "code",
   "execution_count": 66,
   "id": "7bab94d4-80ec-4014-b012-86da183c21f8",
   "metadata": {},
   "outputs": [],
   "source": [
    "df=pd.read_csv(os.path.join(original_files_dir, 'controls_controlled.hub.txt'), sep = '\\t')"
   ]
  }
 ],
 "metadata": {
  "kernelspec": {
   "display_name": "Python 3 (ipykernel)",
   "language": "python",
   "name": "python3"
  },
  "language_info": {
   "codemirror_mode": {
    "name": "ipython",
    "version": 3
   },
   "file_extension": ".py",
   "mimetype": "text/x-python",
   "name": "python",
   "nbconvert_exporter": "python",
   "pygments_lexer": "ipython3",
   "version": "3.9.7"
  }
 },
 "nbformat": 4,
 "nbformat_minor": 5
}
