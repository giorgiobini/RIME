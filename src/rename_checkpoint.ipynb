{
 "cells": [
  {
   "cell_type": "code",
   "execution_count": 1,
   "id": "685f531f",
   "metadata": {},
   "outputs": [],
   "source": [
    "import time\n",
    "import os\n",
    "import numpy as np\n",
    "import random\n",
    "import re\n",
    "import sys\n",
    "import shutil\n",
    "sys.path.insert(0, '..')\n",
    "from config import *"
   ]
  },
  {
   "cell_type": "code",
   "execution_count": 8,
   "id": "0deedbb8-1253-485e-a248-5517500e7066",
   "metadata": {},
   "outputs": [],
   "source": [
    "folder_name = 'all_modelarch2_easypretrain11_paristfinetuningSPLASHval0039parisHQSPLASHval'\n",
    "checkpoint_dir = os.path.join(ROOT_DIR, 'checkpoints', folder_name)"
   ]
  },
  {
   "cell_type": "code",
   "execution_count": 9,
   "id": "243f7258-ee40-4988-a060-994e2b7763af",
   "metadata": {},
   "outputs": [],
   "source": [
    "# List of files\n",
    "files = os.listdir(checkpoint_dir)\n",
    "\n",
    "# Dictionary to store filenames and their values\n",
    "desired_files = {}\n",
    "\n",
    "# Regular expression pattern to extract numbers or 'BEST'\n",
    "pattern = re.compile(r'checkpoint(\\d+).pth|checkpointBEST.pth')\n",
    "\n",
    "for file in files:\n",
    "    match = pattern.match(file)\n",
    "    if match:\n",
    "        value = match.group(1) if match.group(1) else 'BEST'\n",
    "        desired_files[file] = value"
   ]
  },
  {
   "cell_type": "code",
   "execution_count": 10,
   "id": "8a4ed704-e5af-4815-985f-e0dcf0230209",
   "metadata": {},
   "outputs": [],
   "source": [
    "for i in desired_files.keys():\n",
    "    \n",
    "    ckpt_folder = checkpoint_dir+desired_files[i]\n",
    "    \n",
    "    if os.path.exists(ckpt_folder) == False:\n",
    "        os.mkdir(ckpt_folder)\n",
    "    \n",
    "    shutil.copy2(os.path.join(checkpoint_dir, 'log.txt'), os.path.join(ckpt_folder, 'log.txt'))\n",
    "    shutil.copy2(os.path.join(checkpoint_dir, 'args.pkl'), os.path.join(ckpt_folder, 'args.pkl'))\n",
    "    shutil.copy2(os.path.join(checkpoint_dir, i), os.path.join(ckpt_folder, 'best_model.pth'))"
   ]
  },
  {
   "cell_type": "markdown",
   "id": "7c1ee25e-0e41-4f7d-98e6-78f3658fba67",
   "metadata": {},
   "source": [
    "# Create string for the sh file"
   ]
  },
  {
   "cell_type": "code",
   "execution_count": 11,
   "id": "95cb042f-606c-44e9-a111-182dcc6c8400",
   "metadata": {},
   "outputs": [],
   "source": [
    "folder_names = ['all_modelarch2_easypretrain11_paristfinetuningSPLASHval0039parisHQSPLASHval', \n",
    "                'all_modelarch1_easypretrain10_paristfinetuningsplashRICSEQval',\n",
    "                'all_modelarch2_easypretrain11_paristfinetuningSPLASHval0061parisHQSPLASHval'\n",
    "               ]\n",
    "\n",
    "folders = []\n",
    "\n",
    "for folder_name in folder_names:\n",
    "    checkpoint_dir = os.path.join(ROOT_DIR, 'checkpoints', folder_name)\n",
    "\n",
    "    # List of files\n",
    "    files = os.listdir(checkpoint_dir)\n",
    "\n",
    "    # Dictionary to store filenames and their values\n",
    "    desired_files = {}\n",
    "\n",
    "    # Regular expression pattern to extract numbers or 'BEST'\n",
    "    pattern = re.compile(r'checkpoint(\\d+).pth|checkpointBEST.pth')\n",
    "\n",
    "    for file in files:\n",
    "        match = pattern.match(file)\n",
    "        if match:\n",
    "            value = match.group(1) if match.group(1) else 'BEST'\n",
    "            desired_files[file] = value\n",
    "\n",
    "    for i in desired_files.keys():\n",
    "        ckpt_folder = checkpoint_dir+desired_files[i]\n",
    "        folders.append(os.path.basename(ckpt_folder))\n",
    "    "
   ]
  },
  {
   "cell_type": "code",
   "execution_count": 12,
   "id": "95befb79-73c8-4172-b0d1-1a03dbe732e2",
   "metadata": {},
   "outputs": [],
   "source": [
    "result_string = ' '.join(f\"'{s}'\" for s in folders)"
   ]
  },
  {
   "cell_type": "code",
   "execution_count": 13,
   "id": "df169a42-705a-41f4-a4a4-d2c0d1ca468a",
   "metadata": {},
   "outputs": [
    {
     "data": {
      "text/plain": [
       "\"'all_modelarch2_easypretrain11_paristfinetuningSPLASHval0039parisHQSPLASHval0043' 'all_modelarch2_easypretrain11_paristfinetuningSPLASHval0039parisHQSPLASHval0054' 'all_modelarch2_easypretrain11_paristfinetuningSPLASHval0039parisHQSPLASHval0080' 'all_modelarch2_easypretrain11_paristfinetuningSPLASHval0039parisHQSPLASHval0100' 'all_modelarch2_easypretrain11_paristfinetuningSPLASHval0039parisHQSPLASHval0103' 'all_modelarch2_easypretrain11_paristfinetuningSPLASHval0039parisHQSPLASHval0120' 'all_modelarch1_easypretrain10_paristfinetuningsplashRICSEQval0019' 'all_modelarch1_easypretrain10_paristfinetuningsplashRICSEQval0029' 'all_modelarch1_easypretrain10_paristfinetuningsplashRICSEQval0031' 'all_modelarch1_easypretrain10_paristfinetuningsplashRICSEQval0037' 'all_modelarch1_easypretrain10_paristfinetuningsplashRICSEQval0050' 'all_modelarch1_easypretrain10_paristfinetuningsplashRICSEQval0057' 'all_modelarch1_easypretrain10_paristfinetuningsplashRICSEQval0070' 'all_modelarch2_easypretrain11_paristfinetuningSPLASHval0061parisHQSPLASHval0070' 'all_modelarch2_easypretrain11_paristfinetuningSPLASHval0061parisHQSPLASHval0075' 'all_modelarch2_easypretrain11_paristfinetuningSPLASHval0061parisHQSPLASHval0085' 'all_modelarch2_easypretrain11_paristfinetuningSPLASHval0061parisHQSPLASHval0088' 'all_modelarch2_easypretrain11_paristfinetuningSPLASHval0061parisHQSPLASHval0098' 'all_modelarch2_easypretrain11_paristfinetuningSPLASHval0061parisHQSPLASHval0142'\""
      ]
     },
     "execution_count": 13,
     "metadata": {},
     "output_type": "execute_result"
    }
   ],
   "source": [
    "result_string"
   ]
  },
  {
   "cell_type": "code",
   "execution_count": null,
   "id": "1f1c88d8-d8c5-46e4-a59d-0f5697bdecb0",
   "metadata": {},
   "outputs": [],
   "source": []
  }
 ],
 "metadata": {
  "kernelspec": {
   "display_name": "Python 3 (ipykernel)",
   "language": "python",
   "name": "python3"
  },
  "language_info": {
   "codemirror_mode": {
    "name": "ipython",
    "version": 3
   },
   "file_extension": ".py",
   "mimetype": "text/x-python",
   "name": "python",
   "nbconvert_exporter": "python",
   "pygments_lexer": "ipython3",
   "version": "3.9.7"
  }
 },
 "nbformat": 4,
 "nbformat_minor": 5
}
