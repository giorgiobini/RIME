{
 "cells": [
  {
   "cell_type": "code",
   "execution_count": 1,
   "id": "cfdf9a75",
   "metadata": {},
   "outputs": [],
   "source": [
    "its_jupyter_notebook = True"
   ]
  },
  {
   "cell_type": "markdown",
   "id": "ae652a9f",
   "metadata": {
    "tags": []
   },
   "source": [
    "# Try individual modules "
   ]
  },
  {
   "cell_type": "code",
   "execution_count": 2,
   "id": "b5ccf3e7",
   "metadata": {},
   "outputs": [],
   "source": [
    "import sys\n",
    "import os\n",
    "import torch\n",
    "import numpy as np\n",
    "import pickle\n",
    "import time\n",
    "if its_jupyter_notebook:\n",
    "    sys.argv = [''] #Remove this if it's not a jupyter notebook!\n",
    "sys.path.insert(0, '..')\n",
    "\n",
    "ROOT_DIR = os.path.dirname(os.path.abspath('.'))\n",
    "original_files_dir = os.path.join(ROOT_DIR, 'dataset', 'original_files')\n",
    "processed_files_dir = os.path.join(ROOT_DIR, 'dataset', 'processed_files')\n",
    "ufold_dir = os.path.join(ROOT_DIR, 'UFold_dependencies')\n",
    "ufold_path= os.path.join(ufold_dir, 'models', 'ufold_train_alldata.pt')\n",
    "bert_pretrained_dir = os.path.join(ROOT_DIR, 'dataset', 'pre_trained_DNABERT', '6-new-12w-0')\n",
    "\n",
    "sys.path.insert(0, ufold_dir)\n",
    "from UFold_dependencies.running_ufold import *\n",
    "from UFold_dependencies.ufold.data_generator import Dataset_Cut_concat_new as Dataset_FCN\n",
    "from UFold_dependencies.ufold.data_generator import Generator_multiple_inputs\n",
    "from transformers import BertModel, BertConfig, DNATokenizer"
   ]
  },
  {
   "cell_type": "code",
   "execution_count": 3,
   "id": "a1380294",
   "metadata": {},
   "outputs": [],
   "source": [
    "device = 'cuda:0'"
   ]
  },
  {
   "cell_type": "markdown",
   "id": "5b56d4d2",
   "metadata": {
    "tags": []
   },
   "source": [
    "### Ufold"
   ]
  },
  {
   "cell_type": "code",
   "execution_count": 4,
   "id": "c580d67f",
   "metadata": {},
   "outputs": [
    {
     "name": "stdout",
     "output_type": "stream",
     "text": [
      "==========Start Loading Pretrained Model==========\n",
      "==========Finish Loading Pretrained Model==========\n"
     ]
    }
   ],
   "source": [
    "UFoldFeatureExtractor = UFoldModel(device, ufold_path, eval_mode = True)"
   ]
  },
  {
   "cell_type": "code",
   "execution_count": 5,
   "id": "9f1bac6d",
   "metadata": {},
   "outputs": [
    {
     "name": "stdout",
     "output_type": "stream",
     "text": [
      "74\n"
     ]
    }
   ],
   "source": [
    "postprocessing = True\n",
    "seqs = ['UCCCGGUGAUUGGAGCGCUGGUGAAAGGCAGCUUCCGAACAGGAUAGUGAAAGGCAGCAGCGGGUAAGCGGGUA',\n",
    "        'GCCCCCAUCGUCUAACGGUUAGGACACCAGACUUUCAAUCUGAUUCCGAACAGGAUAGUGAAAGGCAGCAGCGG',\n",
    "        'GCACCGUUAGGACACCGACGACUAACGUAGGUUGGACACCGAACAGUGAAAGGCAGCAGGGUUCCGAACAGGAU',\n",
    "        'CUUUCAAUCUGACAACGAGAGUUCGGUAGGUUGGACAUUCCGAACAUUCCGAACAGGAUAGUGAAAGGCAGCAG']\n",
    "seq_names = ['seq{}'.format(int_id) for int_id in range(len(seqs))]\n",
    "print(len(seqs[0]))"
   ]
  },
  {
   "cell_type": "code",
   "execution_count": 6,
   "id": "b7a11af1",
   "metadata": {},
   "outputs": [],
   "source": [
    "training_data = Generator_multiple_inputs(seqs, seq_names)\n",
    "params = {'batch_size': len(seqs),\n",
    "  'shuffle': False,\n",
    "  'num_workers': 1,\n",
    "  'drop_last': False}\n",
    "training_set = Dataset_FCN(training_data)\n",
    "training_generator = data.DataLoader(training_set, **params) \n",
    "\n",
    "results_in_batch_32 = {}\n",
    "for batch, (seq_embeddings, seq_lens, seq_ori, seq_name) in enumerate(training_generator):\n",
    "    model_features = UFoldFeatureExtractor.contact_net_prediction(seq_embeddings, seq_lens[0], seq_ori, seq_name, postprocessing = postprocessing)\n",
    "    for i in range(len(model_features)):\n",
    "        name = seq_name[i]\n",
    "        contact_matrix = model_features[i]\n",
    "        one_hot = from_matrix_to_one_hot(model_features[i], device = device)\n",
    "        dot_torch = from_one_hot_to_dot(one_hot)\n",
    "        results_in_batch_32[name] = {'contact_matrix':model_features[i],\n",
    "                            'seq_embeddings':seq_embeddings[i],\n",
    "                            'dot_seq': from_matrix_to_dot(model_features[i]),\n",
    "                            'dot_seq_torch':dot_torch\n",
    "                           }"
   ]
  },
  {
   "cell_type": "code",
   "execution_count": 7,
   "id": "38802294",
   "metadata": {},
   "outputs": [
    {
     "data": {
      "text/plain": [
       "torch.Size([4, 17, 80, 80])"
      ]
     },
     "execution_count": 7,
     "metadata": {},
     "output_type": "execute_result"
    }
   ],
   "source": [
    "seq_embeddings.shape"
   ]
  },
  {
   "cell_type": "code",
   "execution_count": 8,
   "id": "94fca1a5",
   "metadata": {},
   "outputs": [
    {
     "data": {
      "text/plain": [
       "torch.Size([4, 74, 74])"
      ]
     },
     "execution_count": 8,
     "metadata": {},
     "output_type": "execute_result"
    }
   ],
   "source": [
    "model_features.shape"
   ]
  },
  {
   "cell_type": "markdown",
   "id": "40f81a8d",
   "metadata": {
    "jp-MarkdownHeadingCollapsed": true,
    "tags": []
   },
   "source": [
    "### BERT"
   ]
  },
  {
   "cell_type": "code",
   "execution_count": 19,
   "id": "598a0d06",
   "metadata": {},
   "outputs": [
    {
     "name": "stdout",
     "output_type": "stream",
     "text": [
      "============================================================\n",
      "<class 'transformers.tokenization_dna.DNATokenizer'>\n"
     ]
    }
   ],
   "source": [
    "config = BertConfig.from_pretrained('https://raw.githubusercontent.com/jerryji1993/DNABERT/master/src/transformers/dnabert-config/bert-config-6/config.json')\n",
    "tokenizer = DNATokenizer.from_pretrained('dna6')        \n",
    "model = BertModel.from_pretrained(bert_pretrained_dir, config=config)"
   ]
  },
  {
   "cell_type": "code",
   "execution_count": 20,
   "id": "66768981",
   "metadata": {},
   "outputs": [],
   "source": [
    "def build_kmers(sequence, k = 6):\n",
    "    \"\"\"\n",
    "    e.g. input:  \"AATCTAGCA\", a string of length 9\n",
    "        output: \"AATCTA ATCTAG TCTAGC CTAGCA\" a string of 4 6-mers divided by a space char\n",
    "    \"\"\"\n",
    "    kmers = ''\n",
    "    n_kmers = len(sequence) - k + 1\n",
    "\n",
    "    for i in range(n_kmers):\n",
    "        kmer = sequence[i:i + k]\n",
    "        kmers += kmer + ' '\n",
    "\n",
    "    return kmers[:-1] #remove last space"
   ]
  },
  {
   "cell_type": "code",
   "execution_count": 21,
   "id": "1abc44ee",
   "metadata": {},
   "outputs": [],
   "source": [
    "kmer_seqs = [build_kmers(seqs[i].replace(\"U\", \"T\" ), k = 6) for i in range(len(seqs))]\n",
    "model_inputs = [tokenizer.encode_plus(kmer_seqs[i], add_special_tokens=True, max_length=512)[\"input_ids\"] for i in range(len(seqs))]\n",
    "model_inputs = torch.tensor(model_inputs, dtype=torch.long)"
   ]
  },
  {
   "cell_type": "code",
   "execution_count": 22,
   "id": "55c0efcc",
   "metadata": {},
   "outputs": [
    {
     "data": {
      "text/plain": [
       "torch.Size([4, 71])"
      ]
     },
     "execution_count": 22,
     "metadata": {},
     "output_type": "execute_result"
    }
   ],
   "source": [
    "model_inputs.shape"
   ]
  },
  {
   "cell_type": "code",
   "execution_count": 23,
   "id": "e97d2eb9",
   "metadata": {},
   "outputs": [],
   "source": [
    "output = model(model_inputs) \n",
    "embedded_seqs = output[0][:, 1:-1,:]\n",
    "#numpy_embedded_seqs = embedded_seqs.detach().numpy()"
   ]
  },
  {
   "cell_type": "code",
   "execution_count": 37,
   "id": "33d43239",
   "metadata": {},
   "outputs": [
    {
     "data": {
      "text/plain": [
       "torch.Size([4, 80, 4])"
      ]
     },
     "execution_count": 37,
     "metadata": {},
     "output_type": "execute_result"
    }
   ],
   "source": [
    "seq_ori.shape"
   ]
  },
  {
   "cell_type": "code",
   "execution_count": 24,
   "id": "e0cb893e",
   "metadata": {},
   "outputs": [
    {
     "data": {
      "text/plain": [
       "torch.Size([4, 69, 768])"
      ]
     },
     "execution_count": 24,
     "metadata": {},
     "output_type": "execute_result"
    }
   ],
   "source": [
    "embedded_seqs.shape"
   ]
  },
  {
   "cell_type": "markdown",
   "id": "f60bade9",
   "metadata": {},
   "source": [
    "# Try the model "
   ]
  },
  {
   "cell_type": "code",
   "execution_count": 4,
   "id": "1b152125",
   "metadata": {},
   "outputs": [],
   "source": [
    "### Il dataloader deve rilasciare questo:\n",
    "# ([\n",
    "#    [rna1_ss, rna1_bert], \n",
    "#    [rna2_ss, rna2_bert]\n",
    "#  ], {'there_is_interaction':0, ..})\n",
    "\n",
    "### Nel collate_fn, si trasformera in questo (NT sta per nested tensor):\n",
    "# ([\n",
    "#    [rna1_ss, NT(rna1_bert, mask1)], \n",
    "#    [rna2_ss, NT(rna2_bert, mask2)]\n",
    "#  ], {'there_is_interaction':0, ..})\n",
    "\n",
    "\n",
    "#rna1_ss  con shape (b, M, 3)\n",
    "\n",
    "#rna2_ss   con shape (b, N, 3)\n",
    "\n",
    "#rna1_bert   con shape (b, M - 3, 768)\n",
    "\n",
    "#rna2_bert   con shape (b, N - 3, 768)\n",
    "\n",
    "#quindi per ricavare M, N basta fare (rna1_bert.shape[1] + 3), (rna2_bert.shape[1] + 3)"
   ]
  },
  {
   "cell_type": "code",
   "execution_count": 4,
   "id": "f6ee450e",
   "metadata": {},
   "outputs": [
    {
     "name": "stdout",
     "output_type": "stream",
     "text": [
      "============================================================\n",
      "<class 'transformers.tokenization_dna.DNATokenizer'>\n"
     ]
    }
   ],
   "source": [
    "import sys\n",
    "import os\n",
    "import torch\n",
    "import numpy as np\n",
    "import random\n",
    "import torch\n",
    "from torch.utils import data\n",
    "import argparse\n",
    "import time\n",
    "if its_jupyter_notebook:\n",
    "    sys.argv = [''] #Remove this if it's not a jupyter notebook!\n",
    "sys.path.insert(0, '..')\n",
    "\n",
    "ROOT_DIR = os.path.dirname(os.path.abspath('.'))\n",
    "ufold_dir = os.path.join(ROOT_DIR, 'UFold_dependencies')\n",
    "ufold_path= os.path.join(ufold_dir, 'models', 'ufold_train_alldata.pt')\n",
    "bert_pretrained_dir = os.path.join(ROOT_DIR, 'dataset', 'pre_trained_DNABERT', '6-new-12w-0')\n",
    "sys.path.insert(0, ufold_dir)\n",
    "from train_binary_cl import get_args_parser\n",
    "from models.binary_classifier import build as build_model\n",
    "from util.misc import NestedTensor\n",
    "from UFold_dependencies.ufold.data_generator import Dataset_Cut_concat_new as Dataset_FCN\n",
    "from UFold_dependencies.ufold.data_generator import Generator_multiple_inputs\n",
    "from transformers import DNATokenizer\n",
    "from UFold_dependencies.running_ufold import UFoldModel, from_matrix_to_one_hot\n",
    "\n",
    "\n",
    "parser = argparse.ArgumentParser('Example script', parents=[get_args_parser()])\n",
    "args = parser.parse_args()"
   ]
  },
  {
   "cell_type": "code",
   "execution_count": 5,
   "id": "18e4137f",
   "metadata": {},
   "outputs": [],
   "source": [
    "args.device = 'cuda:0'\n",
    "device = torch.device(args.device)\n",
    "model, criterion, postprocessors = build_model(args, bert_pretrained_dir, ufold_path)\n",
    "model = model.to(device)"
   ]
  },
  {
   "cell_type": "code",
   "execution_count": 6,
   "id": "359f483c",
   "metadata": {},
   "outputs": [
    {
     "name": "stdout",
     "output_type": "stream",
     "text": [
      "number of params: 1459700\n"
     ]
    }
   ],
   "source": [
    "n_parameters = sum(p.numel() for p in model.parameters() if p.requires_grad)\n",
    "print('number of params:', n_parameters)"
   ]
  },
  {
   "cell_type": "code",
   "execution_count": 7,
   "id": "8049a79c",
   "metadata": {},
   "outputs": [],
   "source": [
    "import torch\n",
    "from torch.utils.data import DataLoader\n",
    "import util.misc as utils\n",
    "\n",
    "\n",
    "batch_size = 128\n",
    "num_workers = 2"
   ]
  },
  {
   "cell_type": "code",
   "execution_count": 24,
   "id": "b4f145f4",
   "metadata": {},
   "outputs": [],
   "source": [
    "from dataset.data import (\n",
    "    RNADataset,\n",
    "    ROOT_DIR,\n",
    "    EasyPosAugment,\n",
    "    RegionSpecNegAugment,\n",
    "    InteractionSelectionPolicy,\n",
    "    EasyNegAugment,\n",
    "    HardPosAugment,\n",
    "    HardNegAugment,\n",
    "    plot_sample,\n",
    "    plot_sample2,\n",
    "    seed_everything,\n",
    ")\n",
    "\n",
    "pos_width_multipliers = {1: 0.1, 1.2: 0.1, 1.6: 1.0}\n",
    "pos_height_multipliers = {1: 0.1, 1.2: 0.1, 1.6: 1.0}\n",
    "neg_width_windows = {(50, 80): 0.1, (80, 120): 0.4, (120, 200): 0.3, (200, 251): 0.2}\n",
    "neg_height_windows = {(50, 80): 0.1, (80, 120): 0.4, (120, 200): 0.3, (200, 251): 0.2}\n",
    "\n",
    "_SUBSET_SIZE: int = 100\n",
    "policies = [\n",
    "    EasyPosAugment(\n",
    "        per_sample=10,\n",
    "        interaction_selection=InteractionSelectionPolicy.LARGEST,\n",
    "        width_multipliers=pos_width_multipliers,\n",
    "        height_multipliers=pos_height_multipliers,\n",
    "    ),\n",
    "    EasyNegAugment(\n",
    "        per_sample=10,\n",
    "        width_windows=neg_width_windows,\n",
    "        height_windows=neg_height_windows,\n",
    "    ),\n",
    "    HardPosAugment(\n",
    "        per_sample=0.5,\n",
    "        interaction_selection=InteractionSelectionPolicy.RANDOM_ONE,\n",
    "        min_width_overlap=0.3,\n",
    "        min_height_overlap=0.3,\n",
    "        width_multipliers=pos_width_multipliers,\n",
    "        height_multipliers=pos_height_multipliers,\n",
    "    ),\n",
    "    HardNegAugment(\n",
    "        per_sample=0.9,\n",
    "        width_windows=neg_width_windows,\n",
    "        height_windows=neg_height_windows,\n",
    "    ),\n",
    "]\n",
    "dataset = RNADataset(\n",
    "    gene_info_path=os.path.join(processed_files_dir, \"df_cdna.csv\"),\n",
    "    interactions_path=os.path.join(processed_files_dir,\"df_annotation_files_cleaned.csv\"), #subset_valentino.csv\n",
    "    dot_bracket_path=os.path.join(processed_files_dir,\"dot_bracket.txt\"),\n",
    "    df_genes_path = os.path.join(processed_files_dir,\"df_genes.csv\"),\n",
    "    augment_policies=policies\n",
    ")\n",
    "\n",
    "sampler_train = torch.utils.data.RandomSampler(dataset)\n",
    "sampler_val = torch.utils.data.SequentialSampler(dataset)\n",
    "batch_sampler_train = torch.utils.data.BatchSampler(sampler_train, batch_size, drop_last=False)\n",
    "data_loader_train = DataLoader(dataset, batch_sampler=batch_sampler_train,\n",
    "                               collate_fn=utils.collate_fn, num_workers=num_workers)"
   ]
  },
  {
   "cell_type": "code",
   "execution_count": 25,
   "id": "637cdc8c",
   "metadata": {},
   "outputs": [],
   "source": [
    "from tqdm.notebook import tqdm"
   ]
  },
  {
   "cell_type": "code",
   "execution_count": 26,
   "id": "80746c98",
   "metadata": {},
   "outputs": [
    {
     "data": {
      "text/plain": [
       "656"
      ]
     },
     "execution_count": 26,
     "metadata": {},
     "output_type": "execute_result"
    }
   ],
   "source": [
    "len(data_loader_train)"
   ]
  },
  {
   "cell_type": "code",
   "execution_count": null,
   "id": "fd8df5a8",
   "metadata": {},
   "outputs": [],
   "source": [
    "for res in tqdm(data_loader_train):\n",
    "    \"\"\"\n",
    "    [rna1, rna2], target = res\n",
    "    rna1[0] = rna1[0].to(device)\n",
    "    rna2[0] = rna2[0].to(device)\n",
    "    rna1[1].tensors = rna1[1].tensors.to(device)\n",
    "    rna2[1].tensors = rna2[1].tensors.to(device)\n",
    "    rna1[1].mask = rna1[1].mask.to(device)\n",
    "    rna2[1].mask = rna2[1].mask.to(device)\n",
    "    #print(rna1[0].shape[-1], rna2[0].shape[-1])\n",
    "    #model(rna1, rna2)\n",
    "    #print('\\n')\n",
    "    targets_array = np.array([t['is_interacting'] for t in target])\n",
    "    #print(np.unique(targets_array, return_counts = True))\n",
    "    #if _ == 3:\n",
    "    #    break\n",
    "    \"\"\"\n",
    "    continue"
   ]
  }
 ],
 "metadata": {
  "kernelspec": {
   "display_name": "Python 3 (ipykernel)",
   "language": "python",
   "name": "python3"
  },
  "language_info": {
   "codemirror_mode": {
    "name": "ipython",
    "version": 3
   },
   "file_extension": ".py",
   "mimetype": "text/x-python",
   "name": "python",
   "nbconvert_exporter": "python",
   "pygments_lexer": "ipython3",
   "version": "3.9.7"
  }
 },
 "nbformat": 4,
 "nbformat_minor": 5
}
