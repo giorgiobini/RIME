{
 "cells": [
  {
   "cell_type": "markdown",
   "id": "75fd7e20-8dab-4f31-a886-2801a259b193",
   "metadata": {},
   "source": [
    "# Code"
   ]
  },
  {
   "cell_type": "code",
   "execution_count": 1,
   "id": "685f531f",
   "metadata": {},
   "outputs": [],
   "source": [
    "import pandas as pd\n",
    "import os\n",
    "import time\n",
    "import numpy as np\n",
    "import sys\n",
    "from tqdm.notebook import tqdm\n",
    "import seaborn as sns\n",
    "import matplotlib.pyplot as plt\n",
    "sys.path.insert(0, '..')\n",
    "import dataset.preprocessing as utils\n",
    "from config import *"
   ]
  },
  {
   "cell_type": "markdown",
   "id": "0c4ff3bd-6803-470d-a1bd-3a21e6d1e19b",
   "metadata": {},
   "source": [
    "### Pre-processing"
   ]
  },
  {
   "cell_type": "code",
   "execution_count": 2,
   "id": "739f55cb-2404-46cd-84e9-28d1d3bbf7ee",
   "metadata": {},
   "outputs": [],
   "source": [
    "human_annotations = utils.read_dataframe(os.path.join(original_files_dir, 'annotation_by_biomaRt_hs.txt'), columns_to_drop = ['Unnamed: 0', 'transcript_biotype', 'external_gene_name', '5utr', '3utr', 'cds', 'ID'])\n",
    "mouse_annotations = utils.read_dataframe(os.path.join(original_files_dir, 'annotation_by_biomaRt_mm.txt'), columns_to_drop = ['Unnamed: 0', 'transcript_biotype', 'external_gene_name', '5utr', '3utr', 'cds', 'ID'])\n",
    "annotations = pd.concat([human_annotations, mouse_annotations], axis = 0)\n",
    "annotations['protein_coding'] = False\n",
    "annotations.loc[ annotations['gene_biotype'] == 'protein_coding', 'protein_coding'] = True"
   ]
  },
  {
   "cell_type": "code",
   "execution_count": 3,
   "id": "9d968834-5203-4441-a03e-132fdeb87ecb",
   "metadata": {},
   "outputs": [],
   "source": [
    "info = utils.read_dataframe(os.path.join(original_files_dir, 'index_bio_regions.Tx.RI_ALL.txt'), columns_to_drop = ['Unnamed: 0'])"
   ]
  },
  {
   "cell_type": "code",
   "execution_count": 5,
   "id": "c1719fdf-128f-4af2-be1b-bb086642d820",
   "metadata": {},
   "outputs": [],
   "source": [
    "filename = os.path.join(original_files_dir, 'Tx.RI_ALL.specie.no_abundant.filter_rep.no_mirna.no_mito.no_cds_cds.bedpe')\n",
    "\n",
    "rows = []\n",
    "with open(filename)as f:\n",
    "    for line in f:\n",
    "        L = line.strip().split()\n",
    "        rows.append(L)\n",
    "        \n",
    "all_interactions = pd.DataFrame(rows, columns = ['tr1', 'x1', 'x2', 'tr2', 'y1', 'y2', 'name', 'n_reads', 'strand1', 'strand2', 'other_id', 'experiment'] )\n",
    "\n",
    "#they are already mapped so the strand should be always '+'\n",
    "assert (all_interactions.strand1 == all_interactions.strand2).all()\n",
    "assert set(all_interactions.strand1) == {'+'}\n",
    "\n",
    "all_interactions = all_interactions.filter(['tr1', 'x1', 'x2', 'tr2', 'y1', 'y2', 'experiment', 'name'], axis = 1)\n",
    "\n",
    "all_interactions[['x1', 'x2', 'y1', 'y2']] = all_interactions[['x1', 'x2', 'y1', 'y2']].apply(pd.to_numeric)"
   ]
  },
  {
   "cell_type": "code",
   "execution_count": 6,
   "id": "2c88daeb-0380-4f0c-82b6-edbf66be71e2",
   "metadata": {},
   "outputs": [],
   "source": [
    "merged = all_interactions.merge(info, on = 'name')\n",
    "\n",
    "assert (merged.tr1 == merged.chrom_1).all()\n",
    "assert (merged.tr2 == merged.chrom_2).all()\n",
    "assert (merged.x1 == merged.start_1).all()\n",
    "assert (merged.x2 == merged.end_1).all()\n",
    "assert (merged.y1 == merged.start_2).all()\n",
    "assert (merged.y2 == merged.end_2).all()\n",
    "assert (merged.strand_1 == merged.strand_2).all()\n",
    "assert set(merged.strand_1) == {'+'}\n",
    "\n",
    "merged = merged.drop(['chrom_1', 'chrom_2', 'start_1', 'end_1', 'start_2', 'end_2', 'strand_1', 'strand_2',\n",
    "             'score', 'external_gene_name_1', 'external_gene_name_2', 'chrom_1_localization', 'chrom_2_localization', \n",
    "            'gene_biotype_1', 'gene_biotype_2'], axis = 1)"
   ]
  },
  {
   "cell_type": "code",
   "execution_count": 7,
   "id": "a15308e0-f04b-4ed1-af61-3695f262c81e",
   "metadata": {},
   "outputs": [],
   "source": [
    "ann = annotations[['ensembl_gene_id', 'ensembl_transcript_id', 'length', 'protein_coding']]\n",
    "\n",
    "merged = merged.merge(ann, left_on = 'tr1', right_on = 'ensembl_transcript_id').rename(\n",
    "{'ensembl_gene_id':'gene1', 'length': 'length1', 'protein_coding':'protein_coding1'}\n",
    ", axis = 1)\n",
    "\n",
    "merged = merged.drop(['ensembl_transcript_id'], axis = 1)\n",
    "\n",
    "merged = merged.merge(ann, left_on = 'tr2', right_on = 'ensembl_transcript_id').rename(\n",
    "{'ensembl_gene_id':'gene2', 'length': 'length2', 'protein_coding':'protein_coding2'}\n",
    ", axis = 1)\n",
    "\n",
    "merged = merged.drop(['ensembl_transcript_id'], axis = 1)\n",
    "\n",
    "assert (merged.ensembl_gene_id_1 == merged.gene1).all()\n",
    "assert (merged.ensembl_gene_id_2 == merged.gene2).all()\n",
    "merged = merged.drop(['ensembl_gene_id_1','ensembl_gene_id_2', 'name'], axis = 1)"
   ]
  },
  {
   "cell_type": "code",
   "execution_count": 8,
   "id": "cf818bbc-10b0-40e5-ba89-800af9b00bf2",
   "metadata": {},
   "outputs": [],
   "source": [
    "all_transcript_ids = set(merged.tr1).union(merged.tr2)\n",
    "all_gene_ids = set(merged.gene1).union(merged.gene2)\n",
    "annotations = annotations[annotations.ensembl_transcript_id.isin(all_transcript_ids)]\n",
    "assert annotations.shape[0] == len(all_transcript_ids)\n",
    "assert set(annotations.ensembl_gene_id) == all_gene_ids\n",
    "assert set(annotations.ensembl_transcript_id) == all_transcript_ids"
   ]
  },
  {
   "cell_type": "code",
   "execution_count": 9,
   "id": "f371b421-8805-49d8-a254-33a0a170df4a",
   "metadata": {},
   "outputs": [],
   "source": [
    "annotations = annotations.rename({'ensembl_gene_id':'gene_id'}, axis = 1)\n",
    "\n",
    "annotations.loc[ annotations['UTR5'] == '/', 'UTR5'] = np.nan\n",
    "annotations.loc[ annotations['CDS'] == '/', 'CDS'] = np.nan\n",
    "annotations.loc[ annotations['UTR3'] == '/', 'UTR3'] = np.nan\n",
    "\n",
    "assert annotations[annotations['UTR3'].isna()]['UTR5'].isna().all()\n",
    "assert annotations[annotations['UTR3'].isna()]['CDS'].isna().all()\n",
    "assert annotations[annotations['UTR5'].isna()]['CDS'].isna().all()\n",
    "\n",
    "annotations[['UTR3', 'UTR5', 'CDS']] = annotations[['UTR3', 'UTR5', 'CDS']].apply(pd.to_numeric)\n",
    "\n",
    "species = pd.concat([\n",
    "    merged[['tr1', 'specie']].rename({'tr1':'ensembl_transcript_id'}, axis = 1),\n",
    "    merged[['tr2', 'specie']].rename({'tr2':'ensembl_transcript_id'}, axis = 1)\n",
    "], axis = 0).drop_duplicates().reset_index(drop = True)\n",
    "\n",
    "merged = merged.drop(['specie'], axis = 1)\n",
    "\n",
    "annotations = annotations.merge(species)\n",
    "\n",
    "annotations.loc[ annotations['specie'] == 'hs', 'specie'] = \"{'hs'}\"\n",
    "annotations.loc[ annotations['specie'] == 'mm', 'specie'] = \"{'mm'}\"\n",
    "\n",
    "annotations = annotations.rename({'specie':'species_set'}, axis = 1)\n",
    "\n",
    "assert len(annotations.gene_id.unique()) == len(annotations.ensembl_transcript_id.unique()) == annotations.shape[0]\n",
    "assert set(merged.tr1).union(merged.tr2) == set(annotations.ensembl_transcript_id)\n",
    "assert set(merged.gene1).union(merged.gene2) == set(annotations.gene_id)"
   ]
  },
  {
   "cell_type": "code",
   "execution_count": 10,
   "id": "e3840e31-9f72-4c75-8e06-9a9d4fa6b3e4",
   "metadata": {},
   "outputs": [
    {
     "name": "stdout",
     "output_type": "stream",
     "text": [
      "0 interactions were duplicated (the genes were swopped, now they have a unique couples_id so I can see only now that they are duplicated)\n"
     ]
    }
   ],
   "source": [
    "merged = merged.rename({'gene1':'gene_id1', 'gene2':'gene_id2'}, axis = 1)\n",
    "\n",
    "merged[['couples', 'need_to_swap']] = merged[['gene_id1', 'gene_id2']].apply(utils.create_pairs, axis = 1)\n",
    "\n",
    "def swap_genes_if_needed(df):\n",
    "    original_dim = df.shape[0]\n",
    "    where = df.need_to_swap\n",
    "    df.loc[where, ['gene_id1', 'gene_id2']] = (df.loc[where, ['gene_id2', 'gene_id1']].values)\n",
    "    df.loc[where, ['length1', 'length2']] = (df.loc[where, ['length2', 'length1']].values)\n",
    "    df.loc[where, ['tr1', 'tr2']] = (df.loc[where, ['tr2', 'tr1']].values)\n",
    "    df.loc[where, ['x1', 'y1']] = (df.loc[where, ['y1', 'x1']].values)\n",
    "    df.loc[where, ['x2', 'y2']] = (df.loc[where, ['y2', 'x2']].values)\n",
    "    df.loc[where, ['protein_coding1', 'protein_coding2']] = (df.loc[where, ['protein_coding2', 'protein_coding1']].values)\n",
    "    df = df.drop('need_to_swap', axis = 1)\n",
    "    df = df.drop_duplicates().reset_index(drop = True)\n",
    "    n_duplicates = original_dim - df.shape[0] \n",
    "    print(f\"{n_duplicates} interactions were duplicated (the genes were swopped, now they have a unique couples_id so I can see only now that they are duplicated)\")\n",
    "    return df\n",
    "\n",
    "merged = swap_genes_if_needed(merged)"
   ]
  },
  {
   "cell_type": "code",
   "execution_count": 19,
   "id": "229bcdf9-92ef-43e4-bb51-58914919c877",
   "metadata": {},
   "outputs": [],
   "source": [
    "merged['w'] = merged['x2'] - merged['x1']\n",
    "merged['h'] = merged['y2'] - merged['y1']\n",
    "merged = merged.drop(['tr1', 'tr2', 'y2', 'x2'], axis = 1).rename(\n",
    "    {'gene_id1':'gene1', 'gene_id2':'gene2', \n",
    "     'protein_coding1':'protein_coding_1', 'protein_coding2':'protein_coding_2',\n",
    "     'length1':'length_1', 'length2':'length_2',\n",
    "    }, axis = 1)\n",
    "\n",
    "merged['interacting'] = True\n",
    "\n",
    "merged = merged[['couples', 'gene1', 'gene2', 'interacting', 'length_1', 'length_2', \n",
    "                 'protein_coding_1', 'protein_coding_2', 'x1', 'y1', 'w', 'h', 'experiment']]"
   ]
  },
  {
   "cell_type": "code",
   "execution_count": 20,
   "id": "3f866c00-f8c5-4d2a-be81-048891d8c76f",
   "metadata": {},
   "outputs": [],
   "source": [
    "map_name = {'ricseq': 'hs_RIC-seq__HeLa_merge.InterGene.arms', 'mario':'mm_MARIO__mES'}\n",
    "\n",
    "ricseq = merged[merged.experiment == map_name['ricseq']].drop('experiment', axis = 1).reset_index(drop = True)\n",
    "mario = merged[merged.experiment == map_name['mario']].drop('experiment', axis = 1).reset_index(drop = True)"
   ]
  },
  {
   "cell_type": "markdown",
   "id": "9cc532ba-bfbd-4e1f-b1e9-b9bc8f180058",
   "metadata": {},
   "source": [
    "### Clean bounding boxes of df interactions"
   ]
  },
  {
   "cell_type": "code",
   "execution_count": 12,
   "id": "37a7dfd5-217d-4335-bd55-9e22acbf5995",
   "metadata": {},
   "outputs": [],
   "source": [
    "how = 'mario'\n",
    "assert how in ['ricseq', 'mario']"
   ]
  },
  {
   "cell_type": "code",
   "execution_count": 75,
   "id": "53d2e7a0-dd40-47e6-82dd-eba18eb23153",
   "metadata": {},
   "outputs": [
    {
     "data": {
      "application/vnd.jupyter.widget-view+json": {
       "model_id": "438c159592a0417f94c3f62abe11aa9c",
       "version_major": 2,
       "version_minor": 0
      },
      "text/plain": [
       "  0%|          | 0/990 [00:00<?, ?it/s]"
      ]
     },
     "metadata": {},
     "output_type": "display_data"
    }
   ],
   "source": [
    "if how=='ricseq':\n",
    "    int_or = ricseq\n",
    "    \n",
    "elif how == 'mario':\n",
    "    int_or = mario\n",
    "\n",
    "    \n",
    "#36 min ricseq\n",
    "diz_int = {}\n",
    "idx = 0\n",
    "for couple in tqdm(int_or.couples.unique()):\n",
    "    subset = int_or[int_or.couples == couple]\n",
    "    list_of_boxes = subset.filter(['x1', 'y1', 'w', 'h']).values.tolist()\n",
    "    new_list_of_boxes = utils.clean_bounding_boxes(list_of_boxes)\n",
    "    row = int_or[int_or.couples == couple].iloc[0]\n",
    "    for box in new_list_of_boxes:\n",
    "        d = dict(row)\n",
    "        d['x1'] = box[0]\n",
    "        d['y1'] = box[1] \n",
    "        d['w'] = box[2]\n",
    "        d['h'] = box[3]\n",
    "        diz_int[idx] = d\n",
    "        idx+=1\n",
    "df_int = pd.DataFrame.from_dict(diz_int, 'index').rename({'gene_id1':'gene1', 'gene_id2':'gene2'}, axis = 1)\n",
    "\n",
    "if how=='ricseq':\n",
    "    int_or = ricseq\n",
    "    \n",
    "elif how == 'mario':\n",
    "    int_or = mario"
   ]
  },
  {
   "cell_type": "code",
   "execution_count": 76,
   "id": "19db7b0e-c1f2-4954-8412-a59064c0d0ff",
   "metadata": {},
   "outputs": [
    {
     "name": "stdout",
     "output_type": "stream",
     "text": [
      "#interazioni prima 993, #interazioni dopo: 993\n"
     ]
    }
   ],
   "source": [
    "assert len(int_or.couples.unique()) == len(df_int.couples.unique())\n",
    "print(f'#interazioni prima {int_or.shape[0]}, #interazioni dopo: {df_int.shape[0]}')\n",
    "df_int.to_csv(os.path.join(processed_files_dir, f'full_{how}_info_interactions.csv'), index = False)"
   ]
  },
  {
   "cell_type": "markdown",
   "id": "516977e9-0466-4b60-baba-76fa39034e73",
   "metadata": {},
   "source": [
    "### Now I have to create negatives"
   ]
  },
  {
   "cell_type": "code",
   "execution_count": 11,
   "id": "24a4c62d-d8eb-4b17-a4a4-2729fc749b44",
   "metadata": {},
   "outputs": [],
   "source": [
    "how = 'ricseq'"
   ]
  },
  {
   "cell_type": "code",
   "execution_count": 12,
   "id": "b668efe8-d6be-46e6-8226-b229a935e2e7",
   "metadata": {},
   "outputs": [],
   "source": [
    "ricseq = pd.read_csv(os.path.join(processed_files_dir, f'full_ricseq_info_interactions.csv'))\n",
    "mario = pd.read_csv(os.path.join(processed_files_dir, f'full_mario_info_interactions.csv'))"
   ]
  },
  {
   "cell_type": "code",
   "execution_count": 13,
   "id": "24ecaac3-bdc7-43c9-9c98-f391712b7049",
   "metadata": {},
   "outputs": [],
   "source": [
    "def order_genes(x):\n",
    "    x1, x2 = x.split('_')\n",
    "    return utils.get_couple_id(x1, x2)"
   ]
  },
  {
   "cell_type": "code",
   "execution_count": 14,
   "id": "db7798da-ab70-4a2b-88ad-a2f9a957a6f8",
   "metadata": {},
   "outputs": [],
   "source": [
    "if how=='ricseq':\n",
    "    df_pairs_full = ricseq[['couples','gene1', 'gene2']].rename({'couples':'positive'}, axis = 1)\n",
    "    \n",
    "elif how == 'mario':\n",
    "    df_pairs_full = mario[['couples','gene1', 'gene2']].rename({'couples':'positive'}, axis = 1)"
   ]
  },
  {
   "cell_type": "code",
   "execution_count": 15,
   "id": "4488f84c-f0fd-4c6e-a730-db85da757ca3",
   "metadata": {},
   "outputs": [],
   "source": [
    "how_many_negatives_per_positive = 2 \n",
    "\n",
    "for i in range(how_many_negatives_per_positive):\n",
    "    df_pairs_full['gene2'] = df_pairs_full.sample(frac=1, replace=False, random_state=42).reset_index(drop = True)['gene2']\n",
    "    df_pairs_full[f'negative{i}'] = df_pairs_full['gene1'] + '_' + df_pairs_full['gene2']\n",
    "    \n",
    "df_pairs_full = pd.concat([\n",
    "    df_pairs_full[['positive', 'negative0']].rename({'negative0':'negative'}, axis = 1),\n",
    "    df_pairs_full[['positive', 'negative1']].rename({'negative1':'negative'}, axis = 1)\n",
    "], axis = 0)\n",
    "\n",
    "df_pairs_full['negative'] = df_pairs_full['negative'].apply(order_genes)\n",
    "df_pairs_full['positive'] = df_pairs_full['positive'].apply(order_genes)"
   ]
  },
  {
   "cell_type": "code",
   "execution_count": 16,
   "id": "ba573082-6cbf-41de-8d74-170315989c35",
   "metadata": {},
   "outputs": [
    {
     "name": "stdout",
     "output_type": "stream",
     "text": [
      "how many to drop 10701\n",
      "We have 88105 pairs interacting (they can have multiple interactions) \n",
      "\n",
      "We have 167254 pairs not interacting \n",
      "\n"
     ]
    }
   ],
   "source": [
    "to_drop = set(df_pairs_full['positive']).intersection(df_pairs_full['negative'])\n",
    "\n",
    "print('how many to drop', len(to_drop))\n",
    "\n",
    "df_pairs_full = df_pairs_full[~df_pairs_full['negative'].isin(to_drop)]\n",
    "\n",
    "print(f'We have {len(set(df_pairs_full.positive))} pairs interacting (they can have multiple interactions) \\n')\n",
    "print(f'We have {len(set(df_pairs_full.negative))} pairs not interacting \\n')"
   ]
  },
  {
   "cell_type": "markdown",
   "id": "55a2e508-a40b-4cfe-916e-38b07d73eab4",
   "metadata": {},
   "source": [
    "#### Drop all the negative interactions that are seen positive in the other experiments"
   ]
  },
  {
   "cell_type": "code",
   "execution_count": 17,
   "id": "59c05ac3-49fe-4376-85b8-c0e6855c737c",
   "metadata": {},
   "outputs": [
    {
     "name": "stdout",
     "output_type": "stream",
     "text": [
      "how many to drop 1128\n"
     ]
    }
   ],
   "source": [
    "prohibited_couples = pd.read_csv(os.path.join(original_files_dir, 'prohibited_couples.txt'), sep = '\\t')\n",
    "prohibited_couples['messy_id'] = prohibited_couples['gene_id1'] + '_' + prohibited_couples['gene_id2']\n",
    "prohibited_couples['id'] = prohibited_couples['messy_id'].apply(order_genes)\n",
    "\n",
    "print('how many to drop', len(df_pairs_full[df_pairs_full.negative.isin(prohibited_couples['id'])]))\n",
    "\n",
    "df_pairs_full = df_pairs_full[~df_pairs_full.negative.isin(prohibited_couples['id'])].reset_index(drop = True)"
   ]
  },
  {
   "cell_type": "code",
   "execution_count": 11,
   "id": "6b32848f-dfec-4b8d-857c-21fc80754671",
   "metadata": {},
   "outputs": [],
   "source": [
    "if how == 'ricseq':\n",
    "    df_pairs_full.to_csv(os.path.join(processed_files_dir, 'df_pairs_full_RANDOM_RICSEQ.csv'), index = False)\n",
    "elif how == 'mario':\n",
    "    df_pairs_full.to_csv(os.path.join(processed_files_dir, 'df_pairs_full_RANDOM_MARIO.csv'), index = False)"
   ]
  },
  {
   "cell_type": "markdown",
   "id": "e05bb190-0ea6-472c-93df-8916dc24c89b",
   "metadata": {},
   "source": [
    "#### Create fake negative interactions"
   ]
  },
  {
   "cell_type": "code",
   "execution_count": 18,
   "id": "8e6122f2-c892-402d-83c0-6d18e5024a3a",
   "metadata": {},
   "outputs": [],
   "source": [
    "if how == 'ricseq':\n",
    "    df_pairs_full = pd.read_csv(os.path.join(processed_files_dir, 'df_pairs_full_RANDOM_RICSEQ.csv'))\n",
    "    df_int1 = ricseq[['gene1', 'x1', 'w']].rename({'gene1':'gene', 'x1':'c1',  'w': 'l'}, axis = 1)\n",
    "    df_int2 = ricseq[['gene2', 'y1', 'h']].rename({'gene2':'gene', 'y1':'c1',  'h': 'l'}, axis = 1)\n",
    "    df_int = ricseq[['couples', 'gene1', 'gene2', \n",
    "                 'interacting', 'length_1', 'length_2',\n",
    "                 'protein_coding_1', 'protein_coding_2',\n",
    "                 'x1', 'y1', 'w', 'h']]\n",
    "elif how == 'mario':\n",
    "    df_pairs_full = pd.read_csv(os.path.join(processed_files_dir, 'df_pairs_full_RANDOM_MARIO.csv'))\n",
    "    df_int1 = mario[['gene1', 'x1', 'w']].rename({'gene1':'gene', 'x1':'c1', 'w': 'l'}, axis = 1)\n",
    "    df_int2 = mario[['gene2', 'y1', 'h']].rename({'gene2':'gene', 'y1':'c1', 'h': 'l'}, axis = 1)\n",
    "    df_int = mario[['couples', 'gene1', 'gene2', \n",
    "                 'interacting', 'length_1', 'length_2',\n",
    "                 'protein_coding_1', 'protein_coding_2',\n",
    "                 'x1', 'y1', 'w', 'h']]\n",
    "    \n",
    "df_coord = pd.concat([df_int1, df_int2], ignore_index = True)#.drop_duplicates().reset_index(drop = True)\n",
    "#df_coord may have duplicates. but this is something I want. If a gene appears more than once, I want it to be sampled according to its distribution."
   ]
  },
  {
   "cell_type": "code",
   "execution_count": 19,
   "id": "47e75119-1200-4551-a082-31f6e7ee6e49",
   "metadata": {},
   "outputs": [],
   "source": [
    "df_neg = df_pairs_full[['negative']].drop_duplicates().reset_index(drop = True)\n",
    "df_neg[['gene1', 'gene2']] = df_neg['negative'].str.split('_', expand = True)\n",
    "df_neg = df_neg.rename({'negative':'couples'}, axis = 1)\n",
    "\n",
    "df_neg['interacting'] = False\n",
    "df_neg = df_neg.merge(annotations[['gene_id', 'length', 'protein_coding']], left_on = 'gene1', right_on = 'gene_id').drop('gene_id', axis = 1).rename({'length': 'length_1','protein_coding':'protein_coding_1'} , axis = 1)\n",
    "df_neg = df_neg.merge(annotations[['gene_id', 'length', 'protein_coding']], left_on = 'gene2', right_on = 'gene_id').drop('gene_id', axis = 1).rename({'length': 'length_2','protein_coding':'protein_coding_2'} , axis = 1)"
   ]
  },
  {
   "cell_type": "code",
   "execution_count": 20,
   "id": "3e443603-bf1a-4853-b132-b7d1ddea6810",
   "metadata": {},
   "outputs": [],
   "source": [
    "assert set(df_neg.gene1).union(set(df_neg.gene2)) - set(df_coord.gene) == set()\n",
    "df_coord = df_coord.merge(\n",
    "    annotations.filter(['gene_id', 'UTR5', 'CDS', 'UTR3', 'protein_coding'], axis = 1).rename({'gene_id':'gene'}, axis = 1)\n",
    ")\n",
    "df_coord['where_c1'] = df_coord.apply(utils.where_interacts, axis = 1)"
   ]
  },
  {
   "cell_type": "code",
   "execution_count": null,
   "id": "639486ab-ef31-49cf-9bfc-bf4ffb343bfe",
   "metadata": {},
   "outputs": [],
   "source": [
    "# mario: 0.5 min\n",
    "# ricseq: min\n",
    "start_time = time.time()\n",
    "new_cols = df_neg[['couples', 'gene1', 'gene2']].apply(utils.create_fake_coord_neg, axis = 1, args = (df_coord,df_pairs_full,df_int,))\n",
    "print(f\"Total time: {(time.time()-start_time)/60} minutes\")"
   ]
  },
  {
   "cell_type": "code",
   "execution_count": null,
   "id": "b3bdee03-0586-46e7-9b07-a53b6246286e",
   "metadata": {},
   "outputs": [],
   "source": [
    "new_cols = new_cols.apply(pd.Series).rename({0:'x1', 1:'y1', 2:'w', 3:'h'}, axis = 1)\n",
    "df_neg = pd.concat([df_neg, new_cols], axis = 1)\n",
    "df = pd.concat([df_int, df_neg], ignore_index = True, axis = 0)"
   ]
  },
  {
   "cell_type": "code",
   "execution_count": null,
   "id": "347fddf5-9d02-45dd-adc1-1176542126c5",
   "metadata": {},
   "outputs": [],
   "source": [
    "if how =='ricseq':\n",
    "    df.to_csv(os.path.join(processed_files_dir, f'final_{how}_RANDOM_FULL.csv'), index = False)\n",
    "    \n",
    "else:\n",
    "    df.to_csv(os.path.join(processed_files_dir, f'final_{how}_RANDOM.csv'), index = False)"
   ]
  },
  {
   "cell_type": "code",
   "execution_count": null,
   "id": "4ae6e189-f5da-4c2c-a02f-40500026668a",
   "metadata": {},
   "outputs": [],
   "source": [
    "annotations.to_csv(os.path.join(processed_files_dir, f'df_genes_mario_ricseq.csv'), index = False)"
   ]
  },
  {
   "cell_type": "markdown",
   "id": "45e76b3c-301a-4b00-b13d-8decefb1dd14",
   "metadata": {},
   "source": [
    "### CREIAMO UNA VERSIONE DI ALTA QUALITA PER RICSEQ, IN CUI I POSITIVI SONO SUPPORTATI DA ALMENO 2 READS\n"
   ]
  },
  {
   "cell_type": "code",
   "execution_count": 4,
   "id": "3f971e64-2367-48a0-bc4f-84e417d6325e",
   "metadata": {},
   "outputs": [],
   "source": [
    "how = 'ricseq'"
   ]
  },
  {
   "cell_type": "code",
   "execution_count": 31,
   "id": "051861dd-bbf0-4742-ac21-dd0fd91c2646",
   "metadata": {},
   "outputs": [
    {
     "name": "stdout",
     "output_type": "stream",
     "text": [
      "tot number of high quality pairs: 7417\n",
      "tot number of high quality reads: 8064\n",
      "The hq dataset has 29591 samples and it is the 10.74 % of the total dataset\n"
     ]
    }
   ],
   "source": [
    "df = pd.read_csv(os.path.join(processed_files_dir, f'final_{how}_RANDOM_FULL.csv'))\n",
    "\n",
    "def swap_genes_if_needed(df):\n",
    "    original_dim = df.shape[0]\n",
    "    where = df.need_to_swap\n",
    "    df.loc[where, ['gene_id1', 'gene_id2']] = (df.loc[where, ['gene_id2', 'gene_id1']].values)\n",
    "    df.loc[where, ['x1', 'y1']] = (df.loc[where, ['y1', 'x1']].values)\n",
    "    df.loc[where, ['x2', 'y2']] = (df.loc[where, ['y2', 'x2']].values)\n",
    "    df = df.drop('need_to_swap', axis = 1)\n",
    "    df = df.drop_duplicates().reset_index(drop = True)\n",
    "    n_duplicates = original_dim - df.shape[0] \n",
    "    return df\n",
    "\n",
    "if how == 'ricseq':\n",
    "    filename = os.path.join(original_files_dir, 'Tx.RI_ALL.specie.no_abundant.filter_rep.no_mirna.no_mito.no_cds_cds.bedpe')\n",
    "\n",
    "    rows = []\n",
    "    with open(filename)as f:\n",
    "        for line in f:\n",
    "            L = line.strip().split()\n",
    "            rows.append(L)\n",
    "\n",
    "    all_interactions = pd.DataFrame(rows, columns = ['tr1', 'x1', 'x2', 'tr2', 'y1', 'y2', 'name', 'n_reads', 'strand1', 'strand2', 'other_id', 'experiment'] )\n",
    "    all_interactions['n_reads'] = all_interactions['n_reads'].apply(pd.to_numeric)\n",
    "    all_interactions = all_interactions[all_interactions['experiment'] == 'hs_RIC-seq__HeLa_merge.InterGene.arms']\n",
    "    all_interactions = all_interactions[all_interactions.n_reads>1]\n",
    "\n",
    "    merged = all_interactions.merge(info, on = 'name')\n",
    "    merged = merged[['ensembl_gene_id_1', 'ensembl_gene_id_2', 'x1', 'x2', 'y1', 'y2']].rename({'ensembl_gene_id_1':'gene_id1', 'ensembl_gene_id_2':'gene_id2'}, axis = 1)\n",
    "    merged[['couples', 'need_to_swap']] = merged[['gene_id1', 'gene_id2']].apply(utils.create_pairs, axis = 1)\n",
    "    merged = swap_genes_if_needed(merged)\n",
    "    merged[['x1', 'x2', 'y1', 'y2']] = merged[['x1', 'x2', 'y1', 'y2']].apply(pd.to_numeric)\n",
    "    merged['w'] = merged['x2'] - merged['x1'] \n",
    "    merged['h'] = merged['y2'] - merged['y1'] \n",
    "    merged = merged.drop(['x2', 'y2', 'gene_id1', 'gene_id2'], axis = 1)\n",
    "    subset_pos = df.merge(merged, on = ['couples', 'x1', 'y1', 'w', 'h'])\n",
    "\n",
    "    hq_reads = set(subset_pos.couples)\n",
    "    assert hq_reads == set(df[df.couples.isin(hq_reads)].couples.unique())\n",
    "    print('tot number of high quality pairs:', len(hq_reads))\n",
    "    print('tot number of high quality reads:', len(subset_pos))\n",
    "\n",
    "\n",
    "    df_pairs_full = pd.read_csv(os.path.join(processed_files_dir, 'df_pairs_full_RANDOM_RICSEQ.csv'))\n",
    "\n",
    "    sampled_negatives = set(df_pairs_full[df_pairs_full.positive.isin(hq_reads)].negative)\n",
    "    subset_pos = df.merge(merged, on = ['couples', 'x1', 'y1', 'w', 'h'])\n",
    "    subset_neg = df[df.couples.isin(sampled_negatives)]\n",
    "    subset_df = pd.concat([subset_pos, subset_neg], axis = 0)\n",
    "\n",
    "    perc = np.round(subset_df.shape[0]/df.shape[0] * 100, 2)\n",
    "    print(f'The hq dataset has {subset_df.shape[0]} samples and it is the {perc} % of the total dataset')\n",
    "\n",
    "    subset_df = subset_df.reset_index(drop = True)\n",
    "\n",
    "    #subset_df.to_csv(os.path.join(processed_files_dir, f'final_{how}_RANDOM.csv'), index = False)"
   ]
  },
  {
   "cell_type": "markdown",
   "id": "0c76fa99-8ec7-4a67-ac13-3ef56bc9169d",
   "metadata": {},
   "source": [
    "Now I do checks "
   ]
  },
  {
   "cell_type": "code",
   "execution_count": 130,
   "id": "74d2a2ea-1614-49c4-bed9-43e2554bc123",
   "metadata": {},
   "outputs": [],
   "source": [
    "df = pd.read_csv(os.path.join(processed_files_dir, f'final_{how}_RANDOM.csv'))"
   ]
  },
  {
   "cell_type": "code",
   "execution_count": 131,
   "id": "fd2c57a4-de75-4348-ace1-522415a35a30",
   "metadata": {},
   "outputs": [],
   "source": [
    "df_neg = df[df.interacting == False]"
   ]
  },
  {
   "cell_type": "code",
   "execution_count": null,
   "id": "024607e2-1f50-4f76-b894-e2e6c27d5bf5",
   "metadata": {},
   "outputs": [
    {
     "data": {
      "application/vnd.jupyter.widget-view+json": {
       "model_id": "fc4ed5e7d3b348fa9d05497d78969f03",
       "version_major": 2,
       "version_minor": 0
      },
      "text/plain": [
       "  0%|          | 0/166231 [00:00<?, ?it/s]"
      ]
     },
     "metadata": {},
     "output_type": "display_data"
    },
    {
     "name": "stdout",
     "output_type": "stream",
     "text": [
      "66.29% in 0.6885885953903198 minutes\n",
      "67.99% in 2.8177008032798767 minutes\n",
      "68.29% in 3.1801692763964335 minutes\n",
      "69.29% in 4.506751092274984 minutes\n",
      "69.56% in 4.848634854952494 minutes\n",
      "73.85% in 11.26875187555949 minutes\n",
      "74.97% in 13.722565976778666 minutes\n",
      "75.01% in 13.814727930227916 minutes\n",
      "76.76% in 17.67454270919164 minutes\n",
      "83.01% in 28.709832481543224 minutes\n",
      "90.31% in 39.208088437716164 minutes\n",
      "91.66% in 41.26113851467768 minutes\n",
      "93.75% in 44.140182960033414 minutes\n"
     ]
    }
   ],
   "source": [
    "#check if it worked\n",
    "assert (df_neg.x1 <= df_neg.length_1).all()\n",
    "assert ((df_neg.x1 + df_neg.w) <= df_neg.length_1).all()\n",
    "assert (df_neg.y1 <= df_neg.length_2).all()\n",
    "assert ((df_neg.y1 + df_neg.h) <= df_neg.length_2).all()\n",
    "\n",
    "# mario: 0. min\n",
    "# ricseq: min\n",
    "#check if it worked\n",
    "start_time = time.time()\n",
    "for _, row in tqdm(df_neg.iterrows(), total = df_neg.shape[0]):\n",
    "    g1 = row.gene1\n",
    "    g2 = row.gene2\n",
    "    assert [row.x1, row.w] in df_coord[df_coord.gene == g1][['c1', 'l']].values\n",
    "    assert [row.y1, row.h] in df_coord[df_coord.gene == g2][['c1', 'l']].values\n",
    "    if np.random.rand() < 0.0003: #progress\n",
    "        print(f\"{np.round(_/df_neg.shape[0] * 100, 2)}% in {(time.time()-start_time)/60} minutes\")\n",
    "print(f\"Total time: {(time.time()-start_time)/60} minutes\")"
   ]
  },
  {
   "cell_type": "markdown",
   "id": "77e9405b-f2ba-4cda-a93e-e0290fca5cf2",
   "metadata": {},
   "source": [
    "# Plots "
   ]
  },
  {
   "cell_type": "markdown",
   "id": "f07e0918-86de-4b38-b88d-414dcc4ae831",
   "metadata": {},
   "source": [
    "### Interaction Length distribution"
   ]
  },
  {
   "cell_type": "code",
   "execution_count": 54,
   "id": "c78e90ec-84bb-47a5-80da-70740f5f353e",
   "metadata": {},
   "outputs": [],
   "source": [
    "how = 'mario'\n",
    "df = pd.read_csv(os.path.join(processed_files_dir, f'final_{how}_RANDOM.csv'))"
   ]
  },
  {
   "cell_type": "code",
   "execution_count": 76,
   "id": "08b1d8d7-fd1c-46af-bf0a-0c12e086e9b3",
   "metadata": {},
   "outputs": [
    {
     "name": "stdout",
     "output_type": "stream",
     "text": [
      "median = 19.0 nucleotides\n"
     ]
    },
    {
     "data": {
      "image/png": "[encoded data removed]",
      "text/plain": [
       "<Figure size 432x288 with 1 Axes>"
      ]
     },
     "metadata": {
      "needs_background": "light"
     },
     "output_type": "display_data"
    }
   ],
   "source": [
    "df_int = df[df.interacting]\n",
    "lengths = list(pd.concat([df_int.w, df_int.h]))\n",
    "print(f'median = {np.median(lengths)} nucleotides')\n",
    "sns.kdeplot(lengths, color = 'blue')\n",
    "plt.title(f'Interaction length distribution')\n",
    "plt.show()"
   ]
  },
  {
   "cell_type": "code",
   "execution_count": 77,
   "id": "052fd82e-71df-473f-a8e7-3a9a2559b1e8",
   "metadata": {},
   "outputs": [
    {
     "name": "stdout",
     "output_type": "stream",
     "text": [
      "If I take only the couples where both interaction regions are > 25 bp, I have the 15.61% of the dataset\n"
     ]
    }
   ],
   "source": [
    "treshold = 25\n",
    "perc = np.round(df_int[(df_int.w > treshold) & (df_int.h > treshold)].shape[0]/df_int.shape[0] * 100, 2)\n",
    "print(f'If I take only the couples where both interaction regions are > {treshold} bp, I have the {perc}% of the dataset')"
   ]
  },
  {
   "cell_type": "markdown",
   "id": "2d45bf25-1bb3-4c3f-9beb-fac7423f8f93",
   "metadata": {},
   "source": [
    "### CDS-CDS enrichment?"
   ]
  },
  {
   "cell_type": "code",
   "execution_count": 81,
   "id": "e15bc0de-3844-43bf-a376-ef9179a35dec",
   "metadata": {},
   "outputs": [],
   "source": [
    "df = pd.read_csv(os.path.join(processed_files_dir, f'final_{how}_RANDOM.csv')) #final_df_RANDOM\n",
    "df_genes = pd.read_csv(os.path.join(processed_files_dir, 'df_genes_mario_ricseq.csv'))[['gene_id', 'CDS', 'UTR5', 'UTR3']]"
   ]
  },
  {
   "cell_type": "code",
   "execution_count": 82,
   "id": "2ad23cb0-5da3-428c-9025-614366c94f96",
   "metadata": {},
   "outputs": [],
   "source": [
    "def create_interactions_columns(df, df_genes):\n",
    "\n",
    "    df = df.merge(df_genes, left_on = 'gene1', right_on = 'gene_id')\n",
    "    df['where_x1'] = 'none'\n",
    "    df.loc[(df.x1 < df.UTR5), 'where_x1'] = 'UTR5'\n",
    "    df.loc[(df.x1 >= df.UTR5)&(df.x1 < df.CDS), 'where_x1'] = 'CDS'\n",
    "    df.loc[(df.x1 >= df.CDS), 'where_x1'] = 'UTR3'\n",
    "    df = df.drop(['gene_id', 'UTR5', 'CDS', 'UTR3'], axis = 1)\n",
    "    \n",
    "    df = df.merge(df_genes, left_on = 'gene2', right_on = 'gene_id')\n",
    "    df['where_y1'] = 'none'\n",
    "    df.loc[(df.y1 < df.UTR5), 'where_y1'] = 'UTR5'\n",
    "    df.loc[(df.y1 >= df.UTR5)&(df.y1 < df.CDS), 'where_y1'] = 'CDS'\n",
    "    df.loc[(df.y1 >= df.CDS), 'where_y1'] = 'UTR3'\n",
    "    df = df.drop(['gene_id', 'UTR5', 'CDS', 'UTR3'], axis = 1)\n",
    "    return df\n",
    "\n",
    "def where_interacts(x):\n",
    "    a,b = sorted([x.where_x1, x.where_y1])\n",
    "    return a + '-' + b\n",
    "\n",
    "df = create_interactions_columns(df, df_genes)\n",
    "df['where'] = df.apply(where_interacts,axis = 1)"
   ]
  },
  {
   "cell_type": "code",
   "execution_count": 83,
   "id": "73c25dc6-44c1-4dcd-9db4-be133f9906c8",
   "metadata": {},
   "outputs": [],
   "source": [
    "def plot_interaction_region(df):\n",
    "    df_int, df_neg = df[df.interacting == True], df[df.interacting == False]\n",
    "    \n",
    "    # PLOT \n",
    "    categories = list(set(df_int['where'].value_counts().index).union(df_neg['where'].value_counts().index))\n",
    "\n",
    "    neg = df_neg['where'].value_counts()\n",
    "    neg = pd.Series([neg.get(key, 0) for key in categories], index=categories)\n",
    "\n",
    "    pos = df_int['where'].value_counts()\n",
    "    pos = pd.Series([pos.get(key, 0) for key in categories], index=categories)\n",
    "\n",
    "    values1 = pos.values\n",
    "\n",
    "    values2 = neg.values\n",
    "\n",
    "    total1 = sum(values1)\n",
    "    total2 = sum(values2)\n",
    "\n",
    "    percentages1 = np.array([value / total1 * 100 for value in values1])\n",
    "    percentages2 = np.array([value / total2 * 100 for value in values2])\n",
    "\n",
    "    bar_width = 0.35\n",
    "    index = np.arange(len(categories))\n",
    "\n",
    "    fig, ax = plt.subplots(figsize=(12, 8))\n",
    "    bar1 = ax.bar(index, percentages1, bar_width, label='Positive Distribution', color='skyblue')\n",
    "    bar2 = ax.bar(index + bar_width, percentages2, bar_width, label='Negative Distribution', color='orange')\n",
    "\n",
    "    ax.set_xlabel('Categories')\n",
    "    ax.set_ylabel('Percentage')\n",
    "    ax.set_title('Comparison of Two Distributions')\n",
    "    ax.set_xticks(index + bar_width / 2)\n",
    "    ax.set_xticklabels(categories, rotation=45, ha='right')\n",
    "    ax.legend()\n",
    "\n",
    "    plt.tight_layout()\n",
    "    plt.show()"
   ]
  },
  {
   "cell_type": "code",
   "execution_count": 84,
   "id": "8d41a0b8-d0d6-4fc8-8c09-7e176d98f29c",
   "metadata": {},
   "outputs": [
    {
     "data": {
      "image/png": "[encoded data removed]",
      "text/plain": [
       "<Figure size 864x576 with 1 Axes>"
      ]
     },
     "metadata": {
      "needs_background": "light"
     },
     "output_type": "display_data"
    }
   ],
   "source": [
    "plot_interaction_region(df)"
   ]
  }
 ],
 "metadata": {
  "kernelspec": {
   "display_name": "Python 3 (ipykernel)",
   "language": "python",
   "name": "python3"
  },
  "language_info": {
   "codemirror_mode": {
    "name": "ipython",
    "version": 3
   },
   "file_extension": ".py",
   "mimetype": "text/x-python",
   "name": "python",
   "nbconvert_exporter": "python",
   "pygments_lexer": "ipython3",
   "version": "3.9.7"
  }
 },
 "nbformat": 4,
 "nbformat_minor": 5
}
