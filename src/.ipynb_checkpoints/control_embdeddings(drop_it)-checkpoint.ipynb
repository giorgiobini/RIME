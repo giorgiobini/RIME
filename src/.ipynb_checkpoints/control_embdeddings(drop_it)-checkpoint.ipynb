{
 "cells": [
  {
   "cell_type": "markdown",
   "id": "75fd7e20-8dab-4f31-a886-2801a259b193",
   "metadata": {
    "tags": []
   },
   "source": [
    "# Code"
   ]
  },
  {
   "cell_type": "code",
   "execution_count": 3,
   "id": "a3b7acf7-7061-49e6-b0d7-8480984933f0",
   "metadata": {},
   "outputs": [],
   "source": [
    "its_jupyter_notebook = True"
   ]
  },
  {
   "cell_type": "code",
   "execution_count": 4,
   "id": "4ae0806e-12d4-498c-a0f4-9844c1be1435",
   "metadata": {},
   "outputs": [],
   "source": [
    "import pandas as pd\n",
    "import os\n",
    "import matplotlib.pyplot as plt\n",
    "import time\n",
    "import numpy as np\n",
    "import pickle\n",
    "import math\n",
    "import torch\n",
    "from tqdm.notebook import tqdm\n",
    "import seaborn as sns\n",
    "from torch.utils.data import DataLoader\n",
    "# if its_jupyter_notebook:\n",
    "#     sys.argv = [''] #Remove this if it's not a jupyter notebook!\n",
    "\n",
    "import sys\n",
    "sys.path.insert(0, '..')\n",
    "\n",
    "from config import *"
   ]
  },
  {
   "cell_type": "code",
   "execution_count": 5,
   "id": "c3634011-c10a-4792-b2ca-46d2f4ebb153",
   "metadata": {},
   "outputs": [],
   "source": [
    "def create_gene_count(df, unbalanced_ratio):\n",
    "    gene_count = pd.concat([df[['gene1', 'interacting']].rename({'gene1':'gene'}, axis = 1),\n",
    "                            df[['gene2','interacting']].rename({'gene2':'gene'}, axis = 1)], axis = 0).reset_index(drop = True)\n",
    "    g = gene_count.groupby('gene').sum()\n",
    "    g['not_interacting'] = gene_count.groupby('gene').count() - gene_count.groupby('gene').sum()\n",
    "    g['not_interacting'] = g['not_interacting']*unbalanced_ratio\n",
    "    g = g.reset_index() #add the gene column from the index\n",
    "    g['diff'] = g['not_interacting'] - g['interacting']\n",
    "    g['abs_diff'] = g['diff'].abs()\n",
    "    g['tot'] = g['interacting'] + g['not_interacting']\n",
    "    g['abs_diff_weighted'] = g['tot']*g['abs_diff']\n",
    "    return g"
   ]
  },
  {
   "cell_type": "code",
   "execution_count": 6,
   "id": "d7ba5c76-b571-41ac-b6f4-44a74e629da3",
   "metadata": {},
   "outputs": [
    {
     "name": "stdout",
     "output_type": "stream",
     "text": [
      "['ENSG00000122566_ENSG00000261713' 'ENSG00000176049_ENSG00000261713']\n",
      "['ENSG00000005020_ENSG00000261713' 'ENSG00000112541_ENSG00000261713'\n",
      " 'ENSG00000122566_ENSG00000204277' 'ENSG00000176049_ENSG00000204277']\n",
      "['ENSG00000005020_ENSG00000261713' 'ENSG00000112541_ENSG00000261713'\n",
      " 'ENSG00000196576_ENSG00000261713' 'ENSG00000261713_ENSG00000279905']\n"
     ]
    }
   ],
   "source": [
    "df_meta = pd.read_csv(os.path.join(metadata_dir, f'training.csv'))\n",
    "\n",
    "df = pd.read_csv(os.path.join(processed_files_dir, f'df_pairs_full.csv'))\n",
    "new_cols = df.positive.str.split('_', expand = True)\n",
    "df['g1'], df['g2'] = new_cols[0],new_cols[1]\n",
    "\n",
    "new_cols = df.negative.str.split('_', expand = True)\n",
    "df['g1_neg'], df['g2_neg'] = new_cols[0],new_cols[1]\n",
    "\n",
    "gene = 'ENSG00000261713'\n",
    "print(df[(df.g1 == gene)|(df.g2 == gene)].positive.unique())\n",
    "print(df[(df.g1 == gene)|(df.g2 == gene)].negative.unique())\n",
    "print(df_meta[((df_meta.gene1 == gene)|(df_meta.gene2 == gene))&(df_meta.interacting == False)].couple.unique())"
   ]
  }
 ],
 "metadata": {
  "kernelspec": {
   "display_name": "Python 3 (ipykernel)",
   "language": "python",
   "name": "python3"
  },
  "language_info": {
   "codemirror_mode": {
    "name": "ipython",
    "version": 3
   },
   "file_extension": ".py",
   "mimetype": "text/x-python",
   "name": "python",
   "nbconvert_exporter": "python",
   "pygments_lexer": "ipython3",
   "version": "3.10.10"
  }
 },
 "nbformat": 4,
 "nbformat_minor": 5
}
