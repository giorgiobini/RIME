{
 "cells": [
  {
   "cell_type": "code",
   "execution_count": 1,
   "id": "87739880",
   "metadata": {},
   "outputs": [],
   "source": [
    "its_jupyter_notebook = True"
   ]
  },
  {
   "cell_type": "code",
   "execution_count": 2,
   "id": "e8c9f77f",
   "metadata": {},
   "outputs": [
    {
     "name": "stdout",
     "output_type": "stream",
     "text": [
      "============================================================\n",
      "<class 'transformers.tokenization_dna.DNATokenizer'>\n"
     ]
    }
   ],
   "source": [
    "import pandas as pd\n",
    "import os\n",
    "import time\n",
    "import numpy as np\n",
    "import pickle\n",
    "import argparse\n",
    "from tqdm.notebook import tqdm\n",
    "import torch\n",
    "import matplotlib.pyplot as plt\n",
    "import sys\n",
    "import datetime\n",
    "from pathlib import Path\n",
    "import seaborn as sns\n",
    "import time\n",
    "from Bio import SeqIO\n",
    "from torch.utils.data import DataLoader\n",
    "import sys\n",
    "from sklearn.metrics import classification_report, roc_curve, roc_auc_score, auc\n",
    "\n",
    "sys.path.insert(0, '..')\n",
    "\n",
    "from config import *\n",
    "import util.misc as utils\n",
    "from models.nt_classifier import build as build_model\n",
    "if its_jupyter_notebook:\n",
    "    sys.argv = [''] #Remove this if it's not a jupyter notebook!"
   ]
  },
  {
   "cell_type": "code",
   "execution_count": 5,
   "id": "6294b475-4e7a-46cb-b151-000bed7cab55",
   "metadata": {},
   "outputs": [],
   "source": [
    "check_data_path = '/data01/giorgio/RNARNA-NT/dataset/external_dataset/check_predictions50'\n",
    "original_data_path = os.path.join(check_data_path, 'original_data')\n",
    "embedding_dir = os.path.join(check_data_path, 'embeddings')"
   ]
  },
  {
   "cell_type": "code",
   "execution_count": 6,
   "id": "ef7bb542-a02c-41fa-a95e-accf767282ea",
   "metadata": {},
   "outputs": [],
   "source": [
    "# Function to parse the content\n",
    "def parse_fa_content(content):\n",
    "    entries = content.strip().split('>')\n",
    "    data = []\n",
    "    for entry in entries:\n",
    "        if entry:\n",
    "            lines = entry.split('\\n')\n",
    "            id_query = lines[0]\n",
    "            cdna = ''.join(lines[1:])\n",
    "            data.append([id_query, cdna])\n",
    "    return pd.DataFrame(data, columns=['id_query', 'cdna'])\n",
    "\n",
    "\n",
    "with open(os.path.join(original_data_path, 'embeddings.filtered.fa'), 'r') as file:\n",
    "    file_content = file.read()\n",
    "\n",
    "# Parse the content and create the DataFrame\n",
    "df_query = parse_fa_content(file_content)"
   ]
  },
  {
   "cell_type": "code",
   "execution_count": 7,
   "id": "1fbb572f-3012-47cd-ac39-07d92a47b342",
   "metadata": {},
   "outputs": [],
   "source": [
    "# devo droppare tutti quelli che non iniziano per ens\n",
    "df_query['ens_gene'] = df_query['id_query'].str.startswith('ENS')\n",
    "df_query = df_query[df_query.ens_gene].reset_index(drop = True)\n",
    "df_query = df_query.drop('ens_gene', axis = 1)"
   ]
  },
  {
   "cell_type": "code",
   "execution_count": 6,
   "id": "5baa8de3-d4c3-42c8-80d6-7c4cb6d513bf",
   "metadata": {},
   "outputs": [],
   "source": [
    "#droppo quelli che gia ci sono\n",
    "all_files = os.listdir(os.path.join(embedding_dir, '32'))\n",
    "all_files = list(pd.Series(all_files).str.extractall('(.*)\\.npy').reset_index()[0])\n",
    "df_query = df_query[~df_query.id_query.isin(all_files)]"
   ]
  },
  {
   "cell_type": "code",
   "execution_count": 8,
   "id": "17247ccf-5592-4f87-bbb3-b7cf2db50a35",
   "metadata": {},
   "outputs": [
    {
     "data": {
      "text/plain": [
       "53979"
      ]
     },
     "execution_count": 8,
     "metadata": {},
     "output_type": "execute_result"
    }
   ],
   "source": [
    "df_query.shape[0]"
   ]
  },
  {
   "cell_type": "code",
   "execution_count": 9,
   "id": "eb089276-62ec-4a11-8e6e-b6176ffbf500",
   "metadata": {},
   "outputs": [],
   "source": [
    "df_query.to_csv(os.path.join(check_data_path, f'embedding_query.csv'), index = False)"
   ]
  },
  {
   "cell_type": "code",
   "execution_count": 10,
   "id": "5a2375d9-3046-424c-94c0-b832de4e663f",
   "metadata": {},
   "outputs": [
    {
     "name": "stdout",
     "output_type": "stream",
     "text": [
      "estimated # hours: 12.69\n",
      "estimated # days: 0.53\n",
      "estimated terabytes (pessimistic): 0.55\n",
      "estimated terabytes (realistic): 0.36\n"
     ]
    }
   ],
   "source": [
    "def estimate_time_and_space(n_samples):\n",
    "    #TIME\n",
    "    minutes = 3219*n_samples/(228278)\n",
    "    hours = minutes/60\n",
    "    days = hours/24\n",
    "    print('estimated # hours:', np.round(hours, 2))\n",
    "    print('estimated # days:', np.round(days, 2))\n",
    "\n",
    "    mb = 10.2*n_samples\n",
    "    gb = mb/1000\n",
    "    tb = gb/1000\n",
    "    print('estimated terabytes (pessimistic):', np.round(tb, 2))\n",
    "    mb = 1995*n_samples/(300)\n",
    "    gb = mb/1000\n",
    "    tb = gb/1000\n",
    "    print('estimated terabytes (realistic):', np.round(tb, 2))\n",
    "estimate_time_and_space(df_query.shape[0])"
   ]
  },
  {
   "cell_type": "code",
   "execution_count": 15,
   "id": "33dd1d22-82a8-43d3-b198-7689f2a25be7",
   "metadata": {},
   "outputs": [],
   "source": [
    "df_query['len_cdna'] = df_query.apply(lambda x: len(x.cdna), axis = 1)"
   ]
  },
  {
   "cell_type": "code",
   "execution_count": 16,
   "id": "4352fbe1-3f9c-437b-9057-ebb3517ac531",
   "metadata": {},
   "outputs": [
    {
     "data": {
      "text/plain": [
       "<AxesSubplot:>"
      ]
     },
     "execution_count": 16,
     "metadata": {},
     "output_type": "execute_result"
    },
    {
     "data": {
      "image/png": "[encoded data removed]",
      "text/plain": [
       "<Figure size 432x288 with 1 Axes>"
      ]
     },
     "metadata": {
      "needs_background": "light"
     },
     "output_type": "display_data"
    }
   ],
   "source": [
    "df_query['len_cdna'].hist()"
   ]
  },
  {
   "cell_type": "code",
   "execution_count": 17,
   "id": "41db6498-de67-4b6b-ad82-e98f32b9d889",
   "metadata": {},
   "outputs": [
    {
     "data": {
      "text/plain": [
       "5970"
      ]
     },
     "execution_count": 17,
     "metadata": {},
     "output_type": "execute_result"
    }
   ],
   "source": [
    "df_query['len_cdna'].max()"
   ]
  },
  {
   "cell_type": "markdown",
   "id": "3ac2d0b5-2822-4ac0-a233-583cd95b92fd",
   "metadata": {},
   "source": [
    "### prendo un subset di Paris"
   ]
  },
  {
   "cell_type": "code",
   "execution_count": 24,
   "id": "77c78435-b7cf-4152-91fd-22a18c1f8c29",
   "metadata": {},
   "outputs": [],
   "source": [
    "def load_sample_from_chunk(file_swap_neg, chunksize = 1_000_000, n_count_max = 5, n_samples = 500_000):\n",
    "    \n",
    "    count=0\n",
    "    \n",
    "    for chunk in pd.read_csv(file_swap_neg,chunksize=chunksize,sep=\"\\t\"):    \n",
    "        if count == 0:\n",
    "            subset_filtered=chunk.copy(deep=True)\n",
    "        else:\n",
    "            subset_filtered=subset_filtered.append(chunk)\n",
    "\n",
    "        count+=1\n",
    "\n",
    "        if count == n_count_max:\n",
    "            break\n",
    "        \n",
    "        \n",
    "    subset_filtered = subset_filtered.sample(n_samples).reset_index(drop = True)\n",
    "    \n",
    "    return subset_filtered\n",
    "\n",
    "def read_and_concatenate_bed_files_paris(directory, list_of_files_to_load, list_of_names, n_samples):\n",
    "    # List to store individual dataframes\n",
    "    dataframes = []\n",
    "    \n",
    "    # Iterate over all files in the directory\n",
    "    for _, filename in enumerate(list_of_files_to_load):\n",
    "        \n",
    "        \n",
    "        file_path = os.path.join(directory, filename)\n",
    "        \n",
    "        # Read the .bed file into a dataframe\n",
    "        if 'NegativeBySwap' in filename:\n",
    "            df = load_sample_from_chunk(file_swap_neg, n_samples = n_samples)\n",
    "        else:\n",
    "            df = pd.read_csv(file_path, sep='\\t')\n",
    "\n",
    "        # Check and rename columns if necessary\n",
    "        if 'chrom_1' in df.columns and 'chrom_2' in df.columns:\n",
    "            df = df.rename(columns={'chrom_1': 'emb_name_1', 'chrom_2': 'emb_name_2'})\n",
    "            \n",
    "            \n",
    "        df['id_pair'] = list_of_names[_]\n",
    "        df['id_pair'] = df['id_pair'] + '+' + df['emb_name_1'] + '+' + df['emb_name_2'] + '+' + df['start_1'].astype(str) + '+' + df['end_1'].astype(str) + '+' + df['start_2'].astype(str) + '+' + df['end_2'].astype(str)\n",
    "        \n",
    "        \n",
    "        df = df.rename(columns={\n",
    "            'emb_name_1': 'embedding1name', \n",
    "            'emb_name_2': 'embedding2name',\n",
    "            'start_1': 'start_window1',\n",
    "            'end_1': 'end_window1',\n",
    "            'start_2': 'start_window2',\n",
    "            'end_2': 'end_window2',\n",
    "        })\n",
    "        \n",
    "        dataframes.append(df)\n",
    "    \n",
    "    # Concatenate all dataframes into one\n",
    "    concatenated_df = pd.concat(dataframes, ignore_index=True)\n",
    "    \n",
    "    concatenated_df = concatenated_df.drop('Unnamed: 0', axis = 1) \n",
    "    \n",
    "    concatenated_df = concatenated_df.drop_duplicates()\n",
    "\n",
    "    # devo droppare tutti quelli che non iniziano per ens\n",
    "    concatenated_df['ens_gene'] = concatenated_df['embedding1name'].str.startswith('ENS')\n",
    "    concatenated_df = concatenated_df[concatenated_df.ens_gene].reset_index(drop = True)\n",
    "    concatenated_df = concatenated_df.drop('ens_gene', axis = 1)\n",
    "\n",
    "    concatenated_df['ens_gene'] = concatenated_df['embedding2name'].str.startswith('ENS')\n",
    "    concatenated_df = concatenated_df[concatenated_df.ens_gene].reset_index(drop = True)\n",
    "    concatenated_df = concatenated_df.drop('ens_gene', axis = 1)\n",
    "    \n",
    "    return concatenated_df"
   ]
  },
  {
   "cell_type": "code",
   "execution_count": 25,
   "id": "92f25628-241d-4e59-adbc-2d3dece61f4f",
   "metadata": {},
   "outputs": [],
   "source": [
    "list_of_files_to_load = [\n",
    "    'Giorgio.positivi_e_hardneg.no_train_eval.PARIS1__Hela_lowRNase.bed',\n",
    "    'Giorgio.positivi_e_hardneg.no_train_eval.PARIS2__GSM4503872_HEK293_mRNA.bed', \n",
    "    'Giorgio.positivi_e_hardneg.no_train_eval.PARIS1__Hela_highRNase.bed',\n",
    "    'Giorgio.positivi_e_hardneg.no_train_eval.PARIS1__HEK293T.bed',\n",
    "    'Giorgio.positivi_e_hardneg.no_train_eval.PARIS2__GSM4503873_Mouse_brain_mRNA.bed',\n",
    "    'Giorgio.positivi_e_hardneg.no_train_eval.PARIS2__HEK293_AMT.bed',\n",
    "    'Giorgio.positivi_e_hardneg.no_train_eval.PARIS1__mES.bed',\n",
    "    'Giorgio.positivi_e_hardneg.no_train_eval.PARIS2__HEK293_Amoto.bed',\n",
    "    \n",
    "    'Giorgio.NegativeBySwap.mm_PARIS1__mES.embedding.bed',\n",
    "    'Giorgio.NegativeBySwap.hs_PARIS1__Hela_highRNase.embedding.bed',\n",
    "    'Giorgio.NegativeBySwap.hs_PARIS2__GSM4503872_HEK293_mRNA.embedding.bed',\n",
    "    'Giorgio.NegativeBySwap.hs_PARIS2__HEK293_AMT.embedding.bed',\n",
    "    'Giorgio.NegativeBySwap.hs_PARIS1__Hela_lowRNase.embedding.bed',\n",
    "    'Giorgio.NegativeBySwap.hs_PARIS1__HEK293T.embedding.bed',\n",
    "]\n",
    "list_of_names = ['paris' for i in range(len(list_of_files_to_load))]"
   ]
  },
  {
   "cell_type": "code",
   "execution_count": 32,
   "id": "f02db8fa-744d-45cb-8f19-ba296ffa6293",
   "metadata": {},
   "outputs": [],
   "source": [
    "n_samples_for_each_file = 1_000_000\n",
    "\n",
    "df = read_and_concatenate_bed_files_paris(original_data_path, list_of_files_to_load, list_of_names, n_samples_for_each_file)\n",
    "\n",
    "assert df[df.id_pair.duplicated()].shape[0] == 0"
   ]
  },
  {
   "cell_type": "code",
   "execution_count": 33,
   "id": "c9d86379-4375-4393-82ea-977b187c8179",
   "metadata": {},
   "outputs": [
    {
     "data": {
      "text/plain": [
       "16.6742275"
      ]
     },
     "execution_count": 33,
     "metadata": {},
     "output_type": "execute_result"
    }
   ],
   "source": [
    "(3.5 * df.shape[0]) / 400_000"
   ]
  },
  {
   "cell_type": "code",
   "execution_count": 34,
   "id": "c0e9d2c1-60e0-4559-87ec-4fdd33878bf4",
   "metadata": {},
   "outputs": [],
   "source": [
    "df.to_csv(os.path.join(check_data_path, 'pairs.csv'), index = False)"
   ]
  },
  {
   "cell_type": "markdown",
   "id": "3f128205-7a65-4f66-b737-bc7a7181e60f",
   "metadata": {},
   "source": [
    "### prendo un subset di Ricseq"
   ]
  },
  {
   "cell_type": "code",
   "execution_count": 30,
   "id": "aad6aea7-bd91-48f9-914f-e823f53776f4",
   "metadata": {},
   "outputs": [],
   "source": [
    "def read_and_concatenate_bed_files(directory, list_of_files_to_load, list_of_names):\n",
    "    # List to store individual dataframes\n",
    "    dataframes = []\n",
    "    \n",
    "    # Iterate over all files in the directory\n",
    "    for _, filename in enumerate(list_of_files_to_load):\n",
    "        file_path = os.path.join(directory, filename)\n",
    "        # Read the .bed file into a dataframe\n",
    "        df = pd.read_csv(file_path, sep='\\t')\n",
    "\n",
    "        # Check and rename columns if necessary\n",
    "        if 'chrom_1' in df.columns and 'chrom_2' in df.columns:\n",
    "            df = df.rename(columns={'chrom_1': 'emb_name_1', 'chrom_2': 'emb_name_2'})\n",
    "            \n",
    "            \n",
    "        df['id_pair'] = list_of_names[_]\n",
    "        df['id_pair'] = df['id_pair'] + '+' + df['emb_name_1'] + '+' + df['emb_name_2'] + '+' + df['start_1'].astype(str) + '+' + df['end_1'].astype(str) + '+' + df['start_2'].astype(str) + '+' + df['end_2'].astype(str)\n",
    "        \n",
    "        \n",
    "        df = df.rename(columns={\n",
    "            'emb_name_1': 'embedding1name', \n",
    "            'emb_name_2': 'embedding2name',\n",
    "            'start_1': 'start_window1',\n",
    "            'end_1': 'end_window1',\n",
    "            'start_2': 'start_window2',\n",
    "            'end_2': 'end_window2',\n",
    "        })\n",
    "        \n",
    "        dataframes.append(df)\n",
    "    \n",
    "    # Concatenate all dataframes into one\n",
    "    concatenated_df = pd.concat(dataframes, ignore_index=True)\n",
    "    \n",
    "    concatenated_df = concatenated_df.drop('Unnamed: 0', axis = 1) \n",
    "    \n",
    "    concatenated_df = concatenated_df.drop_duplicates()\n",
    "\n",
    "    # devo droppare tutti quelli che non iniziano per ens\n",
    "    concatenated_df['ens_gene'] = concatenated_df['embedding1name'].str.startswith('ENS')\n",
    "    concatenated_df = concatenated_df[concatenated_df.ens_gene].reset_index(drop = True)\n",
    "    concatenated_df = concatenated_df.drop('ens_gene', axis = 1)\n",
    "\n",
    "    concatenated_df['ens_gene'] = concatenated_df['embedding2name'].str.startswith('ENS')\n",
    "    concatenated_df = concatenated_df[concatenated_df.ens_gene].reset_index(drop = True)\n",
    "    concatenated_df = concatenated_df.drop('ens_gene', axis = 1)\n",
    "    \n",
    "    return concatenated_df\n",
    "\n",
    "\n",
    "list_of_files_to_load = os.listdir(original_data_path) # Questo è per tutti i dati\n",
    "list_of_files_to_load = ['Giorgio.positivi_e_hardneg.no_train_eval.RIC-seq__HeLa_merge.InterGene.arms.bed', 'Giorgio.NegativeBySwap.hs_RIC-seq__HeLa_merge.InterGene.arms.embedding.bed']\n",
    "list_of_names=['ricseq_pos_hn', 'ricseq_swap_neg']\n",
    "\n",
    "df = read_and_concatenate_bed_files(original_data_path, list_of_files_to_load, list_of_names)\n",
    "\n",
    "assert df[df.id_pair.duplicated()].shape[0] == 0"
   ]
  },
  {
   "cell_type": "code",
   "execution_count": 36,
   "id": "9db2cb8a-a474-44d3-ab62-76a7c8508aa9",
   "metadata": {},
   "outputs": [],
   "source": [
    "df.to_csv(os.path.join(check_data_path, 'pairs.csv'), index = False)"
   ]
  },
  {
   "cell_type": "code",
   "execution_count": 32,
   "id": "55926f46-601c-4a4d-be3b-c12b2b32409a",
   "metadata": {},
   "outputs": [],
   "source": [
    "# n_samples = 500_000\n",
    "\n",
    "# pos_hn = df[df.id_pair.str.startswith('ricseq_pos_hn')]\n",
    "\n",
    "# swap_neg = df[df.id_pair.str.startswith('ricseq_swap_neg')].sample(n_samples//2)\n",
    "\n",
    "# subset = pd.concat([\n",
    "#     pos_hn.sample(min(pos_hn.shape[0], n_samples//2)), \n",
    "#     swap_neg.sample(min(swap_neg.shape[0], n_samples//2)), \n",
    "# ], axis = 0)\n",
    "\n",
    "# subset.to_csv(os.path.join(check_data_path, 'pairs.csv'), index = False)\n",
    "\n",
    "# subset.shape[0], pos_hn.shape[0], swap_neg.shape[0]\n",
    "\n",
    "# subset.id_pair.iloc[0]"
   ]
  },
  {
   "cell_type": "code",
   "execution_count": 38,
   "id": "d31fb5f5-9584-4868-bf28-a76fa71c870f",
   "metadata": {},
   "outputs": [
    {
     "data": {
      "text/plain": [
       "'ricseq_pos_hn+ENST00000000233_1+ENST00000262960_1+28+78+2188+2238'"
      ]
     },
     "execution_count": 38,
     "metadata": {},
     "output_type": "execute_result"
    }
   ],
   "source": [
    "df.id_pair.iloc[0]"
   ]
  }
 ],
 "metadata": {
  "kernelspec": {
   "display_name": "Python 3 (ipykernel)",
   "language": "python",
   "name": "python3"
  },
  "language_info": {
   "codemirror_mode": {
    "name": "ipython",
    "version": 3
   },
   "file_extension": ".py",
   "mimetype": "text/x-python",
   "name": "python",
   "nbconvert_exporter": "python",
   "pygments_lexer": "ipython3",
   "version": "3.9.7"
  }
 },
 "nbformat": 4,
 "nbformat_minor": 5
}
