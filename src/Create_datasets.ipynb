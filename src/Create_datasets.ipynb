{
 "cells": [
  {
   "cell_type": "markdown",
   "id": "adae8967",
   "metadata": {
    "tags": []
   },
   "source": [
    "# Code"
   ]
  },
  {
   "cell_type": "code",
   "execution_count": 1,
   "id": "563c7461",
   "metadata": {},
   "outputs": [],
   "source": [
    "import pandas as pd\n",
    "import os\n",
    "import matplotlib.pyplot as plt\n",
    "import time\n",
    "import numpy as np\n",
    "import pickle\n",
    "import math\n",
    "import torch\n",
    "from tqdm.notebook import tqdm\n",
    "import seaborn as sns\n",
    "from torch.utils.data import DataLoader\n",
    "# if its_jupyter_notebook:\n",
    "#     sys.argv = [''] #Remove this if it's not a jupyter notebook!\n",
    "\n",
    "import sys\n",
    "sys.path.insert(0, '..')\n",
    "\n",
    "%load_ext autoreload\n",
    "%autoreload 2\n",
    "from dataset.data import (\n",
    "    RNADataset,\n",
    "    RNADatasetNT,\n",
    "    EasyPosAugment,\n",
    "    InteractionSelectionPolicy,\n",
    "    EasyNegAugment,\n",
    "    HardPosAugment,\n",
    "    HardNegAugment,\n",
    "    SmartNegAugment,\n",
    "    plot_sample,\n",
    "    #plot_sample2,\n",
    "    seed_everything,\n",
    "    clean_nt_dataframes_before_class_input,\n",
    ")\n",
    "from config import *"
   ]
  },
  {
   "cell_type": "code",
   "execution_count": 2,
   "id": "1eedef85-97a2-4e36-85dd-787a47b0da33",
   "metadata": {},
   "outputs": [],
   "source": [
    "HQ = True\n",
    "\n",
    "if HQ:\n",
    "    suffix = '_HQ'\n",
    "else:\n",
    "    suffix = ''"
   ]
  },
  {
   "cell_type": "code",
   "execution_count": 3,
   "id": "eeb11609",
   "metadata": {},
   "outputs": [
    {
     "name": "stderr",
     "output_type": "stream",
     "text": [
      "/data01/giorgio/ENTER/envs/dnabert/lib/python3.9/site-packages/IPython/core/interactiveshell.py:3444: DtypeWarning: Columns (1,2,16,17,18,20) have mixed types.Specify dtype option on import or set low_memory=False.\n",
      "  exec(code_obj, self.user_global_ns, self.user_ns)\n"
     ]
    }
   ],
   "source": [
    "df_genes = pd.read_csv(os.path.join(processed_files_dir, \"df_genes.csv\"))\n",
    "df = pd.read_csv(os.path.join(processed_files_dir, \"paris.csv\"))"
   ]
  },
  {
   "cell_type": "code",
   "execution_count": 4,
   "id": "ae758f71",
   "metadata": {},
   "outputs": [
    {
     "name": "stdout",
     "output_type": "stream",
     "text": [
      "2 genes have N, so will be excluded\n"
     ]
    }
   ],
   "source": [
    "#the N in the cdna creates problem with the tokenizer\n",
    "df_genes['problematic_set'] = df_genes['cdna'].apply(lambda x: False if (set(x) - set({'A', 'C', 'G', 'T'}) == set()) else True)\n",
    "genesN = set(df_genes[df_genes.problematic_set].gene_id.values)\n",
    "print(f'{len(genesN)} genes have N, so will be excluded')\n",
    "df = df[~(df.gene1.isin(genesN))|(df.gene2.isin(genesN))].reset_index(drop = True)"
   ]
  },
  {
   "cell_type": "code",
   "execution_count": 5,
   "id": "ea7d5505",
   "metadata": {},
   "outputs": [],
   "source": [
    "with open(os.path.join(rna_rna_files_dir, f\"gene_pairs_training{suffix}.txt\"), \"rb\") as fp:  # Unpickling\n",
    "    subset_train = pickle.load(fp)\n",
    "    subset_train = pd.Series(subset_train).str.split('_', expand = True)\n",
    "    genes_train = set(subset_train[0]).union(set(subset_train[1]))"
   ]
  },
  {
   "cell_type": "code",
   "execution_count": 6,
   "id": "6da0178c-2d47-4370-922b-3f14c976bfc7",
   "metadata": {},
   "outputs": [
    {
     "data": {
      "text/plain": [
       "9.0"
      ]
     },
     "execution_count": 6,
     "metadata": {},
     "output_type": "execute_result"
    }
   ],
   "source": [
    "with open(os.path.join(rna_rna_files_dir, f\"gene_pairs_training{suffix}.txt\"), \"rb\") as fp:  # Unpickling\n",
    "    subset_train = pickle.load(fp)\n",
    "df[df.couples.isin(subset_train)].w.min()"
   ]
  },
  {
   "cell_type": "code",
   "execution_count": 7,
   "id": "fc7bdab5",
   "metadata": {},
   "outputs": [
    {
     "name": "stdout",
     "output_type": "stream",
     "text": [
      "MAX_RNA_SIZE is 5970\n",
      "limit of small rna is: 7000\n",
      "limit of medium rna is: 8500\n",
      "The amount of contact matrixes (in the entire dataset) that are small is 76.1% \n",
      "The amount of contact matrixes (in the entire dataset) that are medium is 22.1% \n",
      "The amount of contact matrixes (in the entire dataset) that are big is 1.8% \n"
     ]
    }
   ],
   "source": [
    "limit_small_rna = 7000\n",
    "limit_medium_rna = 8500\n",
    "\n",
    "print('MAX_RNA_SIZE is', MAX_RNA_SIZE)\n",
    "print('limit of small rna is:', limit_small_rna)\n",
    "print('limit of medium rna is:', limit_medium_rna)\n",
    "\n",
    "small1 = df[(df.length_2<=limit_small_rna)&(df.length_1<=limit_medium_rna)] #both small and one small the other medium\n",
    "small2 = df[(df.length_1<=limit_small_rna)&(df.length_2<=limit_medium_rna)] #both small and one small the other medium\n",
    "df_small = pd.concat([small1, small2], axis = 0).drop_duplicates()\n",
    "\n",
    "df_big = df[(df.length_1>limit_medium_rna)&(df.length_2>limit_medium_rna)]\n",
    "\n",
    "big_small_idx = list(df_small.index) + list(df_big.index) \n",
    "df_medium = df.loc[set(df.index) - set(big_small_idx)]\n",
    "\n",
    "assert (df_small.shape[0]+df_medium.shape[0]+df_big.shape[0]) == df.shape[0]\n",
    "assert set(df_big.couples).union(df_medium.couples).union(df_small.couples) == set(df.couples)\n",
    "\n",
    "df_small = df_small.reset_index(drop=True)\n",
    "df_medium = df_medium.reset_index(drop=True)\n",
    "df_big = df_big.reset_index(drop=True)\n",
    "\n",
    "set(df_small.couples).union(set(df_medium.couples)).union(set(df_big.couples)) == set(df.couples)\n",
    "perc_small = np.round(df_small.shape[0]/df.shape[0]*100, 1)\n",
    "perc_medium = np.round(df_medium.shape[0]/df.shape[0]*100, 1)\n",
    "perc_big = np.round(df_big.shape[0]/df.shape[0]*100, 1)\n",
    "print(f'The amount of contact matrixes (in the entire dataset) that are small is {perc_small}% ')\n",
    "print(f'The amount of contact matrixes (in the entire dataset) that are medium is {perc_medium}% ')\n",
    "print(f'The amount of contact matrixes (in the entire dataset) that are big is {perc_big}% ')"
   ]
  },
  {
   "cell_type": "code",
   "execution_count": 8,
   "id": "69d85537",
   "metadata": {},
   "outputs": [],
   "source": [
    "def create_sample_dict(id_couple, sample):\n",
    "    \"\"\"\n",
    "    x1, x2, y1, y2 is where is the interaction with respect to the actual coordinates (not the original coordinates)\n",
    "    length_1, length_2 is the length with respect to the actual length (not the original length)\n",
    "    \n",
    "    original_x1, original_x2, original_y1, original_y2 is where the rna interacts with respect to original coordinates \n",
    "    window_x1, window_x2, window_y1, window_y2 is where the rna was sampled with respect to original coordinates \n",
    "    original_length1, original_length2 is the original length\n",
    "    \"\"\"\n",
    "    d = {\n",
    "        'id_sample':id_couple,\n",
    "        'couples':sample.couple_id,\n",
    "        'gene1':sample.gene1,\n",
    "        'gene2':sample.gene2,\n",
    "        'interacting':sample.interacting,\n",
    "        'length_1':sample.bbox.x2-sample.bbox.x1,\n",
    "        'length_2':sample.bbox.y2-sample.bbox.y1,\n",
    "        'protein_coding_1':sample.gene1_info[\"protein_coding\"],\n",
    "        'protein_coding_2':sample.gene2_info[\"protein_coding\"],\n",
    "        'x1': sample.seed_interaction_bbox.x1 - sample.bbox.x1,\n",
    "        'x2': sample.seed_interaction_bbox.x2 - sample.bbox.x1,\n",
    "        'y1': sample.seed_interaction_bbox.y1 - sample.bbox.y1,\n",
    "        'y2': sample.seed_interaction_bbox.y2 - sample.bbox.y1,\n",
    "        'policy':sample.policy,\n",
    "        'cdna1':sample.gene1_info[\"cdna\"][sample.bbox.x1:sample.bbox.x2],\n",
    "        'cdna2':sample.gene2_info[\"cdna\"][sample.bbox.y1:sample.bbox.y2],\n",
    "        'original_x1':sample.seed_interaction_bbox.x1,\n",
    "        'original_x2':sample.seed_interaction_bbox.x2,\n",
    "        'original_y1':sample.seed_interaction_bbox.y1,\n",
    "        'original_y2':sample.seed_interaction_bbox.y2,\n",
    "        'window_x1':sample.bbox.x1,\n",
    "        'window_x2':sample.bbox.x2,\n",
    "        'window_y1':sample.bbox.y1,\n",
    "        'window_y2':sample.bbox.y2,\n",
    "        'original_length1':len(sample.gene1_info[\"cdna\"]),\n",
    "        'original_length2':len(sample.gene2_info[\"cdna\"]),\n",
    "        'id_gene1_sample':sample.gene1 + '_' + str(sample.bbox.x1) + '_' + str(sample.bbox.x2),\n",
    "        'id_gene2_sample':sample.gene2 + '_' + str(sample.bbox.y1) + '_' + str(sample.bbox.y2)\n",
    "    }\n",
    "    return d\n",
    "\n",
    "def get_dataset(ep_per_sample, sn_per_sample, en_persample, hn_per_sample, df_genes, df, subset_file, pos_width_multipliers, pos_height_multipliers, neg_width_windows, neg_height_windows):\n",
    "    assert np.round(sum(pos_width_multipliers.values()), 4) == np.round(sum(neg_width_windows.values()), 4) == 1\n",
    "    \n",
    "    pol = []\n",
    "    \n",
    "    if ep_per_sample>0:\n",
    "        pol.append(\n",
    "            EasyPosAugment(\n",
    "            per_sample=ep_per_sample,\n",
    "            interaction_selection=InteractionSelectionPolicy.LARGEST,\n",
    "            width_multipliers=pos_width_multipliers,\n",
    "            height_multipliers=pos_height_multipliers,\n",
    "            )\n",
    "        )\n",
    "        \n",
    "    if sn_per_sample>0:\n",
    "        pol.append(   \n",
    "            SmartNegAugment(\n",
    "                per_sample=sn_per_sample,\n",
    "                interaction_selection=InteractionSelectionPolicy.LARGEST,\n",
    "                width_multipliers=pos_width_multipliers,\n",
    "                height_multipliers=pos_height_multipliers,\n",
    "            )\n",
    "        )\n",
    "        \n",
    "    if en_persample>0:\n",
    "        pol.append( \n",
    "            EasyNegAugment(\n",
    "                per_sample=en_persample,\n",
    "                width_windows=neg_width_windows,\n",
    "                height_windows=neg_height_windows,\n",
    "            )\n",
    "        )\n",
    "        \n",
    "    if hn_per_sample>0:\n",
    "        pol.append(\n",
    "            HardNegAugment(\n",
    "                per_sample=hn_per_sample,\n",
    "                width_windows=neg_width_windows,\n",
    "                height_windows=neg_height_windows,\n",
    "            )\n",
    "        )\n",
    "        \n",
    "    dataset = RNADataset(\n",
    "            gene2info=df_genes,\n",
    "            interactions=df,\n",
    "            subset_file=subset_file,\n",
    "            augment_policies=pol,\n",
    "    )\n",
    "    return dataset "
   ]
  },
  {
   "cell_type": "code",
   "execution_count": 70,
   "id": "5779cc9e",
   "metadata": {},
   "outputs": [],
   "source": [
    "pos_width_multipliers = {1_000_000: 1.}\n",
    "pos_height_multipliers = pos_width_multipliers\n",
    "neg_width_windows = {(MAX_RNA_SIZE-1, MAX_RNA_SIZE): float(1),}\n",
    "neg_height_windows = neg_width_windows"
   ]
  },
  {
   "cell_type": "code",
   "execution_count": 71,
   "id": "ea9b9784",
   "metadata": {},
   "outputs": [],
   "source": [
    "#small policies\n",
    "ep_per_sample_small=1\n",
    "sn_per_sample_small=1\n",
    "en_per_sample_small=0\n",
    "hn_per_sample_small=0\n",
    "\n",
    "#medium policies\n",
    "ep_per_sample_medium=2\n",
    "sn_per_sample_medium=2\n",
    "en_per_sample_medium=0\n",
    "hn_per_sample_medium=0\n",
    "\n",
    "\n",
    "#big policies\n",
    "ep_per_sample_big=3\n",
    "sn_per_sample_big=3\n",
    "en_per_sample_big=0\n",
    "hn_per_sample_big=0"
   ]
  },
  {
   "cell_type": "code",
   "execution_count": 72,
   "id": "72afaf90",
   "metadata": {},
   "outputs": [
    {
     "name": "stdout",
     "output_type": "stream",
     "text": [
      "expected smartneg are the 100.0% of negative pairs\n",
      "expected easyneg are the 0.0% of negative pairs\n",
      "expected hardneg are the 0.0% of negative pairs\n",
      "expected unbalanced factor is 36.94%\n"
     ]
    }
   ],
   "source": [
    "tot_ep = ep_per_sample_small*perc_small + ep_per_sample_medium*perc_medium + ep_per_sample_big*perc_big\n",
    "tot_sn = sn_per_sample_small*perc_small + sn_per_sample_medium*perc_medium + sn_per_sample_big*perc_big\n",
    "tot_en = en_per_sample_small*perc_small + en_per_sample_medium*perc_medium + en_per_sample_big*perc_big\n",
    "tot_hn = hn_per_sample_small*perc_small + hn_per_sample_medium*perc_medium + hn_per_sample_big*perc_big\n",
    "\n",
    "tot_neg = tot_sn + tot_en + tot_hn\n",
    "print(f'expected smartneg are the {np.round( tot_sn/tot_neg *100, 2)}% of negative pairs')\n",
    "print(f'expected easyneg are the {np.round( tot_en/tot_neg *100, 2)}% of negative pairs')\n",
    "print(f'expected hardneg are the {np.round( tot_hn/tot_neg *100, 2)}% of negative pairs')\n",
    "\n",
    "unbalanced_factor = df[df.interacting == False].shape[0]/df.shape[0]\n",
    "expected_uf = tot_ep*unbalanced_factor / ((tot_ep*unbalanced_factor) + tot_neg)\n",
    "print(f'expected unbalanced factor is {np.round(expected_uf*100, 2)}%')"
   ]
  },
  {
   "cell_type": "markdown",
   "id": "0507c53d",
   "metadata": {
    "tags": []
   },
   "source": [
    "# Data loader train"
   ]
  },
  {
   "cell_type": "code",
   "execution_count": 10,
   "id": "2f3863a6",
   "metadata": {},
   "outputs": [],
   "source": [
    "set_data = 'training' \n",
    "assert set_data in ['training', 'val', 'test']\n",
    "subset_file = os.path.join(rna_rna_files_dir, f\"gene_pairs_training{suffix}.txt\")\n",
    "\n",
    "id_couple = 0\n",
    "meta = {}"
   ]
  },
  {
   "cell_type": "code",
   "execution_count": 12,
   "id": "a1c860a4-ae9f-4149-88ac-d2ad37ecad8c",
   "metadata": {},
   "outputs": [
    {
     "data": {
      "application/vnd.jupyter.widget-view+json": {
       "model_id": "5f59b10c0ede421e8425d79acc313787",
       "version_major": 2,
       "version_minor": 0
      },
      "text/plain": [
       "  0%|          | 0/50088 [00:00<?, ?it/s]"
      ]
     },
     "metadata": {},
     "output_type": "display_data"
    },
    {
     "data": {
      "application/vnd.jupyter.widget-view+json": {
       "model_id": "4ab5f836a7904fde876d08982e48eed1",
       "version_major": 2,
       "version_minor": 0
      },
      "text/plain": [
       "  0%|          | 0/30114 [00:00<?, ?it/s]"
      ]
     },
     "metadata": {},
     "output_type": "display_data"
    },
    {
     "data": {
      "application/vnd.jupyter.widget-view+json": {
       "model_id": "555c83635a814738af2a4a4774622478",
       "version_major": 2,
       "version_minor": 0
      },
      "text/plain": [
       "  0%|          | 0/3621 [00:00<?, ?it/s]"
      ]
     },
     "metadata": {},
     "output_type": "display_data"
    },
    {
     "name": "stdout",
     "output_type": "stream",
     "text": [
      "Total time to create datasets: 0.17680127620697023 minutes\n"
     ]
    }
   ],
   "source": [
    "start_time = time.time()\n",
    "\n",
    "small = get_dataset(ep_per_sample=ep_per_sample_small, sn_per_sample=sn_per_sample_small, \n",
    "                    en_persample=en_per_sample_small, hn_per_sample=hn_per_sample_small, \n",
    "                    df_genes=df_genes, df=df_small, subset_file=subset_file, \n",
    "                    pos_width_multipliers=pos_width_multipliers, pos_height_multipliers=pos_height_multipliers, \n",
    "                    neg_width_windows=neg_width_windows, neg_height_windows=neg_height_windows)\n",
    "\n",
    "for i, sample in tqdm(enumerate(small), total = len(small)):\n",
    "    meta[id_couple] = create_sample_dict(id_couple, sample)\n",
    "    id_couple += 1\n",
    "    \n",
    "    \n",
    "medium = get_dataset(ep_per_sample=ep_per_sample_medium, sn_per_sample=sn_per_sample_medium,\n",
    "                     en_persample=en_per_sample_medium, hn_per_sample=hn_per_sample_medium, \n",
    "                     df_genes=df_genes, df=df_medium, subset_file=subset_file,\n",
    "                     pos_width_multipliers=pos_width_multipliers, pos_height_multipliers=pos_height_multipliers, \n",
    "                     neg_width_windows=neg_width_windows, neg_height_windows=neg_height_windows)\n",
    "\n",
    "for i, sample in tqdm(enumerate(medium), total = len(medium)):\n",
    "    meta[id_couple] = create_sample_dict(id_couple, sample)\n",
    "    id_couple += 1\n",
    "    \n",
    "    \n",
    "big = get_dataset(ep_per_sample=ep_per_sample_big, sn_per_sample=sn_per_sample_big, \n",
    "                  en_persample=en_per_sample_big, hn_per_sample=hn_per_sample_big, \n",
    "                  df_genes=df_genes, df=df_big, subset_file=subset_file, \n",
    "                  pos_width_multipliers=pos_width_multipliers, pos_height_multipliers=pos_height_multipliers, \n",
    "                  neg_width_windows=neg_width_windows, neg_height_windows=neg_height_windows)\n",
    "\n",
    "for i, sample in tqdm(enumerate(big), total = len(big)):\n",
    "    meta[id_couple] = create_sample_dict(id_couple, sample)\n",
    "    id_couple += 1\n",
    "    \n",
    "def df_meta_from_meta_dict(meta, do_controls = True):\n",
    "    df_meta = pd.DataFrame.from_dict(meta, 'index')\n",
    "    df_meta['lencdna1'] = df_meta.apply(lambda x: len(x.cdna1), axis = 1)\n",
    "    df_meta['lencdna2'] = df_meta.apply(lambda x: len(x.cdna2), axis = 1)\n",
    "    if do_controls:\n",
    "        assert (df_meta['lencdna1'] == df_meta['length_1']).all()\n",
    "        assert (df_meta['lencdna2'] == df_meta['length_2']).all()\n",
    "        assert ((df_meta.window_x2 - df_meta.window_x1)==(df_meta.lencdna1)).all()\n",
    "        assert ((df_meta.window_y2 - df_meta.window_y1)==(df_meta.lencdna2)).all()\n",
    "    df_meta = df_meta.drop(['lencdna1', 'lencdna2'], axis = 1)\n",
    "    if do_controls:\n",
    "        m = df_meta[df_meta.policy.isin({'smartneg', 'easypos'})]\n",
    "        assert (m.x1 >= 0).all()\n",
    "        assert (m.y1 >= 0).all()\n",
    "        assert (m.x2 <= m.length_1).all()\n",
    "        assert (m.y2 <= m.length_2).all()\n",
    "\n",
    "        assert df_meta[df_meta.length_1==df_meta.original_length1][['gene1', 'id_gene1_sample']].groupby('gene1').nunique().max().iloc[0] == 1\n",
    "        assert df_meta[df_meta.length_2==df_meta.original_length2][['gene2', 'id_gene2_sample']].groupby('gene2').nunique().max().iloc[0] == 1\n",
    "    return df_meta\n",
    "\n",
    "df_meta = df_meta_from_meta_dict(meta, do_controls = True)\n",
    "print(f\"Total time to create datasets: {(time.time()-start_time)/60} minutes\")"
   ]
  },
  {
   "cell_type": "code",
   "execution_count": 15,
   "id": "43fc2474",
   "metadata": {},
   "outputs": [],
   "source": [
    "# plot_sample(sample, True)\n",
    "# print(sample.policy)"
   ]
  },
  {
   "cell_type": "markdown",
   "id": "97c619e3",
   "metadata": {
    "tags": []
   },
   "source": [
    "### Controllo se alcuni geni hanno un arricchimento solo nei positivi o solo nei negativi."
   ]
  },
  {
   "cell_type": "code",
   "execution_count": 16,
   "id": "5b32f19d-c5ef-4af3-b52a-3ab3cab70d18",
   "metadata": {},
   "outputs": [],
   "source": [
    "def balance_df(df):\n",
    "    positives = df[df.interacting]\n",
    "    negatives = df[df.interacting == False]\n",
    "    if negatives.shape[0]>=positives.shape[0]:\n",
    "        negatives_to_sample = positives.shape[0]\n",
    "        df_sampled = pd.concat([positives, negatives.sample(negatives_to_sample)],axis = 0)\n",
    "    else:\n",
    "        positives_to_sample = negatives.shape[0]\n",
    "        df_sampled = pd.concat([negatives, positives.sample(positives_to_sample)],axis = 0)\n",
    "    return df_sampled.reset_index(drop = True)\n",
    "\n",
    "def obtain_pair_diff_distribution(sampled, gene_count_real):\n",
    "    sampled = sampled.merge(gene_count_real[['gene', 'diff']], left_on = 'gene1', right_on = 'gene').drop('gene', axis = 1).rename({'diff':'diff1'}, axis =1)\n",
    "    sampled = sampled.merge(gene_count_real[['gene', 'diff']], left_on = 'gene2', right_on = 'gene').drop('gene', axis = 1).rename({'diff':'diff2'}, axis =1)\n",
    "    sampled['diff'] = sampled['diff1'] + sampled['diff2']\n",
    "    return sampled\n",
    "\n",
    "def obtain_gene_count_real(df):\n",
    "    vc = df.interacting.value_counts()\n",
    "    if set(vc.index) == {False, True}:\n",
    "        unbalance_factor = vc[True]/vc[False]\n",
    "    else:\n",
    "        unbalance_factor = np.nan\n",
    "    gene_count_pos_list = list(df[df.interacting].gene1) + list(df[df.interacting].gene2)\n",
    "    gene_count_neg_list = list(df[df.interacting == False].gene1) + list(df[df.interacting == False].gene2)\n",
    "\n",
    "    gene_count_pos = pd.DataFrame({'gene': gene_count_pos_list, 'interacting':1})\n",
    "    gene_count_neg = pd.DataFrame({'gene': gene_count_neg_list, 'interacting':0})\n",
    "    gene_count_res = pd.concat([gene_count_pos, gene_count_neg], axis = 0)\n",
    "    \n",
    "    gene_count_res['weight'] = 1\n",
    "    gene_count_res.loc[ gene_count_res.interacting == 0, 'weight'] = unbalance_factor\n",
    "    gene_count_real = gene_count_res.groupby('gene').sum()\n",
    "    gene_count_real['not_interacting'] = gene_count_real['weight'] - gene_count_real['interacting']\n",
    "    gene_count_real['diff'] = gene_count_real['interacting'] - gene_count_real['not_interacting']\n",
    "    gene_count_real['total'] = gene_count_real['not_interacting'] + gene_count_real['interacting']\n",
    "    gene_count_real = gene_count_real.reset_index()#add gene column\n",
    "    return gene_count_real"
   ]
  },
  {
   "cell_type": "code",
   "execution_count": 17,
   "id": "ef4329dd-f656-420c-9b1c-8eae177e4219",
   "metadata": {},
   "outputs": [],
   "source": [
    "gene_count = obtain_gene_count_real(df_meta)\n",
    "df_meta = obtain_pair_diff_distribution(df_meta, gene_count)"
   ]
  },
  {
   "cell_type": "code",
   "execution_count": 18,
   "id": "ba2d6c18-654a-41a7-8a24-7cfd3be9195d",
   "metadata": {},
   "outputs": [
    {
     "name": "stdout",
     "output_type": "stream",
     "text": [
      "83823\n"
     ]
    }
   ],
   "source": [
    "print(df_meta.shape[0])"
   ]
  },
  {
   "cell_type": "markdown",
   "id": "196bdfeb-dcfc-4353-a2d4-1742deee7e5a",
   "metadata": {},
   "source": [
    "#### Simulate"
   ]
  },
  {
   "cell_type": "code",
   "execution_count": 19,
   "id": "50f761ae-da08-4316-b00c-634450773610",
   "metadata": {},
   "outputs": [
    {
     "data": {
      "application/vnd.jupyter.widget-view+json": {
       "model_id": "d18fc392ae83455ca03fd10bea85a3ed",
       "version_major": 2,
       "version_minor": 0
      },
      "text/plain": [
       "  0%|          | 0/10 [00:00<?, ?it/s]"
      ]
     },
     "metadata": {},
     "output_type": "display_data"
    },
    {
     "data": {
      "image/png": "[encoded data removed]",
      "text/plain": [
       "<Figure size 432x288 with 1 Axes>"
      ]
     },
     "metadata": {
      "needs_background": "light"
     },
     "output_type": "display_data"
    }
   ],
   "source": [
    "n_epochs = 10\n",
    "couples = []\n",
    "interactings = []\n",
    "for i in tqdm(range(n_epochs)):\n",
    "    train_sampled = balance_df(df_meta.copy().drop(['diff1', 'diff2', 'diff'], axis = 1))\n",
    "    couples += list(train_sampled.couples)\n",
    "    interactings += list(train_sampled.interacting)\n",
    "\n",
    "res = pd.DataFrame({'couples':couples, 'interactings':interactings})\n",
    "new_cols = res.couples.str.extractall('(.*)_(.*)')\n",
    "res['gene1'] = new_cols.reset_index()[0]\n",
    "res['gene2'] = new_cols.reset_index()[1]\n",
    "\n",
    "gene_count_pos_list = list(res[res.interactings].gene1) + list(res[res.interactings].gene2)\n",
    "gene_count_neg_list = list(res[res.interactings == False].gene1) + list(res[res.interactings == False].gene2)\n",
    "gene_count_pos = pd.DataFrame({'gene': gene_count_pos_list, 'interacting':1})\n",
    "gene_count_neg = pd.DataFrame({'gene': gene_count_neg_list, 'interacting':0})\n",
    "gene_count_res = pd.concat([gene_count_pos, gene_count_neg], axis = 0)\n",
    "gene_count_res['n'] = 1\n",
    "gene_count_real = gene_count_res.groupby('gene').sum()\n",
    "gene_count_real['not_interacting'] = gene_count_real['n'] - gene_count_real['interacting']\n",
    "gene_count_real['diff'] = gene_count_real['interacting'] - gene_count_real['not_interacting']\n",
    "gene_count_real = gene_count_real.reset_index()\n",
    "\n",
    "res = obtain_pair_diff_distribution(res, gene_count_real)\n",
    "\n",
    "sns.kdeplot(res['diff']/n_epochs, color = 'red', label = 'empirical')\n",
    "plt.title(f'Gene1 Expected value to be an interactor + Gene2 Expected value be an interactor')\n",
    "plt.show()"
   ]
  },
  {
   "cell_type": "code",
   "execution_count": 20,
   "id": "dd10017a-8142-45d5-bbd1-97ffb4260260",
   "metadata": {},
   "outputs": [
    {
     "data": {
      "text/plain": [
       "<AxesSubplot:xlabel='diff', ylabel='Density'>"
      ]
     },
     "execution_count": 20,
     "metadata": {},
     "output_type": "execute_result"
    },
    {
     "data": {
      "image/png": "[encoded data removed]",
      "text/plain": [
       "<Figure size 432x288 with 1 Axes>"
      ]
     },
     "metadata": {
      "needs_background": "light"
     },
     "output_type": "display_data"
    }
   ],
   "source": [
    "sns.kdeplot(gene_count['diff'], color = 'red')"
   ]
  },
  {
   "cell_type": "code",
   "execution_count": 21,
   "id": "236d2f67-068b-4ebf-b4a7-5776a1fa75e0",
   "metadata": {},
   "outputs": [
    {
     "data": {
      "text/html": [
       "<div>\n",
       "<style scoped>\n",
       "    .dataframe tbody tr th:only-of-type {\n",
       "        vertical-align: middle;\n",
       "    }\n",
       "\n",
       "    .dataframe tbody tr th {\n",
       "        vertical-align: top;\n",
       "    }\n",
       "\n",
       "    .dataframe thead th {\n",
       "        text-align: right;\n",
       "    }\n",
       "</style>\n",
       "<table border=\"1\" class=\"dataframe\">\n",
       "  <thead>\n",
       "    <tr style=\"text-align: right;\">\n",
       "      <th></th>\n",
       "      <th>gene</th>\n",
       "      <th>interacting</th>\n",
       "      <th>weight</th>\n",
       "      <th>not_interacting</th>\n",
       "      <th>diff</th>\n",
       "      <th>total</th>\n",
       "    </tr>\n",
       "  </thead>\n",
       "  <tbody>\n",
       "    <tr>\n",
       "      <th>2075</th>\n",
       "      <td>ENSG00000105576</td>\n",
       "      <td>339</td>\n",
       "      <td>614.516112</td>\n",
       "      <td>275.516112</td>\n",
       "      <td>63.483888</td>\n",
       "      <td>614.516112</td>\n",
       "    </tr>\n",
       "    <tr>\n",
       "      <th>11660</th>\n",
       "      <td>ENSG00000229807</td>\n",
       "      <td>539</td>\n",
       "      <td>924.140480</td>\n",
       "      <td>385.140480</td>\n",
       "      <td>153.859520</td>\n",
       "      <td>924.140480</td>\n",
       "    </tr>\n",
       "    <tr>\n",
       "      <th>12751</th>\n",
       "      <td>ENSG00000245532</td>\n",
       "      <td>290</td>\n",
       "      <td>458.802125</td>\n",
       "      <td>168.802125</td>\n",
       "      <td>121.197875</td>\n",
       "      <td>458.802125</td>\n",
       "    </tr>\n",
       "    <tr>\n",
       "      <th>13160</th>\n",
       "      <td>ENSG00000251562</td>\n",
       "      <td>196</td>\n",
       "      <td>304.654241</td>\n",
       "      <td>108.654241</td>\n",
       "      <td>87.345759</td>\n",
       "      <td>304.654241</td>\n",
       "    </tr>\n",
       "    <tr>\n",
       "      <th>17316</th>\n",
       "      <td>ENSMUSG00000021268</td>\n",
       "      <td>187</td>\n",
       "      <td>333.489200</td>\n",
       "      <td>146.489200</td>\n",
       "      <td>40.510800</td>\n",
       "      <td>333.489200</td>\n",
       "    </tr>\n",
       "    <tr>\n",
       "      <th>18980</th>\n",
       "      <td>ENSMUSG00000028782</td>\n",
       "      <td>165</td>\n",
       "      <td>296.937293</td>\n",
       "      <td>131.937293</td>\n",
       "      <td>33.062707</td>\n",
       "      <td>296.937293</td>\n",
       "    </tr>\n",
       "    <tr>\n",
       "      <th>22928</th>\n",
       "      <td>ENSMUSG00000064351</td>\n",
       "      <td>210</td>\n",
       "      <td>379.772252</td>\n",
       "      <td>169.772252</td>\n",
       "      <td>40.227748</td>\n",
       "      <td>379.772252</td>\n",
       "    </tr>\n",
       "    <tr>\n",
       "      <th>23812</th>\n",
       "      <td>ENSMUSG00000092341</td>\n",
       "      <td>111</td>\n",
       "      <td>184.729664</td>\n",
       "      <td>73.729664</td>\n",
       "      <td>37.270336</td>\n",
       "      <td>184.729664</td>\n",
       "    </tr>\n",
       "    <tr>\n",
       "      <th>23965</th>\n",
       "      <td>ENSMUSG00000097971</td>\n",
       "      <td>603</td>\n",
       "      <td>941.574377</td>\n",
       "      <td>338.574377</td>\n",
       "      <td>264.425623</td>\n",
       "      <td>941.574377</td>\n",
       "    </tr>\n",
       "    <tr>\n",
       "      <th>23978</th>\n",
       "      <td>ENSMUSG00000098178</td>\n",
       "      <td>175</td>\n",
       "      <td>297.236021</td>\n",
       "      <td>122.236021</td>\n",
       "      <td>52.763979</td>\n",
       "      <td>297.236021</td>\n",
       "    </tr>\n",
       "  </tbody>\n",
       "</table>\n",
       "</div>"
      ],
      "text/plain": [
       "                     gene  interacting      weight  not_interacting  \\\n",
       "2075      ENSG00000105576          339  614.516112       275.516112   \n",
       "11660     ENSG00000229807          539  924.140480       385.140480   \n",
       "12751     ENSG00000245532          290  458.802125       168.802125   \n",
       "13160     ENSG00000251562          196  304.654241       108.654241   \n",
       "17316  ENSMUSG00000021268          187  333.489200       146.489200   \n",
       "18980  ENSMUSG00000028782          165  296.937293       131.937293   \n",
       "22928  ENSMUSG00000064351          210  379.772252       169.772252   \n",
       "23812  ENSMUSG00000092341          111  184.729664        73.729664   \n",
       "23965  ENSMUSG00000097971          603  941.574377       338.574377   \n",
       "23978  ENSMUSG00000098178          175  297.236021       122.236021   \n",
       "\n",
       "             diff       total  \n",
       "2075    63.483888  614.516112  \n",
       "11660  153.859520  924.140480  \n",
       "12751  121.197875  458.802125  \n",
       "13160   87.345759  304.654241  \n",
       "17316   40.510800  333.489200  \n",
       "18980   33.062707  296.937293  \n",
       "22928   40.227748  379.772252  \n",
       "23812   37.270336  184.729664  \n",
       "23965  264.425623  941.574377  \n",
       "23978   52.763979  297.236021  "
      ]
     },
     "execution_count": 21,
     "metadata": {},
     "output_type": "execute_result"
    }
   ],
   "source": [
    "gene_count[gene_count['diff']>30]"
   ]
  },
  {
   "cell_type": "code",
   "execution_count": 22,
   "id": "b2414ca6-c9a1-4cc3-a1a3-835027af8375",
   "metadata": {},
   "outputs": [],
   "source": [
    "# n_epochs = 20\n",
    "\n",
    "# def update_df(updt_df, subsetted_sampled):\n",
    "#     subsetted_sampled = subsetted_sampled[['couples', 'diff1', 'diff2']].reset_index(drop = True)\n",
    "#     subsetted_sampled['diff'] = subsetted_sampled['diff1'] + subsetted_sampled['diff2'] \n",
    "#     gb1 = subsetted_sampled.groupby('couples').sum().reset_index() #this is to sum the effect of duplicated couples\n",
    "#     gb2 = subsetted_sampled.groupby('couples').count().reset_index()[['couples', 'diff']].rename({'diff':'n'}, axis = 1)\n",
    "#     subsetted_sampled = gb1.merge(gb2, on = 'couples')\n",
    "#     merged_df = updt_df.merge(subsetted_sampled[['couples', 'diff', 'n']], on = 'couples', how='left').fillna(0)\n",
    "#     merged_df['diff'] = merged_df['diff_x'] + merged_df['diff_y']\n",
    "#     merged_df['n'] = merged_df['n_x'] + merged_df['n_y']\n",
    "#     return merged_df[['couples', 'diff', 'n']]\n",
    "\n",
    "# updt_df = pd.DataFrame(df_meta.couples).drop_duplicates().reset_index(drop=True)\n",
    "# updt_df['diff'] = 0\n",
    "# updt_df['n'] = 0\n",
    "\n",
    "# for i in tqdm(range(n_epochs)):\n",
    "#     train_sampled = balance_df(df_meta.copy().drop(['diff1', 'diff2', 'diff'], axis = 1))\n",
    "#     gene_count_real = obtain_gene_count_real(train_sampled)\n",
    "#     train_sampled = obtain_pair_diff_distribution(train_sampled, gene_count_real)\n",
    "#     updt_df = update_df(updt_df, train_sampled)\n",
    "\n",
    "# updt_df['n_per_epochs'] = updt_df['n']/n_epochs\n",
    "# updt_df['diff_weigthed'] = (updt_df['n_per_epochs'] * updt_df['diff'])/n_epochs\n",
    "\n",
    "# sns.kdeplot(updt_df['diff_weigthed'], color = 'red', label = 'empirical')\n",
    "# sns.kdeplot(df_meta['diff'], color = 'blue', label = 'theorical')\n",
    "# plt.title(f'Gene1 Expected value to be an interactor + Gene2 Expected value be an interactor')\n",
    "# plt.legend()\n",
    "# plt.show()\n",
    "\n",
    "# sns.kdeplot(updt_df[(updt_df['diff'] > 1)]['diff_weigthed'], color = 'red', label = 'empirical')\n",
    "# sns.kdeplot(df_meta[df_meta['diff'] > 1]['diff'], color = 'blue', label = 'theorical')\n",
    "# plt.title(f'Gene1 Expected value to be an interactor + Gene2 Expected value be an interactor (zoom)')\n",
    "# plt.legend()\n",
    "# plt.show()\n",
    "\n",
    "# sns.kdeplot(updt_df[(updt_df['diff']<-1)]['diff_weigthed'], color = 'red', label = 'empirical')\n",
    "# sns.kdeplot(df_meta[df_meta['diff'] < - 1]['diff'], color = 'blue', label = 'theorical')\n",
    "# plt.title(f'Gene1 Expected value to be an interactor + Gene2 Expected value be an interactor (zoom)')\n",
    "# plt.legend()\n",
    "# plt.show()"
   ]
  },
  {
   "cell_type": "code",
   "execution_count": 23,
   "id": "f5513d9e-1abf-4768-98e7-9c460f862cda",
   "metadata": {},
   "outputs": [],
   "source": [
    "ADJUST = False"
   ]
  },
  {
   "cell_type": "code",
   "execution_count": 24,
   "id": "5a82c1c6-de52-4aad-995a-fa69b4e4329b",
   "metadata": {},
   "outputs": [],
   "source": [
    "EXCLUDE_SMALL_RNA = False\n",
    "genes_to_exclude = []#list(gene_count[(gene_count['diff'] <- 30)|(gene_count['diff'] > 30)].gene) #I don't want to oversample pairs where these gene are present, since I cannot adjust them."
   ]
  },
  {
   "cell_type": "code",
   "execution_count": 25,
   "id": "af3ea45d-6b59-49b3-8341-01200dc72c09",
   "metadata": {},
   "outputs": [],
   "source": [
    "if ADJUST:\n",
    "    they_need_smartneg = df_meta[(df_meta['diff1']>0.7) & (df_meta['diff2']>0.7)]\n",
    "    they_need_smartneg = they_need_smartneg[~(\n",
    "        (they_need_smartneg['gene1'].isin(genes_to_exclude))|(they_need_smartneg['gene2'].isin(genes_to_exclude)) \n",
    "    )]\n",
    "    they_need_easypos = df_meta[(df_meta['diff1']<-0.7) & (df_meta['diff2']<-0.7)]\n",
    "    they_need_easypos = they_need_easypos[~(\n",
    "        (they_need_easypos['gene1'].isin(genes_to_exclude))|(they_need_easypos['gene2'].isin(genes_to_exclude)) \n",
    "    )]\n",
    "\n",
    "    if EXCLUDE_SMALL_RNA:\n",
    "        #filter out small rna, where I don't want to sample more\n",
    "        they_need_smartneg = they_need_smartneg[~(\n",
    "            (they_need_smartneg.original_length2<=limit_small_rna)&(they_need_smartneg.original_length1<=limit_medium_rna)\n",
    "        )]\n",
    "        they_need_smartneg = they_need_smartneg[~(\n",
    "            (they_need_smartneg.original_length1<=limit_small_rna)&(they_need_smartneg.original_length2<=limit_medium_rna)\n",
    "        )]\n",
    "\n",
    "\n",
    "        they_need_easypos = they_need_easypos[~(\n",
    "            (they_need_easypos.original_length2<=limit_small_rna)&(they_need_easypos.original_length1<=limit_medium_rna)\n",
    "        )]\n",
    "        they_need_easypos = they_need_easypos[~(\n",
    "            (they_need_easypos.original_length1<=limit_small_rna)&(they_need_easypos.original_length2<=limit_medium_rna)\n",
    "        )]\n",
    "\n",
    "    #filter out easypos if the need smartneg and viceversa\n",
    "\n",
    "    they_need_smartneg = they_need_smartneg[(they_need_smartneg.policy == 'smartneg')]\n",
    "    they_need_easypos = they_need_easypos[(they_need_easypos.policy == 'easypos')]\n",
    "\n",
    "    if they_need_smartneg.shape[0] > 0:\n",
    "        they_need_smartneg['min_diff'] = they_need_smartneg.apply(lambda x: min(x.diff1, x.diff2), axis = 1 )\n",
    "    if they_need_easypos.shape[0] > 0:\n",
    "        they_need_easypos['max_diff'] = they_need_easypos.apply(lambda x: max(x.diff1, x.diff2), axis = 1 )"
   ]
  },
  {
   "cell_type": "code",
   "execution_count": 26,
   "id": "bce7ff51-0588-422c-9203-a3fee5cfee1e",
   "metadata": {},
   "outputs": [],
   "source": [
    "if ADJUST:\n",
    "    # create smartnegs\n",
    "\n",
    "    start_time = time.time()\n",
    "\n",
    "    value = they_need_smartneg['min_diff'].max()\n",
    "\n",
    "    while they_need_smartneg.shape[0] > 0:\n",
    "        new_query = df[df.couples.isin(list(they_need_smartneg['couples']))].sample(frac = 1).drop_duplicates(subset=['couples'])\n",
    "\n",
    "        data = get_dataset(ep_per_sample=0, sn_per_sample=1, \n",
    "                      en_persample=0, hn_per_sample=0, \n",
    "                      df_genes=df_genes, df=new_query, subset_file=subset_file, \n",
    "                      pos_width_multipliers=pos_width_multipliers, pos_height_multipliers=pos_height_multipliers, \n",
    "                      neg_width_windows=neg_width_windows, neg_height_windows=neg_height_windows)\n",
    "\n",
    "        for i, sample in enumerate(data):\n",
    "            meta[id_couple] = create_sample_dict(id_couple, sample)\n",
    "            id_couple += 1\n",
    "\n",
    "        df_meta = df_meta_from_meta_dict(meta, do_controls = False)\n",
    "\n",
    "        gene_count = obtain_gene_count_real(df_meta)\n",
    "        df_meta = obtain_pair_diff_distribution(df_meta, gene_count)\n",
    "\n",
    "        they_need_smartneg = df_meta[(df_meta['diff1']>0.7) & (df_meta['diff2']>0.7)]\n",
    "        they_need_smartneg = they_need_smartneg[~(\n",
    "            (they_need_smartneg['gene1'].isin(genes_to_exclude))|(they_need_smartneg['gene2'].isin(genes_to_exclude)) \n",
    "        )]\n",
    "\n",
    "        if EXCLUDE_SMALL_RNA:\n",
    "            #filter out small rna, where I don't want to sample more\n",
    "            they_need_smartneg = they_need_smartneg[~(\n",
    "                (they_need_smartneg.original_length2<=limit_small_rna)&(they_need_smartneg.original_length1<=limit_medium_rna)\n",
    "            )]\n",
    "            they_need_smartneg = they_need_smartneg[~(\n",
    "                (they_need_smartneg.original_length1<=limit_small_rna)&(they_need_smartneg.original_length2<=limit_medium_rna)\n",
    "            )]\n",
    "\n",
    "        they_need_smartneg = they_need_smartneg[(they_need_smartneg.policy == 'smartneg')]\n",
    "        if they_need_smartneg.shape[0] > 0:\n",
    "            they_need_smartneg['min_diff'] = they_need_smartneg.apply(lambda x: min(x.diff1, x.diff2), axis = 1 )\n",
    "            value = they_need_smartneg['min_diff'].max()\n",
    "            print('value:', value)\n",
    "\n",
    "    print(f\"Total time to adjust datasets: {(time.time()-start_time)/60} minutes\")"
   ]
  },
  {
   "cell_type": "code",
   "execution_count": 27,
   "id": "5b3984b7-afca-45d5-899d-f072d9250ab5",
   "metadata": {},
   "outputs": [],
   "source": [
    "if ADJUST:\n",
    "    # create easypos\n",
    "\n",
    "    start_time = time.time()\n",
    "\n",
    "    value = they_need_easypos['max_diff'].min()\n",
    "\n",
    "    while they_need_easypos.shape[0] > 0:\n",
    "\n",
    "        new_query = df[df.couples.isin(list(they_need_easypos['couples']))].sample(frac = 1).drop_duplicates(subset=['couples'])\n",
    "\n",
    "        data = get_dataset(ep_per_sample=1, sn_per_sample=0, \n",
    "                      en_persample=0, hn_per_sample=0, \n",
    "                      df_genes=df_genes, df=new_query, subset_file=subset_file, \n",
    "                      pos_width_multipliers=pos_width_multipliers, pos_height_multipliers=pos_height_multipliers, \n",
    "                      neg_width_windows=neg_width_windows, neg_height_windows=neg_height_windows)\n",
    "\n",
    "        for i, sample in enumerate(data):\n",
    "            meta[id_couple] = create_sample_dict(id_couple, sample)\n",
    "            id_couple += 1\n",
    "\n",
    "        df_meta = df_meta_from_meta_dict(meta, do_controls = False)\n",
    "\n",
    "        gene_count = obtain_gene_count_real(df_meta)\n",
    "        df_meta = obtain_pair_diff_distribution(df_meta, gene_count)\n",
    "\n",
    "        they_need_easypos = df_meta[(df_meta['diff1']<-0.7) & (df_meta['diff2']<-0.7)]\n",
    "        they_need_easypos = they_need_easypos[~(\n",
    "            (they_need_easypos['gene1'].isin(genes_to_exclude))|(they_need_easypos['gene2'].isin(genes_to_exclude)) \n",
    "        )]\n",
    "\n",
    "        #filter out small rna, where I don't want to sample more\n",
    "        if EXCLUDE_SMALL_RNA:\n",
    "            they_need_easypos = they_need_easypos[~(\n",
    "                (they_need_easypos.original_length2<=limit_small_rna)&(they_need_easypos.original_length1<=limit_medium_rna)\n",
    "            )]\n",
    "            they_need_easypos = they_need_easypos[~(\n",
    "                (they_need_easypos.original_length1<=limit_small_rna)&(they_need_easypos.original_length2<=limit_medium_rna)\n",
    "            )]\n",
    "\n",
    "        they_need_easypos = they_need_easypos[(they_need_easypos.policy == 'easypos')]\n",
    "\n",
    "        if they_need_easypos.shape[0] > 0:\n",
    "            they_need_easypos['max_diff'] = they_need_easypos.apply(lambda x: max(x.diff1, x.diff2), axis = 1 )\n",
    "            value = they_need_easypos['max_diff'].min()\n",
    "            print('value:', value)\n",
    "\n",
    "    print(f\"Total time to adjust datasets: {(time.time()-start_time)/60} minutes\")"
   ]
  },
  {
   "cell_type": "code",
   "execution_count": 28,
   "id": "3a0c8ebf-8f89-4f20-a625-5e2981d0a94c",
   "metadata": {},
   "outputs": [
    {
     "name": "stdout",
     "output_type": "stream",
     "text": [
      "# of total sample 83823\n",
      "# of duplicates that help degree balance 20\n"
     ]
    }
   ],
   "source": [
    "print('# of total sample', df_meta.shape[0])\n",
    "print('# of duplicates that help degree balance', df_meta[\n",
    "    df_meta.apply(lambda x: ''.join(sorted([x.id_gene1_sample, x.id_gene2_sample])), axis = 1).duplicated()\n",
    "].shape[0])"
   ]
  },
  {
   "cell_type": "markdown",
   "id": "75acbdc5-2faf-45b3-a559-ced59a83b59d",
   "metadata": {},
   "source": [
    "#### Simulate "
   ]
  },
  {
   "cell_type": "code",
   "execution_count": 29,
   "id": "eddef478-69a3-4a19-b9de-1fc000a687da",
   "metadata": {},
   "outputs": [
    {
     "data": {
      "application/vnd.jupyter.widget-view+json": {
       "model_id": "20dea689b580475d87af3af765a9725c",
       "version_major": 2,
       "version_minor": 0
      },
      "text/plain": [
       "  0%|          | 0/10 [00:00<?, ?it/s]"
      ]
     },
     "metadata": {},
     "output_type": "display_data"
    },
    {
     "data": {
      "image/png": "[encoded data removed]",
      "text/plain": [
       "<Figure size 432x288 with 1 Axes>"
      ]
     },
     "metadata": {
      "needs_background": "light"
     },
     "output_type": "display_data"
    }
   ],
   "source": [
    "couples = []\n",
    "interactings = []\n",
    "for i in tqdm(range(n_epochs)):\n",
    "    train_sampled = balance_df(df_meta.copy().drop(['diff1', 'diff2', 'diff'], axis = 1))\n",
    "    couples += list(train_sampled.couples)\n",
    "    interactings += list(train_sampled.interacting)\n",
    "\n",
    "res = pd.DataFrame({'couples':couples, 'interactings':interactings})\n",
    "new_cols = res.couples.str.extractall('(.*)_(.*)')\n",
    "res['gene1'] = new_cols.reset_index()[0]\n",
    "res['gene2'] = new_cols.reset_index()[1]\n",
    "\n",
    "gene_count_pos_list = list(res[res.interactings].gene1) + list(res[res.interactings].gene2)\n",
    "gene_count_neg_list = list(res[res.interactings == False].gene1) + list(res[res.interactings == False].gene2)\n",
    "gene_count_pos = pd.DataFrame({'gene': gene_count_pos_list, 'interacting':1})\n",
    "gene_count_neg = pd.DataFrame({'gene': gene_count_neg_list, 'interacting':0})\n",
    "gene_count_res = pd.concat([gene_count_pos, gene_count_neg], axis = 0)\n",
    "gene_count_res['n'] = 1\n",
    "gene_count_real = gene_count_res.groupby('gene').sum()\n",
    "gene_count_real['not_interacting'] = gene_count_real['n'] - gene_count_real['interacting']\n",
    "gene_count_real['diff'] = gene_count_real['interacting'] - gene_count_real['not_interacting']\n",
    "gene_count_real = gene_count_real.reset_index()\n",
    "\n",
    "res = obtain_pair_diff_distribution(res, gene_count_real)\n",
    "\n",
    "sns.kdeplot(res['diff']/n_epochs, color = 'red', label = 'empirical')\n",
    "plt.title(f'Gene1 Expected value to be an interactor + Gene2 Expected value be an interactor')\n",
    "plt.show()"
   ]
  },
  {
   "cell_type": "markdown",
   "id": "93e972a8-7575-47b4-8ff9-d00b6dc3c018",
   "metadata": {},
   "source": [
    "#### Hardneg, Easyneg for training"
   ]
  },
  {
   "cell_type": "code",
   "execution_count": 30,
   "id": "3c8401a6-58aa-4521-b85f-1ffe69aaf062",
   "metadata": {},
   "outputs": [],
   "source": [
    "#small policies\n",
    "ep_per_sample_small=0\n",
    "sn_per_sample_small=0\n",
    "en_per_sample_small=0\n",
    "hn_per_sample_small=0\n",
    "\n",
    "#medium policies\n",
    "ep_per_sample_medium=0\n",
    "sn_per_sample_medium=0\n",
    "en_per_sample_medium=0.5\n",
    "hn_per_sample_medium=0.5\n",
    "\n",
    "\n",
    "#big policies\n",
    "ep_per_sample_big=0\n",
    "sn_per_sample_big=0\n",
    "en_per_sample_big=1\n",
    "hn_per_sample_big=1"
   ]
  },
  {
   "cell_type": "code",
   "execution_count": 31,
   "id": "b55af621-0500-4a98-bbb4-e845bc6ebf08",
   "metadata": {},
   "outputs": [
    {
     "data": {
      "application/vnd.jupyter.widget-view+json": {
       "model_id": "74f19c9587194cab80729835968da054",
       "version_major": 2,
       "version_minor": 0
      },
      "text/plain": [
       "0it [00:00, ?it/s]"
      ]
     },
     "metadata": {},
     "output_type": "display_data"
    },
    {
     "data": {
      "application/vnd.jupyter.widget-view+json": {
       "model_id": "86b839a9f47c4fdea5f0f8c64694ddb0",
       "version_major": 2,
       "version_minor": 0
      },
      "text/plain": [
       "  0%|          | 0/7511 [00:00<?, ?it/s]"
      ]
     },
     "metadata": {},
     "output_type": "display_data"
    },
    {
     "data": {
      "application/vnd.jupyter.widget-view+json": {
       "model_id": "9894e41596f747aa83c760fe849e4695",
       "version_major": 2,
       "version_minor": 0
      },
      "text/plain": [
       "  0%|          | 0/1207 [00:00<?, ?it/s]"
      ]
     },
     "metadata": {},
     "output_type": "display_data"
    },
    {
     "name": "stdout",
     "output_type": "stream",
     "text": [
      "Total time to create easyneg, hardneg: 3.9699861645698546 minutes\n"
     ]
    }
   ],
   "source": [
    "start_time = time.time()\n",
    "\n",
    "small = get_dataset(ep_per_sample=ep_per_sample_small, sn_per_sample=sn_per_sample_small, \n",
    "                    en_persample=en_per_sample_small, hn_per_sample=hn_per_sample_small, \n",
    "                    df_genes=df_genes, df=df_small, subset_file=subset_file, \n",
    "                    pos_width_multipliers=pos_width_multipliers, pos_height_multipliers=pos_height_multipliers, \n",
    "                    neg_width_windows=neg_width_windows, neg_height_windows=neg_height_windows)\n",
    "\n",
    "for i, sample in tqdm(enumerate(small), total = len(small)):\n",
    "    meta[id_couple] = create_sample_dict(id_couple, sample)\n",
    "    id_couple += 1\n",
    "    \n",
    "    \n",
    "medium = get_dataset(ep_per_sample=ep_per_sample_medium, sn_per_sample=sn_per_sample_medium,\n",
    "                     en_persample=en_per_sample_medium, hn_per_sample=hn_per_sample_medium, \n",
    "                     df_genes=df_genes, df=df_medium, subset_file=subset_file,\n",
    "                     pos_width_multipliers=pos_width_multipliers, pos_height_multipliers=pos_height_multipliers, \n",
    "                     neg_width_windows=neg_width_windows, neg_height_windows=neg_height_windows)\n",
    "\n",
    "for i, sample in tqdm(enumerate(medium), total = len(medium)):\n",
    "    meta[id_couple] = create_sample_dict(id_couple, sample)\n",
    "    id_couple += 1\n",
    "    \n",
    "    \n",
    "big = get_dataset(ep_per_sample=ep_per_sample_big, sn_per_sample=sn_per_sample_big, \n",
    "                  en_persample=en_per_sample_big, hn_per_sample=hn_per_sample_big, \n",
    "                  df_genes=df_genes, df=df_big, subset_file=subset_file, \n",
    "                  pos_width_multipliers=pos_width_multipliers, pos_height_multipliers=pos_height_multipliers, \n",
    "                  neg_width_windows=neg_width_windows, neg_height_windows=neg_height_windows)\n",
    "\n",
    "for i, sample in tqdm(enumerate(big), total = len(big)):\n",
    "    meta[id_couple] = create_sample_dict(id_couple, sample)\n",
    "    id_couple += 1\n",
    "    \n",
    "print(f\"Total time to create easyneg, hardneg: {(time.time()-start_time)/60} minutes\")"
   ]
  },
  {
   "cell_type": "code",
   "execution_count": 32,
   "id": "33b56426-4343-47e6-9b6f-8addbffc0932",
   "metadata": {},
   "outputs": [],
   "source": [
    "df_meta = df_meta_from_meta_dict(meta, do_controls = False)"
   ]
  },
  {
   "cell_type": "code",
   "execution_count": 33,
   "id": "20913ff5-4d03-42ca-8b4a-eefabbbbb086",
   "metadata": {},
   "outputs": [
    {
     "name": "stdout",
     "output_type": "stream",
     "text": [
      "actual smartneg are the 82.99% of negative pairs\n",
      "actual easyneg are the 8.64% of negative pairs\n",
      "actual hardneg are the 8.37% of negative pairs\n",
      "actual unbalanced factor is 44.6%\n"
     ]
    }
   ],
   "source": [
    "tot_ep = (df_meta.policy == 'easypos').sum()\n",
    "tot_sn = (df_meta.policy == 'smartneg').sum()\n",
    "tot_en = (df_meta.policy == 'easyneg').sum()\n",
    "tot_hn = (df_meta.policy == 'hardneg').sum()\n",
    "tot_neg = (df_meta.interacting == False).sum()\n",
    "assert tot_ep == (df_meta.interacting == True).sum()\n",
    "assert tot_neg == tot_en+tot_sn+tot_hn\n",
    "print(f'actual smartneg are the {np.round( tot_sn/tot_neg *100, 2)}% of negative pairs')\n",
    "print(f'actual easyneg are the {np.round( tot_en/tot_neg *100, 2)}% of negative pairs')\n",
    "print(f'actual hardneg are the {np.round( tot_hn/tot_neg *100, 2)}% of negative pairs')\n",
    "\n",
    "print(f'actual unbalanced factor is {np.round( (tot_ep/(tot_ep+tot_neg))*100, 2)}%')"
   ]
  },
  {
   "cell_type": "code",
   "execution_count": 34,
   "id": "5976f6d9-58db-497b-86f0-7ae32a59b7b0",
   "metadata": {},
   "outputs": [],
   "source": [
    "assert (df_meta.id_gene1_sample.str.extract('(.*)_(.*)_(.*)')[0] == df_meta.gene1).all()\n",
    "assert (df_meta.id_gene2_sample.str.extract('(.*)_(.*)_(.*)')[0] == df_meta.gene2).all()"
   ]
  },
  {
   "cell_type": "code",
   "execution_count": 35,
   "id": "1aa7eae7",
   "metadata": {},
   "outputs": [],
   "source": [
    "df_meta.to_csv(os.path.join(metadata_dir, f'{set_data}{suffix}.csv'), index = False)"
   ]
  },
  {
   "cell_type": "markdown",
   "id": "3711cb42",
   "metadata": {
    "tags": []
   },
   "source": [
    "# Data Loader val"
   ]
  },
  {
   "cell_type": "code",
   "execution_count": 36,
   "id": "a2c89bd0-a6cc-47d8-bd37-e1cb1ea1cb25",
   "metadata": {},
   "outputs": [],
   "source": [
    "#small policies\n",
    "ep_per_sample_small=1\n",
    "sn_per_sample_small=1\n",
    "en_per_sample_small=0\n",
    "hn_per_sample_small=0\n",
    "\n",
    "#medium policies\n",
    "ep_per_sample_medium=2\n",
    "sn_per_sample_medium=2\n",
    "en_per_sample_medium=0.5\n",
    "hn_per_sample_medium=0.5\n",
    "\n",
    "\n",
    "#big policies\n",
    "ep_per_sample_big=3\n",
    "sn_per_sample_big=3\n",
    "en_per_sample_big=1\n",
    "hn_per_sample_big=1"
   ]
  },
  {
   "cell_type": "code",
   "execution_count": 37,
   "id": "4b011077",
   "metadata": {},
   "outputs": [],
   "source": [
    "set_data = 'val' \n",
    "assert set_data in ['training', 'val', 'test']\n",
    "subset_file = os.path.join(rna_rna_files_dir, f\"gene_pairs_{set_data}{suffix}.txt\")\n",
    "\n",
    "meta = {}"
   ]
  },
  {
   "cell_type": "code",
   "execution_count": 38,
   "id": "c9cea6a8",
   "metadata": {},
   "outputs": [
    {
     "data": {
      "application/vnd.jupyter.widget-view+json": {
       "model_id": "41972d8e1c2e414299e0e3725c88d11b",
       "version_major": 2,
       "version_minor": 0
      },
      "text/plain": [
       "  0%|          | 0/10833 [00:00<?, ?it/s]"
      ]
     },
     "metadata": {},
     "output_type": "display_data"
    },
    {
     "data": {
      "application/vnd.jupyter.widget-view+json": {
       "model_id": "fe642dede4a14b299d99203c76f973d1",
       "version_major": 2,
       "version_minor": 0
      },
      "text/plain": [
       "  0%|          | 0/8040 [00:00<?, ?it/s]"
      ]
     },
     "metadata": {},
     "output_type": "display_data"
    },
    {
     "data": {
      "application/vnd.jupyter.widget-view+json": {
       "model_id": "37125c2d776d492980d1d0d72eafed2a",
       "version_major": 2,
       "version_minor": 0
      },
      "text/plain": [
       "  0%|          | 0/948 [00:00<?, ?it/s]"
      ]
     },
     "metadata": {},
     "output_type": "display_data"
    },
    {
     "name": "stdout",
     "output_type": "stream",
     "text": [
      "Total time to create datasets: 0.8912632624308269 minutes\n"
     ]
    }
   ],
   "source": [
    "start_time = time.time()\n",
    "\n",
    "small = get_dataset(ep_per_sample=ep_per_sample_small, sn_per_sample=sn_per_sample_small, \n",
    "                    en_persample=en_per_sample_small, hn_per_sample=hn_per_sample_small, \n",
    "                    df_genes=df_genes, df=df_small, subset_file=subset_file, \n",
    "                    pos_width_multipliers=pos_width_multipliers, pos_height_multipliers=pos_height_multipliers, \n",
    "                    neg_width_windows=neg_width_windows, neg_height_windows=neg_height_windows)\n",
    "\n",
    "for i, sample in tqdm(enumerate(small), total = len(small)):\n",
    "    meta[id_couple] = create_sample_dict(id_couple, sample)\n",
    "    id_couple += 1\n",
    "    \n",
    "    \n",
    "medium = get_dataset(ep_per_sample=ep_per_sample_medium, sn_per_sample=sn_per_sample_medium,\n",
    "                     en_persample=en_per_sample_medium, hn_per_sample=hn_per_sample_medium, \n",
    "                     df_genes=df_genes, df=df_medium, subset_file=subset_file,\n",
    "                     pos_width_multipliers=pos_width_multipliers, pos_height_multipliers=pos_height_multipliers, \n",
    "                     neg_width_windows=neg_width_windows, neg_height_windows=neg_height_windows)\n",
    "\n",
    "for i, sample in tqdm(enumerate(medium), total = len(medium)):\n",
    "    meta[id_couple] = create_sample_dict(id_couple, sample)\n",
    "    id_couple += 1\n",
    "    \n",
    "    \n",
    "big = get_dataset(ep_per_sample=ep_per_sample_big, sn_per_sample=sn_per_sample_big, \n",
    "                  en_persample=en_per_sample_big, hn_per_sample=hn_per_sample_big, \n",
    "                  df_genes=df_genes, df=df_big, subset_file=subset_file, \n",
    "                  pos_width_multipliers=pos_width_multipliers, pos_height_multipliers=pos_height_multipliers, \n",
    "                  neg_width_windows=neg_width_windows, neg_height_windows=neg_height_windows)\n",
    "\n",
    "for i, sample in tqdm(enumerate(big), total = len(big)):\n",
    "    meta[id_couple] = create_sample_dict(id_couple, sample)\n",
    "    id_couple += 1\n",
    "    \n",
    "df_meta = pd.DataFrame.from_dict(meta, 'index')\n",
    "df_meta['lencdna1'] = df_meta.apply(lambda x: len(x.cdna1), axis = 1)\n",
    "df_meta['lencdna2'] = df_meta.apply(lambda x: len(x.cdna2), axis = 1)\n",
    "assert (df_meta['lencdna1'] == df_meta['length_1']).all()\n",
    "assert (df_meta['lencdna2'] == df_meta['length_2']).all()\n",
    "assert ((df_meta.window_x2 - df_meta.window_x1)==(df_meta.lencdna1)).all()\n",
    "assert ((df_meta.window_y2 - df_meta.window_y1)==(df_meta.lencdna2)).all()\n",
    "df_meta = df_meta.drop(['lencdna1', 'lencdna2'], axis = 1)\n",
    "\n",
    "m = df_meta[df_meta.policy.isin({'smartneg', 'easypos'})]\n",
    "assert (m.x1 >= 0).all()\n",
    "assert (m.y1 >= 0).all()\n",
    "assert (m.x2 <= m.length_1).all()\n",
    "assert (m.y2 <= m.length_2).all()\n",
    "\n",
    "assert df_meta[df_meta.length_1==df_meta.original_length1][['gene1', 'id_gene1_sample']].groupby('gene1').nunique().max().iloc[0] == 1\n",
    "assert df_meta[df_meta.length_2==df_meta.original_length2][['gene2', 'id_gene2_sample']].groupby('gene2').nunique().max().iloc[0] == 1\n",
    "\n",
    "print(f\"Total time to create datasets: {(time.time()-start_time)/60} minutes\")"
   ]
  },
  {
   "cell_type": "code",
   "execution_count": 39,
   "id": "85f4165b-3c96-4900-81b7-369ea1f72c5a",
   "metadata": {},
   "outputs": [],
   "source": [
    "df_meta.to_csv(os.path.join(metadata_dir, f'{set_data}{suffix}.csv'), index = False)"
   ]
  },
  {
   "cell_type": "code",
   "execution_count": 40,
   "id": "87b834fc-496b-4b66-a35e-b84464b32def",
   "metadata": {},
   "outputs": [
    {
     "data": {
      "text/plain": [
       "False    10951\n",
       "True      8870\n",
       "Name: interacting, dtype: int64"
      ]
     },
     "execution_count": 40,
     "metadata": {},
     "output_type": "execute_result"
    }
   ],
   "source": [
    "df_meta.interacting.value_counts()"
   ]
  },
  {
   "cell_type": "markdown",
   "id": "effaefa5",
   "metadata": {},
   "source": [
    "I have to undersample df_meta because I want a balanced validation set. I will exclude easyneg, hardneg and smartneg where both genes are in the training set."
   ]
  },
  {
   "cell_type": "code",
   "execution_count": 41,
   "id": "97a8667c",
   "metadata": {},
   "outputs": [],
   "source": [
    "#undersample df_meta\n",
    "\n",
    "df_meta = df_meta[df_meta.policy.isin(['smartneg','easypos'])]\n",
    "df_not_in_train = df_meta[~( (df_meta.gene1.isin(genes_train))|(df_meta.gene2.isin(genes_train)) )]\n",
    "\n",
    "if df_meta.interacting.value_counts()[False] >= df_meta.interacting.value_counts()[True]:\n",
    "    n_to_exclude = df_meta.interacting.value_counts()[False] - df_meta.interacting.value_counts()[True]\n",
    "    df_to_sample = df_meta[(df_meta.gene1.isin(genes_train))&(df_meta.gene2.isin(genes_train))&(df_meta.interacting == False)]\n",
    "else:\n",
    "    n_to_exclude = df_meta.interacting.value_counts()[True] - df_meta.interacting.value_counts()[False]\n",
    "    df_to_sample = df_meta[(df_meta.gene1.isin(genes_train))&(df_meta.gene2.isin(genes_train))&(df_meta.interacting == True)]\n",
    "    \n",
    "ids_to_eclude = set(df_to_sample.sample(frac = 1).head(n_to_exclude).id_sample)\n",
    "assert set(ids_to_eclude).intersection(set(df_not_in_train.id_sample)) == set()\n",
    "df_meta = df_meta[~df_meta.id_sample.isin(ids_to_eclude)]\n",
    "assert np.isclose(1, df_meta.interacting.value_counts()[True]/df_meta.interacting.value_counts()[False])\n",
    "df_meta = df_meta.reset_index(drop = True)\n",
    "\n",
    "df_meta.to_csv(os.path.join(metadata_dir, f'{set_data}{suffix}_sampled.csv'), index = False)"
   ]
  },
  {
   "cell_type": "markdown",
   "id": "83fa3a7c",
   "metadata": {
    "tags": []
   },
   "source": [
    "# Data Loader test "
   ]
  },
  {
   "cell_type": "code",
   "execution_count": 73,
   "id": "90bb915e-d212-484d-a8d4-41c0a5268a45",
   "metadata": {},
   "outputs": [],
   "source": [
    "#small policies\n",
    "ep_per_sample_small=1\n",
    "sn_per_sample_small=1\n",
    "en_per_sample_small=1\n",
    "hn_per_sample_small=1\n",
    "\n",
    "#medium policies\n",
    "ep_per_sample_medium=1\n",
    "sn_per_sample_medium=1\n",
    "en_per_sample_medium=1\n",
    "hn_per_sample_medium=1\n",
    "\n",
    "\n",
    "#big policies\n",
    "ep_per_sample_big=1\n",
    "sn_per_sample_big=1\n",
    "en_per_sample_big=1\n",
    "hn_per_sample_big=1"
   ]
  },
  {
   "cell_type": "code",
   "execution_count": 74,
   "id": "12a2e9ea",
   "metadata": {},
   "outputs": [],
   "source": [
    "set_data = 'test' \n",
    "assert set_data in ['training', 'val', 'test']\n",
    "subset_file = os.path.join(rna_rna_files_dir,  f\"gene_pairs_{set_data}{suffix}.txt\")\n",
    "\n",
    "meta = {}"
   ]
  },
  {
   "cell_type": "code",
   "execution_count": 75,
   "id": "bad38ce3-3d86-4c45-b996-6e45141a8263",
   "metadata": {},
   "outputs": [],
   "source": [
    "df_meta = pd.read_csv(os.path.join(metadata_dir, f'val{suffix}.csv'))\n",
    "assert df_meta.iloc[-1].id_sample == max(df_meta.id_sample)\n",
    "id_couple = df_meta.iloc[-1].id_sample + 1"
   ]
  },
  {
   "cell_type": "code",
   "execution_count": null,
   "id": "c015aa26-c8bc-4e95-80ba-edfc210d8e5b",
   "metadata": {},
   "outputs": [],
   "source": [
    "start_time = time.time()\n",
    "\n",
    "small = get_dataset(ep_per_sample=ep_per_sample_small, sn_per_sample=sn_per_sample_small, \n",
    "                    en_persample=en_per_sample_small, hn_per_sample=hn_per_sample_small, \n",
    "                    df_genes=df_genes, df=df_small, subset_file=subset_file, \n",
    "                    pos_width_multipliers=pos_width_multipliers, pos_height_multipliers=pos_height_multipliers, \n",
    "                    neg_width_windows=neg_width_windows, neg_height_windows=neg_height_windows)\n",
    "\n",
    "for i, sample in tqdm(enumerate(small), total = len(small)):\n",
    "    meta[id_couple] = create_sample_dict(id_couple, sample)\n",
    "    id_couple += 1\n",
    "    \n",
    "    \n",
    "medium = get_dataset(ep_per_sample=ep_per_sample_medium, sn_per_sample=sn_per_sample_medium,\n",
    "                     en_persample=en_per_sample_medium, hn_per_sample=hn_per_sample_medium, \n",
    "                     df_genes=df_genes, df=df_medium, subset_file=subset_file,\n",
    "                     pos_width_multipliers=pos_width_multipliers, pos_height_multipliers=pos_height_multipliers, \n",
    "                     neg_width_windows=neg_width_windows, neg_height_windows=neg_height_windows)\n",
    "\n",
    "for i, sample in tqdm(enumerate(medium), total = len(medium)):\n",
    "    meta[id_couple] = create_sample_dict(id_couple, sample)\n",
    "    id_couple += 1\n",
    "    \n",
    "    \n",
    "big = get_dataset(ep_per_sample=ep_per_sample_big, sn_per_sample=sn_per_sample_big, \n",
    "                  en_persample=en_per_sample_big, hn_per_sample=hn_per_sample_big, \n",
    "                  df_genes=df_genes, df=df_big, subset_file=subset_file, \n",
    "                  pos_width_multipliers=pos_width_multipliers, pos_height_multipliers=pos_height_multipliers, \n",
    "                  neg_width_windows=neg_width_windows, neg_height_windows=neg_height_windows)\n",
    "\n",
    "for i, sample in tqdm(enumerate(big), total = len(big)):\n",
    "    meta[id_couple] = create_sample_dict(id_couple, sample)\n",
    "    id_couple += 1\n",
    "    \n",
    "df_meta = pd.DataFrame.from_dict(meta, 'index')\n",
    "df_meta['lencdna1'] = df_meta.apply(lambda x: len(x.cdna1), axis = 1)\n",
    "df_meta['lencdna2'] = df_meta.apply(lambda x: len(x.cdna2), axis = 1)\n",
    "assert (df_meta['lencdna1'] == df_meta['length_1']).all()\n",
    "assert (df_meta['lencdna2'] == df_meta['length_2']).all()\n",
    "assert ((df_meta.window_x2 - df_meta.window_x1)==(df_meta.lencdna1)).all()\n",
    "assert ((df_meta.window_y2 - df_meta.window_y1)==(df_meta.lencdna2)).all()\n",
    "df_meta = df_meta.drop(['lencdna1', 'lencdna2'], axis = 1)\n",
    "\n",
    "m = df_meta[df_meta.policy.isin({'smartneg', 'easypos'})]\n",
    "assert (m.x1 >= 0).all()\n",
    "assert (m.y1 >= 0).all()\n",
    "assert (m.x2 <= m.length_1).all()\n",
    "assert (m.y2 <= m.length_2).all()\n",
    "\n",
    "assert df_meta[df_meta.length_1==df_meta.original_length1][['gene1', 'id_gene1_sample']].groupby('gene1').nunique().max().iloc[0] == 1\n",
    "assert df_meta[df_meta.length_2==df_meta.original_length2][['gene2', 'id_gene2_sample']].groupby('gene2').nunique().max().iloc[0] == 1\n",
    "\n",
    "print(f\"Total time to create datasets: {(time.time()-start_time)/60} minutes\")"
   ]
  },
  {
   "cell_type": "code",
   "execution_count": 16,
   "id": "ba720677-4faf-4da1-b0ff-4bc6f06e0b30",
   "metadata": {},
   "outputs": [],
   "source": [
    "df_meta.to_csv(os.path.join(metadata_dir, f'{set_data}{suffix}.csv'), index = False)"
   ]
  },
  {
   "cell_type": "code",
   "execution_count": 17,
   "id": "71ed9be9-ad22-4fa5-bc62-2872554da17b",
   "metadata": {},
   "outputs": [
    {
     "data": {
      "text/plain": [
       "False    45237\n",
       "True     14731\n",
       "Name: interacting, dtype: int64"
      ]
     },
     "execution_count": 17,
     "metadata": {},
     "output_type": "execute_result"
    }
   ],
   "source": [
    "df_meta.interacting.value_counts()"
   ]
  },
  {
   "cell_type": "code",
   "execution_count": 18,
   "id": "7e29b709",
   "metadata": {},
   "outputs": [],
   "source": [
    "#undersample df_meta\n",
    "\n",
    "df_meta = df_meta[df_meta.policy.isin(['smartneg','easypos'])]\n",
    "df_not_in_train = df_meta[~( (df_meta.gene1.isin(genes_train))|(df_meta.gene2.isin(genes_train)) )]\n",
    "\n",
    "if df_meta.interacting.value_counts()[False] >= df_meta.interacting.value_counts()[True]:\n",
    "    n_to_exclude = df_meta.interacting.value_counts()[False] - df_meta.interacting.value_counts()[True]\n",
    "    df_to_sample = df_meta[(df_meta.gene1.isin(genes_train))&(df_meta.gene2.isin(genes_train))&(df_meta.interacting == False)]\n",
    "else:\n",
    "    n_to_exclude = df_meta.interacting.value_counts()[True] - df_meta.interacting.value_counts()[False]\n",
    "    df_to_sample = df_meta[(df_meta.gene1.isin(genes_train))&(df_meta.gene2.isin(genes_train))&(df_meta.interacting == True)]\n",
    "    \n",
    "ids_to_eclude = set(df_to_sample.sample(frac = 1).head(n_to_exclude).id_sample)\n",
    "assert set(ids_to_eclude).intersection(set(df_not_in_train.id_sample)) == set()\n",
    "df_meta = df_meta[~df_meta.id_sample.isin(ids_to_eclude)]\n",
    "assert np.isclose(1, df_meta.interacting.value_counts()[True]/df_meta.interacting.value_counts()[False])\n",
    "df_meta = df_meta.reset_index(drop = True)\n",
    "\n",
    "df_meta.to_csv(os.path.join(metadata_dir, f'{set_data}{suffix}_sampled.csv'), index = False)"
   ]
  },
  {
   "cell_type": "code",
   "execution_count": 19,
   "id": "1ac6fb3c-a4e6-4a8c-9810-1cb74ea86d67",
   "metadata": {},
   "outputs": [
    {
     "data": {
      "text/plain": [
       "True     14731\n",
       "False    14731\n",
       "Name: interacting, dtype: int64"
      ]
     },
     "execution_count": 19,
     "metadata": {},
     "output_type": "execute_result"
    }
   ],
   "source": [
    "df_meta.interacting.value_counts()"
   ]
  },
  {
   "cell_type": "markdown",
   "id": "76373036-6ba7-4494-bfdc-f3d1bbfae53a",
   "metadata": {},
   "source": [
    "# Create the embedding query"
   ]
  },
  {
   "cell_type": "code",
   "execution_count": 20,
   "id": "ceb2b412-dd99-4567-bc36-ff0316d146b9",
   "metadata": {},
   "outputs": [],
   "source": [
    "#import data \n",
    "train = pd.read_csv(os.path.join(metadata_dir, f'training{suffix}.csv'))\n",
    "val = pd.read_csv(os.path.join(metadata_dir, f'val{suffix}.csv'))\n",
    "test = pd.read_csv(os.path.join(metadata_dir, f'test{suffix}.csv'))"
   ]
  },
  {
   "cell_type": "code",
   "execution_count": 21,
   "id": "9a967c4b-d32a-4074-a22e-8a3a269a2259",
   "metadata": {},
   "outputs": [],
   "source": [
    "def create_query_df(df):\n",
    "    df1 = df[['id_gene1_sample', 'cdna1']].drop_duplicates().rename({'id_gene1_sample':'id_query', 'cdna1':'cdna'}, axis = 1)\n",
    "    df2 = df[['id_gene2_sample', 'cdna2']].drop_duplicates().rename({'id_gene2_sample':'id_query', 'cdna2':'cdna'}, axis = 1)\n",
    "    df = pd.concat([df1, df2], axis = 0).drop_duplicates().reset_index(drop = True)\n",
    "    return df"
   ]
  },
  {
   "cell_type": "code",
   "execution_count": 22,
   "id": "9f09f1c4-c490-4a47-940e-713793aa0fd1",
   "metadata": {},
   "outputs": [],
   "source": [
    "train_query = create_query_df(train)\n",
    "val_query = create_query_df(val)\n",
    "test_query = create_query_df(test)\n",
    "df_query = pd.concat([train_query, val_query, test_query], axis = 0).drop_duplicates().reset_index(drop = True)\n",
    "del train_query\n",
    "del val_query\n",
    "del test_query"
   ]
  },
  {
   "cell_type": "code",
   "execution_count": 23,
   "id": "0c66e292-93ac-48d0-b45b-41134844ec60",
   "metadata": {},
   "outputs": [],
   "source": [
    "query_train = set(train['id_gene1_sample']).union(set(train['id_gene2_sample']))\n",
    "query_val = set(val['id_gene1_sample']).union(set(val['id_gene2_sample']))\n",
    "query_test = set(test['id_gene1_sample']).union(set(test['id_gene2_sample']))\n",
    "query = set(query_train).union(query_val).union(query_test)\n",
    "\n",
    "#the 2 assert below also means that there are unique cdna per id_query\n",
    "assert len(df_query.id_query) == len(query)\n",
    "assert set(df_query.id_query) == query"
   ]
  },
  {
   "cell_type": "code",
   "execution_count": 24,
   "id": "0fbf9bdc-ff2e-4ce5-9496-c3d3ccf66f14",
   "metadata": {},
   "outputs": [],
   "source": [
    "# df_change = pd.read_csv('error.txt', sep = '\\t', header = None)\n",
    "\n",
    "# for _, row in df_change.iterrows():\n",
    "#     assert os.path.isfile(row[0])\n",
    "#     os.remove(row[0])\n",
    "#     assert os.path.isfile(row[0]) == False\n",
    "\n",
    "# import re\n",
    "# subset = []\n",
    "# for _, row in df_change.iterrows():\n",
    "#     gene_name_pattern = r'\\/(\\w+_\\d+_\\d+)\\.npy'\n",
    "#     match = re.search(gene_name_pattern, row[0])\n",
    "#     assert match\n",
    "#     gene_name = match.group(1)\n",
    "#     subset.append(gene_name)\n",
    "    \n",
    "# df_query = df_query[df_query.id_query.isin(subset)].reset_index(drop = True)"
   ]
  },
  {
   "cell_type": "code",
   "execution_count": 25,
   "id": "9760cc10-b08f-4da2-b20f-2d86d185de4b",
   "metadata": {},
   "outputs": [],
   "source": [
    "all_files = os.listdir(os.path.join(embedding_dir, '32'))\n",
    "all_files = list(pd.Series(all_files).str.extractall('(.*)\\.npy').reset_index()[0])\n",
    "df_query = df_query[~df_query.id_query.isin(all_files)]"
   ]
  },
  {
   "cell_type": "code",
   "execution_count": 35,
   "id": "689db99d-4de0-463a-9651-43da944681f6",
   "metadata": {},
   "outputs": [],
   "source": [
    "df_query.to_csv(os.path.join(metadata_dir, f'embedding_query.csv'), index = False)"
   ]
  },
  {
   "cell_type": "code",
   "execution_count": 33,
   "id": "5d862d2c",
   "metadata": {},
   "outputs": [
    {
     "name": "stdout",
     "output_type": "stream",
     "text": [
      "estimated # hours: 17.01\n",
      "estimated # days: 0.71\n",
      "estimated terabytes (pessimistic): 0.74\n",
      "estimated terabytes (realistic): 0.48\n"
     ]
    }
   ],
   "source": [
    "def estimate_time_and_space(n_samples):\n",
    "    #TIME\n",
    "    minutes = 3219*n_samples/(228278)\n",
    "    hours = minutes/60\n",
    "    days = hours/24\n",
    "    print('estimated # hours:', np.round(hours, 2))\n",
    "    print('estimated # days:', np.round(days, 2))\n",
    "\n",
    "    mb = 10.2*n_samples\n",
    "    gb = mb/1000\n",
    "    tb = gb/1000\n",
    "    print('estimated terabytes (pessimistic):', np.round(tb, 2))\n",
    "    mb = 1995*n_samples/(300)\n",
    "    gb = mb/1000\n",
    "    tb = gb/1000\n",
    "    print('estimated terabytes (realistic):', np.round(tb, 2))\n",
    "estimate_time_and_space(df_query.shape[0])"
   ]
  },
  {
   "cell_type": "code",
   "execution_count": 52,
   "id": "355c5a0b-5696-4f6e-ab07-b3eaace833d4",
   "metadata": {},
   "outputs": [
    {
     "name": "stdout",
     "output_type": "stream",
     "text": [
      "{'n_files': 1188028, 'gigabytes': 11288.892962304002, 'terabytes': 11.288892962304002}\n"
     ]
    }
   ],
   "source": [
    "def get_directory_size(directory):\n",
    "    total_size = 0\n",
    "    n_files = 0\n",
    "    # Walk through all the files and subdirectories in the directory\n",
    "    for path, dirs, files in os.walk(directory):\n",
    "        for file in files:\n",
    "            file_path = os.path.join(path, file)\n",
    "            total_size += os.stat(file_path).st_size\n",
    "            n_files+=1\n",
    "\n",
    "    # Convert the size to a human-readable format\n",
    "    size_in_bytes = total_size\n",
    "    size_in_kilobytes = total_size / 1000\n",
    "    size_in_megabytes = size_in_kilobytes / 1000\n",
    "    size_in_gigabytes = size_in_megabytes / 1000\n",
    "    size_in_terabytes = size_in_gigabytes / 1000\n",
    "\n",
    "    return {\n",
    "        \"n_files\":n_files,\n",
    "        # \"bytes\": size_in_bytes,\n",
    "        # \"kilobytes\": size_in_kilobytes,\n",
    "        # \"megabytes\": size_in_megabytes,\n",
    "        \"gigabytes\": size_in_gigabytes, \n",
    "        \"terabytes\": size_in_terabytes, \n",
    "    }\n",
    "\n",
    "# Usage example\n",
    "directory_path = os.path.join(embedding_dir)\n",
    "directory_size = get_directory_size(directory_path)\n",
    "print(directory_size)"
   ]
  },
  {
   "cell_type": "markdown",
   "id": "41fa8b3e-38e5-4c8e-a5f9-dc30302d6c52",
   "metadata": {},
   "source": [
    "# Create df_genes_nt and df_nt"
   ]
  },
  {
   "cell_type": "code",
   "execution_count": 77,
   "id": "02b95f90-3891-4e60-b0ea-ebc34f386fe0",
   "metadata": {},
   "outputs": [],
   "source": [
    "#import data \n",
    "train = pd.read_csv(os.path.join(metadata_dir, f'training{suffix}.csv'))\n",
    "val = pd.read_csv(os.path.join(metadata_dir, f'val{suffix}.csv'))\n",
    "test = pd.read_csv(os.path.join(metadata_dir,  f'test{suffix}.csv'))\n",
    "\n",
    "val_sampled = pd.read_csv(os.path.join(metadata_dir, f'val{suffix}_sampled.csv'))\n",
    "test_sampled = pd.read_csv(os.path.join(metadata_dir, f'test{suffix}_sampled.csv'))"
   ]
  },
  {
   "cell_type": "code",
   "execution_count": 78,
   "id": "d6fc61cd-4428-46b0-9857-5ecbe4d70959",
   "metadata": {},
   "outputs": [],
   "source": [
    "def swap_if_needed(df):\n",
    "    df['actual_couples'] = df.gene1 + '_' + df.gene2\n",
    "    df['need_to_swap'] = df.couples!=df.actual_couples\n",
    "    where = df.need_to_swap\n",
    "    df.loc[where, ['gene1', 'gene2']] = (df.loc[where, ['gene2', 'gene1']].values)\n",
    "    df.loc[where, ['length_1', 'length_2']] = (df.loc[where, ['length_2', 'length_1']].values)\n",
    "    df.loc[where, ['protein_coding_1', 'protein_coding_2']] = (df.loc[where, ['protein_coding_2', 'protein_coding_1']].values)\n",
    "    df.loc[where, ['x1', 'y1']] = (df.loc[where, ['y1', 'x1']].values)\n",
    "    df.loc[where, ['x2', 'y2']] = (df.loc[where, ['y2', 'x2']].values)\n",
    "    df.loc[where, ['cdna1', 'cdna2']] = (df.loc[where, ['cdna2', 'cdna1']].values)\n",
    "    df.loc[where, ['original_x1', 'original_y1']] = (df.loc[where, ['original_y1', 'original_x1']].values)\n",
    "    df.loc[where, ['original_x2', 'original_y2']] = (df.loc[where, ['original_y2', 'original_x2']].values)\n",
    "    df.loc[where, ['window_x1', 'window_y1']] = (df.loc[where, ['window_y1', 'window_x1']].values)\n",
    "    df.loc[where, ['window_x2', 'window_y2']] = (df.loc[where, ['window_y2', 'window_x2']].values)\n",
    "    df.loc[where, ['original_length1', 'original_length2']] = (df.loc[where, ['original_length2', 'original_length1']].values)\n",
    "    df.loc[where, ['id_gene1_sample', 'id_gene2_sample']] = (df.loc[where, ['id_gene2_sample', 'id_gene1_sample']].values)\n",
    "    if ('diff1' in df.columns)&('diff2' in df.columns):\n",
    "        df.loc[where, ['diff1', 'diff2']] = (df.loc[where, ['diff2', 'diff1']].values)\n",
    "    df['actual_couples'] = df.gene1 + '_' + df.gene2\n",
    "    assert (df.couples==df.actual_couples).all()\n",
    "    return df.drop(['need_to_swap', 'actual_couples'], axis = 1)"
   ]
  },
  {
   "cell_type": "code",
   "execution_count": 79,
   "id": "d64ceac5-f03c-4ced-ac0c-77999e13b2eb",
   "metadata": {},
   "outputs": [],
   "source": [
    "train = swap_if_needed(train)\n",
    "val = swap_if_needed(val)\n",
    "test = swap_if_needed(test)\n",
    "\n",
    "val_sampled = swap_if_needed(val_sampled)\n",
    "test_sampled = swap_if_needed(test_sampled)"
   ]
  },
  {
   "cell_type": "code",
   "execution_count": 80,
   "id": "bc58b8d2-e1d4-40ff-9ae5-df9915e87405",
   "metadata": {},
   "outputs": [],
   "source": [
    "assert len(set(train.id_sample)) == len(train)\n",
    "assert len(set(test.id_sample)) == len(test)\n",
    "assert len(set(val.id_sample)) == len(val)\n",
    "\n",
    "assert set(val.id_sample).intersection(set(train.id_sample)) == set()\n",
    "assert set(test.id_sample).intersection(set(train.id_sample)) == set()\n",
    "assert set(val.id_sample).intersection(set(test.id_sample)) == set()\n",
    "\n",
    "assert set(val.id_sample).intersection(set(val_sampled.id_sample)) == set(val_sampled.id_sample)\n",
    "assert set(test.id_sample).intersection(set(test_sampled.id_sample)) == set(test_sampled.id_sample)"
   ]
  },
  {
   "cell_type": "code",
   "execution_count": 81,
   "id": "6895e0eb-347b-4dda-81db-c5d9c52da19b",
   "metadata": {},
   "outputs": [
    {
     "name": "stdout",
     "output_type": "stream",
     "text": [
      "train: 92541\n",
      "test: 28822\n",
      "val: 19821\n",
      "test_sampled: 14180\n",
      "val_sampled: 17740\n"
     ]
    }
   ],
   "source": [
    "train['couples_id'] = train['couples']\n",
    "train['couples'] = train['id_sample']\n",
    "\n",
    "val['couples_id'] = val['couples']\n",
    "val['couples'] = val['id_sample']\n",
    "\n",
    "test['couples_id'] = test['couples']\n",
    "test['couples'] = test['id_sample']\n",
    "\n",
    "\n",
    "\n",
    "val_sampled['couples_id'] = val_sampled['couples']\n",
    "val_sampled['couples'] = val_sampled['id_sample']\n",
    "\n",
    "test_sampled['couples_id'] = test_sampled['couples']\n",
    "test_sampled['couples'] = test_sampled['id_sample']\n",
    "\n",
    "\n",
    "# export subsets\n",
    "\n",
    "with open(os.path.join(rna_rna_files_dir, f\"gene_pairs_training_nt{suffix}.txt\"), \"wb\") as fp:   #Pickling\n",
    "    pickle.dump(list(set(train.couples)), fp)\n",
    "    \n",
    "with open(os.path.join(rna_rna_files_dir, f\"gene_pairs_test_nt{suffix}.txt\"), \"wb\") as fp:   #Pickling\n",
    "    pickle.dump(list(set(test.couples)), fp)\n",
    "    \n",
    "with open(os.path.join(rna_rna_files_dir, f\"gene_pairs_val_nt{suffix}.txt\"), \"wb\") as fp:   #Pickling\n",
    "    pickle.dump(list(set(val.couples)), fp)\n",
    "\n",
    "    \n",
    "with open(os.path.join(rna_rna_files_dir, f\"gene_pairs_test_sampled_nt{suffix}.txt\"), \"wb\") as fp:   #Pickling\n",
    "    pickle.dump(list(set(test_sampled.couples)), fp)\n",
    "    \n",
    "with open(os.path.join(rna_rna_files_dir, f\"gene_pairs_val_sampled_nt{suffix}.txt\"), \"wb\") as fp:   #Pickling\n",
    "    pickle.dump(list(set(val_sampled.couples)), fp)\n",
    "\n",
    "print('train:', len(list(set(train.couples))))\n",
    "print('test:', len(list(set(test.couples))))\n",
    "print('val:', len(list(set(val.couples))))\n",
    "print('test_sampled:', len(list(set(test_sampled.couples))))\n",
    "print('val_sampled:', len(list(set(val_sampled.couples))))"
   ]
  },
  {
   "cell_type": "markdown",
   "id": "3785c2f1-a138-40f2-9c62-6f7ca26337db",
   "metadata": {},
   "source": [
    "##### Create the file for fine tuning. \n",
    "This file has val+training data, but I exclude all the samples that are in the test set but not in the training so that I can keep estimation over those samples independent from the tranining procedure."
   ]
  },
  {
   "cell_type": "code",
   "execution_count": 82,
   "id": "f3af869a-d925-42d2-b0b2-d4f012dc9060",
   "metadata": {},
   "outputs": [
    {
     "name": "stdout",
     "output_type": "stream",
     "text": [
      "train+val, fine tuning: 111423\n"
     ]
    }
   ],
   "source": [
    "training_genes = set(train.gene1).union(train.gene2)\n",
    "test_genes = set(test.gene1).union(test.gene2)\n",
    "\n",
    "genes_in_test_not_train = test_genes-training_genes\n",
    "\n",
    "val_subset = val[~ (   (val.gene1.isin(genes_in_test_not_train)) | (val.gene2.isin(genes_in_test_not_train))   ) ]\n",
    "\n",
    "with open(os.path.join(rna_rna_files_dir, f\"gene_pairs_train_val_fine_tuning_nt{suffix}.txt\"), \"wb\") as fp:   #Pickling\n",
    "    pickle.dump(list(set(train.couples).union(val_subset.couples)), fp)\n",
    "    \n",
    "print('train+val, fine tuning:', len(list(set(train.couples).union(val_subset.couples))))"
   ]
  },
  {
   "cell_type": "markdown",
   "id": "ebeed349-877f-41bb-b218-124463a20c15",
   "metadata": {},
   "source": [
    "##### Create fake_interaction_region"
   ]
  },
  {
   "cell_type": "code",
   "execution_count": 83,
   "id": "52b10ba5-bc6d-4c07-ac05-65e23c22ab69",
   "metadata": {},
   "outputs": [],
   "source": [
    "#create fake_interaction_region\n",
    "interaction_size= 16\n",
    "\n",
    "def create_fake_interaction_region(df, interaction_size=16):\n",
    "    subset = df[df.policy.isin(['hardneg', 'easyneg'])]\n",
    "    \n",
    "    length1_values = subset['length_1'].values - interaction_size\n",
    "    length2_values = subset['length_2'].values - interaction_size\n",
    "\n",
    "    # Generate random indices within the length1 range\n",
    "    x1_indices = np.random.randint(0, length1_values, size=len(subset))\n",
    "    x2_indices = x1_indices + interaction_size  # Ensure a distance of interaction_size between x1 and x2\n",
    "\n",
    "    # Generate random indices within the length2 range\n",
    "    y1_indices = np.random.randint(0, length2_values, size=len(subset))\n",
    "    y2_indices = y1_indices + interaction_size  # Ensure a distance of interaction_size between y1 and y2\n",
    "    \n",
    "    df.loc[df.policy.isin(['hardneg', 'easyneg']), 'x1'] = x1_indices\n",
    "    df.loc[df.policy.isin(['hardneg', 'easyneg']), 'x2'] = x2_indices\n",
    "    df.loc[df.policy.isin(['hardneg', 'easyneg']), 'y1'] = y1_indices\n",
    "    df.loc[df.policy.isin(['hardneg', 'easyneg']), 'y2'] = y2_indices\n",
    "    return df\n",
    "\n",
    "\n",
    "train = create_fake_interaction_region(train)\n",
    "test = create_fake_interaction_region(test)\n",
    "val = create_fake_interaction_region(val)\n",
    "\n",
    "assert (train.x2<=train.length_1).all()\n",
    "assert (test.x2<=test.length_1).all()\n",
    "assert (val.x2<=val.length_1).all()\n",
    "\n",
    "assert (train.x1>=0).all()\n",
    "assert (test.x1>=0).all()\n",
    "assert (val.x1>=0).all()\n",
    "\n",
    "subset = train[train.policy.isin(['hardneg', 'easyneg'])]\n",
    "assert ((subset.x2-subset.x1) == interaction_size).all()\n",
    "subset = test[test.policy.isin(['hardneg', 'easyneg'])]\n",
    "assert ((subset.x2-subset.x1) == interaction_size).all()\n",
    "subset = val[val.policy.isin(['hardneg', 'easyneg'])]\n",
    "assert ((subset.x2-subset.x1) == interaction_size).all()"
   ]
  },
  {
   "cell_type": "code",
   "execution_count": 84,
   "id": "853fc785-7fb1-4ac5-978d-977e6eed6d2a",
   "metadata": {},
   "outputs": [],
   "source": [
    "df_full = pd.concat([train, val, test], axis = 0)\n",
    "df_full = df_full.rename({'gene1':'gene1_id', 'gene2':'gene2_id'}, axis = 1)\n",
    "df_full = df_full.rename({'id_gene1_sample':'gene1', 'id_gene2_sample':'gene2'}, axis = 1)"
   ]
  },
  {
   "cell_type": "code",
   "execution_count": 85,
   "id": "6ec8c7a7-3a45-43bb-8e75-150452e7ed7e",
   "metadata": {},
   "outputs": [],
   "source": [
    "df_nt = df_full.copy()\n",
    "df_nt['w'] = df_nt['x2'] - df_nt['x1']\n",
    "df_nt['h'] = df_nt['y2'] - df_nt['y1']\n",
    "column_order = ['couples','gene1','gene2','interacting',\n",
    "                'length_1','length_2','protein_coding_1','protein_coding_2',\n",
    "                'x1','y1','w','h', 'policy',\n",
    "                'original_x1','original_x2',\n",
    "                'original_y1','original_y2',\n",
    "                'id_gene1_sample','id_gene2_sample', 'couples_id',\n",
    "               ]\n",
    "df_nt = df_nt.drop_duplicates(subset = [\n",
    "    'couples','gene1','gene2','interacting',\n",
    "    'length_1','length_2','protein_coding_1',\n",
    "    'protein_coding_2','x1','y1','w','h',\n",
    "    'policy','original_x1','original_x2',\n",
    "    'original_y1','original_y2','couples_id'\n",
    "]).reset_index(drop = True)\n",
    "df_nt = df_nt.filter(column_order, axis = 1)\n",
    "\n",
    "#crea coordinate per easyneg e hardneg\n",
    "df_nt.to_csv(os.path.join(metadata_dir, f'df_nt{suffix}.csv'), index = False)"
   ]
  },
  {
   "cell_type": "code",
   "execution_count": 86,
   "id": "576d5a86-6797-4265-83bf-3445aeff2cdf",
   "metadata": {},
   "outputs": [],
   "source": [
    "column_order = [\n",
    "    'gene1','gene2','id_gene1_sample','id_gene2_sample',\n",
    "    'original_length1','original_length2', 'cdna1', 'cdna2',\n",
    "    'window_x1','window_x2','window_y1','window_y2', \n",
    "    'gene1_id', 'gene2_id', 'protein_coding_1',  'protein_coding_2'\n",
    "]\n",
    "\n",
    "df_g = df_full.filter(column_order, axis = 1)\n",
    "\n",
    "df_g1 = df_g.filter(\n",
    "    [\n",
    "    'gene1', \n",
    "    'id_gene1_sample', \n",
    "    'cdna1', \n",
    "    'window_x1',\n",
    "    'window_x2', \n",
    "    'gene1_id',\n",
    "    'protein_coding_1', \n",
    "    'length_1',\n",
    "    'original_length1', \n",
    "    ]\n",
    ").rename(\n",
    "    {\n",
    "    'gene1':'gene_id',\n",
    "    'cdna1':'cdna', \n",
    "    'length_1':'length',\n",
    "    'window_x1':'window_c1',\n",
    "    'window_x2':'window_c2',\n",
    "    'gene1_id':'original_gene_id', \n",
    "    'protein_coding_1':'protein_coding', \n",
    "    'original_length1':'original_length'\n",
    "    }, \n",
    "    axis = 1)\n",
    "df_g2 = df_g.filter(\n",
    "    [\n",
    "    'gene2', \n",
    "    'id_gene2_sample', \n",
    "    'cdna2', \n",
    "    'window_y1',\n",
    "    'window_y2', \n",
    "    'gene2_id',\n",
    "    'protein_coding_2', \n",
    "    'length_2',\n",
    "    'original_length2', \n",
    "    ]\n",
    ").rename(\n",
    "    {\n",
    "    'gene2':'gene_id',\n",
    "    'cdna2':'cdna', \n",
    "    'length_2':'length',\n",
    "    'window_y1':'window_c1',\n",
    "    'window_y2':'window_c2',\n",
    "    'gene2_id':'original_gene_id', \n",
    "    'protein_coding_2':'protein_coding', \n",
    "    'original_length2':'original_length'\n",
    "    }, \n",
    "    axis = 1)\n",
    "\n",
    "df_genes_nt = pd.concat([df_g1, df_g2], axis = 0).drop_duplicates().reset_index(drop = True)\n",
    "\n",
    "df_genes_nt['UTR5'] = 0\n",
    "df_genes_nt['CDS'] = 0\n",
    "df_genes_nt['UTR3'] = 0"
   ]
  },
  {
   "cell_type": "code",
   "execution_count": 87,
   "id": "d4d11f00-263f-4acc-868a-c304ce1a11be",
   "metadata": {
    "tags": []
   },
   "outputs": [],
   "source": [
    "assert set(df_genes_nt.original_gene_id) - set(df_genes.gene_id) == set()\n",
    "assert set(train.gene1).union(train.gene2).union(val.gene1).union(val.gene2).union(test.gene1).union(test.gene2) - set(df.gene1).union(df.gene2) == set()\n",
    "assert set(df_full.gene1_id).union(df_full.gene2_id) - set(df.gene1).union(df.gene2) == set()"
   ]
  },
  {
   "cell_type": "code",
   "execution_count": 88,
   "id": "03e57a38-dfb4-43bf-b072-b8836172538d",
   "metadata": {},
   "outputs": [],
   "source": [
    "df_genes_nt.to_csv(os.path.join(metadata_dir, f'df_genes_nt{suffix}.csv'), index = False)"
   ]
  },
  {
   "cell_type": "markdown",
   "id": "f252d115-5b99-4ca6-91b0-b14bb26d0f10",
   "metadata": {},
   "source": [
    "### Add experiment column\n",
    "Ho bisogno di sapere a quale id dell esperimento corrisponde ogni riga del dataset"
   ]
  },
  {
   "cell_type": "code",
   "execution_count": 89,
   "id": "3aca56e0-7d7d-47c0-894c-385ea2783961",
   "metadata": {},
   "outputs": [],
   "source": [
    "df = pd.read_csv(os.path.join(processed_files_dir, \"paris.csv\"))\n",
    "df_nt = pd.read_csv(os.path.join(metadata_dir,  f'df_nt{suffix}.csv'))\n",
    "\n",
    "df['x2'] = df['x1'] + df['w']\n",
    "df['y2'] = df['y1'] + df['h']\n",
    "df = df.rename({'couples':'couples_id', 'x1':'original_x1', 'x2':'original_x2', 'y1':'original_y1', 'y2':'original_y2'}, axis = 1)\n",
    "df = df[['couples_id', 'original_x1', 'original_x2', 'original_y1', 'original_y2', 'name', 'other_id', 'experiment', 'simple_repeats', 'sine_alu',\n",
    "       'low_complex', 'n_reads', 'is_merged', 'where_x1', 'where_y1', 'where']]\n",
    "\n",
    "df_nt_new = df_nt.merge(df, on = ['couples_id', 'original_x1', 'original_x2', 'original_y1', 'original_y2'])\n",
    "df_nt_new = df_nt_new.drop_duplicates(['couples'])\n",
    "\n",
    "todo = df_nt[df_nt.couples.isin(set(df_nt.couples) - set(df_nt_new.couples))]\n",
    "todogenes = todo.couples_id.str.extractall('(.*)_(.*)').reset_index()\n",
    "assert ( todogenes[0] == todogenes[1] ).all()\n",
    "\n",
    "todo.couples.all\n",
    "#they are negative but they are the same rnarna thats why they didnt metch\n",
    "\n",
    "todo = todo.rename({\n",
    "    'original_x1':'original_y1', \n",
    "    'original_x2':'original_y2', \n",
    "    'original_y1':'original_x1', \n",
    "    'original_y2':'original_x2', \n",
    "}, axis = 1)\n",
    "\n",
    "last = todo.merge(df, on = ['couples_id', 'original_x1', 'original_x2', 'original_y1', 'original_y2'])\n",
    "last = last.drop_duplicates(['couples'])\n",
    "df_nt_new = pd.concat([df_nt_new, last], axis = 0).reset_index(drop = True)\n",
    "\n",
    "assert set(df_nt_new.couples) == set(df_nt.couples)\n",
    "assert df_nt_new.shape[0] == df_nt.shape[0] \n",
    "\n",
    "df_nt_new.to_csv(os.path.join(metadata_dir, f'df_nt{suffix}.csv'), index = False)"
   ]
  },
  {
   "cell_type": "markdown",
   "id": "5f9e1f4f-2229-45d6-8471-6d79102894b8",
   "metadata": {},
   "source": [
    "# Check the data saved"
   ]
  },
  {
   "cell_type": "code",
   "execution_count": 52,
   "id": "47b5300d-06db-4754-beed-a49765a1bfca",
   "metadata": {},
   "outputs": [
    {
     "name": "stderr",
     "output_type": "stream",
     "text": [
      "/data01/giorgio/ENTER/envs/dnabert/lib/python3.9/site-packages/IPython/core/interactiveshell.py:3444: DtypeWarning: Columns (1,2,16,17,18,20) have mixed types.Specify dtype option on import or set low_memory=False.\n",
      "  exec(code_obj, self.user_global_ns, self.user_ns)\n"
     ]
    }
   ],
   "source": [
    "df = pd.read_csv(os.path.join(processed_files_dir, \"paris.csv\"))\n",
    "train = pd.read_csv(os.path.join(metadata_dir,  f'training{suffix}.csv'))\n",
    "val = pd.read_csv(os.path.join(metadata_dir, f'val{suffix}.csv'))\n",
    "test = pd.read_csv(os.path.join(metadata_dir, f'test{suffix}.csv'))\n",
    "\n",
    "assert max(train.length_1.max(), train.length_2.max()) == MAX_RNA_SIZE\n",
    "\n",
    "with open(os.path.join(rna_rna_files_dir,  f\"gene_pairs_training{suffix}.txt\"), \"rb\") as fp:  # Unpickling\n",
    "    subset_train = pickle.load(fp)\n",
    "    subset = pd.Series(subset_train).str.split('_', expand = True)\n",
    "    genes_train = set(subset[0]).union(set(subset[1]))\n",
    "\n",
    "with open(os.path.join(rna_rna_files_dir, f\"gene_pairs_test{suffix}.txt\"), \"rb\") as fp:  # Unpickling\n",
    "    subset_test = pickle.load(fp)\n",
    "    subset = pd.Series(subset_test).str.split('_', expand = True)\n",
    "    genes_test = set(subset[0]).union(set(subset[1]))\n",
    "    \n",
    "with open(os.path.join(rna_rna_files_dir, f\"gene_pairs_val{suffix}.txt\"), \"rb\") as fp:  # Unpickling\n",
    "    subset_val = pickle.load(fp)\n",
    "    subset = pd.Series(subset_val).str.split('_', expand = True)\n",
    "    genes_val = set(subset[0]).union(set(subset[1]))\n",
    "    \n",
    "assert set(train[train.gene1.isin(genes_train)|train.gene2.isin(genes_train)].id_sample) == set(train.id_sample)\n",
    "assert set(train[train.couples.isin(subset_train)].id_sample) == set(train.id_sample)\n",
    "\n",
    "assert set(test[test.gene1.isin(genes_test)|test.gene2.isin(genes_test)].id_sample) == set(test.id_sample)\n",
    "assert set(test[test.couples.isin(subset_test)].id_sample) == set(test.id_sample)\n",
    "\n",
    "assert set(val[val.gene1.isin(genes_val)|val.gene2.isin(genes_val)].id_sample) == set(val.id_sample)\n",
    "assert set(val[val.couples.isin(subset_val)].id_sample) == set(val.id_sample)"
   ]
  },
  {
   "cell_type": "code",
   "execution_count": 53,
   "id": "dfc9c6c5-5f50-44bb-8000-ce29a286ddc1",
   "metadata": {},
   "outputs": [],
   "source": [
    "df_nt = pd.read_csv(os.path.join(metadata_dir,  f'df_nt{suffix}.csv'))\n",
    "df_genes_nt = pd.read_csv(os.path.join(metadata_dir, f'df_genes_nt{suffix}.csv'))"
   ]
  },
  {
   "cell_type": "code",
   "execution_count": 54,
   "id": "80b5765e-7adc-4910-aa42-904f1f245571",
   "metadata": {
    "tags": []
   },
   "outputs": [],
   "source": [
    "subset_train_nt = os.path.join(rna_rna_files_dir,  f\"gene_pairs_training_nt{suffix}.txt\")\n",
    "subset_test_nt = os.path.join(rna_rna_files_dir, f\"gene_pairs_test_nt{suffix}.txt\")\n",
    "subset_val_nt = os.path.join(rna_rna_files_dir, f\"gene_pairs_val_nt{suffix}.txt\")\n",
    "\n",
    "assert (df_nt.x1 >= 0).all()\n",
    "assert (df_nt.y1 >= 0).all()\n",
    "assert ((df_nt.x1 + df_nt.w) <= df_nt.length_1).all()\n",
    "assert ((df_nt.y1 + df_nt.h) <= df_nt.length_2).all()\n",
    "assert df_genes_nt.apply(lambda x: len(x.cdna) == (x.window_c2-x.window_c1), axis = 1).all()"
   ]
  },
  {
   "cell_type": "code",
   "execution_count": 55,
   "id": "cad11283-33b6-4d9d-87a6-b8e2fa2bebbf",
   "metadata": {},
   "outputs": [],
   "source": [
    "pos_width_multipliers = {1_000_000: 1.}\n",
    "pos_height_multipliers = pos_width_multipliers\n",
    "neg_width_windows = {(MAX_RNA_SIZE-1, MAX_RNA_SIZE): float(1),}\n",
    "neg_height_windows = neg_width_windows\n",
    "\n",
    "policies = [\n",
    "    EasyPosAugment(\n",
    "    per_sample=1,\n",
    "    interaction_selection=InteractionSelectionPolicy.LARGEST,\n",
    "    width_multipliers=pos_width_multipliers,\n",
    "    height_multipliers=pos_height_multipliers,\n",
    "    ),  \n",
    "    SmartNegAugment(\n",
    "        per_sample=1,\n",
    "        interaction_selection=InteractionSelectionPolicy.LARGEST,\n",
    "        width_multipliers=pos_width_multipliers,\n",
    "        height_multipliers=pos_height_multipliers,\n",
    "    ),\n",
    "]"
   ]
  },
  {
   "cell_type": "code",
   "execution_count": 56,
   "id": "efa71280-fd5a-4715-ad1e-60a50618d55e",
   "metadata": {},
   "outputs": [],
   "source": [
    "dataset = RNADataset(\n",
    "        gene2info=df_genes_nt,\n",
    "        interactions=df_nt,\n",
    "        subset_file=subset_val_nt,\n",
    "        augment_policies=policies,\n",
    ")"
   ]
  },
  {
   "cell_type": "code",
   "execution_count": 57,
   "id": "e5aa658b-1c33-4eea-9500-a20ccfa3fc14",
   "metadata": {},
   "outputs": [],
   "source": [
    "def map_coordinates(window_c1, window_c2, actual_window_c1, actual_window_c2, actual_interaction_c1, actual_interaction_c2):\n",
    "    real_c1 = actual_window_c1 + window_c1\n",
    "    real_c2 = actual_window_c2 + window_c1\n",
    "    real_interaction_c1 = actual_interaction_c1 + window_c1\n",
    "    real_interaction_c2 = actual_interaction_c2 + window_c1\n",
    "    return real_c1, real_c2, real_interaction_c1, real_interaction_c2"
   ]
  },
  {
   "cell_type": "code",
   "execution_count": 58,
   "id": "8e660049-3b04-428b-8a93-3efd5060e9ed",
   "metadata": {},
   "outputs": [
    {
     "data": {
      "application/vnd.jupyter.widget-view+json": {
       "model_id": "35a6a3b466c54a888e2f81574f12a5fa",
       "version_major": 2,
       "version_minor": 0
      },
      "text/plain": [
       "  0%|          | 0/19817 [00:00<?, ?it/s]"
      ]
     },
     "metadata": {},
     "output_type": "display_data"
    }
   ],
   "source": [
    "all_couples = set(df.couples)\n",
    "\n",
    "for s in tqdm(dataset):\n",
    "    interacting, actual_policy = s.interacting, s.policy\n",
    "\n",
    "    couple_id = s.gene1_info['original_gene_id'] + '_' + s.gene2_info['original_gene_id']\n",
    "    couple_id_swapped = s.gene2_info['original_gene_id'] + '_' + s.gene1_info['original_gene_id']\n",
    "    \n",
    "    if couple_id in all_couples:\n",
    "        gene1_id, gene2_id = s.gene1, s.gene2\n",
    "        gene1_info, gene2_info = s.gene1_info, s.gene2_info\n",
    "        real_couple_id = couple_id\n",
    "        actual_window_x1, actual_window_x2 = s.bbox.x1, s.bbox.x2\n",
    "        actual_window_y1, actual_window_y2 = s.bbox.y1, s.bbox.y2\n",
    "        actual_interaction_x1, actual_interaction_x2 = s.seed_interaction_bbox.x1, s.seed_interaction_bbox.x2\n",
    "        actual_interaction_y1, actual_interaction_y2 = s.seed_interaction_bbox.y1, s.seed_interaction_bbox.y2\n",
    "    elif couple_id_swapped in all_couples:\n",
    "        gene2_id, gene1_id = s.gene1, s.gene2\n",
    "        gene2_info, gene1_info = s.gene1_info, s.gene2_info\n",
    "        actual_window_y1, actual_window_y2 = s.bbox.x1, s.bbox.x2\n",
    "        actual_window_x1, actual_window_x2 = s.bbox.y1, s.bbox.y2\n",
    "        actual_interaction_y1, actual_interaction_y2 = s.seed_interaction_bbox.x1, s.seed_interaction_bbox.x2\n",
    "        actual_interaction_x1, actual_interaction_x2 = s.seed_interaction_bbox.y1, s.seed_interaction_bbox.y2\n",
    "        real_couple_id = couple_id_swapped\n",
    "    else:\n",
    "        raise NotImplementedError\n",
    "        \n",
    "    original_gene_id1, original_gene_id2 = gene1_info['original_gene_id'], gene2_info['original_gene_id']\n",
    "    cdna_slice1, cdna_slice2 = gene1_info['cdna'], gene2_info['cdna']\n",
    "    window_x1, window_x2 = gene1_info['window_c1'], gene1_info['window_c2']\n",
    "    window_y1, window_y2 = gene2_info['window_c1'], gene2_info['window_c2']\n",
    "    protein_coding1, protein_coding2 = gene1_info['protein_coding'], gene2_info['protein_coding']\n",
    "    original_length1, original_length2 = gene1_info['original_length'], gene2_info['original_length']\n",
    "    \n",
    "    policy_res = [\n",
    "        i['policy'] for i in s.gene1_info['interactions'] if \n",
    "        (i['couples_id']==real_couple_id)&\n",
    "        ( set([i['gene1'],i['gene2']])==set([s.gene1, s.gene2]) )\n",
    "    ]\n",
    "    \n",
    "    assert (len(set(policy_res)) == 1) | (set(policy_res) == {'smartneg', 'easyneg'})\n",
    "    policy = policy_res[0]\n",
    "        \n",
    "    assert gene1_id == gene1_info['gene_id']\n",
    "    assert gene2_id == gene2_info['gene_id']\n",
    "    assert window_x2-window_x1 == len(cdna_slice1)\n",
    "    assert window_y2-window_y1 == len(cdna_slice2)\n",
    "    \n",
    "    real1 = df_genes[df_genes.gene_id == original_gene_id1].iloc[0]\n",
    "    real2 = df_genes[df_genes.gene_id == original_gene_id2].iloc[0]\n",
    "\n",
    "    assert real1['cdna'][window_x1:window_x2] == cdna_slice1\n",
    "    assert real2['cdna'][window_y1:window_y2] == cdna_slice2\n",
    "    assert real1.protein_coding == protein_coding1\n",
    "    assert real2.protein_coding == protein_coding2\n",
    "    \n",
    "    real_df = df[df.couples == real_couple_id].iloc[0]\n",
    "    if policy == 'easypos':\n",
    "        assert real_df.interacting == interacting == True\n",
    "        assert actual_policy == 'easypos'\n",
    "    if policy == 'hardneg':\n",
    "        assert real_df.interacting == True\n",
    "        assert interacting == False\n",
    "        assert actual_policy == 'smartneg'\n",
    "    elif policy in ['smartneg', 'easyneg']:\n",
    "        assert real_df.interacting == interacting == False\n",
    "        assert actual_policy == 'smartneg'\n",
    "    assert real_df.protein_coding_1 == protein_coding1\n",
    "    assert real_df.protein_coding_2 == protein_coding2\n",
    "        \n",
    "    real_x1, real_x2, real_interaction_x1, real_interaction_x2 = map_coordinates(window_x1, window_x2, actual_window_x1, actual_window_x2, actual_interaction_x1, actual_interaction_x2)\n",
    "    real_y1, real_y2, real_interaction_y1, real_interaction_y2 = map_coordinates(window_y1, window_y2, actual_window_y1, actual_window_y2, actual_interaction_y1, actual_interaction_y2)\n",
    "\n",
    "    assert real_x1>=0\n",
    "    assert real_y1>=0\n",
    "    assert real_x1<=real_x2<=original_length1\n",
    "    assert real_y1<=real_y2<=original_length2\n",
    "\n",
    "    if (policy == 'easypos')|(policy == 'smartneg'):\n",
    "        assert real_x1<=real_interaction_x1<=real_interaction_x2\n",
    "        assert real_interaction_x1<=real_interaction_x2<=real_x2\n",
    "        assert real_y1<=real_interaction_y1<=real_interaction_y2\n",
    "        assert real_interaction_y1<=real_interaction_y2<=real_y2\n",
    "    elif policy == 'hardneg':\n",
    "        # le coordinate real_x1, real_x2 non sono piu buone perche avevo sovrascritto le regioni di interazione di hardneg e easyneg\n",
    "        real_x1, real_x2 = real_df.x1, real_df.x1+real_df.w\n",
    "        real_y1, real_y2 = real_df.y1, real_df.y1+real_df.h\n",
    "        assert ( \n",
    "            (real_interaction_x2 < real_x1)|(real_interaction_x1 > real_x2) | \n",
    "            (real_interaction_y2 < real_y1)|(real_interaction_y1 > real_y2) \n",
    "        )"
   ]
  },
  {
   "cell_type": "markdown",
   "id": "e6ef9dc2-10f1-44a5-980d-e5df0b5ece90",
   "metadata": {},
   "source": [
    "```\n",
    "original      0, 10, 20, 23,24, 50, 70, 100\n",
    "window           10                 70\n",
    "actual_win           10         40\n",
    "actual_int               13,14\n",
    "```"
   ]
  },
  {
   "cell_type": "markdown",
   "id": "648cfd31-0280-4c76-a6a3-d59bfa9faf05",
   "metadata": {},
   "source": [
    "### Check embeddings"
   ]
  },
  {
   "cell_type": "code",
   "execution_count": 4,
   "id": "bfc52ff3-5ba5-4850-ac50-fcc4d9046cfc",
   "metadata": {},
   "outputs": [],
   "source": [
    "subset_train_nt = os.path.join(rna_rna_files_dir,  f\"gene_pairs_training_nt.txt\")\n",
    "\n",
    "df_nt = pd.read_csv(os.path.join(metadata_dir,  f'df_nt.csv'))\n",
    "df_genes_nt = pd.read_csv(os.path.join(metadata_dir,  f'df_genes_nt.csv'))"
   ]
  },
  {
   "cell_type": "code",
   "execution_count": 5,
   "id": "f6495ec5-0589-4c4f-a7be-c9275d81ecce",
   "metadata": {},
   "outputs": [],
   "source": [
    "with open(subset_train_nt, \"rb\") as fp:  # Unpickling\n",
    "    list_train = pickle.load(fp)\n",
    "\n",
    "vc_train = df_nt[df_nt.couples.isin(list_train)].interacting.value_counts()\n",
    "assert vc_train[False]>vc_train[True]\n",
    "unbalance_factor = 1 - (vc_train[False] - vc_train[True]) / vc_train[False]\n",
    "\n",
    "pos_width_multipliers = {10_000_000: 1.}\n",
    "\n",
    "pos_height_multipliers = pos_width_multipliers\n",
    "neg_width_windows = {(MAX_RNA_SIZE-1, MAX_RNA_SIZE): float(1),}\n",
    "neg_height_windows = neg_width_windows\n",
    "\n",
    "policies = [\n",
    "    EasyPosAugment(\n",
    "    per_sample=1,\n",
    "    interaction_selection=InteractionSelectionPolicy.LARGEST,\n",
    "    width_multipliers=pos_width_multipliers,\n",
    "    height_multipliers=pos_height_multipliers,\n",
    "    ),  \n",
    "    SmartNegAugment(\n",
    "        per_sample=unbalance_factor,\n",
    "        interaction_selection=InteractionSelectionPolicy.LARGEST,\n",
    "        width_multipliers=pos_width_multipliers,\n",
    "        height_multipliers=pos_height_multipliers,\n",
    "    ),\n",
    "]\n",
    "\n",
    "# -------- -------- -------- -------- -------- -------- -------- --------\n",
    "#need to adjust in order some stuff\n",
    "\n",
    "df_nt['gene1_emb_name'] = df_nt['gene1']\n",
    "df_nt['gene2_emb_name'] = df_nt['gene2']\n",
    "\n",
    "df_nt['gene1'] = df_nt['gene1'] + '_' + df_nt['x1'].astype(str)\n",
    "df_nt['gene2'] = df_nt['gene2'] + '_' +  df_nt['y1'].astype(str)\n",
    "\n",
    "need = df_nt[['gene1', 'gene2', 'gene1_emb_name', 'gene2_emb_name']].drop_duplicates().reset_index(drop = True)\n",
    "\n",
    "need = pd.concat([\n",
    "    need[['gene1', 'gene1_emb_name']].rename({'gene1':'new_gene_id', 'gene1_emb_name':'gene_id'}, axis = 1),\n",
    "    need[['gene2', 'gene2_emb_name']].rename({'gene2':'new_gene_id', 'gene2_emb_name':'gene_id'}, axis = 1)\n",
    "], axis = 0).drop_duplicates().reset_index(drop = True)\n",
    "\n",
    "df_genes_nt = df_genes_nt.merge(need, on = 'gene_id').drop('gene_id', axis = 1).rename({'new_gene_id':'gene_id'}, axis = 1).drop_duplicates().reset_index(drop = True)\n",
    "\n",
    "# -------- -------- -------- -------- -------- -------- -------- --------\n",
    "\n",
    "\n",
    "dataset = RNADatasetNT(\n",
    "        gene2info=df_genes_nt,\n",
    "        interactions=df_nt,\n",
    "        subset_file=subset_train_nt,\n",
    "        augment_policies=policies,\n",
    "        data_dir = os.path.join(embedding_dir, '32'),\n",
    "        scaling_factor = 20,\n",
    "        min_n_groups = 5,\n",
    "        max_n_groups = 80,\n",
    ")"
   ]
  },
  {
   "cell_type": "code",
   "execution_count": 6,
   "id": "13c6574b-f6fe-40b2-ba76-bd19542c2b8c",
   "metadata": {},
   "outputs": [
    {
     "data": {
      "application/vnd.jupyter.widget-view+json": {
       "model_id": "e32e4eb36b614e7e9e7454fb6d183443",
       "version_major": 2,
       "version_minor": 0
      },
      "text/plain": [
       "  0%|          | 0/172271 [00:00<?, ?it/s]"
      ]
     },
     "metadata": {},
     "output_type": "display_data"
    }
   ],
   "source": [
    "l1_neg, l2_neg, l1_pos, l2_pos = [], [], [], []\n",
    "\n",
    "for s in tqdm(dataset):\n",
    "    length1, length2 = s.bbox.x2-s.bbox.x1, s.bbox.y2-s.bbox.y1\n",
    "    if s.interacting:\n",
    "        l1_pos.append(length1)\n",
    "        l2_pos.append(length2)\n",
    "    else:\n",
    "        l1_neg.append(length1)\n",
    "        l2_neg.append(length2)"
   ]
  },
  {
   "cell_type": "code",
   "execution_count": 7,
   "id": "be08e40d-cffc-4b89-bfda-4bf0f6dcc339",
   "metadata": {},
   "outputs": [
    {
     "data": {
      "image/png": "[encoded data removed]",
      "text/plain": [
       "<Figure size 432x288 with 1 Axes>"
      ]
     },
     "metadata": {
      "needs_background": "light"
     },
     "output_type": "display_data"
    }
   ],
   "source": [
    "sns.kdeplot(l1_pos, color = 'red', label = 'gene1_pos')\n",
    "sns.kdeplot(l2_pos, color = 'green', label = 'gene2_pos')\n",
    "sns.kdeplot(l1_neg, color = 'black', label = 'gene1_neg')\n",
    "sns.kdeplot(l2_neg, color = 'blue', label = 'gene2_neg')\n",
    "plt.title(f'Length distribution (maximum values for policies)')\n",
    "plt.legend()\n",
    "plt.show()"
   ]
  },
  {
   "cell_type": "markdown",
   "id": "23b1ff0e-5909-49de-8045-4646e5501f4c",
   "metadata": {},
   "source": [
    "#### Check if dataloader preprocessing (group average) is working well."
   ]
  },
  {
   "cell_type": "code",
   "execution_count": 8,
   "id": "e2a8a2a0-849b-4a4c-b2bc-243b8dc283b0",
   "metadata": {},
   "outputs": [
    {
     "name": "stdout",
     "output_type": "stream",
     "text": [
      "============================================================\n",
      "<class 'transformers.tokenization_dna.DNATokenizer'>\n"
     ]
    }
   ],
   "source": [
    "import util.misc as utils"
   ]
  },
  {
   "cell_type": "code",
   "execution_count": 9,
   "id": "a14b073f-e285-4985-8fd7-62ed0bdbb093",
   "metadata": {},
   "outputs": [],
   "source": [
    "sampler_train = torch.utils.data.RandomSampler(dataset)\n",
    "batch_sampler_train = torch.utils.data.BatchSampler(sampler_train, 32, drop_last=False)\n",
    "data_loader_train = DataLoader(dataset, batch_sampler=batch_sampler_train,\n",
    "                               collate_fn=utils.collate_fn_nt2, num_workers=1)"
   ]
  },
  {
   "cell_type": "code",
   "execution_count": 20,
   "id": "7fc4e3a0-f1f0-4c0c-80b9-cf34dea5031f",
   "metadata": {},
   "outputs": [
    {
     "data": {
      "application/vnd.jupyter.widget-view+json": {
       "model_id": "acbf2e63bace4a17ba4107307cea6a6d",
       "version_major": 2,
       "version_minor": 0
      },
      "text/plain": [
       "  0%|          | 0/100 [00:00<?, ?it/s]"
      ]
     },
     "metadata": {},
     "output_type": "display_data"
    }
   ],
   "source": [
    "TOT_SAMPLES = 100\n",
    "\n",
    "neg_len_1 = []\n",
    "pos_len_1 = []\n",
    "neg_len_2 = []\n",
    "pos_len_2 = []\n",
    "\n",
    "conta = 0\n",
    "for s, targets in tqdm(data_loader_train, total = TOT_SAMPLES):\n",
    "    for i in range(len(targets)):\n",
    "        if targets[i] == 1:\n",
    "            pos_len_1.append(s[0][i].shape[-1])\n",
    "            pos_len_2.append(s[0][i].shape[-1])\n",
    "        else:\n",
    "            neg_len_1.append(s[1][i].shape[-1])\n",
    "            neg_len_2.append(s[1][i].shape[-1])\n",
    "        \n",
    "    conta +=1\n",
    "    \n",
    "    if conta == TOT_SAMPLES:\n",
    "        break"
   ]
  },
  {
   "cell_type": "code",
   "execution_count": 21,
   "id": "a81e5014-3d09-4b72-a64d-88f3c233e930",
   "metadata": {},
   "outputs": [
    {
     "data": {
      "image/png": "[encoded data removed]",
      "text/plain": [
       "<Figure size 432x288 with 1 Axes>"
      ]
     },
     "metadata": {
      "needs_background": "light"
     },
     "output_type": "display_data"
    }
   ],
   "source": [
    "#pos_width_multipliers = {1_000_000: 1.}\n",
    "\n",
    "sns.kdeplot(neg_len_1, color = 'red', label = 'gene1_negative')\n",
    "sns.kdeplot(pos_len_1, color = 'green', label = 'gene1_positive')\n",
    "sns.kdeplot(neg_len_2, color = 'blue', label = 'gene2_negative')\n",
    "sns.kdeplot(pos_len_2, color = 'black', label = 'gene2_positive')\n",
    "plt.title(f'Length distribution between gene1 and gene2')\n",
    "plt.legend()\n",
    "plt.show()"
   ]
  },
  {
   "cell_type": "code",
   "execution_count": 22,
   "id": "3233038a-68b1-4834-b973-953a9b441643",
   "metadata": {},
   "outputs": [
    {
     "data": {
      "image/png": "[encoded data removed]",
      "text/plain": [
       "<Figure size 432x288 with 1 Axes>"
      ]
     },
     "metadata": {
      "needs_background": "light"
     },
     "output_type": "display_data"
    }
   ],
   "source": [
    "#{15:0.2, 50:0.2, 100:0.1, 150:0.1, 10_000_000: 0.4}\n",
    "\n",
    "sns.kdeplot(neg_len_1, color = 'red', label = 'gene1_negative')\n",
    "sns.kdeplot(pos_len_1, color = 'green', label = 'gene1_positive')\n",
    "sns.kdeplot(neg_len_2, color = 'blue', label = 'gene2_negative')\n",
    "sns.kdeplot(pos_len_2, color = 'black', label = 'gene2_positive')\n",
    "plt.title(f'Length distribution between gene1 and gene2')\n",
    "plt.legend()\n",
    "plt.show()"
   ]
  },
  {
   "cell_type": "markdown",
   "id": "13c03de8-28f5-4604-81e2-b61949c8c3d4",
   "metadata": {},
   "source": [
    "# Download test set 500 nucleotides"
   ]
  },
  {
   "cell_type": "code",
   "execution_count": 4,
   "id": "34b1c666-be0a-4415-bb56-4114e82a4cc2",
   "metadata": {},
   "outputs": [],
   "source": [
    "assert HQ"
   ]
  },
  {
   "cell_type": "code",
   "execution_count": 5,
   "id": "4cee14b5-686c-4a1f-b673-7acc0d786399",
   "metadata": {},
   "outputs": [
    {
     "name": "stdout",
     "output_type": "stream",
     "text": [
      "============================================================\n",
      "<class 'transformers.tokenization_dna.DNATokenizer'>\n"
     ]
    }
   ],
   "source": [
    "import util.misc as utils\n",
    "import shutil\n",
    "\n",
    "def load_data_bert_script(dataset_files_dir, MAX_RNA_SIZE_BERT):\n",
    "    source_file_path = os.path.join(dataset_files_dir, 'data.py')\n",
    "    data_bert_file_path = os.path.join(dataset_files_dir, 'data_bert.py')\n",
    "    shutil.copy(source_file_path, data_bert_file_path)\n",
    "    new_max_rna_length = MAX_RNA_SIZE_BERT\n",
    "\n",
    "    # Read the content of data_bert.py\n",
    "    with open(data_bert_file_path, 'r') as file:\n",
    "        lines = file.readlines()\n",
    "\n",
    "    # Find and modify the MAX_RNA_LENGTH line\n",
    "    modified_lines = []\n",
    "    for line in lines:\n",
    "        if line.startswith('MAX_RNA_SIZE'):\n",
    "            modified_lines.append(f'MAX_RNA_SIZE = {new_max_rna_length}\\n')\n",
    "        else:\n",
    "            modified_lines.append(line)\n",
    "\n",
    "    # Write the modified content back to data_bert.py\n",
    "    with open(data_bert_file_path, 'w') as file:\n",
    "        file.writelines(modified_lines)\n",
    "\n",
    "load_data_bert_script(dataset_files_dir, MAX_RNA_SIZE_BERT)\n",
    "\n",
    "from dataset.data_bert import (\n",
    "    RNADataset,\n",
    "    RNADatasetNT,\n",
    "    EasyPosAugment,\n",
    "    SmartNegAugment,\n",
    "    InteractionSelectionPolicy,\n",
    "    create_augment_list,\n",
    "    seed_everything,\n",
    ")\n"
   ]
  },
  {
   "cell_type": "code",
   "execution_count": 6,
   "id": "0c3950b6-e3f7-446c-a261-fe1cf2f33995",
   "metadata": {},
   "outputs": [],
   "source": [
    "set_data = 'test'\n",
    "\n",
    "assert set_data in ['test', 'val']"
   ]
  },
  {
   "cell_type": "code",
   "execution_count": 7,
   "id": "f020cb60-029c-43cf-91f1-d0200741e773",
   "metadata": {},
   "outputs": [],
   "source": [
    "file_test  = os.path.join(rna_rna_files_dir, f\"gene_pairs_{set_data}_nt{suffix}.txt\")\n",
    "with open(file_test, \"rb\") as fp:   # Unpickling\n",
    "    gene_pairs_test = pickle.load(fp)\n",
    "\n",
    "df_nt = pd.read_csv(os.path.join(metadata_dir,  f'df_nt{suffix}.csv'))\n",
    "df_genes_nt = pd.read_csv(os.path.join(metadata_dir,  f'df_genes_nt{suffix}.csv'))\n",
    "\n",
    "pos_multipliers = {10_000_000:1.,}\n",
    "neg_multipliers = pos_multipliers\n",
    "\n",
    "policies_test = [\n",
    "    EasyPosAugment(\n",
    "        per_sample=1,\n",
    "        interaction_selection=InteractionSelectionPolicy.LARGEST,\n",
    "        width_multipliers=pos_multipliers,\n",
    "        height_multipliers=pos_multipliers,\n",
    "    ),  \n",
    "    SmartNegAugment(\n",
    "        per_sample=1,\n",
    "        interaction_selection=InteractionSelectionPolicy.LARGEST,\n",
    "        width_multipliers=neg_multipliers,\n",
    "        height_multipliers=neg_multipliers,\n",
    "    ),\n",
    "]\n",
    "\n",
    "df_nt, df_genes_nt = clean_nt_dataframes_before_class_input(df_nt, df_genes_nt)\n",
    "\n",
    "dataset_test = RNADatasetNT(\n",
    "    gene2info=df_genes_nt,\n",
    "    interactions=df_nt,\n",
    "    subset_file=file_test,\n",
    "    augment_policies=policies_test,\n",
    "    data_dir = os.path.join(embedding_dir, '32'),\n",
    "    scaling_factor = 5,\n",
    "    min_n_groups = np.nan,\n",
    "    max_n_groups = 80,\n",
    ")"
   ]
  },
  {
   "cell_type": "code",
   "execution_count": 8,
   "id": "29c87606-fe9a-46a3-8189-6645fff1625b",
   "metadata": {
    "tags": []
   },
   "outputs": [
    {
     "data": {
      "application/vnd.jupyter.widget-view+json": {
       "model_id": "c621009cbe394a1a985be3801acd80ee",
       "version_major": 2,
       "version_minor": 0
      },
      "text/plain": [
       "  0%|          | 0/28822 [00:00<?, ?it/s]"
      ]
     },
     "metadata": {},
     "output_type": "display_data"
    }
   ],
   "source": [
    "test500 = []\n",
    "\n",
    "for s in tqdm(dataset_test):\n",
    "    \n",
    "    gene1, gene2 = s.gene1, s.gene2\n",
    "\n",
    "    x1, x2, y1, y2 = s.bbox.x1, s.bbox.x2, s.bbox.y1, s.bbox.y2\n",
    "\n",
    "    seed_x1, seed_x2, seed_y1, seed_y2 = s.seed_interaction_bbox.x1, s.seed_interaction_bbox.x2, s.seed_interaction_bbox.y1, s.seed_interaction_bbox.y2\n",
    "    \n",
    "    interacting = s.interacting\n",
    "\n",
    "    cdna1, cdna2 = s.gene1_info['cdna'], s.gene2_info['cdna']\n",
    "\n",
    "    cdna1slice, cdna2slice = cdna1[x1:x2], cdna2[y1:y2]\n",
    "    \n",
    "    assert len(s.all_couple_interactions) == 1\n",
    "    couples_id = s.all_couple_interactions[0]['couple']\n",
    "\n",
    "    test500.append({\n",
    "        'gene1':gene1,\n",
    "        'gene2':gene2,\n",
    "        'x1':x1,\n",
    "        'x2':x2,\n",
    "        'y1':y1,\n",
    "        'y2':y2,\n",
    "        'seed_x1':seed_x1,\n",
    "        'seed_x2':seed_x2,\n",
    "        'seed_y1':seed_y1,\n",
    "        'seed_y2':seed_y2,\n",
    "        'cdna1':cdna1slice,\n",
    "        'cdna2':cdna2slice,\n",
    "        'len1':len(cdna1slice),\n",
    "        'len2':len(cdna2slice),\n",
    "        'couples':couples_id\n",
    "    })\n",
    "    \n",
    "test500 = pd.DataFrame(test500)\n",
    "\n",
    "assert test500.len1.max() == test500.len2.max() == 500\n",
    "n_rows = test500.shape[0]"
   ]
  },
  {
   "cell_type": "code",
   "execution_count": 9,
   "id": "a2bb97e7-d54c-475b-9433-652bc56b6e4f",
   "metadata": {},
   "outputs": [],
   "source": [
    "assert (test500.x1 <= test500.seed_x1).all()\n",
    "assert (test500.seed_x1 <= test500.seed_x2).all()\n",
    "assert (test500.seed_x2 <= test500.x2).all()\n",
    "assert (test500.y1 <= test500.seed_y1).all()\n",
    "assert (test500.seed_y1 <= test500.seed_y2).all()\n",
    "assert (test500.seed_y2 <= test500.y2).all()"
   ]
  },
  {
   "cell_type": "code",
   "execution_count": 64,
   "id": "51fa0d76-d91c-4d55-b194-cfe41693a8f6",
   "metadata": {},
   "outputs": [],
   "source": [
    "# add the couples column, swap the columns that need to be swapped\n",
    "with open(os.path.join(rna_rna_files_dir, f\"gene_pairs_{set_data}_nt{suffix}.txt\"), \"rb\") as fp:   #Pickling\n",
    "    subset_test = pickle.load(fp)\n",
    "\n",
    "df_nt = df_nt[df_nt.couples.isin(subset_test)]\n",
    "\n",
    "test500_1 = test500.merge(df_nt[['gene1', 'gene2', 'couples']], left_on = ['gene1', 'gene2'], right_on = ['gene1', 'gene2'])\n",
    "test500_2 = test500.merge(df_nt[['gene1', 'gene2', 'couples']], left_on = ['gene1', 'gene2'], right_on = ['gene2', 'gene1'])\n",
    "\n",
    "\n",
    "test500_2 = test500_2.drop(['gene1_x', 'gene2_x'], axis = 1).rename({'gene1_y':'gene1', 'gene2_y':'gene2'}, axis = 1)\n",
    "where = test500_2.len1>0 #all rows\n",
    "test500_2.loc[where, ['x1', 'y1']] = (test500_2.loc[where, ['y1', 'x1']].values)\n",
    "test500_2.loc[where, ['x2', 'y2']] = (test500_2.loc[where, ['y2', 'x2']].values)\n",
    "test500_2.loc[where, ['seed_x1', 'seed_y1']] = (test500_2.loc[where, ['seed_y1', 'seed_x1']].values)\n",
    "test500_2.loc[where, ['seed_x2', 'seed_y2']] = (test500_2.loc[where, ['seed_y2', 'seed_x2']].values)\n",
    "test500_2.loc[where, ['len1', 'len2']] = (test500_2.loc[where, ['len2', 'len1']].values)\n",
    "test500_2.loc[where, ['cdna1', 'cdna2']] = (test500_2.loc[where, ['cdna2', 'cdna1']].values)\n",
    "\n",
    "#shuffling\n",
    "test500 = pd.concat([test500_1, test500_2], axis = 0).sample(frac=1).reset_index(drop = True)\n",
    "\n",
    "#clean couples column\n",
    "assert (test500.couples_x == test500.couples_y).all()\n",
    "test500 = test500.drop('couples_x', axis = 1).rename({'couples_y':'couples'}, axis = 1)\n",
    "\n",
    "#clean gene_name_column\n",
    "test500['gene1'] = test500['gene1'].str.extractall('(.*)_(.*)').reset_index()[0]\n",
    "test500['gene2'] = test500['gene2'].str.extractall('(.*)_(.*)').reset_index()[0]\n",
    "\n",
    "#clean gene_name_column\n",
    "df_nt['gene1'] = df_nt['gene1'].str.extractall('(.*)_(.*)').reset_index(1)[0]\n",
    "df_nt['gene2'] = df_nt['gene2'].str.extractall('(.*)_(.*)').reset_index(1)[0]"
   ]
  },
  {
   "cell_type": "code",
   "execution_count": 65,
   "id": "036b9323-03ab-400d-8396-57a32c628052",
   "metadata": {},
   "outputs": [
    {
     "name": "stdout",
     "output_type": "stream",
     "text": [
      "NB There are  2  duplicated in df_nt (i think they are easyneg and smartneg overlapping)\n"
     ]
    }
   ],
   "source": [
    "assert df_nt[df_nt.duplicated(set(df_nt.columns) - {'couples'})].shape[0] < df_nt.shape[0]*0.01\n",
    "\n",
    "print('NB There are ', abs(n_rows - test500.shape[0]), ' duplicated in df_nt (i think they are easyneg and smartneg overlapping)')\n",
    "# with respect to this key \n",
    "# df_nt['key'] = df_nt['gene1'] + '_' + df_nt['gene2'] \n",
    "# but they are few\n",
    "# df_nt[(df_nt['gene1'] + '_' + df_nt['gene2']).duplicated()]"
   ]
  },
  {
   "cell_type": "markdown",
   "id": "1f21d2cb-328c-4a0f-8423-b4eb2b02b6e5",
   "metadata": {
    "tags": []
   },
   "source": [
    "### Repeats "
   ]
  },
  {
   "cell_type": "code",
   "execution_count": 30,
   "id": "c6debf64-fe82-4c27-a542-0bd743331354",
   "metadata": {},
   "outputs": [],
   "source": [
    "# set_data = 'val'\n",
    "# test500 = pd.read_csv((os.path.join(metadata_dir, f'{set_data}500.csv')))"
   ]
  },
  {
   "cell_type": "code",
   "execution_count": 31,
   "id": "e2a99ba7-b4b2-49b7-838a-3ddfb5695c4d",
   "metadata": {},
   "outputs": [],
   "source": [
    "filepath = os.path.join(processed_files_dir, 'nt_data', 'mean_embeddings', 'df_repeats.csv')\n",
    "if os.path.isfile(filepath):\n",
    "    df_repeats = pd.read_csv(filepath)"
   ]
  },
  {
   "cell_type": "code",
   "execution_count": 16,
   "id": "823dd5c4-ad48-420b-811b-92177969b7bf",
   "metadata": {},
   "outputs": [
    {
     "name": "stderr",
     "output_type": "stream",
     "text": [
      "[autoreload of dataset.data_bert failed: Traceback (most recent call last):\n",
      "  File \"/data01/giorgio/ENTER/envs/dnabert/lib/python3.9/site-packages/IPython/extensions/autoreload.py\", line 245, in check\n",
      "    superreload(m, reload, self.old_objects)\n",
      "  File \"/data01/giorgio/ENTER/envs/dnabert/lib/python3.9/site-packages/IPython/extensions/autoreload.py\", line 410, in superreload\n",
      "    update_generic(old_obj, new_obj)\n",
      "  File \"/data01/giorgio/ENTER/envs/dnabert/lib/python3.9/site-packages/IPython/extensions/autoreload.py\", line 347, in update_generic\n",
      "    update(a, b)\n",
      "  File \"/data01/giorgio/ENTER/envs/dnabert/lib/python3.9/site-packages/IPython/extensions/autoreload.py\", line 317, in update_class\n",
      "    update_instances(old, new)\n",
      "  File \"/data01/giorgio/ENTER/envs/dnabert/lib/python3.9/site-packages/IPython/extensions/autoreload.py\", line 280, in update_instances\n",
      "    ref.__class__ = new\n",
      "  File \"<string>\", line 4, in __setattr__\n",
      "dataclasses.FrozenInstanceError: cannot assign to field '__class__'\n",
      "]\n"
     ]
    }
   ],
   "source": [
    "def get_features1(row):\n",
    "    gene_id = row['g1']\n",
    "    overlaps = df_repeats[(df_repeats['gene_id'] == gene_id) & ((df_repeats['start'] <= row['x2']) & (df_repeats['end'] >= row['x1']))]\n",
    "    if len(overlaps) > 0:\n",
    "        return ', '.join(overlaps['feature'])\n",
    "    elif gene_id in df_repeats['gene_id'].values:\n",
    "        return 'None'\n",
    "    else:\n",
    "        return 'Not present'\n",
    "\n",
    "def get_features2(row):\n",
    "    gene_id = row['g2']\n",
    "    overlaps = df_repeats[(df_repeats['gene_id'] == gene_id) & ((df_repeats['start'] <= row['y2']) & (df_repeats['end'] >= row['y1']))]\n",
    "    if len(overlaps) > 0:\n",
    "        return ', '.join(overlaps['feature'])\n",
    "    elif gene_id in df_repeats['gene_id'].values:\n",
    "        return 'None'\n",
    "    else:\n",
    "        return 'Not present'\n",
    "\n",
    "test500['g1'] = test500['gene1'].str.extractall('(.*)_(.*)_(.*)').reset_index()[0]\n",
    "test500['g2'] = test500['gene2'].str.extractall('(.*)_(.*)_(.*)').reset_index()[0]\n",
    "\n",
    "# Apply the function to create the 'feature1' column in the test500 dataframe\n",
    "test500['feature1'] = test500.apply(get_features1, axis=1) # test500['feature1']\n",
    "test500['feature2'] = test500.apply(get_features2, axis=1) # test500['feature1']\n",
    "\n",
    "def get_full_overlap_features1(row):\n",
    "    gene_id = row['g1']\n",
    "    overlaps = df_repeats[(df_repeats['gene_id'] == gene_id) & ((df_repeats['start'] >= row['x1']) & (df_repeats['end'] <= row['x2']))]\n",
    "    if len(overlaps) > 0:\n",
    "        return ', '.join(overlaps['feature'])\n",
    "    elif gene_id in df_repeats['gene_id'].values:\n",
    "        return 'None'\n",
    "    else:\n",
    "        return 'Not present'\n",
    "\n",
    "def get_full_overlap_features2(row):\n",
    "    gene_id = row['g2']\n",
    "    overlaps = df_repeats[(df_repeats['gene_id'] == gene_id) & ((df_repeats['start'] >= row['y2']) & (df_repeats['end'] <= row['y1']))]\n",
    "    if len(overlaps) > 0:\n",
    "        return ', '.join(overlaps['feature'])\n",
    "    elif gene_id in df_repeats['gene_id'].values:\n",
    "        return 'None'\n",
    "    else:\n",
    "        return 'Not present'\n",
    "    \n",
    "test500['full_feature1'] = test500.apply(get_full_overlap_features1, axis=1) # test500['feature1']\n",
    "test500['full_feature2'] = test500.apply(get_full_overlap_features2, axis=1) # test500['feature1']"
   ]
  },
  {
   "cell_type": "code",
   "execution_count": 18,
   "id": "bbf055c4-7128-488d-a4d9-3156cbdc0d62",
   "metadata": {},
   "outputs": [],
   "source": [
    "test500.to_csv(os.path.join(metadata_dir, f'{set_data}500.csv'), index = False)"
   ]
  },
  {
   "cell_type": "markdown",
   "id": "013db761-1bf7-4a7a-bc38-cfdebdb95709",
   "metadata": {
    "tags": []
   },
   "source": [
    "### Add the distance to the colosest region of interaction "
   ]
  },
  {
   "cell_type": "code",
   "execution_count": 66,
   "id": "691e6e8b-bb3c-4edf-b7e3-eb41107363cd",
   "metadata": {},
   "outputs": [],
   "source": [
    "test500 = pd.read_csv(os.path.join(metadata_dir, f'{set_data}500.csv'))\n",
    "df_nt = pd.read_csv(os.path.join(metadata_dir,  f'df_nt{suffix}.csv'))\n",
    "\n",
    "# add the couples column, swap the columns that need to be swapped\n",
    "with open(os.path.join(rna_rna_files_dir, f\"gene_pairs_{set_data}_nt{suffix}.txt\"), \"rb\") as fp:   #Pickling\n",
    "    subset_test = pickle.load(fp)\n",
    "\n",
    "df_nt = df_nt[df_nt.couples.isin(subset_test)]\n",
    "\n",
    "assert test500.shape[0] == test500[['gene1', 'gene2', 'couples']].merge(df_nt[['gene1', 'gene2', 'couples']], on = ['gene1', 'gene2', 'couples']).shape[0]"
   ]
  },
  {
   "cell_type": "code",
   "execution_count": 27,
   "id": "bfae4d2b-c3de-4d2e-9758-c5eea2ef5ce9",
   "metadata": {},
   "outputs": [],
   "source": [
    "def min_distance(interval1, interval2):\n",
    "    # Sorting intervals to make sure interval1[0] is less than interval2[0]\n",
    "    interval1, interval2 = sorted([interval1, interval2], key=lambda x: x[0])\n",
    "\n",
    "    # Case where intervals overlap\n",
    "    if interval1[1] >= interval2[0]:\n",
    "        return 0\n",
    "\n",
    "    # Minimum distance between non-overlapping intervals\n",
    "    return interval2[0] - interval1[1]\n",
    "\n",
    "gene1_coord = test500['gene1'].str.extractall('(.*)_(.*)_(.*)').reset_index()\n",
    "gene2_coord = test500['gene2'].str.extractall('(.*)_(.*)_(.*)').reset_index()\n",
    "\n",
    "test500['start_window_x'] = gene1_coord[1].astype(int) + test500['x1']\n",
    "test500['end_window_x'] = gene1_coord[1].astype(int) + test500['x2']\n",
    "\n",
    "test500['start_window_y'] = gene2_coord[1].astype(int) + test500['y1']\n",
    "test500['end_window_y'] = gene2_coord[1].astype(int) + test500['y2']"
   ]
  },
  {
   "cell_type": "code",
   "execution_count": 28,
   "id": "862dd078-5a2c-4648-85b4-762b37f46bf4",
   "metadata": {},
   "outputs": [
    {
     "data": {
      "application/vnd.jupyter.widget-view+json": {
       "model_id": "c7efdca8ac7d419b90be446d75d24303",
       "version_major": 2,
       "version_minor": 0
      },
      "text/plain": [
       "  0%|          | 0/28824 [00:00<?, ?it/s]"
      ]
     },
     "metadata": {},
     "output_type": "display_data"
    }
   ],
   "source": [
    "diz = {}\n",
    "for _, row in tqdm(test500.iterrows(), total = test500.shape[0]):\n",
    "    g1, g2 = row.g1, row.g2\n",
    "    x1,x2,y1,y2 = row.start_window_x, row.end_window_x, row.start_window_y, row.end_window_y\n",
    "\n",
    "    couple_name = g1 + '_' + g2\n",
    "    assert couple_name in set(df.couples)\n",
    "\n",
    "    all_interactions = df[df['couples'] == couple_name]\n",
    "\n",
    "    distances_x = []\n",
    "    distances_y = []\n",
    "    for _, df_row in all_interactions.iterrows():\n",
    "        distances_x.append(\n",
    "            min_distance([x1,x2], [df_row.x1,df_row.x1 + df_row.w])\n",
    "        )\n",
    "        distances_y.append(\n",
    "            min_distance([y1,y2], [df_row.y1,df_row.y1 + df_row.h])\n",
    "        )\n",
    "\n",
    "    distance_x = min(distances_x)\n",
    "    distance_y = min(distances_y)\n",
    "    \n",
    "    diz[row.couples] = {'distance_x':distance_x, 'distance_y':distance_y}"
   ]
  },
  {
   "cell_type": "code",
   "execution_count": 30,
   "id": "b7fe04f5-d3c5-44c5-9d41-27930c8125bd",
   "metadata": {},
   "outputs": [
    {
     "name": "stdout",
     "output_type": "stream",
     "text": [
      "easypos\n",
      "0.0\n",
      "0.0\n",
      "\n",
      "\n",
      "smartneg\n",
      "336.0\n",
      "85.0\n"
     ]
    },
    {
     "data": {
      "image/png": "[encoded data removed]",
      "text/plain": [
       "<Figure size 432x288 with 1 Axes>"
      ]
     },
     "metadata": {
      "needs_background": "light"
     },
     "output_type": "display_data"
    },
    {
     "name": "stdout",
     "output_type": "stream",
     "text": [
      "\n",
      "\n",
      "easyneg\n",
      "19946.0\n",
      "124125.0\n"
     ]
    },
    {
     "data": {
      "image/png": "[encoded data removed]",
      "text/plain": [
       "<Figure size 432x288 with 1 Axes>"
      ]
     },
     "metadata": {
      "needs_background": "light"
     },
     "output_type": "display_data"
    },
    {
     "name": "stdout",
     "output_type": "stream",
     "text": [
      "\n",
      "\n",
      "hardneg\n",
      "28703.0\n",
      "160669.0\n"
     ]
    },
    {
     "data": {
      "image/png": "[encoded data removed]",
      "text/plain": [
       "<Figure size 432x288 with 1 Axes>"
      ]
     },
     "metadata": {
      "needs_background": "light"
     },
     "output_type": "display_data"
    },
    {
     "name": "stdout",
     "output_type": "stream",
     "text": [
      "\n",
      "\n"
     ]
    }
   ],
   "source": [
    "distances = pd.DataFrame.from_dict(diz, orient = 'index').reset_index().rename({'index':'couples'},axis =1)\n",
    "test500 = test500.merge(distances, on = 'couples')\n",
    "test500 = test500.merge(df_nt[['couples', 'policy']], on = 'couples')\n",
    "\n",
    "def filter_percentile_for_plot(data, percentile = 0.95):\n",
    "    # Calculate the 95th percentile value\n",
    "    percentile_95 = data.quantile(percentile)\n",
    "\n",
    "    # Filter values less than the 95th percentile\n",
    "    filtered_values = data[data < percentile_95]\n",
    "    \n",
    "    return filtered_values\n",
    "\n",
    "for p in ['easypos', 'smartneg', 'easyneg', 'hardneg']:\n",
    "    print(p)\n",
    "    print(test500[test500.policy == p].distance_x.max())\n",
    "    print(test500[test500.policy == p].distance_y.max())\n",
    "    \n",
    "    if test500[test500.policy == p].distance_x.max() >0:\n",
    "        sns.kdeplot(filter_percentile_for_plot(test500[test500.policy == p].distance_x))\n",
    "        sns.kdeplot(filter_percentile_for_plot(test500[test500.policy == p].distance_y))\n",
    "        plt.show()\n",
    "\n",
    "    print('\\n')"
   ]
  },
  {
   "cell_type": "code",
   "execution_count": 8,
   "id": "481724ca-4d0c-4e6c-b7cf-65a07ec809b6",
   "metadata": {},
   "outputs": [
    {
     "data": {
      "text/html": [
       "<div>\n",
       "<style scoped>\n",
       "    .dataframe tbody tr th:only-of-type {\n",
       "        vertical-align: middle;\n",
       "    }\n",
       "\n",
       "    .dataframe tbody tr th {\n",
       "        vertical-align: top;\n",
       "    }\n",
       "\n",
       "    .dataframe thead th {\n",
       "        text-align: right;\n",
       "    }\n",
       "</style>\n",
       "<table border=\"1\" class=\"dataframe\">\n",
       "  <thead>\n",
       "    <tr style=\"text-align: right;\">\n",
       "      <th></th>\n",
       "      <th>gene1</th>\n",
       "      <th>gene2</th>\n",
       "      <th>x1</th>\n",
       "      <th>x2</th>\n",
       "      <th>y1</th>\n",
       "      <th>y2</th>\n",
       "      <th>seed_x1</th>\n",
       "      <th>seed_x2</th>\n",
       "      <th>seed_y1</th>\n",
       "      <th>seed_y2</th>\n",
       "      <th>...</th>\n",
       "      <th>couples</th>\n",
       "      <th>g1</th>\n",
       "      <th>g2</th>\n",
       "      <th>feature1</th>\n",
       "      <th>feature2</th>\n",
       "      <th>full_feature1</th>\n",
       "      <th>full_feature2</th>\n",
       "      <th>distance_x</th>\n",
       "      <th>distance_y</th>\n",
       "      <th>policy</th>\n",
       "    </tr>\n",
       "  </thead>\n",
       "  <tbody>\n",
       "    <tr>\n",
       "      <th>3668</th>\n",
       "      <td>ENSMUSG00000097971_0_3329</td>\n",
       "      <td>ENSMUSG00000097971_0_3329</td>\n",
       "      <td>619</td>\n",
       "      <td>1119</td>\n",
       "      <td>828</td>\n",
       "      <td>1328</td>\n",
       "      <td>703.0</td>\n",
       "      <td>743.0</td>\n",
       "      <td>1144.0</td>\n",
       "      <td>1170.0</td>\n",
       "      <td>...</td>\n",
       "      <td>154164</td>\n",
       "      <td>ENSMUSG00000097971</td>\n",
       "      <td>ENSMUSG00000097971</td>\n",
       "      <td>None</td>\n",
       "      <td>None</td>\n",
       "      <td>None</td>\n",
       "      <td>None</td>\n",
       "      <td>25.0</td>\n",
       "      <td>85.0</td>\n",
       "      <td>smartneg</td>\n",
       "    </tr>\n",
       "    <tr>\n",
       "      <th>12866</th>\n",
       "      <td>ENSMUSG00000064351_0_1545</td>\n",
       "      <td>ENSMUSG00000064351_0_1545</td>\n",
       "      <td>550</td>\n",
       "      <td>1050</td>\n",
       "      <td>4</td>\n",
       "      <td>504</td>\n",
       "      <td>565.0</td>\n",
       "      <td>587.0</td>\n",
       "      <td>183.0</td>\n",
       "      <td>214.0</td>\n",
       "      <td>...</td>\n",
       "      <td>153918</td>\n",
       "      <td>ENSMUSG00000064351</td>\n",
       "      <td>ENSMUSG00000064351</td>\n",
       "      <td>Not present</td>\n",
       "      <td>Not present</td>\n",
       "      <td>Not present</td>\n",
       "      <td>Not present</td>\n",
       "      <td>336.0</td>\n",
       "      <td>61.0</td>\n",
       "      <td>smartneg</td>\n",
       "    </tr>\n",
       "  </tbody>\n",
       "</table>\n",
       "<p>2 rows × 24 columns</p>\n",
       "</div>"
      ],
      "text/plain": [
       "                           gene1                      gene2   x1    x2   y1  \\\n",
       "3668   ENSMUSG00000097971_0_3329  ENSMUSG00000097971_0_3329  619  1119  828   \n",
       "12866  ENSMUSG00000064351_0_1545  ENSMUSG00000064351_0_1545  550  1050    4   \n",
       "\n",
       "         y2  seed_x1  seed_x2  seed_y1  seed_y2  ... couples  \\\n",
       "3668   1328    703.0    743.0   1144.0   1170.0  ...  154164   \n",
       "12866   504    565.0    587.0    183.0    214.0  ...  153918   \n",
       "\n",
       "                       g1                  g2     feature1     feature2  \\\n",
       "3668   ENSMUSG00000097971  ENSMUSG00000097971         None         None   \n",
       "12866  ENSMUSG00000064351  ENSMUSG00000064351  Not present  Not present   \n",
       "\n",
       "      full_feature1 full_feature2 distance_x distance_y    policy  \n",
       "3668           None          None       25.0       85.0  smartneg  \n",
       "12866   Not present   Not present      336.0       61.0  smartneg  \n",
       "\n",
       "[2 rows x 24 columns]"
      ]
     },
     "execution_count": 8,
     "metadata": {},
     "output_type": "execute_result"
    }
   ],
   "source": [
    "test500[(test500.policy == 'smartneg') & ( (test500.distance_x > 0) | (test500.distance_y > 0) )]"
   ]
  },
  {
   "cell_type": "code",
   "execution_count": 18,
   "id": "3bf979d8-1140-43cb-93dc-89567ee184ac",
   "metadata": {},
   "outputs": [],
   "source": [
    "test500 = test500.drop(['start_window_x', 'end_window_x', 'start_window_y', 'end_window_y'], axis = 1)\n",
    "\n",
    "condition_wrong_smartneg = (test500['policy'] == 'smartneg') & (test500['distance_x'] > 0) & (test500['distance_y'] > 0)\n",
    "condition_wrong_easyneg = (test500['policy'] == 'easyneg') &  (test500['distance_x'] == 0) & (test500['distance_y'] == 0) \n",
    "\n",
    "test500.loc[condition_wrong_smartneg, 'policy'] = 'easyneg'\n",
    "test500.loc[condition_wrong_easyneg, 'policy'] = 'smartneg'\n",
    "\n",
    "assert (test500[condition_wrong_smartneg].policy == 'easyneg').all()\n",
    "assert (test500[condition_wrong_easyneg].policy == 'smartneg').all()"
   ]
  },
  {
   "cell_type": "code",
   "execution_count": 21,
   "id": "00095ea7-7f3c-4281-9a18-0c5b7eedff05",
   "metadata": {},
   "outputs": [],
   "source": [
    "test500.to_csv(os.path.join(metadata_dir, f'{set_data}500.csv'), index = False)"
   ]
  },
  {
   "cell_type": "markdown",
   "id": "8b3f7ceb-5c4b-4b31-b61c-56c225c8c826",
   "metadata": {},
   "source": [
    "# Download HN, EN set 500 nucleotides in the same embedding of P, SN"
   ]
  },
  {
   "cell_type": "code",
   "execution_count": 4,
   "id": "dbc185ae-1a51-459a-9dd3-a7a1235031a9",
   "metadata": {},
   "outputs": [],
   "source": [
    "assert HQ"
   ]
  },
  {
   "cell_type": "code",
   "execution_count": 5,
   "id": "b02be678-551e-4a6d-bff1-5ca226fa5bb2",
   "metadata": {},
   "outputs": [
    {
     "name": "stdout",
     "output_type": "stream",
     "text": [
      "============================================================\n",
      "<class 'transformers.tokenization_dna.DNATokenizer'>\n"
     ]
    }
   ],
   "source": [
    "import util.misc as utils\n",
    "import shutil\n",
    "\n",
    "def load_data_bert_script(dataset_files_dir, MAX_RNA_SIZE_BERT):\n",
    "    source_file_path = os.path.join(dataset_files_dir, 'data.py')\n",
    "    data_bert_file_path = os.path.join(dataset_files_dir, 'data_bert.py')\n",
    "    shutil.copy(source_file_path, data_bert_file_path)\n",
    "    new_max_rna_length = MAX_RNA_SIZE_BERT\n",
    "\n",
    "    # Read the content of data_bert.py\n",
    "    with open(data_bert_file_path, 'r') as file:\n",
    "        lines = file.readlines()\n",
    "\n",
    "    # Find and modify the MAX_RNA_LENGTH line\n",
    "    modified_lines = []\n",
    "    for line in lines:\n",
    "        if line.startswith('MAX_RNA_SIZE'):\n",
    "            modified_lines.append(f'MAX_RNA_SIZE = {new_max_rna_length}\\n')\n",
    "        else:\n",
    "            modified_lines.append(line)\n",
    "\n",
    "    # Write the modified content back to data_bert.py\n",
    "    with open(data_bert_file_path, 'w') as file:\n",
    "        file.writelines(modified_lines)\n",
    "\n",
    "load_data_bert_script(dataset_files_dir, MAX_RNA_SIZE_BERT)\n",
    "\n",
    "from dataset.data_bert import (\n",
    "    RNADataset,\n",
    "    RNADatasetNT,\n",
    "    EasyPosAugment,\n",
    "    SmartNegAugment,\n",
    "    InteractionSelectionPolicy,\n",
    "    create_augment_list,\n",
    "    seed_everything,\n",
    ")\n"
   ]
  },
  {
   "cell_type": "code",
   "execution_count": 6,
   "id": "e8b20d68-c967-47db-bdf7-37a331032618",
   "metadata": {},
   "outputs": [],
   "source": [
    "set_data = 'test'\n",
    "\n",
    "assert set_data in ['test', 'val']"
   ]
  },
  {
   "cell_type": "code",
   "execution_count": 7,
   "id": "5bf4192f-41ed-4694-af69-e40bdc1d55c3",
   "metadata": {},
   "outputs": [],
   "source": [
    "file_test  = os.path.join(rna_rna_files_dir, f\"gene_pairs_{set_data}_nt{suffix}.txt\")\n",
    "with open(file_test, \"rb\") as fp:   # Unpickling\n",
    "    gene_pairs_test = pickle.load(fp)\n",
    "\n",
    "df_nt = pd.read_csv(os.path.join(metadata_dir,  f'df_nt{suffix}.csv'))"
   ]
  },
  {
   "cell_type": "code",
   "execution_count": 8,
   "id": "e2c16580-7320-48af-ba38-f91d18b1ae4c",
   "metadata": {
    "tags": []
   },
   "outputs": [],
   "source": [
    "file_test  = os.path.join(rna_rna_files_dir, f\"gene_pairs_{set_data}_nt{suffix}.txt\")\n",
    "with open(file_test, \"rb\") as fp:   # Unpickling\n",
    "    gene_pairs_test = pickle.load(fp)\n",
    "\n",
    "df_nt = pd.read_csv(os.path.join(metadata_dir,  f'df_nt{suffix}.csv'))\n",
    "df_nt = df_nt[df_nt.policy.isin(['easypos', 'smartneg'])].reset_index(drop = True)\n",
    "df_genes_nt = pd.read_csv(os.path.join(metadata_dir,  f'df_genes_nt{suffix}.csv'))\n",
    "df_nt, df_genes_nt = clean_nt_dataframes_before_class_input(df_nt, df_genes_nt)\n",
    "\n",
    "neg_windows = {(500, 501): 1.}\n",
    "\n",
    "policies_test = [\n",
    "    HardNegAugment(\n",
    "        per_sample=1,\n",
    "        width_windows=neg_windows,\n",
    "        height_windows=neg_windows,\n",
    "    ),\n",
    "    EasyNegAugment(\n",
    "        per_sample=1,\n",
    "        width_windows=neg_windows,\n",
    "        height_windows=neg_windows,\n",
    "    ),\n",
    "]\n",
    "\n",
    "dataset_test = RNADatasetNT(\n",
    "    gene2info=df_genes_nt,\n",
    "    interactions=df_nt,\n",
    "    subset_file=file_test,\n",
    "    augment_policies=policies_test,\n",
    "    data_dir = os.path.join(embedding_dir, '32'),\n",
    "    scaling_factor = 5,\n",
    "    min_n_groups = np.nan,\n",
    "    max_n_groups = 80,\n",
    ")"
   ]
  },
  {
   "cell_type": "code",
   "execution_count": 9,
   "id": "644f088b-933f-4859-8cb9-a9e2b395d9e9",
   "metadata": {},
   "outputs": [
    {
     "data": {
      "application/vnd.jupyter.widget-view+json": {
       "model_id": "af1c7bc699e44566a3920bb818fecdc0",
       "version_major": 2,
       "version_minor": 0
      },
      "text/plain": [
       "  0%|          | 0/14411 [00:00<?, ?it/s]"
      ]
     },
     "metadata": {},
     "output_type": "display_data"
    }
   ],
   "source": [
    "test500 = []\n",
    "\n",
    "for s in tqdm(dataset_test):\n",
    "    \n",
    "    gene1, gene2 = s.gene1, s.gene2\n",
    "\n",
    "    x1, x2, y1, y2 = s.bbox.x1, s.bbox.x2, s.bbox.y1, s.bbox.y2\n",
    "\n",
    "    seed_x1, seed_x2, seed_y1, seed_y2 = s.seed_interaction_bbox.x1, s.seed_interaction_bbox.x2, s.seed_interaction_bbox.y1, s.seed_interaction_bbox.y2\n",
    "    \n",
    "    interacting = s.interacting\n",
    "\n",
    "    cdna1, cdna2 = s.gene1_info['cdna'], s.gene2_info['cdna']\n",
    "\n",
    "    cdna1slice, cdna2slice = cdna1[x1:x2], cdna2[y1:y2]\n",
    "    \n",
    "    assert len(s.all_couple_interactions) == 1\n",
    "    couples_id = s.all_couple_interactions[0]['couple']\n",
    "\n",
    "    test500.append({\n",
    "        'gene1':gene1,\n",
    "        'gene2':gene2,\n",
    "        'x1':x1,\n",
    "        'x2':x2,\n",
    "        'y1':y1,\n",
    "        'y2':y2,\n",
    "        'seed_x1':seed_x1,\n",
    "        'seed_x2':seed_x2,\n",
    "        'seed_y1':seed_y1,\n",
    "        'seed_y2':seed_y2,\n",
    "        'cdna1':cdna1slice,\n",
    "        'cdna2':cdna2slice,\n",
    "        'len1':len(cdna1slice),\n",
    "        'len2':len(cdna2slice),\n",
    "        'couples':couples_id\n",
    "    })\n",
    "    \n",
    "test500 = pd.DataFrame(test500)\n",
    "\n",
    "assert test500.len1.max() == test500.len2.max() == 500\n",
    "n_rows = test500.shape[0]"
   ]
  },
  {
   "cell_type": "code",
   "execution_count": 10,
   "id": "0df9e8bd-413f-4c25-9fc4-25e21e65d506",
   "metadata": {},
   "outputs": [],
   "source": [
    "assert (test500.seed_x1 <= test500.seed_x2).all()\n",
    "assert (test500.seed_y1 <= test500.seed_y2).all()\n",
    "\n",
    "hn = test500[test500['couples'].isin(df_nt[df_nt['policy'] == 'easypos'].couples)]\n",
    "assert ((hn.x1 >= hn.seed_x2) | (hn.x2 <= hn.seed_x1) | (hn.y1 >= hn.seed_y2) | (hn.y2 <= hn.seed_y1)).all()"
   ]
  },
  {
   "cell_type": "code",
   "execution_count": 11,
   "id": "cb4654c7-0203-46a8-a9e8-5214ebe67008",
   "metadata": {
    "tags": []
   },
   "outputs": [],
   "source": [
    "# add the couples column, swap the columns that need to be swapped\n",
    "with open(os.path.join(rna_rna_files_dir, f\"gene_pairs_{set_data}_nt{suffix}.txt\"), \"rb\") as fp:   #Pickling\n",
    "    subset_test = pickle.load(fp)\n",
    "\n",
    "df_nt = df_nt[df_nt.couples.isin(subset_test)]\n",
    "\n",
    "test500_1 = test500.merge(df_nt[['gene1', 'gene2', 'couples']], left_on = ['gene1', 'gene2'], right_on = ['gene1', 'gene2'])\n",
    "test500_2 = test500.merge(df_nt[['gene1', 'gene2', 'couples']], left_on = ['gene1', 'gene2'], right_on = ['gene2', 'gene1'])\n",
    "\n",
    "\n",
    "test500_2 = test500_2.drop(['gene1_x', 'gene2_x'], axis = 1).rename({'gene1_y':'gene1', 'gene2_y':'gene2'}, axis = 1)\n",
    "where = test500_2.len1>0 #all rows\n",
    "test500_2.loc[where, ['x1', 'y1']] = (test500_2.loc[where, ['y1', 'x1']].values)\n",
    "test500_2.loc[where, ['x2', 'y2']] = (test500_2.loc[where, ['y2', 'x2']].values)\n",
    "test500_2.loc[where, ['seed_x1', 'seed_y1']] = (test500_2.loc[where, ['seed_y1', 'seed_x1']].values)\n",
    "test500_2.loc[where, ['seed_x2', 'seed_y2']] = (test500_2.loc[where, ['seed_y2', 'seed_x2']].values)\n",
    "test500_2.loc[where, ['len1', 'len2']] = (test500_2.loc[where, ['len2', 'len1']].values)\n",
    "test500_2.loc[where, ['cdna1', 'cdna2']] = (test500_2.loc[where, ['cdna2', 'cdna1']].values)\n",
    "\n",
    "#shuffling\n",
    "test500 = pd.concat([test500_1, test500_2], axis = 0).sample(frac=1).reset_index(drop = True)\n",
    "\n",
    "#clean couples column\n",
    "assert (test500.couples_x == test500.couples_y).all()\n",
    "test500 = test500.drop('couples_x', axis = 1).rename({'couples_y':'couples'}, axis = 1)\n",
    "\n",
    "#clean gene_name_column\n",
    "test500['gene1'] = test500['gene1'].str.extractall('(.*)_(.*)').reset_index()[0]\n",
    "test500['gene2'] = test500['gene2'].str.extractall('(.*)_(.*)').reset_index()[0]\n",
    "\n",
    "#clean gene_name_column\n",
    "df_nt['gene1'] = df_nt['gene1'].str.extractall('(.*)_(.*)').reset_index(1)[0]\n",
    "df_nt['gene2'] = df_nt['gene2'].str.extractall('(.*)_(.*)').reset_index(1)[0]"
   ]
  },
  {
   "cell_type": "code",
   "execution_count": 12,
   "id": "1ec8d5f4-5004-41cb-a234-10d2399867d7",
   "metadata": {},
   "outputs": [
    {
     "name": "stdout",
     "output_type": "stream",
     "text": [
      "NB There are  2  duplicated in df_nt (i think they are easyneg and smartneg overlapping)\n"
     ]
    }
   ],
   "source": [
    "assert df_nt[df_nt.duplicated(set(df_nt.columns) - {'couples'})].shape[0] < df_nt.shape[0]*0.01\n",
    "\n",
    "print('NB There are ', abs(n_rows - test500.shape[0]), ' duplicated in df_nt (i think they are easyneg and smartneg overlapping)')\n",
    "# with respect to this key \n",
    "# df_nt['key'] = df_nt['gene1'] + '_' + df_nt['gene2'] \n",
    "# but they are few\n",
    "# df_nt[(df_nt['gene1'] + '_' + df_nt['gene2']).duplicated()]"
   ]
  },
  {
   "cell_type": "markdown",
   "id": "c1f0b667-dc61-4c3c-b242-a7ce61243d47",
   "metadata": {},
   "source": [
    "#### Repeats"
   ]
  },
  {
   "cell_type": "code",
   "execution_count": 13,
   "id": "e99c6cda-65c3-446b-b16e-bb311d44b9a5",
   "metadata": {},
   "outputs": [],
   "source": [
    "filepath = os.path.join(processed_files_dir, 'nt_data', 'mean_embeddings', 'df_repeats.csv')\n",
    "if os.path.isfile(filepath):\n",
    "    df_repeats = pd.read_csv(filepath)"
   ]
  },
  {
   "cell_type": "code",
   "execution_count": 14,
   "id": "ab8e9985-0ad2-46e2-8a5a-806eb0b09441",
   "metadata": {},
   "outputs": [],
   "source": [
    "def get_features1(row):\n",
    "    gene_id = row['g1']\n",
    "    overlaps = df_repeats[(df_repeats['gene_id'] == gene_id) & ((df_repeats['start'] <= row['x2']) & (df_repeats['end'] >= row['x1']))]\n",
    "    if len(overlaps) > 0:\n",
    "        return ', '.join(overlaps['feature'])\n",
    "    elif gene_id in df_repeats['gene_id'].values:\n",
    "        return 'None'\n",
    "    else:\n",
    "        return 'Not present'\n",
    "\n",
    "def get_features2(row):\n",
    "    gene_id = row['g2']\n",
    "    overlaps = df_repeats[(df_repeats['gene_id'] == gene_id) & ((df_repeats['start'] <= row['y2']) & (df_repeats['end'] >= row['y1']))]\n",
    "    if len(overlaps) > 0:\n",
    "        return ', '.join(overlaps['feature'])\n",
    "    elif gene_id in df_repeats['gene_id'].values:\n",
    "        return 'None'\n",
    "    else:\n",
    "        return 'Not present'\n",
    "\n",
    "test500['g1'] = test500['gene1'].str.extractall('(.*)_(.*)_(.*)').reset_index()[0]\n",
    "test500['g2'] = test500['gene2'].str.extractall('(.*)_(.*)_(.*)').reset_index()[0]\n",
    "\n",
    "# Apply the function to create the 'feature1' column in the test500 dataframe\n",
    "test500['feature1'] = test500.apply(get_features1, axis=1) # test500['feature1']\n",
    "test500['feature2'] = test500.apply(get_features2, axis=1) # test500['feature1']\n",
    "\n",
    "def get_full_overlap_features1(row):\n",
    "    gene_id = row['g1']\n",
    "    overlaps = df_repeats[(df_repeats['gene_id'] == gene_id) & ((df_repeats['start'] >= row['x1']) & (df_repeats['end'] <= row['x2']))]\n",
    "    if len(overlaps) > 0:\n",
    "        return ', '.join(overlaps['feature'])\n",
    "    elif gene_id in df_repeats['gene_id'].values:\n",
    "        return 'None'\n",
    "    else:\n",
    "        return 'Not present'\n",
    "\n",
    "def get_full_overlap_features2(row):\n",
    "    gene_id = row['g2']\n",
    "    overlaps = df_repeats[(df_repeats['gene_id'] == gene_id) & ((df_repeats['start'] >= row['y2']) & (df_repeats['end'] <= row['y1']))]\n",
    "    if len(overlaps) > 0:\n",
    "        return ', '.join(overlaps['feature'])\n",
    "    elif gene_id in df_repeats['gene_id'].values:\n",
    "        return 'None'\n",
    "    else:\n",
    "        return 'Not present'\n",
    "    \n",
    "test500['full_feature1'] = test500.apply(get_full_overlap_features1, axis=1) # test500['feature1']\n",
    "test500['full_feature2'] = test500.apply(get_full_overlap_features2, axis=1) # test500['feature1']"
   ]
  },
  {
   "cell_type": "code",
   "execution_count": 15,
   "id": "3b1b1b1c-e107-48ca-a479-64d132a907ae",
   "metadata": {},
   "outputs": [],
   "source": [
    "test500.to_csv(os.path.join(metadata_dir, f'{set_data}ENHN500.csv'), index = False)"
   ]
  },
  {
   "cell_type": "markdown",
   "id": "ceb901dc-4eab-4da8-8d67-f04e8ae6ff36",
   "metadata": {},
   "source": [
    "### Add the distance to the colosest region of interaction \n"
   ]
  },
  {
   "cell_type": "code",
   "execution_count": 40,
   "id": "a8ad259c-643d-48ff-8cf0-02d1fe7c8980",
   "metadata": {},
   "outputs": [],
   "source": [
    "test500 = pd.read_csv(os.path.join(metadata_dir, f'{set_data}ENHN500.csv'))\n",
    "df_nt = pd.read_csv(os.path.join(metadata_dir,  f'df_nt{suffix}.csv'))\n",
    "\n",
    "# add the couples column, swap the columns that need to be swapped\n",
    "with open(os.path.join(rna_rna_files_dir, f\"gene_pairs_{set_data}_nt{suffix}.txt\"), \"rb\") as fp:   #Pickling\n",
    "    subset_test = pickle.load(fp)\n",
    "\n",
    "df_nt = df_nt[df_nt.couples.isin(subset_test)]\n",
    "\n",
    "assert test500.shape[0] == test500[['gene1', 'gene2', 'couples']].merge(df_nt[['gene1', 'gene2', 'couples']], on = ['gene1', 'gene2', 'couples']).shape[0]"
   ]
  },
  {
   "cell_type": "code",
   "execution_count": 41,
   "id": "ef2af656-027d-4207-9095-aa7eefc820c5",
   "metadata": {},
   "outputs": [],
   "source": [
    "def min_distance(interval1, interval2):\n",
    "    # Sorting intervals to make sure interval1[0] is less than interval2[0]\n",
    "    interval1, interval2 = sorted([interval1, interval2], key=lambda x: x[0])\n",
    "\n",
    "    # Case where intervals overlap\n",
    "    if interval1[1] >= interval2[0]:\n",
    "        return 0\n",
    "\n",
    "    # Minimum distance between non-overlapping intervals\n",
    "    return interval2[0] - interval1[1]\n",
    "\n",
    "gene1_coord = test500['gene1'].str.extractall('(.*)_(.*)_(.*)').reset_index()\n",
    "gene2_coord = test500['gene2'].str.extractall('(.*)_(.*)_(.*)').reset_index()\n",
    "\n",
    "test500['start_window_x'] = gene1_coord[1].astype(int) + test500['x1']\n",
    "test500['end_window_x'] = gene1_coord[1].astype(int) + test500['x2']\n",
    "\n",
    "test500['start_window_y'] = gene2_coord[1].astype(int) + test500['y1']\n",
    "test500['end_window_y'] = gene2_coord[1].astype(int) + test500['y2']"
   ]
  },
  {
   "cell_type": "code",
   "execution_count": 42,
   "id": "3ff97ba8-e069-4d05-8510-0bbe07a86932",
   "metadata": {},
   "outputs": [
    {
     "data": {
      "application/vnd.jupyter.widget-view+json": {
       "model_id": "84fd8e277a964e03811cbd88f8580ac2",
       "version_major": 2,
       "version_minor": 0
      },
      "text/plain": [
       "  0%|          | 0/14413 [00:00<?, ?it/s]"
      ]
     },
     "metadata": {},
     "output_type": "display_data"
    }
   ],
   "source": [
    "diz = {}\n",
    "for _, row in tqdm(test500.iterrows(), total = test500.shape[0]):\n",
    "    g1, g2 = row.g1, row.g2\n",
    "    x1,x2,y1,y2 = row.start_window_x, row.end_window_x, row.start_window_y, row.end_window_y\n",
    "\n",
    "    couple_name = g1 + '_' + g2\n",
    "    assert couple_name in set(df.couples)\n",
    "\n",
    "    all_interactions = df[df['couples'] == couple_name]\n",
    "\n",
    "    distances_x = []\n",
    "    distances_y = []\n",
    "    for _, df_row in all_interactions.iterrows():\n",
    "        distances_x.append(\n",
    "            min_distance([x1,x2], [df_row.x1,df_row.x1 + df_row.w])\n",
    "        )\n",
    "        distances_y.append(\n",
    "            min_distance([y1,y2], [df_row.y1,df_row.y1 + df_row.h])\n",
    "        )\n",
    "\n",
    "    distance_x = min(distances_x)\n",
    "    distance_y = min(distances_y)\n",
    "    \n",
    "    diz[row.couples] = {'distance_x':distance_x, 'distance_y':distance_y}"
   ]
  },
  {
   "cell_type": "code",
   "execution_count": 43,
   "id": "4788dcf0-8105-41d3-bf32-b76475e6bf69",
   "metadata": {},
   "outputs": [],
   "source": [
    "test500 = test500.filter(['gene1', 'gene2', 'x1', 'x2', 'y1', 'y2', \n",
    "                'seed_x1', 'seed_x2', 'seed_y1', 'seed_y2', \n",
    "                'cdna1', 'cdna2', 'len1', 'len2', 'couples',\n",
    "                'g1','g2', 'feature1', 'feature2'\n",
    "               ], axis = 1)"
   ]
  },
  {
   "cell_type": "code",
   "execution_count": 44,
   "id": "50793f5b-5f20-41c2-94ed-28c3422c08c5",
   "metadata": {},
   "outputs": [
    {
     "name": "stdout",
     "output_type": "stream",
     "text": [
      "easypos\n",
      "nan\n",
      "nan\n",
      "\n",
      "\n",
      "smartneg\n",
      "nan\n",
      "nan\n",
      "\n",
      "\n",
      "easyneg\n",
      "5366.0\n",
      "5368.0\n"
     ]
    },
    {
     "data": {
      "image/png": "[encoded data removed]",
      "text/plain": [
       "<Figure size 432x288 with 1 Axes>"
      ]
     },
     "metadata": {
      "needs_background": "light"
     },
     "output_type": "display_data"
    },
    {
     "name": "stdout",
     "output_type": "stream",
     "text": [
      "\n",
      "\n",
      "hardneg\n",
      "5423.0\n",
      "5357.0\n"
     ]
    },
    {
     "data": {
      "image/png": "[encoded data removed]",
      "text/plain": [
       "<Figure size 432x288 with 1 Axes>"
      ]
     },
     "metadata": {
      "needs_background": "light"
     },
     "output_type": "display_data"
    },
    {
     "name": "stdout",
     "output_type": "stream",
     "text": [
      "\n",
      "\n"
     ]
    }
   ],
   "source": [
    "distances = pd.DataFrame.from_dict(diz, orient = 'index').reset_index().rename({'index':'couples'},axis =1)\n",
    "test500 = test500.merge(distances, on = 'couples')\n",
    "test500 = test500.merge(df_nt[['couples', 'policy']], on = 'couples')\n",
    "\n",
    "#I have to change policy values because they where caclulated over the original embeddings\n",
    "test500.loc[(test500['policy'] == 'smartneg'), 'policy'] = 'easyneg'\n",
    "test500.loc[(test500['policy'] == 'easypos'), 'policy'] = 'hardneg'\n",
    "\n",
    "\n",
    "def filter_percentile_for_plot(data, percentile = 0.95):\n",
    "    # Calculate the 95th percentile value\n",
    "    percentile_95 = data.quantile(percentile)\n",
    "\n",
    "    # Filter values less than the 95th percentile\n",
    "    filtered_values = data[data < percentile_95]\n",
    "    \n",
    "    return filtered_values\n",
    "\n",
    "for p in ['easypos', 'smartneg', 'easyneg', 'hardneg']:\n",
    "    print(p)\n",
    "    print(test500[test500.policy == p].distance_x.max())\n",
    "    print(test500[test500.policy == p].distance_y.max())\n",
    "    \n",
    "    if test500[test500.policy == p].distance_x.max() >0:\n",
    "        sns.kdeplot(filter_percentile_for_plot(test500[test500.policy == p].distance_x))\n",
    "        sns.kdeplot(filter_percentile_for_plot(test500[test500.policy == p].distance_y))\n",
    "        plt.show()\n",
    "\n",
    "    print('\\n')"
   ]
  },
  {
   "cell_type": "code",
   "execution_count": 45,
   "id": "3cdedcd8-0449-4182-bdf1-7dda4b335f29",
   "metadata": {},
   "outputs": [],
   "source": [
    "condition_wrong_hardneg = (test500['policy'] == 'hardneg') &  (test500['distance_x'] == 0) & (test500['distance_y'] == 0) \n",
    "condition_wrong_easyneg = (test500['policy'] == 'easyneg') &  (test500['distance_x'] == 0) & (test500['distance_y'] == 0) \n",
    "\n",
    "test500.loc[condition_wrong_hardneg, 'policy'] = 'easypos'\n",
    "test500.loc[condition_wrong_easyneg, 'policy'] = 'smartneg'\n",
    "\n",
    "assert (test500[condition_wrong_hardneg].policy == 'easypos').all()\n",
    "assert (test500[condition_wrong_easyneg].policy == 'smartneg').all()"
   ]
  },
  {
   "cell_type": "code",
   "execution_count": 47,
   "id": "24e5db1f-7dd1-4022-8807-95e22f570f15",
   "metadata": {},
   "outputs": [
    {
     "data": {
      "text/plain": [
       "hardneg     7057\n",
       "easyneg     6970\n",
       "smartneg     353\n",
       "easypos       33\n",
       "Name: policy, dtype: int64"
      ]
     },
     "execution_count": 47,
     "metadata": {},
     "output_type": "execute_result"
    }
   ],
   "source": [
    "# come mai ci sono easypos? non funziona bene la generazione di hardneg?\n",
    "test500.policy.value_counts()"
   ]
  },
  {
   "cell_type": "code",
   "execution_count": 48,
   "id": "25c34508-09e0-4ca1-82e0-445e547666f1",
   "metadata": {},
   "outputs": [],
   "source": [
    "#drop easypos and smartneg, I only want EN, HN\n",
    "test500 = test500[test500.policy.isin(['hardneg', 'easyneg'])].reset_index(drop = True)"
   ]
  },
  {
   "cell_type": "code",
   "execution_count": 49,
   "id": "90f05f22-a370-422c-bc56-ad58a7766b52",
   "metadata": {},
   "outputs": [],
   "source": [
    "test500.to_csv(os.path.join(metadata_dir, f'{set_data}ENHN500.csv'), index = False)"
   ]
  },
  {
   "cell_type": "markdown",
   "id": "6beb4698-096b-40e1-b00d-ff7d45f3b1f4",
   "metadata": {},
   "source": [
    "# DROP SECONDARY STRUCTURE COUPLES "
   ]
  },
  {
   "cell_type": "code",
   "execution_count": null,
   "id": "d37b313b-2b8d-4035-aaf0-407b306bfaa6",
   "metadata": {},
   "outputs": [],
   "source": [
    "set_data = 'test'\n",
    "test500 = pd.read_csv(os.path.join(metadata_dir, f'{set_data}500.csv'))\n",
    "test500[~(test500.g1 == test500.g2)].reset_index(drop = True).to_csv(os.path.join(metadata_dir, f'{set_data}500.csv'), index = False)"
   ]
  },
  {
   "cell_type": "code",
   "execution_count": 19,
   "id": "2299ad79-2aed-419a-bf27-7441bd8925b7",
   "metadata": {},
   "outputs": [],
   "source": [
    "test500 = pd.read_csv(os.path.join(metadata_dir, f'{set_data}ENHN500.csv'))\n",
    "test500[~(test500.g1 == test500.g2)].reset_index(drop = True).to_csv(os.path.join(metadata_dir, f'{set_data}ENHN500.csv'), index = False)"
   ]
  }
 ],
 "metadata": {
  "kernelspec": {
   "display_name": "Python 3 (ipykernel)",
   "language": "python",
   "name": "python3"
  },
  "language_info": {
   "codemirror_mode": {
    "name": "ipython",
    "version": 3
   },
   "file_extension": ".py",
   "mimetype": "text/x-python",
   "name": "python",
   "nbconvert_exporter": "python",
   "pygments_lexer": "ipython3",
   "version": "3.9.7"
  }
 },
 "nbformat": 4,
 "nbformat_minor": 5
}
