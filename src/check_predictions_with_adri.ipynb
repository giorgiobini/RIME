{
 "cells": [
  {
   "cell_type": "code",
   "execution_count": 1,
   "id": "87739880",
   "metadata": {},
   "outputs": [],
   "source": [
    "its_jupyter_notebook = True"
   ]
  },
  {
   "cell_type": "code",
   "execution_count": 2,
   "id": "e8c9f77f",
   "metadata": {},
   "outputs": [
    {
     "name": "stdout",
     "output_type": "stream",
     "text": [
      "============================================================\n",
      "<class 'transformers.tokenization_dna.DNATokenizer'>\n"
     ]
    }
   ],
   "source": [
    "import pandas as pd\n",
    "import os\n",
    "import time\n",
    "import numpy as np\n",
    "import pickle\n",
    "import argparse\n",
    "from tqdm.notebook import tqdm\n",
    "import torch\n",
    "import matplotlib.pyplot as plt\n",
    "import sys\n",
    "import datetime\n",
    "from pathlib import Path\n",
    "import seaborn as sns\n",
    "import time\n",
    "from Bio import SeqIO\n",
    "from torch.utils.data import DataLoader\n",
    "import sys\n",
    "from sklearn.metrics import classification_report, roc_curve, roc_auc_score, auc\n",
    "\n",
    "sys.path.insert(0, '..')\n",
    "\n",
    "from config import *\n",
    "import util.misc as utils\n",
    "from models.nt_classifier import build as build_model\n",
    "if its_jupyter_notebook:\n",
    "    sys.argv = [''] #Remove this if it's not a jupyter notebook!"
   ]
  },
  {
   "cell_type": "code",
   "execution_count": 3,
   "id": "6294b475-4e7a-46cb-b151-000bed7cab55",
   "metadata": {},
   "outputs": [],
   "source": [
    "check_data_path = '/data01/giorgio/RNARNA-NT/dataset/external_dataset/check_predictions'\n",
    "original_data_path = os.path.join(check_data_path, 'original_data', 'check_predictions')\n",
    "embedding_dir = os.path.join(check_data_path, 'embeddings')"
   ]
  },
  {
   "cell_type": "code",
   "execution_count": 4,
   "id": "ef7bb542-a02c-41fa-a95e-accf767282ea",
   "metadata": {},
   "outputs": [],
   "source": [
    "# Function to parse the content\n",
    "def parse_fa_content(content):\n",
    "    entries = content.strip().split('>')\n",
    "    data = []\n",
    "    for entry in entries:\n",
    "        if entry:\n",
    "            lines = entry.split('\\n')\n",
    "            id_query = lines[0]\n",
    "            cdna = ''.join(lines[1:])\n",
    "            data.append([id_query, cdna])\n",
    "    return pd.DataFrame(data, columns=['id_query', 'cdna'])\n",
    "\n",
    "\n",
    "with open(os.path.join(original_data_path, 'embeddings.fa'), 'r') as file:\n",
    "    file_content = file.read()\n",
    "\n",
    "# Parse the content and create the DataFrame\n",
    "df_query = parse_fa_content(file_content)"
   ]
  },
  {
   "cell_type": "code",
   "execution_count": 5,
   "id": "1fbb572f-3012-47cd-ac39-07d92a47b342",
   "metadata": {},
   "outputs": [],
   "source": [
    "# devo droppare tutti quelli che non iniziano per ens\n",
    "df_query['ens_gene'] = df_query['id_query'].str.startswith('ENS')\n",
    "df_query = df_query[df_query.ens_gene].reset_index(drop = True)\n",
    "df_query = df_query.drop('ens_gene', axis = 1)"
   ]
  },
  {
   "cell_type": "code",
   "execution_count": null,
   "id": "5baa8de3-d4c3-42c8-80d6-7c4cb6d513bf",
   "metadata": {},
   "outputs": [],
   "source": [
    "#droppo quelli che gia ci sono\n",
    "all_files = os.listdir(os.path.join(embedding_dir, '32'))\n",
    "all_files = list(pd.Series(all_files).str.extractall('(.*)\\.npy').reset_index()[0])\n",
    "df_query = df_query[~df_query.id_query.isin(all_files)]"
   ]
  },
  {
   "cell_type": "code",
   "execution_count": null,
   "id": "eb089276-62ec-4a11-8e6e-b6176ffbf500",
   "metadata": {},
   "outputs": [],
   "source": [
    "df_query.to_csv(os.path.join(check_data_path, f'embedding_query.csv'), index = False)"
   ]
  },
  {
   "cell_type": "code",
   "execution_count": 7,
   "id": "5a2375d9-3046-424c-94c0-b832de4e663f",
   "metadata": {},
   "outputs": [
    {
     "name": "stdout",
     "output_type": "stream",
     "text": [
      "estimated # hours: 149.15\n",
      "estimated # days: 6.21\n",
      "estimated terabytes (pessimistic): 6.47\n",
      "estimated terabytes (realistic): 4.22\n"
     ]
    }
   ],
   "source": [
    "def estimate_time_and_space(n_samples):\n",
    "    #TIME\n",
    "    minutes = 3219*n_samples/(228278)\n",
    "    hours = minutes/60\n",
    "    days = hours/24\n",
    "    print('estimated # hours:', np.round(hours, 2))\n",
    "    print('estimated # days:', np.round(days, 2))\n",
    "\n",
    "    mb = 10.2*n_samples\n",
    "    gb = mb/1000\n",
    "    tb = gb/1000\n",
    "    print('estimated terabytes (pessimistic):', np.round(tb, 2))\n",
    "    mb = 1995*n_samples/(300)\n",
    "    gb = mb/1000\n",
    "    tb = gb/1000\n",
    "    print('estimated terabytes (realistic):', np.round(tb, 2))\n",
    "estimate_time_and_space(df_query.shape[0])"
   ]
  },
  {
   "cell_type": "code",
   "execution_count": 10,
   "id": "33dd1d22-82a8-43d3-b198-7689f2a25be7",
   "metadata": {},
   "outputs": [],
   "source": [
    "df_query['len_cdna'] = df_query.apply(lambda x: len(x.cdna), axis = 1)"
   ]
  },
  {
   "cell_type": "code",
   "execution_count": 12,
   "id": "4352fbe1-3f9c-437b-9057-ebb3517ac531",
   "metadata": {},
   "outputs": [
    {
     "data": {
      "text/plain": [
       "<AxesSubplot:>"
      ]
     },
     "execution_count": 12,
     "metadata": {},
     "output_type": "execute_result"
    },
    {
     "data": {
      "image/png": "[encoded data removed]",
      "text/plain": [
       "<Figure size 432x288 with 1 Axes>"
      ]
     },
     "metadata": {
      "needs_background": "light"
     },
     "output_type": "display_data"
    }
   ],
   "source": [
    "df_query['len_cdna'].hist()"
   ]
  },
  {
   "cell_type": "code",
   "execution_count": null,
   "id": "66d23480-6cbe-4603-b35a-c07b593cd122",
   "metadata": {},
   "outputs": [],
   "source": []
  },
  {
   "cell_type": "code",
   "execution_count": 41,
   "id": "a1b4b1da-06c4-41f6-bd07-9826558a0551",
   "metadata": {},
   "outputs": [],
   "source": [
    "df_genes = pd.read_csv(os.path.join(metadata_dir, f'embedding_query_paris.csv'))"
   ]
  },
  {
   "cell_type": "code",
   "execution_count": 44,
   "id": "ccd186b7-b214-4ede-a8e9-f7b967bff51d",
   "metadata": {},
   "outputs": [],
   "source": [
    "df_genes['len_cdna'] = df_genes.apply(lambda x: len(x.cdna), axis =1)"
   ]
  },
  {
   "cell_type": "code",
   "execution_count": 45,
   "id": "f8ad85d5-a9a5-4a13-b595-3b13a8c940e3",
   "metadata": {},
   "outputs": [
    {
     "data": {
      "text/plain": [
       "<AxesSubplot:>"
      ]
     },
     "execution_count": 45,
     "metadata": {},
     "output_type": "execute_result"
    },
    {
     "data": {
      "image/png": "[encoded data removed]",
      "text/plain": [
       "<Figure size 432x288 with 1 Axes>"
      ]
     },
     "metadata": {
      "needs_background": "light"
     },
     "output_type": "display_data"
    }
   ],
   "source": [
    "df_genes['len_cdna'].hist()"
   ]
  },
  {
   "cell_type": "code",
   "execution_count": 15,
   "id": "3acd5bbb-5654-471c-b99a-fbfe8f712125",
   "metadata": {},
   "outputs": [],
   "source": [
    "def read_and_concatenate_bed_files(directory):\n",
    "    # List to store individual dataframes\n",
    "    dataframes = []\n",
    "    \n",
    "    # Iterate over all files in the directory\n",
    "    for filename in os.listdir(directory):\n",
    "        if filename.endswith(\".bed\"):\n",
    "            file_path = os.path.join(directory, filename)\n",
    "            # Read the .bed file into a dataframe\n",
    "            df = pd.read_csv(file_path, sep='\\t')\n",
    "            \n",
    "            # Check and rename columns if necessary\n",
    "            if 'chrom_1' in df.columns and 'chrom_2' in df.columns:\n",
    "                df = df.rename(columns={'chrom_1': 'emb_name_1', 'chrom_2': 'emb_name_2'})\n",
    "            \n",
    "            dataframes.append(df)\n",
    "    \n",
    "    # Concatenate all dataframes into one\n",
    "    concatenated_df = pd.concat(dataframes, ignore_index=True)\n",
    "    \n",
    "    return concatenated_df\n",
    "\n",
    "df = read_and_concatenate_bed_files(original_data_path)"
   ]
  },
  {
   "cell_type": "code",
   "execution_count": 18,
   "id": "1a74df33-d886-40dc-8ed2-c727acb7e14c",
   "metadata": {},
   "outputs": [],
   "source": [
    "df = df.drop('Unnamed: 0', axis = 1)"
   ]
  },
  {
   "cell_type": "code",
   "execution_count": 20,
   "id": "9bf21d09-361b-4cec-b082-23c562ed47cc",
   "metadata": {},
   "outputs": [],
   "source": [
    "# devo droppare tutti quelli che non iniziano per ens\n",
    "df['ens_gene'] = df['emb_name_1'].str.startswith('ENS')\n",
    "df = df[df.ens_gene].reset_index(drop = True)\n",
    "df = df.drop('ens_gene', axis = 1)\n",
    "\n",
    "df['ens_gene'] = df['emb_name_2'].str.startswith('ENS')\n",
    "df = df[df.ens_gene].reset_index(drop = True)\n",
    "df = df.drop('ens_gene', axis = 1)"
   ]
  },
  {
   "cell_type": "code",
   "execution_count": 21,
   "id": "bfe5146c-1152-45fc-b550-938030a6b457",
   "metadata": {},
   "outputs": [
    {
     "data": {
      "text/plain": [
       "70102686"
      ]
     },
     "execution_count": 21,
     "metadata": {},
     "output_type": "execute_result"
    }
   ],
   "source": [
    "df.shape[0]"
   ]
  },
  {
   "cell_type": "code",
   "execution_count": null,
   "id": "63c47993-a68e-47e3-992b-4d8320092f7c",
   "metadata": {},
   "outputs": [],
   "source": []
  }
 ],
 "metadata": {
  "kernelspec": {
   "display_name": "Python 3 (ipykernel)",
   "language": "python",
   "name": "python3"
  },
  "language_info": {
   "codemirror_mode": {
    "name": "ipython",
    "version": 3
   },
   "file_extension": ".py",
   "mimetype": "text/x-python",
   "name": "python",
   "nbconvert_exporter": "python",
   "pygments_lexer": "ipython3",
   "version": "3.9.7"
  }
 },
 "nbformat": 4,
 "nbformat_minor": 5
}
