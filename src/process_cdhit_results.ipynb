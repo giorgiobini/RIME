{
 "cells": [
  {
   "cell_type": "code",
   "execution_count": 2,
   "id": "1cdf6c31",
   "metadata": {},
   "outputs": [],
   "source": [
    "its_jupyter_notebook = True\n",
    "\n",
    "import sys\n",
    "import os\n",
    "import matplotlib.pyplot as plt\n",
    "import numpy as np\n",
    "import pandas as pd\n",
    "sys.path.insert(0, '..')\n",
    "import ast\n",
    "from tqdm.notebook import tqdm\n",
    "import pickle\n",
    "import seaborn as sns\n",
    "from Bio import SeqIO\n",
    "import re\n",
    "if its_jupyter_notebook:\n",
    "    sys.argv = [''] #Remove this if it's not a jupyter notebook!"
   ]
  },
  {
   "cell_type": "code",
   "execution_count": 3,
   "id": "a43d33c4",
   "metadata": {},
   "outputs": [],
   "source": [
    "ROOT_DIR = os.path.dirname(os.path.abspath('.'))\n",
    "processed_files_dir = os.path.join(ROOT_DIR, 'dataset', 'processed_files')\n",
    "rna_rna_files_dir = os.path.join(ROOT_DIR, 'dataset', 'rna_rna_pairs')\n",
    "cdhit_dir = os.path.join(processed_files_dir, 'cdhit')\n",
    "cl_results = os.path.join(cdhit_dir, 'cdhit_clustering.clstr') #\n",
    "cl_results_fl = os.path.join(cdhit_dir, 'cdhit_clustering_fl.clstr') #\n",
    "cl_results_fl2 = os.path.join(cdhit_dir, 'cdhit_clustering_fl2.clstr') #"
   ]
  },
  {
   "cell_type": "code",
   "execution_count": 4,
   "id": "8ee5db50",
   "metadata": {},
   "outputs": [],
   "source": [
    "df_cdna = pd.read_csv(os.path.join(processed_files_dir, \"df_cdna.csv\"), sep = ',')\n",
    "df_genes = pd.read_csv(os.path.join(processed_files_dir, \"df_genes.csv\"), sep = ',')\n",
    "df = pd.read_csv(os.path.join(processed_files_dir, \"df_annotation_files_cleaned.csv\"), sep = ',')"
   ]
  },
  {
   "cell_type": "markdown",
   "id": "ab58347f-bec0-4252-88ec-fae379beab49",
   "metadata": {},
   "source": [
    "### Slice"
   ]
  },
  {
   "cell_type": "code",
   "execution_count": 4,
   "id": "39fd3d08-151c-42d0-ae7f-8f1556f5ac01",
   "metadata": {},
   "outputs": [
    {
     "name": "stdout",
     "output_type": "stream",
     "text": [
      "0 done\n",
      "10000 done\n",
      "20000 done\n",
      "30000 done\n",
      "40000 done\n",
      "50000 done\n",
      "60000 done\n",
      "70000 done\n",
      "80000 done\n",
      "90000 done\n",
      "100000 done\n",
      "110000 done\n",
      "120000 done\n",
      "130000 done\n"
     ]
    }
   ],
   "source": [
    "n_clusters = 0\n",
    "res = {}\n",
    "fasta_sequences = SeqIO.parse(open(cl_results),'fasta')\n",
    "idx = 0\n",
    "with open(cl_results) as out_file:\n",
    "    for _, fasta in enumerate(fasta_sequences):\n",
    "        name = fasta.description \n",
    "        sequence = str(fasta.seq)\n",
    "        splits = fasta.seq.split()[1:]\n",
    "        cl_name = re.search('(Cluster) (\\d+)', name).group(2)\n",
    "        n_clusters += 1\n",
    "        for sequence in splits:\n",
    "            couples = [x.group(3) for x in re.finditer( r'(\\d+)(\\w*,>)(.*)___(.*)\\.\\.\\..*', str(sequence))]\n",
    "            genes = [x.group(4) for x in re.finditer( r'(\\d+)(\\w*,>)(.*)___(.*)\\.\\.\\..*', str(sequence))]\n",
    "            for i in range(len(couples)):\n",
    "                couple = couples[i]\n",
    "                gene = genes[i]\n",
    "                res[idx] = {'couple': couple,\n",
    "                          'gene':gene, \n",
    "                          'cl_name':cl_name\n",
    "                         }\n",
    "                idx += 1\n",
    "        if _%10000 == 0:\n",
    "            print(f'{_} done')\n",
    "df_res = pd.DataFrame.from_dict(res, 'index').reset_index(drop = True)\n",
    "\n",
    "df_res.to_csv(os.path.join(processed_files_dir, 'cdhit_clusters.csv'), index = False)"
   ]
  },
  {
   "cell_type": "code",
   "execution_count": 5,
   "id": "81ca0ed7-7ded-4b9d-a614-e084efcb4d08",
   "metadata": {},
   "outputs": [
    {
     "data": {
      "text/html": [
       "<div>\n",
       "<style scoped>\n",
       "    .dataframe tbody tr th:only-of-type {\n",
       "        vertical-align: middle;\n",
       "    }\n",
       "\n",
       "    .dataframe tbody tr th {\n",
       "        vertical-align: top;\n",
       "    }\n",
       "\n",
       "    .dataframe thead th {\n",
       "        text-align: right;\n",
       "    }\n",
       "</style>\n",
       "<table border=\"1\" class=\"dataframe\">\n",
       "  <thead>\n",
       "    <tr style=\"text-align: right;\">\n",
       "      <th></th>\n",
       "      <th>couple</th>\n",
       "      <th>gene</th>\n",
       "      <th>cl_name</th>\n",
       "    </tr>\n",
       "  </thead>\n",
       "  <tbody>\n",
       "    <tr>\n",
       "      <th>0</th>\n",
       "      <td>ENSG00000137074_ENSG00000170777</td>\n",
       "      <td>ENSG00000137074</td>\n",
       "      <td>0</td>\n",
       "    </tr>\n",
       "    <tr>\n",
       "      <th>1</th>\n",
       "      <td>ENSG00000137074_ENSG00000170777</td>\n",
       "      <td>ENSG00000170777</td>\n",
       "      <td>1</td>\n",
       "    </tr>\n",
       "    <tr>\n",
       "      <th>2</th>\n",
       "      <td>ENSG00000214031_ENSG00000248752</td>\n",
       "      <td>ENSG00000214031</td>\n",
       "      <td>2</td>\n",
       "    </tr>\n",
       "    <tr>\n",
       "      <th>3</th>\n",
       "      <td>ENSG00000214031_ENSG00000248752</td>\n",
       "      <td>ENSG00000248752</td>\n",
       "      <td>3</td>\n",
       "    </tr>\n",
       "    <tr>\n",
       "      <th>4</th>\n",
       "      <td>ENSG00000152580_ENSG00000233421</td>\n",
       "      <td>ENSG00000152580</td>\n",
       "      <td>4</td>\n",
       "    </tr>\n",
       "  </tbody>\n",
       "</table>\n",
       "</div>"
      ],
      "text/plain": [
       "                            couple             gene cl_name\n",
       "0  ENSG00000137074_ENSG00000170777  ENSG00000137074       0\n",
       "1  ENSG00000137074_ENSG00000170777  ENSG00000170777       1\n",
       "2  ENSG00000214031_ENSG00000248752  ENSG00000214031       2\n",
       "3  ENSG00000214031_ENSG00000248752  ENSG00000248752       3\n",
       "4  ENSG00000152580_ENSG00000233421  ENSG00000152580       4"
      ]
     },
     "execution_count": 5,
     "metadata": {},
     "output_type": "execute_result"
    }
   ],
   "source": [
    "df_res.head()"
   ]
  },
  {
   "cell_type": "markdown",
   "id": "70e02410-1a96-48b3-bcb8-081462a206e5",
   "metadata": {},
   "source": [
    "### Full length "
   ]
  },
  {
   "cell_type": "code",
   "execution_count": 15,
   "id": "cfbf9b48-8766-4e3e-bf14-86ed98199d9c",
   "metadata": {},
   "outputs": [
    {
     "name": "stdout",
     "output_type": "stream",
     "text": [
      "41306\n",
      "32456\n",
      "41306\n",
      "36121\n"
     ]
    }
   ],
   "source": [
    "n_clusters = 0\n",
    "res = {}\n",
    "fasta_sequences = [SeqIO.parse(open(cl_results_fl),'fasta'), SeqIO.parse(open(cl_results_fl2),'fasta')]\n",
    "out_names = ['cdhit_clusters_fl', 'cdhit_clusters_fl2']\n",
    "idx = 0\n",
    "\n",
    "for k, c in enumerate([cl_results_fl, cl_results_fl2]):\n",
    "    with open(c) as out_file:\n",
    "        for _, fasta in enumerate(fasta_sequences[k]):\n",
    "            name = fasta.description \n",
    "            splits = fasta.seq.split()[1:]\n",
    "            for sequence in splits:\n",
    "                genes = [x.group(3) for x in re.finditer( r'(\\d+)(\\w*,>)(.*)\\.\\.\\..*', str(sequence))]\n",
    "                name = re.search(r'(\\d+)', name)[0]\n",
    "                for i in range(len(genes)):\n",
    "                    gene = genes[i]\n",
    "                    res[idx] = {'gene':gene, \n",
    "                                'cl_name':name\n",
    "                                }\n",
    "                    idx += 1\n",
    "\n",
    "    df_res = pd.DataFrame.from_dict(res, 'index').reset_index(drop = True)\n",
    "    print(df_res.shape[0])\n",
    "    print(len(df_res.cl_name.unique()))\n",
    "    df_res.to_csv(os.path.join(processed_files_dir, f'{out_names[k]}.csv'), index = False)\n",
    "    res = {}"
   ]
  },
  {
   "cell_type": "code",
   "execution_count": 14,
   "id": "5df6dec1-dc36-42a1-83e7-b25f1197ba5f",
   "metadata": {},
   "outputs": [
    {
     "data": {
      "text/html": [
       "<div>\n",
       "<style scoped>\n",
       "    .dataframe tbody tr th:only-of-type {\n",
       "        vertical-align: middle;\n",
       "    }\n",
       "\n",
       "    .dataframe tbody tr th {\n",
       "        vertical-align: top;\n",
       "    }\n",
       "\n",
       "    .dataframe thead th {\n",
       "        text-align: right;\n",
       "    }\n",
       "</style>\n",
       "<table border=\"1\" class=\"dataframe\">\n",
       "  <thead>\n",
       "    <tr style=\"text-align: right;\">\n",
       "      <th></th>\n",
       "      <th>gene</th>\n",
       "      <th>cl_name</th>\n",
       "    </tr>\n",
       "  </thead>\n",
       "  <tbody>\n",
       "    <tr>\n",
       "      <th>0</th>\n",
       "      <td>ENSG00000281344</td>\n",
       "      <td>Cluster 0</td>\n",
       "    </tr>\n",
       "    <tr>\n",
       "      <th>1</th>\n",
       "      <td>ENSMUSG00000051747</td>\n",
       "      <td>Cluster 1</td>\n",
       "    </tr>\n",
       "    <tr>\n",
       "      <th>2</th>\n",
       "      <td>ENSG00000155657</td>\n",
       "      <td>Cluster 1</td>\n",
       "    </tr>\n",
       "    <tr>\n",
       "      <th>3</th>\n",
       "      <td>ENSG00000269821</td>\n",
       "      <td>Cluster 2</td>\n",
       "    </tr>\n",
       "    <tr>\n",
       "      <th>4</th>\n",
       "      <td>ENSMUSG00000101609</td>\n",
       "      <td>Cluster 3</td>\n",
       "    </tr>\n",
       "  </tbody>\n",
       "</table>\n",
       "</div>"
      ],
      "text/plain": [
       "                 gene    cl_name\n",
       "0     ENSG00000281344  Cluster 0\n",
       "1  ENSMUSG00000051747  Cluster 1\n",
       "2     ENSG00000155657  Cluster 1\n",
       "3     ENSG00000269821  Cluster 2\n",
       "4  ENSMUSG00000101609  Cluster 3"
      ]
     },
     "execution_count": 14,
     "metadata": {},
     "output_type": "execute_result"
    }
   ],
   "source": [
    "df_res.head()"
   ]
  }
 ],
 "metadata": {
  "kernelspec": {
   "display_name": "Python 3 (ipykernel)",
   "language": "python",
   "name": "python3"
  },
  "language_info": {
   "codemirror_mode": {
    "name": "ipython",
    "version": 3
   },
   "file_extension": ".py",
   "mimetype": "text/x-python",
   "name": "python",
   "nbconvert_exporter": "python",
   "pygments_lexer": "ipython3",
   "version": "3.9.7"
  }
 },
 "nbformat": 4,
 "nbformat_minor": 5
}
